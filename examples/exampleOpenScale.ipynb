{
 "cells": [
  {
   "cell_type": "markdown",
   "metadata": {},
   "source": [
    "# IBM Watson OpenScale Lab instructions\n",
    "\n",
    "This notebook should be run in a Watson Studio project, using with **Python 3.5 with Spark** runtime environment. **If you are viewing this in Watson Studio and do not see Python 3.5 with Spark in the upper right corner of your screen, please update the runtime now.** It requires service credentials for the following Cloud services:\n",
    "  * IBM Watson OpenScale\n",
    "  * Watson Machine Learning\n",
    "  \n",
    "If you have a paid Cloud account, you may also provision a **Databases for PostgreSQL** or **Db2 Warehouse** service to take full advantage of integration with Watson Studio and continuous learning services. If you choose not to provision this paid service, you can use the free internal PostgreSQL storage with OpenScale, but will not be able to configure continuous learning for your model.\n",
    "\n",
    "The notebook will train, create and deploy a German Credit Risk model, configure OpenScale to monitor that deployment, and inject seven days' worth of historical records and measurements for viewing in the OpenScale Insights dashboard."
   ]
  },
  {
   "cell_type": "markdown",
   "metadata": {
    "collapsed": true
   },
   "source": [
    "# Package installation"
   ]
  },
  {
   "cell_type": "code",
   "execution_count": 2,
   "metadata": {
    "scrolled": true
   },
   "outputs": [
    {
     "name": "stdout",
     "output_type": "stream",
     "text": [
      "\u001b[33mTarget directory /home/spark/shared/user-libs/python3/psycopg2 already exists. Specify --upgrade to force replacement.\u001b[0m\n",
      "\u001b[33mTarget directory /home/spark/shared/user-libs/python3/psycopg2_binary-2.8.2.dist-info already exists. Specify --upgrade to force replacement.\u001b[0m\n",
      "Successfully installed psycopg2-binary-2.8.2\n",
      "\u001b[31mtensorflow 1.13.1 requires tensorboard<1.14.0,>=1.13.0, which is not installed.\u001b[0m\n",
      "\u001b[31mspyder 3.3.3 requires pyqt5<=5.12; python_version >= \"3\", which is not installed.\u001b[0m\n",
      "\u001b[31mibm-cos-sdk-core 2.4.4 has requirement urllib3<1.25,>=1.20, but you'll have urllib3 1.25.3 which is incompatible.\u001b[0m\n",
      "\u001b[31mbotocore 1.12.82 has requirement urllib3<1.25,>=1.20, but you'll have urllib3 1.25.3 which is incompatible.\u001b[0m\n",
      "Successfully installed certifi-2019.3.9 chardet-3.0.4 docutils-0.14 ibm-cos-sdk-2.4.4 ibm-cos-sdk-core-2.4.4 ibm-cos-sdk-s3transfer-2.4.4 idna-2.8 jmespath-0.9.4 lomond-0.3.3 numpy-1.16.4 pandas-0.24.2 python-dateutil-2.8.0 pytz-2019.1 requests-2.22.0 six-1.12.0 tabulate-0.8.3 tqdm-4.32.1 urllib3-1.25.3 watson-machine-learning-client-1.0.365\n",
      "\u001b[31mtensorflow 1.13.1 requires tensorboard<1.14.0,>=1.13.0, which is not installed.\u001b[0m\n",
      "\u001b[31mspyder 3.3.3 requires pyqt5<=5.12; python_version >= \"3\", which is not installed.\u001b[0m\n",
      "\u001b[31mibm-cos-sdk-core 2.4.4 has requirement urllib3<1.25,>=1.20, but you'll have urllib3 1.25.3 which is incompatible.\u001b[0m\n",
      "\u001b[31mbotocore 1.12.82 has requirement urllib3<1.25,>=1.20, but you'll have urllib3 1.25.3 which is incompatible.\u001b[0m\n",
      "\u001b[33mTarget directory /home/spark/shared/user-libs/python3/urllib3-1.25.3.dist-info already exists. Specify --upgrade to force replacement.\u001b[0m\n",
      "\u001b[33mTarget directory /home/spark/shared/user-libs/python3/numpy already exists. Specify --upgrade to force replacement.\u001b[0m\n",
      "\u001b[33mTarget directory /home/spark/shared/user-libs/python3/pytz-2019.1.dist-info already exists. Specify --upgrade to force replacement.\u001b[0m\n",
      "\u001b[33mTarget directory /home/spark/shared/user-libs/python3/certifi-2019.3.9.dist-info already exists. Specify --upgrade to force replacement.\u001b[0m\n",
      "\u001b[33mTarget directory /home/spark/shared/user-libs/python3/six-1.12.0.dist-info already exists. Specify --upgrade to force replacement.\u001b[0m\n",
      "\u001b[33mTarget directory /home/spark/shared/user-libs/python3/ibm_botocore already exists. Specify --upgrade to force replacement.\u001b[0m\n",
      "\u001b[33mTarget directory /home/spark/shared/user-libs/python3/ibm_s3transfer already exists. Specify --upgrade to force replacement.\u001b[0m\n",
      "\u001b[33mTarget directory /home/spark/shared/user-libs/python3/docutils already exists. Specify --upgrade to force replacement.\u001b[0m\n",
      "\u001b[33mTarget directory /home/spark/shared/user-libs/python3/python_dateutil-2.8.0.dist-info already exists. Specify --upgrade to force replacement.\u001b[0m\n",
      "\u001b[33mTarget directory /home/spark/shared/user-libs/python3/tqdm already exists. Specify --upgrade to force replacement.\u001b[0m\n",
      "\u001b[33mTarget directory /home/spark/shared/user-libs/python3/ibm_cos_sdk_s3transfer-2.4.4-py3.6.egg-info already exists. Specify --upgrade to force replacement.\u001b[0m\n",
      "\u001b[33mTarget directory /home/spark/shared/user-libs/python3/lomond already exists. Specify --upgrade to force replacement.\u001b[0m\n",
      "\u001b[33mTarget directory /home/spark/shared/user-libs/python3/pytz already exists. Specify --upgrade to force replacement.\u001b[0m\n",
      "\u001b[33mTarget directory /home/spark/shared/user-libs/python3/six.py already exists. Specify --upgrade to force replacement.\u001b[0m\n",
      "\u001b[33mTarget directory /home/spark/shared/user-libs/python3/__pycache__ already exists. Specify --upgrade to force replacement.\u001b[0m\n",
      "\u001b[33mTarget directory /home/spark/shared/user-libs/python3/tqdm-4.32.1.dist-info already exists. Specify --upgrade to force replacement.\u001b[0m\n",
      "\u001b[33mTarget directory /home/spark/shared/user-libs/python3/jmespath-0.9.4.dist-info already exists. Specify --upgrade to force replacement.\u001b[0m\n",
      "\u001b[33mTarget directory /home/spark/shared/user-libs/python3/numpy-1.16.4.dist-info already exists. Specify --upgrade to force replacement.\u001b[0m\n",
      "\u001b[33mTarget directory /home/spark/shared/user-libs/python3/ibm_cos_sdk-2.4.4-py3.6.egg-info already exists. Specify --upgrade to force replacement.\u001b[0m\n",
      "\u001b[33mTarget directory /home/spark/shared/user-libs/python3/watson_machine_learning_client already exists. Specify --upgrade to force replacement.\u001b[0m\n",
      "\u001b[33mTarget directory /home/spark/shared/user-libs/python3/ibm_cos_sdk_core-2.4.4-py3.6.egg-info already exists. Specify --upgrade to force replacement.\u001b[0m\n",
      "\u001b[33mTarget directory /home/spark/shared/user-libs/python3/tests already exists. Specify --upgrade to force replacement.\u001b[0m\n",
      "\u001b[33mTarget directory /home/spark/shared/user-libs/python3/h5py-2.9.0.dist-info already exists. Specify --upgrade to force replacement.\u001b[0m\n",
      "\u001b[33mTarget directory /home/spark/shared/user-libs/python3/requests-2.22.0.dist-info already exists. Specify --upgrade to force replacement.\u001b[0m\n",
      "\u001b[33mTarget directory /home/spark/shared/user-libs/python3/idna already exists. Specify --upgrade to force replacement.\u001b[0m\n",
      "\u001b[33mTarget directory /home/spark/shared/user-libs/python3/chardet already exists. Specify --upgrade to force replacement.\u001b[0m\n",
      "\u001b[33mTarget directory /home/spark/shared/user-libs/python3/ibm_ai_openscale already exists. Specify --upgrade to force replacement.\u001b[0m\n",
      "\u001b[33mTarget directory /home/spark/shared/user-libs/python3/h5py already exists. Specify --upgrade to force replacement.\u001b[0m\n",
      "\u001b[33mTarget directory /home/spark/shared/user-libs/python3/chardet-3.0.4.dist-info already exists. Specify --upgrade to force replacement.\u001b[0m\n",
      "\u001b[33mTarget directory /home/spark/shared/user-libs/python3/requests already exists. Specify --upgrade to force replacement.\u001b[0m\n",
      "\u001b[33mTarget directory /home/spark/shared/user-libs/python3/pandas-0.24.2.dist-info already exists. Specify --upgrade to force replacement.\u001b[0m\n",
      "\u001b[33mTarget directory /home/spark/shared/user-libs/python3/idna-2.8.dist-info already exists. Specify --upgrade to force replacement.\u001b[0m\n",
      "\u001b[33mTarget directory /home/spark/shared/user-libs/python3/ibm_boto3 already exists. Specify --upgrade to force replacement.\u001b[0m\n",
      "\u001b[33mTarget directory /home/spark/shared/user-libs/python3/docutils-0.14.dist-info already exists. Specify --upgrade to force replacement.\u001b[0m\n",
      "\u001b[33mTarget directory /home/spark/shared/user-libs/python3/tabulate.py already exists. Specify --upgrade to force replacement.\u001b[0m\n",
      "\u001b[33mTarget directory /home/spark/shared/user-libs/python3/tabulate-0.8.3-py3.6.egg-info already exists. Specify --upgrade to force replacement.\u001b[0m\n",
      "\u001b[33mTarget directory /home/spark/shared/user-libs/python3/jmespath already exists. Specify --upgrade to force replacement.\u001b[0m\n",
      "\u001b[33mTarget directory /home/spark/shared/user-libs/python3/certifi already exists. Specify --upgrade to force replacement.\u001b[0m\n",
      "\u001b[33mTarget directory /home/spark/shared/user-libs/python3/dateutil already exists. Specify --upgrade to force replacement.\u001b[0m\n",
      "\u001b[33mTarget directory /home/spark/shared/user-libs/python3/urllib3 already exists. Specify --upgrade to force replacement.\u001b[0m\n",
      "\u001b[33mTarget directory /home/spark/shared/user-libs/python3/watson_machine_learning_client-1.0.365.dist-info already exists. Specify --upgrade to force replacement.\u001b[0m\n",
      "\u001b[33mTarget directory /home/spark/shared/user-libs/python3/lomond-0.3.3.dist-info already exists. Specify --upgrade to force replacement.\u001b[0m\n",
      "\u001b[33mTarget directory /home/spark/shared/user-libs/python3/pandas already exists. Specify --upgrade to force replacement.\u001b[0m\n",
      "\u001b[33mTarget directory /home/spark/shared/user-libs/python3/bin already exists. Specify --upgrade to force replacement.\u001b[0m\n",
      "Successfully installed certifi-2019.3.9 chardet-3.0.4 docutils-0.14 h5py-2.9.0 ibm-ai-openscale-2.1.7 ibm-cos-sdk-2.4.4 ibm-cos-sdk-core-2.4.4 ibm-cos-sdk-s3transfer-2.4.4 idna-2.8 jmespath-0.9.4 lomond-0.3.3 numpy-1.16.4 pandas-0.24.2 python-dateutil-2.8.0 pytz-2019.1 requests-2.22.0 six-1.12.0 tabulate-0.8.3 tqdm-4.32.1 urllib3-1.25.3 watson-machine-learning-client-1.0.365\n",
      "\u001b[31mtensorflow 1.13.1 requires tensorboard<1.14.0,>=1.13.0, which is not installed.\u001b[0m\n",
      "Successfully installed numpy-1.16.4\n",
      "\u001b[31mtensorflow 1.13.1 requires tensorboard<1.14.0,>=1.13.0, which is not installed.\u001b[0m\n",
      "\u001b[31mibm-cos-sdk-core 2.4.4 has requirement urllib3<1.25,>=1.20, but you'll have urllib3 1.25.3 which is incompatible.\u001b[0m\n",
      "\u001b[31mbotocore 1.12.82 has requirement urllib3<1.25,>=1.20, but you'll have urllib3 1.25.3 which is incompatible.\u001b[0m\n",
      "Successfully installed PyWavelets-1.0.3 cycler-0.10.0 decorator-4.4.0 imageio-2.5.0 joblib-0.13.2 kiwisolver-1.1.0 lime-0.1.1.34 matplotlib-3.1.0 networkx-2.3 numpy-1.16.4 pillow-6.0.0 pyparsing-2.4.0 python-dateutil-2.8.0 scikit-image-0.15.0 scikit-learn-0.21.2 scipy-1.3.0 setuptools-41.0.1 six-1.12.0\n",
      "\u001b[31mtensorflow 1.13.1 requires tensorboard<1.14.0,>=1.13.0, which is not installed.\u001b[0m\n",
      "Successfully installed SciPy-1.3.0 numpy-1.16.4\n"
     ]
    }
   ],
   "source": [
    "!rm -rf $PIP_BUILD\n",
    "!pip install psycopg2-binary | tail -n 1\n",
    "!pip install --upgrade watson-machine-learning-client --no-cache | tail -n 1\n",
    "!pip install ibm-ai-openscale --no-cache | tail -n 1\n",
    "!pip install --upgrade numpy --no-cache | tail -n 1\n",
    "!pip install --upgrade lime --no-cache | tail -n 1\n",
    "!pip install --upgrade SciPy --no-cache | tail -n 1"
   ]
  },
  {
   "cell_type": "markdown",
   "metadata": {},
   "source": [
    "# Provision services and configure credentials"
   ]
  },
  {
   "cell_type": "markdown",
   "metadata": {},
   "source": [
    "If you have not already, provision an instance of IBM Watson OpenScale using the [OpenScale link in the Cloud catalog](https://cloud.ibm.com/catalog/services/watson-openscale)."
   ]
  },
  {
   "cell_type": "markdown",
   "metadata": {},
   "source": [
    "Your Cloud API key can be generated by going to the [**Users** section of the Cloud console](https://cloud.ibm.com/iam#/users).  \n",
    "* From that page, click your name, scroll down to the **API Keys** section, and click **Create an IBM Cloud API key**. \n",
    "* Give your key a name and click **Create**, then copy the created key and paste it below.\n",
    "\n",
    "Alternately, from the [IBM Cloud CLI](https://console.bluemix.net/docs/cli/reference/ibmcloud/download_cli.html#install_use) :\n",
    "\n",
    "```bash\n",
    "ibmcloud login --sso\n",
    "ibmcloud iam api-key-create 'my_key'\n",
    "```"
   ]
  },
  {
   "cell_type": "code",
   "execution_count": 3,
   "metadata": {
    "scrolled": true
   },
   "outputs": [],
   "source": [
    "CLOUD_API_KEY = \"****\""
   ]
  },
  {
   "cell_type": "markdown",
   "metadata": {},
   "source": [
    "Get the Watson OpenScale GUID using the [IBM Cloud CLI](https://console.bluemix.net/docs/cli/reference/ibmcloud/download_cli.html#install_use) :\n",
    "\n",
    "```bash\n",
    "ibmcloud resource service-instance <Watson_OpenScale_instance_name>\n",
    "```"
   ]
  },
  {
   "cell_type": "code",
   "execution_count": 4,
   "metadata": {},
   "outputs": [],
   "source": [
    "AIOS_GUID = \"****\""
   ]
  },
  {
   "cell_type": "code",
   "execution_count": 5,
   "metadata": {},
   "outputs": [],
   "source": [
    "AIOS_CREDENTIALS = {\n",
    "    \"instance_guid\": AIOS_GUID,\n",
    "    \"apikey\": CLOUD_API_KEY,\n",
    "    \"url\": \"https://api.aiopenscale.cloud.ibm.com\"\n",
    "}"
   ]
  },
  {
   "cell_type": "markdown",
   "metadata": {},
   "source": [
    "Next you will need credentials for Watson Machine Learning. If you already have a WML instance, you may use credentials for it. To provision a new Lite instance of WML, use the [IBM Cloud catalog](https://cloud.ibm.com/catalog/services/machine-learning):  \n",
    "* Give your service a name, and click **Create**.  \n",
    "* Once your instance is created, click the **Service Credentials** link on the left side of the screen.  \n",
    "* Click the **New credential** button, give your credentials a name, and click **Add**.  \n",
    "* Your new credentials can be accessed by clicking the **View credentials** button.  \n",
    "* Copy and paste your WML credentials into the cell below."
   ]
  },
  {
   "cell_type": "code",
   "execution_count": 6,
   "metadata": {
    "scrolled": true
   },
   "outputs": [],
   "source": [
    "WML_CREDENTIALS = {\n",
    "  \"apikey\": \"***,\n",
    "  \"iam_apikey_description\": \"Auto generated apikey during resource-key operation for Instance - crn:v1:bluemix:public:pm-20:us-south:a/47b84451ab70b94737518f7640a9ee42:4a7f62cc-f564-4144-8af4-b9f53533d2cf::\",\n",
    "  \"iam_apikey_name\": \"****\",\n",
    "  \"iam_role_crn\": \"crn:v1:bluemix:public:iam::::serviceRole:Writer\",\n",
    "  \"iam_serviceid_crn\": \"****\",\n",
    "  \"instance_id\": \"***\",\n",
    "  \"password\": \"***\",\n",
    "  \"url\": \"https://us-south.ml.cloud.ibm.com\",\n",
    "  \"username\": \"***\"\n",
    "}\n"
   ]
  },
  {
   "cell_type": "markdown",
   "metadata": {},
   "source": [
    "This lab can use Databases for PostgreSQL, Db2 Warehouse, or a free internal verison of PostgreSQL to create a datamart for OpenScale.\n",
    "\n",
    "**If you have previously configured OpenScale**, it will use your existing datamart, and not interfere with any models you are currently monitoring. **Do not update the cell below**.\n",
    "\n",
    "**If you do not have a paid Cloud account or would prefer not to provision this paid service**, you may use the free internal PostgreSQL service with OpenScale. **Do not update the cell below**.\n",
    "\n",
    "**To provision a new instance of Db2 Warehouse**:  \n",
    "* Locate [Db2 Warehouse in the Cloud catalog](https://cloud.ibm.com/catalog/services/db2-warehouse)  \n",
    "* Give your service a name, and click **Create**.  \n",
    "* Once your instance is created, click the **Service Credentials** link on the left side of the screen.  \n",
    "* Click the **New credential** button, give your credentials a name, and click **Add**.  \n",
    "* Your new credentials can be accessed by clicking the **View credentials** button.  \n",
    "* Copy and paste your Db2 Warehouse credentials into the cell below.\n",
    "\n",
    "**To provision a new instance of Databases for PostgreSQL**:\n",
    "* Locate [Databases for PostgreSQL in the Cloud catalog](*https://cloud.ibm.com/catalog/services/databases-for-postgresql)  \n",
    "* Give your service a name, and click **Create**.  \n",
    "* Once your instance is created, click the **Service Credentials** link on the left side of the screen.  \n",
    "* Click the **New credential** button, give your credentials a name, and click **Add**.  \n",
    "* Your new credentials can be accessed by clicking the **View credentials** button.  \n",
    "* Copy and paste your Databases for PostgreSQL credentials into the cell below."
   ]
  },
  {
   "cell_type": "code",
   "execution_count": null,
   "metadata": {
    "scrolled": true
   },
   "outputs": [],
   "source": [
    "DB_CREDENTIALS = {\n",
    "  \"hostname\": \"***\",\n",
    "  \"password\": \"***\",\n",
    "  \"https_url\": \"***\",\n",
    "  \"port\": 50000,\n",
    "  \"ssldsn\": \"***\",\n",
    "  \"host\": \"***\",\n",
    "  \"jdbcurl\": \"***\",\n",
    "  \"uri\": \"***\",\n",
    "  \"db\": \"***\",\n",
    "  \"dsn\": \"****\",\n",
    "  \"username\": \"***\",\n",
    "  \"ssljdbcurl\": \"****\"\n",
    "}"
   ]
  },
  {
   "cell_type": "markdown",
   "metadata": {},
   "source": [
    "__If you previously configured OpenScale to use the free internal version of PostgreSQL, you can switch to a new datamart using a paid database service.__ If you would like to delete the internal PostgreSQL configuration and create a new one using service credentials supplied in the cell above, set the __KEEP_MY_INTERNAL_POSTGRES__ variable below to __False__ below. In this case, the notebook will remove your existing internal PostgreSQL datamart and create a new one with the supplied credentials. __*NO DATA MIGRATION WILL OCCUR.*__"
   ]
  },
  {
   "cell_type": "code",
   "execution_count": 7,
   "metadata": {},
   "outputs": [],
   "source": [
    "KEEP_MY_INTERNAL_POSTGRES = True"
   ]
  },
  {
   "cell_type": "markdown",
   "metadata": {},
   "source": [
    "# Run the notebook\n",
    "\n",
    "At this point, the notebook is ready to run. You can either run the cells one at a time, or click the **Kernel** option above and select **Restart and Run All** to run all the cells."
   ]
  },
  {
   "cell_type": "markdown",
   "metadata": {},
   "source": [
    "# Load and explore data"
   ]
  },
  {
   "cell_type": "markdown",
   "metadata": {},
   "source": [
    "## Load the training data from github"
   ]
  },
  {
   "cell_type": "code",
   "execution_count": 8,
   "metadata": {
    "scrolled": true
   },
   "outputs": [
    {
     "name": "stdout",
     "output_type": "stream",
     "text": [
      "rm: cannot remove 'german_credit_data_biased_training.csv': No such file or directory\n",
      "--2019-06-06 20:46:50--  https://raw.githubusercontent.com/IBM/monitor-wml-model-with-watson-openscale/master/data/german_credit_data_biased_training.csv\n",
      "Resolving raw.githubusercontent.com (raw.githubusercontent.com)... 199.232.8.133\n",
      "Connecting to raw.githubusercontent.com (raw.githubusercontent.com)|199.232.8.133|:443... connected.\n",
      "HTTP request sent, awaiting response... 200 OK\n",
      "Length: 689622 (673K) [text/plain]\n",
      "Saving to: 'german_credit_data_biased_training.csv'\n",
      "\n",
      "german_credit_data_ 100%[===================>] 673.46K  --.-KB/s    in 0.03s   \n",
      "\n",
      "2019-06-06 20:46:50 (21.7 MB/s) - 'german_credit_data_biased_training.csv' saved [689622/689622]\n",
      "\n"
     ]
    }
   ],
   "source": [
    "!rm german_credit_data_biased_training.csv\n",
    "!wget https://raw.githubusercontent.com/IBM/monitor-wml-model-with-watson-openscale/master/data/german_credit_data_biased_training.csv"
   ]
  },
  {
   "cell_type": "code",
   "execution_count": 9,
   "metadata": {
    "scrolled": true
   },
   "outputs": [
    {
     "data": {
      "text/plain": [
       "Row(CheckingStatus='0_to_200', LoanDuration=31, CreditHistory='credits_paid_to_date', LoanPurpose='other', LoanAmount=1889, ExistingSavings='100_to_500', EmploymentDuration='less_1', InstallmentPercent=3, Sex='female', OthersOnLoan='none', CurrentResidenceDuration=3, OwnsProperty='savings_insurance', Age=32, InstallmentPlans='none', Housing='own', ExistingCreditsCount=1, Job='skilled', Dependents=1, Telephone='none', ForeignWorker='yes', Risk='No Risk')"
      ]
     },
     "execution_count": 9,
     "metadata": {},
     "output_type": "execute_result"
    }
   ],
   "source": [
    "from pyspark.sql import SparkSession\n",
    "import pandas as pd\n",
    "import json\n",
    "\n",
    "spark = SparkSession.builder.getOrCreate()\n",
    "pd_data = pd.read_csv(\"german_credit_data_biased_training.csv\", sep=\",\", header=0)\n",
    "df_data = spark.read.csv(path=\"german_credit_data_biased_training.csv\", sep=\",\", header=True, inferSchema=True)\n",
    "df_data.head()"
   ]
  },
  {
   "cell_type": "markdown",
   "metadata": {},
   "source": [
    "## Explore data"
   ]
  },
  {
   "cell_type": "code",
   "execution_count": 10,
   "metadata": {
    "scrolled": true
   },
   "outputs": [
    {
     "name": "stdout",
     "output_type": "stream",
     "text": [
      "root\n",
      " |-- CheckingStatus: string (nullable = true)\n",
      " |-- LoanDuration: integer (nullable = true)\n",
      " |-- CreditHistory: string (nullable = true)\n",
      " |-- LoanPurpose: string (nullable = true)\n",
      " |-- LoanAmount: integer (nullable = true)\n",
      " |-- ExistingSavings: string (nullable = true)\n",
      " |-- EmploymentDuration: string (nullable = true)\n",
      " |-- InstallmentPercent: integer (nullable = true)\n",
      " |-- Sex: string (nullable = true)\n",
      " |-- OthersOnLoan: string (nullable = true)\n",
      " |-- CurrentResidenceDuration: integer (nullable = true)\n",
      " |-- OwnsProperty: string (nullable = true)\n",
      " |-- Age: integer (nullable = true)\n",
      " |-- InstallmentPlans: string (nullable = true)\n",
      " |-- Housing: string (nullable = true)\n",
      " |-- ExistingCreditsCount: integer (nullable = true)\n",
      " |-- Job: string (nullable = true)\n",
      " |-- Dependents: integer (nullable = true)\n",
      " |-- Telephone: string (nullable = true)\n",
      " |-- ForeignWorker: string (nullable = true)\n",
      " |-- Risk: string (nullable = true)\n",
      "\n"
     ]
    }
   ],
   "source": [
    "df_data.printSchema()"
   ]
  },
  {
   "cell_type": "code",
   "execution_count": 11,
   "metadata": {
    "scrolled": true
   },
   "outputs": [
    {
     "name": "stdout",
     "output_type": "stream",
     "text": [
      "Number of records: 5000\n"
     ]
    }
   ],
   "source": [
    "print(\"Number of records: \" + str(df_data.count()))"
   ]
  },
  {
   "cell_type": "markdown",
   "metadata": {},
   "source": [
    "# Create a model"
   ]
  },
  {
   "cell_type": "code",
   "execution_count": 12,
   "metadata": {
    "scrolled": true
   },
   "outputs": [
    {
     "name": "stdout",
     "output_type": "stream",
     "text": [
      "Number of records for training: 4016\n",
      "Number of records for evaluation: 984\n",
      "root\n",
      " |-- CheckingStatus: string (nullable = true)\n",
      " |-- LoanDuration: integer (nullable = true)\n",
      " |-- CreditHistory: string (nullable = true)\n",
      " |-- LoanPurpose: string (nullable = true)\n",
      " |-- LoanAmount: integer (nullable = true)\n",
      " |-- ExistingSavings: string (nullable = true)\n",
      " |-- EmploymentDuration: string (nullable = true)\n",
      " |-- InstallmentPercent: integer (nullable = true)\n",
      " |-- Sex: string (nullable = true)\n",
      " |-- OthersOnLoan: string (nullable = true)\n",
      " |-- CurrentResidenceDuration: integer (nullable = true)\n",
      " |-- OwnsProperty: string (nullable = true)\n",
      " |-- Age: integer (nullable = true)\n",
      " |-- InstallmentPlans: string (nullable = true)\n",
      " |-- Housing: string (nullable = true)\n",
      " |-- ExistingCreditsCount: integer (nullable = true)\n",
      " |-- Job: string (nullable = true)\n",
      " |-- Dependents: integer (nullable = true)\n",
      " |-- Telephone: string (nullable = true)\n",
      " |-- ForeignWorker: string (nullable = true)\n",
      " |-- Risk: string (nullable = true)\n",
      "\n"
     ]
    }
   ],
   "source": [
    "spark_df = df_data\n",
    "(train_data, test_data) = spark_df.randomSplit([0.8, 0.2], 24)\n",
    "\n",
    "MODEL_NAME = \"Spark German Risk Model - Final\"\n",
    "DEPLOYMENT_NAME = \"Spark German Risk Deployment - Final\"\n",
    "\n",
    "print(\"Number of records for training: \" + str(train_data.count()))\n",
    "print(\"Number of records for evaluation: \" + str(test_data.count()))\n",
    "\n",
    "spark_df.printSchema()"
   ]
  },
  {
   "cell_type": "code",
   "execution_count": 13,
   "metadata": {
    "scrolled": true
   },
   "outputs": [],
   "source": [
    "from pyspark.ml.feature import OneHotEncoder, StringIndexer, IndexToString, VectorAssembler\n",
    "from pyspark.ml.evaluation import BinaryClassificationEvaluator\n",
    "from pyspark.ml import Pipeline, Model\n",
    "\n",
    "si_CheckingStatus = StringIndexer(inputCol = 'CheckingStatus', outputCol = 'CheckingStatus_IX')\n",
    "si_CreditHistory = StringIndexer(inputCol = 'CreditHistory', outputCol = 'CreditHistory_IX')\n",
    "si_LoanPurpose = StringIndexer(inputCol = 'LoanPurpose', outputCol = 'LoanPurpose_IX')\n",
    "si_ExistingSavings = StringIndexer(inputCol = 'ExistingSavings', outputCol = 'ExistingSavings_IX')\n",
    "si_EmploymentDuration = StringIndexer(inputCol = 'EmploymentDuration', outputCol = 'EmploymentDuration_IX')\n",
    "si_Sex = StringIndexer(inputCol = 'Sex', outputCol = 'Sex_IX')\n",
    "si_OthersOnLoan = StringIndexer(inputCol = 'OthersOnLoan', outputCol = 'OthersOnLoan_IX')\n",
    "si_OwnsProperty = StringIndexer(inputCol = 'OwnsProperty', outputCol = 'OwnsProperty_IX')\n",
    "si_InstallmentPlans = StringIndexer(inputCol = 'InstallmentPlans', outputCol = 'InstallmentPlans_IX')\n",
    "si_Housing = StringIndexer(inputCol = 'Housing', outputCol = 'Housing_IX')\n",
    "si_Job = StringIndexer(inputCol = 'Job', outputCol = 'Job_IX')\n",
    "si_Telephone = StringIndexer(inputCol = 'Telephone', outputCol = 'Telephone_IX')\n",
    "si_ForeignWorker = StringIndexer(inputCol = 'ForeignWorker', outputCol = 'ForeignWorker_IX')"
   ]
  },
  {
   "cell_type": "code",
   "execution_count": 14,
   "metadata": {
    "scrolled": true
   },
   "outputs": [],
   "source": [
    "si_Label = StringIndexer(inputCol=\"Risk\", outputCol=\"label\").fit(spark_df)\n",
    "label_converter = IndexToString(inputCol=\"prediction\", outputCol=\"predictedLabel\", labels=si_Label.labels)"
   ]
  },
  {
   "cell_type": "code",
   "execution_count": 15,
   "metadata": {
    "scrolled": true
   },
   "outputs": [],
   "source": [
    "va_features = VectorAssembler(inputCols=[\"CheckingStatus_IX\", \"CreditHistory_IX\", \"LoanPurpose_IX\", \"ExistingSavings_IX\", \"EmploymentDuration_IX\", \"Sex_IX\", \\\n",
    "                                         \"OthersOnLoan_IX\", \"OwnsProperty_IX\", \"InstallmentPlans_IX\", \"Housing_IX\", \"Job_IX\", \"Telephone_IX\", \"ForeignWorker_IX\", \\\n",
    "                                         \"LoanDuration\", \"LoanAmount\", \"InstallmentPercent\", \"CurrentResidenceDuration\", \"LoanDuration\", \"Age\", \"ExistingCreditsCount\", \\\n",
    "                                         \"Dependents\"], outputCol=\"features\")"
   ]
  },
  {
   "cell_type": "code",
   "execution_count": 16,
   "metadata": {
    "scrolled": true
   },
   "outputs": [],
   "source": [
    "from pyspark.ml.classification import RandomForestClassifier\n",
    "classifier = RandomForestClassifier(featuresCol=\"features\")\n",
    "\n",
    "pipeline = Pipeline(stages=[si_CheckingStatus, si_CreditHistory, si_EmploymentDuration, si_ExistingSavings, si_ForeignWorker, si_Housing, si_InstallmentPlans, si_Job, si_LoanPurpose, si_OthersOnLoan,\\\n",
    "                               si_OwnsProperty, si_Sex, si_Telephone, si_Label, va_features, classifier, label_converter])\n",
    "model = pipeline.fit(train_data)"
   ]
  },
  {
   "cell_type": "code",
   "execution_count": 17,
   "metadata": {
    "scrolled": true
   },
   "outputs": [
    {
     "name": "stdout",
     "output_type": "stream",
     "text": [
      "areaUnderROC = 0.70055\n"
     ]
    }
   ],
   "source": [
    "predictions = model.transform(test_data)\n",
    "evaluatorDT = BinaryClassificationEvaluator(rawPredictionCol=\"prediction\")\n",
    "area_under_curve = evaluatorDT.evaluate(predictions)\n",
    "\n",
    "#default evaluation is areaUnderROC\n",
    "print(\"areaUnderROC = %g\" % area_under_curve)"
   ]
  },
  {
   "cell_type": "markdown",
   "metadata": {},
   "source": [
    "# Save and deploy the model"
   ]
  },
  {
   "cell_type": "code",
   "execution_count": 18,
   "metadata": {
    "scrolled": true
   },
   "outputs": [
    {
     "name": "stderr",
     "output_type": "stream",
     "text": [
      "/home/spark/shared/user-libs/python3/sklearn/externals/joblib/__init__.py:15: DeprecationWarning: sklearn.externals.joblib is deprecated in 0.21 and will be removed in 0.23. Please import this functionality directly from joblib, which can be installed with: pip install joblib. If this warning is raised when loading pickled models, you may need to re-serialize those models with scikit-learn 0.21+.\n",
      "  warnings.warn(msg, category=DeprecationWarning)\n"
     ]
    }
   ],
   "source": [
    "from watson_machine_learning_client import WatsonMachineLearningAPIClient\n",
    "import json\n",
    "\n",
    "wml_client = WatsonMachineLearningAPIClient(WML_CREDENTIALS)"
   ]
  },
  {
   "cell_type": "markdown",
   "metadata": {},
   "source": [
    "### Remove existing model and deployment"
   ]
  },
  {
   "cell_type": "code",
   "execution_count": 19,
   "metadata": {
    "scrolled": true
   },
   "outputs": [
    {
     "name": "stdout",
     "output_type": "stream",
     "text": [
      "Deleting deployment id 7a8cc680-d9ed-4977-87a7-9ce9c9f28c5c\n",
      "Deleting model id 71587234-bde0-4b3d-b571-5185116742dc\n",
      "------------------------------------  ------------------------------------  ------------------------  -----------------\n",
      "GUID                                  NAME                                  CREATED                   FRAMEWORK\n",
      "066c8ead-6358-454e-9905-02861957b135  AIOS Spark German Risk Model - Final  2019-02-28T12:59:57.725Z  mllib-2.1\n",
      "6d4e7b60-cced-42ea-abfe-cefc8b774ed5  PredictWildfireIntensity-2-25         2019-02-25T20:54:12.157Z  wml-1.1\n",
      "3238b598-9e2b-48d2-b678-b3bdf19c54a3  Customer Churn Prediction Model       2018-12-11T21:53:42.948Z  scikit-learn-0.19\n",
      "------------------------------------  ------------------------------------  ------------------------  -----------------\n"
     ]
    }
   ],
   "source": [
    "model_deployment_ids = wml_client.deployments.get_uids()\n",
    "for deployment_id in model_deployment_ids:\n",
    "    deployment = wml_client.deployments.get_details(deployment_id)\n",
    "    model_id = deployment['entity']['deployable_asset']['guid']\n",
    "    if deployment['entity']['name'] == DEPLOYMENT_NAME:\n",
    "        print('Deleting deployment id', deployment_id)\n",
    "        wml_client.deployments.delete(deployment_id)\n",
    "        print('Deleting model id', model_id)\n",
    "        wml_client.repository.delete(model_id)\n",
    "wml_client.repository.list_models()"
   ]
  },
  {
   "cell_type": "code",
   "execution_count": 20,
   "metadata": {
    "scrolled": true
   },
   "outputs": [],
   "source": [
    "model_props = {\n",
    "    wml_client.repository.ModelMetaNames.NAME: \"{}\".format(MODEL_NAME),\n",
    "    wml_client.repository.ModelMetaNames.EVALUATION_METHOD: \"binary\",\n",
    "    wml_client.repository.ModelMetaNames.EVALUATION_METRICS: [\n",
    "        {\n",
    "           \"name\": \"areaUnderROC\",\n",
    "           \"value\": area_under_curve,\n",
    "           \"threshold\": 0.7\n",
    "        }\n",
    "    ]\n",
    "}"
   ]
  },
  {
   "cell_type": "code",
   "execution_count": 21,
   "metadata": {
    "scrolled": true
   },
   "outputs": [
    {
     "name": "stdout",
     "output_type": "stream",
     "text": [
      "Storing model ...\n"
     ]
    },
    {
     "name": "stderr",
     "output_type": "stream",
     "text": [
      "/home/spark/shared/user-libs/python3/urllib3/connectionpool.py:851: InsecureRequestWarning: Unverified HTTPS request is being made. Adding certificate verification is strongly advised. See: https://urllib3.readthedocs.io/en/latest/advanced-usage.html#ssl-warnings\n",
      "  InsecureRequestWarning)\n",
      "/home/spark/shared/user-libs/python3/urllib3/connectionpool.py:851: InsecureRequestWarning: Unverified HTTPS request is being made. Adding certificate verification is strongly advised. See: https://urllib3.readthedocs.io/en/latest/advanced-usage.html#ssl-warnings\n",
      "  InsecureRequestWarning)\n"
     ]
    },
    {
     "name": "stdout",
     "output_type": "stream",
     "text": [
      "Done\n"
     ]
    }
   ],
   "source": [
    "wml_models = wml_client.repository.get_details()\n",
    "model_uid = None\n",
    "for model_in in wml_models['models']['resources']:\n",
    "    if MODEL_NAME == model_in['entity']['name']:\n",
    "        model_uid = model_in['metadata']['guid']\n",
    "        break\n",
    "\n",
    "if model_uid is None:\n",
    "    print(\"Storing model ...\")\n",
    "\n",
    "    published_model_details = wml_client.repository.store_model(model=model, meta_props=model_props, training_data=train_data, pipeline=pipeline)\n",
    "    model_uid = wml_client.repository.get_model_uid(published_model_details)\n",
    "    print(\"Done\")"
   ]
  },
  {
   "cell_type": "code",
   "execution_count": 22,
   "metadata": {
    "scrolled": true
   },
   "outputs": [
    {
     "data": {
      "text/plain": [
       "'71ad1147-0429-4ea2-8377-7f8102a2cdcd'"
      ]
     },
     "execution_count": 22,
     "metadata": {},
     "output_type": "execute_result"
    }
   ],
   "source": [
    "model_uid"
   ]
  },
  {
   "cell_type": "code",
   "execution_count": 23,
   "metadata": {
    "scrolled": true
   },
   "outputs": [
    {
     "name": "stdout",
     "output_type": "stream",
     "text": [
      "Deploying model...\n",
      "\n",
      "\n",
      "#######################################################################################\n",
      "\n",
      "Synchronous deployment creation for uid: '71ad1147-0429-4ea2-8377-7f8102a2cdcd' started\n",
      "\n",
      "#######################################################################################\n",
      "\n",
      "\n",
      "INITIALIZING\n",
      "DEPLOY_SUCCESS\n",
      "\n",
      "\n",
      "------------------------------------------------------------------------------------------------\n",
      "Successfully finished deployment creation, deployment_uid='5ab6d15c-6005-4dbd-b05d-f5f8f14a93f9'\n",
      "------------------------------------------------------------------------------------------------\n",
      "\n",
      "\n",
      "Model id: 71ad1147-0429-4ea2-8377-7f8102a2cdcd\n",
      "Deployment id: 5ab6d15c-6005-4dbd-b05d-f5f8f14a93f9\n"
     ]
    }
   ],
   "source": [
    "wml_deployments = wml_client.deployments.get_details()\n",
    "deployment_uid = None\n",
    "for deployment in wml_deployments['resources']:\n",
    "    if DEPLOYMENT_NAME == deployment['entity']['name']:\n",
    "        deployment_uid = deployment['metadata']['guid']\n",
    "        break\n",
    "\n",
    "if deployment_uid is None:\n",
    "    print(\"Deploying model...\")\n",
    "\n",
    "    deployment = wml_client.deployments.create(artifact_uid=model_uid, name=DEPLOYMENT_NAME, asynchronous=False)\n",
    "    deployment_uid = wml_client.deployments.get_uid(deployment)\n",
    "    \n",
    "print(\"Model id: {}\".format(model_uid))\n",
    "print(\"Deployment id: {}\".format(deployment_uid))"
   ]
  },
  {
   "cell_type": "markdown",
   "metadata": {},
   "source": [
    "# Configure OpenScale"
   ]
  },
  {
   "cell_type": "code",
   "execution_count": 24,
   "metadata": {
    "scrolled": true
   },
   "outputs": [],
   "source": [
    "from ibm_ai_openscale import APIClient\n",
    "from ibm_ai_openscale.engines import *\n",
    "from ibm_ai_openscale.utils import *\n",
    "from ibm_ai_openscale.supporting_classes import PayloadRecord, Feature\n",
    "from ibm_ai_openscale.supporting_classes.enums import *"
   ]
  },
  {
   "cell_type": "markdown",
   "metadata": {},
   "source": [
    "## Create schema and datamart"
   ]
  },
  {
   "cell_type": "code",
   "execution_count": 25,
   "metadata": {
    "scrolled": true
   },
   "outputs": [
    {
     "data": {
      "text/plain": [
       "'2.1.7'"
      ]
     },
     "execution_count": 25,
     "metadata": {},
     "output_type": "execute_result"
    }
   ],
   "source": [
    "ai_client = APIClient(aios_credentials=AIOS_CREDENTIALS)\n",
    "ai_client.version"
   ]
  },
  {
   "cell_type": "markdown",
   "metadata": {},
   "source": [
    "#### Note: to delete an existing data_mart, uncomment the next cell and run it."
   ]
  },
  {
   "cell_type": "code",
   "execution_count": null,
   "metadata": {},
   "outputs": [],
   "source": [
    "#ai_client.data_mart.delete()"
   ]
  },
  {
   "cell_type": "markdown",
   "metadata": {},
   "source": [
    "### Set up datamart"
   ]
  },
  {
   "cell_type": "code",
   "execution_count": 27,
   "metadata": {},
   "outputs": [
    {
     "name": "stdout",
     "output_type": "stream",
     "text": [
      "Setting up internal datamart\n"
     ]
    }
   ],
   "source": [
    "DB_CREDENTIALS = None\n",
    "try:\n",
    "    data_mart_details = ai_client.data_mart.get_details()\n",
    "    if 'internal_database' in data_mart_details and data_mart_details['internal_database']:\n",
    "        if KEEP_MY_INTERNAL_POSTGRES:\n",
    "            print('Using existing internal datamart.')\n",
    "        else:\n",
    "            if DB_CREDENTIALS is None:\n",
    "                print('No postgres credentials supplied. Using existing internal datamart')\n",
    "            else:\n",
    "                print('Switching to external datamart')\n",
    "                ai_client.data_mart.delete(force=True)\n",
    "                ai_client.data_mart.setup(db_credentials=DB_CREDENTIALS)\n",
    "    else:\n",
    "        print('Using existing external datamart')\n",
    "except:\n",
    "    if DB_CREDENTIALS is None:\n",
    "        print('Setting up internal datamart')\n",
    "        ai_client.data_mart.setup(internal_db=True)\n",
    "    else:\n",
    "        print('Setting up external datamart')\n",
    "        try:\n",
    "            ai_client.data_mart.setup(db_credentials=DB_CREDENTIALS)\n",
    "        except:\n",
    "            print('Setup failed, trying Db2 setup')\n",
    "            ai_client.data_mart.setup(db_credentials=DB_CREDENTIALS, schema=DB_CREDENTIALS['username'])"
   ]
  },
  {
   "cell_type": "code",
   "execution_count": 28,
   "metadata": {
    "scrolled": true
   },
   "outputs": [
    {
     "data": {
      "text/plain": [
       "{'internal_database': True,\n",
       " 'service_instance_crn': 'crn:v1:bluemix:public:aiopenscale:us-south:a/46816354d9cb773bae86c226aa74c8cc:f94e20cb-aa92-4636-97ce-08de6b714d02::',\n",
       " 'status': {'state': 'active'},\n",
       " 'database_configuration': {},\n",
       " 'internal_database_pool': 'icd-psql'}"
      ]
     },
     "execution_count": 28,
     "metadata": {},
     "output_type": "execute_result"
    }
   ],
   "source": [
    "data_mart_details = ai_client.data_mart.get_details()\n",
    "data_mart_details"
   ]
  },
  {
   "cell_type": "markdown",
   "metadata": {},
   "source": [
    "## Bind machine learning engines"
   ]
  },
  {
   "cell_type": "code",
   "execution_count": 29,
   "metadata": {
    "scrolled": false
   },
   "outputs": [
    {
     "data": {
      "text/html": [
       "<HTML>\n",
       "        <body>\n",
       "            <h3>Service bindings</h3>\n",
       "            <table style='border: 1px solid #dddddd; font-family: Courier'>\n",
       "                <th style='border: 1px solid #dddddd'>uid</th><th style='border: 1px solid #dddddd'>name</th><th style='border: 1px solid #dddddd'>service_type</th><th style='border: 1px solid #dddddd'>created</th>\n",
       "                <tr><td style='border: 1px solid #dddddd'>4a7f62cc-f564-4144-8af4-b9f53533d2cf</td><td style='border: 1px solid #dddddd'>WML instance</td><td style='border: 1px solid #dddddd'>watson_machine_learning</td><td style='border: 1px solid #dddddd'>2019-06-06T20:53:20.898Z</td></tr>\n",
       "            </table>\n",
       "        </body>\n",
       "        </HTML>"
      ],
      "text/plain": [
       "<IPython.core.display.HTML object>"
      ]
     },
     "metadata": {},
     "output_type": "display_data"
    }
   ],
   "source": [
    "binding_uid = ai_client.data_mart.bindings.add('WML instance', WatsonMachineLearningInstance(WML_CREDENTIALS))\n",
    "if binding_uid is None:\n",
    "    binding_uid = ai_client.data_mart.bindings.get_details()['service_bindings'][0]['metadata']['guid']\n",
    "bindings_details = ai_client.data_mart.bindings.get_details()\n",
    "ai_client.data_mart.bindings.list()"
   ]
  },
  {
   "cell_type": "code",
   "execution_count": 30,
   "metadata": {
    "scrolled": true
   },
   "outputs": [
    {
     "name": "stdout",
     "output_type": "stream",
     "text": [
      "4a7f62cc-f564-4144-8af4-b9f53533d2cf\n"
     ]
    }
   ],
   "source": [
    "print(binding_uid)"
   ]
  },
  {
   "cell_type": "code",
   "execution_count": 31,
   "metadata": {
    "scrolled": false
   },
   "outputs": [
    {
     "data": {
      "text/html": [
       "<HTML>\n",
       "        <body>\n",
       "            <h3>Available assets</h3>\n",
       "            <table style='border: 1px solid #dddddd; font-family: Courier'>\n",
       "                <th style='border: 1px solid #dddddd'>source_uid</th><th style='border: 1px solid #dddddd'>name</th><th style='border: 1px solid #dddddd'>created</th><th style='border: 1px solid #dddddd'>type</th><th style='border: 1px solid #dddddd'>frameworks</th><th style='border: 1px solid #dddddd'>binding_uid</th><th style='border: 1px solid #dddddd'>is_subscribed</th>\n",
       "                <tr><td style='border: 1px solid #dddddd'>71ad1147-0429-4ea2-8377-7f8102a2cdcd</td><td style='border: 1px solid #dddddd'>Spark German Risk Model - Final</td><td style='border: 1px solid #dddddd'>2019-06-06T20:50:47.894Z</td><td style='border: 1px solid #dddddd'>model</td><td style='border: 1px solid #dddddd'>mllib-2.3</td><td style='border: 1px solid #dddddd'>4a7f62cc-f564-4144-8af4-b9f53533d2cf</td><td style='border: 1px solid #dddddd'>False</td></tr><tr><td style='border: 1px solid #dddddd'>066c8ead-6358-454e-9905-02861957b135</td><td style='border: 1px solid #dddddd'>AIOS Spark German Risk Model - Final</td><td style='border: 1px solid #dddddd'>2019-02-28T13:00:19.462Z</td><td style='border: 1px solid #dddddd'>model</td><td style='border: 1px solid #dddddd'>mllib-2.1</td><td style='border: 1px solid #dddddd'>4a7f62cc-f564-4144-8af4-b9f53533d2cf</td><td style='border: 1px solid #dddddd'>False</td></tr><tr><td style='border: 1px solid #dddddd'>6d4e7b60-cced-42ea-abfe-cefc8b774ed5</td><td style='border: 1px solid #dddddd'>PredictWildfireIntensity-2-25</td><td style='border: 1px solid #dddddd'>2019-02-25T20:58:38.254Z</td><td style='border: 1px solid #dddddd'>model</td><td style='border: 1px solid #dddddd'>wml-1.1</td><td style='border: 1px solid #dddddd'>4a7f62cc-f564-4144-8af4-b9f53533d2cf</td><td style='border: 1px solid #dddddd'>False</td></tr><tr><td style='border: 1px solid #dddddd'>3238b598-9e2b-48d2-b678-b3bdf19c54a3</td><td style='border: 1px solid #dddddd'>Customer Churn Prediction Model</td><td style='border: 1px solid #dddddd'>2018-12-11T21:53:47.763Z</td><td style='border: 1px solid #dddddd'>model</td><td style='border: 1px solid #dddddd'>scikit-learn-0.19</td><td style='border: 1px solid #dddddd'>4a7f62cc-f564-4144-8af4-b9f53533d2cf</td><td style='border: 1px solid #dddddd'>False</td></tr>\n",
       "            </table>\n",
       "        </body>\n",
       "        </HTML>"
      ],
      "text/plain": [
       "<IPython.core.display.HTML object>"
      ]
     },
     "metadata": {},
     "output_type": "display_data"
    }
   ],
   "source": [
    "ai_client.data_mart.bindings.list_assets()"
   ]
  },
  {
   "cell_type": "markdown",
   "metadata": {},
   "source": [
    "## Subscriptions"
   ]
  },
  {
   "cell_type": "markdown",
   "metadata": {},
   "source": [
    "### Remove existing credit risk subscriptions"
   ]
  },
  {
   "cell_type": "code",
   "execution_count": 32,
   "metadata": {
    "scrolled": true
   },
   "outputs": [],
   "source": [
    "subscriptions_uids = ai_client.data_mart.subscriptions.get_uids()\n",
    "for subscription in subscriptions_uids:\n",
    "    sub_name = ai_client.data_mart.subscriptions.get_details(subscription)['entity']['asset']['name']\n",
    "    if sub_name == MODEL_NAME:\n",
    "        ai_client.data_mart.subscriptions.delete(subscription)\n",
    "        print('Deleted existing subscription for', MODEL_NAME)"
   ]
  },
  {
   "cell_type": "code",
   "execution_count": 33,
   "metadata": {
    "scrolled": false
   },
   "outputs": [],
   "source": [
    "subscription = ai_client.data_mart.subscriptions.add(WatsonMachineLearningAsset(\n",
    "    model_uid,\n",
    "    problem_type=ProblemType.BINARY_CLASSIFICATION,\n",
    "    input_data_type=InputDataType.STRUCTURED,\n",
    "    label_column='Risk',\n",
    "    prediction_column='predictedLabel',\n",
    "    probability_column='probability',\n",
    "    feature_columns = [\"CheckingStatus\",\"LoanDuration\",\"CreditHistory\",\"LoanPurpose\",\"LoanAmount\",\"ExistingSavings\",\"EmploymentDuration\",\"InstallmentPercent\",\"Sex\",\"OthersOnLoan\",\"CurrentResidenceDuration\",\"OwnsProperty\",\"Age\",\"InstallmentPlans\",\"Housing\",\"ExistingCreditsCount\",\"Job\",\"Dependents\",\"Telephone\",\"ForeignWorker\"],\n",
    "    categorical_columns = [\"CheckingStatus\",\"CreditHistory\",\"LoanPurpose\",\"ExistingSavings\",\"EmploymentDuration\",\"Sex\",\"OthersOnLoan\",\"OwnsProperty\",\"InstallmentPlans\",\"Housing\",\"Job\",\"Telephone\",\"ForeignWorker\"]\n",
    "))\n",
    "\n",
    "if subscription is None:\n",
    "    print('Subscription already exists; get the existing one')\n",
    "    subscriptions_uids = ai_client.data_mart.subscriptions.get_uids()\n",
    "    for sub in subscriptions_uids:\n",
    "        if ai_client.data_mart.subscriptions.get_details(sub)['entity']['asset']['name'] == MODEL_NAME:\n",
    "            subscription = ai_client.data_mart.subscriptions.get(sub)"
   ]
  },
  {
   "cell_type": "markdown",
   "metadata": {},
   "source": [
    "Get subscription list"
   ]
  },
  {
   "cell_type": "code",
   "execution_count": 34,
   "metadata": {
    "scrolled": true
   },
   "outputs": [
    {
     "data": {
      "text/html": [
       "<HTML>\n",
       "        <body>\n",
       "            <h3>Subscriptions</h3>\n",
       "            <table style='border: 1px solid #dddddd; font-family: Courier'>\n",
       "                <th style='border: 1px solid #dddddd'>uid</th><th style='border: 1px solid #dddddd'>name</th><th style='border: 1px solid #dddddd'>type</th><th style='border: 1px solid #dddddd'>binding_uid</th><th style='border: 1px solid #dddddd'>created</th>\n",
       "                <tr><td style='border: 1px solid #dddddd'>71ad1147-0429-4ea2-8377-7f8102a2cdcd</td><td style='border: 1px solid #dddddd'>Spark German Risk Model - Final</td><td style='border: 1px solid #dddddd'>model</td><td style='border: 1px solid #dddddd'>4a7f62cc-f564-4144-8af4-b9f53533d2cf</td><td style='border: 1px solid #dddddd'>2019-06-06T20:53:33.141Z</td></tr>\n",
       "            </table>\n",
       "        </body>\n",
       "        </HTML>"
      ],
      "text/plain": [
       "<IPython.core.display.HTML object>"
      ]
     },
     "metadata": {},
     "output_type": "display_data"
    }
   ],
   "source": [
    "subscriptions_uids = ai_client.data_mart.subscriptions.get_uids()\n",
    "ai_client.data_mart.subscriptions.list()"
   ]
  },
  {
   "cell_type": "code",
   "execution_count": 35,
   "metadata": {
    "scrolled": false
   },
   "outputs": [
    {
     "data": {
      "text/plain": [
       "{'metadata': {'guid': '71ad1147-0429-4ea2-8377-7f8102a2cdcd',\n",
       "  'url': '/v1/data_marts/f94e20cb-aa92-4636-97ce-08de6b714d02/service_bindings/4a7f62cc-f564-4144-8af4-b9f53533d2cf/subscriptions/71ad1147-0429-4ea2-8377-7f8102a2cdcd',\n",
       "  'created_at': '2019-06-06T20:53:33.141Z',\n",
       "  'modified_at': '2019-06-06T20:53:33.841Z'},\n",
       " 'entity': {'service_binding_id': '4a7f62cc-f564-4144-8af4-b9f53533d2cf',\n",
       "  'asset_properties': {'runtime_environment': 'spark-2.3',\n",
       "   'predicted_target_field': 'predictedLabel',\n",
       "   'training_data_schema': {'type': 'struct',\n",
       "    'fields': [{'name': 'CheckingStatus',\n",
       "      'type': 'string',\n",
       "      'nullable': True,\n",
       "      'metadata': {'measure': 'discrete', 'modeling_role': 'feature'}},\n",
       "     {'name': 'LoanDuration',\n",
       "      'type': 'integer',\n",
       "      'nullable': True,\n",
       "      'metadata': {'modeling_role': 'feature'}},\n",
       "     {'name': 'CreditHistory',\n",
       "      'type': 'string',\n",
       "      'nullable': True,\n",
       "      'metadata': {'measure': 'discrete', 'modeling_role': 'feature'}},\n",
       "     {'name': 'LoanPurpose',\n",
       "      'type': 'string',\n",
       "      'nullable': True,\n",
       "      'metadata': {'measure': 'discrete', 'modeling_role': 'feature'}},\n",
       "     {'name': 'LoanAmount',\n",
       "      'type': 'integer',\n",
       "      'nullable': True,\n",
       "      'metadata': {'modeling_role': 'feature'}},\n",
       "     {'name': 'ExistingSavings',\n",
       "      'type': 'string',\n",
       "      'nullable': True,\n",
       "      'metadata': {'measure': 'discrete', 'modeling_role': 'feature'}},\n",
       "     {'name': 'EmploymentDuration',\n",
       "      'type': 'string',\n",
       "      'nullable': True,\n",
       "      'metadata': {'measure': 'discrete', 'modeling_role': 'feature'}},\n",
       "     {'name': 'InstallmentPercent',\n",
       "      'type': 'integer',\n",
       "      'nullable': True,\n",
       "      'metadata': {'modeling_role': 'feature'}},\n",
       "     {'name': 'Sex',\n",
       "      'type': 'string',\n",
       "      'nullable': True,\n",
       "      'metadata': {'measure': 'discrete', 'modeling_role': 'feature'}},\n",
       "     {'name': 'OthersOnLoan',\n",
       "      'type': 'string',\n",
       "      'nullable': True,\n",
       "      'metadata': {'measure': 'discrete', 'modeling_role': 'feature'}},\n",
       "     {'name': 'CurrentResidenceDuration',\n",
       "      'type': 'integer',\n",
       "      'nullable': True,\n",
       "      'metadata': {'modeling_role': 'feature'}},\n",
       "     {'name': 'OwnsProperty',\n",
       "      'type': 'string',\n",
       "      'nullable': True,\n",
       "      'metadata': {'measure': 'discrete', 'modeling_role': 'feature'}},\n",
       "     {'name': 'Age',\n",
       "      'type': 'integer',\n",
       "      'nullable': True,\n",
       "      'metadata': {'modeling_role': 'feature'}},\n",
       "     {'name': 'InstallmentPlans',\n",
       "      'type': 'string',\n",
       "      'nullable': True,\n",
       "      'metadata': {'measure': 'discrete', 'modeling_role': 'feature'}},\n",
       "     {'name': 'Housing',\n",
       "      'type': 'string',\n",
       "      'nullable': True,\n",
       "      'metadata': {'measure': 'discrete', 'modeling_role': 'feature'}},\n",
       "     {'name': 'ExistingCreditsCount',\n",
       "      'type': 'integer',\n",
       "      'nullable': True,\n",
       "      'metadata': {'modeling_role': 'feature'}},\n",
       "     {'name': 'Job',\n",
       "      'type': 'string',\n",
       "      'nullable': True,\n",
       "      'metadata': {'measure': 'discrete', 'modeling_role': 'feature'}},\n",
       "     {'name': 'Dependents',\n",
       "      'type': 'integer',\n",
       "      'nullable': True,\n",
       "      'metadata': {'modeling_role': 'feature'}},\n",
       "     {'name': 'Telephone',\n",
       "      'type': 'string',\n",
       "      'nullable': True,\n",
       "      'metadata': {'measure': 'discrete', 'modeling_role': 'feature'}},\n",
       "     {'name': 'ForeignWorker',\n",
       "      'type': 'string',\n",
       "      'nullable': True,\n",
       "      'metadata': {'measure': 'discrete', 'modeling_role': 'feature'}},\n",
       "     {'name': 'Risk',\n",
       "      'type': 'string',\n",
       "      'nullable': True,\n",
       "      'metadata': {'modeling_role': 'target'}}]},\n",
       "   'prediction_probability_field': 'probability',\n",
       "   'label_column': 'Risk',\n",
       "   'categorical_fields': ['CheckingStatus',\n",
       "    'CreditHistory',\n",
       "    'LoanPurpose',\n",
       "    'ExistingSavings',\n",
       "    'EmploymentDuration',\n",
       "    'Sex',\n",
       "    'OthersOnLoan',\n",
       "    'OwnsProperty',\n",
       "    'InstallmentPlans',\n",
       "    'Housing',\n",
       "    'Job',\n",
       "    'Telephone',\n",
       "    'ForeignWorker'],\n",
       "   'problem_type': 'binary',\n",
       "   'feature_fields': ['CheckingStatus',\n",
       "    'LoanDuration',\n",
       "    'CreditHistory',\n",
       "    'LoanPurpose',\n",
       "    'LoanAmount',\n",
       "    'ExistingSavings',\n",
       "    'EmploymentDuration',\n",
       "    'InstallmentPercent',\n",
       "    'Sex',\n",
       "    'OthersOnLoan',\n",
       "    'CurrentResidenceDuration',\n",
       "    'OwnsProperty',\n",
       "    'Age',\n",
       "    'InstallmentPlans',\n",
       "    'Housing',\n",
       "    'ExistingCreditsCount',\n",
       "    'Job',\n",
       "    'Dependents',\n",
       "    'Telephone',\n",
       "    'ForeignWorker'],\n",
       "   'model_type': 'mllib-2.3',\n",
       "   'input_data_type': 'structured',\n",
       "   'input_data_schema': {'type': 'struct',\n",
       "    'fields': [{'name': 'CheckingStatus',\n",
       "      'type': 'string',\n",
       "      'nullable': True,\n",
       "      'metadata': {'measure': 'discrete', 'modeling_role': 'feature'}},\n",
       "     {'name': 'LoanDuration',\n",
       "      'type': 'integer',\n",
       "      'nullable': True,\n",
       "      'metadata': {'modeling_role': 'feature'}},\n",
       "     {'name': 'CreditHistory',\n",
       "      'type': 'string',\n",
       "      'nullable': True,\n",
       "      'metadata': {'measure': 'discrete', 'modeling_role': 'feature'}},\n",
       "     {'name': 'LoanPurpose',\n",
       "      'type': 'string',\n",
       "      'nullable': True,\n",
       "      'metadata': {'measure': 'discrete', 'modeling_role': 'feature'}},\n",
       "     {'name': 'LoanAmount',\n",
       "      'type': 'integer',\n",
       "      'nullable': True,\n",
       "      'metadata': {'modeling_role': 'feature'}},\n",
       "     {'name': 'ExistingSavings',\n",
       "      'type': 'string',\n",
       "      'nullable': True,\n",
       "      'metadata': {'measure': 'discrete', 'modeling_role': 'feature'}},\n",
       "     {'name': 'EmploymentDuration',\n",
       "      'type': 'string',\n",
       "      'nullable': True,\n",
       "      'metadata': {'measure': 'discrete', 'modeling_role': 'feature'}},\n",
       "     {'name': 'InstallmentPercent',\n",
       "      'type': 'integer',\n",
       "      'nullable': True,\n",
       "      'metadata': {'modeling_role': 'feature'}},\n",
       "     {'name': 'Sex',\n",
       "      'type': 'string',\n",
       "      'nullable': True,\n",
       "      'metadata': {'measure': 'discrete', 'modeling_role': 'feature'}},\n",
       "     {'name': 'OthersOnLoan',\n",
       "      'type': 'string',\n",
       "      'nullable': True,\n",
       "      'metadata': {'measure': 'discrete', 'modeling_role': 'feature'}},\n",
       "     {'name': 'CurrentResidenceDuration',\n",
       "      'type': 'integer',\n",
       "      'nullable': True,\n",
       "      'metadata': {'modeling_role': 'feature'}},\n",
       "     {'name': 'OwnsProperty',\n",
       "      'type': 'string',\n",
       "      'nullable': True,\n",
       "      'metadata': {'measure': 'discrete', 'modeling_role': 'feature'}},\n",
       "     {'name': 'Age',\n",
       "      'type': 'integer',\n",
       "      'nullable': True,\n",
       "      'metadata': {'modeling_role': 'feature'}},\n",
       "     {'name': 'InstallmentPlans',\n",
       "      'type': 'string',\n",
       "      'nullable': True,\n",
       "      'metadata': {'measure': 'discrete', 'modeling_role': 'feature'}},\n",
       "     {'name': 'Housing',\n",
       "      'type': 'string',\n",
       "      'nullable': True,\n",
       "      'metadata': {'measure': 'discrete', 'modeling_role': 'feature'}},\n",
       "     {'name': 'ExistingCreditsCount',\n",
       "      'type': 'integer',\n",
       "      'nullable': True,\n",
       "      'metadata': {'modeling_role': 'feature'}},\n",
       "     {'name': 'Job',\n",
       "      'type': 'string',\n",
       "      'nullable': True,\n",
       "      'metadata': {'measure': 'discrete', 'modeling_role': 'feature'}},\n",
       "     {'name': 'Dependents',\n",
       "      'type': 'integer',\n",
       "      'nullable': True,\n",
       "      'metadata': {'modeling_role': 'feature'}},\n",
       "     {'name': 'Telephone',\n",
       "      'type': 'string',\n",
       "      'nullable': True,\n",
       "      'metadata': {'measure': 'discrete', 'modeling_role': 'feature'}},\n",
       "     {'name': 'ForeignWorker',\n",
       "      'type': 'string',\n",
       "      'nullable': True,\n",
       "      'metadata': {'measure': 'discrete', 'modeling_role': 'feature'}}]},\n",
       "   'output_data_schema': {'type': 'struct',\n",
       "    'fields': [{'name': 'CheckingStatus',\n",
       "      'type': 'string',\n",
       "      'nullable': True,\n",
       "      'metadata': {'measure': 'discrete', 'modeling_role': 'feature'}},\n",
       "     {'name': 'LoanDuration',\n",
       "      'type': 'integer',\n",
       "      'nullable': True,\n",
       "      'metadata': {'modeling_role': 'feature'}},\n",
       "     {'name': 'CreditHistory',\n",
       "      'type': 'string',\n",
       "      'nullable': True,\n",
       "      'metadata': {'measure': 'discrete', 'modeling_role': 'feature'}},\n",
       "     {'name': 'LoanPurpose',\n",
       "      'type': 'string',\n",
       "      'nullable': True,\n",
       "      'metadata': {'measure': 'discrete', 'modeling_role': 'feature'}},\n",
       "     {'name': 'LoanAmount',\n",
       "      'type': 'integer',\n",
       "      'nullable': True,\n",
       "      'metadata': {'modeling_role': 'feature'}},\n",
       "     {'name': 'ExistingSavings',\n",
       "      'type': 'string',\n",
       "      'nullable': True,\n",
       "      'metadata': {'measure': 'discrete', 'modeling_role': 'feature'}},\n",
       "     {'name': 'EmploymentDuration',\n",
       "      'type': 'string',\n",
       "      'nullable': True,\n",
       "      'metadata': {'measure': 'discrete', 'modeling_role': 'feature'}},\n",
       "     {'name': 'InstallmentPercent',\n",
       "      'type': 'integer',\n",
       "      'nullable': True,\n",
       "      'metadata': {'modeling_role': 'feature'}},\n",
       "     {'name': 'Sex',\n",
       "      'type': 'string',\n",
       "      'nullable': True,\n",
       "      'metadata': {'measure': 'discrete', 'modeling_role': 'feature'}},\n",
       "     {'name': 'OthersOnLoan',\n",
       "      'type': 'string',\n",
       "      'nullable': True,\n",
       "      'metadata': {'measure': 'discrete', 'modeling_role': 'feature'}},\n",
       "     {'name': 'CurrentResidenceDuration',\n",
       "      'type': 'integer',\n",
       "      'nullable': True,\n",
       "      'metadata': {'modeling_role': 'feature'}},\n",
       "     {'name': 'OwnsProperty',\n",
       "      'type': 'string',\n",
       "      'nullable': True,\n",
       "      'metadata': {'measure': 'discrete', 'modeling_role': 'feature'}},\n",
       "     {'name': 'Age',\n",
       "      'type': 'integer',\n",
       "      'nullable': True,\n",
       "      'metadata': {'modeling_role': 'feature'}},\n",
       "     {'name': 'InstallmentPlans',\n",
       "      'type': 'string',\n",
       "      'nullable': True,\n",
       "      'metadata': {'measure': 'discrete', 'modeling_role': 'feature'}},\n",
       "     {'name': 'Housing',\n",
       "      'type': 'string',\n",
       "      'nullable': True,\n",
       "      'metadata': {'measure': 'discrete', 'modeling_role': 'feature'}},\n",
       "     {'name': 'ExistingCreditsCount',\n",
       "      'type': 'integer',\n",
       "      'nullable': True,\n",
       "      'metadata': {'modeling_role': 'feature'}},\n",
       "     {'name': 'Job',\n",
       "      'type': 'string',\n",
       "      'nullable': True,\n",
       "      'metadata': {'measure': 'discrete', 'modeling_role': 'feature'}},\n",
       "     {'name': 'Dependents',\n",
       "      'type': 'integer',\n",
       "      'nullable': True,\n",
       "      'metadata': {'modeling_role': 'feature'}},\n",
       "     {'name': 'Telephone',\n",
       "      'type': 'string',\n",
       "      'nullable': True,\n",
       "      'metadata': {'measure': 'discrete', 'modeling_role': 'feature'}},\n",
       "     {'name': 'ForeignWorker',\n",
       "      'type': 'string',\n",
       "      'nullable': True,\n",
       "      'metadata': {'measure': 'discrete', 'modeling_role': 'feature'}},\n",
       "     {'name': 'prediction',\n",
       "      'type': 'double',\n",
       "      'nullable': True,\n",
       "      'metadata': {'modeling_role': 'prediction'}},\n",
       "     {'name': 'probability',\n",
       "      'type': {'type': 'array', 'elementType': 'double', 'containsNull': True},\n",
       "      'nullable': True,\n",
       "      'metadata': {'modeling_role': 'probability'}},\n",
       "     {'name': 'debiased_prediction',\n",
       "      'type': 'double',\n",
       "      'nullable': True,\n",
       "      'metadata': {'modeling_role': 'debiased-prediction'}},\n",
       "     {'name': 'debiased_probability',\n",
       "      'type': {'type': 'array', 'elementType': 'double', 'containsNull': True},\n",
       "      'nullable': True,\n",
       "      'metadata': {'modeling_role': 'debiased-probability'}},\n",
       "     {'name': 'prediction_probability',\n",
       "      'type': 'double',\n",
       "      'nullable': True,\n",
       "      'metadata': {'modeling_role': 'prediction-probability'}}]}},\n",
       "  'status': {'state': 'active'},\n",
       "  'configurations': [{'enabled': True,\n",
       "    'type': 'payload_logging',\n",
       "    'url': '/v1/data_marts/f94e20cb-aa92-4636-97ce-08de6b714d02/service_bindings/4a7f62cc-f564-4144-8af4-b9f53533d2cf/subscriptions/71ad1147-0429-4ea2-8377-7f8102a2cdcd/configurations/payload_logging',\n",
       "    'monitor_definition_id': 'payload_logging'},\n",
       "   {'enabled': False,\n",
       "    'type': 'explainability',\n",
       "    'url': '/v1/data_marts/f94e20cb-aa92-4636-97ce-08de6b714d02/service_bindings/4a7f62cc-f564-4144-8af4-b9f53533d2cf/subscriptions/71ad1147-0429-4ea2-8377-7f8102a2cdcd/configurations/explainability',\n",
       "    'monitor_definition_id': 'explainability'},\n",
       "   {'enabled': True,\n",
       "    'type': 'performance_monitoring',\n",
       "    'url': '/v1/data_marts/f94e20cb-aa92-4636-97ce-08de6b714d02/service_bindings/4a7f62cc-f564-4144-8af4-b9f53533d2cf/subscriptions/71ad1147-0429-4ea2-8377-7f8102a2cdcd/configurations/performance_monitoring',\n",
       "    'monitor_definition_id': 'performance_monitoring'},\n",
       "   {'enabled': False,\n",
       "    'type': 'fairness_monitoring',\n",
       "    'url': '/v1/data_marts/f94e20cb-aa92-4636-97ce-08de6b714d02/service_bindings/4a7f62cc-f564-4144-8af4-b9f53533d2cf/subscriptions/71ad1147-0429-4ea2-8377-7f8102a2cdcd/configurations/fairness_monitoring',\n",
       "    'monitor_definition_id': 'fairness_monitoring'},\n",
       "   {'enabled': False,\n",
       "    'type': 'quality_monitoring',\n",
       "    'url': '/v1/data_marts/f94e20cb-aa92-4636-97ce-08de6b714d02/service_bindings/4a7f62cc-f564-4144-8af4-b9f53533d2cf/subscriptions/71ad1147-0429-4ea2-8377-7f8102a2cdcd/configurations/quality',\n",
       "    'monitor_definition_id': 'quality'}],\n",
       "  'asset': {'name': 'Spark German Risk Model - Final',\n",
       "   'asset_id': '71ad1147-0429-4ea2-8377-7f8102a2cdcd',\n",
       "   'url': 'https://us-south.ml.cloud.ibm.com/v3/wml_instances/4a7f62cc-f564-4144-8af4-b9f53533d2cf/published_models/71ad1147-0429-4ea2-8377-7f8102a2cdcd',\n",
       "   'asset_type': 'model',\n",
       "   'created_at': '2019-06-06T20:50:47.894Z'},\n",
       "  'deployments': [{'name': 'Spark German Risk Deployment - Final',\n",
       "    'url': 'https://us-south.ml.cloud.ibm.com/v3/wml_instances/4a7f62cc-f564-4144-8af4-b9f53533d2cf/deployments/5ab6d15c-6005-4dbd-b05d-f5f8f14a93f9',\n",
       "    'deployment_type': 'online',\n",
       "    'scoring_endpoint': {'url': 'https://us-south.ml.cloud.ibm.com/v3/wml_instances/4a7f62cc-f564-4144-8af4-b9f53533d2cf/deployments/5ab6d15c-6005-4dbd-b05d-f5f8f14a93f9/online',\n",
       "     'request_headers': {'Content-Type': 'application/json'}},\n",
       "    'deployment_rn': '',\n",
       "    'created_at': '2019-06-06T20:50:47.941Z',\n",
       "    'deployment_id': '5ab6d15c-6005-4dbd-b05d-f5f8f14a93f9'}]}}"
      ]
     },
     "execution_count": 35,
     "metadata": {},
     "output_type": "execute_result"
    }
   ],
   "source": [
    "subscription.get_details()"
   ]
  },
  {
   "cell_type": "markdown",
   "metadata": {},
   "source": [
    "### Score the model so we can configure monitors"
   ]
  },
  {
   "cell_type": "code",
   "execution_count": 36,
   "metadata": {
    "scrolled": true
   },
   "outputs": [
    {
     "name": "stdout",
     "output_type": "stream",
     "text": [
      "5ab6d15c-6005-4dbd-b05d-f5f8f14a93f9\n",
      "https://us-south.ml.cloud.ibm.com/v3/wml_instances/4a7f62cc-f564-4144-8af4-b9f53533d2cf/deployments/5ab6d15c-6005-4dbd-b05d-f5f8f14a93f9/online\n"
     ]
    }
   ],
   "source": [
    "credit_risk_scoring_endpoint = None\n",
    "print(deployment_uid)\n",
    "\n",
    "for deployment in wml_client.deployments.get_details()['resources']:\n",
    "    if deployment_uid in deployment['metadata']['guid']:\n",
    "        credit_risk_scoring_endpoint = deployment['entity']['scoring_url']\n",
    "        \n",
    "print(credit_risk_scoring_endpoint)"
   ]
  },
  {
   "cell_type": "code",
   "execution_count": 37,
   "metadata": {
    "scrolled": true
   },
   "outputs": [
    {
     "name": "stdout",
     "output_type": "stream",
     "text": [
      "{'fields': ['CheckingStatus', 'LoanDuration', 'CreditHistory', 'LoanPurpose', 'LoanAmount', 'ExistingSavings', 'EmploymentDuration', 'InstallmentPercent', 'Sex', 'OthersOnLoan', 'CurrentResidenceDuration', 'OwnsProperty', 'Age', 'InstallmentPlans', 'Housing', 'ExistingCreditsCount', 'Job', 'Dependents', 'Telephone', 'ForeignWorker', 'CheckingStatus_IX', 'CreditHistory_IX', 'EmploymentDuration_IX', 'ExistingSavings_IX', 'ForeignWorker_IX', 'Housing_IX', 'InstallmentPlans_IX', 'Job_IX', 'LoanPurpose_IX', 'OthersOnLoan_IX', 'OwnsProperty_IX', 'Sex_IX', 'Telephone_IX', 'features', 'rawPrediction', 'probability', 'prediction', 'predictedLabel'], 'values': [['no_checking', 13, 'credits_paid_to_date', 'car_new', 1343, '100_to_500', '1_to_4', 2, 'female', 'none', 3, 'savings_insurance', 46, 'none', 'own', 2, 'skilled', 1, 'none', 'yes', 0.0, 1.0, 0.0, 1.0, 0.0, 0.0, 0.0, 0.0, 0.0, 0.0, 0.0, 1.0, 0.0, [21, [1, 3, 5, 13, 14, 15, 16, 17, 18, 19, 20], [1.0, 1.0, 1.0, 13.0, 1343.0, 2.0, 3.0, 13.0, 46.0, 2.0, 1.0]], [13.748191005314096, 6.251808994685907], [0.6874095502657047, 0.3125904497342953], 0.0, 'No Risk'], ['no_checking', 24, 'prior_payments_delayed', 'furniture', 4567, '500_to_1000', '1_to_4', 4, 'male', 'none', 4, 'savings_insurance', 36, 'none', 'free', 2, 'management_self-employed', 1, 'none', 'yes', 0.0, 0.0, 0.0, 2.0, 0.0, 2.0, 0.0, 2.0, 1.0, 0.0, 0.0, 0.0, 0.0, [21, [2, 3, 9, 10, 13, 14, 15, 16, 17, 18, 19, 20], [1.0, 2.0, 2.0, 2.0, 24.0, 4567.0, 4.0, 4.0, 24.0, 36.0, 2.0, 1.0]], [12.958610021678062, 7.041389978321938], [0.6479305010839032, 0.3520694989160969], 0.0, 'No Risk'], ['0_to_200', 26, 'all_credits_paid_back', 'car_new', 863, 'less_100', 'less_1', 2, 'female', 'co-applicant', 2, 'real_estate', 38, 'none', 'own', 1, 'skilled', 1, 'none', 'yes', 2.0, 3.0, 3.0, 0.0, 0.0, 0.0, 0.0, 0.0, 0.0, 1.0, 2.0, 1.0, 0.0, [2.0, 3.0, 0.0, 0.0, 3.0, 1.0, 1.0, 2.0, 0.0, 0.0, 0.0, 0.0, 0.0, 26.0, 863.0, 2.0, 2.0, 26.0, 38.0, 1.0, 1.0], [16.22163587686354, 3.7783641231364586], [0.811081793843177, 0.18891820615682292], 0.0, 'No Risk'], ['0_to_200', 14, 'no_credits', 'car_new', 2368, 'less_100', '1_to_4', 3, 'female', 'none', 3, 'real_estate', 29, 'none', 'own', 1, 'skilled', 1, 'none', 'yes', 2.0, 4.0, 0.0, 0.0, 0.0, 0.0, 0.0, 0.0, 0.0, 0.0, 2.0, 1.0, 0.0, [21, [0, 1, 5, 7, 13, 14, 15, 16, 17, 18, 19, 20], [2.0, 4.0, 1.0, 2.0, 14.0, 2368.0, 3.0, 3.0, 14.0, 29.0, 1.0, 1.0]], [18.255759800953953, 1.7442401990460459], [0.9127879900476976, 0.0872120099523023], 0.0, 'No Risk'], ['0_to_200', 4, 'no_credits', 'car_new', 250, 'less_100', 'unemployed', 2, 'female', 'none', 3, 'real_estate', 23, 'none', 'rent', 1, 'management_self-employed', 1, 'none', 'yes', 2.0, 4.0, 4.0, 0.0, 0.0, 1.0, 0.0, 2.0, 0.0, 0.0, 2.0, 1.0, 0.0, [2.0, 4.0, 0.0, 0.0, 4.0, 1.0, 0.0, 2.0, 0.0, 1.0, 2.0, 0.0, 0.0, 4.0, 250.0, 2.0, 3.0, 4.0, 23.0, 1.0, 1.0], [19.568625570046652, 0.4313744299533455], [0.9784312785023328, 0.02156872149766728], 0.0, 'No Risk'], ['no_checking', 17, 'credits_paid_to_date', 'car_new', 832, '100_to_500', '1_to_4', 2, 'male', 'none', 2, 'real_estate', 42, 'none', 'own', 1, 'skilled', 1, 'none', 'yes', 0.0, 1.0, 0.0, 1.0, 0.0, 0.0, 0.0, 0.0, 0.0, 0.0, 2.0, 0.0, 0.0, [21, [1, 3, 7, 13, 14, 15, 16, 17, 18, 19, 20], [1.0, 1.0, 2.0, 17.0, 832.0, 2.0, 2.0, 17.0, 42.0, 1.0, 1.0]], [17.51880644759886, 2.481193552401143], [0.8759403223799429, 0.12405967762005714], 0.0, 'No Risk'], ['no_checking', 33, 'outstanding_credit', 'appliances', 5696, 'unknown', 'greater_7', 4, 'male', 'co-applicant', 4, 'unknown', 54, 'none', 'free', 2, 'skilled', 1, 'yes', 'yes', 0.0, 2.0, 2.0, 4.0, 0.0, 2.0, 0.0, 0.0, 4.0, 1.0, 3.0, 0.0, 1.0, [0.0, 2.0, 4.0, 4.0, 2.0, 0.0, 1.0, 3.0, 0.0, 2.0, 0.0, 1.0, 0.0, 33.0, 5696.0, 4.0, 4.0, 33.0, 54.0, 2.0, 1.0], [1.9739140585316088, 18.026085941468395], [0.09869570292658042, 0.9013042970734196], 1.0, 'Risk'], ['0_to_200', 13, 'prior_payments_delayed', 'retraining', 1375, '100_to_500', '4_to_7', 3, 'male', 'none', 3, 'real_estate', 37, 'none', 'own', 2, 'management_self-employed', 1, 'none', 'yes', 2.0, 0.0, 1.0, 1.0, 0.0, 0.0, 0.0, 2.0, 8.0, 0.0, 2.0, 0.0, 0.0, [2.0, 0.0, 8.0, 1.0, 1.0, 0.0, 0.0, 2.0, 0.0, 0.0, 2.0, 0.0, 0.0, 13.0, 1375.0, 3.0, 3.0, 13.0, 37.0, 2.0, 1.0], [16.255160875122957, 3.7448391248770445], [0.8127580437561479, 0.18724195624385223], 0.0, 'No Risk']]}\n"
     ]
    }
   ],
   "source": [
    "fields = [\"CheckingStatus\",\"LoanDuration\",\"CreditHistory\",\"LoanPurpose\",\"LoanAmount\",\"ExistingSavings\",\"EmploymentDuration\",\"InstallmentPercent\",\"Sex\",\"OthersOnLoan\",\"CurrentResidenceDuration\",\"OwnsProperty\",\"Age\",\"InstallmentPlans\",\"Housing\",\"ExistingCreditsCount\",\"Job\",\"Dependents\",\"Telephone\",\"ForeignWorker\"]\n",
    "values = [\n",
    "  [\"no_checking\",13,\"credits_paid_to_date\",\"car_new\",1343,\"100_to_500\",\"1_to_4\",2,\"female\",\"none\",3,\"savings_insurance\",46,\"none\",\"own\",2,\"skilled\",1,\"none\",\"yes\"],\n",
    "  [\"no_checking\",24,\"prior_payments_delayed\",\"furniture\",4567,\"500_to_1000\",\"1_to_4\",4,\"male\",\"none\",4,\"savings_insurance\",36,\"none\",\"free\",2,\"management_self-employed\",1,\"none\",\"yes\"],\n",
    "  [\"0_to_200\",26,\"all_credits_paid_back\",\"car_new\",863,\"less_100\",\"less_1\",2,\"female\",\"co-applicant\",2,\"real_estate\",38,\"none\",\"own\",1,\"skilled\",1,\"none\",\"yes\"],\n",
    "  [\"0_to_200\",14,\"no_credits\",\"car_new\",2368,\"less_100\",\"1_to_4\",3,\"female\",\"none\",3,\"real_estate\",29,\"none\",\"own\",1,\"skilled\",1,\"none\",\"yes\"],\n",
    "  [\"0_to_200\",4,\"no_credits\",\"car_new\",250,\"less_100\",\"unemployed\",2,\"female\",\"none\",3,\"real_estate\",23,\"none\",\"rent\",1,\"management_self-employed\",1,\"none\",\"yes\"],\n",
    "  [\"no_checking\",17,\"credits_paid_to_date\",\"car_new\",832,\"100_to_500\",\"1_to_4\",2,\"male\",\"none\",2,\"real_estate\",42,\"none\",\"own\",1,\"skilled\",1,\"none\",\"yes\"],\n",
    "  [\"no_checking\",33,\"outstanding_credit\",\"appliances\",5696,\"unknown\",\"greater_7\",4,\"male\",\"co-applicant\",4,\"unknown\",54,\"none\",\"free\",2,\"skilled\",1,\"yes\",\"yes\"],\n",
    "  [\"0_to_200\",13,\"prior_payments_delayed\",\"retraining\",1375,\"100_to_500\",\"4_to_7\",3,\"male\",\"none\",3,\"real_estate\",37,\"none\",\"own\",2,\"management_self-employed\",1,\"none\",\"yes\"]\n",
    "]\n",
    "\n",
    "payload_scoring = {\"fields\": fields,\"values\": values}\n",
    "scoring_response = wml_client.deployments.score(credit_risk_scoring_endpoint, payload_scoring)\n",
    "\n",
    "print(scoring_response)"
   ]
  },
  {
   "cell_type": "markdown",
   "metadata": {},
   "source": [
    "## Quality and feedback monitoring"
   ]
  },
  {
   "cell_type": "markdown",
   "metadata": {},
   "source": [
    "### Enable quality monitoring"
   ]
  },
  {
   "cell_type": "markdown",
   "metadata": {},
   "source": [
    "Wait ten seconds to allow the payload logging table to be set up before we begin enabling monitors."
   ]
  },
  {
   "cell_type": "code",
   "execution_count": 38,
   "metadata": {
    "scrolled": true
   },
   "outputs": [],
   "source": [
    "time.sleep(10)\n",
    "subscription.quality_monitoring.enable(threshold=0.7, min_records=50)"
   ]
  },
  {
   "cell_type": "markdown",
   "metadata": {},
   "source": [
    "### Feedback logging"
   ]
  },
  {
   "cell_type": "code",
   "execution_count": 39,
   "metadata": {},
   "outputs": [
    {
     "name": "stdout",
     "output_type": "stream",
     "text": [
      "rm: cannot remove 'additional_feedback_data.json': No such file or directory\n",
      "--2019-06-06 20:54:39--  https://raw.githubusercontent.com/emartensibm/german-credit/master/additional_feedback_data.json\n",
      "Resolving raw.githubusercontent.com (raw.githubusercontent.com)... 199.232.8.133\n",
      "Connecting to raw.githubusercontent.com (raw.githubusercontent.com)|199.232.8.133|:443... connected.\n",
      "HTTP request sent, awaiting response... 200 OK\n",
      "Length: 16506 (16K) [text/plain]\n",
      "Saving to: 'additional_feedback_data.json'\n",
      "\n",
      "additional_feedback 100%[===================>]  16.12K  --.-KB/s    in 0s      \n",
      "\n",
      "2019-06-06 20:54:39 (49.1 MB/s) - 'additional_feedback_data.json' saved [16506/16506]\n",
      "\n"
     ]
    }
   ],
   "source": [
    "!rm additional_feedback_data.json\n",
    "!https://raw.githubusercontent.com/IBM/monitor-wml-model-with-watson-openscale/master/data/additional_feedback_data.json"
   ]
  },
  {
   "cell_type": "code",
   "execution_count": 40,
   "metadata": {},
   "outputs": [],
   "source": [
    "with open('additional_feedback_data.json') as feedback_file:\n",
    "    additional_feedback_data = json.load(feedback_file)\n",
    "subscription.feedback_logging.store(additional_feedback_data['data'])"
   ]
  },
  {
   "cell_type": "code",
   "execution_count": 41,
   "metadata": {
    "scrolled": true
   },
   "outputs": [
    {
     "data": {
      "text/html": [
       "<HTML>\n",
       "        <body>\n",
       "            <h3>Feedback_71ad1147-0429-4ea2-8377-7f8102a2cdcd (binding_id=4a7f62cc-f564-4144-8af4-b9f53533d2cf, subscription_id=71ad1147-0429-4ea2-8377-7f8102a2cdcd)</h3>\n",
       "            <table style='border: 1px solid #dddddd; font-family: Courier'>\n",
       "                <th style='border: 1px solid #dddddd'>CheckingStatus</th><th style='border: 1px solid #dddddd'>LoanDuration</th><th style='border: 1px solid #dddddd'>CreditHistory</th><th style='border: 1px solid #dddddd'>LoanPurpose</th><th style='border: 1px solid #dddddd'>LoanAmount</th><th style='border: 1px solid #dddddd'>ExistingSavings</th><th style='border: 1px solid #dddddd'>EmploymentDuration</th><th style='border: 1px solid #dddddd'>InstallmentPercent</th><th style='border: 1px solid #dddddd'>Sex</th><th style='border: 1px solid #dddddd'>OthersOnLoan</th><th style='border: 1px solid #dddddd'>CurrentResidenceDuration</th><th style='border: 1px solid #dddddd'>OwnsProperty</th><th style='border: 1px solid #dddddd'>Age</th><th style='border: 1px solid #dddddd'>InstallmentPlans</th><th style='border: 1px solid #dddddd'>Housing</th><th style='border: 1px solid #dddddd'>ExistingCreditsCount</th><th style='border: 1px solid #dddddd'>Job</th><th style='border: 1px solid #dddddd'>Dependents</th><th style='border: 1px solid #dddddd'>Telephone</th><th style='border: 1px solid #dddddd'>ForeignWorker</th><th style='border: 1px solid #dddddd'>Risk</th><th style='border: 1px solid #dddddd'>_training</th>\n",
       "                <tr><td style='border: 1px solid #dddddd'>less_0</td><td style='border: 1px solid #dddddd'>10</td><td style='border: 1px solid #dddddd'>all_credits_paid_back</td><td style='border: 1px solid #dddddd'>car_new</td><td style='border: 1px solid #dddddd'>250</td><td style='border: 1px solid #dddddd'>500_to_1000</td><td style='border: 1px solid #dddddd'>4_to_7</td><td style='border: 1px solid #dddddd'>3</td><td style='border: 1px solid #dddddd'>male</td><td style='border: 1px solid #dddddd'>none</td><td style='border: 1px solid #dddddd'>2</td><td style='border: 1px solid #dddddd'>real_estate</td><td style='border: 1px solid #dddddd'>23</td><td style='border: 1px solid #dddddd'>none</td><td style='border: 1px solid #dddddd'>rent</td><td style='border: 1px solid #dddddd'>1</td><td style='border: 1px solid #dddddd'>skilled</td><td style='border: 1px solid #dddddd'>1</td><td style='border: 1px solid #dddddd'>none</td><td style='border: 1px solid #dddddd'>yes</td><td style='border: 1px solid #dddddd'>No Risk</td><td style='border: 1px solid #dddddd'>2019-06-06 20:55:34.901007+00:00</td></tr><tr><td style='border: 1px solid #dddddd'>no_checking</td><td style='border: 1px solid #dddddd'>23</td><td style='border: 1px solid #dddddd'>prior_payments_delayed</td><td style='border: 1px solid #dddddd'>appliances</td><td style='border: 1px solid #dddddd'>6964</td><td style='border: 1px solid #dddddd'>100_to_500</td><td style='border: 1px solid #dddddd'>4_to_7</td><td style='border: 1px solid #dddddd'>4</td><td style='border: 1px solid #dddddd'>female</td><td style='border: 1px solid #dddddd'>none</td><td style='border: 1px solid #dddddd'>3</td><td style='border: 1px solid #dddddd'>car_other</td><td style='border: 1px solid #dddddd'>39</td><td style='border: 1px solid #dddddd'>none</td><td style='border: 1px solid #dddddd'>own</td><td style='border: 1px solid #dddddd'>1</td><td style='border: 1px solid #dddddd'>skilled</td><td style='border: 1px solid #dddddd'>1</td><td style='border: 1px solid #dddddd'>none</td><td style='border: 1px solid #dddddd'>yes</td><td style='border: 1px solid #dddddd'>Risk</td><td style='border: 1px solid #dddddd'>2019-06-06 20:55:34.901007+00:00</td></tr><tr><td style='border: 1px solid #dddddd'>0_to_200</td><td style='border: 1px solid #dddddd'>30</td><td style='border: 1px solid #dddddd'>outstanding_credit</td><td style='border: 1px solid #dddddd'>appliances</td><td style='border: 1px solid #dddddd'>3464</td><td style='border: 1px solid #dddddd'>100_to_500</td><td style='border: 1px solid #dddddd'>greater_7</td><td style='border: 1px solid #dddddd'>3</td><td style='border: 1px solid #dddddd'>male</td><td style='border: 1px solid #dddddd'>guarantor</td><td style='border: 1px solid #dddddd'>4</td><td style='border: 1px solid #dddddd'>savings_insurance</td><td style='border: 1px solid #dddddd'>51</td><td style='border: 1px solid #dddddd'>stores</td><td style='border: 1px solid #dddddd'>free</td><td style='border: 1px solid #dddddd'>1</td><td style='border: 1px solid #dddddd'>skilled</td><td style='border: 1px solid #dddddd'>1</td><td style='border: 1px solid #dddddd'>yes</td><td style='border: 1px solid #dddddd'>yes</td><td style='border: 1px solid #dddddd'>Risk</td><td style='border: 1px solid #dddddd'>2019-06-06 20:55:34.901007+00:00</td></tr><tr><td style='border: 1px solid #dddddd'>no_checking</td><td style='border: 1px solid #dddddd'>23</td><td style='border: 1px solid #dddddd'>outstanding_credit</td><td style='border: 1px solid #dddddd'>car_used</td><td style='border: 1px solid #dddddd'>2681</td><td style='border: 1px solid #dddddd'>500_to_1000</td><td style='border: 1px solid #dddddd'>greater_7</td><td style='border: 1px solid #dddddd'>4</td><td style='border: 1px solid #dddddd'>male</td><td style='border: 1px solid #dddddd'>none</td><td style='border: 1px solid #dddddd'>3</td><td style='border: 1px solid #dddddd'>car_other</td><td style='border: 1px solid #dddddd'>33</td><td style='border: 1px solid #dddddd'>stores</td><td style='border: 1px solid #dddddd'>free</td><td style='border: 1px solid #dddddd'>1</td><td style='border: 1px solid #dddddd'>unskilled</td><td style='border: 1px solid #dddddd'>1</td><td style='border: 1px solid #dddddd'>yes</td><td style='border: 1px solid #dddddd'>yes</td><td style='border: 1px solid #dddddd'>No Risk</td><td style='border: 1px solid #dddddd'>2019-06-06 20:55:34.901007+00:00</td></tr><tr><td style='border: 1px solid #dddddd'>0_to_200</td><td style='border: 1px solid #dddddd'>18</td><td style='border: 1px solid #dddddd'>prior_payments_delayed</td><td style='border: 1px solid #dddddd'>furniture</td><td style='border: 1px solid #dddddd'>1673</td><td style='border: 1px solid #dddddd'>less_100</td><td style='border: 1px solid #dddddd'>1_to_4</td><td style='border: 1px solid #dddddd'>2</td><td style='border: 1px solid #dddddd'>male</td><td style='border: 1px solid #dddddd'>none</td><td style='border: 1px solid #dddddd'>3</td><td style='border: 1px solid #dddddd'>car_other</td><td style='border: 1px solid #dddddd'>30</td><td style='border: 1px solid #dddddd'>none</td><td style='border: 1px solid #dddddd'>own</td><td style='border: 1px solid #dddddd'>2</td><td style='border: 1px solid #dddddd'>skilled</td><td style='border: 1px solid #dddddd'>1</td><td style='border: 1px solid #dddddd'>none</td><td style='border: 1px solid #dddddd'>yes</td><td style='border: 1px solid #dddddd'>Risk</td><td style='border: 1px solid #dddddd'>2019-06-06 20:55:34.901007+00:00</td></tr><tr><td style='border: 1px solid #dddddd'>no_checking</td><td style='border: 1px solid #dddddd'>44</td><td style='border: 1px solid #dddddd'>outstanding_credit</td><td style='border: 1px solid #dddddd'>radio_tv</td><td style='border: 1px solid #dddddd'>3476</td><td style='border: 1px solid #dddddd'>unknown</td><td style='border: 1px solid #dddddd'>greater_7</td><td style='border: 1px solid #dddddd'>4</td><td style='border: 1px solid #dddddd'>male</td><td style='border: 1px solid #dddddd'>co-applicant</td><td style='border: 1px solid #dddddd'>4</td><td style='border: 1px solid #dddddd'>unknown</td><td style='border: 1px solid #dddddd'>60</td><td style='border: 1px solid #dddddd'>none</td><td style='border: 1px solid #dddddd'>free</td><td style='border: 1px solid #dddddd'>2</td><td style='border: 1px solid #dddddd'>skilled</td><td style='border: 1px solid #dddddd'>2</td><td style='border: 1px solid #dddddd'>yes</td><td style='border: 1px solid #dddddd'>yes</td><td style='border: 1px solid #dddddd'>Risk</td><td style='border: 1px solid #dddddd'>2019-06-06 20:55:34.901007+00:00</td></tr><tr><td style='border: 1px solid #dddddd'>less_0</td><td style='border: 1px solid #dddddd'>8</td><td style='border: 1px solid #dddddd'>no_credits</td><td style='border: 1px solid #dddddd'>education</td><td style='border: 1px solid #dddddd'>803</td><td style='border: 1px solid #dddddd'>less_100</td><td style='border: 1px solid #dddddd'>unemployed</td><td style='border: 1px solid #dddddd'>1</td><td style='border: 1px solid #dddddd'>male</td><td style='border: 1px solid #dddddd'>none</td><td style='border: 1px solid #dddddd'>1</td><td style='border: 1px solid #dddddd'>savings_insurance</td><td style='border: 1px solid #dddddd'>19</td><td style='border: 1px solid #dddddd'>stores</td><td style='border: 1px solid #dddddd'>rent</td><td style='border: 1px solid #dddddd'>1</td><td style='border: 1px solid #dddddd'>skilled</td><td style='border: 1px solid #dddddd'>1</td><td style='border: 1px solid #dddddd'>none</td><td style='border: 1px solid #dddddd'>yes</td><td style='border: 1px solid #dddddd'>No Risk</td><td style='border: 1px solid #dddddd'>2019-06-06 20:55:34.901007+00:00</td></tr><tr><td style='border: 1px solid #dddddd'>0_to_200</td><td style='border: 1px solid #dddddd'>7</td><td style='border: 1px solid #dddddd'>all_credits_paid_back</td><td style='border: 1px solid #dddddd'>car_new</td><td style='border: 1px solid #dddddd'>250</td><td style='border: 1px solid #dddddd'>less_100</td><td style='border: 1px solid #dddddd'>unemployed</td><td style='border: 1px solid #dddddd'>1</td><td style='border: 1px solid #dddddd'>male</td><td style='border: 1px solid #dddddd'>none</td><td style='border: 1px solid #dddddd'>1</td><td style='border: 1px solid #dddddd'>real_estate</td><td style='border: 1px solid #dddddd'>19</td><td style='border: 1px solid #dddddd'>stores</td><td style='border: 1px solid #dddddd'>rent</td><td style='border: 1px solid #dddddd'>1</td><td style='border: 1px solid #dddddd'>skilled</td><td style='border: 1px solid #dddddd'>1</td><td style='border: 1px solid #dddddd'>none</td><td style='border: 1px solid #dddddd'>yes</td><td style='border: 1px solid #dddddd'>No Risk</td><td style='border: 1px solid #dddddd'>2019-06-06 20:55:34.901007+00:00</td></tr><tr><td style='border: 1px solid #dddddd'>0_to_200</td><td style='border: 1px solid #dddddd'>33</td><td style='border: 1px solid #dddddd'>credits_paid_to_date</td><td style='border: 1px solid #dddddd'>radio_tv</td><td style='border: 1px solid #dddddd'>3548</td><td style='border: 1px solid #dddddd'>100_to_500</td><td style='border: 1px solid #dddddd'>1_to_4</td><td style='border: 1px solid #dddddd'>3</td><td style='border: 1px solid #dddddd'>male</td><td style='border: 1px solid #dddddd'>none</td><td style='border: 1px solid #dddddd'>4</td><td style='border: 1px solid #dddddd'>car_other</td><td style='border: 1px solid #dddddd'>28</td><td style='border: 1px solid #dddddd'>none</td><td style='border: 1px solid #dddddd'>own</td><td style='border: 1px solid #dddddd'>2</td><td style='border: 1px solid #dddddd'>skilled</td><td style='border: 1px solid #dddddd'>1</td><td style='border: 1px solid #dddddd'>yes</td><td style='border: 1px solid #dddddd'>yes</td><td style='border: 1px solid #dddddd'>Risk</td><td style='border: 1px solid #dddddd'>2019-06-06 20:55:34.901007+00:00</td></tr><tr><td style='border: 1px solid #dddddd'>no_checking</td><td style='border: 1px solid #dddddd'>24</td><td style='border: 1px solid #dddddd'>prior_payments_delayed</td><td style='border: 1px solid #dddddd'>retraining</td><td style='border: 1px solid #dddddd'>4158</td><td style='border: 1px solid #dddddd'>100_to_500</td><td style='border: 1px solid #dddddd'>greater_7</td><td style='border: 1px solid #dddddd'>3</td><td style='border: 1px solid #dddddd'>female</td><td style='border: 1px solid #dddddd'>none</td><td style='border: 1px solid #dddddd'>2</td><td style='border: 1px solid #dddddd'>savings_insurance</td><td style='border: 1px solid #dddddd'>35</td><td style='border: 1px solid #dddddd'>stores</td><td style='border: 1px solid #dddddd'>own</td><td style='border: 1px solid #dddddd'>1</td><td style='border: 1px solid #dddddd'>unskilled</td><td style='border: 1px solid #dddddd'>2</td><td style='border: 1px solid #dddddd'>none</td><td style='border: 1px solid #dddddd'>yes</td><td style='border: 1px solid #dddddd'>Risk</td><td style='border: 1px solid #dddddd'>2019-06-06 20:55:34.901007+00:00</td></tr>\n",
       "            </table>\n",
       "        </body>\n",
       "        </HTML>"
      ],
      "text/plain": [
       "<IPython.core.display.HTML object>"
      ]
     },
     "metadata": {},
     "output_type": "display_data"
    }
   ],
   "source": [
    "subscription.feedback_logging.show_table()"
   ]
  },
  {
   "cell_type": "code",
   "execution_count": 42,
   "metadata": {
    "scrolled": true
   },
   "outputs": [
    {
     "name": "stdout",
     "output_type": "stream",
     "text": [
      "73922eb2-fd5b-410d-b754-4e755c5a8cd2\n",
      "Run status: initializing\n",
      "Run status: running\n",
      "Run status: completed\n"
     ]
    }
   ],
   "source": [
    "run_details = subscription.quality_monitoring.run()\n",
    "status = run_details['status']\n",
    "id = run_details['id']\n",
    "print(id)\n",
    "\n",
    "print(\"Run status: {}\".format(status))\n",
    "\n",
    "start_time = time.time()\n",
    "elapsed_time = 0\n",
    "\n",
    "while status != 'completed' and elapsed_time < 60:\n",
    "    time.sleep(10)\n",
    "    run_details = subscription.quality_monitoring.get_run_details(run_uid=id)\n",
    "    status = run_details['status']\n",
    "    elapsed_time = time.time() - start_time\n",
    "    print(\"Run status: {}\".format(status))"
   ]
  },
  {
   "cell_type": "code",
   "execution_count": 43,
   "metadata": {
    "scrolled": true
   },
   "outputs": [
    {
     "data": {
      "text/plain": [
       "{'evaluations': [{'stages': [{'name': 'Prerequisite Check',\n",
       "     'completed_at': '2019-06-06T20:55:46.439Z',\n",
       "     'started_at': '2019-06-06T20:55:46.095Z',\n",
       "     'id': 1,\n",
       "     'properties': {'training_columns': ['CheckingStatus',\n",
       "       'LoanDuration',\n",
       "       'CreditHistory',\n",
       "       'LoanPurpose',\n",
       "       'LoanAmount',\n",
       "       'ExistingSavings',\n",
       "       'EmploymentDuration',\n",
       "       'InstallmentPercent',\n",
       "       'Sex',\n",
       "       'OthersOnLoan',\n",
       "       'CurrentResidenceDuration',\n",
       "       'OwnsProperty',\n",
       "       'Age',\n",
       "       'InstallmentPlans',\n",
       "       'Housing',\n",
       "       'ExistingCreditsCount',\n",
       "       'Job',\n",
       "       'Dependents',\n",
       "       'Telephone',\n",
       "       'ForeignWorker',\n",
       "       'Risk'],\n",
       "      'input_columns': ['CheckingStatus',\n",
       "       'LoanDuration',\n",
       "       'CreditHistory',\n",
       "       'LoanPurpose',\n",
       "       'LoanAmount',\n",
       "       'ExistingSavings',\n",
       "       'EmploymentDuration',\n",
       "       'InstallmentPercent',\n",
       "       'Sex',\n",
       "       'OthersOnLoan',\n",
       "       'CurrentResidenceDuration',\n",
       "       'OwnsProperty',\n",
       "       'Age',\n",
       "       'InstallmentPlans',\n",
       "       'Housing',\n",
       "       'ExistingCreditsCount',\n",
       "       'Job',\n",
       "       'Dependents',\n",
       "       'Telephone',\n",
       "       'ForeignWorker']}},\n",
       "    {'name': 'Acquire Scorer',\n",
       "     'completed_at': '2019-06-06T20:55:46.449Z',\n",
       "     'started_at': '2019-06-06T20:55:46.448Z',\n",
       "     'id': 2,\n",
       "     'properties': {'scorer': {'guid': 'b2e271da-d91e-4166-9140-f384dcc5c36b'}}},\n",
       "    {'name': 'Score Batch',\n",
       "     'completed_at': '2019-06-06T20:55:56.776Z',\n",
       "     'started_at': '2019-06-06T20:55:46.468Z',\n",
       "     'id': 3,\n",
       "     'properties': {'batch_size': 98}},\n",
       "    {'name': 'Calculate probabilities for labels',\n",
       "     'completed_at': '2019-06-06T20:55:56.777Z',\n",
       "     'started_at': '2019-06-06T20:55:56.777Z',\n",
       "     'id': 4,\n",
       "     'properties': {'classified': {'\"No Risk\"': 0, '\"Risk\"': 1},\n",
       "      'not_classified': []}},\n",
       "    {'name': 'Calculate indexes',\n",
       "     'completed_at': '2019-06-06T20:55:56.777Z',\n",
       "     'started_at': '2019-06-06T20:55:56.777Z',\n",
       "     'id': 5,\n",
       "     'properties': {'true_label': 'Risk',\n",
       "      'indexes': {'\"No Risk\"': 0.0, '\"Risk\"': 1.0}}},\n",
       "    {'id': 6,\n",
       "     'name': 'Release Scorer',\n",
       "     'started_at': '2019-06-06T20:55:56.891Z',\n",
       "     'completed_at': '2019-06-06T20:55:56.893Z'}],\n",
       "   'asset_id': '71ad1147-0429-4ea2-8377-7f8102a2cdcd',\n",
       "   'flags': {'parallelism': 2,\n",
       "    'force': True,\n",
       "    'window_in_millis': 2000,\n",
       "    'model_type': ['original', 'recommended'],\n",
       "    'batch_size': 1000,\n",
       "    'fetch_size': 100},\n",
       "   'completed_at': '2019-06-06T20:55:56.890Z',\n",
       "   'service_binding_id': '4a7f62cc-f564-4144-8af4-b9f53533d2cf',\n",
       "   'problem_type': 'binary',\n",
       "   'started_at': '2019-06-06T20:55:46.095Z',\n",
       "   'measurement_id': '30d6758a-be60-4a6c-83f7-d2086778e5e3',\n",
       "   'rows_max': 10000,\n",
       "   'data_mart_id': 'f94e20cb-aa92-4636-97ce-08de6b714d02',\n",
       "   'id': '73922eb2-fd5b-410d-b754-4e755c5a8cd2',\n",
       "   'model_type': 'original',\n",
       "   'status': 'completed',\n",
       "   'rows_in_range': 98,\n",
       "   'threshold': 0.7,\n",
       "   'subscription_id': '71ad1147-0429-4ea2-8377-7f8102a2cdcd',\n",
       "   'output': {'metrics': {'true_positive_rate': 0.42424242424242425,\n",
       "     'area_under_roc': 0.6813519813519814,\n",
       "     'precision': 0.7777777777777778,\n",
       "     'f1_measure': 0.5490196078431373,\n",
       "     'accuracy': 0.7653061224489796,\n",
       "     'log_loss': 0.4451281412330724,\n",
       "     'false_positive_rate': 0.06153846153846154,\n",
       "     'area_under_pr': 0.6508108293822579,\n",
       "     'recall': 0.42424242424242425},\n",
       "    'confusion_matrix': {'labels': ['No Risk', 'Risk'],\n",
       "     'values': [[61.0, 4.0], [19.0, 14.0]],\n",
       "     'metrics_per_label': {'precision_per_label': [0.7625, 0.7777777777777778],\n",
       "      'recall_per_label': [0.9384615384615385, 0.42424242424242425],\n",
       "      'true_positive_rate_per_label': [0.9384615384615385,\n",
       "       0.42424242424242425],\n",
       "      'false_positive_rate_per_label': [0.5757575757575758,\n",
       "       0.06153846153846154]}}},\n",
       "   'rows_min': 50}]}"
      ]
     },
     "execution_count": 43,
     "metadata": {},
     "output_type": "execute_result"
    }
   ],
   "source": [
    "subscription.quality_monitoring.get_run_details()"
   ]
  },
  {
   "cell_type": "code",
   "execution_count": 44,
   "metadata": {
    "scrolled": true
   },
   "outputs": [
    {
     "data": {
      "text/html": [
       "<HTML>\n",
       "        <body>\n",
       "            <h3>QualityMetrics (binding_id=4a7f62cc-f564-4144-8af4-b9f53533d2cf, subscription_id=71ad1147-0429-4ea2-8377-7f8102a2cdcd)</h3>\n",
       "            <table style='border: 1px solid #dddddd; font-family: Courier'>\n",
       "                <th style='border: 1px solid #dddddd'>ts</th><th style='border: 1px solid #dddddd'>quality</th><th style='border: 1px solid #dddddd'>quality_threshold</th><th style='border: 1px solid #dddddd'>binding_id</th><th style='border: 1px solid #dddddd'>subscription_id</th><th style='border: 1px solid #dddddd'>deployment_id</th><th style='border: 1px solid #dddddd'>process</th><th style='border: 1px solid #dddddd'>asset_revision</th>\n",
       "                <tr><td style='border: 1px solid #dddddd'>2019-06-06 20:55:46.095000+00:00</td><td style='border: 1px solid #dddddd'>0.6813519813519814</td><td style='border: 1px solid #dddddd'>0.7</td><td style='border: 1px solid #dddddd'>4a7f62cc-f564-4144-8af4-b9f53533d2cf</td><td style='border: 1px solid #dddddd'>71ad1147-0429-4ea2-8377-7f8102a2cdcd</td><td style='border: 1px solid #dddddd'>5ab6d15c-6005-4dbd-b05d-f5f8f14a93f9</td><td style='border: 1px solid #dddddd'>Accuracy_evaluation_73922eb2-fd5b-410d-b754-4e755c5a8cd2</td><td style='border: 1px solid #dddddd'></td></tr>\n",
       "            </table>\n",
       "        </body>\n",
       "        </HTML>"
      ],
      "text/plain": [
       "<IPython.core.display.HTML object>"
      ]
     },
     "metadata": {},
     "output_type": "display_data"
    }
   ],
   "source": [
    "subscription.quality_monitoring.show_table()"
   ]
  },
  {
   "cell_type": "code",
   "execution_count": 45,
   "metadata": {
    "scrolled": true
   },
   "outputs": [
    {
     "data": {
      "text/plain": [
       "[[datetime.datetime(2019, 6, 6, 20, 55, 46, 95000, tzinfo=tzlocal()),\n",
       "  0.6813519813519814,\n",
       "  0.7,\n",
       "  '4a7f62cc-f564-4144-8af4-b9f53533d2cf',\n",
       "  '71ad1147-0429-4ea2-8377-7f8102a2cdcd',\n",
       "  '5ab6d15c-6005-4dbd-b05d-f5f8f14a93f9',\n",
       "  'Accuracy_evaluation_73922eb2-fd5b-410d-b754-4e755c5a8cd2',\n",
       "  '']]"
      ]
     },
     "execution_count": 45,
     "metadata": {},
     "output_type": "execute_result"
    }
   ],
   "source": [
    "subscription.quality_monitoring._get_data_from_rest_api()"
   ]
  },
  {
   "cell_type": "code",
   "execution_count": 46,
   "metadata": {
    "scrolled": true
   },
   "outputs": [
    {
     "data": {
      "text/plain": [
       "{'deployment_metrics': [{'subscription': {'subscription_id': '71ad1147-0429-4ea2-8377-7f8102a2cdcd',\n",
       "    'url': '/v1/data_marts/f94e20cb-aa92-4636-97ce-08de6b714d02/service_bindings/4a7f62cc-f564-4144-8af4-b9f53533d2cf/subscriptions/71ad1147-0429-4ea2-8377-7f8102a2cdcd'},\n",
       "   'asset': {'name': 'Spark German Risk Model - Final',\n",
       "    'asset_id': '71ad1147-0429-4ea2-8377-7f8102a2cdcd',\n",
       "    'url': 'https://us-south.ml.cloud.ibm.com/v3/wml_instances/4a7f62cc-f564-4144-8af4-b9f53533d2cf/published_models/71ad1147-0429-4ea2-8377-7f8102a2cdcd',\n",
       "    'asset_type': 'model',\n",
       "    'created_at': '2019-06-06T20:50:47.894Z'},\n",
       "   'deployment': {'name': 'Spark German Risk Deployment - Final',\n",
       "    'url': 'https://us-south.ml.cloud.ibm.com/v3/wml_instances/4a7f62cc-f564-4144-8af4-b9f53533d2cf/deployments/5ab6d15c-6005-4dbd-b05d-f5f8f14a93f9',\n",
       "    'deployment_type': 'online',\n",
       "    'scoring_endpoint': {'url': 'https://us-south.ml.cloud.ibm.com/v3/wml_instances/4a7f62cc-f564-4144-8af4-b9f53533d2cf/deployments/5ab6d15c-6005-4dbd-b05d-f5f8f14a93f9/online',\n",
       "     'request_headers': {'Content-Type': 'application/json'}},\n",
       "    'deployment_rn': '',\n",
       "    'created_at': '2019-06-06T20:50:47.941Z',\n",
       "    'deployment_id': '5ab6d15c-6005-4dbd-b05d-f5f8f14a93f9'},\n",
       "   'metrics': [{'metric_type': 'performance',\n",
       "     'value': {'records': 8, 'response_time': 228.0},\n",
       "     'issues': 0,\n",
       "     'timestamp': '2019-06-06T20:53:50.423Z'},\n",
       "    {'metric_type': 'quality',\n",
       "     'value': {'metrics': [{'name': 'true_positive_rate',\n",
       "        'value': 0.42424242424242425},\n",
       "       {'name': 'area_under_roc', 'value': 0.6813519813519814},\n",
       "       {'name': 'precision', 'value': 0.7777777777777778},\n",
       "       {'name': 'f1_measure', 'value': 0.5490196078431373},\n",
       "       {'name': 'accuracy', 'value': 0.7653061224489796},\n",
       "       {'name': 'log_loss', 'value': 0.4451281412330724},\n",
       "       {'name': 'false_positive_rate', 'value': 0.06153846153846154},\n",
       "       {'name': 'area_under_pr', 'value': 0.6508108293822579},\n",
       "       {'name': 'recall', 'value': 0.42424242424242425}],\n",
       "      'quality': 0.6813519813519814,\n",
       "      'threshold': 0.7},\n",
       "     'issues': 1,\n",
       "     'timestamp': '2019-06-06T20:55:46.095Z'}]}]}"
      ]
     },
     "execution_count": 46,
     "metadata": {},
     "output_type": "execute_result"
    }
   ],
   "source": [
    "ai_client.data_mart.get_deployment_metrics()"
   ]
  },
  {
   "cell_type": "markdown",
   "metadata": {},
   "source": [
    "## Fairness monitoring"
   ]
  },
  {
   "cell_type": "code",
   "execution_count": 47,
   "metadata": {
    "scrolled": true
   },
   "outputs": [],
   "source": [
    "subscription.fairness_monitoring.enable(\n",
    "            features=[\n",
    "                Feature(\"Sex\", majority=['male'], minority=['female'], threshold=0.95),\n",
    "                Feature(\"Age\", majority=[[26,75]], minority=[[18,25]], threshold=0.95)\n",
    "            ],\n",
    "            favourable_classes=['No Risk'],\n",
    "            unfavourable_classes=['Risk'],\n",
    "            min_records=1000,\n",
    "            training_data=pd_data\n",
    "        )"
   ]
  },
  {
   "cell_type": "markdown",
   "metadata": {},
   "source": [
    "## Score the model again now that monitoring is configured"
   ]
  },
  {
   "cell_type": "code",
   "execution_count": 48,
   "metadata": {},
   "outputs": [
    {
     "name": "stdout",
     "output_type": "stream",
     "text": [
      "rm: cannot remove 'german_credit_feed.json': No such file or directory\n",
      "--2019-06-06 20:57:00--  https://raw.githubusercontent.com/emartensibm/german-credit/master/german_credit_feed.json\n",
      "Resolving raw.githubusercontent.com (raw.githubusercontent.com)... 199.232.8.133\n",
      "Connecting to raw.githubusercontent.com (raw.githubusercontent.com)|199.232.8.133|:443... connected.\n",
      "HTTP request sent, awaiting response... 200 OK\n",
      "Length: 3076547 (2.9M) [text/plain]\n",
      "Saving to: 'german_credit_feed.json'\n",
      "\n",
      "german_credit_feed. 100%[===================>]   2.93M  --.-KB/s    in 0.1s    \n",
      "\n",
      "2019-06-06 20:57:00 (25.9 MB/s) - 'german_credit_feed.json' saved [3076547/3076547]\n",
      "\n"
     ]
    }
   ],
   "source": [
    "!rm german_credit_feed.json\n",
    "!d"
   ]
  },
  {
   "cell_type": "markdown",
   "metadata": {},
   "source": [
    "Score 1000 randomly chosen records"
   ]
  },
  {
   "cell_type": "code",
   "execution_count": 49,
   "metadata": {},
   "outputs": [
    {
     "name": "stdout",
     "output_type": "stream",
     "text": [
      "{'fields': ['CheckingStatus', 'LoanDuration', 'CreditHistory', 'LoanPurpose', 'LoanAmount', 'ExistingSavings', 'EmploymentDuration', 'InstallmentPercent', 'Sex', 'OthersOnLoan', 'CurrentResidenceDuration', 'OwnsProperty', 'Age', 'InstallmentPlans', 'Housing', 'ExistingCreditsCount', 'Job', 'Dependents', 'Telephone', 'ForeignWorker', 'CheckingStatus_IX', 'CreditHistory_IX', 'EmploymentDuration_IX', 'ExistingSavings_IX', 'ForeignWorker_IX', 'Housing_IX', 'InstallmentPlans_IX', 'Job_IX', 'LoanPurpose_IX', 'OthersOnLoan_IX', 'OwnsProperty_IX', 'Sex_IX', 'Telephone_IX', 'features', 'rawPrediction', 'probability', 'prediction', 'predictedLabel'], 'values': [['0_to_200', 30, 'credits_paid_to_date', 'appliances', 3050, '100_to_500', '1_to_4', 3, 'female', 'none', 2, 'car_other', 33, 'none', 'rent', 2, 'skilled', 1, 'none', 'yes', 2.0, 1.0, 0.0, 1.0, 0.0, 1.0, 0.0, 0.0, 4.0, 0.0, 1.0, 1.0, 0.0, [2.0, 1.0, 4.0, 1.0, 0.0, 1.0, 0.0, 1.0, 0.0, 1.0, 0.0, 0.0, 0.0, 30.0, 3050.0, 3.0, 2.0, 30.0, 33.0, 2.0, 1.0], [13.797218771803568, 6.202781228196431], [0.6898609385901784, 0.31013906140982156], 0.0, 'No Risk'], ['0_to_200', 25, 'outstanding_credit', 'car_used', 3257, '100_to_500', 'greater_7', 3, 'male', 'none', 2, 'car_other', 39, 'stores', 'own', 1, 'skilled', 1, 'none', 'yes', 2.0, 2.0, 2.0, 1.0, 0.0, 0.0, 1.0, 0.0, 2.0, 0.0, 1.0, 0.0, 0.0, [2.0, 2.0, 2.0, 1.0, 2.0, 0.0, 0.0, 1.0, 1.0, 0.0, 0.0, 0.0, 0.0, 25.0, 3257.0, 3.0, 2.0, 25.0, 39.0, 1.0, 1.0], [13.311386770615911, 6.688613229384093], [0.6655693385307955, 0.3344306614692046], 0.0, 'No Risk'], ['no_checking', 41, 'prior_payments_delayed', 'repairs', 9933, 'unknown', '4_to_7', 4, 'male', 'co-applicant', 5, 'unknown', 48, 'none', 'own', 2, 'skilled', 2, 'yes', 'yes', 0.0, 0.0, 1.0, 4.0, 0.0, 0.0, 0.0, 0.0, 5.0, 1.0, 3.0, 0.0, 1.0, [0.0, 0.0, 5.0, 4.0, 1.0, 0.0, 1.0, 3.0, 0.0, 0.0, 0.0, 1.0, 0.0, 41.0, 9933.0, 4.0, 5.0, 41.0, 48.0, 2.0, 2.0], [4.300126117694974, 15.699873882305027], [0.21500630588474873, 0.7849936941152513], 1.0, 'Risk'], ['less_0', 7, 'all_credits_paid_back', 'car_used', 250, 'less_100', 'less_1', 1, 'female', 'none', 2, 'savings_insurance', 24, 'stores', 'own', 1, 'skilled', 1, 'none', 'yes', 1.0, 3.0, 3.0, 0.0, 0.0, 0.0, 1.0, 0.0, 2.0, 0.0, 0.0, 1.0, 0.0, [1.0, 3.0, 2.0, 0.0, 3.0, 1.0, 0.0, 0.0, 1.0, 0.0, 0.0, 0.0, 0.0, 7.0, 250.0, 1.0, 2.0, 7.0, 24.0, 1.0, 1.0], [19.36007122422073, 0.639928775779273], [0.9680035612110365, 0.031996438788963646], 0.0, 'No Risk'], ['greater_200', 31, 'prior_payments_delayed', 'business', 4197, '100_to_500', '4_to_7', 4, 'male', 'none', 4, 'savings_insurance', 37, 'none', 'own', 2, 'skilled', 1, 'none', 'yes', 3.0, 0.0, 1.0, 1.0, 0.0, 0.0, 0.0, 0.0, 9.0, 0.0, 0.0, 0.0, 0.0, [21, [0, 2, 3, 4, 13, 14, 15, 16, 17, 18, 19, 20], [3.0, 9.0, 1.0, 1.0, 31.0, 4197.0, 4.0, 4.0, 31.0, 37.0, 2.0, 1.0]], [12.54359084912653, 7.45640915087347], [0.6271795424563266, 0.3728204575436735], 0.0, 'No Risk'], ['0_to_200', 4, 'all_credits_paid_back', 'car_used', 1370, 'less_100', '1_to_4', 1, 'female', 'none', 1, 'real_estate', 19, 'none', 'own', 1, 'skilled', 1, 'none', 'yes', 2.0, 3.0, 0.0, 0.0, 0.0, 0.0, 0.0, 0.0, 2.0, 0.0, 2.0, 1.0, 0.0, [2.0, 3.0, 2.0, 0.0, 0.0, 1.0, 0.0, 2.0, 0.0, 0.0, 0.0, 0.0, 0.0, 4.0, 1370.0, 1.0, 1.0, 4.0, 19.0, 1.0, 1.0], [19.110678618039792, 0.8893213819602077], [0.9555339309019896, 0.04446606909801039], 0.0, 'No Risk'], ['less_0', 20, 'credits_paid_to_date', 'car_new', 2149, '100_to_500', '1_to_4', 3, 'male', 'none', 1, 'car_other', 31, 'none', 'own', 1, 'skilled', 1, 'none', 'yes', 1.0, 1.0, 0.0, 1.0, 0.0, 0.0, 0.0, 0.0, 0.0, 0.0, 1.0, 0.0, 0.0, [21, [0, 1, 3, 7, 13, 14, 15, 16, 17, 18, 19, 20], [1.0, 1.0, 1.0, 1.0, 20.0, 2149.0, 3.0, 1.0, 20.0, 31.0, 1.0, 1.0]], [15.739261091453148, 4.260738908546851], [0.7869630545726574, 0.21303694542734256], 0.0, 'No Risk'], ['less_0', 4, 'all_credits_paid_back', 'car_new', 250, 'less_100', 'unemployed', 1, 'male', 'none', 1, 'real_estate', 19, 'bank', 'rent', 1, 'unskilled', 1, 'none', 'yes', 1.0, 3.0, 4.0, 0.0, 0.0, 1.0, 2.0, 1.0, 0.0, 0.0, 2.0, 0.0, 0.0, [1.0, 3.0, 0.0, 0.0, 4.0, 0.0, 0.0, 2.0, 2.0, 1.0, 1.0, 0.0, 0.0, 4.0, 250.0, 1.0, 1.0, 4.0, 19.0, 1.0, 1.0], [19.705858602842344, 0.29414139715765747], [0.9852929301421172, 0.014707069857882874], 0.0, 'No Risk'], ['less_0', 14, 'all_credits_paid_back', 'car_new', 250, '100_to_500', 'less_1', 1, 'female', 'none', 1, 'real_estate', 24, 'stores', 'rent', 2, 'skilled', 1, 'none', 'yes', 1.0, 3.0, 3.0, 1.0, 0.0, 1.0, 1.0, 0.0, 0.0, 0.0, 2.0, 1.0, 0.0, [1.0, 3.0, 0.0, 1.0, 3.0, 1.0, 0.0, 2.0, 1.0, 1.0, 0.0, 0.0, 0.0, 14.0, 250.0, 1.0, 1.0, 14.0, 24.0, 2.0, 1.0], [18.6153250585163, 1.3846749414837007], [0.9307662529258149, 0.06923374707418503], 0.0, 'No Risk'], ['less_0', 7, 'no_credits', 'car_new', 250, 'less_100', 'unemployed', 1, 'female', 'co-applicant', 1, 'real_estate', 20, 'stores', 'rent', 1, 'skilled', 1, 'none', 'yes', 1.0, 4.0, 4.0, 0.0, 0.0, 1.0, 1.0, 0.0, 0.0, 1.0, 2.0, 1.0, 0.0, [1.0, 4.0, 0.0, 0.0, 4.0, 1.0, 1.0, 2.0, 1.0, 1.0, 0.0, 0.0, 0.0, 7.0, 250.0, 1.0, 1.0, 7.0, 20.0, 1.0, 1.0], [19.705858602842344, 0.29414139715765747], [0.9852929301421172, 0.014707069857882874], 0.0, 'No Risk'], ['no_checking', 43, 'outstanding_credit', 'education', 7926, 'greater_1000', 'greater_7', 4, 'male', 'co-applicant', 5, 'car_other', 44, 'none', 'free', 2, 'skilled', 1, 'yes', 'yes', 0.0, 2.0, 2.0, 3.0, 0.0, 2.0, 0.0, 0.0, 7.0, 1.0, 1.0, 0.0, 1.0, [0.0, 2.0, 7.0, 3.0, 2.0, 0.0, 1.0, 1.0, 0.0, 2.0, 0.0, 1.0, 0.0, 43.0, 7926.0, 4.0, 5.0, 43.0, 44.0, 2.0, 1.0], [2.8619967047377988, 17.138003295262198], [0.14309983523688996, 0.85690016476311], 1.0, 'Risk'], ['less_0', 14, 'prior_payments_delayed', 'car_new', 250, 'greater_1000', '4_to_7', 1, 'male', 'none', 3, 'car_other', 31, 'stores', 'rent', 1, 'skilled', 2, 'none', 'yes', 1.0, 0.0, 1.0, 3.0, 0.0, 1.0, 1.0, 0.0, 0.0, 0.0, 1.0, 0.0, 0.0, [1.0, 0.0, 0.0, 3.0, 1.0, 0.0, 0.0, 1.0, 1.0, 1.0, 0.0, 0.0, 0.0, 14.0, 250.0, 1.0, 3.0, 14.0, 31.0, 1.0, 2.0], [15.969945774964293, 4.030054225035708], [0.7984972887482147, 0.2015027112517854], 0.0, 'No Risk'], ['0_to_200', 14, 'credits_paid_to_date', 'furniture', 2985, 'less_100', 'unemployed', 2, 'female', 'none', 3, 'real_estate', 29, 'none', 'own', 1, 'management_self-employed', 1, 'none', 'yes', 2.0, 1.0, 4.0, 0.0, 0.0, 0.0, 0.0, 2.0, 1.0, 0.0, 2.0, 1.0, 0.0, [2.0, 1.0, 1.0, 0.0, 4.0, 1.0, 0.0, 2.0, 0.0, 0.0, 2.0, 0.0, 0.0, 14.0, 2985.0, 2.0, 3.0, 14.0, 29.0, 1.0, 1.0], [18.479548900536805, 1.5204510994631941], [0.9239774450268403, 0.07602255497315971], 0.0, 'No Risk'], ['no_checking', 27, 'prior_payments_delayed', 'car_used', 5675, '100_to_500', '4_to_7', 4, 'male', 'none', 4, 'car_other', 43, 'none', 'own', 3, 'skilled', 1, 'yes', 'yes', 0.0, 0.0, 1.0, 1.0, 0.0, 0.0, 0.0, 0.0, 2.0, 0.0, 1.0, 0.0, 1.0, [0.0, 0.0, 2.0, 1.0, 1.0, 0.0, 0.0, 1.0, 0.0, 0.0, 0.0, 1.0, 0.0, 27.0, 5675.0, 4.0, 4.0, 27.0, 43.0, 3.0, 1.0], [8.528452864903976, 11.471547135096023], [0.4264226432451988, 0.5735773567548011], 1.0, 'Risk'], ['less_0', 8, 'prior_payments_delayed', 'furniture', 1822, 'less_100', '1_to_4', 3, 'female', 'none', 3, 'car_other', 35, 'stores', 'own', 1, 'unskilled', 1, 'none', 'yes', 1.0, 0.0, 0.0, 0.0, 0.0, 0.0, 1.0, 1.0, 1.0, 0.0, 1.0, 1.0, 0.0, [1.0, 0.0, 1.0, 0.0, 0.0, 1.0, 0.0, 1.0, 1.0, 0.0, 1.0, 0.0, 0.0, 8.0, 1822.0, 3.0, 3.0, 8.0, 35.0, 1.0, 1.0], [16.37623050215443, 3.623769497845566], [0.8188115251077217, 0.18118847489227832], 0.0, 'No Risk'], ['0_to_200', 35, 'outstanding_credit', 'appliances', 832, '500_to_1000', 'less_1', 3, 'male', 'none', 4, 'real_estate', 30, 'bank', 'rent', 1, 'unskilled', 1, 'none', 'yes', 2.0, 2.0, 3.0, 2.0, 0.0, 1.0, 2.0, 1.0, 4.0, 0.0, 2.0, 0.0, 0.0, [2.0, 2.0, 4.0, 2.0, 3.0, 0.0, 0.0, 2.0, 2.0, 1.0, 1.0, 0.0, 0.0, 35.0, 832.0, 3.0, 4.0, 35.0, 30.0, 1.0, 1.0], [15.4663280049439, 4.5336719950561], [0.7733164002471951, 0.226683599752805], 0.0, 'No Risk'], ['0_to_200', 15, 'credits_paid_to_date', 'vacation', 5814, '500_to_1000', '1_to_4', 4, 'male', 'none', 4, 'car_other', 19, 'none', 'own', 1, 'skilled', 1, 'none', 'yes', 2.0, 1.0, 0.0, 2.0, 0.0, 0.0, 0.0, 0.0, 6.0, 0.0, 1.0, 0.0, 0.0, [2.0, 1.0, 6.0, 2.0, 0.0, 0.0, 0.0, 1.0, 0.0, 0.0, 0.0, 0.0, 0.0, 15.0, 5814.0, 4.0, 4.0, 15.0, 19.0, 1.0, 1.0], [15.947528047649698, 4.052471952350303], [0.7973764023824849, 0.20262359761751517], 0.0, 'No Risk'], ['no_checking', 33, 'all_credits_paid_back', 'business', 6638, 'less_100', 'less_1', 3, 'male', 'none', 3, 'savings_insurance', 44, 'none', 'own', 1, 'management_self-employed', 1, 'none', 'yes', 0.0, 3.0, 3.0, 0.0, 0.0, 0.0, 0.0, 2.0, 9.0, 0.0, 0.0, 0.0, 0.0, [21, [1, 2, 4, 10, 13, 14, 15, 16, 17, 18, 19, 20], [3.0, 9.0, 3.0, 2.0, 33.0, 6638.0, 3.0, 3.0, 33.0, 44.0, 1.0, 1.0]], [13.717821923865532, 6.282178076134464], [0.6858910961932767, 0.31410890380672324], 0.0, 'No Risk'], ['no_checking', 25, 'prior_payments_delayed', 'car_used', 3278, '500_to_1000', 'greater_7', 4, 'male', 'none', 3, 'car_other', 46, 'none', 'own', 1, 'skilled', 1, 'none', 'yes', 0.0, 0.0, 2.0, 2.0, 0.0, 0.0, 0.0, 0.0, 2.0, 0.0, 1.0, 0.0, 0.0, [21, [2, 3, 4, 7, 13, 14, 15, 16, 17, 18, 19, 20], [2.0, 2.0, 2.0, 1.0, 25.0, 3278.0, 4.0, 3.0, 25.0, 46.0, 1.0, 1.0]], [8.848516321753758, 11.151483678246242], [0.4424258160876879, 0.5575741839123121], 1.0, 'Risk'], ['no_checking', 28, 'outstanding_credit', 'furniture', 5806, '500_to_1000', 'greater_7', 4, 'female', 'none', 3, 'unknown', 55, 'stores', 'own', 1, 'unskilled', 1, 'yes', 'yes', 0.0, 2.0, 2.0, 2.0, 0.0, 0.0, 1.0, 1.0, 1.0, 0.0, 3.0, 1.0, 1.0, [0.0, 2.0, 1.0, 2.0, 2.0, 1.0, 0.0, 3.0, 1.0, 0.0, 1.0, 1.0, 0.0, 28.0, 5806.0, 4.0, 3.0, 28.0, 55.0, 1.0, 1.0], [7.210855545003589, 12.78914445499641], [0.36054277725017947, 0.6394572227498205], 1.0, 'Risk'], ['0_to_200', 4, 'all_credits_paid_back', 'furniture', 3511, 'less_100', 'less_1', 2, 'female', 'none', 2, 'real_estate', 31, 'none', 'own', 1, 'management_self-employed', 1, 'none', 'yes', 2.0, 3.0, 3.0, 0.0, 0.0, 0.0, 0.0, 2.0, 1.0, 0.0, 2.0, 1.0, 0.0, [2.0, 3.0, 1.0, 0.0, 3.0, 1.0, 0.0, 2.0, 0.0, 0.0, 2.0, 0.0, 0.0, 4.0, 3511.0, 2.0, 2.0, 4.0, 31.0, 1.0, 1.0], [19.347223674303134, 0.6527763256968706], [0.9673611837151566, 0.032638816284843525], 0.0, 'No Risk'], ['no_checking', 21, 'credits_paid_to_date', 'car_used', 1309, '100_to_500', 'less_1', 3, 'male', 'none', 4, 'real_estate', 28, 'none', 'free', 2, 'management_self-employed', 2, 'yes', 'yes', 0.0, 1.0, 3.0, 1.0, 0.0, 2.0, 0.0, 2.0, 2.0, 0.0, 2.0, 0.0, 1.0, [0.0, 1.0, 2.0, 1.0, 3.0, 0.0, 0.0, 2.0, 0.0, 2.0, 2.0, 1.0, 0.0, 21.0, 1309.0, 3.0, 4.0, 21.0, 28.0, 2.0, 2.0], [15.980241433241789, 4.019758566758211], [0.7990120716620894, 0.20098792833791057], 0.0, 'No Risk'], ['no_checking', 29, 'outstanding_credit', 'education', 2847, '500_to_1000', '4_to_7', 4, 'male', 'none', 3, 'savings_insurance', 39, 'none', 'own', 1, 'skilled', 1, 'yes', 'yes', 0.0, 2.0, 1.0, 2.0, 0.0, 0.0, 0.0, 0.0, 7.0, 0.0, 0.0, 0.0, 1.0, [0.0, 2.0, 7.0, 2.0, 1.0, 0.0, 0.0, 0.0, 0.0, 0.0, 0.0, 1.0, 0.0, 29.0, 2847.0, 4.0, 3.0, 29.0, 39.0, 1.0, 1.0], [11.271588342309512, 8.728411657690488], [0.5635794171154755, 0.4364205828845244], 0.0, 'No Risk'], ['less_0', 4, 'all_credits_paid_back', 'car_used', 296, 'less_100', 'less_1', 1, 'female', 'none', 1, 'real_estate', 19, 'none', 'rent', 1, 'management_self-employed', 1, 'none', 'yes', 1.0, 3.0, 3.0, 0.0, 0.0, 1.0, 0.0, 2.0, 2.0, 0.0, 2.0, 1.0, 0.0, [1.0, 3.0, 2.0, 0.0, 3.0, 1.0, 0.0, 2.0, 0.0, 1.0, 2.0, 0.0, 0.0, 4.0, 296.0, 1.0, 1.0, 4.0, 19.0, 1.0, 1.0], [19.682384424438588, 0.31761557556141334], [0.9841192212219294, 0.01588077877807067], 0.0, 'No Risk'], ['less_0', 16, 'prior_payments_delayed', 'furniture', 5060, 'less_100', '4_to_7', 3, 'male', 'none', 3, 'car_other', 35, 'none', 'own', 1, 'skilled', 2, 'yes', 'yes', 1.0, 0.0, 1.0, 0.0, 0.0, 0.0, 0.0, 0.0, 1.0, 0.0, 1.0, 0.0, 1.0, [1.0, 0.0, 1.0, 0.0, 1.0, 0.0, 0.0, 1.0, 0.0, 0.0, 0.0, 1.0, 0.0, 16.0, 5060.0, 3.0, 3.0, 16.0, 35.0, 1.0, 2.0], [13.462157215447512, 6.5378427845524865], [0.6731078607723756, 0.32689213922762433], 0.0, 'No Risk'], ['no_checking', 34, 'outstanding_credit', 'appliances', 9955, '500_to_1000', 'greater_7', 4, 'male', 'co-applicant', 5, 'unknown', 53, 'none', 'free', 3, 'skilled', 2, 'yes', 'yes', 0.0, 2.0, 2.0, 2.0, 0.0, 2.0, 0.0, 0.0, 4.0, 1.0, 3.0, 0.0, 1.0, [0.0, 2.0, 4.0, 2.0, 2.0, 0.0, 1.0, 3.0, 0.0, 2.0, 0.0, 1.0, 0.0, 34.0, 9955.0, 4.0, 5.0, 34.0, 53.0, 3.0, 2.0], [1.461871257621741, 18.538128742378262], [0.07309356288108704, 0.926906437118913], 1.0, 'Risk'], ['no_checking', 42, 'outstanding_credit', 'repairs', 4771, 'unknown', 'greater_7', 5, 'male', 'co-applicant', 5, 'unknown', 52, 'stores', 'own', 2, 'unskilled', 2, 'yes', 'no', 0.0, 2.0, 2.0, 4.0, 1.0, 0.0, 1.0, 1.0, 5.0, 1.0, 3.0, 0.0, 1.0, [0.0, 2.0, 5.0, 4.0, 2.0, 0.0, 1.0, 3.0, 1.0, 0.0, 1.0, 1.0, 1.0, 42.0, 4771.0, 5.0, 5.0, 42.0, 52.0, 2.0, 2.0], [2.222037341140677, 17.777962658859323], [0.11110186705703384, 0.8888981329429662], 1.0, 'Risk'], ['0_to_200', 14, 'credits_paid_to_date', 'appliances', 2601, 'less_100', '4_to_7', 3, 'male', 'none', 2, 'savings_insurance', 41, 'none', 'rent', 1, 'management_self-employed', 1, 'none', 'yes', 2.0, 1.0, 1.0, 0.0, 0.0, 1.0, 0.0, 2.0, 4.0, 0.0, 0.0, 0.0, 0.0, [2.0, 1.0, 4.0, 0.0, 1.0, 0.0, 0.0, 0.0, 0.0, 1.0, 2.0, 0.0, 0.0, 14.0, 2601.0, 3.0, 2.0, 14.0, 41.0, 1.0, 1.0], [16.291959340756122, 3.7080406592438777], [0.8145979670378061, 0.18540203296219387], 0.0, 'No Risk'], ['less_0', 26, 'prior_payments_delayed', 'car_used', 1291, '100_to_500', '1_to_4', 2, 'male', 'none', 3, 'savings_insurance', 30, 'stores', 'own', 1, 'skilled', 1, 'yes', 'yes', 1.0, 0.0, 0.0, 1.0, 0.0, 0.0, 1.0, 0.0, 2.0, 0.0, 0.0, 0.0, 1.0, [1.0, 0.0, 2.0, 1.0, 0.0, 0.0, 0.0, 0.0, 1.0, 0.0, 0.0, 1.0, 0.0, 26.0, 1291.0, 2.0, 3.0, 26.0, 30.0, 1.0, 1.0], [14.26695172884578, 5.733048271154222], [0.7133475864422889, 0.28665241355771104], 0.0, 'No Risk'], ['0_to_200', 23, 'credits_paid_to_date', 'car_new', 858, 'greater_1000', 'greater_7', 3, 'male', 'none', 2, 'real_estate', 27, 'none', 'own', 1, 'skilled', 1, 'none', 'yes', 2.0, 1.0, 2.0, 3.0, 0.0, 0.0, 0.0, 0.0, 0.0, 0.0, 2.0, 0.0, 0.0, [2.0, 1.0, 0.0, 3.0, 2.0, 0.0, 0.0, 2.0, 0.0, 0.0, 0.0, 0.0, 0.0, 23.0, 858.0, 3.0, 2.0, 23.0, 27.0, 1.0, 1.0], [16.427648298008332, 3.57235170199167], [0.8213824149004164, 0.17861758509958348], 0.0, 'No Risk'], ['greater_200', 40, 'outstanding_credit', 'appliances', 6569, 'unknown', 'greater_7', 5, 'male', 'co-applicant', 4, 'unknown', 48, 'none', 'free', 2, 'skilled', 1, 'yes', 'yes', 3.0, 2.0, 2.0, 4.0, 0.0, 2.0, 0.0, 0.0, 4.0, 1.0, 3.0, 0.0, 1.0, [3.0, 2.0, 4.0, 4.0, 2.0, 0.0, 1.0, 3.0, 0.0, 2.0, 0.0, 1.0, 0.0, 40.0, 6569.0, 5.0, 4.0, 40.0, 48.0, 2.0, 1.0], [3.4147020917636595, 16.585297908236342], [0.17073510458818297, 0.8292648954118171], 1.0, 'Risk'], ['greater_200', 24, 'outstanding_credit', 'radio_tv', 3881, '100_to_500', 'greater_7', 4, 'male', 'none', 4, 'savings_insurance', 45, 'none', 'free', 2, 'skilled', 1, 'yes', 'yes', 3.0, 2.0, 2.0, 1.0, 0.0, 2.0, 0.0, 0.0, 3.0, 0.0, 0.0, 0.0, 1.0, [3.0, 2.0, 3.0, 1.0, 2.0, 0.0, 0.0, 0.0, 0.0, 2.0, 0.0, 1.0, 0.0, 24.0, 3881.0, 4.0, 4.0, 24.0, 45.0, 2.0, 1.0], [10.298716161195294, 9.701283838804708], [0.5149358080597647, 0.48506419194023537], 0.0, 'No Risk'], ['less_0', 36, 'credits_paid_to_date', 'car_used', 2829, 'less_100', '4_to_7', 3, 'male', 'none', 1, 'savings_insurance', 26, 'stores', 'free', 1, 'skilled', 2, 'none', 'yes', 1.0, 1.0, 1.0, 0.0, 0.0, 2.0, 1.0, 0.0, 2.0, 0.0, 0.0, 0.0, 0.0, [1.0, 1.0, 2.0, 0.0, 1.0, 0.0, 0.0, 0.0, 1.0, 2.0, 0.0, 0.0, 0.0, 36.0, 2829.0, 3.0, 1.0, 36.0, 26.0, 1.0, 2.0], [15.192231547043676, 4.807768452956325], [0.7596115773521838, 0.24038842264781626], 0.0, 'No Risk'], ['no_checking', 19, 'outstanding_credit', 'car_used', 2977, 'unknown', '1_to_4', 3, 'male', 'none', 4, 'savings_insurance', 35, 'bank', 'rent', 1, 'unemployed', 1, 'none', 'yes', 0.0, 2.0, 0.0, 4.0, 0.0, 1.0, 2.0, 3.0, 2.0, 0.0, 0.0, 0.0, 0.0, [0.0, 2.0, 2.0, 4.0, 0.0, 0.0, 0.0, 0.0, 2.0, 1.0, 3.0, 0.0, 0.0, 19.0, 2977.0, 3.0, 4.0, 19.0, 35.0, 1.0, 1.0], [13.542973183615555, 6.4570268163844435], [0.6771486591807777, 0.3228513408192222], 0.0, 'No Risk'], ['greater_200', 25, 'credits_paid_to_date', 'car_used', 4203, '100_to_500', '4_to_7', 3, 'female', 'co-applicant', 3, 'savings_insurance', 40, 'none', 'own', 2, 'skilled', 1, 'yes', 'yes', 3.0, 1.0, 1.0, 1.0, 0.0, 0.0, 0.0, 0.0, 2.0, 1.0, 0.0, 1.0, 1.0, [3.0, 1.0, 2.0, 1.0, 1.0, 1.0, 1.0, 0.0, 0.0, 0.0, 0.0, 1.0, 0.0, 25.0, 4203.0, 3.0, 3.0, 25.0, 40.0, 2.0, 1.0], [12.098258576824236, 7.901741423175768], [0.6049129288412117, 0.3950870711587883], 0.0, 'No Risk'], ['less_0', 15, 'credits_paid_to_date', 'car_new', 1539, 'less_100', '1_to_4', 2, 'male', 'none', 1, 'car_other', 42, 'none', 'rent', 1, 'skilled', 1, 'none', 'yes', 1.0, 1.0, 0.0, 0.0, 0.0, 1.0, 0.0, 0.0, 0.0, 0.0, 1.0, 0.0, 0.0, [21, [0, 1, 7, 9, 13, 14, 15, 16, 17, 18, 19, 20], [1.0, 1.0, 1.0, 1.0, 15.0, 1539.0, 2.0, 1.0, 15.0, 42.0, 1.0, 1.0]], [16.2714871772052, 3.7285128227948], [0.81357435886026, 0.18642564113974], 0.0, 'No Risk'], ['less_0', 4, 'all_credits_paid_back', 'car_new', 457, 'less_100', '1_to_4', 2, 'female', 'none', 2, 'real_estate', 34, 'none', 'own', 1, 'skilled', 1, 'none', 'yes', 1.0, 3.0, 0.0, 0.0, 0.0, 0.0, 0.0, 0.0, 0.0, 0.0, 2.0, 1.0, 0.0, [21, [0, 1, 5, 7, 13, 14, 15, 16, 17, 18, 19, 20], [1.0, 3.0, 1.0, 2.0, 4.0, 457.0, 2.0, 2.0, 4.0, 34.0, 1.0, 1.0]], [18.833363043481864, 1.1666369565181345], [0.9416681521740932, 0.058331847825906724], 0.0, 'No Risk'], ['no_checking', 26, 'prior_payments_delayed', 'car_used', 5118, '500_to_1000', '1_to_4', 4, 'male', 'none', 4, 'unknown', 44, 'none', 'own', 2, 'management_self-employed', 1, 'yes', 'yes', 0.0, 0.0, 0.0, 2.0, 0.0, 0.0, 0.0, 2.0, 2.0, 0.0, 3.0, 0.0, 1.0, [0.0, 0.0, 2.0, 2.0, 0.0, 0.0, 0.0, 3.0, 0.0, 0.0, 2.0, 1.0, 0.0, 26.0, 5118.0, 4.0, 4.0, 26.0, 44.0, 2.0, 1.0], [10.368562763788404, 9.631437236211594], [0.5184281381894202, 0.4815718618105797], 0.0, 'No Risk'], ['0_to_200', 8, 'all_credits_paid_back', 'car_new', 250, 'less_100', '1_to_4', 3, 'female', 'co-applicant', 1, 'savings_insurance', 25, 'bank', 'own', 1, 'unemployed', 1, 'yes', 'yes', 2.0, 3.0, 0.0, 0.0, 0.0, 0.0, 2.0, 3.0, 0.0, 1.0, 0.0, 1.0, 1.0, [2.0, 3.0, 0.0, 0.0, 0.0, 1.0, 1.0, 0.0, 2.0, 0.0, 3.0, 1.0, 0.0, 8.0, 250.0, 3.0, 1.0, 8.0, 25.0, 1.0, 1.0], [17.642705685479687, 2.357294314520315], [0.8821352842739844, 0.11786471572601576], 0.0, 'No Risk'], ['no_checking', 20, 'credits_paid_to_date', 'car_new', 1729, '100_to_500', 'less_1', 2, 'female', 'none', 2, 'savings_insurance', 25, 'none', 'own', 1, 'skilled', 1, 'none', 'yes', 0.0, 1.0, 3.0, 1.0, 0.0, 0.0, 0.0, 0.0, 0.0, 0.0, 0.0, 1.0, 0.0, [21, [1, 3, 4, 5, 13, 14, 15, 16, 17, 18, 19, 20], [1.0, 1.0, 3.0, 1.0, 20.0, 1729.0, 2.0, 2.0, 20.0, 25.0, 1.0, 1.0]], [17.192580551998525, 2.8074194480014776], [0.8596290275999261, 0.14037097240007385], 0.0, 'No Risk'], ['less_0', 21, 'prior_payments_delayed', 'education', 3358, 'less_100', 'greater_7', 3, 'female', 'none', 1, 'car_other', 34, 'stores', 'free', 1, 'skilled', 1, 'none', 'yes', 1.0, 0.0, 2.0, 0.0, 0.0, 2.0, 1.0, 0.0, 7.0, 0.0, 1.0, 1.0, 0.0, [1.0, 0.0, 7.0, 0.0, 2.0, 1.0, 0.0, 1.0, 1.0, 2.0, 0.0, 0.0, 0.0, 21.0, 3358.0, 3.0, 1.0, 21.0, 34.0, 1.0, 1.0], [14.81664109462044, 5.183358905379563], [0.7408320547310219, 0.2591679452689781], 0.0, 'No Risk'], ['no_checking', 46, 'outstanding_credit', 'appliances', 5645, '500_to_1000', 'greater_7', 4, 'male', 'guarantor', 3, 'savings_insurance', 55, 'none', 'free', 2, 'skilled', 1, 'yes', 'yes', 0.0, 2.0, 2.0, 2.0, 0.0, 2.0, 0.0, 0.0, 4.0, 2.0, 0.0, 0.0, 1.0, [0.0, 2.0, 4.0, 2.0, 2.0, 0.0, 2.0, 0.0, 0.0, 2.0, 0.0, 1.0, 0.0, 46.0, 5645.0, 4.0, 3.0, 46.0, 55.0, 2.0, 1.0], [3.149215051518121, 16.850784948481877], [0.15746075257590605, 0.8425392474240938], 1.0, 'Risk'], ['0_to_200', 29, 'credits_paid_to_date', 'radio_tv', 3563, 'less_100', '1_to_4', 2, 'male', 'none', 1, 'real_estate', 26, 'none', 'own', 1, 'skilled', 1, 'none', 'yes', 2.0, 1.0, 0.0, 0.0, 0.0, 0.0, 0.0, 0.0, 3.0, 0.0, 2.0, 0.0, 0.0, [21, [0, 1, 2, 7, 13, 14, 15, 16, 17, 18, 19, 20], [2.0, 1.0, 3.0, 2.0, 29.0, 3563.0, 2.0, 1.0, 29.0, 26.0, 1.0, 1.0]], [16.064038971754975, 3.9359610282450257], [0.8032019485877487, 0.1967980514122513], 0.0, 'No Risk'], ['less_0', 4, 'all_credits_paid_back', 'car_new', 955, 'less_100', 'less_1', 1, 'female', 'none', 1, 'real_estate', 22, 'none', 'rent', 1, 'skilled', 1, 'none', 'yes', 1.0, 3.0, 3.0, 0.0, 0.0, 1.0, 0.0, 0.0, 0.0, 0.0, 2.0, 1.0, 0.0, [1.0, 3.0, 0.0, 0.0, 3.0, 1.0, 0.0, 2.0, 0.0, 1.0, 0.0, 0.0, 0.0, 4.0, 955.0, 1.0, 1.0, 4.0, 22.0, 1.0, 1.0], [19.682384424438588, 0.31761557556141334], [0.9841192212219294, 0.01588077877807067], 0.0, 'No Risk'], ['less_0', 21, 'credits_paid_to_date', 'car_new', 4001, 'less_100', 'unemployed', 3, 'male', 'none', 2, 'savings_insurance', 27, 'bank', 'rent', 1, 'unskilled', 2, 'yes', 'yes', 1.0, 1.0, 4.0, 0.0, 0.0, 1.0, 2.0, 1.0, 0.0, 0.0, 0.0, 0.0, 1.0, [1.0, 1.0, 0.0, 0.0, 4.0, 0.0, 0.0, 0.0, 2.0, 1.0, 1.0, 1.0, 0.0, 21.0, 4001.0, 3.0, 2.0, 21.0, 27.0, 1.0, 2.0], [17.17884169470323, 2.8211583052967724], [0.8589420847351613, 0.1410579152648386], 0.0, 'No Risk'], ['0_to_200', 23, 'all_credits_paid_back', 'furniture', 3830, 'less_100', 'less_1', 2, 'male', 'none', 3, 'real_estate', 27, 'none', 'own', 2, 'skilled', 1, 'none', 'no', 2.0, 3.0, 3.0, 0.0, 1.0, 0.0, 0.0, 0.0, 1.0, 0.0, 2.0, 0.0, 0.0, [2.0, 3.0, 1.0, 0.0, 3.0, 0.0, 0.0, 2.0, 0.0, 0.0, 0.0, 0.0, 1.0, 23.0, 3830.0, 2.0, 3.0, 23.0, 27.0, 2.0, 1.0], [16.313720199269635, 3.686279800730366], [0.8156860099634817, 0.1843139900365183], 0.0, 'No Risk'], ['0_to_200', 11, 'credits_paid_to_date', 'furniture', 541, 'less_100', 'less_1', 2, 'female', 'none', 2, 'real_estate', 21, 'none', 'own', 1, 'skilled', 1, 'none', 'yes', 2.0, 1.0, 3.0, 0.0, 0.0, 0.0, 0.0, 0.0, 1.0, 0.0, 2.0, 1.0, 0.0, [2.0, 1.0, 1.0, 0.0, 3.0, 1.0, 0.0, 2.0, 0.0, 0.0, 0.0, 0.0, 0.0, 11.0, 541.0, 2.0, 2.0, 11.0, 21.0, 1.0, 1.0], [19.210079605971163, 0.789920394028835], [0.9605039802985582, 0.039496019701441745], 0.0, 'No Risk'], ['less_0', 24, 'credits_paid_to_date', 'car_used', 250, 'less_100', '1_to_4', 2, 'female', 'none', 2, 'savings_insurance', 19, 'stores', 'own', 1, 'unskilled', 1, 'none', 'yes', 1.0, 1.0, 0.0, 0.0, 0.0, 0.0, 1.0, 1.0, 2.0, 0.0, 0.0, 1.0, 0.0, [1.0, 1.0, 2.0, 0.0, 0.0, 1.0, 0.0, 0.0, 1.0, 0.0, 1.0, 0.0, 0.0, 24.0, 250.0, 2.0, 2.0, 24.0, 19.0, 1.0, 1.0], [16.126980262788894, 3.8730197372111066], [0.8063490131394447, 0.19365098686055532], 0.0, 'No Risk'], ['0_to_200', 18, 'credits_paid_to_date', 'retraining', 250, '500_to_1000', '1_to_4', 3, 'male', 'none', 2, 'real_estate', 32, 'bank', 'rent', 1, 'unskilled', 1, 'none', 'yes', 2.0, 1.0, 0.0, 2.0, 0.0, 1.0, 2.0, 1.0, 8.0, 0.0, 2.0, 0.0, 0.0, [2.0, 1.0, 8.0, 2.0, 0.0, 0.0, 0.0, 2.0, 2.0, 1.0, 1.0, 0.0, 0.0, 18.0, 250.0, 3.0, 2.0, 18.0, 32.0, 1.0, 1.0], [17.80672515416233, 2.19327484583767], [0.8903362577081164, 0.1096637422918835], 0.0, 'No Risk'], ['no_checking', 33, 'outstanding_credit', 'repairs', 8417, '500_to_1000', '4_to_7', 5, 'male', 'co-applicant', 4, 'unknown', 45, 'none', 'free', 3, 'skilled', 2, 'yes', 'yes', 0.0, 2.0, 1.0, 2.0, 0.0, 2.0, 0.0, 0.0, 5.0, 1.0, 3.0, 0.0, 1.0, [0.0, 2.0, 5.0, 2.0, 1.0, 0.0, 1.0, 3.0, 0.0, 2.0, 0.0, 1.0, 0.0, 33.0, 8417.0, 5.0, 4.0, 33.0, 45.0, 3.0, 2.0], [4.495935322753195, 15.504064677246808], [0.22479676613765973, 0.7752032338623402], 1.0, 'Risk'], ['greater_200', 26, 'credits_paid_to_date', 'radio_tv', 4726, '500_to_1000', '1_to_4', 4, 'male', 'none', 3, 'car_other', 34, 'stores', 'own', 2, 'unskilled', 1, 'none', 'yes', 3.0, 1.0, 0.0, 2.0, 0.0, 0.0, 1.0, 1.0, 3.0, 0.0, 1.0, 0.0, 0.0, [3.0, 1.0, 3.0, 2.0, 0.0, 0.0, 0.0, 1.0, 1.0, 0.0, 1.0, 0.0, 0.0, 26.0, 4726.0, 4.0, 3.0, 26.0, 34.0, 2.0, 1.0], [13.465776724006039, 6.534223275993961], [0.673288836200302, 0.32671116379969806], 0.0, 'No Risk'], ['no_checking', 30, 'outstanding_credit', 'appliances', 5611, '500_to_1000', '1_to_4', 3, 'male', 'none', 4, 'car_other', 50, 'bank', 'rent', 1, 'unskilled', 2, 'yes', 'yes', 0.0, 2.0, 0.0, 2.0, 0.0, 1.0, 2.0, 1.0, 4.0, 0.0, 1.0, 0.0, 1.0, [0.0, 2.0, 4.0, 2.0, 0.0, 0.0, 0.0, 1.0, 2.0, 1.0, 1.0, 1.0, 0.0, 30.0, 5611.0, 3.0, 4.0, 30.0, 50.0, 1.0, 2.0], [12.134265988444268, 7.865734011555734], [0.6067132994222134, 0.3932867005777867], 0.0, 'No Risk'], ['less_0', 10, 'all_credits_paid_back', 'car_used', 374, 'less_100', '1_to_4', 1, 'female', 'none', 2, 'savings_insurance', 24, 'none', 'rent', 1, 'skilled', 1, 'none', 'yes', 1.0, 3.0, 0.0, 0.0, 0.0, 1.0, 0.0, 0.0, 2.0, 0.0, 0.0, 1.0, 0.0, [1.0, 3.0, 2.0, 0.0, 0.0, 1.0, 0.0, 0.0, 0.0, 1.0, 0.0, 0.0, 0.0, 10.0, 374.0, 1.0, 2.0, 10.0, 24.0, 1.0, 1.0], [19.238110262135933, 0.7618897378640668], [0.9619055131067966, 0.03809448689320334], 0.0, 'No Risk'], ['0_to_200', 4, 'prior_payments_delayed', 'furniture', 250, 'less_100', '4_to_7', 3, 'female', 'none', 3, 'savings_insurance', 39, 'none', 'own', 1, 'skilled', 1, 'yes', 'yes', 2.0, 0.0, 1.0, 0.0, 0.0, 0.0, 0.0, 0.0, 1.0, 0.0, 0.0, 1.0, 1.0, [2.0, 0.0, 1.0, 0.0, 1.0, 1.0, 0.0, 0.0, 0.0, 0.0, 0.0, 1.0, 0.0, 4.0, 250.0, 3.0, 3.0, 4.0, 39.0, 1.0, 1.0], [15.496971702902057, 4.503028297097943], [0.7748485851451028, 0.22515141485489715], 0.0, 'No Risk'], ['no_checking', 30, 'prior_payments_delayed', 'business', 2555, '100_to_500', '4_to_7', 3, 'male', 'none', 4, 'car_other', 48, 'none', 'own', 1, 'skilled', 1, 'yes', 'yes', 0.0, 0.0, 1.0, 1.0, 0.0, 0.0, 0.0, 0.0, 9.0, 0.0, 1.0, 0.0, 1.0, [0.0, 0.0, 9.0, 1.0, 1.0, 0.0, 0.0, 1.0, 0.0, 0.0, 0.0, 1.0, 0.0, 30.0, 2555.0, 3.0, 4.0, 30.0, 48.0, 1.0, 1.0], [9.490792566174227, 10.509207433825773], [0.4745396283087113, 0.5254603716912887], 1.0, 'Risk'], ['no_checking', 9, 'prior_payments_delayed', 'car_used', 3279, '100_to_500', '4_to_7', 3, 'male', 'co-applicant', 3, 'car_other', 51, 'none', 'free', 2, 'skilled', 1, 'yes', 'yes', 0.0, 0.0, 1.0, 1.0, 0.0, 2.0, 0.0, 0.0, 2.0, 1.0, 1.0, 0.0, 1.0, [0.0, 0.0, 2.0, 1.0, 1.0, 0.0, 1.0, 1.0, 0.0, 2.0, 0.0, 1.0, 0.0, 9.0, 3279.0, 3.0, 3.0, 9.0, 51.0, 2.0, 1.0], [9.476345820711606, 10.523654179288394], [0.4738172910355803, 0.5261827089644198], 1.0, 'Risk'], ['less_0', 4, 'all_credits_paid_back', 'car_new', 250, 'less_100', 'unemployed', 2, 'female', 'none', 1, 'real_estate', 19, 'none', 'rent', 1, 'skilled', 1, 'none', 'yes', 1.0, 3.0, 4.0, 0.0, 0.0, 1.0, 0.0, 0.0, 0.0, 0.0, 2.0, 1.0, 0.0, [1.0, 3.0, 0.0, 0.0, 4.0, 1.0, 0.0, 2.0, 0.0, 1.0, 0.0, 0.0, 0.0, 4.0, 250.0, 2.0, 1.0, 4.0, 19.0, 1.0, 1.0], [19.705858602842344, 0.29414139715765747], [0.9852929301421172, 0.014707069857882874], 0.0, 'No Risk'], ['less_0', 12, 'all_credits_paid_back', 'radio_tv', 511, '100_to_500', '1_to_4', 3, 'male', 'none', 3, 'real_estate', 26, 'none', 'rent', 1, 'skilled', 1, 'none', 'yes', 1.0, 3.0, 0.0, 1.0, 0.0, 1.0, 0.0, 0.0, 3.0, 0.0, 2.0, 0.0, 0.0, [1.0, 3.0, 3.0, 1.0, 0.0, 0.0, 0.0, 2.0, 0.0, 1.0, 0.0, 0.0, 0.0, 12.0, 511.0, 3.0, 3.0, 12.0, 26.0, 1.0, 1.0], [18.9841656101777, 1.015834389822296], [0.9492082805088853, 0.05079171949111481], 0.0, 'No Risk'], ['no_checking', 26, 'prior_payments_delayed', 'appliances', 2754, '500_to_1000', 'greater_7', 4, 'male', 'none', 4, 'unknown', 43, 'none', 'own', 1, 'skilled', 1, 'yes', 'yes', 0.0, 0.0, 2.0, 2.0, 0.0, 0.0, 0.0, 0.0, 4.0, 0.0, 3.0, 0.0, 1.0, [0.0, 0.0, 4.0, 2.0, 2.0, 0.0, 0.0, 3.0, 0.0, 0.0, 0.0, 1.0, 0.0, 26.0, 2754.0, 4.0, 4.0, 26.0, 43.0, 1.0, 1.0], [8.984313393785948, 11.01568660621405], [0.4492156696892974, 0.5507843303107025], 1.0, 'Risk'], ['0_to_200', 19, 'all_credits_paid_back', 'car_new', 2898, 'less_100', 'unemployed', 2, 'male', 'none', 2, 'real_estate', 38, 'none', 'own', 2, 'management_self-employed', 1, 'yes', 'yes', 2.0, 3.0, 4.0, 0.0, 0.0, 0.0, 0.0, 2.0, 0.0, 0.0, 2.0, 0.0, 1.0, [2.0, 3.0, 0.0, 0.0, 4.0, 0.0, 0.0, 2.0, 0.0, 0.0, 2.0, 1.0, 0.0, 19.0, 2898.0, 2.0, 2.0, 19.0, 38.0, 2.0, 1.0], [16.454348981356148, 3.5456510186438503], [0.8227174490678074, 0.17728255093219253], 0.0, 'No Risk'], ['no_checking', 41, 'prior_payments_delayed', 'furniture', 5605, '500_to_1000', 'greater_7', 5, 'male', 'co-applicant', 4, 'savings_insurance', 46, 'none', 'free', 2, 'skilled', 1, 'yes', 'yes', 0.0, 0.0, 2.0, 2.0, 0.0, 2.0, 0.0, 0.0, 1.0, 1.0, 0.0, 0.0, 1.0, [0.0, 0.0, 1.0, 2.0, 2.0, 0.0, 1.0, 0.0, 0.0, 2.0, 0.0, 1.0, 0.0, 41.0, 5605.0, 5.0, 4.0, 41.0, 46.0, 2.0, 1.0], [3.3068656895779633, 16.69313431042204], [0.16534328447889815, 0.8346567155211018], 1.0, 'Risk'], ['less_0', 4, 'credits_paid_to_date', 'education', 1300, '100_to_500', 'less_1', 2, 'female', 'none', 3, 'savings_insurance', 19, 'none', 'rent', 1, 'skilled', 1, 'none', 'yes', 1.0, 1.0, 3.0, 1.0, 0.0, 1.0, 0.0, 0.0, 7.0, 0.0, 0.0, 1.0, 0.0, [1.0, 1.0, 7.0, 1.0, 3.0, 1.0, 0.0, 0.0, 0.0, 1.0, 0.0, 0.0, 0.0, 4.0, 1300.0, 2.0, 3.0, 4.0, 19.0, 1.0, 1.0], [18.39645613598674, 1.6035438640132609], [0.9198228067993369, 0.08017719320066305], 0.0, 'No Risk'], ['0_to_200', 29, 'credits_paid_to_date', 'other', 5034, '100_to_500', 'greater_7', 3, 'female', 'none', 2, 'car_other', 44, 'none', 'own', 2, 'skilled', 1, 'none', 'yes', 2.0, 1.0, 2.0, 1.0, 0.0, 0.0, 0.0, 0.0, 10.0, 0.0, 1.0, 1.0, 0.0, [2.0, 1.0, 10.0, 1.0, 2.0, 1.0, 0.0, 1.0, 0.0, 0.0, 0.0, 0.0, 0.0, 29.0, 5034.0, 3.0, 2.0, 29.0, 44.0, 2.0, 1.0], [12.487735662775036, 7.512264337224965], [0.6243867831387517, 0.37561321686124827], 0.0, 'No Risk'], ['0_to_200', 19, 'credits_paid_to_date', 'furniture', 5592, '500_to_1000', 'less_1', 3, 'female', 'none', 2, 'unknown', 32, 'none', 'own', 2, 'skilled', 2, 'none', 'yes', 2.0, 1.0, 3.0, 2.0, 0.0, 0.0, 0.0, 0.0, 1.0, 0.0, 3.0, 1.0, 0.0, [2.0, 1.0, 1.0, 2.0, 3.0, 1.0, 0.0, 3.0, 0.0, 0.0, 0.0, 0.0, 0.0, 19.0, 5592.0, 3.0, 2.0, 19.0, 32.0, 2.0, 2.0], [15.936936800610322, 4.063063199389679], [0.7968468400305161, 0.20315315996948394], 0.0, 'No Risk'], ['no_checking', 27, 'prior_payments_delayed', 'appliances', 5013, 'unknown', '1_to_4', 3, 'male', 'none', 3, 'savings_insurance', 24, 'none', 'own', 2, 'skilled', 2, 'none', 'yes', 0.0, 0.0, 0.0, 4.0, 0.0, 0.0, 0.0, 0.0, 4.0, 0.0, 0.0, 0.0, 0.0, [21, [2, 3, 13, 14, 15, 16, 17, 18, 19, 20], [4.0, 4.0, 27.0, 5013.0, 3.0, 3.0, 27.0, 24.0, 2.0, 2.0]], [12.651990685496, 7.348009314504], [0.6325995342748, 0.3674004657252], 0.0, 'No Risk'], ['less_0', 8, 'prior_payments_delayed', 'car_new', 250, 'less_100', '4_to_7', 3, 'female', 'none', 3, 'savings_insurance', 34, 'none', 'own', 1, 'skilled', 1, 'none', 'yes', 1.0, 0.0, 1.0, 0.0, 0.0, 0.0, 0.0, 0.0, 0.0, 0.0, 0.0, 1.0, 0.0, [21, [0, 4, 5, 13, 14, 15, 16, 17, 18, 19, 20], [1.0, 1.0, 1.0, 8.0, 250.0, 3.0, 3.0, 8.0, 34.0, 1.0, 1.0]], [16.912723533032327, 3.0872764669676704], [0.8456361766516165, 0.15436382334838356], 0.0, 'No Risk'], ['0_to_200', 22, 'all_credits_paid_back', 'car_new', 2853, 'less_100', 'less_1', 2, 'female', 'none', 3, 'car_other', 36, 'none', 'own', 2, 'skilled', 1, 'yes', 'yes', 2.0, 3.0, 3.0, 0.0, 0.0, 0.0, 0.0, 0.0, 0.0, 0.0, 1.0, 1.0, 1.0, [2.0, 3.0, 0.0, 0.0, 3.0, 1.0, 0.0, 1.0, 0.0, 0.0, 0.0, 1.0, 0.0, 22.0, 2853.0, 2.0, 3.0, 22.0, 36.0, 2.0, 1.0], [14.11990285018914, 5.880097149810862], [0.705995142509457, 0.29400485749054306], 0.0, 'No Risk'], ['less_0', 36, 'credits_paid_to_date', 'car_used', 2829, 'less_100', '4_to_7', 3, 'male', 'none', 1, 'savings_insurance', 26, 'stores', 'free', 1, 'skilled', 2, 'none', 'yes', 1.0, 1.0, 1.0, 0.0, 0.0, 2.0, 1.0, 0.0, 2.0, 0.0, 0.0, 0.0, 0.0, [1.0, 1.0, 2.0, 0.0, 1.0, 0.0, 0.0, 0.0, 1.0, 2.0, 0.0, 0.0, 0.0, 36.0, 2829.0, 3.0, 1.0, 36.0, 26.0, 1.0, 2.0], [15.192231547043676, 4.807768452956325], [0.7596115773521838, 0.24038842264781626], 0.0, 'No Risk'], ['no_checking', 20, 'credits_paid_to_date', 'retraining', 2197, '500_to_1000', '1_to_4', 2, 'male', 'none', 3, 'real_estate', 20, 'stores', 'rent', 1, 'unskilled', 1, 'yes', 'yes', 0.0, 1.0, 0.0, 2.0, 0.0, 1.0, 1.0, 1.0, 8.0, 0.0, 2.0, 0.0, 1.0, [0.0, 1.0, 8.0, 2.0, 0.0, 0.0, 0.0, 2.0, 1.0, 1.0, 1.0, 1.0, 0.0, 20.0, 2197.0, 2.0, 3.0, 20.0, 20.0, 1.0, 1.0], [16.42287472029787, 3.5771252797021296], [0.8211437360148934, 0.17885626398510648], 0.0, 'No Risk'], ['0_to_200', 26, 'outstanding_credit', 'car_used', 2814, '100_to_500', '4_to_7', 3, 'male', 'co-applicant', 3, 'car_other', 32, 'stores', 'own', 1, 'skilled', 1, 'none', 'yes', 2.0, 2.0, 1.0, 1.0, 0.0, 0.0, 1.0, 0.0, 2.0, 1.0, 1.0, 0.0, 0.0, [2.0, 2.0, 2.0, 1.0, 1.0, 0.0, 1.0, 1.0, 1.0, 0.0, 0.0, 0.0, 0.0, 26.0, 2814.0, 3.0, 3.0, 26.0, 32.0, 1.0, 1.0], [12.740162731628963, 7.259837268371037], [0.6370081365814482, 0.36299186341855183], 0.0, 'No Risk'], ['less_0', 38, 'prior_payments_delayed', 'radio_tv', 1808, '100_to_500', 'greater_7', 4, 'female', 'none', 2, 'savings_insurance', 31, 'bank', 'own', 1, 'unskilled', 1, 'yes', 'yes', 1.0, 0.0, 2.0, 1.0, 0.0, 0.0, 2.0, 1.0, 3.0, 0.0, 0.0, 1.0, 1.0, [1.0, 0.0, 3.0, 1.0, 2.0, 1.0, 0.0, 0.0, 2.0, 0.0, 1.0, 1.0, 0.0, 38.0, 1808.0, 4.0, 2.0, 38.0, 31.0, 1.0, 1.0], [13.677464335206137, 6.322535664793865], [0.6838732167603069, 0.31612678323969323], 0.0, 'No Risk'], ['less_0', 4, 'credits_paid_to_date', 'education', 250, 'less_100', '1_to_4', 2, 'male', 'none', 2, 'real_estate', 44, 'none', 'own', 1, 'skilled', 1, 'none', 'yes', 1.0, 1.0, 0.0, 0.0, 0.0, 0.0, 0.0, 0.0, 7.0, 0.0, 2.0, 0.0, 0.0, [21, [0, 1, 2, 7, 13, 14, 15, 16, 17, 18, 19, 20], [1.0, 1.0, 7.0, 2.0, 4.0, 250.0, 2.0, 2.0, 4.0, 44.0, 1.0, 1.0]], [18.22856994585917, 1.7714300541408272], [0.9114284972929587, 0.08857150270704138], 0.0, 'No Risk'], ['less_0', 16, 'prior_payments_delayed', 'radio_tv', 3975, '500_to_1000', '1_to_4', 3, 'male', 'none', 2, 'car_other', 35, 'bank', 'rent', 2, 'unemployed', 1, 'none', 'yes', 1.0, 0.0, 0.0, 2.0, 0.0, 1.0, 2.0, 3.0, 3.0, 0.0, 1.0, 0.0, 0.0, [1.0, 0.0, 3.0, 2.0, 0.0, 0.0, 0.0, 1.0, 2.0, 1.0, 3.0, 0.0, 0.0, 16.0, 3975.0, 3.0, 2.0, 16.0, 35.0, 2.0, 1.0], [15.493492159667488, 4.50650784033251], [0.7746746079833744, 0.22532539201662552], 0.0, 'No Risk'], ['less_0', 13, 'prior_payments_delayed', 'furniture', 6296, 'less_100', '4_to_7', 3, 'male', 'none', 3, 'unknown', 27, 'none', 'own', 1, 'skilled', 1, 'none', 'yes', 1.0, 0.0, 1.0, 0.0, 0.0, 0.0, 0.0, 0.0, 1.0, 0.0, 3.0, 0.0, 0.0, [21, [0, 2, 4, 7, 13, 14, 15, 16, 17, 18, 19, 20], [1.0, 1.0, 1.0, 3.0, 13.0, 6296.0, 3.0, 3.0, 13.0, 27.0, 1.0, 1.0]], [16.640214672045403, 3.3597853279545977], [0.8320107336022702, 0.16798926639772988], 0.0, 'No Risk'], ['no_checking', 43, 'outstanding_credit', 'repairs', 6220, 'unknown', 'greater_7', 4, 'male', 'co-applicant', 4, 'car_other', 52, 'none', 'own', 2, 'skilled', 2, 'none', 'no', 0.0, 2.0, 2.0, 4.0, 1.0, 0.0, 0.0, 0.0, 5.0, 1.0, 1.0, 0.0, 0.0, [0.0, 2.0, 5.0, 4.0, 2.0, 0.0, 1.0, 1.0, 0.0, 0.0, 0.0, 0.0, 1.0, 43.0, 6220.0, 4.0, 4.0, 43.0, 52.0, 2.0, 2.0], [3.322435269912441, 16.67756473008756], [0.16612176349562205, 0.833878236504378], 1.0, 'Risk'], ['no_checking', 27, 'all_credits_paid_back', 'appliances', 5047, 'greater_1000', '1_to_4', 4, 'male', 'none', 3, 'car_other', 39, 'stores', 'own', 2, 'unskilled', 1, 'yes', 'yes', 0.0, 3.0, 0.0, 3.0, 0.0, 0.0, 1.0, 1.0, 4.0, 0.0, 1.0, 0.0, 1.0, [0.0, 3.0, 4.0, 3.0, 0.0, 0.0, 0.0, 1.0, 1.0, 0.0, 1.0, 1.0, 0.0, 27.0, 5047.0, 4.0, 3.0, 27.0, 39.0, 2.0, 1.0], [13.446222121508509, 6.553777878491489], [0.6723111060754255, 0.3276888939245745], 0.0, 'No Risk'], ['no_checking', 30, 'all_credits_paid_back', 'car_new', 5164, '500_to_1000', '4_to_7', 4, 'male', 'none', 4, 'savings_insurance', 35, 'none', 'own', 2, 'management_self-employed', 1, 'yes', 'yes', 0.0, 3.0, 1.0, 2.0, 0.0, 0.0, 0.0, 2.0, 0.0, 0.0, 0.0, 0.0, 1.0, [0.0, 3.0, 0.0, 2.0, 1.0, 0.0, 0.0, 0.0, 0.0, 0.0, 2.0, 1.0, 0.0, 30.0, 5164.0, 4.0, 4.0, 30.0, 35.0, 2.0, 1.0], [10.521972173847347, 9.478027826152651], [0.5260986086923674, 0.47390139130763254], 0.0, 'No Risk'], ['0_to_200', 6, 'all_credits_paid_back', 'education', 1630, '100_to_500', 'less_1', 3, 'female', 'none', 2, 'car_other', 25, 'none', 'rent', 1, 'skilled', 1, 'none', 'yes', 2.0, 3.0, 3.0, 1.0, 0.0, 1.0, 0.0, 0.0, 7.0, 0.0, 1.0, 1.0, 0.0, [2.0, 3.0, 7.0, 1.0, 3.0, 1.0, 0.0, 1.0, 0.0, 1.0, 0.0, 0.0, 0.0, 6.0, 1630.0, 3.0, 2.0, 6.0, 25.0, 1.0, 1.0], [18.889497227963126, 1.1105027720368732], [0.9444748613981563, 0.05552513860184366], 0.0, 'No Risk'], ['0_to_200', 25, 'all_credits_paid_back', 'radio_tv', 2336, '500_to_1000', '4_to_7', 3, 'male', 'none', 2, 'real_estate', 43, 'none', 'own', 3, 'skilled', 1, 'yes', 'yes', 2.0, 3.0, 1.0, 2.0, 0.0, 0.0, 0.0, 0.0, 3.0, 0.0, 2.0, 0.0, 1.0, [2.0, 3.0, 3.0, 2.0, 1.0, 0.0, 0.0, 2.0, 0.0, 0.0, 0.0, 1.0, 0.0, 25.0, 2336.0, 3.0, 2.0, 25.0, 43.0, 3.0, 1.0], [13.10848481432536, 6.891515185674639], [0.655424240716268, 0.34457575928373196], 0.0, 'No Risk'], ['less_0', 19, 'credits_paid_to_date', 'repairs', 1522, 'less_100', '4_to_7', 3, 'female', 'none', 3, 'savings_insurance', 32, 'bank', 'rent', 1, 'unemployed', 1, 'yes', 'yes', 1.0, 1.0, 1.0, 0.0, 0.0, 1.0, 2.0, 3.0, 5.0, 0.0, 0.0, 1.0, 1.0, [1.0, 1.0, 5.0, 0.0, 1.0, 1.0, 0.0, 0.0, 2.0, 1.0, 3.0, 1.0, 0.0, 19.0, 1522.0, 3.0, 3.0, 19.0, 32.0, 1.0, 1.0], [15.077280708579295, 4.922719291420707], [0.7538640354289647, 0.24613596457103534], 0.0, 'No Risk'], ['less_0', 27, 'outstanding_credit', 'radio_tv', 1668, '100_to_500', '1_to_4', 3, 'female', 'none', 1, 'savings_insurance', 31, 'stores', 'own', 2, 'skilled', 1, 'yes', 'yes', 1.0, 2.0, 0.0, 1.0, 0.0, 0.0, 1.0, 0.0, 3.0, 0.0, 0.0, 1.0, 1.0, [1.0, 2.0, 3.0, 1.0, 0.0, 1.0, 0.0, 0.0, 1.0, 0.0, 0.0, 1.0, 0.0, 27.0, 1668.0, 3.0, 1.0, 27.0, 31.0, 2.0, 1.0], [14.320929233608467, 5.679070766391532], [0.7160464616804234, 0.2839535383195766], 0.0, 'No Risk'], ['less_0', 17, 'no_credits', 'car_new', 4748, '100_to_500', 'less_1', 2, 'female', 'none', 3, 'real_estate', 22, 'none', 'rent', 1, 'skilled', 1, 'none', 'yes', 1.0, 4.0, 3.0, 1.0, 0.0, 1.0, 0.0, 0.0, 0.0, 0.0, 2.0, 1.0, 0.0, [1.0, 4.0, 0.0, 1.0, 3.0, 1.0, 0.0, 2.0, 0.0, 1.0, 0.0, 0.0, 0.0, 17.0, 4748.0, 2.0, 3.0, 17.0, 22.0, 1.0, 1.0], [19.129336054669118, 0.8706639453308829], [0.9564668027334559, 0.043533197266544144], 0.0, 'No Risk'], ['less_0', 4, 'credits_paid_to_date', 'car_new', 250, '500_to_1000', '4_to_7', 2, 'male', 'co-applicant', 1, 'savings_insurance', 46, 'bank', 'own', 2, 'unemployed', 1, 'yes', 'yes', 1.0, 1.0, 1.0, 2.0, 0.0, 0.0, 2.0, 3.0, 0.0, 1.0, 0.0, 0.0, 1.0, [1.0, 1.0, 0.0, 2.0, 1.0, 0.0, 1.0, 0.0, 2.0, 0.0, 3.0, 1.0, 0.0, 4.0, 250.0, 2.0, 1.0, 4.0, 46.0, 2.0, 1.0], [14.898526192255012, 5.101473807744986], [0.7449263096127506, 0.2550736903872493], 0.0, 'No Risk'], ['greater_200', 36, 'outstanding_credit', 'repairs', 2179, '500_to_1000', '4_to_7', 3, 'male', 'none', 4, 'unknown', 43, 'none', 'own', 2, 'skilled', 1, 'yes', 'yes', 3.0, 2.0, 1.0, 2.0, 0.0, 0.0, 0.0, 0.0, 5.0, 0.0, 3.0, 0.0, 1.0, [3.0, 2.0, 5.0, 2.0, 1.0, 0.0, 0.0, 3.0, 0.0, 0.0, 0.0, 1.0, 0.0, 36.0, 2179.0, 3.0, 4.0, 36.0, 43.0, 2.0, 1.0], [10.865173231904851, 9.134826768095147], [0.5432586615952426, 0.45674133840475734], 0.0, 'No Risk'], ['less_0', 4, 'credits_paid_to_date', 'education', 3035, 'less_100', 'less_1', 2, 'female', 'none', 2, 'car_other', 22, 'none', 'own', 1, 'skilled', 1, 'none', 'yes', 1.0, 1.0, 3.0, 0.0, 0.0, 0.0, 0.0, 0.0, 7.0, 0.0, 1.0, 1.0, 0.0, [1.0, 1.0, 7.0, 0.0, 3.0, 1.0, 0.0, 1.0, 0.0, 0.0, 0.0, 0.0, 0.0, 4.0, 3035.0, 2.0, 2.0, 4.0, 22.0, 1.0, 1.0], [18.6981733392022, 1.3018266607978024], [0.93490866696011, 0.06509133303989012], 0.0, 'No Risk'], ['0_to_200', 25, 'credits_paid_to_date', 'radio_tv', 250, 'greater_1000', '1_to_4', 3, 'male', 'none', 3, 'savings_insurance', 31, 'bank', 'rent', 1, 'unemployed', 1, 'yes', 'yes', 2.0, 1.0, 0.0, 3.0, 0.0, 1.0, 2.0, 3.0, 3.0, 0.0, 0.0, 0.0, 1.0, [2.0, 1.0, 3.0, 3.0, 0.0, 0.0, 0.0, 0.0, 2.0, 1.0, 3.0, 1.0, 0.0, 25.0, 250.0, 3.0, 3.0, 25.0, 31.0, 1.0, 1.0], [14.534062070763504, 5.465937929236499], [0.726703103538175, 0.27329689646182487], 0.0, 'No Risk'], ['greater_200', 6, 'prior_payments_delayed', 'car_new', 4975, '100_to_500', '1_to_4', 2, 'male', 'none', 4, 'car_other', 38, 'none', 'own', 2, 'management_self-employed', 1, 'yes', 'yes', 3.0, 0.0, 0.0, 1.0, 0.0, 0.0, 0.0, 2.0, 0.0, 0.0, 1.0, 0.0, 1.0, [3.0, 0.0, 0.0, 1.0, 0.0, 0.0, 0.0, 1.0, 0.0, 0.0, 2.0, 1.0, 0.0, 6.0, 4975.0, 2.0, 4.0, 6.0, 38.0, 2.0, 1.0], [14.02461951383699, 5.97538048616301], [0.7012309756918496, 0.2987690243081505], 0.0, 'No Risk'], ['0_to_200', 29, 'credits_paid_to_date', 'business', 2802, 'less_100', '1_to_4', 2, 'female', 'none', 3, 'real_estate', 36, 'stores', 'own', 1, 'skilled', 1, 'none', 'yes', 2.0, 1.0, 0.0, 0.0, 0.0, 0.0, 1.0, 0.0, 9.0, 0.0, 2.0, 1.0, 0.0, [2.0, 1.0, 9.0, 0.0, 0.0, 1.0, 0.0, 2.0, 1.0, 0.0, 0.0, 0.0, 0.0, 29.0, 2802.0, 2.0, 3.0, 29.0, 36.0, 1.0, 1.0], [14.624021483700139, 5.375978516299861], [0.7312010741850069, 0.26879892581499304], 0.0, 'No Risk'], ['less_0', 9, 'credits_paid_to_date', 'furniture', 389, 'less_100', 'less_1', 2, 'female', 'none', 2, 'car_other', 27, 'bank', 'rent', 1, 'unemployed', 1, 'none', 'yes', 1.0, 1.0, 3.0, 0.0, 0.0, 1.0, 2.0, 3.0, 1.0, 0.0, 1.0, 1.0, 0.0, [1.0, 1.0, 1.0, 0.0, 3.0, 1.0, 0.0, 1.0, 2.0, 1.0, 3.0, 0.0, 0.0, 9.0, 389.0, 2.0, 2.0, 9.0, 27.0, 1.0, 1.0], [18.536947415160622, 1.4630525848393805], [0.9268473707580309, 0.07315262924196901], 0.0, 'No Risk'], ['no_checking', 22, 'credits_paid_to_date', 'car_new', 5162, '100_to_500', '1_to_4', 3, 'female', 'none', 4, 'car_other', 49, 'none', 'free', 2, 'skilled', 2, 'yes', 'yes', 0.0, 1.0, 0.0, 1.0, 0.0, 2.0, 0.0, 0.0, 0.0, 0.0, 1.0, 1.0, 1.0, [0.0, 1.0, 0.0, 1.0, 0.0, 1.0, 0.0, 1.0, 0.0, 2.0, 0.0, 1.0, 0.0, 22.0, 5162.0, 3.0, 4.0, 22.0, 49.0, 2.0, 2.0], [9.560203362697846, 10.439796637302154], [0.47801016813489233, 0.5219898318651077], 1.0, 'Risk'], ['no_checking', 24, 'prior_payments_delayed', 'retraining', 2007, '100_to_500', '1_to_4', 3, 'male', 'none', 3, 'savings_insurance', 38, 'none', 'own', 1, 'skilled', 1, 'none', 'yes', 0.0, 0.0, 0.0, 1.0, 0.0, 0.0, 0.0, 0.0, 8.0, 0.0, 0.0, 0.0, 0.0, [21, [2, 3, 13, 14, 15, 16, 17, 18, 19, 20], [8.0, 1.0, 24.0, 2007.0, 3.0, 3.0, 24.0, 38.0, 1.0, 1.0]], [14.306150543928672, 5.693849456071329], [0.7153075271964335, 0.28469247280356647], 0.0, 'No Risk'], ['no_checking', 41, 'outstanding_credit', 'education', 9108, 'greater_1000', 'greater_7', 5, 'male', 'co-applicant', 5, 'unknown', 63, 'none', 'free', 2, 'skilled', 2, 'yes', 'yes', 0.0, 2.0, 2.0, 3.0, 0.0, 2.0, 0.0, 0.0, 7.0, 1.0, 3.0, 0.0, 1.0, [0.0, 2.0, 7.0, 3.0, 2.0, 0.0, 1.0, 3.0, 0.0, 2.0, 0.0, 1.0, 0.0, 41.0, 9108.0, 5.0, 5.0, 41.0, 63.0, 2.0, 2.0], [1.461871257621741, 18.538128742378262], [0.07309356288108704, 0.926906437118913], 1.0, 'Risk'], ['less_0', 5, 'all_credits_paid_back', 'furniture', 374, 'less_100', 'unemployed', 1, 'female', 'none', 2, 'savings_insurance', 35, 'none', 'own', 2, 'skilled', 1, 'yes', 'yes', 1.0, 3.0, 4.0, 0.0, 0.0, 0.0, 0.0, 0.0, 1.0, 0.0, 0.0, 1.0, 1.0, [1.0, 3.0, 1.0, 0.0, 4.0, 1.0, 0.0, 0.0, 0.0, 0.0, 0.0, 1.0, 0.0, 5.0, 374.0, 1.0, 2.0, 5.0, 35.0, 2.0, 1.0], [17.075989357110018, 2.924010642889987], [0.8537994678555008, 0.14620053214449932], 0.0, 'No Risk'], ['0_to_200', 4, 'all_credits_paid_back', 'car_new', 1497, 'less_100', 'less_1', 2, 'male', 'none', 1, 'savings_insurance', 20, 'none', 'own', 1, 'skilled', 1, 'none', 'yes', 2.0, 3.0, 3.0, 0.0, 0.0, 0.0, 0.0, 0.0, 0.0, 0.0, 0.0, 0.0, 0.0, [21, [0, 1, 4, 13, 14, 15, 16, 17, 18, 19, 20], [2.0, 3.0, 3.0, 4.0, 1497.0, 2.0, 1.0, 4.0, 20.0, 1.0, 1.0]], [18.86097649862314, 1.1390235013768635], [0.9430488249311569, 0.056951175068843174], 0.0, 'No Risk'], ['0_to_200', 16, 'credits_paid_to_date', 'car_used', 1136, 'less_100', 'less_1', 2, 'female', 'co-applicant', 2, 'car_other', 38, 'none', 'own', 1, 'skilled', 1, 'none', 'yes', 2.0, 1.0, 3.0, 0.0, 0.0, 0.0, 0.0, 0.0, 2.0, 1.0, 1.0, 1.0, 0.0, [2.0, 1.0, 2.0, 0.0, 3.0, 1.0, 1.0, 1.0, 0.0, 0.0, 0.0, 0.0, 0.0, 16.0, 1136.0, 2.0, 2.0, 16.0, 38.0, 1.0, 1.0], [16.474590636638005, 3.525409363361995], [0.8237295318319002, 0.17627046816809974], 0.0, 'No Risk'], ['less_0', 7, 'all_credits_paid_back', 'car_new', 1151, 'less_100', 'unemployed', 1, 'male', 'none', 3, 'savings_insurance', 23, 'none', 'rent', 1, 'management_self-employed', 1, 'yes', 'yes', 1.0, 3.0, 4.0, 0.0, 0.0, 1.0, 0.0, 2.0, 0.0, 0.0, 0.0, 0.0, 1.0, [1.0, 3.0, 0.0, 0.0, 4.0, 0.0, 0.0, 0.0, 0.0, 1.0, 2.0, 1.0, 0.0, 7.0, 1151.0, 1.0, 3.0, 7.0, 23.0, 1.0, 1.0], [18.682249728477075, 1.3177502715229232], [0.9341124864238539, 0.06588751357614617], 0.0, 'No Risk'], ['less_0', 8, 'prior_payments_delayed', 'car_used', 1398, '100_to_500', '1_to_4', 3, 'male', 'none', 2, 'real_estate', 32, 'none', 'own', 1, 'skilled', 1, 'none', 'yes', 1.0, 0.0, 0.0, 1.0, 0.0, 0.0, 0.0, 0.0, 2.0, 0.0, 2.0, 0.0, 0.0, [21, [0, 2, 3, 7, 13, 14, 15, 16, 17, 18, 19, 20], [1.0, 2.0, 1.0, 2.0, 8.0, 1398.0, 3.0, 2.0, 8.0, 32.0, 1.0, 1.0]], [18.44088231273857, 1.559117687261429], [0.9220441156369285, 0.07795588436307145], 0.0, 'No Risk'], ['less_0', 4, 'credits_paid_to_date', 'car_used', 438, 'less_100', 'unemployed', 1, 'female', 'none', 2, 'real_estate', 19, 'none', 'rent', 2, 'skilled', 1, 'none', 'yes', 1.0, 1.0, 4.0, 0.0, 0.0, 1.0, 0.0, 0.0, 2.0, 0.0, 2.0, 1.0, 0.0, [1.0, 1.0, 2.0, 0.0, 4.0, 1.0, 0.0, 2.0, 0.0, 1.0, 0.0, 0.0, 0.0, 4.0, 438.0, 1.0, 2.0, 4.0, 19.0, 2.0, 1.0], [18.376032524615766, 1.623967475384234], [0.9188016262307883, 0.0811983737692117], 0.0, 'No Risk'], ['0_to_200', 16, 'all_credits_paid_back', 'car_new', 6060, 'less_100', 'less_1', 3, 'female', 'none', 3, 'car_other', 37, 'stores', 'own', 2, 'unskilled', 1, 'none', 'yes', 2.0, 3.0, 3.0, 0.0, 0.0, 0.0, 1.0, 1.0, 0.0, 0.0, 1.0, 1.0, 0.0, [2.0, 3.0, 0.0, 0.0, 3.0, 1.0, 0.0, 1.0, 1.0, 0.0, 1.0, 0.0, 0.0, 16.0, 6060.0, 3.0, 3.0, 16.0, 37.0, 2.0, 1.0], [14.750540722784814, 5.249459277215185], [0.7375270361392408, 0.26247296386075925], 0.0, 'No Risk'], ['no_checking', 30, 'prior_payments_delayed', 'appliances', 2075, '500_to_1000', '4_to_7', 3, 'male', 'none', 4, 'real_estate', 28, 'none', 'own', 1, 'skilled', 1, 'yes', 'yes', 0.0, 0.0, 1.0, 2.0, 0.0, 0.0, 0.0, 0.0, 4.0, 0.0, 2.0, 0.0, 1.0, [0.0, 0.0, 4.0, 2.0, 1.0, 0.0, 0.0, 2.0, 0.0, 0.0, 0.0, 1.0, 0.0, 30.0, 2075.0, 3.0, 4.0, 30.0, 28.0, 1.0, 1.0], [11.564325055997255, 8.435674944002745], [0.5782162527998628, 0.4217837472001372], 0.0, 'No Risk'], ['less_0', 9, 'all_credits_paid_back', 'car_new', 321, '100_to_500', 'less_1', 2, 'male', 'none', 2, 'savings_insurance', 24, 'none', 'rent', 1, 'skilled', 1, 'none', 'yes', 1.0, 3.0, 3.0, 1.0, 0.0, 1.0, 0.0, 0.0, 0.0, 0.0, 0.0, 0.0, 0.0, [1.0, 3.0, 0.0, 1.0, 3.0, 0.0, 0.0, 0.0, 0.0, 1.0, 0.0, 0.0, 0.0, 9.0, 321.0, 2.0, 2.0, 9.0, 24.0, 1.0, 1.0], [19.483063208850634, 0.5169367911493683], [0.9741531604425315, 0.02584683955746841], 0.0, 'No Risk'], ['no_checking', 30, 'prior_payments_delayed', 'appliances', 4965, 'unknown', '4_to_7', 3, 'male', 'none', 3, 'car_other', 43, 'none', 'own', 2, 'skilled', 1, 'none', 'yes', 0.0, 0.0, 1.0, 4.0, 0.0, 0.0, 0.0, 0.0, 4.0, 0.0, 1.0, 0.0, 0.0, [21, [2, 3, 4, 7, 13, 14, 15, 16, 17, 18, 19, 20], [4.0, 4.0, 1.0, 1.0, 30.0, 4965.0, 3.0, 3.0, 30.0, 43.0, 2.0, 1.0]], [10.090626896890614, 9.909373103109386], [0.5045313448445307, 0.49546865515546934], 0.0, 'No Risk'], ['less_0', 22, 'credits_paid_to_date', 'retraining', 1185, 'less_100', '1_to_4', 1, 'female', 'none', 2, 'real_estate', 26, 'bank', 'rent', 1, 'unskilled', 1, 'none', 'yes', 1.0, 1.0, 0.0, 0.0, 0.0, 1.0, 2.0, 1.0, 8.0, 0.0, 2.0, 1.0, 0.0, [1.0, 1.0, 8.0, 0.0, 0.0, 1.0, 0.0, 2.0, 2.0, 1.0, 1.0, 0.0, 0.0, 22.0, 1185.0, 1.0, 2.0, 22.0, 26.0, 1.0, 1.0], [17.990020280369666, 2.0099797196303335], [0.8995010140184834, 0.10049898598151667], 0.0, 'No Risk'], ['greater_200', 15, 'prior_payments_delayed', 'radio_tv', 3867, 'less_100', 'less_1', 2, 'male', 'co-applicant', 3, 'savings_insurance', 41, 'none', 'own', 1, 'skilled', 1, 'none', 'yes', 3.0, 0.0, 3.0, 0.0, 0.0, 0.0, 0.0, 0.0, 3.0, 1.0, 0.0, 0.0, 0.0, [21, [0, 2, 4, 6, 13, 14, 15, 16, 17, 18, 19, 20], [3.0, 3.0, 3.0, 1.0, 15.0, 3867.0, 2.0, 3.0, 15.0, 41.0, 1.0, 1.0]], [15.561216728329786, 4.438783271670213], [0.7780608364164893, 0.22193916358351068], 0.0, 'No Risk'], ['0_to_200', 16, 'prior_payments_delayed', 'furniture', 3172, 'less_100', 'less_1', 2, 'female', 'none', 2, 'savings_insurance', 39, 'none', 'own', 1, 'skilled', 1, 'none', 'yes', 2.0, 0.0, 3.0, 0.0, 0.0, 0.0, 0.0, 0.0, 1.0, 0.0, 0.0, 1.0, 0.0, [21, [0, 2, 4, 5, 13, 14, 15, 16, 17, 18, 19, 20], [2.0, 1.0, 3.0, 1.0, 16.0, 3172.0, 2.0, 2.0, 16.0, 39.0, 1.0, 1.0]], [16.740194296614984, 3.2598057033850174], [0.8370097148307492, 0.16299028516925088], 0.0, 'No Risk'], ['0_to_200', 16, 'credits_paid_to_date', 'car_new', 2023, '500_to_1000', 'less_1', 3, 'female', 'none', 3, 'savings_insurance', 43, 'none', 'own', 2, 'skilled', 2, 'yes', 'yes', 2.0, 1.0, 3.0, 2.0, 0.0, 0.0, 0.0, 0.0, 0.0, 0.0, 0.0, 1.0, 1.0, [2.0, 1.0, 0.0, 2.0, 3.0, 1.0, 0.0, 0.0, 0.0, 0.0, 0.0, 1.0, 0.0, 16.0, 2023.0, 3.0, 3.0, 16.0, 43.0, 2.0, 2.0], [14.640909327283312, 5.359090672716688], [0.7320454663641656, 0.2679545336358344], 0.0, 'No Risk'], ['no_checking', 29, 'all_credits_paid_back', 'radio_tv', 6579, '100_to_500', '4_to_7', 4, 'male', 'none', 5, 'savings_insurance', 36, 'none', 'own', 2, 'management_self-employed', 1, 'none', 'yes', 0.0, 3.0, 1.0, 1.0, 0.0, 0.0, 0.0, 2.0, 3.0, 0.0, 0.0, 0.0, 0.0, [0.0, 3.0, 3.0, 1.0, 1.0, 0.0, 0.0, 0.0, 0.0, 0.0, 2.0, 0.0, 0.0, 29.0, 6579.0, 4.0, 5.0, 29.0, 36.0, 2.0, 1.0], [10.76038133975607, 9.239618660243929], [0.5380190669878034, 0.46198093301219645], 0.0, 'No Risk'], ['no_checking', 41, 'outstanding_credit', 'other', 5391, '500_to_1000', 'greater_7', 5, 'male', 'none', 3, 'car_other', 40, 'none', 'free', 1, 'skilled', 1, 'none', 'yes', 0.0, 2.0, 2.0, 2.0, 0.0, 2.0, 0.0, 0.0, 10.0, 0.0, 1.0, 0.0, 0.0, [0.0, 2.0, 10.0, 2.0, 2.0, 0.0, 0.0, 1.0, 0.0, 2.0, 0.0, 0.0, 0.0, 41.0, 5391.0, 5.0, 3.0, 41.0, 40.0, 1.0, 1.0], [10.157292571702177, 9.842707428297823], [0.5078646285851088, 0.49213537141489117], 0.0, 'No Risk'], ['0_to_200', 20, 'credits_paid_to_date', 'radio_tv', 1859, 'less_100', '1_to_4', 2, 'male', 'none', 2, 'savings_insurance', 30, 'bank', 'own', 2, 'unemployed', 1, 'yes', 'yes', 2.0, 1.0, 0.0, 0.0, 0.0, 0.0, 2.0, 3.0, 3.0, 0.0, 0.0, 0.0, 1.0, [2.0, 1.0, 3.0, 0.0, 0.0, 0.0, 0.0, 0.0, 2.0, 0.0, 3.0, 1.0, 0.0, 20.0, 1859.0, 2.0, 2.0, 20.0, 30.0, 2.0, 1.0], [15.58476696896075, 4.415233031039251], [0.7792383484480375, 0.22076165155196253], 0.0, 'No Risk'], ['0_to_200', 4, 'all_credits_paid_back', 'car_new', 250, 'less_100', 'less_1', 1, 'male', 'none', 3, 'savings_insurance', 26, 'none', 'rent', 1, 'skilled', 1, 'none', 'yes', 2.0, 3.0, 3.0, 0.0, 0.0, 1.0, 0.0, 0.0, 0.0, 0.0, 0.0, 0.0, 0.0, [21, [0, 1, 4, 9, 13, 14, 15, 16, 17, 18, 19, 20], [2.0, 3.0, 3.0, 1.0, 4.0, 250.0, 1.0, 3.0, 4.0, 26.0, 1.0, 1.0]], [18.407938446892153, 1.5920615531078461], [0.9203969223446077, 0.0796030776553923], 0.0, 'No Risk'], ['0_to_200', 15, 'prior_payments_delayed', 'furniture', 2118, 'less_100', '4_to_7', 3, 'male', 'co-applicant', 4, 'real_estate', 40, 'none', 'own', 1, 'skilled', 1, 'yes', 'yes', 2.0, 0.0, 1.0, 0.0, 0.0, 0.0, 0.0, 0.0, 1.0, 1.0, 2.0, 0.0, 1.0, [2.0, 0.0, 1.0, 0.0, 1.0, 0.0, 1.0, 2.0, 0.0, 0.0, 0.0, 1.0, 0.0, 15.0, 2118.0, 3.0, 4.0, 15.0, 40.0, 1.0, 1.0], [15.166270149948824, 4.833729850051176], [0.7583135074974412, 0.2416864925025588], 0.0, 'No Risk'], ['less_0', 4, 'all_credits_paid_back', 'car_new', 401, 'less_100', 'less_1', 1, 'male', 'none', 1, 'real_estate', 19, 'none', 'own', 1, 'skilled', 1, 'none', 'yes', 1.0, 3.0, 3.0, 0.0, 0.0, 0.0, 0.0, 0.0, 0.0, 0.0, 2.0, 0.0, 0.0, [21, [0, 1, 4, 7, 13, 14, 15, 16, 17, 18, 19, 20], [1.0, 3.0, 3.0, 2.0, 4.0, 401.0, 1.0, 1.0, 4.0, 19.0, 1.0, 1.0]], [19.645328442625573, 0.3546715573744284], [0.9822664221312787, 0.01773357786872142], 0.0, 'No Risk'], ['no_checking', 25, 'outstanding_credit', 'furniture', 4887, 'unknown', '1_to_4', 3, 'male', 'none', 3, 'car_other', 49, 'none', 'own', 2, 'skilled', 2, 'yes', 'yes', 0.0, 2.0, 0.0, 4.0, 0.0, 0.0, 0.0, 0.0, 1.0, 0.0, 1.0, 0.0, 1.0, [0.0, 2.0, 1.0, 4.0, 0.0, 0.0, 0.0, 1.0, 0.0, 0.0, 0.0, 1.0, 0.0, 25.0, 4887.0, 3.0, 3.0, 25.0, 49.0, 2.0, 2.0], [9.553627707021096, 10.446372292978904], [0.4776813853510548, 0.5223186146489451], 1.0, 'Risk'], ['less_0', 11, 'all_credits_paid_back', 'car_new', 250, 'less_100', '1_to_4', 2, 'female', 'co-applicant', 2, 'real_estate', 28, 'stores', 'rent', 1, 'skilled', 1, 'none', 'yes', 1.0, 3.0, 0.0, 0.0, 0.0, 1.0, 1.0, 0.0, 0.0, 1.0, 2.0, 1.0, 0.0, [1.0, 3.0, 0.0, 0.0, 0.0, 1.0, 1.0, 2.0, 1.0, 1.0, 0.0, 0.0, 0.0, 11.0, 250.0, 2.0, 2.0, 11.0, 28.0, 1.0, 1.0], [18.832012182101682, 1.1679878178983187], [0.9416006091050841, 0.058399390894915935], 0.0, 'No Risk'], ['no_checking', 40, 'prior_payments_delayed', 'repairs', 5855, '500_to_1000', 'greater_7', 5, 'male', 'co-applicant', 4, 'unknown', 48, 'stores', 'own', 2, 'unskilled', 1, 'yes', 'yes', 0.0, 0.0, 2.0, 2.0, 0.0, 0.0, 1.0, 1.0, 5.0, 1.0, 3.0, 0.0, 1.0, [0.0, 0.0, 5.0, 2.0, 2.0, 0.0, 1.0, 3.0, 1.0, 0.0, 1.0, 1.0, 0.0, 40.0, 5855.0, 5.0, 4.0, 40.0, 48.0, 2.0, 1.0], [2.6548235596559966, 17.345176440344005], [0.13274117798279983, 0.8672588220172003], 1.0, 'Risk'], ['less_0', 16, 'credits_paid_to_date', 'car_used', 2918, '500_to_1000', '4_to_7', 3, 'female', 'co-applicant', 2, 'savings_insurance', 33, 'stores', 'own', 1, 'skilled', 1, 'yes', 'yes', 1.0, 1.0, 1.0, 2.0, 0.0, 0.0, 1.0, 0.0, 2.0, 1.0, 0.0, 1.0, 1.0, [1.0, 1.0, 2.0, 2.0, 1.0, 1.0, 1.0, 0.0, 1.0, 0.0, 0.0, 1.0, 0.0, 16.0, 2918.0, 3.0, 2.0, 16.0, 33.0, 1.0, 1.0], [14.757647881051431, 5.2423521189485704], [0.7378823940525716, 0.2621176059474285], 0.0, 'No Risk'], ['no_checking', 29, 'outstanding_credit', 'appliances', 8652, '500_to_1000', 'greater_7', 4, 'male', 'co-applicant', 4, 'unknown', 61, 'none', 'free', 2, 'skilled', 1, 'yes', 'no', 0.0, 2.0, 2.0, 2.0, 1.0, 2.0, 0.0, 0.0, 4.0, 1.0, 3.0, 0.0, 1.0, [0.0, 2.0, 4.0, 2.0, 2.0, 0.0, 1.0, 3.0, 0.0, 2.0, 0.0, 1.0, 1.0, 29.0, 8652.0, 4.0, 4.0, 29.0, 61.0, 2.0, 1.0], [1.6336724828548739, 18.36632751714513], [0.08168362414274367, 0.9183163758572563], 1.0, 'Risk'], ['0_to_200', 20, 'credits_paid_to_date', 'radio_tv', 3282, 'less_100', '4_to_7', 3, 'male', 'none', 3, 'car_other', 32, 'none', 'own', 2, 'skilled', 2, 'none', 'yes', 2.0, 1.0, 1.0, 0.0, 0.0, 0.0, 0.0, 0.0, 3.0, 0.0, 1.0, 0.0, 0.0, [2.0, 1.0, 3.0, 0.0, 1.0, 0.0, 0.0, 1.0, 0.0, 0.0, 0.0, 0.0, 0.0, 20.0, 3282.0, 3.0, 3.0, 20.0, 32.0, 2.0, 2.0], [13.34790905713501, 6.652090942864991], [0.6673954528567505, 0.33260454714324955], 0.0, 'No Risk'], ['0_to_200', 12, 'credits_paid_to_date', 'car_new', 3757, 'less_100', '1_to_4', 3, 'male', 'none', 4, 'real_estate', 19, 'none', 'own', 1, 'management_self-employed', 1, 'none', 'yes', 2.0, 1.0, 0.0, 0.0, 0.0, 0.0, 0.0, 2.0, 0.0, 0.0, 2.0, 0.0, 0.0, [21, [0, 1, 7, 10, 13, 14, 15, 16, 17, 18, 19, 20], [2.0, 1.0, 2.0, 2.0, 12.0, 3757.0, 3.0, 4.0, 12.0, 19.0, 1.0, 1.0]], [17.465907537723123, 2.5340924622768775], [0.8732953768861561, 0.12670462311384387], 0.0, 'No Risk'], ['no_checking', 32, 'prior_payments_delayed', 'vacation', 7594, '100_to_500', '4_to_7', 5, 'male', 'none', 5, 'car_other', 44, 'none', 'free', 2, 'management_self-employed', 1, 'none', 'yes', 0.0, 0.0, 1.0, 1.0, 0.0, 2.0, 0.0, 2.0, 6.0, 0.0, 1.0, 0.0, 0.0, [0.0, 0.0, 6.0, 1.0, 1.0, 0.0, 0.0, 1.0, 0.0, 2.0, 2.0, 0.0, 0.0, 32.0, 7594.0, 5.0, 5.0, 32.0, 44.0, 2.0, 1.0], [9.462227605313455, 10.537772394686545], [0.47311138026567273, 0.5268886197343272], 1.0, 'Risk'], ['0_to_200', 13, 'all_credits_paid_back', 'vacation', 504, 'less_100', '1_to_4', 2, 'male', 'none', 1, 'savings_insurance', 36, 'stores', 'own', 1, 'skilled', 1, 'none', 'yes', 2.0, 3.0, 0.0, 0.0, 0.0, 0.0, 1.0, 0.0, 6.0, 0.0, 0.0, 0.0, 0.0, [21, [0, 1, 2, 8, 13, 14, 15, 16, 17, 18, 19, 20], [2.0, 3.0, 6.0, 1.0, 13.0, 504.0, 2.0, 1.0, 13.0, 36.0, 1.0, 1.0]], [17.883409125442633, 2.1165908745573714], [0.8941704562721314, 0.10582954372786856], 0.0, 'No Risk'], ['no_checking', 25, 'outstanding_credit', 'appliances', 6631, '500_to_1000', '1_to_4', 3, 'male', 'none', 3, 'car_other', 34, 'none', 'own', 2, 'skilled', 1, 'yes', 'yes', 0.0, 2.0, 0.0, 2.0, 0.0, 0.0, 0.0, 0.0, 4.0, 0.0, 1.0, 0.0, 1.0, [0.0, 2.0, 4.0, 2.0, 0.0, 0.0, 0.0, 1.0, 0.0, 0.0, 0.0, 1.0, 0.0, 25.0, 6631.0, 3.0, 3.0, 25.0, 34.0, 2.0, 1.0], [10.29124217441275, 9.70875782558725], [0.5145621087206375, 0.48543789127936254], 0.0, 'No Risk'], ['0_to_200', 17, 'credits_paid_to_date', 'car_used', 1538, 'less_100', 'less_1', 3, 'male', 'none', 2, 'car_other', 28, 'none', 'rent', 1, 'skilled', 1, 'none', 'yes', 2.0, 1.0, 3.0, 0.0, 0.0, 1.0, 0.0, 0.0, 2.0, 0.0, 1.0, 0.0, 0.0, [2.0, 1.0, 2.0, 0.0, 3.0, 0.0, 0.0, 1.0, 0.0, 1.0, 0.0, 0.0, 0.0, 17.0, 1538.0, 3.0, 2.0, 17.0, 28.0, 1.0, 1.0], [17.85270246667946, 2.147297533320544], [0.8926351233339729, 0.10736487666602719], 0.0, 'No Risk'], ['less_0', 10, 'prior_payments_delayed', 'car_used', 250, 'less_100', '4_to_7', 3, 'male', 'none', 2, 'real_estate', 20, 'stores', 'own', 1, 'unskilled', 1, 'none', 'yes', 1.0, 0.0, 1.0, 0.0, 0.0, 0.0, 1.0, 1.0, 2.0, 0.0, 2.0, 0.0, 0.0, [1.0, 0.0, 2.0, 0.0, 1.0, 0.0, 0.0, 2.0, 1.0, 0.0, 1.0, 0.0, 0.0, 10.0, 250.0, 3.0, 2.0, 10.0, 20.0, 1.0, 1.0], [18.614601509985118, 1.385398490014877], [0.9307300754992562, 0.06926992450074387], 0.0, 'No Risk'], ['no_checking', 30, 'outstanding_credit', 'appliances', 5611, '500_to_1000', '1_to_4', 3, 'male', 'none', 4, 'car_other', 50, 'bank', 'rent', 1, 'unskilled', 2, 'yes', 'yes', 0.0, 2.0, 0.0, 2.0, 0.0, 1.0, 2.0, 1.0, 4.0, 0.0, 1.0, 0.0, 1.0, [0.0, 2.0, 4.0, 2.0, 0.0, 0.0, 0.0, 1.0, 2.0, 1.0, 1.0, 1.0, 0.0, 30.0, 5611.0, 3.0, 4.0, 30.0, 50.0, 1.0, 2.0], [12.134265988444268, 7.865734011555734], [0.6067132994222134, 0.3932867005777867], 0.0, 'No Risk'], ['less_0', 19, 'credits_paid_to_date', 'car_new', 3175, 'less_100', 'less_1', 3, 'male', 'co-applicant', 3, 'real_estate', 29, 'none', 'own', 1, 'skilled', 1, 'none', 'no', 1.0, 1.0, 3.0, 0.0, 1.0, 0.0, 0.0, 0.0, 0.0, 1.0, 2.0, 0.0, 0.0, [1.0, 1.0, 0.0, 0.0, 3.0, 0.0, 1.0, 2.0, 0.0, 0.0, 0.0, 0.0, 1.0, 19.0, 3175.0, 3.0, 3.0, 19.0, 29.0, 1.0, 1.0], [18.340683123280858, 1.6593168767191429], [0.9170341561640429, 0.08296584383595715], 0.0, 'No Risk'], ['no_checking', 27, 'outstanding_credit', 'radio_tv', 3785, '500_to_1000', 'greater_7', 5, 'male', 'none', 4, 'savings_insurance', 37, 'stores', 'own', 1, 'unskilled', 1, 'yes', 'yes', 0.0, 2.0, 2.0, 2.0, 0.0, 0.0, 1.0, 1.0, 3.0, 0.0, 0.0, 0.0, 1.0, [0.0, 2.0, 3.0, 2.0, 2.0, 0.0, 0.0, 0.0, 1.0, 0.0, 1.0, 1.0, 0.0, 27.0, 3785.0, 5.0, 4.0, 27.0, 37.0, 1.0, 1.0], [11.442264835557014, 8.557735164442986], [0.5721132417778507, 0.42788675822214933], 0.0, 'No Risk'], ['less_0', 4, 'all_credits_paid_back', 'car_new', 250, '100_to_500', 'less_1', 1, 'female', 'none', 2, 'real_estate', 19, 'stores', 'rent', 1, 'skilled', 1, 'none', 'yes', 1.0, 3.0, 3.0, 1.0, 0.0, 1.0, 1.0, 0.0, 0.0, 0.0, 2.0, 1.0, 0.0, [1.0, 3.0, 0.0, 1.0, 3.0, 1.0, 0.0, 2.0, 1.0, 1.0, 0.0, 0.0, 0.0, 4.0, 250.0, 1.0, 2.0, 4.0, 19.0, 1.0, 1.0], [19.71110244513303, 0.28889755486697216], [0.9855551222566514, 0.014444877743348608], 0.0, 'No Risk'], ['less_0', 13, 'all_credits_paid_back', 'car_new', 250, 'less_100', 'less_1', 2, 'male', 'none', 1, 'real_estate', 21, 'stores', 'rent', 1, 'skilled', 1, 'none', 'yes', 1.0, 3.0, 3.0, 0.0, 0.0, 1.0, 1.0, 0.0, 0.0, 0.0, 2.0, 0.0, 0.0, [1.0, 3.0, 0.0, 0.0, 3.0, 0.0, 0.0, 2.0, 1.0, 1.0, 0.0, 0.0, 0.0, 13.0, 250.0, 2.0, 1.0, 13.0, 21.0, 1.0, 1.0], [19.682384424438588, 0.31761557556141334], [0.9841192212219294, 0.01588077877807067], 0.0, 'No Risk'], ['0_to_200', 17, 'prior_payments_delayed', 'car_new', 3287, '100_to_500', '1_to_4', 2, 'female', 'none', 3, 'car_other', 40, 'bank', 'own', 1, 'unemployed', 1, 'yes', 'yes', 2.0, 0.0, 0.0, 1.0, 0.0, 0.0, 2.0, 3.0, 0.0, 0.0, 1.0, 1.0, 1.0, [2.0, 0.0, 0.0, 1.0, 0.0, 1.0, 0.0, 1.0, 2.0, 0.0, 3.0, 1.0, 0.0, 17.0, 3287.0, 2.0, 3.0, 17.0, 40.0, 1.0, 1.0], [14.758339389976479, 5.241660610023523], [0.7379169694988239, 0.26208303050117615], 0.0, 'No Risk'], ['no_checking', 25, 'outstanding_credit', 'appliances', 7803, '500_to_1000', 'greater_7', 4, 'male', 'co-applicant', 4, 'unknown', 51, 'stores', 'own', 2, 'unskilled', 2, 'yes', 'yes', 0.0, 2.0, 2.0, 2.0, 0.0, 0.0, 1.0, 1.0, 4.0, 1.0, 3.0, 0.0, 1.0, [0.0, 2.0, 4.0, 2.0, 2.0, 0.0, 1.0, 3.0, 1.0, 0.0, 1.0, 1.0, 0.0, 25.0, 7803.0, 4.0, 4.0, 25.0, 51.0, 2.0, 2.0], [1.9304382710042587, 18.069561728995744], [0.09652191355021292, 0.903478086449787], 1.0, 'Risk'], ['less_0', 33, 'outstanding_credit', 'appliances', 2303, '100_to_500', '1_to_4', 3, 'female', 'co-applicant', 3, 'savings_insurance', 44, 'bank', 'own', 1, 'unskilled', 1, 'yes', 'yes', 1.0, 2.0, 0.0, 1.0, 0.0, 0.0, 2.0, 1.0, 4.0, 1.0, 0.0, 1.0, 1.0, [1.0, 2.0, 4.0, 1.0, 0.0, 1.0, 1.0, 0.0, 2.0, 0.0, 1.0, 1.0, 0.0, 33.0, 2303.0, 3.0, 3.0, 33.0, 44.0, 1.0, 1.0], [13.009955629377778, 6.990044370622221], [0.6504977814688889, 0.3495022185311111], 0.0, 'No Risk'], ['no_checking', 25, 'prior_payments_delayed', 'business', 6588, '100_to_500', '4_to_7', 4, 'male', 'none', 4, 'savings_insurance', 36, 'none', 'own', 1, 'management_self-employed', 1, 'none', 'yes', 0.0, 0.0, 1.0, 1.0, 0.0, 0.0, 0.0, 2.0, 9.0, 0.0, 0.0, 0.0, 0.0, [21, [2, 3, 4, 10, 13, 14, 15, 16, 17, 18, 19, 20], [9.0, 1.0, 1.0, 2.0, 25.0, 6588.0, 4.0, 4.0, 25.0, 36.0, 1.0, 1.0]], [12.693736930516797, 7.3062630694832], [0.63468684652584, 0.36531315347416005], 0.0, 'No Risk'], ['less_0', 27, 'credits_paid_to_date', 'car_used', 1620, 'less_100', '4_to_7', 3, 'female', 'co-applicant', 2, 'car_other', 39, 'stores', 'own', 1, 'unskilled', 1, 'none', 'yes', 1.0, 1.0, 1.0, 0.0, 0.0, 0.0, 1.0, 1.0, 2.0, 1.0, 1.0, 1.0, 0.0, [1.0, 1.0, 2.0, 0.0, 1.0, 1.0, 1.0, 1.0, 1.0, 0.0, 1.0, 0.0, 0.0, 27.0, 1620.0, 3.0, 2.0, 27.0, 39.0, 1.0, 1.0], [13.996204758646165, 6.003795241353837], [0.6998102379323082, 0.3001897620676918], 0.0, 'No Risk'], ['greater_200', 32, 'prior_payments_delayed', 'furniture', 4370, '100_to_500', '1_to_4', 4, 'male', 'none', 2, 'savings_insurance', 35, 'none', 'free', 2, 'skilled', 1, 'none', 'yes', 3.0, 0.0, 0.0, 1.0, 0.0, 2.0, 0.0, 0.0, 1.0, 0.0, 0.0, 0.0, 0.0, [21, [0, 2, 3, 9, 13, 14, 15, 16, 17, 18, 19, 20], [3.0, 1.0, 1.0, 2.0, 32.0, 4370.0, 4.0, 2.0, 32.0, 35.0, 2.0, 1.0]], [13.491435103477613, 6.508564896522385], [0.6745717551738807, 0.32542824482611926], 0.0, 'No Risk'], ['greater_200', 12, 'credits_paid_to_date', 'car_new', 1127, '100_to_500', '4_to_7', 2, 'male', 'none', 2, 'savings_insurance', 44, 'none', 'own', 1, 'skilled', 1, 'none', 'yes', 3.0, 1.0, 1.0, 1.0, 0.0, 0.0, 0.0, 0.0, 0.0, 0.0, 0.0, 0.0, 0.0, [21, [0, 1, 3, 4, 13, 14, 15, 16, 17, 18, 19, 20], [3.0, 1.0, 1.0, 1.0, 12.0, 1127.0, 2.0, 2.0, 12.0, 44.0, 1.0, 1.0]], [16.930947184320203, 3.0690528156797976], [0.8465473592160102, 0.15345264078398987], 0.0, 'No Risk'], ['less_0', 13, 'prior_payments_delayed', 'car_used', 1793, 'less_100', '1_to_4', 2, 'male', 'none', 1, 'savings_insurance', 41, 'stores', 'own', 1, 'skilled', 1, 'none', 'yes', 1.0, 0.0, 0.0, 0.0, 0.0, 0.0, 1.0, 0.0, 2.0, 0.0, 0.0, 0.0, 0.0, [21, [0, 2, 8, 13, 14, 15, 16, 17, 18, 19, 20], [1.0, 2.0, 1.0, 13.0, 1793.0, 2.0, 1.0, 13.0, 41.0, 1.0, 1.0]], [16.655103233860935, 3.3448967661390663], [0.8327551616930468, 0.1672448383069533], 0.0, 'No Risk'], ['no_checking', 19, 'outstanding_credit', 'furniture', 3351, 'unknown', 'greater_7', 3, 'male', 'none', 3, 'car_other', 50, 'none', 'own', 2, 'skilled', 1, 'none', 'yes', 0.0, 2.0, 2.0, 4.0, 0.0, 0.0, 0.0, 0.0, 1.0, 0.0, 1.0, 0.0, 0.0, [0.0, 2.0, 1.0, 4.0, 2.0, 0.0, 0.0, 1.0, 0.0, 0.0, 0.0, 0.0, 0.0, 19.0, 3351.0, 3.0, 3.0, 19.0, 50.0, 2.0, 1.0], [9.925214643934295, 10.074785356065703], [0.49626073219671474, 0.5037392678032852], 1.0, 'Risk'], ['no_checking', 16, 'credits_paid_to_date', 'radio_tv', 6058, 'less_100', '4_to_7', 3, 'male', 'none', 4, 'savings_insurance', 43, 'none', 'own', 1, 'management_self-employed', 1, 'none', 'yes', 0.0, 1.0, 1.0, 0.0, 0.0, 0.0, 0.0, 2.0, 3.0, 0.0, 0.0, 0.0, 0.0, [21, [1, 2, 4, 10, 13, 14, 15, 16, 17, 18, 19, 20], [1.0, 3.0, 1.0, 2.0, 16.0, 6058.0, 3.0, 4.0, 16.0, 43.0, 1.0, 1.0]], [13.848846459641816, 6.151153540358184], [0.6924423229820909, 0.3075576770179092], 0.0, 'No Risk'], ['0_to_200', 30, 'prior_payments_delayed', 'radio_tv', 580, '100_to_500', 'greater_7', 3, 'male', 'none', 2, 'savings_insurance', 41, 'stores', 'own', 1, 'skilled', 1, 'yes', 'yes', 2.0, 0.0, 2.0, 1.0, 0.0, 0.0, 1.0, 0.0, 3.0, 0.0, 0.0, 0.0, 1.0, [2.0, 0.0, 3.0, 1.0, 2.0, 0.0, 0.0, 0.0, 1.0, 0.0, 0.0, 1.0, 0.0, 30.0, 580.0, 3.0, 2.0, 30.0, 41.0, 1.0, 1.0], [12.630952849962407, 7.369047150037596], [0.6315476424981202, 0.3684523575018797], 0.0, 'No Risk'], ['0_to_200', 28, 'credits_paid_to_date', 'furniture', 3382, 'less_100', '1_to_4', 3, 'male', 'none', 4, 'real_estate', 29, 'bank', 'own', 1, 'unskilled', 1, 'none', 'yes', 2.0, 1.0, 0.0, 0.0, 0.0, 0.0, 2.0, 1.0, 1.0, 0.0, 2.0, 0.0, 0.0, [2.0, 1.0, 1.0, 0.0, 0.0, 0.0, 0.0, 2.0, 2.0, 0.0, 1.0, 0.0, 0.0, 28.0, 3382.0, 3.0, 4.0, 28.0, 29.0, 1.0, 1.0], [15.43522946217801, 4.564770537821992], [0.7717614731089004, 0.22823852689109958], 0.0, 'No Risk'], ['no_checking', 29, 'prior_payments_delayed', 'car_used', 5081, '100_to_500', 'greater_7', 4, 'male', 'none', 3, 'car_other', 51, 'none', 'free', 2, 'management_self-employed', 2, 'yes', 'yes', 0.0, 0.0, 2.0, 1.0, 0.0, 2.0, 0.0, 2.0, 2.0, 0.0, 1.0, 0.0, 1.0, [0.0, 0.0, 2.0, 1.0, 2.0, 0.0, 0.0, 1.0, 0.0, 2.0, 2.0, 1.0, 0.0, 29.0, 5081.0, 4.0, 3.0, 29.0, 51.0, 2.0, 2.0], [5.450419245866753, 14.549580754133245], [0.27252096229333767, 0.7274790377066622], 1.0, 'Risk'], ['less_0', 16, 'credits_paid_to_date', 'furniture', 1696, 'less_100', '1_to_4', 3, 'female', 'none', 1, 'savings_insurance', 36, 'none', 'own', 1, 'skilled', 1, 'none', 'yes', 1.0, 1.0, 0.0, 0.0, 0.0, 0.0, 0.0, 0.0, 1.0, 0.0, 0.0, 1.0, 0.0, [21, [0, 1, 2, 5, 13, 14, 15, 16, 17, 18, 19, 20], [1.0, 1.0, 1.0, 1.0, 16.0, 1696.0, 3.0, 1.0, 16.0, 36.0, 1.0, 1.0]], [16.682333669034456, 3.317666330965541], [0.834116683451723, 0.1658833165482771], 0.0, 'No Risk'], ['no_checking', 15, 'prior_payments_delayed', 'furniture', 1337, 'unknown', '4_to_7', 3, 'male', 'none', 4, 'car_other', 50, 'bank', 'own', 1, 'unemployed', 1, 'none', 'yes', 0.0, 0.0, 1.0, 4.0, 0.0, 0.0, 2.0, 3.0, 1.0, 0.0, 1.0, 0.0, 0.0, [0.0, 0.0, 1.0, 4.0, 1.0, 0.0, 0.0, 1.0, 2.0, 0.0, 3.0, 0.0, 0.0, 15.0, 1337.0, 3.0, 4.0, 15.0, 50.0, 1.0, 1.0], [12.717226170004533, 7.282773829995469], [0.6358613085002266, 0.3641386914997734], 0.0, 'No Risk'], ['no_checking', 31, 'prior_payments_delayed', 'furniture', 7079, '100_to_500', 'less_1', 4, 'female', 'none', 3, 'car_other', 43, 'none', 'own', 2, 'skilled', 2, 'yes', 'yes', 0.0, 0.0, 3.0, 1.0, 0.0, 0.0, 0.0, 0.0, 1.0, 0.0, 1.0, 1.0, 1.0, [0.0, 0.0, 1.0, 1.0, 3.0, 1.0, 0.0, 1.0, 0.0, 0.0, 0.0, 1.0, 0.0, 31.0, 7079.0, 4.0, 3.0, 31.0, 43.0, 2.0, 2.0], [10.490636098051054, 9.509363901948946], [0.5245318049025527, 0.4754681950974473], 0.0, 'No Risk'], ['less_0', 4, 'all_credits_paid_back', 'car_new', 3440, 'less_100', 'less_1', 2, 'male', 'none', 2, 'savings_insurance', 20, 'none', 'own', 1, 'management_self-employed', 1, 'none', 'yes', 1.0, 3.0, 3.0, 0.0, 0.0, 0.0, 0.0, 2.0, 0.0, 0.0, 0.0, 0.0, 0.0, [21, [0, 1, 4, 10, 13, 14, 15, 16, 17, 18, 19, 20], [1.0, 3.0, 3.0, 2.0, 4.0, 3440.0, 2.0, 2.0, 4.0, 20.0, 1.0, 1.0]], [19.154086669633994, 0.8459133303660089], [0.9577043334816995, 0.04229566651830044], 0.0, 'No Risk'], ['no_checking', 20, 'credits_paid_to_date', 'car_new', 1381, '100_to_500', '1_to_4', 3, 'female', 'co-applicant', 4, 'real_estate', 44, 'none', 'own', 1, 'skilled', 1, 'yes', 'yes', 0.0, 1.0, 0.0, 1.0, 0.0, 0.0, 0.0, 0.0, 0.0, 1.0, 2.0, 1.0, 1.0, [0.0, 1.0, 0.0, 1.0, 0.0, 1.0, 1.0, 2.0, 0.0, 0.0, 0.0, 1.0, 0.0, 20.0, 1381.0, 3.0, 4.0, 20.0, 44.0, 1.0, 1.0], [15.890973215855604, 4.109026784144397], [0.7945486607927802, 0.20545133920721984], 0.0, 'No Risk'], ['less_0', 4, 'credits_paid_to_date', 'car_used', 640, 'less_100', 'less_1', 2, 'female', 'none', 2, 'real_estate', 19, 'bank', 'rent', 1, 'unskilled', 1, 'none', 'yes', 1.0, 1.0, 3.0, 0.0, 0.0, 1.0, 2.0, 1.0, 2.0, 0.0, 2.0, 1.0, 0.0, [1.0, 1.0, 2.0, 0.0, 3.0, 1.0, 0.0, 2.0, 2.0, 1.0, 1.0, 0.0, 0.0, 4.0, 640.0, 2.0, 2.0, 4.0, 19.0, 1.0, 1.0], [19.358154871530736, 0.6418451284692633], [0.9679077435765369, 0.03209225642346317], 0.0, 'No Risk'], ['no_checking', 8, 'credits_paid_to_date', 'appliances', 6768, 'less_100', '1_to_4', 3, 'female', 'none', 2, 'savings_insurance', 36, 'none', 'own', 1, 'management_self-employed', 1, 'none', 'no', 0.0, 1.0, 0.0, 0.0, 1.0, 0.0, 0.0, 2.0, 4.0, 0.0, 0.0, 1.0, 0.0, [0.0, 1.0, 4.0, 0.0, 0.0, 1.0, 0.0, 0.0, 0.0, 0.0, 2.0, 0.0, 1.0, 8.0, 6768.0, 3.0, 2.0, 8.0, 36.0, 1.0, 1.0], [17.10469800440875, 2.8953019955912525], [0.8552349002204374, 0.1447650997795626], 0.0, 'No Risk'], ['no_checking', 10, 'all_credits_paid_back', 'car_new', 2420, '500_to_1000', 'less_1', 3, 'male', 'none', 4, 'real_estate', 27, 'none', 'own', 2, 'management_self-employed', 2, 'none', 'no', 0.0, 3.0, 3.0, 2.0, 1.0, 0.0, 0.0, 2.0, 0.0, 0.0, 2.0, 0.0, 0.0, [0.0, 3.0, 0.0, 2.0, 3.0, 0.0, 0.0, 2.0, 0.0, 0.0, 2.0, 0.0, 1.0, 10.0, 2420.0, 3.0, 4.0, 10.0, 27.0, 2.0, 2.0], [16.603003670194507, 3.3969963298054937], [0.8301501835097254, 0.1698498164902747], 0.0, 'No Risk'], ['0_to_200', 20, 'credits_paid_to_date', 'car_new', 2231, 'less_100', '4_to_7', 3, 'male', 'none', 3, 'real_estate', 37, 'none', 'own', 1, 'skilled', 2, 'none', 'yes', 2.0, 1.0, 1.0, 0.0, 0.0, 0.0, 0.0, 0.0, 0.0, 0.0, 2.0, 0.0, 0.0, [21, [0, 1, 4, 7, 13, 14, 15, 16, 17, 18, 19, 20], [2.0, 1.0, 1.0, 2.0, 20.0, 2231.0, 3.0, 3.0, 20.0, 37.0, 1.0, 2.0]], [16.271104300316583, 3.7288956996834193], [0.8135552150158291, 0.18644478498417094], 0.0, 'No Risk'], ['0_to_200', 4, 'credits_paid_to_date', 'car_new', 825, 'less_100', 'unemployed', 2, 'female', 'none', 3, 'car_other', 37, 'stores', 'rent', 1, 'unskilled', 1, 'yes', 'yes', 2.0, 1.0, 4.0, 0.0, 0.0, 1.0, 1.0, 1.0, 0.0, 0.0, 1.0, 1.0, 1.0, [2.0, 1.0, 0.0, 0.0, 4.0, 1.0, 0.0, 1.0, 1.0, 1.0, 1.0, 1.0, 0.0, 4.0, 825.0, 2.0, 3.0, 4.0, 37.0, 1.0, 1.0], [16.53314613647051, 3.466853863529492], [0.8266573068235255, 0.1733426931764746], 0.0, 'No Risk'], ['less_0', 12, 'all_credits_paid_back', 'radio_tv', 511, '100_to_500', '1_to_4', 3, 'male', 'none', 3, 'real_estate', 26, 'none', 'rent', 1, 'skilled', 1, 'none', 'yes', 1.0, 3.0, 0.0, 1.0, 0.0, 1.0, 0.0, 0.0, 3.0, 0.0, 2.0, 0.0, 0.0, [1.0, 3.0, 3.0, 1.0, 0.0, 0.0, 0.0, 2.0, 0.0, 1.0, 0.0, 0.0, 0.0, 12.0, 511.0, 3.0, 3.0, 12.0, 26.0, 1.0, 1.0], [18.9841656101777, 1.015834389822296], [0.9492082805088853, 0.05079171949111481], 0.0, 'No Risk'], ['0_to_200', 11, 'credits_paid_to_date', 'furniture', 4157, 'less_100', 'less_1', 1, 'female', 'none', 3, 'real_estate', 33, 'bank', 'rent', 2, 'unskilled', 1, 'none', 'yes', 2.0, 1.0, 3.0, 0.0, 0.0, 1.0, 2.0, 1.0, 1.0, 0.0, 2.0, 1.0, 0.0, [2.0, 1.0, 1.0, 0.0, 3.0, 1.0, 0.0, 2.0, 2.0, 1.0, 1.0, 0.0, 0.0, 11.0, 4157.0, 1.0, 3.0, 11.0, 33.0, 2.0, 1.0], [16.769864470034946, 3.230135529965058], [0.8384932235017472, 0.16150677649825287], 0.0, 'No Risk'], ['0_to_200', 4, 'all_credits_paid_back', 'car_new', 250, 'less_100', 'less_1', 2, 'male', 'none', 1, 'real_estate', 21, 'none', 'own', 1, 'skilled', 1, 'none', 'yes', 2.0, 3.0, 3.0, 0.0, 0.0, 0.0, 0.0, 0.0, 0.0, 0.0, 2.0, 0.0, 0.0, [21, [0, 1, 4, 7, 13, 14, 15, 16, 17, 18, 19, 20], [2.0, 3.0, 3.0, 2.0, 4.0, 250.0, 2.0, 1.0, 4.0, 21.0, 1.0, 1.0]], [19.645328442625573, 0.3546715573744284], [0.9822664221312787, 0.01773357786872142], 0.0, 'No Risk'], ['no_checking', 9, 'credits_paid_to_date', 'furniture', 2516, 'less_100', '1_to_4', 3, 'male', 'none', 3, 'real_estate', 35, 'none', 'own', 1, 'management_self-employed', 1, 'none', 'yes', 0.0, 1.0, 0.0, 0.0, 0.0, 0.0, 0.0, 2.0, 1.0, 0.0, 2.0, 0.0, 0.0, [21, [1, 2, 7, 10, 13, 14, 15, 16, 17, 18, 19, 20], [1.0, 1.0, 2.0, 2.0, 9.0, 2516.0, 3.0, 3.0, 9.0, 35.0, 1.0, 1.0]], [17.736404449775936, 2.263595550224064], [0.8868202224887968, 0.1131797775112032], 0.0, 'No Risk'], ['0_to_200', 28, 'outstanding_credit', 'radio_tv', 4901, '100_to_500', 'greater_7', 4, 'male', 'none', 2, 'unknown', 41, 'bank', 'own', 2, 'unemployed', 2, 'yes', 'yes', 2.0, 2.0, 2.0, 1.0, 0.0, 0.0, 2.0, 3.0, 3.0, 0.0, 3.0, 0.0, 1.0, [2.0, 2.0, 3.0, 1.0, 2.0, 0.0, 0.0, 3.0, 2.0, 0.0, 3.0, 1.0, 0.0, 28.0, 4901.0, 4.0, 2.0, 28.0, 41.0, 2.0, 2.0], [13.593614153810877, 6.406385846189126], [0.6796807076905438, 0.32031929230945627], 0.0, 'No Risk'], ['less_0', 11, 'all_credits_paid_back', 'appliances', 250, 'less_100', 'unemployed', 2, 'male', 'none', 2, 'real_estate', 19, 'bank', 'rent', 1, 'unskilled', 1, 'none', 'yes', 1.0, 3.0, 4.0, 0.0, 0.0, 1.0, 2.0, 1.0, 4.0, 0.0, 2.0, 0.0, 0.0, [1.0, 3.0, 4.0, 0.0, 4.0, 0.0, 0.0, 2.0, 2.0, 1.0, 1.0, 0.0, 0.0, 11.0, 250.0, 2.0, 2.0, 11.0, 19.0, 1.0, 1.0], [19.725142349398816, 0.27485765060118367], [0.9862571174699408, 0.013742882530059184], 0.0, 'No Risk'], ['no_checking', 29, 'outstanding_credit', 'repairs', 7243, 'unknown', 'greater_7', 5, 'male', 'co-applicant', 5, 'car_other', 54, 'stores', 'own', 2, 'unskilled', 2, 'yes', 'yes', 0.0, 2.0, 2.0, 4.0, 0.0, 0.0, 1.0, 1.0, 5.0, 1.0, 1.0, 0.0, 1.0, [0.0, 2.0, 5.0, 4.0, 2.0, 0.0, 1.0, 1.0, 1.0, 0.0, 1.0, 1.0, 0.0, 29.0, 7243.0, 5.0, 5.0, 29.0, 54.0, 2.0, 2.0], [2.254005145952683, 17.745994854047318], [0.11270025729763415, 0.8872997427023659], 1.0, 'Risk'], ['greater_200', 19, 'all_credits_paid_back', 'car_new', 250, 'less_100', 'unemployed', 2, 'female', 'none', 2, 'savings_insurance', 29, 'none', 'own', 1, 'skilled', 1, 'none', 'yes', 3.0, 3.0, 4.0, 0.0, 0.0, 0.0, 0.0, 0.0, 0.0, 0.0, 0.0, 1.0, 0.0, [21, [0, 1, 4, 5, 13, 14, 15, 16, 17, 18, 19, 20], [3.0, 3.0, 4.0, 1.0, 19.0, 250.0, 2.0, 2.0, 19.0, 29.0, 1.0, 1.0]], [18.324075734697775, 1.6759242653022253], [0.9162037867348888, 0.08379621326511126], 0.0, 'No Risk'], ['0_to_200', 34, 'outstanding_credit', 'repairs', 4905, '100_to_500', '1_to_4', 4, 'male', 'none', 2, 'car_other', 43, 'none', 'own', 2, 'skilled', 1, 'yes', 'yes', 2.0, 2.0, 0.0, 1.0, 0.0, 0.0, 0.0, 0.0, 5.0, 0.0, 1.0, 0.0, 1.0, [2.0, 2.0, 5.0, 1.0, 0.0, 0.0, 0.0, 1.0, 0.0, 0.0, 0.0, 1.0, 0.0, 34.0, 4905.0, 4.0, 2.0, 34.0, 43.0, 2.0, 1.0], [12.711282742787747, 7.2887172572122525], [0.6355641371393873, 0.36443586286061264], 0.0, 'No Risk'], ['0_to_200', 6, 'prior_payments_delayed', 'car_used', 613, 'less_100', '1_to_4', 2, 'male', 'none', 2, 'car_other', 34, 'none', 'own', 1, 'skilled', 1, 'none', 'yes', 2.0, 0.0, 0.0, 0.0, 0.0, 0.0, 0.0, 0.0, 2.0, 0.0, 1.0, 0.0, 0.0, [21, [0, 2, 7, 13, 14, 15, 16, 17, 18, 19, 20], [2.0, 2.0, 1.0, 6.0, 613.0, 2.0, 2.0, 6.0, 34.0, 1.0, 1.0]], [16.9399985203956, 3.060001479604398], [0.84699992601978, 0.15300007398021992], 0.0, 'No Risk'], ['0_to_200', 17, 'credits_paid_to_date', 'furniture', 2038, '100_to_500', '1_to_4', 3, 'male', 'none', 3, 'savings_insurance', 27, 'none', 'own', 1, 'skilled', 1, 'none', 'yes', 2.0, 1.0, 0.0, 1.0, 0.0, 0.0, 0.0, 0.0, 1.0, 0.0, 0.0, 0.0, 0.0, [21, [0, 1, 2, 3, 13, 14, 15, 16, 17, 18, 19, 20], [2.0, 1.0, 1.0, 1.0, 17.0, 2038.0, 3.0, 3.0, 17.0, 27.0, 1.0, 1.0]], [16.54361309157234, 3.4563869084276644], [0.8271806545786168, 0.1728193454213832], 0.0, 'No Risk'], ['no_checking', 26, 'prior_payments_delayed', 'furniture', 4127, 'unknown', '4_to_7', 3, 'male', 'none', 4, 'car_other', 46, 'none', 'own', 2, 'skilled', 2, 'yes', 'yes', 0.0, 0.0, 1.0, 4.0, 0.0, 0.0, 0.0, 0.0, 1.0, 0.0, 1.0, 0.0, 1.0, [0.0, 0.0, 1.0, 4.0, 1.0, 0.0, 0.0, 1.0, 0.0, 0.0, 0.0, 1.0, 0.0, 26.0, 4127.0, 3.0, 4.0, 26.0, 46.0, 2.0, 2.0], [8.06245137507063, 11.937548624929372], [0.4031225687535315, 0.5968774312464686], 1.0, 'Risk'], ['no_checking', 32, 'prior_payments_delayed', 'radio_tv', 6873, 'unknown', 'greater_7', 3, 'male', 'co-applicant', 3, 'car_other', 44, 'none', 'own', 2, 'skilled', 1, 'none', 'yes', 0.0, 0.0, 2.0, 4.0, 0.0, 0.0, 0.0, 0.0, 3.0, 1.0, 1.0, 0.0, 0.0, [0.0, 0.0, 3.0, 4.0, 2.0, 0.0, 1.0, 1.0, 0.0, 0.0, 0.0, 0.0, 0.0, 32.0, 6873.0, 3.0, 3.0, 32.0, 44.0, 2.0, 1.0], [4.41622851161002, 15.58377148838998], [0.22081142558050101, 0.779188574419499], 1.0, 'Risk'], ['less_0', 10, 'all_credits_paid_back', 'car_used', 250, 'less_100', 'less_1', 2, 'female', 'none', 1, 'real_estate', 21, 'none', 'own', 1, 'skilled', 1, 'none', 'yes', 1.0, 3.0, 3.0, 0.0, 0.0, 0.0, 0.0, 0.0, 2.0, 0.0, 2.0, 1.0, 0.0, [1.0, 3.0, 2.0, 0.0, 3.0, 1.0, 0.0, 2.0, 0.0, 0.0, 0.0, 0.0, 0.0, 10.0, 250.0, 2.0, 1.0, 10.0, 21.0, 1.0, 1.0], [19.645328442625573, 0.3546715573744284], [0.9822664221312787, 0.01773357786872142], 0.0, 'No Risk'], ['greater_200', 27, 'outstanding_credit', 'radio_tv', 3809, '500_to_1000', 'greater_7', 3, 'female', 'none', 2, 'savings_insurance', 52, 'stores', 'own', 1, 'unskilled', 1, 'yes', 'yes', 3.0, 2.0, 2.0, 2.0, 0.0, 0.0, 1.0, 1.0, 3.0, 0.0, 0.0, 1.0, 1.0, [3.0, 2.0, 3.0, 2.0, 2.0, 1.0, 0.0, 0.0, 1.0, 0.0, 1.0, 1.0, 0.0, 27.0, 3809.0, 3.0, 2.0, 27.0, 52.0, 1.0, 1.0], [9.988224174056159, 10.011775825943841], [0.4994112087028079, 0.500588791297192], 1.0, 'Risk'], ['less_0', 4, 'all_credits_paid_back', 'car_new', 250, '100_to_500', 'unemployed', 1, 'female', 'none', 2, 'real_estate', 21, 'none', 'own', 1, 'skilled', 1, 'none', 'yes', 1.0, 3.0, 4.0, 1.0, 0.0, 0.0, 0.0, 0.0, 0.0, 0.0, 2.0, 1.0, 0.0, [1.0, 3.0, 0.0, 1.0, 4.0, 1.0, 0.0, 2.0, 0.0, 0.0, 0.0, 0.0, 0.0, 4.0, 250.0, 1.0, 2.0, 4.0, 21.0, 1.0, 1.0], [19.69752064172377, 0.30247935827623135], [0.9848760320861885, 0.015123967913811567], 0.0, 'No Risk'], ['no_checking', 38, 'outstanding_credit', 'repairs', 3921, 'greater_1000', 'greater_7', 4, 'male', 'co-applicant', 5, 'unknown', 36, 'none', 'free', 2, 'skilled', 1, 'yes', 'yes', 0.0, 2.0, 2.0, 3.0, 0.0, 2.0, 0.0, 0.0, 5.0, 1.0, 3.0, 0.0, 1.0, [0.0, 2.0, 5.0, 3.0, 2.0, 0.0, 1.0, 3.0, 0.0, 2.0, 0.0, 1.0, 0.0, 38.0, 3921.0, 4.0, 5.0, 38.0, 36.0, 2.0, 1.0], [4.726104963281096, 15.2738950367189], [0.23630524816405485, 0.7636947518359452], 1.0, 'Risk'], ['0_to_200', 11, 'credits_paid_to_date', 'furniture', 321, 'less_100', 'less_1', 2, 'female', 'none', 3, 'real_estate', 23, 'bank', 'rent', 1, 'unskilled', 1, 'none', 'yes', 2.0, 1.0, 3.0, 0.0, 0.0, 1.0, 2.0, 1.0, 1.0, 0.0, 2.0, 1.0, 0.0, [2.0, 1.0, 1.0, 0.0, 3.0, 1.0, 0.0, 2.0, 2.0, 1.0, 1.0, 0.0, 0.0, 11.0, 321.0, 2.0, 3.0, 11.0, 23.0, 1.0, 1.0], [18.95231787163061, 1.0476821283693871], [0.9476158935815306, 0.05238410641846936], 0.0, 'No Risk'], ['no_checking', 10, 'credits_paid_to_date', 'appliances', 3369, 'less_100', '1_to_4', 3, 'male', 'none', 4, 'savings_insurance', 40, 'none', 'free', 1, 'management_self-employed', 1, 'yes', 'no', 0.0, 1.0, 0.0, 0.0, 1.0, 2.0, 0.0, 2.0, 4.0, 0.0, 0.0, 0.0, 1.0, [0.0, 1.0, 4.0, 0.0, 0.0, 0.0, 0.0, 0.0, 0.0, 2.0, 2.0, 1.0, 1.0, 10.0, 3369.0, 3.0, 4.0, 10.0, 40.0, 1.0, 1.0], [15.174768335909123, 4.825231664090876], [0.7587384167954562, 0.2412615832045438], 0.0, 'No Risk'], ['0_to_200', 16, 'credits_paid_to_date', 'car_used', 2874, 'less_100', 'less_1', 3, 'female', 'none', 3, 'real_estate', 27, 'none', 'own', 1, 'skilled', 1, 'none', 'yes', 2.0, 1.0, 3.0, 0.0, 0.0, 0.0, 0.0, 0.0, 2.0, 0.0, 2.0, 1.0, 0.0, [2.0, 1.0, 2.0, 0.0, 3.0, 1.0, 0.0, 2.0, 0.0, 0.0, 0.0, 0.0, 0.0, 16.0, 2874.0, 3.0, 3.0, 16.0, 27.0, 1.0, 1.0], [18.74815286764124, 1.2518471323587586], [0.9374076433820621, 0.06259235661793792], 0.0, 'No Risk'], ['no_checking', 16, 'outstanding_credit', 'radio_tv', 7162, '100_to_500', '4_to_7', 5, 'male', 'none', 4, 'unknown', 51, 'none', 'free', 2, 'skilled', 2, 'yes', 'yes', 0.0, 2.0, 1.0, 1.0, 0.0, 2.0, 0.0, 0.0, 3.0, 0.0, 3.0, 0.0, 1.0, [0.0, 2.0, 3.0, 1.0, 1.0, 0.0, 0.0, 3.0, 0.0, 2.0, 0.0, 1.0, 0.0, 16.0, 7162.0, 5.0, 4.0, 16.0, 51.0, 2.0, 2.0], [9.085039886312275, 10.914960113687727], [0.45425199431561375, 0.5457480056843863], 1.0, 'Risk'], ['less_0', 14, 'credits_paid_to_date', 'furniture', 4683, 'less_100', '1_to_4', 3, 'male', 'none', 3, 'unknown', 34, 'none', 'own', 1, 'skilled', 1, 'none', 'yes', 1.0, 1.0, 0.0, 0.0, 0.0, 0.0, 0.0, 0.0, 1.0, 0.0, 3.0, 0.0, 0.0, [21, [0, 1, 2, 7, 13, 14, 15, 16, 17, 18, 19, 20], [1.0, 1.0, 1.0, 3.0, 14.0, 4683.0, 3.0, 3.0, 14.0, 34.0, 1.0, 1.0]], [15.69752767552091, 4.302472324479091], [0.7848763837760455, 0.21512361622395454], 0.0, 'No Risk'], ['no_checking', 9, 'credits_paid_to_date', 'car_used', 1848, 'less_100', '1_to_4', 3, 'female', 'none', 2, 'real_estate', 31, 'none', 'own', 2, 'skilled', 2, 'yes', 'yes', 0.0, 1.0, 0.0, 0.0, 0.0, 0.0, 0.0, 0.0, 2.0, 0.0, 2.0, 1.0, 1.0, [0.0, 1.0, 2.0, 0.0, 0.0, 1.0, 0.0, 2.0, 0.0, 0.0, 0.0, 1.0, 0.0, 9.0, 1848.0, 3.0, 2.0, 9.0, 31.0, 2.0, 2.0], [14.924974910591066, 5.075025089408935], [0.7462487455295533, 0.2537512544704467], 0.0, 'No Risk'], ['less_0', 4, 'all_credits_paid_back', 'car_new', 250, 'less_100', 'unemployed', 1, 'female', 'none', 2, 'real_estate', 19, 'bank', 'rent', 1, 'unskilled', 1, 'none', 'yes', 1.0, 3.0, 4.0, 0.0, 0.0, 1.0, 2.0, 1.0, 0.0, 0.0, 2.0, 1.0, 0.0, [1.0, 3.0, 0.0, 0.0, 4.0, 1.0, 0.0, 2.0, 2.0, 1.0, 1.0, 0.0, 0.0, 4.0, 250.0, 1.0, 2.0, 4.0, 19.0, 1.0, 1.0], [19.705858602842344, 0.29414139715765747], [0.9852929301421172, 0.014707069857882874], 0.0, 'No Risk'], ['less_0', 4, 'all_credits_paid_back', 'car_new', 250, 'less_100', '1_to_4', 2, 'female', 'none', 1, 'real_estate', 19, 'none', 'own', 1, 'skilled', 1, 'none', 'yes', 1.0, 3.0, 0.0, 0.0, 0.0, 0.0, 0.0, 0.0, 0.0, 0.0, 2.0, 1.0, 0.0, [21, [0, 1, 5, 7, 13, 14, 15, 16, 17, 18, 19, 20], [1.0, 3.0, 1.0, 2.0, 4.0, 250.0, 2.0, 1.0, 4.0, 19.0, 1.0, 1.0]], [19.35812824329942, 0.6418717567005812], [0.967906412164971, 0.03209358783502906], 0.0, 'No Risk'], ['less_0', 4, 'credits_paid_to_date', 'radio_tv', 250, 'less_100', '1_to_4', 2, 'male', 'none', 1, 'savings_insurance', 30, 'stores', 'rent', 1, 'skilled', 1, 'yes', 'yes', 1.0, 1.0, 0.0, 0.0, 0.0, 1.0, 1.0, 0.0, 3.0, 0.0, 0.0, 0.0, 1.0, [1.0, 1.0, 3.0, 0.0, 0.0, 0.0, 0.0, 0.0, 1.0, 1.0, 0.0, 1.0, 0.0, 4.0, 250.0, 2.0, 1.0, 4.0, 30.0, 1.0, 1.0], [18.33222177236674, 1.6677782276332578], [0.9166110886183372, 0.0833889113816629], 0.0, 'No Risk'], ['less_0', 23, 'credits_paid_to_date', 'radio_tv', 250, 'less_100', '1_to_4', 3, 'female', 'none', 3, 'savings_insurance', 19, 'stores', 'own', 1, 'skilled', 1, 'none', 'yes', 1.0, 1.0, 0.0, 0.0, 0.0, 0.0, 1.0, 0.0, 3.0, 0.0, 0.0, 1.0, 0.0, [1.0, 1.0, 3.0, 0.0, 0.0, 1.0, 0.0, 0.0, 1.0, 0.0, 0.0, 0.0, 0.0, 23.0, 250.0, 3.0, 3.0, 23.0, 19.0, 1.0, 1.0], [15.233151825928438, 4.766848174071564], [0.7616575912964219, 0.2383424087035782], 0.0, 'No Risk'], ['greater_200', 15, 'credits_paid_to_date', 'car_used', 3906, 'less_100', '4_to_7', 4, 'female', 'none', 3, 'car_other', 39, 'stores', 'own', 1, 'unskilled', 1, 'yes', 'yes', 3.0, 1.0, 1.0, 0.0, 0.0, 0.0, 1.0, 1.0, 2.0, 0.0, 1.0, 1.0, 1.0, [3.0, 1.0, 2.0, 0.0, 1.0, 1.0, 0.0, 1.0, 1.0, 0.0, 1.0, 1.0, 0.0, 15.0, 3906.0, 4.0, 3.0, 15.0, 39.0, 1.0, 1.0], [13.563135006209661, 6.43686499379034], [0.6781567503104831, 0.321843249689517], 0.0, 'No Risk'], ['0_to_200', 18, 'prior_payments_delayed', 'education', 2609, 'greater_1000', 'greater_7', 4, 'male', 'none', 2, 'car_other', 45, 'bank', 'rent', 1, 'unemployed', 1, 'none', 'yes', 2.0, 0.0, 2.0, 3.0, 0.0, 1.0, 2.0, 3.0, 7.0, 0.0, 1.0, 0.0, 0.0, [2.0, 0.0, 7.0, 3.0, 2.0, 0.0, 0.0, 1.0, 2.0, 1.0, 3.0, 0.0, 0.0, 18.0, 2609.0, 4.0, 2.0, 18.0, 45.0, 1.0, 1.0], [14.087087699550704, 5.912912300449298], [0.7043543849775352, 0.2956456150224649], 0.0, 'No Risk'], ['less_0', 4, 'prior_payments_delayed', 'car_new', 250, 'less_100', 'unemployed', 1, 'female', 'none', 1, 'savings_insurance', 24, 'stores', 'rent', 1, 'skilled', 1, 'none', 'yes', 1.0, 0.0, 4.0, 0.0, 0.0, 1.0, 1.0, 0.0, 0.0, 0.0, 0.0, 1.0, 0.0, [1.0, 0.0, 0.0, 0.0, 4.0, 1.0, 0.0, 0.0, 1.0, 1.0, 0.0, 0.0, 0.0, 4.0, 250.0, 1.0, 1.0, 4.0, 24.0, 1.0, 1.0], [18.983426466012826, 1.0165735339871749], [0.9491713233006414, 0.05082867669935874], 0.0, 'No Risk'], ['no_checking', 28, 'prior_payments_delayed', 'radio_tv', 5864, '100_to_500', '1_to_4', 3, 'male', 'none', 4, 'unknown', 43, 'none', 'own', 2, 'skilled', 1, 'yes', 'yes', 0.0, 0.0, 0.0, 1.0, 0.0, 0.0, 0.0, 0.0, 3.0, 0.0, 3.0, 0.0, 1.0, [21, [2, 3, 7, 11, 13, 14, 15, 16, 17, 18, 19, 20], [3.0, 1.0, 3.0, 1.0, 28.0, 5864.0, 3.0, 4.0, 28.0, 43.0, 2.0, 1.0]], [10.561434792570807, 9.438565207429194], [0.5280717396285404, 0.47192826037145974], 0.0, 'No Risk'], ['no_checking', 38, 'credits_paid_to_date', 'appliances', 5921, '100_to_500', '4_to_7', 3, 'male', 'none', 2, 'savings_insurance', 42, 'stores', 'rent', 1, 'unskilled', 1, 'yes', 'yes', 0.0, 1.0, 1.0, 1.0, 0.0, 1.0, 1.0, 1.0, 4.0, 0.0, 0.0, 0.0, 1.0, [0.0, 1.0, 4.0, 1.0, 1.0, 0.0, 0.0, 0.0, 1.0, 1.0, 1.0, 1.0, 0.0, 38.0, 5921.0, 3.0, 2.0, 38.0, 42.0, 1.0, 1.0], [13.035619533347727, 6.96438046665227], [0.6517809766673864, 0.34821902333261356], 0.0, 'No Risk'], ['0_to_200', 15, 'credits_paid_to_date', 'car_used', 6254, '100_to_500', 'less_1', 2, 'male', 'none', 3, 'unknown', 30, 'none', 'own', 1, 'skilled', 2, 'yes', 'yes', 2.0, 1.0, 3.0, 1.0, 0.0, 0.0, 0.0, 0.0, 2.0, 0.0, 3.0, 0.0, 1.0, [2.0, 1.0, 2.0, 1.0, 3.0, 0.0, 0.0, 3.0, 0.0, 0.0, 0.0, 1.0, 0.0, 15.0, 6254.0, 2.0, 3.0, 15.0, 30.0, 1.0, 2.0], [16.7212281000044, 3.278771899995603], [0.8360614050002199, 0.1639385949997801], 0.0, 'No Risk'], ['less_0', 9, 'all_credits_paid_back', 'vacation', 250, 'less_100', '1_to_4', 1, 'male', 'none', 1, 'real_estate', 30, 'stores', 'rent', 1, 'skilled', 1, 'none', 'yes', 1.0, 3.0, 0.0, 0.0, 0.0, 1.0, 1.0, 0.0, 6.0, 0.0, 2.0, 0.0, 0.0, [1.0, 3.0, 6.0, 0.0, 0.0, 0.0, 0.0, 2.0, 1.0, 1.0, 0.0, 0.0, 0.0, 9.0, 250.0, 1.0, 1.0, 9.0, 30.0, 1.0, 1.0], [19.41446797166891, 0.5855320283310923], [0.9707233985834455, 0.029276601416554617], 0.0, 'No Risk'], ['no_checking', 18, 'credits_paid_to_date', 'car_used', 2877, 'greater_1000', '1_to_4', 4, 'male', 'none', 3, 'real_estate', 49, 'none', 'own', 2, 'management_self-employed', 2, 'none', 'yes', 0.0, 1.0, 0.0, 3.0, 0.0, 0.0, 0.0, 2.0, 2.0, 0.0, 2.0, 0.0, 0.0, [0.0, 1.0, 2.0, 3.0, 0.0, 0.0, 0.0, 2.0, 0.0, 0.0, 2.0, 0.0, 0.0, 18.0, 2877.0, 4.0, 3.0, 18.0, 49.0, 2.0, 2.0], [12.567000230845226, 7.432999769154778], [0.6283500115422612, 0.37164998845773883], 0.0, 'No Risk'], ['less_0', 4, 'credits_paid_to_date', 'radio_tv', 250, 'less_100', '1_to_4', 2, 'female', 'none', 1, 'real_estate', 29, 'none', 'own', 1, 'management_self-employed', 1, 'none', 'yes', 1.0, 1.0, 0.0, 0.0, 0.0, 0.0, 0.0, 2.0, 3.0, 0.0, 2.0, 1.0, 0.0, [1.0, 1.0, 3.0, 0.0, 0.0, 1.0, 0.0, 2.0, 0.0, 0.0, 2.0, 0.0, 0.0, 4.0, 250.0, 2.0, 1.0, 4.0, 29.0, 1.0, 1.0], [19.143279087961105, 0.8567209120388946], [0.9571639543980552, 0.042836045601944726], 0.0, 'No Risk'], ['0_to_200', 18, 'credits_paid_to_date', 'furniture', 1368, 'less_100', '1_to_4', 2, 'male', 'none', 2, 'real_estate', 19, 'none', 'own', 1, 'skilled', 1, 'none', 'yes', 2.0, 1.0, 0.0, 0.0, 0.0, 0.0, 0.0, 0.0, 1.0, 0.0, 2.0, 0.0, 0.0, [21, [0, 1, 2, 7, 13, 14, 15, 16, 17, 18, 19, 20], [2.0, 1.0, 1.0, 2.0, 18.0, 1368.0, 2.0, 2.0, 18.0, 19.0, 1.0, 1.0]], [18.056698530319434, 1.943301469680566], [0.9028349265159716, 0.0971650734840283], 0.0, 'No Risk'], ['0_to_200', 22, 'credits_paid_to_date', 'radio_tv', 6929, 'less_100', '4_to_7', 4, 'female', 'none', 2, 'savings_insurance', 31, 'none', 'own', 2, 'skilled', 1, 'none', 'yes', 2.0, 1.0, 1.0, 0.0, 0.0, 0.0, 0.0, 0.0, 3.0, 0.0, 0.0, 1.0, 0.0, [2.0, 1.0, 3.0, 0.0, 1.0, 1.0, 0.0, 0.0, 0.0, 0.0, 0.0, 0.0, 0.0, 22.0, 6929.0, 4.0, 2.0, 22.0, 31.0, 2.0, 1.0], [13.709739997011953, 6.29026000298805], [0.6854869998505976, 0.3145130001494024], 0.0, 'No Risk'], ['greater_200', 45, 'outstanding_credit', 'repairs', 2327, 'greater_1000', 'greater_7', 4, 'male', 'none', 2, 'savings_insurance', 33, 'none', 'own', 2, 'skilled', 1, 'none', 'yes', 3.0, 2.0, 2.0, 3.0, 0.0, 0.0, 0.0, 0.0, 5.0, 0.0, 0.0, 0.0, 0.0, [3.0, 2.0, 5.0, 3.0, 2.0, 0.0, 0.0, 0.0, 0.0, 0.0, 0.0, 0.0, 0.0, 45.0, 2327.0, 4.0, 2.0, 45.0, 33.0, 2.0, 1.0], [12.474028154724822, 7.52597184527518], [0.623701407736241, 0.376298592263759], 0.0, 'No Risk'], ['no_checking', 32, 'outstanding_credit', 'other', 6551, '500_to_1000', 'greater_7', 4, 'male', 'none', 3, 'unknown', 52, 'none', 'free', 3, 'skilled', 1, 'yes', 'yes', 0.0, 2.0, 2.0, 2.0, 0.0, 2.0, 0.0, 0.0, 10.0, 0.0, 3.0, 0.0, 1.0, [0.0, 2.0, 10.0, 2.0, 2.0, 0.0, 0.0, 3.0, 0.0, 2.0, 0.0, 1.0, 0.0, 32.0, 6551.0, 4.0, 3.0, 32.0, 52.0, 3.0, 1.0], [3.2639891060835313, 16.73601089391647], [0.16319945530417657, 0.8368005446958234], 1.0, 'Risk'], ['less_0', 12, 'all_credits_paid_back', 'furniture', 250, 'less_100', 'unemployed', 1, 'female', 'none', 2, 'real_estate', 25, 'none', 'rent', 1, 'skilled', 1, 'none', 'yes', 1.0, 3.0, 4.0, 0.0, 0.0, 1.0, 0.0, 0.0, 1.0, 0.0, 2.0, 1.0, 0.0, [1.0, 3.0, 1.0, 0.0, 4.0, 1.0, 0.0, 2.0, 0.0, 1.0, 0.0, 0.0, 0.0, 12.0, 250.0, 1.0, 2.0, 12.0, 25.0, 1.0, 1.0], [19.694839319095788, 0.305160680904214], [0.9847419659547892, 0.015258034045210696], 0.0, 'No Risk'], ['no_checking', 24, 'prior_payments_delayed', 'retraining', 2007, '100_to_500', '1_to_4', 3, 'male', 'none', 3, 'savings_insurance', 38, 'none', 'own', 1, 'skilled', 1, 'none', 'yes', 0.0, 0.0, 0.0, 1.0, 0.0, 0.0, 0.0, 0.0, 8.0, 0.0, 0.0, 0.0, 0.0, [21, [2, 3, 13, 14, 15, 16, 17, 18, 19, 20], [8.0, 1.0, 24.0, 2007.0, 3.0, 3.0, 24.0, 38.0, 1.0, 1.0]], [14.306150543928672, 5.693849456071329], [0.7153075271964335, 0.28469247280356647], 0.0, 'No Risk'], ['less_0', 5, 'all_credits_paid_back', 'car_new', 250, 'less_100', 'unemployed', 1, 'male', 'none', 1, 'savings_insurance', 31, 'stores', 'own', 1, 'skilled', 1, 'none', 'yes', 1.0, 3.0, 4.0, 0.0, 0.0, 0.0, 1.0, 0.0, 0.0, 0.0, 0.0, 0.0, 0.0, [21, [0, 1, 4, 8, 13, 14, 15, 16, 17, 18, 19, 20], [1.0, 3.0, 4.0, 1.0, 5.0, 250.0, 1.0, 1.0, 5.0, 31.0, 1.0, 1.0]], [19.340428679495442, 0.6595713205045594], [0.9670214339747721, 0.032978566025227966], 0.0, 'No Risk'], ['0_to_200', 31, 'credits_paid_to_date', 'radio_tv', 350, '100_to_500', '1_to_4', 3, 'male', 'co-applicant', 3, 'real_estate', 30, 'none', 'own', 1, 'skilled', 1, 'none', 'yes', 2.0, 1.0, 0.0, 1.0, 0.0, 0.0, 0.0, 0.0, 3.0, 1.0, 2.0, 0.0, 0.0, [2.0, 1.0, 3.0, 1.0, 0.0, 0.0, 1.0, 2.0, 0.0, 0.0, 0.0, 0.0, 0.0, 31.0, 350.0, 3.0, 3.0, 31.0, 30.0, 1.0, 1.0], [14.83555518736576, 5.164444812634243], [0.7417777593682878, 0.2582222406317121], 0.0, 'No Risk'], ['no_checking', 28, 'outstanding_credit', 'appliances', 5425, '500_to_1000', '4_to_7', 3, 'male', 'none', 4, 'savings_insurance', 49, 'none', 'own', 1, 'management_self-employed', 2, 'yes', 'no', 0.0, 2.0, 1.0, 2.0, 1.0, 0.0, 0.0, 2.0, 4.0, 0.0, 0.0, 0.0, 1.0, [0.0, 2.0, 4.0, 2.0, 1.0, 0.0, 0.0, 0.0, 0.0, 0.0, 2.0, 1.0, 1.0, 28.0, 5425.0, 3.0, 4.0, 28.0, 49.0, 1.0, 2.0], [10.576883816932346, 9.423116183067652], [0.5288441908466173, 0.4711558091533826], 0.0, 'No Risk'], ['no_checking', 37, 'prior_payments_delayed', 'furniture', 5536, '500_to_1000', '4_to_7', 3, 'male', 'none', 4, 'savings_insurance', 47, 'stores', 'free', 2, 'unskilled', 1, 'yes', 'yes', 0.0, 0.0, 1.0, 2.0, 0.0, 2.0, 1.0, 1.0, 1.0, 0.0, 0.0, 0.0, 1.0, [0.0, 0.0, 1.0, 2.0, 1.0, 0.0, 0.0, 0.0, 1.0, 2.0, 1.0, 1.0, 0.0, 37.0, 5536.0, 3.0, 4.0, 37.0, 47.0, 2.0, 1.0], [9.252518702281254, 10.747481297718748], [0.4626259351140627, 0.5373740648859374], 1.0, 'Risk'], ['no_checking', 47, 'outstanding_credit', 'business', 8011, 'greater_1000', '4_to_7', 5, 'male', 'co-applicant', 5, 'unknown', 47, 'none', 'free', 2, 'skilled', 1, 'yes', 'yes', 0.0, 2.0, 1.0, 3.0, 0.0, 2.0, 0.0, 0.0, 9.0, 1.0, 3.0, 0.0, 1.0, [0.0, 2.0, 9.0, 3.0, 1.0, 0.0, 1.0, 3.0, 0.0, 2.0, 0.0, 1.0, 0.0, 47.0, 8011.0, 5.0, 5.0, 47.0, 47.0, 2.0, 1.0], [4.271237303030379, 15.728762696969623], [0.21356186515151893, 0.7864381348484811], 1.0, 'Risk'], ['less_0', 26, 'prior_payments_delayed', 'car_used', 3028, '100_to_500', 'less_1', 2, 'male', 'co-applicant', 3, 'car_other', 40, 'stores', 'own', 2, 'unskilled', 1, 'none', 'yes', 1.0, 0.0, 3.0, 1.0, 0.0, 0.0, 1.0, 1.0, 2.0, 1.0, 1.0, 0.0, 0.0, [1.0, 0.0, 2.0, 1.0, 3.0, 0.0, 1.0, 1.0, 1.0, 0.0, 1.0, 0.0, 0.0, 26.0, 3028.0, 2.0, 3.0, 26.0, 40.0, 2.0, 1.0], [13.091051834610996, 6.9089481653890035], [0.6545525917305498, 0.3454474082694502], 0.0, 'No Risk'], ['0_to_200', 4, 'prior_payments_delayed', 'education', 3193, '100_to_500', '4_to_7', 2, 'male', 'none', 1, 'car_other', 39, 'stores', 'own', 1, 'skilled', 1, 'none', 'yes', 2.0, 0.0, 1.0, 1.0, 0.0, 0.0, 1.0, 0.0, 7.0, 0.0, 1.0, 0.0, 0.0, [2.0, 0.0, 7.0, 1.0, 1.0, 0.0, 0.0, 1.0, 1.0, 0.0, 0.0, 0.0, 0.0, 4.0, 3193.0, 2.0, 1.0, 4.0, 39.0, 1.0, 1.0], [16.218435936947174, 3.7815640630528278], [0.8109217968473587, 0.1890782031526414], 0.0, 'No Risk'], ['0_to_200', 10, 'prior_payments_delayed', 'furniture', 5163, 'less_100', '1_to_4', 3, 'male', 'none', 3, 'unknown', 42, 'none', 'own', 1, 'management_self-employed', 1, 'none', 'yes', 2.0, 0.0, 0.0, 0.0, 0.0, 0.0, 0.0, 2.0, 1.0, 0.0, 3.0, 0.0, 0.0, [21, [0, 2, 7, 10, 13, 14, 15, 16, 17, 18, 19, 20], [2.0, 1.0, 3.0, 2.0, 10.0, 5163.0, 3.0, 3.0, 10.0, 42.0, 1.0, 1.0]], [15.258799339254221, 4.741200660745778], [0.762939966962711, 0.2370600330372889], 0.0, 'No Risk'], ['less_0', 11, 'credits_paid_to_date', 'furniture', 644, 'less_100', '1_to_4', 1, 'female', 'none', 2, 'savings_insurance', 30, 'stores', 'own', 1, 'skilled', 1, 'yes', 'yes', 1.0, 1.0, 0.0, 0.0, 0.0, 0.0, 1.0, 0.0, 1.0, 0.0, 0.0, 1.0, 1.0, [1.0, 1.0, 1.0, 0.0, 0.0, 1.0, 0.0, 0.0, 1.0, 0.0, 0.0, 1.0, 0.0, 11.0, 644.0, 1.0, 2.0, 11.0, 30.0, 1.0, 1.0], [18.427360867505836, 1.5726391324941627], [0.9213680433752918, 0.07863195662470814], 0.0, 'No Risk'], ['no_checking', 45, 'prior_payments_delayed', 'repairs', 9896, 'unknown', '1_to_4', 5, 'male', 'co-applicant', 5, 'unknown', 47, 'stores', 'own', 2, 'unskilled', 2, 'yes', 'yes', 0.0, 0.0, 0.0, 4.0, 0.0, 0.0, 1.0, 1.0, 5.0, 1.0, 3.0, 0.0, 1.0, [0.0, 0.0, 5.0, 4.0, 0.0, 0.0, 1.0, 3.0, 1.0, 0.0, 1.0, 1.0, 0.0, 45.0, 9896.0, 5.0, 5.0, 45.0, 47.0, 2.0, 2.0], [8.510798168816931, 11.489201831183069], [0.42553990844084655, 0.5744600915591535], 1.0, 'Risk'], ['less_0', 7, 'no_credits', 'education', 980, 'less_100', 'unemployed', 1, 'female', 'none', 2, 'savings_insurance', 19, 'none', 'rent', 1, 'skilled', 1, 'none', 'yes', 1.0, 4.0, 4.0, 0.0, 0.0, 1.0, 0.0, 0.0, 7.0, 0.0, 0.0, 1.0, 0.0, [1.0, 4.0, 7.0, 0.0, 4.0, 1.0, 0.0, 0.0, 0.0, 1.0, 0.0, 0.0, 0.0, 7.0, 980.0, 1.0, 2.0, 7.0, 19.0, 1.0, 1.0], [19.368793332464534, 0.6312066675354678], [0.9684396666232266, 0.031560333376773386], 0.0, 'No Risk'], ['0_to_200', 4, 'prior_payments_delayed', 'car_new', 250, 'less_100', 'less_1', 2, 'male', 'none', 3, 'savings_insurance', 23, 'none', 'own', 1, 'management_self-employed', 1, 'none', 'yes', 2.0, 0.0, 3.0, 0.0, 0.0, 0.0, 0.0, 2.0, 0.0, 0.0, 0.0, 0.0, 0.0, [21, [0, 4, 10, 13, 14, 15, 16, 17, 18, 19, 20], [2.0, 3.0, 2.0, 4.0, 250.0, 2.0, 3.0, 4.0, 23.0, 1.0, 1.0]], [18.327334652961117, 1.672665347038884], [0.9163667326480558, 0.0836332673519442], 0.0, 'No Risk'], ['no_checking', 47, 'credits_paid_to_date', 'radio_tv', 6264, '100_to_500', 'less_1', 4, 'male', 'none', 5, 'savings_insurance', 37, 'none', 'free', 2, 'management_self-employed', 2, 'yes', 'yes', 0.0, 1.0, 3.0, 1.0, 0.0, 2.0, 0.0, 2.0, 3.0, 0.0, 0.0, 0.0, 1.0, [0.0, 1.0, 3.0, 1.0, 3.0, 0.0, 0.0, 0.0, 0.0, 2.0, 2.0, 1.0, 0.0, 47.0, 6264.0, 4.0, 5.0, 47.0, 37.0, 2.0, 2.0], [11.819639520591855, 8.180360479408144], [0.5909819760295927, 0.4090180239704072], 0.0, 'No Risk'], ['no_checking', 27, 'prior_payments_delayed', 'business', 6076, 'greater_1000', '1_to_4', 3, 'male', 'none', 4, 'savings_insurance', 38, 'none', 'own', 2, 'skilled', 1, 'none', 'no', 0.0, 0.0, 0.0, 3.0, 1.0, 0.0, 0.0, 0.0, 9.0, 0.0, 0.0, 0.0, 0.0, [21, [2, 3, 12, 13, 14, 15, 16, 17, 18, 19, 20], [9.0, 3.0, 1.0, 27.0, 6076.0, 3.0, 4.0, 27.0, 38.0, 2.0, 1.0]], [11.61178399285936, 8.388216007140638], [0.580589199642968, 0.41941080035703193], 0.0, 'No Risk'], ['0_to_200', 4, 'prior_payments_delayed', 'car_new', 2309, 'less_100', 'less_1', 2, 'female', 'none', 2, 'savings_insurance', 37, 'none', 'own', 1, 'skilled', 1, 'yes', 'yes', 2.0, 0.0, 3.0, 0.0, 0.0, 0.0, 0.0, 0.0, 0.0, 0.0, 0.0, 1.0, 1.0, [21, [0, 4, 5, 11, 13, 14, 15, 16, 17, 18, 19, 20], [2.0, 3.0, 1.0, 1.0, 4.0, 2309.0, 2.0, 2.0, 4.0, 37.0, 1.0, 1.0]], [16.965287506516514, 3.0347124934834877], [0.8482643753258257, 0.1517356246741744], 0.0, 'No Risk'], ['0_to_200', 18, 'prior_payments_delayed', 'retraining', 968, 'less_100', '4_to_7', 3, 'male', 'none', 3, 'savings_insurance', 31, 'bank', 'own', 1, 'unskilled', 1, 'yes', 'yes', 2.0, 0.0, 1.0, 0.0, 0.0, 0.0, 2.0, 1.0, 8.0, 0.0, 0.0, 0.0, 1.0, [2.0, 0.0, 8.0, 0.0, 1.0, 0.0, 0.0, 0.0, 2.0, 0.0, 1.0, 1.0, 0.0, 18.0, 968.0, 3.0, 3.0, 18.0, 31.0, 1.0, 1.0], [14.412719279207762, 5.58728072079224], [0.7206359639603881, 0.279364036039612], 0.0, 'No Risk'], ['no_checking', 8, 'credits_paid_to_date', 'appliances', 3016, 'less_100', '1_to_4', 3, 'male', 'none', 3, 'savings_insurance', 31, 'none', 'own', 1, 'management_self-employed', 1, 'none', 'yes', 0.0, 1.0, 0.0, 0.0, 0.0, 0.0, 0.0, 2.0, 4.0, 0.0, 0.0, 0.0, 0.0, [21, [1, 2, 10, 13, 14, 15, 16, 17, 18, 19, 20], [1.0, 4.0, 2.0, 8.0, 3016.0, 3.0, 3.0, 8.0, 31.0, 1.0, 1.0]], [16.73830155430655, 3.261698445693451], [0.8369150777153275, 0.16308492228467256], 0.0, 'No Risk'], ['less_0', 8, 'prior_payments_delayed', 'furniture', 1481, 'less_100', 'unemployed', 2, 'female', 'none', 3, 'savings_insurance', 24, 'none', 'own', 1, 'skilled', 1, 'none', 'yes', 1.0, 0.0, 4.0, 0.0, 0.0, 0.0, 0.0, 0.0, 1.0, 0.0, 0.0, 1.0, 0.0, [21, [0, 2, 4, 5, 13, 14, 15, 16, 17, 18, 19, 20], [1.0, 1.0, 4.0, 1.0, 8.0, 1481.0, 2.0, 3.0, 8.0, 24.0, 1.0, 1.0]], [18.019261935937525, 1.9807380640624712], [0.9009630967968764, 0.09903690320312358], 0.0, 'No Risk'], ['0_to_200', 19, 'prior_payments_delayed', 'radio_tv', 6665, '500_to_1000', '4_to_7', 3, 'male', 'none', 4, 'car_other', 41, 'none', 'own', 2, 'skilled', 1, 'none', 'yes', 2.0, 0.0, 1.0, 2.0, 0.0, 0.0, 0.0, 0.0, 3.0, 0.0, 1.0, 0.0, 0.0, [2.0, 0.0, 3.0, 2.0, 1.0, 0.0, 0.0, 1.0, 0.0, 0.0, 0.0, 0.0, 0.0, 19.0, 6665.0, 3.0, 4.0, 19.0, 41.0, 2.0, 1.0], [13.107518722087047, 6.892481277912956], [0.6553759361043522, 0.3446240638956477], 0.0, 'No Risk'], ['no_checking', 40, 'prior_payments_delayed', 'education', 5380, '500_to_1000', '4_to_7', 4, 'male', 'none', 3, 'unknown', 58, 'none', 'free', 2, 'skilled', 1, 'yes', 'yes', 0.0, 0.0, 1.0, 2.0, 0.0, 2.0, 0.0, 0.0, 7.0, 0.0, 3.0, 0.0, 1.0, [0.0, 0.0, 7.0, 2.0, 1.0, 0.0, 0.0, 3.0, 0.0, 2.0, 0.0, 1.0, 0.0, 40.0, 5380.0, 4.0, 3.0, 40.0, 58.0, 2.0, 1.0], [5.814852746955177, 14.18514725304482], [0.2907426373477589, 0.7092573626522412], 1.0, 'Risk'], ['0_to_200', 27, 'outstanding_credit', 'car_used', 3177, '100_to_500', 'less_1', 2, 'male', 'none', 2, 'savings_insurance', 36, 'none', 'own', 1, 'skilled', 1, 'yes', 'yes', 2.0, 2.0, 3.0, 1.0, 0.0, 0.0, 0.0, 0.0, 2.0, 0.0, 0.0, 0.0, 1.0, [2.0, 2.0, 2.0, 1.0, 3.0, 0.0, 0.0, 0.0, 0.0, 0.0, 0.0, 1.0, 0.0, 27.0, 3177.0, 2.0, 2.0, 27.0, 36.0, 1.0, 1.0], [14.424635458494466, 5.575364541505534], [0.7212317729247233, 0.2787682270752767], 0.0, 'No Risk'], ['no_checking', 29, 'prior_payments_delayed', 'furniture', 1772, '500_to_1000', 'greater_7', 4, 'male', 'none', 4, 'savings_insurance', 48, 'none', 'own', 2, 'skilled', 1, 'yes', 'yes', 0.0, 0.0, 2.0, 2.0, 0.0, 0.0, 0.0, 0.0, 1.0, 0.0, 0.0, 0.0, 1.0, [21, [2, 3, 4, 11, 13, 14, 15, 16, 17, 18, 19, 20], [1.0, 2.0, 2.0, 1.0, 29.0, 1772.0, 4.0, 4.0, 29.0, 48.0, 2.0, 1.0]], [5.0793911587799245, 14.920608841220073], [0.2539695579389963, 0.7460304420610038], 1.0, 'Risk'], ['no_checking', 39, 'outstanding_credit', 'repairs', 10414, '500_to_1000', '4_to_7', 4, 'male', 'co-applicant', 4, 'car_other', 51, 'none', 'own', 2, 'skilled', 1, 'yes', 'yes', 0.0, 2.0, 1.0, 2.0, 0.0, 0.0, 0.0, 0.0, 5.0, 1.0, 1.0, 0.0, 1.0, [0.0, 2.0, 5.0, 2.0, 1.0, 0.0, 1.0, 1.0, 0.0, 0.0, 0.0, 1.0, 0.0, 39.0, 10414.0, 4.0, 4.0, 39.0, 51.0, 2.0, 1.0], [4.345091522820355, 15.654908477179646], [0.21725457614101776, 0.7827454238589823], 1.0, 'Risk'], ['0_to_200', 15, 'credits_paid_to_date', 'car_used', 3412, '500_to_1000', '4_to_7', 3, 'female', 'none', 2, 'car_other', 43, 'stores', 'own', 2, 'skilled', 1, 'yes', 'yes', 2.0, 1.0, 1.0, 2.0, 0.0, 0.0, 1.0, 0.0, 2.0, 0.0, 1.0, 1.0, 1.0, [2.0, 1.0, 2.0, 2.0, 1.0, 1.0, 0.0, 1.0, 1.0, 0.0, 0.0, 1.0, 0.0, 15.0, 3412.0, 3.0, 2.0, 15.0, 43.0, 2.0, 1.0], [13.735640039599838, 6.26435996040016], [0.686782001979992, 0.313217998020008], 0.0, 'No Risk'], ['no_checking', 20, 'credits_paid_to_date', 'radio_tv', 7509, '100_to_500', 'greater_7', 5, 'female', 'none', 3, 'car_other', 49, 'none', 'free', 2, 'management_self-employed', 1, 'yes', 'yes', 0.0, 1.0, 2.0, 1.0, 0.0, 2.0, 0.0, 2.0, 3.0, 0.0, 1.0, 1.0, 1.0, [0.0, 1.0, 3.0, 1.0, 2.0, 1.0, 0.0, 1.0, 0.0, 2.0, 2.0, 1.0, 0.0, 20.0, 7509.0, 5.0, 3.0, 20.0, 49.0, 2.0, 1.0], [7.878685275005417, 12.121314724994583], [0.39393426375027085, 0.6060657362497291], 1.0, 'Risk'], ['less_0', 4, 'no_credits', 'education', 1087, 'less_100', 'unemployed', 1, 'male', 'none', 1, 'savings_insurance', 32, 'none', 'rent', 1, 'skilled', 1, 'none', 'yes', 1.0, 4.0, 4.0, 0.0, 0.0, 1.0, 0.0, 0.0, 7.0, 0.0, 0.0, 0.0, 0.0, [1.0, 4.0, 7.0, 0.0, 4.0, 0.0, 0.0, 0.0, 0.0, 1.0, 0.0, 0.0, 0.0, 4.0, 1087.0, 1.0, 1.0, 4.0, 32.0, 1.0, 1.0], [19.325676609335492, 0.6743233906645102], [0.9662838304667745, 0.0337161695332255], 0.0, 'No Risk'], ['greater_200', 32, 'prior_payments_delayed', 'furniture', 6533, '100_to_500', '1_to_4', 3, 'male', 'guarantor', 4, 'savings_insurance', 47, 'none', 'free', 1, 'skilled', 1, 'yes', 'yes', 3.0, 0.0, 0.0, 1.0, 0.0, 2.0, 0.0, 0.0, 1.0, 2.0, 0.0, 0.0, 1.0, [3.0, 0.0, 1.0, 1.0, 0.0, 0.0, 2.0, 0.0, 0.0, 2.0, 0.0, 1.0, 0.0, 32.0, 6533.0, 3.0, 4.0, 32.0, 47.0, 1.0, 1.0], [8.50531829582762, 11.494681704172379], [0.425265914791381, 0.5747340852086189], 1.0, 'Risk'], ['0_to_200', 13, 'credits_paid_to_date', 'car_used', 2458, 'less_100', 'less_1', 2, 'female', 'none', 2, 'car_other', 41, 'none', 'own', 2, 'skilled', 1, 'yes', 'yes', 2.0, 1.0, 3.0, 0.0, 0.0, 0.0, 0.0, 0.0, 2.0, 0.0, 1.0, 1.0, 1.0, [2.0, 1.0, 2.0, 0.0, 3.0, 1.0, 0.0, 1.0, 0.0, 0.0, 0.0, 1.0, 0.0, 13.0, 2458.0, 2.0, 2.0, 13.0, 41.0, 2.0, 1.0], [15.144949798288318, 4.855050201711683], [0.7572474899144159, 0.24275251008558416], 0.0, 'No Risk'], ['less_0', 25, 'credits_paid_to_date', 'retraining', 283, 'less_100', '1_to_4', 2, 'female', 'none', 2, 'car_other', 19, 'bank', 'rent', 1, 'unemployed', 1, 'none', 'yes', 1.0, 1.0, 0.0, 0.0, 0.0, 1.0, 2.0, 3.0, 8.0, 0.0, 1.0, 1.0, 0.0, [1.0, 1.0, 8.0, 0.0, 0.0, 1.0, 0.0, 1.0, 2.0, 1.0, 3.0, 0.0, 0.0, 25.0, 283.0, 2.0, 2.0, 25.0, 19.0, 1.0, 1.0], [16.0868665371968, 3.913133462803201], [0.8043433268598399, 0.19565667314016], 0.0, 'No Risk'], ['less_0', 8, 'prior_payments_delayed', 'furniture', 1890, 'less_100', 'less_1', 2, 'female', 'none', 1, 'savings_insurance', 29, 'none', 'own', 1, 'skilled', 1, 'none', 'yes', 1.0, 0.0, 3.0, 0.0, 0.0, 0.0, 0.0, 0.0, 1.0, 0.0, 0.0, 1.0, 0.0, [21, [0, 2, 4, 5, 13, 14, 15, 16, 17, 18, 19, 20], [1.0, 1.0, 3.0, 1.0, 8.0, 1890.0, 2.0, 1.0, 8.0, 29.0, 1.0, 1.0]], [18.551027634049156, 1.4489723659508449], [0.9275513817024578, 0.07244861829754225], 0.0, 'No Risk'], ['no_checking', 42, 'prior_payments_delayed', 'repairs', 8992, 'unknown', 'greater_7', 5, 'female', 'none', 4, 'unknown', 63, 'bank', 'own', 2, 'unemployed', 2, 'yes', 'yes', 0.0, 0.0, 2.0, 4.0, 0.0, 0.0, 2.0, 3.0, 5.0, 0.0, 3.0, 1.0, 1.0, [0.0, 0.0, 5.0, 4.0, 2.0, 1.0, 0.0, 3.0, 2.0, 0.0, 3.0, 1.0, 0.0, 42.0, 8992.0, 5.0, 4.0, 42.0, 63.0, 2.0, 2.0], [4.638311192031354, 15.361688807968646], [0.2319155596015677, 0.7680844403984323], 1.0, 'Risk'], ['greater_200', 6, 'prior_payments_delayed', 'car_used', 7217, 'less_100', '4_to_7', 4, 'male', 'none', 4, 'savings_insurance', 42, 'none', 'own', 1, 'management_self-employed', 1, 'none', 'yes', 3.0, 0.0, 1.0, 0.0, 0.0, 0.0, 0.0, 2.0, 2.0, 0.0, 0.0, 0.0, 0.0, [21, [0, 2, 4, 10, 13, 14, 15, 16, 17, 18, 19, 20], [3.0, 2.0, 1.0, 2.0, 6.0, 7217.0, 4.0, 4.0, 6.0, 42.0, 1.0, 1.0]], [14.00670936315596, 5.993290636844039], [0.700335468157798, 0.29966453184220193], 0.0, 'No Risk'], ['0_to_200', 4, 'all_credits_paid_back', 'car_new', 250, 'less_100', 'less_1', 2, 'female', 'none', 1, 'real_estate', 20, 'none', 'own', 1, 'skilled', 1, 'none', 'yes', 2.0, 3.0, 3.0, 0.0, 0.0, 0.0, 0.0, 0.0, 0.0, 0.0, 2.0, 1.0, 0.0, [2.0, 3.0, 0.0, 0.0, 3.0, 1.0, 0.0, 2.0, 0.0, 0.0, 0.0, 0.0, 0.0, 4.0, 250.0, 2.0, 1.0, 4.0, 20.0, 1.0, 1.0], [19.645328442625573, 0.3546715573744284], [0.9822664221312787, 0.01773357786872142], 0.0, 'No Risk'], ['no_checking', 39, 'outstanding_credit', 'other', 7180, 'greater_1000', 'greater_7', 5, 'male', 'co-applicant', 5, 'unknown', 51, 'none', 'free', 2, 'management_self-employed', 1, 'yes', 'yes', 0.0, 2.0, 2.0, 3.0, 0.0, 2.0, 0.0, 2.0, 10.0, 1.0, 3.0, 0.0, 1.0, [0.0, 2.0, 10.0, 3.0, 2.0, 0.0, 1.0, 3.0, 0.0, 2.0, 2.0, 1.0, 0.0, 39.0, 7180.0, 5.0, 5.0, 39.0, 51.0, 2.0, 1.0], [1.6253576962206233, 18.374642303779375], [0.08126788481103119, 0.9187321151889689], 1.0, 'Risk'], ['0_to_200', 10, 'credits_paid_to_date', 'furniture', 250, '500_to_1000', 'less_1', 1, 'female', 'none', 2, 'savings_insurance', 27, 'stores', 'rent', 1, 'skilled', 1, 'none', 'yes', 2.0, 1.0, 3.0, 2.0, 0.0, 1.0, 1.0, 0.0, 1.0, 0.0, 0.0, 1.0, 0.0, [2.0, 1.0, 1.0, 2.0, 3.0, 1.0, 0.0, 0.0, 1.0, 1.0, 0.0, 0.0, 0.0, 10.0, 250.0, 1.0, 2.0, 10.0, 27.0, 1.0, 1.0], [19.101181338471932, 0.8988186615280668], [0.9550590669235965, 0.04494093307640334], 0.0, 'No Risk'], ['less_0', 26, 'credits_paid_to_date', 'car_new', 250, '100_to_500', '4_to_7', 2, 'female', 'none', 1, 'car_other', 30, 'bank', 'rent', 1, 'unemployed', 1, 'yes', 'yes', 1.0, 1.0, 1.0, 1.0, 0.0, 1.0, 2.0, 3.0, 0.0, 0.0, 1.0, 1.0, 1.0, [1.0, 1.0, 0.0, 1.0, 1.0, 1.0, 0.0, 1.0, 2.0, 1.0, 3.0, 1.0, 0.0, 26.0, 250.0, 2.0, 1.0, 26.0, 30.0, 1.0, 1.0], [16.018928436092132, 3.9810715639078706], [0.8009464218046065, 0.1990535781953935], 0.0, 'No Risk'], ['less_0', 12, 'prior_payments_delayed', 'retraining', 2471, '100_to_500', 'greater_7', 4, 'male', 'none', 3, 'savings_insurance', 31, 'none', 'own', 1, 'management_self-employed', 1, 'none', 'yes', 1.0, 0.0, 2.0, 1.0, 0.0, 0.0, 0.0, 2.0, 8.0, 0.0, 0.0, 0.0, 0.0, [1.0, 0.0, 8.0, 1.0, 2.0, 0.0, 0.0, 0.0, 0.0, 0.0, 2.0, 0.0, 0.0, 12.0, 2471.0, 4.0, 3.0, 12.0, 31.0, 1.0, 1.0], [16.854591814901777, 3.1454081850982227], [0.8427295907450889, 0.15727040925491115], 0.0, 'No Risk'], ['0_to_200', 31, 'credits_paid_to_date', 'car_used', 5003, '100_to_500', 'less_1', 3, 'male', 'none', 3, 'car_other', 33, 'none', 'own', 1, 'skilled', 1, 'none', 'yes', 2.0, 1.0, 3.0, 1.0, 0.0, 0.0, 0.0, 0.0, 2.0, 0.0, 1.0, 0.0, 0.0, [2.0, 1.0, 2.0, 1.0, 3.0, 0.0, 0.0, 1.0, 0.0, 0.0, 0.0, 0.0, 0.0, 31.0, 5003.0, 3.0, 3.0, 31.0, 33.0, 1.0, 1.0], [13.76705089849948, 6.232949101500519], [0.688352544924974, 0.31164745507502595], 0.0, 'No Risk'], ['less_0', 11, 'all_credits_paid_back', 'car_used', 1876, 'less_100', 'less_1', 2, 'female', 'none', 3, 'savings_insurance', 34, 'none', 'rent', 1, 'skilled', 1, 'none', 'yes', 1.0, 3.0, 3.0, 0.0, 0.0, 1.0, 0.0, 0.0, 2.0, 0.0, 0.0, 1.0, 0.0, [1.0, 3.0, 2.0, 0.0, 3.0, 1.0, 0.0, 0.0, 0.0, 1.0, 0.0, 0.0, 0.0, 11.0, 1876.0, 2.0, 3.0, 11.0, 34.0, 1.0, 1.0], [17.944288619215975, 2.055711380784025], [0.8972144309607988, 0.10278556903920125], 0.0, 'No Risk'], ['0_to_200', 4, 'prior_payments_delayed', 'car_new', 1781, 'less_100', '1_to_4', 3, 'male', 'none', 3, 'savings_insurance', 34, 'none', 'own', 1, 'management_self-employed', 1, 'none', 'yes', 2.0, 0.0, 0.0, 0.0, 0.0, 0.0, 0.0, 2.0, 0.0, 0.0, 0.0, 0.0, 0.0, [21, [0, 10, 13, 14, 15, 16, 17, 18, 19, 20], [2.0, 2.0, 4.0, 1781.0, 3.0, 3.0, 4.0, 34.0, 1.0, 1.0]], [16.159968826047564, 3.8400311739524327], [0.8079984413023783, 0.19200155869762167], 0.0, 'No Risk'], ['no_checking', 45, 'outstanding_credit', 'education', 7478, 'unknown', '4_to_7', 4, 'male', 'co-applicant', 5, 'unknown', 60, 'none', 'own', 2, 'skilled', 2, 'yes', 'yes', 0.0, 2.0, 1.0, 4.0, 0.0, 0.0, 0.0, 0.0, 7.0, 1.0, 3.0, 0.0, 1.0, [0.0, 2.0, 7.0, 4.0, 1.0, 0.0, 1.0, 3.0, 0.0, 0.0, 0.0, 1.0, 0.0, 45.0, 7478.0, 4.0, 5.0, 45.0, 60.0, 2.0, 2.0], [4.398044875117156, 15.601955124882846], [0.21990224375585782, 0.7800977562441422], 1.0, 'Risk'], ['no_checking', 30, 'prior_payments_delayed', 'business', 5442, '100_to_500', '4_to_7', 4, 'female', 'none', 3, 'car_other', 26, 'none', 'free', 2, 'skilled', 1, 'yes', 'yes', 0.0, 0.0, 1.0, 1.0, 0.0, 2.0, 0.0, 0.0, 9.0, 0.0, 1.0, 1.0, 1.0, [0.0, 0.0, 9.0, 1.0, 1.0, 1.0, 0.0, 1.0, 0.0, 2.0, 0.0, 1.0, 0.0, 30.0, 5442.0, 4.0, 3.0, 30.0, 26.0, 2.0, 1.0], [7.768691227269862, 12.231308772730136], [0.3884345613634931, 0.6115654386365068], 1.0, 'Risk'], ['no_checking', 29, 'prior_payments_delayed', 'car_used', 7051, '100_to_500', 'greater_7', 5, 'male', 'none', 3, 'savings_insurance', 49, 'none', 'free', 2, 'skilled', 1, 'none', 'yes', 0.0, 0.0, 2.0, 1.0, 0.0, 2.0, 0.0, 0.0, 2.0, 0.0, 0.0, 0.0, 0.0, [21, [2, 3, 4, 9, 13, 14, 15, 16, 17, 18, 19, 20], [2.0, 1.0, 2.0, 2.0, 29.0, 7051.0, 5.0, 3.0, 29.0, 49.0, 2.0, 1.0]], [6.808637451340431, 13.191362548659566], [0.3404318725670216, 0.6595681274329784], 1.0, 'Risk'], ['no_checking', 55, 'outstanding_credit', 'vacation', 7203, 'unknown', 'greater_7', 5, 'male', 'co-applicant', 4, 'unknown', 45, 'none', 'free', 3, 'skilled', 2, 'yes', 'yes', 0.0, 2.0, 2.0, 4.0, 0.0, 2.0, 0.0, 0.0, 6.0, 1.0, 3.0, 0.0, 1.0, [0.0, 2.0, 6.0, 4.0, 2.0, 0.0, 1.0, 3.0, 0.0, 2.0, 0.0, 1.0, 0.0, 55.0, 7203.0, 5.0, 4.0, 55.0, 45.0, 3.0, 2.0], [2.34549887105659, 17.654501128943412], [0.11727494355282948, 0.8827250564471705], 1.0, 'Risk'], ['less_0', 4, 'all_credits_paid_back', 'car_new', 5176, 'less_100', 'less_1', 3, 'male', 'none', 3, 'savings_insurance', 19, 'none', 'own', 1, 'skilled', 1, 'none', 'yes', 1.0, 3.0, 3.0, 0.0, 0.0, 0.0, 0.0, 0.0, 0.0, 0.0, 0.0, 0.0, 0.0, [21, [0, 1, 4, 13, 14, 15, 16, 17, 18, 19, 20], [1.0, 3.0, 3.0, 4.0, 5176.0, 3.0, 3.0, 4.0, 19.0, 1.0, 1.0]], [18.654760488193116, 1.3452395118068854], [0.9327380244096558, 0.06726197559034428], 0.0, 'No Risk'], ['no_checking', 38, 'prior_payments_delayed', 'appliances', 6205, '500_to_1000', '1_to_4', 4, 'male', 'none', 3, 'savings_insurance', 39, 'none', 'own', 2, 'management_self-employed', 1, 'yes', 'yes', 0.0, 0.0, 0.0, 2.0, 0.0, 0.0, 0.0, 2.0, 4.0, 0.0, 0.0, 0.0, 1.0, [21, [2, 3, 10, 11, 13, 14, 15, 16, 17, 18, 19, 20], [4.0, 2.0, 2.0, 1.0, 38.0, 6205.0, 4.0, 3.0, 38.0, 39.0, 2.0, 1.0]], [11.499978855124642, 8.500021144875356], [0.5749989427562321, 0.4250010572437678], 0.0, 'No Risk'], ['less_0', 19, 'credits_paid_to_date', 'furniture', 3764, '100_to_500', '4_to_7', 2, 'female', 'none', 3, 'car_other', 21, 'stores', 'rent', 1, 'unskilled', 1, 'none', 'yes', 1.0, 1.0, 1.0, 1.0, 0.0, 1.0, 1.0, 1.0, 1.0, 0.0, 1.0, 1.0, 0.0, [1.0, 1.0, 1.0, 1.0, 1.0, 1.0, 0.0, 1.0, 1.0, 1.0, 1.0, 0.0, 0.0, 19.0, 3764.0, 2.0, 3.0, 19.0, 21.0, 1.0, 1.0], [15.08122118462801, 4.918778815371991], [0.7540610592314005, 0.24593894076859954], 0.0, 'No Risk'], ['0_to_200', 18, 'prior_payments_delayed', 'repairs', 3064, 'less_100', '4_to_7', 2, 'male', 'none', 2, 'car_other', 39, 'none', 'own', 1, 'skilled', 1, 'yes', 'yes', 2.0, 0.0, 1.0, 0.0, 0.0, 0.0, 0.0, 0.0, 5.0, 0.0, 1.0, 0.0, 1.0, [2.0, 0.0, 5.0, 0.0, 1.0, 0.0, 0.0, 1.0, 0.0, 0.0, 0.0, 1.0, 0.0, 18.0, 3064.0, 2.0, 2.0, 18.0, 39.0, 1.0, 1.0], [13.544279715179494, 6.455720284820506], [0.6772139857589747, 0.3227860142410253], 0.0, 'No Risk'], ['0_to_200', 20, 'no_credits', 'furniture', 250, '500_to_1000', 'less_1', 2, 'female', 'none', 3, 'real_estate', 24, 'none', 'rent', 1, 'skilled', 1, 'none', 'yes', 2.0, 4.0, 3.0, 2.0, 0.0, 1.0, 0.0, 0.0, 1.0, 0.0, 2.0, 1.0, 0.0, [2.0, 4.0, 1.0, 2.0, 3.0, 1.0, 0.0, 2.0, 0.0, 1.0, 0.0, 0.0, 0.0, 20.0, 250.0, 2.0, 3.0, 20.0, 24.0, 1.0, 1.0], [19.11631903267125, 0.8836809673287496], [0.9558159516335625, 0.04418404836643748], 0.0, 'No Risk'], ['no_checking', 38, 'prior_payments_delayed', 'repairs', 7467, '500_to_1000', 'greater_7', 5, 'male', 'guarantor', 4, 'unknown', 64, 'none', 'free', 2, 'skilled', 1, 'yes', 'yes', 0.0, 0.0, 2.0, 2.0, 0.0, 2.0, 0.0, 0.0, 5.0, 2.0, 3.0, 0.0, 1.0, [0.0, 0.0, 5.0, 2.0, 2.0, 0.0, 2.0, 3.0, 0.0, 2.0, 0.0, 1.0, 0.0, 38.0, 7467.0, 5.0, 4.0, 38.0, 64.0, 2.0, 1.0], [2.7776862078210764, 17.222313792178923], [0.1388843103910538, 0.8611156896089461], 1.0, 'Risk'], ['less_0', 24, 'credits_paid_to_date', 'furniture', 1143, 'less_100', '1_to_4', 3, 'female', 'none', 3, 'savings_insurance', 24, 'stores', 'own', 1, 'skilled', 1, 'none', 'yes', 1.0, 1.0, 0.0, 0.0, 0.0, 0.0, 1.0, 0.0, 1.0, 0.0, 0.0, 1.0, 0.0, [1.0, 1.0, 1.0, 0.0, 0.0, 1.0, 0.0, 0.0, 1.0, 0.0, 0.0, 0.0, 0.0, 24.0, 1143.0, 3.0, 3.0, 24.0, 24.0, 1.0, 1.0], [15.357531603002561, 4.64246839699744], [0.767876580150128, 0.232123419849872], 0.0, 'No Risk'], ['greater_200', 27, 'outstanding_credit', 'furniture', 7060, '100_to_500', '4_to_7', 4, 'male', 'none', 4, 'car_other', 39, 'none', 'own', 2, 'skilled', 1, 'yes', 'yes', 3.0, 2.0, 1.0, 1.0, 0.0, 0.0, 0.0, 0.0, 1.0, 0.0, 1.0, 0.0, 1.0, [3.0, 2.0, 1.0, 1.0, 1.0, 0.0, 0.0, 1.0, 0.0, 0.0, 0.0, 1.0, 0.0, 27.0, 7060.0, 4.0, 4.0, 27.0, 39.0, 2.0, 1.0], [10.40378966102286, 9.596210338977142], [0.520189483051143, 0.4798105169488571], 0.0, 'No Risk'], ['less_0', 5, 'all_credits_paid_back', 'car_used', 250, 'less_100', 'less_1', 2, 'female', 'none', 2, 'real_estate', 26, 'none', 'rent', 1, 'skilled', 1, 'none', 'yes', 1.0, 3.0, 3.0, 0.0, 0.0, 1.0, 0.0, 0.0, 2.0, 0.0, 2.0, 1.0, 0.0, [1.0, 3.0, 2.0, 0.0, 3.0, 1.0, 0.0, 2.0, 0.0, 1.0, 0.0, 0.0, 0.0, 5.0, 250.0, 2.0, 2.0, 5.0, 26.0, 1.0, 1.0], [19.682384424438588, 0.31761557556141334], [0.9841192212219294, 0.01588077877807067], 0.0, 'No Risk'], ['0_to_200', 20, 'prior_payments_delayed', 'car_used', 2009, '100_to_500', '1_to_4', 3, 'male', 'none', 2, 'savings_insurance', 44, 'bank', 'own', 2, 'unskilled', 1, 'none', 'yes', 2.0, 0.0, 0.0, 1.0, 0.0, 0.0, 2.0, 1.0, 2.0, 0.0, 0.0, 0.0, 0.0, [2.0, 0.0, 2.0, 1.0, 0.0, 0.0, 0.0, 0.0, 2.0, 0.0, 1.0, 0.0, 0.0, 20.0, 2009.0, 3.0, 2.0, 20.0, 44.0, 2.0, 1.0], [14.758663213208125, 5.241336786791874], [0.7379331606604063, 0.2620668393395937], 0.0, 'No Risk'], ['0_to_200', 23, 'outstanding_credit', 'repairs', 4451, '100_to_500', 'greater_7', 3, 'female', 'guarantor', 3, 'car_other', 54, 'stores', 'own', 1, 'unskilled', 1, 'yes', 'yes', 2.0, 2.0, 2.0, 1.0, 0.0, 0.0, 1.0, 1.0, 5.0, 2.0, 1.0, 1.0, 1.0, [2.0, 2.0, 5.0, 1.0, 2.0, 1.0, 2.0, 1.0, 1.0, 0.0, 1.0, 1.0, 0.0, 23.0, 4451.0, 3.0, 3.0, 23.0, 54.0, 1.0, 1.0], [9.798711513999018, 10.201288486000982], [0.48993557569995094, 0.5100644243000491], 1.0, 'Risk'], ['less_0', 12, 'all_credits_paid_back', 'appliances', 401, 'less_100', '1_to_4', 3, 'male', 'none', 1, 'car_other', 25, 'none', 'own', 1, 'skilled', 1, 'none', 'yes', 1.0, 3.0, 0.0, 0.0, 0.0, 0.0, 0.0, 0.0, 4.0, 0.0, 1.0, 0.0, 0.0, [21, [0, 1, 2, 7, 13, 14, 15, 16, 17, 18, 19, 20], [1.0, 3.0, 4.0, 1.0, 12.0, 401.0, 3.0, 1.0, 12.0, 25.0, 1.0, 1.0]], [18.705325862250564, 1.2946741377494364], [0.9352662931125282, 0.06473370688747182], 0.0, 'No Risk'], ['less_0', 8, 'credits_paid_to_date', 'furniture', 1278, 'less_100', 'less_1', 2, 'female', 'none', 3, 'car_other', 31, 'none', 'own', 1, 'skilled', 1, 'none', 'yes', 1.0, 1.0, 3.0, 0.0, 0.0, 0.0, 0.0, 0.0, 1.0, 0.0, 1.0, 1.0, 0.0, [1.0, 1.0, 1.0, 0.0, 3.0, 1.0, 0.0, 1.0, 0.0, 0.0, 0.0, 0.0, 0.0, 8.0, 1278.0, 2.0, 3.0, 8.0, 31.0, 1.0, 1.0], [17.7152520022004, 2.2847479977995975], [0.8857626001100201, 0.11423739988997987], 0.0, 'No Risk'], ['no_checking', 26, 'prior_payments_delayed', 'furniture', 6414, 'unknown', 'greater_7', 3, 'male', 'none', 2, 'unknown', 56, 'none', 'own', 3, 'skilled', 2, 'yes', 'yes', 0.0, 0.0, 2.0, 4.0, 0.0, 0.0, 0.0, 0.0, 1.0, 0.0, 3.0, 0.0, 1.0, [0.0, 0.0, 1.0, 4.0, 2.0, 0.0, 0.0, 3.0, 0.0, 0.0, 0.0, 1.0, 0.0, 26.0, 6414.0, 3.0, 2.0, 26.0, 56.0, 3.0, 2.0], [5.371099409738493, 14.628900590261509], [0.26855497048692467, 0.7314450295130754], 1.0, 'Risk'], ['no_checking', 38, 'outstanding_credit', 'other', 6791, 'greater_1000', 'greater_7', 5, 'male', 'none', 3, 'unknown', 55, 'none', 'own', 2, 'skilled', 2, 'yes', 'yes', 0.0, 2.0, 2.0, 3.0, 0.0, 0.0, 0.0, 0.0, 10.0, 0.0, 3.0, 0.0, 1.0, [0.0, 2.0, 10.0, 3.0, 2.0, 0.0, 0.0, 3.0, 0.0, 0.0, 0.0, 1.0, 0.0, 38.0, 6791.0, 5.0, 3.0, 38.0, 55.0, 2.0, 2.0], [3.9707752149201725, 16.029224785079826], [0.19853876074600862, 0.8014612392539913], 1.0, 'Risk'], ['less_0', 5, 'all_credits_paid_back', 'car_new', 250, '100_to_500', 'unemployed', 1, 'female', 'none', 1, 'real_estate', 19, 'bank', 'rent', 1, 'unskilled', 1, 'none', 'yes', 1.0, 3.0, 4.0, 1.0, 0.0, 1.0, 2.0, 1.0, 0.0, 0.0, 2.0, 1.0, 0.0, [1.0, 3.0, 0.0, 1.0, 4.0, 1.0, 0.0, 2.0, 2.0, 1.0, 1.0, 0.0, 0.0, 5.0, 250.0, 1.0, 1.0, 5.0, 19.0, 1.0, 1.0], [19.734576623536785, 0.2654233764632163], [0.9867288311768393, 0.013271168823160814], 0.0, 'No Risk'], ['less_0', 11, 'all_credits_paid_back', 'car_new', 2183, 'less_100', 'unemployed', 2, 'female', 'none', 3, 'car_other', 22, 'none', 'own', 1, 'skilled', 1, 'none', 'yes', 1.0, 3.0, 4.0, 0.0, 0.0, 0.0, 0.0, 0.0, 0.0, 0.0, 1.0, 1.0, 0.0, [1.0, 3.0, 0.0, 0.0, 4.0, 1.0, 0.0, 1.0, 0.0, 0.0, 0.0, 0.0, 0.0, 11.0, 2183.0, 2.0, 3.0, 11.0, 22.0, 1.0, 1.0], [18.403283608577304, 1.5967163914226976], [0.9201641804288652, 0.07983581957113488], 0.0, 'No Risk'], ['no_checking', 30, 'prior_payments_delayed', 'car_used', 5204, '100_to_500', 'greater_7', 4, 'male', 'none', 3, 'car_other', 53, 'none', 'free', 2, 'skilled', 1, 'none', 'yes', 0.0, 0.0, 2.0, 1.0, 0.0, 2.0, 0.0, 0.0, 2.0, 0.0, 1.0, 0.0, 0.0, [0.0, 0.0, 2.0, 1.0, 2.0, 0.0, 0.0, 1.0, 0.0, 2.0, 0.0, 0.0, 0.0, 30.0, 5204.0, 4.0, 3.0, 30.0, 53.0, 2.0, 1.0], [6.38003343677283, 13.619966563227166], [0.3190016718386416, 0.6809983281613584], 1.0, 'Risk'], ['0_to_200', 15, 'prior_payments_delayed', 'retraining', 2324, 'less_100', '1_to_4', 3, 'male', 'none', 2, 'car_other', 34, 'none', 'own', 1, 'skilled', 1, 'none', 'yes', 2.0, 0.0, 0.0, 0.0, 0.0, 0.0, 0.0, 0.0, 8.0, 0.0, 1.0, 0.0, 0.0, [21, [0, 2, 7, 13, 14, 15, 16, 17, 18, 19, 20], [2.0, 8.0, 1.0, 15.0, 2324.0, 3.0, 2.0, 15.0, 34.0, 1.0, 1.0]], [16.022079105588915, 3.977920894411083], [0.8011039552794458, 0.19889604472055417], 0.0, 'No Risk'], ['less_0', 4, 'all_credits_paid_back', 'car_new', 250, 'less_100', 'unemployed', 1, 'male', 'none', 1, 'real_estate', 19, 'stores', 'rent', 1, 'skilled', 1, 'none', 'yes', 1.0, 3.0, 4.0, 0.0, 0.0, 1.0, 1.0, 0.0, 0.0, 0.0, 2.0, 0.0, 0.0, [1.0, 3.0, 0.0, 0.0, 4.0, 0.0, 0.0, 2.0, 1.0, 1.0, 0.0, 0.0, 0.0, 4.0, 250.0, 1.0, 1.0, 4.0, 19.0, 1.0, 1.0], [19.705858602842344, 0.29414139715765747], [0.9852929301421172, 0.014707069857882874], 0.0, 'No Risk'], ['less_0', 10, 'credits_paid_to_date', 'car_used', 1031, '500_to_1000', '1_to_4', 2, 'male', 'none', 1, 'savings_insurance', 31, 'stores', 'own', 2, 'unskilled', 1, 'none', 'yes', 1.0, 1.0, 0.0, 2.0, 0.0, 0.0, 1.0, 1.0, 2.0, 0.0, 0.0, 0.0, 0.0, [1.0, 1.0, 2.0, 2.0, 0.0, 0.0, 0.0, 0.0, 1.0, 0.0, 1.0, 0.0, 0.0, 10.0, 1031.0, 2.0, 1.0, 10.0, 31.0, 2.0, 1.0], [17.503518102572063, 2.4964818974279366], [0.8751759051286031, 0.12482409487139683], 0.0, 'No Risk'], ['0_to_200', 10, 'credits_paid_to_date', 'car_new', 250, 'less_100', 'unemployed', 1, 'male', 'none', 1, 'real_estate', 29, 'none', 'own', 1, 'skilled', 1, 'yes', 'yes', 2.0, 1.0, 4.0, 0.0, 0.0, 0.0, 0.0, 0.0, 0.0, 0.0, 2.0, 0.0, 1.0, [2.0, 1.0, 0.0, 0.0, 4.0, 0.0, 0.0, 2.0, 0.0, 0.0, 0.0, 1.0, 0.0, 10.0, 250.0, 1.0, 1.0, 10.0, 29.0, 1.0, 1.0], [18.8282319569622, 1.1717680430378004], [0.9414115978481099, 0.05858840215189002], 0.0, 'No Risk'], ['no_checking', 47, 'outstanding_credit', 'radio_tv', 6058, 'greater_1000', 'greater_7', 5, 'male', 'co-applicant', 5, 'car_other', 49, 'none', 'free', 2, 'skilled', 1, 'yes', 'yes', 0.0, 2.0, 2.0, 3.0, 0.0, 2.0, 0.0, 0.0, 3.0, 1.0, 1.0, 0.0, 1.0, [0.0, 2.0, 3.0, 3.0, 2.0, 0.0, 1.0, 1.0, 0.0, 2.0, 0.0, 1.0, 0.0, 47.0, 6058.0, 5.0, 5.0, 47.0, 49.0, 2.0, 1.0], [1.9726280334327027, 18.0273719665673], [0.09863140167163512, 0.9013685983283649], 1.0, 'Risk'], ['no_checking', 28, 'outstanding_credit', 'appliances', 6020, 'unknown', 'greater_7', 4, 'male', 'none', 5, 'car_other', 46, 'none', 'own', 2, 'skilled', 1, 'none', 'yes', 0.0, 2.0, 2.0, 4.0, 0.0, 0.0, 0.0, 0.0, 4.0, 0.0, 1.0, 0.0, 0.0, [0.0, 2.0, 4.0, 4.0, 2.0, 0.0, 0.0, 1.0, 0.0, 0.0, 0.0, 0.0, 0.0, 28.0, 6020.0, 4.0, 5.0, 28.0, 46.0, 2.0, 1.0], [6.544050506002649, 13.455949493997348], [0.3272025253001325, 0.6727974746998675], 1.0, 'Risk'], ['less_0', 15, 'credits_paid_to_date', 'vacation', 4575, 'less_100', 'unemployed', 3, 'female', 'none', 3, 'savings_insurance', 19, 'none', 'own', 2, 'skilled', 1, 'none', 'yes', 1.0, 1.0, 4.0, 0.0, 0.0, 0.0, 0.0, 0.0, 6.0, 0.0, 0.0, 1.0, 0.0, [1.0, 1.0, 6.0, 0.0, 4.0, 1.0, 0.0, 0.0, 0.0, 0.0, 0.0, 0.0, 0.0, 15.0, 4575.0, 3.0, 3.0, 15.0, 19.0, 2.0, 1.0], [17.11815036386783, 2.881849636132173], [0.8559075181933914, 0.14409248180660864], 0.0, 'No Risk'], ['no_checking', 39, 'prior_payments_delayed', 'furniture', 7373, 'greater_1000', 'greater_7', 4, 'male', 'co-applicant', 5, 'unknown', 55, 'none', 'free', 3, 'skilled', 2, 'yes', 'yes', 0.0, 0.0, 2.0, 3.0, 0.0, 2.0, 0.0, 0.0, 1.0, 1.0, 3.0, 0.0, 1.0, [0.0, 0.0, 1.0, 3.0, 2.0, 0.0, 1.0, 3.0, 0.0, 2.0, 0.0, 1.0, 0.0, 39.0, 7373.0, 4.0, 5.0, 39.0, 55.0, 3.0, 2.0], [1.6148730104701197, 18.38512698952988], [0.08074365052350599, 0.919256349476494], 1.0, 'Risk'], ['0_to_200', 27, 'prior_payments_delayed', 'radio_tv', 4102, '100_to_500', '1_to_4', 3, 'female', 'none', 4, 'savings_insurance', 39, 'stores', 'own', 1, 'unskilled', 2, 'none', 'yes', 2.0, 0.0, 0.0, 1.0, 0.0, 0.0, 1.0, 1.0, 3.0, 0.0, 0.0, 1.0, 0.0, [2.0, 0.0, 3.0, 1.0, 0.0, 1.0, 0.0, 0.0, 1.0, 0.0, 1.0, 0.0, 0.0, 27.0, 4102.0, 3.0, 4.0, 27.0, 39.0, 1.0, 2.0], [13.81130869374891, 6.188691306251091], [0.6905654346874455, 0.30943456531255453], 0.0, 'No Risk'], ['less_0', 6, 'prior_payments_delayed', 'car_new', 2802, 'less_100', '4_to_7', 3, 'male', 'none', 3, 'unknown', 27, 'none', 'own', 2, 'skilled', 1, 'none', 'yes', 1.0, 0.0, 1.0, 0.0, 0.0, 0.0, 0.0, 0.0, 0.0, 0.0, 3.0, 0.0, 0.0, [21, [0, 4, 7, 13, 14, 15, 16, 17, 18, 19, 20], [1.0, 1.0, 3.0, 6.0, 2802.0, 3.0, 3.0, 6.0, 27.0, 2.0, 1.0]], [15.931353194348276, 4.068646805651727], [0.7965676597174136, 0.2034323402825863], 0.0, 'No Risk'], ['less_0', 5, 'all_credits_paid_back', 'car_used', 250, 'less_100', '1_to_4', 1, 'female', 'none', 2, 'real_estate', 19, 'none', 'own', 1, 'skilled', 1, 'none', 'yes', 1.0, 3.0, 0.0, 0.0, 0.0, 0.0, 0.0, 0.0, 2.0, 0.0, 2.0, 1.0, 0.0, [1.0, 3.0, 2.0, 0.0, 0.0, 1.0, 0.0, 2.0, 0.0, 0.0, 0.0, 0.0, 0.0, 5.0, 250.0, 1.0, 2.0, 5.0, 19.0, 1.0, 1.0], [19.35812824329942, 0.6418717567005812], [0.967906412164971, 0.03209358783502906], 0.0, 'No Risk'], ['greater_200', 18, 'credits_paid_to_date', 'furniture', 2971, 'greater_1000', '1_to_4', 2, 'male', 'none', 3, 'car_other', 22, 'none', 'own', 2, 'skilled', 1, 'none', 'yes', 3.0, 1.0, 0.0, 3.0, 0.0, 0.0, 0.0, 0.0, 1.0, 0.0, 1.0, 0.0, 0.0, [3.0, 1.0, 1.0, 3.0, 0.0, 0.0, 0.0, 1.0, 0.0, 0.0, 0.0, 0.0, 0.0, 18.0, 2971.0, 2.0, 3.0, 18.0, 22.0, 2.0, 1.0], [13.92293383542764, 6.077066164572361], [0.696146691771382, 0.30385330822861806], 0.0, 'No Risk'], ['no_checking', 33, 'prior_payments_delayed', 'business', 5458, '100_to_500', '4_to_7', 3, 'male', 'none', 3, 'car_other', 39, 'none', 'own', 2, 'skilled', 1, 'yes', 'yes', 0.0, 0.0, 1.0, 1.0, 0.0, 0.0, 0.0, 0.0, 9.0, 0.0, 1.0, 0.0, 1.0, [0.0, 0.0, 9.0, 1.0, 1.0, 0.0, 0.0, 1.0, 0.0, 0.0, 0.0, 1.0, 0.0, 33.0, 5458.0, 3.0, 3.0, 33.0, 39.0, 2.0, 1.0], [8.799102651069663, 11.200897348930337], [0.4399551325534832, 0.5600448674465168], 1.0, 'Risk'], ['0_to_200', 16, 'no_credits', 'car_new', 916, 'less_100', 'less_1', 2, 'female', 'none', 3, 'real_estate', 19, 'bank', 'rent', 1, 'unskilled', 1, 'none', 'yes', 2.0, 4.0, 3.0, 0.0, 0.0, 1.0, 2.0, 1.0, 0.0, 0.0, 2.0, 1.0, 0.0, [2.0, 4.0, 0.0, 0.0, 3.0, 1.0, 0.0, 2.0, 2.0, 1.0, 1.0, 0.0, 0.0, 16.0, 916.0, 2.0, 3.0, 16.0, 19.0, 1.0, 1.0], [19.545151391642896, 0.4548486083571014], [0.977257569582145, 0.022742430417855074], 0.0, 'No Risk'], ['0_to_200', 4, 'all_credits_paid_back', 'car_new', 250, 'less_100', 'less_1', 2, 'female', 'none', 2, 'real_estate', 19, 'none', 'rent', 1, 'skilled', 1, 'none', 'yes', 2.0, 3.0, 3.0, 0.0, 0.0, 1.0, 0.0, 0.0, 0.0, 0.0, 2.0, 1.0, 0.0, [2.0, 3.0, 0.0, 0.0, 3.0, 1.0, 0.0, 2.0, 0.0, 1.0, 0.0, 0.0, 0.0, 4.0, 250.0, 2.0, 2.0, 4.0, 19.0, 1.0, 1.0], [19.682384424438588, 0.31761557556141334], [0.9841192212219294, 0.01588077877807067], 0.0, 'No Risk'], ['no_checking', 24, 'prior_payments_delayed', 'business', 7013, '100_to_500', '4_to_7', 4, 'male', 'none', 3, 'car_other', 34, 'none', 'own', 2, 'management_self-employed', 1, 'none', 'yes', 0.0, 0.0, 1.0, 1.0, 0.0, 0.0, 0.0, 2.0, 9.0, 0.0, 1.0, 0.0, 0.0, [0.0, 0.0, 9.0, 1.0, 1.0, 0.0, 0.0, 1.0, 0.0, 0.0, 2.0, 0.0, 0.0, 24.0, 7013.0, 4.0, 3.0, 24.0, 34.0, 2.0, 1.0], [10.14066716639757, 9.85933283360243], [0.5070333583198785, 0.4929666416801215], 0.0, 'No Risk'], ['no_checking', 43, 'outstanding_credit', 'retraining', 7365, 'greater_1000', 'greater_7', 5, 'male', 'co-applicant', 5, 'unknown', 48, 'none', 'free', 2, 'skilled', 1, 'yes', 'yes', 0.0, 2.0, 2.0, 3.0, 0.0, 2.0, 0.0, 0.0, 8.0, 1.0, 3.0, 0.0, 1.0, [0.0, 2.0, 8.0, 3.0, 2.0, 0.0, 1.0, 3.0, 0.0, 2.0, 0.0, 1.0, 0.0, 43.0, 7365.0, 5.0, 5.0, 43.0, 48.0, 2.0, 1.0], [1.5641838447795484, 18.43581615522045], [0.07820919223897742, 0.9217908077610225], 1.0, 'Risk'], ['0_to_200', 18, 'prior_payments_delayed', 'business', 4347, 'less_100', '1_to_4', 4, 'male', 'none', 4, 'car_other', 32, 'none', 'own', 2, 'management_self-employed', 1, 'none', 'yes', 2.0, 0.0, 0.0, 0.0, 0.0, 0.0, 0.0, 2.0, 9.0, 0.0, 1.0, 0.0, 0.0, [21, [0, 2, 7, 10, 13, 14, 15, 16, 17, 18, 19, 20], [2.0, 9.0, 1.0, 2.0, 18.0, 4347.0, 4.0, 4.0, 18.0, 32.0, 2.0, 1.0]], [13.703809881093072, 6.296190118906927], [0.6851904940546536, 0.31480950594534635], 0.0, 'No Risk'], ['0_to_200', 15, 'credits_paid_to_date', 'vacation', 4904, 'less_100', 'less_1', 3, 'female', 'co-applicant', 2, 'savings_insurance', 46, 'none', 'own', 1, 'skilled', 1, 'none', 'yes', 2.0, 1.0, 3.0, 0.0, 0.0, 0.0, 0.0, 0.0, 6.0, 1.0, 0.0, 1.0, 0.0, [2.0, 1.0, 6.0, 0.0, 3.0, 1.0, 1.0, 0.0, 0.0, 0.0, 0.0, 0.0, 0.0, 15.0, 4904.0, 3.0, 2.0, 15.0, 46.0, 1.0, 1.0], [16.3764851886843, 3.623514811315705], [0.8188242594342148, 0.18117574056578523], 0.0, 'No Risk'], ['0_to_200', 13, 'prior_payments_delayed', 'retraining', 2687, 'less_100', 'less_1', 2, 'male', 'none', 2, 'savings_insurance', 26, 'none', 'own', 1, 'skilled', 1, 'none', 'yes', 2.0, 0.0, 3.0, 0.0, 0.0, 0.0, 0.0, 0.0, 8.0, 0.0, 0.0, 0.0, 0.0, [21, [0, 2, 4, 13, 14, 15, 16, 17, 18, 19, 20], [2.0, 8.0, 3.0, 13.0, 2687.0, 2.0, 2.0, 13.0, 26.0, 1.0, 1.0]], [18.671265554042986, 1.3287344459570145], [0.9335632777021493, 0.06643672229785072], 0.0, 'No Risk'], ['less_0', 29, 'credits_paid_to_date', 'retraining', 2382, '500_to_1000', '1_to_4', 3, 'female', 'none', 3, 'car_other', 37, 'stores', 'own', 1, 'skilled', 1, 'none', 'yes', 1.0, 1.0, 0.0, 2.0, 0.0, 0.0, 1.0, 0.0, 8.0, 0.0, 1.0, 1.0, 0.0, [1.0, 1.0, 8.0, 2.0, 0.0, 1.0, 0.0, 1.0, 1.0, 0.0, 0.0, 0.0, 0.0, 29.0, 2382.0, 3.0, 3.0, 29.0, 37.0, 1.0, 1.0], [13.54048502543145, 6.459514974568548], [0.6770242512715726, 0.32297574872842744], 0.0, 'No Risk'], ['0_to_200', 4, 'prior_payments_delayed', 'car_new', 250, 'less_100', 'less_1', 1, 'female', 'none', 2, 'savings_insurance', 31, 'stores', 'rent', 1, 'skilled', 1, 'none', 'yes', 2.0, 0.0, 3.0, 0.0, 0.0, 1.0, 1.0, 0.0, 0.0, 0.0, 0.0, 1.0, 0.0, [2.0, 0.0, 0.0, 0.0, 3.0, 1.0, 0.0, 0.0, 1.0, 1.0, 0.0, 0.0, 0.0, 4.0, 250.0, 1.0, 2.0, 4.0, 31.0, 1.0, 1.0], [18.57754868404429, 1.422451315955707], [0.9288774342022146, 0.07112256579778535], 0.0, 'No Risk'], ['0_to_200', 13, 'credits_paid_to_date', 'furniture', 2676, '500_to_1000', '4_to_7', 3, 'male', 'none', 3, 'savings_insurance', 42, 'stores', 'own', 2, 'unskilled', 1, 'none', 'yes', 2.0, 1.0, 1.0, 2.0, 0.0, 0.0, 1.0, 1.0, 1.0, 0.0, 0.0, 0.0, 0.0, [2.0, 1.0, 1.0, 2.0, 1.0, 0.0, 0.0, 0.0, 1.0, 0.0, 1.0, 0.0, 0.0, 13.0, 2676.0, 3.0, 3.0, 13.0, 42.0, 2.0, 1.0], [14.882190300035386, 5.117809699964613], [0.7441095150017694, 0.25589048499823064], 0.0, 'No Risk'], ['less_0', 14, 'all_credits_paid_back', 'car_new', 250, 'less_100', '1_to_4', 2, 'male', 'none', 2, 'savings_insurance', 40, 'none', 'own', 2, 'skilled', 2, 'none', 'yes', 1.0, 3.0, 0.0, 0.0, 0.0, 0.0, 0.0, 0.0, 0.0, 0.0, 0.0, 0.0, 0.0, [21, [0, 1, 13, 14, 15, 16, 17, 18, 19, 20], [1.0, 3.0, 14.0, 250.0, 2.0, 2.0, 14.0, 40.0, 2.0, 2.0]], [16.681117980098623, 3.3188820199013804], [0.834055899004931, 0.16594410099506898], 0.0, 'No Risk'], ['less_0', 18, 'credits_paid_to_date', 'car_used', 250, 'less_100', 'unemployed', 1, 'female', 'none', 1, 'real_estate', 19, 'stores', 'rent', 1, 'skilled', 1, 'none', 'yes', 1.0, 1.0, 4.0, 0.0, 0.0, 1.0, 1.0, 0.0, 2.0, 0.0, 2.0, 1.0, 0.0, [1.0, 1.0, 2.0, 0.0, 4.0, 1.0, 0.0, 2.0, 1.0, 1.0, 0.0, 0.0, 0.0, 18.0, 250.0, 1.0, 1.0, 18.0, 19.0, 1.0, 1.0], [19.203022433537043, 0.7969775664629564], [0.9601511216768521, 0.03984887832314782], 0.0, 'No Risk'], ['less_0', 18, 'prior_payments_delayed', 'education', 3172, '500_to_1000', '4_to_7', 3, 'male', 'none', 2, 'savings_insurance', 34, 'none', 'own', 2, 'skilled', 2, 'yes', 'yes', 1.0, 0.0, 1.0, 2.0, 0.0, 0.0, 0.0, 0.0, 7.0, 0.0, 0.0, 0.0, 1.0, [1.0, 0.0, 7.0, 2.0, 1.0, 0.0, 0.0, 0.0, 0.0, 0.0, 0.0, 1.0, 0.0, 18.0, 3172.0, 3.0, 2.0, 18.0, 34.0, 2.0, 2.0], [14.084758674325384, 5.915241325674615], [0.7042379337162692, 0.29576206628373075], 0.0, 'No Risk'], ['less_0', 22, 'credits_paid_to_date', 'retraining', 250, 'less_100', '4_to_7', 2, 'male', 'none', 1, 'car_other', 32, 'stores', 'own', 1, 'skilled', 1, 'none', 'yes', 1.0, 1.0, 1.0, 0.0, 0.0, 0.0, 1.0, 0.0, 8.0, 0.0, 1.0, 0.0, 0.0, [1.0, 1.0, 8.0, 0.0, 1.0, 0.0, 0.0, 1.0, 1.0, 0.0, 0.0, 0.0, 0.0, 22.0, 250.0, 2.0, 1.0, 22.0, 32.0, 1.0, 1.0], [15.77495321646932, 4.22504678353068], [0.788747660823466, 0.21125233917653402], 0.0, 'No Risk'], ['no_checking', 43, 'outstanding_credit', 'other', 4264, 'unknown', 'greater_7', 4, 'male', 'none', 3, 'unknown', 35, 'none', 'own', 3, 'skilled', 2, 'yes', 'yes', 0.0, 2.0, 2.0, 4.0, 0.0, 0.0, 0.0, 0.0, 10.0, 0.0, 3.0, 0.0, 1.0, [0.0, 2.0, 10.0, 4.0, 2.0, 0.0, 0.0, 3.0, 0.0, 0.0, 0.0, 1.0, 0.0, 43.0, 4264.0, 4.0, 3.0, 43.0, 35.0, 3.0, 2.0], [7.416768667575583, 12.583231332424415], [0.3708384333787792, 0.6291615666212208], 1.0, 'Risk'], ['no_checking', 33, 'prior_payments_delayed', 'education', 4959, 'unknown', 'greater_7', 4, 'male', 'none', 2, 'car_other', 44, 'none', 'own', 2, 'skilled', 1, 'none', 'yes', 0.0, 0.0, 2.0, 4.0, 0.0, 0.0, 0.0, 0.0, 7.0, 0.0, 1.0, 0.0, 0.0, [21, [2, 3, 4, 7, 13, 14, 15, 16, 17, 18, 19, 20], [7.0, 4.0, 2.0, 1.0, 33.0, 4959.0, 4.0, 2.0, 33.0, 44.0, 2.0, 1.0]], [9.21993592007122, 10.780064079928778], [0.460996796003561, 0.5390032039964389], 1.0, 'Risk'], ['0_to_200', 28, 'credits_paid_to_date', 'furniture', 250, '100_to_500', 'less_1', 1, 'male', 'none', 3, 'real_estate', 23, 'stores', 'own', 1, 'skilled', 1, 'none', 'yes', 2.0, 1.0, 3.0, 1.0, 0.0, 0.0, 1.0, 0.0, 1.0, 0.0, 2.0, 0.0, 0.0, [2.0, 1.0, 1.0, 1.0, 3.0, 0.0, 0.0, 2.0, 1.0, 0.0, 0.0, 0.0, 0.0, 28.0, 250.0, 1.0, 3.0, 28.0, 23.0, 1.0, 1.0], [16.048795135059898, 3.951204864940104], [0.8024397567529948, 0.19756024324700522], 0.0, 'No Risk'], ['0_to_200', 24, 'credits_paid_to_date', 'vacation', 296, '100_to_500', '1_to_4', 2, 'male', 'none', 3, 'savings_insurance', 35, 'none', 'own', 1, 'skilled', 1, 'none', 'yes', 2.0, 1.0, 0.0, 1.0, 0.0, 0.0, 0.0, 0.0, 6.0, 0.0, 0.0, 0.0, 0.0, [21, [0, 1, 2, 3, 13, 14, 15, 16, 17, 18, 19, 20], [2.0, 1.0, 6.0, 1.0, 24.0, 296.0, 2.0, 3.0, 24.0, 35.0, 1.0, 1.0]], [15.024323366759821, 4.975676633240182], [0.751216168337991, 0.24878383166200907], 0.0, 'No Risk'], ['less_0', 4, 'credits_paid_to_date', 'furniture', 250, 'less_100', '1_to_4', 2, 'female', 'none', 1, 'savings_insurance', 26, 'bank', 'own', 1, 'unskilled', 1, 'none', 'yes', 1.0, 1.0, 0.0, 0.0, 0.0, 0.0, 2.0, 1.0, 1.0, 0.0, 0.0, 1.0, 0.0, [1.0, 1.0, 1.0, 0.0, 0.0, 1.0, 0.0, 0.0, 2.0, 0.0, 1.0, 0.0, 0.0, 4.0, 250.0, 2.0, 1.0, 4.0, 26.0, 1.0, 1.0], [18.661938185757183, 1.3380618142428147], [0.9330969092878593, 0.06690309071214075], 0.0, 'No Risk'], ['0_to_200', 17, 'credits_paid_to_date', 'furniture', 1889, 'less_100', '1_to_4', 3, 'male', 'none', 3, 'savings_insurance', 37, 'none', 'own', 1, 'management_self-employed', 1, 'none', 'yes', 2.0, 1.0, 0.0, 0.0, 0.0, 0.0, 0.0, 2.0, 1.0, 0.0, 0.0, 0.0, 0.0, [21, [0, 1, 2, 10, 13, 14, 15, 16, 17, 18, 19, 20], [2.0, 1.0, 1.0, 2.0, 17.0, 1889.0, 3.0, 3.0, 17.0, 37.0, 1.0, 1.0]], [15.68515166712208, 4.314848332877923], [0.7842575833561038, 0.21574241664389612], 0.0, 'No Risk'], ['less_0', 16, 'prior_payments_delayed', 'car_used', 3922, 'less_100', '4_to_7', 4, 'male', 'none', 3, 'car_other', 39, 'none', 'own', 1, 'skilled', 1, 'none', 'yes', 1.0, 0.0, 1.0, 0.0, 0.0, 0.0, 0.0, 0.0, 2.0, 0.0, 1.0, 0.0, 0.0, [21, [0, 2, 4, 7, 13, 14, 15, 16, 17, 18, 19, 20], [1.0, 2.0, 1.0, 1.0, 16.0, 3922.0, 4.0, 3.0, 16.0, 39.0, 1.0, 1.0]], [14.766217797825968, 5.233782202174032], [0.7383108898912984, 0.2616891101087016], 0.0, 'No Risk'], ['less_0', 10, 'all_credits_paid_back', 'car_used', 250, 'less_100', '1_to_4', 2, 'female', 'none', 2, 'real_estate', 19, 'bank', 'rent', 1, 'unemployed', 1, 'none', 'yes', 1.0, 3.0, 0.0, 0.0, 0.0, 1.0, 2.0, 3.0, 2.0, 0.0, 2.0, 1.0, 0.0, [1.0, 3.0, 2.0, 0.0, 0.0, 1.0, 0.0, 2.0, 2.0, 1.0, 3.0, 0.0, 0.0, 10.0, 250.0, 2.0, 2.0, 10.0, 19.0, 1.0, 1.0], [19.49709505313791, 0.5029049468620884], [0.9748547526568956, 0.025145247343104422], 0.0, 'No Risk'], ['greater_200', 19, 'credits_paid_to_date', 'car_used', 250, '100_to_500', '4_to_7', 2, 'male', 'none', 3, 'savings_insurance', 39, 'none', 'rent', 1, 'skilled', 1, 'none', 'yes', 3.0, 1.0, 1.0, 1.0, 0.0, 1.0, 0.0, 0.0, 2.0, 0.0, 0.0, 0.0, 0.0, [3.0, 1.0, 2.0, 1.0, 1.0, 0.0, 0.0, 0.0, 0.0, 1.0, 0.0, 0.0, 0.0, 19.0, 250.0, 2.0, 3.0, 19.0, 39.0, 1.0, 1.0], [15.196736812272416, 4.803263187727584], [0.7598368406136208, 0.2401631593863792], 0.0, 'No Risk'], ['0_to_200', 8, 'all_credits_paid_back', 'car_new', 404, 'less_100', 'less_1', 2, 'female', 'none', 2, 'savings_insurance', 33, 'none', 'own', 1, 'skilled', 1, 'none', 'yes', 2.0, 3.0, 3.0, 0.0, 0.0, 0.0, 0.0, 0.0, 0.0, 0.0, 0.0, 1.0, 0.0, [21, [0, 1, 4, 5, 13, 14, 15, 16, 17, 18, 19, 20], [2.0, 3.0, 3.0, 1.0, 8.0, 404.0, 2.0, 2.0, 8.0, 33.0, 1.0, 1.0]], [18.430486797159492, 1.569513202840509], [0.9215243398579747, 0.07847566014202545], 0.0, 'No Risk'], ['no_checking', 44, 'outstanding_credit', 'education', 8984, 'greater_1000', 'greater_7', 6, 'male', 'co-applicant', 4, 'car_other', 42, 'none', 'free', 2, 'skilled', 2, 'yes', 'yes', 0.0, 2.0, 2.0, 3.0, 0.0, 2.0, 0.0, 0.0, 7.0, 1.0, 1.0, 0.0, 1.0, [0.0, 2.0, 7.0, 3.0, 2.0, 0.0, 1.0, 1.0, 0.0, 2.0, 0.0, 1.0, 0.0, 44.0, 8984.0, 6.0, 4.0, 44.0, 42.0, 2.0, 2.0], [3.8076131075501074, 16.192386892449893], [0.19038065537750537, 0.8096193446224946], 1.0, 'Risk'], ['less_0', 31, 'credits_paid_to_date', 'furniture', 2288, 'less_100', '1_to_4', 3, 'female', 'none', 1, 'savings_insurance', 37, 'stores', 'own', 2, 'skilled', 1, 'none', 'yes', 1.0, 1.0, 0.0, 0.0, 0.0, 0.0, 1.0, 0.0, 1.0, 0.0, 0.0, 1.0, 0.0, [1.0, 1.0, 1.0, 0.0, 0.0, 1.0, 0.0, 0.0, 1.0, 0.0, 0.0, 0.0, 0.0, 31.0, 2288.0, 3.0, 1.0, 31.0, 37.0, 2.0, 1.0], [14.649337483370894, 5.3506625166291055], [0.7324668741685447, 0.2675331258314553], 0.0, 'No Risk'], ['less_0', 18, 'prior_payments_delayed', 'car_new', 1834, 'less_100', '1_to_4', 1, 'female', 'none', 2, 'savings_insurance', 27, 'stores', 'own', 1, 'skilled', 1, 'none', 'yes', 1.0, 0.0, 0.0, 0.0, 0.0, 0.0, 1.0, 0.0, 0.0, 0.0, 0.0, 1.0, 0.0, [21, [0, 5, 8, 13, 14, 15, 16, 17, 18, 19, 20], [1.0, 1.0, 1.0, 18.0, 1834.0, 1.0, 2.0, 18.0, 27.0, 1.0, 1.0]], [16.838376685768484, 3.1616233142315173], [0.8419188342884242, 0.15808116571157588], 0.0, 'No Risk'], ['0_to_200', 25, 'credits_paid_to_date', 'car_used', 1233, 'less_100', '1_to_4', 2, 'male', 'none', 2, 'real_estate', 19, 'none', 'rent', 1, 'skilled', 1, 'none', 'yes', 2.0, 1.0, 0.0, 0.0, 0.0, 1.0, 0.0, 0.0, 2.0, 0.0, 2.0, 0.0, 0.0, [2.0, 1.0, 2.0, 0.0, 0.0, 0.0, 0.0, 2.0, 0.0, 1.0, 0.0, 0.0, 0.0, 25.0, 1233.0, 2.0, 2.0, 25.0, 19.0, 1.0, 1.0], [15.747145625488544, 4.252854374511458], [0.7873572812744271, 0.2126427187255729], 0.0, 'No Risk'], ['no_checking', 25, 'prior_payments_delayed', 'radio_tv', 7781, 'greater_1000', '1_to_4', 4, 'male', 'none', 4, 'car_other', 39, 'none', 'own', 2, 'management_self-employed', 2, 'yes', 'yes', 0.0, 0.0, 0.0, 3.0, 0.0, 0.0, 0.0, 2.0, 3.0, 0.0, 1.0, 0.0, 1.0, [0.0, 0.0, 3.0, 3.0, 0.0, 0.0, 0.0, 1.0, 0.0, 0.0, 2.0, 1.0, 0.0, 25.0, 7781.0, 4.0, 4.0, 25.0, 39.0, 2.0, 2.0], [10.357821900307385, 9.642178099692615], [0.5178910950153692, 0.4821089049846307], 0.0, 'No Risk'], ['0_to_200', 23, 'credits_paid_to_date', 'car_new', 250, 'less_100', '1_to_4', 2, 'male', 'none', 2, 'real_estate', 32, 'none', 'own', 1, 'skilled', 1, 'none', 'yes', 2.0, 1.0, 0.0, 0.0, 0.0, 0.0, 0.0, 0.0, 0.0, 0.0, 2.0, 0.0, 0.0, [21, [0, 1, 7, 13, 14, 15, 16, 17, 18, 19, 20], [2.0, 1.0, 2.0, 23.0, 250.0, 2.0, 2.0, 23.0, 32.0, 1.0, 1.0]], [16.757684923459024, 3.242315076540975], [0.8378842461729512, 0.16211575382704874], 0.0, 'No Risk'], ['no_checking', 27, 'prior_payments_delayed', 'furniture', 4277, '100_to_500', '1_to_4', 4, 'male', 'none', 3, 'real_estate', 33, 'none', 'own', 1, 'management_self-employed', 1, 'none', 'yes', 0.0, 0.0, 0.0, 1.0, 0.0, 0.0, 0.0, 2.0, 1.0, 0.0, 2.0, 0.0, 0.0, [21, [2, 3, 7, 10, 13, 14, 15, 16, 17, 18, 19, 20], [1.0, 1.0, 2.0, 2.0, 27.0, 4277.0, 4.0, 3.0, 27.0, 33.0, 1.0, 1.0]], [14.401745182363081, 5.59825481763692], [0.7200872591181541, 0.279912740881846], 0.0, 'No Risk'], ['less_0', 36, 'credits_paid_to_date', 'car_used', 650, '100_to_500', '4_to_7', 3, 'male', 'none', 2, 'real_estate', 21, 'none', 'own', 1, 'skilled', 1, 'yes', 'yes', 1.0, 1.0, 1.0, 1.0, 0.0, 0.0, 0.0, 0.0, 2.0, 0.0, 2.0, 0.0, 1.0, [1.0, 1.0, 2.0, 1.0, 1.0, 0.0, 0.0, 2.0, 0.0, 0.0, 0.0, 1.0, 0.0, 36.0, 650.0, 3.0, 2.0, 36.0, 21.0, 1.0, 1.0], [14.005136020120943, 5.994863979879057], [0.7002568010060471, 0.29974319899395285], 0.0, 'No Risk'], ['greater_200', 24, 'credits_paid_to_date', 'radio_tv', 4010, '100_to_500', '1_to_4', 3, 'male', 'none', 3, 'real_estate', 30, 'stores', 'rent', 1, 'unskilled', 1, 'none', 'yes', 3.0, 1.0, 0.0, 1.0, 0.0, 1.0, 1.0, 1.0, 3.0, 0.0, 2.0, 0.0, 0.0, [3.0, 1.0, 3.0, 1.0, 0.0, 0.0, 0.0, 2.0, 1.0, 1.0, 1.0, 0.0, 0.0, 24.0, 4010.0, 3.0, 3.0, 24.0, 30.0, 1.0, 1.0], [16.160156355530965, 3.8398436444690365], [0.8080078177765483, 0.19199218222345182], 0.0, 'No Risk'], ['no_checking', 28, 'prior_payments_delayed', 'radio_tv', 4102, '100_to_500', '1_to_4', 3, 'male', 'none', 4, 'savings_insurance', 33, 'none', 'own', 2, 'management_self-employed', 1, 'yes', 'no', 0.0, 0.0, 0.0, 1.0, 1.0, 0.0, 0.0, 2.0, 3.0, 0.0, 0.0, 0.0, 1.0, [0.0, 0.0, 3.0, 1.0, 0.0, 0.0, 0.0, 0.0, 0.0, 0.0, 2.0, 1.0, 1.0, 28.0, 4102.0, 3.0, 4.0, 28.0, 33.0, 2.0, 1.0], [12.31119585911665, 7.6888041408833505], [0.6155597929558325, 0.38444020704416754], 0.0, 'No Risk'], ['less_0', 23, 'prior_payments_delayed', 'retraining', 3124, 'less_100', '1_to_4', 3, 'female', 'none', 3, 'car_other', 44, 'none', 'rent', 2, 'skilled', 2, 'yes', 'yes', 1.0, 0.0, 0.0, 0.0, 0.0, 1.0, 0.0, 0.0, 8.0, 0.0, 1.0, 1.0, 1.0, [1.0, 0.0, 8.0, 0.0, 0.0, 1.0, 0.0, 1.0, 0.0, 1.0, 0.0, 1.0, 0.0, 23.0, 3124.0, 3.0, 3.0, 23.0, 44.0, 2.0, 2.0], [13.407567715564722, 6.592432284435277], [0.6703783857782362, 0.32962161422176384], 0.0, 'No Risk'], ['no_checking', 35, 'outstanding_credit', 'appliances', 5199, 'unknown', 'greater_7', 4, 'male', 'co-applicant', 4, 'unknown', 35, 'bank', 'own', 2, 'unskilled', 2, 'yes', 'yes', 0.0, 2.0, 2.0, 4.0, 0.0, 0.0, 2.0, 1.0, 4.0, 1.0, 3.0, 0.0, 1.0, [0.0, 2.0, 4.0, 4.0, 2.0, 0.0, 1.0, 3.0, 2.0, 0.0, 1.0, 1.0, 0.0, 35.0, 5199.0, 4.0, 4.0, 35.0, 35.0, 2.0, 2.0], [5.106491630038546, 14.893508369961452], [0.2553245815019273, 0.7446754184980726], 1.0, 'Risk'], ['less_0', 24, 'prior_payments_delayed', 'furniture', 5098, 'less_100', '4_to_7', 4, 'female', 'none', 2, 'car_other', 39, 'none', 'own', 2, 'skilled', 1, 'none', 'yes', 1.0, 0.0, 1.0, 0.0, 0.0, 0.0, 0.0, 0.0, 1.0, 0.0, 1.0, 1.0, 0.0, [1.0, 0.0, 1.0, 0.0, 1.0, 1.0, 0.0, 1.0, 0.0, 0.0, 0.0, 0.0, 0.0, 24.0, 5098.0, 4.0, 2.0, 24.0, 39.0, 2.0, 1.0], [14.195724087240544, 5.804275912759459], [0.7097862043620271, 0.2902137956379729], 0.0, 'No Risk'], ['0_to_200', 25, 'outstanding_credit', 'car_used', 4022, '100_to_500', '4_to_7', 4, 'male', 'none', 4, 'car_other', 45, 'none', 'free', 2, 'skilled', 1, 'yes', 'yes', 2.0, 2.0, 1.0, 1.0, 0.0, 2.0, 0.0, 0.0, 2.0, 0.0, 1.0, 0.0, 1.0, [2.0, 2.0, 2.0, 1.0, 1.0, 0.0, 0.0, 1.0, 0.0, 2.0, 0.0, 1.0, 0.0, 25.0, 4022.0, 4.0, 4.0, 25.0, 45.0, 2.0, 1.0], [9.531476577330045, 10.468523422669957], [0.47657382886650224, 0.5234261711334979], 1.0, 'Risk'], ['no_checking', 28, 'prior_payments_delayed', 'furniture', 5820, '500_to_1000', 'greater_7', 4, 'male', 'none', 4, 'unknown', 32, 'none', 'own', 1, 'skilled', 1, 'none', 'yes', 0.0, 0.0, 2.0, 2.0, 0.0, 0.0, 0.0, 0.0, 1.0, 0.0, 3.0, 0.0, 0.0, [21, [2, 3, 4, 7, 13, 14, 15, 16, 17, 18, 19, 20], [1.0, 2.0, 2.0, 3.0, 28.0, 5820.0, 4.0, 4.0, 28.0, 32.0, 1.0, 1.0]], [9.664700650965965, 10.335299349034036], [0.48323503254829825, 0.5167649674517019], 1.0, 'Risk'], ['no_checking', 39, 'outstanding_credit', 'repairs', 3437, 'greater_1000', 'greater_7', 5, 'male', 'guarantor', 5, 'car_other', 43, 'none', 'free', 2, 'skilled', 1, 'yes', 'yes', 0.0, 2.0, 2.0, 3.0, 0.0, 2.0, 0.0, 0.0, 5.0, 2.0, 1.0, 0.0, 1.0, [0.0, 2.0, 5.0, 3.0, 2.0, 0.0, 2.0, 1.0, 0.0, 2.0, 0.0, 1.0, 0.0, 39.0, 3437.0, 5.0, 5.0, 39.0, 43.0, 2.0, 1.0], [4.952548916559166, 15.04745108344083], [0.24762744582795831, 0.7523725541720416], 1.0, 'Risk'], ['no_checking', 21, 'credits_paid_to_date', 'car_used', 2218, '100_to_500', '4_to_7', 3, 'male', 'none', 3, 'savings_insurance', 39, 'stores', 'own', 2, 'unskilled', 1, 'none', 'yes', 0.0, 1.0, 1.0, 1.0, 0.0, 0.0, 1.0, 1.0, 2.0, 0.0, 0.0, 0.0, 0.0, [0.0, 1.0, 2.0, 1.0, 1.0, 0.0, 0.0, 0.0, 1.0, 0.0, 1.0, 0.0, 0.0, 21.0, 2218.0, 3.0, 3.0, 21.0, 39.0, 2.0, 1.0], [12.549750723929769, 7.450249276070231], [0.6274875361964884, 0.37251246380351155], 0.0, 'No Risk'], ['less_0', 16, 'credits_paid_to_date', 'car_new', 3690, '500_to_1000', '1_to_4', 3, 'male', 'none', 1, 'savings_insurance', 27, 'none', 'own', 1, 'skilled', 1, 'none', 'yes', 1.0, 1.0, 0.0, 2.0, 0.0, 0.0, 0.0, 0.0, 0.0, 0.0, 0.0, 0.0, 0.0, [21, [0, 1, 3, 13, 14, 15, 16, 17, 18, 19, 20], [1.0, 1.0, 2.0, 16.0, 3690.0, 3.0, 1.0, 16.0, 27.0, 1.0, 1.0]], [17.54429107526874, 2.455708924731259], [0.877214553763437, 0.12278544623656296], 0.0, 'No Risk'], ['less_0', 22, 'credits_paid_to_date', 'radio_tv', 2696, 'less_100', 'less_1', 2, 'female', 'none', 2, 'savings_insurance', 27, 'stores', 'own', 1, 'skilled', 1, 'none', 'yes', 1.0, 1.0, 3.0, 0.0, 0.0, 0.0, 1.0, 0.0, 3.0, 0.0, 0.0, 1.0, 0.0, [1.0, 1.0, 3.0, 0.0, 3.0, 1.0, 0.0, 0.0, 1.0, 0.0, 0.0, 0.0, 0.0, 22.0, 2696.0, 2.0, 2.0, 22.0, 27.0, 1.0, 1.0], [16.620766645295024, 3.3792333547049775], [0.8310383322647512, 0.16896166773524887], 0.0, 'No Risk'], ['0_to_200', 16, 'credits_paid_to_date', 'furniture', 281, 'less_100', '4_to_7', 2, 'male', 'none', 1, 'real_estate', 21, 'bank', 'rent', 1, 'unemployed', 1, 'none', 'yes', 2.0, 1.0, 1.0, 0.0, 0.0, 1.0, 2.0, 3.0, 1.0, 0.0, 2.0, 0.0, 0.0, [2.0, 1.0, 1.0, 0.0, 1.0, 0.0, 0.0, 2.0, 2.0, 1.0, 3.0, 0.0, 0.0, 16.0, 281.0, 2.0, 1.0, 16.0, 21.0, 1.0, 1.0], [18.822872520028632, 1.1771274799713651], [0.9411436260014318, 0.058856373998568266], 0.0, 'No Risk'], ['0_to_200', 16, 'credits_paid_to_date', 'furniture', 1353, 'less_100', '1_to_4', 3, 'male', 'none', 3, 'car_other', 23, 'none', 'own', 1, 'skilled', 1, 'yes', 'yes', 2.0, 1.0, 0.0, 0.0, 0.0, 0.0, 0.0, 0.0, 1.0, 0.0, 1.0, 0.0, 1.0, [2.0, 1.0, 1.0, 0.0, 0.0, 0.0, 0.0, 1.0, 0.0, 0.0, 0.0, 1.0, 0.0, 16.0, 1353.0, 3.0, 3.0, 16.0, 23.0, 1.0, 1.0], [15.905936858397848, 4.094063141602155], [0.7952968429198922, 0.20470315708010772], 0.0, 'No Risk'], ['less_0', 9, 'all_credits_paid_back', 'car_new', 250, 'less_100', 'unemployed', 1, 'male', 'none', 1, 'real_estate', 19, 'bank', 'rent', 1, 'unemployed', 1, 'none', 'yes', 1.0, 3.0, 4.0, 0.0, 0.0, 1.0, 2.0, 3.0, 0.0, 0.0, 2.0, 0.0, 0.0, [1.0, 3.0, 0.0, 0.0, 4.0, 0.0, 0.0, 2.0, 2.0, 1.0, 3.0, 0.0, 0.0, 9.0, 250.0, 1.0, 1.0, 9.0, 19.0, 1.0, 1.0], [19.705858602842344, 0.29414139715765747], [0.9852929301421172, 0.014707069857882874], 0.0, 'No Risk'], ['less_0', 12, 'all_credits_paid_back', 'furniture', 1154, 'less_100', '1_to_4', 1, 'female', 'none', 1, 'savings_insurance', 35, 'stores', 'own', 1, 'skilled', 1, 'none', 'yes', 1.0, 3.0, 0.0, 0.0, 0.0, 0.0, 1.0, 0.0, 1.0, 0.0, 0.0, 1.0, 0.0, [1.0, 3.0, 1.0, 0.0, 0.0, 1.0, 0.0, 0.0, 1.0, 0.0, 0.0, 0.0, 0.0, 12.0, 1154.0, 1.0, 1.0, 12.0, 35.0, 1.0, 1.0], [18.007147884844162, 1.9928521151558394], [0.9003573942422081, 0.09964260575779196], 0.0, 'No Risk'], ['less_0', 18, 'credits_paid_to_date', 'car_new', 2143, '100_to_500', '4_to_7', 2, 'male', 'none', 3, 'car_other', 40, 'stores', 'rent', 2, 'skilled', 1, 'none', 'yes', 1.0, 1.0, 1.0, 1.0, 0.0, 1.0, 1.0, 0.0, 0.0, 0.0, 1.0, 0.0, 0.0, [1.0, 1.0, 0.0, 1.0, 1.0, 0.0, 0.0, 1.0, 1.0, 1.0, 0.0, 0.0, 0.0, 18.0, 2143.0, 2.0, 3.0, 18.0, 40.0, 2.0, 1.0], [14.026925055831494, 5.973074944168505], [0.7013462527915747, 0.29865374720842525], 0.0, 'No Risk'], ['0_to_200', 4, 'prior_payments_delayed', 'furniture', 2562, 'less_100', '4_to_7', 2, 'male', 'none', 3, 'car_other', 27, 'none', 'rent', 1, 'skilled', 1, 'none', 'yes', 2.0, 0.0, 1.0, 0.0, 0.0, 1.0, 0.0, 0.0, 1.0, 0.0, 1.0, 0.0, 0.0, [2.0, 0.0, 1.0, 0.0, 1.0, 0.0, 0.0, 1.0, 0.0, 1.0, 0.0, 0.0, 0.0, 4.0, 2562.0, 2.0, 3.0, 4.0, 27.0, 1.0, 1.0], [16.882056862425742, 3.117943137574259], [0.8441028431212871, 0.15589715687871294], 0.0, 'No Risk'], ['no_checking', 35, 'outstanding_credit', 'retraining', 3387, 'greater_1000', 'greater_7', 5, 'male', 'none', 5, 'unknown', 44, 'none', 'own', 2, 'skilled', 2, 'yes', 'yes', 0.0, 2.0, 2.0, 3.0, 0.0, 0.0, 0.0, 0.0, 8.0, 0.0, 3.0, 0.0, 1.0, [0.0, 2.0, 8.0, 3.0, 2.0, 0.0, 0.0, 3.0, 0.0, 0.0, 0.0, 1.0, 0.0, 35.0, 3387.0, 5.0, 5.0, 35.0, 44.0, 2.0, 2.0], [6.919054103619713, 13.080945896380284], [0.3459527051809857, 0.6540472948190142], 1.0, 'Risk'], ['less_0', 29, 'credits_paid_to_date', 'car_used', 2606, 'less_100', 'less_1', 2, 'female', 'co-applicant', 2, 'car_other', 37, 'stores', 'own', 1, 'unskilled', 1, 'yes', 'yes', 1.0, 1.0, 3.0, 0.0, 0.0, 0.0, 1.0, 1.0, 2.0, 1.0, 1.0, 1.0, 1.0, [1.0, 1.0, 2.0, 0.0, 3.0, 1.0, 1.0, 1.0, 1.0, 0.0, 1.0, 1.0, 0.0, 29.0, 2606.0, 2.0, 2.0, 29.0, 37.0, 1.0, 1.0], [13.048073180576539, 6.951926819423459], [0.6524036590288269, 0.347596340971173], 0.0, 'No Risk'], ['0_to_200', 23, 'credits_paid_to_date', 'business', 5063, 'less_100', 'less_1', 3, 'male', 'none', 3, 'car_other', 34, 'none', 'free', 1, 'management_self-employed', 1, 'none', 'yes', 2.0, 1.0, 3.0, 0.0, 0.0, 2.0, 0.0, 2.0, 9.0, 0.0, 1.0, 0.0, 0.0, [2.0, 1.0, 9.0, 0.0, 3.0, 0.0, 0.0, 1.0, 0.0, 2.0, 2.0, 0.0, 0.0, 23.0, 5063.0, 3.0, 3.0, 23.0, 34.0, 1.0, 1.0], [14.44693561280805, 5.553064387191952], [0.7223467806404025, 0.27765321935959764], 0.0, 'No Risk'], ['0_to_200', 21, 'credits_paid_to_date', 'appliances', 4449, '500_to_1000', '4_to_7', 3, 'male', 'none', 2, 'unknown', 44, 'bank', 'own', 2, 'unemployed', 1, 'yes', 'yes', 2.0, 1.0, 1.0, 2.0, 0.0, 0.0, 2.0, 3.0, 4.0, 0.0, 3.0, 0.0, 1.0, [2.0, 1.0, 4.0, 2.0, 1.0, 0.0, 0.0, 3.0, 2.0, 0.0, 3.0, 1.0, 0.0, 21.0, 4449.0, 3.0, 2.0, 21.0, 44.0, 2.0, 1.0], [13.59659114402527, 6.403408855974731], [0.6798295572012635, 0.3201704427987365], 0.0, 'No Risk'], ['greater_200', 13, 'all_credits_paid_back', 'radio_tv', 939, '500_to_1000', '4_to_7', 3, 'female', 'none', 1, 'real_estate', 36, 'none', 'rent', 1, 'skilled', 1, 'none', 'yes', 3.0, 3.0, 1.0, 2.0, 0.0, 1.0, 0.0, 0.0, 3.0, 0.0, 2.0, 1.0, 0.0, [3.0, 3.0, 3.0, 2.0, 1.0, 1.0, 0.0, 2.0, 0.0, 1.0, 0.0, 0.0, 0.0, 13.0, 939.0, 3.0, 1.0, 13.0, 36.0, 1.0, 1.0], [18.659567323864312, 1.3404326761356875], [0.9329783661932156, 0.06702163380678437], 0.0, 'No Risk'], ['no_checking', 37, 'prior_payments_delayed', 'furniture', 5860, 'unknown', 'greater_7', 3, 'male', 'co-applicant', 3, 'car_other', 55, 'none', 'free', 3, 'skilled', 1, 'yes', 'yes', 0.0, 0.0, 2.0, 4.0, 0.0, 2.0, 0.0, 0.0, 1.0, 1.0, 1.0, 0.0, 1.0, [0.0, 0.0, 1.0, 4.0, 2.0, 0.0, 1.0, 1.0, 0.0, 2.0, 0.0, 1.0, 0.0, 37.0, 5860.0, 3.0, 3.0, 37.0, 55.0, 3.0, 1.0], [2.2974310115142145, 17.702568988485787], [0.11487155057571072, 0.8851284494242894], 1.0, 'Risk'], ['less_0', 17, 'prior_payments_delayed', 'furniture', 3826, 'less_100', '4_to_7', 3, 'male', 'none', 3, 'unknown', 48, 'none', 'own', 2, 'skilled', 1, 'yes', 'yes', 1.0, 0.0, 1.0, 0.0, 0.0, 0.0, 0.0, 0.0, 1.0, 0.0, 3.0, 0.0, 1.0, [1.0, 0.0, 1.0, 0.0, 1.0, 0.0, 0.0, 3.0, 0.0, 0.0, 0.0, 1.0, 0.0, 17.0, 3826.0, 3.0, 3.0, 17.0, 48.0, 2.0, 1.0], [12.571477368659885, 7.428522631340113], [0.6285738684329943, 0.3714261315670057], 0.0, 'No Risk'], ['no_checking', 25, 'prior_payments_delayed', 'car_used', 4453, 'unknown', 'greater_7', 4, 'male', 'none', 5, 'savings_insurance', 40, 'none', 'own', 2, 'skilled', 1, 'none', 'yes', 0.0, 0.0, 2.0, 4.0, 0.0, 0.0, 0.0, 0.0, 2.0, 0.0, 0.0, 0.0, 0.0, [21, [2, 3, 4, 13, 14, 15, 16, 17, 18, 19, 20], [2.0, 4.0, 2.0, 25.0, 4453.0, 4.0, 5.0, 25.0, 40.0, 2.0, 1.0]], [8.819834401293308, 11.18016559870669], [0.4409917200646654, 0.5590082799353345], 1.0, 'Risk'], ['0_to_200', 25, 'outstanding_credit', 'radio_tv', 1919, '500_to_1000', '4_to_7', 3, 'male', 'none', 4, 'unknown', 40, 'none', 'own', 1, 'skilled', 1, 'yes', 'yes', 2.0, 2.0, 1.0, 2.0, 0.0, 0.0, 0.0, 0.0, 3.0, 0.0, 3.0, 0.0, 1.0, [2.0, 2.0, 3.0, 2.0, 1.0, 0.0, 0.0, 3.0, 0.0, 0.0, 0.0, 1.0, 0.0, 25.0, 1919.0, 3.0, 4.0, 25.0, 40.0, 1.0, 1.0], [11.335223751869183, 8.664776248130817], [0.5667611875934592, 0.43323881240654083], 0.0, 'No Risk'], ['less_0', 13, 'prior_payments_delayed', 'furniture', 1346, 'less_100', 'less_1', 3, 'male', 'none', 3, 'savings_insurance', 35, 'none', 'own', 2, 'skilled', 1, 'yes', 'yes', 1.0, 0.0, 3.0, 0.0, 0.0, 0.0, 0.0, 0.0, 1.0, 0.0, 0.0, 0.0, 1.0, [21, [0, 2, 4, 11, 13, 14, 15, 16, 17, 18, 19, 20], [1.0, 1.0, 3.0, 1.0, 13.0, 1346.0, 3.0, 3.0, 13.0, 35.0, 2.0, 1.0]], [15.756675128423902, 4.243324871576097], [0.7878337564211951, 0.21216624357880484], 0.0, 'No Risk'], ['no_checking', 30, 'prior_payments_delayed', 'car_used', 5396, 'greater_1000', '4_to_7', 4, 'male', 'none', 4, 'savings_insurance', 39, 'stores', 'own', 2, 'unskilled', 2, 'yes', 'yes', 0.0, 0.0, 1.0, 3.0, 0.0, 0.0, 1.0, 1.0, 2.0, 0.0, 0.0, 0.0, 1.0, [0.0, 0.0, 2.0, 3.0, 1.0, 0.0, 0.0, 0.0, 1.0, 0.0, 1.0, 1.0, 0.0, 30.0, 5396.0, 4.0, 4.0, 30.0, 39.0, 2.0, 2.0], [11.735012796951887, 8.264987203048108], [0.5867506398475946, 0.41324936015240554], 0.0, 'No Risk'], ['no_checking', 26, 'prior_payments_delayed', 'radio_tv', 6799, 'greater_1000', '4_to_7', 4, 'male', 'none', 4, 'unknown', 57, 'none', 'own', 2, 'skilled', 2, 'yes', 'yes', 0.0, 0.0, 1.0, 3.0, 0.0, 0.0, 0.0, 0.0, 3.0, 0.0, 3.0, 0.0, 1.0, [0.0, 0.0, 3.0, 3.0, 1.0, 0.0, 0.0, 3.0, 0.0, 0.0, 0.0, 1.0, 0.0, 26.0, 6799.0, 4.0, 4.0, 26.0, 57.0, 2.0, 2.0], [6.031839942596774, 13.968160057403228], [0.3015919971298387, 0.6984080028701614], 1.0, 'Risk'], ['no_checking', 29, 'outstanding_credit', 'appliances', 6531, 'unknown', 'greater_7', 4, 'male', 'co-applicant', 3, 'unknown', 49, 'none', 'free', 3, 'skilled', 2, 'yes', 'yes', 0.0, 2.0, 2.0, 4.0, 0.0, 2.0, 0.0, 0.0, 4.0, 1.0, 3.0, 0.0, 1.0, [0.0, 2.0, 4.0, 4.0, 2.0, 0.0, 1.0, 3.0, 0.0, 2.0, 0.0, 1.0, 0.0, 29.0, 6531.0, 4.0, 3.0, 29.0, 49.0, 3.0, 2.0], [1.6336724828548739, 18.36632751714513], [0.08168362414274367, 0.9183163758572563], 1.0, 'Risk'], ['less_0', 17, 'credits_paid_to_date', 'car_new', 2714, '500_to_1000', '1_to_4', 3, 'female', 'co-applicant', 2, 'real_estate', 38, 'stores', 'own', 2, 'skilled', 1, 'yes', 'yes', 1.0, 1.0, 0.0, 2.0, 0.0, 0.0, 1.0, 0.0, 0.0, 1.0, 2.0, 1.0, 1.0, [1.0, 1.0, 0.0, 2.0, 0.0, 1.0, 1.0, 2.0, 1.0, 0.0, 0.0, 1.0, 0.0, 17.0, 2714.0, 3.0, 2.0, 17.0, 38.0, 2.0, 1.0], [15.378198952385414, 4.621801047614585], [0.7689099476192707, 0.23109005238072924], 0.0, 'No Risk'], ['less_0', 13, 'all_credits_paid_back', 'vacation', 250, 'less_100', 'less_1', 2, 'male', 'none', 2, 'real_estate', 22, 'none', 'rent', 1, 'skilled', 1, 'none', 'yes', 1.0, 3.0, 3.0, 0.0, 0.0, 1.0, 0.0, 0.0, 6.0, 0.0, 2.0, 0.0, 0.0, [1.0, 3.0, 6.0, 0.0, 3.0, 0.0, 0.0, 2.0, 0.0, 1.0, 0.0, 0.0, 0.0, 13.0, 250.0, 2.0, 2.0, 13.0, 22.0, 1.0, 1.0], [19.70166817099506, 0.29833182900493954], [0.985083408549753, 0.014916591450246977], 0.0, 'No Risk'], ['no_checking', 31, 'prior_payments_delayed', 'appliances', 4650, '100_to_500', '4_to_7', 3, 'male', 'none', 4, 'savings_insurance', 41, 'none', 'own', 2, 'skilled', 1, 'none', 'yes', 0.0, 0.0, 1.0, 1.0, 0.0, 0.0, 0.0, 0.0, 4.0, 0.0, 0.0, 0.0, 0.0, [21, [2, 3, 4, 13, 14, 15, 16, 17, 18, 19, 20], [4.0, 1.0, 1.0, 31.0, 4650.0, 3.0, 4.0, 31.0, 41.0, 2.0, 1.0]], [10.561344705688612, 9.438655294311388], [0.5280672352844306, 0.47193276471556944], 0.0, 'No Risk'], ['less_0', 16, 'credits_paid_to_date', 'repairs', 4996, 'less_100', '1_to_4', 3, 'female', 'none', 3, 'car_other', 28, 'none', 'rent', 1, 'skilled', 1, 'none', 'yes', 1.0, 1.0, 0.0, 0.0, 0.0, 1.0, 0.0, 0.0, 5.0, 0.0, 1.0, 1.0, 0.0, [1.0, 1.0, 5.0, 0.0, 0.0, 1.0, 0.0, 1.0, 0.0, 1.0, 0.0, 0.0, 0.0, 16.0, 4996.0, 3.0, 3.0, 16.0, 28.0, 1.0, 1.0], [15.849043276190569, 4.150956723809431], [0.7924521638095284, 0.20754783619047154], 0.0, 'No Risk'], ['0_to_200', 22, 'credits_paid_to_date', 'radio_tv', 1679, '100_to_500', 'less_1', 3, 'male', 'none', 2, 'real_estate', 24, 'none', 'rent', 1, 'skilled', 1, 'none', 'yes', 2.0, 1.0, 3.0, 1.0, 0.0, 1.0, 0.0, 0.0, 3.0, 0.0, 2.0, 0.0, 0.0, [2.0, 1.0, 3.0, 1.0, 3.0, 0.0, 0.0, 2.0, 0.0, 1.0, 0.0, 0.0, 0.0, 22.0, 1679.0, 3.0, 2.0, 22.0, 24.0, 1.0, 1.0], [17.919985716594198, 2.0800142834058017], [0.8959992858297099, 0.10400071417029008], 0.0, 'No Risk'], ['no_checking', 10, 'credits_paid_to_date', 'repairs', 1791, '500_to_1000', 'less_1', 3, 'female', 'none', 3, 'real_estate', 29, 'stores', 'own', 1, 'unskilled', 1, 'none', 'yes', 0.0, 1.0, 3.0, 2.0, 0.0, 0.0, 1.0, 1.0, 5.0, 0.0, 2.0, 1.0, 0.0, [0.0, 1.0, 5.0, 2.0, 3.0, 1.0, 0.0, 2.0, 1.0, 0.0, 1.0, 0.0, 0.0, 10.0, 1791.0, 3.0, 3.0, 10.0, 29.0, 1.0, 1.0], [19.03311250114745, 0.9668874988525459], [0.9516556250573727, 0.048344374942627305], 0.0, 'No Risk'], ['0_to_200', 32, 'prior_payments_delayed', 'car_used', 3144, '500_to_1000', '4_to_7', 3, 'male', 'none', 3, 'car_other', 33, 'stores', 'rent', 1, 'skilled', 1, 'none', 'yes', 2.0, 0.0, 1.0, 2.0, 0.0, 1.0, 1.0, 0.0, 2.0, 0.0, 1.0, 0.0, 0.0, [2.0, 0.0, 2.0, 2.0, 1.0, 0.0, 0.0, 1.0, 1.0, 1.0, 0.0, 0.0, 0.0, 32.0, 3144.0, 3.0, 3.0, 32.0, 33.0, 1.0, 1.0], [12.75379465652995, 7.246205343470049], [0.6376897328264974, 0.36231026717350245], 0.0, 'No Risk'], ['less_0', 11, 'all_credits_paid_back', 'car_new', 250, 'less_100', 'unemployed', 1, 'male', 'none', 2, 'savings_insurance', 21, 'none', 'rent', 1, 'skilled', 1, 'none', 'yes', 1.0, 3.0, 4.0, 0.0, 0.0, 1.0, 0.0, 0.0, 0.0, 0.0, 0.0, 0.0, 0.0, [21, [0, 1, 4, 9, 13, 14, 15, 16, 17, 18, 19, 20], [1.0, 3.0, 4.0, 1.0, 11.0, 250.0, 1.0, 2.0, 11.0, 21.0, 1.0, 1.0]], [19.47781936655995, 0.5221806334400537], [0.9738909683279973, 0.02610903167200268], 0.0, 'No Risk'], ['greater_200', 14, 'credits_paid_to_date', 'vacation', 4481, '500_to_1000', '1_to_4', 3, 'male', 'none', 2, 'real_estate', 36, 'none', 'own', 1, 'skilled', 1, 'none', 'yes', 3.0, 1.0, 0.0, 2.0, 0.0, 0.0, 0.0, 0.0, 6.0, 0.0, 2.0, 0.0, 0.0, [3.0, 1.0, 6.0, 2.0, 0.0, 0.0, 0.0, 2.0, 0.0, 0.0, 0.0, 0.0, 0.0, 14.0, 4481.0, 3.0, 2.0, 14.0, 36.0, 1.0, 1.0], [17.56742073920759, 2.4325792607924113], [0.8783710369603794, 0.12162896303962054], 0.0, 'No Risk'], ['no_checking', 8, 'prior_payments_delayed', 'car_used', 916, '100_to_500', 'greater_7', 4, 'male', 'none', 2, 'savings_insurance', 39, 'none', 'rent', 1, 'skilled', 1, 'none', 'yes', 0.0, 0.0, 2.0, 1.0, 0.0, 1.0, 0.0, 0.0, 2.0, 0.0, 0.0, 0.0, 0.0, [21, [2, 3, 4, 9, 13, 14, 15, 16, 17, 18, 19, 20], [2.0, 1.0, 2.0, 1.0, 8.0, 916.0, 4.0, 2.0, 8.0, 39.0, 1.0, 1.0]], [15.78829057014444, 4.211709429855563], [0.7894145285072218, 0.2105854714927781], 0.0, 'No Risk'], ['less_0', 18, 'credits_paid_to_date', 'car_used', 1816, 'less_100', '1_to_4', 3, 'female', 'none', 3, 'car_other', 29, 'none', 'rent', 1, 'skilled', 1, 'none', 'yes', 1.0, 1.0, 0.0, 0.0, 0.0, 1.0, 0.0, 0.0, 2.0, 0.0, 1.0, 1.0, 0.0, [1.0, 1.0, 2.0, 0.0, 0.0, 1.0, 0.0, 1.0, 0.0, 1.0, 0.0, 0.0, 0.0, 18.0, 1816.0, 3.0, 3.0, 18.0, 29.0, 1.0, 1.0], [15.657328234597864, 4.3426717654021365], [0.7828664117298932, 0.21713358827010681], 0.0, 'No Risk'], ['less_0', 10, 'prior_payments_delayed', 'car_used', 1378, 'less_100', '1_to_4', 2, 'female', 'none', 2, 'savings_insurance', 19, 'bank', 'rent', 1, 'unemployed', 1, 'none', 'yes', 1.0, 0.0, 0.0, 0.0, 0.0, 1.0, 2.0, 3.0, 2.0, 0.0, 0.0, 1.0, 0.0, [1.0, 0.0, 2.0, 0.0, 0.0, 1.0, 0.0, 0.0, 2.0, 1.0, 3.0, 0.0, 0.0, 10.0, 1378.0, 2.0, 2.0, 10.0, 19.0, 1.0, 1.0], [18.169161951657532, 1.8308380483424638], [0.9084580975828768, 0.0915419024171232], 0.0, 'No Risk'], ['greater_200', 32, 'prior_payments_delayed', 'radio_tv', 4731, '100_to_500', '1_to_4', 3, 'male', 'guarantor', 4, 'savings_insurance', 42, 'none', 'own', 1, 'skilled', 1, 'none', 'yes', 3.0, 0.0, 0.0, 1.0, 0.0, 0.0, 0.0, 0.0, 3.0, 2.0, 0.0, 0.0, 0.0, [21, [0, 2, 3, 6, 13, 14, 15, 16, 17, 18, 19, 20], [3.0, 3.0, 1.0, 2.0, 32.0, 4731.0, 3.0, 4.0, 32.0, 42.0, 1.0, 1.0]], [11.298308188494138, 8.70169181150586], [0.5649154094247069, 0.43508459057529303], 0.0, 'No Risk'], ['no_checking', 34, 'prior_payments_delayed', 'furniture', 6233, '500_to_1000', 'greater_7', 4, 'male', 'co-applicant', 3, 'unknown', 53, 'none', 'free', 2, 'skilled', 1, 'yes', 'yes', 0.0, 0.0, 2.0, 2.0, 0.0, 2.0, 0.0, 0.0, 1.0, 1.0, 3.0, 0.0, 1.0, [0.0, 0.0, 1.0, 2.0, 2.0, 0.0, 1.0, 3.0, 0.0, 2.0, 0.0, 1.0, 0.0, 34.0, 6233.0, 4.0, 3.0, 34.0, 53.0, 2.0, 1.0], [1.7866742357032526, 18.213325764296748], [0.08933371178516263, 0.9106662882148374], 1.0, 'Risk'], ['0_to_200', 15, 'prior_payments_delayed', 'radio_tv', 3485, 'less_100', 'less_1', 1, 'male', 'none', 3, 'savings_insurance', 29, 'none', 'own', 2, 'skilled', 1, 'none', 'yes', 2.0, 0.0, 3.0, 0.0, 0.0, 0.0, 0.0, 0.0, 3.0, 0.0, 0.0, 0.0, 0.0, [21, [0, 2, 4, 13, 14, 15, 16, 17, 18, 19, 20], [2.0, 3.0, 3.0, 15.0, 3485.0, 1.0, 3.0, 15.0, 29.0, 2.0, 1.0]], [16.618964424872072, 3.38103557512793], [0.8309482212436036, 0.1690517787563965], 0.0, 'No Risk'], ['no_checking', 34, 'prior_payments_delayed', 'furniture', 3202, 'unknown', '4_to_7', 4, 'male', 'none', 4, 'savings_insurance', 44, 'none', 'free', 2, 'skilled', 1, 'none', 'yes', 0.0, 0.0, 1.0, 4.0, 0.0, 2.0, 0.0, 0.0, 1.0, 0.0, 0.0, 0.0, 0.0, [21, [2, 3, 4, 9, 13, 14, 15, 16, 17, 18, 19, 20], [1.0, 4.0, 1.0, 2.0, 34.0, 3202.0, 4.0, 4.0, 34.0, 44.0, 2.0, 1.0]], [9.556367050836952, 10.44363294916305], [0.4778183525418476, 0.5221816474581524], 1.0, 'Risk'], ['less_0', 20, 'prior_payments_delayed', 'radio_tv', 4324, 'less_100', '4_to_7', 3, 'male', 'none', 3, 'unknown', 36, 'none', 'own', 1, 'skilled', 2, 'yes', 'yes', 1.0, 0.0, 1.0, 0.0, 0.0, 0.0, 0.0, 0.0, 3.0, 0.0, 3.0, 0.0, 1.0, [1.0, 0.0, 3.0, 0.0, 1.0, 0.0, 0.0, 3.0, 0.0, 0.0, 0.0, 1.0, 0.0, 20.0, 4324.0, 3.0, 3.0, 20.0, 36.0, 1.0, 2.0], [13.473149361900928, 6.526850638099071], [0.6736574680950465, 0.32634253190495355], 0.0, 'No Risk'], ['no_checking', 12, 'credits_paid_to_date', 'repairs', 5633, 'less_100', 'less_1', 2, 'male', 'none', 4, 'car_other', 51, 'none', 'own', 2, 'management_self-employed', 1, 'none', 'yes', 0.0, 1.0, 3.0, 0.0, 0.0, 0.0, 0.0, 2.0, 5.0, 0.0, 1.0, 0.0, 0.0, [0.0, 1.0, 5.0, 0.0, 3.0, 0.0, 0.0, 1.0, 0.0, 0.0, 2.0, 0.0, 0.0, 12.0, 5633.0, 2.0, 4.0, 12.0, 51.0, 2.0, 1.0], [12.910450038846015, 7.089549961153985], [0.6455225019423008, 0.35447749805769924], 0.0, 'No Risk'], ['no_checking', 30, 'outstanding_credit', 'other', 7883, 'greater_1000', 'greater_7', 4, 'male', 'none', 4, 'unknown', 54, 'stores', 'own', 2, 'unskilled', 2, 'yes', 'yes', 0.0, 2.0, 2.0, 3.0, 0.0, 0.0, 1.0, 1.0, 10.0, 0.0, 3.0, 0.0, 1.0, [0.0, 2.0, 10.0, 3.0, 2.0, 0.0, 0.0, 3.0, 1.0, 0.0, 1.0, 1.0, 0.0, 30.0, 7883.0, 4.0, 4.0, 30.0, 54.0, 2.0, 2.0], [4.485309439182975, 15.514690560817025], [0.22426547195914875, 0.7757345280408512], 1.0, 'Risk'], ['no_checking', 8, 'credits_paid_to_date', 'car_new', 4924, '100_to_500', '4_to_7', 4, 'male', 'none', 4, 'car_other', 45, 'none', 'free', 2, 'management_self-employed', 1, 'yes', 'yes', 0.0, 1.0, 1.0, 1.0, 0.0, 2.0, 0.0, 2.0, 0.0, 0.0, 1.0, 0.0, 1.0, [0.0, 1.0, 0.0, 1.0, 1.0, 0.0, 0.0, 1.0, 0.0, 2.0, 2.0, 1.0, 0.0, 8.0, 4924.0, 4.0, 4.0, 8.0, 45.0, 2.0, 1.0], [10.824599723499691, 9.175400276500305], [0.5412299861749846, 0.4587700138250153], 0.0, 'No Risk'], ['less_0', 4, 'all_credits_paid_back', 'car_new', 3072, 'less_100', 'less_1', 2, 'female', 'none', 1, 'real_estate', 20, 'none', 'own', 1, 'management_self-employed', 1, 'none', 'yes', 1.0, 3.0, 3.0, 0.0, 0.0, 0.0, 0.0, 2.0, 0.0, 0.0, 2.0, 1.0, 0.0, [1.0, 3.0, 0.0, 0.0, 3.0, 1.0, 0.0, 2.0, 0.0, 0.0, 2.0, 0.0, 0.0, 4.0, 3072.0, 2.0, 1.0, 4.0, 20.0, 1.0, 1.0], [19.451093802173364, 0.5489061978266382], [0.972554690108668, 0.027445309891331905], 0.0, 'No Risk'], ['less_0', 29, 'outstanding_credit', 'radio_tv', 1461, '100_to_500', 'greater_7', 3, 'female', 'none', 1, 'savings_insurance', 33, 'stores', 'own', 1, 'skilled', 1, 'none', 'yes', 1.0, 2.0, 2.0, 1.0, 0.0, 0.0, 1.0, 0.0, 3.0, 0.0, 0.0, 1.0, 0.0, [1.0, 2.0, 3.0, 1.0, 2.0, 1.0, 0.0, 0.0, 1.0, 0.0, 0.0, 0.0, 0.0, 29.0, 1461.0, 3.0, 1.0, 29.0, 33.0, 1.0, 1.0], [12.642010085955146, 7.357989914044855], [0.6321005042977573, 0.36789949570224273], 0.0, 'No Risk'], ['less_0', 7, 'all_credits_paid_back', 'car_new', 250, 'less_100', '1_to_4', 2, 'female', 'none', 3, 'real_estate', 31, 'none', 'own', 1, 'skilled', 1, 'none', 'yes', 1.0, 3.0, 0.0, 0.0, 0.0, 0.0, 0.0, 0.0, 0.0, 0.0, 2.0, 1.0, 0.0, [21, [0, 1, 5, 7, 13, 14, 15, 16, 17, 18, 19, 20], [1.0, 3.0, 1.0, 2.0, 7.0, 250.0, 2.0, 3.0, 7.0, 31.0, 1.0, 1.0]], [18.85665774323671, 1.143342256763289], [0.9428328871618354, 0.05716711283816445], 0.0, 'No Risk'], ['greater_200', 16, 'credits_paid_to_date', 'furniture', 524, 'less_100', '1_to_4', 3, 'female', 'none', 3, 'real_estate', 39, 'none', 'own', 1, 'skilled', 1, 'none', 'yes', 3.0, 1.0, 0.0, 0.0, 0.0, 0.0, 0.0, 0.0, 1.0, 0.0, 2.0, 1.0, 0.0, [3.0, 1.0, 1.0, 0.0, 0.0, 1.0, 0.0, 2.0, 0.0, 0.0, 0.0, 0.0, 0.0, 16.0, 524.0, 3.0, 3.0, 16.0, 39.0, 1.0, 1.0], [17.596874569528, 2.403125430471998], [0.8798437284764, 0.1201562715235999], 0.0, 'No Risk'], ['no_checking', 12, 'credits_paid_to_date', 'car_new', 2073, 'less_100', '4_to_7', 4, 'male', 'none', 4, 'car_other', 30, 'none', 'own', 1, 'skilled', 1, 'yes', 'yes', 0.0, 1.0, 1.0, 0.0, 0.0, 0.0, 0.0, 0.0, 0.0, 0.0, 1.0, 0.0, 1.0, [21, [1, 4, 7, 11, 13, 14, 15, 16, 17, 18, 19, 20], [1.0, 1.0, 1.0, 1.0, 12.0, 2073.0, 4.0, 4.0, 12.0, 30.0, 1.0, 1.0]], [13.438892913139252, 6.561107086860749], [0.6719446456569627, 0.32805535434303745], 0.0, 'No Risk'], ['0_to_200', 20, 'prior_payments_delayed', 'car_used', 2355, 'greater_1000', '4_to_7', 3, 'male', 'none', 4, 'car_other', 33, 'none', 'own', 2, 'skilled', 1, 'none', 'yes', 2.0, 0.0, 1.0, 3.0, 0.0, 0.0, 0.0, 0.0, 2.0, 0.0, 1.0, 0.0, 0.0, [2.0, 0.0, 2.0, 3.0, 1.0, 0.0, 0.0, 1.0, 0.0, 0.0, 0.0, 0.0, 0.0, 20.0, 2355.0, 3.0, 4.0, 20.0, 33.0, 2.0, 1.0], [12.84968168929604, 7.150318310703961], [0.642484084464802, 0.357515915535198], 0.0, 'No Risk'], ['less_0', 9, 'no_credits', 'furniture', 1583, 'less_100', '1_to_4', 2, 'male', 'none', 1, 'real_estate', 19, 'bank', 'rent', 1, 'unskilled', 1, 'none', 'yes', 1.0, 4.0, 0.0, 0.0, 0.0, 1.0, 2.0, 1.0, 1.0, 0.0, 2.0, 0.0, 0.0, [1.0, 4.0, 1.0, 0.0, 0.0, 0.0, 0.0, 2.0, 2.0, 1.0, 1.0, 0.0, 0.0, 9.0, 1583.0, 2.0, 1.0, 9.0, 19.0, 1.0, 1.0], [19.26892917443476, 0.7310708255652412], [0.963446458721738, 0.03655354127826206], 0.0, 'No Risk'], ['0_to_200', 17, 'prior_payments_delayed', 'radio_tv', 7498, '100_to_500', '1_to_4', 3, 'male', 'none', 3, 'car_other', 40, 'none', 'own', 2, 'skilled', 1, 'none', 'yes', 2.0, 0.0, 0.0, 1.0, 0.0, 0.0, 0.0, 0.0, 3.0, 0.0, 1.0, 0.0, 0.0, [21, [0, 2, 3, 7, 13, 14, 15, 16, 17, 18, 19, 20], [2.0, 3.0, 1.0, 1.0, 17.0, 7498.0, 3.0, 3.0, 17.0, 40.0, 2.0, 1.0]], [12.869701066202751, 7.130298933797251], [0.6434850533101375, 0.35651494668986256], 0.0, 'No Risk'], ['no_checking', 9, 'credits_paid_to_date', 'car_used', 7461, '500_to_1000', '1_to_4', 4, 'female', 'none', 4, 'savings_insurance', 32, 'none', 'own', 1, 'management_self-employed', 1, 'none', 'yes', 0.0, 1.0, 0.0, 2.0, 0.0, 0.0, 0.0, 2.0, 2.0, 0.0, 0.0, 1.0, 0.0, [0.0, 1.0, 2.0, 2.0, 0.0, 1.0, 0.0, 0.0, 0.0, 0.0, 2.0, 0.0, 0.0, 9.0, 7461.0, 4.0, 4.0, 9.0, 32.0, 1.0, 1.0], [16.09798993180091, 3.9020100681990906], [0.8048994965900456, 0.19510050340995452], 0.0, 'No Risk'], ['0_to_200', 17, 'credits_paid_to_date', 'furniture', 2038, '100_to_500', '1_to_4', 3, 'male', 'none', 3, 'savings_insurance', 27, 'none', 'own', 1, 'skilled', 1, 'none', 'yes', 2.0, 1.0, 0.0, 1.0, 0.0, 0.0, 0.0, 0.0, 1.0, 0.0, 0.0, 0.0, 0.0, [21, [0, 1, 2, 3, 13, 14, 15, 16, 17, 18, 19, 20], [2.0, 1.0, 1.0, 1.0, 17.0, 2038.0, 3.0, 3.0, 17.0, 27.0, 1.0, 1.0]], [16.54361309157234, 3.4563869084276644], [0.8271806545786168, 0.1728193454213832], 0.0, 'No Risk'], ['no_checking', 34, 'prior_payments_delayed', 'education', 7808, '100_to_500', 'greater_7', 5, 'male', 'none', 3, 'unknown', 47, 'none', 'free', 2, 'skilled', 1, 'none', 'yes', 0.0, 0.0, 2.0, 1.0, 0.0, 2.0, 0.0, 0.0, 7.0, 0.0, 3.0, 0.0, 0.0, [0.0, 0.0, 7.0, 1.0, 2.0, 0.0, 0.0, 3.0, 0.0, 2.0, 0.0, 0.0, 0.0, 34.0, 7808.0, 5.0, 3.0, 34.0, 47.0, 2.0, 1.0], [6.61601638232193, 13.383983617678068], [0.33080081911609654, 0.6691991808839035], 1.0, 'Risk'], ['less_0', 4, 'credits_paid_to_date', 'car_used', 2749, 'less_100', '1_to_4', 2, 'female', 'none', 1, 'car_other', 26, 'stores', 'own', 1, 'skilled', 1, 'none', 'yes', 1.0, 1.0, 0.0, 0.0, 0.0, 0.0, 1.0, 0.0, 2.0, 0.0, 1.0, 1.0, 0.0, [1.0, 1.0, 2.0, 0.0, 0.0, 1.0, 0.0, 1.0, 1.0, 0.0, 0.0, 0.0, 0.0, 4.0, 2749.0, 2.0, 1.0, 4.0, 26.0, 1.0, 1.0], [18.038253551699345, 1.9617464483006544], [0.9019126775849673, 0.09808732241503272], 0.0, 'No Risk'], ['0_to_200', 4, 'credits_paid_to_date', 'car_used', 3798, '100_to_500', '1_to_4', 1, 'male', 'none', 3, 'savings_insurance', 19, 'none', 'rent', 1, 'skilled', 1, 'none', 'yes', 2.0, 1.0, 0.0, 1.0, 0.0, 1.0, 0.0, 0.0, 2.0, 0.0, 0.0, 0.0, 0.0, [2.0, 1.0, 2.0, 1.0, 0.0, 0.0, 0.0, 0.0, 0.0, 1.0, 0.0, 0.0, 0.0, 4.0, 3798.0, 1.0, 3.0, 4.0, 19.0, 1.0, 1.0], [16.892682538724, 3.107317461276001], [0.8446341269362, 0.15536587306380006], 0.0, 'No Risk'], ['less_0', 8, 'all_credits_paid_back', 'car_used', 420, 'less_100', 'less_1', 1, 'female', 'none', 2, 'real_estate', 26, 'none', 'own', 2, 'skilled', 1, 'none', 'yes', 1.0, 3.0, 3.0, 0.0, 0.0, 0.0, 0.0, 0.0, 2.0, 0.0, 2.0, 1.0, 0.0, [1.0, 3.0, 2.0, 0.0, 3.0, 1.0, 0.0, 2.0, 0.0, 0.0, 0.0, 0.0, 0.0, 8.0, 420.0, 1.0, 2.0, 8.0, 26.0, 2.0, 1.0], [18.21621772267551, 1.7837822773244905], [0.9108108861337755, 0.08918911386622452], 0.0, 'No Risk'], ['less_0', 4, 'all_credits_paid_back', 'car_used', 1616, 'less_100', 'less_1', 1, 'female', 'none', 1, 'real_estate', 19, 'none', 'own', 1, 'skilled', 1, 'none', 'yes', 1.0, 3.0, 3.0, 0.0, 0.0, 0.0, 0.0, 0.0, 2.0, 0.0, 2.0, 1.0, 0.0, [1.0, 3.0, 2.0, 0.0, 3.0, 1.0, 0.0, 2.0, 0.0, 0.0, 0.0, 0.0, 0.0, 4.0, 1616.0, 1.0, 1.0, 4.0, 19.0, 1.0, 1.0], [19.509212872802138, 0.4907871271978634], [0.9754606436401069, 0.02453935635989317], 0.0, 'No Risk'], ['0_to_200', 4, 'all_credits_paid_back', 'car_used', 2931, 'less_100', '1_to_4', 3, 'female', 'none', 2, 'savings_insurance', 34, 'none', 'own', 1, 'skilled', 1, 'none', 'yes', 2.0, 3.0, 0.0, 0.0, 0.0, 0.0, 0.0, 0.0, 2.0, 0.0, 0.0, 1.0, 0.0, [21, [0, 1, 2, 5, 13, 14, 15, 16, 17, 18, 19, 20], [2.0, 3.0, 2.0, 1.0, 4.0, 2931.0, 3.0, 2.0, 4.0, 34.0, 1.0, 1.0]], [17.75292895509103, 2.247071044908973], [0.8876464477545513, 0.11235355224544863], 0.0, 'No Risk'], ['no_checking', 29, 'outstanding_credit', 'appliances', 3227, '500_to_1000', 'greater_7', 4, 'male', 'none', 4, 'car_other', 52, 'none', 'free', 2, 'skilled', 1, 'yes', 'yes', 0.0, 2.0, 2.0, 2.0, 0.0, 2.0, 0.0, 0.0, 4.0, 0.0, 1.0, 0.0, 1.0, [0.0, 2.0, 4.0, 2.0, 2.0, 0.0, 0.0, 1.0, 0.0, 2.0, 0.0, 1.0, 0.0, 29.0, 3227.0, 4.0, 4.0, 29.0, 52.0, 2.0, 1.0], [4.513773058641469, 15.486226941358531], [0.22568865293207346, 0.7743113470679266], 1.0, 'Risk'], ['no_checking', 30, 'prior_payments_delayed', 'appliances', 8414, '500_to_1000', '4_to_7', 3, 'male', 'none', 3, 'unknown', 39, 'none', 'free', 2, 'skilled', 1, 'yes', 'yes', 0.0, 0.0, 1.0, 2.0, 0.0, 2.0, 0.0, 0.0, 4.0, 0.0, 3.0, 0.0, 1.0, [0.0, 0.0, 4.0, 2.0, 1.0, 0.0, 0.0, 3.0, 0.0, 2.0, 0.0, 1.0, 0.0, 30.0, 8414.0, 3.0, 3.0, 30.0, 39.0, 2.0, 1.0], [7.977753809907866, 12.022246190092135], [0.3988876904953933, 0.6011123095046067], 1.0, 'Risk'], ['0_to_200', 19, 'all_credits_paid_back', 'car_new', 250, '100_to_500', 'less_1', 2, 'female', 'none', 2, 'savings_insurance', 21, 'bank', 'rent', 1, 'unemployed', 1, 'yes', 'yes', 2.0, 3.0, 3.0, 1.0, 0.0, 1.0, 2.0, 3.0, 0.0, 0.0, 0.0, 1.0, 1.0, [2.0, 3.0, 0.0, 1.0, 3.0, 1.0, 0.0, 0.0, 2.0, 1.0, 3.0, 1.0, 0.0, 19.0, 250.0, 2.0, 2.0, 19.0, 21.0, 1.0, 1.0], [18.216231381657128, 1.7837686183428743], [0.9108115690828562, 0.0891884309171437], 0.0, 'No Risk'], ['less_0', 4, 'credits_paid_to_date', 'car_new', 250, '100_to_500', 'unemployed', 1, 'female', 'none', 2, 'real_estate', 31, 'stores', 'rent', 1, 'skilled', 1, 'yes', 'yes', 1.0, 1.0, 4.0, 1.0, 0.0, 1.0, 1.0, 0.0, 0.0, 0.0, 2.0, 1.0, 1.0, [1.0, 1.0, 0.0, 1.0, 4.0, 1.0, 0.0, 2.0, 1.0, 1.0, 0.0, 1.0, 0.0, 4.0, 250.0, 1.0, 2.0, 4.0, 31.0, 1.0, 1.0], [18.846665550422674, 1.153334449577325], [0.9423332775211337, 0.05766672247886625], 0.0, 'No Risk'], ['no_checking', 24, 'prior_payments_delayed', 'appliances', 1665, '500_to_1000', '4_to_7', 4, 'male', 'none', 3, 'savings_insurance', 34, 'none', 'own', 2, 'management_self-employed', 1, 'yes', 'yes', 0.0, 0.0, 1.0, 2.0, 0.0, 0.0, 0.0, 2.0, 4.0, 0.0, 0.0, 0.0, 1.0, [0.0, 0.0, 4.0, 2.0, 1.0, 0.0, 0.0, 0.0, 0.0, 0.0, 2.0, 1.0, 0.0, 24.0, 1665.0, 4.0, 3.0, 24.0, 34.0, 2.0, 1.0], [11.173296389207588, 8.82670361079241], [0.5586648194603794, 0.4413351805396205], 0.0, 'No Risk'], ['0_to_200', 4, 'all_credits_paid_back', 'car_new', 250, 'less_100', 'less_1', 1, 'female', 'co-applicant', 2, 'real_estate', 38, 'none', 'own', 1, 'skilled', 1, 'yes', 'yes', 2.0, 3.0, 3.0, 0.0, 0.0, 0.0, 0.0, 0.0, 0.0, 1.0, 2.0, 1.0, 1.0, [2.0, 3.0, 0.0, 0.0, 3.0, 1.0, 1.0, 2.0, 0.0, 0.0, 0.0, 1.0, 0.0, 4.0, 250.0, 1.0, 2.0, 4.0, 38.0, 1.0, 1.0], [18.508518140348897, 1.4914818596511017], [0.9254259070174449, 0.07457409298255509], 0.0, 'No Risk'], ['0_to_200', 4, 'all_credits_paid_back', 'education', 1749, 'less_100', 'less_1', 3, 'female', 'none', 1, 'savings_insurance', 19, 'none', 'own', 1, 'management_self-employed', 1, 'none', 'yes', 2.0, 3.0, 3.0, 0.0, 0.0, 0.0, 0.0, 2.0, 7.0, 0.0, 0.0, 1.0, 0.0, [2.0, 3.0, 7.0, 0.0, 3.0, 1.0, 0.0, 0.0, 0.0, 0.0, 2.0, 0.0, 0.0, 4.0, 1749.0, 3.0, 1.0, 4.0, 19.0, 1.0, 1.0], [19.29135209317784, 0.7086479068221645], [0.9645676046588918, 0.03543239534110822], 0.0, 'No Risk'], ['less_0', 4, 'all_credits_paid_back', 'car_new', 250, 'less_100', '1_to_4', 2, 'female', 'none', 1, 'real_estate', 19, 'bank', 'rent', 1, 'unskilled', 1, 'none', 'yes', 1.0, 3.0, 0.0, 0.0, 0.0, 1.0, 2.0, 1.0, 0.0, 0.0, 2.0, 1.0, 0.0, [1.0, 3.0, 0.0, 0.0, 0.0, 1.0, 0.0, 2.0, 2.0, 1.0, 1.0, 0.0, 0.0, 4.0, 250.0, 2.0, 1.0, 4.0, 19.0, 1.0, 1.0], [19.49709505313791, 0.5029049468620884], [0.9748547526568956, 0.025145247343104422], 0.0, 'No Risk'], ['0_to_200', 20, 'prior_payments_delayed', 'car_used', 4509, '100_to_500', '4_to_7', 2, 'male', 'none', 3, 'car_other', 39, 'none', 'own', 2, 'skilled', 1, 'yes', 'yes', 2.0, 0.0, 1.0, 1.0, 0.0, 0.0, 0.0, 0.0, 2.0, 0.0, 1.0, 0.0, 1.0, [2.0, 0.0, 2.0, 1.0, 1.0, 0.0, 0.0, 1.0, 0.0, 0.0, 0.0, 1.0, 0.0, 20.0, 4509.0, 2.0, 3.0, 20.0, 39.0, 2.0, 1.0], [12.385044673965828, 7.614955326034171], [0.6192522336982914, 0.3807477663017086], 0.0, 'No Risk'], ['less_0', 17, 'credits_paid_to_date', 'car_new', 1665, 'less_100', '4_to_7', 2, 'female', 'none', 2, 'savings_insurance', 30, 'bank', 'own', 1, 'unskilled', 1, 'none', 'yes', 1.0, 1.0, 1.0, 0.0, 0.0, 0.0, 2.0, 1.0, 0.0, 0.0, 0.0, 1.0, 0.0, [1.0, 1.0, 0.0, 0.0, 1.0, 1.0, 0.0, 0.0, 2.0, 0.0, 1.0, 0.0, 0.0, 17.0, 1665.0, 2.0, 2.0, 17.0, 30.0, 1.0, 1.0], [17.599734176110196, 2.4002658238898027], [0.8799867088055098, 0.12001329119449014], 0.0, 'No Risk'], ['0_to_200', 22, 'credits_paid_to_date', 'repairs', 2942, 'less_100', '1_to_4', 2, 'male', 'none', 2, 'car_other', 35, 'none', 'free', 2, 'skilled', 1, 'none', 'yes', 2.0, 1.0, 0.0, 0.0, 0.0, 2.0, 0.0, 0.0, 5.0, 0.0, 1.0, 0.0, 0.0, [2.0, 1.0, 5.0, 0.0, 0.0, 0.0, 0.0, 1.0, 0.0, 2.0, 0.0, 0.0, 0.0, 22.0, 2942.0, 2.0, 2.0, 22.0, 35.0, 2.0, 1.0], [14.127318998127036, 5.872681001872964], [0.7063659499063518, 0.2936340500936482], 0.0, 'No Risk'], ['less_0', 18, 'credits_paid_to_date', 'vacation', 2329, 'less_100', 'unemployed', 1, 'female', 'none', 1, 'savings_insurance', 23, 'stores', 'rent', 1, 'skilled', 1, 'none', 'yes', 1.0, 1.0, 4.0, 0.0, 0.0, 1.0, 1.0, 0.0, 6.0, 0.0, 0.0, 1.0, 0.0, [1.0, 1.0, 6.0, 0.0, 4.0, 1.0, 0.0, 0.0, 1.0, 1.0, 0.0, 0.0, 0.0, 18.0, 2329.0, 1.0, 1.0, 18.0, 23.0, 1.0, 1.0], [17.998559026047122, 2.0014409739528833], [0.8999279513023558, 0.10007204869764413], 0.0, 'No Risk'], ['0_to_200', 20, 'credits_paid_to_date', 'radio_tv', 3032, 'less_100', '4_to_7', 3, 'male', 'none', 3, 'car_other', 34, 'none', 'own', 2, 'skilled', 1, 'none', 'yes', 2.0, 1.0, 1.0, 0.0, 0.0, 0.0, 0.0, 0.0, 3.0, 0.0, 1.0, 0.0, 0.0, [2.0, 1.0, 3.0, 0.0, 1.0, 0.0, 0.0, 1.0, 0.0, 0.0, 0.0, 0.0, 0.0, 20.0, 3032.0, 3.0, 3.0, 20.0, 34.0, 2.0, 1.0], [13.23206977044191, 6.76793022955809], [0.6616034885220955, 0.3383965114779045], 0.0, 'No Risk'], ['0_to_200', 20, 'prior_payments_delayed', 'radio_tv', 2690, '100_to_500', '1_to_4', 3, 'male', 'none', 4, 'savings_insurance', 30, 'stores', 'rent', 1, 'skilled', 1, 'none', 'yes', 2.0, 0.0, 0.0, 1.0, 0.0, 1.0, 1.0, 0.0, 3.0, 0.0, 0.0, 0.0, 0.0, [2.0, 0.0, 3.0, 1.0, 0.0, 0.0, 0.0, 0.0, 1.0, 1.0, 0.0, 0.0, 0.0, 20.0, 2690.0, 3.0, 4.0, 20.0, 30.0, 1.0, 1.0], [14.771214046837086, 5.228785953162916], [0.7385607023418543, 0.2614392976581458], 0.0, 'No Risk'], ['no_checking', 25, 'outstanding_credit', 'business', 3187, 'greater_1000', '4_to_7', 4, 'male', 'none', 4, 'unknown', 56, 'none', 'own', 2, 'skilled', 1, 'yes', 'yes', 0.0, 2.0, 1.0, 3.0, 0.0, 0.0, 0.0, 0.0, 9.0, 0.0, 3.0, 0.0, 1.0, [0.0, 2.0, 9.0, 3.0, 1.0, 0.0, 0.0, 3.0, 0.0, 0.0, 0.0, 1.0, 0.0, 25.0, 3187.0, 4.0, 4.0, 25.0, 56.0, 2.0, 1.0], [6.816434339129992, 13.18356566087001], [0.3408217169564996, 0.6591782830435005], 1.0, 'Risk'], ['no_checking', 8, 'no_credits', 'car_new', 3572, '500_to_1000', '4_to_7', 2, 'male', 'none', 4, 'real_estate', 19, 'stores', 'rent', 1, 'unskilled', 1, 'none', 'yes', 0.0, 4.0, 1.0, 2.0, 0.0, 1.0, 1.0, 1.0, 0.0, 0.0, 2.0, 0.0, 0.0, [0.0, 4.0, 0.0, 2.0, 1.0, 0.0, 0.0, 2.0, 1.0, 1.0, 1.0, 0.0, 0.0, 8.0, 3572.0, 2.0, 4.0, 8.0, 19.0, 1.0, 1.0], [17.38713047002245, 2.612869529977553], [0.8693565235011225, 0.13064347649887764], 0.0, 'No Risk'], ['no_checking', 15, 'credits_paid_to_date', 'car_new', 2787, 'greater_1000', 'less_1', 2, 'male', 'none', 2, 'savings_insurance', 24, 'bank', 'own', 1, 'unskilled', 1, 'none', 'yes', 0.0, 1.0, 3.0, 3.0, 0.0, 0.0, 2.0, 1.0, 0.0, 0.0, 0.0, 0.0, 0.0, [0.0, 1.0, 0.0, 3.0, 3.0, 0.0, 0.0, 0.0, 2.0, 0.0, 1.0, 0.0, 0.0, 15.0, 2787.0, 2.0, 2.0, 15.0, 24.0, 1.0, 1.0], [18.09031172304142, 1.909688276958585], [0.9045155861520707, 0.09548441384792922], 0.0, 'No Risk'], ['less_0', 10, 'all_credits_paid_back', 'car_new', 5152, 'less_100', 'less_1', 2, 'female', 'co-applicant', 2, 'savings_insurance', 19, 'none', 'own', 1, 'skilled', 1, 'none', 'yes', 1.0, 3.0, 3.0, 0.0, 0.0, 0.0, 0.0, 0.0, 0.0, 1.0, 0.0, 1.0, 0.0, [1.0, 3.0, 0.0, 0.0, 3.0, 1.0, 1.0, 0.0, 0.0, 0.0, 0.0, 0.0, 0.0, 10.0, 5152.0, 2.0, 2.0, 10.0, 19.0, 1.0, 1.0], [19.143026179425423, 0.8569738205745814], [0.957151308971271, 0.04284869102872906], 0.0, 'No Risk'], ['no_checking', 33, 'outstanding_credit', 'furniture', 5343, 'unknown', 'greater_7', 5, 'male', 'co-applicant', 5, 'car_other', 49, 'none', 'free', 2, 'skilled', 2, 'yes', 'yes', 0.0, 2.0, 2.0, 4.0, 0.0, 2.0, 0.0, 0.0, 1.0, 1.0, 1.0, 0.0, 1.0, [0.0, 2.0, 1.0, 4.0, 2.0, 0.0, 1.0, 1.0, 0.0, 2.0, 0.0, 1.0, 0.0, 33.0, 5343.0, 5.0, 5.0, 33.0, 49.0, 2.0, 2.0], [1.9726280334327027, 18.0273719665673], [0.09863140167163512, 0.9013685983283649], 1.0, 'Risk'], ['no_checking', 21, 'credits_paid_to_date', 'retraining', 5091, 'greater_1000', 'greater_7', 4, 'male', 'none', 5, 'car_other', 32, 'none', 'own', 2, 'management_self-employed', 1, 'none', 'yes', 0.0, 1.0, 2.0, 3.0, 0.0, 0.0, 0.0, 2.0, 8.0, 0.0, 1.0, 0.0, 0.0, [0.0, 1.0, 8.0, 3.0, 2.0, 0.0, 0.0, 1.0, 0.0, 0.0, 2.0, 0.0, 0.0, 21.0, 5091.0, 4.0, 5.0, 21.0, 32.0, 2.0, 1.0], [10.374627132894028, 9.625372867105972], [0.5187313566447014, 0.48126864335529856], 0.0, 'No Risk'], ['0_to_200', 28, 'outstanding_credit', 'car_used', 4578, '100_to_500', '1_to_4', 4, 'male', 'none', 3, 'car_other', 41, 'none', 'own', 1, 'skilled', 2, 'yes', 'yes', 2.0, 2.0, 0.0, 1.0, 0.0, 0.0, 0.0, 0.0, 2.0, 0.0, 1.0, 0.0, 1.0, [2.0, 2.0, 2.0, 1.0, 0.0, 0.0, 0.0, 1.0, 0.0, 0.0, 0.0, 1.0, 0.0, 28.0, 4578.0, 4.0, 3.0, 28.0, 41.0, 1.0, 2.0], [12.131921813845139, 7.868078186154862], [0.606596090692257, 0.3934039093077431], 0.0, 'No Risk'], ['no_checking', 19, 'credits_paid_to_date', 'car_used', 5926, '500_to_1000', '1_to_4', 3, 'male', 'none', 4, 'savings_insurance', 34, 'none', 'own', 1, 'management_self-employed', 1, 'none', 'yes', 0.0, 1.0, 0.0, 2.0, 0.0, 0.0, 0.0, 2.0, 2.0, 0.0, 0.0, 0.0, 0.0, [21, [1, 2, 3, 10, 13, 14, 15, 16, 17, 18, 19, 20], [1.0, 2.0, 2.0, 2.0, 19.0, 5926.0, 3.0, 4.0, 19.0, 34.0, 1.0, 1.0]], [14.717410713575907, 5.282589286424095], [0.7358705356787953, 0.26412946432120477], 0.0, 'No Risk'], ['no_checking', 18, 'credits_paid_to_date', 'radio_tv', 1810, '100_to_500', '1_to_4', 2, 'male', 'none', 2, 'savings_insurance', 27, 'none', 'own', 1, 'skilled', 1, 'yes', 'yes', 0.0, 1.0, 0.0, 1.0, 0.0, 0.0, 0.0, 0.0, 3.0, 0.0, 0.0, 0.0, 1.0, [21, [1, 2, 3, 11, 13, 14, 15, 16, 17, 18, 19, 20], [1.0, 3.0, 1.0, 1.0, 18.0, 1810.0, 2.0, 2.0, 18.0, 27.0, 1.0, 1.0]], [16.62434028615279, 3.3756597138472113], [0.8312170143076395, 0.16878298569236055], 0.0, 'No Risk'], ['0_to_200', 39, 'prior_payments_delayed', 'appliances', 3729, '100_to_500', '1_to_4', 3, 'male', 'none', 3, 'car_other', 39, 'none', 'own', 1, 'skilled', 1, 'yes', 'yes', 2.0, 0.0, 0.0, 1.0, 0.0, 0.0, 0.0, 0.0, 4.0, 0.0, 1.0, 0.0, 1.0, [2.0, 0.0, 4.0, 1.0, 0.0, 0.0, 0.0, 1.0, 0.0, 0.0, 0.0, 1.0, 0.0, 39.0, 3729.0, 3.0, 3.0, 39.0, 39.0, 1.0, 1.0], [12.604485004353359, 7.395514995646639], [0.6302242502176679, 0.36977574978233196], 0.0, 'No Risk'], ['0_to_200', 8, 'all_credits_paid_back', 'car_used', 250, '100_to_500', 'less_1', 2, 'female', 'none', 3, 'real_estate', 22, 'none', 'rent', 1, 'skilled', 1, 'none', 'yes', 2.0, 3.0, 3.0, 1.0, 0.0, 1.0, 0.0, 0.0, 2.0, 0.0, 2.0, 1.0, 0.0, [2.0, 3.0, 2.0, 1.0, 3.0, 1.0, 0.0, 2.0, 0.0, 1.0, 0.0, 0.0, 0.0, 8.0, 250.0, 2.0, 3.0, 8.0, 22.0, 1.0, 1.0], [19.573869412337338, 0.4261305876626602], [0.9786934706168671, 0.021306529383133013], 0.0, 'No Risk'], ['0_to_200', 27, 'credits_paid_to_date', 'radio_tv', 5988, 'less_100', '1_to_4', 3, 'male', 'none', 2, 'savings_insurance', 28, 'bank', 'own', 2, 'unskilled', 1, 'yes', 'yes', 2.0, 1.0, 0.0, 0.0, 0.0, 0.0, 2.0, 1.0, 3.0, 0.0, 0.0, 0.0, 1.0, [2.0, 1.0, 3.0, 0.0, 0.0, 0.0, 0.0, 0.0, 2.0, 0.0, 1.0, 1.0, 0.0, 27.0, 5988.0, 3.0, 2.0, 27.0, 28.0, 2.0, 1.0], [15.179469442046493, 4.820530557953509], [0.7589734721023247, 0.24102652789767545], 0.0, 'No Risk'], ['0_to_200', 32, 'credits_paid_to_date', 'appliances', 5518, 'less_100', '1_to_4', 3, 'male', 'none', 3, 'savings_insurance', 19, 'none', 'own', 2, 'skilled', 1, 'none', 'yes', 2.0, 1.0, 0.0, 0.0, 0.0, 0.0, 0.0, 0.0, 4.0, 0.0, 0.0, 0.0, 0.0, [21, [0, 1, 2, 13, 14, 15, 16, 17, 18, 19, 20], [2.0, 1.0, 4.0, 32.0, 5518.0, 3.0, 3.0, 32.0, 19.0, 2.0, 1.0]], [13.944337992535512, 6.055662007464491], [0.6972168996267755, 0.3027831003732245], 0.0, 'No Risk'], ['less_0', 25, 'outstanding_credit', 'appliances', 2364, '100_to_500', '4_to_7', 3, 'male', 'none', 2, 'unknown', 35, 'bank', 'own', 1, 'unemployed', 1, 'yes', 'yes', 1.0, 2.0, 1.0, 1.0, 0.0, 0.0, 2.0, 3.0, 4.0, 0.0, 3.0, 0.0, 1.0, [1.0, 2.0, 4.0, 1.0, 1.0, 0.0, 0.0, 3.0, 2.0, 0.0, 3.0, 1.0, 0.0, 25.0, 2364.0, 3.0, 2.0, 25.0, 35.0, 1.0, 1.0], [15.190302334049841, 4.80969766595016], [0.759515116702492, 0.240484883297508], 0.0, 'No Risk'], ['no_checking', 48, 'outstanding_credit', 'radio_tv', 6450, 'greater_1000', '4_to_7', 4, 'male', 'co-applicant', 5, 'unknown', 50, 'none', 'free', 2, 'skilled', 1, 'yes', 'yes', 0.0, 2.0, 1.0, 3.0, 0.0, 2.0, 0.0, 0.0, 3.0, 1.0, 3.0, 0.0, 1.0, [0.0, 2.0, 3.0, 3.0, 1.0, 0.0, 1.0, 3.0, 0.0, 2.0, 0.0, 1.0, 0.0, 48.0, 6450.0, 4.0, 5.0, 48.0, 50.0, 2.0, 1.0], [3.4957719568540253, 16.504228043145975], [0.17478859784270126, 0.8252114021572987], 1.0, 'Risk'], ['0_to_200', 13, 'prior_payments_delayed', 'radio_tv', 1753, 'less_100', 'less_1', 3, 'male', 'none', 3, 'savings_insurance', 29, 'stores', 'rent', 2, 'unskilled', 1, 'none', 'yes', 2.0, 0.0, 3.0, 0.0, 0.0, 1.0, 1.0, 1.0, 3.0, 0.0, 0.0, 0.0, 0.0, [2.0, 0.0, 3.0, 0.0, 3.0, 0.0, 0.0, 0.0, 1.0, 1.0, 1.0, 0.0, 0.0, 13.0, 1753.0, 3.0, 3.0, 13.0, 29.0, 2.0, 1.0], [16.970413057351728, 3.029586942648275], [0.8485206528675863, 0.15147934713241373], 0.0, 'No Risk'], ['0_to_200', 26, 'credits_paid_to_date', 'furniture', 3460, '100_to_500', 'greater_7', 4, 'female', 'co-applicant', 2, 'savings_insurance', 42, 'none', 'own', 1, 'skilled', 1, 'none', 'yes', 2.0, 1.0, 2.0, 1.0, 0.0, 0.0, 0.0, 0.0, 1.0, 1.0, 0.0, 1.0, 0.0, [2.0, 1.0, 1.0, 1.0, 2.0, 1.0, 1.0, 0.0, 0.0, 0.0, 0.0, 0.0, 0.0, 26.0, 3460.0, 4.0, 2.0, 26.0, 42.0, 1.0, 1.0], [13.02953052064327, 6.97046947935673], [0.6514765260321635, 0.3485234739678365], 0.0, 'No Risk'], ['0_to_200', 38, 'outstanding_credit', 'repairs', 5233, '500_to_1000', 'greater_7', 5, 'male', 'none', 4, 'car_other', 44, 'bank', 'own', 2, 'unemployed', 1, 'yes', 'no', 2.0, 2.0, 2.0, 2.0, 1.0, 0.0, 2.0, 3.0, 5.0, 0.0, 1.0, 0.0, 1.0, [2.0, 2.0, 5.0, 2.0, 2.0, 0.0, 0.0, 1.0, 2.0, 0.0, 3.0, 1.0, 1.0, 38.0, 5233.0, 5.0, 4.0, 38.0, 44.0, 2.0, 1.0], [9.756412780375548, 10.243587219624452], [0.4878206390187774, 0.5121793609812226], 1.0, 'Risk'], ['no_checking', 22, 'all_credits_paid_back', 'furniture', 614, 'greater_1000', 'unemployed', 3, 'female', 'none', 3, 'real_estate', 32, 'none', 'rent', 1, 'skilled', 2, 'none', 'yes', 0.0, 3.0, 4.0, 3.0, 0.0, 1.0, 0.0, 0.0, 1.0, 0.0, 2.0, 1.0, 0.0, [0.0, 3.0, 1.0, 3.0, 4.0, 1.0, 0.0, 2.0, 0.0, 1.0, 0.0, 0.0, 0.0, 22.0, 614.0, 3.0, 3.0, 22.0, 32.0, 1.0, 2.0], [17.3044663697827, 2.6955336302173043], [0.8652233184891348, 0.1347766815108652], 0.0, 'No Risk'], ['no_checking', 25, 'prior_payments_delayed', 'business', 7931, '100_to_500', 'greater_7', 4, 'female', 'none', 4, 'savings_insurance', 43, 'none', 'free', 1, 'management_self-employed', 2, 'yes', 'yes', 0.0, 0.0, 2.0, 1.0, 0.0, 2.0, 0.0, 2.0, 9.0, 0.0, 0.0, 1.0, 1.0, [0.0, 0.0, 9.0, 1.0, 2.0, 1.0, 0.0, 0.0, 0.0, 2.0, 2.0, 1.0, 0.0, 25.0, 7931.0, 4.0, 4.0, 25.0, 43.0, 1.0, 2.0], [9.219319452940109, 10.78068054705989], [0.46096597264700545, 0.5390340273529944], 1.0, 'Risk'], ['less_0', 8, 'credits_paid_to_date', 'car_new', 953, 'less_100', '4_to_7', 2, 'female', 'none', 1, 'real_estate', 30, 'stores', 'own', 1, 'skilled', 1, 'none', 'yes', 1.0, 1.0, 1.0, 0.0, 0.0, 0.0, 1.0, 0.0, 0.0, 0.0, 2.0, 1.0, 0.0, [1.0, 1.0, 0.0, 0.0, 1.0, 1.0, 0.0, 2.0, 1.0, 0.0, 0.0, 0.0, 0.0, 8.0, 953.0, 2.0, 1.0, 8.0, 30.0, 1.0, 1.0], [18.856212284499144, 1.1437877155008502], [0.9428106142249575, 0.05718938577504253], 0.0, 'No Risk'], ['less_0', 16, 'credits_paid_to_date', 'furniture', 3146, 'less_100', '1_to_4', 2, 'male', 'none', 1, 'car_other', 28, 'none', 'own', 1, 'skilled', 1, 'none', 'yes', 1.0, 1.0, 0.0, 0.0, 0.0, 0.0, 0.0, 0.0, 1.0, 0.0, 1.0, 0.0, 0.0, [21, [0, 1, 2, 7, 13, 14, 15, 16, 17, 18, 19, 20], [1.0, 1.0, 1.0, 1.0, 16.0, 3146.0, 2.0, 1.0, 16.0, 28.0, 1.0, 1.0]], [17.122367264187375, 2.877632735812623], [0.8561183632093688, 0.14388163679063118], 0.0, 'No Risk'], ['no_checking', 38, 'prior_payments_delayed', 'furniture', 5907, '500_to_1000', '1_to_4', 3, 'male', 'none', 4, 'car_other', 43, 'none', 'own', 2, 'skilled', 1, 'none', 'yes', 0.0, 0.0, 0.0, 2.0, 0.0, 0.0, 0.0, 0.0, 1.0, 0.0, 1.0, 0.0, 0.0, [21, [2, 3, 7, 13, 14, 15, 16, 17, 18, 19, 20], [1.0, 2.0, 1.0, 38.0, 5907.0, 3.0, 4.0, 38.0, 43.0, 2.0, 1.0]], [11.285893455468889, 8.714106544531111], [0.5642946727734445, 0.4357053272265555], 0.0, 'No Risk'], ['0_to_200', 14, 'prior_payments_delayed', 'furniture', 3787, '100_to_500', '1_to_4', 3, 'male', 'co-applicant', 2, 'savings_insurance', 36, 'none', 'own', 1, 'skilled', 1, 'none', 'yes', 2.0, 0.0, 0.0, 1.0, 0.0, 0.0, 0.0, 0.0, 1.0, 1.0, 0.0, 0.0, 0.0, [21, [0, 2, 3, 6, 13, 14, 15, 16, 17, 18, 19, 20], [2.0, 1.0, 1.0, 1.0, 14.0, 3787.0, 3.0, 2.0, 14.0, 36.0, 1.0, 1.0]], [15.863976335921306, 4.136023664078694], [0.7931988167960653, 0.2068011832039347], 0.0, 'No Risk'], ['less_0', 4, 'all_credits_paid_back', 'car_new', 250, 'less_100', 'unemployed', 2, 'female', 'none', 2, 'real_estate', 19, 'none', 'rent', 1, 'skilled', 1, 'none', 'yes', 1.0, 3.0, 4.0, 0.0, 0.0, 1.0, 0.0, 0.0, 0.0, 0.0, 2.0, 1.0, 0.0, [1.0, 3.0, 0.0, 0.0, 4.0, 1.0, 0.0, 2.0, 0.0, 1.0, 0.0, 0.0, 0.0, 4.0, 250.0, 2.0, 2.0, 4.0, 19.0, 1.0, 1.0], [19.705858602842344, 0.29414139715765747], [0.9852929301421172, 0.014707069857882874], 0.0, 'No Risk'], ['0_to_200', 15, 'credits_paid_to_date', 'car_new', 3231, '500_to_1000', '1_to_4', 3, 'female', 'none', 3, 'savings_insurance', 30, 'none', 'own', 2, 'skilled', 1, 'none', 'yes', 2.0, 1.0, 0.0, 2.0, 0.0, 0.0, 0.0, 0.0, 0.0, 0.0, 0.0, 1.0, 0.0, [21, [0, 1, 3, 5, 13, 14, 15, 16, 17, 18, 19, 20], [2.0, 1.0, 2.0, 1.0, 15.0, 3231.0, 3.0, 3.0, 15.0, 30.0, 2.0, 1.0]], [15.27756298871404, 4.7224370112859635], [0.7638781494357019, 0.23612185056429813], 0.0, 'No Risk'], ['0_to_200', 4, 'all_credits_paid_back', 'car_new', 250, '100_to_500', 'less_1', 2, 'female', 'none', 3, 'real_estate', 33, 'none', 'rent', 1, 'skilled', 1, 'none', 'yes', 2.0, 3.0, 3.0, 1.0, 0.0, 1.0, 0.0, 0.0, 0.0, 0.0, 2.0, 1.0, 0.0, [2.0, 3.0, 0.0, 1.0, 3.0, 1.0, 0.0, 2.0, 0.0, 1.0, 0.0, 0.0, 0.0, 4.0, 250.0, 2.0, 3.0, 4.0, 33.0, 1.0, 1.0], [19.08649543516812, 0.9135045648318764], [0.9543247717584062, 0.04567522824159383], 0.0, 'No Risk'], ['no_checking', 28, 'prior_payments_delayed', 'radio_tv', 4245, '100_to_500', '1_to_4', 4, 'female', 'none', 4, 'car_other', 41, 'stores', 'own', 1, 'unskilled', 2, 'yes', 'yes', 0.0, 0.0, 0.0, 1.0, 0.0, 0.0, 1.0, 1.0, 3.0, 0.0, 1.0, 1.0, 1.0, [0.0, 0.0, 3.0, 1.0, 0.0, 1.0, 0.0, 1.0, 1.0, 0.0, 1.0, 1.0, 0.0, 28.0, 4245.0, 4.0, 4.0, 28.0, 41.0, 1.0, 2.0], [12.440647677370974, 7.559352322629029], [0.6220323838685485, 0.37796761613145136], 0.0, 'No Risk'], ['0_to_200', 39, 'prior_payments_delayed', 'business', 3473, '100_to_500', '4_to_7', 4, 'female', 'none', 2, 'savings_insurance', 37, 'none', 'own', 2, 'skilled', 1, 'none', 'yes', 2.0, 0.0, 1.0, 1.0, 0.0, 0.0, 0.0, 0.0, 9.0, 0.0, 0.0, 1.0, 0.0, [2.0, 0.0, 9.0, 1.0, 1.0, 1.0, 0.0, 0.0, 0.0, 0.0, 0.0, 0.0, 0.0, 39.0, 3473.0, 4.0, 2.0, 39.0, 37.0, 2.0, 1.0], [12.305350043475073, 7.694649956524926], [0.6152675021737537, 0.3847324978262463], 0.0, 'No Risk'], ['no_checking', 15, 'credits_paid_to_date', 'furniture', 4883, 'less_100', '1_to_4', 4, 'male', 'none', 3, 'savings_insurance', 40, 'stores', 'own', 1, 'unskilled', 1, 'none', 'yes', 0.0, 1.0, 0.0, 0.0, 0.0, 0.0, 1.0, 1.0, 1.0, 0.0, 0.0, 0.0, 0.0, [21, [1, 2, 8, 10, 13, 14, 15, 16, 17, 18, 19, 20], [1.0, 1.0, 1.0, 1.0, 15.0, 4883.0, 4.0, 3.0, 15.0, 40.0, 1.0, 1.0]], [15.162651516618373, 4.83734848338163], [0.7581325758309185, 0.24186742416908147], 0.0, 'No Risk'], ['0_to_200', 27, 'credits_paid_to_date', 'furniture', 2436, '500_to_1000', 'less_1', 3, 'male', 'none', 2, 'savings_insurance', 26, 'none', 'own', 2, 'skilled', 1, 'yes', 'yes', 2.0, 1.0, 3.0, 2.0, 0.0, 0.0, 0.0, 0.0, 1.0, 0.0, 0.0, 0.0, 1.0, [2.0, 1.0, 1.0, 2.0, 3.0, 0.0, 0.0, 0.0, 0.0, 0.0, 0.0, 1.0, 0.0, 27.0, 2436.0, 3.0, 2.0, 27.0, 26.0, 2.0, 1.0], [14.93238644268365, 5.067613557316351], [0.7466193221341826, 0.2533806778658175], 0.0, 'No Risk'], ['0_to_200', 14, 'credits_paid_to_date', 'furniture', 2548, 'less_100', '1_to_4', 2, 'female', 'none', 3, 'car_other', 43, 'stores', 'own', 1, 'skilled', 1, 'yes', 'yes', 2.0, 1.0, 0.0, 0.0, 0.0, 0.0, 1.0, 0.0, 1.0, 0.0, 1.0, 1.0, 1.0, [2.0, 1.0, 1.0, 0.0, 0.0, 1.0, 0.0, 1.0, 1.0, 0.0, 0.0, 1.0, 0.0, 14.0, 2548.0, 2.0, 3.0, 14.0, 43.0, 1.0, 1.0], [15.23901830384992, 4.760981696150081], [0.7619509151924959, 0.23804908480750403], 0.0, 'No Risk'], ['no_checking', 28, 'prior_payments_delayed', 'education', 4687, '100_to_500', '4_to_7', 3, 'female', 'none', 4, 'unknown', 41, 'none', 'own', 2, 'skilled', 1, 'yes', 'yes', 0.0, 0.0, 1.0, 1.0, 0.0, 0.0, 0.0, 0.0, 7.0, 0.0, 3.0, 1.0, 1.0, [0.0, 0.0, 7.0, 1.0, 1.0, 1.0, 0.0, 3.0, 0.0, 0.0, 0.0, 1.0, 0.0, 28.0, 4687.0, 3.0, 4.0, 28.0, 41.0, 2.0, 1.0], [7.674109240562875, 12.325890759437122], [0.3837054620281438, 0.6162945379718562], 1.0, 'Risk'], ['no_checking', 31, 'prior_payments_delayed', 'business', 2618, '100_to_500', '4_to_7', 4, 'male', 'none', 4, 'car_other', 23, 'none', 'own', 1, 'management_self-employed', 1, 'yes', 'yes', 0.0, 0.0, 1.0, 1.0, 0.0, 0.0, 0.0, 2.0, 9.0, 0.0, 1.0, 0.0, 1.0, [0.0, 0.0, 9.0, 1.0, 1.0, 0.0, 0.0, 1.0, 0.0, 0.0, 2.0, 1.0, 0.0, 31.0, 2618.0, 4.0, 4.0, 31.0, 23.0, 1.0, 1.0], [12.023850228701352, 7.976149771298645], [0.6011925114350677, 0.3988074885649323], 0.0, 'No Risk'], ['no_checking', 30, 'prior_payments_delayed', 'appliances', 4642, '100_to_500', 'greater_7', 4, 'male', 'none', 3, 'car_other', 47, 'none', 'free', 2, 'skilled', 1, 'yes', 'yes', 0.0, 0.0, 2.0, 1.0, 0.0, 2.0, 0.0, 0.0, 4.0, 0.0, 1.0, 0.0, 1.0, [0.0, 0.0, 4.0, 1.0, 2.0, 0.0, 0.0, 1.0, 0.0, 2.0, 0.0, 1.0, 0.0, 30.0, 4642.0, 4.0, 3.0, 30.0, 47.0, 2.0, 1.0], [5.443177239115465, 14.556822760884533], [0.27215886195577327, 0.7278411380442268], 1.0, 'Risk'], ['0_to_200', 28, 'credits_paid_to_date', 'car_used', 2520, 'less_100', '1_to_4', 3, 'male', 'none', 4, 'car_other', 33, 'none', 'own', 1, 'skilled', 1, 'yes', 'yes', 2.0, 1.0, 0.0, 0.0, 0.0, 0.0, 0.0, 0.0, 2.0, 0.0, 1.0, 0.0, 1.0, [2.0, 1.0, 2.0, 0.0, 0.0, 0.0, 0.0, 1.0, 0.0, 0.0, 0.0, 1.0, 0.0, 28.0, 2520.0, 3.0, 4.0, 28.0, 33.0, 1.0, 1.0], [12.810831720909468, 7.189168279090533], [0.6405415860454734, 0.35945841395452666], 0.0, 'No Risk'], ['less_0', 30, 'credits_paid_to_date', 'furniture', 2371, 'less_100', 'less_1', 3, 'male', 'none', 3, 'real_estate', 27, 'none', 'own', 1, 'skilled', 1, 'none', 'yes', 1.0, 1.0, 3.0, 0.0, 0.0, 0.0, 0.0, 0.0, 1.0, 0.0, 2.0, 0.0, 0.0, [1.0, 1.0, 1.0, 0.0, 3.0, 0.0, 0.0, 2.0, 0.0, 0.0, 0.0, 0.0, 0.0, 30.0, 2371.0, 3.0, 3.0, 30.0, 27.0, 1.0, 1.0], [14.920615426124366, 5.079384573875636], [0.7460307713062183, 0.2539692286937818], 0.0, 'No Risk'], ['0_to_200', 20, 'credits_paid_to_date', 'car_new', 4539, 'less_100', 'less_1', 3, 'female', 'none', 3, 'car_other', 30, 'none', 'rent', 1, 'skilled', 1, 'none', 'yes', 2.0, 1.0, 3.0, 0.0, 0.0, 1.0, 0.0, 0.0, 0.0, 0.0, 1.0, 1.0, 0.0, [2.0, 1.0, 0.0, 0.0, 3.0, 1.0, 0.0, 1.0, 0.0, 1.0, 0.0, 0.0, 0.0, 20.0, 4539.0, 3.0, 3.0, 20.0, 30.0, 1.0, 1.0], [15.812888584679927, 4.187111415320076], [0.7906444292339962, 0.20935557076600375], 0.0, 'No Risk'], ['less_0', 11, 'no_credits', 'car_used', 566, '100_to_500', 'unemployed', 2, 'female', 'none', 1, 'real_estate', 19, 'none', 'rent', 2, 'skilled', 1, 'none', 'yes', 1.0, 4.0, 4.0, 1.0, 0.0, 1.0, 0.0, 0.0, 2.0, 0.0, 2.0, 1.0, 0.0, [1.0, 4.0, 2.0, 1.0, 4.0, 1.0, 0.0, 2.0, 0.0, 1.0, 0.0, 0.0, 0.0, 11.0, 566.0, 2.0, 1.0, 11.0, 19.0, 2.0, 1.0], [18.474994027318395, 1.525005972681605], [0.9237497013659197, 0.07625029863408025], 0.0, 'No Risk'], ['0_to_200', 29, 'outstanding_credit', 'furniture', 5241, '500_to_1000', '4_to_7', 2, 'male', 'none', 3, 'car_other', 46, 'none', 'own', 2, 'skilled', 1, 'yes', 'yes', 2.0, 2.0, 1.0, 2.0, 0.0, 0.0, 0.0, 0.0, 1.0, 0.0, 1.0, 0.0, 1.0, [2.0, 2.0, 1.0, 2.0, 1.0, 0.0, 0.0, 1.0, 0.0, 0.0, 0.0, 1.0, 0.0, 29.0, 5241.0, 2.0, 3.0, 29.0, 46.0, 2.0, 1.0], [9.881252052926026, 10.118747947073976], [0.4940626026463013, 0.5059373973536988], 1.0, 'Risk'], ['no_checking', 36, 'prior_payments_delayed', 'furniture', 5308, '500_to_1000', 'less_1', 4, 'male', 'none', 4, 'savings_insurance', 38, 'stores', 'own', 2, 'skilled', 1, 'yes', 'yes', 0.0, 0.0, 3.0, 2.0, 0.0, 0.0, 1.0, 0.0, 1.0, 0.0, 0.0, 0.0, 1.0, [0.0, 0.0, 1.0, 2.0, 3.0, 0.0, 0.0, 0.0, 1.0, 0.0, 0.0, 1.0, 0.0, 36.0, 5308.0, 4.0, 4.0, 36.0, 38.0, 2.0, 1.0], [12.010963239530373, 7.989036760469626], [0.6005481619765186, 0.39945183802348133], 0.0, 'No Risk'], ['no_checking', 31, 'prior_payments_delayed', 'car_used', 7705, '100_to_500', '1_to_4', 3, 'male', 'none', 4, 'unknown', 34, 'none', 'own', 1, 'management_self-employed', 1, 'none', 'yes', 0.0, 0.0, 0.0, 1.0, 0.0, 0.0, 0.0, 2.0, 2.0, 0.0, 3.0, 0.0, 0.0, [21, [2, 3, 7, 10, 13, 14, 15, 16, 17, 18, 19, 20], [2.0, 1.0, 3.0, 2.0, 31.0, 7705.0, 3.0, 4.0, 31.0, 34.0, 1.0, 1.0]], [11.78786678834841, 8.21213321165159], [0.5893933394174204, 0.4106066605825795], 0.0, 'No Risk'], ['less_0', 10, 'no_credits', 'car_used', 250, 'less_100', 'unemployed', 1, 'female', 'none', 1, 'real_estate', 19, 'none', 'rent', 1, 'skilled', 1, 'none', 'yes', 1.0, 4.0, 4.0, 0.0, 0.0, 1.0, 0.0, 0.0, 2.0, 0.0, 2.0, 1.0, 0.0, [1.0, 4.0, 2.0, 0.0, 4.0, 1.0, 0.0, 2.0, 0.0, 1.0, 0.0, 0.0, 0.0, 10.0, 250.0, 1.0, 1.0, 10.0, 19.0, 1.0, 1.0], [19.705858602842344, 0.29414139715765747], [0.9852929301421172, 0.014707069857882874], 0.0, 'No Risk'], ['less_0', 10, 'all_credits_paid_back', 'car_used', 4215, 'less_100', 'less_1', 3, 'female', 'none', 1, 'savings_insurance', 24, 'none', 'rent', 1, 'skilled', 1, 'none', 'yes', 1.0, 3.0, 3.0, 0.0, 0.0, 1.0, 0.0, 0.0, 2.0, 0.0, 0.0, 1.0, 0.0, [1.0, 3.0, 2.0, 0.0, 3.0, 1.0, 0.0, 0.0, 0.0, 1.0, 0.0, 0.0, 0.0, 10.0, 4215.0, 3.0, 1.0, 10.0, 24.0, 1.0, 1.0], [19.01596030797822, 0.9840396920217824], [0.950798015398911, 0.04920198460108912], 0.0, 'No Risk'], ['no_checking', 27, 'outstanding_credit', 'furniture', 5565, 'greater_1000', 'greater_7', 5, 'male', 'co-applicant', 4, 'unknown', 55, 'stores', 'free', 2, 'unskilled', 1, 'yes', 'yes', 0.0, 2.0, 2.0, 3.0, 0.0, 2.0, 1.0, 1.0, 1.0, 1.0, 3.0, 0.0, 1.0, [0.0, 2.0, 1.0, 3.0, 2.0, 0.0, 1.0, 3.0, 1.0, 2.0, 1.0, 1.0, 0.0, 27.0, 5565.0, 5.0, 4.0, 27.0, 55.0, 2.0, 1.0], [2.459554474765703, 17.540445525234297], [0.12297772373828515, 0.8770222762617148], 1.0, 'Risk'], ['no_checking', 34, 'outstanding_credit', 'furniture', 7182, '500_to_1000', '4_to_7', 5, 'male', 'guarantor', 4, 'savings_insurance', 49, 'none', 'free', 2, 'skilled', 1, 'yes', 'yes', 0.0, 2.0, 1.0, 2.0, 0.0, 2.0, 0.0, 0.0, 1.0, 2.0, 0.0, 0.0, 1.0, [0.0, 2.0, 1.0, 2.0, 1.0, 0.0, 2.0, 0.0, 0.0, 2.0, 0.0, 1.0, 0.0, 34.0, 7182.0, 5.0, 4.0, 34.0, 49.0, 2.0, 1.0], [4.50086960078428, 15.499130399215723], [0.22504348003921396, 0.774956519960786], 1.0, 'Risk'], ['0_to_200', 15, 'credits_paid_to_date', 'car_used', 1258, 'less_100', '1_to_4', 1, 'female', 'none', 1, 'real_estate', 33, 'stores', 'rent', 1, 'skilled', 1, 'none', 'yes', 2.0, 1.0, 0.0, 0.0, 0.0, 1.0, 1.0, 0.0, 2.0, 0.0, 2.0, 1.0, 0.0, [2.0, 1.0, 2.0, 0.0, 0.0, 1.0, 0.0, 2.0, 1.0, 1.0, 0.0, 0.0, 0.0, 15.0, 1258.0, 1.0, 1.0, 15.0, 33.0, 1.0, 1.0], [18.371063250731, 1.628936749268996], [0.9185531625365503, 0.08144683746344981], 0.0, 'No Risk'], ['greater_200', 20, 'credits_paid_to_date', 'car_used', 5182, 'less_100', 'unemployed', 2, 'male', 'none', 3, 'savings_insurance', 24, 'none', 'own', 2, 'skilled', 1, 'none', 'yes', 3.0, 1.0, 4.0, 0.0, 0.0, 0.0, 0.0, 0.0, 2.0, 0.0, 0.0, 0.0, 0.0, [21, [0, 1, 2, 4, 13, 14, 15, 16, 17, 18, 19, 20], [3.0, 1.0, 2.0, 4.0, 20.0, 5182.0, 2.0, 3.0, 20.0, 24.0, 2.0, 1.0]], [15.916805792506974, 4.08319420749303], [0.7958402896253486, 0.20415971037465144], 0.0, 'No Risk'], ['less_0', 11, 'all_credits_paid_back', 'car_new', 474, 'less_100', 'less_1', 2, 'female', 'none', 3, 'savings_insurance', 30, 'stores', 'rent', 1, 'unskilled', 1, 'yes', 'yes', 1.0, 3.0, 3.0, 0.0, 0.0, 1.0, 1.0, 1.0, 0.0, 0.0, 0.0, 1.0, 1.0, [1.0, 3.0, 0.0, 0.0, 3.0, 1.0, 0.0, 0.0, 1.0, 1.0, 1.0, 1.0, 0.0, 11.0, 474.0, 2.0, 3.0, 11.0, 30.0, 1.0, 1.0], [18.67352762023327, 1.326472379766728], [0.9336763810116636, 0.06632361898833641], 0.0, 'No Risk'], ['no_checking', 22, 'credits_paid_to_date', 'car_used', 4546, '100_to_500', '1_to_4', 2, 'female', 'guarantor', 4, 'savings_insurance', 38, 'none', 'own', 1, 'skilled', 1, 'yes', 'yes', 0.0, 1.0, 0.0, 1.0, 0.0, 0.0, 0.0, 0.0, 2.0, 2.0, 0.0, 1.0, 1.0, [0.0, 1.0, 2.0, 1.0, 0.0, 1.0, 2.0, 0.0, 0.0, 0.0, 0.0, 1.0, 0.0, 22.0, 4546.0, 2.0, 4.0, 22.0, 38.0, 1.0, 1.0], [13.929680781563803, 6.070319218436196], [0.6964840390781901, 0.30351596092180977], 0.0, 'No Risk'], ['greater_200', 4, 'all_credits_paid_back', 'car_new', 250, '500_to_1000', '4_to_7', 2, 'female', 'none', 2, 'car_other', 35, 'stores', 'own', 2, 'skilled', 2, 'yes', 'yes', 3.0, 3.0, 1.0, 2.0, 0.0, 0.0, 1.0, 0.0, 0.0, 0.0, 1.0, 1.0, 1.0, [3.0, 3.0, 0.0, 2.0, 1.0, 1.0, 0.0, 1.0, 1.0, 0.0, 0.0, 1.0, 0.0, 4.0, 250.0, 2.0, 2.0, 4.0, 35.0, 2.0, 2.0], [16.046324154007564, 3.953675845992437], [0.8023162077003783, 0.19768379229962185], 0.0, 'No Risk'], ['no_checking', 21, 'outstanding_credit', 'furniture', 5743, 'unknown', '4_to_7', 4, 'male', 'none', 4, 'unknown', 49, 'none', 'own', 2, 'skilled', 1, 'yes', 'yes', 0.0, 2.0, 1.0, 4.0, 0.0, 0.0, 0.0, 0.0, 1.0, 0.0, 3.0, 0.0, 1.0, [0.0, 2.0, 1.0, 4.0, 1.0, 0.0, 0.0, 3.0, 0.0, 0.0, 0.0, 1.0, 0.0, 21.0, 5743.0, 4.0, 4.0, 21.0, 49.0, 2.0, 1.0], [7.993623726446376, 12.006376273553624], [0.3996811863223188, 0.6003188136776811], 1.0, 'Risk'], ['no_checking', 25, 'outstanding_credit', 'appliances', 6351, '500_to_1000', '4_to_7', 4, 'male', 'none', 3, 'car_other', 51, 'none', 'free', 2, 'management_self-employed', 2, 'yes', 'yes', 0.0, 2.0, 1.0, 2.0, 0.0, 2.0, 0.0, 2.0, 4.0, 0.0, 1.0, 0.0, 1.0, [0.0, 2.0, 4.0, 2.0, 1.0, 0.0, 0.0, 1.0, 0.0, 2.0, 2.0, 1.0, 0.0, 25.0, 6351.0, 4.0, 3.0, 25.0, 51.0, 2.0, 2.0], [5.405152751985429, 14.594847248014574], [0.2702576375992714, 0.7297423624007285], 1.0, 'Risk'], ['greater_200', 24, 'outstanding_credit', 'appliances', 6363, '100_to_500', '4_to_7', 4, 'female', 'none', 2, 'savings_insurance', 39, 'none', 'own', 1, 'skilled', 1, 'none', 'yes', 3.0, 2.0, 1.0, 1.0, 0.0, 0.0, 0.0, 0.0, 4.0, 0.0, 0.0, 1.0, 0.0, [3.0, 2.0, 4.0, 1.0, 1.0, 1.0, 0.0, 0.0, 0.0, 0.0, 0.0, 0.0, 0.0, 24.0, 6363.0, 4.0, 2.0, 24.0, 39.0, 1.0, 1.0], [14.285328306934984, 5.714671693065018], [0.7142664153467492, 0.2857335846532509], 0.0, 'No Risk'], ['0_to_200', 4, 'all_credits_paid_back', 'car_new', 3411, 'less_100', 'less_1', 2, 'female', 'none', 3, 'real_estate', 21, 'none', 'rent', 1, 'management_self-employed', 1, 'none', 'yes', 2.0, 3.0, 3.0, 0.0, 0.0, 1.0, 0.0, 2.0, 0.0, 0.0, 2.0, 1.0, 0.0, [2.0, 3.0, 0.0, 0.0, 3.0, 1.0, 0.0, 2.0, 0.0, 1.0, 2.0, 0.0, 0.0, 4.0, 3411.0, 2.0, 3.0, 4.0, 21.0, 1.0, 1.0], [19.148460044519975, 0.8515399554800261], [0.9574230022259987, 0.042576997774001306], 0.0, 'No Risk'], ['less_0', 4, 'no_credits', 'car_new', 250, 'less_100', 'less_1', 1, 'female', 'none', 1, 'real_estate', 20, 'none', 'rent', 1, 'skilled', 1, 'none', 'yes', 1.0, 4.0, 3.0, 0.0, 0.0, 1.0, 0.0, 0.0, 0.0, 0.0, 2.0, 1.0, 0.0, [1.0, 4.0, 0.0, 0.0, 3.0, 1.0, 0.0, 2.0, 0.0, 1.0, 0.0, 0.0, 0.0, 4.0, 250.0, 1.0, 1.0, 4.0, 20.0, 1.0, 1.0], [19.682384424438588, 0.31761557556141334], [0.9841192212219294, 0.01588077877807067], 0.0, 'No Risk'], ['less_0', 20, 'credits_paid_to_date', 'car_new', 250, 'less_100', 'unemployed', 2, 'female', 'none', 1, 'real_estate', 24, 'none', 'rent', 1, 'skilled', 1, 'none', 'yes', 1.0, 1.0, 4.0, 0.0, 0.0, 1.0, 0.0, 0.0, 0.0, 0.0, 2.0, 1.0, 0.0, [1.0, 1.0, 0.0, 0.0, 4.0, 1.0, 0.0, 2.0, 0.0, 1.0, 0.0, 0.0, 0.0, 20.0, 250.0, 2.0, 1.0, 20.0, 24.0, 1.0, 1.0], [18.77907869220485, 1.2209213077951535], [0.9389539346102425, 0.061046065389757674], 0.0, 'No Risk'], ['0_to_200', 15, 'credits_paid_to_date', 'car_new', 2001, '100_to_500', '4_to_7', 3, 'female', 'none', 1, 'savings_insurance', 34, 'none', 'own', 1, 'skilled', 1, 'none', 'yes', 2.0, 1.0, 1.0, 1.0, 0.0, 0.0, 0.0, 0.0, 0.0, 0.0, 0.0, 1.0, 0.0, [2.0, 1.0, 0.0, 1.0, 1.0, 1.0, 0.0, 0.0, 0.0, 0.0, 0.0, 0.0, 0.0, 15.0, 2001.0, 3.0, 1.0, 15.0, 34.0, 1.0, 1.0], [16.586821938053703, 3.4131780619462986], [0.8293410969026851, 0.17065890309731493], 0.0, 'No Risk'], ['greater_200', 7, 'prior_payments_delayed', 'car_new', 2940, 'less_100', '4_to_7', 3, 'male', 'none', 4, 'savings_insurance', 35, 'none', 'own', 1, 'management_self-employed', 1, 'none', 'yes', 3.0, 0.0, 1.0, 0.0, 0.0, 0.0, 0.0, 2.0, 0.0, 0.0, 0.0, 0.0, 0.0, [21, [0, 4, 10, 13, 14, 15, 16, 17, 18, 19, 20], [3.0, 1.0, 2.0, 7.0, 2940.0, 3.0, 4.0, 7.0, 35.0, 1.0, 1.0]], [14.760248616695215, 5.239751383304785], [0.7380124308347608, 0.26198756916523924], 0.0, 'No Risk'], ['less_0', 13, 'all_credits_paid_back', 'furniture', 250, '500_to_1000', '4_to_7', 2, 'female', 'none', 2, 'savings_insurance', 26, 'stores', 'own', 2, 'skilled', 1, 'none', 'yes', 1.0, 3.0, 1.0, 2.0, 0.0, 0.0, 1.0, 0.0, 1.0, 0.0, 0.0, 1.0, 0.0, [1.0, 3.0, 1.0, 2.0, 1.0, 1.0, 0.0, 0.0, 1.0, 0.0, 0.0, 0.0, 0.0, 13.0, 250.0, 2.0, 2.0, 13.0, 26.0, 2.0, 1.0], [17.909953507344998, 2.0900464926550026], [0.8954976753672499, 0.10450232463275014], 0.0, 'No Risk'], ['0_to_200', 20, 'prior_payments_delayed', 'education', 2755, '100_to_500', 'greater_7', 3, 'female', 'none', 2, 'car_other', 45, 'none', 'own', 1, 'skilled', 2, 'yes', 'yes', 2.0, 0.0, 2.0, 1.0, 0.0, 0.0, 0.0, 0.0, 7.0, 0.0, 1.0, 1.0, 1.0, [2.0, 0.0, 7.0, 1.0, 2.0, 1.0, 0.0, 1.0, 0.0, 0.0, 0.0, 1.0, 0.0, 20.0, 2755.0, 3.0, 2.0, 20.0, 45.0, 1.0, 2.0], [12.282009431410183, 7.717990568589818], [0.6141004715705092, 0.38589952842949093], 0.0, 'No Risk'], ['less_0', 4, 'credits_paid_to_date', 'car_used', 250, 'less_100', 'less_1', 1, 'female', 'none', 2, 'real_estate', 19, 'none', 'rent', 1, 'skilled', 1, 'none', 'yes', 1.0, 1.0, 3.0, 0.0, 0.0, 1.0, 0.0, 0.0, 2.0, 0.0, 2.0, 1.0, 0.0, [1.0, 1.0, 2.0, 0.0, 3.0, 1.0, 0.0, 2.0, 0.0, 1.0, 0.0, 0.0, 0.0, 4.0, 250.0, 1.0, 2.0, 4.0, 19.0, 1.0, 1.0], [19.453293966669833, 0.5467060333301682], [0.9726646983334917, 0.02733530166650841], 0.0, 'No Risk'], ['no_checking', 29, 'outstanding_credit', 'vacation', 10983, '500_to_1000', 'greater_7', 5, 'male', 'co-applicant', 3, 'unknown', 58, 'none', 'free', 2, 'management_self-employed', 2, 'yes', 'yes', 0.0, 2.0, 2.0, 2.0, 0.0, 2.0, 0.0, 2.0, 6.0, 1.0, 3.0, 0.0, 1.0, [0.0, 2.0, 6.0, 2.0, 2.0, 0.0, 1.0, 3.0, 0.0, 2.0, 2.0, 1.0, 0.0, 29.0, 10983.0, 5.0, 3.0, 29.0, 58.0, 2.0, 2.0], [1.7971589214537562, 18.202841078546243], [0.08985794607268781, 0.9101420539273122], 1.0, 'Risk'], ['no_checking', 28, 'prior_payments_delayed', 'business', 7894, '100_to_500', '4_to_7', 5, 'male', 'none', 3, 'savings_insurance', 38, 'none', 'own', 2, 'skilled', 2, 'yes', 'yes', 0.0, 0.0, 1.0, 1.0, 0.0, 0.0, 0.0, 0.0, 9.0, 0.0, 0.0, 0.0, 1.0, [21, [2, 3, 4, 11, 13, 14, 15, 16, 17, 18, 19, 20], [9.0, 1.0, 1.0, 1.0, 28.0, 7894.0, 5.0, 3.0, 28.0, 38.0, 2.0, 2.0]], [10.22273242266002, 9.777267577339982], [0.511136621133001, 0.4888633788669991], 0.0, 'No Risk'], ['less_0', 7, 'credits_paid_to_date', 'car_used', 250, 'less_100', 'less_1', 1, 'female', 'none', 1, 'real_estate', 30, 'bank', 'rent', 1, 'unskilled', 1, 'none', 'yes', 1.0, 1.0, 3.0, 0.0, 0.0, 1.0, 2.0, 1.0, 2.0, 0.0, 2.0, 1.0, 0.0, [1.0, 1.0, 2.0, 0.0, 3.0, 1.0, 0.0, 2.0, 2.0, 1.0, 1.0, 0.0, 0.0, 7.0, 250.0, 1.0, 1.0, 7.0, 30.0, 1.0, 1.0], [19.453293966669833, 0.5467060333301682], [0.9726646983334917, 0.02733530166650841], 0.0, 'No Risk'], ['less_0', 16, 'prior_payments_delayed', 'car_new', 5327, '100_to_500', '1_to_4', 3, 'female', 'none', 2, 'car_other', 34, 'none', 'own', 2, 'skilled', 1, 'yes', 'yes', 1.0, 0.0, 0.0, 1.0, 0.0, 0.0, 0.0, 0.0, 0.0, 0.0, 1.0, 1.0, 1.0, [1.0, 0.0, 0.0, 1.0, 0.0, 1.0, 0.0, 1.0, 0.0, 0.0, 0.0, 1.0, 0.0, 16.0, 5327.0, 3.0, 2.0, 16.0, 34.0, 2.0, 1.0], [14.118698393892402, 5.881301606107597], [0.7059349196946201, 0.2940650803053798], 0.0, 'No Risk'], ['no_checking', 36, 'outstanding_credit', 'radio_tv', 7966, 'greater_1000', '4_to_7', 5, 'female', 'none', 5, 'unknown', 48, 'bank', 'own', 2, 'unskilled', 1, 'yes', 'yes', 0.0, 2.0, 1.0, 3.0, 0.0, 0.0, 2.0, 1.0, 3.0, 0.0, 3.0, 1.0, 1.0, [0.0, 2.0, 3.0, 3.0, 1.0, 1.0, 0.0, 3.0, 2.0, 0.0, 1.0, 1.0, 0.0, 36.0, 7966.0, 5.0, 5.0, 36.0, 48.0, 2.0, 1.0], [6.568048126532019, 13.431951873467986], [0.3284024063266009, 0.6715975936733992], 1.0, 'Risk'], ['less_0', 21, 'prior_payments_delayed', 'radio_tv', 250, '500_to_1000', 'greater_7', 3, 'female', 'none', 2, 'savings_insurance', 42, 'stores', 'rent', 1, 'unskilled', 1, 'none', 'yes', 1.0, 0.0, 2.0, 2.0, 0.0, 1.0, 1.0, 1.0, 3.0, 0.0, 0.0, 1.0, 0.0, [1.0, 0.0, 3.0, 2.0, 2.0, 1.0, 0.0, 0.0, 1.0, 1.0, 1.0, 0.0, 0.0, 21.0, 250.0, 3.0, 2.0, 21.0, 42.0, 1.0, 1.0], [15.073468003129035, 4.926531996870966], [0.7536734001564518, 0.2463265998435483], 0.0, 'No Risk'], ['greater_200', 19, 'outstanding_credit', 'radio_tv', 5059, '500_to_1000', '1_to_4', 4, 'male', 'none', 3, 'car_other', 49, 'none', 'own', 2, 'management_self-employed', 2, 'yes', 'yes', 3.0, 2.0, 0.0, 2.0, 0.0, 0.0, 0.0, 2.0, 3.0, 0.0, 1.0, 0.0, 1.0, [3.0, 2.0, 3.0, 2.0, 0.0, 0.0, 0.0, 1.0, 0.0, 0.0, 2.0, 1.0, 0.0, 19.0, 5059.0, 4.0, 3.0, 19.0, 49.0, 2.0, 2.0], [12.096982774056576, 7.903017225943426], [0.6048491387028287, 0.3951508612971713], 0.0, 'No Risk'], ['less_0', 13, 'prior_payments_delayed', 'radio_tv', 250, 'less_100', '1_to_4', 2, 'female', 'none', 2, 'real_estate', 19, 'bank', 'rent', 1, 'unemployed', 1, 'none', 'yes', 1.0, 0.0, 0.0, 0.0, 0.0, 1.0, 2.0, 3.0, 3.0, 0.0, 2.0, 1.0, 0.0, [1.0, 0.0, 3.0, 0.0, 0.0, 1.0, 0.0, 2.0, 2.0, 1.0, 3.0, 0.0, 0.0, 13.0, 250.0, 2.0, 2.0, 13.0, 19.0, 1.0, 1.0], [18.726779188931353, 1.2732208110686447], [0.9363389594465678, 0.06366104055343225], 0.0, 'No Risk'], ['no_checking', 26, 'all_credits_paid_back', 'retraining', 3541, 'less_100', 'unemployed', 2, 'male', 'none', 2, 'savings_insurance', 19, 'none', 'own', 1, 'management_self-employed', 1, 'yes', 'yes', 0.0, 3.0, 4.0, 0.0, 0.0, 0.0, 0.0, 2.0, 8.0, 0.0, 0.0, 0.0, 1.0, [0.0, 3.0, 8.0, 0.0, 4.0, 0.0, 0.0, 0.0, 0.0, 0.0, 2.0, 1.0, 0.0, 26.0, 3541.0, 2.0, 2.0, 26.0, 19.0, 1.0, 1.0], [16.095252924398743, 3.9047470756012554], [0.8047626462199371, 0.19523735378006277], 0.0, 'No Risk'], ['no_checking', 26, 'credits_paid_to_date', 'furniture', 6152, '100_to_500', '4_to_7', 4, 'male', 'none', 5, 'unknown', 44, 'none', 'own', 2, 'skilled', 2, 'yes', 'yes', 0.0, 1.0, 1.0, 1.0, 0.0, 0.0, 0.0, 0.0, 1.0, 0.0, 3.0, 0.0, 1.0, [0.0, 1.0, 1.0, 1.0, 1.0, 0.0, 0.0, 3.0, 0.0, 0.0, 0.0, 1.0, 0.0, 26.0, 6152.0, 4.0, 5.0, 26.0, 44.0, 2.0, 2.0], [8.714500098271703, 11.285499901728299], [0.4357250049135851, 0.564274995086415], 1.0, 'Risk'], ['0_to_200', 14, 'credits_paid_to_date', 'car_used', 5896, 'less_100', '4_to_7', 4, 'male', 'none', 4, 'savings_insurance', 38, 'none', 'own', 2, 'management_self-employed', 1, 'none', 'yes', 2.0, 1.0, 1.0, 0.0, 0.0, 0.0, 0.0, 2.0, 2.0, 0.0, 0.0, 0.0, 0.0, [2.0, 1.0, 2.0, 0.0, 1.0, 0.0, 0.0, 0.0, 0.0, 0.0, 2.0, 0.0, 0.0, 14.0, 5896.0, 4.0, 4.0, 14.0, 38.0, 2.0, 1.0], [14.200656534478496, 5.799343465521507], [0.7100328267239246, 0.2899671732760753], 0.0, 'No Risk'], ['no_checking', 38, 'outstanding_credit', 'radio_tv', 7343, 'greater_1000', 'greater_7', 5, 'female', 'co-applicant', 6, 'unknown', 55, 'none', 'free', 2, 'management_self-employed', 2, 'yes', 'yes', 0.0, 2.0, 2.0, 3.0, 0.0, 2.0, 0.0, 2.0, 3.0, 1.0, 3.0, 1.0, 1.0, [0.0, 2.0, 3.0, 3.0, 2.0, 1.0, 1.0, 3.0, 0.0, 2.0, 2.0, 1.0, 0.0, 38.0, 7343.0, 5.0, 6.0, 38.0, 55.0, 2.0, 2.0], [1.6253576962206233, 18.374642303779375], [0.08126788481103119, 0.9187321151889689], 1.0, 'Risk'], ['less_0', 27, 'credits_paid_to_date', 'car_used', 716, 'greater_1000', '4_to_7', 3, 'male', 'none', 3, 'car_other', 24, 'stores', 'own', 2, 'unskilled', 2, 'none', 'yes', 1.0, 1.0, 1.0, 3.0, 0.0, 0.0, 1.0, 1.0, 2.0, 0.0, 1.0, 0.0, 0.0, [1.0, 1.0, 2.0, 3.0, 1.0, 0.0, 0.0, 1.0, 1.0, 0.0, 1.0, 0.0, 0.0, 27.0, 716.0, 3.0, 3.0, 27.0, 24.0, 2.0, 2.0], [14.699209173471523, 5.3007908265284795], [0.7349604586735761, 0.26503954132642393], 0.0, 'No Risk'], ['0_to_200', 8, 'all_credits_paid_back', 'car_new', 259, 'less_100', '1_to_4', 1, 'male', 'none', 3, 'real_estate', 21, 'none', 'own', 1, 'skilled', 1, 'none', 'yes', 2.0, 3.0, 0.0, 0.0, 0.0, 0.0, 0.0, 0.0, 0.0, 0.0, 2.0, 0.0, 0.0, [21, [0, 1, 7, 13, 14, 15, 16, 17, 18, 19, 20], [2.0, 3.0, 2.0, 8.0, 259.0, 1.0, 3.0, 8.0, 21.0, 1.0, 1.0]], [18.853653315659226, 1.1463466843407715], [0.9426826657829614, 0.057317334217038586], 0.0, 'No Risk'], ['no_checking', 34, 'outstanding_credit', 'appliances', 6353, '500_to_1000', 'greater_7', 3, 'male', 'co-applicant', 4, 'unknown', 48, 'bank', 'own', 3, 'unskilled', 2, 'yes', 'yes', 0.0, 2.0, 2.0, 2.0, 0.0, 0.0, 2.0, 1.0, 4.0, 1.0, 3.0, 0.0, 1.0, [0.0, 2.0, 4.0, 2.0, 2.0, 0.0, 1.0, 3.0, 2.0, 0.0, 1.0, 1.0, 0.0, 34.0, 6353.0, 3.0, 4.0, 34.0, 48.0, 3.0, 2.0], [1.9300915593751413, 18.069908440624857], [0.09650457796875707, 0.9034954220312429], 1.0, 'Risk'], ['less_0', 6, 'all_credits_paid_back', 'car_used', 250, 'less_100', '1_to_4', 1, 'male', 'none', 2, 'savings_insurance', 20, 'bank', 'rent', 1, 'unemployed', 1, 'none', 'yes', 1.0, 3.0, 0.0, 0.0, 0.0, 1.0, 2.0, 3.0, 2.0, 0.0, 0.0, 0.0, 0.0, [1.0, 3.0, 2.0, 0.0, 0.0, 0.0, 0.0, 0.0, 2.0, 1.0, 3.0, 0.0, 0.0, 6.0, 250.0, 1.0, 2.0, 6.0, 20.0, 1.0, 1.0], [19.34002109016141, 0.6599789098385891], [0.9670010545080705, 0.03299894549192946], 0.0, 'No Risk'], ['no_checking', 40, 'prior_payments_delayed', 'furniture', 2433, '500_to_1000', 'greater_7', 3, 'male', 'none', 4, 'car_other', 35, 'none', 'own', 1, 'skilled', 1, 'none', 'yes', 0.0, 0.0, 2.0, 2.0, 0.0, 0.0, 0.0, 0.0, 1.0, 0.0, 1.0, 0.0, 0.0, [21, [2, 3, 4, 7, 13, 14, 15, 16, 17, 18, 19, 20], [1.0, 2.0, 2.0, 1.0, 40.0, 2433.0, 3.0, 4.0, 40.0, 35.0, 1.0, 1.0]], [9.872368192770253, 10.127631807229747], [0.49361840963851267, 0.5063815903614873], 1.0, 'Risk'], ['0_to_200', 29, 'credits_paid_to_date', 'car_used', 2239, '100_to_500', 'less_1', 3, 'female', 'none', 2, 'savings_insurance', 36, 'none', 'own', 2, 'skilled', 1, 'none', 'yes', 2.0, 1.0, 3.0, 1.0, 0.0, 0.0, 0.0, 0.0, 2.0, 0.0, 0.0, 1.0, 0.0, [2.0, 1.0, 2.0, 1.0, 3.0, 1.0, 0.0, 0.0, 0.0, 0.0, 0.0, 0.0, 0.0, 29.0, 2239.0, 3.0, 2.0, 29.0, 36.0, 2.0, 1.0], [13.540487189253353, 6.459512810746646], [0.6770243594626677, 0.3229756405373323], 0.0, 'No Risk'], ['0_to_200', 6, 'all_credits_paid_back', 'car_new', 250, 'less_100', 'less_1', 2, 'female', 'none', 3, 'real_estate', 32, 'none', 'own', 1, 'skilled', 1, 'none', 'yes', 2.0, 3.0, 3.0, 0.0, 0.0, 0.0, 0.0, 0.0, 0.0, 0.0, 2.0, 1.0, 0.0, [2.0, 3.0, 0.0, 0.0, 3.0, 1.0, 0.0, 2.0, 0.0, 0.0, 0.0, 0.0, 0.0, 6.0, 250.0, 2.0, 3.0, 6.0, 32.0, 1.0, 1.0], [19.449271880418117, 0.5507281195818812], [0.972463594020906, 0.027536405979094063], 0.0, 'No Risk'], ['0_to_200', 20, 'prior_payments_delayed', 'business', 3927, 'less_100', '1_to_4', 3, 'female', 'none', 3, 'unknown', 33, 'none', 'own', 1, 'skilled', 1, 'yes', 'yes', 2.0, 0.0, 0.0, 0.0, 0.0, 0.0, 0.0, 0.0, 9.0, 0.0, 3.0, 1.0, 1.0, [2.0, 0.0, 9.0, 0.0, 0.0, 1.0, 0.0, 3.0, 0.0, 0.0, 0.0, 1.0, 0.0, 20.0, 3927.0, 3.0, 3.0, 20.0, 33.0, 1.0, 1.0], [13.893054511582886, 6.106945488417114], [0.6946527255791443, 0.30534727442085574], 0.0, 'No Risk'], ['no_checking', 36, 'outstanding_credit', 'retraining', 6529, 'greater_1000', 'greater_7', 4, 'male', 'co-applicant', 5, 'unknown', 50, 'none', 'free', 2, 'skilled', 1, 'yes', 'yes', 0.0, 2.0, 2.0, 3.0, 0.0, 2.0, 0.0, 0.0, 8.0, 1.0, 3.0, 0.0, 1.0, [0.0, 2.0, 8.0, 3.0, 2.0, 0.0, 1.0, 3.0, 0.0, 2.0, 0.0, 1.0, 0.0, 36.0, 6529.0, 4.0, 5.0, 36.0, 50.0, 2.0, 1.0], [1.9225363022283914, 18.077463697771613], [0.09612681511141956, 0.9038731848885805], 1.0, 'Risk'], ['less_0', 21, 'prior_payments_delayed', 'car_new', 2258, 'less_100', '1_to_4', 3, 'female', 'none', 3, 'car_other', 29, 'none', 'own', 2, 'skilled', 1, 'none', 'yes', 1.0, 0.0, 0.0, 0.0, 0.0, 0.0, 0.0, 0.0, 0.0, 0.0, 1.0, 1.0, 0.0, [21, [0, 5, 7, 13, 14, 15, 16, 17, 18, 19, 20], [1.0, 1.0, 1.0, 21.0, 2258.0, 3.0, 3.0, 21.0, 29.0, 2.0, 1.0]], [14.426470950058981, 5.573529049941022], [0.7213235475029489, 0.27867645249705103], 0.0, 'No Risk'], ['no_checking', 32, 'outstanding_credit', 'vacation', 7452, 'unknown', 'greater_7', 4, 'male', 'co-applicant', 3, 'unknown', 35, 'none', 'free', 2, 'skilled', 1, 'yes', 'yes', 0.0, 2.0, 2.0, 4.0, 0.0, 2.0, 0.0, 0.0, 6.0, 1.0, 3.0, 0.0, 1.0, [0.0, 2.0, 6.0, 4.0, 2.0, 0.0, 1.0, 3.0, 0.0, 2.0, 0.0, 1.0, 0.0, 32.0, 7452.0, 4.0, 3.0, 32.0, 35.0, 2.0, 1.0], [3.69148211089647, 16.308517889103527], [0.18457410554482354, 0.8154258944551765], 1.0, 'Risk'], ['less_0', 11, 'all_credits_paid_back', 'radio_tv', 630, 'less_100', '1_to_4', 2, 'female', 'none', 2, 'savings_insurance', 37, 'none', 'own', 1, 'skilled', 1, 'none', 'yes', 1.0, 3.0, 0.0, 0.0, 0.0, 0.0, 0.0, 0.0, 3.0, 0.0, 0.0, 1.0, 0.0, [21, [0, 1, 2, 5, 13, 14, 15, 16, 17, 18, 19, 20], [1.0, 3.0, 3.0, 1.0, 11.0, 630.0, 2.0, 2.0, 11.0, 37.0, 1.0, 1.0]], [18.414189530718822, 1.5858104692811774], [0.9207094765359412, 0.07929052346405888], 0.0, 'No Risk'], ['0_to_200', 21, 'outstanding_credit', 'radio_tv', 3134, 'greater_1000', '4_to_7', 3, 'male', 'none', 1, 'car_other', 37, 'stores', 'own', 1, 'skilled', 1, 'yes', 'yes', 2.0, 2.0, 1.0, 3.0, 0.0, 0.0, 1.0, 0.0, 3.0, 0.0, 1.0, 0.0, 1.0, [2.0, 2.0, 3.0, 3.0, 1.0, 0.0, 0.0, 1.0, 1.0, 0.0, 0.0, 1.0, 0.0, 21.0, 3134.0, 3.0, 1.0, 21.0, 37.0, 1.0, 1.0], [13.531956855529693, 6.46804314447031], [0.6765978427764845, 0.32340215722351545], 0.0, 'No Risk'], ['less_0', 16, 'credits_paid_to_date', 'car_new', 2447, 'less_100', 'unemployed', 1, 'female', 'none', 2, 'real_estate', 23, 'none', 'own', 1, 'skilled', 1, 'yes', 'yes', 1.0, 1.0, 4.0, 0.0, 0.0, 0.0, 0.0, 0.0, 0.0, 0.0, 2.0, 1.0, 1.0, [1.0, 1.0, 0.0, 0.0, 4.0, 1.0, 0.0, 2.0, 0.0, 0.0, 0.0, 1.0, 0.0, 16.0, 2447.0, 1.0, 2.0, 16.0, 23.0, 1.0, 1.0], [18.97792075764263, 1.0220792423573697], [0.9488960378821314, 0.05110396211786848], 0.0, 'No Risk'], ['no_checking', 18, 'credits_paid_to_date', 'car_used', 3509, '100_to_500', '1_to_4', 3, 'female', 'none', 3, 'car_other', 54, 'none', 'own', 1, 'skilled', 1, 'none', 'yes', 0.0, 1.0, 0.0, 1.0, 0.0, 0.0, 0.0, 0.0, 2.0, 0.0, 1.0, 1.0, 0.0, [0.0, 1.0, 2.0, 1.0, 0.0, 1.0, 0.0, 1.0, 0.0, 0.0, 0.0, 0.0, 0.0, 18.0, 3509.0, 3.0, 3.0, 18.0, 54.0, 1.0, 1.0], [13.692288324111885, 6.307711675888117], [0.6846144162055942, 0.3153855837944058], 0.0, 'No Risk'], ['no_checking', 30, 'outstanding_credit', 'radio_tv', 8052, '500_to_1000', 'greater_7', 3, 'male', 'co-applicant', 4, 'unknown', 54, 'none', 'free', 2, 'skilled', 1, 'yes', 'yes', 0.0, 2.0, 2.0, 2.0, 0.0, 2.0, 0.0, 0.0, 3.0, 1.0, 3.0, 0.0, 1.0, [0.0, 2.0, 3.0, 2.0, 2.0, 0.0, 1.0, 3.0, 0.0, 2.0, 0.0, 1.0, 0.0, 30.0, 8052.0, 3.0, 4.0, 30.0, 54.0, 2.0, 1.0], [1.6336724828548739, 18.36632751714513], [0.08168362414274367, 0.9183163758572563], 1.0, 'Risk'], ['no_checking', 33, 'prior_payments_delayed', 'car_used', 5879, '500_to_1000', '4_to_7', 3, 'male', 'none', 4, 'car_other', 39, 'none', 'own', 1, 'skilled', 1, 'none', 'yes', 0.0, 0.0, 1.0, 2.0, 0.0, 0.0, 0.0, 0.0, 2.0, 0.0, 1.0, 0.0, 0.0, [21, [2, 3, 4, 7, 13, 14, 15, 16, 17, 18, 19, 20], [2.0, 2.0, 1.0, 1.0, 33.0, 5879.0, 3.0, 4.0, 33.0, 39.0, 1.0, 1.0]], [11.012546679329583, 8.987453320670417], [0.5506273339664791, 0.44937266603352083], 0.0, 'No Risk'], ['no_checking', 32, 'prior_payments_delayed', 'business', 5267, '100_to_500', '4_to_7', 4, 'male', 'none', 3, 'car_other', 46, 'none', 'own', 1, 'skilled', 1, 'none', 'yes', 0.0, 0.0, 1.0, 1.0, 0.0, 0.0, 0.0, 0.0, 9.0, 0.0, 1.0, 0.0, 0.0, [21, [2, 3, 4, 7, 13, 14, 15, 16, 17, 18, 19, 20], [9.0, 1.0, 1.0, 1.0, 32.0, 5267.0, 4.0, 3.0, 32.0, 46.0, 1.0, 1.0]], [10.820570912111338, 9.179429087888662], [0.5410285456055669, 0.4589714543944331], 0.0, 'No Risk'], ['less_0', 10, 'all_credits_paid_back', 'car_new', 694, 'less_100', 'less_1', 2, 'female', 'none', 1, 'real_estate', 31, 'none', 'own', 1, 'skilled', 1, 'none', 'yes', 1.0, 3.0, 3.0, 0.0, 0.0, 0.0, 0.0, 0.0, 0.0, 0.0, 2.0, 1.0, 0.0, [1.0, 3.0, 0.0, 0.0, 3.0, 1.0, 0.0, 2.0, 0.0, 0.0, 0.0, 0.0, 0.0, 10.0, 694.0, 2.0, 1.0, 10.0, 31.0, 1.0, 1.0], [19.58650491321381, 0.4134950867861931], [0.9793252456606905, 0.020674754339309657], 0.0, 'No Risk'], ['0_to_200', 4, 'all_credits_paid_back', 'car_new', 4698, 'less_100', 'less_1', 3, 'female', 'none', 3, 'real_estate', 19, 'none', 'own', 1, 'management_self-employed', 1, 'none', 'yes', 2.0, 3.0, 3.0, 0.0, 0.0, 0.0, 0.0, 2.0, 0.0, 0.0, 2.0, 1.0, 0.0, [2.0, 3.0, 0.0, 0.0, 3.0, 1.0, 0.0, 2.0, 0.0, 0.0, 2.0, 0.0, 0.0, 4.0, 4698.0, 3.0, 3.0, 4.0, 19.0, 1.0, 1.0], [19.36536054019285, 0.6346394598071521], [0.9682680270096424, 0.031731972990357606], 0.0, 'No Risk'], ['no_checking', 21, 'outstanding_credit', 'appliances', 2197, 'greater_1000', '1_to_4', 2, 'male', 'none', 4, 'real_estate', 34, 'none', 'own', 1, 'skilled', 2, 'yes', 'yes', 0.0, 2.0, 0.0, 3.0, 0.0, 0.0, 0.0, 0.0, 4.0, 0.0, 2.0, 0.0, 1.0, [0.0, 2.0, 4.0, 3.0, 0.0, 0.0, 0.0, 2.0, 0.0, 0.0, 0.0, 1.0, 0.0, 21.0, 2197.0, 2.0, 4.0, 21.0, 34.0, 1.0, 2.0], [14.860616045462434, 5.139383954537567], [0.7430308022731217, 0.2569691977268783], 0.0, 'No Risk'], ['less_0', 15, 'credits_paid_to_date', 'car_new', 2844, 'less_100', '1_to_4', 2, 'male', 'none', 2, 'car_other', 27, 'none', 'rent', 1, 'skilled', 1, 'none', 'yes', 1.0, 1.0, 0.0, 0.0, 0.0, 1.0, 0.0, 0.0, 0.0, 0.0, 1.0, 0.0, 0.0, [21, [0, 1, 7, 9, 13, 14, 15, 16, 17, 18, 19, 20], [1.0, 1.0, 1.0, 1.0, 15.0, 2844.0, 2.0, 2.0, 15.0, 27.0, 1.0, 1.0]], [17.13563192489037, 2.864368075109632], [0.8567815962445184, 0.14321840375548162], 0.0, 'No Risk'], ['no_checking', 45, 'prior_payments_delayed', 'radio_tv', 5175, '500_to_1000', '1_to_4', 3, 'male', 'co-applicant', 3, 'unknown', 42, 'none', 'own', 2, 'skilled', 1, 'yes', 'yes', 0.0, 0.0, 0.0, 2.0, 0.0, 0.0, 0.0, 0.0, 3.0, 1.0, 3.0, 0.0, 1.0, [0.0, 0.0, 3.0, 2.0, 0.0, 0.0, 1.0, 3.0, 0.0, 0.0, 0.0, 1.0, 0.0, 45.0, 5175.0, 3.0, 3.0, 45.0, 42.0, 2.0, 1.0], [7.878350109057903, 12.121649890942097], [0.39391750545289517, 0.6060824945471048], 1.0, 'Risk'], ['less_0', 4, 'all_credits_paid_back', 'car_new', 457, 'less_100', '1_to_4', 2, 'female', 'none', 2, 'real_estate', 34, 'none', 'own', 1, 'skilled', 1, 'none', 'yes', 1.0, 3.0, 0.0, 0.0, 0.0, 0.0, 0.0, 0.0, 0.0, 0.0, 2.0, 1.0, 0.0, [21, [0, 1, 5, 7, 13, 14, 15, 16, 17, 18, 19, 20], [1.0, 3.0, 1.0, 2.0, 4.0, 457.0, 2.0, 2.0, 4.0, 34.0, 1.0, 1.0]], [18.833363043481864, 1.1666369565181345], [0.9416681521740932, 0.058331847825906724], 0.0, 'No Risk'], ['no_checking', 28, 'prior_payments_delayed', 'business', 3687, 'unknown', '1_to_4', 3, 'female', 'none', 4, 'savings_insurance', 25, 'none', 'own', 1, 'skilled', 1, 'none', 'yes', 0.0, 0.0, 0.0, 4.0, 0.0, 0.0, 0.0, 0.0, 9.0, 0.0, 0.0, 1.0, 0.0, [21, [2, 3, 5, 13, 14, 15, 16, 17, 18, 19, 20], [9.0, 4.0, 1.0, 28.0, 3687.0, 3.0, 4.0, 28.0, 25.0, 1.0, 1.0]], [14.097825110392614, 5.902174889607388], [0.7048912555196306, 0.29510874448036933], 0.0, 'No Risk'], ['no_checking', 37, 'outstanding_credit', 'appliances', 6058, '500_to_1000', '4_to_7', 5, 'male', 'none', 5, 'car_other', 49, 'none', 'own', 2, 'management_self-employed', 2, 'yes', 'yes', 0.0, 2.0, 1.0, 2.0, 0.0, 0.0, 0.0, 2.0, 4.0, 0.0, 1.0, 0.0, 1.0, [0.0, 2.0, 4.0, 2.0, 1.0, 0.0, 0.0, 1.0, 0.0, 0.0, 2.0, 1.0, 0.0, 37.0, 6058.0, 5.0, 5.0, 37.0, 49.0, 2.0, 2.0], [6.632049736256709, 13.367950263743289], [0.33160248681283544, 0.6683975131871644], 1.0, 'Risk'], ['less_0', 23, 'prior_payments_delayed', 'car_used', 250, '100_to_500', '1_to_4', 3, 'male', 'none', 3, 'real_estate', 25, 'none', 'rent', 1, 'skilled', 1, 'none', 'yes', 1.0, 0.0, 0.0, 1.0, 0.0, 1.0, 0.0, 0.0, 2.0, 0.0, 2.0, 0.0, 0.0, [1.0, 0.0, 2.0, 1.0, 0.0, 0.0, 0.0, 2.0, 0.0, 1.0, 0.0, 0.0, 0.0, 23.0, 250.0, 3.0, 3.0, 23.0, 25.0, 1.0, 1.0], [16.984980732597688, 3.015019267402314], [0.8492490366298844, 0.1507509633701157], 0.0, 'No Risk'], ['no_checking', 28, 'all_credits_paid_back', 'radio_tv', 6269, 'less_100', '1_to_4', 3, 'female', 'none', 4, 'car_other', 36, 'none', 'own', 2, 'skilled', 1, 'none', 'yes', 0.0, 3.0, 0.0, 0.0, 0.0, 0.0, 0.0, 0.0, 3.0, 0.0, 1.0, 1.0, 0.0, [21, [1, 2, 5, 7, 13, 14, 15, 16, 17, 18, 19, 20], [3.0, 3.0, 1.0, 1.0, 28.0, 6269.0, 3.0, 4.0, 28.0, 36.0, 2.0, 1.0]], [10.849524547523837, 9.150475452476165], [0.5424762273761918, 0.4575237726238083], 0.0, 'No Risk'], ['0_to_200', 12, 'prior_payments_delayed', 'car_new', 491, 'less_100', 'unemployed', 2, 'female', 'none', 2, 'savings_insurance', 41, 'none', 'own', 2, 'skilled', 1, 'yes', 'no', 2.0, 0.0, 4.0, 0.0, 1.0, 0.0, 0.0, 0.0, 0.0, 0.0, 0.0, 1.0, 1.0, [2.0, 0.0, 0.0, 0.0, 4.0, 1.0, 0.0, 0.0, 0.0, 0.0, 0.0, 1.0, 1.0, 12.0, 491.0, 2.0, 2.0, 12.0, 41.0, 2.0, 1.0], [16.183769195920416, 3.816230804079585], [0.8091884597960208, 0.19081154020397925], 0.0, 'No Risk'], ['less_0', 14, 'all_credits_paid_back', 'furniture', 250, 'less_100', '1_to_4', 2, 'female', 'co-applicant', 1, 'real_estate', 19, 'bank', 'own', 1, 'unskilled', 1, 'none', 'yes', 1.0, 3.0, 0.0, 0.0, 0.0, 0.0, 2.0, 1.0, 1.0, 1.0, 2.0, 1.0, 0.0, [1.0, 3.0, 1.0, 0.0, 0.0, 1.0, 1.0, 2.0, 2.0, 0.0, 1.0, 0.0, 0.0, 14.0, 250.0, 2.0, 1.0, 14.0, 19.0, 1.0, 1.0], [18.638796369117237, 1.361203630882765], [0.9319398184558617, 0.06806018154413825], 0.0, 'No Risk'], ['no_checking', 33, 'prior_payments_delayed', 'business', 5458, '100_to_500', '4_to_7', 3, 'male', 'none', 3, 'car_other', 39, 'none', 'own', 2, 'skilled', 1, 'yes', 'yes', 0.0, 0.0, 1.0, 1.0, 0.0, 0.0, 0.0, 0.0, 9.0, 0.0, 1.0, 0.0, 1.0, [0.0, 0.0, 9.0, 1.0, 1.0, 0.0, 0.0, 1.0, 0.0, 0.0, 0.0, 1.0, 0.0, 33.0, 5458.0, 3.0, 3.0, 33.0, 39.0, 2.0, 1.0], [8.799102651069663, 11.200897348930337], [0.4399551325534832, 0.5600448674465168], 1.0, 'Risk'], ['0_to_200', 32, 'outstanding_credit', 'appliances', 6159, 'unknown', 'greater_7', 4, 'male', 'none', 4, 'car_other', 46, 'none', 'own', 3, 'skilled', 2, 'yes', 'yes', 2.0, 2.0, 2.0, 4.0, 0.0, 0.0, 0.0, 0.0, 4.0, 0.0, 1.0, 0.0, 1.0, [2.0, 2.0, 4.0, 4.0, 2.0, 0.0, 0.0, 1.0, 0.0, 0.0, 0.0, 1.0, 0.0, 32.0, 6159.0, 4.0, 4.0, 32.0, 46.0, 3.0, 2.0], [7.001072614115968, 12.998927385884029], [0.3500536307057984, 0.6499463692942016], 1.0, 'Risk'], ['no_checking', 29, 'outstanding_credit', 'furniture', 4994, 'unknown', '4_to_7', 3, 'male', 'none', 3, 'unknown', 50, 'bank', 'own', 2, 'unemployed', 1, 'yes', 'yes', 0.0, 2.0, 1.0, 4.0, 0.0, 0.0, 2.0, 3.0, 1.0, 0.0, 3.0, 0.0, 1.0, [0.0, 2.0, 1.0, 4.0, 1.0, 0.0, 0.0, 3.0, 2.0, 0.0, 3.0, 1.0, 0.0, 29.0, 4994.0, 3.0, 3.0, 29.0, 50.0, 2.0, 1.0], [7.569639896553882, 12.430360103446118], [0.3784819948276941, 0.6215180051723059], 1.0, 'Risk'], ['greater_200', 9, 'credits_paid_to_date', 'car_new', 2639, 'less_100', 'less_1', 2, 'female', 'none', 2, 'savings_insurance', 35, 'none', 'own', 1, 'skilled', 1, 'none', 'yes', 3.0, 1.0, 3.0, 0.0, 0.0, 0.0, 0.0, 0.0, 0.0, 0.0, 0.0, 1.0, 0.0, [21, [0, 1, 4, 5, 13, 14, 15, 16, 17, 18, 19, 20], [3.0, 1.0, 3.0, 1.0, 9.0, 2639.0, 2.0, 2.0, 9.0, 35.0, 1.0, 1.0]], [17.7831982466071, 2.216801753392902], [0.889159912330355, 0.11084008766964511], 0.0, 'No Risk'], ['0_to_200', 17, 'prior_payments_delayed', 'retraining', 5861, 'less_100', '1_to_4', 3, 'female', 'none', 2, 'unknown', 36, 'none', 'own', 2, 'skilled', 1, 'none', 'yes', 2.0, 0.0, 0.0, 0.0, 0.0, 0.0, 0.0, 0.0, 8.0, 0.0, 3.0, 1.0, 0.0, [21, [0, 2, 5, 7, 13, 14, 15, 16, 17, 18, 19, 20], [2.0, 8.0, 1.0, 3.0, 17.0, 5861.0, 3.0, 2.0, 17.0, 36.0, 2.0, 1.0]], [14.84656573658245, 5.153434263417552], [0.7423282868291226, 0.25767171317087756], 0.0, 'No Risk'], ['no_checking', 25, 'prior_payments_delayed', 'radio_tv', 4036, '100_to_500', '1_to_4', 2, 'male', 'none', 3, 'savings_insurance', 48, 'none', 'own', 2, 'skilled', 1, 'yes', 'yes', 0.0, 0.0, 0.0, 1.0, 0.0, 0.0, 0.0, 0.0, 3.0, 0.0, 0.0, 0.0, 1.0, [21, [2, 3, 11, 13, 14, 15, 16, 17, 18, 19, 20], [3.0, 1.0, 1.0, 25.0, 4036.0, 2.0, 3.0, 25.0, 48.0, 2.0, 1.0]], [10.89430330210183, 9.105696697898168], [0.5447151651050915, 0.4552848348949084], 0.0, 'No Risk'], ['less_0', 4, 'no_credits', 'car_new', 250, '100_to_500', 'unemployed', 1, 'female', 'none', 2, 'real_estate', 19, 'stores', 'rent', 1, 'skilled', 1, 'none', 'yes', 1.0, 4.0, 4.0, 1.0, 0.0, 1.0, 1.0, 0.0, 0.0, 0.0, 2.0, 1.0, 0.0, [1.0, 4.0, 0.0, 1.0, 4.0, 1.0, 0.0, 2.0, 1.0, 1.0, 0.0, 0.0, 0.0, 4.0, 250.0, 1.0, 2.0, 4.0, 19.0, 1.0, 1.0], [19.734576623536785, 0.2654233764632163], [0.9867288311768393, 0.013271168823160814], 0.0, 'No Risk'], ['less_0', 4, 'all_credits_paid_back', 'car_new', 250, 'less_100', '1_to_4', 2, 'female', 'none', 2, 'real_estate', 22, 'none', 'rent', 1, 'skilled', 1, 'none', 'yes', 1.0, 3.0, 0.0, 0.0, 0.0, 1.0, 0.0, 0.0, 0.0, 0.0, 2.0, 1.0, 0.0, [1.0, 3.0, 0.0, 0.0, 0.0, 1.0, 0.0, 2.0, 0.0, 1.0, 0.0, 0.0, 0.0, 4.0, 250.0, 2.0, 2.0, 4.0, 22.0, 1.0, 1.0], [19.395184225112434, 0.6048157748875661], [0.9697592112556217, 0.030240788744378307], 0.0, 'No Risk'], ['less_0', 4, 'credits_paid_to_date', 'appliances', 250, '100_to_500', '1_to_4', 2, 'female', 'none', 2, 'real_estate', 20, 'stores', 'rent', 1, 'skilled', 1, 'none', 'yes', 1.0, 1.0, 0.0, 1.0, 0.0, 1.0, 1.0, 0.0, 4.0, 0.0, 2.0, 1.0, 0.0, [1.0, 1.0, 4.0, 1.0, 0.0, 1.0, 0.0, 2.0, 1.0, 1.0, 0.0, 0.0, 0.0, 4.0, 250.0, 2.0, 2.0, 4.0, 20.0, 1.0, 1.0], [19.20905309046856, 0.7909469095314383], [0.9604526545234281, 0.03954734547657192], 0.0, 'No Risk'], ['0_to_200', 18, 'prior_payments_delayed', 'car_used', 3642, 'less_100', '4_to_7', 3, 'male', 'none', 3, 'savings_insurance', 38, 'none', 'own', 1, 'skilled', 1, 'none', 'yes', 2.0, 0.0, 1.0, 0.0, 0.0, 0.0, 0.0, 0.0, 2.0, 0.0, 0.0, 0.0, 0.0, [21, [0, 2, 4, 13, 14, 15, 16, 17, 18, 19, 20], [2.0, 2.0, 1.0, 18.0, 3642.0, 3.0, 3.0, 18.0, 38.0, 1.0, 1.0]], [14.353615990413608, 5.6463840095863915], [0.7176807995206804, 0.2823192004793196], 0.0, 'No Risk'], ['no_checking', 23, 'prior_payments_delayed', 'car_used', 3376, '100_to_500', '4_to_7', 3, 'male', 'none', 2, 'savings_insurance', 33, 'none', 'own', 1, 'skilled', 1, 'none', 'yes', 0.0, 0.0, 1.0, 1.0, 0.0, 0.0, 0.0, 0.0, 2.0, 0.0, 0.0, 0.0, 0.0, [21, [2, 3, 4, 13, 14, 15, 16, 17, 18, 19, 20], [2.0, 1.0, 1.0, 23.0, 3376.0, 3.0, 2.0, 23.0, 33.0, 1.0, 1.0]], [14.70768022862002, 5.292319771379981], [0.7353840114310011, 0.26461598856899904], 0.0, 'No Risk'], ['no_checking', 33, 'prior_payments_delayed', 'furniture', 8035, 'greater_1000', '1_to_4', 4, 'male', 'none', 5, 'unknown', 43, 'none', 'own', 4, 'skilled', 2, 'yes', 'yes', 0.0, 0.0, 0.0, 3.0, 0.0, 0.0, 0.0, 0.0, 1.0, 0.0, 3.0, 0.0, 1.0, [21, [2, 3, 7, 11, 13, 14, 15, 16, 17, 18, 19, 20], [1.0, 3.0, 3.0, 1.0, 33.0, 8035.0, 4.0, 5.0, 33.0, 43.0, 4.0, 2.0]], [9.43565277357605, 10.56434722642395], [0.47178263867880255, 0.5282173613211975], 1.0, 'Risk'], ['less_0', 22, 'no_credits', 'car_new', 250, '100_to_500', 'less_1', 1, 'female', 'none', 2, 'real_estate', 19, 'stores', 'rent', 1, 'skilled', 1, 'none', 'yes', 1.0, 4.0, 3.0, 1.0, 0.0, 1.0, 1.0, 0.0, 0.0, 0.0, 2.0, 1.0, 0.0, [1.0, 4.0, 0.0, 1.0, 3.0, 1.0, 0.0, 2.0, 1.0, 1.0, 0.0, 0.0, 0.0, 22.0, 250.0, 1.0, 2.0, 22.0, 19.0, 1.0, 1.0], [19.001380323381216, 0.998619676618783], [0.9500690161690608, 0.04993098383093915], 0.0, 'No Risk'], ['0_to_200', 38, 'prior_payments_delayed', 'radio_tv', 2766, 'unknown', '4_to_7', 4, 'male', 'none', 4, 'savings_insurance', 34, 'none', 'own', 2, 'skilled', 1, 'none', 'yes', 2.0, 0.0, 1.0, 4.0, 0.0, 0.0, 0.0, 0.0, 3.0, 0.0, 0.0, 0.0, 0.0, [21, [0, 2, 3, 4, 13, 14, 15, 16, 17, 18, 19, 20], [2.0, 3.0, 4.0, 1.0, 38.0, 2766.0, 4.0, 4.0, 38.0, 34.0, 2.0, 1.0]], [12.59158023519004, 7.408419764809962], [0.6295790117595019, 0.3704209882404981], 0.0, 'No Risk'], ['0_to_200', 11, 'credits_paid_to_date', 'car_used', 473, 'less_100', '4_to_7', 2, 'female', 'none', 2, 'savings_insurance', 31, 'stores', 'own', 1, 'skilled', 1, 'none', 'yes', 2.0, 1.0, 1.0, 0.0, 0.0, 0.0, 1.0, 0.0, 2.0, 0.0, 0.0, 1.0, 0.0, [2.0, 1.0, 2.0, 0.0, 1.0, 1.0, 0.0, 0.0, 1.0, 0.0, 0.0, 0.0, 0.0, 11.0, 473.0, 2.0, 2.0, 11.0, 31.0, 1.0, 1.0], [18.350822414024986, 1.6491775859750097], [0.9175411207012495, 0.0824588792987505], 0.0, 'No Risk'], ['less_0', 4, 'all_credits_paid_back', 'car_new', 250, 'less_100', 'less_1', 2, 'male', 'none', 3, 'real_estate', 19, 'none', 'rent', 1, 'management_self-employed', 1, 'none', 'yes', 1.0, 3.0, 3.0, 0.0, 0.0, 1.0, 0.0, 2.0, 0.0, 0.0, 2.0, 0.0, 0.0, [1.0, 3.0, 0.0, 0.0, 3.0, 0.0, 0.0, 2.0, 0.0, 1.0, 2.0, 0.0, 0.0, 4.0, 250.0, 2.0, 3.0, 4.0, 19.0, 1.0, 1.0], [19.545151391642896, 0.4548486083571014], [0.977257569582145, 0.022742430417855074], 0.0, 'No Risk'], ['less_0', 11, 'all_credits_paid_back', 'car_used', 3230, 'less_100', 'less_1', 1, 'female', 'none', 1, 'savings_insurance', 28, 'stores', 'rent', 1, 'skilled', 1, 'none', 'yes', 1.0, 3.0, 3.0, 0.0, 0.0, 1.0, 1.0, 0.0, 2.0, 0.0, 0.0, 1.0, 0.0, [1.0, 3.0, 2.0, 0.0, 3.0, 1.0, 0.0, 0.0, 1.0, 1.0, 0.0, 0.0, 0.0, 11.0, 3230.0, 1.0, 1.0, 11.0, 28.0, 1.0, 1.0], [18.9860166890577, 1.0139833109423042], [0.9493008344528848, 0.050699165547115205], 0.0, 'No Risk'], ['no_checking', 32, 'outstanding_credit', 'furniture', 7242, 'unknown', 'greater_7', 4, 'male', 'co-applicant', 4, 'unknown', 56, 'none', 'free', 2, 'unskilled', 1, 'yes', 'yes', 0.0, 2.0, 2.0, 4.0, 0.0, 2.0, 0.0, 1.0, 1.0, 1.0, 3.0, 0.0, 1.0, [0.0, 2.0, 1.0, 4.0, 2.0, 0.0, 1.0, 3.0, 0.0, 2.0, 1.0, 1.0, 0.0, 32.0, 7242.0, 4.0, 4.0, 32.0, 56.0, 2.0, 1.0], [1.7971589214537562, 18.202841078546243], [0.08985794607268781, 0.9101420539273122], 1.0, 'Risk'], ['greater_200', 22, 'credits_paid_to_date', 'radio_tv', 5685, 'less_100', 'less_1', 3, 'female', 'none', 4, 'unknown', 36, 'none', 'own', 2, 'skilled', 2, 'yes', 'yes', 3.0, 1.0, 3.0, 0.0, 0.0, 0.0, 0.0, 0.0, 3.0, 0.0, 3.0, 1.0, 1.0, [3.0, 1.0, 3.0, 0.0, 3.0, 1.0, 0.0, 3.0, 0.0, 0.0, 0.0, 1.0, 0.0, 22.0, 5685.0, 3.0, 4.0, 22.0, 36.0, 2.0, 2.0], [12.439195393713096, 7.560804606286905], [0.6219597696856548, 0.37804023031434525], 0.0, 'No Risk'], ['no_checking', 8, 'credits_paid_to_date', 'vacation', 1877, 'less_100', 'less_1', 3, 'male', 'none', 4, 'real_estate', 29, 'none', 'own', 1, 'management_self-employed', 1, 'none', 'yes', 0.0, 1.0, 3.0, 0.0, 0.0, 0.0, 0.0, 2.0, 6.0, 0.0, 2.0, 0.0, 0.0, [0.0, 1.0, 6.0, 0.0, 3.0, 0.0, 0.0, 2.0, 0.0, 0.0, 2.0, 0.0, 0.0, 8.0, 1877.0, 3.0, 4.0, 8.0, 29.0, 1.0, 1.0], [18.87400588670448, 1.1259941132955158], [0.9437002943352242, 0.0562997056647758], 0.0, 'No Risk'], ['less_0', 12, 'all_credits_paid_back', 'radio_tv', 511, '100_to_500', '1_to_4', 3, 'male', 'none', 3, 'real_estate', 26, 'none', 'rent', 1, 'skilled', 1, 'none', 'yes', 1.0, 3.0, 0.0, 1.0, 0.0, 1.0, 0.0, 0.0, 3.0, 0.0, 2.0, 0.0, 0.0, [1.0, 3.0, 3.0, 1.0, 0.0, 0.0, 0.0, 2.0, 0.0, 1.0, 0.0, 0.0, 0.0, 12.0, 511.0, 3.0, 3.0, 12.0, 26.0, 1.0, 1.0], [18.9841656101777, 1.015834389822296], [0.9492082805088853, 0.05079171949111481], 0.0, 'No Risk'], ['less_0', 14, 'all_credits_paid_back', 'car_new', 250, 'less_100', 'less_1', 2, 'male', 'none', 1, 'real_estate', 19, 'stores', 'rent', 1, 'skilled', 1, 'none', 'yes', 1.0, 3.0, 3.0, 0.0, 0.0, 1.0, 1.0, 0.0, 0.0, 0.0, 2.0, 0.0, 0.0, [1.0, 3.0, 0.0, 0.0, 3.0, 0.0, 0.0, 2.0, 1.0, 1.0, 0.0, 0.0, 0.0, 14.0, 250.0, 2.0, 1.0, 14.0, 19.0, 1.0, 1.0], [19.682384424438588, 0.31761557556141334], [0.9841192212219294, 0.01588077877807067], 0.0, 'No Risk'], ['no_checking', 46, 'outstanding_credit', 'repairs', 7537, 'unknown', 'greater_7', 5, 'male', 'co-applicant', 5, 'unknown', 51, 'none', 'free', 2, 'skilled', 2, 'yes', 'yes', 0.0, 2.0, 2.0, 4.0, 0.0, 2.0, 0.0, 0.0, 5.0, 1.0, 3.0, 0.0, 1.0, [0.0, 2.0, 5.0, 4.0, 2.0, 0.0, 1.0, 3.0, 0.0, 2.0, 0.0, 1.0, 0.0, 46.0, 7537.0, 5.0, 5.0, 46.0, 51.0, 2.0, 2.0], [1.461871257621741, 18.538128742378262], [0.07309356288108704, 0.926906437118913], 1.0, 'Risk'], ['no_checking', 17, 'outstanding_credit', 'radio_tv', 7113, '100_to_500', '1_to_4', 4, 'male', 'none', 4, 'car_other', 30, 'none', 'own', 1, 'skilled', 1, 'none', 'yes', 0.0, 2.0, 0.0, 1.0, 0.0, 0.0, 0.0, 0.0, 3.0, 0.0, 1.0, 0.0, 0.0, [21, [1, 2, 3, 7, 13, 14, 15, 16, 17, 18, 19, 20], [2.0, 3.0, 1.0, 1.0, 17.0, 7113.0, 4.0, 4.0, 17.0, 30.0, 1.0, 1.0]], [12.440805909231411, 7.559194090768587], [0.6220402954615706, 0.37795970453842936], 0.0, 'No Risk'], ['0_to_200', 15, 'prior_payments_delayed', 'repairs', 2377, '500_to_1000', 'greater_7', 3, 'male', 'none', 3, 'savings_insurance', 44, 'none', 'own', 2, 'skilled', 1, 'none', 'yes', 2.0, 0.0, 2.0, 2.0, 0.0, 0.0, 0.0, 0.0, 5.0, 0.0, 0.0, 0.0, 0.0, [21, [0, 2, 3, 4, 13, 14, 15, 16, 17, 18, 19, 20], [2.0, 5.0, 2.0, 2.0, 15.0, 2377.0, 3.0, 3.0, 15.0, 44.0, 2.0, 1.0]], [14.573150384039431, 5.426849615960569], [0.7286575192019715, 0.2713424807980284], 0.0, 'No Risk'], ['0_to_200', 18, 'prior_payments_delayed', 'car_used', 3311, 'greater_1000', '4_to_7', 3, 'male', 'none', 2, 'car_other', 43, 'none', 'rent', 2, 'skilled', 1, 'yes', 'yes', 2.0, 0.0, 1.0, 3.0, 0.0, 1.0, 0.0, 0.0, 2.0, 0.0, 1.0, 0.0, 1.0, [2.0, 0.0, 2.0, 3.0, 1.0, 0.0, 0.0, 1.0, 0.0, 1.0, 0.0, 1.0, 0.0, 18.0, 3311.0, 3.0, 2.0, 18.0, 43.0, 2.0, 1.0], [13.532474279486996, 6.467525720513002], [0.6766237139743498, 0.3233762860256501], 0.0, 'No Risk'], ['0_to_200', 21, 'credits_paid_to_date', 'radio_tv', 5873, 'less_100', '4_to_7', 4, 'female', 'none', 4, 'car_other', 23, 'none', 'own', 1, 'skilled', 1, 'none', 'yes', 2.0, 1.0, 1.0, 0.0, 0.0, 0.0, 0.0, 0.0, 3.0, 0.0, 1.0, 1.0, 0.0, [2.0, 1.0, 3.0, 0.0, 1.0, 1.0, 0.0, 1.0, 0.0, 0.0, 0.0, 0.0, 0.0, 21.0, 5873.0, 4.0, 4.0, 21.0, 23.0, 1.0, 1.0], [13.110031563621016, 6.889968436378985], [0.6555015781810508, 0.34449842181894924], 0.0, 'No Risk'], ['no_checking', 32, 'prior_payments_delayed', 'radio_tv', 5623, '500_to_1000', 'less_1', 4, 'male', 'co-applicant', 5, 'car_other', 48, 'none', 'own', 2, 'management_self-employed', 1, 'yes', 'yes', 0.0, 0.0, 3.0, 2.0, 0.0, 0.0, 0.0, 2.0, 3.0, 1.0, 1.0, 0.0, 1.0, [0.0, 0.0, 3.0, 2.0, 3.0, 0.0, 1.0, 1.0, 0.0, 0.0, 2.0, 1.0, 0.0, 32.0, 5623.0, 4.0, 5.0, 32.0, 48.0, 2.0, 1.0], [9.004107908190026, 10.995892091809974], [0.4502053954095013, 0.5497946045904987], 1.0, 'Risk'], ['0_to_200', 6, 'credits_paid_to_date', 'furniture', 1522, 'less_100', 'less_1', 2, 'female', 'none', 3, 'savings_insurance', 19, 'stores', 'rent', 1, 'unskilled', 1, 'none', 'yes', 2.0, 1.0, 3.0, 0.0, 0.0, 1.0, 1.0, 1.0, 1.0, 0.0, 0.0, 1.0, 0.0, [2.0, 1.0, 1.0, 0.0, 3.0, 1.0, 0.0, 0.0, 1.0, 1.0, 1.0, 0.0, 0.0, 6.0, 1522.0, 2.0, 3.0, 6.0, 19.0, 1.0, 1.0], [17.75863041000335, 2.2413695899966495], [0.8879315205001674, 0.11206847949983248], 0.0, 'No Risk'], ['0_to_200', 31, 'credits_paid_to_date', 'repairs', 3001, 'less_100', '4_to_7', 4, 'male', 'none', 3, 'savings_insurance', 35, 'bank', 'own', 1, 'unskilled', 1, 'yes', 'yes', 2.0, 1.0, 1.0, 0.0, 0.0, 0.0, 2.0, 1.0, 5.0, 0.0, 0.0, 0.0, 1.0, [2.0, 1.0, 5.0, 0.0, 1.0, 0.0, 0.0, 0.0, 2.0, 0.0, 1.0, 1.0, 0.0, 31.0, 3001.0, 4.0, 3.0, 31.0, 35.0, 1.0, 1.0], [12.973941030884523, 7.026058969115476], [0.6486970515442262, 0.3513029484557738], 0.0, 'No Risk'], ['less_0', 6, 'all_credits_paid_back', 'education', 250, 'less_100', 'unemployed', 1, 'female', 'none', 1, 'savings_insurance', 26, 'bank', 'rent', 1, 'unemployed', 1, 'none', 'yes', 1.0, 3.0, 4.0, 0.0, 0.0, 1.0, 2.0, 3.0, 7.0, 0.0, 0.0, 1.0, 0.0, [1.0, 3.0, 7.0, 0.0, 4.0, 1.0, 0.0, 0.0, 2.0, 1.0, 3.0, 0.0, 0.0, 6.0, 250.0, 1.0, 1.0, 6.0, 26.0, 1.0, 1.0], [19.47781936655995, 0.5221806334400537], [0.9738909683279973, 0.02610903167200268], 0.0, 'No Risk'], ['less_0', 8, 'all_credits_paid_back', 'education', 1077, 'less_100', '1_to_4', 2, 'female', 'none', 1, 'real_estate', 20, 'stores', 'rent', 1, 'skilled', 1, 'none', 'yes', 1.0, 3.0, 0.0, 0.0, 0.0, 1.0, 1.0, 0.0, 7.0, 0.0, 2.0, 1.0, 0.0, [1.0, 3.0, 7.0, 0.0, 0.0, 1.0, 0.0, 2.0, 1.0, 1.0, 0.0, 0.0, 0.0, 8.0, 1077.0, 2.0, 1.0, 8.0, 20.0, 1.0, 1.0], [19.303133916232717, 0.6968660837672838], [0.9651566958116359, 0.03484330418836419], 0.0, 'No Risk'], ['no_checking', 30, 'outstanding_credit', 'furniture', 5702, '500_to_1000', 'greater_7', 4, 'male', 'co-applicant', 3, 'car_other', 49, 'none', 'free', 2, 'skilled', 1, 'yes', 'yes', 0.0, 2.0, 2.0, 2.0, 0.0, 2.0, 0.0, 0.0, 1.0, 1.0, 1.0, 0.0, 1.0, [0.0, 2.0, 1.0, 2.0, 2.0, 0.0, 1.0, 1.0, 0.0, 2.0, 0.0, 1.0, 0.0, 30.0, 5702.0, 4.0, 3.0, 30.0, 49.0, 2.0, 1.0], [2.1444292586658356, 17.855570741334162], [0.1072214629332918, 0.8927785370667083], 1.0, 'Risk'], ['less_0', 11, 'prior_payments_delayed', 'car_new', 250, '100_to_500', '1_to_4', 1, 'female', 'none', 2, 'savings_insurance', 30, 'stores', 'rent', 1, 'skilled', 1, 'none', 'yes', 1.0, 0.0, 0.0, 1.0, 0.0, 1.0, 1.0, 0.0, 0.0, 0.0, 0.0, 1.0, 0.0, [1.0, 0.0, 0.0, 1.0, 0.0, 1.0, 0.0, 0.0, 1.0, 1.0, 0.0, 0.0, 0.0, 11.0, 250.0, 1.0, 2.0, 11.0, 30.0, 1.0, 1.0], [18.475005684445957, 1.5249943155540382], [0.923750284222298, 0.07624971577770193], 0.0, 'No Risk'], ['0_to_200', 4, 'all_credits_paid_back', 'car_used', 250, 'less_100', 'less_1', 1, 'female', 'none', 1, 'real_estate', 29, 'none', 'rent', 1, 'skilled', 1, 'none', 'yes', 2.0, 3.0, 3.0, 0.0, 0.0, 1.0, 0.0, 0.0, 2.0, 0.0, 2.0, 1.0, 0.0, [2.0, 3.0, 2.0, 0.0, 3.0, 1.0, 0.0, 2.0, 0.0, 1.0, 0.0, 0.0, 0.0, 4.0, 250.0, 1.0, 1.0, 4.0, 29.0, 1.0, 1.0], [19.682384424438588, 0.31761557556141334], [0.9841192212219294, 0.01588077877807067], 0.0, 'No Risk'], ['greater_200', 27, 'credits_paid_to_date', 'car_used', 1891, 'greater_1000', '4_to_7', 4, 'male', 'none', 4, 'real_estate', 31, 'none', 'rent', 1, 'skilled', 1, 'none', 'yes', 3.0, 1.0, 1.0, 3.0, 0.0, 1.0, 0.0, 0.0, 2.0, 0.0, 2.0, 0.0, 0.0, [3.0, 1.0, 2.0, 3.0, 1.0, 0.0, 0.0, 2.0, 0.0, 1.0, 0.0, 0.0, 0.0, 27.0, 1891.0, 4.0, 4.0, 27.0, 31.0, 1.0, 1.0], [13.576464376400251, 6.42353562359975], [0.6788232188200125, 0.3211767811799875], 0.0, 'No Risk'], ['0_to_200', 32, 'credits_paid_to_date', 'business', 4338, '100_to_500', 'greater_7', 4, 'male', 'none', 3, 'car_other', 22, 'none', 'own', 2, 'skilled', 1, 'none', 'yes', 2.0, 1.0, 2.0, 1.0, 0.0, 0.0, 0.0, 0.0, 9.0, 0.0, 1.0, 0.0, 0.0, [2.0, 1.0, 9.0, 1.0, 2.0, 0.0, 0.0, 1.0, 0.0, 0.0, 0.0, 0.0, 0.0, 32.0, 4338.0, 4.0, 3.0, 32.0, 22.0, 2.0, 1.0], [11.993220958869856, 8.006779041130148], [0.5996610479434926, 0.4003389520565073], 0.0, 'No Risk'], ['0_to_200', 35, 'prior_payments_delayed', 'business', 6047, 'less_100', 'greater_7', 3, 'male', 'none', 4, 'unknown', 40, 'none', 'own', 2, 'skilled', 2, 'none', 'yes', 2.0, 0.0, 2.0, 0.0, 0.0, 0.0, 0.0, 0.0, 9.0, 0.0, 3.0, 0.0, 0.0, [21, [0, 2, 4, 7, 13, 14, 15, 16, 17, 18, 19, 20], [2.0, 9.0, 2.0, 3.0, 35.0, 6047.0, 3.0, 4.0, 35.0, 40.0, 2.0, 2.0]], [10.698906067408993, 9.301093932591005], [0.5349453033704497, 0.46505469662955023], 0.0, 'No Risk'], ['greater_200', 4, 'all_credits_paid_back', 'education', 1709, '500_to_1000', '1_to_4', 3, 'female', 'none', 2, 'savings_insurance', 46, 'stores', 'rent', 1, 'unskilled', 1, 'yes', 'yes', 3.0, 3.0, 0.0, 2.0, 0.0, 1.0, 1.0, 1.0, 7.0, 0.0, 0.0, 1.0, 1.0, [3.0, 3.0, 7.0, 2.0, 0.0, 1.0, 0.0, 0.0, 1.0, 1.0, 1.0, 1.0, 0.0, 4.0, 1709.0, 3.0, 2.0, 4.0, 46.0, 1.0, 1.0], [16.794528477086057, 3.205471522913945], [0.8397264238543027, 0.16027357614569723], 0.0, 'No Risk'], ['0_to_200', 13, 'credits_paid_to_date', 'car_used', 1671, '100_to_500', 'unemployed', 1, 'female', 'none', 3, 'savings_insurance', 30, 'none', 'rent', 2, 'skilled', 1, 'none', 'yes', 2.0, 1.0, 4.0, 1.0, 0.0, 1.0, 0.0, 0.0, 2.0, 0.0, 0.0, 1.0, 0.0, [2.0, 1.0, 2.0, 1.0, 4.0, 1.0, 0.0, 0.0, 0.0, 1.0, 0.0, 0.0, 0.0, 13.0, 1671.0, 1.0, 3.0, 13.0, 30.0, 2.0, 1.0], [16.870832297323016, 3.129167702676986], [0.8435416148661506, 0.15645838513384927], 0.0, 'No Risk'], ['greater_200', 26, 'outstanding_credit', 'car_used', 4163, '500_to_1000', 'greater_7', 4, 'male', 'none', 4, 'unknown', 48, 'none', 'own', 2, 'skilled', 1, 'yes', 'no', 3.0, 2.0, 2.0, 2.0, 1.0, 0.0, 0.0, 0.0, 2.0, 0.0, 3.0, 0.0, 1.0, [3.0, 2.0, 2.0, 2.0, 2.0, 0.0, 0.0, 3.0, 0.0, 0.0, 0.0, 1.0, 1.0, 26.0, 4163.0, 4.0, 4.0, 26.0, 48.0, 2.0, 1.0], [6.2399946144440195, 13.76000538555598], [0.311999730722201, 0.688000269277799], 1.0, 'Risk'], ['less_0', 4, 'all_credits_paid_back', 'car_used', 250, 'less_100', 'less_1', 1, 'male', 'none', 3, 'savings_insurance', 22, 'none', 'rent', 1, 'skilled', 1, 'none', 'yes', 1.0, 3.0, 3.0, 0.0, 0.0, 1.0, 0.0, 0.0, 2.0, 0.0, 0.0, 0.0, 0.0, [1.0, 3.0, 2.0, 0.0, 3.0, 0.0, 0.0, 0.0, 0.0, 1.0, 0.0, 0.0, 0.0, 4.0, 250.0, 1.0, 3.0, 4.0, 22.0, 1.0, 1.0], [18.839188890885197, 1.1608111091148015], [0.9419594445442598, 0.05804055545574007], 0.0, 'No Risk'], ['0_to_200', 21, 'credits_paid_to_date', 'radio_tv', 2690, '500_to_1000', '4_to_7', 2, 'female', 'none', 2, 'car_other', 37, 'stores', 'own', 1, 'skilled', 1, 'none', 'yes', 2.0, 1.0, 1.0, 2.0, 0.0, 0.0, 1.0, 0.0, 3.0, 0.0, 1.0, 1.0, 0.0, [2.0, 1.0, 3.0, 2.0, 1.0, 1.0, 0.0, 1.0, 1.0, 0.0, 0.0, 0.0, 0.0, 21.0, 2690.0, 2.0, 2.0, 21.0, 37.0, 1.0, 1.0], [14.831625914542267, 5.168374085457734], [0.7415812957271133, 0.2584187042728867], 0.0, 'No Risk'], ['0_to_200', 27, 'outstanding_credit', 'appliances', 2793, '500_to_1000', 'greater_7', 3, 'male', 'none', 4, 'savings_insurance', 36, 'none', 'own', 2, 'skilled', 1, 'yes', 'yes', 2.0, 2.0, 2.0, 2.0, 0.0, 0.0, 0.0, 0.0, 4.0, 0.0, 0.0, 0.0, 1.0, [2.0, 2.0, 4.0, 2.0, 2.0, 0.0, 0.0, 0.0, 0.0, 0.0, 0.0, 1.0, 0.0, 27.0, 2793.0, 3.0, 4.0, 27.0, 36.0, 2.0, 1.0], [11.862103908254602, 8.137896091745402], [0.59310519541273, 0.40689480458727], 0.0, 'No Risk'], ['less_0', 4, 'credits_paid_to_date', 'car_new', 250, '500_to_1000', 'less_1', 2, 'female', 'none', 2, 'savings_insurance', 32, 'none', 'rent', 1, 'skilled', 2, 'yes', 'yes', 1.0, 1.0, 3.0, 2.0, 0.0, 1.0, 0.0, 0.0, 0.0, 0.0, 0.0, 1.0, 1.0, [1.0, 1.0, 0.0, 2.0, 3.0, 1.0, 0.0, 0.0, 0.0, 1.0, 0.0, 1.0, 0.0, 4.0, 250.0, 2.0, 2.0, 4.0, 32.0, 1.0, 2.0], [18.598535367938666, 1.4014646320613333], [0.9299267683969333, 0.07007323160306667], 0.0, 'No Risk'], ['0_to_200', 15, 'credits_paid_to_date', 'car_new', 250, '500_to_1000', '1_to_4', 2, 'male', 'none', 2, 'real_estate', 31, 'stores', 'own', 1, 'skilled', 1, 'none', 'yes', 2.0, 1.0, 0.0, 2.0, 0.0, 0.0, 1.0, 0.0, 0.0, 0.0, 2.0, 0.0, 0.0, [2.0, 1.0, 0.0, 2.0, 0.0, 0.0, 0.0, 2.0, 1.0, 0.0, 0.0, 0.0, 0.0, 15.0, 250.0, 2.0, 2.0, 15.0, 31.0, 1.0, 1.0], [18.524981575150157, 1.4750184248498404], [0.9262490787575081, 0.07375092124249204], 0.0, 'No Risk'], ['0_to_200', 4, 'all_credits_paid_back', 'car_new', 250, 'less_100', 'unemployed', 2, 'female', 'co-applicant', 2, 'real_estate', 27, 'none', 'own', 1, 'skilled', 1, 'yes', 'yes', 2.0, 3.0, 4.0, 0.0, 0.0, 0.0, 0.0, 0.0, 0.0, 1.0, 2.0, 1.0, 1.0, [2.0, 3.0, 0.0, 0.0, 4.0, 1.0, 1.0, 2.0, 0.0, 0.0, 0.0, 1.0, 0.0, 4.0, 250.0, 2.0, 2.0, 4.0, 27.0, 1.0, 1.0], [19.08079659313471, 0.9192034068652898], [0.9540398296567355, 0.04596017034326449], 0.0, 'No Risk'], ['less_0', 10, 'credits_paid_to_date', 'car_used', 1031, '500_to_1000', '1_to_4', 2, 'male', 'none', 1, 'savings_insurance', 31, 'stores', 'own', 2, 'unskilled', 1, 'none', 'yes', 1.0, 1.0, 0.0, 2.0, 0.0, 0.0, 1.0, 1.0, 2.0, 0.0, 0.0, 0.0, 0.0, [1.0, 1.0, 2.0, 2.0, 0.0, 0.0, 0.0, 0.0, 1.0, 0.0, 1.0, 0.0, 0.0, 10.0, 1031.0, 2.0, 1.0, 10.0, 31.0, 2.0, 1.0], [17.503518102572063, 2.4964818974279366], [0.8751759051286031, 0.12482409487139683], 0.0, 'No Risk'], ['0_to_200', 25, 'credits_paid_to_date', 'furniture', 250, 'less_100', '1_to_4', 2, 'male', 'none', 2, 'real_estate', 24, 'none', 'own', 1, 'skilled', 1, 'none', 'yes', 2.0, 1.0, 0.0, 0.0, 0.0, 0.0, 0.0, 0.0, 1.0, 0.0, 2.0, 0.0, 0.0, [21, [0, 1, 2, 7, 13, 14, 15, 16, 17, 18, 19, 20], [2.0, 1.0, 1.0, 2.0, 25.0, 250.0, 2.0, 2.0, 25.0, 24.0, 1.0, 1.0]], [16.3992584942365, 3.600741505763503], [0.819962924711825, 0.18003707528817514], 0.0, 'No Risk'], ['0_to_200', 30, 'credits_paid_to_date', 'car_used', 3623, '100_to_500', '1_to_4', 3, 'male', 'none', 4, 'real_estate', 27, 'none', 'own', 1, 'skilled', 1, 'yes', 'yes', 2.0, 1.0, 0.0, 1.0, 0.0, 0.0, 0.0, 0.0, 2.0, 0.0, 2.0, 0.0, 1.0, [2.0, 1.0, 2.0, 1.0, 0.0, 0.0, 0.0, 2.0, 0.0, 0.0, 0.0, 1.0, 0.0, 30.0, 3623.0, 3.0, 4.0, 30.0, 27.0, 1.0, 1.0], [14.05698831471878, 5.94301168528122], [0.702849415735939, 0.297150584264061], 0.0, 'No Risk'], ['no_checking', 22, 'prior_payments_delayed', 'radio_tv', 1424, '500_to_1000', '1_to_4', 2, 'male', 'none', 4, 'savings_insurance', 40, 'none', 'own', 2, 'skilled', 2, 'yes', 'yes', 0.0, 0.0, 0.0, 2.0, 0.0, 0.0, 0.0, 0.0, 3.0, 0.0, 0.0, 0.0, 1.0, [21, [2, 3, 11, 13, 14, 15, 16, 17, 18, 19, 20], [3.0, 2.0, 1.0, 22.0, 1424.0, 2.0, 4.0, 22.0, 40.0, 2.0, 2.0]], [12.551629583084685, 7.448370416915314], [0.6275814791542342, 0.3724185208457657], 0.0, 'No Risk'], ['0_to_200', 31, 'credits_paid_to_date', 'appliances', 2418, '100_to_500', 'less_1', 3, 'female', 'none', 2, 'savings_insurance', 48, 'none', 'own', 1, 'skilled', 1, 'yes', 'yes', 2.0, 1.0, 3.0, 1.0, 0.0, 0.0, 0.0, 0.0, 4.0, 0.0, 0.0, 1.0, 1.0, [2.0, 1.0, 4.0, 1.0, 3.0, 1.0, 0.0, 0.0, 0.0, 0.0, 0.0, 1.0, 0.0, 31.0, 2418.0, 3.0, 2.0, 31.0, 48.0, 1.0, 1.0], [12.488708767149486, 7.511291232850514], [0.6244354383574743, 0.3755645616425257], 0.0, 'No Risk'], ['less_0', 14, 'credits_paid_to_date', 'furniture', 561, 'less_100', 'less_1', 2, 'female', 'none', 1, 'savings_insurance', 24, 'none', 'own', 2, 'skilled', 1, 'none', 'yes', 1.0, 1.0, 3.0, 0.0, 0.0, 0.0, 0.0, 0.0, 1.0, 0.0, 0.0, 1.0, 0.0, [1.0, 1.0, 1.0, 0.0, 3.0, 1.0, 0.0, 0.0, 0.0, 0.0, 0.0, 0.0, 0.0, 14.0, 561.0, 2.0, 1.0, 14.0, 24.0, 2.0, 1.0], [17.785343736531583, 2.2146562634684175], [0.8892671868265791, 0.11073281317342087], 0.0, 'No Risk'], ['less_0', 8, 'all_credits_paid_back', 'car_used', 557, 'less_100', 'less_1', 1, 'female', 'none', 1, 'savings_insurance', 39, 'stores', 'rent', 1, 'unskilled', 1, 'none', 'yes', 1.0, 3.0, 3.0, 0.0, 0.0, 1.0, 1.0, 1.0, 2.0, 0.0, 0.0, 1.0, 0.0, [1.0, 3.0, 2.0, 0.0, 3.0, 1.0, 0.0, 0.0, 1.0, 1.0, 1.0, 0.0, 0.0, 8.0, 557.0, 1.0, 1.0, 8.0, 39.0, 1.0, 1.0], [18.36870231444773, 1.6312976855522698], [0.9184351157223866, 0.08156488427761349], 0.0, 'No Risk'], ['0_to_200', 19, 'prior_payments_delayed', 'radio_tv', 3243, 'greater_1000', 'less_1', 3, 'male', 'none', 4, 'car_other', 38, 'none', 'own', 2, 'skilled', 1, 'none', 'yes', 2.0, 0.0, 3.0, 3.0, 0.0, 0.0, 0.0, 0.0, 3.0, 0.0, 1.0, 0.0, 0.0, [2.0, 0.0, 3.0, 3.0, 3.0, 0.0, 0.0, 1.0, 0.0, 0.0, 0.0, 0.0, 0.0, 19.0, 3243.0, 3.0, 4.0, 19.0, 38.0, 2.0, 1.0], [13.812631998003235, 6.1873680019967665], [0.6906315999001618, 0.30936840009983835], 0.0, 'No Risk'], ['no_checking', 17, 'credits_paid_to_date', 'appliances', 3259, 'less_100', 'less_1', 3, 'male', 'none', 3, 'real_estate', 29, 'stores', 'own', 1, 'unskilled', 2, 'yes', 'yes', 0.0, 1.0, 3.0, 0.0, 0.0, 0.0, 1.0, 1.0, 4.0, 0.0, 2.0, 0.0, 1.0, [0.0, 1.0, 4.0, 0.0, 3.0, 0.0, 0.0, 2.0, 1.0, 0.0, 1.0, 1.0, 0.0, 17.0, 3259.0, 3.0, 3.0, 17.0, 29.0, 1.0, 2.0], [18.173536202418777, 1.826463797581223], [0.9086768101209388, 0.09132318987906116], 0.0, 'No Risk'], ['0_to_200', 4, 'all_credits_paid_back', 'car_new', 250, 'less_100', 'unemployed', 2, 'female', 'none', 2, 'real_estate', 19, 'none', 'own', 1, 'skilled', 1, 'none', 'yes', 2.0, 3.0, 4.0, 0.0, 0.0, 0.0, 0.0, 0.0, 0.0, 0.0, 2.0, 1.0, 0.0, [2.0, 3.0, 0.0, 0.0, 4.0, 1.0, 0.0, 2.0, 0.0, 0.0, 0.0, 0.0, 0.0, 4.0, 250.0, 2.0, 2.0, 4.0, 19.0, 1.0, 1.0], [19.66880262102933, 0.33119737897067253], [0.9834401310514664, 0.016559868948533625], 0.0, 'No Risk'], ['0_to_200', 4, 'credits_paid_to_date', 'radio_tv', 3029, 'less_100', '4_to_7', 3, 'female', 'none', 3, 'savings_insurance', 30, 'stores', 'rent', 1, 'unskilled', 1, 'none', 'yes', 2.0, 1.0, 1.0, 0.0, 0.0, 1.0, 1.0, 1.0, 3.0, 0.0, 0.0, 1.0, 0.0, [2.0, 1.0, 3.0, 0.0, 1.0, 1.0, 0.0, 0.0, 1.0, 1.0, 1.0, 0.0, 0.0, 4.0, 3029.0, 3.0, 3.0, 4.0, 30.0, 1.0, 1.0], [16.363706667347095, 3.636293332652906], [0.8181853333673548, 0.18181466663264528], 0.0, 'No Risk'], ['no_checking', 26, 'prior_payments_delayed', 'radio_tv', 6281, '100_to_500', '4_to_7', 4, 'female', 'none', 4, 'car_other', 53, 'none', 'own', 2, 'skilled', 2, 'yes', 'yes', 0.0, 0.0, 1.0, 1.0, 0.0, 0.0, 0.0, 0.0, 3.0, 0.0, 1.0, 1.0, 1.0, [0.0, 0.0, 3.0, 1.0, 1.0, 1.0, 0.0, 1.0, 0.0, 0.0, 0.0, 1.0, 0.0, 26.0, 6281.0, 4.0, 4.0, 26.0, 53.0, 2.0, 2.0], [5.974269798403921, 14.02573020159608], [0.2987134899201961, 0.701286510079804], 1.0, 'Risk'], ['no_checking', 25, 'prior_payments_delayed', 'car_used', 4169, '100_to_500', '1_to_4', 2, 'male', 'none', 3, 'car_other', 41, 'none', 'own', 1, 'skilled', 1, 'yes', 'no', 0.0, 0.0, 0.0, 1.0, 1.0, 0.0, 0.0, 0.0, 2.0, 0.0, 1.0, 0.0, 1.0, [0.0, 0.0, 2.0, 1.0, 0.0, 0.0, 0.0, 1.0, 0.0, 0.0, 0.0, 1.0, 1.0, 25.0, 4169.0, 2.0, 3.0, 25.0, 41.0, 1.0, 1.0], [11.67423411681649, 8.325765883183513], [0.5837117058408244, 0.4162882941591756], 0.0, 'No Risk'], ['less_0', 20, 'credits_paid_to_date', 'car_new', 869, '100_to_500', '1_to_4', 3, 'male', 'none', 1, 'car_other', 26, 'stores', 'own', 1, 'unskilled', 1, 'none', 'yes', 1.0, 1.0, 0.0, 1.0, 0.0, 0.0, 1.0, 1.0, 0.0, 0.0, 1.0, 0.0, 0.0, [1.0, 1.0, 0.0, 1.0, 0.0, 0.0, 0.0, 1.0, 1.0, 0.0, 1.0, 0.0, 0.0, 20.0, 869.0, 3.0, 1.0, 20.0, 26.0, 1.0, 1.0], [16.241021352428998, 3.758978647571004], [0.8120510676214499, 0.1879489323785502], 0.0, 'No Risk'], ['0_to_200', 4, 'all_credits_paid_back', 'car_used', 250, '100_to_500', '1_to_4', 2, 'female', 'none', 3, 'real_estate', 23, 'none', 'rent', 1, 'skilled', 1, 'none', 'yes', 2.0, 3.0, 0.0, 1.0, 0.0, 1.0, 0.0, 0.0, 2.0, 0.0, 2.0, 1.0, 0.0, [2.0, 3.0, 2.0, 1.0, 0.0, 1.0, 0.0, 2.0, 0.0, 1.0, 0.0, 0.0, 0.0, 4.0, 250.0, 2.0, 3.0, 4.0, 23.0, 1.0, 1.0], [18.964881863621226, 1.0351181363787698], [0.9482440931810615, 0.0517559068189385], 0.0, 'No Risk'], ['no_checking', 32, 'prior_payments_delayed', 'furniture', 4318, 'greater_1000', '1_to_4', 4, 'male', 'none', 5, 'savings_insurance', 30, 'none', 'own', 1, 'management_self-employed', 1, 'none', 'yes', 0.0, 0.0, 0.0, 3.0, 0.0, 0.0, 0.0, 2.0, 1.0, 0.0, 0.0, 0.0, 0.0, [21, [2, 3, 10, 13, 14, 15, 16, 17, 18, 19, 20], [1.0, 3.0, 2.0, 32.0, 4318.0, 4.0, 5.0, 32.0, 30.0, 1.0, 1.0]], [13.208309381440875, 6.791690618559124], [0.6604154690720437, 0.3395845309279562], 0.0, 'No Risk'], ['no_checking', 29, 'outstanding_credit', 'furniture', 4697, '500_to_1000', 'less_1', 3, 'male', 'none', 4, 'unknown', 42, 'none', 'own', 1, 'skilled', 2, 'yes', 'yes', 0.0, 2.0, 3.0, 2.0, 0.0, 0.0, 0.0, 0.0, 1.0, 0.0, 3.0, 0.0, 1.0, [0.0, 2.0, 1.0, 2.0, 3.0, 0.0, 0.0, 3.0, 0.0, 0.0, 0.0, 1.0, 0.0, 29.0, 4697.0, 3.0, 4.0, 29.0, 42.0, 1.0, 2.0], [12.055766422249075, 7.944233577750922], [0.6027883211124538, 0.39721167888754616], 0.0, 'No Risk'], ['less_0', 9, 'all_credits_paid_back', 'car_new', 613, 'less_100', '1_to_4', 2, 'male', 'none', 3, 'real_estate', 39, 'none', 'own', 1, 'skilled', 1, 'yes', 'yes', 1.0, 3.0, 0.0, 0.0, 0.0, 0.0, 0.0, 0.0, 0.0, 0.0, 2.0, 0.0, 1.0, [21, [0, 1, 7, 11, 13, 14, 15, 16, 17, 18, 19, 20], [1.0, 3.0, 2.0, 1.0, 9.0, 613.0, 2.0, 3.0, 9.0, 39.0, 1.0, 1.0]], [17.774881495496164, 2.225118504503838], [0.8887440747748082, 0.1112559252251919], 0.0, 'No Risk'], ['0_to_200', 7, 'prior_payments_delayed', 'car_new', 5007, 'less_100', '1_to_4', 2, 'female', 'none', 2, 'car_other', 23, 'none', 'own', 1, 'skilled', 1, 'none', 'yes', 2.0, 0.0, 0.0, 0.0, 0.0, 0.0, 0.0, 0.0, 0.0, 0.0, 1.0, 1.0, 0.0, [21, [0, 5, 7, 13, 14, 15, 16, 17, 18, 19, 20], [2.0, 1.0, 1.0, 7.0, 5007.0, 2.0, 2.0, 7.0, 23.0, 1.0, 1.0]], [17.512448261027878, 2.4875517389721233], [0.8756224130513939, 0.12437758694860616], 0.0, 'No Risk'], ['no_checking', 21, 'credits_paid_to_date', 'furniture', 2325, '100_to_500', '1_to_4', 2, 'female', 'none', 2, 'real_estate', 36, 'none', 'rent', 1, 'skilled', 1, 'none', 'yes', 0.0, 1.0, 0.0, 1.0, 0.0, 1.0, 0.0, 0.0, 1.0, 0.0, 2.0, 1.0, 0.0, [0.0, 1.0, 1.0, 1.0, 0.0, 1.0, 0.0, 2.0, 0.0, 1.0, 0.0, 0.0, 0.0, 21.0, 2325.0, 2.0, 2.0, 21.0, 36.0, 1.0, 1.0], [16.692190339918394, 3.3078096600816043], [0.8346095169959197, 0.1653904830040802], 0.0, 'No Risk'], ['less_0', 17, 'credits_paid_to_date', 'furniture', 2387, 'less_100', 'less_1', 3, 'male', 'none', 3, 'car_other', 26, 'bank', 'own', 2, 'unskilled', 1, 'none', 'yes', 1.0, 1.0, 3.0, 0.0, 0.0, 0.0, 2.0, 1.0, 1.0, 0.0, 1.0, 0.0, 0.0, [1.0, 1.0, 1.0, 0.0, 3.0, 0.0, 0.0, 1.0, 2.0, 0.0, 1.0, 0.0, 0.0, 17.0, 2387.0, 3.0, 3.0, 17.0, 26.0, 2.0, 1.0], [16.50358894020882, 3.49641105979118], [0.8251794470104411, 0.174820552989559], 0.0, 'No Risk'], ['0_to_200', 4, 'no_credits', 'repairs', 250, 'less_100', 'less_1', 1, 'female', 'none', 2, 'real_estate', 19, 'none', 'own', 1, 'skilled', 1, 'none', 'yes', 2.0, 4.0, 3.0, 0.0, 0.0, 0.0, 0.0, 0.0, 5.0, 0.0, 2.0, 1.0, 0.0, [2.0, 4.0, 5.0, 0.0, 3.0, 1.0, 0.0, 2.0, 0.0, 0.0, 0.0, 0.0, 0.0, 4.0, 250.0, 1.0, 2.0, 4.0, 19.0, 1.0, 1.0], [19.664612189182048, 0.3353878108179546], [0.9832306094591022, 0.016769390540897728], 0.0, 'No Risk'], ['less_0', 16, 'prior_payments_delayed', 'furniture', 2467, '500_to_1000', '4_to_7', 3, 'male', 'none', 1, 'car_other', 26, 'none', 'own', 2, 'skilled', 1, 'yes', 'yes', 1.0, 0.0, 1.0, 2.0, 0.0, 0.0, 0.0, 0.0, 1.0, 0.0, 1.0, 0.0, 1.0, [1.0, 0.0, 1.0, 2.0, 1.0, 0.0, 0.0, 1.0, 0.0, 0.0, 0.0, 1.0, 0.0, 16.0, 2467.0, 3.0, 1.0, 16.0, 26.0, 2.0, 1.0], [15.881158269149452, 4.118841730850548], [0.7940579134574726, 0.20594208654252738], 0.0, 'No Risk'], ['0_to_200', 14, 'prior_payments_delayed', 'car_new', 5459, 'less_100', '4_to_7', 3, 'male', 'none', 2, 'unknown', 38, 'none', 'own', 2, 'skilled', 2, 'yes', 'yes', 2.0, 0.0, 1.0, 0.0, 0.0, 0.0, 0.0, 0.0, 0.0, 0.0, 3.0, 0.0, 1.0, [21, [0, 4, 7, 11, 13, 14, 15, 16, 17, 18, 19, 20], [2.0, 1.0, 3.0, 1.0, 14.0, 5459.0, 3.0, 2.0, 14.0, 38.0, 2.0, 2.0]], [13.409809997737922, 6.590190002262079], [0.6704904998868961, 0.329509500113104], 0.0, 'No Risk'], ['0_to_200', 10, 'prior_payments_delayed', 'furniture', 5902, 'less_100', '4_to_7', 4, 'female', 'none', 2, 'unknown', 36, 'none', 'own', 2, 'skilled', 1, 'yes', 'yes', 2.0, 0.0, 1.0, 0.0, 0.0, 0.0, 0.0, 0.0, 1.0, 0.0, 3.0, 1.0, 1.0, [2.0, 0.0, 1.0, 0.0, 1.0, 1.0, 0.0, 3.0, 0.0, 0.0, 0.0, 1.0, 0.0, 10.0, 5902.0, 4.0, 2.0, 10.0, 36.0, 2.0, 1.0], [13.271613255635689, 6.728386744364313], [0.6635806627817844, 0.33641933721821565], 0.0, 'No Risk'], ['less_0', 27, 'credits_paid_to_date', 'car_used', 250, 'less_100', '4_to_7', 3, 'male', 'co-applicant', 3, 'savings_insurance', 28, 'stores', 'own', 2, 'skilled', 1, 'yes', 'yes', 1.0, 1.0, 1.0, 0.0, 0.0, 0.0, 1.0, 0.0, 2.0, 1.0, 0.0, 0.0, 1.0, [1.0, 1.0, 2.0, 0.0, 1.0, 0.0, 1.0, 0.0, 1.0, 0.0, 0.0, 1.0, 0.0, 27.0, 250.0, 3.0, 3.0, 27.0, 28.0, 2.0, 1.0], [13.615972680496037, 6.384027319503964], [0.6807986340248019, 0.3192013659751982], 0.0, 'No Risk'], ['no_checking', 37, 'prior_payments_delayed', 'furniture', 7111, '500_to_1000', '1_to_4', 4, 'male', 'none', 5, 'car_other', 55, 'none', 'own', 3, 'management_self-employed', 2, 'yes', 'yes', 0.0, 0.0, 0.0, 2.0, 0.0, 0.0, 0.0, 2.0, 1.0, 0.0, 1.0, 0.0, 1.0, [0.0, 0.0, 1.0, 2.0, 0.0, 0.0, 0.0, 1.0, 0.0, 0.0, 2.0, 1.0, 0.0, 37.0, 7111.0, 4.0, 5.0, 37.0, 55.0, 3.0, 2.0], [7.929610844435126, 12.070389155564875], [0.39648054222175627, 0.6035194577782438], 1.0, 'Risk'], ['0_to_200', 24, 'credits_paid_to_date', 'radio_tv', 1328, 'less_100', '1_to_4', 3, 'male', 'none', 2, 'car_other', 21, 'none', 'own', 1, 'skilled', 1, 'yes', 'yes', 2.0, 1.0, 0.0, 0.0, 0.0, 0.0, 0.0, 0.0, 3.0, 0.0, 1.0, 0.0, 1.0, [2.0, 1.0, 3.0, 0.0, 0.0, 0.0, 0.0, 1.0, 0.0, 0.0, 0.0, 1.0, 0.0, 24.0, 1328.0, 3.0, 2.0, 24.0, 21.0, 1.0, 1.0], [14.84625798266016, 5.153742017339842], [0.7423128991330079, 0.25768710086699204], 0.0, 'No Risk'], ['no_checking', 27, 'prior_payments_delayed', 'business', 2927, 'unknown', '4_to_7', 4, 'male', 'none', 3, 'real_estate', 31, 'none', 'rent', 1, 'skilled', 1, 'none', 'yes', 0.0, 0.0, 1.0, 4.0, 0.0, 1.0, 0.0, 0.0, 9.0, 0.0, 2.0, 0.0, 0.0, [0.0, 0.0, 9.0, 4.0, 1.0, 0.0, 0.0, 2.0, 0.0, 1.0, 0.0, 0.0, 0.0, 27.0, 2927.0, 4.0, 3.0, 27.0, 31.0, 1.0, 1.0], [13.656682151830386, 6.343317848169616], [0.6828341075915192, 0.31716589240848075], 0.0, 'No Risk'], ['0_to_200', 4, 'no_credits', 'education', 853, 'less_100', 'less_1', 1, 'female', 'none', 1, 'savings_insurance', 22, 'none', 'rent', 1, 'skilled', 1, 'none', 'yes', 2.0, 4.0, 3.0, 0.0, 0.0, 1.0, 0.0, 0.0, 7.0, 0.0, 0.0, 1.0, 0.0, [2.0, 4.0, 7.0, 0.0, 3.0, 1.0, 0.0, 0.0, 0.0, 1.0, 0.0, 0.0, 0.0, 4.0, 853.0, 1.0, 1.0, 4.0, 22.0, 1.0, 1.0], [19.228267030092773, 0.7717329699072276], [0.9614133515046387, 0.03858664849536138], 0.0, 'No Risk'], ['greater_200', 13, 'credits_paid_to_date', 'vacation', 6129, 'less_100', 'unemployed', 3, 'female', 'none', 3, 'car_other', 29, 'stores', 'rent', 1, 'unskilled', 2, 'none', 'yes', 3.0, 1.0, 4.0, 0.0, 0.0, 1.0, 1.0, 1.0, 6.0, 0.0, 1.0, 1.0, 0.0, [3.0, 1.0, 6.0, 0.0, 4.0, 1.0, 0.0, 1.0, 1.0, 1.0, 1.0, 0.0, 0.0, 13.0, 6129.0, 3.0, 3.0, 13.0, 29.0, 1.0, 2.0], [17.433489138065834, 2.5665108619341654], [0.8716744569032917, 0.12832554309670827], 0.0, 'No Risk'], ['less_0', 21, 'prior_payments_delayed', 'radio_tv', 3235, 'greater_1000', '4_to_7', 4, 'male', 'none', 2, 'car_other', 33, 'bank', 'own', 2, 'unemployed', 2, 'yes', 'yes', 1.0, 0.0, 1.0, 3.0, 0.0, 0.0, 2.0, 3.0, 3.0, 0.0, 1.0, 0.0, 1.0, [1.0, 0.0, 3.0, 3.0, 1.0, 0.0, 0.0, 1.0, 2.0, 0.0, 3.0, 1.0, 0.0, 21.0, 3235.0, 4.0, 2.0, 21.0, 33.0, 2.0, 2.0], [13.383165124314024, 6.616834875685976], [0.6691582562157012, 0.3308417437842988], 0.0, 'No Risk'], ['less_0', 12, 'prior_payments_delayed', 'car_used', 1567, 'less_100', '4_to_7', 3, 'female', 'none', 3, 'car_other', 36, 'stores', 'own', 1, 'unskilled', 1, 'yes', 'yes', 1.0, 0.0, 1.0, 0.0, 0.0, 0.0, 1.0, 1.0, 2.0, 0.0, 1.0, 1.0, 1.0, [1.0, 0.0, 2.0, 0.0, 1.0, 1.0, 0.0, 1.0, 1.0, 0.0, 1.0, 1.0, 0.0, 12.0, 1567.0, 3.0, 3.0, 12.0, 36.0, 1.0, 1.0], [15.053213375227397, 4.946786624772602], [0.7526606687613698, 0.2473393312386301], 0.0, 'No Risk'], ['less_0', 4, 'all_credits_paid_back', 'car_new', 250, 'less_100', 'less_1', 1, 'female', 'none', 2, 'savings_insurance', 32, 'none', 'rent', 1, 'skilled', 1, 'yes', 'yes', 1.0, 3.0, 3.0, 0.0, 0.0, 1.0, 0.0, 0.0, 0.0, 0.0, 0.0, 1.0, 1.0, [1.0, 3.0, 0.0, 0.0, 3.0, 1.0, 0.0, 0.0, 0.0, 1.0, 0.0, 1.0, 0.0, 4.0, 250.0, 1.0, 2.0, 4.0, 32.0, 1.0, 1.0], [19.165124971624593, 0.8348750283754058], [0.9582562485812296, 0.04174375141877029], 0.0, 'No Risk'], ['less_0', 11, 'prior_payments_delayed', 'furniture', 2404, '500_to_1000', '4_to_7', 2, 'female', 'none', 3, 'savings_insurance', 31, 'stores', 'own', 1, 'skilled', 2, 'yes', 'yes', 1.0, 0.0, 1.0, 2.0, 0.0, 0.0, 1.0, 0.0, 1.0, 0.0, 0.0, 1.0, 1.0, [1.0, 0.0, 1.0, 2.0, 1.0, 1.0, 0.0, 0.0, 1.0, 0.0, 0.0, 1.0, 0.0, 11.0, 2404.0, 2.0, 3.0, 11.0, 31.0, 1.0, 2.0], [15.23633043843969, 4.7636695615603095], [0.7618165219219846, 0.2381834780780155], 0.0, 'No Risk'], ['no_checking', 25, 'prior_payments_delayed', 'radio_tv', 2215, 'unknown', '4_to_7', 4, 'male', 'none', 4, 'car_other', 34, 'none', 'rent', 2, 'skilled', 1, 'none', 'yes', 0.0, 0.0, 1.0, 4.0, 0.0, 1.0, 0.0, 0.0, 3.0, 0.0, 1.0, 0.0, 0.0, [0.0, 0.0, 3.0, 4.0, 1.0, 0.0, 0.0, 1.0, 0.0, 1.0, 0.0, 0.0, 0.0, 25.0, 2215.0, 4.0, 4.0, 25.0, 34.0, 2.0, 1.0], [9.853369774070263, 10.146630225929739], [0.49266848870351315, 0.5073315112964869], 1.0, 'Risk'], ['greater_200', 34, 'prior_payments_delayed', 'radio_tv', 4601, '100_to_500', 'less_1', 4, 'female', 'none', 3, 'savings_insurance', 37, 'none', 'own', 1, 'skilled', 1, 'yes', 'yes', 3.0, 0.0, 3.0, 1.0, 0.0, 0.0, 0.0, 0.0, 3.0, 0.0, 0.0, 1.0, 1.0, [3.0, 0.0, 3.0, 1.0, 3.0, 1.0, 0.0, 0.0, 0.0, 0.0, 0.0, 1.0, 0.0, 34.0, 4601.0, 4.0, 3.0, 34.0, 37.0, 1.0, 1.0], [11.364191439451723, 8.635808560548277], [0.5682095719725861, 0.43179042802741385], 0.0, 'No Risk'], ['no_checking', 8, 'credits_paid_to_date', 'car_new', 537, 'less_100', 'less_1', 3, 'male', 'none', 3, 'savings_insurance', 37, 'none', 'own', 1, 'skilled', 1, 'none', 'yes', 0.0, 1.0, 3.0, 0.0, 0.0, 0.0, 0.0, 0.0, 0.0, 0.0, 0.0, 0.0, 0.0, [21, [1, 4, 13, 14, 15, 16, 17, 18, 19, 20], [1.0, 3.0, 8.0, 537.0, 3.0, 3.0, 8.0, 37.0, 1.0, 1.0]], [16.93548652459168, 3.06451347540832], [0.846774326229584, 0.15322567377041602], 0.0, 'No Risk'], ['0_to_200', 20, 'no_credits', 'furniture', 1263, '500_to_1000', '4_to_7', 2, 'female', 'none', 2, 'real_estate', 38, 'stores', 'own', 1, 'skilled', 1, 'none', 'yes', 2.0, 4.0, 1.0, 2.0, 0.0, 0.0, 1.0, 0.0, 1.0, 0.0, 2.0, 1.0, 0.0, [2.0, 4.0, 1.0, 2.0, 1.0, 1.0, 0.0, 2.0, 1.0, 0.0, 0.0, 0.0, 0.0, 20.0, 1263.0, 2.0, 2.0, 20.0, 38.0, 1.0, 1.0], [17.83119608797945, 2.1688039120205524], [0.8915598043989723, 0.1084401956010276], 0.0, 'No Risk'], ['no_checking', 44, 'outstanding_credit', 'radio_tv', 6771, 'unknown', 'greater_7', 6, 'female', 'co-applicant', 6, 'car_other', 46, 'none', 'free', 3, 'skilled', 2, 'yes', 'yes', 0.0, 2.0, 2.0, 4.0, 0.0, 2.0, 0.0, 0.0, 3.0, 1.0, 1.0, 1.0, 1.0, [0.0, 2.0, 3.0, 4.0, 2.0, 1.0, 1.0, 1.0, 0.0, 2.0, 0.0, 1.0, 0.0, 44.0, 6771.0, 6.0, 6.0, 44.0, 46.0, 3.0, 2.0], [2.054109707928279, 17.945890292071724], [0.10270548539641393, 0.897294514603586], 1.0, 'Risk'], ['0_to_200', 8, 'prior_payments_delayed', 'car_used', 250, 'greater_1000', 'greater_7', 2, 'male', 'none', 3, 'car_other', 38, 'stores', 'own', 2, 'skilled', 1, 'none', 'yes', 2.0, 0.0, 2.0, 3.0, 0.0, 0.0, 1.0, 0.0, 2.0, 0.0, 1.0, 0.0, 0.0, [2.0, 0.0, 2.0, 3.0, 2.0, 0.0, 0.0, 1.0, 1.0, 0.0, 0.0, 0.0, 0.0, 8.0, 250.0, 2.0, 3.0, 8.0, 38.0, 2.0, 1.0], [15.187101947533893, 4.812898052466109], [0.7593550973766945, 0.24064490262330543], 0.0, 'No Risk'], ['less_0', 10, 'all_credits_paid_back', 'car_new', 250, 'less_100', '1_to_4', 2, 'female', 'none', 2, 'real_estate', 26, 'stores', 'rent', 1, 'skilled', 1, 'none', 'yes', 1.0, 3.0, 0.0, 0.0, 0.0, 1.0, 1.0, 0.0, 0.0, 0.0, 2.0, 1.0, 0.0, [1.0, 3.0, 0.0, 0.0, 0.0, 1.0, 0.0, 2.0, 1.0, 1.0, 0.0, 0.0, 0.0, 10.0, 250.0, 2.0, 2.0, 10.0, 26.0, 1.0, 1.0], [19.395184225112434, 0.6048157748875661], [0.9697592112556217, 0.030240788744378307], 0.0, 'No Risk'], ['0_to_200', 14, 'credits_paid_to_date', 'car_new', 2607, 'less_100', '4_to_7', 3, 'female', 'none', 1, 'savings_insurance', 32, 'none', 'free', 2, 'skilled', 1, 'none', 'yes', 2.0, 1.0, 1.0, 0.0, 0.0, 2.0, 0.0, 0.0, 0.0, 0.0, 0.0, 1.0, 0.0, [2.0, 1.0, 0.0, 0.0, 1.0, 1.0, 0.0, 0.0, 0.0, 2.0, 0.0, 0.0, 0.0, 14.0, 2607.0, 3.0, 1.0, 14.0, 32.0, 2.0, 1.0], [15.61313567355713, 4.386864326442869], [0.7806567836778565, 0.21934321632214346], 0.0, 'No Risk'], ['no_checking', 17, 'credits_paid_to_date', 'car_used', 2800, '100_to_500', '4_to_7', 2, 'female', 'none', 2, 'real_estate', 36, 'none', 'own', 1, 'skilled', 1, 'none', 'yes', 0.0, 1.0, 1.0, 1.0, 0.0, 0.0, 0.0, 0.0, 2.0, 0.0, 2.0, 1.0, 0.0, [0.0, 1.0, 2.0, 1.0, 1.0, 1.0, 0.0, 2.0, 0.0, 0.0, 0.0, 0.0, 0.0, 17.0, 2800.0, 2.0, 2.0, 17.0, 36.0, 1.0, 1.0], [17.49471446942308, 2.5052855305769217], [0.874735723471154, 0.12526427652884609], 0.0, 'No Risk'], ['no_checking', 41, 'outstanding_credit', 'retraining', 4728, 'unknown', 'greater_7', 4, 'male', 'co-applicant', 4, 'unknown', 39, 'none', 'own', 1, 'unskilled', 1, 'yes', 'yes', 0.0, 2.0, 2.0, 4.0, 0.0, 0.0, 0.0, 1.0, 8.0, 1.0, 3.0, 0.0, 1.0, [0.0, 2.0, 8.0, 4.0, 2.0, 0.0, 1.0, 3.0, 0.0, 0.0, 1.0, 1.0, 0.0, 41.0, 4728.0, 4.0, 4.0, 41.0, 39.0, 1.0, 1.0], [6.436938429966294, 13.563061570033705], [0.32184692149831473, 0.6781530785016853], 1.0, 'Risk'], ['greater_200', 27, 'outstanding_credit', 'car_used', 5141, '500_to_1000', '1_to_4', 3, 'male', 'none', 4, 'car_other', 50, 'none', 'own', 1, 'skilled', 1, 'none', 'yes', 3.0, 2.0, 0.0, 2.0, 0.0, 0.0, 0.0, 0.0, 2.0, 0.0, 1.0, 0.0, 0.0, [3.0, 2.0, 2.0, 2.0, 0.0, 0.0, 0.0, 1.0, 0.0, 0.0, 0.0, 0.0, 0.0, 27.0, 5141.0, 3.0, 4.0, 27.0, 50.0, 1.0, 1.0], [13.425134865503605, 6.574865134496395], [0.6712567432751803, 0.32874325672481974], 0.0, 'No Risk'], ['no_checking', 34, 'prior_payments_delayed', 'furniture', 2088, '500_to_1000', 'less_1', 3, 'male', 'none', 4, 'savings_insurance', 34, 'none', 'rent', 1, 'skilled', 1, 'yes', 'yes', 0.0, 0.0, 3.0, 2.0, 0.0, 1.0, 0.0, 0.0, 1.0, 0.0, 0.0, 0.0, 1.0, [0.0, 0.0, 1.0, 2.0, 3.0, 0.0, 0.0, 0.0, 0.0, 1.0, 0.0, 1.0, 0.0, 34.0, 2088.0, 3.0, 4.0, 34.0, 34.0, 1.0, 1.0], [12.25933829204571, 7.740661707954286], [0.6129669146022856, 0.38703308539771436], 0.0, 'No Risk'], ['0_to_200', 4, 'all_credits_paid_back', 'car_new', 250, '500_to_1000', 'less_1', 2, 'female', 'none', 3, 'real_estate', 19, 'bank', 'rent', 1, 'unskilled', 1, 'none', 'yes', 2.0, 3.0, 3.0, 2.0, 0.0, 1.0, 2.0, 1.0, 0.0, 0.0, 2.0, 1.0, 0.0, [2.0, 3.0, 0.0, 2.0, 3.0, 1.0, 0.0, 2.0, 2.0, 1.0, 1.0, 0.0, 0.0, 4.0, 250.0, 2.0, 3.0, 4.0, 19.0, 1.0, 1.0], [19.573869412337338, 0.4261305876626602], [0.9786934706168671, 0.021306529383133013], 0.0, 'No Risk'], ['0_to_200', 19, 'credits_paid_to_date', 'appliances', 2301, '100_to_500', '1_to_4', 3, 'male', 'none', 2, 'savings_insurance', 31, 'none', 'rent', 1, 'skilled', 1, 'none', 'yes', 2.0, 1.0, 0.0, 1.0, 0.0, 1.0, 0.0, 0.0, 4.0, 0.0, 0.0, 0.0, 0.0, [2.0, 1.0, 4.0, 1.0, 0.0, 0.0, 0.0, 0.0, 0.0, 1.0, 0.0, 0.0, 0.0, 19.0, 2301.0, 3.0, 2.0, 19.0, 31.0, 1.0, 1.0], [16.21916739798519, 3.7808326020148106], [0.8109583698992594, 0.18904163010074054], 0.0, 'No Risk'], ['less_0', 5, 'credits_paid_to_date', 'car_used', 2135, 'less_100', 'unemployed', 2, 'female', 'none', 2, 'savings_insurance', 29, 'none', 'own', 1, 'skilled', 1, 'none', 'yes', 1.0, 1.0, 4.0, 0.0, 0.0, 0.0, 0.0, 0.0, 2.0, 0.0, 0.0, 1.0, 0.0, [1.0, 1.0, 2.0, 0.0, 4.0, 1.0, 0.0, 0.0, 0.0, 0.0, 0.0, 0.0, 0.0, 5.0, 2135.0, 2.0, 2.0, 5.0, 29.0, 1.0, 1.0], [18.86925693385444, 1.1307430661455624], [0.9434628466927218, 0.05653715330727811], 0.0, 'No Risk'], ['no_checking', 36, 'outstanding_credit', 'radio_tv', 9147, 'unknown', 'greater_7', 5, 'male', 'co-applicant', 4, 'unknown', 63, 'none', 'free', 2, 'skilled', 2, 'yes', 'yes', 0.0, 2.0, 2.0, 4.0, 0.0, 2.0, 0.0, 0.0, 3.0, 1.0, 3.0, 0.0, 1.0, [0.0, 2.0, 3.0, 4.0, 2.0, 0.0, 1.0, 3.0, 0.0, 2.0, 0.0, 1.0, 0.0, 36.0, 9147.0, 5.0, 4.0, 36.0, 63.0, 2.0, 2.0], [1.6336724828548739, 18.36632751714513], [0.08168362414274367, 0.9183163758572563], 1.0, 'Risk'], ['0_to_200', 16, 'credits_paid_to_date', 'car_new', 250, 'less_100', 'less_1', 1, 'female', 'none', 1, 'savings_insurance', 24, 'stores', 'own', 1, 'skilled', 1, 'none', 'yes', 2.0, 1.0, 3.0, 0.0, 0.0, 0.0, 1.0, 0.0, 0.0, 0.0, 0.0, 1.0, 0.0, [2.0, 1.0, 0.0, 0.0, 3.0, 1.0, 0.0, 0.0, 1.0, 0.0, 0.0, 0.0, 0.0, 16.0, 250.0, 1.0, 1.0, 16.0, 24.0, 1.0, 1.0], [18.849352441768136, 1.1506475582318667], [0.9424676220884066, 0.057532377911593324], 0.0, 'No Risk'], ['no_checking', 42, 'prior_payments_delayed', 'radio_tv', 5349, 'greater_1000', '4_to_7', 5, 'male', 'none', 3, 'car_other', 43, 'none', 'own', 2, 'skilled', 1, 'none', 'no', 0.0, 0.0, 1.0, 3.0, 1.0, 0.0, 0.0, 0.0, 3.0, 0.0, 1.0, 0.0, 0.0, [0.0, 0.0, 3.0, 3.0, 1.0, 0.0, 0.0, 1.0, 0.0, 0.0, 0.0, 0.0, 1.0, 42.0, 5349.0, 5.0, 3.0, 42.0, 43.0, 2.0, 1.0], [9.656983897554184, 10.343016102445816], [0.4828491948777092, 0.5171508051222908], 1.0, 'Risk'], ['0_to_200', 17, 'credits_paid_to_date', 'car_used', 1555, '100_to_500', '1_to_4', 3, 'male', 'none', 2, 'savings_insurance', 33, 'bank', 'rent', 2, 'unskilled', 1, 'none', 'yes', 2.0, 1.0, 0.0, 1.0, 0.0, 1.0, 2.0, 1.0, 2.0, 0.0, 0.0, 0.0, 0.0, [2.0, 1.0, 2.0, 1.0, 0.0, 0.0, 0.0, 0.0, 2.0, 1.0, 1.0, 0.0, 0.0, 17.0, 1555.0, 3.0, 2.0, 17.0, 33.0, 2.0, 1.0], [15.976566038937847, 4.023433961062152], [0.7988283019468924, 0.2011716980531076], 0.0, 'No Risk'], ['no_checking', 30, 'outstanding_credit', 'vacation', 6743, '500_to_1000', '4_to_7', 5, 'male', 'none', 4, 'unknown', 43, 'none', 'own', 2, 'management_self-employed', 1, 'yes', 'yes', 0.0, 2.0, 1.0, 2.0, 0.0, 0.0, 0.0, 2.0, 6.0, 0.0, 3.0, 0.0, 1.0, [0.0, 2.0, 6.0, 2.0, 1.0, 0.0, 0.0, 3.0, 0.0, 0.0, 2.0, 1.0, 0.0, 30.0, 6743.0, 5.0, 4.0, 30.0, 43.0, 2.0, 1.0], [8.836130900191918, 11.163869099808084], [0.44180654500959593, 0.5581934549904042], 1.0, 'Risk'], ['less_0', 13, 'prior_payments_delayed', 'car_used', 4760, 'less_100', '1_to_4', 3, 'female', 'none', 3, 'car_other', 27, 'none', 'own', 2, 'skilled', 1, 'none', 'yes', 1.0, 0.0, 0.0, 0.0, 0.0, 0.0, 0.0, 0.0, 2.0, 0.0, 1.0, 1.0, 0.0, [21, [0, 2, 5, 7, 13, 14, 15, 16, 17, 18, 19, 20], [1.0, 2.0, 1.0, 1.0, 13.0, 4760.0, 3.0, 3.0, 13.0, 27.0, 2.0, 1.0]], [15.445032628328384, 4.554967371671619], [0.7722516314164191, 0.2277483685835809], 0.0, 'No Risk'], ['less_0', 5, 'prior_payments_delayed', 'car_new', 250, 'less_100', 'less_1', 1, 'female', 'none', 2, 'real_estate', 25, 'bank', 'rent', 1, 'unskilled', 1, 'none', 'yes', 1.0, 0.0, 3.0, 0.0, 0.0, 1.0, 2.0, 1.0, 0.0, 0.0, 2.0, 1.0, 0.0, [1.0, 0.0, 0.0, 0.0, 3.0, 1.0, 0.0, 2.0, 2.0, 1.0, 1.0, 0.0, 0.0, 5.0, 250.0, 1.0, 2.0, 5.0, 25.0, 1.0, 1.0], [19.253530078691867, 0.7464699213081313], [0.9626765039345935, 0.037323496065406574], 0.0, 'No Risk'], ['0_to_200', 19, 'credits_paid_to_date', 'furniture', 4235, 'less_100', '1_to_4', 3, 'male', 'none', 2, 'real_estate', 39, 'none', 'own', 1, 'management_self-employed', 1, 'yes', 'yes', 2.0, 1.0, 0.0, 0.0, 0.0, 0.0, 0.0, 2.0, 1.0, 0.0, 2.0, 0.0, 1.0, [2.0, 1.0, 1.0, 0.0, 0.0, 0.0, 0.0, 2.0, 0.0, 0.0, 2.0, 1.0, 0.0, 19.0, 4235.0, 3.0, 2.0, 19.0, 39.0, 1.0, 1.0], [16.899175612473943, 3.100824387526057], [0.8449587806236971, 0.15504121937630283], 0.0, 'No Risk'], ['greater_200', 29, 'prior_payments_delayed', 'education', 5048, '100_to_500', '1_to_4', 2, 'male', 'none', 2, 'unknown', 37, 'none', 'own', 1, 'skilled', 1, 'yes', 'yes', 3.0, 0.0, 0.0, 1.0, 0.0, 0.0, 0.0, 0.0, 7.0, 0.0, 3.0, 0.0, 1.0, [3.0, 0.0, 7.0, 1.0, 0.0, 0.0, 0.0, 3.0, 0.0, 0.0, 0.0, 1.0, 0.0, 29.0, 5048.0, 2.0, 2.0, 29.0, 37.0, 1.0, 1.0], [12.866429871657887, 7.133570128342114], [0.6433214935828944, 0.3566785064171057], 0.0, 'No Risk'], ['no_checking', 31, 'prior_payments_delayed', 'car_used', 4722, 'unknown', 'greater_7', 5, 'male', 'none', 3, 'car_other', 56, 'none', 'free', 3, 'skilled', 2, 'yes', 'yes', 0.0, 0.0, 2.0, 4.0, 0.0, 2.0, 0.0, 0.0, 2.0, 0.0, 1.0, 0.0, 1.0, [0.0, 0.0, 2.0, 4.0, 2.0, 0.0, 0.0, 1.0, 0.0, 2.0, 0.0, 1.0, 0.0, 31.0, 4722.0, 5.0, 3.0, 31.0, 56.0, 3.0, 2.0], [4.039091802694053, 15.960908197305944], [0.2019545901347027, 0.7980454098652974], 1.0, 'Risk'], ['0_to_200', 26, 'outstanding_credit', 'car_used', 3200, 'unknown', '1_to_4', 2, 'male', 'none', 2, 'savings_insurance', 33, 'stores', 'own', 1, 'skilled', 1, 'none', 'yes', 2.0, 2.0, 0.0, 4.0, 0.0, 0.0, 1.0, 0.0, 2.0, 0.0, 0.0, 0.0, 0.0, [2.0, 2.0, 2.0, 4.0, 0.0, 0.0, 0.0, 0.0, 1.0, 0.0, 0.0, 0.0, 0.0, 26.0, 3200.0, 2.0, 2.0, 26.0, 33.0, 1.0, 1.0], [15.358294878282768, 4.641705121717232], [0.7679147439141384, 0.23208525608586159], 0.0, 'No Risk'], ['0_to_200', 21, 'outstanding_credit', 'radio_tv', 4722, '100_to_500', 'greater_7', 4, 'male', 'none', 4, 'unknown', 48, 'none', 'own', 2, 'skilled', 1, 'yes', 'yes', 2.0, 2.0, 2.0, 1.0, 0.0, 0.0, 0.0, 0.0, 3.0, 0.0, 3.0, 0.0, 1.0, [2.0, 2.0, 3.0, 1.0, 2.0, 0.0, 0.0, 3.0, 0.0, 0.0, 0.0, 1.0, 0.0, 21.0, 4722.0, 4.0, 4.0, 21.0, 48.0, 2.0, 1.0], [10.267097881987205, 9.732902118012795], [0.5133548940993602, 0.48664510590063975], 0.0, 'No Risk'], ['0_to_200', 18, 'credits_paid_to_date', 'car_new', 1715, 'less_100', '1_to_4', 2, 'male', 'none', 3, 'savings_insurance', 28, 'stores', 'own', 2, 'unskilled', 1, 'none', 'yes', 2.0, 1.0, 0.0, 0.0, 0.0, 0.0, 1.0, 1.0, 0.0, 0.0, 0.0, 0.0, 0.0, [21, [0, 1, 8, 10, 13, 14, 15, 16, 17, 18, 19, 20], [2.0, 1.0, 1.0, 1.0, 18.0, 1715.0, 2.0, 3.0, 18.0, 28.0, 2.0, 1.0]], [14.69825872957072, 5.301741270429282], [0.734912936478536, 0.2650870635214641], 0.0, 'No Risk'], ['0_to_200', 4, 'prior_payments_delayed', 'car_new', 250, 'less_100', 'less_1', 2, 'female', 'none', 2, 'real_estate', 36, 'none', 'own', 1, 'management_self-employed', 1, 'none', 'yes', 2.0, 0.0, 3.0, 0.0, 0.0, 0.0, 0.0, 2.0, 0.0, 0.0, 2.0, 1.0, 0.0, [2.0, 0.0, 0.0, 0.0, 3.0, 1.0, 0.0, 2.0, 0.0, 0.0, 2.0, 0.0, 0.0, 4.0, 250.0, 2.0, 2.0, 4.0, 36.0, 1.0, 1.0], [18.09234642994069, 1.9076535700593102], [0.9046173214970346, 0.09538267850296551], 0.0, 'No Risk'], ['less_0', 4, 'credits_paid_to_date', 'car_new', 250, 'less_100', 'less_1', 2, 'female', 'none', 1, 'savings_insurance', 30, 'none', 'rent', 1, 'skilled', 1, 'yes', 'yes', 1.0, 1.0, 3.0, 0.0, 0.0, 1.0, 0.0, 0.0, 0.0, 0.0, 0.0, 1.0, 1.0, [1.0, 1.0, 0.0, 0.0, 3.0, 1.0, 0.0, 0.0, 0.0, 1.0, 0.0, 1.0, 0.0, 4.0, 250.0, 2.0, 1.0, 4.0, 30.0, 1.0, 1.0], [18.955598075007178, 1.0444019249928234], [0.9477799037503589, 0.05222009624964117], 0.0, 'No Risk'], ['no_checking', 31, 'prior_payments_delayed', 'appliances', 4533, '100_to_500', 'greater_7', 5, 'male', 'guarantor', 3, 'savings_insurance', 40, 'stores', 'free', 1, 'unskilled', 1, 'yes', 'yes', 0.0, 0.0, 2.0, 1.0, 0.0, 2.0, 1.0, 1.0, 4.0, 2.0, 0.0, 0.0, 1.0, [0.0, 0.0, 4.0, 1.0, 2.0, 0.0, 2.0, 0.0, 1.0, 2.0, 1.0, 1.0, 0.0, 31.0, 4533.0, 5.0, 3.0, 31.0, 40.0, 1.0, 1.0], [7.748327379456725, 12.251672620543271], [0.3874163689728363, 0.6125836310271636], 1.0, 'Risk'], ['0_to_200', 25, 'credits_paid_to_date', 'radio_tv', 4332, 'less_100', '4_to_7', 4, 'male', 'none', 4, 'car_other', 20, 'none', 'own', 2, 'skilled', 1, 'yes', 'yes', 2.0, 1.0, 1.0, 0.0, 0.0, 0.0, 0.0, 0.0, 3.0, 0.0, 1.0, 0.0, 1.0, [2.0, 1.0, 3.0, 0.0, 1.0, 0.0, 0.0, 1.0, 0.0, 0.0, 0.0, 1.0, 0.0, 25.0, 4332.0, 4.0, 4.0, 25.0, 20.0, 2.0, 1.0], [11.942389689497919, 8.057610310502083], [0.5971194844748959, 0.4028805155251042], 0.0, 'No Risk'], ['less_0', 4, 'no_credits', 'car_new', 250, 'less_100', '1_to_4', 1, 'male', 'none', 1, 'savings_insurance', 28, 'stores', 'rent', 1, 'unskilled', 1, 'none', 'yes', 1.0, 4.0, 0.0, 0.0, 0.0, 1.0, 1.0, 1.0, 0.0, 0.0, 0.0, 0.0, 0.0, [1.0, 4.0, 0.0, 0.0, 0.0, 0.0, 0.0, 0.0, 1.0, 1.0, 1.0, 0.0, 0.0, 4.0, 250.0, 1.0, 1.0, 4.0, 28.0, 1.0, 1.0], [19.245747126225947, 0.7542528737740526], [0.9622873563112974, 0.03771264368870263], 0.0, 'No Risk'], ['no_checking', 26, 'outstanding_credit', 'furniture', 6125, '500_to_1000', 'greater_7', 5, 'male', 'co-applicant', 4, 'car_other', 43, 'none', 'free', 2, 'management_self-employed', 1, 'yes', 'yes', 0.0, 2.0, 2.0, 2.0, 0.0, 2.0, 0.0, 2.0, 1.0, 1.0, 1.0, 0.0, 1.0, [0.0, 2.0, 1.0, 2.0, 2.0, 0.0, 1.0, 1.0, 0.0, 2.0, 2.0, 1.0, 0.0, 26.0, 6125.0, 5.0, 4.0, 26.0, 43.0, 2.0, 1.0], [4.492090519953725, 15.50790948004627], [0.22460452599768632, 0.7753954740023137], 1.0, 'Risk'], ['0_to_200', 14, 'prior_payments_delayed', 'car_new', 2238, 'less_100', 'less_1', 2, 'male', 'none', 1, 'car_other', 33, 'none', 'own', 2, 'skilled', 1, 'yes', 'yes', 2.0, 0.0, 3.0, 0.0, 0.0, 0.0, 0.0, 0.0, 0.0, 0.0, 1.0, 0.0, 1.0, [21, [0, 4, 7, 11, 13, 14, 15, 16, 17, 18, 19, 20], [2.0, 3.0, 1.0, 1.0, 14.0, 2238.0, 2.0, 1.0, 14.0, 33.0, 2.0, 1.0]], [14.936870755326591, 5.063129244673408], [0.7468435377663296, 0.2531564622336704], 0.0, 'No Risk'], ['0_to_200', 35, 'prior_payments_delayed', 'furniture', 5033, '500_to_1000', '4_to_7', 3, 'male', 'none', 3, 'savings_insurance', 36, 'none', 'free', 2, 'skilled', 1, 'yes', 'yes', 2.0, 0.0, 1.0, 2.0, 0.0, 2.0, 0.0, 0.0, 1.0, 0.0, 0.0, 0.0, 1.0, [2.0, 0.0, 1.0, 2.0, 1.0, 0.0, 0.0, 0.0, 0.0, 2.0, 0.0, 1.0, 0.0, 35.0, 5033.0, 3.0, 3.0, 35.0, 36.0, 2.0, 1.0], [11.39244654341075, 8.607553456589251], [0.5696223271705375, 0.43037767282946254], 0.0, 'No Risk'], ['no_checking', 9, 'prior_payments_delayed', 'furniture', 3980, '100_to_500', '1_to_4', 3, 'male', 'none', 4, 'savings_insurance', 29, 'none', 'own', 1, 'management_self-employed', 1, 'none', 'yes', 0.0, 0.0, 0.0, 1.0, 0.0, 0.0, 0.0, 2.0, 1.0, 0.0, 0.0, 0.0, 0.0, [21, [2, 3, 10, 13, 14, 15, 16, 17, 18, 19, 20], [1.0, 1.0, 2.0, 9.0, 3980.0, 3.0, 4.0, 9.0, 29.0, 1.0, 1.0]], [15.324328067592822, 4.6756719324071785], [0.766216403379641, 0.2337835966203589], 0.0, 'No Risk'], ['no_checking', 35, 'prior_payments_delayed', 'appliances', 7306, '500_to_1000', '1_to_4', 4, 'male', 'co-applicant', 5, 'unknown', 32, 'none', 'free', 2, 'skilled', 1, 'yes', 'yes', 0.0, 0.0, 0.0, 2.0, 0.0, 2.0, 0.0, 0.0, 4.0, 1.0, 3.0, 0.0, 1.0, [0.0, 0.0, 4.0, 2.0, 0.0, 0.0, 1.0, 3.0, 0.0, 2.0, 0.0, 1.0, 0.0, 35.0, 7306.0, 4.0, 5.0, 35.0, 32.0, 2.0, 1.0], [7.8545725170986165, 12.145427482901386], [0.39272862585493074, 0.6072713741450692], 1.0, 'Risk'], ['no_checking', 19, 'credits_paid_to_date', 'radio_tv', 5198, '500_to_1000', '4_to_7', 4, 'male', 'none', 3, 'unknown', 29, 'none', 'own', 1, 'skilled', 1, 'none', 'yes', 0.0, 1.0, 1.0, 2.0, 0.0, 0.0, 0.0, 0.0, 3.0, 0.0, 3.0, 0.0, 0.0, [0.0, 1.0, 3.0, 2.0, 1.0, 0.0, 0.0, 3.0, 0.0, 0.0, 0.0, 0.0, 0.0, 19.0, 5198.0, 4.0, 3.0, 19.0, 29.0, 1.0, 1.0], [14.152603692695473, 5.8473963073045265], [0.7076301846347737, 0.2923698153652263], 0.0, 'No Risk'], ['0_to_200', 35, 'outstanding_credit', 'repairs', 8048, '100_to_500', '4_to_7', 3, 'male', 'none', 4, 'unknown', 47, 'stores', 'own', 2, 'unskilled', 1, 'yes', 'yes', 2.0, 2.0, 1.0, 1.0, 0.0, 0.0, 1.0, 1.0, 5.0, 0.0, 3.0, 0.0, 1.0, [2.0, 2.0, 5.0, 1.0, 1.0, 0.0, 0.0, 3.0, 1.0, 0.0, 1.0, 1.0, 0.0, 35.0, 8048.0, 3.0, 4.0, 35.0, 47.0, 2.0, 1.0], [9.434412755469694, 10.565587244530306], [0.4717206377734847, 0.5282793622265153], 1.0, 'Risk'], ['greater_200', 4, 'prior_payments_delayed', 'furniture', 250, 'greater_1000', '1_to_4', 1, 'male', 'none', 3, 'savings_insurance', 30, 'stores', 'rent', 1, 'unskilled', 2, 'yes', 'yes', 3.0, 0.0, 0.0, 3.0, 0.0, 1.0, 1.0, 1.0, 1.0, 0.0, 0.0, 0.0, 1.0, [3.0, 0.0, 1.0, 3.0, 0.0, 0.0, 0.0, 0.0, 1.0, 1.0, 1.0, 1.0, 0.0, 4.0, 250.0, 1.0, 3.0, 4.0, 30.0, 1.0, 2.0], [16.66613256373889, 3.333867436261105], [0.8333066281869447, 0.1666933718130553], 0.0, 'No Risk'], ['less_0', 38, 'credits_paid_to_date', 'business', 4957, 'less_100', '1_to_4', 3, 'female', 'none', 3, 'savings_insurance', 31, 'none', 'own', 1, 'skilled', 1, 'none', 'yes', 1.0, 1.0, 0.0, 0.0, 0.0, 0.0, 0.0, 0.0, 9.0, 0.0, 0.0, 1.0, 0.0, [21, [0, 1, 2, 5, 13, 14, 15, 16, 17, 18, 19, 20], [1.0, 1.0, 9.0, 1.0, 38.0, 4957.0, 3.0, 3.0, 38.0, 31.0, 1.0, 1.0]], [13.48614589621988, 6.51385410378012], [0.6743072948109939, 0.325692705189006], 0.0, 'No Risk'], ['0_to_200', 7, 'all_credits_paid_back', 'car_new', 250, 'less_100', '1_to_4', 2, 'female', 'none', 3, 'savings_insurance', 27, 'none', 'own', 1, 'skilled', 1, 'none', 'yes', 2.0, 3.0, 0.0, 0.0, 0.0, 0.0, 0.0, 0.0, 0.0, 0.0, 0.0, 1.0, 0.0, [21, [0, 1, 5, 13, 14, 15, 16, 17, 18, 19, 20], [2.0, 3.0, 1.0, 7.0, 250.0, 2.0, 3.0, 7.0, 27.0, 1.0, 1.0]], [17.930963114551353, 2.069036885448645], [0.8965481557275676, 0.10345184427243226], 0.0, 'No Risk'], ['0_to_200', 15, 'credits_paid_to_date', 'appliances', 2369, 'less_100', '4_to_7', 2, 'male', 'none', 3, 'car_other', 36, 'bank', 'own', 2, 'unskilled', 2, 'yes', 'yes', 2.0, 1.0, 1.0, 0.0, 0.0, 0.0, 2.0, 1.0, 4.0, 0.0, 1.0, 0.0, 1.0, [2.0, 1.0, 4.0, 0.0, 1.0, 0.0, 0.0, 1.0, 2.0, 0.0, 1.0, 1.0, 0.0, 15.0, 2369.0, 2.0, 3.0, 15.0, 36.0, 2.0, 2.0], [13.51339945896442, 6.486600541035578], [0.675669972948221, 0.32433002705177894], 0.0, 'No Risk'], ['no_checking', 32, 'prior_payments_delayed', 'furniture', 6886, '100_to_500', '4_to_7', 4, 'male', 'guarantor', 5, 'car_other', 51, 'none', 'own', 1, 'skilled', 1, 'yes', 'yes', 0.0, 0.0, 1.0, 1.0, 0.0, 0.0, 0.0, 0.0, 1.0, 2.0, 1.0, 0.0, 1.0, [0.0, 0.0, 1.0, 1.0, 1.0, 0.0, 2.0, 1.0, 0.0, 0.0, 0.0, 1.0, 0.0, 32.0, 6886.0, 4.0, 5.0, 32.0, 51.0, 1.0, 1.0], [6.671313955456817, 13.328686044543181], [0.33356569777284084, 0.666434302227159], 1.0, 'Risk'], ['0_to_200', 16, 'credits_paid_to_date', 'retraining', 575, '500_to_1000', '4_to_7', 3, 'male', 'none', 2, 'savings_insurance', 35, 'none', 'rent', 1, 'skilled', 1, 'none', 'yes', 2.0, 1.0, 1.0, 2.0, 0.0, 1.0, 0.0, 0.0, 8.0, 0.0, 0.0, 0.0, 0.0, [2.0, 1.0, 8.0, 2.0, 1.0, 0.0, 0.0, 0.0, 0.0, 1.0, 0.0, 0.0, 0.0, 16.0, 575.0, 3.0, 2.0, 16.0, 35.0, 1.0, 1.0], [16.462610714681702, 3.5373892853182975], [0.8231305357340851, 0.17686946426591488], 0.0, 'No Risk'], ['less_0', 9, 'no_credits', 'car_used', 1219, 'less_100', '1_to_4', 2, 'female', 'none', 1, 'real_estate', 19, 'none', 'own', 1, 'skilled', 1, 'none', 'yes', 1.0, 4.0, 0.0, 0.0, 0.0, 0.0, 0.0, 0.0, 2.0, 0.0, 2.0, 1.0, 0.0, [1.0, 4.0, 2.0, 0.0, 0.0, 1.0, 0.0, 2.0, 0.0, 0.0, 0.0, 0.0, 0.0, 9.0, 1219.0, 2.0, 1.0, 9.0, 19.0, 1.0, 1.0], [19.246794187863227, 0.7532058121367726], [0.9623397093931614, 0.037660290606838634], 0.0, 'No Risk'], ['less_0', 4, 'all_credits_paid_back', 'car_new', 250, 'less_100', 'unemployed', 1, 'female', 'none', 2, 'real_estate', 19, 'bank', 'rent', 1, 'unskilled', 1, 'none', 'yes', 1.0, 3.0, 4.0, 0.0, 0.0, 1.0, 2.0, 1.0, 0.0, 0.0, 2.0, 1.0, 0.0, [1.0, 3.0, 0.0, 0.0, 4.0, 1.0, 0.0, 2.0, 2.0, 1.0, 1.0, 0.0, 0.0, 4.0, 250.0, 1.0, 2.0, 4.0, 19.0, 1.0, 1.0], [19.705858602842344, 0.29414139715765747], [0.9852929301421172, 0.014707069857882874], 0.0, 'No Risk'], ['0_to_200', 20, 'prior_payments_delayed', 'furniture', 4721, 'greater_1000', '4_to_7', 2, 'male', 'none', 3, 'unknown', 40, 'none', 'own', 2, 'skilled', 1, 'none', 'yes', 2.0, 0.0, 1.0, 3.0, 0.0, 0.0, 0.0, 0.0, 1.0, 0.0, 3.0, 0.0, 0.0, [2.0, 0.0, 1.0, 3.0, 1.0, 0.0, 0.0, 3.0, 0.0, 0.0, 0.0, 0.0, 0.0, 20.0, 4721.0, 2.0, 3.0, 20.0, 40.0, 2.0, 1.0], [12.987626932748825, 7.012373067251177], [0.6493813466374412, 0.3506186533625589], 0.0, 'No Risk'], ['no_checking', 23, 'prior_payments_delayed', 'car_used', 7288, '100_to_500', '1_to_4', 3, 'male', 'none', 4, 'car_other', 45, 'stores', 'own', 2, 'unskilled', 2, 'yes', 'yes', 0.0, 0.0, 0.0, 1.0, 0.0, 0.0, 1.0, 1.0, 2.0, 0.0, 1.0, 0.0, 1.0, [0.0, 0.0, 2.0, 1.0, 0.0, 0.0, 0.0, 1.0, 1.0, 0.0, 1.0, 1.0, 0.0, 23.0, 7288.0, 3.0, 4.0, 23.0, 45.0, 2.0, 2.0], [10.000777188027028, 9.999222811972974], [0.5000388594013514, 0.4999611405986487], 0.0, 'No Risk'], ['less_0', 24, 'prior_payments_delayed', 'radio_tv', 250, '100_to_500', 'less_1', 1, 'male', 'none', 3, 'savings_insurance', 19, 'bank', 'rent', 1, 'unemployed', 1, 'yes', 'yes', 1.0, 0.0, 3.0, 1.0, 0.0, 1.0, 2.0, 3.0, 3.0, 0.0, 0.0, 0.0, 1.0, [1.0, 0.0, 3.0, 1.0, 3.0, 0.0, 0.0, 0.0, 2.0, 1.0, 3.0, 1.0, 0.0, 24.0, 250.0, 1.0, 3.0, 24.0, 19.0, 1.0, 1.0], [16.785483669975015, 3.214516330024988], [0.8392741834987506, 0.16072581650124937], 0.0, 'No Risk'], ['no_checking', 27, 'outstanding_credit', 'radio_tv', 2666, '500_to_1000', 'greater_7', 3, 'male', 'none', 2, 'car_other', 56, 'none', 'free', 2, 'skilled', 1, 'yes', 'yes', 0.0, 2.0, 2.0, 2.0, 0.0, 2.0, 0.0, 0.0, 3.0, 0.0, 1.0, 0.0, 1.0, [0.0, 2.0, 3.0, 2.0, 2.0, 0.0, 0.0, 1.0, 0.0, 2.0, 0.0, 1.0, 0.0, 27.0, 2666.0, 3.0, 2.0, 27.0, 56.0, 2.0, 1.0], [6.455019957301924, 13.544980042698077], [0.3227509978650962, 0.6772490021349038], 1.0, 'Risk'], ['less_0', 15, 'credits_paid_to_date', 'car_new', 1763, 'less_100', '4_to_7', 3, 'male', 'none', 3, 'real_estate', 25, 'none', 'own', 1, 'skilled', 1, 'none', 'yes', 1.0, 1.0, 1.0, 0.0, 0.0, 0.0, 0.0, 0.0, 0.0, 0.0, 2.0, 0.0, 0.0, [21, [0, 1, 4, 7, 13, 14, 15, 16, 17, 18, 19, 20], [1.0, 1.0, 1.0, 2.0, 15.0, 1763.0, 3.0, 3.0, 15.0, 25.0, 1.0, 1.0]], [18.16737584595168, 1.8326241540483192], [0.908368792297584, 0.09163120770241598], 0.0, 'No Risk'], ['less_0', 21, 'prior_payments_delayed', 'radio_tv', 2340, '500_to_1000', '4_to_7', 2, 'male', 'none', 3, 'unknown', 40, 'none', 'own', 2, 'skilled', 1, 'yes', 'yes', 1.0, 0.0, 1.0, 2.0, 0.0, 0.0, 0.0, 0.0, 3.0, 0.0, 3.0, 0.0, 1.0, [1.0, 0.0, 3.0, 2.0, 1.0, 0.0, 0.0, 3.0, 0.0, 0.0, 0.0, 1.0, 0.0, 21.0, 2340.0, 2.0, 3.0, 21.0, 40.0, 2.0, 1.0], [13.658394147165506, 6.341605852834494], [0.6829197073582753, 0.3170802926417247], 0.0, 'No Risk'], ['no_checking', 27, 'prior_payments_delayed', 'radio_tv', 5704, '100_to_500', '1_to_4', 2, 'male', 'none', 3, 'car_other', 40, 'stores', 'own', 1, 'skilled', 1, 'yes', 'yes', 0.0, 0.0, 0.0, 1.0, 0.0, 0.0, 1.0, 0.0, 3.0, 0.0, 1.0, 0.0, 1.0, [0.0, 0.0, 3.0, 1.0, 0.0, 0.0, 0.0, 1.0, 1.0, 0.0, 0.0, 1.0, 0.0, 27.0, 5704.0, 2.0, 3.0, 27.0, 40.0, 1.0, 1.0], [11.720786643747363, 8.279213356252638], [0.5860393321873681, 0.4139606678126319], 0.0, 'No Risk'], ['no_checking', 33, 'prior_payments_delayed', 'furniture', 5552, '500_to_1000', '1_to_4', 3, 'male', 'none', 4, 'car_other', 49, 'none', 'own', 2, 'management_self-employed', 1, 'none', 'yes', 0.0, 0.0, 0.0, 2.0, 0.0, 0.0, 0.0, 2.0, 1.0, 0.0, 1.0, 0.0, 0.0, [21, [2, 3, 7, 10, 13, 14, 15, 16, 17, 18, 19, 20], [1.0, 2.0, 1.0, 2.0, 33.0, 5552.0, 3.0, 4.0, 33.0, 49.0, 2.0, 1.0]], [10.252680637193926, 9.747319362806074], [0.5126340318596962, 0.4873659681403037], 0.0, 'No Risk'], ['no_checking', 13, 'prior_payments_delayed', 'radio_tv', 3108, '100_to_500', '4_to_7', 4, 'male', 'none', 2, 'car_other', 37, 'none', 'own', 2, 'management_self-employed', 2, 'yes', 'yes', 0.0, 0.0, 1.0, 1.0, 0.0, 0.0, 0.0, 2.0, 3.0, 0.0, 1.0, 0.0, 1.0, [0.0, 0.0, 3.0, 1.0, 1.0, 0.0, 0.0, 1.0, 0.0, 0.0, 2.0, 1.0, 0.0, 13.0, 3108.0, 4.0, 2.0, 13.0, 37.0, 2.0, 2.0], [12.148379187476376, 7.851620812523623], [0.6074189593738188, 0.39258104062618115], 0.0, 'No Risk'], ['0_to_200', 25, 'credits_paid_to_date', 'radio_tv', 3899, 'less_100', 'less_1', 3, 'male', 'none', 3, 'savings_insurance', 19, 'none', 'own', 1, 'skilled', 1, 'none', 'yes', 2.0, 1.0, 3.0, 0.0, 0.0, 0.0, 0.0, 0.0, 3.0, 0.0, 0.0, 0.0, 0.0, [21, [0, 1, 2, 4, 13, 14, 15, 16, 17, 18, 19, 20], [2.0, 1.0, 3.0, 3.0, 25.0, 3899.0, 3.0, 3.0, 25.0, 19.0, 1.0, 1.0]], [14.866326406101239, 5.133673593898765], [0.7433163203050618, 0.2566836796949382], 0.0, 'No Risk'], ['0_to_200', 29, 'outstanding_credit', 'business', 5970, 'greater_1000', 'greater_7', 5, 'male', 'none', 3, 'unknown', 48, 'bank', 'own', 2, 'unemployed', 2, 'yes', 'yes', 2.0, 2.0, 2.0, 3.0, 0.0, 0.0, 2.0, 3.0, 9.0, 0.0, 3.0, 0.0, 1.0, [2.0, 2.0, 9.0, 3.0, 2.0, 0.0, 0.0, 3.0, 2.0, 0.0, 3.0, 1.0, 0.0, 29.0, 5970.0, 5.0, 3.0, 29.0, 48.0, 2.0, 2.0], [7.379222233304415, 12.620777766695584], [0.3689611116652208, 0.6310388883347792], 1.0, 'Risk'], ['greater_200', 21, 'credits_paid_to_date', 'repairs', 3313, 'less_100', '1_to_4', 3, 'female', 'none', 2, 'car_other', 39, 'none', 'own', 1, 'skilled', 1, 'none', 'yes', 3.0, 1.0, 0.0, 0.0, 0.0, 0.0, 0.0, 0.0, 5.0, 0.0, 1.0, 1.0, 0.0, [3.0, 1.0, 5.0, 0.0, 0.0, 1.0, 0.0, 1.0, 0.0, 0.0, 0.0, 0.0, 0.0, 21.0, 3313.0, 3.0, 2.0, 21.0, 39.0, 1.0, 1.0], [15.299229306672446, 4.700770693327556], [0.7649614653336223, 0.23503853466637778], 0.0, 'No Risk'], ['no_checking', 24, 'prior_payments_delayed', 'business', 5757, 'greater_1000', '4_to_7', 4, 'male', 'none', 4, 'savings_insurance', 50, 'none', 'own', 3, 'skilled', 1, 'none', 'yes', 0.0, 0.0, 1.0, 3.0, 0.0, 0.0, 0.0, 0.0, 9.0, 0.0, 0.0, 0.0, 0.0, [21, [2, 3, 4, 13, 14, 15, 16, 17, 18, 19, 20], [9.0, 3.0, 1.0, 24.0, 5757.0, 4.0, 4.0, 24.0, 50.0, 3.0, 1.0]], [9.670128565442809, 10.329871434557191], [0.48350642827214046, 0.5164935717278596], 1.0, 'Risk'], ['less_0', 24, 'prior_payments_delayed', 'radio_tv', 1191, '100_to_500', 'less_1', 2, 'male', 'none', 1, 'savings_insurance', 37, 'stores', 'own', 1, 'skilled', 1, 'yes', 'yes', 1.0, 0.0, 3.0, 1.0, 0.0, 0.0, 1.0, 0.0, 3.0, 0.0, 0.0, 0.0, 1.0, [1.0, 0.0, 3.0, 1.0, 3.0, 0.0, 0.0, 0.0, 1.0, 0.0, 0.0, 1.0, 0.0, 24.0, 1191.0, 2.0, 1.0, 24.0, 37.0, 1.0, 1.0], [15.479126710849805, 4.520873289150197], [0.7739563355424902, 0.22604366445750984], 0.0, 'No Risk'], ['no_checking', 28, 'outstanding_credit', 'vacation', 4274, 'unknown', 'greater_7', 5, 'male', 'none', 3, 'savings_insurance', 41, 'none', 'own', 2, 'management_self-employed', 1, 'yes', 'yes', 0.0, 2.0, 2.0, 4.0, 0.0, 0.0, 0.0, 2.0, 6.0, 0.0, 0.0, 0.0, 1.0, [0.0, 2.0, 6.0, 4.0, 2.0, 0.0, 0.0, 0.0, 0.0, 0.0, 2.0, 1.0, 0.0, 28.0, 4274.0, 5.0, 3.0, 28.0, 41.0, 2.0, 1.0], [8.788964717482715, 11.211035282517283], [0.43944823587413573, 0.5605517641258642], 1.0, 'Risk'], ['0_to_200', 16, 'prior_payments_delayed', 'appliances', 1928, 'less_100', '4_to_7', 3, 'female', 'none', 3, 'savings_insurance', 35, 'none', 'own', 2, 'skilled', 1, 'yes', 'yes', 2.0, 0.0, 1.0, 0.0, 0.0, 0.0, 0.0, 0.0, 4.0, 0.0, 0.0, 1.0, 1.0, [2.0, 0.0, 4.0, 0.0, 1.0, 1.0, 0.0, 0.0, 0.0, 0.0, 0.0, 1.0, 0.0, 16.0, 1928.0, 3.0, 3.0, 16.0, 35.0, 2.0, 1.0], [13.166865334136856, 6.833134665863141], [0.658343266706843, 0.3416567332931571], 0.0, 'No Risk'], ['less_0', 27, 'credits_paid_to_date', 'furniture', 250, 'less_100', '4_to_7', 3, 'male', 'none', 2, 'real_estate', 19, 'stores', 'own', 1, 'skilled', 1, 'none', 'yes', 1.0, 1.0, 1.0, 0.0, 0.0, 0.0, 1.0, 0.0, 1.0, 0.0, 2.0, 0.0, 0.0, [1.0, 1.0, 1.0, 0.0, 1.0, 0.0, 0.0, 2.0, 1.0, 0.0, 0.0, 0.0, 0.0, 27.0, 250.0, 3.0, 2.0, 27.0, 19.0, 1.0, 1.0], [15.793001452143361, 4.206998547856641], [0.7896500726071679, 0.21034992739283204], 0.0, 'No Risk'], ['no_checking', 47, 'outstanding_credit', 'other', 6622, 'greater_1000', 'greater_7', 4, 'male', 'co-applicant', 4, 'unknown', 46, 'none', 'own', 2, 'skilled', 1, 'none', 'yes', 0.0, 2.0, 2.0, 3.0, 0.0, 0.0, 0.0, 0.0, 10.0, 1.0, 3.0, 0.0, 0.0, [0.0, 2.0, 10.0, 3.0, 2.0, 0.0, 1.0, 3.0, 0.0, 0.0, 0.0, 0.0, 0.0, 47.0, 6622.0, 4.0, 4.0, 47.0, 46.0, 2.0, 1.0], [3.2241153212569853, 16.775884678743015], [0.16120576606284925, 0.8387942339371508], 1.0, 'Risk'], ['0_to_200', 17, 'prior_payments_delayed', 'car_new', 2091, '100_to_500', '1_to_4', 3, 'female', 'none', 2, 'savings_insurance', 39, 'none', 'own', 2, 'skilled', 1, 'none', 'yes', 2.0, 0.0, 0.0, 1.0, 0.0, 0.0, 0.0, 0.0, 0.0, 0.0, 0.0, 1.0, 0.0, [21, [0, 3, 5, 13, 14, 15, 16, 17, 18, 19, 20], [2.0, 1.0, 1.0, 17.0, 2091.0, 3.0, 2.0, 17.0, 39.0, 2.0, 1.0]], [15.159709098796602, 4.8402909012033986], [0.7579854549398302, 0.24201454506016992], 0.0, 'No Risk'], ['no_checking', 22, 'prior_payments_delayed', 'radio_tv', 5357, '500_to_1000', '1_to_4', 4, 'male', 'none', 3, 'car_other', 26, 'none', 'own', 1, 'skilled', 1, 'none', 'yes', 0.0, 0.0, 0.0, 2.0, 0.0, 0.0, 0.0, 0.0, 3.0, 0.0, 1.0, 0.0, 0.0, [21, [2, 3, 7, 13, 14, 15, 16, 17, 18, 19, 20], [3.0, 2.0, 1.0, 22.0, 5357.0, 4.0, 3.0, 22.0, 26.0, 1.0, 1.0]], [13.363085271420791, 6.636914728579211], [0.6681542635710395, 0.3318457364289605], 0.0, 'No Risk'], ['0_to_200', 21, 'credits_paid_to_date', 'radio_tv', 6616, '500_to_1000', 'greater_7', 4, 'male', 'none', 3, 'savings_insurance', 36, 'none', 'own', 2, 'skilled', 1, 'none', 'yes', 2.0, 1.0, 2.0, 2.0, 0.0, 0.0, 0.0, 0.0, 3.0, 0.0, 0.0, 0.0, 0.0, [2.0, 1.0, 3.0, 2.0, 2.0, 0.0, 0.0, 0.0, 0.0, 0.0, 0.0, 0.0, 0.0, 21.0, 6616.0, 4.0, 3.0, 21.0, 36.0, 2.0, 1.0], [13.547800910815777, 6.4521990891842265], [0.6773900455407887, 0.32260995445921126], 0.0, 'No Risk'], ['no_checking', 27, 'outstanding_credit', 'radio_tv', 2316, '500_to_1000', '4_to_7', 4, 'male', 'none', 3, 'unknown', 31, 'none', 'own', 1, 'skilled', 1, 'yes', 'yes', 0.0, 2.0, 1.0, 2.0, 0.0, 0.0, 0.0, 0.0, 3.0, 0.0, 3.0, 0.0, 1.0, [0.0, 2.0, 3.0, 2.0, 1.0, 0.0, 0.0, 3.0, 0.0, 0.0, 0.0, 1.0, 0.0, 27.0, 2316.0, 4.0, 3.0, 27.0, 31.0, 1.0, 1.0], [11.600477618857925, 8.399522381142079], [0.5800238809428961, 0.41997611905710386], 0.0, 'No Risk'], ['no_checking', 12, 'credits_paid_to_date', 'car_new', 407, 'less_100', '4_to_7', 2, 'male', 'none', 3, 'savings_insurance', 38, 'none', 'rent', 1, 'skilled', 2, 'yes', 'yes', 0.0, 1.0, 1.0, 0.0, 0.0, 1.0, 0.0, 0.0, 0.0, 0.0, 0.0, 0.0, 1.0, [21, [1, 4, 9, 11, 13, 14, 15, 16, 17, 18, 19, 20], [1.0, 1.0, 1.0, 1.0, 12.0, 407.0, 2.0, 3.0, 12.0, 38.0, 1.0, 2.0]], [14.39575864046923, 5.6042413595307705], [0.7197879320234615, 0.2802120679765385], 0.0, 'No Risk'], ['less_0', 5, 'all_credits_paid_back', 'car_new', 3266, '100_to_500', 'less_1', 2, 'male', 'none', 2, 'savings_insurance', 33, 'none', 'rent', 1, 'management_self-employed', 1, 'none', 'yes', 1.0, 3.0, 3.0, 1.0, 0.0, 1.0, 0.0, 2.0, 0.0, 0.0, 0.0, 0.0, 0.0, [1.0, 3.0, 0.0, 1.0, 3.0, 0.0, 0.0, 0.0, 0.0, 1.0, 2.0, 0.0, 0.0, 5.0, 3266.0, 2.0, 2.0, 5.0, 33.0, 1.0, 1.0], [18.184780362424284, 1.8152196375757168], [0.9092390181212142, 0.09076098187878584], 0.0, 'No Risk'], ['less_0', 4, 'credits_paid_to_date', 'car_new', 250, '100_to_500', 'less_1', 2, 'female', 'none', 2, 'savings_insurance', 34, 'bank', 'rent', 1, 'unemployed', 1, 'none', 'yes', 1.0, 1.0, 3.0, 1.0, 0.0, 1.0, 2.0, 3.0, 0.0, 0.0, 0.0, 1.0, 0.0, [1.0, 1.0, 0.0, 1.0, 3.0, 1.0, 0.0, 0.0, 2.0, 1.0, 3.0, 0.0, 0.0, 4.0, 250.0, 2.0, 2.0, 4.0, 34.0, 1.0, 1.0], [18.168711915036084, 1.831288084963913], [0.9084355957518043, 0.09156440424819567], 0.0, 'No Risk'], ['no_checking', 20, 'credits_paid_to_date', 'radio_tv', 4259, '100_to_500', '4_to_7', 3, 'female', 'none', 4, 'savings_insurance', 36, 'none', 'own', 1, 'skilled', 1, 'none', 'yes', 0.0, 1.0, 1.0, 1.0, 0.0, 0.0, 0.0, 0.0, 3.0, 0.0, 0.0, 1.0, 0.0, [0.0, 1.0, 3.0, 1.0, 1.0, 1.0, 0.0, 0.0, 0.0, 0.0, 0.0, 0.0, 0.0, 20.0, 4259.0, 3.0, 4.0, 20.0, 36.0, 1.0, 1.0], [12.847881478298694, 7.152118521701308], [0.6423940739149347, 0.35760592608506536], 0.0, 'No Risk'], ['less_0', 20, 'prior_payments_delayed', 'radio_tv', 1509, 'less_100', '4_to_7', 3, 'female', 'co-applicant', 1, 'car_other', 44, 'stores', 'free', 1, 'unskilled', 1, 'yes', 'no', 1.0, 0.0, 1.0, 0.0, 1.0, 2.0, 1.0, 1.0, 3.0, 1.0, 1.0, 1.0, 1.0, [1.0, 0.0, 3.0, 0.0, 1.0, 1.0, 1.0, 1.0, 1.0, 2.0, 1.0, 1.0, 1.0, 20.0, 1509.0, 3.0, 1.0, 20.0, 44.0, 1.0, 1.0], [13.528614306360682, 6.471385693639318], [0.6764307153180341, 0.3235692846819659], 0.0, 'No Risk'], ['no_checking', 30, 'prior_payments_delayed', 'appliances', 5020, '100_to_500', '4_to_7', 4, 'female', 'none', 3, 'car_other', 48, 'none', 'own', 1, 'skilled', 1, 'none', 'yes', 0.0, 0.0, 1.0, 1.0, 0.0, 0.0, 0.0, 0.0, 4.0, 0.0, 1.0, 1.0, 0.0, [0.0, 0.0, 4.0, 1.0, 1.0, 1.0, 0.0, 1.0, 0.0, 0.0, 0.0, 0.0, 0.0, 30.0, 5020.0, 4.0, 3.0, 30.0, 48.0, 1.0, 1.0], [8.852691064718385, 11.147308935281615], [0.44263455323591927, 0.5573654467640807], 1.0, 'Risk'], ['less_0', 4, 'credits_paid_to_date', 'car_used', 250, 'less_100', 'less_1', 2, 'female', 'none', 3, 'real_estate', 29, 'bank', 'rent', 1, 'unskilled', 1, 'yes', 'yes', 1.0, 1.0, 3.0, 0.0, 0.0, 1.0, 2.0, 1.0, 2.0, 0.0, 2.0, 1.0, 1.0, [1.0, 1.0, 2.0, 0.0, 3.0, 1.0, 0.0, 2.0, 2.0, 1.0, 1.0, 1.0, 0.0, 4.0, 250.0, 2.0, 3.0, 4.0, 29.0, 1.0, 1.0], [19.082202030978216, 0.917797969021781], [0.954110101548911, 0.04588989845108906], 0.0, 'No Risk'], ['no_checking', 29, 'outstanding_credit', 'furniture', 5468, '500_to_1000', '4_to_7', 4, 'male', 'none', 5, 'unknown', 48, 'none', 'free', 3, 'skilled', 2, 'yes', 'yes', 0.0, 2.0, 1.0, 2.0, 0.0, 2.0, 0.0, 0.0, 1.0, 0.0, 3.0, 0.0, 1.0, [0.0, 2.0, 1.0, 2.0, 1.0, 0.0, 0.0, 3.0, 0.0, 2.0, 0.0, 1.0, 0.0, 29.0, 5468.0, 4.0, 5.0, 29.0, 48.0, 3.0, 2.0], [5.086040835233958, 14.91395916476604], [0.25430204176169796, 0.7456979582383021], 1.0, 'Risk'], ['less_0', 19, 'prior_payments_delayed', 'car_new', 5047, '500_to_1000', '1_to_4', 3, 'female', 'none', 3, 'car_other', 39, 'none', 'rent', 2, 'skilled', 1, 'none', 'yes', 1.0, 0.0, 0.0, 2.0, 0.0, 1.0, 0.0, 0.0, 0.0, 0.0, 1.0, 1.0, 0.0, [1.0, 0.0, 0.0, 2.0, 0.0, 1.0, 0.0, 1.0, 0.0, 1.0, 0.0, 0.0, 0.0, 19.0, 5047.0, 3.0, 3.0, 19.0, 39.0, 2.0, 1.0], [14.597732182704446, 5.402267817295554], [0.7298866091352223, 0.2701133908647777], 0.0, 'No Risk'], ['no_checking', 33, 'prior_payments_delayed', 'vacation', 6290, '100_to_500', '4_to_7', 4, 'male', 'none', 4, 'car_other', 41, 'none', 'own', 2, 'skilled', 1, 'none', 'yes', 0.0, 0.0, 1.0, 1.0, 0.0, 0.0, 0.0, 0.0, 6.0, 0.0, 1.0, 0.0, 0.0, [21, [2, 3, 4, 7, 13, 14, 15, 16, 17, 18, 19, 20], [6.0, 1.0, 1.0, 1.0, 33.0, 6290.0, 4.0, 4.0, 33.0, 41.0, 2.0, 1.0]], [9.677752673303, 10.322247326697], [0.48388763366515003, 0.5161123663348499], 1.0, 'Risk'], ['no_checking', 21, 'outstanding_credit', 'car_used', 3062, '500_to_1000', 'greater_7', 4, 'male', 'none', 3, 'unknown', 60, 'none', 'own', 2, 'skilled', 1, 'yes', 'yes', 0.0, 2.0, 2.0, 2.0, 0.0, 0.0, 0.0, 0.0, 2.0, 0.0, 3.0, 0.0, 1.0, [0.0, 2.0, 2.0, 2.0, 2.0, 0.0, 0.0, 3.0, 0.0, 0.0, 0.0, 1.0, 0.0, 21.0, 3062.0, 4.0, 3.0, 21.0, 60.0, 2.0, 1.0], [7.2063789670061675, 12.793621032993832], [0.36031894835030837, 0.6396810516496916], 1.0, 'Risk'], ['no_checking', 38, 'prior_payments_delayed', 'repairs', 6649, '500_to_1000', 'greater_7', 5, 'male', 'none', 3, 'unknown', 49, 'none', 'own', 2, 'skilled', 1, 'none', 'yes', 0.0, 0.0, 2.0, 2.0, 0.0, 0.0, 0.0, 0.0, 5.0, 0.0, 3.0, 0.0, 0.0, [21, [2, 3, 4, 7, 13, 14, 15, 16, 17, 18, 19, 20], [5.0, 2.0, 2.0, 3.0, 38.0, 6649.0, 5.0, 3.0, 38.0, 49.0, 2.0, 1.0]], [5.368114534485151, 14.631885465514848], [0.26840572672425755, 0.7315942732757424], 1.0, 'Risk'], ['no_checking', 44, 'prior_payments_delayed', 'radio_tv', 5548, 'unknown', '4_to_7', 4, 'male', 'co-applicant', 3, 'car_other', 38, 'none', 'own', 3, 'skilled', 2, 'yes', 'yes', 0.0, 0.0, 1.0, 4.0, 0.0, 0.0, 0.0, 0.0, 3.0, 1.0, 1.0, 0.0, 1.0, [0.0, 0.0, 3.0, 4.0, 1.0, 0.0, 1.0, 1.0, 0.0, 0.0, 0.0, 1.0, 0.0, 44.0, 5548.0, 4.0, 3.0, 44.0, 38.0, 3.0, 2.0], [5.700363754818492, 14.299636245181508], [0.2850181877409246, 0.7149818122590754], 1.0, 'Risk'], ['less_0', 10, 'all_credits_paid_back', 'car_new', 701, 'less_100', 'unemployed', 1, 'female', 'co-applicant', 2, 'real_estate', 36, 'stores', 'rent', 1, 'skilled', 1, 'yes', 'yes', 1.0, 3.0, 4.0, 0.0, 0.0, 1.0, 1.0, 0.0, 0.0, 1.0, 2.0, 1.0, 1.0, [1.0, 3.0, 0.0, 0.0, 4.0, 1.0, 1.0, 2.0, 1.0, 1.0, 0.0, 1.0, 0.0, 10.0, 701.0, 1.0, 2.0, 10.0, 36.0, 1.0, 1.0], [18.49430820062388, 1.505691799376118], [0.9247154100311941, 0.07528458996880591], 0.0, 'No Risk'], ['0_to_200', 6, 'prior_payments_delayed', 'car_used', 6186, 'less_100', '4_to_7', 2, 'female', 'none', 2, 'unknown', 40, 'none', 'own', 2, 'skilled', 1, 'none', 'yes', 2.0, 0.0, 1.0, 0.0, 0.0, 0.0, 0.0, 0.0, 2.0, 0.0, 3.0, 1.0, 0.0, [2.0, 0.0, 2.0, 0.0, 1.0, 1.0, 0.0, 3.0, 0.0, 0.0, 0.0, 0.0, 0.0, 6.0, 6186.0, 2.0, 2.0, 6.0, 40.0, 2.0, 1.0], [14.688270548514286, 5.311729451485713], [0.7344135274257143, 0.2655864725742857], 0.0, 'No Risk'], ['0_to_200', 12, 'credits_paid_to_date', 'furniture', 2764, '500_to_1000', '1_to_4', 3, 'female', 'none', 1, 'savings_insurance', 32, 'none', 'own', 1, 'skilled', 1, 'none', 'yes', 2.0, 1.0, 0.0, 2.0, 0.0, 0.0, 0.0, 0.0, 1.0, 0.0, 0.0, 1.0, 0.0, [2.0, 1.0, 1.0, 2.0, 0.0, 1.0, 0.0, 0.0, 0.0, 0.0, 0.0, 0.0, 0.0, 12.0, 2764.0, 3.0, 1.0, 12.0, 32.0, 1.0, 1.0], [18.028869258660002, 1.971130741339997], [0.9014434629330002, 0.09855653706699985], 0.0, 'No Risk'], ['0_to_200', 43, 'prior_payments_delayed', 'repairs', 5659, '100_to_500', '4_to_7', 3, 'male', 'none', 2, 'unknown', 36, 'bank', 'rent', 1, 'unemployed', 1, 'yes', 'yes', 2.0, 0.0, 1.0, 1.0, 0.0, 1.0, 2.0, 3.0, 5.0, 0.0, 3.0, 0.0, 1.0, [2.0, 0.0, 5.0, 1.0, 1.0, 0.0, 0.0, 3.0, 2.0, 1.0, 3.0, 1.0, 0.0, 43.0, 5659.0, 3.0, 2.0, 43.0, 36.0, 1.0, 1.0], [12.754274673824732, 7.245725326175267], [0.6377137336912366, 0.36228626630876337], 0.0, 'No Risk'], ['no_checking', 46, 'outstanding_credit', 'repairs', 8932, 'greater_1000', 'greater_7', 6, 'male', 'co-applicant', 6, 'car_other', 48, 'none', 'own', 2, 'management_self-employed', 2, 'yes', 'yes', 0.0, 2.0, 2.0, 3.0, 0.0, 0.0, 0.0, 2.0, 5.0, 1.0, 1.0, 0.0, 1.0, [0.0, 2.0, 5.0, 3.0, 2.0, 0.0, 1.0, 1.0, 0.0, 0.0, 2.0, 1.0, 0.0, 46.0, 8932.0, 6.0, 6.0, 46.0, 48.0, 2.0, 2.0], [1.9930759944615628, 18.006924005538437], [0.09965379972307814, 0.9003462002769218], 1.0, 'Risk'], ['less_0', 9, 'all_credits_paid_back', 'education', 4560, 'less_100', '1_to_4', 3, 'male', 'none', 2, 'car_other', 29, 'none', 'own', 2, 'skilled', 1, 'none', 'yes', 1.0, 3.0, 0.0, 0.0, 0.0, 0.0, 0.0, 0.0, 7.0, 0.0, 1.0, 0.0, 0.0, [21, [0, 1, 2, 7, 13, 14, 15, 16, 17, 18, 19, 20], [1.0, 3.0, 7.0, 1.0, 9.0, 4560.0, 3.0, 2.0, 9.0, 29.0, 2.0, 1.0]], [17.411527445607, 2.588472554392998], [0.8705763722803501, 0.12942362771964994], 0.0, 'No Risk'], ['less_0', 20, 'credits_paid_to_date', 'retraining', 3361, 'less_100', '4_to_7', 3, 'female', 'none', 3, 'car_other', 19, 'none', 'own', 1, 'skilled', 1, 'none', 'yes', 1.0, 1.0, 1.0, 0.0, 0.0, 0.0, 0.0, 0.0, 8.0, 0.0, 1.0, 1.0, 0.0, [1.0, 1.0, 8.0, 0.0, 1.0, 1.0, 0.0, 1.0, 0.0, 0.0, 0.0, 0.0, 0.0, 20.0, 3361.0, 3.0, 3.0, 20.0, 19.0, 1.0, 1.0], [15.326070948470843, 4.673929051529161], [0.766303547423542, 0.233696452576458], 0.0, 'No Risk'], ['less_0', 8, 'prior_payments_delayed', 'furniture', 1890, 'less_100', 'less_1', 2, 'female', 'none', 1, 'savings_insurance', 29, 'none', 'own', 1, 'skilled', 1, 'none', 'yes', 1.0, 0.0, 3.0, 0.0, 0.0, 0.0, 0.0, 0.0, 1.0, 0.0, 0.0, 1.0, 0.0, [21, [0, 2, 4, 5, 13, 14, 15, 16, 17, 18, 19, 20], [1.0, 1.0, 3.0, 1.0, 8.0, 1890.0, 2.0, 1.0, 8.0, 29.0, 1.0, 1.0]], [18.551027634049156, 1.4489723659508449], [0.9275513817024578, 0.07244861829754225], 0.0, 'No Risk'], ['less_0', 41, 'prior_payments_delayed', 'appliances', 3679, '100_to_500', 'greater_7', 4, 'female', 'none', 1, 'savings_insurance', 25, 'bank', 'rent', 2, 'unemployed', 1, 'none', 'yes', 1.0, 0.0, 2.0, 1.0, 0.0, 1.0, 2.0, 3.0, 4.0, 0.0, 0.0, 1.0, 0.0, [1.0, 0.0, 4.0, 1.0, 2.0, 1.0, 0.0, 0.0, 2.0, 1.0, 3.0, 0.0, 0.0, 41.0, 3679.0, 4.0, 1.0, 41.0, 25.0, 2.0, 1.0], [13.982356175545723, 6.01764382445428], [0.699117808777286, 0.3008821912227139], 0.0, 'No Risk'], ['less_0', 10, 'prior_payments_delayed', 'vacation', 1668, 'less_100', '1_to_4', 3, 'male', 'co-applicant', 2, 'car_other', 36, 'none', 'own', 1, 'skilled', 1, 'none', 'no', 1.0, 0.0, 0.0, 0.0, 1.0, 0.0, 0.0, 0.0, 6.0, 1.0, 1.0, 0.0, 0.0, [1.0, 0.0, 6.0, 0.0, 0.0, 0.0, 1.0, 1.0, 0.0, 0.0, 0.0, 0.0, 1.0, 10.0, 1668.0, 3.0, 2.0, 10.0, 36.0, 1.0, 1.0], [16.410194776332894, 3.589805223667106], [0.8205097388166447, 0.1794902611833553], 0.0, 'No Risk'], ['0_to_200', 23, 'credits_paid_to_date', 'retraining', 3584, 'less_100', '4_to_7', 3, 'male', 'none', 2, 'real_estate', 33, 'none', 'own', 1, 'skilled', 1, 'none', 'yes', 2.0, 1.0, 1.0, 0.0, 0.0, 0.0, 0.0, 0.0, 8.0, 0.0, 2.0, 0.0, 0.0, [2.0, 1.0, 8.0, 0.0, 1.0, 0.0, 0.0, 2.0, 0.0, 0.0, 0.0, 0.0, 0.0, 23.0, 3584.0, 3.0, 2.0, 23.0, 33.0, 1.0, 1.0], [16.564364929730772, 3.435635070269228], [0.8282182464865386, 0.17178175351346142], 0.0, 'No Risk'], ['no_checking', 32, 'prior_payments_delayed', 'appliances', 6125, '100_to_500', 'less_1', 4, 'female', 'none', 4, 'savings_insurance', 39, 'none', 'own', 1, 'management_self-employed', 1, 'none', 'yes', 0.0, 0.0, 3.0, 1.0, 0.0, 0.0, 0.0, 2.0, 4.0, 0.0, 0.0, 1.0, 0.0, [0.0, 0.0, 4.0, 1.0, 3.0, 1.0, 0.0, 0.0, 0.0, 0.0, 2.0, 0.0, 0.0, 32.0, 6125.0, 4.0, 4.0, 32.0, 39.0, 1.0, 1.0], [12.086708487801571, 7.913291512198426], [0.6043354243900787, 0.39566457560992135], 0.0, 'No Risk'], ['no_checking', 34, 'outstanding_credit', 'other', 7835, '500_to_1000', '4_to_7', 5, 'male', 'none', 4, 'car_other', 37, 'none', 'free', 2, 'management_self-employed', 1, 'yes', 'yes', 0.0, 2.0, 1.0, 2.0, 0.0, 2.0, 0.0, 2.0, 10.0, 0.0, 1.0, 0.0, 1.0, [0.0, 2.0, 10.0, 2.0, 1.0, 0.0, 0.0, 1.0, 0.0, 2.0, 2.0, 1.0, 0.0, 34.0, 7835.0, 5.0, 4.0, 34.0, 37.0, 2.0, 1.0], [8.384768368542929, 11.615231631457073], [0.41923841842714643, 0.5807615815728536], 1.0, 'Risk'], ['no_checking', 31, 'outstanding_credit', 'appliances', 5780, '500_to_1000', '4_to_7', 4, 'male', 'none', 4, 'unknown', 50, 'none', 'free', 2, 'skilled', 1, 'yes', 'yes', 0.0, 2.0, 1.0, 2.0, 0.0, 2.0, 0.0, 0.0, 4.0, 0.0, 3.0, 0.0, 1.0, [0.0, 2.0, 4.0, 2.0, 1.0, 0.0, 0.0, 3.0, 0.0, 2.0, 0.0, 1.0, 0.0, 31.0, 5780.0, 4.0, 4.0, 31.0, 50.0, 2.0, 1.0], [5.661850994106799, 14.338149005893198], [0.28309254970534, 0.7169074502946601], 1.0, 'Risk'], ['less_0', 18, 'credits_paid_to_date', 'furniture', 250, 'less_100', 'less_1', 2, 'female', 'none', 1, 'real_estate', 20, 'bank', 'rent', 1, 'unemployed', 1, 'none', 'yes', 1.0, 1.0, 3.0, 0.0, 0.0, 1.0, 2.0, 3.0, 1.0, 0.0, 2.0, 1.0, 0.0, [1.0, 1.0, 1.0, 0.0, 3.0, 1.0, 0.0, 2.0, 2.0, 1.0, 3.0, 0.0, 0.0, 18.0, 250.0, 2.0, 1.0, 18.0, 20.0, 1.0, 1.0], [18.99686405465139, 1.003135945348608], [0.9498432027325696, 0.05015679726743041], 0.0, 'No Risk'], ['0_to_200', 17, 'prior_payments_delayed', 'furniture', 3499, 'less_100', 'less_1', 3, 'female', 'none', 3, 'car_other', 33, 'none', 'own', 1, 'skilled', 1, 'none', 'yes', 2.0, 0.0, 3.0, 0.0, 0.0, 0.0, 0.0, 0.0, 1.0, 0.0, 1.0, 1.0, 0.0, [2.0, 0.0, 1.0, 0.0, 3.0, 1.0, 0.0, 1.0, 0.0, 0.0, 0.0, 0.0, 0.0, 17.0, 3499.0, 3.0, 3.0, 17.0, 33.0, 1.0, 1.0], [16.007791185209175, 3.992208814790828], [0.8003895592604586, 0.19961044073954137], 0.0, 'No Risk'], ['no_checking', 32, 'outstanding_credit', 'repairs', 6495, '500_to_1000', 'greater_7', 5, 'female', 'none', 4, 'car_other', 39, 'bank', 'own', 1, 'unskilled', 1, 'none', 'yes', 0.0, 2.0, 2.0, 2.0, 0.0, 0.0, 2.0, 1.0, 5.0, 0.0, 1.0, 1.0, 0.0, [0.0, 2.0, 5.0, 2.0, 2.0, 1.0, 0.0, 1.0, 2.0, 0.0, 1.0, 0.0, 0.0, 32.0, 6495.0, 5.0, 4.0, 32.0, 39.0, 1.0, 1.0], [9.984839766421718, 10.01516023357828], [0.4992419883210859, 0.500758011678914], 1.0, 'Risk'], ['less_0', 10, 'all_credits_paid_back', 'car_new', 250, 'less_100', '1_to_4', 2, 'female', 'none', 2, 'real_estate', 23, 'none', 'own', 1, 'skilled', 1, 'none', 'yes', 1.0, 3.0, 0.0, 0.0, 0.0, 0.0, 0.0, 0.0, 0.0, 0.0, 2.0, 1.0, 0.0, [21, [0, 1, 5, 7, 13, 14, 15, 16, 17, 18, 19, 20], [1.0, 3.0, 1.0, 2.0, 10.0, 250.0, 2.0, 2.0, 10.0, 23.0, 1.0, 1.0]], [19.35812824329942, 0.6418717567005812], [0.967906412164971, 0.03209358783502906], 0.0, 'No Risk'], ['no_checking', 15, 'credits_paid_to_date', 'furniture', 3949, '500_to_1000', 'greater_7', 3, 'female', 'none', 4, 'car_other', 33, 'none', 'own', 1, 'skilled', 1, 'none', 'yes', 0.0, 1.0, 2.0, 2.0, 0.0, 0.0, 0.0, 0.0, 1.0, 0.0, 1.0, 1.0, 0.0, [0.0, 1.0, 1.0, 2.0, 2.0, 1.0, 0.0, 1.0, 0.0, 0.0, 0.0, 0.0, 0.0, 15.0, 3949.0, 3.0, 4.0, 15.0, 33.0, 1.0, 1.0], [13.152932471960517, 6.847067528039483], [0.6576466235980258, 0.34235337640197416], 0.0, 'No Risk'], ['no_checking', 24, 'prior_payments_delayed', 'car_used', 5598, '500_to_1000', '4_to_7', 4, 'male', 'none', 3, 'car_other', 46, 'none', 'own', 2, 'management_self-employed', 1, 'yes', 'yes', 0.0, 0.0, 1.0, 2.0, 0.0, 0.0, 0.0, 2.0, 2.0, 0.0, 1.0, 0.0, 1.0, [0.0, 0.0, 2.0, 2.0, 1.0, 0.0, 0.0, 1.0, 0.0, 0.0, 2.0, 1.0, 0.0, 24.0, 5598.0, 4.0, 3.0, 24.0, 46.0, 2.0, 1.0], [9.096439543771451, 10.903560456228549], [0.45482197718857253, 0.5451780228114275], 1.0, 'Risk'], ['less_0', 19, 'prior_payments_delayed', 'car_new', 1370, 'less_100', '4_to_7', 3, 'female', 'none', 3, 'unknown', 43, 'bank', 'own', 1, 'unemployed', 1, 'none', 'yes', 1.0, 0.0, 1.0, 0.0, 0.0, 0.0, 2.0, 3.0, 0.0, 0.0, 3.0, 1.0, 0.0, [1.0, 0.0, 0.0, 0.0, 1.0, 1.0, 0.0, 3.0, 2.0, 0.0, 3.0, 0.0, 0.0, 19.0, 1370.0, 3.0, 3.0, 19.0, 43.0, 1.0, 1.0], [15.011274148816515, 4.988725851183487], [0.7505637074408258, 0.24943629255917435], 0.0, 'No Risk'], ['0_to_200', 16, 'credits_paid_to_date', 'car_used', 3814, '500_to_1000', '1_to_4', 3, 'male', 'co-applicant', 3, 'car_other', 37, 'bank', 'rent', 1, 'unskilled', 1, 'none', 'yes', 2.0, 1.0, 0.0, 2.0, 0.0, 1.0, 2.0, 1.0, 2.0, 1.0, 1.0, 0.0, 0.0, [2.0, 1.0, 2.0, 2.0, 0.0, 0.0, 1.0, 1.0, 2.0, 1.0, 1.0, 0.0, 0.0, 16.0, 3814.0, 3.0, 3.0, 16.0, 37.0, 1.0, 1.0], [15.226145746700121, 4.773854253299881], [0.7613072873350061, 0.23869271266499403], 0.0, 'No Risk'], ['0_to_200', 15, 'credits_paid_to_date', 'furniture', 4016, '500_to_1000', 'less_1', 2, 'male', 'none', 2, 'car_other', 29, 'none', 'own', 1, 'skilled', 2, 'yes', 'yes', 2.0, 1.0, 3.0, 2.0, 0.0, 0.0, 0.0, 0.0, 1.0, 0.0, 1.0, 0.0, 1.0, [2.0, 1.0, 1.0, 2.0, 3.0, 0.0, 0.0, 1.0, 0.0, 0.0, 0.0, 1.0, 0.0, 15.0, 4016.0, 2.0, 2.0, 15.0, 29.0, 1.0, 2.0], [17.243832349938618, 2.7561676500613856], [0.8621916174969307, 0.13780838250306926], 0.0, 'No Risk'], ['0_to_200', 15, 'credits_paid_to_date', 'car_new', 4406, 'less_100', '4_to_7', 2, 'female', 'none', 2, 'savings_insurance', 44, 'none', 'own', 1, 'skilled', 1, 'none', 'yes', 2.0, 1.0, 1.0, 0.0, 0.0, 0.0, 0.0, 0.0, 0.0, 0.0, 0.0, 1.0, 0.0, [21, [0, 1, 4, 5, 13, 14, 15, 16, 17, 18, 19, 20], [2.0, 1.0, 1.0, 1.0, 15.0, 4406.0, 2.0, 2.0, 15.0, 44.0, 1.0, 1.0]], [15.945005015925974, 4.054994984074028], [0.7972502507962986, 0.20274974920370142], 0.0, 'No Risk'], ['0_to_200', 22, 'outstanding_credit', 'appliances', 2927, '100_to_500', 'greater_7', 4, 'male', 'none', 4, 'car_other', 36, 'none', 'own', 2, 'skilled', 2, 'yes', 'no', 2.0, 2.0, 2.0, 1.0, 1.0, 0.0, 0.0, 0.0, 4.0, 0.0, 1.0, 0.0, 1.0, [2.0, 2.0, 4.0, 1.0, 2.0, 0.0, 0.0, 1.0, 0.0, 0.0, 0.0, 1.0, 1.0, 22.0, 2927.0, 4.0, 4.0, 22.0, 36.0, 2.0, 2.0], [10.580654926010867, 9.419345073989133], [0.5290327463005433, 0.47096725369945663], 0.0, 'No Risk'], ['no_checking', 31, 'prior_payments_delayed', 'business', 2683, '100_to_500', 'greater_7', 3, 'female', 'guarantor', 2, 'savings_insurance', 60, 'stores', 'free', 1, 'skilled', 1, 'yes', 'yes', 0.0, 0.0, 2.0, 1.0, 0.0, 2.0, 1.0, 0.0, 9.0, 2.0, 0.0, 1.0, 1.0, [0.0, 0.0, 9.0, 1.0, 2.0, 1.0, 2.0, 0.0, 1.0, 2.0, 0.0, 1.0, 0.0, 31.0, 2683.0, 3.0, 2.0, 31.0, 60.0, 1.0, 1.0], [6.4834169067754255, 13.516583093224572], [0.32417084533877133, 0.6758291546612287], 1.0, 'Risk'], ['greater_200', 27, 'outstanding_credit', 'appliances', 4453, '500_to_1000', '4_to_7', 4, 'male', 'none', 4, 'unknown', 54, 'none', 'own', 2, 'skilled', 1, 'yes', 'yes', 3.0, 2.0, 1.0, 2.0, 0.0, 0.0, 0.0, 0.0, 4.0, 0.0, 3.0, 0.0, 1.0, [3.0, 2.0, 4.0, 2.0, 1.0, 0.0, 0.0, 3.0, 0.0, 0.0, 0.0, 1.0, 0.0, 27.0, 4453.0, 4.0, 4.0, 27.0, 54.0, 2.0, 1.0], [8.250938168670976, 11.749061831329026], [0.4125469084335488, 0.5874530915664513], 1.0, 'Risk'], ['0_to_200', 10, 'prior_payments_delayed', 'car_used', 250, 'less_100', '4_to_7', 3, 'male', 'none', 3, 'savings_insurance', 34, 'none', 'rent', 1, 'skilled', 1, 'none', 'yes', 2.0, 0.0, 1.0, 0.0, 0.0, 1.0, 0.0, 0.0, 2.0, 0.0, 0.0, 0.0, 0.0, [21, [0, 2, 4, 9, 13, 14, 15, 16, 17, 18, 19, 20], [2.0, 2.0, 1.0, 1.0, 10.0, 250.0, 3.0, 3.0, 10.0, 34.0, 1.0, 1.0]], [16.59540517028053, 3.4045948297194695], [0.8297702585140264, 0.17022974148597347], 0.0, 'No Risk'], ['0_to_200', 19, 'credits_paid_to_date', 'furniture', 2752, 'less_100', '4_to_7', 3, 'female', 'none', 2, 'car_other', 37, 'bank', 'own', 1, 'unemployed', 1, 'yes', 'yes', 2.0, 1.0, 1.0, 0.0, 0.0, 0.0, 2.0, 3.0, 1.0, 0.0, 1.0, 1.0, 1.0, [2.0, 1.0, 1.0, 0.0, 1.0, 1.0, 0.0, 1.0, 2.0, 0.0, 3.0, 1.0, 0.0, 19.0, 2752.0, 3.0, 2.0, 19.0, 37.0, 1.0, 1.0], [14.125589165052526, 5.874410834947473], [0.7062794582526263, 0.29372054174737366], 0.0, 'No Risk'], ['0_to_200', 4, 'credits_paid_to_date', 'car_used', 1662, 'less_100', 'less_1', 2, 'female', 'none', 2, 'real_estate', 19, 'none', 'own', 1, 'management_self-employed', 1, 'none', 'yes', 2.0, 1.0, 3.0, 0.0, 0.0, 0.0, 0.0, 2.0, 2.0, 0.0, 2.0, 1.0, 0.0, [2.0, 1.0, 2.0, 0.0, 3.0, 1.0, 0.0, 2.0, 0.0, 0.0, 2.0, 0.0, 0.0, 4.0, 1662.0, 2.0, 2.0, 4.0, 19.0, 1.0, 1.0], [19.184983319894286, 0.8150166801057136], [0.9592491659947143, 0.04075083400528568], 0.0, 'No Risk'], ['no_checking', 12, 'credits_paid_to_date', 'furniture', 4836, 'greater_1000', 'greater_7', 3, 'male', 'none', 4, 'car_other', 61, 'none', 'own', 2, 'skilled', 1, 'none', 'yes', 0.0, 1.0, 2.0, 3.0, 0.0, 0.0, 0.0, 0.0, 1.0, 0.0, 1.0, 0.0, 0.0, [0.0, 1.0, 1.0, 3.0, 2.0, 0.0, 0.0, 1.0, 0.0, 0.0, 0.0, 0.0, 0.0, 12.0, 4836.0, 3.0, 4.0, 12.0, 61.0, 2.0, 1.0], [9.764066428212073, 10.235933571787927], [0.4882033214106037, 0.5117966785893964], 1.0, 'Risk'], ['no_checking', 12, 'credits_paid_to_date', 'retraining', 1285, '100_to_500', '1_to_4', 3, 'female', 'co-applicant', 4, 'real_estate', 42, 'none', 'own', 1, 'skilled', 1, 'none', 'yes', 0.0, 1.0, 0.0, 1.0, 0.0, 0.0, 0.0, 0.0, 8.0, 1.0, 2.0, 1.0, 0.0, [0.0, 1.0, 8.0, 1.0, 0.0, 1.0, 1.0, 2.0, 0.0, 0.0, 0.0, 0.0, 0.0, 12.0, 1285.0, 3.0, 4.0, 12.0, 42.0, 1.0, 1.0], [16.908944318126675, 3.091055681873324], [0.8454472159063338, 0.15455278409366618], 0.0, 'No Risk'], ['less_0', 4, 'all_credits_paid_back', 'car_new', 250, 'less_100', '1_to_4', 2, 'male', 'none', 1, 'real_estate', 30, 'none', 'rent', 1, 'skilled', 1, 'none', 'yes', 1.0, 3.0, 0.0, 0.0, 0.0, 1.0, 0.0, 0.0, 0.0, 0.0, 2.0, 0.0, 0.0, [21, [0, 1, 7, 9, 13, 14, 15, 16, 17, 18, 19, 20], [1.0, 3.0, 2.0, 1.0, 4.0, 250.0, 2.0, 1.0, 4.0, 30.0, 1.0, 1.0]], [19.395184225112434, 0.6048157748875661], [0.9697592112556217, 0.030240788744378307], 0.0, 'No Risk'], ['0_to_200', 13, 'credits_paid_to_date', 'car_used', 1092, '500_to_1000', '1_to_4', 3, 'male', 'none', 2, 'real_estate', 23, 'none', 'own', 1, 'skilled', 1, 'none', 'yes', 2.0, 1.0, 0.0, 2.0, 0.0, 0.0, 0.0, 0.0, 2.0, 0.0, 2.0, 0.0, 0.0, [2.0, 1.0, 2.0, 2.0, 0.0, 0.0, 0.0, 2.0, 0.0, 0.0, 0.0, 0.0, 0.0, 13.0, 1092.0, 3.0, 2.0, 13.0, 23.0, 1.0, 1.0], [18.894743855157863, 1.1052561448421356], [0.9447371927578931, 0.05526280724210678], 0.0, 'No Risk'], ['less_0', 4, 'credits_paid_to_date', 'car_new', 250, 'less_100', 'less_1', 1, 'female', 'none', 1, 'real_estate', 22, 'none', 'rent', 1, 'skilled', 1, 'none', 'yes', 1.0, 1.0, 3.0, 0.0, 0.0, 1.0, 0.0, 0.0, 0.0, 0.0, 2.0, 1.0, 0.0, [1.0, 1.0, 0.0, 0.0, 3.0, 1.0, 0.0, 2.0, 0.0, 1.0, 0.0, 0.0, 0.0, 4.0, 250.0, 1.0, 1.0, 4.0, 22.0, 1.0, 1.0], [19.453293966669833, 0.5467060333301682], [0.9726646983334917, 0.02733530166650841], 0.0, 'No Risk'], ['0_to_200', 15, 'prior_payments_delayed', 'repairs', 250, '100_to_500', 'less_1', 2, 'male', 'none', 3, 'real_estate', 19, 'bank', 'rent', 1, 'unskilled', 1, 'none', 'yes', 2.0, 0.0, 3.0, 1.0, 0.0, 1.0, 2.0, 1.0, 5.0, 0.0, 2.0, 0.0, 0.0, [2.0, 0.0, 5.0, 1.0, 3.0, 0.0, 0.0, 2.0, 2.0, 1.0, 1.0, 0.0, 0.0, 15.0, 250.0, 2.0, 3.0, 15.0, 19.0, 1.0, 1.0], [18.949370814157398, 1.0506291858426], [0.94746854070787, 0.05253145929213001], 0.0, 'No Risk'], ['less_0', 4, 'credits_paid_to_date', 'education', 250, 'less_100', '1_to_4', 2, 'female', 'none', 2, 'savings_insurance', 38, 'stores', 'rent', 1, 'unskilled', 1, 'yes', 'yes', 1.0, 1.0, 0.0, 0.0, 0.0, 1.0, 1.0, 1.0, 7.0, 0.0, 0.0, 1.0, 1.0, [1.0, 1.0, 7.0, 0.0, 0.0, 1.0, 0.0, 0.0, 1.0, 1.0, 1.0, 1.0, 0.0, 4.0, 250.0, 2.0, 2.0, 4.0, 38.0, 1.0, 1.0], [17.20876254556098, 2.79123745443902], [0.860438127278049, 0.139561872721951], 0.0, 'No Risk'], ['no_checking', 27, 'prior_payments_delayed', 'appliances', 6043, '100_to_500', 'greater_7', 5, 'male', 'none', 5, 'savings_insurance', 38, 'none', 'own', 1, 'management_self-employed', 1, 'none', 'yes', 0.0, 0.0, 2.0, 1.0, 0.0, 0.0, 0.0, 2.0, 4.0, 0.0, 0.0, 0.0, 0.0, [21, [2, 3, 4, 10, 13, 14, 15, 16, 17, 18, 19, 20], [4.0, 1.0, 2.0, 2.0, 27.0, 6043.0, 5.0, 5.0, 27.0, 38.0, 1.0, 1.0]], [10.405881476114256, 9.594118523885744], [0.5202940738057128, 0.4797059261942872], 0.0, 'No Risk'], ['0_to_200', 19, 'credits_paid_to_date', 'car_new', 5804, '500_to_1000', 'less_1', 3, 'male', 'none', 4, 'savings_insurance', 26, 'none', 'rent', 2, 'skilled', 1, 'none', 'yes', 2.0, 1.0, 3.0, 2.0, 0.0, 1.0, 0.0, 0.0, 0.0, 0.0, 0.0, 0.0, 0.0, [2.0, 1.0, 0.0, 2.0, 3.0, 0.0, 0.0, 0.0, 0.0, 1.0, 0.0, 0.0, 0.0, 19.0, 5804.0, 3.0, 4.0, 19.0, 26.0, 2.0, 1.0], [16.059863216157378, 3.9401367838426262], [0.8029931608078688, 0.19700683919213127], 0.0, 'No Risk'], ['greater_200', 17, 'credits_paid_to_date', 'car_new', 1116, 'less_100', '4_to_7', 2, 'male', 'none', 2, 'savings_insurance', 43, 'none', 'own', 1, 'skilled', 1, 'yes', 'yes', 3.0, 1.0, 1.0, 0.0, 0.0, 0.0, 0.0, 0.0, 0.0, 0.0, 0.0, 0.0, 1.0, [21, [0, 1, 4, 11, 13, 14, 15, 16, 17, 18, 19, 20], [3.0, 1.0, 1.0, 1.0, 17.0, 1116.0, 2.0, 2.0, 17.0, 43.0, 1.0, 1.0]], [15.049961632741736, 4.950038367258263], [0.7524980816370868, 0.24750191836291316], 0.0, 'No Risk'], ['0_to_200', 25, 'prior_payments_delayed', 'car_used', 3274, 'greater_1000', 'greater_7', 3, 'male', 'none', 2, 'car_other', 39, 'bank', 'rent', 1, 'unemployed', 1, 'none', 'yes', 2.0, 0.0, 2.0, 3.0, 0.0, 1.0, 2.0, 3.0, 2.0, 0.0, 1.0, 0.0, 0.0, [2.0, 0.0, 2.0, 3.0, 2.0, 0.0, 0.0, 1.0, 2.0, 1.0, 3.0, 0.0, 0.0, 25.0, 3274.0, 3.0, 2.0, 25.0, 39.0, 1.0, 1.0], [14.617203382289745, 5.38279661771026], [0.7308601691144871, 0.26913983088551297], 0.0, 'No Risk'], ['less_0', 8, 'prior_payments_delayed', 'repairs', 1959, 'less_100', '1_to_4', 1, 'female', 'none', 1, 'real_estate', 28, 'none', 'own', 1, 'skilled', 1, 'none', 'yes', 1.0, 0.0, 0.0, 0.0, 0.0, 0.0, 0.0, 0.0, 5.0, 0.0, 2.0, 1.0, 0.0, [21, [0, 2, 5, 7, 13, 14, 15, 16, 17, 18, 19, 20], [1.0, 5.0, 1.0, 2.0, 8.0, 1959.0, 1.0, 1.0, 8.0, 28.0, 1.0, 1.0]], [18.878218391804957, 1.121781608195041], [0.943910919590248, 0.05608908040975206], 0.0, 'No Risk'], ['less_0', 5, 'prior_payments_delayed', 'car_new', 829, '500_to_1000', 'unemployed', 2, 'male', 'co-applicant', 2, 'car_other', 24, 'none', 'own', 1, 'skilled', 1, 'yes', 'yes', 1.0, 0.0, 4.0, 2.0, 0.0, 0.0, 0.0, 0.0, 0.0, 1.0, 1.0, 0.0, 1.0, [1.0, 0.0, 0.0, 2.0, 4.0, 0.0, 1.0, 1.0, 0.0, 0.0, 0.0, 1.0, 0.0, 5.0, 829.0, 2.0, 2.0, 5.0, 24.0, 1.0, 1.0], [17.68124453626336, 2.318755463736643], [0.8840622268131678, 0.11593777318683214], 0.0, 'No Risk'], ['0_to_200', 4, 'all_credits_paid_back', 'car_new', 250, '100_to_500', 'less_1', 1, 'female', 'none', 2, 'real_estate', 26, 'none', 'rent', 1, 'skilled', 1, 'none', 'yes', 2.0, 3.0, 3.0, 1.0, 0.0, 1.0, 0.0, 0.0, 0.0, 0.0, 2.0, 1.0, 0.0, [2.0, 3.0, 0.0, 1.0, 3.0, 1.0, 0.0, 2.0, 0.0, 1.0, 0.0, 0.0, 0.0, 4.0, 250.0, 1.0, 2.0, 4.0, 26.0, 1.0, 1.0], [19.71110244513303, 0.28889755486697216], [0.9855551222566514, 0.014444877743348608], 0.0, 'No Risk'], ['no_checking', 11, 'outstanding_credit', 'radio_tv', 3571, 'unknown', 'greater_7', 3, 'male', 'co-applicant', 4, 'unknown', 52, 'none', 'own', 2, 'skilled', 1, 'yes', 'yes', 0.0, 2.0, 2.0, 4.0, 0.0, 0.0, 0.0, 0.0, 3.0, 1.0, 3.0, 0.0, 1.0, [0.0, 2.0, 3.0, 4.0, 2.0, 0.0, 1.0, 3.0, 0.0, 0.0, 0.0, 1.0, 0.0, 11.0, 3571.0, 3.0, 4.0, 11.0, 52.0, 2.0, 1.0], [6.940330877533325, 13.059669122466675], [0.34701654387666625, 0.6529834561233337], 1.0, 'Risk'], ['less_0', 14, 'all_credits_paid_back', 'car_used', 1551, 'less_100', '1_to_4', 1, 'male', 'none', 1, 'real_estate', 29, 'bank', 'rent', 1, 'unemployed', 1, 'none', 'yes', 1.0, 3.0, 0.0, 0.0, 0.0, 1.0, 2.0, 3.0, 2.0, 0.0, 2.0, 0.0, 0.0, [1.0, 3.0, 2.0, 0.0, 0.0, 0.0, 0.0, 2.0, 2.0, 1.0, 3.0, 0.0, 0.0, 14.0, 1551.0, 1.0, 1.0, 14.0, 29.0, 1.0, 1.0], [19.10300997637327, 0.8969900236267316], [0.9551504988186634, 0.044849501181336585], 0.0, 'No Risk'], ['less_0', 10, 'all_credits_paid_back', 'car_new', 250, 'less_100', 'unemployed', 1, 'female', 'none', 2, 'real_estate', 20, 'none', 'rent', 1, 'skilled', 1, 'none', 'yes', 1.0, 3.0, 4.0, 0.0, 0.0, 1.0, 0.0, 0.0, 0.0, 0.0, 2.0, 1.0, 0.0, [1.0, 3.0, 0.0, 0.0, 4.0, 1.0, 0.0, 2.0, 0.0, 1.0, 0.0, 0.0, 0.0, 10.0, 250.0, 1.0, 2.0, 10.0, 20.0, 1.0, 1.0], [19.705858602842344, 0.29414139715765747], [0.9852929301421172, 0.014707069857882874], 0.0, 'No Risk'], ['no_checking', 41, 'outstanding_credit', 'education', 4741, 'greater_1000', '4_to_7', 4, 'male', 'none', 4, 'unknown', 41, 'none', 'own', 2, 'skilled', 1, 'yes', 'yes', 0.0, 2.0, 1.0, 3.0, 0.0, 0.0, 0.0, 0.0, 7.0, 0.0, 3.0, 0.0, 1.0, [0.0, 2.0, 7.0, 3.0, 1.0, 0.0, 0.0, 3.0, 0.0, 0.0, 0.0, 1.0, 0.0, 41.0, 4741.0, 4.0, 4.0, 41.0, 41.0, 2.0, 1.0], [8.738977061325047, 11.261022938674953], [0.4369488530662523, 0.5630511469337477], 1.0, 'Risk'], ['less_0', 24, 'prior_payments_delayed', 'education', 1706, '100_to_500', '1_to_4', 3, 'female', 'none', 3, 'car_other', 39, 'stores', 'rent', 1, 'unskilled', 1, 'none', 'no', 1.0, 0.0, 0.0, 1.0, 1.0, 1.0, 1.0, 1.0, 7.0, 0.0, 1.0, 1.0, 0.0, [1.0, 0.0, 7.0, 1.0, 0.0, 1.0, 0.0, 1.0, 1.0, 1.0, 1.0, 0.0, 1.0, 24.0, 1706.0, 3.0, 3.0, 24.0, 39.0, 1.0, 1.0], [14.719879052797168, 5.280120947202831], [0.7359939526398585, 0.26400604736014155], 0.0, 'No Risk'], ['no_checking', 27, 'prior_payments_delayed', 'appliances', 4878, 'unknown', '4_to_7', 3, 'male', 'none', 4, 'car_other', 40, 'bank', 'own', 2, 'unskilled', 1, 'none', 'yes', 0.0, 0.0, 1.0, 4.0, 0.0, 0.0, 2.0, 1.0, 4.0, 0.0, 1.0, 0.0, 0.0, [0.0, 0.0, 4.0, 4.0, 1.0, 0.0, 0.0, 1.0, 2.0, 0.0, 1.0, 0.0, 0.0, 27.0, 4878.0, 3.0, 4.0, 27.0, 40.0, 2.0, 1.0], [12.07673758409289, 7.92326241590711], [0.6038368792046445, 0.3961631207953555], 0.0, 'No Risk'], ['no_checking', 25, 'outstanding_credit', 'furniture', 2299, '500_to_1000', 'greater_7', 4, 'male', 'none', 3, 'savings_insurance', 37, 'stores', 'own', 1, 'unskilled', 1, 'none', 'yes', 0.0, 2.0, 2.0, 2.0, 0.0, 0.0, 1.0, 1.0, 1.0, 0.0, 0.0, 0.0, 0.0, [0.0, 2.0, 1.0, 2.0, 2.0, 0.0, 0.0, 0.0, 1.0, 0.0, 1.0, 0.0, 0.0, 25.0, 2299.0, 4.0, 3.0, 25.0, 37.0, 1.0, 1.0], [12.301502438481293, 7.698497561518707], [0.6150751219240647, 0.38492487807593534], 0.0, 'No Risk'], ['no_checking', 26, 'outstanding_credit', 'furniture', 4610, '500_to_1000', 'greater_7', 4, 'female', 'none', 2, 'savings_insurance', 58, 'none', 'free', 2, 'skilled', 1, 'yes', 'yes', 0.0, 2.0, 2.0, 2.0, 0.0, 2.0, 0.0, 0.0, 1.0, 0.0, 0.0, 1.0, 1.0, [0.0, 2.0, 1.0, 2.0, 2.0, 1.0, 0.0, 0.0, 0.0, 2.0, 0.0, 1.0, 0.0, 26.0, 4610.0, 4.0, 2.0, 26.0, 58.0, 2.0, 1.0], [7.0930766654539905, 12.90692333454601], [0.3546538332726995, 0.6453461667273005], 1.0, 'Risk'], ['no_checking', 25, 'prior_payments_delayed', 'car_used', 7460, 'unknown', 'greater_7', 5, 'male', 'guarantor', 5, 'unknown', 59, 'none', 'free', 2, 'skilled', 1, 'yes', 'yes', 0.0, 0.0, 2.0, 4.0, 0.0, 2.0, 0.0, 0.0, 2.0, 2.0, 3.0, 0.0, 1.0, [0.0, 0.0, 2.0, 4.0, 2.0, 0.0, 2.0, 3.0, 0.0, 2.0, 0.0, 1.0, 0.0, 25.0, 7460.0, 5.0, 5.0, 25.0, 59.0, 2.0, 1.0], [2.7873041555202747, 17.212695844479725], [0.13936520777601374, 0.8606347922239863], 1.0, 'Risk'], ['no_checking', 19, 'credits_paid_to_date', 'car_new', 2334, 'greater_1000', '1_to_4', 3, 'female', 'none', 3, 'savings_insurance', 39, 'none', 'own', 1, 'skilled', 2, 'none', 'yes', 0.0, 1.0, 0.0, 3.0, 0.0, 0.0, 0.0, 0.0, 0.0, 0.0, 0.0, 1.0, 0.0, [21, [1, 3, 5, 13, 14, 15, 16, 17, 18, 19, 20], [1.0, 3.0, 1.0, 19.0, 2334.0, 3.0, 3.0, 19.0, 39.0, 1.0, 2.0]], [14.337635517360741, 5.662364482639262], [0.7168817758680369, 0.283118224131963], 0.0, 'No Risk'], ['no_checking', 30, 'prior_payments_delayed', 'vacation', 8036, 'unknown', 'greater_7', 5, 'male', 'none', 4, 'car_other', 56, 'none', 'free', 3, 'management_self-employed', 2, 'yes', 'yes', 0.0, 0.0, 2.0, 4.0, 0.0, 2.0, 0.0, 2.0, 6.0, 0.0, 1.0, 0.0, 1.0, [0.0, 0.0, 6.0, 4.0, 2.0, 0.0, 0.0, 1.0, 0.0, 2.0, 2.0, 1.0, 0.0, 30.0, 8036.0, 5.0, 4.0, 30.0, 56.0, 3.0, 2.0], [3.9002232668957886, 16.09977673310421], [0.19501116334478943, 0.8049888366552105], 1.0, 'Risk'], ['0_to_200', 24, 'outstanding_credit', 'furniture', 4030, '500_to_1000', 'greater_7', 3, 'male', 'none', 3, 'savings_insurance', 37, 'none', 'own', 1, 'skilled', 1, 'none', 'no', 2.0, 2.0, 2.0, 2.0, 1.0, 0.0, 0.0, 0.0, 1.0, 0.0, 0.0, 0.0, 0.0, [2.0, 2.0, 1.0, 2.0, 2.0, 0.0, 0.0, 0.0, 0.0, 0.0, 0.0, 0.0, 1.0, 24.0, 4030.0, 3.0, 3.0, 24.0, 37.0, 1.0, 1.0], [12.592492008924037, 7.4075079910759625], [0.6296246004462018, 0.3703753995537981], 0.0, 'No Risk'], ['less_0', 17, 'credits_paid_to_date', 'furniture', 1779, 'less_100', '1_to_4', 2, 'female', 'none', 2, 'savings_insurance', 28, 'stores', 'rent', 1, 'skilled', 1, 'none', 'yes', 1.0, 1.0, 0.0, 0.0, 0.0, 1.0, 1.0, 0.0, 1.0, 0.0, 0.0, 1.0, 0.0, [1.0, 1.0, 1.0, 0.0, 0.0, 1.0, 0.0, 0.0, 1.0, 1.0, 0.0, 0.0, 0.0, 17.0, 1779.0, 2.0, 2.0, 17.0, 28.0, 1.0, 1.0], [17.80169459659343, 2.1983054034065708], [0.8900847298296715, 0.10991527017032854], 0.0, 'No Risk'], ['no_checking', 19, 'credits_paid_to_date', 'car_new', 3692, '100_to_500', 'less_1', 2, 'male', 'none', 4, 'real_estate', 31, 'none', 'own', 1, 'management_self-employed', 1, 'none', 'yes', 0.0, 1.0, 3.0, 1.0, 0.0, 0.0, 0.0, 2.0, 0.0, 0.0, 2.0, 0.0, 0.0, [0.0, 1.0, 0.0, 1.0, 3.0, 0.0, 0.0, 2.0, 0.0, 0.0, 2.0, 0.0, 0.0, 19.0, 3692.0, 2.0, 4.0, 19.0, 31.0, 1.0, 1.0], [17.42574479609374, 2.574255203906264], [0.8712872398046868, 0.12871276019531316], 0.0, 'No Risk'], ['no_checking', 8, 'credits_paid_to_date', 'car_new', 3929, '500_to_1000', '4_to_7', 3, 'female', 'none', 4, 'savings_insurance', 38, 'bank', 'own', 1, 'unskilled', 1, 'yes', 'yes', 0.0, 1.0, 1.0, 2.0, 0.0, 0.0, 2.0, 1.0, 0.0, 0.0, 0.0, 1.0, 1.0, [0.0, 1.0, 0.0, 2.0, 1.0, 1.0, 0.0, 0.0, 2.0, 0.0, 1.0, 1.0, 0.0, 8.0, 3929.0, 3.0, 4.0, 8.0, 38.0, 1.0, 1.0], [13.683628316020739, 6.316371683979262], [0.684181415801037, 0.3158185841989631], 0.0, 'No Risk'], ['no_checking', 42, 'outstanding_credit', 'other', 7298, 'greater_1000', 'greater_7', 5, 'male', 'co-applicant', 4, 'car_other', 44, 'none', 'free', 2, 'management_self-employed', 2, 'yes', 'yes', 0.0, 2.0, 2.0, 3.0, 0.0, 2.0, 0.0, 2.0, 10.0, 1.0, 1.0, 0.0, 1.0, [0.0, 2.0, 10.0, 3.0, 2.0, 0.0, 1.0, 1.0, 0.0, 2.0, 2.0, 1.0, 0.0, 42.0, 7298.0, 5.0, 4.0, 42.0, 44.0, 2.0, 2.0], [3.5387681127884223, 16.461231887211575], [0.17693840563942115, 0.8230615943605789], 1.0, 'Risk'], ['less_0', 10, 'prior_payments_delayed', 'car_new', 3018, '500_to_1000', '1_to_4', 2, 'male', 'none', 2, 'car_other', 30, 'bank', 'own', 2, 'unemployed', 1, 'yes', 'yes', 1.0, 0.0, 0.0, 2.0, 0.0, 0.0, 2.0, 3.0, 0.0, 0.0, 1.0, 0.0, 1.0, [1.0, 0.0, 0.0, 2.0, 0.0, 0.0, 0.0, 1.0, 2.0, 0.0, 3.0, 1.0, 0.0, 10.0, 3018.0, 2.0, 2.0, 10.0, 30.0, 2.0, 1.0], [16.518012367556032, 3.4819876324439685], [0.8259006183778016, 0.17409938162219843], 0.0, 'No Risk'], ['no_checking', 37, 'prior_payments_delayed', 'education', 5573, '500_to_1000', 'greater_7', 5, 'male', 'none', 5, 'car_other', 42, 'none', 'free', 2, 'skilled', 1, 'yes', 'yes', 0.0, 0.0, 2.0, 2.0, 0.0, 2.0, 0.0, 0.0, 7.0, 0.0, 1.0, 0.0, 1.0, [0.0, 0.0, 7.0, 2.0, 2.0, 0.0, 0.0, 1.0, 0.0, 2.0, 0.0, 1.0, 0.0, 37.0, 5573.0, 5.0, 5.0, 37.0, 42.0, 2.0, 1.0], [7.641068538789329, 12.358931461210664], [0.3820534269394666, 0.6179465730605335], 1.0, 'Risk'], ['0_to_200', 17, 'credits_paid_to_date', 'car_used', 1555, '100_to_500', '1_to_4', 3, 'male', 'none', 2, 'savings_insurance', 33, 'bank', 'rent', 2, 'unskilled', 1, 'none', 'yes', 2.0, 1.0, 0.0, 1.0, 0.0, 1.0, 2.0, 1.0, 2.0, 0.0, 0.0, 0.0, 0.0, [2.0, 1.0, 2.0, 1.0, 0.0, 0.0, 0.0, 0.0, 2.0, 1.0, 1.0, 0.0, 0.0, 17.0, 1555.0, 3.0, 2.0, 17.0, 33.0, 2.0, 1.0], [15.976566038937847, 4.023433961062152], [0.7988283019468924, 0.2011716980531076], 0.0, 'No Risk'], ['0_to_200', 17, 'credits_paid_to_date', 'car_new', 4381, 'less_100', '1_to_4', 3, 'male', 'none', 3, 'car_other', 27, 'none', 'rent', 1, 'skilled', 2, 'yes', 'yes', 2.0, 1.0, 0.0, 0.0, 0.0, 1.0, 0.0, 0.0, 0.0, 0.0, 1.0, 0.0, 1.0, [2.0, 1.0, 0.0, 0.0, 0.0, 0.0, 0.0, 1.0, 0.0, 1.0, 0.0, 1.0, 0.0, 17.0, 4381.0, 3.0, 3.0, 17.0, 27.0, 1.0, 2.0], [15.646694130070992, 4.353305869929009], [0.7823347065035496, 0.21766529349645042], 0.0, 'No Risk'], ['no_checking', 33, 'outstanding_credit', 'other', 6058, 'greater_1000', '4_to_7', 5, 'male', 'none', 5, 'car_other', 44, 'none', 'own', 2, 'management_self-employed', 2, 'yes', 'yes', 0.0, 2.0, 1.0, 3.0, 0.0, 0.0, 0.0, 2.0, 10.0, 0.0, 1.0, 0.0, 1.0, [0.0, 2.0, 10.0, 3.0, 1.0, 0.0, 0.0, 1.0, 0.0, 0.0, 2.0, 1.0, 0.0, 33.0, 6058.0, 5.0, 5.0, 33.0, 44.0, 2.0, 2.0], [9.345401636702684, 10.654598363297316], [0.4672700818351342, 0.5327299181648658], 1.0, 'Risk'], ['no_checking', 27, 'prior_payments_delayed', 'furniture', 4137, '100_to_500', 'greater_7', 4, 'female', 'none', 3, 'savings_insurance', 43, 'bank', 'own', 1, 'unskilled', 1, 'yes', 'yes', 0.0, 0.0, 2.0, 1.0, 0.0, 0.0, 2.0, 1.0, 1.0, 0.0, 0.0, 1.0, 1.0, [0.0, 0.0, 1.0, 1.0, 2.0, 1.0, 0.0, 0.0, 2.0, 0.0, 1.0, 1.0, 0.0, 27.0, 4137.0, 4.0, 3.0, 27.0, 43.0, 1.0, 1.0], [11.41079470154142, 8.589205298458582], [0.570539735077071, 0.4294602649229291], 0.0, 'No Risk'], ['0_to_200', 7, 'all_credits_paid_back', 'car_used', 2072, 'less_100', '1_to_4', 1, 'male', 'none', 2, 'savings_insurance', 37, 'none', 'own', 1, 'skilled', 1, 'yes', 'yes', 2.0, 3.0, 0.0, 0.0, 0.0, 0.0, 0.0, 0.0, 2.0, 0.0, 0.0, 0.0, 1.0, [21, [0, 1, 2, 11, 13, 14, 15, 16, 17, 18, 19, 20], [2.0, 3.0, 2.0, 1.0, 7.0, 2072.0, 1.0, 2.0, 7.0, 37.0, 1.0, 1.0]], [17.02991535074958, 2.9700846492504236], [0.8514957675374788, 0.14850423246252115], 0.0, 'No Risk'], ['less_0', 12, 'all_credits_paid_back', 'car_new', 2350, '100_to_500', 'unemployed', 2, 'female', 'none', 2, 'savings_insurance', 28, 'none', 'rent', 2, 'skilled', 1, 'none', 'yes', 1.0, 3.0, 4.0, 1.0, 0.0, 1.0, 0.0, 0.0, 0.0, 0.0, 0.0, 1.0, 0.0, [1.0, 3.0, 0.0, 1.0, 4.0, 1.0, 0.0, 0.0, 0.0, 1.0, 0.0, 0.0, 0.0, 12.0, 2350.0, 2.0, 2.0, 12.0, 28.0, 2.0, 1.0], [17.643729091680964, 2.3562709083190385], [0.882186454584048, 0.1178135454159519], 0.0, 'No Risk'], ['no_checking', 35, 'prior_payments_delayed', 'appliances', 7396, 'greater_1000', '1_to_4', 4, 'male', 'none', 5, 'unknown', 55, 'none', 'own', 3, 'skilled', 2, 'yes', 'yes', 0.0, 0.0, 0.0, 3.0, 0.0, 0.0, 0.0, 0.0, 4.0, 0.0, 3.0, 0.0, 1.0, [21, [2, 3, 7, 11, 13, 14, 15, 16, 17, 18, 19, 20], [4.0, 3.0, 3.0, 1.0, 35.0, 7396.0, 4.0, 5.0, 35.0, 55.0, 3.0, 2.0]], [7.929610844435126, 12.070389155564875], [0.39648054222175627, 0.6035194577782438], 1.0, 'Risk'], ['less_0', 7, 'prior_payments_delayed', 'car_new', 1411, '500_to_1000', '4_to_7', 3, 'male', 'none', 3, 'savings_insurance', 35, 'none', 'own', 1, 'skilled', 1, 'yes', 'yes', 1.0, 0.0, 1.0, 2.0, 0.0, 0.0, 0.0, 0.0, 0.0, 0.0, 0.0, 0.0, 1.0, [21, [0, 3, 4, 11, 13, 14, 15, 16, 17, 18, 19, 20], [1.0, 2.0, 1.0, 1.0, 7.0, 1411.0, 3.0, 3.0, 7.0, 35.0, 1.0, 1.0]], [15.016798848980988, 4.983201151019011], [0.7508399424490494, 0.24916005755095055], 0.0, 'No Risk'], ['no_checking', 35, 'prior_payments_delayed', 'repairs', 2429, 'unknown', 'greater_7', 4, 'male', 'none', 4, 'savings_insurance', 33, 'none', 'own', 1, 'skilled', 2, 'none', 'yes', 0.0, 0.0, 2.0, 4.0, 0.0, 0.0, 0.0, 0.0, 5.0, 0.0, 0.0, 0.0, 0.0, [21, [2, 3, 4, 13, 14, 15, 16, 17, 18, 19, 20], [5.0, 4.0, 2.0, 35.0, 2429.0, 4.0, 4.0, 35.0, 33.0, 1.0, 2.0]], [10.660809204481541, 9.339190795518459], [0.533040460224077, 0.4669595397759229], 0.0, 'No Risk'], ['less_0', 13, 'prior_payments_delayed', 'business', 1626, 'less_100', '4_to_7', 3, 'male', 'none', 3, 'car_other', 35, 'none', 'own', 1, 'skilled', 1, 'yes', 'yes', 1.0, 0.0, 1.0, 0.0, 0.0, 0.0, 0.0, 0.0, 9.0, 0.0, 1.0, 0.0, 1.0, [1.0, 0.0, 9.0, 0.0, 1.0, 0.0, 0.0, 1.0, 0.0, 0.0, 0.0, 1.0, 0.0, 13.0, 1626.0, 3.0, 3.0, 13.0, 35.0, 1.0, 1.0], [14.663944385896652, 5.336055614103347], [0.7331972192948326, 0.26680278070516733], 0.0, 'No Risk'], ['no_checking', 33, 'prior_payments_delayed', 'appliances', 6114, '100_to_500', 'greater_7', 4, 'male', 'none', 3, 'car_other', 50, 'stores', 'own', 2, 'unskilled', 1, 'yes', 'yes', 0.0, 0.0, 2.0, 1.0, 0.0, 0.0, 1.0, 1.0, 4.0, 0.0, 1.0, 0.0, 1.0, [0.0, 0.0, 4.0, 1.0, 2.0, 0.0, 0.0, 1.0, 1.0, 0.0, 1.0, 1.0, 0.0, 33.0, 6114.0, 4.0, 3.0, 33.0, 50.0, 2.0, 1.0], [6.219739506406922, 13.780260493593076], [0.31098697532034614, 0.6890130246796538], 1.0, 'Risk'], ['no_checking', 21, 'credits_paid_to_date', 'radio_tv', 3602, '100_to_500', '4_to_7', 2, 'female', 'none', 4, 'savings_insurance', 26, 'bank', 'own', 1, 'unemployed', 2, 'none', 'yes', 0.0, 1.0, 1.0, 1.0, 0.0, 0.0, 2.0, 3.0, 3.0, 0.0, 0.0, 1.0, 0.0, [0.0, 1.0, 3.0, 1.0, 1.0, 1.0, 0.0, 0.0, 2.0, 0.0, 3.0, 0.0, 0.0, 21.0, 3602.0, 2.0, 4.0, 21.0, 26.0, 1.0, 2.0], [13.570867426866027, 6.429132573133972], [0.6785433713433013, 0.3214566286566986], 0.0, 'No Risk'], ['no_checking', 24, 'outstanding_credit', 'radio_tv', 3866, 'unknown', '4_to_7', 3, 'male', 'none', 3, 'savings_insurance', 43, 'none', 'own', 1, 'skilled', 1, 'yes', 'yes', 0.0, 2.0, 1.0, 4.0, 0.0, 0.0, 0.0, 0.0, 3.0, 0.0, 0.0, 0.0, 1.0, [0.0, 2.0, 3.0, 4.0, 1.0, 0.0, 0.0, 0.0, 0.0, 0.0, 0.0, 1.0, 0.0, 24.0, 3866.0, 3.0, 3.0, 24.0, 43.0, 1.0, 1.0], [12.379934205561115, 7.6200657944388865], [0.6189967102780558, 0.3810032897219443], 0.0, 'No Risk'], ['0_to_200', 4, 'all_credits_paid_back', 'car_new', 250, 'less_100', 'less_1', 1, 'female', 'co-applicant', 2, 'real_estate', 38, 'none', 'own', 1, 'skilled', 1, 'yes', 'yes', 2.0, 3.0, 3.0, 0.0, 0.0, 0.0, 0.0, 0.0, 0.0, 1.0, 2.0, 1.0, 1.0, [2.0, 3.0, 0.0, 0.0, 3.0, 1.0, 1.0, 2.0, 0.0, 0.0, 0.0, 1.0, 0.0, 4.0, 250.0, 1.0, 2.0, 4.0, 38.0, 1.0, 1.0], [18.508518140348897, 1.4914818596511017], [0.9254259070174449, 0.07457409298255509], 0.0, 'No Risk'], ['no_checking', 9, 'credits_paid_to_date', 'car_new', 3180, '500_to_1000', '4_to_7', 2, 'male', 'none', 4, 'car_other', 31, 'stores', 'own', 1, 'unskilled', 1, 'none', 'yes', 0.0, 1.0, 1.0, 2.0, 0.0, 0.0, 1.0, 1.0, 0.0, 0.0, 1.0, 0.0, 0.0, [0.0, 1.0, 0.0, 2.0, 1.0, 0.0, 0.0, 1.0, 1.0, 0.0, 1.0, 0.0, 0.0, 9.0, 3180.0, 2.0, 4.0, 9.0, 31.0, 1.0, 1.0], [15.05284585903153, 4.94715414096847], [0.7526422929515765, 0.2473577070484235], 0.0, 'No Risk'], ['0_to_200', 16, 'credits_paid_to_date', 'car_new', 250, 'less_100', 'less_1', 3, 'female', 'none', 2, 'real_estate', 31, 'bank', 'own', 2, 'unskilled', 1, 'none', 'yes', 2.0, 1.0, 3.0, 0.0, 0.0, 0.0, 2.0, 1.0, 0.0, 0.0, 2.0, 1.0, 0.0, [2.0, 1.0, 0.0, 0.0, 3.0, 1.0, 0.0, 2.0, 2.0, 0.0, 1.0, 0.0, 0.0, 16.0, 250.0, 3.0, 2.0, 16.0, 31.0, 2.0, 1.0], [17.941966993240907, 2.058033006759092], [0.8970983496620454, 0.10290165033795459], 0.0, 'No Risk'], ['less_0', 4, 'all_credits_paid_back', 'car_new', 250, 'less_100', 'less_1', 1, 'male', 'none', 2, 'real_estate', 19, 'stores', 'rent', 1, 'skilled', 1, 'none', 'yes', 1.0, 3.0, 3.0, 0.0, 0.0, 1.0, 1.0, 0.0, 0.0, 0.0, 2.0, 0.0, 0.0, [1.0, 3.0, 0.0, 0.0, 3.0, 0.0, 0.0, 2.0, 1.0, 1.0, 0.0, 0.0, 0.0, 4.0, 250.0, 1.0, 2.0, 4.0, 19.0, 1.0, 1.0], [19.682384424438588, 0.31761557556141334], [0.9841192212219294, 0.01588077877807067], 0.0, 'No Risk'], ['0_to_200', 4, 'all_credits_paid_back', 'car_new', 250, 'less_100', 'less_1', 2, 'female', 'none', 3, 'savings_insurance', 19, 'bank', 'rent', 1, 'unskilled', 1, 'none', 'yes', 2.0, 3.0, 3.0, 0.0, 0.0, 1.0, 2.0, 1.0, 0.0, 0.0, 0.0, 1.0, 0.0, [2.0, 3.0, 0.0, 0.0, 3.0, 1.0, 0.0, 0.0, 2.0, 1.0, 1.0, 0.0, 0.0, 4.0, 250.0, 2.0, 3.0, 4.0, 19.0, 1.0, 1.0], [18.407938446892153, 1.5920615531078461], [0.9203969223446077, 0.0796030776553923], 0.0, 'No Risk'], ['less_0', 6, 'prior_payments_delayed', 'car_new', 1059, 'less_100', 'less_1', 1, 'female', 'none', 1, 'savings_insurance', 19, 'bank', 'rent', 1, 'unemployed', 1, 'none', 'yes', 1.0, 0.0, 3.0, 0.0, 0.0, 1.0, 2.0, 3.0, 0.0, 0.0, 0.0, 1.0, 0.0, [1.0, 0.0, 0.0, 0.0, 3.0, 1.0, 0.0, 0.0, 2.0, 1.0, 3.0, 0.0, 0.0, 6.0, 1059.0, 1.0, 1.0, 6.0, 19.0, 1.0, 1.0], [18.87440043191741, 1.1255995680825892], [0.9437200215958705, 0.05627997840412946], 0.0, 'No Risk'], ['no_checking', 41, 'prior_payments_delayed', 'repairs', 8851, '500_to_1000', '4_to_7', 5, 'male', 'co-applicant', 5, 'unknown', 44, 'none', 'own', 2, 'management_self-employed', 2, 'yes', 'yes', 0.0, 0.0, 1.0, 2.0, 0.0, 0.0, 0.0, 2.0, 5.0, 1.0, 3.0, 0.0, 1.0, [0.0, 0.0, 5.0, 2.0, 1.0, 0.0, 1.0, 3.0, 0.0, 0.0, 2.0, 1.0, 0.0, 41.0, 8851.0, 5.0, 5.0, 41.0, 44.0, 2.0, 2.0], [5.395132098239113, 14.604867901760889], [0.26975660491195563, 0.7302433950880445], 1.0, 'Risk'], ['less_0', 12, 'all_credits_paid_back', 'furniture', 2325, 'less_100', 'unemployed', 2, 'male', 'none', 2, 'car_other', 25, 'none', 'own', 1, 'management_self-employed', 1, 'none', 'yes', 1.0, 3.0, 4.0, 0.0, 0.0, 0.0, 0.0, 2.0, 1.0, 0.0, 1.0, 0.0, 0.0, [1.0, 3.0, 1.0, 0.0, 4.0, 0.0, 0.0, 1.0, 0.0, 0.0, 2.0, 0.0, 0.0, 12.0, 2325.0, 2.0, 2.0, 12.0, 25.0, 1.0, 1.0], [18.868268893079026, 1.1317311069209746], [0.9434134446539513, 0.05658655534604873], 0.0, 'No Risk'], ['no_checking', 29, 'prior_payments_delayed', 'car_used', 4141, '500_to_1000', '4_to_7', 3, 'male', 'none', 3, 'savings_insurance', 43, 'none', 'own', 2, 'skilled', 2, 'yes', 'yes', 0.0, 0.0, 1.0, 2.0, 0.0, 0.0, 0.0, 0.0, 2.0, 0.0, 0.0, 0.0, 1.0, [21, [2, 3, 4, 11, 13, 14, 15, 16, 17, 18, 19, 20], [2.0, 2.0, 1.0, 1.0, 29.0, 4141.0, 3.0, 3.0, 29.0, 43.0, 2.0, 2.0]], [9.832040997478583, 10.167959002521417], [0.49160204987392914, 0.5083979501260709], 1.0, 'Risk'], ['0_to_200', 27, 'credits_paid_to_date', 'furniture', 2882, '500_to_1000', '1_to_4', 2, 'female', 'none', 2, 'real_estate', 41, 'stores', 'own', 2, 'skilled', 1, 'yes', 'yes', 2.0, 1.0, 0.0, 2.0, 0.0, 0.0, 1.0, 0.0, 1.0, 0.0, 2.0, 1.0, 1.0, [2.0, 1.0, 1.0, 2.0, 0.0, 1.0, 0.0, 2.0, 1.0, 0.0, 0.0, 1.0, 0.0, 27.0, 2882.0, 2.0, 2.0, 27.0, 41.0, 2.0, 1.0], [14.239875049947742, 5.76012495005226], [0.7119937524973871, 0.288006247502613], 0.0, 'No Risk'], ['no_checking', 30, 'prior_payments_delayed', 'radio_tv', 8770, 'unknown', 'greater_7', 5, 'male', 'co-applicant', 4, 'unknown', 58, 'none', 'free', 3, 'skilled', 2, 'yes', 'yes', 0.0, 0.0, 2.0, 4.0, 0.0, 2.0, 0.0, 0.0, 3.0, 1.0, 3.0, 0.0, 1.0, [0.0, 0.0, 3.0, 4.0, 2.0, 0.0, 1.0, 3.0, 0.0, 2.0, 0.0, 1.0, 0.0, 30.0, 8770.0, 5.0, 4.0, 30.0, 58.0, 3.0, 2.0], [1.7866742357032526, 18.213325764296748], [0.08933371178516263, 0.9106662882148374], 1.0, 'Risk'], ['no_checking', 35, 'outstanding_credit', 'repairs', 8603, '500_to_1000', '1_to_4', 4, 'male', 'co-applicant', 4, 'unknown', 47, 'none', 'own', 2, 'management_self-employed', 1, 'yes', 'yes', 0.0, 2.0, 0.0, 2.0, 0.0, 0.0, 0.0, 2.0, 5.0, 1.0, 3.0, 0.0, 1.0, [0.0, 2.0, 5.0, 2.0, 0.0, 0.0, 1.0, 3.0, 0.0, 0.0, 2.0, 1.0, 0.0, 35.0, 8603.0, 4.0, 4.0, 35.0, 47.0, 2.0, 1.0], [7.5547860105275415, 12.445213989472458], [0.37773930052637705, 0.622260699473623], 1.0, 'Risk'], ['no_checking', 27, 'outstanding_credit', 'vacation', 6783, '500_to_1000', '1_to_4', 3, 'male', 'none', 3, 'savings_insurance', 41, 'none', 'own', 1, 'management_self-employed', 1, 'yes', 'yes', 0.0, 2.0, 0.0, 2.0, 0.0, 0.0, 0.0, 2.0, 6.0, 0.0, 0.0, 0.0, 1.0, [0.0, 2.0, 6.0, 2.0, 0.0, 0.0, 0.0, 0.0, 0.0, 0.0, 2.0, 1.0, 0.0, 27.0, 6783.0, 3.0, 3.0, 27.0, 41.0, 1.0, 1.0], [12.84418439264218, 7.155815607357819], [0.642209219632109, 0.3577907803678909], 0.0, 'No Risk'], ['0_to_200', 6, 'prior_payments_delayed', 'furniture', 250, 'less_100', 'unemployed', 1, 'female', 'none', 3, 'savings_insurance', 19, 'none', 'rent', 1, 'skilled', 1, 'none', 'yes', 2.0, 0.0, 4.0, 0.0, 0.0, 1.0, 0.0, 0.0, 1.0, 0.0, 0.0, 1.0, 0.0, [2.0, 0.0, 1.0, 0.0, 4.0, 1.0, 0.0, 0.0, 0.0, 1.0, 0.0, 0.0, 0.0, 6.0, 250.0, 1.0, 3.0, 6.0, 19.0, 1.0, 1.0], [18.15029284072202, 1.8497071592779757], [0.9075146420361012, 0.0924853579638988], 0.0, 'No Risk'], ['less_0', 12, 'prior_payments_delayed', 'furniture', 3403, 'less_100', '1_to_4', 3, 'female', 'none', 3, 'savings_insurance', 44, 'none', 'own', 1, 'skilled', 1, 'yes', 'yes', 1.0, 0.0, 0.0, 0.0, 0.0, 0.0, 0.0, 0.0, 1.0, 0.0, 0.0, 1.0, 1.0, [21, [0, 2, 5, 11, 13, 14, 15, 16, 17, 18, 19, 20], [1.0, 1.0, 1.0, 1.0, 12.0, 3403.0, 3.0, 3.0, 12.0, 44.0, 1.0, 1.0]], [16.178345556623658, 3.8216544433763406], [0.8089172778311828, 0.19108272216881703], 0.0, 'No Risk'], ['no_checking', 40, 'outstanding_credit', 'education', 6631, 'unknown', '4_to_7', 5, 'male', 'co-applicant', 3, 'unknown', 53, 'none', 'free', 2, 'skilled', 2, 'yes', 'yes', 0.0, 2.0, 1.0, 4.0, 0.0, 2.0, 0.0, 0.0, 7.0, 1.0, 3.0, 0.0, 1.0, [0.0, 2.0, 7.0, 4.0, 1.0, 0.0, 1.0, 3.0, 0.0, 2.0, 0.0, 1.0, 0.0, 40.0, 6631.0, 5.0, 3.0, 40.0, 53.0, 2.0, 2.0], [3.950722399785066, 16.049277600214936], [0.1975361199892533, 0.8024638800107468], 1.0, 'Risk'], ['no_checking', 37, 'prior_payments_delayed', 'appliances', 5596, '500_to_1000', 'greater_7', 4, 'male', 'none', 3, 'savings_insurance', 52, 'none', 'free', 2, 'skilled', 1, 'yes', 'yes', 0.0, 0.0, 2.0, 2.0, 0.0, 2.0, 0.0, 0.0, 4.0, 0.0, 0.0, 0.0, 1.0, [0.0, 0.0, 4.0, 2.0, 2.0, 0.0, 0.0, 0.0, 0.0, 2.0, 0.0, 1.0, 0.0, 37.0, 5596.0, 4.0, 3.0, 37.0, 52.0, 2.0, 1.0], [5.216707499711312, 14.783292500288685], [0.26083537498556564, 0.7391646250144344], 1.0, 'Risk'], ['greater_200', 28, 'prior_payments_delayed', 'appliances', 5776, 'greater_1000', '4_to_7', 4, 'male', 'none', 3, 'car_other', 52, 'none', 'own', 3, 'skilled', 2, 'yes', 'yes', 3.0, 0.0, 1.0, 3.0, 0.0, 0.0, 0.0, 0.0, 4.0, 0.0, 1.0, 0.0, 1.0, [3.0, 0.0, 4.0, 3.0, 1.0, 0.0, 0.0, 1.0, 0.0, 0.0, 0.0, 1.0, 0.0, 28.0, 5776.0, 4.0, 3.0, 28.0, 52.0, 3.0, 2.0], [7.901722852125916, 12.098277147874084], [0.3950861426062958, 0.6049138573937042], 1.0, 'Risk'], ['0_to_200', 14, 'credits_paid_to_date', 'car_new', 1646, 'less_100', 'less_1', 2, 'female', 'none', 3, 'car_other', 28, 'none', 'own', 1, 'skilled', 1, 'none', 'yes', 2.0, 1.0, 3.0, 0.0, 0.0, 0.0, 0.0, 0.0, 0.0, 0.0, 1.0, 1.0, 0.0, [2.0, 1.0, 0.0, 0.0, 3.0, 1.0, 0.0, 1.0, 0.0, 0.0, 0.0, 0.0, 0.0, 14.0, 1646.0, 2.0, 3.0, 14.0, 28.0, 1.0, 1.0], [17.231203664924347, 2.7687963350756575], [0.8615601832462172, 0.13843981675378286], 0.0, 'No Risk'], ['no_checking', 48, 'outstanding_credit', 'radio_tv', 6450, 'greater_1000', '4_to_7', 4, 'male', 'co-applicant', 5, 'unknown', 50, 'none', 'free', 2, 'skilled', 1, 'yes', 'yes', 0.0, 2.0, 1.0, 3.0, 0.0, 2.0, 0.0, 0.0, 3.0, 1.0, 3.0, 0.0, 1.0, [0.0, 2.0, 3.0, 3.0, 1.0, 0.0, 1.0, 3.0, 0.0, 2.0, 0.0, 1.0, 0.0, 48.0, 6450.0, 4.0, 5.0, 48.0, 50.0, 2.0, 1.0], [3.4957719568540253, 16.504228043145975], [0.17478859784270126, 0.8252114021572987], 1.0, 'Risk'], ['no_checking', 55, 'outstanding_credit', 'other', 9443, 'greater_1000', 'greater_7', 6, 'male', 'co-applicant', 4, 'unknown', 45, 'stores', 'own', 2, 'unemployed', 2, 'yes', 'yes', 0.0, 2.0, 2.0, 3.0, 0.0, 0.0, 1.0, 3.0, 10.0, 1.0, 3.0, 0.0, 1.0, [0.0, 2.0, 10.0, 3.0, 2.0, 0.0, 1.0, 3.0, 1.0, 0.0, 3.0, 1.0, 0.0, 55.0, 9443.0, 6.0, 4.0, 55.0, 45.0, 2.0, 2.0], [3.4113390493509006, 16.588660950649103], [0.170566952467545, 0.8294330475324551], 1.0, 'Risk'], ['less_0', 4, 'all_credits_paid_back', 'car_new', 896, 'less_100', 'less_1', 2, 'female', 'none', 1, 'savings_insurance', 24, 'none', 'rent', 1, 'skilled', 1, 'none', 'yes', 1.0, 3.0, 3.0, 0.0, 0.0, 1.0, 0.0, 0.0, 0.0, 0.0, 0.0, 1.0, 0.0, [1.0, 3.0, 0.0, 0.0, 3.0, 1.0, 0.0, 0.0, 0.0, 1.0, 0.0, 0.0, 0.0, 4.0, 896.0, 2.0, 1.0, 4.0, 24.0, 1.0, 1.0], [19.34531915406078, 0.6546808459392237], [0.9672659577030387, 0.03273404229696118], 0.0, 'No Risk'], ['no_checking', 36, 'outstanding_credit', 'repairs', 7886, '500_to_1000', 'greater_7', 4, 'male', 'co-applicant', 5, 'unknown', 50, 'none', 'free', 2, 'skilled', 1, 'yes', 'yes', 0.0, 2.0, 2.0, 2.0, 0.0, 2.0, 0.0, 0.0, 5.0, 1.0, 3.0, 0.0, 1.0, [0.0, 2.0, 5.0, 2.0, 2.0, 0.0, 1.0, 3.0, 0.0, 2.0, 0.0, 1.0, 0.0, 36.0, 7886.0, 4.0, 5.0, 36.0, 50.0, 2.0, 1.0], [1.461871257621741, 18.538128742378262], [0.07309356288108704, 0.926906437118913], 1.0, 'Risk'], ['0_to_200', 26, 'all_credits_paid_back', 'car_new', 2281, 'less_100', 'less_1', 2, 'female', 'none', 2, 'real_estate', 20, 'stores', 'rent', 1, 'unskilled', 1, 'none', 'yes', 2.0, 3.0, 3.0, 0.0, 0.0, 1.0, 1.0, 1.0, 0.0, 0.0, 2.0, 1.0, 0.0, [2.0, 3.0, 0.0, 0.0, 3.0, 1.0, 0.0, 2.0, 1.0, 1.0, 1.0, 0.0, 0.0, 26.0, 2281.0, 2.0, 2.0, 26.0, 20.0, 1.0, 1.0], [17.75154157854918, 2.248458421450822], [0.887577078927459, 0.11242292107254111], 0.0, 'No Risk'], ['no_checking', 26, 'prior_payments_delayed', 'car_used', 4653, '500_to_1000', '4_to_7', 4, 'male', 'none', 4, 'unknown', 49, 'none', 'own', 2, 'skilled', 1, 'yes', 'yes', 0.0, 0.0, 1.0, 2.0, 0.0, 0.0, 0.0, 0.0, 2.0, 0.0, 3.0, 0.0, 1.0, [0.0, 0.0, 2.0, 2.0, 1.0, 0.0, 0.0, 3.0, 0.0, 0.0, 0.0, 1.0, 0.0, 26.0, 4653.0, 4.0, 4.0, 26.0, 49.0, 2.0, 1.0], [6.665139715697372, 13.334860284302627], [0.3332569857848686, 0.6667430142151314], 1.0, 'Risk'], ['less_0', 14, 'prior_payments_delayed', 'car_new', 2321, 'less_100', '4_to_7', 3, 'male', 'none', 3, 'unknown', 34, 'none', 'rent', 1, 'skilled', 1, 'yes', 'yes', 1.0, 0.0, 1.0, 0.0, 0.0, 1.0, 0.0, 0.0, 0.0, 0.0, 3.0, 0.0, 1.0, [1.0, 0.0, 0.0, 0.0, 1.0, 0.0, 0.0, 3.0, 0.0, 1.0, 0.0, 1.0, 0.0, 14.0, 2321.0, 3.0, 3.0, 14.0, 34.0, 1.0, 1.0], [14.590945341353411, 5.409054658646587], [0.7295472670676706, 0.27045273293232935], 0.0, 'No Risk'], ['no_checking', 27, 'prior_payments_delayed', 'radio_tv', 8232, '100_to_500', 'greater_7', 4, 'male', 'none', 4, 'unknown', 57, 'none', 'own', 2, 'skilled', 1, 'none', 'yes', 0.0, 0.0, 2.0, 1.0, 0.0, 0.0, 0.0, 0.0, 3.0, 0.0, 3.0, 0.0, 0.0, [21, [2, 3, 4, 7, 13, 14, 15, 16, 17, 18, 19, 20], [3.0, 1.0, 2.0, 3.0, 27.0, 8232.0, 4.0, 4.0, 27.0, 57.0, 2.0, 1.0]], [6.280487631164128, 13.71951236883587], [0.3140243815582064, 0.6859756184417936], 1.0, 'Risk'], ['no_checking', 31, 'outstanding_credit', 'furniture', 6759, '500_to_1000', '4_to_7', 4, 'male', 'none', 5, 'unknown', 44, 'none', 'own', 2, 'skilled', 1, 'yes', 'yes', 0.0, 2.0, 1.0, 2.0, 0.0, 0.0, 0.0, 0.0, 1.0, 0.0, 3.0, 0.0, 1.0, [0.0, 2.0, 1.0, 2.0, 1.0, 0.0, 0.0, 3.0, 0.0, 0.0, 0.0, 1.0, 0.0, 31.0, 6759.0, 4.0, 5.0, 31.0, 44.0, 2.0, 1.0], [8.332460963853407, 11.667539036146593], [0.4166230481926704, 0.5833769518073296], 1.0, 'Risk'], ['0_to_200', 20, 'prior_payments_delayed', 'retraining', 4293, '100_to_500', '1_to_4', 2, 'male', 'none', 1, 'car_other', 36, 'none', 'own', 2, 'skilled', 1, 'yes', 'yes', 2.0, 0.0, 0.0, 1.0, 0.0, 0.0, 0.0, 0.0, 8.0, 0.0, 1.0, 0.0, 1.0, [2.0, 0.0, 8.0, 1.0, 0.0, 0.0, 0.0, 1.0, 0.0, 0.0, 0.0, 1.0, 0.0, 20.0, 4293.0, 2.0, 1.0, 20.0, 36.0, 2.0, 1.0], [14.063979810642905, 5.936020189357093], [0.7031989905321453, 0.29680100946785465], 0.0, 'No Risk'], ['no_checking', 29, 'prior_payments_delayed', 'car_used', 7477, '100_to_500', 'greater_7', 5, 'male', 'co-applicant', 4, 'savings_insurance', 42, 'stores', 'own', 2, 'unskilled', 1, 'none', 'yes', 0.0, 0.0, 2.0, 1.0, 0.0, 0.0, 1.0, 1.0, 2.0, 1.0, 0.0, 0.0, 0.0, [0.0, 0.0, 2.0, 1.0, 2.0, 0.0, 1.0, 0.0, 1.0, 0.0, 1.0, 0.0, 0.0, 29.0, 7477.0, 5.0, 4.0, 29.0, 42.0, 2.0, 1.0], [7.4113059268191535, 12.588694073180845], [0.3705652963409577, 0.6294347036590422], 1.0, 'Risk'], ['0_to_200', 17, 'prior_payments_delayed', 'car_new', 4896, 'less_100', '4_to_7', 4, 'male', 'none', 4, 'car_other', 38, 'none', 'own', 1, 'management_self-employed', 1, 'yes', 'yes', 2.0, 0.0, 1.0, 0.0, 0.0, 0.0, 0.0, 2.0, 0.0, 0.0, 1.0, 0.0, 1.0, [2.0, 0.0, 0.0, 0.0, 1.0, 0.0, 0.0, 1.0, 0.0, 0.0, 2.0, 1.0, 0.0, 17.0, 4896.0, 4.0, 4.0, 17.0, 38.0, 1.0, 1.0], [12.339903097156444, 7.660096902843556], [0.6169951548578222, 0.3830048451421778], 0.0, 'No Risk'], ['greater_200', 17, 'credits_paid_to_date', 'furniture', 3989, '500_to_1000', '1_to_4', 2, 'female', 'none', 1, 'car_other', 33, 'stores', 'own', 1, 'skilled', 1, 'none', 'yes', 3.0, 1.0, 0.0, 2.0, 0.0, 0.0, 1.0, 0.0, 1.0, 0.0, 1.0, 1.0, 0.0, [3.0, 1.0, 1.0, 2.0, 0.0, 1.0, 0.0, 1.0, 1.0, 0.0, 0.0, 0.0, 0.0, 17.0, 3989.0, 2.0, 1.0, 17.0, 33.0, 1.0, 1.0], [16.590014915335402, 3.409985084664597], [0.8295007457667701, 0.17049925423322984], 0.0, 'No Risk'], ['less_0', 16, 'prior_payments_delayed', 'car_new', 1833, 'less_100', '4_to_7', 2, 'male', 'none', 3, 'car_other', 27, 'none', 'own', 2, 'skilled', 1, 'none', 'yes', 1.0, 0.0, 1.0, 0.0, 0.0, 0.0, 0.0, 0.0, 0.0, 0.0, 1.0, 0.0, 0.0, [21, [0, 4, 7, 13, 14, 15, 16, 17, 18, 19, 20], [1.0, 1.0, 1.0, 16.0, 1833.0, 2.0, 3.0, 16.0, 27.0, 2.0, 1.0]], [15.305629571481834, 4.6943704285181695], [0.7652814785740916, 0.23471852142590843], 0.0, 'No Risk'], ['less_0', 4, 'no_credits', 'education', 250, 'less_100', 'less_1', 2, 'male', 'none', 1, 'real_estate', 19, 'stores', 'rent', 1, 'skilled', 1, 'none', 'yes', 1.0, 4.0, 3.0, 0.0, 0.0, 1.0, 1.0, 0.0, 7.0, 0.0, 2.0, 0.0, 0.0, [1.0, 4.0, 7.0, 0.0, 3.0, 0.0, 0.0, 2.0, 1.0, 1.0, 0.0, 0.0, 0.0, 4.0, 250.0, 2.0, 1.0, 4.0, 19.0, 1.0, 1.0], [19.70166817099506, 0.29833182900493954], [0.985083408549753, 0.014916591450246977], 0.0, 'No Risk'], ['less_0', 15, 'credits_paid_to_date', 'car_new', 1548, 'less_100', 'less_1', 2, 'female', 'none', 2, 'car_other', 21, 'stores', 'own', 1, 'skilled', 1, 'none', 'yes', 1.0, 1.0, 3.0, 0.0, 0.0, 0.0, 1.0, 0.0, 0.0, 0.0, 1.0, 1.0, 0.0, [1.0, 1.0, 0.0, 0.0, 3.0, 1.0, 0.0, 1.0, 1.0, 0.0, 0.0, 0.0, 0.0, 15.0, 1548.0, 2.0, 2.0, 15.0, 21.0, 1.0, 1.0], [17.85270246667946, 2.147297533320544], [0.8926351233339729, 0.10736487666602719], 0.0, 'No Risk'], ['0_to_200', 29, 'outstanding_credit', 'appliances', 4048, '100_to_500', '4_to_7', 4, 'male', 'none', 3, 'savings_insurance', 36, 'none', 'own', 1, 'skilled', 1, 'none', 'yes', 2.0, 2.0, 1.0, 1.0, 0.0, 0.0, 0.0, 0.0, 4.0, 0.0, 0.0, 0.0, 0.0, [2.0, 2.0, 4.0, 1.0, 1.0, 0.0, 0.0, 0.0, 0.0, 0.0, 0.0, 0.0, 0.0, 29.0, 4048.0, 4.0, 3.0, 29.0, 36.0, 1.0, 1.0], [12.629941574715412, 7.370058425284591], [0.6314970787357704, 0.36850292126422945], 0.0, 'No Risk'], ['no_checking', 31, 'prior_payments_delayed', 'furniture', 5524, '100_to_500', '4_to_7', 4, 'male', 'none', 3, 'savings_insurance', 40, 'none', 'own', 1, 'management_self-employed', 1, 'none', 'yes', 0.0, 0.0, 1.0, 1.0, 0.0, 0.0, 0.0, 2.0, 1.0, 0.0, 0.0, 0.0, 0.0, [21, [2, 3, 4, 10, 13, 14, 15, 16, 17, 18, 19, 20], [1.0, 1.0, 1.0, 2.0, 31.0, 5524.0, 4.0, 3.0, 31.0, 40.0, 1.0, 1.0]], [12.11588544449479, 7.884114555505209], [0.6057942722247395, 0.3942057277752605], 0.0, 'No Risk'], ['0_to_200', 17, 'credits_paid_to_date', 'vacation', 250, 'less_100', 'unemployed', 1, 'female', 'none', 1, 'real_estate', 33, 'none', 'rent', 1, 'skilled', 1, 'none', 'yes', 2.0, 1.0, 4.0, 0.0, 0.0, 1.0, 0.0, 0.0, 6.0, 0.0, 2.0, 1.0, 0.0, [2.0, 1.0, 6.0, 0.0, 4.0, 1.0, 0.0, 2.0, 0.0, 1.0, 0.0, 0.0, 0.0, 17.0, 250.0, 1.0, 1.0, 17.0, 33.0, 1.0, 1.0], [18.223448716249045, 1.7765512837509565], [0.9111724358124522, 0.08882756418754782], 0.0, 'No Risk'], ['less_0', 4, 'credits_paid_to_date', 'education', 1131, '100_to_500', '4_to_7', 3, 'male', 'none', 2, 'savings_insurance', 21, 'none', 'own', 1, 'management_self-employed', 1, 'none', 'yes', 1.0, 1.0, 1.0, 1.0, 0.0, 0.0, 0.0, 2.0, 7.0, 0.0, 0.0, 0.0, 0.0, [1.0, 1.0, 7.0, 1.0, 1.0, 0.0, 0.0, 0.0, 0.0, 0.0, 2.0, 0.0, 0.0, 4.0, 1131.0, 3.0, 2.0, 4.0, 21.0, 1.0, 1.0], [18.464364305508873, 1.5356356944911242], [0.9232182152754438, 0.07678178472455623], 0.0, 'No Risk'], ['no_checking', 30, 'prior_payments_delayed', 'other', 8675, 'greater_1000', '1_to_4', 4, 'male', 'none', 3, 'car_other', 43, 'stores', 'own', 2, 'unskilled', 1, 'none', 'yes', 0.0, 0.0, 0.0, 3.0, 0.0, 0.0, 1.0, 1.0, 10.0, 0.0, 1.0, 0.0, 0.0, [0.0, 0.0, 10.0, 3.0, 0.0, 0.0, 0.0, 1.0, 1.0, 0.0, 1.0, 0.0, 0.0, 30.0, 8675.0, 4.0, 3.0, 30.0, 43.0, 2.0, 1.0], [12.164141917175563, 7.835858082824435], [0.6082070958587782, 0.39179290414122175], 0.0, 'No Risk'], ['less_0', 4, 'credits_paid_to_date', 'car_used', 250, '100_to_500', 'less_1', 1, 'female', 'none', 1, 'savings_insurance', 34, 'stores', 'rent', 1, 'skilled', 1, 'none', 'yes', 1.0, 1.0, 3.0, 1.0, 0.0, 1.0, 1.0, 0.0, 2.0, 0.0, 0.0, 1.0, 0.0, [1.0, 1.0, 2.0, 1.0, 3.0, 1.0, 0.0, 0.0, 1.0, 1.0, 0.0, 0.0, 0.0, 4.0, 250.0, 1.0, 1.0, 4.0, 34.0, 1.0, 1.0], [18.168711915036084, 1.831288084963913], [0.9084355957518043, 0.09156440424819567], 0.0, 'No Risk'], ['less_0', 32, 'credits_paid_to_date', 'car_used', 1800, 'less_100', '4_to_7', 2, 'male', 'none', 3, 'car_other', 33, 'none', 'rent', 1, 'skilled', 1, 'none', 'yes', 1.0, 1.0, 1.0, 0.0, 0.0, 1.0, 0.0, 0.0, 2.0, 0.0, 1.0, 0.0, 0.0, [1.0, 1.0, 2.0, 0.0, 1.0, 0.0, 0.0, 1.0, 0.0, 1.0, 0.0, 0.0, 0.0, 32.0, 1800.0, 2.0, 3.0, 32.0, 33.0, 1.0, 1.0], [12.81939810588468, 7.180601894115319], [0.640969905294234, 0.35903009470576597], 0.0, 'No Risk'], ['less_0', 11, 'credits_paid_to_date', 'vacation', 1130, 'less_100', '4_to_7', 3, 'female', 'none', 3, 'savings_insurance', 37, 'none', 'own', 1, 'skilled', 1, 'none', 'yes', 1.0, 1.0, 1.0, 0.0, 0.0, 0.0, 0.0, 0.0, 6.0, 0.0, 0.0, 1.0, 0.0, [1.0, 1.0, 6.0, 0.0, 1.0, 1.0, 0.0, 0.0, 0.0, 0.0, 0.0, 0.0, 0.0, 11.0, 1130.0, 3.0, 3.0, 11.0, 37.0, 1.0, 1.0], [16.540712264197126, 3.4592877358028744], [0.8270356132098563, 0.17296438679014373], 0.0, 'No Risk'], ['0_to_200', 14, 'prior_payments_delayed', 'furniture', 250, 'greater_1000', '1_to_4', 3, 'male', 'none', 2, 'savings_insurance', 19, 'none', 'rent', 1, 'skilled', 1, 'none', 'yes', 2.0, 0.0, 0.0, 3.0, 0.0, 1.0, 0.0, 0.0, 1.0, 0.0, 0.0, 0.0, 0.0, [21, [0, 2, 3, 9, 13, 14, 15, 16, 17, 18, 19, 20], [2.0, 1.0, 3.0, 1.0, 14.0, 250.0, 3.0, 2.0, 14.0, 19.0, 1.0, 1.0]], [17.987931630179776, 2.012068369820224], [0.8993965815089888, 0.1006034184910112], 0.0, 'No Risk'], ['less_0', 26, 'credits_paid_to_date', 'radio_tv', 2553, 'less_100', '1_to_4', 3, 'male', 'none', 2, 'savings_insurance', 26, 'none', 'own', 1, 'skilled', 1, 'yes', 'yes', 1.0, 1.0, 0.0, 0.0, 0.0, 0.0, 0.0, 0.0, 3.0, 0.0, 0.0, 0.0, 1.0, [21, [0, 1, 2, 11, 13, 14, 15, 16, 17, 18, 19, 20], [1.0, 1.0, 3.0, 1.0, 26.0, 2553.0, 3.0, 2.0, 26.0, 26.0, 1.0, 1.0]], [15.6616611037959, 4.338338896204101], [0.783083055189795, 0.21691694481020507], 0.0, 'No Risk'], ['greater_200', 29, 'prior_payments_delayed', 'furniture', 3361, '100_to_500', '1_to_4', 3, 'female', 'none', 4, 'car_other', 31, 'bank', 'own', 1, 'unemployed', 1, 'yes', 'yes', 3.0, 0.0, 0.0, 1.0, 0.0, 0.0, 2.0, 3.0, 1.0, 0.0, 1.0, 1.0, 1.0, [3.0, 0.0, 1.0, 1.0, 0.0, 1.0, 0.0, 1.0, 2.0, 0.0, 3.0, 1.0, 0.0, 29.0, 3361.0, 3.0, 4.0, 29.0, 31.0, 1.0, 1.0], [13.60762563750068, 6.392374362499316], [0.6803812818750341, 0.31961871812496584], 0.0, 'No Risk'], ['less_0', 18, 'credits_paid_to_date', 'car_new', 250, 'less_100', 'unemployed', 1, 'female', 'none', 2, 'real_estate', 19, 'stores', 'rent', 1, 'unskilled', 1, 'none', 'yes', 1.0, 1.0, 4.0, 0.0, 0.0, 1.0, 1.0, 1.0, 0.0, 0.0, 2.0, 1.0, 0.0, [1.0, 1.0, 0.0, 0.0, 4.0, 1.0, 0.0, 2.0, 1.0, 1.0, 1.0, 0.0, 0.0, 18.0, 250.0, 1.0, 2.0, 18.0, 19.0, 1.0, 1.0], [19.02910939005878, 0.9708906099412173], [0.9514554695029391, 0.04854453049706087], 0.0, 'No Risk'], ['no_checking', 32, 'outstanding_credit', 'appliances', 5259, 'unknown', '4_to_7', 4, 'male', 'none', 5, 'car_other', 40, 'none', 'own', 2, 'unskilled', 2, 'yes', 'yes', 0.0, 2.0, 1.0, 4.0, 0.0, 0.0, 0.0, 1.0, 4.0, 0.0, 1.0, 0.0, 1.0, [0.0, 2.0, 4.0, 4.0, 1.0, 0.0, 0.0, 1.0, 0.0, 0.0, 1.0, 1.0, 0.0, 32.0, 5259.0, 4.0, 5.0, 32.0, 40.0, 2.0, 2.0], [9.634642257301126, 10.365357742698876], [0.4817321128650563, 0.5182678871349438], 1.0, 'Risk'], ['0_to_200', 4, 'prior_payments_delayed', 'education', 250, '500_to_1000', 'less_1', 2, 'female', 'none', 1, 'real_estate', 19, 'none', 'rent', 1, 'skilled', 1, 'none', 'no', 2.0, 0.0, 3.0, 2.0, 1.0, 1.0, 0.0, 0.0, 7.0, 0.0, 2.0, 1.0, 0.0, [2.0, 0.0, 7.0, 2.0, 3.0, 1.0, 0.0, 2.0, 0.0, 1.0, 0.0, 0.0, 1.0, 4.0, 250.0, 2.0, 1.0, 4.0, 19.0, 1.0, 1.0], [19.206392750803687, 0.7936072491963113], [0.9603196375401843, 0.039680362459815564], 0.0, 'No Risk'], ['less_0', 11, 'prior_payments_delayed', 'furniture', 1000, '500_to_1000', 'less_1', 3, 'female', 'none', 1, 'car_other', 32, 'stores', 'rent', 1, 'skilled', 2, 'yes', 'yes', 1.0, 0.0, 3.0, 2.0, 0.0, 1.0, 1.0, 0.0, 1.0, 0.0, 1.0, 1.0, 1.0, [1.0, 0.0, 1.0, 2.0, 3.0, 1.0, 0.0, 1.0, 1.0, 1.0, 0.0, 1.0, 0.0, 11.0, 1000.0, 3.0, 1.0, 11.0, 32.0, 1.0, 2.0], [17.46500554223849, 2.534994457761509], [0.8732502771119245, 0.12674972288807546], 0.0, 'No Risk'], ['less_0', 23, 'credits_paid_to_date', 'car_new', 439, 'less_100', 'less_1', 2, 'female', 'none', 3, 'real_estate', 29, 'none', 'own', 1, 'skilled', 1, 'none', 'yes', 1.0, 1.0, 3.0, 0.0, 0.0, 0.0, 0.0, 0.0, 0.0, 0.0, 2.0, 1.0, 0.0, [1.0, 1.0, 0.0, 0.0, 3.0, 1.0, 0.0, 2.0, 0.0, 0.0, 0.0, 0.0, 0.0, 23.0, 439.0, 2.0, 3.0, 23.0, 29.0, 1.0, 1.0], [17.768223717138742, 2.231776282861262], [0.8884111858569369, 0.11158881414306308], 0.0, 'No Risk'], ['no_checking', 32, 'outstanding_credit', 'appliances', 6193, 'greater_1000', '4_to_7', 3, 'male', 'co-applicant', 3, 'savings_insurance', 33, 'none', 'own', 1, 'management_self-employed', 1, 'none', 'yes', 0.0, 2.0, 1.0, 3.0, 0.0, 0.0, 0.0, 2.0, 4.0, 1.0, 0.0, 0.0, 0.0, [0.0, 2.0, 4.0, 3.0, 1.0, 0.0, 1.0, 0.0, 0.0, 0.0, 2.0, 0.0, 0.0, 32.0, 6193.0, 3.0, 3.0, 32.0, 33.0, 1.0, 1.0], [9.84270213035882, 10.157297869641178], [0.492135106517941, 0.5078648934820589], 1.0, 'Risk'], ['no_checking', 28, 'outstanding_credit', 'repairs', 5360, 'unknown', 'greater_7', 5, 'male', 'none', 3, 'unknown', 47, 'stores', 'rent', 2, 'unskilled', 2, 'yes', 'yes', 0.0, 2.0, 2.0, 4.0, 0.0, 1.0, 1.0, 1.0, 5.0, 0.0, 3.0, 0.0, 1.0, [0.0, 2.0, 5.0, 4.0, 2.0, 0.0, 0.0, 3.0, 1.0, 1.0, 1.0, 1.0, 0.0, 28.0, 5360.0, 5.0, 3.0, 28.0, 47.0, 2.0, 2.0], [8.049456545960776, 11.950543454039227], [0.40247282729803874, 0.5975271727019612], 1.0, 'Risk'], ['0_to_200', 18, 'prior_payments_delayed', 'furniture', 3544, '100_to_500', '4_to_7', 3, 'male', 'none', 3, 'unknown', 43, 'none', 'own', 2, 'skilled', 1, 'yes', 'yes', 2.0, 0.0, 1.0, 1.0, 0.0, 0.0, 0.0, 0.0, 1.0, 0.0, 3.0, 0.0, 1.0, [2.0, 0.0, 1.0, 1.0, 1.0, 0.0, 0.0, 3.0, 0.0, 0.0, 0.0, 1.0, 0.0, 18.0, 3544.0, 3.0, 3.0, 18.0, 43.0, 2.0, 1.0], [12.385044673965828, 7.614955326034171], [0.6192522336982914, 0.3807477663017086], 0.0, 'No Risk'], ['0_to_200', 12, 'credits_paid_to_date', 'car_new', 250, 'less_100', 'less_1', 1, 'male', 'none', 3, 'savings_insurance', 22, 'none', 'rent', 1, 'skilled', 1, 'none', 'yes', 2.0, 1.0, 3.0, 0.0, 0.0, 1.0, 0.0, 0.0, 0.0, 0.0, 0.0, 0.0, 0.0, [21, [0, 1, 4, 9, 13, 14, 15, 16, 17, 18, 19, 20], [2.0, 1.0, 3.0, 1.0, 12.0, 250.0, 1.0, 3.0, 12.0, 22.0, 1.0, 1.0]], [18.429985951293723, 1.570014048706275], [0.9214992975646862, 0.07850070243531375], 0.0, 'No Risk'], ['no_checking', 26, 'credits_paid_to_date', 'retraining', 5320, 'less_100', 'less_1', 4, 'female', 'none', 4, 'real_estate', 30, 'none', 'rent', 1, 'management_self-employed', 1, 'none', 'yes', 0.0, 1.0, 3.0, 0.0, 0.0, 1.0, 0.0, 2.0, 8.0, 0.0, 2.0, 1.0, 0.0, [0.0, 1.0, 8.0, 0.0, 3.0, 1.0, 0.0, 2.0, 0.0, 1.0, 2.0, 0.0, 0.0, 26.0, 5320.0, 4.0, 4.0, 26.0, 30.0, 1.0, 1.0], [14.20556337304962, 5.794436626950383], [0.7102781686524808, 0.2897218313475191], 0.0, 'No Risk'], ['0_to_200', 10, 'prior_payments_delayed', 'furniture', 250, '100_to_500', 'less_1', 2, 'male', 'none', 3, 'savings_insurance', 29, 'stores', 'rent', 1, 'skilled', 2, 'none', 'yes', 2.0, 0.0, 3.0, 1.0, 0.0, 1.0, 1.0, 0.0, 1.0, 0.0, 0.0, 0.0, 0.0, [2.0, 0.0, 1.0, 1.0, 3.0, 0.0, 0.0, 0.0, 1.0, 1.0, 0.0, 0.0, 0.0, 10.0, 250.0, 2.0, 3.0, 10.0, 29.0, 1.0, 2.0], [18.08387176627737, 1.9161282337226295], [0.9041935883138684, 0.09580641168613148], 0.0, 'No Risk'], ['no_checking', 37, 'outstanding_credit', 'radio_tv', 3297, 'greater_1000', 'greater_7', 4, 'male', 'co-applicant', 3, 'savings_insurance', 40, 'none', 'free', 2, 'skilled', 1, 'yes', 'yes', 0.0, 2.0, 2.0, 3.0, 0.0, 2.0, 0.0, 0.0, 3.0, 1.0, 0.0, 0.0, 1.0, [0.0, 2.0, 3.0, 3.0, 2.0, 0.0, 1.0, 0.0, 0.0, 2.0, 0.0, 1.0, 0.0, 37.0, 3297.0, 4.0, 3.0, 37.0, 40.0, 2.0, 1.0], [4.795315625860638, 15.20468437413936], [0.23976578129303192, 0.760234218706968], 1.0, 'Risk'], ['0_to_200', 13, 'prior_payments_delayed', 'furniture', 4754, '100_to_500', '1_to_4', 3, 'male', 'none', 4, 'car_other', 40, 'none', 'own', 2, 'management_self-employed', 1, 'yes', 'yes', 2.0, 0.0, 0.0, 1.0, 0.0, 0.0, 0.0, 2.0, 1.0, 0.0, 1.0, 0.0, 1.0, [2.0, 0.0, 1.0, 1.0, 0.0, 0.0, 0.0, 1.0, 0.0, 0.0, 2.0, 1.0, 0.0, 13.0, 4754.0, 3.0, 4.0, 13.0, 40.0, 2.0, 1.0], [13.542607864897269, 6.4573921351027295], [0.6771303932448635, 0.3228696067551365], 0.0, 'No Risk'], ['no_checking', 25, 'prior_payments_delayed', 'radio_tv', 4246, 'greater_1000', 'greater_7', 4, 'male', 'none', 4, 'savings_insurance', 46, 'none', 'own', 1, 'skilled', 1, 'none', 'yes', 0.0, 0.0, 2.0, 3.0, 0.0, 0.0, 0.0, 0.0, 3.0, 0.0, 0.0, 0.0, 0.0, [21, [2, 3, 4, 13, 14, 15, 16, 17, 18, 19, 20], [3.0, 3.0, 2.0, 25.0, 4246.0, 4.0, 4.0, 25.0, 46.0, 1.0, 1.0]], [9.83862249697834, 10.16137750302166], [0.491931124848917, 0.508068875151083], 1.0, 'Risk'], ['greater_200', 24, 'credits_paid_to_date', 'car_used', 6428, 'less_100', '4_to_7', 4, 'female', 'none', 4, 'car_other', 54, 'none', 'own', 1, 'skilled', 1, 'yes', 'yes', 3.0, 1.0, 1.0, 0.0, 0.0, 0.0, 0.0, 0.0, 2.0, 0.0, 1.0, 1.0, 1.0, [3.0, 1.0, 2.0, 0.0, 1.0, 1.0, 0.0, 1.0, 0.0, 0.0, 0.0, 1.0, 0.0, 24.0, 6428.0, 4.0, 4.0, 24.0, 54.0, 1.0, 1.0], [10.203690910509604, 9.796309089490396], [0.5101845455254802, 0.4898154544745198], 0.0, 'No Risk'], ['no_checking', 27, 'outstanding_credit', 'other', 4810, 'greater_1000', '4_to_7', 3, 'male', 'none', 3, 'unknown', 42, 'none', 'own', 1, 'skilled', 2, 'yes', 'yes', 0.0, 2.0, 1.0, 3.0, 0.0, 0.0, 0.0, 0.0, 10.0, 0.0, 3.0, 0.0, 1.0, [0.0, 2.0, 10.0, 3.0, 1.0, 0.0, 0.0, 3.0, 0.0, 0.0, 0.0, 1.0, 0.0, 27.0, 4810.0, 3.0, 3.0, 27.0, 42.0, 1.0, 2.0], [10.723213435685476, 9.276786564314524], [0.5361606717842738, 0.46383932821572615], 0.0, 'No Risk'], ['less_0', 8, 'prior_payments_delayed', 'car_used', 3191, 'less_100', 'unemployed', 1, 'female', 'none', 2, 'car_other', 27, 'none', 'own', 1, 'skilled', 1, 'none', 'yes', 1.0, 0.0, 4.0, 0.0, 0.0, 0.0, 0.0, 0.0, 2.0, 0.0, 1.0, 1.0, 0.0, [1.0, 0.0, 2.0, 0.0, 4.0, 1.0, 0.0, 1.0, 0.0, 0.0, 0.0, 0.0, 0.0, 8.0, 3191.0, 1.0, 2.0, 8.0, 27.0, 1.0, 1.0], [18.38491894104214, 1.615081058957861], [0.9192459470521069, 0.08075405294789303], 0.0, 'No Risk'], ['0_to_200', 20, 'credits_paid_to_date', 'repairs', 3782, 'less_100', '1_to_4', 3, 'male', 'none', 2, 'car_other', 30, 'none', 'own', 1, 'skilled', 1, 'yes', 'yes', 2.0, 1.0, 0.0, 0.0, 0.0, 0.0, 0.0, 0.0, 5.0, 0.0, 1.0, 0.0, 1.0, [2.0, 1.0, 5.0, 0.0, 0.0, 0.0, 0.0, 1.0, 0.0, 0.0, 0.0, 1.0, 0.0, 20.0, 3782.0, 3.0, 2.0, 20.0, 30.0, 1.0, 1.0], [15.011193767106544, 4.988806232893457], [0.7505596883553272, 0.24944031164467284], 0.0, 'No Risk'], ['no_checking', 34, 'outstanding_credit', 'business', 6954, 'unknown', 'greater_7', 5, 'male', 'none', 4, 'car_other', 45, 'none', 'free', 2, 'skilled', 2, 'yes', 'yes', 0.0, 2.0, 2.0, 4.0, 0.0, 2.0, 0.0, 0.0, 9.0, 0.0, 1.0, 0.0, 1.0, [0.0, 2.0, 9.0, 4.0, 2.0, 0.0, 0.0, 1.0, 0.0, 2.0, 0.0, 1.0, 0.0, 34.0, 6954.0, 5.0, 4.0, 34.0, 45.0, 2.0, 2.0], [5.350093648620003, 14.649906351379997], [0.2675046824310002, 0.7324953175689999], 1.0, 'Risk'], ['less_0', 4, 'credits_paid_to_date', 'car_used', 250, 'less_100', 'less_1', 2, 'female', 'none', 1, 'real_estate', 22, 'bank', 'rent', 1, 'unskilled', 1, 'none', 'yes', 1.0, 1.0, 3.0, 0.0, 0.0, 1.0, 2.0, 1.0, 2.0, 0.0, 2.0, 1.0, 0.0, [1.0, 1.0, 2.0, 0.0, 3.0, 1.0, 0.0, 2.0, 2.0, 1.0, 1.0, 0.0, 0.0, 4.0, 250.0, 2.0, 1.0, 4.0, 22.0, 1.0, 1.0], [19.358154871530736, 0.6418451284692633], [0.9679077435765369, 0.03209225642346317], 0.0, 'No Risk'], ['0_to_200', 26, 'credits_paid_to_date', 'car_used', 1871, 'less_100', '4_to_7', 3, 'male', 'none', 3, 'car_other', 36, 'none', 'rent', 2, 'skilled', 1, 'yes', 'no', 2.0, 1.0, 1.0, 0.0, 1.0, 1.0, 0.0, 0.0, 2.0, 0.0, 1.0, 0.0, 1.0, [2.0, 1.0, 2.0, 0.0, 1.0, 0.0, 0.0, 1.0, 0.0, 1.0, 0.0, 1.0, 1.0, 26.0, 1871.0, 3.0, 3.0, 26.0, 36.0, 2.0, 1.0], [11.298404954889953, 8.701595045110047], [0.5649202477444977, 0.43507975225550233], 0.0, 'No Risk'], ['no_checking', 28, 'prior_payments_delayed', 'furniture', 4425, '100_to_500', '4_to_7', 3, 'male', 'none', 4, 'car_other', 41, 'none', 'own', 1, 'management_self-employed', 1, 'yes', 'yes', 0.0, 0.0, 1.0, 1.0, 0.0, 0.0, 0.0, 2.0, 1.0, 0.0, 1.0, 0.0, 1.0, [0.0, 0.0, 1.0, 1.0, 1.0, 0.0, 0.0, 1.0, 0.0, 0.0, 2.0, 1.0, 0.0, 28.0, 4425.0, 3.0, 4.0, 28.0, 41.0, 1.0, 1.0], [10.481110366537525, 9.518889633462477], [0.5240555183268762, 0.47594448167312386], 0.0, 'No Risk'], ['no_checking', 29, 'outstanding_credit', 'furniture', 7735, 'greater_1000', '1_to_4', 3, 'male', 'none', 5, 'car_other', 27, 'none', 'own', 1, 'skilled', 2, 'yes', 'yes', 0.0, 2.0, 0.0, 3.0, 0.0, 0.0, 0.0, 0.0, 1.0, 0.0, 1.0, 0.0, 1.0, [0.0, 2.0, 1.0, 3.0, 0.0, 0.0, 0.0, 1.0, 0.0, 0.0, 0.0, 1.0, 0.0, 29.0, 7735.0, 3.0, 5.0, 29.0, 27.0, 1.0, 2.0], [10.556190911531425, 9.443809088468573], [0.5278095455765712, 0.47219045442342866], 0.0, 'No Risk'], ['less_0', 4, 'no_credits', 'car_new', 3587, 'less_100', 'unemployed', 1, 'male', 'none', 2, 'real_estate', 21, 'none', 'rent', 1, 'skilled', 1, 'none', 'yes', 1.0, 4.0, 4.0, 0.0, 0.0, 1.0, 0.0, 0.0, 0.0, 0.0, 2.0, 0.0, 0.0, [1.0, 4.0, 0.0, 0.0, 4.0, 0.0, 0.0, 2.0, 0.0, 1.0, 0.0, 0.0, 0.0, 4.0, 3587.0, 1.0, 2.0, 4.0, 21.0, 1.0, 1.0], [19.309167255719423, 0.6908327442805823], [0.965458362785971, 0.03454163721402911], 0.0, 'No Risk'], ['less_0', 28, 'outstanding_credit', 'appliances', 6505, '100_to_500', 'greater_7', 3, 'male', 'none', 2, 'unknown', 36, 'none', 'own', 2, 'skilled', 1, 'none', 'yes', 1.0, 2.0, 2.0, 1.0, 0.0, 0.0, 0.0, 0.0, 4.0, 0.0, 3.0, 0.0, 0.0, [1.0, 2.0, 4.0, 1.0, 2.0, 0.0, 0.0, 3.0, 0.0, 0.0, 0.0, 0.0, 0.0, 28.0, 6505.0, 3.0, 2.0, 28.0, 36.0, 2.0, 1.0], [12.708129724054785, 7.291870275945217], [0.6354064862027392, 0.3645935137972608], 0.0, 'No Risk'], ['0_to_200', 19, 'credits_paid_to_date', 'furniture', 1822, 'less_100', '4_to_7', 3, 'male', 'none', 3, 'car_other', 38, 'none', 'own', 2, 'skilled', 1, 'none', 'yes', 2.0, 1.0, 1.0, 0.0, 0.0, 0.0, 0.0, 0.0, 1.0, 0.0, 1.0, 0.0, 0.0, [2.0, 1.0, 1.0, 0.0, 1.0, 0.0, 0.0, 1.0, 0.0, 0.0, 0.0, 0.0, 0.0, 19.0, 1822.0, 3.0, 3.0, 19.0, 38.0, 2.0, 1.0], [13.436512616341872, 6.563487383658126], [0.6718256308170936, 0.3281743691829063], 0.0, 'No Risk'], ['less_0', 4, 'credits_paid_to_date', 'car_new', 250, '100_to_500', '4_to_7', 1, 'male', 'none', 1, 'savings_insurance', 21, 'stores', 'own', 1, 'skilled', 1, 'none', 'yes', 1.0, 1.0, 1.0, 1.0, 0.0, 0.0, 1.0, 0.0, 0.0, 0.0, 0.0, 0.0, 0.0, [1.0, 1.0, 0.0, 1.0, 1.0, 0.0, 0.0, 0.0, 1.0, 0.0, 0.0, 0.0, 0.0, 4.0, 250.0, 1.0, 1.0, 4.0, 21.0, 1.0, 1.0], [18.77986349017957, 1.2201365098204233], [0.9389931745089788, 0.06100682549102119], 0.0, 'No Risk'], ['no_checking', 41, 'outstanding_credit', 'education', 3577, 'greater_1000', '1_to_4', 4, 'male', 'none', 5, 'car_other', 44, 'none', 'own', 2, 'skilled', 1, 'yes', 'yes', 0.0, 2.0, 0.0, 3.0, 0.0, 0.0, 0.0, 0.0, 7.0, 0.0, 1.0, 0.0, 1.0, [0.0, 2.0, 7.0, 3.0, 0.0, 0.0, 0.0, 1.0, 0.0, 0.0, 0.0, 1.0, 0.0, 41.0, 3577.0, 4.0, 5.0, 41.0, 44.0, 2.0, 1.0], [11.11608969833235, 8.88391030166765], [0.5558044849166175, 0.44419551508338245], 0.0, 'No Risk'], ['0_to_200', 24, 'outstanding_credit', 'car_used', 674, '100_to_500', '1_to_4', 2, 'male', 'none', 3, 'savings_insurance', 26, 'stores', 'own', 1, 'skilled', 1, 'yes', 'yes', 2.0, 2.0, 0.0, 1.0, 0.0, 0.0, 1.0, 0.0, 2.0, 0.0, 0.0, 0.0, 1.0, [2.0, 2.0, 2.0, 1.0, 0.0, 0.0, 0.0, 0.0, 1.0, 0.0, 0.0, 1.0, 0.0, 24.0, 674.0, 2.0, 3.0, 24.0, 26.0, 1.0, 1.0], [15.60868646093012, 4.391313539069881], [0.780434323046506, 0.21956567695349408], 0.0, 'No Risk'], ['no_checking', 9, 'credits_paid_to_date', 'furniture', 3656, 'less_100', 'less_1', 2, 'male', 'none', 2, 'real_estate', 36, 'none', 'own', 1, 'management_self-employed', 1, 'none', 'yes', 0.0, 1.0, 3.0, 0.0, 0.0, 0.0, 0.0, 2.0, 1.0, 0.0, 2.0, 0.0, 0.0, [0.0, 1.0, 1.0, 0.0, 3.0, 0.0, 0.0, 2.0, 0.0, 0.0, 2.0, 0.0, 0.0, 9.0, 3656.0, 2.0, 2.0, 9.0, 36.0, 1.0, 1.0], [18.28491303631196, 1.7150869636880408], [0.9142456518155979, 0.08575434818440204], 0.0, 'No Risk'], ['less_0', 13, 'prior_payments_delayed', 'retraining', 250, '500_to_1000', 'less_1', 2, 'male', 'none', 2, 'savings_insurance', 19, 'stores', 'rent', 1, 'skilled', 1, 'none', 'yes', 1.0, 0.0, 3.0, 2.0, 0.0, 1.0, 1.0, 0.0, 8.0, 0.0, 0.0, 0.0, 0.0, [1.0, 0.0, 8.0, 2.0, 3.0, 0.0, 0.0, 0.0, 1.0, 1.0, 0.0, 0.0, 0.0, 13.0, 250.0, 2.0, 2.0, 13.0, 19.0, 1.0, 1.0], [18.791494787796697, 1.2085052122033022], [0.9395747393898348, 0.06042526061016511], 0.0, 'No Risk'], ['no_checking', 30, 'prior_payments_delayed', 'appliances', 2039, '500_to_1000', '4_to_7', 4, 'male', 'co-applicant', 4, 'car_other', 35, 'none', 'own', 2, 'skilled', 2, 'yes', 'yes', 0.0, 0.0, 1.0, 2.0, 0.0, 0.0, 0.0, 0.0, 4.0, 1.0, 1.0, 0.0, 1.0, [0.0, 0.0, 4.0, 2.0, 1.0, 0.0, 1.0, 1.0, 0.0, 0.0, 0.0, 1.0, 0.0, 30.0, 2039.0, 4.0, 4.0, 30.0, 35.0, 2.0, 2.0], [6.971726292655455, 13.028273707344544], [0.34858631463277273, 0.6514136853672272], 1.0, 'Risk'], ['0_to_200', 8, 'all_credits_paid_back', 'car_used', 250, '500_to_1000', 'less_1', 2, 'male', 'none', 2, 'real_estate', 19, 'none', 'rent', 1, 'skilled', 1, 'none', 'yes', 2.0, 3.0, 3.0, 2.0, 0.0, 1.0, 0.0, 0.0, 2.0, 0.0, 2.0, 0.0, 0.0, [2.0, 3.0, 2.0, 2.0, 3.0, 0.0, 0.0, 2.0, 0.0, 1.0, 0.0, 0.0, 0.0, 8.0, 250.0, 2.0, 2.0, 8.0, 19.0, 1.0, 1.0], [19.71110244513303, 0.28889755486697216], [0.9855551222566514, 0.014444877743348608], 0.0, 'No Risk'], ['greater_200', 22, 'credits_paid_to_date', 'car_used', 2757, '100_to_500', 'less_1', 3, 'male', 'none', 3, 'savings_insurance', 23, 'none', 'own', 3, 'skilled', 1, 'none', 'yes', 3.0, 1.0, 3.0, 1.0, 0.0, 0.0, 0.0, 0.0, 2.0, 0.0, 0.0, 0.0, 0.0, [3.0, 1.0, 2.0, 1.0, 3.0, 0.0, 0.0, 0.0, 0.0, 0.0, 0.0, 0.0, 0.0, 22.0, 2757.0, 3.0, 3.0, 22.0, 23.0, 3.0, 1.0], [14.54531338056801, 5.454686619431997], [0.7272656690284002, 0.27273433097159977], 0.0, 'No Risk'], ['0_to_200', 15, 'credits_paid_to_date', 'furniture', 6377, 'less_100', '4_to_7', 3, 'female', 'none', 3, 'car_other', 45, 'stores', 'own', 2, 'unskilled', 1, 'none', 'yes', 2.0, 1.0, 1.0, 0.0, 0.0, 0.0, 1.0, 1.0, 1.0, 0.0, 1.0, 1.0, 0.0, [2.0, 1.0, 1.0, 0.0, 1.0, 1.0, 0.0, 1.0, 1.0, 0.0, 1.0, 0.0, 0.0, 15.0, 6377.0, 3.0, 3.0, 15.0, 45.0, 2.0, 1.0], [13.984866953162102, 6.015133046837898], [0.6992433476581051, 0.30075665234189486], 0.0, 'No Risk'], ['less_0', 4, 'all_credits_paid_back', 'radio_tv', 1044, 'less_100', '1_to_4', 2, 'male', 'none', 2, 'real_estate', 23, 'none', 'own', 1, 'skilled', 1, 'none', 'yes', 1.0, 3.0, 0.0, 0.0, 0.0, 0.0, 0.0, 0.0, 3.0, 0.0, 2.0, 0.0, 0.0, [21, [0, 1, 2, 7, 13, 14, 15, 16, 17, 18, 19, 20], [1.0, 3.0, 3.0, 2.0, 4.0, 1044.0, 2.0, 2.0, 4.0, 23.0, 1.0, 1.0]], [19.2660779344197, 0.7339220655802989], [0.963303896720985, 0.036696103279014944], 0.0, 'No Risk'], ['no_checking', 29, 'prior_payments_delayed', 'business', 6216, '100_to_500', '4_to_7', 5, 'female', 'none', 4, 'unknown', 50, 'none', 'own', 2, 'skilled', 2, 'yes', 'yes', 0.0, 0.0, 1.0, 1.0, 0.0, 0.0, 0.0, 0.0, 9.0, 0.0, 3.0, 1.0, 1.0, [0.0, 0.0, 9.0, 1.0, 1.0, 1.0, 0.0, 3.0, 0.0, 0.0, 0.0, 1.0, 0.0, 29.0, 6216.0, 5.0, 4.0, 29.0, 50.0, 2.0, 2.0], [6.004823771212859, 13.995176228787143], [0.30024118856064297, 0.6997588114393571], 1.0, 'Risk'], ['no_checking', 35, 'credits_paid_to_date', 'radio_tv', 3874, 'greater_1000', '1_to_4', 4, 'female', 'none', 4, 'real_estate', 40, 'none', 'own', 2, 'skilled', 2, 'none', 'yes', 0.0, 1.0, 0.0, 3.0, 0.0, 0.0, 0.0, 0.0, 3.0, 0.0, 2.0, 1.0, 0.0, [0.0, 1.0, 3.0, 3.0, 0.0, 1.0, 0.0, 2.0, 0.0, 0.0, 0.0, 0.0, 0.0, 35.0, 3874.0, 4.0, 4.0, 35.0, 40.0, 2.0, 2.0], [12.696250271350907, 7.303749728649095], [0.6348125135675453, 0.36518748643245474], 0.0, 'No Risk'], ['no_checking', 31, 'outstanding_credit', 'appliances', 6640, 'unknown', 'greater_7', 4, 'male', 'co-applicant', 5, 'car_other', 51, 'none', 'own', 2, 'skilled', 2, 'yes', 'yes', 0.0, 2.0, 2.0, 4.0, 0.0, 0.0, 0.0, 0.0, 4.0, 1.0, 1.0, 0.0, 1.0, [0.0, 2.0, 4.0, 4.0, 2.0, 0.0, 1.0, 1.0, 0.0, 0.0, 0.0, 1.0, 0.0, 31.0, 6640.0, 4.0, 5.0, 31.0, 51.0, 2.0, 2.0], [1.632386457755968, 18.36761354224403], [0.08161932288779841, 0.9183806771122016], 1.0, 'Risk'], ['0_to_200', 20, 'credits_paid_to_date', 'retraining', 4897, 'less_100', '1_to_4', 2, 'male', 'none', 3, 'savings_insurance', 36, 'none', 'own', 2, 'skilled', 1, 'none', 'yes', 2.0, 1.0, 0.0, 0.0, 0.0, 0.0, 0.0, 0.0, 8.0, 0.0, 0.0, 0.0, 0.0, [21, [0, 1, 2, 13, 14, 15, 16, 17, 18, 19, 20], [2.0, 1.0, 8.0, 20.0, 4897.0, 2.0, 3.0, 20.0, 36.0, 2.0, 1.0]], [14.130089751609326, 5.869910248390675], [0.7065044875804662, 0.29349551241953376], 0.0, 'No Risk'], ['less_0', 6, 'no_credits', 'radio_tv', 613, 'less_100', 'less_1', 1, 'female', 'none', 2, 'savings_insurance', 28, 'none', 'rent', 1, 'skilled', 1, 'none', 'yes', 1.0, 4.0, 3.0, 0.0, 0.0, 1.0, 0.0, 0.0, 3.0, 0.0, 0.0, 1.0, 0.0, [1.0, 4.0, 3.0, 0.0, 3.0, 1.0, 0.0, 0.0, 0.0, 1.0, 0.0, 0.0, 0.0, 6.0, 613.0, 1.0, 2.0, 6.0, 28.0, 1.0, 1.0], [19.454345188156193, 0.5456548118438096], [0.9727172594078095, 0.027282740592190474], 0.0, 'No Risk'], ['no_checking', 38, 'credits_paid_to_date', 'furniture', 8038, '100_to_500', 'greater_7', 4, 'male', 'co-applicant', 5, 'unknown', 40, 'none', 'own', 2, 'skilled', 1, 'none', 'yes', 0.0, 1.0, 2.0, 1.0, 0.0, 0.0, 0.0, 0.0, 1.0, 1.0, 3.0, 0.0, 0.0, [0.0, 1.0, 1.0, 1.0, 2.0, 0.0, 1.0, 3.0, 0.0, 0.0, 0.0, 0.0, 0.0, 38.0, 8038.0, 4.0, 5.0, 38.0, 40.0, 2.0, 1.0], [6.707639560082292, 13.292360439917706], [0.3353819780041146, 0.6646180219958853], 1.0, 'Risk'], ['no_checking', 24, 'outstanding_credit', 'appliances', 3071, '500_to_1000', '1_to_4', 4, 'male', 'none', 3, 'car_other', 53, 'none', 'own', 1, 'management_self-employed', 1, 'yes', 'yes', 0.0, 2.0, 0.0, 2.0, 0.0, 0.0, 0.0, 2.0, 4.0, 0.0, 1.0, 0.0, 1.0, [0.0, 2.0, 4.0, 2.0, 0.0, 0.0, 0.0, 1.0, 0.0, 0.0, 2.0, 1.0, 0.0, 24.0, 3071.0, 4.0, 3.0, 24.0, 53.0, 1.0, 1.0], [13.202351486189555, 6.797648513810445], [0.6601175743094777, 0.3398824256905223], 0.0, 'No Risk'], ['0_to_200', 21, 'credits_paid_to_date', 'furniture', 2893, 'less_100', '1_to_4', 2, 'male', 'none', 2, 'car_other', 34, 'none', 'own', 2, 'skilled', 1, 'yes', 'yes', 2.0, 1.0, 0.0, 0.0, 0.0, 0.0, 0.0, 0.0, 1.0, 0.0, 1.0, 0.0, 1.0, [2.0, 1.0, 1.0, 0.0, 0.0, 0.0, 0.0, 1.0, 0.0, 0.0, 0.0, 1.0, 0.0, 21.0, 2893.0, 2.0, 2.0, 21.0, 34.0, 2.0, 1.0], [14.067947016318566, 5.9320529836814355], [0.7033973508159284, 0.29660264918407175], 0.0, 'No Risk'], ['0_to_200', 25, 'credits_paid_to_date', 'car_new', 250, 'greater_1000', '1_to_4', 3, 'female', 'none', 3, 'car_other', 19, 'bank', 'rent', 1, 'unemployed', 2, 'yes', 'yes', 2.0, 1.0, 0.0, 3.0, 0.0, 1.0, 2.0, 3.0, 0.0, 0.0, 1.0, 1.0, 1.0, [2.0, 1.0, 0.0, 3.0, 0.0, 1.0, 0.0, 1.0, 2.0, 1.0, 3.0, 1.0, 0.0, 25.0, 250.0, 3.0, 3.0, 25.0, 19.0, 1.0, 2.0], [14.915097323934656, 5.084902676065345], [0.7457548661967328, 0.25424513380326724], 0.0, 'No Risk'], ['less_0', 12, 'all_credits_paid_back', 'repairs', 2949, 'less_100', 'unemployed', 1, 'female', 'none', 1, 'real_estate', 19, 'none', 'rent', 1, 'skilled', 1, 'none', 'yes', 1.0, 3.0, 4.0, 0.0, 0.0, 1.0, 0.0, 0.0, 5.0, 0.0, 2.0, 1.0, 0.0, [1.0, 3.0, 5.0, 0.0, 4.0, 1.0, 0.0, 2.0, 0.0, 1.0, 0.0, 0.0, 0.0, 12.0, 2949.0, 1.0, 1.0, 12.0, 19.0, 1.0, 1.0], [19.676040501517733, 0.3239594984822708], [0.9838020250758864, 0.016197974924113536], 0.0, 'No Risk'], ['less_0', 24, 'prior_payments_delayed', 'appliances', 3918, 'less_100', 'greater_7', 2, 'male', 'none', 2, 'unknown', 42, 'stores', 'own', 2, 'skilled', 1, 'yes', 'yes', 1.0, 0.0, 2.0, 0.0, 0.0, 0.0, 1.0, 0.0, 4.0, 0.0, 3.0, 0.0, 1.0, [1.0, 0.0, 4.0, 0.0, 2.0, 0.0, 0.0, 3.0, 1.0, 0.0, 0.0, 1.0, 0.0, 24.0, 3918.0, 2.0, 2.0, 24.0, 42.0, 2.0, 1.0], [13.775010627552719, 6.224989372447284], [0.6887505313776359, 0.31124946862236413], 0.0, 'No Risk'], ['no_checking', 22, 'outstanding_credit', 'car_used', 3830, 'unknown', 'greater_7', 4, 'male', 'none', 3, 'car_other', 38, 'none', 'own', 2, 'skilled', 1, 'none', 'yes', 0.0, 2.0, 2.0, 4.0, 0.0, 0.0, 0.0, 0.0, 2.0, 0.0, 1.0, 0.0, 0.0, [0.0, 2.0, 2.0, 4.0, 2.0, 0.0, 0.0, 1.0, 0.0, 0.0, 0.0, 0.0, 0.0, 22.0, 3830.0, 4.0, 3.0, 22.0, 38.0, 2.0, 1.0], [10.065367562949799, 9.934632437050201], [0.5032683781474899, 0.4967316218525101], 0.0, 'No Risk'], ['0_to_200', 37, 'prior_payments_delayed', 'furniture', 3739, '500_to_1000', 'greater_7', 3, 'male', 'none', 2, 'car_other', 34, 'stores', 'own', 2, 'unskilled', 2, 'yes', 'yes', 2.0, 0.0, 2.0, 2.0, 0.0, 0.0, 1.0, 1.0, 1.0, 0.0, 1.0, 0.0, 1.0, [2.0, 0.0, 1.0, 2.0, 2.0, 0.0, 0.0, 1.0, 1.0, 0.0, 1.0, 1.0, 0.0, 37.0, 3739.0, 3.0, 2.0, 37.0, 34.0, 2.0, 2.0], [13.052719447072095, 6.947280552927907], [0.6526359723536047, 0.34736402764639535], 0.0, 'No Risk'], ['0_to_200', 13, 'credits_paid_to_date', 'car_new', 1423, 'less_100', 'less_1', 1, 'female', 'none', 2, 'savings_insurance', 39, 'stores', 'own', 3, 'skilled', 1, 'yes', 'yes', 2.0, 1.0, 3.0, 0.0, 0.0, 0.0, 1.0, 0.0, 0.0, 0.0, 0.0, 1.0, 1.0, [2.0, 1.0, 0.0, 0.0, 3.0, 1.0, 0.0, 0.0, 1.0, 0.0, 0.0, 1.0, 0.0, 13.0, 1423.0, 1.0, 2.0, 13.0, 39.0, 3.0, 1.0], [13.003726535380327, 6.996273464619673], [0.6501863267690163, 0.34981367323098367], 0.0, 'No Risk'], ['less_0', 39, 'prior_payments_delayed', 'furniture', 250, 'greater_1000', '4_to_7', 2, 'male', 'none', 3, 'real_estate', 26, 'stores', 'rent', 1, 'skilled', 1, 'none', 'yes', 1.0, 0.0, 1.0, 3.0, 0.0, 1.0, 1.0, 0.0, 1.0, 0.0, 2.0, 0.0, 0.0, [1.0, 0.0, 1.0, 3.0, 1.0, 0.0, 0.0, 2.0, 1.0, 1.0, 0.0, 0.0, 0.0, 39.0, 250.0, 2.0, 3.0, 39.0, 26.0, 1.0, 1.0], [13.911158919434351, 6.0888410805656505], [0.6955579459717176, 0.3044420540282825], 0.0, 'No Risk'], ['greater_200', 18, 'all_credits_paid_back', 'furniture', 975, '500_to_1000', '1_to_4', 2, 'male', 'none', 3, 'savings_insurance', 36, 'none', 'own', 1, 'skilled', 1, 'yes', 'yes', 3.0, 3.0, 0.0, 2.0, 0.0, 0.0, 0.0, 0.0, 1.0, 0.0, 0.0, 0.0, 1.0, [3.0, 3.0, 1.0, 2.0, 0.0, 0.0, 0.0, 0.0, 0.0, 0.0, 0.0, 1.0, 0.0, 18.0, 975.0, 2.0, 3.0, 18.0, 36.0, 1.0, 1.0], [15.760965430857047, 4.239034569142952], [0.7880482715428523, 0.21195172845714758], 0.0, 'No Risk'], ['no_checking', 38, 'credits_paid_to_date', 'furniture', 8038, '100_to_500', 'greater_7', 4, 'male', 'co-applicant', 5, 'unknown', 40, 'none', 'own', 2, 'skilled', 1, 'none', 'yes', 0.0, 1.0, 2.0, 1.0, 0.0, 0.0, 0.0, 0.0, 1.0, 1.0, 3.0, 0.0, 0.0, [0.0, 1.0, 1.0, 1.0, 2.0, 0.0, 1.0, 3.0, 0.0, 0.0, 0.0, 0.0, 0.0, 38.0, 8038.0, 4.0, 5.0, 38.0, 40.0, 2.0, 1.0], [6.707639560082292, 13.292360439917706], [0.3353819780041146, 0.6646180219958853], 1.0, 'Risk'], ['less_0', 17, 'credits_paid_to_date', 'car_new', 1922, '500_to_1000', 'less_1', 2, 'male', 'none', 2, 'savings_insurance', 40, 'none', 'own', 2, 'skilled', 1, 'yes', 'yes', 1.0, 1.0, 3.0, 2.0, 0.0, 0.0, 0.0, 0.0, 0.0, 0.0, 0.0, 0.0, 1.0, [1.0, 1.0, 0.0, 2.0, 3.0, 0.0, 0.0, 0.0, 0.0, 0.0, 0.0, 1.0, 0.0, 17.0, 1922.0, 2.0, 2.0, 17.0, 40.0, 2.0, 1.0], [15.604621966840233, 4.395378033159769], [0.7802310983420117, 0.21976890165798846], 0.0, 'No Risk'], ['less_0', 14, 'prior_payments_delayed', 'radio_tv', 2111, 'less_100', '1_to_4', 2, 'male', 'none', 3, 'savings_insurance', 27, 'none', 'own', 1, 'skilled', 1, 'none', 'yes', 1.0, 0.0, 0.0, 0.0, 0.0, 0.0, 0.0, 0.0, 3.0, 0.0, 0.0, 0.0, 0.0, [21, [0, 2, 13, 14, 15, 16, 17, 18, 19, 20], [1.0, 3.0, 14.0, 2111.0, 2.0, 3.0, 14.0, 27.0, 1.0, 1.0]], [16.806884844275345, 3.1931151557246573], [0.8403442422137671, 0.15965575778623284], 0.0, 'No Risk'], ['less_0', 5, 'all_credits_paid_back', 'appliances', 472, 'less_100', 'less_1', 2, 'male', 'none', 1, 'savings_insurance', 28, 'none', 'own', 1, 'skilled', 1, 'none', 'yes', 1.0, 3.0, 3.0, 0.0, 0.0, 0.0, 0.0, 0.0, 4.0, 0.0, 0.0, 0.0, 0.0, [21, [0, 1, 2, 4, 13, 14, 15, 16, 17, 18, 19, 20], [1.0, 3.0, 4.0, 3.0, 5.0, 472.0, 2.0, 1.0, 5.0, 28.0, 1.0, 1.0]], [19.454345188156193, 0.5456548118438096], [0.9727172594078095, 0.027282740592190474], 0.0, 'No Risk'], ['less_0', 4, 'all_credits_paid_back', 'car_new', 250, 'less_100', 'less_1', 2, 'female', 'co-applicant', 1, 'real_estate', 35, 'none', 'own', 1, 'skilled', 1, 'none', 'yes', 1.0, 3.0, 3.0, 0.0, 0.0, 0.0, 0.0, 0.0, 0.0, 1.0, 2.0, 1.0, 0.0, [1.0, 3.0, 0.0, 0.0, 3.0, 1.0, 1.0, 2.0, 0.0, 0.0, 0.0, 0.0, 0.0, 4.0, 250.0, 2.0, 1.0, 4.0, 35.0, 1.0, 1.0], [19.011961834526897, 0.9880381654731024], [0.9505980917263448, 0.04940190827365512], 0.0, 'No Risk'], ['less_0', 12, 'all_credits_paid_back', 'appliances', 1666, '100_to_500', '1_to_4', 3, 'male', 'none', 2, 'savings_insurance', 38, 'none', 'own', 2, 'skilled', 2, 'none', 'yes', 1.0, 3.0, 0.0, 1.0, 0.0, 0.0, 0.0, 0.0, 4.0, 0.0, 0.0, 0.0, 0.0, [21, [0, 1, 2, 3, 13, 14, 15, 16, 17, 18, 19, 20], [1.0, 3.0, 4.0, 1.0, 12.0, 1666.0, 3.0, 2.0, 12.0, 38.0, 2.0, 2.0]], [16.637694381955328, 3.3623056180446755], [0.8318847190977662, 0.16811528090223374], 0.0, 'No Risk'], ['no_checking', 8, 'prior_payments_delayed', 'car_new', 3391, '100_to_500', '1_to_4', 3, 'female', 'none', 3, 'car_other', 44, 'none', 'own', 1, 'skilled', 1, 'none', 'yes', 0.0, 0.0, 0.0, 1.0, 0.0, 0.0, 0.0, 0.0, 0.0, 0.0, 1.0, 1.0, 0.0, [21, [3, 5, 7, 13, 14, 15, 16, 17, 18, 19, 20], [1.0, 1.0, 1.0, 8.0, 3391.0, 3.0, 3.0, 8.0, 44.0, 1.0, 1.0]], [15.780388018409061, 4.21961198159094], [0.7890194009204531, 0.21098059907954697], 0.0, 'No Risk'], ['0_to_200', 24, 'outstanding_credit', 'radio_tv', 3362, '100_to_500', '1_to_4', 3, 'male', 'none', 4, 'car_other', 39, 'stores', 'own', 2, 'skilled', 1, 'yes', 'yes', 2.0, 2.0, 0.0, 1.0, 0.0, 0.0, 1.0, 0.0, 3.0, 0.0, 1.0, 0.0, 1.0, [2.0, 2.0, 3.0, 1.0, 0.0, 0.0, 0.0, 1.0, 1.0, 0.0, 0.0, 1.0, 0.0, 24.0, 3362.0, 3.0, 4.0, 24.0, 39.0, 2.0, 1.0], [12.82208584272258, 7.17791415727742], [0.641104292136129, 0.358895707863871], 0.0, 'No Risk'], ['less_0', 15, 'all_credits_paid_back', 'repairs', 498, 'less_100', '1_to_4', 3, 'female', 'none', 3, 'real_estate', 21, 'none', 'rent', 1, 'skilled', 1, 'none', 'yes', 1.0, 3.0, 0.0, 0.0, 0.0, 1.0, 0.0, 0.0, 5.0, 0.0, 2.0, 1.0, 0.0, [1.0, 3.0, 5.0, 0.0, 0.0, 1.0, 0.0, 2.0, 0.0, 1.0, 0.0, 0.0, 0.0, 15.0, 498.0, 3.0, 3.0, 15.0, 21.0, 1.0, 1.0], [18.909993044028713, 1.0900069559712826], [0.9454996522014358, 0.05450034779856414], 0.0, 'No Risk'], ['no_checking', 27, 'outstanding_credit', 'radio_tv', 7445, '500_to_1000', 'greater_7', 3, 'male', 'co-applicant', 3, 'car_other', 53, 'none', 'own', 2, 'management_self-employed', 1, 'yes', 'yes', 0.0, 2.0, 2.0, 2.0, 0.0, 0.0, 0.0, 2.0, 3.0, 1.0, 1.0, 0.0, 1.0, [0.0, 2.0, 3.0, 2.0, 2.0, 0.0, 1.0, 1.0, 0.0, 0.0, 2.0, 1.0, 0.0, 27.0, 7445.0, 3.0, 3.0, 27.0, 53.0, 2.0, 1.0], [2.178910460385797, 17.8210895396142], [0.10894552301928988, 0.8910544769807102], 1.0, 'Risk'], ['no_checking', 14, 'credits_paid_to_date', 'retraining', 1609, 'less_100', '1_to_4', 3, 'male', 'none', 2, 'savings_insurance', 49, 'none', 'own', 1, 'management_self-employed', 1, 'none', 'no', 0.0, 1.0, 0.0, 0.0, 1.0, 0.0, 0.0, 2.0, 8.0, 0.0, 0.0, 0.0, 0.0, [21, [1, 2, 10, 12, 13, 14, 15, 16, 17, 18, 19, 20], [1.0, 8.0, 2.0, 1.0, 14.0, 1609.0, 3.0, 2.0, 14.0, 49.0, 1.0, 1.0]], [16.72626408585944, 3.2737359141405618], [0.8363132042929718, 0.16368679570702807], 0.0, 'No Risk'], ['0_to_200', 4, 'credits_paid_to_date', 'car_new', 250, 'less_100', 'less_1', 2, 'female', 'none', 3, 'real_estate', 35, 'none', 'own', 1, 'skilled', 1, 'none', 'yes', 2.0, 1.0, 3.0, 0.0, 0.0, 0.0, 0.0, 0.0, 0.0, 0.0, 2.0, 1.0, 0.0, [2.0, 1.0, 0.0, 0.0, 3.0, 1.0, 0.0, 2.0, 0.0, 0.0, 0.0, 0.0, 0.0, 4.0, 250.0, 2.0, 3.0, 4.0, 35.0, 1.0, 1.0], [18.434223804050642, 1.565776195949355], [0.9217111902025322, 0.07828880979746776], 0.0, 'No Risk'], ['no_checking', 8, 'credits_paid_to_date', 'car_new', 4924, '100_to_500', '4_to_7', 4, 'male', 'none', 4, 'car_other', 45, 'none', 'free', 2, 'management_self-employed', 1, 'yes', 'yes', 0.0, 1.0, 1.0, 1.0, 0.0, 2.0, 0.0, 2.0, 0.0, 0.0, 1.0, 0.0, 1.0, [0.0, 1.0, 0.0, 1.0, 1.0, 0.0, 0.0, 1.0, 0.0, 2.0, 2.0, 1.0, 0.0, 8.0, 4924.0, 4.0, 4.0, 8.0, 45.0, 2.0, 1.0], [10.824599723499691, 9.175400276500305], [0.5412299861749846, 0.4587700138250153], 0.0, 'No Risk'], ['no_checking', 33, 'prior_payments_delayed', 'business', 3859, 'greater_1000', '1_to_4', 3, 'male', 'none', 4, 'savings_insurance', 39, 'none', 'own', 1, 'skilled', 2, 'yes', 'yes', 0.0, 0.0, 0.0, 3.0, 0.0, 0.0, 0.0, 0.0, 9.0, 0.0, 0.0, 0.0, 1.0, [21, [2, 3, 11, 13, 14, 15, 16, 17, 18, 19, 20], [9.0, 3.0, 1.0, 33.0, 3859.0, 3.0, 4.0, 33.0, 39.0, 1.0, 2.0]], [12.709909615965822, 7.2900903840341735], [0.6354954807982912, 0.36450451920170873], 0.0, 'No Risk'], ['0_to_200', 15, 'prior_payments_delayed', 'furniture', 250, 'less_100', '1_to_4', 3, 'female', 'none', 2, 'car_other', 19, 'stores', 'own', 1, 'unskilled', 1, 'none', 'yes', 2.0, 0.0, 0.0, 0.0, 0.0, 0.0, 1.0, 1.0, 1.0, 0.0, 1.0, 1.0, 0.0, [2.0, 0.0, 1.0, 0.0, 0.0, 1.0, 0.0, 1.0, 1.0, 0.0, 1.0, 0.0, 0.0, 15.0, 250.0, 3.0, 2.0, 15.0, 19.0, 1.0, 1.0], [16.986078004220893, 3.013921995779109], [0.8493039002110446, 0.15069609978895543], 0.0, 'No Risk'], ['0_to_200', 9, 'credits_paid_to_date', 'car_new', 250, 'less_100', 'less_1', 2, 'female', 'none', 3, 'savings_insurance', 19, 'none', 'own', 1, 'skilled', 1, 'none', 'yes', 2.0, 1.0, 3.0, 0.0, 0.0, 0.0, 0.0, 0.0, 0.0, 0.0, 0.0, 1.0, 0.0, [21, [0, 1, 4, 5, 13, 14, 15, 16, 17, 18, 19, 20], [2.0, 1.0, 3.0, 1.0, 9.0, 250.0, 2.0, 3.0, 9.0, 19.0, 1.0, 1.0]], [18.33484685615463, 1.6651531438453702], [0.9167423428077315, 0.0832576571922685], 0.0, 'No Risk'], ['greater_200', 27, 'prior_payments_delayed', 'business', 4672, '100_to_500', '1_to_4', 2, 'male', 'none', 2, 'savings_insurance', 35, 'none', 'own', 1, 'skilled', 1, 'none', 'yes', 3.0, 0.0, 0.0, 1.0, 0.0, 0.0, 0.0, 0.0, 9.0, 0.0, 0.0, 0.0, 0.0, [21, [0, 2, 3, 13, 14, 15, 16, 17, 18, 19, 20], [3.0, 9.0, 1.0, 27.0, 4672.0, 2.0, 2.0, 27.0, 35.0, 1.0, 1.0]], [14.150923518449158, 5.849076481550842], [0.7075461759224579, 0.2924538240775421], 0.0, 'No Risk'], ['0_to_200', 15, 'prior_payments_delayed', 'radio_tv', 2539, 'less_100', '4_to_7', 3, 'male', 'none', 3, 'savings_insurance', 28, 'none', 'rent', 1, 'management_self-employed', 1, 'none', 'yes', 2.0, 0.0, 1.0, 0.0, 0.0, 1.0, 0.0, 2.0, 3.0, 0.0, 0.0, 0.0, 0.0, [2.0, 0.0, 3.0, 0.0, 1.0, 0.0, 0.0, 0.0, 0.0, 1.0, 2.0, 0.0, 0.0, 15.0, 2539.0, 3.0, 3.0, 15.0, 28.0, 1.0, 1.0], [16.71001803407691, 3.2899819659230927], [0.8355009017038454, 0.1644990982961546], 0.0, 'No Risk'], ['less_0', 14, 'credits_paid_to_date', 'car_used', 1443, 'less_100', 'less_1', 2, 'male', 'none', 2, 'car_other', 30, 'bank', 'rent', 1, 'unemployed', 2, 'yes', 'yes', 1.0, 1.0, 3.0, 0.0, 0.0, 1.0, 2.0, 3.0, 2.0, 0.0, 1.0, 0.0, 1.0, [1.0, 1.0, 2.0, 0.0, 3.0, 0.0, 0.0, 1.0, 2.0, 1.0, 3.0, 1.0, 0.0, 14.0, 1443.0, 2.0, 2.0, 14.0, 30.0, 1.0, 2.0], [17.850098228746067, 2.1499017712539383], [0.8925049114373032, 0.10749508856269689], 0.0, 'No Risk'], ['no_checking', 29, 'outstanding_credit', 'other', 5908, '500_to_1000', '4_to_7', 4, 'male', 'none', 4, 'car_other', 45, 'none', 'own', 2, 'skilled', 1, 'yes', 'yes', 0.0, 2.0, 1.0, 2.0, 0.0, 0.0, 0.0, 0.0, 10.0, 0.0, 1.0, 0.0, 1.0, [0.0, 2.0, 10.0, 2.0, 1.0, 0.0, 0.0, 1.0, 0.0, 0.0, 0.0, 1.0, 0.0, 29.0, 5908.0, 4.0, 4.0, 29.0, 45.0, 2.0, 1.0], [7.874281320869261, 12.125718679130738], [0.39371406604346304, 0.606285933956537], 1.0, 'Risk'], ['no_checking', 24, 'prior_payments_delayed', 'car_used', 4402, 'unknown', '4_to_7', 3, 'male', 'none', 4, 'car_other', 52, 'none', 'own', 2, 'skilled', 1, 'yes', 'yes', 0.0, 0.0, 1.0, 4.0, 0.0, 0.0, 0.0, 0.0, 2.0, 0.0, 1.0, 0.0, 1.0, [0.0, 0.0, 2.0, 4.0, 1.0, 0.0, 0.0, 1.0, 0.0, 0.0, 0.0, 1.0, 0.0, 24.0, 4402.0, 3.0, 4.0, 24.0, 52.0, 2.0, 1.0], [8.165152669926243, 11.834847330073757], [0.40825763349631217, 0.5917423665036878], 1.0, 'Risk'], ['0_to_200', 24, 'outstanding_credit', 'education', 6846, '100_to_500', '4_to_7', 4, 'male', 'none', 4, 'unknown', 49, 'stores', 'free', 2, 'unskilled', 1, 'yes', 'yes', 2.0, 2.0, 1.0, 1.0, 0.0, 2.0, 1.0, 1.0, 7.0, 0.0, 3.0, 0.0, 1.0, [2.0, 2.0, 7.0, 1.0, 1.0, 0.0, 0.0, 3.0, 1.0, 2.0, 1.0, 1.0, 0.0, 24.0, 6846.0, 4.0, 4.0, 24.0, 49.0, 2.0, 1.0], [10.432302081881039, 9.567697918118961], [0.521615104094052, 0.47838489590594807], 0.0, 'No Risk'], ['no_checking', 31, 'outstanding_credit', 'radio_tv', 6327, '500_to_1000', '4_to_7', 3, 'male', 'none', 4, 'car_other', 55, 'none', 'own', 2, 'skilled', 2, 'yes', 'yes', 0.0, 2.0, 1.0, 2.0, 0.0, 0.0, 0.0, 0.0, 3.0, 0.0, 1.0, 0.0, 1.0, [0.0, 2.0, 3.0, 2.0, 1.0, 0.0, 0.0, 1.0, 0.0, 0.0, 0.0, 1.0, 0.0, 31.0, 6327.0, 3.0, 4.0, 31.0, 55.0, 2.0, 2.0], [6.166559100838333, 13.833440899161667], [0.3083279550419166, 0.6916720449580833], 1.0, 'Risk'], ['less_0', 4, 'no_credits', 'car_new', 250, 'less_100', 'less_1', 1, 'male', 'none', 2, 'real_estate', 19, 'stores', 'rent', 1, 'skilled', 1, 'none', 'yes', 1.0, 4.0, 3.0, 0.0, 0.0, 1.0, 1.0, 0.0, 0.0, 0.0, 2.0, 0.0, 0.0, [1.0, 4.0, 0.0, 0.0, 3.0, 0.0, 0.0, 2.0, 1.0, 1.0, 0.0, 0.0, 0.0, 4.0, 250.0, 1.0, 2.0, 4.0, 19.0, 1.0, 1.0], [19.682384424438588, 0.31761557556141334], [0.9841192212219294, 0.01588077877807067], 0.0, 'No Risk'], ['greater_200', 29, 'outstanding_credit', 'radio_tv', 6286, '500_to_1000', '4_to_7', 4, 'male', 'none', 5, 'unknown', 47, 'none', 'own', 1, 'skilled', 2, 'yes', 'yes', 3.0, 2.0, 1.0, 2.0, 0.0, 0.0, 0.0, 0.0, 3.0, 0.0, 3.0, 0.0, 1.0, [3.0, 2.0, 3.0, 2.0, 1.0, 0.0, 0.0, 3.0, 0.0, 0.0, 0.0, 1.0, 0.0, 29.0, 6286.0, 4.0, 5.0, 29.0, 47.0, 1.0, 2.0], [8.649119514820379, 11.350880485179621], [0.43245597574101896, 0.5675440242589811], 1.0, 'Risk'], ['no_checking', 13, 'credits_paid_to_date', 'furniture', 2955, '100_to_500', '1_to_4', 2, 'female', 'none', 4, 'car_other', 41, 'none', 'own', 2, 'skilled', 1, 'none', 'yes', 0.0, 1.0, 0.0, 1.0, 0.0, 0.0, 0.0, 0.0, 1.0, 0.0, 1.0, 1.0, 0.0, [0.0, 1.0, 1.0, 1.0, 0.0, 1.0, 0.0, 1.0, 0.0, 0.0, 0.0, 0.0, 0.0, 13.0, 2955.0, 2.0, 4.0, 13.0, 41.0, 2.0, 1.0], [12.752880634747715, 7.247119365252285], [0.6376440317373857, 0.36235596826261424], 0.0, 'No Risk'], ['less_0', 4, 'prior_payments_delayed', 'appliances', 250, 'less_100', 'less_1', 1, 'male', 'none', 1, 'real_estate', 31, 'none', 'rent', 1, 'skilled', 1, 'none', 'yes', 1.0, 0.0, 3.0, 0.0, 0.0, 1.0, 0.0, 0.0, 4.0, 0.0, 2.0, 0.0, 0.0, [1.0, 0.0, 4.0, 0.0, 3.0, 0.0, 0.0, 2.0, 0.0, 1.0, 0.0, 0.0, 0.0, 4.0, 250.0, 1.0, 1.0, 4.0, 31.0, 1.0, 1.0], [18.851229236997085, 1.1487707630029123], [0.9425614618498545, 0.05743853815014562], 0.0, 'No Risk'], ['0_to_200', 24, 'outstanding_credit', 'education', 4978, '100_to_500', 'greater_7', 4, 'male', 'none', 3, 'car_other', 45, 'stores', 'own', 2, 'skilled', 1, 'none', 'yes', 2.0, 2.0, 2.0, 1.0, 0.0, 0.0, 1.0, 0.0, 7.0, 0.0, 1.0, 0.0, 0.0, [2.0, 2.0, 7.0, 1.0, 2.0, 0.0, 0.0, 1.0, 1.0, 0.0, 0.0, 0.0, 0.0, 24.0, 4978.0, 4.0, 3.0, 24.0, 45.0, 2.0, 1.0], [10.94380230038745, 9.056197699612552], [0.5471901150193725, 0.4528098849806276], 0.0, 'No Risk'], ['0_to_200', 14, 'credits_paid_to_date', 'car_used', 3543, '500_to_1000', '4_to_7', 2, 'male', 'none', 2, 'savings_insurance', 51, 'bank', 'own', 2, 'unemployed', 1, 'none', 'yes', 2.0, 1.0, 1.0, 2.0, 0.0, 0.0, 2.0, 3.0, 2.0, 0.0, 0.0, 0.0, 0.0, [2.0, 1.0, 2.0, 2.0, 1.0, 0.0, 0.0, 0.0, 2.0, 0.0, 3.0, 0.0, 0.0, 14.0, 3543.0, 2.0, 2.0, 14.0, 51.0, 2.0, 1.0], [15.36557862383758, 4.634421376162422], [0.768278931191879, 0.2317210688081211], 0.0, 'No Risk'], ['greater_200', 20, 'credits_paid_to_date', 'car_new', 5867, 'greater_1000', '4_to_7', 4, 'male', 'none', 4, 'savings_insurance', 37, 'none', 'own', 2, 'skilled', 1, 'yes', 'yes', 3.0, 1.0, 1.0, 3.0, 0.0, 0.0, 0.0, 0.0, 0.0, 0.0, 0.0, 0.0, 1.0, [3.0, 1.0, 0.0, 3.0, 1.0, 0.0, 0.0, 0.0, 0.0, 0.0, 0.0, 1.0, 0.0, 20.0, 5867.0, 4.0, 4.0, 20.0, 37.0, 2.0, 1.0], [12.865175049026721, 7.134824950973279], [0.643258752451336, 0.35674124754866393], 0.0, 'No Risk'], ['no_checking', 27, 'prior_payments_delayed', 'education', 4063, '100_to_500', 'greater_7', 4, 'male', 'none', 4, 'savings_insurance', 42, 'stores', 'own', 1, 'unskilled', 1, 'yes', 'yes', 0.0, 0.0, 2.0, 1.0, 0.0, 0.0, 1.0, 1.0, 7.0, 0.0, 0.0, 0.0, 1.0, [0.0, 0.0, 7.0, 1.0, 2.0, 0.0, 0.0, 0.0, 1.0, 0.0, 1.0, 1.0, 0.0, 27.0, 4063.0, 4.0, 4.0, 27.0, 42.0, 1.0, 1.0], [12.042945206937482, 7.957054793062518], [0.602147260346874, 0.3978527396531259], 0.0, 'No Risk'], ['0_to_200', 18, 'credits_paid_to_date', 'furniture', 1831, '500_to_1000', '1_to_4', 3, 'male', 'none', 2, 'real_estate', 23, 'none', 'rent', 1, 'skilled', 1, 'none', 'yes', 2.0, 1.0, 0.0, 2.0, 0.0, 1.0, 0.0, 0.0, 1.0, 0.0, 2.0, 0.0, 0.0, [2.0, 1.0, 1.0, 2.0, 0.0, 0.0, 0.0, 2.0, 0.0, 1.0, 0.0, 0.0, 0.0, 18.0, 1831.0, 3.0, 2.0, 18.0, 23.0, 1.0, 1.0], [17.876890014712675, 2.1231099852873223], [0.8938445007356339, 0.10615549926436614], 0.0, 'No Risk'], ['0_to_200', 24, 'outstanding_credit', 'education', 3681, '100_to_500', 'greater_7', 4, 'male', 'none', 2, 'unknown', 38, 'none', 'own', 1, 'skilled', 1, 'none', 'yes', 2.0, 2.0, 2.0, 1.0, 0.0, 0.0, 0.0, 0.0, 7.0, 0.0, 3.0, 0.0, 0.0, [2.0, 2.0, 7.0, 1.0, 2.0, 0.0, 0.0, 3.0, 0.0, 0.0, 0.0, 0.0, 0.0, 24.0, 3681.0, 4.0, 2.0, 24.0, 38.0, 1.0, 1.0], [14.663355592245555, 5.336644407754448], [0.7331677796122776, 0.26683222038772236], 0.0, 'No Risk'], ['0_to_200', 33, 'credits_paid_to_date', 'car_used', 4706, 'greater_1000', 'greater_7', 3, 'male', 'none', 2, 'savings_insurance', 40, 'none', 'own', 2, 'skilled', 1, 'yes', 'yes', 2.0, 1.0, 2.0, 3.0, 0.0, 0.0, 0.0, 0.0, 2.0, 0.0, 0.0, 0.0, 1.0, [2.0, 1.0, 2.0, 3.0, 2.0, 0.0, 0.0, 0.0, 0.0, 0.0, 0.0, 1.0, 0.0, 33.0, 4706.0, 3.0, 2.0, 33.0, 40.0, 2.0, 1.0], [12.264738380709204, 7.735261619290798], [0.6132369190354602, 0.3867630809645399], 0.0, 'No Risk'], ['no_checking', 25, 'outstanding_credit', 'radio_tv', 4723, '500_to_1000', 'greater_7', 4, 'male', 'none', 4, 'unknown', 51, 'none', 'own', 1, 'skilled', 1, 'yes', 'yes', 0.0, 2.0, 2.0, 2.0, 0.0, 0.0, 0.0, 0.0, 3.0, 0.0, 3.0, 0.0, 1.0, [0.0, 2.0, 3.0, 2.0, 2.0, 0.0, 0.0, 3.0, 0.0, 0.0, 0.0, 1.0, 0.0, 25.0, 4723.0, 4.0, 4.0, 25.0, 51.0, 1.0, 1.0], [6.683492639218579, 13.316507360781419], [0.334174631960929, 0.665825368039071], 1.0, 'Risk'], ['0_to_200', 21, 'prior_payments_delayed', 'business', 4098, '500_to_1000', 'greater_7', 3, 'male', 'none', 3, 'car_other', 43, 'none', 'own', 3, 'skilled', 1, 'yes', 'yes', 2.0, 0.0, 2.0, 2.0, 0.0, 0.0, 0.0, 0.0, 9.0, 0.0, 1.0, 0.0, 1.0, [2.0, 0.0, 9.0, 2.0, 2.0, 0.0, 0.0, 1.0, 0.0, 0.0, 0.0, 1.0, 0.0, 21.0, 4098.0, 3.0, 3.0, 21.0, 43.0, 3.0, 1.0], [12.723547056338175, 7.276452943661828], [0.6361773528169087, 0.3638226471830913], 0.0, 'No Risk'], ['no_checking', 15, 'all_credits_paid_back', 'furniture', 563, 'less_100', 'less_1', 2, 'female', 'co-applicant', 4, 'real_estate', 34, 'none', 'own', 1, 'skilled', 1, 'none', 'yes', 0.0, 3.0, 3.0, 0.0, 0.0, 0.0, 0.0, 0.0, 1.0, 1.0, 2.0, 1.0, 0.0, [0.0, 3.0, 1.0, 0.0, 3.0, 1.0, 1.0, 2.0, 0.0, 0.0, 0.0, 0.0, 0.0, 15.0, 563.0, 2.0, 4.0, 15.0, 34.0, 1.0, 1.0], [17.250865030702585, 2.749134969297415], [0.8625432515351292, 0.13745674846487074], 0.0, 'No Risk'], ['greater_200', 10, 'credits_paid_to_date', 'car_new', 250, 'less_100', 'less_1', 2, 'female', 'none', 2, 'real_estate', 35, 'none', 'own', 1, 'management_self-employed', 1, 'none', 'yes', 3.0, 1.0, 3.0, 0.0, 0.0, 0.0, 0.0, 2.0, 0.0, 0.0, 2.0, 1.0, 0.0, [3.0, 1.0, 0.0, 0.0, 3.0, 1.0, 0.0, 2.0, 0.0, 0.0, 2.0, 0.0, 0.0, 10.0, 250.0, 2.0, 2.0, 10.0, 35.0, 1.0, 1.0], [18.38650662566455, 1.6134933743354511], [0.9193253312832275, 0.08067466871677256], 0.0, 'No Risk'], ['less_0', 7, 'all_credits_paid_back', 'appliances', 2170, 'less_100', 'less_1', 1, 'female', 'none', 2, 'savings_insurance', 28, 'none', 'rent', 1, 'skilled', 1, 'none', 'yes', 1.0, 3.0, 3.0, 0.0, 0.0, 1.0, 0.0, 0.0, 4.0, 0.0, 0.0, 1.0, 0.0, [1.0, 3.0, 4.0, 0.0, 3.0, 1.0, 0.0, 0.0, 0.0, 1.0, 0.0, 0.0, 0.0, 7.0, 2170.0, 1.0, 2.0, 7.0, 28.0, 1.0, 1.0], [19.231681675351926, 0.7683183246480765], [0.9615840837675961, 0.03841591623240382], 0.0, 'No Risk'], ['no_checking', 33, 'outstanding_credit', 'repairs', 5508, '500_to_1000', 'greater_7', 5, 'male', 'co-applicant', 3, 'unknown', 54, 'none', 'own', 2, 'skilled', 1, 'yes', 'yes', 0.0, 2.0, 2.0, 2.0, 0.0, 0.0, 0.0, 0.0, 5.0, 1.0, 3.0, 0.0, 1.0, [0.0, 2.0, 5.0, 2.0, 2.0, 0.0, 1.0, 3.0, 0.0, 0.0, 0.0, 1.0, 0.0, 33.0, 5508.0, 5.0, 3.0, 33.0, 54.0, 2.0, 1.0], [1.9739140585316088, 18.026085941468395], [0.09869570292658042, 0.9013042970734196], 1.0, 'Risk'], ['no_checking', 29, 'prior_payments_delayed', 'appliances', 6320, '100_to_500', '1_to_4', 4, 'male', 'none', 4, 'savings_insurance', 42, 'none', 'own', 2, 'management_self-employed', 1, 'yes', 'yes', 0.0, 0.0, 0.0, 1.0, 0.0, 0.0, 0.0, 2.0, 4.0, 0.0, 0.0, 0.0, 1.0, [21, [2, 3, 10, 11, 13, 14, 15, 16, 17, 18, 19, 20], [4.0, 1.0, 2.0, 1.0, 29.0, 6320.0, 4.0, 4.0, 29.0, 42.0, 2.0, 1.0]], [10.960705250843372, 9.039294749156625], [0.5480352625421687, 0.45196473745783133], 0.0, 'No Risk'], ['0_to_200', 7, 'prior_payments_delayed', 'vacation', 2735, 'less_100', '1_to_4', 3, 'male', 'none', 3, 'car_other', 34, 'none', 'rent', 1, 'management_self-employed', 1, 'none', 'yes', 2.0, 0.0, 0.0, 0.0, 0.0, 1.0, 0.0, 2.0, 6.0, 0.0, 1.0, 0.0, 0.0, [2.0, 0.0, 6.0, 0.0, 0.0, 0.0, 0.0, 1.0, 0.0, 1.0, 2.0, 0.0, 0.0, 7.0, 2735.0, 3.0, 3.0, 7.0, 34.0, 1.0, 1.0], [16.258661931465664, 3.741338068534335], [0.8129330965732832, 0.18706690342671675], 0.0, 'No Risk'], ['no_checking', 26, 'outstanding_credit', 'repairs', 7412, '500_to_1000', '4_to_7', 3, 'male', 'none', 4, 'unknown', 56, 'none', 'own', 2, 'skilled', 1, 'yes', 'yes', 0.0, 2.0, 1.0, 2.0, 0.0, 0.0, 0.0, 0.0, 5.0, 0.0, 3.0, 0.0, 1.0, [0.0, 2.0, 5.0, 2.0, 1.0, 0.0, 0.0, 3.0, 0.0, 0.0, 0.0, 1.0, 0.0, 26.0, 7412.0, 3.0, 4.0, 26.0, 56.0, 2.0, 1.0], [5.878838189748396, 14.121161810251607], [0.2939419094874197, 0.7060580905125802], 1.0, 'Risk'], ['0_to_200', 31, 'credits_paid_to_date', 'radio_tv', 350, '100_to_500', '1_to_4', 3, 'male', 'co-applicant', 3, 'real_estate', 30, 'none', 'own', 1, 'skilled', 1, 'none', 'yes', 2.0, 1.0, 0.0, 1.0, 0.0, 0.0, 0.0, 0.0, 3.0, 1.0, 2.0, 0.0, 0.0, [2.0, 1.0, 3.0, 1.0, 0.0, 0.0, 1.0, 2.0, 0.0, 0.0, 0.0, 0.0, 0.0, 31.0, 350.0, 3.0, 3.0, 31.0, 30.0, 1.0, 1.0], [14.83555518736576, 5.164444812634243], [0.7417777593682878, 0.2582222406317121], 0.0, 'No Risk'], ['0_to_200', 16, 'prior_payments_delayed', 'car_new', 625, '100_to_500', '4_to_7', 3, 'male', 'none', 2, 'car_other', 36, 'none', 'own', 2, 'skilled', 1, 'none', 'yes', 2.0, 0.0, 1.0, 1.0, 0.0, 0.0, 0.0, 0.0, 0.0, 0.0, 1.0, 0.0, 0.0, [21, [0, 3, 4, 7, 13, 14, 15, 16, 17, 18, 19, 20], [2.0, 1.0, 1.0, 1.0, 16.0, 625.0, 3.0, 2.0, 16.0, 36.0, 2.0, 1.0]], [15.343691466300415, 4.656308533699585], [0.7671845733150208, 0.23281542668497926], 0.0, 'No Risk'], ['less_0', 13, 'credits_paid_to_date', 'furniture', 563, 'less_100', 'less_1', 1, 'male', 'none', 2, 'savings_insurance', 25, 'none', 'rent', 1, 'skilled', 1, 'none', 'yes', 1.0, 1.0, 3.0, 0.0, 0.0, 1.0, 0.0, 0.0, 1.0, 0.0, 0.0, 0.0, 0.0, [1.0, 1.0, 1.0, 0.0, 3.0, 0.0, 0.0, 0.0, 0.0, 1.0, 0.0, 0.0, 0.0, 13.0, 563.0, 1.0, 2.0, 13.0, 25.0, 1.0, 1.0], [18.854545121598427, 1.145454878401574], [0.9427272560799214, 0.057272743920078695], 0.0, 'No Risk'], ['less_0', 8, 'all_credits_paid_back', 'car_used', 250, 'less_100', 'less_1', 1, 'male', 'none', 2, 'real_estate', 25, 'none', 'rent', 1, 'skilled', 1, 'none', 'yes', 1.0, 3.0, 3.0, 0.0, 0.0, 1.0, 0.0, 0.0, 2.0, 0.0, 2.0, 0.0, 0.0, [1.0, 3.0, 2.0, 0.0, 3.0, 0.0, 0.0, 2.0, 0.0, 1.0, 0.0, 0.0, 0.0, 8.0, 250.0, 1.0, 2.0, 8.0, 25.0, 1.0, 1.0], [19.682384424438588, 0.31761557556141334], [0.9841192212219294, 0.01588077877807067], 0.0, 'No Risk'], ['0_to_200', 15, 'credits_paid_to_date', 'car_used', 2089, 'less_100', '1_to_4', 3, 'male', 'none', 3, 'savings_insurance', 32, 'none', 'own', 1, 'skilled', 1, 'none', 'yes', 2.0, 1.0, 0.0, 0.0, 0.0, 0.0, 0.0, 0.0, 2.0, 0.0, 0.0, 0.0, 0.0, [21, [0, 1, 2, 13, 14, 15, 16, 17, 18, 19, 20], [2.0, 1.0, 2.0, 15.0, 2089.0, 3.0, 3.0, 15.0, 32.0, 1.0, 1.0]], [16.31117232264248, 3.6888276773575215], [0.8155586161321239, 0.18444138386787604], 0.0, 'No Risk'], ['0_to_200', 25, 'credits_paid_to_date', 'radio_tv', 2255, 'less_100', '1_to_4', 2, 'male', 'co-applicant', 3, 'car_other', 36, 'none', 'rent', 1, 'skilled', 1, 'none', 'yes', 2.0, 1.0, 0.0, 0.0, 0.0, 1.0, 0.0, 0.0, 3.0, 1.0, 1.0, 0.0, 0.0, [2.0, 1.0, 3.0, 0.0, 0.0, 0.0, 1.0, 1.0, 0.0, 1.0, 0.0, 0.0, 0.0, 25.0, 2255.0, 2.0, 3.0, 25.0, 36.0, 1.0, 1.0], [12.78965653988217, 7.210343460117829], [0.6394828269941085, 0.3605171730058915], 0.0, 'No Risk'], ['no_checking', 11, 'credits_paid_to_date', 'car_new', 5830, 'less_100', '1_to_4', 4, 'male', 'none', 2, 'car_other', 38, 'none', 'own', 1, 'management_self-employed', 2, 'yes', 'yes', 0.0, 1.0, 0.0, 0.0, 0.0, 0.0, 0.0, 2.0, 0.0, 0.0, 1.0, 0.0, 1.0, [21, [1, 7, 10, 11, 13, 14, 15, 16, 17, 18, 19, 20], [1.0, 1.0, 2.0, 1.0, 11.0, 5830.0, 4.0, 2.0, 11.0, 38.0, 1.0, 2.0]], [16.129561538384056, 3.8704384616159455], [0.8064780769192028, 0.19352192308079727], 0.0, 'No Risk'], ['less_0', 13, 'prior_payments_delayed', 'furniture', 1770, '500_to_1000', 'greater_7', 3, 'male', 'none', 2, 'savings_insurance', 30, 'none', 'own', 1, 'skilled', 2, 'none', 'yes', 1.0, 0.0, 2.0, 2.0, 0.0, 0.0, 0.0, 0.0, 1.0, 0.0, 0.0, 0.0, 0.0, [21, [0, 2, 3, 4, 13, 14, 15, 16, 17, 18, 19, 20], [1.0, 1.0, 2.0, 2.0, 13.0, 1770.0, 3.0, 2.0, 13.0, 30.0, 1.0, 2.0]], [17.163267261409963, 2.836732738590039], [0.858163363070498, 0.1418366369295019], 0.0, 'No Risk'], ['no_checking', 9, 'credits_paid_to_date', 'appliances', 2228, 'less_100', '1_to_4', 3, 'male', 'none', 4, 'car_other', 33, 'none', 'own', 1, 'management_self-employed', 1, 'none', 'yes', 0.0, 1.0, 0.0, 0.0, 0.0, 0.0, 0.0, 2.0, 4.0, 0.0, 1.0, 0.0, 0.0, [21, [1, 2, 7, 10, 13, 14, 15, 16, 17, 18, 19, 20], [1.0, 4.0, 1.0, 2.0, 9.0, 2228.0, 3.0, 4.0, 9.0, 33.0, 1.0, 1.0]], [15.219391381870903, 4.780608618129097], [0.7609695690935452, 0.23903043090645487], 0.0, 'No Risk'], ['less_0', 8, 'no_credits', 'car_used', 250, 'less_100', 'unemployed', 1, 'female', 'none', 1, 'savings_insurance', 27, 'none', 'rent', 1, 'skilled', 1, 'none', 'yes', 1.0, 4.0, 4.0, 0.0, 0.0, 1.0, 0.0, 0.0, 2.0, 0.0, 0.0, 1.0, 0.0, [1.0, 4.0, 2.0, 0.0, 4.0, 1.0, 0.0, 0.0, 0.0, 1.0, 0.0, 0.0, 0.0, 8.0, 250.0, 1.0, 1.0, 8.0, 27.0, 1.0, 1.0], [19.47781936655995, 0.5221806334400537], [0.9738909683279973, 0.02610903167200268], 0.0, 'No Risk'], ['less_0', 21, 'credits_paid_to_date', 'car_new', 452, '100_to_500', '4_to_7', 2, 'female', 'co-applicant', 2, 'savings_insurance', 39, 'stores', 'own', 1, 'unskilled', 1, 'none', 'yes', 1.0, 1.0, 1.0, 1.0, 0.0, 0.0, 1.0, 1.0, 0.0, 1.0, 0.0, 1.0, 0.0, [1.0, 1.0, 0.0, 1.0, 1.0, 1.0, 1.0, 0.0, 1.0, 0.0, 1.0, 0.0, 0.0, 21.0, 452.0, 2.0, 2.0, 21.0, 39.0, 1.0, 1.0], [15.613797963999666, 4.386202036000336], [0.7806898981999832, 0.2193101018000168], 0.0, 'No Risk'], ['0_to_200', 13, 'credits_paid_to_date', 'repairs', 2132, 'less_100', '1_to_4', 2, 'female', 'none', 3, 'real_estate', 19, 'stores', 'rent', 2, 'unskilled', 1, 'yes', 'yes', 2.0, 1.0, 0.0, 0.0, 0.0, 1.0, 1.0, 1.0, 5.0, 0.0, 2.0, 1.0, 1.0, [2.0, 1.0, 5.0, 0.0, 0.0, 1.0, 0.0, 2.0, 1.0, 1.0, 1.0, 1.0, 0.0, 13.0, 2132.0, 2.0, 3.0, 13.0, 19.0, 2.0, 1.0], [16.688883645380066, 3.3111163546199354], [0.8344441822690033, 0.16555581773099676], 0.0, 'No Risk'], ['0_to_200', 16, 'credits_paid_to_date', 'car_new', 3558, 'less_100', '4_to_7', 2, 'male', 'none', 3, 'car_other', 32, 'none', 'free', 1, 'skilled', 1, 'none', 'yes', 2.0, 1.0, 1.0, 0.0, 0.0, 2.0, 0.0, 0.0, 0.0, 0.0, 1.0, 0.0, 0.0, [2.0, 1.0, 0.0, 0.0, 1.0, 0.0, 0.0, 1.0, 0.0, 2.0, 0.0, 0.0, 0.0, 16.0, 3558.0, 2.0, 3.0, 16.0, 32.0, 1.0, 1.0], [15.294438837723531, 4.705561162276472], [0.7647219418861764, 0.23527805811382355], 0.0, 'No Risk'], ['0_to_200', 13, 'credits_paid_to_date', 'car_used', 2033, 'less_100', '1_to_4', 3, 'male', 'none', 3, 'savings_insurance', 30, 'bank', 'own', 1, 'unskilled', 1, 'none', 'yes', 2.0, 1.0, 0.0, 0.0, 0.0, 0.0, 2.0, 1.0, 2.0, 0.0, 0.0, 0.0, 0.0, [2.0, 1.0, 2.0, 0.0, 0.0, 0.0, 0.0, 0.0, 2.0, 0.0, 1.0, 0.0, 0.0, 13.0, 2033.0, 3.0, 3.0, 13.0, 30.0, 1.0, 1.0], [17.01326481095861, 2.9867351890413905], [0.8506632405479305, 0.14933675945206953], 0.0, 'No Risk'], ['no_checking', 38, 'prior_payments_delayed', 'furniture', 5495, '500_to_1000', '4_to_7', 3, 'male', 'none', 4, 'savings_insurance', 44, 'none', 'free', 2, 'skilled', 1, 'yes', 'yes', 0.0, 0.0, 1.0, 2.0, 0.0, 2.0, 0.0, 0.0, 1.0, 0.0, 0.0, 0.0, 1.0, [0.0, 0.0, 1.0, 2.0, 1.0, 0.0, 0.0, 0.0, 0.0, 2.0, 0.0, 1.0, 0.0, 38.0, 5495.0, 3.0, 4.0, 38.0, 44.0, 2.0, 1.0], [9.043883002903568, 10.956116997096432], [0.4521941501451784, 0.5478058498548216], 1.0, 'Risk'], ['less_0', 5, 'credits_paid_to_date', 'car_used', 2135, 'less_100', 'unemployed', 2, 'female', 'none', 2, 'savings_insurance', 29, 'none', 'own', 1, 'skilled', 1, 'none', 'yes', 1.0, 1.0, 4.0, 0.0, 0.0, 0.0, 0.0, 0.0, 2.0, 0.0, 0.0, 1.0, 0.0, [1.0, 1.0, 2.0, 0.0, 4.0, 1.0, 0.0, 0.0, 0.0, 0.0, 0.0, 0.0, 0.0, 5.0, 2135.0, 2.0, 2.0, 5.0, 29.0, 1.0, 1.0], [18.86925693385444, 1.1307430661455624], [0.9434628466927218, 0.05653715330727811], 0.0, 'No Risk'], ['less_0', 7, 'all_credits_paid_back', 'education', 250, 'less_100', '1_to_4', 2, 'female', 'none', 2, 'savings_insurance', 19, 'none', 'own', 1, 'skilled', 1, 'none', 'yes', 1.0, 3.0, 0.0, 0.0, 0.0, 0.0, 0.0, 0.0, 7.0, 0.0, 0.0, 1.0, 0.0, [21, [0, 1, 2, 5, 13, 14, 15, 16, 17, 18, 19, 20], [1.0, 3.0, 7.0, 1.0, 7.0, 250.0, 2.0, 2.0, 7.0, 19.0, 1.0, 1.0]], [19.238110262135933, 0.7618897378640668], [0.9619055131067966, 0.03809448689320334], 0.0, 'No Risk'], ['0_to_200', 15, 'credits_paid_to_date', 'furniture', 1620, '500_to_1000', '1_to_4', 2, 'male', 'none', 3, 'car_other', 35, 'stores', 'own', 1, 'unskilled', 1, 'none', 'yes', 2.0, 1.0, 0.0, 2.0, 0.0, 0.0, 1.0, 1.0, 1.0, 0.0, 1.0, 0.0, 0.0, [2.0, 1.0, 1.0, 2.0, 0.0, 0.0, 0.0, 1.0, 1.0, 0.0, 1.0, 0.0, 0.0, 15.0, 1620.0, 2.0, 3.0, 15.0, 35.0, 1.0, 1.0], [15.71056934583534, 4.2894306541646605], [0.7855284672917671, 0.21447153270823302], 0.0, 'No Risk'], ['0_to_200', 18, 'prior_payments_delayed', 'car_new', 3153, '100_to_500', '4_to_7', 4, 'male', 'none', 4, 'savings_insurance', 36, 'bank', 'own', 1, 'unskilled', 1, 'yes', 'yes', 2.0, 0.0, 1.0, 1.0, 0.0, 0.0, 2.0, 1.0, 0.0, 0.0, 0.0, 0.0, 1.0, [2.0, 0.0, 0.0, 1.0, 1.0, 0.0, 0.0, 0.0, 2.0, 0.0, 1.0, 1.0, 0.0, 18.0, 3153.0, 4.0, 4.0, 18.0, 36.0, 1.0, 1.0], [12.665420804930939, 7.334579195069061], [0.6332710402465469, 0.36672895975345304], 0.0, 'No Risk'], ['0_to_200', 25, 'credits_paid_to_date', 'retraining', 3217, 'less_100', '4_to_7', 2, 'male', 'none', 2, 'car_other', 34, 'none', 'own', 1, 'skilled', 1, 'yes', 'yes', 2.0, 1.0, 1.0, 0.0, 0.0, 0.0, 0.0, 0.0, 8.0, 0.0, 1.0, 0.0, 1.0, [2.0, 1.0, 8.0, 0.0, 1.0, 0.0, 0.0, 1.0, 0.0, 0.0, 0.0, 1.0, 0.0, 25.0, 3217.0, 2.0, 2.0, 25.0, 34.0, 1.0, 1.0], [14.58775138667705, 5.4122486133229515], [0.7293875693338525, 0.2706124306661476], 0.0, 'No Risk'], ['less_0', 11, 'all_credits_paid_back', 'car_new', 5124, 'less_100', '1_to_4', 2, 'male', 'none', 1, 'car_other', 31, 'none', 'own', 2, 'skilled', 1, 'yes', 'yes', 1.0, 3.0, 0.0, 0.0, 0.0, 0.0, 0.0, 0.0, 0.0, 0.0, 1.0, 0.0, 1.0, [21, [0, 1, 7, 11, 13, 14, 15, 16, 17, 18, 19, 20], [1.0, 3.0, 1.0, 1.0, 11.0, 5124.0, 2.0, 1.0, 11.0, 31.0, 2.0, 1.0]], [16.41658366550049, 3.5834163344995145], [0.8208291832750243, 0.1791708167249757], 0.0, 'No Risk'], ['no_checking', 19, 'credits_paid_to_date', 'car_new', 1499, '100_to_500', 'less_1', 3, 'female', 'none', 3, 'car_other', 38, 'none', 'own', 1, 'skilled', 2, 'none', 'yes', 0.0, 1.0, 3.0, 1.0, 0.0, 0.0, 0.0, 0.0, 0.0, 0.0, 1.0, 1.0, 0.0, [0.0, 1.0, 0.0, 1.0, 3.0, 1.0, 0.0, 1.0, 0.0, 0.0, 0.0, 0.0, 0.0, 19.0, 1499.0, 3.0, 3.0, 19.0, 38.0, 1.0, 2.0], [15.114834362312878, 4.885165637687122], [0.755741718115644, 0.2442582818843561], 0.0, 'No Risk'], ['greater_200', 27, 'all_credits_paid_back', 'repairs', 7119, 'less_100', 'less_1', 3, 'female', 'co-applicant', 3, 'savings_insurance', 45, 'none', 'own', 1, 'skilled', 1, 'none', 'yes', 3.0, 3.0, 3.0, 0.0, 0.0, 0.0, 0.0, 0.0, 5.0, 1.0, 0.0, 1.0, 0.0, [3.0, 3.0, 5.0, 0.0, 3.0, 1.0, 1.0, 0.0, 0.0, 0.0, 0.0, 0.0, 0.0, 27.0, 7119.0, 3.0, 3.0, 27.0, 45.0, 1.0, 1.0], [13.54711624334607, 6.45288375665393], [0.6773558121673035, 0.3226441878326965], 0.0, 'No Risk'], ['greater_200', 26, 'outstanding_credit', 'vacation', 7906, '100_to_500', 'greater_7', 4, 'male', 'none', 4, 'unknown', 31, 'none', 'free', 2, 'skilled', 1, 'yes', 'yes', 3.0, 2.0, 2.0, 1.0, 0.0, 2.0, 0.0, 0.0, 6.0, 0.0, 3.0, 0.0, 1.0, [3.0, 2.0, 6.0, 1.0, 2.0, 0.0, 0.0, 3.0, 0.0, 2.0, 0.0, 1.0, 0.0, 26.0, 7906.0, 4.0, 4.0, 26.0, 31.0, 2.0, 1.0], [9.943525361617741, 10.05647463838226], [0.49717626808088705, 0.502823731919113], 1.0, 'Risk'], ['0_to_200', 8, 'all_credits_paid_back', 'car_new', 250, 'less_100', '1_to_4', 2, 'female', 'none', 1, 'savings_insurance', 25, 'stores', 'own', 1, 'skilled', 1, 'yes', 'yes', 2.0, 3.0, 0.0, 0.0, 0.0, 0.0, 1.0, 0.0, 0.0, 0.0, 0.0, 1.0, 1.0, [2.0, 3.0, 0.0, 0.0, 0.0, 1.0, 0.0, 0.0, 1.0, 0.0, 0.0, 1.0, 0.0, 8.0, 250.0, 2.0, 1.0, 8.0, 25.0, 1.0, 1.0], [18.257884533530675, 1.7421154664693248], [0.9128942266765337, 0.08710577332346624], 0.0, 'No Risk'], ['no_checking', 12, 'prior_payments_delayed', 'furniture', 4368, '100_to_500', '4_to_7', 4, 'male', 'none', 4, 'savings_insurance', 38, 'none', 'own', 1, 'management_self-employed', 1, 'none', 'yes', 0.0, 0.0, 1.0, 1.0, 0.0, 0.0, 0.0, 2.0, 1.0, 0.0, 0.0, 0.0, 0.0, [21, [2, 3, 4, 10, 13, 14, 15, 16, 17, 18, 19, 20], [1.0, 1.0, 1.0, 2.0, 12.0, 4368.0, 4.0, 4.0, 12.0, 38.0, 1.0, 1.0]], [13.642638646622075, 6.357361353377927], [0.6821319323311037, 0.31786806766889636], 0.0, 'No Risk'], ['no_checking', 40, 'outstanding_credit', 'other', 6960, '500_to_1000', 'greater_7', 4, 'male', 'co-applicant', 5, 'unknown', 49, 'none', 'own', 2, 'skilled', 2, 'yes', 'yes', 0.0, 2.0, 2.0, 2.0, 0.0, 0.0, 0.0, 0.0, 10.0, 1.0, 3.0, 0.0, 1.0, [0.0, 2.0, 10.0, 2.0, 2.0, 0.0, 1.0, 3.0, 0.0, 0.0, 0.0, 1.0, 0.0, 40.0, 6960.0, 4.0, 5.0, 40.0, 49.0, 2.0, 2.0], [1.461871257621741, 18.538128742378262], [0.07309356288108704, 0.926906437118913], 1.0, 'Risk'], ['0_to_200', 9, 'prior_payments_delayed', 'furniture', 2776, 'less_100', '4_to_7', 2, 'male', 'none', 3, 'savings_insurance', 42, 'none', 'own', 2, 'skilled', 2, 'yes', 'yes', 2.0, 0.0, 1.0, 0.0, 0.0, 0.0, 0.0, 0.0, 1.0, 0.0, 0.0, 0.0, 1.0, [21, [0, 2, 4, 11, 13, 14, 15, 16, 17, 18, 19, 20], [2.0, 1.0, 1.0, 1.0, 9.0, 2776.0, 2.0, 3.0, 9.0, 42.0, 2.0, 2.0]], [13.35388304404143, 6.646116955958569], [0.6676941522020715, 0.3323058477979285], 0.0, 'No Risk'], ['less_0', 4, 'all_credits_paid_back', 'education', 3553, 'less_100', 'less_1', 1, 'female', 'none', 1, 'savings_insurance', 22, 'bank', 'own', 2, 'unskilled', 1, 'none', 'yes', 1.0, 3.0, 3.0, 0.0, 0.0, 0.0, 2.0, 1.0, 7.0, 0.0, 0.0, 1.0, 0.0, [1.0, 3.0, 7.0, 0.0, 3.0, 1.0, 0.0, 0.0, 2.0, 0.0, 1.0, 0.0, 0.0, 4.0, 3553.0, 1.0, 1.0, 4.0, 22.0, 2.0, 1.0], [18.175171086068573, 1.824828913931428], [0.9087585543034287, 0.0912414456965714], 0.0, 'No Risk'], ['no_checking', 39, 'prior_payments_delayed', 'appliances', 5450, 'greater_1000', '1_to_4', 4, 'male', 'none', 3, 'car_other', 39, 'none', 'own', 2, 'skilled', 1, 'yes', 'yes', 0.0, 0.0, 0.0, 3.0, 0.0, 0.0, 0.0, 0.0, 4.0, 0.0, 1.0, 0.0, 1.0, [21, [2, 3, 7, 11, 13, 14, 15, 16, 17, 18, 19, 20], [4.0, 3.0, 1.0, 1.0, 39.0, 5450.0, 4.0, 3.0, 39.0, 39.0, 2.0, 1.0]], [10.45710334840769, 9.54289665159231], [0.5228551674203845, 0.4771448325796155], 0.0, 'No Risk'], ['0_to_200', 24, 'outstanding_credit', 'radio_tv', 4181, '100_to_500', '1_to_4', 2, 'female', 'none', 3, 'savings_insurance', 33, 'none', 'own', 1, 'skilled', 1, 'none', 'yes', 2.0, 2.0, 0.0, 1.0, 0.0, 0.0, 0.0, 0.0, 3.0, 0.0, 0.0, 1.0, 0.0, [2.0, 2.0, 3.0, 1.0, 0.0, 1.0, 0.0, 0.0, 0.0, 0.0, 0.0, 0.0, 0.0, 24.0, 4181.0, 2.0, 3.0, 24.0, 33.0, 1.0, 1.0], [14.59030509020036, 5.409694909799639], [0.729515254510018, 0.27048474548998197], 0.0, 'No Risk'], ['no_checking', 8, 'all_credits_paid_back', 'car_new', 3875, '100_to_500', 'less_1', 3, 'male', 'none', 2, 'real_estate', 33, 'none', 'own', 1, 'management_self-employed', 1, 'none', 'yes', 0.0, 3.0, 3.0, 1.0, 0.0, 0.0, 0.0, 2.0, 0.0, 0.0, 2.0, 0.0, 0.0, [0.0, 3.0, 0.0, 1.0, 3.0, 0.0, 0.0, 2.0, 0.0, 0.0, 2.0, 0.0, 0.0, 8.0, 3875.0, 3.0, 2.0, 8.0, 33.0, 1.0, 1.0], [18.78857256237172, 1.2114274376282828], [0.9394286281185857, 0.06057137188141413], 0.0, 'No Risk'], ['0_to_200', 22, 'all_credits_paid_back', 'car_new', 2884, '500_to_1000', 'less_1', 3, 'male', 'none', 3, 'real_estate', 21, 'none', 'own', 2, 'skilled', 1, 'yes', 'yes', 2.0, 3.0, 3.0, 2.0, 0.0, 0.0, 0.0, 0.0, 0.0, 0.0, 2.0, 0.0, 1.0, [2.0, 3.0, 0.0, 2.0, 3.0, 0.0, 0.0, 2.0, 0.0, 0.0, 0.0, 1.0, 0.0, 22.0, 2884.0, 3.0, 3.0, 22.0, 21.0, 2.0, 1.0], [16.613741995724634, 3.386258004275369], [0.8306870997862316, 0.16931290021376844], 0.0, 'No Risk'], ['no_checking', 38, 'outstanding_credit', 'repairs', 6799, 'greater_1000', 'greater_7', 4, 'male', 'guarantor', 5, 'unknown', 56, 'none', 'own', 2, 'skilled', 1, 'yes', 'yes', 0.0, 2.0, 2.0, 3.0, 0.0, 0.0, 0.0, 0.0, 5.0, 2.0, 3.0, 0.0, 1.0, [0.0, 2.0, 5.0, 3.0, 2.0, 0.0, 2.0, 3.0, 0.0, 0.0, 0.0, 1.0, 0.0, 38.0, 6799.0, 4.0, 5.0, 38.0, 56.0, 2.0, 1.0], [2.5205524026718957, 17.479447597328104], [0.12602762013359478, 0.8739723798664052], 1.0, 'Risk'], ['0_to_200', 17, 'prior_payments_delayed', 'car_new', 2078, '100_to_500', '1_to_4', 3, 'male', 'none', 3, 'car_other', 31, 'none', 'own', 2, 'skilled', 2, 'yes', 'yes', 2.0, 0.0, 0.0, 1.0, 0.0, 0.0, 0.0, 0.0, 0.0, 0.0, 1.0, 0.0, 1.0, [21, [0, 3, 7, 11, 13, 14, 15, 16, 17, 18, 19, 20], [2.0, 1.0, 1.0, 1.0, 17.0, 2078.0, 3.0, 3.0, 17.0, 31.0, 2.0, 2.0]], [14.471725374949536, 5.528274625050465], [0.7235862687474768, 0.2764137312525233], 0.0, 'No Risk'], ['no_checking', 20, 'outstanding_credit', 'car_used', 1903, '500_to_1000', '4_to_7', 4, 'female', 'none', 4, 'car_other', 51, 'none', 'own', 1, 'skilled', 1, 'yes', 'yes', 0.0, 2.0, 1.0, 2.0, 0.0, 0.0, 0.0, 0.0, 2.0, 0.0, 1.0, 1.0, 1.0, [0.0, 2.0, 2.0, 2.0, 1.0, 1.0, 0.0, 1.0, 0.0, 0.0, 0.0, 1.0, 0.0, 20.0, 1903.0, 4.0, 4.0, 20.0, 51.0, 1.0, 1.0], [9.71560348071682, 10.28439651928318], [0.48578017403584106, 0.5142198259641589], 1.0, 'Risk'], ['0_to_200', 21, 'credits_paid_to_date', 'car_new', 3428, '100_to_500', '4_to_7', 3, 'female', 'co-applicant', 4, 'real_estate', 38, 'none', 'own', 2, 'skilled', 1, 'yes', 'yes', 2.0, 1.0, 1.0, 1.0, 0.0, 0.0, 0.0, 0.0, 0.0, 1.0, 2.0, 1.0, 1.0, [2.0, 1.0, 0.0, 1.0, 1.0, 1.0, 1.0, 2.0, 0.0, 0.0, 0.0, 1.0, 0.0, 21.0, 3428.0, 3.0, 4.0, 21.0, 38.0, 2.0, 1.0], [13.712206381590185, 6.287793618409817], [0.6856103190795092, 0.3143896809204908], 0.0, 'No Risk'], ['0_to_200', 4, 'all_credits_paid_back', 'car_used', 1421, 'less_100', '1_to_4', 3, 'female', 'none', 1, 'real_estate', 19, 'none', 'own', 1, 'management_self-employed', 1, 'none', 'yes', 2.0, 3.0, 0.0, 0.0, 0.0, 0.0, 0.0, 2.0, 2.0, 0.0, 2.0, 1.0, 0.0, [2.0, 3.0, 2.0, 0.0, 0.0, 1.0, 0.0, 2.0, 0.0, 0.0, 2.0, 0.0, 0.0, 4.0, 1421.0, 3.0, 1.0, 4.0, 19.0, 1.0, 1.0], [19.21258944606527, 0.78741055393473], [0.9606294723032635, 0.039370527696736504], 0.0, 'No Risk'], ['no_checking', 29, 'outstanding_credit', 'appliances', 7067, 'unknown', 'greater_7', 4, 'male', 'co-applicant', 3, 'car_other', 50, 'none', 'free', 3, 'skilled', 2, 'yes', 'yes', 0.0, 2.0, 2.0, 4.0, 0.0, 2.0, 0.0, 0.0, 4.0, 1.0, 1.0, 0.0, 1.0, [0.0, 2.0, 4.0, 4.0, 2.0, 0.0, 1.0, 1.0, 0.0, 2.0, 0.0, 1.0, 0.0, 29.0, 7067.0, 4.0, 3.0, 29.0, 50.0, 3.0, 2.0], [1.8041876829891006, 18.195812317010898], [0.09020938414945504, 0.9097906158505449], 1.0, 'Risk'], ['0_to_200', 34, 'prior_payments_delayed', 'car_used', 3138, '100_to_500', '1_to_4', 3, 'female', 'none', 2, 'savings_insurance', 31, 'stores', 'free', 1, 'skilled', 2, 'yes', 'yes', 2.0, 0.0, 0.0, 1.0, 0.0, 2.0, 1.0, 0.0, 2.0, 0.0, 0.0, 1.0, 1.0, [2.0, 0.0, 2.0, 1.0, 0.0, 1.0, 0.0, 0.0, 1.0, 2.0, 0.0, 1.0, 0.0, 34.0, 3138.0, 3.0, 2.0, 34.0, 31.0, 1.0, 2.0], [13.3927287120794, 6.6072712879206], [0.66963643560397, 0.33036356439603], 0.0, 'No Risk'], ['greater_200', 28, 'outstanding_credit', 'furniture', 4672, '500_to_1000', '1_to_4', 3, 'male', 'none', 4, 'car_other', 46, 'none', 'own', 2, 'management_self-employed', 1, 'yes', 'yes', 3.0, 2.0, 0.0, 2.0, 0.0, 0.0, 0.0, 2.0, 1.0, 0.0, 1.0, 0.0, 1.0, [3.0, 2.0, 1.0, 2.0, 0.0, 0.0, 0.0, 1.0, 0.0, 0.0, 2.0, 1.0, 0.0, 28.0, 4672.0, 3.0, 4.0, 28.0, 46.0, 2.0, 1.0], [10.393939467298788, 9.606060532701212], [0.5196969733649394, 0.48030302663506064], 0.0, 'No Risk'], ['0_to_200', 13, 'prior_payments_delayed', 'car_used', 2909, 'less_100', '1_to_4', 2, 'male', 'none', 3, 'savings_insurance', 41, 'none', 'own', 1, 'skilled', 1, 'none', 'yes', 2.0, 0.0, 0.0, 0.0, 0.0, 0.0, 0.0, 0.0, 2.0, 0.0, 0.0, 0.0, 0.0, [21, [0, 2, 13, 14, 15, 16, 17, 18, 19, 20], [2.0, 2.0, 13.0, 2909.0, 2.0, 3.0, 13.0, 41.0, 1.0, 1.0]], [15.957461492381551, 4.042538507618449], [0.7978730746190775, 0.20212692538092245], 0.0, 'No Risk'], ['no_checking', 30, 'outstanding_credit', 'furniture', 7591, '500_to_1000', '4_to_7', 4, 'male', 'co-applicant', 5, 'unknown', 52, 'none', 'free', 2, 'management_self-employed', 1, 'yes', 'yes', 0.0, 2.0, 1.0, 2.0, 0.0, 2.0, 0.0, 2.0, 1.0, 1.0, 3.0, 0.0, 1.0, [0.0, 2.0, 1.0, 2.0, 1.0, 0.0, 1.0, 3.0, 0.0, 2.0, 2.0, 1.0, 0.0, 30.0, 7591.0, 4.0, 5.0, 30.0, 52.0, 2.0, 1.0], [3.1700110836249507, 16.82998891637505], [0.15850055418124753, 0.8414994458187526], 1.0, 'Risk'], ['0_to_200', 10, 'credits_paid_to_date', 'car_new', 250, 'less_100', '1_to_4', 2, 'female', 'none', 2, 'savings_insurance', 32, 'none', 'rent', 1, 'skilled', 1, 'none', 'yes', 2.0, 1.0, 0.0, 0.0, 0.0, 1.0, 0.0, 0.0, 0.0, 0.0, 0.0, 1.0, 0.0, [21, [0, 1, 5, 9, 13, 14, 15, 16, 17, 18, 19, 20], [2.0, 1.0, 1.0, 1.0, 10.0, 250.0, 2.0, 2.0, 10.0, 32.0, 1.0, 1.0]], [18.552782834508218, 1.4472171654917776], [0.9276391417254111, 0.0723608582745889], 0.0, 'No Risk'], ['no_checking', 33, 'prior_payments_delayed', 'radio_tv', 5539, '500_to_1000', '4_to_7', 4, 'male', 'co-applicant', 3, 'car_other', 60, 'none', 'own', 2, 'skilled', 1, 'yes', 'yes', 0.0, 0.0, 1.0, 2.0, 0.0, 0.0, 0.0, 0.0, 3.0, 1.0, 1.0, 0.0, 1.0, [0.0, 0.0, 3.0, 2.0, 1.0, 0.0, 1.0, 1.0, 0.0, 0.0, 0.0, 1.0, 0.0, 33.0, 5539.0, 4.0, 3.0, 33.0, 60.0, 2.0, 1.0], [5.16927965004892, 14.83072034995108], [0.258463982502446, 0.7415360174975539], 1.0, 'Risk'], ['no_checking', 31, 'prior_payments_delayed', 'car_used', 5130, '500_to_1000', '4_to_7', 3, 'male', 'none', 4, 'unknown', 40, 'none', 'own', 1, 'skilled', 1, 'yes', 'yes', 0.0, 0.0, 1.0, 2.0, 0.0, 0.0, 0.0, 0.0, 2.0, 0.0, 3.0, 0.0, 1.0, [0.0, 0.0, 2.0, 2.0, 1.0, 0.0, 0.0, 3.0, 0.0, 0.0, 0.0, 1.0, 0.0, 31.0, 5130.0, 3.0, 4.0, 31.0, 40.0, 1.0, 1.0], [9.91956531282869, 10.080434687171312], [0.4959782656414345, 0.5040217343585656], 1.0, 'Risk'], ['no_checking', 47, 'outstanding_credit', 'retraining', 6194, '500_to_1000', 'greater_7', 4, 'male', 'co-applicant', 4, 'unknown', 49, 'none', 'free', 2, 'skilled', 2, 'yes', 'yes', 0.0, 2.0, 2.0, 2.0, 0.0, 2.0, 0.0, 0.0, 8.0, 1.0, 3.0, 0.0, 1.0, [0.0, 2.0, 8.0, 2.0, 2.0, 0.0, 1.0, 3.0, 0.0, 2.0, 0.0, 1.0, 0.0, 47.0, 6194.0, 4.0, 4.0, 47.0, 49.0, 2.0, 2.0], [1.8790235475827037, 18.120976452417295], [0.09395117737913519, 0.9060488226208647], 1.0, 'Risk'], ['0_to_200', 33, 'credits_paid_to_date', 'appliances', 4400, '100_to_500', '1_to_4', 4, 'male', 'none', 2, 'car_other', 33, 'none', 'own', 1, 'skilled', 1, 'yes', 'yes', 2.0, 1.0, 0.0, 1.0, 0.0, 0.0, 0.0, 0.0, 4.0, 0.0, 1.0, 0.0, 1.0, [2.0, 1.0, 4.0, 1.0, 0.0, 0.0, 0.0, 1.0, 0.0, 0.0, 0.0, 1.0, 0.0, 33.0, 4400.0, 4.0, 2.0, 33.0, 33.0, 1.0, 1.0], [13.469795785030664, 6.530204214969334], [0.6734897892515332, 0.3265102107484667], 0.0, 'No Risk'], ['less_0', 11, 'prior_payments_delayed', 'retraining', 4740, 'less_100', 'unemployed', 3, 'male', 'co-applicant', 4, 'car_other', 30, 'none', 'own', 1, 'management_self-employed', 1, 'none', 'yes', 1.0, 0.0, 4.0, 0.0, 0.0, 0.0, 0.0, 2.0, 8.0, 1.0, 1.0, 0.0, 0.0, [1.0, 0.0, 8.0, 0.0, 4.0, 0.0, 1.0, 1.0, 0.0, 0.0, 2.0, 0.0, 0.0, 11.0, 4740.0, 3.0, 4.0, 11.0, 30.0, 1.0, 1.0], [16.76846324546448, 3.2315367545355205], [0.8384231622732241, 0.16157683772677603], 0.0, 'No Risk'], ['less_0', 4, 'all_credits_paid_back', 'car_new', 250, 'less_100', 'unemployed', 1, 'female', 'none', 2, 'real_estate', 19, 'none', 'rent', 1, 'skilled', 1, 'none', 'yes', 1.0, 3.0, 4.0, 0.0, 0.0, 1.0, 0.0, 0.0, 0.0, 0.0, 2.0, 1.0, 0.0, [1.0, 3.0, 0.0, 0.0, 4.0, 1.0, 0.0, 2.0, 0.0, 1.0, 0.0, 0.0, 0.0, 4.0, 250.0, 1.0, 2.0, 4.0, 19.0, 1.0, 1.0], [19.705858602842344, 0.29414139715765747], [0.9852929301421172, 0.014707069857882874], 0.0, 'No Risk'], ['greater_200', 30, 'outstanding_credit', 'appliances', 6975, '500_to_1000', '1_to_4', 3, 'male', 'none', 2, 'car_other', 39, 'bank', 'rent', 2, 'unemployed', 1, 'yes', 'yes', 3.0, 2.0, 0.0, 2.0, 0.0, 1.0, 2.0, 3.0, 4.0, 0.0, 1.0, 0.0, 1.0, [3.0, 2.0, 4.0, 2.0, 0.0, 0.0, 0.0, 1.0, 2.0, 1.0, 3.0, 1.0, 0.0, 30.0, 6975.0, 3.0, 2.0, 30.0, 39.0, 2.0, 1.0], [13.549185124410382, 6.45081487558962], [0.6774592562205191, 0.322540743779481], 0.0, 'No Risk'], ['no_checking', 9, 'credits_paid_to_date', 'car_new', 3650, 'less_100', '1_to_4', 3, 'male', 'none', 3, 'savings_insurance', 27, 'none', 'rent', 1, 'management_self-employed', 1, 'none', 'yes', 0.0, 1.0, 0.0, 0.0, 0.0, 1.0, 0.0, 2.0, 0.0, 0.0, 0.0, 0.0, 0.0, [21, [1, 9, 10, 13, 14, 15, 16, 17, 18, 19, 20], [1.0, 1.0, 2.0, 9.0, 3650.0, 3.0, 3.0, 9.0, 27.0, 1.0, 1.0]], [16.418509024417656, 3.5814909755823425], [0.8209254512208828, 0.17907454877911713], 0.0, 'No Risk'], ['less_0', 4, 'no_credits', 'repairs', 513, 'less_100', 'unemployed', 2, 'male', 'none', 2, 'real_estate', 19, 'none', 'own', 1, 'management_self-employed', 1, 'none', 'yes', 1.0, 4.0, 4.0, 0.0, 0.0, 0.0, 0.0, 2.0, 5.0, 0.0, 2.0, 0.0, 0.0, [1.0, 4.0, 5.0, 0.0, 4.0, 0.0, 0.0, 2.0, 0.0, 0.0, 2.0, 0.0, 0.0, 4.0, 513.0, 2.0, 2.0, 4.0, 19.0, 1.0, 1.0], [19.688086367585804, 0.3119136324141987], [0.98440431837929, 0.015595681620709933], 0.0, 'No Risk'], ['0_to_200', 35, 'prior_payments_delayed', 'radio_tv', 4239, '100_to_500', '1_to_4', 2, 'male', 'none', 1, 'unknown', 35, 'stores', 'own', 2, 'skilled', 1, 'none', 'yes', 2.0, 0.0, 0.0, 1.0, 0.0, 0.0, 1.0, 0.0, 3.0, 0.0, 3.0, 0.0, 0.0, [2.0, 0.0, 3.0, 1.0, 0.0, 0.0, 0.0, 3.0, 1.0, 0.0, 0.0, 0.0, 0.0, 35.0, 4239.0, 2.0, 1.0, 35.0, 35.0, 2.0, 1.0], [14.000540859280061, 5.999459140719936], [0.7000270429640032, 0.29997295703599686], 0.0, 'No Risk'], ['greater_200', 28, 'prior_payments_delayed', 'radio_tv', 2070, '100_to_500', '4_to_7', 3, 'female', 'none', 2, 'real_estate', 21, 'none', 'own', 1, 'skilled', 1, 'none', 'yes', 3.0, 0.0, 1.0, 1.0, 0.0, 0.0, 0.0, 0.0, 3.0, 0.0, 2.0, 1.0, 0.0, [3.0, 0.0, 3.0, 1.0, 1.0, 1.0, 0.0, 2.0, 0.0, 0.0, 0.0, 0.0, 0.0, 28.0, 2070.0, 3.0, 2.0, 28.0, 21.0, 1.0, 1.0], [13.886821387228427, 6.113178612771576], [0.6943410693614211, 0.30565893063857874], 0.0, 'No Risk'], ['less_0', 21, 'prior_payments_delayed', 'car_used', 1215, 'less_100', '4_to_7', 3, 'male', 'none', 3, 'savings_insurance', 26, 'none', 'rent', 1, 'skilled', 1, 'none', 'no', 1.0, 0.0, 1.0, 0.0, 1.0, 1.0, 0.0, 0.0, 2.0, 0.0, 0.0, 0.0, 0.0, [1.0, 0.0, 2.0, 0.0, 1.0, 0.0, 0.0, 0.0, 0.0, 1.0, 0.0, 0.0, 1.0, 21.0, 1215.0, 3.0, 3.0, 21.0, 26.0, 1.0, 1.0], [14.790429120685722, 5.209570879314281], [0.739521456034286, 0.260478543965714], 0.0, 'No Risk'], ['less_0', 10, 'prior_payments_delayed', 'car_used', 2264, '500_to_1000', 'less_1', 3, 'female', 'none', 2, 'real_estate', 36, 'none', 'own', 1, 'skilled', 1, 'none', 'yes', 1.0, 0.0, 3.0, 2.0, 0.0, 0.0, 0.0, 0.0, 2.0, 0.0, 2.0, 1.0, 0.0, [1.0, 0.0, 2.0, 2.0, 3.0, 1.0, 0.0, 2.0, 0.0, 0.0, 0.0, 0.0, 0.0, 10.0, 2264.0, 3.0, 2.0, 10.0, 36.0, 1.0, 1.0], [17.93116249647549, 2.0688375035245077], [0.8965581248237745, 0.10344187517622538], 0.0, 'No Risk'], ['0_to_200', 18, 'credits_paid_to_date', 'furniture', 5427, 'less_100', 'less_1', 2, 'male', 'none', 3, 'unknown', 36, 'none', 'own', 1, 'skilled', 1, 'none', 'yes', 2.0, 1.0, 3.0, 0.0, 0.0, 0.0, 0.0, 0.0, 1.0, 0.0, 3.0, 0.0, 0.0, [2.0, 1.0, 1.0, 0.0, 3.0, 0.0, 0.0, 3.0, 0.0, 0.0, 0.0, 0.0, 0.0, 18.0, 5427.0, 2.0, 3.0, 18.0, 36.0, 1.0, 1.0], [15.348969756094206, 4.651030243905795], [0.7674484878047103, 0.23255151219528974], 0.0, 'No Risk'], ['less_0', 15, 'credits_paid_to_date', 'car_new', 2376, '500_to_1000', '1_to_4', 2, 'male', 'none', 1, 'savings_insurance', 34, 'none', 'own', 1, 'skilled', 1, 'none', 'yes', 1.0, 1.0, 0.0, 2.0, 0.0, 0.0, 0.0, 0.0, 0.0, 0.0, 0.0, 0.0, 0.0, [21, [0, 1, 3, 13, 14, 15, 16, 17, 18, 19, 20], [1.0, 1.0, 2.0, 15.0, 2376.0, 2.0, 1.0, 15.0, 34.0, 1.0, 1.0]], [16.403722422232168, 3.59627757776783], [0.8201861211116085, 0.17981387888839154], 0.0, 'No Risk'], ['less_0', 25, 'prior_payments_delayed', 'car_used', 250, '100_to_500', '1_to_4', 2, 'female', 'none', 3, 'real_estate', 19, 'bank', 'rent', 1, 'unskilled', 1, 'none', 'yes', 1.0, 0.0, 0.0, 1.0, 0.0, 1.0, 2.0, 1.0, 2.0, 0.0, 2.0, 1.0, 0.0, [1.0, 0.0, 2.0, 1.0, 0.0, 1.0, 0.0, 2.0, 2.0, 1.0, 1.0, 0.0, 0.0, 25.0, 250.0, 2.0, 3.0, 25.0, 19.0, 1.0, 1.0], [15.391776610288852, 4.60822338971115], [0.7695888305144425, 0.23041116948555748], 0.0, 'No Risk'], ['greater_200', 21, 'credits_paid_to_date', 'radio_tv', 5274, '500_to_1000', '4_to_7', 4, 'male', 'none', 2, 'savings_insurance', 36, 'none', 'own', 2, 'skilled', 2, 'none', 'yes', 3.0, 1.0, 1.0, 2.0, 0.0, 0.0, 0.0, 0.0, 3.0, 0.0, 0.0, 0.0, 0.0, [3.0, 1.0, 3.0, 2.0, 1.0, 0.0, 0.0, 0.0, 0.0, 0.0, 0.0, 0.0, 0.0, 21.0, 5274.0, 4.0, 2.0, 21.0, 36.0, 2.0, 2.0], [14.034523289263772, 5.965476710736231], [0.7017261644631885, 0.2982738355368115], 0.0, 'No Risk'], ['no_checking', 26, 'prior_payments_delayed', 'appliances', 4602, '100_to_500', '1_to_4', 4, 'male', 'none', 3, 'savings_insurance', 36, 'stores', 'own', 1, 'unskilled', 1, 'yes', 'yes', 0.0, 0.0, 0.0, 1.0, 0.0, 0.0, 1.0, 1.0, 4.0, 0.0, 0.0, 0.0, 1.0, [0.0, 0.0, 4.0, 1.0, 0.0, 0.0, 0.0, 0.0, 1.0, 0.0, 1.0, 1.0, 0.0, 26.0, 4602.0, 4.0, 3.0, 26.0, 36.0, 1.0, 1.0], [13.011637906721969, 6.988362093278028], [0.6505818953360986, 0.3494181046639015], 0.0, 'No Risk'], ['less_0', 22, 'no_credits', 'furniture', 1266, 'less_100', 'less_1', 1, 'male', 'co-applicant', 3, 'real_estate', 28, 'bank', 'own', 1, 'unemployed', 1, 'none', 'yes', 1.0, 4.0, 3.0, 0.0, 0.0, 0.0, 2.0, 3.0, 1.0, 1.0, 2.0, 0.0, 0.0, [1.0, 4.0, 1.0, 0.0, 3.0, 0.0, 1.0, 2.0, 2.0, 0.0, 3.0, 0.0, 0.0, 22.0, 1266.0, 1.0, 3.0, 22.0, 28.0, 1.0, 1.0], [18.593913375404778, 1.4060866245952224], [0.9296956687702389, 0.07030433122976112], 0.0, 'No Risk'], ['less_0', 19, 'credits_paid_to_date', 'car_used', 1511, 'less_100', 'less_1', 2, 'female', 'none', 1, 'car_other', 28, 'stores', 'own', 1, 'skilled', 1, 'yes', 'yes', 1.0, 1.0, 3.0, 0.0, 0.0, 0.0, 1.0, 0.0, 2.0, 0.0, 1.0, 1.0, 1.0, [1.0, 1.0, 2.0, 0.0, 3.0, 1.0, 0.0, 1.0, 1.0, 0.0, 0.0, 1.0, 0.0, 19.0, 1511.0, 2.0, 1.0, 19.0, 28.0, 1.0, 1.0], [17.01464801088181, 2.985351989118196], [0.8507324005440902, 0.14926759945590973], 0.0, 'No Risk'], ['less_0', 4, 'all_credits_paid_back', 'car_new', 956, 'less_100', 'unemployed', 2, 'male', 'none', 1, 'savings_insurance', 19, 'none', 'rent', 1, 'skilled', 1, 'none', 'yes', 1.0, 3.0, 4.0, 0.0, 0.0, 1.0, 0.0, 0.0, 0.0, 0.0, 0.0, 0.0, 0.0, [21, [0, 1, 4, 9, 13, 14, 15, 16, 17, 18, 19, 20], [1.0, 3.0, 4.0, 1.0, 4.0, 956.0, 2.0, 1.0, 4.0, 19.0, 1.0, 1.0]], [19.368793332464534, 0.6312066675354678], [0.9684396666232266, 0.031560333376773386], 0.0, 'No Risk'], ['0_to_200', 24, 'credits_paid_to_date', 'retraining', 4723, '500_to_1000', 'greater_7', 4, 'male', 'none', 2, 'savings_insurance', 38, 'none', 'own', 1, 'skilled', 1, 'none', 'yes', 2.0, 1.0, 2.0, 2.0, 0.0, 0.0, 0.0, 0.0, 8.0, 0.0, 0.0, 0.0, 0.0, [2.0, 1.0, 8.0, 2.0, 2.0, 0.0, 0.0, 0.0, 0.0, 0.0, 0.0, 0.0, 0.0, 24.0, 4723.0, 4.0, 2.0, 24.0, 38.0, 1.0, 1.0], [14.502843929438512, 5.4971560705614895], [0.7251421964719256, 0.2748578035280745], 0.0, 'No Risk'], ['no_checking', 9, 'credits_paid_to_date', 'car_used', 1848, 'less_100', '1_to_4', 3, 'female', 'none', 2, 'real_estate', 31, 'none', 'own', 2, 'skilled', 2, 'yes', 'yes', 0.0, 1.0, 0.0, 0.0, 0.0, 0.0, 0.0, 0.0, 2.0, 0.0, 2.0, 1.0, 1.0, [0.0, 1.0, 2.0, 0.0, 0.0, 1.0, 0.0, 2.0, 0.0, 0.0, 0.0, 1.0, 0.0, 9.0, 1848.0, 3.0, 2.0, 9.0, 31.0, 2.0, 2.0], [14.924974910591066, 5.075025089408935], [0.7462487455295533, 0.2537512544704467], 0.0, 'No Risk'], ['no_checking', 41, 'outstanding_credit', 'retraining', 4728, 'unknown', 'greater_7', 4, 'male', 'co-applicant', 4, 'unknown', 39, 'none', 'own', 1, 'unskilled', 1, 'yes', 'yes', 0.0, 2.0, 2.0, 4.0, 0.0, 0.0, 0.0, 1.0, 8.0, 1.0, 3.0, 0.0, 1.0, [0.0, 2.0, 8.0, 4.0, 2.0, 0.0, 1.0, 3.0, 0.0, 0.0, 1.0, 1.0, 0.0, 41.0, 4728.0, 4.0, 4.0, 41.0, 39.0, 1.0, 1.0], [6.436938429966294, 13.563061570033705], [0.32184692149831473, 0.6781530785016853], 1.0, 'Risk'], ['no_checking', 39, 'prior_payments_delayed', 'repairs', 5070, '500_to_1000', 'greater_7', 4, 'male', 'none', 3, 'car_other', 53, 'none', 'free', 2, 'skilled', 1, 'yes', 'yes', 0.0, 0.0, 2.0, 2.0, 0.0, 2.0, 0.0, 0.0, 5.0, 0.0, 1.0, 0.0, 1.0, [0.0, 0.0, 5.0, 2.0, 2.0, 0.0, 0.0, 1.0, 0.0, 2.0, 0.0, 1.0, 0.0, 39.0, 5070.0, 4.0, 3.0, 39.0, 53.0, 2.0, 1.0], [4.181159720916277, 15.818840279083723], [0.20905798604581385, 0.7909420139541862], 1.0, 'Risk'], ['less_0', 16, 'credits_paid_to_date', 'car_new', 4623, 'less_100', '1_to_4', 2, 'male', 'none', 1, 'savings_insurance', 27, 'none', 'own', 1, 'skilled', 1, 'none', 'yes', 1.0, 1.0, 0.0, 0.0, 0.0, 0.0, 0.0, 0.0, 0.0, 0.0, 0.0, 0.0, 0.0, [21, [0, 1, 13, 14, 15, 16, 17, 18, 19, 20], [1.0, 1.0, 16.0, 4623.0, 2.0, 1.0, 16.0, 27.0, 1.0, 1.0]], [17.581388259077126, 2.4186117409228727], [0.8790694129538563, 0.12093058704614364], 0.0, 'No Risk'], ['no_checking', 21, 'credits_paid_to_date', 'education', 6274, 'greater_1000', '4_to_7', 4, 'female', 'none', 3, 'car_other', 42, 'none', 'own', 2, 'skilled', 1, 'yes', 'yes', 0.0, 1.0, 1.0, 3.0, 0.0, 0.0, 0.0, 0.0, 7.0, 0.0, 1.0, 1.0, 1.0, [0.0, 1.0, 7.0, 3.0, 1.0, 1.0, 0.0, 1.0, 0.0, 0.0, 0.0, 1.0, 0.0, 21.0, 6274.0, 4.0, 3.0, 21.0, 42.0, 2.0, 1.0], [9.978485279010924, 10.021514720989076], [0.4989242639505462, 0.5010757360494538], 1.0, 'Risk'], ['greater_200', 36, 'outstanding_credit', 'repairs', 2179, '500_to_1000', '4_to_7', 3, 'male', 'none', 4, 'unknown', 43, 'none', 'own', 2, 'skilled', 1, 'yes', 'yes', 3.0, 2.0, 1.0, 2.0, 0.0, 0.0, 0.0, 0.0, 5.0, 0.0, 3.0, 0.0, 1.0, [3.0, 2.0, 5.0, 2.0, 1.0, 0.0, 0.0, 3.0, 0.0, 0.0, 0.0, 1.0, 0.0, 36.0, 2179.0, 3.0, 4.0, 36.0, 43.0, 2.0, 1.0], [10.865173231904851, 9.134826768095147], [0.5432586615952426, 0.45674133840475734], 0.0, 'No Risk'], ['0_to_200', 22, 'credits_paid_to_date', 'furniture', 3277, 'less_100', '4_to_7', 4, 'male', 'co-applicant', 2, 'savings_insurance', 36, 'bank', 'rent', 2, 'unskilled', 1, 'yes', 'yes', 2.0, 1.0, 1.0, 0.0, 0.0, 1.0, 2.0, 1.0, 1.0, 1.0, 0.0, 0.0, 1.0, [2.0, 1.0, 1.0, 0.0, 1.0, 0.0, 1.0, 0.0, 2.0, 1.0, 1.0, 1.0, 0.0, 22.0, 3277.0, 4.0, 2.0, 22.0, 36.0, 2.0, 1.0], [13.909654425864096, 6.090345574135908], [0.6954827212932047, 0.30451727870679535], 0.0, 'No Risk'], ['less_0', 16, 'credits_paid_to_date', 'vacation', 4191, 'less_100', '4_to_7', 3, 'male', 'none', 2, 'car_other', 35, 'none', 'own', 2, 'skilled', 1, 'none', 'yes', 1.0, 1.0, 1.0, 0.0, 0.0, 0.0, 0.0, 0.0, 6.0, 0.0, 1.0, 0.0, 0.0, [1.0, 1.0, 6.0, 0.0, 1.0, 0.0, 0.0, 1.0, 0.0, 0.0, 0.0, 0.0, 0.0, 16.0, 4191.0, 3.0, 2.0, 16.0, 35.0, 2.0, 1.0], [14.863272722963842, 5.136727277036159], [0.7431636361481921, 0.25683636385180797], 0.0, 'No Risk'], ['0_to_200', 4, 'all_credits_paid_back', 'car_new', 1182, 'less_100', '1_to_4', 2, 'female', 'none', 1, 'savings_insurance', 27, 'bank', 'own', 1, 'unskilled', 1, 'none', 'yes', 2.0, 3.0, 0.0, 0.0, 0.0, 0.0, 2.0, 1.0, 0.0, 0.0, 0.0, 1.0, 0.0, [2.0, 3.0, 0.0, 0.0, 0.0, 1.0, 0.0, 0.0, 2.0, 0.0, 1.0, 0.0, 0.0, 4.0, 1182.0, 2.0, 1.0, 4.0, 27.0, 1.0, 1.0], [18.704101413975234, 1.295898586024766], [0.9352050706987617, 0.0647949293012383], 0.0, 'No Risk'], ['no_checking', 48, 'outstanding_credit', 'education', 6782, 'unknown', 'greater_7', 4, 'male', 'co-applicant', 3, 'unknown', 42, 'none', 'own', 2, 'skilled', 2, 'yes', 'yes', 0.0, 2.0, 2.0, 4.0, 0.0, 0.0, 0.0, 0.0, 7.0, 1.0, 3.0, 0.0, 1.0, [0.0, 2.0, 7.0, 4.0, 2.0, 0.0, 1.0, 3.0, 0.0, 0.0, 0.0, 1.0, 0.0, 48.0, 6782.0, 4.0, 3.0, 48.0, 42.0, 2.0, 2.0], [3.4414821108964695, 16.558517889103527], [0.1720741055448235, 0.8279258944551765], 1.0, 'Risk'], ['0_to_200', 22, 'credits_paid_to_date', 'radio_tv', 2322, '100_to_500', '4_to_7', 3, 'male', 'none', 2, 'car_other', 39, 'none', 'own', 1, 'skilled', 2, 'none', 'yes', 2.0, 1.0, 1.0, 1.0, 0.0, 0.0, 0.0, 0.0, 3.0, 0.0, 1.0, 0.0, 0.0, [2.0, 1.0, 3.0, 1.0, 1.0, 0.0, 0.0, 1.0, 0.0, 0.0, 0.0, 0.0, 0.0, 22.0, 2322.0, 3.0, 2.0, 22.0, 39.0, 1.0, 2.0], [15.05946090991529, 4.940539090084713], [0.7529730454957644, 0.24702695450423562], 0.0, 'No Risk'], ['0_to_200', 4, 'credits_paid_to_date', 'car_used', 250, 'less_100', 'less_1', 1, 'female', 'none', 1, 'car_other', 26, 'none', 'own', 1, 'skilled', 1, 'none', 'yes', 2.0, 1.0, 3.0, 0.0, 0.0, 0.0, 0.0, 0.0, 2.0, 0.0, 1.0, 1.0, 0.0, [2.0, 1.0, 2.0, 0.0, 3.0, 1.0, 0.0, 1.0, 0.0, 0.0, 0.0, 0.0, 0.0, 4.0, 250.0, 1.0, 1.0, 4.0, 26.0, 1.0, 1.0], [18.74668273432002, 1.2533172656799776], [0.9373341367160011, 0.06266586328399888], 0.0, 'No Risk'], ['less_0', 13, 'prior_payments_delayed', 'furniture', 250, 'less_100', '1_to_4', 2, 'male', 'none', 1, 'real_estate', 19, 'none', 'rent', 1, 'skilled', 1, 'none', 'yes', 1.0, 0.0, 0.0, 0.0, 0.0, 1.0, 0.0, 0.0, 1.0, 0.0, 2.0, 0.0, 0.0, [21, [0, 2, 7, 9, 13, 14, 15, 16, 17, 18, 19, 20], [1.0, 1.0, 2.0, 1.0, 13.0, 250.0, 2.0, 1.0, 13.0, 19.0, 1.0, 1.0]], [18.726779188931353, 1.2732208110686447], [0.9363389594465678, 0.06366104055343225], 0.0, 'No Risk'], ['no_checking', 30, 'all_credits_paid_back', 'retraining', 2982, 'less_100', '1_to_4', 4, 'male', 'none', 3, 'real_estate', 33, 'bank', 'own', 1, 'unskilled', 1, 'none', 'yes', 0.0, 3.0, 0.0, 0.0, 0.0, 0.0, 2.0, 1.0, 8.0, 0.0, 2.0, 0.0, 0.0, [0.0, 3.0, 8.0, 0.0, 0.0, 0.0, 0.0, 2.0, 2.0, 0.0, 1.0, 0.0, 0.0, 30.0, 2982.0, 4.0, 3.0, 30.0, 33.0, 1.0, 1.0], [16.010447675925697, 3.9895523240743023], [0.8005223837962848, 0.19947761620371512], 0.0, 'No Risk'], ['no_checking', 37, 'outstanding_credit', 'repairs', 5924, 'unknown', 'greater_7', 3, 'male', 'co-applicant', 5, 'unknown', 59, 'stores', 'free', 3, 'unskilled', 1, 'yes', 'yes', 0.0, 2.0, 2.0, 4.0, 0.0, 2.0, 1.0, 1.0, 5.0, 1.0, 3.0, 0.0, 1.0, [0.0, 2.0, 5.0, 4.0, 2.0, 0.0, 1.0, 3.0, 1.0, 2.0, 1.0, 1.0, 0.0, 37.0, 5924.0, 3.0, 5.0, 37.0, 59.0, 3.0, 1.0], [2.2385751418279622, 17.761424858172035], [0.11192875709139813, 0.8880712429086018], 1.0, 'Risk'], ['less_0', 9, 'all_credits_paid_back', 'car_new', 2664, 'less_100', '1_to_4', 2, 'female', 'none', 2, 'car_other', 33, 'none', 'own', 1, 'skilled', 1, 'none', 'yes', 1.0, 3.0, 0.0, 0.0, 0.0, 0.0, 0.0, 0.0, 0.0, 0.0, 1.0, 1.0, 0.0, [21, [0, 1, 5, 7, 13, 14, 15, 16, 17, 18, 19, 20], [1.0, 3.0, 1.0, 1.0, 9.0, 2664.0, 2.0, 2.0, 9.0, 33.0, 1.0, 1.0]], [18.102394284119338, 1.8976057158806627], [0.9051197142059669, 0.09488028579403314], 0.0, 'No Risk'], ['less_0', 9, 'all_credits_paid_back', 'car_new', 332, 'less_100', '1_to_4', 1, 'female', 'co-applicant', 1, 'car_other', 35, 'stores', 'own', 1, 'unskilled', 1, 'yes', 'yes', 1.0, 3.0, 0.0, 0.0, 0.0, 0.0, 1.0, 1.0, 0.0, 1.0, 1.0, 1.0, 1.0, [1.0, 3.0, 0.0, 0.0, 0.0, 1.0, 1.0, 1.0, 1.0, 0.0, 1.0, 1.0, 0.0, 9.0, 332.0, 1.0, 1.0, 9.0, 35.0, 1.0, 1.0], [17.33359408299281, 2.6664059170071903], [0.8666797041496406, 0.1333202958503595], 0.0, 'No Risk'], ['no_checking', 39, 'credits_paid_to_date', 'business', 5114, '100_to_500', '4_to_7', 4, 'female', 'none', 4, 'savings_insurance', 22, 'none', 'own', 1, 'skilled', 1, 'none', 'yes', 0.0, 1.0, 1.0, 1.0, 0.0, 0.0, 0.0, 0.0, 9.0, 0.0, 0.0, 1.0, 0.0, [0.0, 1.0, 9.0, 1.0, 1.0, 1.0, 0.0, 0.0, 0.0, 0.0, 0.0, 0.0, 0.0, 39.0, 5114.0, 4.0, 4.0, 39.0, 22.0, 1.0, 1.0], [11.86878513451906, 8.131214865480942], [0.593439256725953, 0.4065607432740471], 0.0, 'No Risk'], ['0_to_200', 8, 'prior_payments_delayed', 'car_new', 731, 'greater_1000', '1_to_4', 3, 'female', 'none', 2, 'savings_insurance', 33, 'bank', 'rent', 1, 'unemployed', 2, 'none', 'yes', 2.0, 0.0, 0.0, 3.0, 0.0, 1.0, 2.0, 3.0, 0.0, 0.0, 0.0, 1.0, 0.0, [2.0, 0.0, 0.0, 3.0, 0.0, 1.0, 0.0, 0.0, 2.0, 1.0, 3.0, 0.0, 0.0, 8.0, 731.0, 3.0, 2.0, 8.0, 33.0, 1.0, 2.0], [17.33837049512602, 2.6616295048739755], [0.8669185247563013, 0.1330814752436988], 0.0, 'No Risk'], ['less_0', 11, 'prior_payments_delayed', 'car_used', 250, '500_to_1000', '4_to_7', 2, 'male', 'none', 3, 'savings_insurance', 21, 'stores', 'own', 1, 'skilled', 1, 'none', 'yes', 1.0, 0.0, 1.0, 2.0, 0.0, 0.0, 1.0, 0.0, 2.0, 0.0, 0.0, 0.0, 0.0, [1.0, 0.0, 2.0, 2.0, 1.0, 0.0, 0.0, 0.0, 1.0, 0.0, 0.0, 0.0, 0.0, 11.0, 250.0, 2.0, 3.0, 11.0, 21.0, 1.0, 1.0], [17.745141241341436, 2.2548587586585596], [0.887257062067072, 0.112742937932928], 0.0, 'No Risk'], ['0_to_200', 16, 'credits_paid_to_date', 'vacation', 2548, 'less_100', '1_to_4', 2, 'female', 'none', 2, 'real_estate', 42, 'none', 'own', 1, 'skilled', 1, 'none', 'yes', 2.0, 1.0, 0.0, 0.0, 0.0, 0.0, 0.0, 0.0, 6.0, 0.0, 2.0, 1.0, 0.0, [2.0, 1.0, 6.0, 0.0, 0.0, 1.0, 0.0, 2.0, 0.0, 0.0, 0.0, 0.0, 0.0, 16.0, 2548.0, 2.0, 2.0, 16.0, 42.0, 1.0, 1.0], [17.82375130134667, 2.1762486986533274], [0.8911875650673335, 0.10881243493266637], 0.0, 'No Risk'], ['no_checking', 34, 'outstanding_credit', 'repairs', 6933, '500_to_1000', '4_to_7', 4, 'male', 'none', 3, 'unknown', 51, 'none', 'free', 2, 'skilled', 2, 'yes', 'yes', 0.0, 2.0, 1.0, 2.0, 0.0, 2.0, 0.0, 0.0, 5.0, 0.0, 3.0, 0.0, 1.0, [0.0, 2.0, 5.0, 2.0, 1.0, 0.0, 0.0, 3.0, 0.0, 2.0, 0.0, 1.0, 0.0, 34.0, 6933.0, 4.0, 3.0, 34.0, 51.0, 2.0, 2.0], [5.1883568242080305, 14.811643175791971], [0.2594178412104015, 0.7405821587895985], 1.0, 'Risk'], ['0_to_200', 16, 'credits_paid_to_date', 'furniture', 4601, 'less_100', '1_to_4', 2, 'male', 'none', 3, 'car_other', 31, 'none', 'own', 1, 'skilled', 1, 'none', 'yes', 2.0, 1.0, 0.0, 0.0, 0.0, 0.0, 0.0, 0.0, 1.0, 0.0, 1.0, 0.0, 0.0, [21, [0, 1, 2, 7, 13, 14, 15, 16, 17, 18, 19, 20], [2.0, 1.0, 1.0, 1.0, 16.0, 4601.0, 2.0, 3.0, 16.0, 31.0, 1.0, 1.0]], [15.483944913019966, 4.516055086980036], [0.7741972456509982, 0.22580275434900177], 0.0, 'No Risk'], ['no_checking', 34, 'prior_payments_delayed', 'furniture', 5521, 'unknown', '4_to_7', 4, 'male', 'none', 4, 'savings_insurance', 38, 'none', 'own', 2, 'skilled', 1, 'yes', 'yes', 0.0, 0.0, 1.0, 4.0, 0.0, 0.0, 0.0, 0.0, 1.0, 0.0, 0.0, 0.0, 1.0, [21, [2, 3, 4, 11, 13, 14, 15, 16, 17, 18, 19, 20], [1.0, 4.0, 1.0, 1.0, 34.0, 5521.0, 4.0, 4.0, 34.0, 38.0, 2.0, 1.0]], [9.894131518951053, 10.10586848104895], [0.49470657594755263, 0.5052934240524475], 1.0, 'Risk'], ['no_checking', 19, 'credits_paid_to_date', 'appliances', 4208, '100_to_500', '4_to_7', 3, 'male', 'none', 3, 'car_other', 46, 'none', 'own', 1, 'skilled', 1, 'yes', 'yes', 0.0, 1.0, 1.0, 1.0, 0.0, 0.0, 0.0, 0.0, 4.0, 0.0, 1.0, 0.0, 1.0, [0.0, 1.0, 4.0, 1.0, 1.0, 0.0, 0.0, 1.0, 0.0, 0.0, 0.0, 1.0, 0.0, 19.0, 4208.0, 3.0, 3.0, 19.0, 46.0, 1.0, 1.0], [11.98421247424846, 8.015787525751541], [0.5992106237124231, 0.40078937628757705], 0.0, 'No Risk'], ['less_0', 13, 'all_credits_paid_back', 'furniture', 2624, '100_to_500', 'less_1', 1, 'male', 'none', 2, 'savings_insurance', 27, 'stores', 'rent', 2, 'skilled', 1, 'none', 'yes', 1.0, 3.0, 3.0, 1.0, 0.0, 1.0, 1.0, 0.0, 1.0, 0.0, 0.0, 0.0, 0.0, [1.0, 3.0, 1.0, 1.0, 3.0, 0.0, 0.0, 0.0, 1.0, 1.0, 0.0, 0.0, 0.0, 13.0, 2624.0, 1.0, 2.0, 13.0, 27.0, 2.0, 1.0], [17.390122061619927, 2.609877938380073], [0.8695061030809963, 0.13049389691900365], 0.0, 'No Risk'], ['no_checking', 30, 'prior_payments_delayed', 'radio_tv', 8770, 'unknown', 'greater_7', 5, 'male', 'co-applicant', 4, 'unknown', 58, 'none', 'free', 3, 'skilled', 2, 'yes', 'yes', 0.0, 0.0, 2.0, 4.0, 0.0, 2.0, 0.0, 0.0, 3.0, 1.0, 3.0, 0.0, 1.0, [0.0, 0.0, 3.0, 4.0, 2.0, 0.0, 1.0, 3.0, 0.0, 2.0, 0.0, 1.0, 0.0, 30.0, 8770.0, 5.0, 4.0, 30.0, 58.0, 3.0, 2.0], [1.7866742357032526, 18.213325764296748], [0.08933371178516263, 0.9106662882148374], 1.0, 'Risk'], ['no_checking', 35, 'credits_paid_to_date', 'car_used', 6328, 'greater_1000', '1_to_4', 3, 'male', 'none', 4, 'car_other', 30, 'none', 'own', 2, 'skilled', 1, 'none', 'yes', 0.0, 1.0, 0.0, 3.0, 0.0, 0.0, 0.0, 0.0, 2.0, 0.0, 1.0, 0.0, 0.0, [21, [1, 2, 3, 7, 13, 14, 15, 16, 17, 18, 19, 20], [1.0, 2.0, 3.0, 1.0, 35.0, 6328.0, 3.0, 4.0, 35.0, 30.0, 2.0, 1.0]], [11.776066917502378, 8.223933082497622], [0.588803345875119, 0.4111966541248811], 0.0, 'No Risk'], ['less_0', 4, 'no_credits', 'car_new', 250, 'less_100', 'less_1', 1, 'female', 'none', 1, 'real_estate', 20, 'none', 'rent', 1, 'skilled', 1, 'none', 'yes', 1.0, 4.0, 3.0, 0.0, 0.0, 1.0, 0.0, 0.0, 0.0, 0.0, 2.0, 1.0, 0.0, [1.0, 4.0, 0.0, 0.0, 3.0, 1.0, 0.0, 2.0, 0.0, 1.0, 0.0, 0.0, 0.0, 4.0, 250.0, 1.0, 1.0, 4.0, 20.0, 1.0, 1.0], [19.682384424438588, 0.31761557556141334], [0.9841192212219294, 0.01588077877807067], 0.0, 'No Risk'], ['no_checking', 27, 'prior_payments_delayed', 'business', 6076, 'greater_1000', '1_to_4', 3, 'male', 'none', 4, 'savings_insurance', 38, 'none', 'own', 2, 'skilled', 1, 'none', 'no', 0.0, 0.0, 0.0, 3.0, 1.0, 0.0, 0.0, 0.0, 9.0, 0.0, 0.0, 0.0, 0.0, [21, [2, 3, 12, 13, 14, 15, 16, 17, 18, 19, 20], [9.0, 3.0, 1.0, 27.0, 6076.0, 3.0, 4.0, 27.0, 38.0, 2.0, 1.0]], [11.61178399285936, 8.388216007140638], [0.580589199642968, 0.41941080035703193], 0.0, 'No Risk'], ['0_to_200', 22, 'credits_paid_to_date', 'car_used', 3218, '500_to_1000', 'less_1', 2, 'female', 'none', 2, 'real_estate', 32, 'stores', 'own', 1, 'skilled', 1, 'none', 'yes', 2.0, 1.0, 3.0, 2.0, 0.0, 0.0, 1.0, 0.0, 2.0, 0.0, 2.0, 1.0, 0.0, [2.0, 1.0, 2.0, 2.0, 3.0, 1.0, 0.0, 2.0, 1.0, 0.0, 0.0, 0.0, 0.0, 22.0, 3218.0, 2.0, 2.0, 22.0, 32.0, 1.0, 1.0], [17.45259510476866, 2.547404895231342], [0.8726297552384329, 0.1273702447615671], 0.0, 'No Risk'], ['less_0', 36, 'credits_paid_to_date', 'car_used', 650, '100_to_500', '4_to_7', 3, 'male', 'none', 2, 'real_estate', 21, 'none', 'own', 1, 'skilled', 1, 'yes', 'yes', 1.0, 1.0, 1.0, 1.0, 0.0, 0.0, 0.0, 0.0, 2.0, 0.0, 2.0, 0.0, 1.0, [1.0, 1.0, 2.0, 1.0, 1.0, 0.0, 0.0, 2.0, 0.0, 0.0, 0.0, 1.0, 0.0, 36.0, 650.0, 3.0, 2.0, 36.0, 21.0, 1.0, 1.0], [14.005136020120943, 5.994863979879057], [0.7002568010060471, 0.29974319899395285], 0.0, 'No Risk'], ['less_0', 4, 'all_credits_paid_back', 'car_used', 891, 'less_100', '1_to_4', 2, 'female', 'co-applicant', 2, 'savings_insurance', 31, 'none', 'own', 1, 'unskilled', 1, 'none', 'yes', 1.0, 3.0, 0.0, 0.0, 0.0, 0.0, 0.0, 1.0, 2.0, 1.0, 0.0, 1.0, 0.0, [1.0, 3.0, 2.0, 0.0, 0.0, 1.0, 1.0, 0.0, 0.0, 0.0, 1.0, 0.0, 0.0, 4.0, 891.0, 2.0, 2.0, 4.0, 31.0, 1.0, 1.0], [19.080081850577766, 0.9199181494222362], [0.9540040925288882, 0.0459959074711118], 0.0, 'No Risk'], ['no_checking', 35, 'outstanding_credit', 'furniture', 2962, 'greater_1000', 'greater_7', 4, 'male', 'none', 4, 'car_other', 53, 'none', 'own', 1, 'skilled', 1, 'none', 'yes', 0.0, 2.0, 2.0, 3.0, 0.0, 0.0, 0.0, 0.0, 1.0, 0.0, 1.0, 0.0, 0.0, [0.0, 2.0, 1.0, 3.0, 2.0, 0.0, 0.0, 1.0, 0.0, 0.0, 0.0, 0.0, 0.0, 35.0, 2962.0, 4.0, 4.0, 35.0, 53.0, 1.0, 1.0], [7.19456594213146, 12.80543405786854], [0.359728297106573, 0.640271702893427], 1.0, 'Risk'], ['no_checking', 29, 'outstanding_credit', 'appliances', 7607, '500_to_1000', 'greater_7', 4, 'male', 'co-applicant', 3, 'car_other', 31, 'none', 'free', 2, 'management_self-employed', 1, 'none', 'yes', 0.0, 2.0, 2.0, 2.0, 0.0, 2.0, 0.0, 2.0, 4.0, 1.0, 1.0, 0.0, 0.0, [0.0, 2.0, 4.0, 2.0, 2.0, 0.0, 1.0, 1.0, 0.0, 2.0, 2.0, 0.0, 0.0, 29.0, 7607.0, 4.0, 3.0, 29.0, 31.0, 2.0, 1.0], [5.274525239275876, 14.725474760724122], [0.2637262619637938, 0.7362737380362061], 1.0, 'Risk'], ['no_checking', 28, 'prior_payments_delayed', 'car_used', 4503, '100_to_500', '1_to_4', 3, 'female', 'none', 3, 'savings_insurance', 36, 'bank', 'own', 2, 'unskilled', 1, 'yes', 'yes', 0.0, 0.0, 0.0, 1.0, 0.0, 0.0, 2.0, 1.0, 2.0, 0.0, 0.0, 1.0, 1.0, [0.0, 0.0, 2.0, 1.0, 0.0, 1.0, 0.0, 0.0, 2.0, 0.0, 1.0, 1.0, 0.0, 28.0, 4503.0, 3.0, 3.0, 28.0, 36.0, 2.0, 1.0], [12.16595250877718, 7.834047491222821], [0.608297625438859, 0.39170237456114104], 0.0, 'No Risk'], ['0_to_200', 21, 'credits_paid_to_date', 'repairs', 6017, 'less_100', '1_to_4', 4, 'male', 'co-applicant', 2, 'unknown', 40, 'none', 'free', 2, 'skilled', 1, 'yes', 'yes', 2.0, 1.0, 0.0, 0.0, 0.0, 2.0, 0.0, 0.0, 5.0, 1.0, 3.0, 0.0, 1.0, [2.0, 1.0, 5.0, 0.0, 0.0, 0.0, 1.0, 3.0, 0.0, 2.0, 0.0, 1.0, 0.0, 21.0, 6017.0, 4.0, 2.0, 21.0, 40.0, 2.0, 1.0], [13.645441966542517, 6.354558033457486], [0.6822720983271258, 0.31772790167287424], 0.0, 'No Risk'], ['0_to_200', 32, 'prior_payments_delayed', 'education', 4312, 'greater_1000', 'greater_7', 4, 'male', 'none', 4, 'unknown', 37, 'none', 'own', 2, 'skilled', 1, 'yes', 'yes', 2.0, 0.0, 2.0, 3.0, 0.0, 0.0, 0.0, 0.0, 7.0, 0.0, 3.0, 0.0, 1.0, [2.0, 0.0, 7.0, 3.0, 2.0, 0.0, 0.0, 3.0, 0.0, 0.0, 0.0, 1.0, 0.0, 32.0, 4312.0, 4.0, 4.0, 32.0, 37.0, 2.0, 1.0], [10.128499147605675, 9.871500852394329], [0.5064249573802837, 0.49357504261971635], 0.0, 'No Risk'], ['less_0', 8, 'all_credits_paid_back', 'car_new', 2672, 'less_100', 'less_1', 1, 'male', 'none', 1, 'savings_insurance', 23, 'none', 'rent', 1, 'skilled', 1, 'none', 'yes', 1.0, 3.0, 3.0, 0.0, 0.0, 1.0, 0.0, 0.0, 0.0, 0.0, 0.0, 0.0, 0.0, [21, [0, 1, 4, 9, 13, 14, 15, 16, 17, 18, 19, 20], [1.0, 3.0, 3.0, 1.0, 8.0, 2672.0, 1.0, 1.0, 8.0, 23.0, 1.0, 1.0]], [19.231681675351926, 0.7683183246480765], [0.9615840837675961, 0.03841591623240382], 0.0, 'No Risk'], ['0_to_200', 15, 'credits_paid_to_date', 'car_used', 2089, 'less_100', '1_to_4', 3, 'male', 'none', 3, 'savings_insurance', 32, 'none', 'own', 1, 'skilled', 1, 'none', 'yes', 2.0, 1.0, 0.0, 0.0, 0.0, 0.0, 0.0, 0.0, 2.0, 0.0, 0.0, 0.0, 0.0, [21, [0, 1, 2, 13, 14, 15, 16, 17, 18, 19, 20], [2.0, 1.0, 2.0, 15.0, 2089.0, 3.0, 3.0, 15.0, 32.0, 1.0, 1.0]], [16.31117232264248, 3.6888276773575215], [0.8155586161321239, 0.18444138386787604], 0.0, 'No Risk'], ['no_checking', 16, 'credits_paid_to_date', 'furniture', 1530, '100_to_500', '1_to_4', 3, 'male', 'none', 4, 'real_estate', 30, 'none', 'own', 1, 'management_self-employed', 1, 'none', 'yes', 0.0, 1.0, 0.0, 1.0, 0.0, 0.0, 0.0, 2.0, 1.0, 0.0, 2.0, 0.0, 0.0, [0.0, 1.0, 1.0, 1.0, 0.0, 0.0, 0.0, 2.0, 0.0, 0.0, 2.0, 0.0, 0.0, 16.0, 1530.0, 3.0, 4.0, 16.0, 30.0, 1.0, 1.0], [17.04273864529098, 2.9572613547090185], [0.8521369322645491, 0.14786306773545094], 0.0, 'No Risk'], ['less_0', 4, 'credits_paid_to_date', 'car_used', 250, 'less_100', 'less_1', 2, 'female', 'none', 3, 'real_estate', 29, 'bank', 'rent', 1, 'unskilled', 1, 'yes', 'yes', 1.0, 1.0, 3.0, 0.0, 0.0, 1.0, 2.0, 1.0, 2.0, 0.0, 2.0, 1.0, 1.0, [1.0, 1.0, 2.0, 0.0, 3.0, 1.0, 0.0, 2.0, 2.0, 1.0, 1.0, 1.0, 0.0, 4.0, 250.0, 2.0, 3.0, 4.0, 29.0, 1.0, 1.0], [19.082202030978216, 0.917797969021781], [0.954110101548911, 0.04588989845108906], 0.0, 'No Risk'], ['no_checking', 32, 'prior_payments_delayed', 'appliances', 8200, '100_to_500', 'greater_7', 4, 'male', 'co-applicant', 3, 'unknown', 51, 'none', 'own', 2, 'skilled', 1, 'none', 'yes', 0.0, 0.0, 2.0, 1.0, 0.0, 0.0, 0.0, 0.0, 4.0, 1.0, 3.0, 0.0, 0.0, [0.0, 0.0, 4.0, 1.0, 2.0, 0.0, 1.0, 3.0, 0.0, 0.0, 0.0, 0.0, 0.0, 32.0, 8200.0, 4.0, 3.0, 32.0, 51.0, 2.0, 1.0], [2.6006504018953445, 17.399349598104656], [0.13003252009476723, 0.8699674799052328], 1.0, 'Risk'], ['less_0', 4, 'all_credits_paid_back', 'car_new', 250, '100_to_500', 'less_1', 1, 'male', 'none', 1, 'savings_insurance', 19, 'none', 'rent', 1, 'skilled', 1, 'none', 'yes', 1.0, 3.0, 3.0, 1.0, 0.0, 1.0, 0.0, 0.0, 0.0, 0.0, 0.0, 0.0, 0.0, [1.0, 3.0, 0.0, 1.0, 3.0, 0.0, 0.0, 0.0, 0.0, 1.0, 0.0, 0.0, 0.0, 4.0, 250.0, 1.0, 1.0, 4.0, 19.0, 1.0, 1.0], [19.483063208850634, 0.5169367911493683], [0.9741531604425315, 0.02584683955746841], 0.0, 'No Risk'], ['no_checking', 37, 'prior_payments_delayed', 'appliances', 6870, '500_to_1000', '1_to_4', 4, 'male', 'co-applicant', 4, 'car_other', 50, 'none', 'free', 2, 'skilled', 1, 'yes', 'yes', 0.0, 0.0, 0.0, 2.0, 0.0, 2.0, 0.0, 0.0, 4.0, 1.0, 1.0, 0.0, 1.0, [0.0, 0.0, 4.0, 2.0, 0.0, 0.0, 1.0, 1.0, 0.0, 2.0, 0.0, 1.0, 0.0, 37.0, 6870.0, 4.0, 4.0, 37.0, 50.0, 2.0, 1.0], [6.249557905840487, 13.750442094159512], [0.31247789529202435, 0.6875221047079756], 1.0, 'Risk'], ['no_checking', 36, 'credits_paid_to_date', 'appliances', 7582, '500_to_1000', '4_to_7', 5, 'male', 'none', 3, 'car_other', 40, 'none', 'own', 2, 'skilled', 2, 'yes', 'yes', 0.0, 1.0, 1.0, 2.0, 0.0, 0.0, 0.0, 0.0, 4.0, 0.0, 1.0, 0.0, 1.0, [0.0, 1.0, 4.0, 2.0, 1.0, 0.0, 0.0, 1.0, 0.0, 0.0, 0.0, 1.0, 0.0, 36.0, 7582.0, 5.0, 3.0, 36.0, 40.0, 2.0, 2.0], [9.172760111738388, 10.827239888261612], [0.45863800558691936, 0.5413619944130806], 1.0, 'Risk'], ['0_to_200', 4, 'all_credits_paid_back', 'radio_tv', 3164, 'less_100', '1_to_4', 3, 'female', 'none', 2, 'savings_insurance', 31, 'stores', 'own', 1, 'unskilled', 2, 'none', 'yes', 2.0, 3.0, 0.0, 0.0, 0.0, 0.0, 1.0, 1.0, 3.0, 0.0, 0.0, 1.0, 0.0, [2.0, 3.0, 3.0, 0.0, 0.0, 1.0, 0.0, 0.0, 1.0, 0.0, 1.0, 0.0, 0.0, 4.0, 3164.0, 3.0, 2.0, 4.0, 31.0, 1.0, 2.0], [18.580203702140874, 1.419796297859127], [0.9290101851070437, 0.07098981489295635], 0.0, 'No Risk'], ['no_checking', 34, 'prior_payments_delayed', 'radio_tv', 3282, 'unknown', 'greater_7', 4, 'male', 'none', 5, 'unknown', 46, 'bank', 'own', 2, 'unskilled', 2, 'yes', 'yes', 0.0, 0.0, 2.0, 4.0, 0.0, 0.0, 2.0, 1.0, 3.0, 0.0, 3.0, 0.0, 1.0, [0.0, 0.0, 3.0, 4.0, 2.0, 0.0, 0.0, 3.0, 2.0, 0.0, 1.0, 1.0, 0.0, 34.0, 3282.0, 4.0, 5.0, 34.0, 46.0, 2.0, 2.0], [6.146219180126706, 13.853780819873291], [0.30731095900633537, 0.6926890409936647], 1.0, 'Risk'], ['less_0', 34, 'credits_paid_to_date', 'furniture', 1813, 'less_100', '4_to_7', 3, 'male', 'none', 3, 'savings_insurance', 26, 'none', 'own', 1, 'skilled', 1, 'none', 'yes', 1.0, 1.0, 1.0, 0.0, 0.0, 0.0, 0.0, 0.0, 1.0, 0.0, 0.0, 0.0, 0.0, [21, [0, 1, 2, 4, 13, 14, 15, 16, 17, 18, 19, 20], [1.0, 1.0, 1.0, 1.0, 34.0, 1813.0, 3.0, 3.0, 34.0, 26.0, 1.0, 1.0]], [13.165311841651697, 6.834688158348308], [0.6582655920825847, 0.34173440791741533], 0.0, 'No Risk'], ['no_checking', 27, 'prior_payments_delayed', 'appliances', 7522, '100_to_500', '1_to_4', 4, 'male', 'none', 4, 'savings_insurance', 45, 'none', 'own', 1, 'management_self-employed', 1, 'none', 'yes', 0.0, 0.0, 0.0, 1.0, 0.0, 0.0, 0.0, 2.0, 4.0, 0.0, 0.0, 0.0, 0.0, [21, [2, 3, 10, 13, 14, 15, 16, 17, 18, 19, 20], [4.0, 1.0, 2.0, 27.0, 7522.0, 4.0, 4.0, 27.0, 45.0, 1.0, 1.0]], [13.50043398535485, 6.499566014645149], [0.6750216992677425, 0.3249783007322574], 0.0, 'No Risk'], ['0_to_200', 18, 'credits_paid_to_date', 'car_used', 2252, '500_to_1000', '1_to_4', 2, 'male', 'none', 2, 'savings_insurance', 33, 'none', 'own', 2, 'skilled', 1, 'none', 'yes', 2.0, 1.0, 0.0, 2.0, 0.0, 0.0, 0.0, 0.0, 2.0, 0.0, 0.0, 0.0, 0.0, [21, [0, 1, 2, 3, 13, 14, 15, 16, 17, 18, 19, 20], [2.0, 1.0, 2.0, 2.0, 18.0, 2252.0, 2.0, 2.0, 18.0, 33.0, 2.0, 1.0]], [14.377361325692824, 5.622638674307177], [0.7188680662846412, 0.28113193371535883], 0.0, 'No Risk'], ['no_checking', 38, 'prior_payments_delayed', 'furniture', 5495, '500_to_1000', '4_to_7', 3, 'male', 'none', 4, 'savings_insurance', 44, 'none', 'free', 2, 'skilled', 1, 'yes', 'yes', 0.0, 0.0, 1.0, 2.0, 0.0, 2.0, 0.0, 0.0, 1.0, 0.0, 0.0, 0.0, 1.0, [0.0, 0.0, 1.0, 2.0, 1.0, 0.0, 0.0, 0.0, 0.0, 2.0, 0.0, 1.0, 0.0, 38.0, 5495.0, 3.0, 4.0, 38.0, 44.0, 2.0, 1.0], [9.043883002903568, 10.956116997096432], [0.4521941501451784, 0.5478058498548216], 1.0, 'Risk'], ['no_checking', 33, 'prior_payments_delayed', 'furniture', 5888, '500_to_1000', '1_to_4', 4, 'male', 'none', 4, 'savings_insurance', 36, 'none', 'own', 2, 'skilled', 1, 'none', 'yes', 0.0, 0.0, 0.0, 2.0, 0.0, 0.0, 0.0, 0.0, 1.0, 0.0, 0.0, 0.0, 0.0, [21, [2, 3, 13, 14, 15, 16, 17, 18, 19, 20], [1.0, 2.0, 33.0, 5888.0, 4.0, 4.0, 33.0, 36.0, 2.0, 1.0]], [12.063486789839683, 7.936513210160315], [0.6031743394919843, 0.3968256605080158], 0.0, 'No Risk'], ['0_to_200', 6, 'all_credits_paid_back', 'car_used', 2710, 'less_100', 'unemployed', 2, 'male', 'none', 3, 'real_estate', 23, 'none', 'own', 1, 'skilled', 1, 'none', 'yes', 2.0, 3.0, 4.0, 0.0, 0.0, 0.0, 0.0, 0.0, 2.0, 0.0, 2.0, 0.0, 0.0, [2.0, 3.0, 2.0, 0.0, 4.0, 0.0, 0.0, 2.0, 0.0, 0.0, 0.0, 0.0, 0.0, 6.0, 2710.0, 2.0, 3.0, 6.0, 23.0, 1.0, 1.0], [19.35059960848442, 0.6494003915155796], [0.967529980424221, 0.03247001957577898], 0.0, 'No Risk'], ['0_to_200', 28, 'credits_paid_to_date', 'car_used', 2177, '500_to_1000', '1_to_4', 3, 'female', 'none', 3, 'savings_insurance', 41, 'none', 'own', 1, 'skilled', 1, 'none', 'yes', 2.0, 1.0, 0.0, 2.0, 0.0, 0.0, 0.0, 0.0, 2.0, 0.0, 0.0, 1.0, 0.0, [2.0, 1.0, 2.0, 2.0, 0.0, 1.0, 0.0, 0.0, 0.0, 0.0, 0.0, 0.0, 0.0, 28.0, 2177.0, 3.0, 3.0, 28.0, 41.0, 1.0, 1.0], [13.04577642051305, 6.954223579486952], [0.6522888210256526, 0.34771117897434756], 0.0, 'No Risk'], ['less_0', 19, 'credits_paid_to_date', 'car_new', 250, 'less_100', 'less_1', 2, 'female', 'none', 3, 'real_estate', 19, 'bank', 'own', 1, 'unemployed', 1, 'none', 'yes', 1.0, 1.0, 3.0, 0.0, 0.0, 0.0, 2.0, 3.0, 0.0, 0.0, 2.0, 1.0, 0.0, [1.0, 1.0, 0.0, 0.0, 3.0, 1.0, 0.0, 2.0, 2.0, 0.0, 3.0, 0.0, 0.0, 19.0, 250.0, 2.0, 3.0, 19.0, 19.0, 1.0, 1.0], [18.520491638887613, 1.4795083611123865], [0.9260245819443806, 0.07397541805561933], 0.0, 'No Risk'], ['less_0', 9, 'all_credits_paid_back', 'car_new', 3657, '100_to_500', 'less_1', 1, 'female', 'none', 2, 'car_other', 40, 'stores', 'own', 2, 'skilled', 1, 'none', 'yes', 1.0, 3.0, 3.0, 1.0, 0.0, 0.0, 1.0, 0.0, 0.0, 0.0, 1.0, 1.0, 0.0, [1.0, 3.0, 0.0, 1.0, 3.0, 1.0, 0.0, 1.0, 1.0, 0.0, 0.0, 0.0, 0.0, 9.0, 3657.0, 1.0, 2.0, 9.0, 40.0, 2.0, 1.0], [16.63549989390328, 3.3645001060967243], [0.8317749946951638, 0.1682250053048362], 0.0, 'No Risk'], ['0_to_200', 22, 'credits_paid_to_date', 'furniture', 2053, 'less_100', 'less_1', 3, 'male', 'none', 3, 'savings_insurance', 25, 'bank', 'rent', 1, 'unskilled', 2, 'none', 'yes', 2.0, 1.0, 3.0, 0.0, 0.0, 1.0, 2.0, 1.0, 1.0, 0.0, 0.0, 0.0, 0.0, [2.0, 1.0, 1.0, 0.0, 3.0, 0.0, 0.0, 0.0, 2.0, 1.0, 1.0, 0.0, 0.0, 22.0, 2053.0, 3.0, 3.0, 22.0, 25.0, 1.0, 2.0], [16.383963264629987, 3.6160367353700145], [0.8191981632314993, 0.18080183676850073], 0.0, 'No Risk'], ['no_checking', 30, 'prior_payments_delayed', 'appliances', 2024, '500_to_1000', '4_to_7', 4, 'female', 'none', 4, 'savings_insurance', 53, 'none', 'own', 1, 'skilled', 1, 'none', 'yes', 0.0, 0.0, 1.0, 2.0, 0.0, 0.0, 0.0, 0.0, 4.0, 0.0, 0.0, 1.0, 0.0, [21, [2, 3, 4, 5, 13, 14, 15, 16, 17, 18, 19, 20], [4.0, 2.0, 1.0, 1.0, 30.0, 2024.0, 4.0, 4.0, 30.0, 53.0, 1.0, 1.0]], [9.589180728324509, 10.410819271675491], [0.47945903641622545, 0.5205409635837746], 1.0, 'Risk'], ['no_checking', 29, 'prior_payments_delayed', 'appliances', 6442, '100_to_500', '4_to_7', 4, 'female', 'none', 4, 'car_other', 42, 'none', 'own', 2, 'skilled', 1, 'yes', 'yes', 0.0, 0.0, 1.0, 1.0, 0.0, 0.0, 0.0, 0.0, 4.0, 0.0, 1.0, 1.0, 1.0, [0.0, 0.0, 4.0, 1.0, 1.0, 1.0, 0.0, 1.0, 0.0, 0.0, 0.0, 1.0, 0.0, 29.0, 6442.0, 4.0, 4.0, 29.0, 42.0, 2.0, 1.0], [7.2691425983921825, 12.730857401607816], [0.3634571299196091, 0.6365428700803908], 1.0, 'Risk'], ['0_to_200', 23, 'outstanding_credit', 'education', 5553, '100_to_500', 'less_1', 3, 'female', 'none', 2, 'unknown', 47, 'bank', 'own', 1, 'unskilled', 1, 'yes', 'yes', 2.0, 2.0, 3.0, 1.0, 0.0, 0.0, 2.0, 1.0, 7.0, 0.0, 3.0, 1.0, 1.0, [2.0, 2.0, 7.0, 1.0, 3.0, 1.0, 0.0, 3.0, 2.0, 0.0, 1.0, 1.0, 0.0, 23.0, 5553.0, 3.0, 2.0, 23.0, 47.0, 1.0, 1.0], [13.679439114557063, 6.320560885442935], [0.6839719557278532, 0.31602804427214676], 0.0, 'No Risk'], ['less_0', 23, 'credits_paid_to_date', 'furniture', 4449, 'less_100', 'less_1', 2, 'male', 'none', 2, 'car_other', 32, 'none', 'rent', 1, 'skilled', 1, 'none', 'yes', 1.0, 1.0, 3.0, 0.0, 0.0, 1.0, 0.0, 0.0, 1.0, 0.0, 1.0, 0.0, 0.0, [1.0, 1.0, 1.0, 0.0, 3.0, 0.0, 0.0, 1.0, 0.0, 1.0, 0.0, 0.0, 0.0, 23.0, 4449.0, 2.0, 2.0, 23.0, 32.0, 1.0, 1.0], [15.980242448135224, 4.019757551864778], [0.7990121224067612, 0.2009878775932389], 0.0, 'No Risk'], ['0_to_200', 14, 'credits_paid_to_date', 'furniture', 250, '500_to_1000', 'less_1', 1, 'female', 'none', 1, 'real_estate', 19, 'stores', 'rent', 2, 'skilled', 1, 'none', 'yes', 2.0, 1.0, 3.0, 2.0, 0.0, 1.0, 1.0, 0.0, 1.0, 0.0, 2.0, 1.0, 0.0, [2.0, 1.0, 1.0, 2.0, 3.0, 1.0, 0.0, 2.0, 1.0, 1.0, 0.0, 0.0, 0.0, 14.0, 250.0, 1.0, 1.0, 14.0, 19.0, 2.0, 1.0], [18.430478188313625, 1.5695218116863747], [0.9215239094156813, 0.07847609058431873], 0.0, 'No Risk'], ['no_checking', 25, 'prior_payments_delayed', 'car_used', 6305, '100_to_500', '1_to_4', 3, 'female', 'none', 3, 'car_other', 40, 'bank', 'free', 2, 'unskilled', 2, 'yes', 'yes', 0.0, 0.0, 0.0, 1.0, 0.0, 2.0, 2.0, 1.0, 2.0, 0.0, 1.0, 1.0, 1.0, [0.0, 0.0, 2.0, 1.0, 0.0, 1.0, 0.0, 1.0, 2.0, 2.0, 1.0, 1.0, 0.0, 25.0, 6305.0, 3.0, 3.0, 25.0, 40.0, 2.0, 2.0], [11.098356066888016, 8.901643933111984], [0.5549178033444008, 0.4450821966555992], 0.0, 'No Risk'], ['no_checking', 15, 'all_credits_paid_back', 'car_used', 4372, 'less_100', '4_to_7', 4, 'female', 'none', 3, 'car_other', 42, 'none', 'free', 2, 'skilled', 1, 'yes', 'yes', 0.0, 3.0, 1.0, 0.0, 0.0, 2.0, 0.0, 0.0, 2.0, 0.0, 1.0, 1.0, 1.0, [0.0, 3.0, 2.0, 0.0, 1.0, 1.0, 0.0, 1.0, 0.0, 2.0, 0.0, 1.0, 0.0, 15.0, 4372.0, 4.0, 3.0, 15.0, 42.0, 2.0, 1.0], [10.449408920782565, 9.550591079217435], [0.5224704460391283, 0.47752955396087177], 0.0, 'No Risk'], ['no_checking', 36, 'prior_payments_delayed', 'furniture', 5313, '500_to_1000', 'greater_7', 5, 'male', 'co-applicant', 3, 'savings_insurance', 42, 'none', 'free', 2, 'skilled', 2, 'yes', 'yes', 0.0, 0.0, 2.0, 2.0, 0.0, 2.0, 0.0, 0.0, 1.0, 1.0, 0.0, 0.0, 1.0, [0.0, 0.0, 1.0, 2.0, 2.0, 0.0, 1.0, 0.0, 0.0, 2.0, 0.0, 1.0, 0.0, 36.0, 5313.0, 5.0, 3.0, 36.0, 42.0, 2.0, 2.0], [4.453191094096457, 15.54680890590354], [0.2226595547048229, 0.7773404452951771], 1.0, 'Risk'], ['no_checking', 26, 'prior_payments_delayed', 'retraining', 5321, 'greater_1000', '4_to_7', 4, 'male', 'none', 3, 'savings_insurance', 36, 'none', 'own', 2, 'skilled', 1, 'yes', 'yes', 0.0, 0.0, 1.0, 3.0, 0.0, 0.0, 0.0, 0.0, 8.0, 0.0, 0.0, 0.0, 1.0, [21, [2, 3, 4, 11, 13, 14, 15, 16, 17, 18, 19, 20], [8.0, 3.0, 1.0, 1.0, 26.0, 5321.0, 4.0, 3.0, 26.0, 36.0, 2.0, 1.0]], [10.34412156319108, 9.655878436808921], [0.517206078159554, 0.48279392184044606], 0.0, 'No Risk'], ['less_0', 9, 'all_credits_paid_back', 'car_new', 1620, '100_to_500', '1_to_4', 2, 'male', 'none', 3, 'savings_insurance', 29, 'stores', 'own', 2, 'skilled', 1, 'none', 'yes', 1.0, 3.0, 0.0, 1.0, 0.0, 0.0, 1.0, 0.0, 0.0, 0.0, 0.0, 0.0, 0.0, [21, [0, 1, 3, 8, 13, 14, 15, 16, 17, 18, 19, 20], [1.0, 3.0, 1.0, 1.0, 9.0, 1620.0, 2.0, 3.0, 9.0, 29.0, 2.0, 1.0]], [16.499690903970592, 3.500309096029409], [0.8249845451985296, 0.17501545480147046], 0.0, 'No Risk']]}\n"
     ]
    }
   ],
   "source": [
    "import random\n",
    "\n",
    "with open('german_credit_feed.json', 'r') as scoring_file:\n",
    "    scoring_data = json.load(scoring_file)\n",
    "\n",
    "fields = scoring_data['fields']\n",
    "values = []\n",
    "for _ in range(1000):\n",
    "    values.append(random.choice(scoring_data['values']))\n",
    "payload_scoring = {\"fields\": fields, \"values\": values}\n",
    "\n",
    "scoring_response = wml_client.deployments.score(credit_risk_scoring_endpoint, payload_scoring)\n",
    "print(scoring_response)"
   ]
  },
  {
   "cell_type": "code",
   "execution_count": 50,
   "metadata": {
    "scrolled": false
   },
   "outputs": [
    {
     "data": {
      "text/plain": [
       "{'metadata': {'guid': '71ad1147-0429-4ea2-8377-7f8102a2cdcd',\n",
       "  'url': '/v1/data_marts/f94e20cb-aa92-4636-97ce-08de6b714d02/service_bindings/4a7f62cc-f564-4144-8af4-b9f53533d2cf/subscriptions/71ad1147-0429-4ea2-8377-7f8102a2cdcd',\n",
       "  'created_at': '2019-06-06T20:53:33.141Z',\n",
       "  'modified_at': '2019-06-06T20:57:07.032Z'},\n",
       " 'entity': {'service_binding_id': '4a7f62cc-f564-4144-8af4-b9f53533d2cf',\n",
       "  'asset_properties': {'runtime_environment': 'spark-2.3',\n",
       "   'predicted_target_field': 'predictedLabel',\n",
       "   'training_data_schema': {'type': 'struct',\n",
       "    'fields': [{'name': 'CheckingStatus',\n",
       "      'type': 'string',\n",
       "      'nullable': True,\n",
       "      'metadata': {'measure': 'discrete', 'modeling_role': 'feature'}},\n",
       "     {'name': 'LoanDuration',\n",
       "      'type': 'integer',\n",
       "      'nullable': True,\n",
       "      'metadata': {'modeling_role': 'feature'}},\n",
       "     {'name': 'CreditHistory',\n",
       "      'type': 'string',\n",
       "      'nullable': True,\n",
       "      'metadata': {'measure': 'discrete', 'modeling_role': 'feature'}},\n",
       "     {'name': 'LoanPurpose',\n",
       "      'type': 'string',\n",
       "      'nullable': True,\n",
       "      'metadata': {'measure': 'discrete', 'modeling_role': 'feature'}},\n",
       "     {'name': 'LoanAmount',\n",
       "      'type': 'integer',\n",
       "      'nullable': True,\n",
       "      'metadata': {'modeling_role': 'feature'}},\n",
       "     {'name': 'ExistingSavings',\n",
       "      'type': 'string',\n",
       "      'nullable': True,\n",
       "      'metadata': {'measure': 'discrete', 'modeling_role': 'feature'}},\n",
       "     {'name': 'EmploymentDuration',\n",
       "      'type': 'string',\n",
       "      'nullable': True,\n",
       "      'metadata': {'measure': 'discrete', 'modeling_role': 'feature'}},\n",
       "     {'name': 'InstallmentPercent',\n",
       "      'type': 'integer',\n",
       "      'nullable': True,\n",
       "      'metadata': {'modeling_role': 'feature'}},\n",
       "     {'name': 'Sex',\n",
       "      'type': 'string',\n",
       "      'nullable': True,\n",
       "      'metadata': {'measure': 'discrete', 'modeling_role': 'feature'}},\n",
       "     {'name': 'OthersOnLoan',\n",
       "      'type': 'string',\n",
       "      'nullable': True,\n",
       "      'metadata': {'measure': 'discrete', 'modeling_role': 'feature'}},\n",
       "     {'name': 'CurrentResidenceDuration',\n",
       "      'type': 'integer',\n",
       "      'nullable': True,\n",
       "      'metadata': {'modeling_role': 'feature'}},\n",
       "     {'name': 'OwnsProperty',\n",
       "      'type': 'string',\n",
       "      'nullable': True,\n",
       "      'metadata': {'measure': 'discrete', 'modeling_role': 'feature'}},\n",
       "     {'name': 'Age',\n",
       "      'type': 'integer',\n",
       "      'nullable': True,\n",
       "      'metadata': {'modeling_role': 'feature'}},\n",
       "     {'name': 'InstallmentPlans',\n",
       "      'type': 'string',\n",
       "      'nullable': True,\n",
       "      'metadata': {'measure': 'discrete', 'modeling_role': 'feature'}},\n",
       "     {'name': 'Housing',\n",
       "      'type': 'string',\n",
       "      'nullable': True,\n",
       "      'metadata': {'measure': 'discrete', 'modeling_role': 'feature'}},\n",
       "     {'name': 'ExistingCreditsCount',\n",
       "      'type': 'integer',\n",
       "      'nullable': True,\n",
       "      'metadata': {'modeling_role': 'feature'}},\n",
       "     {'name': 'Job',\n",
       "      'type': 'string',\n",
       "      'nullable': True,\n",
       "      'metadata': {'measure': 'discrete', 'modeling_role': 'feature'}},\n",
       "     {'name': 'Dependents',\n",
       "      'type': 'integer',\n",
       "      'nullable': True,\n",
       "      'metadata': {'modeling_role': 'feature'}},\n",
       "     {'name': 'Telephone',\n",
       "      'type': 'string',\n",
       "      'nullable': True,\n",
       "      'metadata': {'measure': 'discrete', 'modeling_role': 'feature'}},\n",
       "     {'name': 'ForeignWorker',\n",
       "      'type': 'string',\n",
       "      'nullable': True,\n",
       "      'metadata': {'measure': 'discrete', 'modeling_role': 'feature'}},\n",
       "     {'name': 'Risk',\n",
       "      'type': 'string',\n",
       "      'nullable': True,\n",
       "      'metadata': {'modeling_role': 'target'}}]},\n",
       "   'prediction_probability_field': 'probability',\n",
       "   'label_column': 'Risk',\n",
       "   'categorical_fields': ['CheckingStatus',\n",
       "    'CreditHistory',\n",
       "    'LoanPurpose',\n",
       "    'ExistingSavings',\n",
       "    'EmploymentDuration',\n",
       "    'Sex',\n",
       "    'OthersOnLoan',\n",
       "    'OwnsProperty',\n",
       "    'InstallmentPlans',\n",
       "    'Housing',\n",
       "    'Job',\n",
       "    'Telephone',\n",
       "    'ForeignWorker'],\n",
       "   'problem_type': 'binary',\n",
       "   'feature_fields': ['CheckingStatus',\n",
       "    'LoanDuration',\n",
       "    'CreditHistory',\n",
       "    'LoanPurpose',\n",
       "    'LoanAmount',\n",
       "    'ExistingSavings',\n",
       "    'EmploymentDuration',\n",
       "    'InstallmentPercent',\n",
       "    'Sex',\n",
       "    'OthersOnLoan',\n",
       "    'CurrentResidenceDuration',\n",
       "    'OwnsProperty',\n",
       "    'Age',\n",
       "    'InstallmentPlans',\n",
       "    'Housing',\n",
       "    'ExistingCreditsCount',\n",
       "    'Job',\n",
       "    'Dependents',\n",
       "    'Telephone',\n",
       "    'ForeignWorker'],\n",
       "   'model_type': 'mllib-2.3',\n",
       "   'input_data_type': 'structured',\n",
       "   'input_data_schema': {'type': 'struct',\n",
       "    'fields': [{'name': 'CheckingStatus',\n",
       "      'type': 'string',\n",
       "      'nullable': True,\n",
       "      'metadata': {'measure': 'discrete', 'modeling_role': 'feature'}},\n",
       "     {'name': 'LoanDuration',\n",
       "      'type': 'integer',\n",
       "      'nullable': True,\n",
       "      'metadata': {'modeling_role': 'feature'}},\n",
       "     {'name': 'CreditHistory',\n",
       "      'type': 'string',\n",
       "      'nullable': True,\n",
       "      'metadata': {'measure': 'discrete', 'modeling_role': 'feature'}},\n",
       "     {'name': 'LoanPurpose',\n",
       "      'type': 'string',\n",
       "      'nullable': True,\n",
       "      'metadata': {'measure': 'discrete', 'modeling_role': 'feature'}},\n",
       "     {'name': 'LoanAmount',\n",
       "      'type': 'integer',\n",
       "      'nullable': True,\n",
       "      'metadata': {'modeling_role': 'feature'}},\n",
       "     {'name': 'ExistingSavings',\n",
       "      'type': 'string',\n",
       "      'nullable': True,\n",
       "      'metadata': {'measure': 'discrete', 'modeling_role': 'feature'}},\n",
       "     {'name': 'EmploymentDuration',\n",
       "      'type': 'string',\n",
       "      'nullable': True,\n",
       "      'metadata': {'measure': 'discrete', 'modeling_role': 'feature'}},\n",
       "     {'name': 'InstallmentPercent',\n",
       "      'type': 'integer',\n",
       "      'nullable': True,\n",
       "      'metadata': {'modeling_role': 'feature'}},\n",
       "     {'name': 'Sex',\n",
       "      'type': 'string',\n",
       "      'nullable': True,\n",
       "      'metadata': {'measure': 'discrete', 'modeling_role': 'feature'}},\n",
       "     {'name': 'OthersOnLoan',\n",
       "      'type': 'string',\n",
       "      'nullable': True,\n",
       "      'metadata': {'measure': 'discrete', 'modeling_role': 'feature'}},\n",
       "     {'name': 'CurrentResidenceDuration',\n",
       "      'type': 'integer',\n",
       "      'nullable': True,\n",
       "      'metadata': {'modeling_role': 'feature'}},\n",
       "     {'name': 'OwnsProperty',\n",
       "      'type': 'string',\n",
       "      'nullable': True,\n",
       "      'metadata': {'measure': 'discrete', 'modeling_role': 'feature'}},\n",
       "     {'name': 'Age',\n",
       "      'type': 'integer',\n",
       "      'nullable': True,\n",
       "      'metadata': {'modeling_role': 'feature'}},\n",
       "     {'name': 'InstallmentPlans',\n",
       "      'type': 'string',\n",
       "      'nullable': True,\n",
       "      'metadata': {'measure': 'discrete', 'modeling_role': 'feature'}},\n",
       "     {'name': 'Housing',\n",
       "      'type': 'string',\n",
       "      'nullable': True,\n",
       "      'metadata': {'measure': 'discrete', 'modeling_role': 'feature'}},\n",
       "     {'name': 'ExistingCreditsCount',\n",
       "      'type': 'integer',\n",
       "      'nullable': True,\n",
       "      'metadata': {'modeling_role': 'feature'}},\n",
       "     {'name': 'Job',\n",
       "      'type': 'string',\n",
       "      'nullable': True,\n",
       "      'metadata': {'measure': 'discrete', 'modeling_role': 'feature'}},\n",
       "     {'name': 'Dependents',\n",
       "      'type': 'integer',\n",
       "      'nullable': True,\n",
       "      'metadata': {'modeling_role': 'feature'}},\n",
       "     {'name': 'Telephone',\n",
       "      'type': 'string',\n",
       "      'nullable': True,\n",
       "      'metadata': {'measure': 'discrete', 'modeling_role': 'feature'}},\n",
       "     {'name': 'ForeignWorker',\n",
       "      'type': 'string',\n",
       "      'nullable': True,\n",
       "      'metadata': {'measure': 'discrete', 'modeling_role': 'feature'}}]},\n",
       "   'output_data_schema': {'type': 'struct',\n",
       "    'fields': [{'name': 'CheckingStatus',\n",
       "      'type': 'string',\n",
       "      'nullable': True,\n",
       "      'metadata': {'measure': 'discrete', 'modeling_role': 'feature'}},\n",
       "     {'name': 'LoanDuration',\n",
       "      'type': 'integer',\n",
       "      'nullable': True,\n",
       "      'metadata': {'modeling_role': 'feature'}},\n",
       "     {'name': 'CreditHistory',\n",
       "      'type': 'string',\n",
       "      'nullable': True,\n",
       "      'metadata': {'measure': 'discrete', 'modeling_role': 'feature'}},\n",
       "     {'name': 'LoanPurpose',\n",
       "      'type': 'string',\n",
       "      'nullable': True,\n",
       "      'metadata': {'measure': 'discrete', 'modeling_role': 'feature'}},\n",
       "     {'name': 'LoanAmount',\n",
       "      'type': 'integer',\n",
       "      'nullable': True,\n",
       "      'metadata': {'modeling_role': 'feature'}},\n",
       "     {'name': 'ExistingSavings',\n",
       "      'type': 'string',\n",
       "      'nullable': True,\n",
       "      'metadata': {'measure': 'discrete', 'modeling_role': 'feature'}},\n",
       "     {'name': 'EmploymentDuration',\n",
       "      'type': 'string',\n",
       "      'nullable': True,\n",
       "      'metadata': {'measure': 'discrete', 'modeling_role': 'feature'}},\n",
       "     {'name': 'InstallmentPercent',\n",
       "      'type': 'integer',\n",
       "      'nullable': True,\n",
       "      'metadata': {'modeling_role': 'feature'}},\n",
       "     {'name': 'Sex',\n",
       "      'type': 'string',\n",
       "      'nullable': True,\n",
       "      'metadata': {'measure': 'discrete', 'modeling_role': 'feature'}},\n",
       "     {'name': 'OthersOnLoan',\n",
       "      'type': 'string',\n",
       "      'nullable': True,\n",
       "      'metadata': {'measure': 'discrete', 'modeling_role': 'feature'}},\n",
       "     {'name': 'CurrentResidenceDuration',\n",
       "      'type': 'integer',\n",
       "      'nullable': True,\n",
       "      'metadata': {'modeling_role': 'feature'}},\n",
       "     {'name': 'OwnsProperty',\n",
       "      'type': 'string',\n",
       "      'nullable': True,\n",
       "      'metadata': {'measure': 'discrete', 'modeling_role': 'feature'}},\n",
       "     {'name': 'Age',\n",
       "      'type': 'integer',\n",
       "      'nullable': True,\n",
       "      'metadata': {'modeling_role': 'feature'}},\n",
       "     {'name': 'InstallmentPlans',\n",
       "      'type': 'string',\n",
       "      'nullable': True,\n",
       "      'metadata': {'measure': 'discrete', 'modeling_role': 'feature'}},\n",
       "     {'name': 'Housing',\n",
       "      'type': 'string',\n",
       "      'nullable': True,\n",
       "      'metadata': {'measure': 'discrete', 'modeling_role': 'feature'}},\n",
       "     {'name': 'ExistingCreditsCount',\n",
       "      'type': 'integer',\n",
       "      'nullable': True,\n",
       "      'metadata': {'modeling_role': 'feature'}},\n",
       "     {'name': 'Job',\n",
       "      'type': 'string',\n",
       "      'nullable': True,\n",
       "      'metadata': {'measure': 'discrete', 'modeling_role': 'feature'}},\n",
       "     {'name': 'Dependents',\n",
       "      'type': 'integer',\n",
       "      'nullable': True,\n",
       "      'metadata': {'modeling_role': 'feature'}},\n",
       "     {'name': 'Telephone',\n",
       "      'type': 'string',\n",
       "      'nullable': True,\n",
       "      'metadata': {'measure': 'discrete', 'modeling_role': 'feature'}},\n",
       "     {'name': 'ForeignWorker',\n",
       "      'type': 'string',\n",
       "      'nullable': True,\n",
       "      'metadata': {'measure': 'discrete', 'modeling_role': 'feature'}},\n",
       "     {'name': 'CheckingStatus_IX',\n",
       "      'type': 'double',\n",
       "      'nullable': True,\n",
       "      'metadata': {}},\n",
       "     {'name': 'CreditHistory_IX',\n",
       "      'type': 'double',\n",
       "      'nullable': True,\n",
       "      'metadata': {}},\n",
       "     {'name': 'EmploymentDuration_IX',\n",
       "      'type': 'double',\n",
       "      'nullable': True,\n",
       "      'metadata': {}},\n",
       "     {'name': 'ExistingSavings_IX',\n",
       "      'type': 'double',\n",
       "      'nullable': True,\n",
       "      'metadata': {}},\n",
       "     {'name': 'ForeignWorker_IX',\n",
       "      'type': 'double',\n",
       "      'nullable': True,\n",
       "      'metadata': {}},\n",
       "     {'name': 'Housing_IX',\n",
       "      'type': 'double',\n",
       "      'nullable': True,\n",
       "      'metadata': {}},\n",
       "     {'name': 'InstallmentPlans_IX',\n",
       "      'type': 'double',\n",
       "      'nullable': True,\n",
       "      'metadata': {}},\n",
       "     {'name': 'Job_IX', 'type': 'double', 'nullable': True, 'metadata': {}},\n",
       "     {'name': 'LoanPurpose_IX',\n",
       "      'type': 'double',\n",
       "      'nullable': True,\n",
       "      'metadata': {}},\n",
       "     {'name': 'OthersOnLoan_IX',\n",
       "      'type': 'double',\n",
       "      'nullable': True,\n",
       "      'metadata': {}},\n",
       "     {'name': 'OwnsProperty_IX',\n",
       "      'type': 'double',\n",
       "      'nullable': True,\n",
       "      'metadata': {}},\n",
       "     {'name': 'Sex_IX', 'type': 'double', 'nullable': True, 'metadata': {}},\n",
       "     {'name': 'Telephone_IX',\n",
       "      'type': 'double',\n",
       "      'nullable': True,\n",
       "      'metadata': {}},\n",
       "     {'name': 'features',\n",
       "      'type': {'type': 'array', 'elementType': 'double', 'containsNull': True},\n",
       "      'nullable': True,\n",
       "      'metadata': {}},\n",
       "     {'name': 'rawPrediction',\n",
       "      'type': {'type': 'array', 'elementType': 'double', 'containsNull': True},\n",
       "      'nullable': True,\n",
       "      'metadata': {}},\n",
       "     {'name': 'probability',\n",
       "      'type': {'type': 'array', 'elementType': 'double', 'containsNull': True},\n",
       "      'nullable': True,\n",
       "      'metadata': {'modeling_role': 'probability'}},\n",
       "     {'name': 'prediction',\n",
       "      'type': 'double',\n",
       "      'nullable': True,\n",
       "      'metadata': {'modeling_role': 'prediction'}},\n",
       "     {'name': 'predictedLabel',\n",
       "      'type': 'string',\n",
       "      'nullable': True,\n",
       "      'metadata': {'modeling_role': 'decoded-target'}},\n",
       "     {'name': 'debiased_prediction',\n",
       "      'type': 'double',\n",
       "      'nullable': True,\n",
       "      'metadata': {'modeling_role': 'debiased-prediction'}},\n",
       "     {'name': 'debiased_probability',\n",
       "      'type': {'type': 'array', 'elementType': 'double', 'containsNull': True},\n",
       "      'nullable': True,\n",
       "      'metadata': {'modeling_role': 'debiased-probability'}},\n",
       "     {'name': 'prediction_probability',\n",
       "      'type': 'double',\n",
       "      'nullable': True,\n",
       "      'metadata': {'modeling_role': 'prediction-probability'}},\n",
       "     {'name': 'debiased_decoded_target',\n",
       "      'type': 'string',\n",
       "      'nullable': True,\n",
       "      'metadata': {'modeling_role': 'debiased-decoded-target'}}]}},\n",
       "  'status': {'state': 'active'},\n",
       "  'configurations': [{'enabled': True,\n",
       "    'type': 'payload_logging',\n",
       "    'url': '/v1/data_marts/f94e20cb-aa92-4636-97ce-08de6b714d02/service_bindings/4a7f62cc-f564-4144-8af4-b9f53533d2cf/subscriptions/71ad1147-0429-4ea2-8377-7f8102a2cdcd/configurations/payload_logging',\n",
       "    'monitor_definition_id': 'payload_logging'},\n",
       "   {'enabled': False,\n",
       "    'type': 'explainability',\n",
       "    'url': '/v1/data_marts/f94e20cb-aa92-4636-97ce-08de6b714d02/service_bindings/4a7f62cc-f564-4144-8af4-b9f53533d2cf/subscriptions/71ad1147-0429-4ea2-8377-7f8102a2cdcd/configurations/explainability',\n",
       "    'monitor_definition_id': 'explainability'},\n",
       "   {'enabled': True,\n",
       "    'type': 'performance_monitoring',\n",
       "    'url': '/v1/data_marts/f94e20cb-aa92-4636-97ce-08de6b714d02/service_bindings/4a7f62cc-f564-4144-8af4-b9f53533d2cf/subscriptions/71ad1147-0429-4ea2-8377-7f8102a2cdcd/configurations/performance_monitoring',\n",
       "    'monitor_definition_id': 'performance_monitoring'},\n",
       "   {'enabled': True,\n",
       "    'type': 'fairness_monitoring',\n",
       "    'url': '/v1/data_marts/f94e20cb-aa92-4636-97ce-08de6b714d02/service_bindings/4a7f62cc-f564-4144-8af4-b9f53533d2cf/subscriptions/71ad1147-0429-4ea2-8377-7f8102a2cdcd/configurations/fairness_monitoring',\n",
       "    'monitor_definition_id': 'fairness_monitoring'},\n",
       "   {'enabled': True,\n",
       "    'type': 'quality_monitoring',\n",
       "    'url': '/v1/data_marts/f94e20cb-aa92-4636-97ce-08de6b714d02/service_bindings/4a7f62cc-f564-4144-8af4-b9f53533d2cf/subscriptions/71ad1147-0429-4ea2-8377-7f8102a2cdcd/configurations/quality',\n",
       "    'monitor_definition_id': 'quality'}],\n",
       "  'asset': {'name': 'Spark German Risk Model - Final',\n",
       "   'asset_id': '71ad1147-0429-4ea2-8377-7f8102a2cdcd',\n",
       "   'url': 'https://us-south.ml.cloud.ibm.com/v3/wml_instances/4a7f62cc-f564-4144-8af4-b9f53533d2cf/published_models/71ad1147-0429-4ea2-8377-7f8102a2cdcd',\n",
       "   'asset_type': 'model',\n",
       "   'created_at': '2019-06-06T20:50:47.894Z'},\n",
       "  'deployments': [{'name': 'Spark German Risk Deployment - Final',\n",
       "    'url': 'https://us-south.ml.cloud.ibm.com/v3/wml_instances/4a7f62cc-f564-4144-8af4-b9f53533d2cf/deployments/5ab6d15c-6005-4dbd-b05d-f5f8f14a93f9',\n",
       "    'deployment_type': 'online',\n",
       "    'scoring_endpoint': {'url': 'https://us-south.ml.cloud.ibm.com/v3/wml_instances/4a7f62cc-f564-4144-8af4-b9f53533d2cf/deployments/5ab6d15c-6005-4dbd-b05d-f5f8f14a93f9/online',\n",
       "     'request_headers': {'Content-Type': 'application/json'}},\n",
       "    'deployment_rn': '',\n",
       "    'created_at': '2019-06-06T20:50:47.941Z',\n",
       "    'deployment_id': '5ab6d15c-6005-4dbd-b05d-f5f8f14a93f9'}]}}"
      ]
     },
     "execution_count": 50,
     "metadata": {},
     "output_type": "execute_result"
    }
   ],
   "source": [
    "subscription.get_details()"
   ]
  },
  {
   "cell_type": "markdown",
   "metadata": {},
   "source": [
    "# Insert historical payloads"
   ]
  },
  {
   "cell_type": "code",
   "execution_count": 51,
   "metadata": {
    "scrolled": false
   },
   "outputs": [
    {
     "name": "stdout",
     "output_type": "stream",
     "text": [
      "rm: cannot remove 'payload_history*.json': No such file or directory\n",
      "--2019-06-06 20:57:19--  https://raw.githubusercontent.com/emartensibm/german-credit/master/payload_history_1.json\n",
      "Resolving raw.githubusercontent.com (raw.githubusercontent.com)... 199.232.8.133\n",
      "Connecting to raw.githubusercontent.com (raw.githubusercontent.com)|199.232.8.133|:443... connected.\n",
      "HTTP request sent, awaiting response... 200 OK\n",
      "Length: 3817949 (3.6M) [text/plain]\n",
      "Saving to: 'payload_history_1.json'\n",
      "\n",
      "payload_history_1.j 100%[===================>]   3.64M  --.-KB/s    in 0.07s   \n",
      "\n",
      "2019-06-06 20:57:24 (49.2 MB/s) - 'payload_history_1.json' saved [3817949/3817949]\n",
      "\n",
      "--2019-06-06 20:57:25--  https://raw.githubusercontent.com/emartensibm/german-credit/master/payload_history_2.json\n",
      "Resolving raw.githubusercontent.com (raw.githubusercontent.com)... 151.101.48.133\n",
      "Connecting to raw.githubusercontent.com (raw.githubusercontent.com)|151.101.48.133|:443... connected.\n",
      "HTTP request sent, awaiting response... 200 OK\n",
      "Length: 3818645 (3.6M) [text/plain]\n",
      "Saving to: 'payload_history_2.json'\n",
      "\n",
      "payload_history_2.j 100%[===================>]   3.64M  --.-KB/s    in 0.09s   \n",
      "\n",
      "2019-06-06 20:57:25 (39.5 MB/s) - 'payload_history_2.json' saved [3818645/3818645]\n",
      "\n",
      "--2019-06-06 20:57:26--  https://raw.githubusercontent.com/emartensibm/german-credit/master/payload_history_3.json\n",
      "Resolving raw.githubusercontent.com (raw.githubusercontent.com)... 151.101.48.133\n",
      "Connecting to raw.githubusercontent.com (raw.githubusercontent.com)|151.101.48.133|:443... connected.\n",
      "HTTP request sent, awaiting response... 200 OK\n",
      "Length: 3818470 (3.6M) [text/plain]\n",
      "Saving to: 'payload_history_3.json'\n",
      "\n",
      "payload_history_3.j 100%[===================>]   3.64M  --.-KB/s    in 0.07s   \n",
      "\n",
      "2019-06-06 20:57:26 (50.1 MB/s) - 'payload_history_3.json' saved [3818470/3818470]\n",
      "\n",
      "--2019-06-06 20:57:27--  https://raw.githubusercontent.com/emartensibm/german-credit/master/payload_history_4.json\n",
      "Resolving raw.githubusercontent.com (raw.githubusercontent.com)... 151.101.48.133\n",
      "Connecting to raw.githubusercontent.com (raw.githubusercontent.com)|151.101.48.133|:443... connected.\n",
      "HTTP request sent, awaiting response... 200 OK\n",
      "Length: 3818106 (3.6M) [text/plain]\n",
      "Saving to: 'payload_history_4.json'\n",
      "\n",
      "payload_history_4.j 100%[===================>]   3.64M  --.-KB/s    in 0.07s   \n",
      "\n",
      "2019-06-06 20:57:28 (48.7 MB/s) - 'payload_history_4.json' saved [3818106/3818106]\n",
      "\n",
      "--2019-06-06 20:57:28--  https://raw.githubusercontent.com/emartensibm/german-credit/master/payload_history_5.json\n",
      "Resolving raw.githubusercontent.com (raw.githubusercontent.com)... 199.232.8.133\n",
      "Connecting to raw.githubusercontent.com (raw.githubusercontent.com)|199.232.8.133|:443... connected.\n",
      "HTTP request sent, awaiting response... 200 OK\n",
      "Length: 3817474 (3.6M) [text/plain]\n",
      "Saving to: 'payload_history_5.json'\n",
      "\n",
      "payload_history_5.j 100%[===================>]   3.64M  --.-KB/s    in 0.09s   \n",
      "\n",
      "2019-06-06 20:57:29 (38.5 MB/s) - 'payload_history_5.json' saved [3817474/3817474]\n",
      "\n",
      "--2019-06-06 20:57:29--  https://raw.githubusercontent.com/emartensibm/german-credit/master/payload_history_6.json\n",
      "Resolving raw.githubusercontent.com (raw.githubusercontent.com)... 151.101.48.133\n",
      "Connecting to raw.githubusercontent.com (raw.githubusercontent.com)|151.101.48.133|:443... connected.\n",
      "HTTP request sent, awaiting response... 200 OK\n",
      "Length: 3817921 (3.6M) [text/plain]\n",
      "Saving to: 'payload_history_6.json'\n",
      "\n",
      "payload_history_6.j 100%[===================>]   3.64M  --.-KB/s    in 0.09s   \n",
      "\n",
      "2019-06-06 20:57:30 (42.5 MB/s) - 'payload_history_6.json' saved [3817921/3817921]\n",
      "\n",
      "--2019-06-06 20:57:30--  https://raw.githubusercontent.com/emartensibm/german-credit/master/payload_history_7.json\n",
      "Resolving raw.githubusercontent.com (raw.githubusercontent.com)... 199.232.8.133\n",
      "Connecting to raw.githubusercontent.com (raw.githubusercontent.com)|199.232.8.133|:443... connected.\n",
      "HTTP request sent, awaiting response... 200 OK\n",
      "Length: 3818121 (3.6M) [text/plain]\n",
      "Saving to: 'payload_history_7.json'\n",
      "\n",
      "payload_history_7.j 100%[===================>]   3.64M  --.-KB/s    in 0.1s    \n",
      "\n",
      "2019-06-06 20:57:31 (33.9 MB/s) - 'payload_history_7.json' saved [3818121/3818121]\n",
      "\n"
     ]
    }
   ],
   "source": [
    "!rm payload_history*.json\n",
    "!wget https://raw.githubusercontent.com/IBM/monitor-wml-model-with-watson-openscale/master/data/payload_history_1.json\n",
    "!wget https://raw.githubusercontent.com/IBM/monitor-wml-model-with-watson-openscale/master/data/payload_history_2.json\n",
    "!wget https://raw.githubusercontent.com/IBM/monitor-wml-model-with-watson-openscale/master/data/payload_history_3.json\n",
    "!wget https://raw.githubusercontent.com/IBM/monitor-wml-model-with-watson-openscale/master/data/payload_history_4.json\n",
    "!wget https://raw.githubusercontent.com/IBM/monitor-wml-model-with-watson-openscale/master/data/payload_history_5.json\n",
    "!wget https://raw.githubusercontent.com/IBM/monitor-wml-model-with-watson-openscale/master/data/payload_history_6.json\n",
    "!wget https://raw.githubusercontent.com/IBM/monitor-wml-model-with-watson-openscale/master/data/payload_history_7.json"
   ]
  },
  {
   "cell_type": "code",
   "execution_count": 52,
   "metadata": {
    "scrolled": true
   },
   "outputs": [],
   "source": [
    "historyDays = 7"
   ]
  },
  {
   "cell_type": "code",
   "execution_count": 53,
   "metadata": {
    "scrolled": true
   },
   "outputs": [
    {
     "name": "stdout",
     "output_type": "stream",
     "text": [
      "Loading day 1\n",
      "Loading day 2\n",
      "Loading day 3\n",
      "Loading day 4\n",
      "Loading day 5\n",
      "Loading day 6\n",
      "Loading day 7\n",
      "Finished\n"
     ]
    }
   ],
   "source": [
    "from ibm_ai_openscale.supporting_classes import PayloadRecord, Feature\n",
    "import datetime\n",
    "import time\n",
    "\n",
    "for day in range(historyDays):\n",
    "    print('Loading day {}'.format(day + 1))\n",
    "    history_file = 'payload_history_' + str(day + 1) + '.json'\n",
    "    with open(history_file) as f:\n",
    "        payloads = json.load(f)\n",
    "        hourly_records = int(len(payloads) / 24)\n",
    "        index = 0\n",
    "        for hour in range(24):\n",
    "            recordsList = []\n",
    "            for i in range(hourly_records):\n",
    "                score_time = str(datetime.datetime.utcnow() + datetime.timedelta(hours=(-(24*day + hour + 1))))\n",
    "                recordsList.append(PayloadRecord(request=payloads[index]['request'], response=payloads[index]['response'], scoring_timestamp=score_time))\n",
    "                index += 1\n",
    "            subscription.payload_logging.store(records=recordsList)\n",
    "print('Finished')"
   ]
  },
  {
   "cell_type": "code",
   "execution_count": 54,
   "metadata": {
    "scrolled": true
   },
   "outputs": [
    {
     "name": "stdout",
     "output_type": "stream",
     "text": [
      "f94e20cb-aa92-4636-97ce-08de6b714d02\n"
     ]
    }
   ],
   "source": [
    "data_mart_id = subscription.get_details()['metadata']['url'].split('/service_bindings')[0].split('marts/')[1]\n",
    "print(data_mart_id)"
   ]
  },
  {
   "cell_type": "code",
   "execution_count": 55,
   "metadata": {
    "scrolled": true
   },
   "outputs": [
    {
     "name": "stdout",
     "output_type": "stream",
     "text": [
      "https://api.aiopenscale.cloud.ibm.com/v1/data_marts/f94e20cb-aa92-4636-97ce-08de6b714d02/metrics\n"
     ]
    }
   ],
   "source": [
    "performance_metrics_url = 'https://api.aiopenscale.cloud.ibm.com' + subscription.get_details()['metadata']['url'].split('/service_bindings')[0] + '/metrics'\n",
    "print(performance_metrics_url)"
   ]
  },
  {
   "cell_type": "markdown",
   "metadata": {},
   "source": [
    "## Insert historical fairness metrics"
   ]
  },
  {
   "cell_type": "code",
   "execution_count": 56,
   "metadata": {},
   "outputs": [
    {
     "name": "stdout",
     "output_type": "stream",
     "text": [
      "rm: cannot remove 'fairness_history.json': No such file or directory\n",
      "--2019-06-06 20:58:57--  https://raw.githubusercontent.com/emartensibm/german-credit/master/fairness_history.json\n",
      "Resolving raw.githubusercontent.com (raw.githubusercontent.com)... 151.101.48.133\n",
      "Connecting to raw.githubusercontent.com (raw.githubusercontent.com)|151.101.48.133|:443... connected.\n",
      "HTTP request sent, awaiting response... 200 OK\n",
      "Length: 877247 (857K) [text/plain]\n",
      "Saving to: 'fairness_history.json'\n",
      "\n",
      "fairness_history.js 100%[===================>] 856.69K  --.-KB/s    in 0.03s   \n",
      "\n",
      "2019-06-06 20:58:58 (26.8 MB/s) - 'fairness_history.json' saved [877247/877247]\n",
      "\n"
     ]
    }
   ],
   "source": [
    "!rm fairness_history.json\n",
    "!wget https://raw.githubusercontent.com/emartensibm/german-credit/master/fairness_history.json"
   ]
  },
  {
   "cell_type": "code",
   "execution_count": 57,
   "metadata": {
    "scrolled": true
   },
   "outputs": [
    {
     "name": "stdout",
     "output_type": "stream",
     "text": [
      "Day 1\n",
      "Day 2\n",
      "Day 3\n",
      "Day 4\n",
      "Day 5\n",
      "Day 6\n",
      "Day 7\n",
      "Finished\n"
     ]
    }
   ],
   "source": [
    "import random\n",
    "token_data = {\n",
    "    'grant_type': 'urn:ibm:params:oauth:grant-type:apikey',\n",
    "    'response_type': 'cloud_iam',\n",
    "    'apikey': AIOS_CREDENTIALS['apikey']\n",
    "}\n",
    "\n",
    "response = requests.post('https://iam.bluemix.net/identity/token', data=token_data)\n",
    "iam_token = response.json()['access_token']\n",
    "iam_headers = {\n",
    "    'Content-Type': 'application/json',\n",
    "    'Authorization': 'Bearer %s' % iam_token\n",
    "}\n",
    "\n",
    "with open('fairness_history.json', 'r') as history_file:\n",
    "    payloads = json.load(history_file)\n",
    "\n",
    "for day in range(historyDays):\n",
    "    print('Day', day + 1)\n",
    "    for hour in range(24):\n",
    "        score_time = (datetime.datetime.utcnow() + datetime.timedelta(hours=(-(24*day + hour + 1)))).strftime('%Y-%m-%dT%H:%M:%SZ')\n",
    "        \n",
    "        qualityMetric = {\n",
    "            'metric_type': 'fairness',\n",
    "            'binding_id': binding_uid,\n",
    "            'timestamp': score_time,\n",
    "            'subscription_id': model_uid,\n",
    "            'asset_revision': model_uid,\n",
    "            'deployment_id': deployment_uid,\n",
    "            'value': random.choice(payloads)\n",
    "        }\n",
    "\n",
    "        response = requests.post(performance_metrics_url, json=[qualityMetric], headers=iam_headers)\n",
    "print('Finished')"
   ]
  },
  {
   "cell_type": "markdown",
   "metadata": {},
   "source": [
    "## Insert historical quality metrics"
   ]
  },
  {
   "cell_type": "code",
   "execution_count": 58,
   "metadata": {
    "scrolled": true
   },
   "outputs": [
    {
     "name": "stdout",
     "output_type": "stream",
     "text": [
      "Day 1\n",
      "Day 2\n",
      "Day 3\n",
      "Day 4\n",
      "Day 5\n",
      "Day 6\n",
      "Day 7\n",
      "Finished\n"
     ]
    }
   ],
   "source": [
    "token_data = {\n",
    "    'grant_type': 'urn:ibm:params:oauth:grant-type:apikey',\n",
    "    'response_type': 'cloud_iam',\n",
    "    'apikey': AIOS_CREDENTIALS['apikey']\n",
    "}\n",
    "\n",
    "response = requests.post('https://iam.bluemix.net/identity/token', data=token_data)\n",
    "iam_token = response.json()['access_token']\n",
    "iam_headers = {\n",
    "    'Content-Type': 'application/json',\n",
    "    'Authorization': 'Bearer %s' % iam_token\n",
    "}\n",
    "\n",
    "measurements = [0.76, 0.78, 0.68, 0.72, 0.73, 0.77, 0.80]\n",
    "for day in range(historyDays):\n",
    "    print('Day', day + 1)\n",
    "    for hour in range(24):\n",
    "        score_time = (datetime.datetime.utcnow() + datetime.timedelta(hours=(-(24*day + hour + 1)))).strftime('%Y-%m-%dT%H:%M:%SZ')\n",
    "        \n",
    "        qualityMetric = {\n",
    "            'metric_type': 'quality',\n",
    "            'binding_id': binding_uid,\n",
    "            'timestamp': score_time,\n",
    "            'subscription_id': model_uid,\n",
    "            'asset_revision': model_uid,\n",
    "            'deployment_id': deployment_uid,\n",
    "            'value': {\n",
    "                'quality': measurements[day],\n",
    "                'threshold': 0.7,\n",
    "                'metrics': [\n",
    "                    {\n",
    "                        'name': 'auroc',\n",
    "                        'value': measurements[day],\n",
    "                        'threshold': 0.7\n",
    "                    }\n",
    "                ]\n",
    "            }\n",
    "        }\n",
    "\n",
    "        response = requests.post(performance_metrics_url, json=[qualityMetric], headers=iam_headers)\n",
    "print('Finished')"
   ]
  },
  {
   "cell_type": "markdown",
   "metadata": {},
   "source": [
    "## Insert historical performance metrics"
   ]
  },
  {
   "cell_type": "code",
   "execution_count": 59,
   "metadata": {},
   "outputs": [
    {
     "name": "stdout",
     "output_type": "stream",
     "text": [
      "Day 1\n",
      "Day 2\n",
      "Day 3\n",
      "Day 4\n",
      "Day 5\n",
      "Day 6\n",
      "Day 7\n",
      "Finished\n"
     ]
    }
   ],
   "source": [
    "token_data = {\n",
    "    'grant_type': 'urn:ibm:params:oauth:grant-type:apikey',\n",
    "    'response_type': 'cloud_iam',\n",
    "    'apikey': AIOS_CREDENTIALS['apikey']\n",
    "}\n",
    "\n",
    "response = requests.post('https://iam.bluemix.net/identity/token', data=token_data)\n",
    "iam_token = response.json()['access_token']\n",
    "iam_headers = {\n",
    "    'Content-Type': 'application/json',\n",
    "    'Authorization': 'Bearer %s' % iam_token\n",
    "}\n",
    "\n",
    "for day in range(historyDays):\n",
    "    print('Day', day + 1)\n",
    "    for hour in range(24):\n",
    "        score_time = (datetime.datetime.utcnow() + datetime.timedelta(hours=(-(24*day + hour + 1)))).strftime('%Y-%m-%dT%H:%M:%SZ')\n",
    "        score_count = random.randint(60, 600)\n",
    "        score_resp = random.uniform(60, 300)\n",
    "\n",
    "        performanceMetric = {\n",
    "            'metric_type': 'performance',\n",
    "            'binding_id': binding_uid,\n",
    "            'timestamp': score_time,\n",
    "            'subscription_id': model_uid,\n",
    "            'asset_revision': model_uid,\n",
    "            'deployment_id': deployment_uid,\n",
    "            'value': {\n",
    "                'response_time': score_resp,\n",
    "                'records': score_count\n",
    "            }\n",
    "        }\n",
    "\n",
    "        response = requests.post(performance_metrics_url, json=[performanceMetric], headers=iam_headers)\n",
    "print('Finished')"
   ]
  },
  {
   "cell_type": "markdown",
   "metadata": {},
   "source": [
    "## Configure Explainability"
   ]
  },
  {
   "cell_type": "code",
   "execution_count": 60,
   "metadata": {
    "scrolled": true
   },
   "outputs": [],
   "source": [
    "from ibm_ai_openscale.supporting_classes import *\n",
    "subscription.explainability.enable(training_data=pd_data)"
   ]
  },
  {
   "cell_type": "code",
   "execution_count": 61,
   "metadata": {
    "scrolled": true
   },
   "outputs": [
    {
     "data": {
      "text/plain": [
       "{'enabled': True,\n",
       " 'parameters': {'training_statistics': {'mins': {'12': 19,\n",
       "    '4': 250,\n",
       "    '15': 1,\n",
       "    '10': 1,\n",
       "    '1': 4,\n",
       "    '17': 1,\n",
       "    '7': 1},\n",
       "   'categorical_columns': ['CheckingStatus',\n",
       "    'CreditHistory',\n",
       "    'LoanPurpose',\n",
       "    'ExistingSavings',\n",
       "    'EmploymentDuration',\n",
       "    'Sex',\n",
       "    'OthersOnLoan',\n",
       "    'OwnsProperty',\n",
       "    'InstallmentPlans',\n",
       "    'Housing',\n",
       "    'Job',\n",
       "    'Telephone',\n",
       "    'ForeignWorker'],\n",
       "   'feature_values': {'12': [1, 2, 0, 3],\n",
       "    '8': [0, 1],\n",
       "    '19': [1, 0],\n",
       "    '4': [1, 0, 2, 3],\n",
       "    '15': [0, 1, 2],\n",
       "    '11': [2, 1, 3, 0],\n",
       "    '9': [2, 0, 1],\n",
       "    '13': [1, 2, 0],\n",
       "    '16': [1, 0, 3, 2],\n",
       "    '5': [0, 3, 1, 4, 2],\n",
       "    '10': [1, 0, 3, 2],\n",
       "    '6': [3, 0, 2, 1, 4],\n",
       "    '1': [3, 1, 2, 0],\n",
       "    '17': [0, 1],\n",
       "    '14': [1, 0, 2],\n",
       "    '0': [0, 2, 3, 1],\n",
       "    '2': [1, 4, 3, 0, 2],\n",
       "    '18': [0, 1],\n",
       "    '7': [1, 0, 3, 2],\n",
       "    '3': [6, 2, 5, 9, 4, 10, 0, 3, 8, 7, 1]},\n",
       "   'd_maxs': {'12': [28.0, 36.0, 44.0, 74],\n",
       "    '4': [1326.75, 3238.5, 5355.0, 11676],\n",
       "    '15': [1.0, 2.0, 4],\n",
       "    '10': [2.0, 3.0, 4.0, 6],\n",
       "    '1': [13.0, 21.0, 29.0, 64],\n",
       "    '17': [1.0, 2],\n",
       "    '7': [2.0, 3.0, 4.0, 6]},\n",
       "   'stds': {'12': 10.647470602917858,\n",
       "    '4': 2487.983946968911,\n",
       "    '15': 0.565358611856227,\n",
       "    '10': 1.1155905879846781,\n",
       "    '1': 11.161727061705102,\n",
       "    '17': 0.3708191472942033,\n",
       "    '7': 1.126982803772977},\n",
       "   'categorical_columns_encoding_mapping': {'8': ['female', 'male'],\n",
       "    '19': ['no', 'yes'],\n",
       "    '11': ['car_other', 'real_estate', 'savings_insurance', 'unknown'],\n",
       "    '9': ['co-applicant', 'guarantor', 'none'],\n",
       "    '13': ['bank', 'none', 'stores'],\n",
       "    '16': ['management_self-employed', 'skilled', 'unemployed', 'unskilled'],\n",
       "    '5': ['100_to_500', '500_to_1000', 'greater_1000', 'less_100', 'unknown'],\n",
       "    '6': ['1_to_4', '4_to_7', 'greater_7', 'less_1', 'unemployed'],\n",
       "    '14': ['free', 'own', 'rent'],\n",
       "    '0': ['0_to_200', 'greater_200', 'less_0', 'no_checking'],\n",
       "    '2': ['all_credits_paid_back',\n",
       "     'credits_paid_to_date',\n",
       "     'no_credits',\n",
       "     'outstanding_credit',\n",
       "     'prior_payments_delayed'],\n",
       "    '18': ['none', 'yes'],\n",
       "    '3': ['appliances',\n",
       "     'business',\n",
       "     'car_new',\n",
       "     'car_used',\n",
       "     'education',\n",
       "     'furniture',\n",
       "     'other',\n",
       "     'radio_tv',\n",
       "     'repairs',\n",
       "     'retraining',\n",
       "     'vacation']},\n",
       "   'd_mins': {'12': [19, 28.0, 36.0, 44.0],\n",
       "    '4': [250, 1326.75, 3238.5, 5355.0],\n",
       "    '15': [1, 1.0, 2.0],\n",
       "    '10': [1, 2.0, 3.0, 4.0],\n",
       "    '1': [4, 13.0, 21.0, 29.0],\n",
       "    '17': [1, 1.0],\n",
       "    '7': [1, 2.0, 3.0, 4.0]},\n",
       "   'd_stds': {'12': [3.3320991295514313,\n",
       "     2.2814080024457186,\n",
       "     2.2498714352952085,\n",
       "     4.849734375521442],\n",
       "    '4': [341.97517167327516,\n",
       "     542.3014505752415,\n",
       "     614.7408612958544,\n",
       "     1206.6756003938751],\n",
       "    '15': [1e-11, 1e-11, 0.0753766054858451],\n",
       "    '10': [0.4734861934310266, 1e-11, 1e-11, 0.09128386968395145],\n",
       "    '1': [3.277136423855652,\n",
       "     2.3104647243135257,\n",
       "     2.2016780501487694,\n",
       "     5.480360081360561],\n",
       "    '17': [1e-11, 1e-11],\n",
       "    '7': [0.4586405260990112, 1e-11, 1e-11, 0.1953361748941403]},\n",
       "   'categorical_counts': {'8': {'female': 1896, 'male': 3104},\n",
       "    '19': {'yes': 4877, 'no': 123},\n",
       "    '11': {'savings_insurance': 1660,\n",
       "     'real_estate': 1087,\n",
       "     'unknown': 713,\n",
       "     'car_other': 1540},\n",
       "    '9': {'none': 4173, 'co-applicant': 717, 'guarantor': 110},\n",
       "    '13': {'none': 3517, 'stores': 1017, 'bank': 466},\n",
       "    '16': {'skilled': 3400,\n",
       "     'management_self-employed': 641,\n",
       "     'unskilled': 673,\n",
       "     'unemployed': 286},\n",
       "    '5': {'greater_1000': 558,\n",
       "     'unknown': 375,\n",
       "     'less_100': 1856,\n",
       "     '500_to_1000': 1078,\n",
       "     '100_to_500': 1133},\n",
       "    '6': {'greater_7': 930,\n",
       "     '4_to_7': 1400,\n",
       "     'less_1': 904,\n",
       "     'unemployed': 296,\n",
       "     '1_to_4': 1470},\n",
       "    '14': {'own': 3195, 'free': 739, 'rent': 1066},\n",
       "    '0': {'0_to_200': 1304,\n",
       "     'less_0': 1398,\n",
       "     'no_checking': 1993,\n",
       "     'greater_200': 305},\n",
       "    '2': {'no_credits': 117,\n",
       "     'credits_paid_to_date': 1490,\n",
       "     'prior_payments_delayed': 1686,\n",
       "     'outstanding_credit': 938,\n",
       "     'all_credits_paid_back': 769},\n",
       "    '18': {'none': 2941, 'yes': 2059},\n",
       "    '3': {'radio_tv': 755,\n",
       "     'business': 146,\n",
       "     'appliances': 561,\n",
       "     'vacation': 205,\n",
       "     'repairs': 283,\n",
       "     'car_new': 945,\n",
       "     'education': 167,\n",
       "     'retraining': 164,\n",
       "     'car_used': 808,\n",
       "     'furniture': 853,\n",
       "     'other': 113}},\n",
       "   'd_means': {'12': [22.81831610044313,\n",
       "     32.60750586395621,\n",
       "     40.36829268292683,\n",
       "     50.49076517150396],\n",
       "    '4': [480.6648, 2291.952, 4282.900079936051, 6867.1305044035225],\n",
       "    '15': [1.0, 2.0, 3.005714285714286],\n",
       "    '10': [1.6606574761399788, 3.0, 4.0, 5.008403361344538],\n",
       "    '1': [7.876363636363636,\n",
       "     17.343856655290104,\n",
       "     25.615767634854773,\n",
       "     36.010416666666664],\n",
       "    '17': [1.0, 2.0],\n",
       "    '7': [1.6991202346041057, 3.0, 4.0, 5.039735099337748]},\n",
       "   'maxs': {'12': 74, '4': 11676, '15': 4, '10': 6, '1': 64, '17': 2, '7': 6},\n",
       "   'feature_frequencies': {'12': [1279, 1230, 1354, 1137],\n",
       "    '8': [1896, 3104],\n",
       "    '19': [4877, 123],\n",
       "    '4': [1250, 1250, 1251, 1249],\n",
       "    '15': [2847, 1978, 175],\n",
       "    '11': [1660, 1087, 713, 1540],\n",
       "    '9': [4173, 717, 110],\n",
       "    '13': [3517, 1017, 466],\n",
       "    '16': [3400, 641, 673, 286],\n",
       "    '5': [1133, 1856, 1078, 375, 558],\n",
       "    '10': [1677, 1886, 357, 1080],\n",
       "    '6': [904, 1470, 930, 1400, 296],\n",
       "    '1': [1248, 1172, 1205, 1375],\n",
       "    '17': [4177, 823],\n",
       "    '14': [3195, 739, 1066],\n",
       "    '0': [1304, 1398, 1993, 305],\n",
       "    '2': [1490, 1686, 938, 769, 117],\n",
       "    '18': [2941, 2059],\n",
       "    '7': [1636, 1705, 453, 1206],\n",
       "    '3': [113, 945, 853, 164, 167, 205, 561, 808, 283, 755, 146]},\n",
       "   'base_values': {'12': 36.0,\n",
       "    '8': 'male',\n",
       "    '19': 'yes',\n",
       "    '4': 3238.5,\n",
       "    '15': 1.0,\n",
       "    '11': 'savings_insurance',\n",
       "    '9': 'none',\n",
       "    '13': 'none',\n",
       "    '16': 'skilled',\n",
       "    '5': 'less_100',\n",
       "    '10': 3.0,\n",
       "    '6': '1_to_4',\n",
       "    '1': 21.0,\n",
       "    '17': 1.0,\n",
       "    '14': 'own',\n",
       "    '0': 'no_checking',\n",
       "    '2': 'prior_payments_delayed',\n",
       "    '18': 'none',\n",
       "    '7': 3.0,\n",
       "    '3': 'car_new'},\n",
       "   'class_labels': ['No Risk', 'Risk'],\n",
       "   'feature_columns': ['CheckingStatus',\n",
       "    'LoanDuration',\n",
       "    'CreditHistory',\n",
       "    'LoanPurpose',\n",
       "    'LoanAmount',\n",
       "    'ExistingSavings',\n",
       "    'EmploymentDuration',\n",
       "    'InstallmentPercent',\n",
       "    'Sex',\n",
       "    'OthersOnLoan',\n",
       "    'CurrentResidenceDuration',\n",
       "    'OwnsProperty',\n",
       "    'Age',\n",
       "    'InstallmentPlans',\n",
       "    'Housing',\n",
       "    'ExistingCreditsCount',\n",
       "    'Job',\n",
       "    'Dependents',\n",
       "    'Telephone',\n",
       "    'ForeignWorker'],\n",
       "   'd_bins': {'12': [28.0, 36.0, 44.0],\n",
       "    '4': [1326.75, 3238.5, 5355.0],\n",
       "    '15': [1.0, 1.0, 2.0],\n",
       "    '10': [2.0, 3.0, 4.0],\n",
       "    '1': [13.0, 21.0, 29.0],\n",
       "    '17': [1.0, 1.0, 1.0],\n",
       "    '7': [2.0, 3.0, 4.0]}}}}"
      ]
     },
     "execution_count": 61,
     "metadata": {},
     "output_type": "execute_result"
    }
   ],
   "source": [
    "subscription.explainability.get_details()"
   ]
  },
  {
   "cell_type": "markdown",
   "metadata": {},
   "source": [
    "## Run fairness monitor"
   ]
  },
  {
   "cell_type": "markdown",
   "metadata": {},
   "source": [
    "Kick off a fairness monitor run on current data. Depending on how fast the monitor runs, the table may not contain the most recent results."
   ]
  },
  {
   "cell_type": "code",
   "execution_count": 62,
   "metadata": {
    "scrolled": true
   },
   "outputs": [],
   "source": [
    "run_details = subscription.fairness_monitoring.run()"
   ]
  },
  {
   "cell_type": "code",
   "execution_count": 63,
   "metadata": {
    "scrolled": true
   },
   "outputs": [
    {
     "data": {
      "text/html": [
       "<HTML>\n",
       "        <body>\n",
       "            <h3>FairnessMetrics (binding_id=4a7f62cc-f564-4144-8af4-b9f53533d2cf, subscription_id=71ad1147-0429-4ea2-8377-7f8102a2cdcd)</h3>\n",
       "            <table style='border: 1px solid #dddddd; font-family: Courier'>\n",
       "                <th style='border: 1px solid #dddddd'>ts</th><th style='border: 1px solid #dddddd'>feature</th><th style='border: 1px solid #dddddd'>feature_value</th><th style='border: 1px solid #dddddd'>fairness_biased</th><th style='border: 1px solid #dddddd'>fairness_value</th><th style='border: 1px solid #dddddd'>fairness_fav_class</th><th style='border: 1px solid #dddddd'>binding_id</th><th style='border: 1px solid #dddddd'>subscription_id</th><th style='border: 1px solid #dddddd'>asset_revision</th><th style='border: 1px solid #dddddd'>deployment_id</th><th style='border: 1px solid #dddddd'>process</th>\n",
       "                <tr><td style='border: 1px solid #dddddd'>2019-06-06 20:57:33.329748+00:00</td><td style='border: 1px solid #dddddd'>Sex</td><td style='border: 1px solid #dddddd'>female</td><td style='border: 1px solid #dddddd'>False</td><td style='border: 1px solid #dddddd'>0.954</td><td style='border: 1px solid #dddddd'>76.0</td><td style='border: 1px solid #dddddd'>4a7f62cc-f564-4144-8af4-b9f53533d2cf</td><td style='border: 1px solid #dddddd'>71ad1147-0429-4ea2-8377-7f8102a2cdcd</td><td style='border: 1px solid #dddddd'>71ad1147-0429-4ea2-8377-7f8102a2cdcd</td><td style='border: 1px solid #dddddd'>5ab6d15c-6005-4dbd-b05d-f5f8f14a93f9</td><td style='border: 1px solid #dddddd'></td></tr><tr><td style='border: 1px solid #dddddd'>2019-06-06 20:57:33.329748+00:00</td><td style='border: 1px solid #dddddd'>Age</td><td style='border: 1px solid #dddddd'>[18, 25]</td><td style='border: 1px solid #dddddd'>False</td><td style='border: 1px solid #dddddd'>1.014</td><td style='border: 1px solid #dddddd'>83.5920177383592</td><td style='border: 1px solid #dddddd'>4a7f62cc-f564-4144-8af4-b9f53533d2cf</td><td style='border: 1px solid #dddddd'>71ad1147-0429-4ea2-8377-7f8102a2cdcd</td><td style='border: 1px solid #dddddd'>71ad1147-0429-4ea2-8377-7f8102a2cdcd</td><td style='border: 1px solid #dddddd'>5ab6d15c-6005-4dbd-b05d-f5f8f14a93f9</td><td style='border: 1px solid #dddddd'></td></tr><tr><td style='border: 1px solid #dddddd'>2019-06-06 19:59:08+00:00</td><td style='border: 1px solid #dddddd'>Sex</td><td style='border: 1px solid #dddddd'>female</td><td style='border: 1px solid #dddddd'>True</td><td style='border: 1px solid #dddddd'>0.925</td><td style='border: 1px solid #dddddd'>74.0</td><td style='border: 1px solid #dddddd'>4a7f62cc-f564-4144-8af4-b9f53533d2cf</td><td style='border: 1px solid #dddddd'>71ad1147-0429-4ea2-8377-7f8102a2cdcd</td><td style='border: 1px solid #dddddd'>71ad1147-0429-4ea2-8377-7f8102a2cdcd</td><td style='border: 1px solid #dddddd'>5ab6d15c-6005-4dbd-b05d-f5f8f14a93f9</td><td style='border: 1px solid #dddddd'></td></tr><tr><td style='border: 1px solid #dddddd'>2019-06-06 19:59:08+00:00</td><td style='border: 1px solid #dddddd'>Age</td><td style='border: 1px solid #dddddd'>[18, 25]</td><td style='border: 1px solid #dddddd'>False</td><td style='border: 1px solid #dddddd'>1.022</td><td style='border: 1px solid #dddddd'>84.40111420612814</td><td style='border: 1px solid #dddddd'>4a7f62cc-f564-4144-8af4-b9f53533d2cf</td><td style='border: 1px solid #dddddd'>71ad1147-0429-4ea2-8377-7f8102a2cdcd</td><td style='border: 1px solid #dddddd'>71ad1147-0429-4ea2-8377-7f8102a2cdcd</td><td style='border: 1px solid #dddddd'>5ab6d15c-6005-4dbd-b05d-f5f8f14a93f9</td><td style='border: 1px solid #dddddd'></td></tr>\n",
       "            </table>\n",
       "        </body>\n",
       "        </HTML>"
      ],
      "text/plain": [
       "<IPython.core.display.HTML object>"
      ]
     },
     "metadata": {},
     "output_type": "display_data"
    }
   ],
   "source": [
    "subscription.fairness_monitoring.show_table()"
   ]
  },
  {
   "cell_type": "markdown",
   "metadata": {},
   "source": [
    "## Additional data to help debugging"
   ]
  },
  {
   "cell_type": "code",
   "execution_count": 64,
   "metadata": {
    "scrolled": true
   },
   "outputs": [
    {
     "name": "stdout",
     "output_type": "stream",
     "text": [
      "Datamart: f94e20cb-aa92-4636-97ce-08de6b714d02\n",
      "Model: 71ad1147-0429-4ea2-8377-7f8102a2cdcd\n",
      "Deployment: 5ab6d15c-6005-4dbd-b05d-f5f8f14a93f9\n",
      "Binding: 4a7f62cc-f564-4144-8af4-b9f53533d2cf\n",
      "Scoring URL: https://us-south.ml.cloud.ibm.com/v3/wml_instances/4a7f62cc-f564-4144-8af4-b9f53533d2cf/deployments/5ab6d15c-6005-4dbd-b05d-f5f8f14a93f9/online\n"
     ]
    }
   ],
   "source": [
    "print('Datamart:', data_mart_id)\n",
    "print('Model:', model_uid)\n",
    "print('Deployment:', deployment_uid)\n",
    "print('Binding:', binding_uid)\n",
    "print('Scoring URL:', credit_risk_scoring_endpoint)"
   ]
  },
  {
   "cell_type": "markdown",
   "metadata": {},
   "source": [
    "## Identify transactions for Explainability"
   ]
  },
  {
   "cell_type": "markdown",
   "metadata": {},
   "source": [
    "Transaction IDs identified by the cells below can be copied and pasted into the Explainability tab of the OpenScale dashboard."
   ]
  },
  {
   "cell_type": "code",
   "execution_count": 65,
   "metadata": {},
   "outputs": [
    {
     "data": {
      "text/html": [
       "<div>\n",
       "<style scoped>\n",
       "    .dataframe tbody tr th:only-of-type {\n",
       "        vertical-align: middle;\n",
       "    }\n",
       "\n",
       "    .dataframe tbody tr th {\n",
       "        vertical-align: top;\n",
       "    }\n",
       "\n",
       "    .dataframe thead th {\n",
       "        text-align: right;\n",
       "    }\n",
       "</style>\n",
       "<table border=\"1\" class=\"dataframe\">\n",
       "  <thead>\n",
       "    <tr style=\"text-align: right;\">\n",
       "      <th></th>\n",
       "      <th>scoring_id</th>\n",
       "      <th>predictedLabel</th>\n",
       "      <th>probability</th>\n",
       "    </tr>\n",
       "  </thead>\n",
       "  <tbody>\n",
       "    <tr>\n",
       "      <th>0</th>\n",
       "      <td>d2fa4f962799c6550b0f968ffc1cad8e-145</td>\n",
       "      <td>No Risk</td>\n",
       "      <td>[0.5245318049025527, 0.4754681950974473]</td>\n",
       "    </tr>\n",
       "    <tr>\n",
       "      <th>1</th>\n",
       "      <td>d2fa4f962799c6550b0f968ffc1cad8e-150</td>\n",
       "      <td>No Risk</td>\n",
       "      <td>[0.8301501835097254, 0.1698498164902747]</td>\n",
       "    </tr>\n",
       "    <tr>\n",
       "      <th>2</th>\n",
       "      <td>d2fa4f962799c6550b0f968ffc1cad8e-144</td>\n",
       "      <td>No Risk</td>\n",
       "      <td>[0.6358613085002266, 0.3641386914997734]</td>\n",
       "    </tr>\n",
       "    <tr>\n",
       "      <th>3</th>\n",
       "      <td>d2fa4f962799c6550b0f968ffc1cad8e-113</td>\n",
       "      <td>Risk</td>\n",
       "      <td>[0.4776813853510548, 0.5223186146489451]</td>\n",
       "    </tr>\n",
       "    <tr>\n",
       "      <th>4</th>\n",
       "      <td>d2fa4f962799c6550b0f968ffc1cad8e-147</td>\n",
       "      <td>No Risk</td>\n",
       "      <td>[0.7945486607927802, 0.20545133920721984]</td>\n",
       "    </tr>\n",
       "    <tr>\n",
       "      <th>5</th>\n",
       "      <td>d2fa4f962799c6550b0f968ffc1cad8e-15</td>\n",
       "      <td>No Risk</td>\n",
       "      <td>[0.8188115251077217, 0.18118847489227832]</td>\n",
       "    </tr>\n",
       "    <tr>\n",
       "      <th>6</th>\n",
       "      <td>d2fa4f962799c6550b0f968ffc1cad8e-14</td>\n",
       "      <td>Risk</td>\n",
       "      <td>[0.4264226432451988, 0.5735773567548011]</td>\n",
       "    </tr>\n",
       "    <tr>\n",
       "      <th>7</th>\n",
       "      <td>d2fa4f962799c6550b0f968ffc1cad8e-138</td>\n",
       "      <td>Risk</td>\n",
       "      <td>[0.49626073219671474, 0.5037392678032852]</td>\n",
       "    </tr>\n",
       "    <tr>\n",
       "      <th>8</th>\n",
       "      <td>d2fa4f962799c6550b0f968ffc1cad8e-106</td>\n",
       "      <td>No Risk</td>\n",
       "      <td>[0.7320454663641656, 0.2679545336358344]</td>\n",
       "    </tr>\n",
       "    <tr>\n",
       "      <th>9</th>\n",
       "      <td>d2fa4f962799c6550b0f968ffc1cad8e-112</td>\n",
       "      <td>No Risk</td>\n",
       "      <td>[0.9822664221312787, 0.01773357786872142]</td>\n",
       "    </tr>\n",
       "    <tr>\n",
       "      <th>10</th>\n",
       "      <td>d2fa4f962799c6550b0f968ffc1cad8e-143</td>\n",
       "      <td>No Risk</td>\n",
       "      <td>[0.834116683451723, 0.1658833165482771]</td>\n",
       "    </tr>\n",
       "    <tr>\n",
       "      <th>11</th>\n",
       "      <td>d2fa4f962799c6550b0f968ffc1cad8e-146</td>\n",
       "      <td>No Risk</td>\n",
       "      <td>[0.9577043334816995, 0.04229566651830044]</td>\n",
       "    </tr>\n",
       "    <tr>\n",
       "      <th>12</th>\n",
       "      <td>d2fa4f962799c6550b0f968ffc1cad8e-148</td>\n",
       "      <td>No Risk</td>\n",
       "      <td>[0.9679077435765369, 0.03209225642346317]</td>\n",
       "    </tr>\n",
       "    <tr>\n",
       "      <th>13</th>\n",
       "      <td>d2fa4f962799c6550b0f968ffc1cad8e-149</td>\n",
       "      <td>No Risk</td>\n",
       "      <td>[0.8552349002204374, 0.1447650997795626]</td>\n",
       "    </tr>\n",
       "    <tr>\n",
       "      <th>14</th>\n",
       "      <td>d2fa4f962799c6550b0f968ffc1cad8e-133</td>\n",
       "      <td>No Risk</td>\n",
       "      <td>[0.63468684652584, 0.36531315347416005]</td>\n",
       "    </tr>\n",
       "    <tr>\n",
       "      <th>15</th>\n",
       "      <td>d2fa4f962799c6550b0f968ffc1cad8e-139</td>\n",
       "      <td>No Risk</td>\n",
       "      <td>[0.6924423229820909, 0.3075576770179092]</td>\n",
       "    </tr>\n",
       "    <tr>\n",
       "      <th>16</th>\n",
       "      <td>d2fa4f962799c6550b0f968ffc1cad8e-135</td>\n",
       "      <td>No Risk</td>\n",
       "      <td>[0.6745717551738807, 0.32542824482611926]</td>\n",
       "    </tr>\n",
       "    <tr>\n",
       "      <th>17</th>\n",
       "      <td>d2fa4f962799c6550b0f968ffc1cad8e-137</td>\n",
       "      <td>No Risk</td>\n",
       "      <td>[0.8327551616930468, 0.1672448383069533]</td>\n",
       "    </tr>\n",
       "    <tr>\n",
       "      <th>18</th>\n",
       "      <td>d2fa4f962799c6550b0f968ffc1cad8e-102</td>\n",
       "      <td>No Risk</td>\n",
       "      <td>[0.5045313448445307, 0.49546865515546934]</td>\n",
       "    </tr>\n",
       "    <tr>\n",
       "      <th>19</th>\n",
       "      <td>d2fa4f962799c6550b0f968ffc1cad8e-105</td>\n",
       "      <td>No Risk</td>\n",
       "      <td>[0.8370097148307492, 0.16299028516925088]</td>\n",
       "    </tr>\n",
       "    <tr>\n",
       "      <th>20</th>\n",
       "      <td>d2fa4f962799c6550b0f968ffc1cad8e-109</td>\n",
       "      <td>No Risk</td>\n",
       "      <td>[0.7792383484480375, 0.22076165155196253]</td>\n",
       "    </tr>\n",
       "    <tr>\n",
       "      <th>21</th>\n",
       "      <td>d2fa4f962799c6550b0f968ffc1cad8e-111</td>\n",
       "      <td>No Risk</td>\n",
       "      <td>[0.7583135074974412, 0.2416864925025588]</td>\n",
       "    </tr>\n",
       "    <tr>\n",
       "      <th>22</th>\n",
       "      <td>d2fa4f962799c6550b0f968ffc1cad8e-118</td>\n",
       "      <td>No Risk</td>\n",
       "      <td>[0.6673954528567505, 0.33260454714324955]</td>\n",
       "    </tr>\n",
       "    <tr>\n",
       "      <th>23</th>\n",
       "      <td>d2fa4f962799c6550b0f968ffc1cad8e-140</td>\n",
       "      <td>No Risk</td>\n",
       "      <td>[0.6315476424981202, 0.3684523575018797]</td>\n",
       "    </tr>\n",
       "    <tr>\n",
       "      <th>24</th>\n",
       "      <td>d2fa4f962799c6550b0f968ffc1cad8e-130</td>\n",
       "      <td>No Risk</td>\n",
       "      <td>[0.7379169694988239, 0.26208303050117615]</td>\n",
       "    </tr>\n",
       "    <tr>\n",
       "      <th>25</th>\n",
       "      <td>d2fa4f962799c6550b0f968ffc1cad8e-122</td>\n",
       "      <td>No Risk</td>\n",
       "      <td>[0.5145621087206375, 0.48543789127936254]</td>\n",
       "    </tr>\n",
       "    <tr>\n",
       "      <th>26</th>\n",
       "      <td>d2fa4f962799c6550b0f968ffc1cad8e-142</td>\n",
       "      <td>Risk</td>\n",
       "      <td>[0.27252096229333767, 0.7274790377066622]</td>\n",
       "    </tr>\n",
       "    <tr>\n",
       "      <th>27</th>\n",
       "      <td>d2fa4f962799c6550b0f968ffc1cad8e-13</td>\n",
       "      <td>No Risk</td>\n",
       "      <td>[0.9239774450268403, 0.07602255497315971]</td>\n",
       "    </tr>\n",
       "    <tr>\n",
       "      <th>28</th>\n",
       "      <td>d2fa4f962799c6550b0f968ffc1cad8e-129</td>\n",
       "      <td>No Risk</td>\n",
       "      <td>[0.9841192212219294, 0.01588077877807067]</td>\n",
       "    </tr>\n",
       "    <tr>\n",
       "      <th>29</th>\n",
       "      <td>d2fa4f962799c6550b0f968ffc1cad8e-128</td>\n",
       "      <td>No Risk</td>\n",
       "      <td>[0.9855551222566514, 0.014444877743348608]</td>\n",
       "    </tr>\n",
       "    <tr>\n",
       "      <th>30</th>\n",
       "      <td>d2fa4f962799c6550b0f968ffc1cad8e-114</td>\n",
       "      <td>No Risk</td>\n",
       "      <td>[0.9416006091050841, 0.058399390894915935]</td>\n",
       "    </tr>\n",
       "    <tr>\n",
       "      <th>31</th>\n",
       "      <td>d2fa4f962799c6550b0f968ffc1cad8e-100</td>\n",
       "      <td>No Risk</td>\n",
       "      <td>[0.5782162527998628, 0.4217837472001372]</td>\n",
       "    </tr>\n",
       "    <tr>\n",
       "      <th>32</th>\n",
       "      <td>d2fa4f962799c6550b0f968ffc1cad8e-131</td>\n",
       "      <td>Risk</td>\n",
       "      <td>[0.09652191355021292, 0.903478086449787]</td>\n",
       "    </tr>\n",
       "    <tr>\n",
       "      <th>33</th>\n",
       "      <td>d2fa4f962799c6550b0f968ffc1cad8e-132</td>\n",
       "      <td>No Risk</td>\n",
       "      <td>[0.6504977814688889, 0.3495022185311111]</td>\n",
       "    </tr>\n",
       "    <tr>\n",
       "      <th>34</th>\n",
       "      <td>d2fa4f962799c6550b0f968ffc1cad8e-10</td>\n",
       "      <td>No Risk</td>\n",
       "      <td>[0.9852929301421172, 0.014707069857882874]</td>\n",
       "    </tr>\n",
       "    <tr>\n",
       "      <th>35</th>\n",
       "      <td>d2fa4f962799c6550b0f968ffc1cad8e-134</td>\n",
       "      <td>No Risk</td>\n",
       "      <td>[0.6998102379323082, 0.3001897620676918]</td>\n",
       "    </tr>\n",
       "    <tr>\n",
       "      <th>36</th>\n",
       "      <td>d2fa4f962799c6550b0f968ffc1cad8e-1</td>\n",
       "      <td>No Risk</td>\n",
       "      <td>[0.6898609385901784, 0.31013906140982156]</td>\n",
       "    </tr>\n",
       "    <tr>\n",
       "      <th>37</th>\n",
       "      <td>d2fa4f962799c6550b0f968ffc1cad8e-136</td>\n",
       "      <td>No Risk</td>\n",
       "      <td>[0.8465473592160102, 0.15345264078398987]</td>\n",
       "    </tr>\n",
       "    <tr>\n",
       "      <th>38</th>\n",
       "      <td>d2fa4f962799c6550b0f968ffc1cad8e-1000</td>\n",
       "      <td>No Risk</td>\n",
       "      <td>[0.8249845451985296, 0.17501545480147046]</td>\n",
       "    </tr>\n",
       "    <tr>\n",
       "      <th>39</th>\n",
       "      <td>d2fa4f962799c6550b0f968ffc1cad8e-101</td>\n",
       "      <td>No Risk</td>\n",
       "      <td>[0.9741531604425315, 0.02584683955746841]</td>\n",
       "    </tr>\n",
       "    <tr>\n",
       "      <th>40</th>\n",
       "      <td>d2fa4f962799c6550b0f968ffc1cad8e-103</td>\n",
       "      <td>No Risk</td>\n",
       "      <td>[0.8995010140184834, 0.10049898598151667]</td>\n",
       "    </tr>\n",
       "    <tr>\n",
       "      <th>41</th>\n",
       "      <td>d2fa4f962799c6550b0f968ffc1cad8e-104</td>\n",
       "      <td>No Risk</td>\n",
       "      <td>[0.7780608364164893, 0.22193916358351068]</td>\n",
       "    </tr>\n",
       "    <tr>\n",
       "      <th>42</th>\n",
       "      <td>d2fa4f962799c6550b0f968ffc1cad8e-107</td>\n",
       "      <td>No Risk</td>\n",
       "      <td>[0.5380190669878034, 0.46198093301219645]</td>\n",
       "    </tr>\n",
       "    <tr>\n",
       "      <th>43</th>\n",
       "      <td>d2fa4f962799c6550b0f968ffc1cad8e-108</td>\n",
       "      <td>No Risk</td>\n",
       "      <td>[0.5078646285851088, 0.49213537141489117]</td>\n",
       "    </tr>\n",
       "    <tr>\n",
       "      <th>44</th>\n",
       "      <td>d2fa4f962799c6550b0f968ffc1cad8e-11</td>\n",
       "      <td>Risk</td>\n",
       "      <td>[0.14309983523688996, 0.85690016476311]</td>\n",
       "    </tr>\n",
       "    <tr>\n",
       "      <th>45</th>\n",
       "      <td>d2fa4f962799c6550b0f968ffc1cad8e-110</td>\n",
       "      <td>No Risk</td>\n",
       "      <td>[0.9203969223446077, 0.0796030776553923]</td>\n",
       "    </tr>\n",
       "    <tr>\n",
       "      <th>46</th>\n",
       "      <td>d2fa4f962799c6550b0f968ffc1cad8e-116</td>\n",
       "      <td>No Risk</td>\n",
       "      <td>[0.7378823940525716, 0.2621176059474285]</td>\n",
       "    </tr>\n",
       "    <tr>\n",
       "      <th>47</th>\n",
       "      <td>d2fa4f962799c6550b0f968ffc1cad8e-115</td>\n",
       "      <td>Risk</td>\n",
       "      <td>[0.13274117798279983, 0.8672588220172003]</td>\n",
       "    </tr>\n",
       "    <tr>\n",
       "      <th>48</th>\n",
       "      <td>d2fa4f962799c6550b0f968ffc1cad8e-117</td>\n",
       "      <td>Risk</td>\n",
       "      <td>[0.08168362414274367, 0.9183163758572563]</td>\n",
       "    </tr>\n",
       "    <tr>\n",
       "      <th>49</th>\n",
       "      <td>d2fa4f962799c6550b0f968ffc1cad8e-123</td>\n",
       "      <td>No Risk</td>\n",
       "      <td>[0.8926351233339729, 0.10736487666602719]</td>\n",
       "    </tr>\n",
       "    <tr>\n",
       "      <th>50</th>\n",
       "      <td>d2fa4f962799c6550b0f968ffc1cad8e-12</td>\n",
       "      <td>No Risk</td>\n",
       "      <td>[0.7984972887482147, 0.2015027112517854]</td>\n",
       "    </tr>\n",
       "    <tr>\n",
       "      <th>51</th>\n",
       "      <td>d2fa4f962799c6550b0f968ffc1cad8e-119</td>\n",
       "      <td>No Risk</td>\n",
       "      <td>[0.8732953768861561, 0.12670462311384387]</td>\n",
       "    </tr>\n",
       "    <tr>\n",
       "      <th>52</th>\n",
       "      <td>d2fa4f962799c6550b0f968ffc1cad8e-121</td>\n",
       "      <td>No Risk</td>\n",
       "      <td>[0.8941704562721314, 0.10582954372786856]</td>\n",
       "    </tr>\n",
       "    <tr>\n",
       "      <th>53</th>\n",
       "      <td>d2fa4f962799c6550b0f968ffc1cad8e-120</td>\n",
       "      <td>Risk</td>\n",
       "      <td>[0.47311138026567273, 0.5268886197343272]</td>\n",
       "    </tr>\n",
       "    <tr>\n",
       "      <th>54</th>\n",
       "      <td>d2fa4f962799c6550b0f968ffc1cad8e-124</td>\n",
       "      <td>No Risk</td>\n",
       "      <td>[0.9307300754992562, 0.06926992450074387]</td>\n",
       "    </tr>\n",
       "    <tr>\n",
       "      <th>55</th>\n",
       "      <td>d2fa4f962799c6550b0f968ffc1cad8e-141</td>\n",
       "      <td>No Risk</td>\n",
       "      <td>[0.7717614731089004, 0.22823852689109958]</td>\n",
       "    </tr>\n",
       "    <tr>\n",
       "      <th>56</th>\n",
       "      <td>d2fa4f962799c6550b0f968ffc1cad8e-125</td>\n",
       "      <td>No Risk</td>\n",
       "      <td>[0.6067132994222134, 0.3932867005777867]</td>\n",
       "    </tr>\n",
       "    <tr>\n",
       "      <th>57</th>\n",
       "      <td>d2fa4f962799c6550b0f968ffc1cad8e-126</td>\n",
       "      <td>No Risk</td>\n",
       "      <td>[0.9170341561640429, 0.08296584383595715]</td>\n",
       "    </tr>\n",
       "    <tr>\n",
       "      <th>58</th>\n",
       "      <td>d2fa4f962799c6550b0f968ffc1cad8e-127</td>\n",
       "      <td>No Risk</td>\n",
       "      <td>[0.5721132417778507, 0.42788675822214933]</td>\n",
       "    </tr>\n",
       "    <tr>\n",
       "      <th>59</th>\n",
       "      <td>d2fa4f962799c6550b0f968ffc1cad8e-151</td>\n",
       "      <td>No Risk</td>\n",
       "      <td>[0.8135552150158291, 0.18644478498417094]</td>\n",
       "    </tr>\n",
       "  </tbody>\n",
       "</table>\n",
       "</div>"
      ],
      "text/plain": [
       "                               scoring_id predictedLabel  \\\n",
       "0    d2fa4f962799c6550b0f968ffc1cad8e-145        No Risk   \n",
       "1    d2fa4f962799c6550b0f968ffc1cad8e-150        No Risk   \n",
       "2    d2fa4f962799c6550b0f968ffc1cad8e-144        No Risk   \n",
       "3    d2fa4f962799c6550b0f968ffc1cad8e-113           Risk   \n",
       "4    d2fa4f962799c6550b0f968ffc1cad8e-147        No Risk   \n",
       "5     d2fa4f962799c6550b0f968ffc1cad8e-15        No Risk   \n",
       "6     d2fa4f962799c6550b0f968ffc1cad8e-14           Risk   \n",
       "7    d2fa4f962799c6550b0f968ffc1cad8e-138           Risk   \n",
       "8    d2fa4f962799c6550b0f968ffc1cad8e-106        No Risk   \n",
       "9    d2fa4f962799c6550b0f968ffc1cad8e-112        No Risk   \n",
       "10   d2fa4f962799c6550b0f968ffc1cad8e-143        No Risk   \n",
       "11   d2fa4f962799c6550b0f968ffc1cad8e-146        No Risk   \n",
       "12   d2fa4f962799c6550b0f968ffc1cad8e-148        No Risk   \n",
       "13   d2fa4f962799c6550b0f968ffc1cad8e-149        No Risk   \n",
       "14   d2fa4f962799c6550b0f968ffc1cad8e-133        No Risk   \n",
       "15   d2fa4f962799c6550b0f968ffc1cad8e-139        No Risk   \n",
       "16   d2fa4f962799c6550b0f968ffc1cad8e-135        No Risk   \n",
       "17   d2fa4f962799c6550b0f968ffc1cad8e-137        No Risk   \n",
       "18   d2fa4f962799c6550b0f968ffc1cad8e-102        No Risk   \n",
       "19   d2fa4f962799c6550b0f968ffc1cad8e-105        No Risk   \n",
       "20   d2fa4f962799c6550b0f968ffc1cad8e-109        No Risk   \n",
       "21   d2fa4f962799c6550b0f968ffc1cad8e-111        No Risk   \n",
       "22   d2fa4f962799c6550b0f968ffc1cad8e-118        No Risk   \n",
       "23   d2fa4f962799c6550b0f968ffc1cad8e-140        No Risk   \n",
       "24   d2fa4f962799c6550b0f968ffc1cad8e-130        No Risk   \n",
       "25   d2fa4f962799c6550b0f968ffc1cad8e-122        No Risk   \n",
       "26   d2fa4f962799c6550b0f968ffc1cad8e-142           Risk   \n",
       "27    d2fa4f962799c6550b0f968ffc1cad8e-13        No Risk   \n",
       "28   d2fa4f962799c6550b0f968ffc1cad8e-129        No Risk   \n",
       "29   d2fa4f962799c6550b0f968ffc1cad8e-128        No Risk   \n",
       "30   d2fa4f962799c6550b0f968ffc1cad8e-114        No Risk   \n",
       "31   d2fa4f962799c6550b0f968ffc1cad8e-100        No Risk   \n",
       "32   d2fa4f962799c6550b0f968ffc1cad8e-131           Risk   \n",
       "33   d2fa4f962799c6550b0f968ffc1cad8e-132        No Risk   \n",
       "34    d2fa4f962799c6550b0f968ffc1cad8e-10        No Risk   \n",
       "35   d2fa4f962799c6550b0f968ffc1cad8e-134        No Risk   \n",
       "36     d2fa4f962799c6550b0f968ffc1cad8e-1        No Risk   \n",
       "37   d2fa4f962799c6550b0f968ffc1cad8e-136        No Risk   \n",
       "38  d2fa4f962799c6550b0f968ffc1cad8e-1000        No Risk   \n",
       "39   d2fa4f962799c6550b0f968ffc1cad8e-101        No Risk   \n",
       "40   d2fa4f962799c6550b0f968ffc1cad8e-103        No Risk   \n",
       "41   d2fa4f962799c6550b0f968ffc1cad8e-104        No Risk   \n",
       "42   d2fa4f962799c6550b0f968ffc1cad8e-107        No Risk   \n",
       "43   d2fa4f962799c6550b0f968ffc1cad8e-108        No Risk   \n",
       "44    d2fa4f962799c6550b0f968ffc1cad8e-11           Risk   \n",
       "45   d2fa4f962799c6550b0f968ffc1cad8e-110        No Risk   \n",
       "46   d2fa4f962799c6550b0f968ffc1cad8e-116        No Risk   \n",
       "47   d2fa4f962799c6550b0f968ffc1cad8e-115           Risk   \n",
       "48   d2fa4f962799c6550b0f968ffc1cad8e-117           Risk   \n",
       "49   d2fa4f962799c6550b0f968ffc1cad8e-123        No Risk   \n",
       "50    d2fa4f962799c6550b0f968ffc1cad8e-12        No Risk   \n",
       "51   d2fa4f962799c6550b0f968ffc1cad8e-119        No Risk   \n",
       "52   d2fa4f962799c6550b0f968ffc1cad8e-121        No Risk   \n",
       "53   d2fa4f962799c6550b0f968ffc1cad8e-120           Risk   \n",
       "54   d2fa4f962799c6550b0f968ffc1cad8e-124        No Risk   \n",
       "55   d2fa4f962799c6550b0f968ffc1cad8e-141        No Risk   \n",
       "56   d2fa4f962799c6550b0f968ffc1cad8e-125        No Risk   \n",
       "57   d2fa4f962799c6550b0f968ffc1cad8e-126        No Risk   \n",
       "58   d2fa4f962799c6550b0f968ffc1cad8e-127        No Risk   \n",
       "59   d2fa4f962799c6550b0f968ffc1cad8e-151        No Risk   \n",
       "\n",
       "                                   probability  \n",
       "0     [0.5245318049025527, 0.4754681950974473]  \n",
       "1     [0.8301501835097254, 0.1698498164902747]  \n",
       "2     [0.6358613085002266, 0.3641386914997734]  \n",
       "3     [0.4776813853510548, 0.5223186146489451]  \n",
       "4    [0.7945486607927802, 0.20545133920721984]  \n",
       "5    [0.8188115251077217, 0.18118847489227832]  \n",
       "6     [0.4264226432451988, 0.5735773567548011]  \n",
       "7    [0.49626073219671474, 0.5037392678032852]  \n",
       "8     [0.7320454663641656, 0.2679545336358344]  \n",
       "9    [0.9822664221312787, 0.01773357786872142]  \n",
       "10     [0.834116683451723, 0.1658833165482771]  \n",
       "11   [0.9577043334816995, 0.04229566651830044]  \n",
       "12   [0.9679077435765369, 0.03209225642346317]  \n",
       "13    [0.8552349002204374, 0.1447650997795626]  \n",
       "14     [0.63468684652584, 0.36531315347416005]  \n",
       "15    [0.6924423229820909, 0.3075576770179092]  \n",
       "16   [0.6745717551738807, 0.32542824482611926]  \n",
       "17    [0.8327551616930468, 0.1672448383069533]  \n",
       "18   [0.5045313448445307, 0.49546865515546934]  \n",
       "19   [0.8370097148307492, 0.16299028516925088]  \n",
       "20   [0.7792383484480375, 0.22076165155196253]  \n",
       "21    [0.7583135074974412, 0.2416864925025588]  \n",
       "22   [0.6673954528567505, 0.33260454714324955]  \n",
       "23    [0.6315476424981202, 0.3684523575018797]  \n",
       "24   [0.7379169694988239, 0.26208303050117615]  \n",
       "25   [0.5145621087206375, 0.48543789127936254]  \n",
       "26   [0.27252096229333767, 0.7274790377066622]  \n",
       "27   [0.9239774450268403, 0.07602255497315971]  \n",
       "28   [0.9841192212219294, 0.01588077877807067]  \n",
       "29  [0.9855551222566514, 0.014444877743348608]  \n",
       "30  [0.9416006091050841, 0.058399390894915935]  \n",
       "31    [0.5782162527998628, 0.4217837472001372]  \n",
       "32    [0.09652191355021292, 0.903478086449787]  \n",
       "33    [0.6504977814688889, 0.3495022185311111]  \n",
       "34  [0.9852929301421172, 0.014707069857882874]  \n",
       "35    [0.6998102379323082, 0.3001897620676918]  \n",
       "36   [0.6898609385901784, 0.31013906140982156]  \n",
       "37   [0.8465473592160102, 0.15345264078398987]  \n",
       "38   [0.8249845451985296, 0.17501545480147046]  \n",
       "39   [0.9741531604425315, 0.02584683955746841]  \n",
       "40   [0.8995010140184834, 0.10049898598151667]  \n",
       "41   [0.7780608364164893, 0.22193916358351068]  \n",
       "42   [0.5380190669878034, 0.46198093301219645]  \n",
       "43   [0.5078646285851088, 0.49213537141489117]  \n",
       "44     [0.14309983523688996, 0.85690016476311]  \n",
       "45    [0.9203969223446077, 0.0796030776553923]  \n",
       "46    [0.7378823940525716, 0.2621176059474285]  \n",
       "47   [0.13274117798279983, 0.8672588220172003]  \n",
       "48   [0.08168362414274367, 0.9183163758572563]  \n",
       "49   [0.8926351233339729, 0.10736487666602719]  \n",
       "50    [0.7984972887482147, 0.2015027112517854]  \n",
       "51   [0.8732953768861561, 0.12670462311384387]  \n",
       "52   [0.8941704562721314, 0.10582954372786856]  \n",
       "53   [0.47311138026567273, 0.5268886197343272]  \n",
       "54   [0.9307300754992562, 0.06926992450074387]  \n",
       "55   [0.7717614731089004, 0.22823852689109958]  \n",
       "56    [0.6067132994222134, 0.3932867005777867]  \n",
       "57   [0.9170341561640429, 0.08296584383595715]  \n",
       "58   [0.5721132417778507, 0.42788675822214933]  \n",
       "59   [0.8135552150158291, 0.18644478498417094]  "
      ]
     },
     "execution_count": 65,
     "metadata": {},
     "output_type": "execute_result"
    }
   ],
   "source": [
    "payload_data = subscription.payload_logging.get_table_content(limit=60)\n",
    "payload_data.filter(items=['scoring_id', 'predictedLabel', 'probability'])"
   ]
  },
  {
   "cell_type": "markdown",
   "metadata": {},
   "source": [
    "## Congratulations!\n",
    "\n",
    "You have finished the hands-on lab for IBM Watson OpenScale. You can now view the [OpenScale Dashboard](https://aiopenscale.cloud.ibm.com/). Click on the tile for the German Credit model to see fairness, accuracy, and performance monitors. Click on the timeseries graph to get detailed information on transactions during a specific time window.\n",
    "\n",
    "## Next steps\n",
    "\n",
    "OpenScale shows model performance over time. You have two options to keep data flowing to your OpenScale graphs:\n",
    "  * Download, configure and schedule the [model feed notebook](https://raw.githubusercontent.com/emartensibm/german-credit/master/german_credit_scoring_feed.ipynb). This notebook can be set up with your WML credentials, and scheduled to provide a consistent flow of scoring requests to your model, which will appear in your OpenScale monitors.\n",
    "  * Re-run this notebook. Running this notebook from the beginning will delete and re-create the model and deployment, and re-create the historical data. Please note that the payload and measurement logs for the previous deployment will continue to be stored in your datamart, and cal be deleted if necessary."
   ]
  },
  {
   "cell_type": "code",
   "execution_count": null,
   "metadata": {},
   "outputs": [],
   "source": []
  }
 ],
 "metadata": {
  "kernelspec": {
   "display_name": "Python 3.6 with Spark",
   "language": "python3",
   "name": "python36"
  },
  "language_info": {
   "codemirror_mode": {
    "name": "ipython",
    "version": 3
   },
   "file_extension": ".py",
   "mimetype": "text/x-python",
   "name": "python",
   "nbconvert_exporter": "python",
   "pygments_lexer": "ipython3",
   "version": "3.6.8"
  }
 },
 "nbformat": 4,
 "nbformat_minor": 1
}
