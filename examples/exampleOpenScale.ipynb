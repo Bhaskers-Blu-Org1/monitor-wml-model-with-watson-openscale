{
 "cells": [
  {
   "cell_type": "markdown",
   "metadata": {},
   "source": [
    "# IBM Watson OpenScale Lab instructions\n",
    "\n",
    "This notebook should be run in a Watson Studio project, using the **Default Spark Python 3.6** runtime environment. **If you are viewing this in Watson Studio and do not see `Python 3.6 with Spark` in the upper right corner of your screen, please update the runtime now.** It requires service credentials for the following Cloud services:\n",
    "  * IBM Watson OpenScale\n",
    "  * Watson Machine Learning\n",
    "  \n",
    "If you have a paid Cloud account, you may also provision a **Databases for PostgreSQL** or **Db2 Warehouse** service to take full advantage of integration with Watson Studio and continuous learning services. If you choose not to provision this paid service, you can use the free internal PostgreSQL storage with OpenScale, but will not be able to configure continuous learning for your model.\n",
    "\n",
    "The notebook will train, create and deploy a German Credit Risk model, configure OpenScale to monitor that deployment, and inject seven days' worth of historical records and measurements for viewing in the OpenScale Insights dashboard."
   ]
  },
  {
   "cell_type": "markdown",
   "metadata": {
    "collapsed": true
   },
   "source": [
    "## Test Spark"
   ]
  },
  {
   "cell_type": "code",
   "execution_count": 1,
   "metadata": {},
   "outputs": [
    {
     "name": "stdout",
     "output_type": "stream",
     "text": [
      "Waiting for a Spark session to start...\n",
      "Spark Initialization Done! ApplicationId = app-20191010134405-0001\n",
      "KERNEL_ID = 483329b2-9ae7-4efe-a56a-3ee6fe9547d1\n"
     ]
    }
   ],
   "source": [
    "try:\n",
    "    from pyspark.sql import SparkSession\n",
    "except:\n",
    "    print('Error: Spark runtime is missing. If you are using Watson Studio change the notebook runtime to Spark.')\n",
    "    raise"
   ]
  },
  {
   "cell_type": "markdown",
   "metadata": {},
   "source": [
    "## Package installation"
   ]
  },
  {
   "cell_type": "code",
   "execution_count": 2,
   "metadata": {
    "scrolled": true
   },
   "outputs": [
    {
     "name": "stdout",
     "output_type": "stream",
     "text": [
      "\u001b[33mTarget directory /home/spark/shared/user-libs/python3.6/psycopg2 already exists. Specify --upgrade to force replacement.\u001b[0m\n",
      "\u001b[33mTarget directory /home/spark/shared/user-libs/python3.6/psycopg2_binary-2.8.3.dist-info already exists. Specify --upgrade to force replacement.\u001b[0m\n",
      "Successfully installed psycopg2-binary-2.8.3\n",
      "\u001b[31mtensorflow 1.13.1 requires tensorboard<1.14.0,>=1.13.0, which is not installed.\u001b[0m\n",
      "\u001b[31mbotocore 1.12.82 has requirement urllib3<1.25,>=1.20, but you'll have urllib3 1.25.6 which is incompatible.\u001b[0m\n",
      "Successfully installed certifi-2019.9.11 chardet-3.0.4 docutils-0.15.2 ibm-cos-sdk-2.5.4 ibm-cos-sdk-core-2.5.4 ibm-cos-sdk-s3transfer-2.5.4 idna-2.8 jmespath-0.9.4 lomond-0.3.3 numpy-1.17.2 pandas-0.25.1 python-dateutil-2.8.0 pytz-2019.3 requests-2.22.0 six-1.12.0 tabulate-0.8.5 tqdm-4.36.1 urllib3-1.25.6 watson-machine-learning-client-1.0.375\n",
      "\u001b[31mtensorflow 1.13.1 requires tensorboard<1.14.0,>=1.13.0, which is not installed.\u001b[0m\n",
      "\u001b[31mbotocore 1.12.82 has requirement urllib3<1.25,>=1.20, but you'll have urllib3 1.25.6 which is incompatible.\u001b[0m\n",
      "Successfully installed certifi-2019.9.11 chardet-3.0.4 h5py-2.10.0 ibm-ai-openscale-2.1.17 idna-2.8 numpy-1.17.2 pandas-0.25.1 python-dateutil-2.8.0 pytz-2019.3 requests-2.22.0 six-1.12.0 tabulate-0.8.5 urllib3-1.25.6\n",
      "\u001b[31mtensorflow 1.13.1 requires tensorboard<1.14.0,>=1.13.0, which is not installed.\u001b[0m\n",
      "Successfully installed numpy-1.17.2\n",
      "\u001b[31mtensorflow 1.13.1 requires tensorboard<1.14.0,>=1.13.0, which is not installed.\u001b[0m\n",
      "\u001b[31mbotocore 1.12.82 has requirement urllib3<1.25,>=1.20, but you'll have urllib3 1.25.6 which is incompatible.\u001b[0m\n",
      "Successfully installed PyWavelets-1.0.3 cycler-0.10.0 decorator-4.4.0 imageio-2.6.1 joblib-0.14.0 kiwisolver-1.1.0 lime-0.1.1.36 matplotlib-3.1.1 networkx-2.3 numpy-1.17.2 pillow-6.2.0 pyparsing-2.4.2 python-dateutil-2.8.0 scikit-image-0.15.0 scikit-learn-0.21.3 scipy-1.3.1 setuptools-41.4.0 six-1.12.0\n",
      "\u001b[31mtensorflow 1.13.1 requires tensorboard<1.14.0,>=1.13.0, which is not installed.\u001b[0m\n",
      "Successfully installed SciPy-1.3.1 numpy-1.17.2\n"
     ]
    }
   ],
   "source": [
    "!rm -rf $PIP_BUILD\n",
    "!pip install psycopg2-binary | tail -n 1\n",
    "!pip install --upgrade watson-machine-learning-client --no-cache | tail -n 1\n",
    "!pip install --upgrade ibm-ai-openscale --no-cache | tail -n 1\n",
    "!pip install --upgrade numpy --no-cache | tail -n 1\n",
    "!pip install --upgrade lime --no-cache | tail -n 1\n",
    "!pip install --upgrade SciPy --no-cache | tail -n 1"
   ]
  },
  {
   "cell_type": "markdown",
   "metadata": {},
   "source": [
    "# Provision services and configure credentials"
   ]
  },
  {
   "cell_type": "markdown",
   "metadata": {},
   "source": [
    "If you have not already, provision an instance of IBM Watson OpenScale using the [OpenScale link in the Cloud catalog](https://cloud.ibm.com/catalog/services/watson-openscale)."
   ]
  },
  {
   "cell_type": "markdown",
   "metadata": {},
   "source": [
    "Your Cloud API key can be generated by going to the [**Users** section of the Cloud console](https://cloud.ibm.com/iam#/users).  \n",
    "* From that page, click your name, scroll down to the **API Keys** section, and click **Create an IBM Cloud API key**. \n",
    "* Give your key a name and click **Create**, then copy the created key and paste it below.\n",
    "\n",
    "Alternately, from the [IBM Cloud CLI](https://console.bluemix.net/docs/cli/reference/ibmcloud/download_cli.html#install_use) :\n",
    "\n",
    "```bash\n",
    "ibmcloud login --sso\n",
    "ibmcloud iam api-key-create 'my_key'\n",
    "```"
   ]
  },
  {
   "cell_type": "code",
   "execution_count": 3,
   "metadata": {
    "scrolled": true
   },
   "outputs": [],
   "source": [
    "CLOUD_API_KEY = \"****\""
   ]
  },
  {
   "cell_type": "markdown",
   "metadata": {},
   "source": [
    "Get the Watson OpenScale GUID using the [IBM Cloud CLI](https://console.bluemix.net/docs/cli/reference/ibmcloud/download_cli.html#install_use) :\n",
    "\n",
    "```bash\n",
    "ibmcloud resource service-instance <Watson_OpenScale_instance_name>\n",
    "```"
   ]
  },
  {
   "cell_type": "code",
   "execution_count": 4,
   "metadata": {},
   "outputs": [],
   "source": [
    "AIOS_GUID = \"****\""
   ]
  },
  {
   "cell_type": "code",
   "execution_count": 5,
   "metadata": {},
   "outputs": [],
   "source": [
    "AIOS_CREDENTIALS = {\n",
    "    \"instance_guid\": AIOS_GUID,\n",
    "    \"apikey\": CLOUD_API_KEY,\n",
    "    \"url\": \"https://api.aiopenscale.cloud.ibm.com\"\n",
    "}"
   ]
  },
  {
   "cell_type": "markdown",
   "metadata": {},
   "source": [
    "Next you will need credentials for Watson Machine Learning. If you already have a WML instance, you may use credentials for it. To provision a new Lite instance of WML, use the [IBM Cloud catalog](https://cloud.ibm.com/catalog/services/machine-learning):  \n",
    "* Give your service a name, and click **Create**.  \n",
    "* Once your instance is created, click the **Service Credentials** link on the left side of the screen.  \n",
    "* Click the **New credential** button, give your credentials a name, and click **Add**.  \n",
    "* Your new credentials can be accessed by clicking the **View credentials** button.  \n",
    "* Copy and paste your WML credentials into the cell below."
   ]
  },
  {
   "cell_type": "code",
   "execution_count": 6,
   "metadata": {
    "scrolled": true
   },
   "outputs": [],
   "source": [
    "WML_CREDENTIALS = {\n",
    "    \"apikey\": \"key\",\n",
    "    \"iam_apikey_description\": \"description\",\n",
    "    \"iam_apikey_name\": \"auto-generated-apikey\",\n",
    "    \"iam_role_crn\": \"crn:v1:bluemix:public:iam::::serviceRole:Writer\",\n",
    "    \"iam_serviceid_crn\": \"crn:v1:bluemix:public:iam-identity::\",\n",
    "    \"instance_id\": \"instance_id\",\n",
    "    \"password\": \"password\",\n",
    "    \"url\": \"https://us-south.ml.cloud.ibm.com\",\n",
    "    \"username\": \"username\"\n",
    "}"
   ]
  },
  {
   "cell_type": "markdown",
   "metadata": {},
   "source": [
    "This lab can use Databases for PostgreSQL, Db2 Warehouse, or a free internal verison of PostgreSQL to create a datamart for OpenScale.\n",
    "\n",
    "    **If you have previously configured OpenScale**, it will use your existing datamart, and not interfere with any models you are currently monitoring. **Do not update the cell below where DB_CREDENTIALS are filled out AND comment it out or do not run it. Instead, uncomment the cell for `DB_CREDENTIALS = NONE` AND RUN IT INSTEAD**.\n",
    "\n",
    "**If you do not have a paid Cloud account or would prefer not to provision this paid service**, you may use the free internal PostgreSQL service with OpenScale. **Do not update the cell below where DB_CREDENTIALS are filled out AND comment it out or do not run it. Instead, uncomment the cell for `DB_CREDENTIALS = NONE` AND RUN IT INSTEAD**.\n",
    "\n",
    "**To provision a new instance of Db2 Warehouse**:  \n",
    "* Locate [Db2 Warehouse in the Cloud catalog](https://cloud.ibm.com/catalog/services/db2-warehouse)  \n",
    "* Give your service a name, and click **Create**.  \n",
    "* Once your instance is created, click the **Service Credentials** link on the left side of the screen.  \n",
    "* Click the **New credential** button, give your credentials a name, and click **Add**.  \n",
    "* Your new credentials can be accessed by clicking the **View credentials** button.  \n",
    "* Copy and paste your Db2 Warehouse credentials into the cell below.\n",
    "\n",
    "**To provision a new instance of Databases for PostgreSQL**:\n",
    "* Locate [Databases for PostgreSQL in the Cloud catalog](*https://cloud.ibm.com/catalog/services/databases-for-postgresql)  \n",
    "* Give your service a name, and click **Create**.  \n",
    "* Once your instance is created, click the **Service Credentials** link on the left side of the screen.  \n",
    "* Click the **New credential** button, give your credentials a name, and click **Add**.  \n",
    "* Your new credentials can be accessed by clicking the **View credentials** button.  \n",
    "* Copy and paste your Databases for PostgreSQL credentials into the cell below.\n"
   ]
  },
  {
   "cell_type": "markdown",
   "metadata": {},
   "source": [
    "IF you have previously configured OpenScale and are using an existing datamart OR would prefer not to provision the paid service, uncomment the cell below to set `DB_CREDENTIALS = NONE` AND do not run or comment out the cell where `DB_CREDENTIALS` are set."
   ]
  },
  {
   "cell_type": "code",
   "execution_count": 7,
   "metadata": {},
   "outputs": [],
   "source": [
    "DB_CREDENTIALS = None"
   ]
  },
  {
   "cell_type": "markdown",
   "metadata": {},
   "source": [
    "Comment out the cell below if you have set `DB_CREDENTIALS = None`."
   ]
  },
  {
   "cell_type": "code",
   "execution_count": null,
   "metadata": {
    "scrolled": true
   },
   "outputs": [],
   "source": [
    "#DB_CREDENTIALS = {\n",
    "  \"hostname\": \"***\",\n",
    "  \"password\": \"***\",\n",
    "  \"https_url\": \"***\",\n",
    "  \"port\": 50000,\n",
    "  \"ssldsn\": \"***\",\n",
    "  \"host\": \"***\",\n",
    "  \"jdbcurl\": \"***\",\n",
    "  \"uri\": \"***\",\n",
    "  \"db\": \"***\",\n",
    "  \"dsn\": \"****\",\n",
    "  \"username\": \"***\",\n",
    "  \"ssljdbcurl\": \"****\"\n",
    "}"
   ]
  },
  {
   "cell_type": "markdown",
   "metadata": {},
   "source": [
    "__If you previously configured OpenScale to use the free internal version of PostgreSQL, you can switch to a new datamart using a paid database service.__ If you would like to delete the internal PostgreSQL configuration and create a new one using service credentials supplied in the cell above, set the __KEEP_MY_INTERNAL_POSTGRES__ variable below to __False__ below. In this case, the notebook will remove your existing internal PostgreSQL datamart and create a new one with the supplied credentials. __*NO DATA MIGRATION WILL OCCUR.*__"
   ]
  },
  {
   "cell_type": "code",
   "execution_count": 8,
   "metadata": {},
   "outputs": [],
   "source": [
    "KEEP_MY_INTERNAL_POSTGRES = True"
   ]
  },
  {
   "cell_type": "markdown",
   "metadata": {},
   "source": [
    "# Run the notebook\n",
    "\n",
    "At this point, the notebook is ready to run. You can either run the cells one at a time, or click the **Kernel** option above and select **Restart and Run All** to run all the cells."
   ]
  },
  {
   "cell_type": "markdown",
   "metadata": {},
   "source": [
    "# Load and explore data"
   ]
  },
  {
   "cell_type": "markdown",
   "metadata": {},
   "source": [
    "## Load the training data from github"
   ]
  },
  {
   "cell_type": "code",
   "execution_count": 9,
   "metadata": {
    "scrolled": true
   },
   "outputs": [
    {
     "name": "stdout",
     "output_type": "stream",
     "text": [
      "rm: cannot remove 'german_credit_data_biased_training.csv': No such file or directory\n",
      "--2019-10-10 13:49:42--  https://raw.githubusercontent.com/IBM/monitor-wml-model-with-watson-openscale/master/data/german_credit_data_biased_training.csv\n",
      "Resolving raw.githubusercontent.com (raw.githubusercontent.com)... 151.101.48.133\n",
      "Connecting to raw.githubusercontent.com (raw.githubusercontent.com)|151.101.48.133|:443... connected.\n",
      "HTTP request sent, awaiting response... 200 OK\n",
      "Length: 689622 (673K) [text/plain]\n",
      "Saving to: 'german_credit_data_biased_training.csv'\n",
      "\n",
      "100%[======================================>] 689,622     --.-K/s   in 0.03s   \n",
      "\n",
      "2019-10-10 13:49:42 (21.5 MB/s) - 'german_credit_data_biased_training.csv' saved [689622/689622]\n",
      "\n"
     ]
    }
   ],
   "source": [
    "!rm german_credit_data_biased_training.csv\n",
    "!wget https://raw.githubusercontent.com/IBM/monitor-wml-model-with-watson-openscale/master/data/german_credit_data_biased_training.csv"
   ]
  },
  {
   "cell_type": "code",
   "execution_count": 10,
   "metadata": {
    "scrolled": true
   },
   "outputs": [
    {
     "data": {
      "text/plain": [
       "Row(CheckingStatus='0_to_200', LoanDuration=31, CreditHistory='credits_paid_to_date', LoanPurpose='other', LoanAmount=1889, ExistingSavings='100_to_500', EmploymentDuration='less_1', InstallmentPercent=3, Sex='female', OthersOnLoan='none', CurrentResidenceDuration=3, OwnsProperty='savings_insurance', Age=32, InstallmentPlans='none', Housing='own', ExistingCreditsCount=1, Job='skilled', Dependents=1, Telephone='none', ForeignWorker='yes', Risk='No Risk')"
      ]
     },
     "execution_count": 10,
     "metadata": {},
     "output_type": "execute_result"
    }
   ],
   "source": [
    "from pyspark.sql import SparkSession\n",
    "import pandas as pd\n",
    "import json\n",
    "\n",
    "spark = SparkSession.builder.getOrCreate()\n",
    "pd_data = pd.read_csv(\"german_credit_data_biased_training.csv\", sep=\",\", header=0)\n",
    "df_data = spark.read.csv(path=\"german_credit_data_biased_training.csv\", sep=\",\", header=True, inferSchema=True)\n",
    "df_data.head()"
   ]
  },
  {
   "cell_type": "markdown",
   "metadata": {},
   "source": [
    "## Explore data"
   ]
  },
  {
   "cell_type": "code",
   "execution_count": 11,
   "metadata": {
    "scrolled": true
   },
   "outputs": [
    {
     "name": "stdout",
     "output_type": "stream",
     "text": [
      "root\n",
      " |-- CheckingStatus: string (nullable = true)\n",
      " |-- LoanDuration: integer (nullable = true)\n",
      " |-- CreditHistory: string (nullable = true)\n",
      " |-- LoanPurpose: string (nullable = true)\n",
      " |-- LoanAmount: integer (nullable = true)\n",
      " |-- ExistingSavings: string (nullable = true)\n",
      " |-- EmploymentDuration: string (nullable = true)\n",
      " |-- InstallmentPercent: integer (nullable = true)\n",
      " |-- Sex: string (nullable = true)\n",
      " |-- OthersOnLoan: string (nullable = true)\n",
      " |-- CurrentResidenceDuration: integer (nullable = true)\n",
      " |-- OwnsProperty: string (nullable = true)\n",
      " |-- Age: integer (nullable = true)\n",
      " |-- InstallmentPlans: string (nullable = true)\n",
      " |-- Housing: string (nullable = true)\n",
      " |-- ExistingCreditsCount: integer (nullable = true)\n",
      " |-- Job: string (nullable = true)\n",
      " |-- Dependents: integer (nullable = true)\n",
      " |-- Telephone: string (nullable = true)\n",
      " |-- ForeignWorker: string (nullable = true)\n",
      " |-- Risk: string (nullable = true)\n",
      "\n"
     ]
    }
   ],
   "source": [
    "df_data.printSchema()"
   ]
  },
  {
   "cell_type": "code",
   "execution_count": 12,
   "metadata": {
    "scrolled": true
   },
   "outputs": [
    {
     "name": "stdout",
     "output_type": "stream",
     "text": [
      "Number of records: 5000\n"
     ]
    }
   ],
   "source": [
    "print(\"Number of records: \" + str(df_data.count()))"
   ]
  },
  {
   "cell_type": "markdown",
   "metadata": {},
   "source": [
    "# Create a model"
   ]
  },
  {
   "cell_type": "code",
   "execution_count": 13,
   "metadata": {
    "scrolled": true
   },
   "outputs": [
    {
     "name": "stdout",
     "output_type": "stream",
     "text": [
      "Number of records for training: 4016\n",
      "Number of records for evaluation: 984\n",
      "root\n",
      " |-- CheckingStatus: string (nullable = true)\n",
      " |-- LoanDuration: integer (nullable = true)\n",
      " |-- CreditHistory: string (nullable = true)\n",
      " |-- LoanPurpose: string (nullable = true)\n",
      " |-- LoanAmount: integer (nullable = true)\n",
      " |-- ExistingSavings: string (nullable = true)\n",
      " |-- EmploymentDuration: string (nullable = true)\n",
      " |-- InstallmentPercent: integer (nullable = true)\n",
      " |-- Sex: string (nullable = true)\n",
      " |-- OthersOnLoan: string (nullable = true)\n",
      " |-- CurrentResidenceDuration: integer (nullable = true)\n",
      " |-- OwnsProperty: string (nullable = true)\n",
      " |-- Age: integer (nullable = true)\n",
      " |-- InstallmentPlans: string (nullable = true)\n",
      " |-- Housing: string (nullable = true)\n",
      " |-- ExistingCreditsCount: integer (nullable = true)\n",
      " |-- Job: string (nullable = true)\n",
      " |-- Dependents: integer (nullable = true)\n",
      " |-- Telephone: string (nullable = true)\n",
      " |-- ForeignWorker: string (nullable = true)\n",
      " |-- Risk: string (nullable = true)\n",
      "\n"
     ]
    }
   ],
   "source": [
    "spark_df = df_data\n",
    "(train_data, test_data) = spark_df.randomSplit([0.8, 0.2], 24)\n",
    "\n",
    "MODEL_NAME = \"Spark German Risk Model - Final\"\n",
    "DEPLOYMENT_NAME = \"Spark German Risk Deployment - Final\"\n",
    "\n",
    "print(\"Number of records for training: \" + str(train_data.count()))\n",
    "print(\"Number of records for evaluation: \" + str(test_data.count()))\n",
    "\n",
    "spark_df.printSchema()"
   ]
  },
  {
   "cell_type": "code",
   "execution_count": 14,
   "metadata": {
    "scrolled": true
   },
   "outputs": [],
   "source": [
    "from pyspark.ml.feature import OneHotEncoder, StringIndexer, IndexToString, VectorAssembler\n",
    "from pyspark.ml.evaluation import BinaryClassificationEvaluator\n",
    "from pyspark.ml import Pipeline, Model\n",
    "\n",
    "si_CheckingStatus = StringIndexer(inputCol = 'CheckingStatus', outputCol = 'CheckingStatus_IX')\n",
    "si_CreditHistory = StringIndexer(inputCol = 'CreditHistory', outputCol = 'CreditHistory_IX')\n",
    "si_LoanPurpose = StringIndexer(inputCol = 'LoanPurpose', outputCol = 'LoanPurpose_IX')\n",
    "si_ExistingSavings = StringIndexer(inputCol = 'ExistingSavings', outputCol = 'ExistingSavings_IX')\n",
    "si_EmploymentDuration = StringIndexer(inputCol = 'EmploymentDuration', outputCol = 'EmploymentDuration_IX')\n",
    "si_Sex = StringIndexer(inputCol = 'Sex', outputCol = 'Sex_IX')\n",
    "si_OthersOnLoan = StringIndexer(inputCol = 'OthersOnLoan', outputCol = 'OthersOnLoan_IX')\n",
    "si_OwnsProperty = StringIndexer(inputCol = 'OwnsProperty', outputCol = 'OwnsProperty_IX')\n",
    "si_InstallmentPlans = StringIndexer(inputCol = 'InstallmentPlans', outputCol = 'InstallmentPlans_IX')\n",
    "si_Housing = StringIndexer(inputCol = 'Housing', outputCol = 'Housing_IX')\n",
    "si_Job = StringIndexer(inputCol = 'Job', outputCol = 'Job_IX')\n",
    "si_Telephone = StringIndexer(inputCol = 'Telephone', outputCol = 'Telephone_IX')\n",
    "si_ForeignWorker = StringIndexer(inputCol = 'ForeignWorker', outputCol = 'ForeignWorker_IX')"
   ]
  },
  {
   "cell_type": "code",
   "execution_count": 15,
   "metadata": {
    "scrolled": true
   },
   "outputs": [],
   "source": [
    "si_Label = StringIndexer(inputCol=\"Risk\", outputCol=\"label\").fit(spark_df)\n",
    "label_converter = IndexToString(inputCol=\"prediction\", outputCol=\"predictedLabel\", labels=si_Label.labels)"
   ]
  },
  {
   "cell_type": "code",
   "execution_count": 16,
   "metadata": {
    "scrolled": true
   },
   "outputs": [],
   "source": [
    "va_features = VectorAssembler(inputCols=[\"CheckingStatus_IX\", \"CreditHistory_IX\", \"LoanPurpose_IX\", \"ExistingSavings_IX\", \"EmploymentDuration_IX\", \"Sex_IX\", \\\n",
    "                                         \"OthersOnLoan_IX\", \"OwnsProperty_IX\", \"InstallmentPlans_IX\", \"Housing_IX\", \"Job_IX\", \"Telephone_IX\", \"ForeignWorker_IX\", \\\n",
    "                                         \"LoanDuration\", \"LoanAmount\", \"InstallmentPercent\", \"CurrentResidenceDuration\", \"LoanDuration\", \"Age\", \"ExistingCreditsCount\", \\\n",
    "                                         \"Dependents\"], outputCol=\"features\")"
   ]
  },
  {
   "cell_type": "code",
   "execution_count": 17,
   "metadata": {
    "scrolled": true
   },
   "outputs": [],
   "source": [
    "from pyspark.ml.classification import RandomForestClassifier\n",
    "classifier = RandomForestClassifier(featuresCol=\"features\")\n",
    "\n",
    "pipeline = Pipeline(stages=[si_CheckingStatus, si_CreditHistory, si_EmploymentDuration, si_ExistingSavings, si_ForeignWorker, si_Housing, si_InstallmentPlans, si_Job, si_LoanPurpose, si_OthersOnLoan,\\\n",
    "                               si_OwnsProperty, si_Sex, si_Telephone, si_Label, va_features, classifier, label_converter])\n",
    "model = pipeline.fit(train_data)"
   ]
  },
  {
   "cell_type": "code",
   "execution_count": 18,
   "metadata": {
    "scrolled": true
   },
   "outputs": [
    {
     "name": "stdout",
     "output_type": "stream",
     "text": [
      "areaUnderROC = 0.715038\n"
     ]
    }
   ],
   "source": [
    "predictions = model.transform(test_data)\n",
    "evaluatorDT = BinaryClassificationEvaluator(rawPredictionCol=\"prediction\")\n",
    "area_under_curve = evaluatorDT.evaluate(predictions)\n",
    "\n",
    "#default evaluation is areaUnderROC\n",
    "print(\"areaUnderROC = %g\" % area_under_curve)"
   ]
  },
  {
   "cell_type": "markdown",
   "metadata": {},
   "source": [
    "# Save and deploy the model"
   ]
  },
  {
   "cell_type": "code",
   "execution_count": 19,
   "metadata": {
    "scrolled": true
   },
   "outputs": [
    {
     "name": "stderr",
     "output_type": "stream",
     "text": [
      "/home/spark/shared/user-libs/python3.6/sklearn/externals/joblib/__init__.py:15: DeprecationWarning: sklearn.externals.joblib is deprecated in 0.21 and will be removed in 0.23. Please import this functionality directly from joblib, which can be installed with: pip install joblib. If this warning is raised when loading pickled models, you may need to re-serialize those models with scikit-learn 0.21+.\n",
      "  warnings.warn(msg, category=DeprecationWarning)\n"
     ]
    }
   ],
   "source": [
    "from watson_machine_learning_client import WatsonMachineLearningAPIClient\n",
    "import json\n",
    "\n",
    "wml_client = WatsonMachineLearningAPIClient(WML_CREDENTIALS)"
   ]
  },
  {
   "cell_type": "markdown",
   "metadata": {},
   "source": [
    "### Remove existing model and deployment"
   ]
  },
  {
   "cell_type": "code",
   "execution_count": 20,
   "metadata": {
    "scrolled": true
   },
   "outputs": [
    {
     "name": "stdout",
     "output_type": "stream",
     "text": [
      "Deleting deployment id 789d83fb-835f-48b2-8e92-f68ba49644d3\n",
      "Deleting model id b6e3160c-e8bf-483b-b872-779bba254567\n",
      "----  ----  -------  ---------\n",
      "GUID  NAME  CREATED  FRAMEWORK\n",
      "----  ----  -------  ---------\n"
     ]
    }
   ],
   "source": [
    "model_deployment_ids = wml_client.deployments.get_uids()\n",
    "for deployment_id in model_deployment_ids:\n",
    "    deployment = wml_client.deployments.get_details(deployment_id)\n",
    "    model_id = deployment['entity']['deployable_asset']['guid']\n",
    "    if deployment['entity']['name'] == DEPLOYMENT_NAME:\n",
    "        print('Deleting deployment id', deployment_id)\n",
    "        wml_client.deployments.delete(deployment_id)\n",
    "        print('Deleting model id', model_id)\n",
    "        wml_client.repository.delete(model_id)\n",
    "wml_client.repository.list_models()"
   ]
  },
  {
   "cell_type": "code",
   "execution_count": 21,
   "metadata": {
    "scrolled": true
   },
   "outputs": [],
   "source": [
    "model_props = {\n",
    "    wml_client.repository.ModelMetaNames.NAME: \"{}\".format(MODEL_NAME),\n",
    "    wml_client.repository.ModelMetaNames.EVALUATION_METHOD: \"binary\",\n",
    "    wml_client.repository.ModelMetaNames.EVALUATION_METRICS: [\n",
    "        {\n",
    "           \"name\": \"areaUnderROC\",\n",
    "           \"value\": area_under_curve,\n",
    "           \"threshold\": 0.7\n",
    "        }\n",
    "    ]\n",
    "}"
   ]
  },
  {
   "cell_type": "code",
   "execution_count": 22,
   "metadata": {
    "scrolled": true
   },
   "outputs": [
    {
     "name": "stdout",
     "output_type": "stream",
     "text": [
      "Storing model ...\n",
      "Done\n"
     ]
    }
   ],
   "source": [
    "wml_models = wml_client.repository.get_details()\n",
    "model_uid = None\n",
    "for model_in in wml_models['models']['resources']:\n",
    "    if MODEL_NAME == model_in['entity']['name']:\n",
    "        model_uid = model_in['metadata']['guid']\n",
    "        break\n",
    "\n",
    "if model_uid is None:\n",
    "    print(\"Storing model ...\")\n",
    "\n",
    "    published_model_details = wml_client.repository.store_model(model=model, meta_props=model_props, training_data=train_data, pipeline=pipeline)\n",
    "    model_uid = wml_client.repository.get_model_uid(published_model_details)\n",
    "    print(\"Done\")"
   ]
  },
  {
   "cell_type": "code",
   "execution_count": 23,
   "metadata": {
    "scrolled": true
   },
   "outputs": [
    {
     "data": {
      "text/plain": [
       "'bcf1e2e9-dbe9-4472-8ea4-12c35d224bf3'"
      ]
     },
     "execution_count": 23,
     "metadata": {},
     "output_type": "execute_result"
    }
   ],
   "source": [
    "model_uid"
   ]
  },
  {
   "cell_type": "code",
   "execution_count": 24,
   "metadata": {
    "scrolled": true
   },
   "outputs": [
    {
     "name": "stdout",
     "output_type": "stream",
     "text": [
      "Deploying model...\n",
      "\n",
      "\n",
      "#######################################################################################\n",
      "\n",
      "Synchronous deployment creation for uid: 'bcf1e2e9-dbe9-4472-8ea4-12c35d224bf3' started\n",
      "\n",
      "#######################################################################################\n",
      "\n",
      "\n",
      "INITIALIZING\n",
      "DEPLOY_SUCCESS\n",
      "\n",
      "\n",
      "------------------------------------------------------------------------------------------------\n",
      "Successfully finished deployment creation, deployment_uid='7e239392-4ffc-42a7-aa0a-837519e53449'\n",
      "------------------------------------------------------------------------------------------------\n",
      "\n",
      "\n",
      "Model id: bcf1e2e9-dbe9-4472-8ea4-12c35d224bf3\n",
      "Deployment id: 7e239392-4ffc-42a7-aa0a-837519e53449\n"
     ]
    }
   ],
   "source": [
    "wml_deployments = wml_client.deployments.get_details()\n",
    "deployment_uid = None\n",
    "for deployment in wml_deployments['resources']:\n",
    "    if DEPLOYMENT_NAME == deployment['entity']['name']:\n",
    "        deployment_uid = deployment['metadata']['guid']\n",
    "        break\n",
    "\n",
    "if deployment_uid is None:\n",
    "    print(\"Deploying model...\")\n",
    "\n",
    "    deployment = wml_client.deployments.create(artifact_uid=model_uid, name=DEPLOYMENT_NAME, asynchronous=False)\n",
    "    deployment_uid = wml_client.deployments.get_uid(deployment)\n",
    "    \n",
    "print(\"Model id: {}\".format(model_uid))\n",
    "print(\"Deployment id: {}\".format(deployment_uid))"
   ]
  },
  {
   "cell_type": "markdown",
   "metadata": {},
   "source": [
    "# Configure OpenScale"
   ]
  },
  {
   "cell_type": "code",
   "execution_count": 25,
   "metadata": {
    "scrolled": true
   },
   "outputs": [],
   "source": [
    "from ibm_ai_openscale import APIClient\n",
    "from ibm_ai_openscale.engines import *\n",
    "from ibm_ai_openscale.utils import *\n",
    "from ibm_ai_openscale.supporting_classes import PayloadRecord, Feature\n",
    "from ibm_ai_openscale.supporting_classes.enums import *"
   ]
  },
  {
   "cell_type": "markdown",
   "metadata": {},
   "source": [
    "## Create schema and datamart"
   ]
  },
  {
   "cell_type": "code",
   "execution_count": 26,
   "metadata": {
    "scrolled": true
   },
   "outputs": [
    {
     "data": {
      "text/plain": [
       "'2.1.17'"
      ]
     },
     "execution_count": 26,
     "metadata": {},
     "output_type": "execute_result"
    }
   ],
   "source": [
    "ai_client = APIClient(aios_credentials=AIOS_CREDENTIALS)\n",
    "ai_client.version"
   ]
  },
  {
   "cell_type": "markdown",
   "metadata": {},
   "source": [
    "#### Note: to delete an existing data_mart, uncomment the next cell and run it."
   ]
  },
  {
   "cell_type": "code",
   "execution_count": null,
   "metadata": {},
   "outputs": [],
   "source": [
    "#ai_client.data_mart.delete()"
   ]
  },
  {
   "cell_type": "markdown",
   "metadata": {},
   "source": [
    "### Set up datamart"
   ]
  },
  {
   "cell_type": "code",
   "execution_count": 27,
   "metadata": {},
   "outputs": [
    {
     "name": "stdout",
     "output_type": "stream",
     "text": [
      "Using existing internal datamart.\n"
     ]
    }
   ],
   "source": [
    "try:\n",
    "    data_mart_details = ai_client.data_mart.get_details()\n",
    "    if 'internal_database' in data_mart_details and data_mart_details['internal_database']:\n",
    "        if KEEP_MY_INTERNAL_POSTGRES:\n",
    "            print('Using existing internal datamart.')\n",
    "        else:\n",
    "            if DB_CREDENTIALS is None:\n",
    "                print('No postgres credentials supplied. Using existing internal datamart')\n",
    "            else:\n",
    "                print('Switching to external datamart')\n",
    "                ai_client.data_mart.delete(force=True)\n",
    "                ai_client.data_mart.setup(db_credentials=DB_CREDENTIALS)\n",
    "    else:\n",
    "        print('Using existing external datamart')\n",
    "except:\n",
    "    if DB_CREDENTIALS is None:\n",
    "        print('Setting up internal datamart')\n",
    "        ai_client.data_mart.setup(internal_db=True)\n",
    "    else:\n",
    "        print('Setting up external datamart')\n",
    "        try:\n",
    "            ai_client.data_mart.setup(db_credentials=DB_CREDENTIALS)\n",
    "        except:\n",
    "            print('Setup failed, trying Db2 setup')\n",
    "            ai_client.data_mart.setup(db_credentials=DB_CREDENTIALS, schema=DB_CREDENTIALS['username'])"
   ]
  },
  {
   "cell_type": "code",
   "execution_count": 28,
   "metadata": {
    "scrolled": true
   },
   "outputs": [
    {
     "data": {
      "text/plain": [
       "{'database_configuration': {},\n",
       " 'internal_database': True,\n",
       " 'internal_database_pool': 'icd-psql',\n",
       " 'service_instance_crn': 'crn:v1:bluemix:public:aiopenscale:us-south:a/46816354d9cb773bae86c226aa74c8cc:f94e20cb-aa92-4636-97ce-08de6b714d02::',\n",
       " 'status': {'state': 'active'}}"
      ]
     },
     "execution_count": 28,
     "metadata": {},
     "output_type": "execute_result"
    }
   ],
   "source": [
    "data_mart_details = ai_client.data_mart.get_details()\n",
    "data_mart_details"
   ]
  },
  {
   "cell_type": "markdown",
   "metadata": {},
   "source": [
    "## Bind machine learning engines"
   ]
  },
  {
   "cell_type": "code",
   "execution_count": 29,
   "metadata": {
    "scrolled": false
   },
   "outputs": [
    {
     "name": "stdout",
     "output_type": "stream",
     "text": [
      "Warning during bind instance.\n",
      "Status code: 409, body: {\"errors\":[{\"code\":\"AIQCS0010W\",\"message\":\"Service Binding with this id is already defined\"}],\"trace\":\"YzZmNTdjY2YtYjExZS00NzFmLTk5ZjUtYzVhOGUxNjIzZjlh\"}\n"
     ]
    },
    {
     "data": {
      "text/html": [
       "<HTML>\n",
       "        <body>\n",
       "            <h3>Service bindings</h3>\n",
       "            <table style='border: 1px solid #dddddd; font-family: Courier'>\n",
       "                <th style='border: 1px solid #dddddd'>uid</th><th style='border: 1px solid #dddddd'>name</th><th style='border: 1px solid #dddddd'>service_type</th><th style='border: 1px solid #dddddd'>created</th>\n",
       "                <tr><td style='border: 1px solid #dddddd'>df9e2b21-7bf6-4281-b736-8d3c1f41efea</td><td style='border: 1px solid #dddddd'>WML instance</td><td style='border: 1px solid #dddddd'>watson_machine_learning</td><td style='border: 1px solid #dddddd'>2019-10-09T19:03:15.291Z</td></tr>\n",
       "            </table>\n",
       "        </body>\n",
       "        </HTML>"
      ],
      "text/plain": [
       "<IPython.core.display.HTML object>"
      ]
     },
     "metadata": {},
     "output_type": "display_data"
    }
   ],
   "source": [
    "binding_uid = ai_client.data_mart.bindings.add('WML instance', WatsonMachineLearningInstance(WML_CREDENTIALS))\n",
    "if binding_uid is None:\n",
    "    binding_uid = ai_client.data_mart.bindings.get_details()['service_bindings'][0]['metadata']['guid']\n",
    "bindings_details = ai_client.data_mart.bindings.get_details()\n",
    "ai_client.data_mart.bindings.list()"
   ]
  },
  {
   "cell_type": "code",
   "execution_count": 30,
   "metadata": {
    "scrolled": true
   },
   "outputs": [
    {
     "name": "stdout",
     "output_type": "stream",
     "text": [
      "df9e2b21-7bf6-4281-b736-8d3c1f41efea\n"
     ]
    }
   ],
   "source": [
    "print(binding_uid)"
   ]
  },
  {
   "cell_type": "code",
   "execution_count": 31,
   "metadata": {
    "scrolled": false
   },
   "outputs": [
    {
     "data": {
      "text/html": [
       "<HTML>\n",
       "        <body>\n",
       "            <h3>Available assets</h3>\n",
       "            <table style='border: 1px solid #dddddd; font-family: Courier'>\n",
       "                <th style='border: 1px solid #dddddd'>source_uid</th><th style='border: 1px solid #dddddd'>name</th><th style='border: 1px solid #dddddd'>created</th><th style='border: 1px solid #dddddd'>type</th><th style='border: 1px solid #dddddd'>frameworks</th><th style='border: 1px solid #dddddd'>binding_uid</th><th style='border: 1px solid #dddddd'>is_subscribed</th>\n",
       "                <tr><td style='border: 1px solid #dddddd'>bcf1e2e9-dbe9-4472-8ea4-12c35d224bf3</td><td style='border: 1px solid #dddddd'>Spark German Risk Model - Final</td><td style='border: 1px solid #dddddd'>2019-10-10T13:52:46.781Z</td><td style='border: 1px solid #dddddd'>model</td><td style='border: 1px solid #dddddd'>mllib-2.3</td><td style='border: 1px solid #dddddd'>df9e2b21-7bf6-4281-b736-8d3c1f41efea</td><td style='border: 1px solid #dddddd'>False</td></tr>\n",
       "            </table>\n",
       "        </body>\n",
       "        </HTML>"
      ],
      "text/plain": [
       "<IPython.core.display.HTML object>"
      ]
     },
     "metadata": {},
     "output_type": "display_data"
    }
   ],
   "source": [
    "ai_client.data_mart.bindings.list_assets()"
   ]
  },
  {
   "cell_type": "markdown",
   "metadata": {},
   "source": [
    "## Subscriptions"
   ]
  },
  {
   "cell_type": "markdown",
   "metadata": {},
   "source": [
    "### Remove existing credit risk subscriptions"
   ]
  },
  {
   "cell_type": "code",
   "execution_count": 32,
   "metadata": {
    "scrolled": true
   },
   "outputs": [
    {
     "name": "stdout",
     "output_type": "stream",
     "text": [
      "Deleted existing subscription for Spark German Risk Model - Final\n"
     ]
    }
   ],
   "source": [
    "subscriptions_uids = ai_client.data_mart.subscriptions.get_uids()\n",
    "for subscription in subscriptions_uids:\n",
    "    sub_name = ai_client.data_mart.subscriptions.get_details(subscription)['entity']['asset']['name']\n",
    "    if sub_name == MODEL_NAME:\n",
    "        ai_client.data_mart.subscriptions.delete(subscription)\n",
    "        print('Deleted existing subscription for', MODEL_NAME)"
   ]
  },
  {
   "cell_type": "code",
   "execution_count": 33,
   "metadata": {
    "scrolled": false
   },
   "outputs": [],
   "source": [
    "subscription = ai_client.data_mart.subscriptions.add(WatsonMachineLearningAsset(\n",
    "    model_uid,\n",
    "    problem_type=ProblemType.BINARY_CLASSIFICATION,\n",
    "    input_data_type=InputDataType.STRUCTURED,\n",
    "    label_column='Risk',\n",
    "    prediction_column='predictedLabel',\n",
    "    probability_column='probability',\n",
    "    feature_columns = [\"CheckingStatus\",\"LoanDuration\",\"CreditHistory\",\"LoanPurpose\",\"LoanAmount\",\"ExistingSavings\",\"EmploymentDuration\",\"InstallmentPercent\",\"Sex\",\"OthersOnLoan\",\"CurrentResidenceDuration\",\"OwnsProperty\",\"Age\",\"InstallmentPlans\",\"Housing\",\"ExistingCreditsCount\",\"Job\",\"Dependents\",\"Telephone\",\"ForeignWorker\"],\n",
    "    categorical_columns = [\"CheckingStatus\",\"CreditHistory\",\"LoanPurpose\",\"ExistingSavings\",\"EmploymentDuration\",\"Sex\",\"OthersOnLoan\",\"OwnsProperty\",\"InstallmentPlans\",\"Housing\",\"Job\",\"Telephone\",\"ForeignWorker\"]\n",
    "))\n",
    "\n",
    "if subscription is None:\n",
    "    print('Subscription already exists; get the existing one')\n",
    "    subscriptions_uids = ai_client.data_mart.subscriptions.get_uids()\n",
    "    for sub in subscriptions_uids:\n",
    "        if ai_client.data_mart.subscriptions.get_details(sub)['entity']['asset']['name'] == MODEL_NAME:\n",
    "            subscription = ai_client.data_mart.subscriptions.get(sub)"
   ]
  },
  {
   "cell_type": "markdown",
   "metadata": {},
   "source": [
    "Get subscription list"
   ]
  },
  {
   "cell_type": "code",
   "execution_count": 34,
   "metadata": {
    "scrolled": true
   },
   "outputs": [
    {
     "data": {
      "text/html": [
       "<HTML>\n",
       "        <body>\n",
       "            <h3>Subscriptions</h3>\n",
       "            <table style='border: 1px solid #dddddd; font-family: Courier'>\n",
       "                <th style='border: 1px solid #dddddd'>uid</th><th style='border: 1px solid #dddddd'>name</th><th style='border: 1px solid #dddddd'>type</th><th style='border: 1px solid #dddddd'>binding_uid</th><th style='border: 1px solid #dddddd'>created</th>\n",
       "                <tr><td style='border: 1px solid #dddddd'>b41ffa0c-506f-441c-813a-b1c83e1c844b</td><td style='border: 1px solid #dddddd'>Spark German Risk Model - Final</td><td style='border: 1px solid #dddddd'>model</td><td style='border: 1px solid #dddddd'>df9e2b21-7bf6-4281-b736-8d3c1f41efea</td><td style='border: 1px solid #dddddd'>2019-10-10T13:53:39.384Z</td></tr>\n",
       "            </table>\n",
       "        </body>\n",
       "        </HTML>"
      ],
      "text/plain": [
       "<IPython.core.display.HTML object>"
      ]
     },
     "metadata": {},
     "output_type": "display_data"
    }
   ],
   "source": [
    "subscriptions_uids = ai_client.data_mart.subscriptions.get_uids()\n",
    "ai_client.data_mart.subscriptions.list()"
   ]
  },
  {
   "cell_type": "code",
   "execution_count": 35,
   "metadata": {
    "scrolled": false
   },
   "outputs": [
    {
     "data": {
      "text/plain": [
       "{'entity': {'asset': {'asset_id': 'bcf1e2e9-dbe9-4472-8ea4-12c35d224bf3',\n",
       "   'asset_type': 'model',\n",
       "   'created_at': '2019-10-10T13:52:46.781Z',\n",
       "   'name': 'Spark German Risk Model - Final',\n",
       "   'url': 'https://us-south.ml.cloud.ibm.com/v3/wml_instances/df9e2b21-7bf6-4281-b736-8d3c1f41efea/published_models/bcf1e2e9-dbe9-4472-8ea4-12c35d224bf3'},\n",
       "  'asset_properties': {'categorical_fields': ['CheckingStatus',\n",
       "    'CreditHistory',\n",
       "    'LoanPurpose',\n",
       "    'ExistingSavings',\n",
       "    'EmploymentDuration',\n",
       "    'Sex',\n",
       "    'OthersOnLoan',\n",
       "    'OwnsProperty',\n",
       "    'InstallmentPlans',\n",
       "    'Housing',\n",
       "    'Job',\n",
       "    'Telephone',\n",
       "    'ForeignWorker'],\n",
       "   'feature_fields': ['CheckingStatus',\n",
       "    'LoanDuration',\n",
       "    'CreditHistory',\n",
       "    'LoanPurpose',\n",
       "    'LoanAmount',\n",
       "    'ExistingSavings',\n",
       "    'EmploymentDuration',\n",
       "    'InstallmentPercent',\n",
       "    'Sex',\n",
       "    'OthersOnLoan',\n",
       "    'CurrentResidenceDuration',\n",
       "    'OwnsProperty',\n",
       "    'Age',\n",
       "    'InstallmentPlans',\n",
       "    'Housing',\n",
       "    'ExistingCreditsCount',\n",
       "    'Job',\n",
       "    'Dependents',\n",
       "    'Telephone',\n",
       "    'ForeignWorker'],\n",
       "   'input_data_schema': {'fields': [{'metadata': {'measure': 'discrete',\n",
       "       'modeling_role': 'feature'},\n",
       "      'name': 'CheckingStatus',\n",
       "      'nullable': True,\n",
       "      'type': 'string'},\n",
       "     {'metadata': {'modeling_role': 'feature'},\n",
       "      'name': 'LoanDuration',\n",
       "      'nullable': True,\n",
       "      'type': 'integer'},\n",
       "     {'metadata': {'measure': 'discrete', 'modeling_role': 'feature'},\n",
       "      'name': 'CreditHistory',\n",
       "      'nullable': True,\n",
       "      'type': 'string'},\n",
       "     {'metadata': {'measure': 'discrete', 'modeling_role': 'feature'},\n",
       "      'name': 'LoanPurpose',\n",
       "      'nullable': True,\n",
       "      'type': 'string'},\n",
       "     {'metadata': {'modeling_role': 'feature'},\n",
       "      'name': 'LoanAmount',\n",
       "      'nullable': True,\n",
       "      'type': 'integer'},\n",
       "     {'metadata': {'measure': 'discrete', 'modeling_role': 'feature'},\n",
       "      'name': 'ExistingSavings',\n",
       "      'nullable': True,\n",
       "      'type': 'string'},\n",
       "     {'metadata': {'measure': 'discrete', 'modeling_role': 'feature'},\n",
       "      'name': 'EmploymentDuration',\n",
       "      'nullable': True,\n",
       "      'type': 'string'},\n",
       "     {'metadata': {'modeling_role': 'feature'},\n",
       "      'name': 'InstallmentPercent',\n",
       "      'nullable': True,\n",
       "      'type': 'integer'},\n",
       "     {'metadata': {'measure': 'discrete', 'modeling_role': 'feature'},\n",
       "      'name': 'Sex',\n",
       "      'nullable': True,\n",
       "      'type': 'string'},\n",
       "     {'metadata': {'measure': 'discrete', 'modeling_role': 'feature'},\n",
       "      'name': 'OthersOnLoan',\n",
       "      'nullable': True,\n",
       "      'type': 'string'},\n",
       "     {'metadata': {'modeling_role': 'feature'},\n",
       "      'name': 'CurrentResidenceDuration',\n",
       "      'nullable': True,\n",
       "      'type': 'integer'},\n",
       "     {'metadata': {'measure': 'discrete', 'modeling_role': 'feature'},\n",
       "      'name': 'OwnsProperty',\n",
       "      'nullable': True,\n",
       "      'type': 'string'},\n",
       "     {'metadata': {'modeling_role': 'feature'},\n",
       "      'name': 'Age',\n",
       "      'nullable': True,\n",
       "      'type': 'integer'},\n",
       "     {'metadata': {'measure': 'discrete', 'modeling_role': 'feature'},\n",
       "      'name': 'InstallmentPlans',\n",
       "      'nullable': True,\n",
       "      'type': 'string'},\n",
       "     {'metadata': {'measure': 'discrete', 'modeling_role': 'feature'},\n",
       "      'name': 'Housing',\n",
       "      'nullable': True,\n",
       "      'type': 'string'},\n",
       "     {'metadata': {'modeling_role': 'feature'},\n",
       "      'name': 'ExistingCreditsCount',\n",
       "      'nullable': True,\n",
       "      'type': 'integer'},\n",
       "     {'metadata': {'measure': 'discrete', 'modeling_role': 'feature'},\n",
       "      'name': 'Job',\n",
       "      'nullable': True,\n",
       "      'type': 'string'},\n",
       "     {'metadata': {'modeling_role': 'feature'},\n",
       "      'name': 'Dependents',\n",
       "      'nullable': True,\n",
       "      'type': 'integer'},\n",
       "     {'metadata': {'measure': 'discrete', 'modeling_role': 'feature'},\n",
       "      'name': 'Telephone',\n",
       "      'nullable': True,\n",
       "      'type': 'string'},\n",
       "     {'metadata': {'measure': 'discrete', 'modeling_role': 'feature'},\n",
       "      'name': 'ForeignWorker',\n",
       "      'nullable': True,\n",
       "      'type': 'string'}],\n",
       "    'type': 'struct'},\n",
       "   'input_data_type': 'structured',\n",
       "   'label_column': 'Risk',\n",
       "   'model_type': 'mllib-2.3',\n",
       "   'output_data_schema': {'fields': [{'metadata': {'measure': 'discrete',\n",
       "       'modeling_role': 'feature'},\n",
       "      'name': 'CheckingStatus',\n",
       "      'nullable': True,\n",
       "      'type': 'string'},\n",
       "     {'metadata': {'modeling_role': 'feature'},\n",
       "      'name': 'LoanDuration',\n",
       "      'nullable': True,\n",
       "      'type': 'integer'},\n",
       "     {'metadata': {'measure': 'discrete', 'modeling_role': 'feature'},\n",
       "      'name': 'CreditHistory',\n",
       "      'nullable': True,\n",
       "      'type': 'string'},\n",
       "     {'metadata': {'measure': 'discrete', 'modeling_role': 'feature'},\n",
       "      'name': 'LoanPurpose',\n",
       "      'nullable': True,\n",
       "      'type': 'string'},\n",
       "     {'metadata': {'modeling_role': 'feature'},\n",
       "      'name': 'LoanAmount',\n",
       "      'nullable': True,\n",
       "      'type': 'integer'},\n",
       "     {'metadata': {'measure': 'discrete', 'modeling_role': 'feature'},\n",
       "      'name': 'ExistingSavings',\n",
       "      'nullable': True,\n",
       "      'type': 'string'},\n",
       "     {'metadata': {'measure': 'discrete', 'modeling_role': 'feature'},\n",
       "      'name': 'EmploymentDuration',\n",
       "      'nullable': True,\n",
       "      'type': 'string'},\n",
       "     {'metadata': {'modeling_role': 'feature'},\n",
       "      'name': 'InstallmentPercent',\n",
       "      'nullable': True,\n",
       "      'type': 'integer'},\n",
       "     {'metadata': {'measure': 'discrete', 'modeling_role': 'feature'},\n",
       "      'name': 'Sex',\n",
       "      'nullable': True,\n",
       "      'type': 'string'},\n",
       "     {'metadata': {'measure': 'discrete', 'modeling_role': 'feature'},\n",
       "      'name': 'OthersOnLoan',\n",
       "      'nullable': True,\n",
       "      'type': 'string'},\n",
       "     {'metadata': {'modeling_role': 'feature'},\n",
       "      'name': 'CurrentResidenceDuration',\n",
       "      'nullable': True,\n",
       "      'type': 'integer'},\n",
       "     {'metadata': {'measure': 'discrete', 'modeling_role': 'feature'},\n",
       "      'name': 'OwnsProperty',\n",
       "      'nullable': True,\n",
       "      'type': 'string'},\n",
       "     {'metadata': {'modeling_role': 'feature'},\n",
       "      'name': 'Age',\n",
       "      'nullable': True,\n",
       "      'type': 'integer'},\n",
       "     {'metadata': {'measure': 'discrete', 'modeling_role': 'feature'},\n",
       "      'name': 'InstallmentPlans',\n",
       "      'nullable': True,\n",
       "      'type': 'string'},\n",
       "     {'metadata': {'measure': 'discrete', 'modeling_role': 'feature'},\n",
       "      'name': 'Housing',\n",
       "      'nullable': True,\n",
       "      'type': 'string'},\n",
       "     {'metadata': {'modeling_role': 'feature'},\n",
       "      'name': 'ExistingCreditsCount',\n",
       "      'nullable': True,\n",
       "      'type': 'integer'},\n",
       "     {'metadata': {'measure': 'discrete', 'modeling_role': 'feature'},\n",
       "      'name': 'Job',\n",
       "      'nullable': True,\n",
       "      'type': 'string'},\n",
       "     {'metadata': {'modeling_role': 'feature'},\n",
       "      'name': 'Dependents',\n",
       "      'nullable': True,\n",
       "      'type': 'integer'},\n",
       "     {'metadata': {'measure': 'discrete', 'modeling_role': 'feature'},\n",
       "      'name': 'Telephone',\n",
       "      'nullable': True,\n",
       "      'type': 'string'},\n",
       "     {'metadata': {'measure': 'discrete', 'modeling_role': 'feature'},\n",
       "      'name': 'ForeignWorker',\n",
       "      'nullable': True,\n",
       "      'type': 'string'},\n",
       "     {'metadata': {},\n",
       "      'name': 'prediction',\n",
       "      'nullable': True,\n",
       "      'type': 'double'},\n",
       "     {'metadata': {'modeling_role': 'probability'},\n",
       "      'name': 'probability',\n",
       "      'nullable': True,\n",
       "      'type': {'containsNull': True,\n",
       "       'elementType': 'double',\n",
       "       'type': 'array'}},\n",
       "     {'metadata': {'modeling_role': 'debiased-prediction'},\n",
       "      'name': 'debiased_prediction',\n",
       "      'nullable': True,\n",
       "      'type': 'double'},\n",
       "     {'metadata': {'modeling_role': 'debiased-probability'},\n",
       "      'name': 'debiased_probability',\n",
       "      'nullable': True,\n",
       "      'type': {'containsNull': True,\n",
       "       'elementType': 'double',\n",
       "       'type': 'array'}},\n",
       "     {'metadata': {'modeling_role': 'prediction-probability'},\n",
       "      'name': 'prediction_probability',\n",
       "      'nullable': True,\n",
       "      'type': 'double'}],\n",
       "    'type': 'struct'},\n",
       "   'prediction_field': 'predictedLabel',\n",
       "   'probability_fields': ['probability'],\n",
       "   'problem_type': 'binary',\n",
       "   'runtime_environment': 'spark-2.3',\n",
       "   'training_data_schema': {'fields': [{'metadata': {'measure': 'discrete',\n",
       "       'modeling_role': 'feature'},\n",
       "      'name': 'CheckingStatus',\n",
       "      'nullable': True,\n",
       "      'type': 'string'},\n",
       "     {'metadata': {'modeling_role': 'feature'},\n",
       "      'name': 'LoanDuration',\n",
       "      'nullable': True,\n",
       "      'type': 'integer'},\n",
       "     {'metadata': {'measure': 'discrete', 'modeling_role': 'feature'},\n",
       "      'name': 'CreditHistory',\n",
       "      'nullable': True,\n",
       "      'type': 'string'},\n",
       "     {'metadata': {'measure': 'discrete', 'modeling_role': 'feature'},\n",
       "      'name': 'LoanPurpose',\n",
       "      'nullable': True,\n",
       "      'type': 'string'},\n",
       "     {'metadata': {'modeling_role': 'feature'},\n",
       "      'name': 'LoanAmount',\n",
       "      'nullable': True,\n",
       "      'type': 'integer'},\n",
       "     {'metadata': {'measure': 'discrete', 'modeling_role': 'feature'},\n",
       "      'name': 'ExistingSavings',\n",
       "      'nullable': True,\n",
       "      'type': 'string'},\n",
       "     {'metadata': {'measure': 'discrete', 'modeling_role': 'feature'},\n",
       "      'name': 'EmploymentDuration',\n",
       "      'nullable': True,\n",
       "      'type': 'string'},\n",
       "     {'metadata': {'modeling_role': 'feature'},\n",
       "      'name': 'InstallmentPercent',\n",
       "      'nullable': True,\n",
       "      'type': 'integer'},\n",
       "     {'metadata': {'measure': 'discrete', 'modeling_role': 'feature'},\n",
       "      'name': 'Sex',\n",
       "      'nullable': True,\n",
       "      'type': 'string'},\n",
       "     {'metadata': {'measure': 'discrete', 'modeling_role': 'feature'},\n",
       "      'name': 'OthersOnLoan',\n",
       "      'nullable': True,\n",
       "      'type': 'string'},\n",
       "     {'metadata': {'modeling_role': 'feature'},\n",
       "      'name': 'CurrentResidenceDuration',\n",
       "      'nullable': True,\n",
       "      'type': 'integer'},\n",
       "     {'metadata': {'measure': 'discrete', 'modeling_role': 'feature'},\n",
       "      'name': 'OwnsProperty',\n",
       "      'nullable': True,\n",
       "      'type': 'string'},\n",
       "     {'metadata': {'modeling_role': 'feature'},\n",
       "      'name': 'Age',\n",
       "      'nullable': True,\n",
       "      'type': 'integer'},\n",
       "     {'metadata': {'measure': 'discrete', 'modeling_role': 'feature'},\n",
       "      'name': 'InstallmentPlans',\n",
       "      'nullable': True,\n",
       "      'type': 'string'},\n",
       "     {'metadata': {'measure': 'discrete', 'modeling_role': 'feature'},\n",
       "      'name': 'Housing',\n",
       "      'nullable': True,\n",
       "      'type': 'string'},\n",
       "     {'metadata': {'modeling_role': 'feature'},\n",
       "      'name': 'ExistingCreditsCount',\n",
       "      'nullable': True,\n",
       "      'type': 'integer'},\n",
       "     {'metadata': {'measure': 'discrete', 'modeling_role': 'feature'},\n",
       "      'name': 'Job',\n",
       "      'nullable': True,\n",
       "      'type': 'string'},\n",
       "     {'metadata': {'modeling_role': 'feature'},\n",
       "      'name': 'Dependents',\n",
       "      'nullable': True,\n",
       "      'type': 'integer'},\n",
       "     {'metadata': {'measure': 'discrete', 'modeling_role': 'feature'},\n",
       "      'name': 'Telephone',\n",
       "      'nullable': True,\n",
       "      'type': 'string'},\n",
       "     {'metadata': {'measure': 'discrete', 'modeling_role': 'feature'},\n",
       "      'name': 'ForeignWorker',\n",
       "      'nullable': True,\n",
       "      'type': 'string'},\n",
       "     {'metadata': {'modeling_role': 'target'},\n",
       "      'name': 'Risk',\n",
       "      'nullable': True,\n",
       "      'type': 'string'}],\n",
       "    'type': 'struct'}},\n",
       "  'configurations': [{'enabled': True,\n",
       "    'monitor_definition_id': 'payload_logging',\n",
       "    'type': 'payload_logging',\n",
       "    'url': '/v1/data_marts/f94e20cb-aa92-4636-97ce-08de6b714d02/service_bindings/df9e2b21-7bf6-4281-b736-8d3c1f41efea/subscriptions/b41ffa0c-506f-441c-813a-b1c83e1c844b/configurations/payload_logging'},\n",
       "   {'enabled': False,\n",
       "    'monitor_definition_id': 'explainability',\n",
       "    'type': 'explainability',\n",
       "    'url': '/v1/data_marts/f94e20cb-aa92-4636-97ce-08de6b714d02/service_bindings/df9e2b21-7bf6-4281-b736-8d3c1f41efea/subscriptions/b41ffa0c-506f-441c-813a-b1c83e1c844b/configurations/explainability'},\n",
       "   {'enabled': True,\n",
       "    'monitor_definition_id': 'performance_monitoring',\n",
       "    'type': 'performance_monitoring',\n",
       "    'url': '/v1/data_marts/f94e20cb-aa92-4636-97ce-08de6b714d02/service_bindings/df9e2b21-7bf6-4281-b736-8d3c1f41efea/subscriptions/b41ffa0c-506f-441c-813a-b1c83e1c844b/configurations/performance_monitoring'},\n",
       "   {'enabled': False,\n",
       "    'monitor_definition_id': 'fairness_monitoring',\n",
       "    'type': 'fairness_monitoring',\n",
       "    'url': '/v1/data_marts/f94e20cb-aa92-4636-97ce-08de6b714d02/service_bindings/df9e2b21-7bf6-4281-b736-8d3c1f41efea/subscriptions/b41ffa0c-506f-441c-813a-b1c83e1c844b/configurations/fairness_monitoring'},\n",
       "   {'enabled': False,\n",
       "    'monitor_definition_id': 'correlations',\n",
       "    'type': 'correlations',\n",
       "    'url': '/v1/data_marts/f94e20cb-aa92-4636-97ce-08de6b714d02/service_bindings/df9e2b21-7bf6-4281-b736-8d3c1f41efea/subscriptions/b41ffa0c-506f-441c-813a-b1c83e1c844b/configurations/correlations'},\n",
       "   {'enabled': False,\n",
       "    'monitor_definition_id': 'drift',\n",
       "    'type': 'drift',\n",
       "    'url': '/v1/data_marts/f94e20cb-aa92-4636-97ce-08de6b714d02/service_bindings/df9e2b21-7bf6-4281-b736-8d3c1f41efea/subscriptions/b41ffa0c-506f-441c-813a-b1c83e1c844b/configurations/drift'},\n",
       "   {'enabled': False,\n",
       "    'monitor_definition_id': 'quality',\n",
       "    'type': 'quality_monitoring',\n",
       "    'url': '/v1/data_marts/f94e20cb-aa92-4636-97ce-08de6b714d02/service_bindings/df9e2b21-7bf6-4281-b736-8d3c1f41efea/subscriptions/b41ffa0c-506f-441c-813a-b1c83e1c844b/configurations/quality'}],\n",
       "  'deployments': [{'created_at': '2019-10-10T13:52:46.805Z',\n",
       "    'deployment_id': '7e239392-4ffc-42a7-aa0a-837519e53449',\n",
       "    'deployment_rn': '',\n",
       "    'deployment_type': 'online',\n",
       "    'name': 'Spark German Risk Deployment - Final',\n",
       "    'scoring_endpoint': {'request_headers': {'Content-Type': 'application/json'},\n",
       "     'url': 'https://us-south.ml.cloud.ibm.com/v3/wml_instances/df9e2b21-7bf6-4281-b736-8d3c1f41efea/deployments/7e239392-4ffc-42a7-aa0a-837519e53449/online'},\n",
       "    'url': 'https://us-south.ml.cloud.ibm.com/v3/wml_instances/df9e2b21-7bf6-4281-b736-8d3c1f41efea/deployments/7e239392-4ffc-42a7-aa0a-837519e53449'}],\n",
       "  'service_binding_id': 'df9e2b21-7bf6-4281-b736-8d3c1f41efea',\n",
       "  'status': {'state': 'active'}},\n",
       " 'metadata': {'guid': 'b41ffa0c-506f-441c-813a-b1c83e1c844b',\n",
       "  'url': '/v1/data_marts/f94e20cb-aa92-4636-97ce-08de6b714d02/service_bindings/df9e2b21-7bf6-4281-b736-8d3c1f41efea/subscriptions/b41ffa0c-506f-441c-813a-b1c83e1c844b',\n",
       "  'created_at': '2019-10-10T13:53:39.384Z',\n",
       "  'modified_at': '2019-10-10T13:53:40.758Z'}}"
      ]
     },
     "execution_count": 35,
     "metadata": {},
     "output_type": "execute_result"
    }
   ],
   "source": [
    "subscription.get_details()"
   ]
  },
  {
   "cell_type": "markdown",
   "metadata": {},
   "source": [
    "### Score the model so we can configure monitors"
   ]
  },
  {
   "cell_type": "code",
   "execution_count": 36,
   "metadata": {
    "scrolled": true
   },
   "outputs": [
    {
     "name": "stdout",
     "output_type": "stream",
     "text": [
      "7e239392-4ffc-42a7-aa0a-837519e53449\n",
      "https://us-south.ml.cloud.ibm.com/v3/wml_instances/df9e2b21-7bf6-4281-b736-8d3c1f41efea/deployments/7e239392-4ffc-42a7-aa0a-837519e53449/online\n"
     ]
    }
   ],
   "source": [
    "credit_risk_scoring_endpoint = None\n",
    "print(deployment_uid)\n",
    "\n",
    "for deployment in wml_client.deployments.get_details()['resources']:\n",
    "    if deployment_uid in deployment['metadata']['guid']:\n",
    "        credit_risk_scoring_endpoint = deployment['entity']['scoring_url']\n",
    "        \n",
    "print(credit_risk_scoring_endpoint)"
   ]
  },
  {
   "cell_type": "code",
   "execution_count": 37,
   "metadata": {
    "scrolled": true
   },
   "outputs": [
    {
     "name": "stdout",
     "output_type": "stream",
     "text": [
      "{'fields': ['CheckingStatus', 'LoanDuration', 'CreditHistory', 'LoanPurpose', 'LoanAmount', 'ExistingSavings', 'EmploymentDuration', 'InstallmentPercent', 'Sex', 'OthersOnLoan', 'CurrentResidenceDuration', 'OwnsProperty', 'Age', 'InstallmentPlans', 'Housing', 'ExistingCreditsCount', 'Job', 'Dependents', 'Telephone', 'ForeignWorker', 'CheckingStatus_IX', 'CreditHistory_IX', 'EmploymentDuration_IX', 'ExistingSavings_IX', 'ForeignWorker_IX', 'Housing_IX', 'InstallmentPlans_IX', 'Job_IX', 'LoanPurpose_IX', 'OthersOnLoan_IX', 'OwnsProperty_IX', 'Sex_IX', 'Telephone_IX', 'features', 'rawPrediction', 'probability', 'prediction', 'predictedLabel'], 'values': [['no_checking', 13, 'credits_paid_to_date', 'car_new', 1343, '100_to_500', '1_to_4', 2, 'female', 'none', 3, 'savings_insurance', 46, 'none', 'own', 2, 'skilled', 1, 'none', 'yes', 0.0, 1.0, 0.0, 1.0, 0.0, 0.0, 0.0, 0.0, 0.0, 0.0, 0.0, 1.0, 0.0, [21, [1, 3, 5, 13, 14, 15, 16, 17, 18, 19, 20], [1.0, 1.0, 1.0, 13.0, 1343.0, 2.0, 3.0, 13.0, 46.0, 2.0, 1.0]], [13.914925761872183, 6.085074238127814], [0.6957462880936093, 0.3042537119063908], 0.0, 'No Risk'], ['no_checking', 24, 'prior_payments_delayed', 'furniture', 4567, '500_to_1000', '1_to_4', 4, 'male', 'none', 4, 'savings_insurance', 36, 'none', 'free', 2, 'management_self-employed', 1, 'none', 'yes', 0.0, 0.0, 0.0, 2.0, 0.0, 2.0, 0.0, 2.0, 1.0, 0.0, 0.0, 0.0, 0.0, [21, [2, 3, 9, 10, 13, 14, 15, 16, 17, 18, 19, 20], [1.0, 2.0, 2.0, 2.0, 24.0, 4567.0, 4.0, 4.0, 24.0, 36.0, 2.0, 1.0]], [12.93624251072627, 7.063757489273726], [0.6468121255363136, 0.3531878744636864], 0.0, 'No Risk'], ['0_to_200', 26, 'all_credits_paid_back', 'car_new', 863, 'less_100', 'less_1', 2, 'female', 'co-applicant', 2, 'real_estate', 38, 'none', 'own', 1, 'skilled', 1, 'none', 'yes', 2.0, 3.0, 3.0, 0.0, 0.0, 0.0, 0.0, 0.0, 0.0, 1.0, 2.0, 1.0, 0.0, [2.0, 3.0, 0.0, 0.0, 3.0, 1.0, 1.0, 2.0, 0.0, 0.0, 0.0, 0.0, 0.0, 26.0, 863.0, 2.0, 2.0, 26.0, 38.0, 1.0, 1.0], [17.54956263121552, 2.4504373687844825], [0.8774781315607759, 0.12252186843922412], 0.0, 'No Risk'], ['0_to_200', 14, 'no_credits', 'car_new', 2368, 'less_100', '1_to_4', 3, 'female', 'none', 3, 'real_estate', 29, 'none', 'own', 1, 'skilled', 1, 'none', 'yes', 2.0, 4.0, 0.0, 0.0, 0.0, 0.0, 0.0, 0.0, 0.0, 0.0, 2.0, 1.0, 0.0, [21, [0, 1, 5, 7, 13, 14, 15, 16, 17, 18, 19, 20], [2.0, 4.0, 1.0, 2.0, 14.0, 2368.0, 3.0, 3.0, 14.0, 29.0, 1.0, 1.0]], [18.227689718916434, 1.7723102810835638], [0.9113844859458219, 0.08861551405417821], 0.0, 'No Risk'], ['0_to_200', 4, 'no_credits', 'car_new', 250, 'less_100', 'unemployed', 2, 'female', 'none', 3, 'real_estate', 23, 'none', 'rent', 1, 'management_self-employed', 1, 'none', 'yes', 2.0, 4.0, 4.0, 0.0, 0.0, 1.0, 0.0, 2.0, 0.0, 0.0, 2.0, 1.0, 0.0, [2.0, 4.0, 0.0, 0.0, 4.0, 1.0, 0.0, 2.0, 0.0, 1.0, 2.0, 0.0, 0.0, 4.0, 250.0, 2.0, 3.0, 4.0, 23.0, 1.0, 1.0], [19.166151793661882, 0.8338482063381171], [0.9583075896830942, 0.041692410316905855], 0.0, 'No Risk'], ['no_checking', 17, 'credits_paid_to_date', 'car_new', 832, '100_to_500', '1_to_4', 2, 'male', 'none', 2, 'real_estate', 42, 'none', 'own', 1, 'skilled', 1, 'none', 'yes', 0.0, 1.0, 0.0, 1.0, 0.0, 0.0, 0.0, 0.0, 0.0, 0.0, 2.0, 0.0, 0.0, [21, [1, 3, 7, 13, 14, 15, 16, 17, 18, 19, 20], [1.0, 1.0, 2.0, 17.0, 832.0, 2.0, 2.0, 17.0, 42.0, 1.0, 1.0]], [17.209766267398344, 2.7902337326016586], [0.860488313369917, 0.1395116866300829], 0.0, 'No Risk'], ['no_checking', 33, 'outstanding_credit', 'appliances', 5696, 'unknown', 'greater_7', 4, 'male', 'co-applicant', 4, 'unknown', 54, 'none', 'free', 2, 'skilled', 1, 'yes', 'yes', 0.0, 2.0, 2.0, 4.0, 0.0, 2.0, 0.0, 0.0, 4.0, 1.0, 3.0, 0.0, 1.0, [0.0, 2.0, 4.0, 4.0, 2.0, 0.0, 1.0, 3.0, 0.0, 2.0, 0.0, 1.0, 0.0, 33.0, 5696.0, 4.0, 4.0, 33.0, 54.0, 2.0, 1.0], [1.3175545673402855, 18.682445432659712], [0.06587772836701429, 0.9341222716329858], 1.0, 'Risk'], ['0_to_200', 13, 'prior_payments_delayed', 'retraining', 1375, '100_to_500', '4_to_7', 3, 'male', 'none', 3, 'real_estate', 37, 'none', 'own', 2, 'management_self-employed', 1, 'none', 'yes', 2.0, 0.0, 1.0, 1.0, 0.0, 0.0, 0.0, 2.0, 8.0, 0.0, 2.0, 0.0, 0.0, [2.0, 0.0, 8.0, 1.0, 1.0, 0.0, 0.0, 2.0, 0.0, 0.0, 2.0, 0.0, 0.0, 13.0, 1375.0, 3.0, 3.0, 13.0, 37.0, 2.0, 1.0], [15.646403018267886, 4.353596981732113], [0.7823201509133944, 0.21767984908660565], 0.0, 'No Risk']]}\n"
     ]
    }
   ],
   "source": [
    "fields = [\"CheckingStatus\",\"LoanDuration\",\"CreditHistory\",\"LoanPurpose\",\"LoanAmount\",\"ExistingSavings\",\"EmploymentDuration\",\"InstallmentPercent\",\"Sex\",\"OthersOnLoan\",\"CurrentResidenceDuration\",\"OwnsProperty\",\"Age\",\"InstallmentPlans\",\"Housing\",\"ExistingCreditsCount\",\"Job\",\"Dependents\",\"Telephone\",\"ForeignWorker\"]\n",
    "values = [\n",
    "  [\"no_checking\",13,\"credits_paid_to_date\",\"car_new\",1343,\"100_to_500\",\"1_to_4\",2,\"female\",\"none\",3,\"savings_insurance\",46,\"none\",\"own\",2,\"skilled\",1,\"none\",\"yes\"],\n",
    "  [\"no_checking\",24,\"prior_payments_delayed\",\"furniture\",4567,\"500_to_1000\",\"1_to_4\",4,\"male\",\"none\",4,\"savings_insurance\",36,\"none\",\"free\",2,\"management_self-employed\",1,\"none\",\"yes\"],\n",
    "  [\"0_to_200\",26,\"all_credits_paid_back\",\"car_new\",863,\"less_100\",\"less_1\",2,\"female\",\"co-applicant\",2,\"real_estate\",38,\"none\",\"own\",1,\"skilled\",1,\"none\",\"yes\"],\n",
    "  [\"0_to_200\",14,\"no_credits\",\"car_new\",2368,\"less_100\",\"1_to_4\",3,\"female\",\"none\",3,\"real_estate\",29,\"none\",\"own\",1,\"skilled\",1,\"none\",\"yes\"],\n",
    "  [\"0_to_200\",4,\"no_credits\",\"car_new\",250,\"less_100\",\"unemployed\",2,\"female\",\"none\",3,\"real_estate\",23,\"none\",\"rent\",1,\"management_self-employed\",1,\"none\",\"yes\"],\n",
    "  [\"no_checking\",17,\"credits_paid_to_date\",\"car_new\",832,\"100_to_500\",\"1_to_4\",2,\"male\",\"none\",2,\"real_estate\",42,\"none\",\"own\",1,\"skilled\",1,\"none\",\"yes\"],\n",
    "  [\"no_checking\",33,\"outstanding_credit\",\"appliances\",5696,\"unknown\",\"greater_7\",4,\"male\",\"co-applicant\",4,\"unknown\",54,\"none\",\"free\",2,\"skilled\",1,\"yes\",\"yes\"],\n",
    "  [\"0_to_200\",13,\"prior_payments_delayed\",\"retraining\",1375,\"100_to_500\",\"4_to_7\",3,\"male\",\"none\",3,\"real_estate\",37,\"none\",\"own\",2,\"management_self-employed\",1,\"none\",\"yes\"]\n",
    "]\n",
    "\n",
    "payload_scoring = {\"fields\": fields,\"values\": values}\n",
    "scoring_response = wml_client.deployments.score(credit_risk_scoring_endpoint, payload_scoring)\n",
    "\n",
    "print(scoring_response)"
   ]
  },
  {
   "cell_type": "markdown",
   "metadata": {},
   "source": [
    "## Quality and feedback monitoring"
   ]
  },
  {
   "cell_type": "markdown",
   "metadata": {},
   "source": [
    "### Enable quality monitoring"
   ]
  },
  {
   "cell_type": "markdown",
   "metadata": {},
   "source": [
    "Wait 3 minutes to allow the payload logging table to be set up before we begin enabling monitors."
   ]
  },
  {
   "cell_type": "code",
   "execution_count": 39,
   "metadata": {
    "scrolled": true
   },
   "outputs": [],
   "source": [
    "time.sleep(180)\n",
    "subscription.quality_monitoring.enable(threshold=0.7, min_records=50)"
   ]
  },
  {
   "cell_type": "markdown",
   "metadata": {},
   "source": [
    "### Feedback logging"
   ]
  },
  {
   "cell_type": "code",
   "execution_count": 40,
   "metadata": {},
   "outputs": [
    {
     "name": "stdout",
     "output_type": "stream",
     "text": [
      "rm: cannot remove 'additional_feedback_data.json': No such file or directory\n",
      "--2019-10-10 13:58:36--  https://raw.githubusercontent.com/IBM/monitor-wml-model-with-watson-openscale/master/data/additional_feedback_data.json\n",
      "Resolving raw.githubusercontent.com (raw.githubusercontent.com)... 151.101.48.133\n",
      "Connecting to raw.githubusercontent.com (raw.githubusercontent.com)|151.101.48.133|:443... connected.\n",
      "HTTP request sent, awaiting response... 200 OK\n",
      "Length: 16506 (16K) [text/plain]\n",
      "Saving to: 'additional_feedback_data.json'\n",
      "\n",
      "100%[======================================>] 16,506      --.-K/s   in 0.002s  \n",
      "\n",
      "2019-10-10 13:58:36 (9.71 MB/s) - 'additional_feedback_data.json' saved [16506/16506]\n",
      "\n"
     ]
    }
   ],
   "source": [
    "!rm additional_feedback_data.json\n",
    "!wget https://raw.githubusercontent.com/IBM/monitor-wml-model-with-watson-openscale/master/data/additional_feedback_data.json"
   ]
  },
  {
   "cell_type": "code",
   "execution_count": 41,
   "metadata": {},
   "outputs": [],
   "source": [
    "with open('additional_feedback_data.json') as feedback_file:\n",
    "    additional_feedback_data = json.load(feedback_file)\n",
    "subscription.feedback_logging.store(additional_feedback_data['data'])"
   ]
  },
  {
   "cell_type": "code",
   "execution_count": 42,
   "metadata": {
    "scrolled": true
   },
   "outputs": [
    {
     "data": {
      "text/html": [
       "<HTML>\n",
       "        <body>\n",
       "            <h3>Feedback_b41ffa0c-506f-441c-813a-b1c83e1c844b (binding_id=df9e2b21-7bf6-4281-b736-8d3c1f41efea, subscription_id=b41ffa0c-506f-441c-813a-b1c83e1c844b)</h3>\n",
       "            <table style='border: 1px solid #dddddd; font-family: Courier'>\n",
       "                <th style='border: 1px solid #dddddd'>CheckingStatus</th><th style='border: 1px solid #dddddd'>LoanDuration</th><th style='border: 1px solid #dddddd'>CreditHistory</th><th style='border: 1px solid #dddddd'>LoanPurpose</th><th style='border: 1px solid #dddddd'>LoanAmount</th><th style='border: 1px solid #dddddd'>ExistingSavings</th><th style='border: 1px solid #dddddd'>EmploymentDuration</th><th style='border: 1px solid #dddddd'>InstallmentPercent</th><th style='border: 1px solid #dddddd'>Sex</th><th style='border: 1px solid #dddddd'>OthersOnLoan</th><th style='border: 1px solid #dddddd'>CurrentResidenceDuration</th><th style='border: 1px solid #dddddd'>OwnsProperty</th><th style='border: 1px solid #dddddd'>Age</th><th style='border: 1px solid #dddddd'>InstallmentPlans</th><th style='border: 1px solid #dddddd'>Housing</th><th style='border: 1px solid #dddddd'>ExistingCreditsCount</th><th style='border: 1px solid #dddddd'>Job</th><th style='border: 1px solid #dddddd'>Dependents</th><th style='border: 1px solid #dddddd'>Telephone</th><th style='border: 1px solid #dddddd'>ForeignWorker</th><th style='border: 1px solid #dddddd'>Risk</th><th style='border: 1px solid #dddddd'>_training</th>\n",
       "                <tr><td style='border: 1px solid #dddddd'>less_0</td><td style='border: 1px solid #dddddd'>10</td><td style='border: 1px solid #dddddd'>all_credits_paid_back</td><td style='border: 1px solid #dddddd'>car_new</td><td style='border: 1px solid #dddddd'>250</td><td style='border: 1px solid #dddddd'>500_to_1000</td><td style='border: 1px solid #dddddd'>4_to_7</td><td style='border: 1px solid #dddddd'>3</td><td style='border: 1px solid #dddddd'>male</td><td style='border: 1px solid #dddddd'>none</td><td style='border: 1px solid #dddddd'>2</td><td style='border: 1px solid #dddddd'>real_estate</td><td style='border: 1px solid #dddddd'>23</td><td style='border: 1px solid #dddddd'>none</td><td style='border: 1px solid #dddddd'>rent</td><td style='border: 1px solid #dddddd'>1</td><td style='border: 1px solid #dddddd'>skilled</td><td style='border: 1px solid #dddddd'>1</td><td style='border: 1px solid #dddddd'>none</td><td style='border: 1px solid #dddddd'>yes</td><td style='border: 1px solid #dddddd'>No Risk</td><td style='border: 1px solid #dddddd'>2019-10-10 13:58:43.210357+00:00</td></tr><tr><td style='border: 1px solid #dddddd'>no_checking</td><td style='border: 1px solid #dddddd'>23</td><td style='border: 1px solid #dddddd'>prior_payments_delayed</td><td style='border: 1px solid #dddddd'>appliances</td><td style='border: 1px solid #dddddd'>6964</td><td style='border: 1px solid #dddddd'>100_to_500</td><td style='border: 1px solid #dddddd'>4_to_7</td><td style='border: 1px solid #dddddd'>4</td><td style='border: 1px solid #dddddd'>female</td><td style='border: 1px solid #dddddd'>none</td><td style='border: 1px solid #dddddd'>3</td><td style='border: 1px solid #dddddd'>car_other</td><td style='border: 1px solid #dddddd'>39</td><td style='border: 1px solid #dddddd'>none</td><td style='border: 1px solid #dddddd'>own</td><td style='border: 1px solid #dddddd'>1</td><td style='border: 1px solid #dddddd'>skilled</td><td style='border: 1px solid #dddddd'>1</td><td style='border: 1px solid #dddddd'>none</td><td style='border: 1px solid #dddddd'>yes</td><td style='border: 1px solid #dddddd'>Risk</td><td style='border: 1px solid #dddddd'>2019-10-10 13:58:43.210357+00:00</td></tr><tr><td style='border: 1px solid #dddddd'>0_to_200</td><td style='border: 1px solid #dddddd'>30</td><td style='border: 1px solid #dddddd'>outstanding_credit</td><td style='border: 1px solid #dddddd'>appliances</td><td style='border: 1px solid #dddddd'>3464</td><td style='border: 1px solid #dddddd'>100_to_500</td><td style='border: 1px solid #dddddd'>greater_7</td><td style='border: 1px solid #dddddd'>3</td><td style='border: 1px solid #dddddd'>male</td><td style='border: 1px solid #dddddd'>guarantor</td><td style='border: 1px solid #dddddd'>4</td><td style='border: 1px solid #dddddd'>savings_insurance</td><td style='border: 1px solid #dddddd'>51</td><td style='border: 1px solid #dddddd'>stores</td><td style='border: 1px solid #dddddd'>free</td><td style='border: 1px solid #dddddd'>1</td><td style='border: 1px solid #dddddd'>skilled</td><td style='border: 1px solid #dddddd'>1</td><td style='border: 1px solid #dddddd'>yes</td><td style='border: 1px solid #dddddd'>yes</td><td style='border: 1px solid #dddddd'>Risk</td><td style='border: 1px solid #dddddd'>2019-10-10 13:58:43.210357+00:00</td></tr><tr><td style='border: 1px solid #dddddd'>no_checking</td><td style='border: 1px solid #dddddd'>23</td><td style='border: 1px solid #dddddd'>outstanding_credit</td><td style='border: 1px solid #dddddd'>car_used</td><td style='border: 1px solid #dddddd'>2681</td><td style='border: 1px solid #dddddd'>500_to_1000</td><td style='border: 1px solid #dddddd'>greater_7</td><td style='border: 1px solid #dddddd'>4</td><td style='border: 1px solid #dddddd'>male</td><td style='border: 1px solid #dddddd'>none</td><td style='border: 1px solid #dddddd'>3</td><td style='border: 1px solid #dddddd'>car_other</td><td style='border: 1px solid #dddddd'>33</td><td style='border: 1px solid #dddddd'>stores</td><td style='border: 1px solid #dddddd'>free</td><td style='border: 1px solid #dddddd'>1</td><td style='border: 1px solid #dddddd'>unskilled</td><td style='border: 1px solid #dddddd'>1</td><td style='border: 1px solid #dddddd'>yes</td><td style='border: 1px solid #dddddd'>yes</td><td style='border: 1px solid #dddddd'>No Risk</td><td style='border: 1px solid #dddddd'>2019-10-10 13:58:43.210357+00:00</td></tr><tr><td style='border: 1px solid #dddddd'>0_to_200</td><td style='border: 1px solid #dddddd'>18</td><td style='border: 1px solid #dddddd'>prior_payments_delayed</td><td style='border: 1px solid #dddddd'>furniture</td><td style='border: 1px solid #dddddd'>1673</td><td style='border: 1px solid #dddddd'>less_100</td><td style='border: 1px solid #dddddd'>1_to_4</td><td style='border: 1px solid #dddddd'>2</td><td style='border: 1px solid #dddddd'>male</td><td style='border: 1px solid #dddddd'>none</td><td style='border: 1px solid #dddddd'>3</td><td style='border: 1px solid #dddddd'>car_other</td><td style='border: 1px solid #dddddd'>30</td><td style='border: 1px solid #dddddd'>none</td><td style='border: 1px solid #dddddd'>own</td><td style='border: 1px solid #dddddd'>2</td><td style='border: 1px solid #dddddd'>skilled</td><td style='border: 1px solid #dddddd'>1</td><td style='border: 1px solid #dddddd'>none</td><td style='border: 1px solid #dddddd'>yes</td><td style='border: 1px solid #dddddd'>Risk</td><td style='border: 1px solid #dddddd'>2019-10-10 13:58:43.210357+00:00</td></tr><tr><td style='border: 1px solid #dddddd'>no_checking</td><td style='border: 1px solid #dddddd'>44</td><td style='border: 1px solid #dddddd'>outstanding_credit</td><td style='border: 1px solid #dddddd'>radio_tv</td><td style='border: 1px solid #dddddd'>3476</td><td style='border: 1px solid #dddddd'>unknown</td><td style='border: 1px solid #dddddd'>greater_7</td><td style='border: 1px solid #dddddd'>4</td><td style='border: 1px solid #dddddd'>male</td><td style='border: 1px solid #dddddd'>co-applicant</td><td style='border: 1px solid #dddddd'>4</td><td style='border: 1px solid #dddddd'>unknown</td><td style='border: 1px solid #dddddd'>60</td><td style='border: 1px solid #dddddd'>none</td><td style='border: 1px solid #dddddd'>free</td><td style='border: 1px solid #dddddd'>2</td><td style='border: 1px solid #dddddd'>skilled</td><td style='border: 1px solid #dddddd'>2</td><td style='border: 1px solid #dddddd'>yes</td><td style='border: 1px solid #dddddd'>yes</td><td style='border: 1px solid #dddddd'>Risk</td><td style='border: 1px solid #dddddd'>2019-10-10 13:58:43.210357+00:00</td></tr><tr><td style='border: 1px solid #dddddd'>less_0</td><td style='border: 1px solid #dddddd'>8</td><td style='border: 1px solid #dddddd'>no_credits</td><td style='border: 1px solid #dddddd'>education</td><td style='border: 1px solid #dddddd'>803</td><td style='border: 1px solid #dddddd'>less_100</td><td style='border: 1px solid #dddddd'>unemployed</td><td style='border: 1px solid #dddddd'>1</td><td style='border: 1px solid #dddddd'>male</td><td style='border: 1px solid #dddddd'>none</td><td style='border: 1px solid #dddddd'>1</td><td style='border: 1px solid #dddddd'>savings_insurance</td><td style='border: 1px solid #dddddd'>19</td><td style='border: 1px solid #dddddd'>stores</td><td style='border: 1px solid #dddddd'>rent</td><td style='border: 1px solid #dddddd'>1</td><td style='border: 1px solid #dddddd'>skilled</td><td style='border: 1px solid #dddddd'>1</td><td style='border: 1px solid #dddddd'>none</td><td style='border: 1px solid #dddddd'>yes</td><td style='border: 1px solid #dddddd'>No Risk</td><td style='border: 1px solid #dddddd'>2019-10-10 13:58:43.210357+00:00</td></tr><tr><td style='border: 1px solid #dddddd'>0_to_200</td><td style='border: 1px solid #dddddd'>7</td><td style='border: 1px solid #dddddd'>all_credits_paid_back</td><td style='border: 1px solid #dddddd'>car_new</td><td style='border: 1px solid #dddddd'>250</td><td style='border: 1px solid #dddddd'>less_100</td><td style='border: 1px solid #dddddd'>unemployed</td><td style='border: 1px solid #dddddd'>1</td><td style='border: 1px solid #dddddd'>male</td><td style='border: 1px solid #dddddd'>none</td><td style='border: 1px solid #dddddd'>1</td><td style='border: 1px solid #dddddd'>real_estate</td><td style='border: 1px solid #dddddd'>19</td><td style='border: 1px solid #dddddd'>stores</td><td style='border: 1px solid #dddddd'>rent</td><td style='border: 1px solid #dddddd'>1</td><td style='border: 1px solid #dddddd'>skilled</td><td style='border: 1px solid #dddddd'>1</td><td style='border: 1px solid #dddddd'>none</td><td style='border: 1px solid #dddddd'>yes</td><td style='border: 1px solid #dddddd'>No Risk</td><td style='border: 1px solid #dddddd'>2019-10-10 13:58:43.210357+00:00</td></tr><tr><td style='border: 1px solid #dddddd'>0_to_200</td><td style='border: 1px solid #dddddd'>33</td><td style='border: 1px solid #dddddd'>credits_paid_to_date</td><td style='border: 1px solid #dddddd'>radio_tv</td><td style='border: 1px solid #dddddd'>3548</td><td style='border: 1px solid #dddddd'>100_to_500</td><td style='border: 1px solid #dddddd'>1_to_4</td><td style='border: 1px solid #dddddd'>3</td><td style='border: 1px solid #dddddd'>male</td><td style='border: 1px solid #dddddd'>none</td><td style='border: 1px solid #dddddd'>4</td><td style='border: 1px solid #dddddd'>car_other</td><td style='border: 1px solid #dddddd'>28</td><td style='border: 1px solid #dddddd'>none</td><td style='border: 1px solid #dddddd'>own</td><td style='border: 1px solid #dddddd'>2</td><td style='border: 1px solid #dddddd'>skilled</td><td style='border: 1px solid #dddddd'>1</td><td style='border: 1px solid #dddddd'>yes</td><td style='border: 1px solid #dddddd'>yes</td><td style='border: 1px solid #dddddd'>Risk</td><td style='border: 1px solid #dddddd'>2019-10-10 13:58:43.210357+00:00</td></tr><tr><td style='border: 1px solid #dddddd'>no_checking</td><td style='border: 1px solid #dddddd'>24</td><td style='border: 1px solid #dddddd'>prior_payments_delayed</td><td style='border: 1px solid #dddddd'>retraining</td><td style='border: 1px solid #dddddd'>4158</td><td style='border: 1px solid #dddddd'>100_to_500</td><td style='border: 1px solid #dddddd'>greater_7</td><td style='border: 1px solid #dddddd'>3</td><td style='border: 1px solid #dddddd'>female</td><td style='border: 1px solid #dddddd'>none</td><td style='border: 1px solid #dddddd'>2</td><td style='border: 1px solid #dddddd'>savings_insurance</td><td style='border: 1px solid #dddddd'>35</td><td style='border: 1px solid #dddddd'>stores</td><td style='border: 1px solid #dddddd'>own</td><td style='border: 1px solid #dddddd'>1</td><td style='border: 1px solid #dddddd'>unskilled</td><td style='border: 1px solid #dddddd'>2</td><td style='border: 1px solid #dddddd'>none</td><td style='border: 1px solid #dddddd'>yes</td><td style='border: 1px solid #dddddd'>Risk</td><td style='border: 1px solid #dddddd'>2019-10-10 13:58:43.210357+00:00</td></tr>\n",
       "            </table>\n",
       "        </body>\n",
       "        </HTML>"
      ],
      "text/plain": [
       "<IPython.core.display.HTML object>"
      ]
     },
     "metadata": {},
     "output_type": "display_data"
    }
   ],
   "source": [
    "subscription.feedback_logging.show_table()"
   ]
  },
  {
   "cell_type": "code",
   "execution_count": 43,
   "metadata": {
    "scrolled": true
   },
   "outputs": [
    {
     "name": "stdout",
     "output_type": "stream",
     "text": [
      "6bda03e3-1eac-45dc-abd5-47fdd934214f\n",
      "Run status: initializing\n",
      "Run status: completed\n"
     ]
    }
   ],
   "source": [
    "run_details = subscription.quality_monitoring.run()\n",
    "status = run_details['status']\n",
    "id = run_details['id']\n",
    "print(id)\n",
    "\n",
    "print(\"Run status: {}\".format(status))\n",
    "\n",
    "start_time = time.time()\n",
    "elapsed_time = 0\n",
    "\n",
    "while status != 'completed' and elapsed_time < 60:\n",
    "    time.sleep(10)\n",
    "    run_details = subscription.quality_monitoring.get_run_details(run_uid=id)\n",
    "    status = run_details['status']\n",
    "    elapsed_time = time.time() - start_time\n",
    "    print(\"Run status: {}\".format(status))"
   ]
  },
  {
   "cell_type": "code",
   "execution_count": 44,
   "metadata": {
    "scrolled": true
   },
   "outputs": [
    {
     "data": {
      "text/plain": [
       "{'evaluations': [{'stages': [{'name': 'Prerequisite Check',\n",
       "     'completed_at': '2019-10-10T13:58:52.391Z',\n",
       "     'started_at': '2019-10-10T13:58:51.846Z',\n",
       "     'id': 1,\n",
       "     'properties': {'training_columns': ['CheckingStatus',\n",
       "       'LoanDuration',\n",
       "       'CreditHistory',\n",
       "       'LoanPurpose',\n",
       "       'LoanAmount',\n",
       "       'ExistingSavings',\n",
       "       'EmploymentDuration',\n",
       "       'InstallmentPercent',\n",
       "       'Sex',\n",
       "       'OthersOnLoan',\n",
       "       'CurrentResidenceDuration',\n",
       "       'OwnsProperty',\n",
       "       'Age',\n",
       "       'InstallmentPlans',\n",
       "       'Housing',\n",
       "       'ExistingCreditsCount',\n",
       "       'Job',\n",
       "       'Dependents',\n",
       "       'Telephone',\n",
       "       'ForeignWorker',\n",
       "       'Risk'],\n",
       "      'input_columns': ['CheckingStatus',\n",
       "       'LoanDuration',\n",
       "       'CreditHistory',\n",
       "       'LoanPurpose',\n",
       "       'LoanAmount',\n",
       "       'ExistingSavings',\n",
       "       'EmploymentDuration',\n",
       "       'InstallmentPercent',\n",
       "       'Sex',\n",
       "       'OthersOnLoan',\n",
       "       'CurrentResidenceDuration',\n",
       "       'OwnsProperty',\n",
       "       'Age',\n",
       "       'InstallmentPlans',\n",
       "       'Housing',\n",
       "       'ExistingCreditsCount',\n",
       "       'Job',\n",
       "       'Dependents',\n",
       "       'Telephone',\n",
       "       'ForeignWorker']}},\n",
       "    {'name': 'Acquire Scorer',\n",
       "     'completed_at': '2019-10-10T13:58:52.406Z',\n",
       "     'started_at': '2019-10-10T13:58:52.404Z',\n",
       "     'id': 2,\n",
       "     'properties': {'scorer': {'guid': '7e239392-4ffc-42a7-aa0a-837519e53449'}}},\n",
       "    {'name': 'Score Batch',\n",
       "     'completed_at': '2019-10-10T13:58:53.552Z',\n",
       "     'started_at': '2019-10-10T13:58:52.430Z',\n",
       "     'id': 3,\n",
       "     'properties': {'batch_size': 98}},\n",
       "    {'name': 'Calculate probabilities for labels',\n",
       "     'completed_at': '2019-10-10T13:58:53.554Z',\n",
       "     'started_at': '2019-10-10T13:58:53.553Z',\n",
       "     'id': 4,\n",
       "     'properties': {'classified': {'\"No Risk\"': 0, '\"Risk\"': 1},\n",
       "      'not_classified': []}},\n",
       "    {'name': 'Calculate indexes',\n",
       "     'completed_at': '2019-10-10T13:58:53.554Z',\n",
       "     'started_at': '2019-10-10T13:58:53.554Z',\n",
       "     'id': 5,\n",
       "     'properties': {'true_label': 'Risk',\n",
       "      'indexes': {'\"No Risk\"': 0.0, '\"Risk\"': 1.0}}},\n",
       "    {'id': 6,\n",
       "     'name': 'Release Scorer',\n",
       "     'started_at': '2019-10-10T13:58:53.710Z',\n",
       "     'completed_at': '2019-10-10T13:58:53.710Z'}],\n",
       "   'asset_id': 'bcf1e2e9-dbe9-4472-8ea4-12c35d224bf3',\n",
       "   'flags': {'parallelism': 2,\n",
       "    'force': True,\n",
       "    'window_in_millis': 2000,\n",
       "    'model_type': ['original'],\n",
       "    'batch_size': 1000,\n",
       "    'fetch_size': 1000},\n",
       "   'completed_at': '2019-10-10T13:58:53.708Z',\n",
       "   'service_binding_id': 'df9e2b21-7bf6-4281-b736-8d3c1f41efea',\n",
       "   'problem_type': 'binary',\n",
       "   'started_at': '2019-10-10T13:58:51.846Z',\n",
       "   'measurement_id': '22aee192-7194-4b0a-a119-7cbeba48665b',\n",
       "   'rows_max': 10000,\n",
       "   'data_mart_id': 'f94e20cb-aa92-4636-97ce-08de6b714d02',\n",
       "   'id': '6bda03e3-1eac-45dc-abd5-47fdd934214f',\n",
       "   'model_type': 'original',\n",
       "   'status': 'completed',\n",
       "   'rows_in_range': 98,\n",
       "   'threshold': 0.7,\n",
       "   'subscription_id': 'b41ffa0c-506f-441c-813a-b1c83e1c844b',\n",
       "   'output': {'metrics': {'true_positive_rate': 0.36363636363636365,\n",
       "     'area_under_roc': 0.6510489510489511,\n",
       "     'precision': 0.75,\n",
       "     'f1_measure': 0.48979591836734687,\n",
       "     'accuracy': 0.7448979591836735,\n",
       "     'log_loss': 0.4417506959794667,\n",
       "     'false_positive_rate': 0.06153846153846154,\n",
       "     'area_under_pr': 0.6185064935064934,\n",
       "     'recall': 0.36363636363636365},\n",
       "    'confusion_matrix': {'labels': ['No Risk', 'Risk'],\n",
       "     'values': [[61.0, 4.0], [21.0, 12.0]],\n",
       "     'metrics_per_label': {'precision_per_label': [0.7439024390243902, 0.75],\n",
       "      'recall_per_label': [0.9384615384615385, 0.36363636363636365],\n",
       "      'true_positive_rate_per_label': [0.9384615384615385,\n",
       "       0.36363636363636365],\n",
       "      'false_positive_rate_per_label': [0.6363636363636364,\n",
       "       0.06153846153846154]}}},\n",
       "   'rows_min': 50}]}"
      ]
     },
     "execution_count": 44,
     "metadata": {},
     "output_type": "execute_result"
    }
   ],
   "source": [
    "subscription.quality_monitoring.get_run_details()"
   ]
  },
  {
   "cell_type": "code",
   "execution_count": 45,
   "metadata": {
    "scrolled": true
   },
   "outputs": [
    {
     "data": {
      "text/html": [
       "<HTML>\n",
       "        <body>\n",
       "            <h3>QualityMetrics (binding_id=df9e2b21-7bf6-4281-b736-8d3c1f41efea, subscription_id=b41ffa0c-506f-441c-813a-b1c83e1c844b)</h3>\n",
       "            <table style='border: 1px solid #dddddd; font-family: Courier'>\n",
       "                <th style='border: 1px solid #dddddd'>ts</th><th style='border: 1px solid #dddddd'>id</th><th style='border: 1px solid #dddddd'>measurement_id</th><th style='border: 1px solid #dddddd'>value</th><th style='border: 1px solid #dddddd'>lower limit</th><th style='border: 1px solid #dddddd'>upper limit</th><th style='border: 1px solid #dddddd'>tags</th><th style='border: 1px solid #dddddd'>binding_id</th><th style='border: 1px solid #dddddd'>subscription_id</th><th style='border: 1px solid #dddddd'>deployment_id</th>\n",
       "                <tr><td style='border: 1px solid #dddddd'>2019-10-10 13:58:51.846000+00:00</td><td style='border: 1px solid #dddddd'>true_positive_rate</td><td style='border: 1px solid #dddddd'>22aee192-7194-4b0a-a119-7cbeba48665b</td><td style='border: 1px solid #dddddd'>0.36363636363636365</td><td style='border: 1px solid #dddddd'></td><td style='border: 1px solid #dddddd'></td><td style='border: 1px solid #dddddd'>model_type: original</td><td style='border: 1px solid #dddddd'>df9e2b21-7bf6-4281-b736-8d3c1f41efea</td><td style='border: 1px solid #dddddd'>b41ffa0c-506f-441c-813a-b1c83e1c844b</td><td style='border: 1px solid #dddddd'>7e239392-4ffc-42a7-aa0a-837519e53449</td></tr><tr><td style='border: 1px solid #dddddd'>2019-10-10 13:58:51.846000+00:00</td><td style='border: 1px solid #dddddd'>area_under_roc</td><td style='border: 1px solid #dddddd'>22aee192-7194-4b0a-a119-7cbeba48665b</td><td style='border: 1px solid #dddddd'>0.6510489510489511</td><td style='border: 1px solid #dddddd'>0.7</td><td style='border: 1px solid #dddddd'></td><td style='border: 1px solid #dddddd'>model_type: original</td><td style='border: 1px solid #dddddd'>df9e2b21-7bf6-4281-b736-8d3c1f41efea</td><td style='border: 1px solid #dddddd'>b41ffa0c-506f-441c-813a-b1c83e1c844b</td><td style='border: 1px solid #dddddd'>7e239392-4ffc-42a7-aa0a-837519e53449</td></tr><tr><td style='border: 1px solid #dddddd'>2019-10-10 13:58:51.846000+00:00</td><td style='border: 1px solid #dddddd'>precision</td><td style='border: 1px solid #dddddd'>22aee192-7194-4b0a-a119-7cbeba48665b</td><td style='border: 1px solid #dddddd'>0.75</td><td style='border: 1px solid #dddddd'></td><td style='border: 1px solid #dddddd'></td><td style='border: 1px solid #dddddd'>model_type: original</td><td style='border: 1px solid #dddddd'>df9e2b21-7bf6-4281-b736-8d3c1f41efea</td><td style='border: 1px solid #dddddd'>b41ffa0c-506f-441c-813a-b1c83e1c844b</td><td style='border: 1px solid #dddddd'>7e239392-4ffc-42a7-aa0a-837519e53449</td></tr><tr><td style='border: 1px solid #dddddd'>2019-10-10 13:58:51.846000+00:00</td><td style='border: 1px solid #dddddd'>f1_measure</td><td style='border: 1px solid #dddddd'>22aee192-7194-4b0a-a119-7cbeba48665b</td><td style='border: 1px solid #dddddd'>0.48979591836734687</td><td style='border: 1px solid #dddddd'></td><td style='border: 1px solid #dddddd'></td><td style='border: 1px solid #dddddd'>model_type: original</td><td style='border: 1px solid #dddddd'>df9e2b21-7bf6-4281-b736-8d3c1f41efea</td><td style='border: 1px solid #dddddd'>b41ffa0c-506f-441c-813a-b1c83e1c844b</td><td style='border: 1px solid #dddddd'>7e239392-4ffc-42a7-aa0a-837519e53449</td></tr><tr><td style='border: 1px solid #dddddd'>2019-10-10 13:58:51.846000+00:00</td><td style='border: 1px solid #dddddd'>accuracy</td><td style='border: 1px solid #dddddd'>22aee192-7194-4b0a-a119-7cbeba48665b</td><td style='border: 1px solid #dddddd'>0.7448979591836735</td><td style='border: 1px solid #dddddd'></td><td style='border: 1px solid #dddddd'></td><td style='border: 1px solid #dddddd'>model_type: original</td><td style='border: 1px solid #dddddd'>df9e2b21-7bf6-4281-b736-8d3c1f41efea</td><td style='border: 1px solid #dddddd'>b41ffa0c-506f-441c-813a-b1c83e1c844b</td><td style='border: 1px solid #dddddd'>7e239392-4ffc-42a7-aa0a-837519e53449</td></tr><tr><td style='border: 1px solid #dddddd'>2019-10-10 13:58:51.846000+00:00</td><td style='border: 1px solid #dddddd'>log_loss</td><td style='border: 1px solid #dddddd'>22aee192-7194-4b0a-a119-7cbeba48665b</td><td style='border: 1px solid #dddddd'>0.4417506959794667</td><td style='border: 1px solid #dddddd'></td><td style='border: 1px solid #dddddd'></td><td style='border: 1px solid #dddddd'>model_type: original</td><td style='border: 1px solid #dddddd'>df9e2b21-7bf6-4281-b736-8d3c1f41efea</td><td style='border: 1px solid #dddddd'>b41ffa0c-506f-441c-813a-b1c83e1c844b</td><td style='border: 1px solid #dddddd'>7e239392-4ffc-42a7-aa0a-837519e53449</td></tr><tr><td style='border: 1px solid #dddddd'>2019-10-10 13:58:51.846000+00:00</td><td style='border: 1px solid #dddddd'>false_positive_rate</td><td style='border: 1px solid #dddddd'>22aee192-7194-4b0a-a119-7cbeba48665b</td><td style='border: 1px solid #dddddd'>0.06153846153846154</td><td style='border: 1px solid #dddddd'></td><td style='border: 1px solid #dddddd'></td><td style='border: 1px solid #dddddd'>model_type: original</td><td style='border: 1px solid #dddddd'>df9e2b21-7bf6-4281-b736-8d3c1f41efea</td><td style='border: 1px solid #dddddd'>b41ffa0c-506f-441c-813a-b1c83e1c844b</td><td style='border: 1px solid #dddddd'>7e239392-4ffc-42a7-aa0a-837519e53449</td></tr><tr><td style='border: 1px solid #dddddd'>2019-10-10 13:58:51.846000+00:00</td><td style='border: 1px solid #dddddd'>area_under_pr</td><td style='border: 1px solid #dddddd'>22aee192-7194-4b0a-a119-7cbeba48665b</td><td style='border: 1px solid #dddddd'>0.6185064935064934</td><td style='border: 1px solid #dddddd'></td><td style='border: 1px solid #dddddd'></td><td style='border: 1px solid #dddddd'>model_type: original</td><td style='border: 1px solid #dddddd'>df9e2b21-7bf6-4281-b736-8d3c1f41efea</td><td style='border: 1px solid #dddddd'>b41ffa0c-506f-441c-813a-b1c83e1c844b</td><td style='border: 1px solid #dddddd'>7e239392-4ffc-42a7-aa0a-837519e53449</td></tr><tr><td style='border: 1px solid #dddddd'>2019-10-10 13:58:51.846000+00:00</td><td style='border: 1px solid #dddddd'>recall</td><td style='border: 1px solid #dddddd'>22aee192-7194-4b0a-a119-7cbeba48665b</td><td style='border: 1px solid #dddddd'>0.36363636363636365</td><td style='border: 1px solid #dddddd'></td><td style='border: 1px solid #dddddd'></td><td style='border: 1px solid #dddddd'>model_type: original</td><td style='border: 1px solid #dddddd'>df9e2b21-7bf6-4281-b736-8d3c1f41efea</td><td style='border: 1px solid #dddddd'>b41ffa0c-506f-441c-813a-b1c83e1c844b</td><td style='border: 1px solid #dddddd'>7e239392-4ffc-42a7-aa0a-837519e53449</td></tr>\n",
       "            </table>\n",
       "        </body>\n",
       "        </HTML>"
      ],
      "text/plain": [
       "<IPython.core.display.HTML object>"
      ]
     },
     "metadata": {},
     "output_type": "display_data"
    }
   ],
   "source": [
    "subscription.quality_monitoring.show_table()"
   ]
  },
  {
   "cell_type": "code",
   "execution_count": 46,
   "metadata": {
    "scrolled": true
   },
   "outputs": [
    {
     "data": {
      "text/plain": [
       "{'deployment_metrics': [{'asset': {'asset_id': 'bcf1e2e9-dbe9-4472-8ea4-12c35d224bf3',\n",
       "    'asset_type': 'model',\n",
       "    'created_at': '2019-10-10T13:52:46.781Z',\n",
       "    'name': 'Spark German Risk Model - Final',\n",
       "    'url': 'https://us-south.ml.cloud.ibm.com/v3/wml_instances/df9e2b21-7bf6-4281-b736-8d3c1f41efea/published_models/bcf1e2e9-dbe9-4472-8ea4-12c35d224bf3'},\n",
       "   'deployment': {'created_at': '2019-10-10T13:52:46.805Z',\n",
       "    'deployment_id': '7e239392-4ffc-42a7-aa0a-837519e53449',\n",
       "    'deployment_rn': '',\n",
       "    'deployment_type': 'online',\n",
       "    'name': 'Spark German Risk Deployment - Final',\n",
       "    'scoring_endpoint': {'request_headers': {'Content-Type': 'application/json'},\n",
       "     'url': 'https://us-south.ml.cloud.ibm.com/v3/wml_instances/df9e2b21-7bf6-4281-b736-8d3c1f41efea/deployments/7e239392-4ffc-42a7-aa0a-837519e53449/online'},\n",
       "    'url': 'https://us-south.ml.cloud.ibm.com/v3/wml_instances/df9e2b21-7bf6-4281-b736-8d3c1f41efea/deployments/7e239392-4ffc-42a7-aa0a-837519e53449'},\n",
       "   'metrics': [{'issues': 0,\n",
       "     'metric_type': 'performance',\n",
       "     'timestamp': '2019-10-10T13:53:56.847Z',\n",
       "     'value': {'records': 106, 'response_time': 477.0}},\n",
       "    {'issues': 1,\n",
       "     'metric_type': 'quality',\n",
       "     'timestamp': '2019-10-10T13:58:51.846Z',\n",
       "     'value': {'metrics': [{'name': 'true_positive_rate',\n",
       "        'value': 0.36363636363636365},\n",
       "       {'name': 'area_under_roc', 'value': 0.6510489510489511},\n",
       "       {'name': 'precision', 'value': 0.75},\n",
       "       {'name': 'f1_measure', 'value': 0.48979591836734687},\n",
       "       {'name': 'accuracy', 'value': 0.7448979591836735},\n",
       "       {'name': 'log_loss', 'value': 0.4417506959794667},\n",
       "       {'name': 'false_positive_rate', 'value': 0.06153846153846154},\n",
       "       {'name': 'area_under_pr', 'value': 0.6185064935064934},\n",
       "       {'name': 'recall', 'value': 0.36363636363636365}],\n",
       "      'quality': 0.6510489510489511,\n",
       "      'threshold': 0.7}}],\n",
       "   'subscription': {'subscription_id': 'b41ffa0c-506f-441c-813a-b1c83e1c844b',\n",
       "    'url': '/v1/data_marts/f94e20cb-aa92-4636-97ce-08de6b714d02/service_bindings/df9e2b21-7bf6-4281-b736-8d3c1f41efea/subscriptions/b41ffa0c-506f-441c-813a-b1c83e1c844b'}}]}"
      ]
     },
     "execution_count": 46,
     "metadata": {},
     "output_type": "execute_result"
    }
   ],
   "source": [
    "ai_client.data_mart.get_deployment_metrics()"
   ]
  },
  {
   "cell_type": "markdown",
   "metadata": {},
   "source": [
    "## Fairness monitoring"
   ]
  },
  {
   "cell_type": "code",
   "execution_count": 47,
   "metadata": {
    "scrolled": true
   },
   "outputs": [],
   "source": [
    "subscription.fairness_monitoring.enable(\n",
    "            features=[\n",
    "                Feature(\"Sex\", majority=['male'], minority=['female'], threshold=0.95),\n",
    "                Feature(\"Age\", majority=[[26,75]], minority=[[18,25]], threshold=0.95)\n",
    "            ],\n",
    "            favourable_classes=['No Risk'],\n",
    "            unfavourable_classes=['Risk'],\n",
    "            min_records=1000,\n",
    "            training_data=pd_data\n",
    "        )"
   ]
  },
  {
   "cell_type": "markdown",
   "metadata": {},
   "source": [
    "## Score the model again now that monitoring is configured"
   ]
  },
  {
   "cell_type": "code",
   "execution_count": 48,
   "metadata": {},
   "outputs": [
    {
     "name": "stdout",
     "output_type": "stream",
     "text": [
      "rm: cannot remove 'german_credit_feed.json': No such file or directory\n",
      "--2019-10-10 14:04:31--  https://raw.githubusercontent.com/IBM/monitor-wml-model-with-watson-openscale/master/data/german_credit_feed.json\n",
      "Resolving raw.githubusercontent.com (raw.githubusercontent.com)... 151.101.48.133\n",
      "Connecting to raw.githubusercontent.com (raw.githubusercontent.com)|151.101.48.133|:443... connected.\n",
      "HTTP request sent, awaiting response... 200 OK\n",
      "Length: 3076547 (2.9M) [text/plain]\n",
      "Saving to: 'german_credit_feed.json'\n",
      "\n",
      "100%[======================================>] 3,076,547   --.-K/s   in 0.06s   \n",
      "\n",
      "2019-10-10 14:04:31 (50.1 MB/s) - 'german_credit_feed.json' saved [3076547/3076547]\n",
      "\n"
     ]
    }
   ],
   "source": [
    "!rm german_credit_feed.json\n",
    "!wget https://raw.githubusercontent.com/IBM/monitor-wml-model-with-watson-openscale/master/data/german_credit_feed.json"
   ]
  },
  {
   "cell_type": "markdown",
   "metadata": {},
   "source": [
    "Score 1000 randomly chosen records"
   ]
  },
  {
   "cell_type": "code",
   "execution_count": 49,
   "metadata": {},
   "outputs": [
    {
     "name": "stdout",
     "output_type": "stream",
     "text": [
      "{'fields': ['CheckingStatus', 'LoanDuration', 'CreditHistory', 'LoanPurpose', 'LoanAmount', 'ExistingSavings', 'EmploymentDuration', 'InstallmentPercent', 'Sex', 'OthersOnLoan', 'CurrentResidenceDuration', 'OwnsProperty', 'Age', 'InstallmentPlans', 'Housing', 'ExistingCreditsCount', 'Job', 'Dependents', 'Telephone', 'ForeignWorker', 'CheckingStatus_IX', 'CreditHistory_IX', 'EmploymentDuration_IX', 'ExistingSavings_IX', 'ForeignWorker_IX', 'Housing_IX', 'InstallmentPlans_IX', 'Job_IX', 'LoanPurpose_IX', 'OthersOnLoan_IX', 'OwnsProperty_IX', 'Sex_IX', 'Telephone_IX', 'features', 'rawPrediction', 'probability', 'prediction', 'predictedLabel'], 'values': [['less_0', 30, 'credits_paid_to_date', 'radio_tv', 4780, '500_to_1000', 'less_1', 2, 'male', 'none', 3, 'savings_insurance', 29, 'bank', 'rent', 1, 'unemployed', 1, 'none', 'yes', 1.0, 1.0, 3.0, 2.0, 0.0, 1.0, 2.0, 3.0, 3.0, 0.0, 0.0, 0.0, 0.0, [1.0, 1.0, 3.0, 2.0, 3.0, 0.0, 0.0, 0.0, 2.0, 1.0, 3.0, 0.0, 0.0, 30.0, 4780.0, 2.0, 3.0, 30.0, 29.0, 1.0, 1.0], [15.696044287812866, 4.303955712187136], [0.7848022143906432, 0.21519778560935682], 0.0, 'No Risk'], ['0_to_200', 22, 'all_credits_paid_back', 'car_new', 5255, 'less_100', 'less_1', 2, 'male', 'co-applicant', 2, 'real_estate', 40, 'none', 'own', 1, 'skilled', 1, 'none', 'yes', 2.0, 3.0, 3.0, 0.0, 0.0, 0.0, 0.0, 0.0, 0.0, 1.0, 2.0, 0.0, 0.0, [2.0, 3.0, 0.0, 0.0, 3.0, 0.0, 1.0, 2.0, 0.0, 0.0, 0.0, 0.0, 0.0, 22.0, 5255.0, 2.0, 2.0, 22.0, 40.0, 1.0, 1.0], [16.851865005005635, 3.1481349949943698], [0.8425932502502816, 0.15740674974971847], 0.0, 'No Risk'], ['0_to_200', 15, 'credits_paid_to_date', 'car_new', 1451, '500_to_1000', '1_to_4', 2, 'male', 'none', 3, 'savings_insurance', 29, 'none', 'own', 1, 'skilled', 1, 'none', 'yes', 2.0, 1.0, 0.0, 2.0, 0.0, 0.0, 0.0, 0.0, 0.0, 0.0, 0.0, 0.0, 0.0, [21, [0, 1, 3, 13, 14, 15, 16, 17, 18, 19, 20], [2.0, 1.0, 2.0, 15.0, 1451.0, 2.0, 3.0, 15.0, 29.0, 1.0, 1.0]], [17.810441366384648, 2.189558633615349], [0.8905220683192325, 0.10947793168076747], 0.0, 'No Risk'], ['no_checking', 31, 'prior_payments_delayed', 'appliances', 5396, '100_to_500', 'greater_7', 4, 'male', 'none', 3, 'savings_insurance', 52, 'none', 'free', 2, 'skilled', 1, 'none', 'yes', 0.0, 0.0, 2.0, 1.0, 0.0, 2.0, 0.0, 0.0, 4.0, 0.0, 0.0, 0.0, 0.0, [21, [2, 3, 4, 9, 13, 14, 15, 16, 17, 18, 19, 20], [4.0, 1.0, 2.0, 2.0, 31.0, 5396.0, 4.0, 3.0, 31.0, 52.0, 2.0, 1.0]], [9.832502332732169, 10.167497667267835], [0.49162511663660835, 0.5083748833633916], 1.0, 'Risk'], ['no_checking', 23, 'outstanding_credit', 'appliances', 4926, 'unknown', '4_to_7', 4, 'male', 'none', 3, 'savings_insurance', 45, 'none', 'own', 2, 'management_self-employed', 1, 'none', 'yes', 0.0, 2.0, 1.0, 4.0, 0.0, 0.0, 0.0, 2.0, 4.0, 0.0, 0.0, 0.0, 0.0, [0.0, 2.0, 4.0, 4.0, 1.0, 0.0, 0.0, 0.0, 0.0, 0.0, 2.0, 0.0, 0.0, 23.0, 4926.0, 4.0, 3.0, 23.0, 45.0, 2.0, 1.0], [11.09657571334636, 8.90342428665364], [0.554828785667318, 0.44517121433268203], 0.0, 'No Risk'], ['0_to_200', 8, 'all_credits_paid_back', 'education', 4584, 'less_100', 'less_1', 3, 'female', 'none', 3, 'savings_insurance', 19, 'none', 'own', 1, 'skilled', 2, 'none', 'yes', 2.0, 3.0, 3.0, 0.0, 0.0, 0.0, 0.0, 0.0, 7.0, 0.0, 0.0, 1.0, 0.0, [2.0, 3.0, 7.0, 0.0, 3.0, 1.0, 0.0, 0.0, 0.0, 0.0, 0.0, 0.0, 0.0, 8.0, 4584.0, 3.0, 3.0, 8.0, 19.0, 1.0, 2.0], [18.24653304093778, 1.7534669590622185], [0.912326652046889, 0.08767334795311092], 0.0, 'No Risk'], ['0_to_200', 4, 'credits_paid_to_date', 'furniture', 1921, 'less_100', 'less_1', 2, 'female', 'none', 3, 'savings_insurance', 21, 'none', 'rent', 1, 'management_self-employed', 1, 'none', 'yes', 2.0, 1.0, 3.0, 0.0, 0.0, 1.0, 0.0, 2.0, 1.0, 0.0, 0.0, 1.0, 0.0, [2.0, 1.0, 1.0, 0.0, 3.0, 1.0, 0.0, 0.0, 0.0, 1.0, 2.0, 0.0, 0.0, 4.0, 1921.0, 2.0, 3.0, 4.0, 21.0, 1.0, 1.0], [18.84200573495107, 1.1579942650489328], [0.9421002867475533, 0.05789971325244663], 0.0, 'No Risk'], ['0_to_200', 33, 'prior_payments_delayed', 'business', 5622, 'greater_1000', 'greater_7', 3, 'male', 'none', 2, 'unknown', 37, 'stores', 'own', 2, 'skilled', 1, 'none', 'yes', 2.0, 0.0, 2.0, 3.0, 0.0, 0.0, 1.0, 0.0, 9.0, 0.0, 3.0, 0.0, 0.0, [2.0, 0.0, 9.0, 3.0, 2.0, 0.0, 0.0, 3.0, 1.0, 0.0, 0.0, 0.0, 0.0, 33.0, 5622.0, 3.0, 2.0, 33.0, 37.0, 2.0, 1.0], [12.007853189044322, 7.9921468109556795], [0.6003926594522161, 0.39960734054778396], 0.0, 'No Risk'], ['0_to_200', 15, 'prior_payments_delayed', 'radio_tv', 2943, 'less_100', '4_to_7', 3, 'male', 'co-applicant', 4, 'savings_insurance', 41, 'none', 'free', 1, 'skilled', 1, 'yes', 'yes', 2.0, 0.0, 1.0, 0.0, 0.0, 2.0, 0.0, 0.0, 3.0, 1.0, 0.0, 0.0, 1.0, [2.0, 0.0, 3.0, 0.0, 1.0, 0.0, 1.0, 0.0, 0.0, 2.0, 0.0, 1.0, 0.0, 15.0, 2943.0, 3.0, 4.0, 15.0, 41.0, 1.0, 1.0], [12.001615666161088, 7.998384333838909], [0.6000807833080545, 0.3999192166919455], 0.0, 'No Risk'], ['less_0', 28, 'outstanding_credit', 'furniture', 4289, '100_to_500', '4_to_7', 4, 'male', 'none', 3, 'unknown', 36, 'none', 'own', 1, 'skilled', 1, 'none', 'yes', 1.0, 2.0, 1.0, 1.0, 0.0, 0.0, 0.0, 0.0, 1.0, 0.0, 3.0, 0.0, 0.0, [1.0, 2.0, 1.0, 1.0, 1.0, 0.0, 0.0, 3.0, 0.0, 0.0, 0.0, 0.0, 0.0, 28.0, 4289.0, 4.0, 3.0, 28.0, 36.0, 1.0, 1.0], [12.662029286273471, 7.337970713726525], [0.6331014643136736, 0.36689853568632635], 0.0, 'No Risk'], ['less_0', 9, 'all_credits_paid_back', 'radio_tv', 602, 'less_100', 'less_1', 1, 'male', 'none', 2, 'savings_insurance', 35, 'stores', 'rent', 1, 'skilled', 1, 'none', 'yes', 1.0, 3.0, 3.0, 0.0, 0.0, 1.0, 1.0, 0.0, 3.0, 0.0, 0.0, 0.0, 0.0, [1.0, 3.0, 3.0, 0.0, 3.0, 0.0, 0.0, 0.0, 1.0, 1.0, 0.0, 0.0, 0.0, 9.0, 602.0, 1.0, 2.0, 9.0, 35.0, 1.0, 1.0], [18.564363167846455, 1.4356368321535442], [0.9282181583923228, 0.07178184160767721], 0.0, 'No Risk'], ['0_to_200', 10, 'credits_paid_to_date', 'car_new', 250, 'less_100', '4_to_7', 2, 'female', 'none', 2, 'real_estate', 29, 'stores', 'own', 1, 'skilled', 1, 'none', 'yes', 2.0, 1.0, 1.0, 0.0, 0.0, 0.0, 1.0, 0.0, 0.0, 0.0, 2.0, 1.0, 0.0, [2.0, 1.0, 0.0, 0.0, 1.0, 1.0, 0.0, 2.0, 1.0, 0.0, 0.0, 0.0, 0.0, 10.0, 250.0, 2.0, 2.0, 10.0, 29.0, 1.0, 1.0], [18.674014777924707, 1.3259852220752908], [0.9337007388962354, 0.06629926110376454], 0.0, 'No Risk'], ['no_checking', 31, 'outstanding_credit', 'repairs', 5603, '500_to_1000', 'greater_7', 4, 'male', 'co-applicant', 3, 'car_other', 52, 'none', 'free', 2, 'skilled', 1, 'yes', 'yes', 0.0, 2.0, 2.0, 2.0, 0.0, 2.0, 0.0, 0.0, 5.0, 1.0, 1.0, 0.0, 1.0, [0.0, 2.0, 5.0, 2.0, 2.0, 0.0, 1.0, 1.0, 0.0, 2.0, 0.0, 1.0, 0.0, 31.0, 5603.0, 4.0, 3.0, 31.0, 52.0, 2.0, 1.0], [2.130148344945627, 17.869851655054372], [0.10650741724728134, 0.8934925827527186], 1.0, 'Risk'], ['0_to_200', 30, 'credits_paid_to_date', 'radio_tv', 2799, 'greater_1000', '4_to_7', 2, 'male', 'none', 2, 'savings_insurance', 40, 'stores', 'own', 2, 'unskilled', 1, 'yes', 'yes', 2.0, 1.0, 1.0, 3.0, 0.0, 0.0, 1.0, 1.0, 3.0, 0.0, 0.0, 0.0, 1.0, [2.0, 1.0, 3.0, 3.0, 1.0, 0.0, 0.0, 0.0, 1.0, 0.0, 1.0, 1.0, 0.0, 30.0, 2799.0, 2.0, 2.0, 30.0, 40.0, 2.0, 1.0], [14.296802005494193, 5.70319799450581], [0.7148401002747096, 0.2851598997252905], 0.0, 'No Risk'], ['0_to_200', 6, 'prior_payments_delayed', 'car_used', 5139, 'less_100', '1_to_4', 3, 'female', 'co-applicant', 3, 'unknown', 38, 'none', 'own', 1, 'skilled', 1, 'none', 'yes', 2.0, 0.0, 0.0, 0.0, 0.0, 0.0, 0.0, 0.0, 2.0, 1.0, 3.0, 1.0, 0.0, [2.0, 0.0, 2.0, 0.0, 0.0, 1.0, 1.0, 3.0, 0.0, 0.0, 0.0, 0.0, 0.0, 6.0, 5139.0, 3.0, 3.0, 6.0, 38.0, 1.0, 1.0], [13.863074754017148, 6.136925245982851], [0.6931537377008574, 0.3068462622991425], 0.0, 'No Risk'], ['0_to_200', 17, 'prior_payments_delayed', 'retraining', 3990, 'greater_1000', 'greater_7', 4, 'male', 'none', 3, 'car_other', 40, 'none', 'own', 2, 'skilled', 1, 'none', 'yes', 2.0, 0.0, 2.0, 3.0, 0.0, 0.0, 0.0, 0.0, 8.0, 0.0, 1.0, 0.0, 0.0, [2.0, 0.0, 8.0, 3.0, 2.0, 0.0, 0.0, 1.0, 0.0, 0.0, 0.0, 0.0, 0.0, 17.0, 3990.0, 4.0, 3.0, 17.0, 40.0, 2.0, 1.0], [12.891661052329127, 7.108338947670871], [0.6445830526164563, 0.35541694738354357], 0.0, 'No Risk'], ['0_to_200', 24, 'outstanding_credit', 'car_used', 2864, 'unknown', 'greater_7', 4, 'male', 'none', 4, 'unknown', 26, 'none', 'own', 1, 'skilled', 1, 'yes', 'yes', 2.0, 2.0, 2.0, 4.0, 0.0, 0.0, 0.0, 0.0, 2.0, 0.0, 3.0, 0.0, 1.0, [2.0, 2.0, 2.0, 4.0, 2.0, 0.0, 0.0, 3.0, 0.0, 0.0, 0.0, 1.0, 0.0, 24.0, 2864.0, 4.0, 4.0, 24.0, 26.0, 1.0, 1.0], [13.441494886370261, 6.558505113629736], [0.6720747443185132, 0.32792525568148684], 0.0, 'No Risk'], ['0_to_200', 16, 'credits_paid_to_date', 'car_new', 547, '500_to_1000', 'less_1', 2, 'female', 'none', 3, 'real_estate', 22, 'none', 'own', 1, 'skilled', 1, 'none', 'yes', 2.0, 1.0, 3.0, 2.0, 0.0, 0.0, 0.0, 0.0, 0.0, 0.0, 2.0, 1.0, 0.0, [2.0, 1.0, 0.0, 2.0, 3.0, 1.0, 0.0, 2.0, 0.0, 0.0, 0.0, 0.0, 0.0, 16.0, 547.0, 2.0, 3.0, 16.0, 22.0, 1.0, 1.0], [18.824684245680928, 1.175315754319073], [0.9412342122840464, 0.05876578771595366], 0.0, 'No Risk'], ['no_checking', 8, 'prior_payments_delayed', 'repairs', 4698, '100_to_500', '1_to_4', 3, 'male', 'none', 4, 'car_other', 35, 'none', 'own', 1, 'management_self-employed', 2, 'yes', 'yes', 0.0, 0.0, 0.0, 1.0, 0.0, 0.0, 0.0, 2.0, 5.0, 0.0, 1.0, 0.0, 1.0, [0.0, 0.0, 5.0, 1.0, 0.0, 0.0, 0.0, 1.0, 0.0, 0.0, 2.0, 1.0, 0.0, 8.0, 4698.0, 3.0, 4.0, 8.0, 35.0, 1.0, 2.0], [13.613510123690299, 6.386489876309697], [0.680675506184515, 0.3193244938154849], 0.0, 'No Risk'], ['less_0', 19, 'all_credits_paid_back', 'furniture', 250, 'less_100', 'less_1', 1, 'male', 'none', 1, 'real_estate', 36, 'bank', 'rent', 1, 'unemployed', 1, 'none', 'yes', 1.0, 3.0, 3.0, 0.0, 0.0, 1.0, 2.0, 3.0, 1.0, 0.0, 2.0, 0.0, 0.0, [1.0, 3.0, 1.0, 0.0, 3.0, 0.0, 0.0, 2.0, 2.0, 1.0, 3.0, 0.0, 0.0, 19.0, 250.0, 1.0, 1.0, 19.0, 36.0, 1.0, 1.0], [18.73245728775433, 1.267542712245676], [0.9366228643877162, 0.06337713561228378], 0.0, 'No Risk'], ['0_to_200', 17, 'prior_payments_delayed', 'radio_tv', 2727, '100_to_500', 'greater_7', 3, 'male', 'none', 3, 'car_other', 40, 'none', 'own', 1, 'skilled', 2, 'yes', 'yes', 2.0, 0.0, 2.0, 1.0, 0.0, 0.0, 0.0, 0.0, 3.0, 0.0, 1.0, 0.0, 1.0, [2.0, 0.0, 3.0, 1.0, 2.0, 0.0, 0.0, 1.0, 0.0, 0.0, 0.0, 1.0, 0.0, 17.0, 2727.0, 3.0, 3.0, 17.0, 40.0, 1.0, 2.0], [13.022793838208745, 6.977206161791251], [0.6511396919104374, 0.34886030808956264], 0.0, 'No Risk'], ['0_to_200', 21, 'all_credits_paid_back', 'car_new', 2903, '100_to_500', '1_to_4', 3, 'female', 'none', 2, 'savings_insurance', 28, 'bank', 'rent', 1, 'unemployed', 1, 'none', 'yes', 2.0, 3.0, 0.0, 1.0, 0.0, 1.0, 2.0, 3.0, 0.0, 0.0, 0.0, 1.0, 0.0, [2.0, 3.0, 0.0, 1.0, 0.0, 1.0, 0.0, 0.0, 2.0, 1.0, 3.0, 0.0, 0.0, 21.0, 2903.0, 3.0, 2.0, 21.0, 28.0, 1.0, 1.0], [17.17157621111113, 2.8284237888888706], [0.8585788105555565, 0.14142118944444354], 0.0, 'No Risk'], ['less_0', 12, 'all_credits_paid_back', 'furniture', 3525, 'less_100', 'unemployed', 2, 'male', 'co-applicant', 3, 'real_estate', 32, 'none', 'own', 1, 'skilled', 1, 'yes', 'yes', 1.0, 3.0, 4.0, 0.0, 0.0, 0.0, 0.0, 0.0, 1.0, 1.0, 2.0, 0.0, 1.0, [1.0, 3.0, 1.0, 0.0, 4.0, 0.0, 1.0, 2.0, 0.0, 0.0, 0.0, 1.0, 0.0, 12.0, 3525.0, 2.0, 3.0, 12.0, 32.0, 1.0, 1.0], [17.61978137312988, 2.380218626870118], [0.8809890686564941, 0.11901093134350593], 0.0, 'No Risk'], ['0_to_200', 4, 'credits_paid_to_date', 'car_used', 3291, '100_to_500', '4_to_7', 3, 'female', 'none', 3, 'real_estate', 27, 'none', 'own', 2, 'skilled', 1, 'none', 'yes', 2.0, 1.0, 1.0, 1.0, 0.0, 0.0, 0.0, 0.0, 2.0, 0.0, 2.0, 1.0, 0.0, [2.0, 1.0, 2.0, 1.0, 1.0, 1.0, 0.0, 2.0, 0.0, 0.0, 0.0, 0.0, 0.0, 4.0, 3291.0, 3.0, 3.0, 4.0, 27.0, 2.0, 1.0], [16.225887575747432, 3.7741124242525643], [0.8112943787873718, 0.18870562121262824], 0.0, 'No Risk'], ['less_0', 13, 'prior_payments_delayed', 'car_used', 1793, 'less_100', '1_to_4', 2, 'male', 'none', 1, 'savings_insurance', 41, 'stores', 'own', 1, 'skilled', 1, 'none', 'yes', 1.0, 0.0, 0.0, 0.0, 0.0, 0.0, 1.0, 0.0, 2.0, 0.0, 0.0, 0.0, 0.0, [21, [0, 2, 8, 13, 14, 15, 16, 17, 18, 19, 20], [1.0, 2.0, 1.0, 13.0, 1793.0, 2.0, 1.0, 13.0, 41.0, 1.0, 1.0]], [16.533668717136347, 3.466331282863653], [0.8266834358568174, 0.17331656414318267], 0.0, 'No Risk'], ['0_to_200', 36, 'prior_payments_delayed', 'business', 4938, '100_to_500', '4_to_7', 4, 'male', 'none', 3, 'unknown', 42, 'none', 'own', 2, 'skilled', 1, 'none', 'yes', 2.0, 0.0, 1.0, 1.0, 0.0, 0.0, 0.0, 0.0, 9.0, 0.0, 3.0, 0.0, 0.0, [2.0, 0.0, 9.0, 1.0, 1.0, 0.0, 0.0, 3.0, 0.0, 0.0, 0.0, 0.0, 0.0, 36.0, 4938.0, 4.0, 3.0, 36.0, 42.0, 2.0, 1.0], [11.33654513781358, 8.66345486218642], [0.566827256890679, 0.43317274310932097], 0.0, 'No Risk'], ['no_checking', 41, 'outstanding_credit', 'education', 5895, 'unknown', 'greater_7', 4, 'female', 'co-applicant', 5, 'car_other', 53, 'none', 'own', 3, 'skilled', 2, 'yes', 'yes', 0.0, 2.0, 2.0, 4.0, 0.0, 0.0, 0.0, 0.0, 7.0, 1.0, 1.0, 1.0, 1.0, [0.0, 2.0, 7.0, 4.0, 2.0, 1.0, 1.0, 1.0, 0.0, 0.0, 0.0, 1.0, 0.0, 41.0, 5895.0, 4.0, 5.0, 41.0, 53.0, 3.0, 2.0], [2.487343994150262, 17.51265600584974], [0.12436719970751312, 0.8756328002924869], 1.0, 'Risk'], ['0_to_200', 32, 'outstanding_credit', 'radio_tv', 3649, '500_to_1000', '4_to_7', 4, 'male', 'none', 3, 'car_other', 35, 'none', 'own', 1, 'skilled', 1, 'none', 'yes', 2.0, 2.0, 1.0, 2.0, 0.0, 0.0, 0.0, 0.0, 3.0, 0.0, 1.0, 0.0, 0.0, [2.0, 2.0, 3.0, 2.0, 1.0, 0.0, 0.0, 1.0, 0.0, 0.0, 0.0, 0.0, 0.0, 32.0, 3649.0, 4.0, 3.0, 32.0, 35.0, 1.0, 1.0], [12.485029360718366, 7.514970639281633], [0.6242514680359184, 0.37574853196408164], 0.0, 'No Risk'], ['less_0', 28, 'credits_paid_to_date', 'radio_tv', 5386, 'less_100', '1_to_4', 2, 'male', 'none', 2, 'car_other', 34, 'none', 'rent', 1, 'skilled', 1, 'none', 'yes', 1.0, 1.0, 0.0, 0.0, 0.0, 1.0, 0.0, 0.0, 3.0, 0.0, 1.0, 0.0, 0.0, [1.0, 1.0, 3.0, 0.0, 0.0, 0.0, 0.0, 1.0, 0.0, 1.0, 0.0, 0.0, 0.0, 28.0, 5386.0, 2.0, 2.0, 28.0, 34.0, 1.0, 1.0], [13.846293017499445, 6.153706982500556], [0.6923146508749722, 0.3076853491250278], 0.0, 'No Risk'], ['less_0', 24, 'credits_paid_to_date', 'radio_tv', 2191, '500_to_1000', '4_to_7', 2, 'male', 'none', 3, 'savings_insurance', 27, 'stores', 'own', 2, 'skilled', 1, 'none', 'yes', 1.0, 1.0, 1.0, 2.0, 0.0, 0.0, 1.0, 0.0, 3.0, 0.0, 0.0, 0.0, 0.0, [1.0, 1.0, 3.0, 2.0, 1.0, 0.0, 0.0, 0.0, 1.0, 0.0, 0.0, 0.0, 0.0, 24.0, 2191.0, 2.0, 3.0, 24.0, 27.0, 2.0, 1.0], [15.307340690147463, 4.692659309852539], [0.7653670345073731, 0.23463296549262697], 0.0, 'No Risk'], ['no_checking', 18, 'outstanding_credit', 'radio_tv', 6087, 'unknown', 'greater_7', 3, 'male', 'co-applicant', 3, 'unknown', 53, 'none', 'own', 2, 'skilled', 1, 'yes', 'yes', 0.0, 2.0, 2.0, 4.0, 0.0, 0.0, 0.0, 0.0, 3.0, 1.0, 3.0, 0.0, 1.0, [0.0, 2.0, 3.0, 4.0, 2.0, 0.0, 1.0, 3.0, 0.0, 0.0, 0.0, 1.0, 0.0, 18.0, 6087.0, 3.0, 3.0, 18.0, 53.0, 2.0, 1.0], [4.010696987900005, 15.989303012099993], [0.20053484939500024, 0.7994651506049997], 1.0, 'Risk'], ['less_0', 17, 'prior_payments_delayed', 'repairs', 2764, 'less_100', '4_to_7', 3, 'male', 'none', 2, 'car_other', 30, 'none', 'own', 1, 'skilled', 1, 'yes', 'yes', 1.0, 0.0, 1.0, 0.0, 0.0, 0.0, 0.0, 0.0, 5.0, 0.0, 1.0, 0.0, 1.0, [1.0, 0.0, 5.0, 0.0, 1.0, 0.0, 0.0, 1.0, 0.0, 0.0, 0.0, 1.0, 0.0, 17.0, 2764.0, 3.0, 2.0, 17.0, 30.0, 1.0, 1.0], [16.00640302960959, 3.993596970390411], [0.8003201514804795, 0.19967984851952053], 0.0, 'No Risk'], ['no_checking', 47, 'outstanding_credit', 'radio_tv', 4866, 'greater_1000', 'greater_7', 4, 'male', 'co-applicant', 4, 'car_other', 40, 'bank', 'own', 2, 'unemployed', 1, 'yes', 'yes', 0.0, 2.0, 2.0, 3.0, 0.0, 0.0, 2.0, 3.0, 3.0, 1.0, 1.0, 0.0, 1.0, [0.0, 2.0, 3.0, 3.0, 2.0, 0.0, 1.0, 1.0, 2.0, 0.0, 3.0, 1.0, 0.0, 47.0, 4866.0, 4.0, 4.0, 47.0, 40.0, 2.0, 1.0], [4.837393486301464, 15.162606513698536], [0.24186967431507317, 0.7581303256849268], 1.0, 'Risk'], ['less_0', 31, 'credits_paid_to_date', 'car_used', 4532, 'less_100', '4_to_7', 3, 'female', 'none', 2, 'car_other', 29, 'stores', 'own', 1, 'unskilled', 1, 'none', 'yes', 1.0, 1.0, 1.0, 0.0, 0.0, 0.0, 1.0, 1.0, 2.0, 0.0, 1.0, 1.0, 0.0, [1.0, 1.0, 2.0, 0.0, 1.0, 1.0, 0.0, 1.0, 1.0, 0.0, 1.0, 0.0, 0.0, 31.0, 4532.0, 3.0, 2.0, 31.0, 29.0, 1.0, 1.0], [14.907698286984242, 5.092301713015759], [0.7453849143492122, 0.25461508565078794], 0.0, 'No Risk'], ['less_0', 16, 'credits_paid_to_date', 'furniture', 1488, 'less_100', 'less_1', 2, 'female', 'none', 2, 'real_estate', 21, 'none', 'own', 2, 'skilled', 1, 'none', 'yes', 1.0, 1.0, 3.0, 0.0, 0.0, 0.0, 0.0, 0.0, 1.0, 0.0, 2.0, 1.0, 0.0, [1.0, 1.0, 1.0, 0.0, 3.0, 1.0, 0.0, 2.0, 0.0, 0.0, 0.0, 0.0, 0.0, 16.0, 1488.0, 2.0, 2.0, 16.0, 21.0, 2.0, 1.0], [18.47697257817991, 1.5230274218200897], [0.9238486289089956, 0.07615137109100448], 0.0, 'No Risk'], ['no_checking', 8, 'prior_payments_delayed', 'repairs', 3724, '100_to_500', '1_to_4', 4, 'female', 'none', 4, 'savings_insurance', 39, 'none', 'own', 1, 'management_self-employed', 1, 'none', 'yes', 0.0, 0.0, 0.0, 1.0, 0.0, 0.0, 0.0, 2.0, 5.0, 0.0, 0.0, 1.0, 0.0, [21, [2, 3, 5, 10, 13, 14, 15, 16, 17, 18, 19, 20], [5.0, 1.0, 1.0, 2.0, 8.0, 3724.0, 4.0, 4.0, 8.0, 39.0, 1.0, 1.0]], [13.57703905457996, 6.422960945420041], [0.678851952728998, 0.32114804727100205], 0.0, 'No Risk'], ['less_0', 29, 'outstanding_credit', 'car_used', 690, '100_to_500', 'greater_7', 3, 'male', 'none', 3, 'unknown', 34, 'stores', 'own', 1, 'skilled', 1, 'none', 'yes', 1.0, 2.0, 2.0, 1.0, 0.0, 0.0, 1.0, 0.0, 2.0, 0.0, 3.0, 0.0, 0.0, [1.0, 2.0, 2.0, 1.0, 2.0, 0.0, 0.0, 3.0, 1.0, 0.0, 0.0, 0.0, 0.0, 29.0, 690.0, 3.0, 3.0, 29.0, 34.0, 1.0, 1.0], [13.081074049473798, 6.9189259505262015], [0.6540537024736899, 0.34594629752631006], 0.0, 'No Risk'], ['less_0', 13, 'prior_payments_delayed', 'furniture', 1308, 'less_100', 'less_1', 2, 'male', 'none', 3, 'car_other', 26, 'bank', 'rent', 1, 'unemployed', 1, 'none', 'yes', 1.0, 0.0, 3.0, 0.0, 0.0, 1.0, 2.0, 3.0, 1.0, 0.0, 1.0, 0.0, 0.0, [1.0, 0.0, 1.0, 0.0, 3.0, 0.0, 0.0, 1.0, 2.0, 1.0, 3.0, 0.0, 0.0, 13.0, 1308.0, 2.0, 3.0, 13.0, 26.0, 1.0, 1.0], [18.20481907465266, 1.7951809253473412], [0.9102409537326329, 0.08975904626736704], 0.0, 'No Risk'], ['0_to_200', 4, 'prior_payments_delayed', 'car_used', 5191, 'less_100', '1_to_4', 3, 'male', 'co-applicant', 3, 'car_other', 35, 'none', 'own', 1, 'skilled', 1, 'none', 'yes', 2.0, 0.0, 0.0, 0.0, 0.0, 0.0, 0.0, 0.0, 2.0, 1.0, 1.0, 0.0, 0.0, [21, [0, 2, 6, 7, 13, 14, 15, 16, 17, 18, 19, 20], [2.0, 2.0, 1.0, 1.0, 4.0, 5191.0, 3.0, 3.0, 4.0, 35.0, 1.0, 1.0]], [14.109607032540751, 5.890392967459247], [0.7054803516270376, 0.29451964837296235], 0.0, 'No Risk'], ['0_to_200', 17, 'credits_paid_to_date', 'car_used', 3343, 'less_100', 'unemployed', 3, 'female', 'none', 3, 'savings_insurance', 19, 'none', 'own', 1, 'skilled', 1, 'none', 'yes', 2.0, 1.0, 4.0, 0.0, 0.0, 0.0, 0.0, 0.0, 2.0, 0.0, 0.0, 1.0, 0.0, [2.0, 1.0, 2.0, 0.0, 4.0, 1.0, 0.0, 0.0, 0.0, 0.0, 0.0, 0.0, 0.0, 17.0, 3343.0, 3.0, 3.0, 17.0, 19.0, 1.0, 1.0], [17.951512115521016, 2.0484878844789804], [0.897575605776051, 0.10242439422394904], 0.0, 'No Risk'], ['0_to_200', 4, 'all_credits_paid_back', 'repairs', 1129, 'less_100', 'less_1', 1, 'male', 'co-applicant', 1, 'savings_insurance', 28, 'stores', 'own', 1, 'skilled', 1, 'none', 'yes', 2.0, 3.0, 3.0, 0.0, 0.0, 0.0, 1.0, 0.0, 5.0, 1.0, 0.0, 0.0, 0.0, [2.0, 3.0, 5.0, 0.0, 3.0, 0.0, 1.0, 0.0, 1.0, 0.0, 0.0, 0.0, 0.0, 4.0, 1129.0, 1.0, 1.0, 4.0, 28.0, 1.0, 1.0], [18.98644286544756, 1.0135571345524412], [0.9493221432723778, 0.05067785672762205], 0.0, 'No Risk'], ['less_0', 7, 'all_credits_paid_back', 'car_used', 250, 'less_100', 'less_1', 1, 'female', 'none', 2, 'savings_insurance', 24, 'stores', 'own', 1, 'skilled', 1, 'none', 'yes', 1.0, 3.0, 3.0, 0.0, 0.0, 0.0, 1.0, 0.0, 2.0, 0.0, 0.0, 1.0, 0.0, [1.0, 3.0, 2.0, 0.0, 3.0, 1.0, 0.0, 0.0, 1.0, 0.0, 0.0, 0.0, 0.0, 7.0, 250.0, 1.0, 2.0, 7.0, 24.0, 1.0, 1.0], [19.30728710725305, 0.6927128927469494], [0.9653643553626525, 0.03463564463734747], 0.0, 'No Risk'], ['0_to_200', 7, 'all_credits_paid_back', 'car_new', 250, 'less_100', 'less_1', 1, 'female', 'none', 1, 'real_estate', 28, 'none', 'own', 1, 'skilled', 1, 'none', 'yes', 2.0, 3.0, 3.0, 0.0, 0.0, 0.0, 0.0, 0.0, 0.0, 0.0, 2.0, 1.0, 0.0, [2.0, 3.0, 0.0, 0.0, 3.0, 1.0, 0.0, 2.0, 0.0, 0.0, 0.0, 0.0, 0.0, 7.0, 250.0, 1.0, 1.0, 7.0, 28.0, 1.0, 1.0], [19.569305393913247, 0.43069460608675353], [0.9784652696956624, 0.021534730304337675], 0.0, 'No Risk'], ['0_to_200', 11, 'credits_paid_to_date', 'car_used', 1189, 'less_100', '1_to_4', 2, 'male', 'none', 3, 'real_estate', 26, 'none', 'own', 1, 'skilled', 1, 'none', 'yes', 2.0, 1.0, 0.0, 0.0, 0.0, 0.0, 0.0, 0.0, 2.0, 0.0, 2.0, 0.0, 0.0, [21, [0, 1, 2, 7, 13, 14, 15, 16, 17, 18, 19, 20], [2.0, 1.0, 2.0, 2.0, 11.0, 1189.0, 2.0, 3.0, 11.0, 26.0, 1.0, 1.0]], [18.17930568779666, 1.820694312203335], [0.9089652843898332, 0.09103471561016677], 0.0, 'No Risk'], ['no_checking', 28, 'outstanding_credit', 'appliances', 4244, '500_to_1000', 'greater_7', 5, 'male', 'none', 4, 'car_other', 35, 'bank', 'own', 2, 'unskilled', 1, 'yes', 'yes', 0.0, 2.0, 2.0, 2.0, 0.0, 0.0, 2.0, 1.0, 4.0, 0.0, 1.0, 0.0, 1.0, [0.0, 2.0, 4.0, 2.0, 2.0, 0.0, 0.0, 1.0, 2.0, 0.0, 1.0, 1.0, 0.0, 28.0, 4244.0, 5.0, 4.0, 28.0, 35.0, 2.0, 1.0], [10.333137032220172, 9.666862967779826], [0.5166568516110086, 0.4833431483889913], 0.0, 'No Risk'], ['no_checking', 33, 'prior_payments_delayed', 'appliances', 2282, '500_to_1000', '4_to_7', 4, 'male', 'none', 4, 'real_estate', 56, 'none', 'own', 1, 'management_self-employed', 2, 'yes', 'yes', 0.0, 0.0, 1.0, 2.0, 0.0, 0.0, 0.0, 2.0, 4.0, 0.0, 2.0, 0.0, 1.0, [0.0, 0.0, 4.0, 2.0, 1.0, 0.0, 0.0, 2.0, 0.0, 0.0, 2.0, 1.0, 0.0, 33.0, 2282.0, 4.0, 4.0, 33.0, 56.0, 1.0, 2.0], [8.631045391294268, 11.36895460870573], [0.43155226956471343, 0.5684477304352865], 1.0, 'Risk'], ['no_checking', 42, 'outstanding_credit', 'other', 9426, 'greater_1000', 'greater_7', 6, 'male', 'co-applicant', 5, 'unknown', 58, 'none', 'free', 2, 'skilled', 1, 'yes', 'yes', 0.0, 2.0, 2.0, 3.0, 0.0, 2.0, 0.0, 0.0, 10.0, 1.0, 3.0, 0.0, 1.0, [0.0, 2.0, 10.0, 3.0, 2.0, 0.0, 1.0, 3.0, 0.0, 2.0, 0.0, 1.0, 0.0, 42.0, 9426.0, 6.0, 5.0, 42.0, 58.0, 2.0, 1.0], [0.9886599241696923, 19.011340075830308], [0.04943299620848461, 0.9505670037915154], 1.0, 'Risk'], ['no_checking', 25, 'prior_payments_delayed', 'radio_tv', 1633, '500_to_1000', 'greater_7', 4, 'male', 'none', 4, 'savings_insurance', 35, 'none', 'own', 1, 'skilled', 1, 'yes', 'yes', 0.0, 0.0, 2.0, 2.0, 0.0, 0.0, 0.0, 0.0, 3.0, 0.0, 0.0, 0.0, 1.0, [21, [2, 3, 4, 11, 13, 14, 15, 16, 17, 18, 19, 20], [3.0, 2.0, 2.0, 1.0, 25.0, 1633.0, 4.0, 4.0, 25.0, 35.0, 1.0, 1.0]], [10.624008901434944, 9.375991098565056], [0.5312004450717472, 0.46879955492825276], 0.0, 'No Risk'], ['0_to_200', 4, 'all_credits_paid_back', 'car_new', 250, 'less_100', 'less_1', 1, 'male', 'none', 1, 'real_estate', 19, 'none', 'own', 1, 'skilled', 1, 'none', 'yes', 2.0, 3.0, 3.0, 0.0, 0.0, 0.0, 0.0, 0.0, 0.0, 0.0, 2.0, 0.0, 0.0, [21, [0, 1, 4, 7, 13, 14, 15, 16, 17, 18, 19, 20], [2.0, 3.0, 3.0, 2.0, 4.0, 250.0, 1.0, 1.0, 4.0, 19.0, 1.0, 1.0]], [19.569305393913247, 0.43069460608675353], [0.9784652696956624, 0.021534730304337675], 0.0, 'No Risk'], ['no_checking', 22, 'outstanding_credit', 'appliances', 6563, '500_to_1000', 'greater_7', 4, 'male', 'none', 4, 'car_other', 39, 'none', 'free', 2, 'skilled', 1, 'yes', 'yes', 0.0, 2.0, 2.0, 2.0, 0.0, 2.0, 0.0, 0.0, 4.0, 0.0, 1.0, 0.0, 1.0, [0.0, 2.0, 4.0, 2.0, 2.0, 0.0, 0.0, 1.0, 0.0, 2.0, 0.0, 1.0, 0.0, 22.0, 6563.0, 4.0, 4.0, 22.0, 39.0, 2.0, 1.0], [8.391649255810702, 11.608350744189297], [0.41958246279053507, 0.5804175372094649], 1.0, 'Risk'], ['less_0', 5, 'prior_payments_delayed', 'car_new', 250, 'less_100', '1_to_4', 2, 'female', 'none', 3, 'real_estate', 26, 'none', 'own', 1, 'skilled', 1, 'yes', 'yes', 1.0, 0.0, 0.0, 0.0, 0.0, 0.0, 0.0, 0.0, 0.0, 0.0, 2.0, 1.0, 1.0, [21, [0, 5, 7, 11, 13, 14, 15, 16, 17, 18, 19, 20], [1.0, 1.0, 2.0, 1.0, 5.0, 250.0, 2.0, 3.0, 5.0, 26.0, 1.0, 1.0]], [17.70905745892549, 2.2909425410745126], [0.8854528729462745, 0.11454712705372563], 0.0, 'No Risk'], ['0_to_200', 13, 'credits_paid_to_date', 'car_new', 3837, '500_to_1000', '1_to_4', 3, 'female', 'none', 2, 'real_estate', 39, 'none', 'own', 2, 'skilled', 1, 'none', 'yes', 2.0, 1.0, 0.0, 2.0, 0.0, 0.0, 0.0, 0.0, 0.0, 0.0, 2.0, 1.0, 0.0, [2.0, 1.0, 0.0, 2.0, 0.0, 1.0, 0.0, 2.0, 0.0, 0.0, 0.0, 0.0, 0.0, 13.0, 3837.0, 3.0, 2.0, 13.0, 39.0, 2.0, 1.0], [15.64173484971989, 4.358265150280109], [0.7820867424859945, 0.21791325751400542], 0.0, 'No Risk'], ['0_to_200', 4, 'all_credits_paid_back', 'car_new', 250, 'less_100', '1_to_4', 2, 'female', 'none', 2, 'real_estate', 23, 'none', 'own', 1, 'management_self-employed', 1, 'yes', 'yes', 2.0, 3.0, 0.0, 0.0, 0.0, 0.0, 0.0, 2.0, 0.0, 0.0, 2.0, 1.0, 1.0, [2.0, 3.0, 0.0, 0.0, 0.0, 1.0, 0.0, 2.0, 0.0, 0.0, 2.0, 1.0, 0.0, 4.0, 250.0, 2.0, 2.0, 4.0, 23.0, 1.0, 1.0], [18.19813734651219, 1.801862653487807], [0.9099068673256097, 0.09009313267439037], 0.0, 'No Risk'], ['0_to_200', 17, 'credits_paid_to_date', 'car_new', 2509, 'less_100', '1_to_4', 3, 'male', 'none', 2, 'savings_insurance', 29, 'none', 'own', 1, 'skilled', 1, 'none', 'yes', 2.0, 1.0, 0.0, 0.0, 0.0, 0.0, 0.0, 0.0, 0.0, 0.0, 0.0, 0.0, 0.0, [21, [0, 1, 13, 14, 15, 16, 17, 18, 19, 20], [2.0, 1.0, 17.0, 2509.0, 3.0, 2.0, 17.0, 29.0, 1.0, 1.0]], [17.773064597476388, 2.2269354025236088], [0.8886532298738196, 0.11134677012618045], 0.0, 'No Risk'], ['greater_200', 22, 'credits_paid_to_date', 'radio_tv', 1142, '100_to_500', '1_to_4', 3, 'male', 'none', 2, 'real_estate', 38, 'none', 'own', 1, 'skilled', 1, 'yes', 'yes', 3.0, 1.0, 0.0, 1.0, 0.0, 0.0, 0.0, 0.0, 3.0, 0.0, 2.0, 0.0, 1.0, [3.0, 1.0, 3.0, 1.0, 0.0, 0.0, 0.0, 2.0, 0.0, 0.0, 0.0, 1.0, 0.0, 22.0, 1142.0, 3.0, 2.0, 22.0, 38.0, 1.0, 1.0], [16.50689763564742, 3.493102364352581], [0.825344881782371, 0.17465511821762905], 0.0, 'No Risk'], ['no_checking', 26, 'prior_payments_delayed', 'car_used', 4368, '100_to_500', '1_to_4', 3, 'male', 'none', 4, 'savings_insurance', 44, 'none', 'own', 2, 'management_self-employed', 2, 'yes', 'yes', 0.0, 0.0, 0.0, 1.0, 0.0, 0.0, 0.0, 2.0, 2.0, 0.0, 0.0, 0.0, 1.0, [21, [2, 3, 10, 11, 13, 14, 15, 16, 17, 18, 19, 20], [2.0, 1.0, 2.0, 1.0, 26.0, 4368.0, 3.0, 4.0, 26.0, 44.0, 2.0, 2.0]], [11.851493459279927, 8.14850654072007], [0.5925746729639964, 0.40742532703600354], 0.0, 'No Risk'], ['no_checking', 22, 'credits_paid_to_date', 'car_used', 4546, '100_to_500', '1_to_4', 2, 'female', 'guarantor', 4, 'savings_insurance', 38, 'none', 'own', 1, 'skilled', 1, 'yes', 'yes', 0.0, 1.0, 0.0, 1.0, 0.0, 0.0, 0.0, 0.0, 2.0, 2.0, 0.0, 1.0, 1.0, [0.0, 1.0, 2.0, 1.0, 0.0, 1.0, 2.0, 0.0, 0.0, 0.0, 0.0, 1.0, 0.0, 22.0, 4546.0, 2.0, 4.0, 22.0, 38.0, 1.0, 1.0], [13.698647966781518, 6.301352033218481], [0.6849323983390759, 0.31506760166092407], 0.0, 'No Risk'], ['no_checking', 37, 'prior_payments_delayed', 'repairs', 9800, '100_to_500', '4_to_7', 5, 'male', 'co-applicant', 5, 'car_other', 44, 'stores', 'own', 2, 'unskilled', 1, 'yes', 'yes', 0.0, 0.0, 1.0, 1.0, 0.0, 0.0, 1.0, 1.0, 5.0, 1.0, 1.0, 0.0, 1.0, [0.0, 0.0, 5.0, 1.0, 1.0, 0.0, 1.0, 1.0, 1.0, 0.0, 1.0, 1.0, 0.0, 37.0, 9800.0, 5.0, 5.0, 37.0, 44.0, 2.0, 1.0], [7.753727684429203, 12.246272315570797], [0.3876863842214601, 0.6123136157785398], 1.0, 'Risk'], ['less_0', 5, 'all_credits_paid_back', 'radio_tv', 3926, 'less_100', '4_to_7', 2, 'male', 'none', 2, 'savings_insurance', 19, 'none', 'own', 2, 'skilled', 1, 'none', 'yes', 1.0, 3.0, 1.0, 0.0, 0.0, 0.0, 0.0, 0.0, 3.0, 0.0, 0.0, 0.0, 0.0, [21, [0, 1, 2, 4, 13, 14, 15, 16, 17, 18, 19, 20], [1.0, 3.0, 3.0, 1.0, 5.0, 3926.0, 2.0, 2.0, 5.0, 19.0, 2.0, 1.0]], [16.6746208936914, 3.3253791063086005], [0.83373104468457, 0.16626895531543], 0.0, 'No Risk'], ['greater_200', 5, 'credits_paid_to_date', 'car_new', 1674, 'less_100', 'less_1', 3, 'female', 'co-applicant', 3, 'real_estate', 31, 'none', 'own', 1, 'skilled', 1, 'yes', 'yes', 3.0, 1.0, 3.0, 0.0, 0.0, 0.0, 0.0, 0.0, 0.0, 1.0, 2.0, 1.0, 1.0, [3.0, 1.0, 0.0, 0.0, 3.0, 1.0, 1.0, 2.0, 0.0, 0.0, 0.0, 1.0, 0.0, 5.0, 1674.0, 3.0, 3.0, 5.0, 31.0, 1.0, 1.0], [17.965431091702083, 2.034568908297916], [0.8982715545851041, 0.10172844541489581], 0.0, 'No Risk'], ['no_checking', 25, 'prior_payments_delayed', 'car_used', 4387, 'greater_1000', '4_to_7', 2, 'male', 'none', 3, 'car_other', 33, 'none', 'free', 2, 'skilled', 2, 'yes', 'yes', 0.0, 0.0, 1.0, 3.0, 0.0, 2.0, 0.0, 0.0, 2.0, 0.0, 1.0, 0.0, 1.0, [0.0, 0.0, 2.0, 3.0, 1.0, 0.0, 0.0, 1.0, 0.0, 2.0, 0.0, 1.0, 0.0, 25.0, 4387.0, 2.0, 3.0, 25.0, 33.0, 2.0, 2.0], [11.805597663536899, 8.194402336463103], [0.590279883176845, 0.4097201168231551], 0.0, 'No Risk'], ['greater_200', 27, 'credits_paid_to_date', 'radio_tv', 3361, 'less_100', '1_to_4', 2, 'male', 'none', 2, 'real_estate', 32, 'stores', 'own', 1, 'skilled', 1, 'yes', 'yes', 3.0, 1.0, 0.0, 0.0, 0.0, 0.0, 1.0, 0.0, 3.0, 0.0, 2.0, 0.0, 1.0, [3.0, 1.0, 3.0, 0.0, 0.0, 0.0, 0.0, 2.0, 1.0, 0.0, 0.0, 1.0, 0.0, 27.0, 3361.0, 2.0, 2.0, 27.0, 32.0, 1.0, 1.0], [15.78458027770732, 4.215419722292679], [0.789229013885366, 0.21077098611463393], 0.0, 'No Risk'], ['no_checking', 25, 'prior_payments_delayed', 'appliances', 5949, 'greater_1000', 'greater_7', 5, 'male', 'none', 5, 'savings_insurance', 53, 'none', 'own', 2, 'management_self-employed', 1, 'none', 'yes', 0.0, 0.0, 2.0, 3.0, 0.0, 0.0, 0.0, 2.0, 4.0, 0.0, 0.0, 0.0, 0.0, [21, [2, 3, 4, 10, 13, 14, 15, 16, 17, 18, 19, 20], [4.0, 3.0, 2.0, 2.0, 25.0, 5949.0, 5.0, 5.0, 25.0, 53.0, 2.0, 1.0]], [9.001086357026278, 10.998913642973719], [0.45005431785131395, 0.549945682148686], 1.0, 'Risk'], ['no_checking', 8, 'credits_paid_to_date', 'car_new', 6297, '500_to_1000', '4_to_7', 4, 'female', 'none', 3, 'car_other', 53, 'none', 'own', 2, 'management_self-employed', 1, 'none', 'yes', 0.0, 1.0, 1.0, 2.0, 0.0, 0.0, 0.0, 2.0, 0.0, 0.0, 1.0, 1.0, 0.0, [0.0, 1.0, 0.0, 2.0, 1.0, 1.0, 0.0, 1.0, 0.0, 0.0, 2.0, 0.0, 0.0, 8.0, 6297.0, 4.0, 3.0, 8.0, 53.0, 2.0, 1.0], [8.210044782801063, 11.789955217198937], [0.4105022391400531, 0.5894977608599469], 1.0, 'Risk'], ['0_to_200', 29, 'outstanding_credit', 'furniture', 5055, '500_to_1000', 'greater_7', 4, 'male', 'none', 4, 'unknown', 51, 'bank', 'rent', 2, 'unemployed', 1, 'yes', 'yes', 2.0, 2.0, 2.0, 2.0, 0.0, 1.0, 2.0, 3.0, 1.0, 0.0, 3.0, 0.0, 1.0, [2.0, 2.0, 1.0, 2.0, 2.0, 0.0, 0.0, 3.0, 2.0, 1.0, 3.0, 1.0, 0.0, 29.0, 5055.0, 4.0, 4.0, 29.0, 51.0, 2.0, 1.0], [7.495771764052462, 12.50422823594754], [0.37478858820262306, 0.625211411797377], 1.0, 'Risk'], ['less_0', 13, 'all_credits_paid_back', 'car_new', 1631, '500_to_1000', '1_to_4', 2, 'male', 'none', 2, 'savings_insurance', 32, 'bank', 'rent', 2, 'unemployed', 2, 'yes', 'yes', 1.0, 3.0, 0.0, 2.0, 0.0, 1.0, 2.0, 3.0, 0.0, 0.0, 0.0, 0.0, 1.0, [1.0, 3.0, 0.0, 2.0, 0.0, 0.0, 0.0, 0.0, 2.0, 1.0, 3.0, 1.0, 0.0, 13.0, 1631.0, 2.0, 2.0, 13.0, 32.0, 2.0, 2.0], [16.420246060581206, 3.579753939418792], [0.8210123030290604, 0.17898769697093958], 0.0, 'No Risk'], ['less_0', 24, 'credits_paid_to_date', 'radio_tv', 2770, '500_to_1000', '1_to_4', 3, 'female', 'none', 3, 'savings_insurance', 34, 'none', 'own', 1, 'skilled', 1, 'none', 'yes', 1.0, 1.0, 0.0, 2.0, 0.0, 0.0, 0.0, 0.0, 3.0, 0.0, 0.0, 1.0, 0.0, [1.0, 1.0, 3.0, 2.0, 0.0, 1.0, 0.0, 0.0, 0.0, 0.0, 0.0, 0.0, 0.0, 24.0, 2770.0, 3.0, 3.0, 24.0, 34.0, 1.0, 1.0], [15.14691533986078, 4.853084660139222], [0.757345766993039, 0.24265423300696112], 0.0, 'No Risk'], ['greater_200', 36, 'prior_payments_delayed', 'radio_tv', 4548, '100_to_500', 'greater_7', 4, 'male', 'none', 4, 'car_other', 43, 'stores', 'rent', 2, 'unskilled', 1, 'none', 'yes', 3.0, 0.0, 2.0, 1.0, 0.0, 1.0, 1.0, 1.0, 3.0, 0.0, 1.0, 0.0, 0.0, [3.0, 0.0, 3.0, 1.0, 2.0, 0.0, 0.0, 1.0, 1.0, 1.0, 1.0, 0.0, 0.0, 36.0, 4548.0, 4.0, 4.0, 36.0, 43.0, 2.0, 1.0], [11.568189273759637, 8.43181072624036], [0.5784094636879819, 0.42159053631201804], 0.0, 'No Risk'], ['0_to_200', 36, 'prior_payments_delayed', 'business', 4938, '100_to_500', '4_to_7', 4, 'male', 'none', 3, 'unknown', 42, 'none', 'own', 2, 'skilled', 1, 'none', 'yes', 2.0, 0.0, 1.0, 1.0, 0.0, 0.0, 0.0, 0.0, 9.0, 0.0, 3.0, 0.0, 0.0, [2.0, 0.0, 9.0, 1.0, 1.0, 0.0, 0.0, 3.0, 0.0, 0.0, 0.0, 0.0, 0.0, 36.0, 4938.0, 4.0, 3.0, 36.0, 42.0, 2.0, 1.0], [11.33654513781358, 8.66345486218642], [0.566827256890679, 0.43317274310932097], 0.0, 'No Risk'], ['no_checking', 8, 'prior_payments_delayed', 'car_new', 3391, '100_to_500', '1_to_4', 3, 'female', 'none', 3, 'car_other', 44, 'none', 'own', 1, 'skilled', 1, 'none', 'yes', 0.0, 0.0, 0.0, 1.0, 0.0, 0.0, 0.0, 0.0, 0.0, 0.0, 1.0, 1.0, 0.0, [21, [3, 5, 7, 13, 14, 15, 16, 17, 18, 19, 20], [1.0, 1.0, 1.0, 8.0, 3391.0, 3.0, 3.0, 8.0, 44.0, 1.0, 1.0]], [13.328030374921768, 6.671969625078232], [0.6664015187460884, 0.33359848125391156], 0.0, 'No Risk'], ['0_to_200', 23, 'credits_paid_to_date', 'furniture', 250, 'less_100', 'unemployed', 1, 'female', 'none', 3, 'real_estate', 19, 'none', 'rent', 1, 'skilled', 1, 'none', 'yes', 2.0, 1.0, 4.0, 0.0, 0.0, 1.0, 0.0, 0.0, 1.0, 0.0, 2.0, 1.0, 0.0, [2.0, 1.0, 1.0, 0.0, 4.0, 1.0, 0.0, 2.0, 0.0, 1.0, 0.0, 0.0, 0.0, 23.0, 250.0, 1.0, 3.0, 23.0, 19.0, 1.0, 1.0], [18.076899663942292, 1.9231003360577117], [0.9038449831971145, 0.09615501680288557], 0.0, 'No Risk'], ['no_checking', 29, 'outstanding_credit', 'appliances', 6850, '500_to_1000', '4_to_7', 4, 'male', 'none', 3, 'savings_insurance', 38, 'none', 'own', 2, 'management_self-employed', 1, 'yes', 'yes', 0.0, 2.0, 1.0, 2.0, 0.0, 0.0, 0.0, 2.0, 4.0, 0.0, 0.0, 0.0, 1.0, [0.0, 2.0, 4.0, 2.0, 1.0, 0.0, 0.0, 0.0, 0.0, 0.0, 2.0, 1.0, 0.0, 29.0, 6850.0, 4.0, 3.0, 29.0, 38.0, 2.0, 1.0], [10.97469055663756, 9.025309443362442], [0.548734527831878, 0.4512654721681221], 0.0, 'No Risk'], ['less_0', 6, 'all_credits_paid_back', 'car_new', 729, '100_to_500', '4_to_7', 1, 'male', 'co-applicant', 1, 'real_estate', 36, 'stores', 'own', 2, 'skilled', 1, 'none', 'yes', 1.0, 3.0, 1.0, 1.0, 0.0, 0.0, 1.0, 0.0, 0.0, 1.0, 2.0, 0.0, 0.0, [1.0, 3.0, 0.0, 1.0, 1.0, 0.0, 1.0, 2.0, 1.0, 0.0, 0.0, 0.0, 0.0, 6.0, 729.0, 1.0, 1.0, 6.0, 36.0, 2.0, 1.0], [17.776941214865776, 2.2230587851342265], [0.8888470607432887, 0.11115293925671131], 0.0, 'No Risk'], ['greater_200', 17, 'credits_paid_to_date', 'car_new', 3581, 'less_100', '1_to_4', 2, 'male', 'none', 4, 'savings_insurance', 25, 'none', 'own', 1, 'skilled', 1, 'yes', 'yes', 3.0, 1.0, 0.0, 0.0, 0.0, 0.0, 0.0, 0.0, 0.0, 0.0, 0.0, 0.0, 1.0, [21, [0, 1, 11, 13, 14, 15, 16, 17, 18, 19, 20], [3.0, 1.0, 1.0, 17.0, 3581.0, 2.0, 4.0, 17.0, 25.0, 1.0, 1.0]], [15.94606111706834, 4.053938882931659], [0.797303055853417, 0.20269694414658296], 0.0, 'No Risk'], ['no_checking', 13, 'outstanding_credit', 'furniture', 4912, '500_to_1000', '4_to_7', 4, 'male', 'none', 4, 'car_other', 38, 'none', 'own', 1, 'management_self-employed', 1, 'none', 'yes', 0.0, 2.0, 1.0, 2.0, 0.0, 0.0, 0.0, 2.0, 1.0, 0.0, 1.0, 0.0, 0.0, [0.0, 2.0, 1.0, 2.0, 1.0, 0.0, 0.0, 1.0, 0.0, 0.0, 2.0, 0.0, 0.0, 13.0, 4912.0, 4.0, 4.0, 13.0, 38.0, 1.0, 1.0], [12.500856114284709, 7.499143885715291], [0.6250428057142354, 0.3749571942857645], 0.0, 'No Risk'], ['no_checking', 25, 'outstanding_credit', 'appliances', 2336, '500_to_1000', '1_to_4', 3, 'female', 'none', 4, 'car_other', 35, 'none', 'own', 1, 'skilled', 1, 'yes', 'yes', 0.0, 2.0, 0.0, 2.0, 0.0, 0.0, 0.0, 0.0, 4.0, 0.0, 1.0, 1.0, 1.0, [0.0, 2.0, 4.0, 2.0, 0.0, 1.0, 0.0, 1.0, 0.0, 0.0, 0.0, 1.0, 0.0, 25.0, 2336.0, 3.0, 4.0, 25.0, 35.0, 1.0, 1.0], [11.834455176781695, 8.165544823218305], [0.5917227588390848, 0.40827724116091524], 0.0, 'No Risk'], ['no_checking', 34, 'outstanding_credit', 'appliances', 5952, '500_to_1000', 'greater_7', 4, 'male', 'co-applicant', 3, 'car_other', 45, 'none', 'free', 2, 'skilled', 2, 'yes', 'yes', 0.0, 2.0, 2.0, 2.0, 0.0, 2.0, 0.0, 0.0, 4.0, 1.0, 1.0, 0.0, 1.0, [0.0, 2.0, 4.0, 2.0, 2.0, 0.0, 1.0, 1.0, 0.0, 2.0, 0.0, 1.0, 0.0, 34.0, 5952.0, 4.0, 3.0, 34.0, 45.0, 2.0, 2.0], [2.448692572297548, 17.55130742770245], [0.12243462861487739, 0.8775653713851226], 1.0, 'Risk'], ['less_0', 9, 'all_credits_paid_back', 'car_used', 3153, '100_to_500', '4_to_7', 3, 'male', 'none', 1, 'car_other', 45, 'none', 'own', 2, 'skilled', 1, 'none', 'yes', 1.0, 3.0, 1.0, 1.0, 0.0, 0.0, 0.0, 0.0, 2.0, 0.0, 1.0, 0.0, 0.0, [1.0, 3.0, 2.0, 1.0, 1.0, 0.0, 0.0, 1.0, 0.0, 0.0, 0.0, 0.0, 0.0, 9.0, 3153.0, 3.0, 1.0, 9.0, 45.0, 2.0, 1.0], [12.860040665374946, 7.1399593346250505], [0.6430020332687474, 0.3569979667312526], 0.0, 'No Risk'], ['0_to_200', 24, 'all_credits_paid_back', 'car_new', 2530, '100_to_500', 'less_1', 1, 'female', 'none', 3, 'savings_insurance', 22, 'stores', 'own', 1, 'skilled', 1, 'none', 'yes', 2.0, 3.0, 3.0, 1.0, 0.0, 0.0, 1.0, 0.0, 0.0, 0.0, 0.0, 1.0, 0.0, [2.0, 3.0, 0.0, 1.0, 3.0, 1.0, 0.0, 0.0, 1.0, 0.0, 0.0, 0.0, 0.0, 24.0, 2530.0, 1.0, 3.0, 24.0, 22.0, 1.0, 1.0], [16.980657834419347, 3.0193421655806527], [0.8490328917209673, 0.15096710827903265], 0.0, 'No Risk'], ['0_to_200', 20, 'credits_paid_to_date', 'radio_tv', 2178, 'less_100', '1_to_4', 3, 'male', 'none', 3, 'savings_insurance', 24, 'none', 'own', 1, 'skilled', 1, 'yes', 'yes', 2.0, 1.0, 0.0, 0.0, 0.0, 0.0, 0.0, 0.0, 3.0, 0.0, 0.0, 0.0, 1.0, [21, [0, 1, 2, 11, 13, 14, 15, 16, 17, 18, 19, 20], [2.0, 1.0, 3.0, 1.0, 20.0, 2178.0, 3.0, 3.0, 20.0, 24.0, 1.0, 1.0]], [15.760010735720964, 4.239989264279034], [0.7880005367860482, 0.2119994632139517], 0.0, 'No Risk'], ['0_to_200', 28, 'all_credits_paid_back', 'furniture', 2292, '100_to_500', '1_to_4', 2, 'male', 'none', 2, 'car_other', 30, 'none', 'own', 1, 'skilled', 1, 'none', 'yes', 2.0, 3.0, 0.0, 1.0, 0.0, 0.0, 0.0, 0.0, 1.0, 0.0, 1.0, 0.0, 0.0, [2.0, 3.0, 1.0, 1.0, 0.0, 0.0, 0.0, 1.0, 0.0, 0.0, 0.0, 0.0, 0.0, 28.0, 2292.0, 2.0, 2.0, 28.0, 30.0, 1.0, 1.0], [15.542417018820164, 4.457582981179838], [0.7771208509410081, 0.22287914905899192], 0.0, 'No Risk'], ['0_to_200', 33, 'outstanding_credit', 'repairs', 5145, '100_to_500', '1_to_4', 3, 'male', 'none', 3, 'savings_insurance', 39, 'none', 'own', 2, 'skilled', 1, 'yes', 'yes', 2.0, 2.0, 0.0, 1.0, 0.0, 0.0, 0.0, 0.0, 5.0, 0.0, 0.0, 0.0, 1.0, [2.0, 2.0, 5.0, 1.0, 0.0, 0.0, 0.0, 0.0, 0.0, 0.0, 0.0, 1.0, 0.0, 33.0, 5145.0, 3.0, 3.0, 33.0, 39.0, 2.0, 1.0], [12.013572552193736, 7.986427447806265], [0.6006786276096868, 0.39932137239031323], 0.0, 'No Risk'], ['0_to_200', 27, 'prior_payments_delayed', 'business', 3492, '100_to_500', '4_to_7', 4, 'male', 'none', 4, 'savings_insurance', 38, 'none', 'own', 1, 'management_self-employed', 1, 'yes', 'yes', 2.0, 0.0, 1.0, 1.0, 0.0, 0.0, 0.0, 2.0, 9.0, 0.0, 0.0, 0.0, 1.0, [2.0, 0.0, 9.0, 1.0, 1.0, 0.0, 0.0, 0.0, 0.0, 0.0, 2.0, 1.0, 0.0, 27.0, 3492.0, 4.0, 4.0, 27.0, 38.0, 1.0, 1.0], [12.958516098227394, 7.041483901772605], [0.6479258049113696, 0.35207419508863025], 0.0, 'No Risk'], ['no_checking', 16, 'credits_paid_to_date', 'radio_tv', 3457, '100_to_500', '1_to_4', 3, 'male', 'none', 3, 'savings_insurance', 31, 'none', 'own', 1, 'management_self-employed', 1, 'yes', 'yes', 0.0, 1.0, 0.0, 1.0, 0.0, 0.0, 0.0, 2.0, 3.0, 0.0, 0.0, 0.0, 1.0, [0.0, 1.0, 3.0, 1.0, 0.0, 0.0, 0.0, 0.0, 0.0, 0.0, 2.0, 1.0, 0.0, 16.0, 3457.0, 3.0, 3.0, 16.0, 31.0, 1.0, 1.0], [14.802460425715328, 5.197539574284671], [0.7401230212857663, 0.25987697871423354], 0.0, 'No Risk'], ['0_to_200', 24, 'credits_paid_to_date', 'retraining', 4723, '500_to_1000', 'greater_7', 4, 'male', 'none', 2, 'savings_insurance', 38, 'none', 'own', 1, 'skilled', 1, 'none', 'yes', 2.0, 1.0, 2.0, 2.0, 0.0, 0.0, 0.0, 0.0, 8.0, 0.0, 0.0, 0.0, 0.0, [2.0, 1.0, 8.0, 2.0, 2.0, 0.0, 0.0, 0.0, 0.0, 0.0, 0.0, 0.0, 0.0, 24.0, 4723.0, 4.0, 2.0, 24.0, 38.0, 1.0, 1.0], [14.263995348004538, 5.736004651995462], [0.713199767400227, 0.2868002325997731], 0.0, 'No Risk'], ['no_checking', 29, 'prior_payments_delayed', 'furniture', 7237, '100_to_500', 'greater_7', 4, 'male', 'none', 4, 'unknown', 47, 'none', 'free', 2, 'skilled', 1, 'yes', 'yes', 0.0, 0.0, 2.0, 1.0, 0.0, 2.0, 0.0, 0.0, 1.0, 0.0, 3.0, 0.0, 1.0, [0.0, 0.0, 1.0, 1.0, 2.0, 0.0, 0.0, 3.0, 0.0, 2.0, 0.0, 1.0, 0.0, 29.0, 7237.0, 4.0, 4.0, 29.0, 47.0, 2.0, 1.0], [5.403817792945279, 14.596182207054722], [0.27019088964726395, 0.7298091103527361], 1.0, 'Risk'], ['no_checking', 25, 'prior_payments_delayed', 'furniture', 1603, 'unknown', '4_to_7', 4, 'male', 'none', 4, 'car_other', 50, 'stores', 'own', 2, 'unemployed', 2, 'yes', 'yes', 0.0, 0.0, 1.0, 4.0, 0.0, 0.0, 1.0, 3.0, 1.0, 0.0, 1.0, 0.0, 1.0, [0.0, 0.0, 1.0, 4.0, 1.0, 0.0, 0.0, 1.0, 1.0, 0.0, 3.0, 1.0, 0.0, 25.0, 1603.0, 4.0, 4.0, 25.0, 50.0, 2.0, 2.0], [11.274955561136224, 8.725044438863776], [0.5637477780568112, 0.4362522219431888], 0.0, 'No Risk'], ['0_to_200', 24, 'outstanding_credit', 'car_used', 2341, 'unknown', '4_to_7', 2, 'male', 'none', 3, 'car_other', 53, 'stores', 'own', 2, 'skilled', 1, 'yes', 'yes', 2.0, 2.0, 1.0, 4.0, 0.0, 0.0, 1.0, 0.0, 2.0, 0.0, 1.0, 0.0, 1.0, [2.0, 2.0, 2.0, 4.0, 1.0, 0.0, 0.0, 1.0, 1.0, 0.0, 0.0, 1.0, 0.0, 24.0, 2341.0, 2.0, 3.0, 24.0, 53.0, 2.0, 1.0], [12.097164266654438, 7.902835733345562], [0.6048582133327219, 0.39514178666727806], 0.0, 'No Risk'], ['0_to_200', 17, 'prior_payments_delayed', 'appliances', 6074, 'less_100', '1_to_4', 4, 'male', 'none', 4, 'unknown', 41, 'none', 'own', 2, 'management_self-employed', 1, 'yes', 'yes', 2.0, 0.0, 0.0, 0.0, 0.0, 0.0, 0.0, 2.0, 4.0, 0.0, 3.0, 0.0, 1.0, [2.0, 0.0, 4.0, 0.0, 0.0, 0.0, 0.0, 3.0, 0.0, 0.0, 2.0, 1.0, 0.0, 17.0, 6074.0, 4.0, 4.0, 17.0, 41.0, 2.0, 1.0], [13.161640340304876, 6.838359659695125], [0.6580820170152438, 0.34191798298475623], 0.0, 'No Risk'], ['less_0', 4, 'all_credits_paid_back', 'car_new', 250, 'less_100', 'unemployed', 1, 'female', 'none', 2, 'real_estate', 19, 'bank', 'rent', 1, 'unskilled', 1, 'none', 'yes', 1.0, 3.0, 4.0, 0.0, 0.0, 1.0, 2.0, 1.0, 0.0, 0.0, 2.0, 1.0, 0.0, [1.0, 3.0, 0.0, 0.0, 4.0, 1.0, 0.0, 2.0, 2.0, 1.0, 1.0, 0.0, 0.0, 4.0, 250.0, 1.0, 2.0, 4.0, 19.0, 1.0, 1.0], [19.557317089819676, 0.4426829101803208], [0.977865854490984, 0.022134145509016045], 0.0, 'No Risk'], ['0_to_200', 4, 'no_credits', 'repairs', 353, 'less_100', '1_to_4', 2, 'female', 'none', 1, 'real_estate', 24, 'none', 'own', 1, 'skilled', 1, 'none', 'yes', 2.0, 4.0, 0.0, 0.0, 0.0, 0.0, 0.0, 0.0, 5.0, 0.0, 2.0, 1.0, 0.0, [2.0, 4.0, 5.0, 0.0, 0.0, 1.0, 0.0, 2.0, 0.0, 0.0, 0.0, 0.0, 0.0, 4.0, 353.0, 2.0, 1.0, 4.0, 24.0, 1.0, 1.0], [19.27169590194453, 0.7283040980554711], [0.9635847950972265, 0.03641520490277356], 0.0, 'No Risk'], ['less_0', 11, 'all_credits_paid_back', 'car_used', 2343, '100_to_500', 'less_1', 2, 'male', 'none', 1, 'real_estate', 19, 'none', 'own', 1, 'management_self-employed', 1, 'none', 'yes', 1.0, 3.0, 3.0, 1.0, 0.0, 0.0, 0.0, 2.0, 2.0, 0.0, 2.0, 0.0, 0.0, [1.0, 3.0, 2.0, 1.0, 3.0, 0.0, 0.0, 2.0, 0.0, 0.0, 2.0, 0.0, 0.0, 11.0, 2343.0, 2.0, 1.0, 11.0, 19.0, 1.0, 1.0], [19.449739061166234, 0.5502609388337656], [0.9724869530583117, 0.02751304694168828], 0.0, 'No Risk'], ['less_0', 15, 'credits_paid_to_date', 'car_used', 3431, 'less_100', 'less_1', 2, 'female', 'none', 1, 'savings_insurance', 20, 'none', 'own', 1, 'skilled', 1, 'none', 'yes', 1.0, 1.0, 3.0, 0.0, 0.0, 0.0, 0.0, 0.0, 2.0, 0.0, 0.0, 1.0, 0.0, [1.0, 1.0, 2.0, 0.0, 3.0, 1.0, 0.0, 0.0, 0.0, 0.0, 0.0, 0.0, 0.0, 15.0, 3431.0, 2.0, 1.0, 15.0, 20.0, 1.0, 1.0], [18.506190073297137, 1.4938099267028595], [0.925309503664857, 0.07469049633514299], 0.0, 'No Risk'], ['no_checking', 17, 'outstanding_credit', 'car_used', 3545, '500_to_1000', 'less_1', 2, 'male', 'none', 4, 'savings_insurance', 42, 'none', 'own', 1, 'management_self-employed', 1, 'none', 'no', 0.0, 2.0, 3.0, 2.0, 1.0, 0.0, 0.0, 2.0, 2.0, 0.0, 0.0, 0.0, 0.0, [0.0, 2.0, 2.0, 2.0, 3.0, 0.0, 0.0, 0.0, 0.0, 0.0, 2.0, 0.0, 1.0, 17.0, 3545.0, 2.0, 4.0, 17.0, 42.0, 1.0, 1.0], [14.826047496185655, 5.173952503814347], [0.7413023748092827, 0.2586976251907173], 0.0, 'No Risk'], ['less_0', 14, 'no_credits', 'car_used', 1621, 'less_100', 'less_1', 1, 'male', 'none', 1, 'savings_insurance', 24, 'stores', 'rent', 1, 'skilled', 1, 'none', 'yes', 1.0, 4.0, 3.0, 0.0, 0.0, 1.0, 1.0, 0.0, 2.0, 0.0, 0.0, 0.0, 0.0, [1.0, 4.0, 2.0, 0.0, 3.0, 0.0, 0.0, 0.0, 1.0, 1.0, 0.0, 0.0, 0.0, 14.0, 1621.0, 1.0, 1.0, 14.0, 24.0, 1.0, 1.0], [19.012134682329336, 0.9878653176706614], [0.950606734116467, 0.04939326588353308], 0.0, 'No Risk'], ['0_to_200', 19, 'credits_paid_to_date', 'repairs', 3062, 'less_100', '1_to_4', 3, 'male', 'co-applicant', 4, 'car_other', 42, 'none', 'own', 2, 'skilled', 1, 'yes', 'yes', 2.0, 1.0, 0.0, 0.0, 0.0, 0.0, 0.0, 0.0, 5.0, 1.0, 1.0, 0.0, 1.0, [2.0, 1.0, 5.0, 0.0, 0.0, 0.0, 1.0, 1.0, 0.0, 0.0, 0.0, 1.0, 0.0, 19.0, 3062.0, 3.0, 4.0, 19.0, 42.0, 2.0, 1.0], [11.848796788929308, 8.151203211070694], [0.5924398394464654, 0.4075601605535347], 0.0, 'No Risk'], ['no_checking', 16, 'outstanding_credit', 'furniture', 8021, '100_to_500', '4_to_7', 3, 'male', 'none', 5, 'unknown', 36, 'none', 'own', 1, 'management_self-employed', 1, 'yes', 'yes', 0.0, 2.0, 1.0, 1.0, 0.0, 0.0, 0.0, 2.0, 1.0, 0.0, 3.0, 0.0, 1.0, [0.0, 2.0, 1.0, 1.0, 1.0, 0.0, 0.0, 3.0, 0.0, 0.0, 2.0, 1.0, 0.0, 16.0, 8021.0, 3.0, 5.0, 16.0, 36.0, 1.0, 1.0], [10.090898033338451, 9.909101966661549], [0.5045449016669226, 0.49545509833307744], 0.0, 'No Risk'], ['no_checking', 38, 'prior_payments_delayed', 'appliances', 6181, 'greater_1000', '4_to_7', 5, 'male', 'none', 3, 'car_other', 49, 'none', 'free', 2, 'skilled', 1, 'none', 'yes', 0.0, 0.0, 1.0, 3.0, 0.0, 2.0, 0.0, 0.0, 4.0, 0.0, 1.0, 0.0, 0.0, [0.0, 0.0, 4.0, 3.0, 1.0, 0.0, 0.0, 1.0, 0.0, 2.0, 0.0, 0.0, 0.0, 38.0, 6181.0, 5.0, 3.0, 38.0, 49.0, 2.0, 1.0], [8.643561432053604, 11.356438567946393], [0.43217807160268024, 0.5678219283973197], 1.0, 'Risk'], ['no_checking', 40, 'prior_payments_delayed', 'radio_tv', 8403, '100_to_500', '1_to_4', 4, 'male', 'guarantor', 5, 'car_other', 56, 'none', 'free', 2, 'skilled', 1, 'yes', 'yes', 0.0, 0.0, 0.0, 1.0, 0.0, 2.0, 0.0, 0.0, 3.0, 2.0, 1.0, 0.0, 1.0, [0.0, 0.0, 3.0, 1.0, 0.0, 0.0, 2.0, 1.0, 0.0, 2.0, 0.0, 1.0, 0.0, 40.0, 8403.0, 4.0, 5.0, 40.0, 56.0, 2.0, 1.0], [5.393474251293835, 14.606525748706163], [0.26967371256469175, 0.7303262874353081], 1.0, 'Risk'], ['0_to_200', 4, 'no_credits', 'car_new', 250, 'less_100', '1_to_4', 2, 'female', 'none', 1, 'real_estate', 29, 'bank', 'rent', 1, 'unskilled', 1, 'none', 'yes', 2.0, 4.0, 0.0, 0.0, 0.0, 1.0, 2.0, 1.0, 0.0, 0.0, 2.0, 1.0, 0.0, [2.0, 4.0, 0.0, 0.0, 0.0, 1.0, 0.0, 2.0, 2.0, 1.0, 1.0, 0.0, 0.0, 4.0, 250.0, 2.0, 1.0, 4.0, 29.0, 1.0, 1.0], [19.27169590194453, 0.7283040980554711], [0.9635847950972265, 0.03641520490277356], 0.0, 'No Risk'], ['no_checking', 10, 'credits_paid_to_date', 'car_new', 2654, 'greater_1000', '1_to_4', 3, 'female', 'none', 3, 'savings_insurance', 41, 'none', 'own', 2, 'skilled', 1, 'none', 'no', 0.0, 1.0, 0.0, 3.0, 1.0, 0.0, 0.0, 0.0, 0.0, 0.0, 0.0, 1.0, 0.0, [21, [1, 3, 5, 12, 13, 14, 15, 16, 17, 18, 19, 20], [1.0, 3.0, 1.0, 1.0, 10.0, 2654.0, 3.0, 3.0, 10.0, 41.0, 2.0, 1.0]], [14.326505066165375, 5.673494933834623], [0.7163252533082689, 0.2836747466917312], 0.0, 'No Risk'], ['0_to_200', 11, 'prior_payments_delayed', 'car_new', 250, 'less_100', '1_to_4', 3, 'male', 'co-applicant', 4, 'real_estate', 31, 'none', 'own', 1, 'skilled', 1, 'yes', 'yes', 2.0, 0.0, 0.0, 0.0, 0.0, 0.0, 0.0, 0.0, 0.0, 1.0, 2.0, 0.0, 1.0, [21, [0, 6, 7, 11, 13, 14, 15, 16, 17, 18, 19, 20], [2.0, 1.0, 2.0, 1.0, 11.0, 250.0, 3.0, 4.0, 11.0, 31.0, 1.0, 1.0]], [14.596230086956721, 5.403769913043277], [0.729811504347836, 0.27018849565216385], 0.0, 'No Risk'], ['no_checking', 46, 'outstanding_credit', 'appliances', 5177, 'unknown', 'greater_7', 5, 'male', 'co-applicant', 4, 'unknown', 38, 'bank', 'own', 2, 'unemployed', 2, 'yes', 'yes', 0.0, 2.0, 2.0, 4.0, 0.0, 0.0, 2.0, 3.0, 4.0, 1.0, 3.0, 0.0, 1.0, [0.0, 2.0, 4.0, 4.0, 2.0, 0.0, 1.0, 3.0, 2.0, 0.0, 3.0, 1.0, 0.0, 46.0, 5177.0, 5.0, 4.0, 46.0, 38.0, 2.0, 2.0], [5.312017225845287, 14.687982774154714], [0.26560086129226435, 0.7343991387077357], 1.0, 'Risk'], ['no_checking', 17, 'outstanding_credit', 'furniture', 1592, '500_to_1000', '4_to_7', 3, 'female', 'none', 4, 'real_estate', 27, 'none', 'own', 1, 'skilled', 1, 'none', 'yes', 0.0, 2.0, 1.0, 2.0, 0.0, 0.0, 0.0, 0.0, 1.0, 0.0, 2.0, 1.0, 0.0, [0.0, 2.0, 1.0, 2.0, 1.0, 1.0, 0.0, 2.0, 0.0, 0.0, 0.0, 0.0, 0.0, 17.0, 1592.0, 3.0, 4.0, 17.0, 27.0, 1.0, 1.0], [14.88278055584256, 5.117219444157441], [0.744139027792128, 0.2558609722078721], 0.0, 'No Risk'], ['0_to_200', 16, 'prior_payments_delayed', 'repairs', 2587, 'less_100', '1_to_4', 3, 'male', 'none', 2, 'real_estate', 31, 'none', 'own', 1, 'skilled', 1, 'none', 'yes', 2.0, 0.0, 0.0, 0.0, 0.0, 0.0, 0.0, 0.0, 5.0, 0.0, 2.0, 0.0, 0.0, [21, [0, 2, 7, 13, 14, 15, 16, 17, 18, 19, 20], [2.0, 5.0, 2.0, 16.0, 2587.0, 3.0, 2.0, 16.0, 31.0, 1.0, 1.0]], [17.99185812936518, 2.0081418706348177], [0.8995929064682591, 0.10040709353174089], 0.0, 'No Risk'], ['0_to_200', 19, 'prior_payments_delayed', 'car_used', 250, '100_to_500', '1_to_4', 3, 'male', 'none', 2, 'real_estate', 23, 'none', 'own', 1, 'skilled', 1, 'none', 'yes', 2.0, 0.0, 0.0, 1.0, 0.0, 0.0, 0.0, 0.0, 2.0, 0.0, 2.0, 0.0, 0.0, [21, [0, 2, 3, 7, 13, 14, 15, 16, 17, 18, 19, 20], [2.0, 2.0, 1.0, 2.0, 19.0, 250.0, 3.0, 2.0, 19.0, 23.0, 1.0, 1.0]], [18.131897293100632, 1.8681027068993674], [0.9065948646550316, 0.09340513534496837], 0.0, 'No Risk'], ['no_checking', 32, 'outstanding_credit', 'other', 6820, '500_to_1000', 'greater_7', 5, 'male', 'none', 3, 'unknown', 53, 'stores', 'own', 2, 'unskilled', 2, 'yes', 'yes', 0.0, 2.0, 2.0, 2.0, 0.0, 0.0, 1.0, 1.0, 10.0, 0.0, 3.0, 0.0, 1.0, [0.0, 2.0, 10.0, 2.0, 2.0, 0.0, 0.0, 3.0, 1.0, 0.0, 1.0, 1.0, 0.0, 32.0, 6820.0, 5.0, 3.0, 32.0, 53.0, 2.0, 2.0], [4.935293251025568, 15.06470674897443], [0.2467646625512784, 0.7532353374487215], 1.0, 'Risk'], ['no_checking', 26, 'outstanding_credit', 'radio_tv', 5495, 'unknown', 'greater_7', 5, 'male', 'none', 4, 'unknown', 65, 'none', 'free', 3, 'skilled', 2, 'yes', 'yes', 0.0, 2.0, 2.0, 4.0, 0.0, 2.0, 0.0, 0.0, 3.0, 0.0, 3.0, 0.0, 1.0, [0.0, 2.0, 3.0, 4.0, 2.0, 0.0, 0.0, 3.0, 0.0, 2.0, 0.0, 1.0, 0.0, 26.0, 5495.0, 5.0, 4.0, 26.0, 65.0, 3.0, 2.0], [3.7932202513225635, 16.206779748677434], [0.18966101256612822, 0.8103389874338718], 1.0, 'Risk'], ['0_to_200', 11, 'credits_paid_to_date', 'car_used', 1189, 'less_100', '1_to_4', 2, 'male', 'none', 3, 'real_estate', 26, 'none', 'own', 1, 'skilled', 1, 'none', 'yes', 2.0, 1.0, 0.0, 0.0, 0.0, 0.0, 0.0, 0.0, 2.0, 0.0, 2.0, 0.0, 0.0, [21, [0, 1, 2, 7, 13, 14, 15, 16, 17, 18, 19, 20], [2.0, 1.0, 2.0, 2.0, 11.0, 1189.0, 2.0, 3.0, 11.0, 26.0, 1.0, 1.0]], [18.17930568779666, 1.820694312203335], [0.9089652843898332, 0.09103471561016677], 0.0, 'No Risk'], ['no_checking', 33, 'prior_payments_delayed', 'furniture', 8035, 'greater_1000', '1_to_4', 4, 'male', 'none', 5, 'unknown', 43, 'none', 'own', 4, 'skilled', 2, 'yes', 'yes', 0.0, 0.0, 0.0, 3.0, 0.0, 0.0, 0.0, 0.0, 1.0, 0.0, 3.0, 0.0, 1.0, [21, [2, 3, 7, 11, 13, 14, 15, 16, 17, 18, 19, 20], [1.0, 3.0, 3.0, 1.0, 33.0, 8035.0, 4.0, 5.0, 33.0, 43.0, 4.0, 2.0]], [10.570925523820373, 9.429074476179625], [0.5285462761910187, 0.47145372380898126], 0.0, 'No Risk'], ['no_checking', 9, 'credits_paid_to_date', 'furniture', 3656, 'less_100', 'less_1', 2, 'male', 'none', 2, 'real_estate', 36, 'none', 'own', 1, 'management_self-employed', 1, 'none', 'yes', 0.0, 1.0, 3.0, 0.0, 0.0, 0.0, 0.0, 2.0, 1.0, 0.0, 2.0, 0.0, 0.0, [0.0, 1.0, 1.0, 0.0, 3.0, 0.0, 0.0, 2.0, 0.0, 0.0, 2.0, 0.0, 0.0, 9.0, 3656.0, 2.0, 2.0, 9.0, 36.0, 1.0, 1.0], [18.24157097321292, 1.7584290267870786], [0.9120785486606461, 0.08792145133935395], 0.0, 'No Risk'], ['less_0', 14, 'all_credits_paid_back', 'car_new', 250, 'less_100', 'unemployed', 1, 'male', 'none', 1, 'real_estate', 21, 'stores', 'own', 1, 'unskilled', 1, 'none', 'yes', 1.0, 3.0, 4.0, 0.0, 0.0, 0.0, 1.0, 1.0, 0.0, 0.0, 2.0, 0.0, 0.0, [1.0, 3.0, 0.0, 0.0, 4.0, 0.0, 0.0, 2.0, 1.0, 0.0, 1.0, 0.0, 0.0, 14.0, 250.0, 1.0, 1.0, 14.0, 21.0, 1.0, 1.0], [19.418879005505016, 0.5811209944949843], [0.9709439502752508, 0.029056049724749216], 0.0, 'No Risk'], ['less_0', 17, 'credits_paid_to_date', 'furniture', 2285, 'less_100', '1_to_4', 2, 'male', 'co-applicant', 2, 'real_estate', 38, 'none', 'own', 2, 'skilled', 1, 'none', 'yes', 1.0, 1.0, 0.0, 0.0, 0.0, 0.0, 0.0, 0.0, 1.0, 1.0, 2.0, 0.0, 0.0, [1.0, 1.0, 1.0, 0.0, 0.0, 0.0, 1.0, 2.0, 0.0, 0.0, 0.0, 0.0, 0.0, 17.0, 2285.0, 2.0, 2.0, 17.0, 38.0, 2.0, 1.0], [15.167463302632086, 4.832536697367911], [0.7583731651316045, 0.2416268348683956], 0.0, 'No Risk'], ['no_checking', 30, 'outstanding_credit', 'furniture', 4906, '500_to_1000', '4_to_7', 4, 'male', 'none', 3, 'car_other', 41, 'none', 'own', 1, 'skilled', 1, 'none', 'yes', 0.0, 2.0, 1.0, 2.0, 0.0, 0.0, 0.0, 0.0, 1.0, 0.0, 1.0, 0.0, 0.0, [0.0, 2.0, 1.0, 2.0, 1.0, 0.0, 0.0, 1.0, 0.0, 0.0, 0.0, 0.0, 0.0, 30.0, 4906.0, 4.0, 3.0, 30.0, 41.0, 1.0, 1.0], [10.747318201009794, 9.252681798990206], [0.5373659100504897, 0.46263408994951033], 0.0, 'No Risk'], ['no_checking', 39, 'prior_payments_delayed', 'other', 6260, '500_to_1000', 'greater_7', 4, 'male', 'none', 4, 'unknown', 47, 'none', 'free', 2, 'skilled', 1, 'yes', 'yes', 0.0, 0.0, 2.0, 2.0, 0.0, 2.0, 0.0, 0.0, 10.0, 0.0, 3.0, 0.0, 1.0, [0.0, 0.0, 10.0, 2.0, 2.0, 0.0, 0.0, 3.0, 0.0, 2.0, 0.0, 1.0, 0.0, 39.0, 6260.0, 4.0, 4.0, 39.0, 47.0, 2.0, 1.0], [4.276403433235451, 15.723596566764549], [0.21382017166177256, 0.7861798283382274], 1.0, 'Risk'], ['no_checking', 27, 'outstanding_credit', 'appliances', 3343, '500_to_1000', 'greater_7', 5, 'male', 'none', 4, 'car_other', 37, 'none', 'own', 1, 'skilled', 1, 'none', 'yes', 0.0, 2.0, 2.0, 2.0, 0.0, 0.0, 0.0, 0.0, 4.0, 0.0, 1.0, 0.0, 0.0, [0.0, 2.0, 4.0, 2.0, 2.0, 0.0, 0.0, 1.0, 0.0, 0.0, 0.0, 0.0, 0.0, 27.0, 3343.0, 5.0, 4.0, 27.0, 37.0, 1.0, 1.0], [10.399760286643357, 9.600239713356643], [0.5199880143321678, 0.48001198566783215], 0.0, 'No Risk'], ['no_checking', 43, 'outstanding_credit', 'repairs', 6220, 'unknown', 'greater_7', 4, 'male', 'co-applicant', 4, 'car_other', 52, 'none', 'own', 2, 'skilled', 2, 'none', 'no', 0.0, 2.0, 2.0, 4.0, 1.0, 0.0, 0.0, 0.0, 5.0, 1.0, 1.0, 0.0, 0.0, [0.0, 2.0, 5.0, 4.0, 2.0, 0.0, 1.0, 1.0, 0.0, 0.0, 0.0, 0.0, 1.0, 43.0, 6220.0, 4.0, 4.0, 43.0, 52.0, 2.0, 2.0], [3.9334641897167346, 16.066535810283266], [0.19667320948583672, 0.8033267905141633], 1.0, 'Risk'], ['0_to_200', 28, 'credits_paid_to_date', 'car_used', 5153, '100_to_500', 'less_1', 3, 'male', 'none', 4, 'savings_insurance', 29, 'none', 'own', 1, 'skilled', 2, 'none', 'yes', 2.0, 1.0, 3.0, 1.0, 0.0, 0.0, 0.0, 0.0, 2.0, 0.0, 0.0, 0.0, 0.0, [2.0, 1.0, 2.0, 1.0, 3.0, 0.0, 0.0, 0.0, 0.0, 0.0, 0.0, 0.0, 0.0, 28.0, 5153.0, 3.0, 4.0, 28.0, 29.0, 1.0, 2.0], [13.68627786373454, 6.313722136265462], [0.6843138931867269, 0.3156861068132731], 0.0, 'No Risk'], ['no_checking', 47, 'outstanding_credit', 'repairs', 8320, 'greater_1000', 'greater_7', 5, 'male', 'co-applicant', 5, 'unknown', 52, 'none', 'free', 2, 'skilled', 1, 'yes', 'yes', 0.0, 2.0, 2.0, 3.0, 0.0, 2.0, 0.0, 0.0, 5.0, 1.0, 3.0, 0.0, 1.0, [0.0, 2.0, 5.0, 3.0, 2.0, 0.0, 1.0, 3.0, 0.0, 2.0, 0.0, 1.0, 0.0, 47.0, 8320.0, 5.0, 5.0, 47.0, 52.0, 2.0, 1.0], [1.0210212328467905, 18.978978767153208], [0.051051061642339524, 0.9489489383576604], 1.0, 'Risk'], ['less_0', 5, 'all_credits_paid_back', 'car_new', 250, '100_to_500', 'unemployed', 1, 'female', 'none', 1, 'real_estate', 19, 'bank', 'rent', 1, 'unskilled', 1, 'none', 'yes', 1.0, 3.0, 4.0, 1.0, 0.0, 1.0, 2.0, 1.0, 0.0, 0.0, 2.0, 1.0, 0.0, [1.0, 3.0, 0.0, 1.0, 4.0, 1.0, 0.0, 2.0, 2.0, 1.0, 1.0, 0.0, 0.0, 5.0, 250.0, 1.0, 1.0, 5.0, 19.0, 1.0, 1.0], [19.557317089819676, 0.4426829101803208], [0.977865854490984, 0.022134145509016045], 0.0, 'No Risk'], ['no_checking', 30, 'prior_payments_delayed', 'radio_tv', 3131, '100_to_500', '4_to_7', 3, 'female', 'none', 2, 'car_other', 47, 'none', 'own', 1, 'skilled', 1, 'yes', 'yes', 0.0, 0.0, 1.0, 1.0, 0.0, 0.0, 0.0, 0.0, 3.0, 0.0, 1.0, 1.0, 1.0, [0.0, 0.0, 3.0, 1.0, 1.0, 1.0, 0.0, 1.0, 0.0, 0.0, 0.0, 1.0, 0.0, 30.0, 3131.0, 3.0, 2.0, 30.0, 47.0, 1.0, 1.0], [10.750779826782463, 9.249220173217537], [0.5375389913391231, 0.46246100866087686], 0.0, 'No Risk'], ['no_checking', 36, 'prior_payments_delayed', 'appliances', 2478, 'greater_1000', '4_to_7', 4, 'male', 'none', 2, 'real_estate', 24, 'none', 'free', 2, 'skilled', 1, 'none', 'yes', 0.0, 0.0, 1.0, 3.0, 0.0, 2.0, 0.0, 0.0, 4.0, 0.0, 2.0, 0.0, 0.0, [0.0, 0.0, 4.0, 3.0, 1.0, 0.0, 0.0, 2.0, 0.0, 2.0, 0.0, 0.0, 0.0, 36.0, 2478.0, 4.0, 2.0, 36.0, 24.0, 2.0, 1.0], [13.504538278663988, 6.49546172133601], [0.6752269139331994, 0.3247730860668005], 0.0, 'No Risk'], ['less_0', 4, 'all_credits_paid_back', 'car_new', 250, 'less_100', 'unemployed', 1, 'male', 'none', 1, 'real_estate', 19, 'stores', 'rent', 1, 'skilled', 1, 'none', 'yes', 1.0, 3.0, 4.0, 0.0, 0.0, 1.0, 1.0, 0.0, 0.0, 0.0, 2.0, 0.0, 0.0, [1.0, 3.0, 0.0, 0.0, 4.0, 0.0, 0.0, 2.0, 1.0, 1.0, 0.0, 0.0, 0.0, 4.0, 250.0, 1.0, 1.0, 4.0, 19.0, 1.0, 1.0], [19.489084600281362, 0.5109153997186346], [0.9744542300140683, 0.02554576998593174], 0.0, 'No Risk'], ['0_to_200', 4, 'no_credits', 'car_new', 250, 'less_100', 'unemployed', 1, 'female', 'none', 2, 'real_estate', 19, 'none', 'own', 1, 'skilled', 1, 'none', 'yes', 2.0, 4.0, 4.0, 0.0, 0.0, 0.0, 0.0, 0.0, 0.0, 0.0, 2.0, 1.0, 0.0, [2.0, 4.0, 0.0, 0.0, 4.0, 1.0, 0.0, 2.0, 0.0, 0.0, 0.0, 0.0, 0.0, 4.0, 250.0, 1.0, 2.0, 4.0, 19.0, 1.0, 1.0], [19.569305393913247, 0.43069460608675353], [0.9784652696956624, 0.021534730304337675], 0.0, 'No Risk'], ['less_0', 33, 'all_credits_paid_back', 'radio_tv', 4184, 'less_100', 'less_1', 2, 'female', 'none', 3, 'savings_insurance', 20, 'stores', 'own', 1, 'skilled', 1, 'none', 'yes', 1.0, 3.0, 3.0, 0.0, 0.0, 0.0, 1.0, 0.0, 3.0, 0.0, 0.0, 1.0, 0.0, [1.0, 3.0, 3.0, 0.0, 3.0, 1.0, 0.0, 0.0, 1.0, 0.0, 0.0, 0.0, 0.0, 33.0, 4184.0, 2.0, 3.0, 33.0, 20.0, 1.0, 1.0], [14.682175850143961, 5.317824149856039], [0.7341087925071981, 0.26589120749280193], 0.0, 'No Risk'], ['no_checking', 26, 'outstanding_credit', 'appliances', 5504, '500_to_1000', 'greater_7', 3, 'male', 'co-applicant', 3, 'savings_insurance', 48, 'none', 'own', 2, 'management_self-employed', 2, 'yes', 'yes', 0.0, 2.0, 2.0, 2.0, 0.0, 0.0, 0.0, 2.0, 4.0, 1.0, 0.0, 0.0, 1.0, [0.0, 2.0, 4.0, 2.0, 2.0, 0.0, 1.0, 0.0, 0.0, 0.0, 2.0, 1.0, 0.0, 26.0, 5504.0, 3.0, 3.0, 26.0, 48.0, 2.0, 2.0], [6.043736575126693, 13.956263424873306], [0.3021868287563346, 0.6978131712436653], 1.0, 'Risk'], ['0_to_200', 35, 'outstanding_credit', 'furniture', 588, '500_to_1000', '1_to_4', 3, 'male', 'none', 4, 'car_other', 32, 'none', 'rent', 1, 'skilled', 1, 'yes', 'yes', 2.0, 2.0, 0.0, 2.0, 0.0, 1.0, 0.0, 0.0, 1.0, 0.0, 1.0, 0.0, 1.0, [2.0, 2.0, 1.0, 2.0, 0.0, 0.0, 0.0, 1.0, 0.0, 1.0, 0.0, 1.0, 0.0, 35.0, 588.0, 3.0, 4.0, 35.0, 32.0, 1.0, 1.0], [13.34481010729609, 6.655189892703907], [0.6672405053648046, 0.33275949463519544], 0.0, 'No Risk'], ['less_0', 13, 'all_credits_paid_back', 'furniture', 809, 'less_100', 'unemployed', 2, 'male', 'none', 1, 'real_estate', 22, 'none', 'rent', 1, 'skilled', 1, 'none', 'yes', 1.0, 3.0, 4.0, 0.0, 0.0, 1.0, 0.0, 0.0, 1.0, 0.0, 2.0, 0.0, 0.0, [1.0, 3.0, 1.0, 0.0, 4.0, 0.0, 0.0, 2.0, 0.0, 1.0, 0.0, 0.0, 0.0, 13.0, 809.0, 2.0, 1.0, 13.0, 22.0, 1.0, 1.0], [19.48631404687746, 0.5136859531225397], [0.974315702343873, 0.025684297656126988], 0.0, 'No Risk'], ['no_checking', 27, 'prior_payments_delayed', 'car_used', 4793, '500_to_1000', 'greater_7', 4, 'male', 'none', 4, 'car_other', 48, 'none', 'own', 3, 'skilled', 2, 'yes', 'yes', 0.0, 0.0, 2.0, 2.0, 0.0, 0.0, 0.0, 0.0, 2.0, 0.0, 1.0, 0.0, 1.0, [0.0, 0.0, 2.0, 2.0, 2.0, 0.0, 0.0, 1.0, 0.0, 0.0, 0.0, 1.0, 0.0, 27.0, 4793.0, 4.0, 4.0, 27.0, 48.0, 3.0, 2.0], [7.759903574668543, 12.240096425331457], [0.38799517873342715, 0.6120048212665729], 1.0, 'Risk'], ['no_checking', 30, 'outstanding_credit', 'repairs', 6018, '500_to_1000', 'greater_7', 5, 'male', 'none', 5, 'unknown', 49, 'none', 'free', 2, 'skilled', 1, 'yes', 'yes', 0.0, 2.0, 2.0, 2.0, 0.0, 2.0, 0.0, 0.0, 5.0, 0.0, 3.0, 0.0, 1.0, [0.0, 2.0, 5.0, 2.0, 2.0, 0.0, 0.0, 3.0, 0.0, 2.0, 0.0, 1.0, 0.0, 30.0, 6018.0, 5.0, 5.0, 30.0, 49.0, 2.0, 1.0], [3.4928837204229057, 16.507116279577094], [0.1746441860211453, 0.8253558139788547], 1.0, 'Risk'], ['0_to_200', 14, 'prior_payments_delayed', 'furniture', 3361, 'greater_1000', '1_to_4', 3, 'female', 'none', 3, 'car_other', 25, 'none', 'own', 1, 'skilled', 1, 'none', 'no', 2.0, 0.0, 0.0, 3.0, 1.0, 0.0, 0.0, 0.0, 1.0, 0.0, 1.0, 1.0, 0.0, [2.0, 0.0, 1.0, 3.0, 0.0, 1.0, 0.0, 1.0, 0.0, 0.0, 0.0, 0.0, 1.0, 14.0, 3361.0, 3.0, 3.0, 14.0, 25.0, 1.0, 1.0], [16.133910082640266, 3.8660899173597354], [0.8066955041320133, 0.19330449586798676], 0.0, 'No Risk'], ['no_checking', 25, 'prior_payments_delayed', 'repairs', 3788, 'greater_1000', '4_to_7', 4, 'female', 'none', 3, 'real_estate', 24, 'stores', 'own', 2, 'unskilled', 2, 'yes', 'yes', 0.0, 0.0, 1.0, 3.0, 0.0, 0.0, 1.0, 1.0, 5.0, 0.0, 2.0, 1.0, 1.0, [0.0, 0.0, 5.0, 3.0, 1.0, 1.0, 0.0, 2.0, 1.0, 0.0, 1.0, 1.0, 0.0, 25.0, 3788.0, 4.0, 3.0, 25.0, 24.0, 2.0, 2.0], [12.485830730493415, 7.514169269506585], [0.6242915365246707, 0.37570846347532927], 0.0, 'No Risk'], ['no_checking', 8, 'credits_paid_to_date', 'car_new', 1581, 'greater_1000', '1_to_4', 3, 'female', 'none', 4, 'real_estate', 38, 'none', 'own', 2, 'management_self-employed', 1, 'yes', 'yes', 0.0, 1.0, 0.0, 3.0, 0.0, 0.0, 0.0, 2.0, 0.0, 0.0, 2.0, 1.0, 1.0, [0.0, 1.0, 0.0, 3.0, 0.0, 1.0, 0.0, 2.0, 0.0, 0.0, 2.0, 1.0, 0.0, 8.0, 1581.0, 3.0, 4.0, 8.0, 38.0, 2.0, 1.0], [14.177984182415186, 5.822015817584808], [0.7088992091207595, 0.2911007908792405], 0.0, 'No Risk'], ['0_to_200', 8, 'credits_paid_to_date', 'car_used', 3686, '100_to_500', '1_to_4', 2, 'female', 'none', 2, 'car_other', 37, 'none', 'own', 1, 'skilled', 1, 'none', 'yes', 2.0, 1.0, 0.0, 1.0, 0.0, 0.0, 0.0, 0.0, 2.0, 0.0, 1.0, 1.0, 0.0, [2.0, 1.0, 2.0, 1.0, 0.0, 1.0, 0.0, 1.0, 0.0, 0.0, 0.0, 0.0, 0.0, 8.0, 3686.0, 2.0, 2.0, 8.0, 37.0, 1.0, 1.0], [15.920510730356202, 4.079489269643798], [0.7960255365178102, 0.2039744634821899], 0.0, 'No Risk'], ['no_checking', 18, 'credits_paid_to_date', 'radio_tv', 3195, '100_to_500', 'less_1', 3, 'male', 'none', 3, 'real_estate', 23, 'none', 'own', 1, 'management_self-employed', 1, 'yes', 'no', 0.0, 1.0, 3.0, 1.0, 1.0, 0.0, 0.0, 2.0, 3.0, 0.0, 2.0, 0.0, 1.0, [0.0, 1.0, 3.0, 1.0, 3.0, 0.0, 0.0, 2.0, 0.0, 0.0, 2.0, 1.0, 1.0, 18.0, 3195.0, 3.0, 3.0, 18.0, 23.0, 1.0, 1.0], [16.735646253641203, 3.2643537463587973], [0.8367823126820602, 0.16321768731793987], 0.0, 'No Risk'], ['0_to_200', 4, 'credits_paid_to_date', 'car_used', 2704, 'less_100', 'less_1', 1, 'female', 'none', 1, 'car_other', 20, 'none', 'rent', 1, 'skilled', 1, 'none', 'yes', 2.0, 1.0, 3.0, 0.0, 0.0, 1.0, 0.0, 0.0, 2.0, 0.0, 1.0, 1.0, 0.0, [2.0, 1.0, 2.0, 0.0, 3.0, 1.0, 0.0, 1.0, 0.0, 1.0, 0.0, 0.0, 0.0, 4.0, 2704.0, 1.0, 1.0, 4.0, 20.0, 1.0, 1.0], [18.667348004119656, 1.3326519958803458], [0.9333674002059826, 0.06663259979401728], 0.0, 'No Risk'], ['no_checking', 17, 'credits_paid_to_date', 'car_used', 4394, 'greater_1000', '4_to_7', 4, 'male', 'none', 4, 'car_other', 52, 'stores', 'own', 2, 'unskilled', 2, 'yes', 'yes', 0.0, 1.0, 1.0, 3.0, 0.0, 0.0, 1.0, 1.0, 2.0, 0.0, 1.0, 0.0, 1.0, [0.0, 1.0, 2.0, 3.0, 1.0, 0.0, 0.0, 1.0, 1.0, 0.0, 1.0, 1.0, 0.0, 17.0, 4394.0, 4.0, 4.0, 17.0, 52.0, 2.0, 2.0], [10.25583770196368, 9.74416229803632], [0.512791885098184, 0.48720811490181604], 0.0, 'No Risk'], ['0_to_200', 22, 'outstanding_credit', 'radio_tv', 3518, '100_to_500', '4_to_7', 3, 'male', 'none', 4, 'car_other', 41, 'none', 'own', 1, 'skilled', 1, 'none', 'yes', 2.0, 2.0, 1.0, 1.0, 0.0, 0.0, 0.0, 0.0, 3.0, 0.0, 1.0, 0.0, 0.0, [2.0, 2.0, 3.0, 1.0, 1.0, 0.0, 0.0, 1.0, 0.0, 0.0, 0.0, 0.0, 0.0, 22.0, 3518.0, 3.0, 4.0, 22.0, 41.0, 1.0, 1.0], [13.118661876378754, 6.881338123621246], [0.6559330938189377, 0.3440669061810623], 0.0, 'No Risk'], ['0_to_200', 12, 'prior_payments_delayed', 'furniture', 250, 'greater_1000', 'less_1', 2, 'female', 'none', 2, 'real_estate', 30, 'none', 'own', 1, 'skilled', 1, 'none', 'yes', 2.0, 0.0, 3.0, 3.0, 0.0, 0.0, 0.0, 0.0, 1.0, 0.0, 2.0, 1.0, 0.0, [2.0, 0.0, 1.0, 3.0, 3.0, 1.0, 0.0, 2.0, 0.0, 0.0, 0.0, 0.0, 0.0, 12.0, 250.0, 2.0, 2.0, 12.0, 30.0, 1.0, 1.0], [19.260450812950218, 0.7395491870497849], [0.9630225406475107, 0.036977459352489236], 0.0, 'No Risk'], ['less_0', 24, 'credits_paid_to_date', 'radio_tv', 2770, '500_to_1000', '1_to_4', 3, 'female', 'none', 3, 'savings_insurance', 34, 'none', 'own', 1, 'skilled', 1, 'none', 'yes', 1.0, 1.0, 0.0, 2.0, 0.0, 0.0, 0.0, 0.0, 3.0, 0.0, 0.0, 1.0, 0.0, [1.0, 1.0, 3.0, 2.0, 0.0, 1.0, 0.0, 0.0, 0.0, 0.0, 0.0, 0.0, 0.0, 24.0, 2770.0, 3.0, 3.0, 24.0, 34.0, 1.0, 1.0], [15.14691533986078, 4.853084660139222], [0.757345766993039, 0.24265423300696112], 0.0, 'No Risk'], ['less_0', 10, 'all_credits_paid_back', 'car_used', 2607, 'less_100', 'less_1', 2, 'female', 'none', 3, 'savings_insurance', 21, 'none', 'own', 1, 'skilled', 1, 'none', 'yes', 1.0, 3.0, 3.0, 0.0, 0.0, 0.0, 0.0, 0.0, 2.0, 0.0, 0.0, 1.0, 0.0, [1.0, 3.0, 2.0, 0.0, 3.0, 1.0, 0.0, 0.0, 0.0, 0.0, 0.0, 0.0, 0.0, 10.0, 2607.0, 2.0, 3.0, 10.0, 21.0, 1.0, 1.0], [18.95098871603559, 1.049011283964411], [0.9475494358017794, 0.05245056419822055], 0.0, 'No Risk'], ['0_to_200', 21, 'credits_paid_to_date', 'furniture', 4356, 'less_100', '1_to_4', 3, 'male', 'none', 2, 'car_other', 38, 'none', 'own', 1, 'skilled', 1, 'yes', 'yes', 2.0, 1.0, 0.0, 0.0, 0.0, 0.0, 0.0, 0.0, 1.0, 0.0, 1.0, 0.0, 1.0, [2.0, 1.0, 1.0, 0.0, 0.0, 0.0, 0.0, 1.0, 0.0, 0.0, 0.0, 1.0, 0.0, 21.0, 4356.0, 3.0, 2.0, 21.0, 38.0, 1.0, 1.0], [14.488514936393944, 5.511485063606053], [0.7244257468196973, 0.2755742531803027], 0.0, 'No Risk'], ['0_to_200', 4, 'all_credits_paid_back', 'car_used', 250, 'less_100', '1_to_4', 1, 'male', 'none', 1, 'real_estate', 19, 'stores', 'own', 1, 'skilled', 1, 'none', 'yes', 2.0, 3.0, 0.0, 0.0, 0.0, 0.0, 1.0, 0.0, 2.0, 0.0, 2.0, 0.0, 0.0, [2.0, 3.0, 2.0, 0.0, 0.0, 0.0, 0.0, 2.0, 1.0, 0.0, 0.0, 0.0, 0.0, 4.0, 250.0, 1.0, 1.0, 4.0, 19.0, 1.0, 1.0], [19.203463412406215, 0.796536587593785], [0.9601731706203107, 0.039826829379689246], 0.0, 'No Risk'], ['less_0', 4, 'prior_payments_delayed', 'car_used', 250, 'less_100', '1_to_4', 1, 'female', 'none', 1, 'real_estate', 19, 'stores', 'rent', 1, 'skilled', 1, 'none', 'yes', 1.0, 0.0, 0.0, 0.0, 0.0, 1.0, 1.0, 0.0, 2.0, 0.0, 2.0, 1.0, 0.0, [1.0, 0.0, 2.0, 0.0, 0.0, 1.0, 0.0, 2.0, 1.0, 1.0, 0.0, 0.0, 0.0, 4.0, 250.0, 1.0, 1.0, 4.0, 19.0, 1.0, 1.0], [18.87781687116583, 1.1221831288341702], [0.9438908435582916, 0.05610915644170851], 0.0, 'No Risk'], ['no_checking', 42, 'outstanding_credit', 'repairs', 6299, 'unknown', 'greater_7', 4, 'male', 'co-applicant', 4, 'unknown', 50, 'bank', 'own', 2, 'unemployed', 2, 'yes', 'yes', 0.0, 2.0, 2.0, 4.0, 0.0, 0.0, 2.0, 3.0, 5.0, 1.0, 3.0, 0.0, 1.0, [0.0, 2.0, 5.0, 4.0, 2.0, 0.0, 1.0, 3.0, 2.0, 0.0, 3.0, 1.0, 0.0, 42.0, 6299.0, 4.0, 4.0, 42.0, 50.0, 2.0, 2.0], [2.281132049962463, 17.718867950037538], [0.11405660249812315, 0.8859433975018769], 1.0, 'Risk'], ['no_checking', 38, 'prior_payments_delayed', 'other', 7575, 'unknown', '4_to_7', 5, 'male', 'guarantor', 4, 'unknown', 52, 'none', 'free', 2, 'skilled', 1, 'yes', 'yes', 0.0, 0.0, 1.0, 4.0, 0.0, 2.0, 0.0, 0.0, 10.0, 2.0, 3.0, 0.0, 1.0, [0.0, 0.0, 10.0, 4.0, 1.0, 0.0, 2.0, 3.0, 0.0, 2.0, 0.0, 1.0, 0.0, 38.0, 7575.0, 5.0, 4.0, 38.0, 52.0, 2.0, 1.0], [3.451922182409943, 16.548077817590055], [0.17259610912049714, 0.8274038908795027], 1.0, 'Risk'], ['greater_200', 4, 'all_credits_paid_back', 'car_used', 652, 'less_100', 'less_1', 2, 'female', 'none', 2, 'real_estate', 31, 'none', 'own', 1, 'management_self-employed', 1, 'none', 'yes', 3.0, 3.0, 3.0, 0.0, 0.0, 0.0, 0.0, 2.0, 2.0, 0.0, 2.0, 1.0, 0.0, [3.0, 3.0, 2.0, 0.0, 3.0, 1.0, 0.0, 2.0, 0.0, 0.0, 2.0, 0.0, 0.0, 4.0, 652.0, 2.0, 2.0, 4.0, 31.0, 1.0, 1.0], [19.15111849549151, 0.8488815045084908], [0.9575559247745755, 0.04244407522542454], 0.0, 'No Risk'], ['less_0', 15, 'credits_paid_to_date', 'car_new', 1297, '500_to_1000', '1_to_4', 3, 'female', 'none', 2, 'car_other', 28, 'stores', 'own', 1, 'skilled', 1, 'none', 'yes', 1.0, 1.0, 0.0, 2.0, 0.0, 0.0, 1.0, 0.0, 0.0, 0.0, 1.0, 1.0, 0.0, [1.0, 1.0, 0.0, 2.0, 0.0, 1.0, 0.0, 1.0, 1.0, 0.0, 0.0, 0.0, 0.0, 15.0, 1297.0, 3.0, 2.0, 15.0, 28.0, 1.0, 1.0], [17.45380682672858, 2.5461931732714205], [0.8726903413364291, 0.12730965866357102], 0.0, 'No Risk'], ['0_to_200', 17, 'prior_payments_delayed', 'car_used', 1761, 'greater_1000', '1_to_4', 2, 'female', 'co-applicant', 2, 'real_estate', 45, 'stores', 'free', 1, 'skilled', 1, 'yes', 'yes', 2.0, 0.0, 0.0, 3.0, 0.0, 2.0, 1.0, 0.0, 2.0, 1.0, 2.0, 1.0, 1.0, [2.0, 0.0, 2.0, 3.0, 0.0, 1.0, 1.0, 2.0, 1.0, 2.0, 0.0, 1.0, 0.0, 17.0, 1761.0, 2.0, 2.0, 17.0, 45.0, 1.0, 1.0], [16.45044746340328, 3.5495525365967215], [0.822522373170164, 0.1774776268298361], 0.0, 'No Risk'], ['no_checking', 30, 'prior_payments_delayed', 'business', 7798, '100_to_500', 'greater_7', 5, 'male', 'none', 3, 'savings_insurance', 41, 'none', 'own', 1, 'skilled', 1, 'none', 'yes', 0.0, 0.0, 2.0, 1.0, 0.0, 0.0, 0.0, 0.0, 9.0, 0.0, 0.0, 0.0, 0.0, [21, [2, 3, 4, 13, 14, 15, 16, 17, 18, 19, 20], [9.0, 1.0, 2.0, 30.0, 7798.0, 5.0, 3.0, 30.0, 41.0, 1.0, 1.0]], [11.181418190866538, 8.818581809133462], [0.5590709095433268, 0.4409290904566731], 0.0, 'No Risk'], ['no_checking', 24, 'outstanding_credit', 'furniture', 5948, '500_to_1000', 'greater_7', 3, 'male', 'co-applicant', 3, 'unknown', 53, 'none', 'free', 2, 'skilled', 1, 'yes', 'yes', 0.0, 2.0, 2.0, 2.0, 0.0, 2.0, 0.0, 0.0, 1.0, 1.0, 3.0, 0.0, 1.0, [0.0, 2.0, 1.0, 2.0, 2.0, 0.0, 1.0, 3.0, 0.0, 2.0, 0.0, 1.0, 0.0, 24.0, 5948.0, 3.0, 3.0, 24.0, 53.0, 2.0, 1.0], [3.212060502384865, 16.787939497615135], [0.16060302511924324, 0.8393969748807567], 1.0, 'Risk'], ['no_checking', 23, 'all_credits_paid_back', 'furniture', 2990, 'less_100', '1_to_4', 3, 'female', 'none', 2, 'real_estate', 26, 'bank', 'rent', 1, 'unemployed', 2, 'yes', 'yes', 0.0, 3.0, 0.0, 0.0, 0.0, 1.0, 2.0, 3.0, 1.0, 0.0, 2.0, 1.0, 1.0, [0.0, 3.0, 1.0, 0.0, 0.0, 1.0, 0.0, 2.0, 2.0, 1.0, 3.0, 1.0, 0.0, 23.0, 2990.0, 3.0, 2.0, 23.0, 26.0, 1.0, 2.0], [16.321248921516105, 3.6787510784838946], [0.8160624460758052, 0.18393755392419472], 0.0, 'No Risk'], ['less_0', 11, 'prior_payments_delayed', 'vacation', 3190, 'less_100', '4_to_7', 4, 'female', 'none', 3, 'savings_insurance', 39, 'stores', 'own', 2, 'unskilled', 1, 'yes', 'yes', 1.0, 0.0, 1.0, 0.0, 0.0, 0.0, 1.0, 1.0, 6.0, 0.0, 0.0, 1.0, 1.0, [1.0, 0.0, 6.0, 0.0, 1.0, 1.0, 0.0, 0.0, 1.0, 0.0, 1.0, 1.0, 0.0, 11.0, 3190.0, 4.0, 3.0, 11.0, 39.0, 2.0, 1.0], [14.194881022759612, 5.8051189772403875], [0.7097440511379806, 0.2902559488620194], 0.0, 'No Risk'], ['no_checking', 25, 'all_credits_paid_back', 'repairs', 8283, 'less_100', '1_to_4', 4, 'male', 'none', 2, 'car_other', 35, 'none', 'own', 1, 'management_self-employed', 1, 'none', 'yes', 0.0, 3.0, 0.0, 0.0, 0.0, 0.0, 0.0, 2.0, 5.0, 0.0, 1.0, 0.0, 0.0, [21, [1, 2, 7, 10, 13, 14, 15, 16, 17, 18, 19, 20], [3.0, 5.0, 1.0, 2.0, 25.0, 8283.0, 4.0, 2.0, 25.0, 35.0, 1.0, 1.0]], [11.833166222075429, 8.166833777924571], [0.5916583111037714, 0.40834168889622857], 0.0, 'No Risk'], ['0_to_200', 21, 'outstanding_credit', 'car_used', 3056, '500_to_1000', '1_to_4', 2, 'female', 'none', 2, 'savings_insurance', 41, 'stores', 'own', 1, 'skilled', 2, 'yes', 'yes', 2.0, 2.0, 0.0, 2.0, 0.0, 0.0, 1.0, 0.0, 2.0, 0.0, 0.0, 1.0, 1.0, [2.0, 2.0, 2.0, 2.0, 0.0, 1.0, 0.0, 0.0, 1.0, 0.0, 0.0, 1.0, 0.0, 21.0, 3056.0, 2.0, 2.0, 21.0, 41.0, 1.0, 2.0], [15.821243331357028, 4.178756668642972], [0.7910621665678514, 0.2089378334321486], 0.0, 'No Risk'], ['no_checking', 35, 'prior_payments_delayed', 'furniture', 5192, 'unknown', '1_to_4', 3, 'male', 'none', 4, 'unknown', 28, 'none', 'own', 2, 'skilled', 1, 'yes', 'yes', 0.0, 0.0, 0.0, 4.0, 0.0, 0.0, 0.0, 0.0, 1.0, 0.0, 3.0, 0.0, 1.0, [21, [2, 3, 7, 11, 13, 14, 15, 16, 17, 18, 19, 20], [1.0, 4.0, 3.0, 1.0, 35.0, 5192.0, 3.0, 4.0, 35.0, 28.0, 2.0, 1.0]], [11.27372870882223, 8.726271291177769], [0.5636864354411115, 0.4363135645588884], 0.0, 'No Risk'], ['less_0', 15, 'prior_payments_delayed', 'radio_tv', 2068, 'less_100', '4_to_7', 3, 'female', 'none', 3, 'savings_insurance', 31, 'none', 'own', 3, 'skilled', 1, 'yes', 'yes', 1.0, 0.0, 1.0, 0.0, 0.0, 0.0, 0.0, 0.0, 3.0, 0.0, 0.0, 1.0, 1.0, [1.0, 0.0, 3.0, 0.0, 1.0, 1.0, 0.0, 0.0, 0.0, 0.0, 0.0, 1.0, 0.0, 15.0, 2068.0, 3.0, 3.0, 15.0, 31.0, 3.0, 1.0], [14.990896438853673, 5.0091035611463255], [0.7495448219426837, 0.25045517805731626], 0.0, 'No Risk'], ['less_0', 14, 'all_credits_paid_back', 'vacation', 781, 'less_100', '1_to_4', 2, 'male', 'none', 1, 'car_other', 33, 'stores', 'own', 1, 'unskilled', 1, 'none', 'yes', 1.0, 3.0, 0.0, 0.0, 0.0, 0.0, 1.0, 1.0, 6.0, 0.0, 1.0, 0.0, 0.0, [1.0, 3.0, 6.0, 0.0, 0.0, 0.0, 0.0, 1.0, 1.0, 0.0, 1.0, 0.0, 0.0, 14.0, 781.0, 2.0, 1.0, 14.0, 33.0, 1.0, 1.0], [17.21200426481226, 2.7879957351877414], [0.8606002132406129, 0.13939978675938705], 0.0, 'No Risk'], ['no_checking', 41, 'prior_payments_delayed', 'repairs', 5554, '500_to_1000', '1_to_4', 3, 'female', 'none', 4, 'savings_insurance', 40, 'none', 'own', 1, 'skilled', 1, 'none', 'yes', 0.0, 0.0, 0.0, 2.0, 0.0, 0.0, 0.0, 0.0, 5.0, 0.0, 0.0, 1.0, 0.0, [21, [2, 3, 5, 13, 14, 15, 16, 17, 18, 19, 20], [5.0, 2.0, 1.0, 41.0, 5554.0, 3.0, 4.0, 41.0, 40.0, 1.0, 1.0]], [11.054854596414536, 8.945145403585466], [0.5527427298207268, 0.4472572701792733], 0.0, 'No Risk'], ['no_checking', 28, 'outstanding_credit', 'appliances', 5761, '500_to_1000', '4_to_7', 4, 'male', 'guarantor', 3, 'unknown', 60, 'stores', 'free', 2, 'unskilled', 1, 'yes', 'yes', 0.0, 2.0, 1.0, 2.0, 0.0, 2.0, 1.0, 1.0, 4.0, 2.0, 3.0, 0.0, 1.0, [0.0, 2.0, 4.0, 2.0, 1.0, 0.0, 2.0, 3.0, 1.0, 2.0, 1.0, 1.0, 0.0, 28.0, 5761.0, 4.0, 3.0, 28.0, 60.0, 2.0, 1.0], [4.293572605859679, 15.70642739414032], [0.21467863029298395, 0.785321369707016], 1.0, 'Risk'], ['no_checking', 18, 'credits_paid_to_date', 'radio_tv', 2109, '100_to_500', 'less_1', 2, 'male', 'none', 4, 'car_other', 40, 'none', 'own', 1, 'management_self-employed', 1, 'none', 'yes', 0.0, 1.0, 3.0, 1.0, 0.0, 0.0, 0.0, 2.0, 3.0, 0.0, 1.0, 0.0, 0.0, [0.0, 1.0, 3.0, 1.0, 3.0, 0.0, 0.0, 1.0, 0.0, 0.0, 2.0, 0.0, 0.0, 18.0, 2109.0, 2.0, 4.0, 18.0, 40.0, 1.0, 1.0], [13.928808972018372, 6.071191027981629], [0.6964404486009186, 0.3035595513990815], 0.0, 'No Risk'], ['greater_200', 28, 'prior_payments_delayed', 'car_used', 5901, 'greater_1000', '4_to_7', 3, 'female', 'none', 3, 'car_other', 48, 'stores', 'own', 2, 'skilled', 1, 'yes', 'yes', 3.0, 0.0, 1.0, 3.0, 0.0, 0.0, 1.0, 0.0, 2.0, 0.0, 1.0, 1.0, 1.0, [3.0, 0.0, 2.0, 3.0, 1.0, 1.0, 0.0, 1.0, 1.0, 0.0, 0.0, 1.0, 0.0, 28.0, 5901.0, 3.0, 3.0, 28.0, 48.0, 2.0, 1.0], [9.065732950564406, 10.934267049435594], [0.45328664752822034, 0.5467133524717797], 1.0, 'Risk'], ['less_0', 25, 'prior_payments_delayed', 'business', 5699, 'greater_1000', '4_to_7', 2, 'male', 'none', 1, 'unknown', 22, 'none', 'own', 1, 'skilled', 1, 'none', 'yes', 1.0, 0.0, 1.0, 3.0, 0.0, 0.0, 0.0, 0.0, 9.0, 0.0, 3.0, 0.0, 0.0, [1.0, 0.0, 9.0, 3.0, 1.0, 0.0, 0.0, 3.0, 0.0, 0.0, 0.0, 0.0, 0.0, 25.0, 5699.0, 2.0, 1.0, 25.0, 22.0, 1.0, 1.0], [15.226930196187006, 4.773069803812995], [0.7613465098093503, 0.23865349019064977], 0.0, 'No Risk'], ['less_0', 21, 'credits_paid_to_date', 'car_new', 2216, 'less_100', '1_to_4', 1, 'male', 'co-applicant', 2, 'real_estate', 28, 'stores', 'own', 1, 'skilled', 1, 'none', 'yes', 1.0, 1.0, 0.0, 0.0, 0.0, 0.0, 1.0, 0.0, 0.0, 1.0, 2.0, 0.0, 0.0, [1.0, 1.0, 0.0, 0.0, 0.0, 0.0, 1.0, 2.0, 1.0, 0.0, 0.0, 0.0, 0.0, 21.0, 2216.0, 1.0, 2.0, 21.0, 28.0, 1.0, 1.0], [17.439116484358173, 2.560883515641826], [0.8719558242179086, 0.12804417578209132], 0.0, 'No Risk'], ['0_to_200', 16, 'credits_paid_to_date', 'retraining', 575, '500_to_1000', '4_to_7', 3, 'male', 'none', 2, 'savings_insurance', 35, 'none', 'rent', 1, 'skilled', 1, 'none', 'yes', 2.0, 1.0, 1.0, 2.0, 0.0, 1.0, 0.0, 0.0, 8.0, 0.0, 0.0, 0.0, 0.0, [2.0, 1.0, 8.0, 2.0, 1.0, 0.0, 0.0, 0.0, 0.0, 1.0, 0.0, 0.0, 0.0, 16.0, 575.0, 3.0, 2.0, 16.0, 35.0, 1.0, 1.0], [17.492197970890786, 2.507802029109217], [0.8746098985445391, 0.12539010145546084], 0.0, 'No Risk'], ['no_checking', 30, 'prior_payments_delayed', 'appliances', 4562, 'unknown', '4_to_7', 3, 'male', 'none', 4, 'unknown', 46, 'bank', 'rent', 2, 'unskilled', 2, 'yes', 'yes', 0.0, 0.0, 1.0, 4.0, 0.0, 1.0, 2.0, 1.0, 4.0, 0.0, 3.0, 0.0, 1.0, [0.0, 0.0, 4.0, 4.0, 1.0, 0.0, 0.0, 3.0, 2.0, 1.0, 1.0, 1.0, 0.0, 30.0, 4562.0, 3.0, 4.0, 30.0, 46.0, 2.0, 2.0], [10.130281004707689, 9.86971899529231], [0.5065140502353844, 0.49348594976461546], 0.0, 'No Risk'], ['0_to_200', 22, 'credits_paid_to_date', 'furniture', 4851, '500_to_1000', '4_to_7', 3, 'female', 'none', 3, 'car_other', 53, 'none', 'own', 2, 'skilled', 1, 'none', 'yes', 2.0, 1.0, 1.0, 2.0, 0.0, 0.0, 0.0, 0.0, 1.0, 0.0, 1.0, 1.0, 0.0, [2.0, 1.0, 1.0, 2.0, 1.0, 1.0, 0.0, 1.0, 0.0, 0.0, 0.0, 0.0, 0.0, 22.0, 4851.0, 3.0, 3.0, 22.0, 53.0, 2.0, 1.0], [9.706045475475474, 10.293954524524528], [0.48530227377377366, 0.5146977262262264], 1.0, 'Risk'], ['no_checking', 29, 'outstanding_credit', 'appliances', 3227, '500_to_1000', 'greater_7', 4, 'male', 'none', 4, 'car_other', 52, 'none', 'free', 2, 'skilled', 1, 'yes', 'yes', 0.0, 2.0, 2.0, 2.0, 0.0, 2.0, 0.0, 0.0, 4.0, 0.0, 1.0, 0.0, 1.0, [0.0, 2.0, 4.0, 2.0, 2.0, 0.0, 0.0, 1.0, 0.0, 2.0, 0.0, 1.0, 0.0, 29.0, 3227.0, 4.0, 4.0, 29.0, 52.0, 2.0, 1.0], [5.90619774026038, 14.09380225973962], [0.29530988701301897, 0.704690112986981], 1.0, 'Risk'], ['less_0', 11, 'all_credits_paid_back', 'car_new', 250, '500_to_1000', '4_to_7', 2, 'male', 'none', 1, 'savings_insurance', 19, 'stores', 'rent', 1, 'skilled', 1, 'none', 'yes', 1.0, 3.0, 1.0, 2.0, 0.0, 1.0, 1.0, 0.0, 0.0, 0.0, 0.0, 0.0, 0.0, [1.0, 3.0, 0.0, 2.0, 1.0, 0.0, 0.0, 0.0, 1.0, 1.0, 0.0, 0.0, 0.0, 11.0, 250.0, 2.0, 1.0, 11.0, 19.0, 1.0, 1.0], [18.914944652191313, 1.0850553478086855], [0.9457472326095656, 0.054252767390434276], 0.0, 'No Risk'], ['0_to_200', 9, 'all_credits_paid_back', 'car_used', 3816, '500_to_1000', '4_to_7', 2, 'male', 'none', 3, 'savings_insurance', 24, 'none', 'own', 2, 'skilled', 1, 'none', 'yes', 2.0, 3.0, 1.0, 2.0, 0.0, 0.0, 0.0, 0.0, 2.0, 0.0, 0.0, 0.0, 0.0, [2.0, 3.0, 2.0, 2.0, 1.0, 0.0, 0.0, 0.0, 0.0, 0.0, 0.0, 0.0, 0.0, 9.0, 3816.0, 2.0, 3.0, 9.0, 24.0, 2.0, 1.0], [16.31173006914576, 3.6882699308542377], [0.8155865034572881, 0.1844134965427119], 0.0, 'No Risk'], ['0_to_200', 15, 'prior_payments_delayed', 'furniture', 2213, '100_to_500', 'less_1', 1, 'male', 'none', 2, 'car_other', 42, 'none', 'own', 1, 'skilled', 1, 'none', 'yes', 2.0, 0.0, 3.0, 1.0, 0.0, 0.0, 0.0, 0.0, 1.0, 0.0, 1.0, 0.0, 0.0, [2.0, 0.0, 1.0, 1.0, 3.0, 0.0, 0.0, 1.0, 0.0, 0.0, 0.0, 0.0, 0.0, 15.0, 2213.0, 1.0, 2.0, 15.0, 42.0, 1.0, 1.0], [16.136677912859792, 3.8633220871402107], [0.8068338956429895, 0.1931661043570105], 0.0, 'No Risk'], ['no_checking', 9, 'prior_payments_delayed', 'car_new', 3608, '100_to_500', '1_to_4', 3, 'male', 'none', 4, 'real_estate', 34, 'none', 'own', 1, 'management_self-employed', 2, 'none', 'yes', 0.0, 0.0, 0.0, 1.0, 0.0, 0.0, 0.0, 2.0, 0.0, 0.0, 2.0, 0.0, 0.0, [21, [3, 7, 10, 13, 14, 15, 16, 17, 18, 19, 20], [1.0, 2.0, 2.0, 9.0, 3608.0, 3.0, 4.0, 9.0, 34.0, 1.0, 2.0]], [14.63250520542573, 5.36749479457427], [0.7316252602712865, 0.2683747397287135], 0.0, 'No Risk'], ['no_checking', 42, 'prior_payments_delayed', 'radio_tv', 7732, '500_to_1000', 'greater_7', 5, 'male', 'co-applicant', 5, 'unknown', 45, 'none', 'free', 2, 'skilled', 1, 'yes', 'no', 0.0, 0.0, 2.0, 2.0, 1.0, 2.0, 0.0, 0.0, 3.0, 1.0, 3.0, 0.0, 1.0, [0.0, 0.0, 3.0, 2.0, 2.0, 0.0, 1.0, 3.0, 0.0, 2.0, 0.0, 1.0, 1.0, 42.0, 7732.0, 5.0, 5.0, 42.0, 45.0, 2.0, 1.0], [1.8218694278813898, 18.178130572118608], [0.09109347139406951, 0.9089065286059306], 1.0, 'Risk'], ['no_checking', 25, 'prior_payments_delayed', 'car_used', 3850, 'unknown', '4_to_7', 4, 'male', 'none', 5, 'savings_insurance', 42, 'none', 'own', 2, 'skilled', 1, 'none', 'yes', 0.0, 0.0, 1.0, 4.0, 0.0, 0.0, 0.0, 0.0, 2.0, 0.0, 0.0, 0.0, 0.0, [21, [2, 3, 4, 13, 14, 15, 16, 17, 18, 19, 20], [2.0, 4.0, 1.0, 25.0, 3850.0, 4.0, 5.0, 25.0, 42.0, 2.0, 1.0]], [10.471753237181979, 9.528246762818021], [0.5235876618590989, 0.47641233814090106], 0.0, 'No Risk'], ['less_0', 27, 'outstanding_credit', 'education', 250, '100_to_500', '1_to_4', 2, 'male', 'none', 2, 'car_other', 37, 'stores', 'rent', 1, 'unskilled', 1, 'none', 'yes', 1.0, 2.0, 0.0, 1.0, 0.0, 1.0, 1.0, 1.0, 7.0, 0.0, 1.0, 0.0, 0.0, [1.0, 2.0, 7.0, 1.0, 0.0, 0.0, 0.0, 1.0, 1.0, 1.0, 1.0, 0.0, 0.0, 27.0, 250.0, 2.0, 2.0, 27.0, 37.0, 1.0, 1.0], [15.753572007235203, 4.246427992764798], [0.7876786003617602, 0.2123213996382399], 0.0, 'No Risk'], ['no_checking', 22, 'credits_paid_to_date', 'car_used', 4546, '100_to_500', '1_to_4', 2, 'female', 'guarantor', 4, 'savings_insurance', 38, 'none', 'own', 1, 'skilled', 1, 'yes', 'yes', 0.0, 1.0, 0.0, 1.0, 0.0, 0.0, 0.0, 0.0, 2.0, 2.0, 0.0, 1.0, 1.0, [0.0, 1.0, 2.0, 1.0, 0.0, 1.0, 2.0, 0.0, 0.0, 0.0, 0.0, 1.0, 0.0, 22.0, 4546.0, 2.0, 4.0, 22.0, 38.0, 1.0, 1.0], [13.698647966781518, 6.301352033218481], [0.6849323983390759, 0.31506760166092407], 0.0, 'No Risk'], ['0_to_200', 4, 'all_credits_paid_back', 'car_new', 250, '100_to_500', 'unemployed', 2, 'female', 'none', 1, 'real_estate', 23, 'none', 'rent', 1, 'skilled', 1, 'none', 'yes', 2.0, 3.0, 4.0, 1.0, 0.0, 1.0, 0.0, 0.0, 0.0, 0.0, 2.0, 1.0, 0.0, [2.0, 3.0, 0.0, 1.0, 4.0, 1.0, 0.0, 2.0, 0.0, 1.0, 0.0, 0.0, 0.0, 4.0, 250.0, 2.0, 1.0, 4.0, 23.0, 1.0, 1.0], [19.569305393913247, 0.43069460608675353], [0.9784652696956624, 0.021534730304337675], 0.0, 'No Risk'], ['no_checking', 27, 'prior_payments_delayed', 'radio_tv', 4401, '100_to_500', '4_to_7', 4, 'female', 'none', 4, 'savings_insurance', 47, 'none', 'own', 1, 'skilled', 1, 'none', 'yes', 0.0, 0.0, 1.0, 1.0, 0.0, 0.0, 0.0, 0.0, 3.0, 0.0, 0.0, 1.0, 0.0, [21, [2, 3, 4, 5, 13, 14, 15, 16, 17, 18, 19, 20], [3.0, 1.0, 1.0, 1.0, 27.0, 4401.0, 4.0, 4.0, 27.0, 47.0, 1.0, 1.0]], [9.15759706560663, 10.842402934393368], [0.45787985328033154, 0.5421201467196683], 1.0, 'Risk'], ['less_0', 4, 'no_credits', 'car_new', 250, 'less_100', 'unemployed', 1, 'female', 'none', 1, 'real_estate', 27, 'bank', 'rent', 1, 'unemployed', 1, 'none', 'yes', 1.0, 4.0, 4.0, 0.0, 0.0, 1.0, 2.0, 3.0, 0.0, 0.0, 2.0, 1.0, 0.0, [1.0, 4.0, 0.0, 0.0, 4.0, 1.0, 0.0, 2.0, 2.0, 1.0, 3.0, 0.0, 0.0, 4.0, 250.0, 1.0, 1.0, 4.0, 27.0, 1.0, 1.0], [19.557317089819676, 0.4426829101803208], [0.977865854490984, 0.022134145509016045], 0.0, 'No Risk'], ['no_checking', 37, 'outstanding_credit', 'repairs', 6812, 'greater_1000', '4_to_7', 4, 'male', 'co-applicant', 5, 'unknown', 68, 'none', 'free', 2, 'management_self-employed', 2, 'yes', 'yes', 0.0, 2.0, 1.0, 3.0, 0.0, 2.0, 0.0, 2.0, 5.0, 1.0, 3.0, 0.0, 1.0, [0.0, 2.0, 5.0, 3.0, 1.0, 0.0, 1.0, 3.0, 0.0, 2.0, 2.0, 1.0, 0.0, 37.0, 6812.0, 4.0, 5.0, 37.0, 68.0, 2.0, 2.0], [3.1241337169362224, 16.875866283063772], [0.1562066858468112, 0.8437933141531889], 1.0, 'Risk'], ['no_checking', 48, 'outstanding_credit', 'education', 10197, '500_to_1000', '4_to_7', 4, 'male', 'co-applicant', 3, 'unknown', 36, 'none', 'free', 2, 'skilled', 1, 'yes', 'yes', 0.0, 2.0, 1.0, 2.0, 0.0, 2.0, 0.0, 0.0, 7.0, 1.0, 3.0, 0.0, 1.0, [0.0, 2.0, 7.0, 2.0, 1.0, 0.0, 1.0, 3.0, 0.0, 2.0, 0.0, 1.0, 0.0, 48.0, 10197.0, 4.0, 3.0, 48.0, 36.0, 2.0, 1.0], [4.992958169650878, 15.007041830349126], [0.24964790848254387, 0.7503520915174562], 1.0, 'Risk'], ['0_to_200', 14, 'credits_paid_to_date', 'furniture', 1912, 'less_100', '1_to_4', 3, 'female', 'none', 2, 'savings_insurance', 33, 'none', 'own', 1, 'management_self-employed', 1, 'none', 'yes', 2.0, 1.0, 0.0, 0.0, 0.0, 0.0, 0.0, 2.0, 1.0, 0.0, 0.0, 1.0, 0.0, [2.0, 1.0, 1.0, 0.0, 0.0, 1.0, 0.0, 0.0, 0.0, 0.0, 2.0, 0.0, 0.0, 14.0, 1912.0, 3.0, 2.0, 14.0, 33.0, 1.0, 1.0], [16.77965254510414, 3.2203474548958635], [0.8389826272552069, 0.16101737274479316], 0.0, 'No Risk'], ['no_checking', 25, 'all_credits_paid_back', 'repairs', 5989, 'greater_1000', '4_to_7', 3, 'male', 'none', 2, 'car_other', 47, 'none', 'own', 2, 'skilled', 1, 'yes', 'yes', 0.0, 3.0, 1.0, 3.0, 0.0, 0.0, 0.0, 0.0, 5.0, 0.0, 1.0, 0.0, 1.0, [0.0, 3.0, 5.0, 3.0, 1.0, 0.0, 0.0, 1.0, 0.0, 0.0, 0.0, 1.0, 0.0, 25.0, 5989.0, 3.0, 2.0, 25.0, 47.0, 2.0, 1.0], [10.813980172446291, 9.18601982755371], [0.5406990086223146, 0.45930099137768554], 0.0, 'No Risk'], ['no_checking', 36, 'credits_paid_to_date', 'repairs', 7679, '500_to_1000', '1_to_4', 3, 'female', 'none', 4, 'savings_insurance', 38, 'none', 'own', 2, 'skilled', 2, 'yes', 'yes', 0.0, 1.0, 0.0, 2.0, 0.0, 0.0, 0.0, 0.0, 5.0, 0.0, 0.0, 1.0, 1.0, [0.0, 1.0, 5.0, 2.0, 0.0, 1.0, 0.0, 0.0, 0.0, 0.0, 0.0, 1.0, 0.0, 36.0, 7679.0, 3.0, 4.0, 36.0, 38.0, 2.0, 2.0], [9.725996259883921, 10.274003740116079], [0.48629981299419606, 0.513700187005804], 1.0, 'Risk'], ['no_checking', 28, 'prior_payments_delayed', 'car_used', 5623, '100_to_500', '4_to_7', 4, 'male', 'none', 3, 'car_other', 42, 'none', 'own', 1, 'skilled', 2, 'yes', 'yes', 0.0, 0.0, 1.0, 1.0, 0.0, 0.0, 0.0, 0.0, 2.0, 0.0, 1.0, 0.0, 1.0, [0.0, 0.0, 2.0, 1.0, 1.0, 0.0, 0.0, 1.0, 0.0, 0.0, 0.0, 1.0, 0.0, 28.0, 5623.0, 4.0, 3.0, 28.0, 42.0, 1.0, 2.0], [10.94005594254884, 9.05994405745116], [0.547002797127442, 0.452997202872558], 0.0, 'No Risk'], ['less_0', 10, 'no_credits', 'car_new', 2671, 'less_100', '1_to_4', 2, 'female', 'none', 1, 'savings_insurance', 27, 'none', 'own', 1, 'skilled', 1, 'none', 'yes', 1.0, 4.0, 0.0, 0.0, 0.0, 0.0, 0.0, 0.0, 0.0, 0.0, 0.0, 1.0, 0.0, [21, [0, 1, 5, 13, 14, 15, 16, 17, 18, 19, 20], [1.0, 4.0, 1.0, 10.0, 2671.0, 2.0, 1.0, 10.0, 27.0, 1.0, 1.0]], [18.342662121388408, 1.6573378786115913], [0.9171331060694203, 0.08286689393057957], 0.0, 'No Risk'], ['greater_200', 23, 'credits_paid_to_date', 'furniture', 6090, '100_to_500', '4_to_7', 4, 'male', 'none', 3, 'savings_insurance', 24, 'none', 'own', 2, 'skilled', 2, 'none', 'yes', 3.0, 1.0, 1.0, 1.0, 0.0, 0.0, 0.0, 0.0, 1.0, 0.0, 0.0, 0.0, 0.0, [3.0, 1.0, 1.0, 1.0, 1.0, 0.0, 0.0, 0.0, 0.0, 0.0, 0.0, 0.0, 0.0, 23.0, 6090.0, 4.0, 3.0, 23.0, 24.0, 2.0, 2.0], [13.900814759016779, 6.099185240983221], [0.695040737950839, 0.3049592620491611], 0.0, 'No Risk'], ['greater_200', 40, 'outstanding_credit', 'appliances', 8862, '500_to_1000', '4_to_7', 5, 'male', 'co-applicant', 5, 'unknown', 52, 'none', 'free', 2, 'management_self-employed', 1, 'yes', 'yes', 3.0, 2.0, 1.0, 2.0, 0.0, 2.0, 0.0, 2.0, 4.0, 1.0, 3.0, 0.0, 1.0, [3.0, 2.0, 4.0, 2.0, 1.0, 0.0, 1.0, 3.0, 0.0, 2.0, 2.0, 1.0, 0.0, 40.0, 8862.0, 5.0, 5.0, 40.0, 52.0, 2.0, 1.0], [5.702568639720354, 14.297431360279644], [0.2851284319860177, 0.7148715680139822], 1.0, 'Risk'], ['less_0', 4, 'all_credits_paid_back', 'car_new', 716, 'less_100', 'less_1', 2, 'female', 'none', 3, 'real_estate', 26, 'none', 'rent', 1, 'management_self-employed', 1, 'none', 'yes', 1.0, 3.0, 3.0, 0.0, 0.0, 1.0, 0.0, 2.0, 0.0, 0.0, 2.0, 1.0, 0.0, [1.0, 3.0, 0.0, 0.0, 3.0, 1.0, 0.0, 2.0, 0.0, 1.0, 2.0, 0.0, 0.0, 4.0, 716.0, 2.0, 3.0, 4.0, 26.0, 1.0, 1.0], [19.154163489568315, 0.8458365104316844], [0.9577081744784157, 0.04229182552158422], 0.0, 'No Risk'], ['less_0', 4, 'all_credits_paid_back', 'repairs', 250, 'less_100', '1_to_4', 2, 'male', 'none', 2, 'savings_insurance', 19, 'none', 'rent', 1, 'skilled', 1, 'none', 'yes', 1.0, 3.0, 0.0, 0.0, 0.0, 1.0, 0.0, 0.0, 5.0, 0.0, 0.0, 0.0, 0.0, [21, [0, 1, 2, 9, 13, 14, 15, 16, 17, 18, 19, 20], [1.0, 3.0, 5.0, 1.0, 4.0, 250.0, 2.0, 2.0, 4.0, 19.0, 1.0, 1.0]], [19.09498653592708, 0.9050134640729178], [0.954749326796354, 0.04525067320364589], 0.0, 'No Risk'], ['no_checking', 30, 'prior_payments_delayed', 'appliances', 2075, '500_to_1000', '4_to_7', 3, 'male', 'none', 4, 'real_estate', 28, 'none', 'own', 1, 'skilled', 1, 'yes', 'yes', 0.0, 0.0, 1.0, 2.0, 0.0, 0.0, 0.0, 0.0, 4.0, 0.0, 2.0, 0.0, 1.0, [0.0, 0.0, 4.0, 2.0, 1.0, 0.0, 0.0, 2.0, 0.0, 0.0, 0.0, 1.0, 0.0, 30.0, 2075.0, 3.0, 4.0, 30.0, 28.0, 1.0, 1.0], [11.658748311400288, 8.34125168859971], [0.5829374155700144, 0.4170625844299855], 0.0, 'No Risk'], ['0_to_200', 27, 'credits_paid_to_date', 'radio_tv', 3634, 'less_100', '4_to_7', 4, 'female', 'none', 3, 'car_other', 41, 'none', 'own', 2, 'skilled', 2, 'none', 'yes', 2.0, 1.0, 1.0, 0.0, 0.0, 0.0, 0.0, 0.0, 3.0, 0.0, 1.0, 1.0, 0.0, [2.0, 1.0, 3.0, 0.0, 1.0, 1.0, 0.0, 1.0, 0.0, 0.0, 0.0, 0.0, 0.0, 27.0, 3634.0, 4.0, 3.0, 27.0, 41.0, 2.0, 2.0], [11.615346332301941, 8.384653667698057], [0.5807673166150971, 0.4192326833849028], 0.0, 'No Risk'], ['greater_200', 39, 'prior_payments_delayed', 'appliances', 2685, 'unknown', '4_to_7', 2, 'female', 'none', 2, 'car_other', 41, 'bank', 'own', 2, 'unemployed', 1, 'none', 'yes', 3.0, 0.0, 1.0, 4.0, 0.0, 0.0, 2.0, 3.0, 4.0, 0.0, 1.0, 1.0, 0.0, [3.0, 0.0, 4.0, 4.0, 1.0, 1.0, 0.0, 1.0, 2.0, 0.0, 3.0, 0.0, 0.0, 39.0, 2685.0, 2.0, 2.0, 39.0, 41.0, 2.0, 1.0], [12.045404549220123, 7.954595450779878], [0.6022702274610061, 0.3977297725389939], 0.0, 'No Risk'], ['less_0', 6, 'no_credits', 'car_used', 250, 'less_100', 'less_1', 1, 'female', 'co-applicant', 1, 'savings_insurance', 19, 'stores', 'rent', 1, 'unskilled', 1, 'none', 'yes', 1.0, 4.0, 3.0, 0.0, 0.0, 1.0, 1.0, 1.0, 2.0, 1.0, 0.0, 1.0, 0.0, [1.0, 4.0, 2.0, 0.0, 3.0, 1.0, 1.0, 0.0, 1.0, 1.0, 1.0, 0.0, 0.0, 6.0, 250.0, 1.0, 1.0, 6.0, 19.0, 1.0, 1.0], [19.07479747879002, 0.9252025212099758], [0.9537398739395012, 0.0462601260604988], 0.0, 'No Risk'], ['less_0', 8, 'credits_paid_to_date', 'car_used', 715, 'less_100', '4_to_7', 2, 'female', 'none', 1, 'savings_insurance', 21, 'bank', 'rent', 1, 'unemployed', 1, 'none', 'yes', 1.0, 1.0, 1.0, 0.0, 0.0, 1.0, 2.0, 3.0, 2.0, 0.0, 0.0, 1.0, 0.0, [1.0, 1.0, 2.0, 0.0, 1.0, 1.0, 0.0, 0.0, 2.0, 1.0, 3.0, 0.0, 0.0, 8.0, 715.0, 2.0, 1.0, 8.0, 21.0, 1.0, 1.0], [18.635899420691853, 1.3641005793081462], [0.9317949710345926, 0.06820502896540731], 0.0, 'No Risk'], ['0_to_200', 14, 'prior_payments_delayed', 'radio_tv', 1367, '500_to_1000', '1_to_4', 2, 'male', 'none', 3, 'car_other', 36, 'none', 'own', 2, 'skilled', 1, 'none', 'yes', 2.0, 0.0, 0.0, 2.0, 0.0, 0.0, 0.0, 0.0, 3.0, 0.0, 1.0, 0.0, 0.0, [21, [0, 2, 3, 7, 13, 14, 15, 16, 17, 18, 19, 20], [2.0, 3.0, 2.0, 1.0, 14.0, 1367.0, 2.0, 3.0, 14.0, 36.0, 2.0, 1.0]], [14.844036134666492, 5.155963865333508], [0.7422018067333246, 0.2577981932666754], 0.0, 'No Risk'], ['no_checking', 29, 'prior_payments_delayed', 'radio_tv', 4519, '100_to_500', '4_to_7', 3, 'male', 'none', 4, 'savings_insurance', 53, 'none', 'own', 2, 'skilled', 2, 'yes', 'yes', 0.0, 0.0, 1.0, 1.0, 0.0, 0.0, 0.0, 0.0, 3.0, 0.0, 0.0, 0.0, 1.0, [21, [2, 3, 4, 11, 13, 14, 15, 16, 17, 18, 19, 20], [3.0, 1.0, 1.0, 1.0, 29.0, 4519.0, 3.0, 4.0, 29.0, 53.0, 2.0, 2.0]], [8.611859248757527, 11.38814075124247], [0.43059296243787637, 0.5694070375621235], 1.0, 'Risk'], ['no_checking', 37, 'credits_paid_to_date', 'car_used', 7577, '100_to_500', 'less_1', 4, 'male', 'none', 3, 'car_other', 32, 'none', 'own', 2, 'skilled', 1, 'none', 'yes', 0.0, 1.0, 3.0, 1.0, 0.0, 0.0, 0.0, 0.0, 2.0, 0.0, 1.0, 0.0, 0.0, [0.0, 1.0, 2.0, 1.0, 3.0, 0.0, 0.0, 1.0, 0.0, 0.0, 0.0, 0.0, 0.0, 37.0, 7577.0, 4.0, 3.0, 37.0, 32.0, 2.0, 1.0], [13.662033285866453, 6.3379667141335485], [0.6831016642933226, 0.3168983357066774], 0.0, 'No Risk'], ['0_to_200', 26, 'credits_paid_to_date', 'furniture', 2320, '500_to_1000', '1_to_4', 3, 'female', 'none', 2, 'real_estate', 29, 'none', 'rent', 1, 'skilled', 1, 'none', 'yes', 2.0, 1.0, 0.0, 2.0, 0.0, 1.0, 0.0, 0.0, 1.0, 0.0, 2.0, 1.0, 0.0, [2.0, 1.0, 1.0, 2.0, 0.0, 1.0, 0.0, 2.0, 0.0, 1.0, 0.0, 0.0, 0.0, 26.0, 2320.0, 3.0, 2.0, 26.0, 29.0, 1.0, 1.0], [17.745365278278573, 2.2546347217214295], [0.8872682639139285, 0.11273173608607145], 0.0, 'No Risk'], ['less_0', 4, 'credits_paid_to_date', 'car_new', 250, 'less_100', 'less_1', 2, 'female', 'none', 3, 'savings_insurance', 38, 'none', 'rent', 1, 'skilled', 1, 'none', 'yes', 1.0, 1.0, 3.0, 0.0, 0.0, 1.0, 0.0, 0.0, 0.0, 0.0, 0.0, 1.0, 0.0, [1.0, 1.0, 0.0, 0.0, 3.0, 1.0, 0.0, 0.0, 0.0, 1.0, 0.0, 0.0, 0.0, 4.0, 250.0, 2.0, 3.0, 4.0, 38.0, 1.0, 1.0], [18.208044158425054, 1.7919558415749457], [0.9104022079212527, 0.08959779207874728], 0.0, 'No Risk'], ['no_checking', 25, 'prior_payments_delayed', 'appliances', 4802, '100_to_500', '4_to_7', 3, 'male', 'none', 4, 'savings_insurance', 40, 'none', 'own', 2, 'management_self-employed', 2, 'yes', 'yes', 0.0, 0.0, 1.0, 1.0, 0.0, 0.0, 0.0, 2.0, 4.0, 0.0, 0.0, 0.0, 1.0, [0.0, 0.0, 4.0, 1.0, 1.0, 0.0, 0.0, 0.0, 0.0, 0.0, 2.0, 1.0, 0.0, 25.0, 4802.0, 3.0, 4.0, 25.0, 40.0, 2.0, 2.0], [10.865685097121878, 9.134314902878124], [0.5432842548560939, 0.4567157451439062], 0.0, 'No Risk'], ['0_to_200', 26, 'credits_paid_to_date', 'radio_tv', 4184, '100_to_500', '4_to_7', 4, 'male', 'none', 2, 'savings_insurance', 36, 'none', 'own', 1, 'skilled', 2, 'none', 'yes', 2.0, 1.0, 1.0, 1.0, 0.0, 0.0, 0.0, 0.0, 3.0, 0.0, 0.0, 0.0, 0.0, [2.0, 1.0, 3.0, 1.0, 1.0, 0.0, 0.0, 0.0, 0.0, 0.0, 0.0, 0.0, 0.0, 26.0, 4184.0, 4.0, 2.0, 26.0, 36.0, 1.0, 2.0], [14.929278192543038, 5.070721807456963], [0.7464639096271519, 0.2535360903728482], 0.0, 'No Risk'], ['0_to_200', 4, 'all_credits_paid_back', 'education', 844, '100_to_500', 'less_1', 2, 'female', 'none', 2, 'savings_insurance', 19, 'none', 'rent', 2, 'skilled', 1, 'none', 'yes', 2.0, 3.0, 3.0, 1.0, 0.0, 1.0, 0.0, 0.0, 7.0, 0.0, 0.0, 1.0, 0.0, [2.0, 3.0, 7.0, 1.0, 3.0, 1.0, 0.0, 0.0, 0.0, 1.0, 0.0, 0.0, 0.0, 4.0, 844.0, 2.0, 2.0, 4.0, 19.0, 2.0, 1.0], [18.772770934119652, 1.2272290658803504], [0.9386385467059825, 0.06136145329401751], 0.0, 'No Risk'], ['greater_200', 15, 'prior_payments_delayed', 'radio_tv', 4867, '100_to_500', '1_to_4', 3, 'male', 'none', 3, 'car_other', 33, 'none', 'free', 2, 'skilled', 1, 'yes', 'yes', 3.0, 0.0, 0.0, 1.0, 0.0, 2.0, 0.0, 0.0, 3.0, 0.0, 1.0, 0.0, 1.0, [3.0, 0.0, 3.0, 1.0, 0.0, 0.0, 0.0, 1.0, 0.0, 2.0, 0.0, 1.0, 0.0, 15.0, 4867.0, 3.0, 3.0, 15.0, 33.0, 2.0, 1.0], [14.14656432340987, 5.853435676590127], [0.7073282161704936, 0.2926717838295064], 0.0, 'No Risk'], ['0_to_200', 23, 'credits_paid_to_date', 'retraining', 3494, 'less_100', '4_to_7', 4, 'male', 'none', 2, 'car_other', 40, 'bank', 'own', 1, 'unskilled', 1, 'none', 'yes', 2.0, 1.0, 1.0, 0.0, 0.0, 0.0, 2.0, 1.0, 8.0, 0.0, 1.0, 0.0, 0.0, [2.0, 1.0, 8.0, 0.0, 1.0, 0.0, 0.0, 1.0, 2.0, 0.0, 1.0, 0.0, 0.0, 23.0, 3494.0, 4.0, 2.0, 23.0, 40.0, 1.0, 1.0], [14.359372262741868, 5.640627737258131], [0.7179686131370934, 0.2820313868629066], 0.0, 'No Risk'], ['0_to_200', 15, 'credits_paid_to_date', 'car_new', 4498, 'less_100', 'less_1', 3, 'male', 'none', 3, 'real_estate', 32, 'none', 'own', 1, 'management_self-employed', 1, 'none', 'yes', 2.0, 1.0, 3.0, 0.0, 0.0, 0.0, 0.0, 2.0, 0.0, 0.0, 2.0, 0.0, 0.0, [2.0, 1.0, 0.0, 0.0, 3.0, 0.0, 0.0, 2.0, 0.0, 0.0, 2.0, 0.0, 0.0, 15.0, 4498.0, 3.0, 3.0, 15.0, 32.0, 1.0, 1.0], [17.263846281598646, 2.736153718401356], [0.8631923140799322, 0.1368076859200678], 0.0, 'No Risk'], ['0_to_200', 19, 'credits_paid_to_date', 'car_new', 1787, 'less_100', 'less_1', 3, 'female', 'co-applicant', 3, 'real_estate', 48, 'none', 'own', 2, 'skilled', 1, 'none', 'yes', 2.0, 1.0, 3.0, 0.0, 0.0, 0.0, 0.0, 0.0, 0.0, 1.0, 2.0, 1.0, 0.0, [2.0, 1.0, 0.0, 0.0, 3.0, 1.0, 1.0, 2.0, 0.0, 0.0, 0.0, 0.0, 0.0, 19.0, 1787.0, 3.0, 3.0, 19.0, 48.0, 2.0, 1.0], [14.557969109439203, 5.4420308905608], [0.72789845547196, 0.27210154452804], 0.0, 'No Risk'], ['less_0', 14, 'all_credits_paid_back', 'car_used', 250, '500_to_1000', '1_to_4', 1, 'female', 'none', 2, 'savings_insurance', 35, 'stores', 'rent', 1, 'skilled', 1, 'none', 'yes', 1.0, 3.0, 0.0, 2.0, 0.0, 1.0, 1.0, 0.0, 2.0, 0.0, 0.0, 1.0, 0.0, [1.0, 3.0, 2.0, 2.0, 0.0, 1.0, 0.0, 0.0, 1.0, 1.0, 0.0, 0.0, 0.0, 14.0, 250.0, 1.0, 2.0, 14.0, 35.0, 1.0, 1.0], [18.34469639831254, 1.6553036016874592], [0.9172348199156269, 0.08276518008437296], 0.0, 'No Risk'], ['0_to_200', 14, 'credits_paid_to_date', 'furniture', 1504, 'less_100', '1_to_4', 3, 'female', 'none', 1, 'real_estate', 25, 'none', 'own', 2, 'skilled', 1, 'none', 'yes', 2.0, 1.0, 0.0, 0.0, 0.0, 0.0, 0.0, 0.0, 1.0, 0.0, 2.0, 1.0, 0.0, [2.0, 1.0, 1.0, 0.0, 0.0, 1.0, 0.0, 2.0, 0.0, 0.0, 0.0, 0.0, 0.0, 14.0, 1504.0, 3.0, 1.0, 14.0, 25.0, 2.0, 1.0], [18.050596001479583, 1.9494039985204155], [0.9025298000739792, 0.09747019992602077], 0.0, 'No Risk'], ['less_0', 10, 'credits_paid_to_date', 'appliances', 658, 'less_100', 'unemployed', 1, 'female', 'none', 1, 'real_estate', 21, 'bank', 'rent', 1, 'unskilled', 1, 'none', 'yes', 1.0, 1.0, 4.0, 0.0, 0.0, 1.0, 2.0, 1.0, 4.0, 0.0, 2.0, 1.0, 0.0, [1.0, 1.0, 4.0, 0.0, 4.0, 1.0, 0.0, 2.0, 2.0, 1.0, 1.0, 0.0, 0.0, 10.0, 658.0, 1.0, 1.0, 10.0, 21.0, 1.0, 1.0], [19.43634580464159, 0.56365419535841], [0.9718172902320795, 0.028182709767920498], 0.0, 'No Risk'], ['no_checking', 38, 'prior_payments_delayed', 'furniture', 2295, '500_to_1000', '1_to_4', 4, 'female', 'none', 4, 'savings_insurance', 36, 'none', 'own', 1, 'skilled', 1, 'none', 'yes', 0.0, 0.0, 0.0, 2.0, 0.0, 0.0, 0.0, 0.0, 1.0, 0.0, 0.0, 1.0, 0.0, [21, [2, 3, 5, 13, 14, 15, 16, 17, 18, 19, 20], [1.0, 2.0, 1.0, 38.0, 2295.0, 4.0, 4.0, 38.0, 36.0, 1.0, 1.0]], [11.261279081955962, 8.738720918044038], [0.5630639540977981, 0.4369360459022019], 0.0, 'No Risk'], ['less_0', 21, 'prior_payments_delayed', 'education', 7989, '500_to_1000', '4_to_7', 3, 'male', 'none', 4, 'unknown', 44, 'bank', 'own', 2, 'unemployed', 1, 'yes', 'yes', 1.0, 0.0, 1.0, 2.0, 0.0, 0.0, 2.0, 3.0, 7.0, 0.0, 3.0, 0.0, 1.0, [1.0, 0.0, 7.0, 2.0, 1.0, 0.0, 0.0, 3.0, 2.0, 0.0, 3.0, 1.0, 0.0, 21.0, 7989.0, 3.0, 4.0, 21.0, 44.0, 2.0, 1.0], [13.091137819081725, 6.908862180918275], [0.6545568909540862, 0.34544310904591374], 0.0, 'No Risk'], ['0_to_200', 23, 'prior_payments_delayed', 'car_used', 3170, '100_to_500', 'less_1', 3, 'male', 'none', 2, 'car_other', 26, 'none', 'own', 1, 'skilled', 1, 'yes', 'yes', 2.0, 0.0, 3.0, 1.0, 0.0, 0.0, 0.0, 0.0, 2.0, 0.0, 1.0, 0.0, 1.0, [2.0, 0.0, 2.0, 1.0, 3.0, 0.0, 0.0, 1.0, 0.0, 0.0, 0.0, 1.0, 0.0, 23.0, 3170.0, 3.0, 2.0, 23.0, 26.0, 1.0, 1.0], [16.037434105818598, 3.9625658941814015], [0.8018717052909299, 0.19812829470907006], 0.0, 'No Risk'], ['no_checking', 22, 'prior_payments_delayed', 'education', 7593, '100_to_500', '1_to_4', 3, 'male', 'none', 4, 'savings_insurance', 24, 'none', 'own', 1, 'management_self-employed', 1, 'yes', 'yes', 0.0, 0.0, 0.0, 1.0, 0.0, 0.0, 0.0, 2.0, 7.0, 0.0, 0.0, 0.0, 1.0, [21, [2, 3, 10, 11, 13, 14, 15, 16, 17, 18, 19, 20], [7.0, 1.0, 2.0, 1.0, 22.0, 7593.0, 3.0, 4.0, 22.0, 24.0, 1.0, 1.0]], [11.349810628777758, 8.65018937122224], [0.567490531438888, 0.432509468561112], 0.0, 'No Risk'], ['0_to_200', 15, 'credits_paid_to_date', 'car_new', 1451, '500_to_1000', '1_to_4', 2, 'male', 'none', 3, 'savings_insurance', 29, 'none', 'own', 1, 'skilled', 1, 'none', 'yes', 2.0, 1.0, 0.0, 2.0, 0.0, 0.0, 0.0, 0.0, 0.0, 0.0, 0.0, 0.0, 0.0, [21, [0, 1, 3, 13, 14, 15, 16, 17, 18, 19, 20], [2.0, 1.0, 2.0, 15.0, 1451.0, 2.0, 3.0, 15.0, 29.0, 1.0, 1.0]], [17.810441366384648, 2.189558633615349], [0.8905220683192325, 0.10947793168076747], 0.0, 'No Risk'], ['less_0', 4, 'all_credits_paid_back', 'car_new', 250, 'less_100', 'less_1', 1, 'male', 'none', 2, 'real_estate', 19, 'stores', 'rent', 1, 'skilled', 1, 'none', 'yes', 1.0, 3.0, 3.0, 0.0, 0.0, 1.0, 1.0, 0.0, 0.0, 0.0, 2.0, 0.0, 0.0, [1.0, 3.0, 0.0, 0.0, 3.0, 0.0, 0.0, 2.0, 1.0, 1.0, 0.0, 0.0, 0.0, 4.0, 250.0, 1.0, 2.0, 4.0, 19.0, 1.0, 1.0], [19.489084600281362, 0.5109153997186346], [0.9744542300140683, 0.02554576998593174], 0.0, 'No Risk'], ['no_checking', 30, 'prior_payments_delayed', 'appliances', 4475, '100_to_500', 'greater_7', 4, 'female', 'none', 3, 'car_other', 51, 'none', 'free', 2, 'skilled', 1, 'none', 'yes', 0.0, 0.0, 2.0, 1.0, 0.0, 2.0, 0.0, 0.0, 4.0, 0.0, 1.0, 1.0, 0.0, [0.0, 0.0, 4.0, 1.0, 2.0, 1.0, 0.0, 1.0, 0.0, 2.0, 0.0, 0.0, 0.0, 30.0, 4475.0, 4.0, 3.0, 30.0, 51.0, 2.0, 1.0], [6.356528580288458, 13.643471419711544], [0.31782642901442293, 0.6821735709855772], 1.0, 'Risk'], ['less_0', 13, 'credits_paid_to_date', 'furniture', 563, 'less_100', 'less_1', 1, 'male', 'none', 2, 'savings_insurance', 25, 'none', 'rent', 1, 'skilled', 1, 'none', 'yes', 1.0, 1.0, 3.0, 0.0, 0.0, 1.0, 0.0, 0.0, 1.0, 0.0, 0.0, 0.0, 0.0, [1.0, 1.0, 1.0, 0.0, 3.0, 0.0, 0.0, 0.0, 0.0, 1.0, 0.0, 0.0, 0.0, 13.0, 563.0, 1.0, 2.0, 13.0, 25.0, 1.0, 1.0], [19.02101662084829, 0.9789833791517093], [0.9510508310424145, 0.048949168957585464], 0.0, 'No Risk'], ['0_to_200', 8, 'credits_paid_to_date', 'car_new', 250, 'less_100', 'less_1', 1, 'female', 'none', 1, 'savings_insurance', 21, 'none', 'own', 1, 'skilled', 1, 'none', 'yes', 2.0, 1.0, 3.0, 0.0, 0.0, 0.0, 0.0, 0.0, 0.0, 0.0, 0.0, 1.0, 0.0, [21, [0, 1, 4, 5, 13, 14, 15, 16, 17, 18, 19, 20], [2.0, 1.0, 3.0, 1.0, 8.0, 250.0, 1.0, 1.0, 8.0, 21.0, 1.0, 1.0]], [19.266536615706844, 0.7334633842931575], [0.9633268307853422, 0.03667316921465787], 0.0, 'No Risk'], ['0_to_200', 38, 'prior_payments_delayed', 'radio_tv', 2816, '100_to_500', '1_to_4', 4, 'male', 'none', 4, 'car_other', 32, 'none', 'own', 2, 'skilled', 1, 'none', 'yes', 2.0, 0.0, 0.0, 1.0, 0.0, 0.0, 0.0, 0.0, 3.0, 0.0, 1.0, 0.0, 0.0, [21, [0, 2, 3, 7, 13, 14, 15, 16, 17, 18, 19, 20], [2.0, 3.0, 1.0, 1.0, 38.0, 2816.0, 4.0, 4.0, 38.0, 32.0, 2.0, 1.0]], [12.239463797528146, 7.760536202471853], [0.6119731898764073, 0.38802681012359264], 0.0, 'No Risk'], ['no_checking', 31, 'prior_payments_delayed', 'business', 5493, '100_to_500', '4_to_7', 4, 'female', 'none', 3, 'car_other', 42, 'none', 'own', 1, 'skilled', 1, 'none', 'yes', 0.0, 0.0, 1.0, 1.0, 0.0, 0.0, 0.0, 0.0, 9.0, 0.0, 1.0, 1.0, 0.0, [0.0, 0.0, 9.0, 1.0, 1.0, 1.0, 0.0, 1.0, 0.0, 0.0, 0.0, 0.0, 0.0, 31.0, 5493.0, 4.0, 3.0, 31.0, 42.0, 1.0, 1.0], [7.796049792718167, 12.203950207281835], [0.38980248963590836, 0.6101975103640918], 1.0, 'Risk'], ['no_checking', 12, 'credits_paid_to_date', 'furniture', 1238, 'less_100', '1_to_4', 3, 'female', 'none', 3, 'real_estate', 40, 'none', 'own', 1, 'management_self-employed', 1, 'none', 'yes', 0.0, 1.0, 0.0, 0.0, 0.0, 0.0, 0.0, 2.0, 1.0, 0.0, 2.0, 1.0, 0.0, [0.0, 1.0, 1.0, 0.0, 0.0, 1.0, 0.0, 2.0, 0.0, 0.0, 2.0, 0.0, 0.0, 12.0, 1238.0, 3.0, 3.0, 12.0, 40.0, 1.0, 1.0], [16.729310073038608, 3.2706899269613943], [0.8364655036519303, 0.16353449634806969], 0.0, 'No Risk'], ['no_checking', 31, 'prior_payments_delayed', 'car_used', 4246, '500_to_1000', '4_to_7', 4, 'male', 'none', 4, 'unknown', 45, 'none', 'own', 1, 'skilled', 1, 'yes', 'yes', 0.0, 0.0, 1.0, 2.0, 0.0, 0.0, 0.0, 0.0, 2.0, 0.0, 3.0, 0.0, 1.0, [0.0, 0.0, 2.0, 2.0, 1.0, 0.0, 0.0, 3.0, 0.0, 0.0, 0.0, 1.0, 0.0, 31.0, 4246.0, 4.0, 4.0, 31.0, 45.0, 1.0, 1.0], [8.409744360766126, 11.590255639233874], [0.4204872180383063, 0.5795127819616936], 1.0, 'Risk'], ['no_checking', 29, 'outstanding_credit', 'appliances', 9603, 'unknown', 'greater_7', 5, 'male', 'co-applicant', 4, 'unknown', 59, 'none', 'free', 2, 'skilled', 1, 'yes', 'yes', 0.0, 2.0, 2.0, 4.0, 0.0, 2.0, 0.0, 0.0, 4.0, 1.0, 3.0, 0.0, 1.0, [0.0, 2.0, 4.0, 4.0, 2.0, 0.0, 1.0, 3.0, 0.0, 2.0, 0.0, 1.0, 0.0, 29.0, 9603.0, 5.0, 4.0, 29.0, 59.0, 2.0, 1.0], [1.176825604643065, 18.823174395356933], [0.05884128023215326, 0.9411587197678468], 1.0, 'Risk'], ['no_checking', 29, 'prior_payments_delayed', 'radio_tv', 4631, 'unknown', '4_to_7', 3, 'male', 'none', 4, 'car_other', 43, 'bank', 'own', 2, 'unemployed', 1, 'none', 'yes', 0.0, 0.0, 1.0, 4.0, 0.0, 0.0, 2.0, 3.0, 3.0, 0.0, 1.0, 0.0, 0.0, [0.0, 0.0, 3.0, 4.0, 1.0, 0.0, 0.0, 1.0, 2.0, 0.0, 3.0, 0.0, 0.0, 29.0, 4631.0, 3.0, 4.0, 29.0, 43.0, 2.0, 1.0], [11.809782853300689, 8.190217146699313], [0.5904891426650345, 0.4095108573349656], 0.0, 'No Risk'], ['no_checking', 30, 'all_credits_paid_back', 'furniture', 5256, 'less_100', '4_to_7', 4, 'female', 'none', 4, 'savings_insurance', 43, 'none', 'own', 2, 'skilled', 1, 'yes', 'yes', 0.0, 3.0, 1.0, 0.0, 0.0, 0.0, 0.0, 0.0, 1.0, 0.0, 0.0, 1.0, 1.0, [0.0, 3.0, 1.0, 0.0, 1.0, 1.0, 0.0, 0.0, 0.0, 0.0, 0.0, 1.0, 0.0, 30.0, 5256.0, 4.0, 4.0, 30.0, 43.0, 2.0, 1.0], [8.556009529535848, 11.443990470464154], [0.42780047647679237, 0.5721995235232077], 1.0, 'Risk'], ['0_to_200', 18, 'prior_payments_delayed', 'furniture', 3069, '500_to_1000', '1_to_4', 3, 'male', 'none', 3, 'savings_insurance', 29, 'bank', 'own', 1, 'unskilled', 1, 'yes', 'yes', 2.0, 0.0, 0.0, 2.0, 0.0, 0.0, 2.0, 1.0, 1.0, 0.0, 0.0, 0.0, 1.0, [2.0, 0.0, 1.0, 2.0, 0.0, 0.0, 0.0, 0.0, 2.0, 0.0, 1.0, 1.0, 0.0, 18.0, 3069.0, 3.0, 3.0, 18.0, 29.0, 1.0, 1.0], [15.92064603374783, 4.0793539662521665], [0.7960323016873917, 0.20396769831260836], 0.0, 'No Risk'], ['no_checking', 19, 'outstanding_credit', 'business', 2474, '500_to_1000', '4_to_7', 3, 'male', 'none', 4, 'unknown', 43, 'none', 'own', 1, 'skilled', 1, 'yes', 'yes', 0.0, 2.0, 1.0, 2.0, 0.0, 0.0, 0.0, 0.0, 9.0, 0.0, 3.0, 0.0, 1.0, [0.0, 2.0, 9.0, 2.0, 1.0, 0.0, 0.0, 3.0, 0.0, 0.0, 0.0, 1.0, 0.0, 19.0, 2474.0, 3.0, 4.0, 19.0, 43.0, 1.0, 1.0], [11.522781802638015, 8.477218197361985], [0.5761390901319008, 0.42386090986809927], 0.0, 'No Risk'], ['less_0', 28, 'prior_payments_delayed', 'appliances', 1596, 'greater_1000', '4_to_7', 3, 'female', 'none', 3, 'savings_insurance', 38, 'bank', 'rent', 1, 'unemployed', 1, 'none', 'yes', 1.0, 0.0, 1.0, 3.0, 0.0, 1.0, 2.0, 3.0, 4.0, 0.0, 0.0, 1.0, 0.0, [1.0, 0.0, 4.0, 3.0, 1.0, 1.0, 0.0, 0.0, 2.0, 1.0, 3.0, 0.0, 0.0, 28.0, 1596.0, 3.0, 3.0, 28.0, 38.0, 1.0, 1.0], [13.675726574101951, 6.324273425898049], [0.6837863287050976, 0.31621367129490247], 0.0, 'No Risk'], ['no_checking', 40, 'prior_payments_delayed', 'repairs', 5132, 'greater_1000', '4_to_7', 4, 'male', 'none', 3, 'unknown', 42, 'none', 'own', 2, 'skilled', 2, 'yes', 'yes', 0.0, 0.0, 1.0, 3.0, 0.0, 0.0, 0.0, 0.0, 5.0, 0.0, 3.0, 0.0, 1.0, [0.0, 0.0, 5.0, 3.0, 1.0, 0.0, 0.0, 3.0, 0.0, 0.0, 0.0, 1.0, 0.0, 40.0, 5132.0, 4.0, 3.0, 40.0, 42.0, 2.0, 2.0], [9.288067298301502, 10.711932701698498], [0.4644033649150751, 0.5355966350849248], 1.0, 'Risk'], ['0_to_200', 21, 'credits_paid_to_date', 'vacation', 2835, 'less_100', '4_to_7', 4, 'male', 'none', 3, 'car_other', 35, 'none', 'own', 1, 'skilled', 1, 'yes', 'yes', 2.0, 1.0, 1.0, 0.0, 0.0, 0.0, 0.0, 0.0, 6.0, 0.0, 1.0, 0.0, 1.0, [2.0, 1.0, 6.0, 0.0, 1.0, 0.0, 0.0, 1.0, 0.0, 0.0, 0.0, 1.0, 0.0, 21.0, 2835.0, 4.0, 3.0, 21.0, 35.0, 1.0, 1.0], [14.04771431951353, 5.95228568048647], [0.7023857159756765, 0.2976142840243235], 0.0, 'No Risk'], ['no_checking', 12, 'outstanding_credit', 'repairs', 6451, '100_to_500', 'greater_7', 5, 'female', 'none', 3, 'unknown', 47, 'stores', 'free', 2, 'unskilled', 1, 'yes', 'yes', 0.0, 2.0, 2.0, 1.0, 0.0, 2.0, 1.0, 1.0, 5.0, 0.0, 3.0, 1.0, 1.0, [0.0, 2.0, 5.0, 1.0, 2.0, 1.0, 0.0, 3.0, 1.0, 2.0, 1.0, 1.0, 0.0, 12.0, 6451.0, 5.0, 3.0, 12.0, 47.0, 2.0, 1.0], [8.126874577123, 11.873125422877], [0.40634372885615005, 0.59365627114385], 1.0, 'Risk'], ['no_checking', 32, 'prior_payments_delayed', 'furniture', 4101, 'unknown', '4_to_7', 4, 'female', 'none', 4, 'savings_insurance', 44, 'none', 'own', 1, 'skilled', 1, 'none', 'yes', 0.0, 0.0, 1.0, 4.0, 0.0, 0.0, 0.0, 0.0, 1.0, 0.0, 0.0, 1.0, 0.0, [21, [2, 3, 4, 5, 13, 14, 15, 16, 17, 18, 19, 20], [1.0, 4.0, 1.0, 1.0, 32.0, 4101.0, 4.0, 4.0, 32.0, 44.0, 1.0, 1.0]], [8.882145974353696, 11.117854025646304], [0.4441072987176848, 0.5558927012823152], 1.0, 'Risk'], ['less_0', 36, 'outstanding_credit', 'radio_tv', 2499, 'unknown', 'greater_7', 3, 'male', 'none', 3, 'car_other', 37, 'stores', 'own', 2, 'unskilled', 1, 'none', 'yes', 1.0, 2.0, 2.0, 4.0, 0.0, 0.0, 1.0, 1.0, 3.0, 0.0, 1.0, 0.0, 0.0, [1.0, 2.0, 3.0, 4.0, 2.0, 0.0, 0.0, 1.0, 1.0, 0.0, 1.0, 0.0, 0.0, 36.0, 2499.0, 3.0, 3.0, 36.0, 37.0, 2.0, 1.0], [13.077704618541404, 6.9222953814585955], [0.6538852309270702, 0.34611476907292976], 0.0, 'No Risk'], ['0_to_200', 30, 'credits_paid_to_date', 'car_used', 4973, 'less_100', 'less_1', 2, 'male', 'none', 3, 'unknown', 31, 'stores', 'own', 1, 'unskilled', 1, 'yes', 'yes', 2.0, 1.0, 3.0, 0.0, 0.0, 0.0, 1.0, 1.0, 2.0, 0.0, 3.0, 0.0, 1.0, [2.0, 1.0, 2.0, 0.0, 3.0, 0.0, 0.0, 3.0, 1.0, 0.0, 1.0, 1.0, 0.0, 30.0, 4973.0, 2.0, 3.0, 30.0, 31.0, 1.0, 1.0], [14.923650976792613, 5.076349023207388], [0.7461825488396306, 0.25381745116036936], 0.0, 'No Risk'], ['less_0', 4, 'all_credits_paid_back', 'car_new', 250, '100_to_500', 'less_1', 1, 'male', 'none', 1, 'savings_insurance', 21, 'stores', 'rent', 1, 'skilled', 1, 'none', 'yes', 1.0, 3.0, 3.0, 1.0, 0.0, 1.0, 1.0, 0.0, 0.0, 0.0, 0.0, 0.0, 0.0, [1.0, 3.0, 0.0, 1.0, 3.0, 0.0, 0.0, 0.0, 1.0, 1.0, 0.0, 0.0, 0.0, 4.0, 250.0, 1.0, 1.0, 4.0, 21.0, 1.0, 1.0], [19.30728710725305, 0.6927128927469494], [0.9653643553626525, 0.03463564463734747], 0.0, 'No Risk'], ['less_0', 31, 'credits_paid_to_date', 'car_used', 1035, '500_to_1000', '1_to_4', 3, 'female', 'none', 1, 'savings_insurance', 32, 'bank', 'rent', 2, 'unemployed', 1, 'none', 'yes', 1.0, 1.0, 0.0, 2.0, 0.0, 1.0, 2.0, 3.0, 2.0, 0.0, 0.0, 1.0, 0.0, [1.0, 1.0, 2.0, 2.0, 0.0, 1.0, 0.0, 0.0, 2.0, 1.0, 3.0, 0.0, 0.0, 31.0, 1035.0, 3.0, 1.0, 31.0, 32.0, 2.0, 1.0], [15.428348060113109, 4.57165193988689], [0.7714174030056554, 0.22858259699434452], 0.0, 'No Risk'], ['greater_200', 23, 'outstanding_credit', 'radio_tv', 4195, 'unknown', 'greater_7', 4, 'male', 'guarantor', 4, 'unknown', 67, 'none', 'free', 3, 'skilled', 1, 'yes', 'yes', 3.0, 2.0, 2.0, 4.0, 0.0, 2.0, 0.0, 0.0, 3.0, 2.0, 3.0, 0.0, 1.0, [3.0, 2.0, 3.0, 4.0, 2.0, 0.0, 2.0, 3.0, 0.0, 2.0, 0.0, 1.0, 0.0, 23.0, 4195.0, 4.0, 4.0, 23.0, 67.0, 3.0, 1.0], [6.693634586082937, 13.306365413917062], [0.33468172930414686, 0.6653182706958531], 1.0, 'Risk'], ['greater_200', 31, 'prior_payments_delayed', 'business', 1694, '100_to_500', '4_to_7', 3, 'female', 'none', 2, 'car_other', 43, 'none', 'own', 1, 'skilled', 1, 'yes', 'yes', 3.0, 0.0, 1.0, 1.0, 0.0, 0.0, 0.0, 0.0, 9.0, 0.0, 1.0, 1.0, 1.0, [3.0, 0.0, 9.0, 1.0, 1.0, 1.0, 0.0, 1.0, 0.0, 0.0, 0.0, 1.0, 0.0, 31.0, 1694.0, 3.0, 2.0, 31.0, 43.0, 1.0, 1.0], [12.952925695315631, 7.047074304684368], [0.6476462847657816, 0.3523537152342184], 0.0, 'No Risk'], ['no_checking', 30, 'all_credits_paid_back', 'car_new', 3749, 'greater_1000', '4_to_7', 3, 'male', 'none', 3, 'savings_insurance', 35, 'none', 'own', 2, 'skilled', 2, 'yes', 'yes', 0.0, 3.0, 1.0, 3.0, 0.0, 0.0, 0.0, 0.0, 0.0, 0.0, 0.0, 0.0, 1.0, [21, [1, 3, 4, 11, 13, 14, 15, 16, 17, 18, 19, 20], [3.0, 3.0, 1.0, 1.0, 30.0, 3749.0, 3.0, 3.0, 30.0, 35.0, 2.0, 2.0]], [11.349359578799241, 8.65064042120076], [0.567467978939962, 0.432532021060038], 0.0, 'No Risk'], ['less_0', 17, 'credits_paid_to_date', 'car_new', 2316, 'less_100', 'less_1', 1, 'female', 'none', 1, 'real_estate', 39, 'stores', 'own', 2, 'skilled', 1, 'none', 'yes', 1.0, 1.0, 3.0, 0.0, 0.0, 0.0, 1.0, 0.0, 0.0, 0.0, 2.0, 1.0, 0.0, [1.0, 1.0, 0.0, 0.0, 3.0, 1.0, 0.0, 2.0, 1.0, 0.0, 0.0, 0.0, 0.0, 17.0, 2316.0, 1.0, 1.0, 17.0, 39.0, 2.0, 1.0], [17.057300375314888, 2.9426996246851176], [0.852865018765744, 0.14713498123425583], 0.0, 'No Risk'], ['no_checking', 43, 'outstanding_credit', 'education', 6219, 'greater_1000', 'greater_7', 5, 'male', 'co-applicant', 5, 'car_other', 47, 'none', 'free', 2, 'skilled', 2, 'yes', 'yes', 0.0, 2.0, 2.0, 3.0, 0.0, 2.0, 0.0, 0.0, 7.0, 1.0, 1.0, 0.0, 1.0, [0.0, 2.0, 7.0, 3.0, 2.0, 0.0, 1.0, 1.0, 0.0, 2.0, 0.0, 1.0, 0.0, 43.0, 6219.0, 5.0, 5.0, 43.0, 47.0, 2.0, 2.0], [2.1042964721431985, 17.8957035278568], [0.10521482360715995, 0.8947851763928402], 1.0, 'Risk'], ['0_to_200', 6, 'prior_payments_delayed', 'car_new', 1232, '500_to_1000', '1_to_4', 3, 'male', 'none', 4, 'savings_insurance', 37, 'stores', 'own', 2, 'unskilled', 1, 'yes', 'yes', 2.0, 0.0, 0.0, 2.0, 0.0, 0.0, 1.0, 1.0, 0.0, 0.0, 0.0, 0.0, 1.0, [2.0, 0.0, 0.0, 2.0, 0.0, 0.0, 0.0, 0.0, 1.0, 0.0, 1.0, 1.0, 0.0, 6.0, 1232.0, 3.0, 4.0, 6.0, 37.0, 2.0, 1.0], [14.444711027706752, 5.555288972293245], [0.7222355513853378, 0.2777644486146623], 0.0, 'No Risk'], ['no_checking', 35, 'outstanding_credit', 'furniture', 2799, 'greater_1000', 'greater_7', 4, 'male', 'co-applicant', 5, 'car_other', 35, 'none', 'own', 1, 'skilled', 1, 'yes', 'yes', 0.0, 2.0, 2.0, 3.0, 0.0, 0.0, 0.0, 0.0, 1.0, 1.0, 1.0, 0.0, 1.0, [0.0, 2.0, 1.0, 3.0, 2.0, 0.0, 1.0, 1.0, 0.0, 0.0, 0.0, 1.0, 0.0, 35.0, 2799.0, 4.0, 5.0, 35.0, 35.0, 1.0, 1.0], [6.988339848131292, 13.011660151868709], [0.3494169924065646, 0.6505830075934355], 1.0, 'Risk'], ['0_to_200', 15, 'credits_paid_to_date', 'furniture', 4919, 'less_100', '1_to_4', 3, 'male', 'none', 4, 'car_other', 24, 'stores', 'own', 1, 'skilled', 1, 'yes', 'yes', 2.0, 1.0, 0.0, 0.0, 0.0, 0.0, 1.0, 0.0, 1.0, 0.0, 1.0, 0.0, 1.0, [2.0, 1.0, 1.0, 0.0, 0.0, 0.0, 0.0, 1.0, 1.0, 0.0, 0.0, 1.0, 0.0, 15.0, 4919.0, 3.0, 4.0, 15.0, 24.0, 1.0, 1.0], [15.263651576975, 4.736348423024998], [0.7631825788487501, 0.23681742115124987], 0.0, 'No Risk'], ['less_0', 12, 'all_credits_paid_back', 'car_new', 1793, 'less_100', 'less_1', 1, 'female', 'none', 1, 'savings_insurance', 34, 'stores', 'own', 1, 'skilled', 1, 'none', 'yes', 1.0, 3.0, 3.0, 0.0, 0.0, 0.0, 1.0, 0.0, 0.0, 0.0, 0.0, 1.0, 0.0, [1.0, 3.0, 0.0, 0.0, 3.0, 1.0, 0.0, 0.0, 1.0, 0.0, 0.0, 0.0, 0.0, 12.0, 1793.0, 1.0, 1.0, 12.0, 34.0, 1.0, 1.0], [18.332682180844913, 1.6673178191550864], [0.9166341090422456, 0.08336589095775432], 0.0, 'No Risk'], ['greater_200', 13, 'no_credits', 'car_used', 4398, '100_to_500', 'less_1', 3, 'female', 'none', 3, 'savings_insurance', 26, 'stores', 'rent', 2, 'unskilled', 1, 'none', 'yes', 3.0, 4.0, 3.0, 1.0, 0.0, 1.0, 1.0, 1.0, 2.0, 0.0, 0.0, 1.0, 0.0, [3.0, 4.0, 2.0, 1.0, 3.0, 1.0, 0.0, 0.0, 1.0, 1.0, 1.0, 0.0, 0.0, 13.0, 4398.0, 3.0, 3.0, 13.0, 26.0, 2.0, 1.0], [17.526154334733686, 2.4738456652663117], [0.8763077167366845, 0.1236922832633156], 0.0, 'No Risk'], ['no_checking', 38, 'prior_payments_delayed', 'furniture', 5907, '500_to_1000', '1_to_4', 3, 'male', 'none', 4, 'car_other', 43, 'none', 'own', 2, 'skilled', 1, 'none', 'yes', 0.0, 0.0, 0.0, 2.0, 0.0, 0.0, 0.0, 0.0, 1.0, 0.0, 1.0, 0.0, 0.0, [21, [2, 3, 7, 13, 14, 15, 16, 17, 18, 19, 20], [1.0, 2.0, 1.0, 38.0, 5907.0, 3.0, 4.0, 38.0, 43.0, 2.0, 1.0]], [11.32850430209615, 8.671495697903854], [0.5664252151048074, 0.43357478489519263], 0.0, 'No Risk'], ['no_checking', 26, 'credits_paid_to_date', 'retraining', 11258, '500_to_1000', 'less_1', 4, 'female', 'none', 4, 'unknown', 46, 'none', 'own', 2, 'management_self-employed', 2, 'yes', 'yes', 0.0, 1.0, 3.0, 2.0, 0.0, 0.0, 0.0, 2.0, 8.0, 0.0, 3.0, 1.0, 1.0, [0.0, 1.0, 8.0, 2.0, 3.0, 1.0, 0.0, 3.0, 0.0, 0.0, 2.0, 1.0, 0.0, 26.0, 11258.0, 4.0, 4.0, 26.0, 46.0, 2.0, 2.0], [9.945361763198592, 10.054638236801408], [0.4972680881599296, 0.5027319118400704], 1.0, 'Risk'], ['no_checking', 31, 'outstanding_credit', 'radio_tv', 8498, 'unknown', '4_to_7', 5, 'male', 'co-applicant', 5, 'car_other', 48, 'none', 'own', 2, 'management_self-employed', 2, 'none', 'yes', 0.0, 2.0, 1.0, 4.0, 0.0, 0.0, 0.0, 2.0, 3.0, 1.0, 1.0, 0.0, 0.0, [0.0, 2.0, 3.0, 4.0, 1.0, 0.0, 1.0, 1.0, 0.0, 0.0, 2.0, 0.0, 0.0, 31.0, 8498.0, 5.0, 5.0, 31.0, 48.0, 2.0, 2.0], [6.249974955445692, 13.750025044554304], [0.31249874777228465, 0.6875012522277153], 1.0, 'Risk'], ['no_checking', 32, 'outstanding_credit', 'repairs', 8812, '500_to_1000', 'greater_7', 5, 'male', 'co-applicant', 4, 'unknown', 55, 'none', 'free', 3, 'management_self-employed', 2, 'yes', 'yes', 0.0, 2.0, 2.0, 2.0, 0.0, 2.0, 0.0, 2.0, 5.0, 1.0, 3.0, 0.0, 1.0, [0.0, 2.0, 5.0, 2.0, 2.0, 0.0, 1.0, 3.0, 0.0, 2.0, 2.0, 1.0, 0.0, 32.0, 8812.0, 5.0, 4.0, 32.0, 55.0, 3.0, 2.0], [1.234834138113174, 18.76516586188682], [0.06174170690565871, 0.9382582930943413], 1.0, 'Risk'], ['0_to_200', 36, 'prior_payments_delayed', 'furniture', 7163, 'greater_1000', '4_to_7', 4, 'male', 'none', 3, 'car_other', 46, 'none', 'own', 2, 'skilled', 2, 'none', 'yes', 2.0, 0.0, 1.0, 3.0, 0.0, 0.0, 0.0, 0.0, 1.0, 0.0, 1.0, 0.0, 0.0, [2.0, 0.0, 1.0, 3.0, 1.0, 0.0, 0.0, 1.0, 0.0, 0.0, 0.0, 0.0, 0.0, 36.0, 7163.0, 4.0, 3.0, 36.0, 46.0, 2.0, 2.0], [10.544686878438293, 9.455313121561707], [0.5272343439219147, 0.47276565607808535], 0.0, 'No Risk'], ['less_0', 30, 'credits_paid_to_date', 'radio_tv', 3606, 'less_100', '1_to_4', 2, 'female', 'none', 2, 'savings_insurance', 35, 'stores', 'own', 1, 'skilled', 1, 'none', 'yes', 1.0, 1.0, 0.0, 0.0, 0.0, 0.0, 1.0, 0.0, 3.0, 0.0, 0.0, 1.0, 0.0, [1.0, 1.0, 3.0, 0.0, 0.0, 1.0, 0.0, 0.0, 1.0, 0.0, 0.0, 0.0, 0.0, 30.0, 3606.0, 2.0, 2.0, 30.0, 35.0, 1.0, 1.0], [15.240565032601477, 4.759434967398525], [0.7620282516300738, 0.23797174836992624], 0.0, 'No Risk'], ['no_checking', 30, 'outstanding_credit', 'business', 5841, '500_to_1000', '1_to_4', 4, 'female', 'none', 2, 'car_other', 48, 'none', 'own', 1, 'skilled', 1, 'none', 'yes', 0.0, 2.0, 0.0, 2.0, 0.0, 0.0, 0.0, 0.0, 9.0, 0.0, 1.0, 1.0, 0.0, [0.0, 2.0, 9.0, 2.0, 0.0, 1.0, 0.0, 1.0, 0.0, 0.0, 0.0, 0.0, 0.0, 30.0, 5841.0, 4.0, 2.0, 30.0, 48.0, 1.0, 1.0], [10.986656805392522, 9.013343194607478], [0.5493328402696261, 0.45066715973037386], 0.0, 'No Risk'], ['greater_200', 26, 'credits_paid_to_date', 'education', 4630, '100_to_500', '1_to_4', 4, 'male', 'none', 3, 'car_other', 43, 'bank', 'own', 1, 'unskilled', 1, 'yes', 'yes', 3.0, 1.0, 0.0, 1.0, 0.0, 0.0, 2.0, 1.0, 7.0, 0.0, 1.0, 0.0, 1.0, [3.0, 1.0, 7.0, 1.0, 0.0, 0.0, 0.0, 1.0, 2.0, 0.0, 1.0, 1.0, 0.0, 26.0, 4630.0, 4.0, 3.0, 26.0, 43.0, 1.0, 1.0], [14.375549753953274, 5.624450246046725], [0.7187774876976637, 0.28122251230233625], 0.0, 'No Risk'], ['less_0', 12, 'no_credits', 'car_new', 2454, 'less_100', 'less_1', 2, 'male', 'none', 2, 'real_estate', 37, 'bank', 'rent', 1, 'unskilled', 1, 'none', 'yes', 1.0, 4.0, 3.0, 0.0, 0.0, 1.0, 2.0, 1.0, 0.0, 0.0, 2.0, 0.0, 0.0, [1.0, 4.0, 0.0, 0.0, 3.0, 0.0, 0.0, 2.0, 2.0, 1.0, 1.0, 0.0, 0.0, 12.0, 2454.0, 2.0, 2.0, 12.0, 37.0, 1.0, 1.0], [18.65673985560585, 1.3432601443941519], [0.9328369927802924, 0.0671630072197076], 0.0, 'No Risk'], ['0_to_200', 5, 'prior_payments_delayed', 'car_new', 250, 'less_100', '1_to_4', 3, 'male', 'none', 3, 'real_estate', 20, 'none', 'own', 1, 'skilled', 1, 'none', 'yes', 2.0, 0.0, 0.0, 0.0, 0.0, 0.0, 0.0, 0.0, 0.0, 0.0, 2.0, 0.0, 0.0, [21, [0, 7, 13, 14, 15, 16, 17, 18, 19, 20], [2.0, 2.0, 5.0, 250.0, 3.0, 3.0, 5.0, 20.0, 1.0, 1.0]], [18.07046234539821, 1.9295376546017915], [0.9035231172699104, 0.09647688273008957], 0.0, 'No Risk'], ['0_to_200', 28, 'prior_payments_delayed', 'radio_tv', 3386, '100_to_500', '4_to_7', 4, 'female', 'none', 2, 'savings_insurance', 21, 'none', 'own', 2, 'skilled', 1, 'none', 'yes', 2.0, 0.0, 1.0, 1.0, 0.0, 0.0, 0.0, 0.0, 3.0, 0.0, 0.0, 1.0, 0.0, [2.0, 0.0, 3.0, 1.0, 1.0, 1.0, 0.0, 0.0, 0.0, 0.0, 0.0, 0.0, 0.0, 28.0, 3386.0, 4.0, 2.0, 28.0, 21.0, 2.0, 1.0], [14.251111516179016, 5.748888483820983], [0.7125555758089508, 0.28744442419104915], 0.0, 'No Risk'], ['no_checking', 31, 'prior_payments_delayed', 'car_used', 5929, '100_to_500', '4_to_7', 4, 'male', 'none', 5, 'car_other', 42, 'none', 'own', 1, 'skilled', 1, 'none', 'yes', 0.0, 0.0, 1.0, 1.0, 0.0, 0.0, 0.0, 0.0, 2.0, 0.0, 1.0, 0.0, 0.0, [21, [2, 3, 4, 7, 13, 14, 15, 16, 17, 18, 19, 20], [2.0, 1.0, 1.0, 1.0, 31.0, 5929.0, 4.0, 5.0, 31.0, 42.0, 1.0, 1.0]], [10.898221809583147, 9.101778190416853], [0.5449110904791573, 0.4550889095208427], 0.0, 'No Risk'], ['0_to_200', 14, 'credits_paid_to_date', 'car_used', 1454, '500_to_1000', 'less_1', 3, 'female', 'none', 3, 'car_other', 31, 'none', 'rent', 1, 'skilled', 1, 'none', 'yes', 2.0, 1.0, 3.0, 2.0, 0.0, 1.0, 0.0, 0.0, 2.0, 0.0, 1.0, 1.0, 0.0, [2.0, 1.0, 2.0, 2.0, 3.0, 1.0, 0.0, 1.0, 0.0, 1.0, 0.0, 0.0, 0.0, 14.0, 1454.0, 3.0, 3.0, 14.0, 31.0, 1.0, 1.0], [17.796882508585437, 2.2031174914145657], [0.8898441254292717, 0.11015587457072827], 0.0, 'No Risk'], ['0_to_200', 27, 'outstanding_credit', 'vacation', 5675, '100_to_500', 'less_1', 3, 'male', 'none', 3, 'savings_insurance', 41, 'none', 'own', 1, 'skilled', 1, 'none', 'yes', 2.0, 2.0, 3.0, 1.0, 0.0, 0.0, 0.0, 0.0, 6.0, 0.0, 0.0, 0.0, 0.0, [2.0, 2.0, 6.0, 1.0, 3.0, 0.0, 0.0, 0.0, 0.0, 0.0, 0.0, 0.0, 0.0, 27.0, 5675.0, 3.0, 3.0, 27.0, 41.0, 1.0, 1.0], [13.907573672757438, 6.092426327242565], [0.6953786836378718, 0.3046213163621282], 0.0, 'No Risk'], ['less_0', 10, 'all_credits_paid_back', 'car_used', 400, 'less_100', 'less_1', 1, 'male', 'none', 2, 'real_estate', 21, 'none', 'rent', 1, 'skilled', 1, 'none', 'yes', 1.0, 3.0, 3.0, 0.0, 0.0, 1.0, 0.0, 0.0, 2.0, 0.0, 2.0, 0.0, 0.0, [1.0, 3.0, 2.0, 0.0, 3.0, 0.0, 0.0, 2.0, 0.0, 1.0, 0.0, 0.0, 0.0, 10.0, 400.0, 1.0, 2.0, 10.0, 21.0, 1.0, 1.0], [19.557317089819676, 0.4426829101803208], [0.977865854490984, 0.022134145509016045], 0.0, 'No Risk'], ['no_checking', 40, 'outstanding_credit', 'education', 6282, '500_to_1000', '4_to_7', 5, 'female', 'none', 4, 'car_other', 35, 'none', 'own', 2, 'skilled', 1, 'none', 'yes', 0.0, 2.0, 1.0, 2.0, 0.0, 0.0, 0.0, 0.0, 7.0, 0.0, 1.0, 1.0, 0.0, [0.0, 2.0, 7.0, 2.0, 1.0, 1.0, 0.0, 1.0, 0.0, 0.0, 0.0, 0.0, 0.0, 40.0, 6282.0, 5.0, 4.0, 40.0, 35.0, 2.0, 1.0], [7.287521481245008, 12.712478518754995], [0.36437607406225037, 0.6356239259377496], 1.0, 'Risk'], ['less_0', 18, 'credits_paid_to_date', 'furniture', 250, 'less_100', 'less_1', 1, 'female', 'none', 1, 'savings_insurance', 19, 'stores', 'rent', 1, 'skilled', 1, 'none', 'yes', 1.0, 1.0, 3.0, 0.0, 0.0, 1.0, 1.0, 0.0, 1.0, 0.0, 0.0, 1.0, 0.0, [1.0, 1.0, 1.0, 0.0, 3.0, 1.0, 0.0, 0.0, 1.0, 1.0, 0.0, 0.0, 0.0, 18.0, 250.0, 1.0, 1.0, 18.0, 19.0, 1.0, 1.0], [18.417251524890847, 1.582748475109154], [0.9208625762445424, 0.07913742375545771], 0.0, 'No Risk'], ['less_0', 11, 'all_credits_paid_back', 'car_used', 1010, '100_to_500', '1_to_4', 1, 'female', 'none', 1, 'savings_insurance', 20, 'stores', 'rent', 1, 'skilled', 1, 'none', 'yes', 1.0, 3.0, 0.0, 1.0, 0.0, 1.0, 1.0, 0.0, 2.0, 0.0, 0.0, 1.0, 0.0, [1.0, 3.0, 2.0, 1.0, 0.0, 1.0, 0.0, 0.0, 1.0, 1.0, 0.0, 0.0, 0.0, 11.0, 1010.0, 1.0, 1.0, 11.0, 20.0, 1.0, 1.0], [19.026754046388767, 0.9732459536112316], [0.9513377023194384, 0.04866229768056158], 0.0, 'No Risk'], ['0_to_200', 24, 'credits_paid_to_date', 'car_new', 3808, 'less_100', 'less_1', 3, 'female', 'none', 3, 'car_other', 44, 'bank', 'own', 1, 'unskilled', 1, 'yes', 'yes', 2.0, 1.0, 3.0, 0.0, 0.0, 0.0, 2.0, 1.0, 0.0, 0.0, 1.0, 1.0, 1.0, [2.0, 1.0, 0.0, 0.0, 3.0, 1.0, 0.0, 1.0, 2.0, 0.0, 1.0, 1.0, 0.0, 24.0, 3808.0, 3.0, 3.0, 24.0, 44.0, 1.0, 1.0], [14.429735460504572, 5.57026453949543], [0.7214867730252285, 0.2785132269747715], 0.0, 'No Risk'], ['less_0', 7, 'prior_payments_delayed', 'car_used', 250, 'less_100', 'less_1', 2, 'female', 'none', 2, 'savings_insurance', 19, 'stores', 'rent', 1, 'skilled', 1, 'none', 'yes', 1.0, 0.0, 3.0, 0.0, 0.0, 1.0, 1.0, 0.0, 2.0, 0.0, 0.0, 1.0, 0.0, [1.0, 0.0, 2.0, 0.0, 3.0, 1.0, 0.0, 0.0, 1.0, 1.0, 0.0, 0.0, 0.0, 7.0, 250.0, 2.0, 2.0, 7.0, 19.0, 1.0, 1.0], [18.99843252629002, 1.001567473709981], [0.949921626314501, 0.05007837368549904], 0.0, 'No Risk'], ['less_0', 16, 'credits_paid_to_date', 'car_new', 3988, 'less_100', 'less_1', 2, 'female', 'none', 1, 'savings_insurance', 26, 'stores', 'rent', 2, 'skilled', 1, 'none', 'yes', 1.0, 1.0, 3.0, 0.0, 0.0, 1.0, 1.0, 0.0, 0.0, 0.0, 0.0, 1.0, 0.0, [1.0, 1.0, 0.0, 0.0, 3.0, 1.0, 0.0, 0.0, 1.0, 1.0, 0.0, 0.0, 0.0, 16.0, 3988.0, 2.0, 1.0, 16.0, 26.0, 2.0, 1.0], [17.722948762259744, 2.277051237740256], [0.8861474381129872, 0.1138525618870128], 0.0, 'No Risk'], ['0_to_200', 11, 'credits_paid_to_date', 'car_new', 676, 'less_100', '4_to_7', 1, 'female', 'co-applicant', 3, 'real_estate', 19, 'stores', 'own', 1, 'skilled', 1, 'yes', 'yes', 2.0, 1.0, 1.0, 0.0, 0.0, 0.0, 1.0, 0.0, 0.0, 1.0, 2.0, 1.0, 1.0, [2.0, 1.0, 0.0, 0.0, 1.0, 1.0, 1.0, 2.0, 1.0, 0.0, 0.0, 1.0, 0.0, 11.0, 676.0, 1.0, 3.0, 11.0, 19.0, 1.0, 1.0], [16.76903337672894, 3.2309666232710565], [0.8384516688364471, 0.16154833116355283], 0.0, 'No Risk'], ['no_checking', 30, 'outstanding_credit', 'other', 6569, 'unknown', 'greater_7', 4, 'male', 'none', 3, 'car_other', 65, 'none', 'free', 3, 'skilled', 2, 'yes', 'yes', 0.0, 2.0, 2.0, 4.0, 0.0, 2.0, 0.0, 0.0, 10.0, 0.0, 1.0, 0.0, 1.0, [0.0, 2.0, 10.0, 4.0, 2.0, 0.0, 0.0, 1.0, 0.0, 2.0, 0.0, 1.0, 0.0, 30.0, 6569.0, 4.0, 3.0, 30.0, 65.0, 3.0, 2.0], [6.429139838625822, 13.570860161374176], [0.3214569919312911, 0.6785430080687088], 1.0, 'Risk'], ['no_checking', 21, 'prior_payments_delayed', 'radio_tv', 7321, '100_to_500', 'greater_7', 5, 'male', 'none', 4, 'unknown', 38, 'none', 'free', 2, 'skilled', 1, 'yes', 'yes', 0.0, 0.0, 2.0, 1.0, 0.0, 2.0, 0.0, 0.0, 3.0, 0.0, 3.0, 0.0, 1.0, [0.0, 0.0, 3.0, 1.0, 2.0, 0.0, 0.0, 3.0, 0.0, 2.0, 0.0, 1.0, 0.0, 21.0, 7321.0, 5.0, 4.0, 21.0, 38.0, 2.0, 1.0], [8.455934432914608, 11.544065567085392], [0.4227967216457304, 0.5772032783542695], 1.0, 'Risk'], ['0_to_200', 4, 'prior_payments_delayed', 'car_used', 1177, 'less_100', '1_to_4', 2, 'male', 'none', 3, 'savings_insurance', 31, 'none', 'own', 1, 'skilled', 1, 'yes', 'yes', 2.0, 0.0, 0.0, 0.0, 0.0, 0.0, 0.0, 0.0, 2.0, 0.0, 0.0, 0.0, 1.0, [21, [0, 2, 11, 13, 14, 15, 16, 17, 18, 19, 20], [2.0, 2.0, 1.0, 4.0, 1177.0, 2.0, 3.0, 4.0, 31.0, 1.0, 1.0]], [16.810499628716393, 3.1895003712836067], [0.8405249814358197, 0.15947501856418034], 0.0, 'No Risk'], ['no_checking', 29, 'outstanding_credit', 'appliances', 6531, 'unknown', 'greater_7', 4, 'male', 'co-applicant', 3, 'unknown', 49, 'none', 'free', 3, 'skilled', 2, 'yes', 'yes', 0.0, 2.0, 2.0, 4.0, 0.0, 2.0, 0.0, 0.0, 4.0, 1.0, 3.0, 0.0, 1.0, [0.0, 2.0, 4.0, 4.0, 2.0, 0.0, 1.0, 3.0, 0.0, 2.0, 0.0, 1.0, 0.0, 29.0, 6531.0, 4.0, 3.0, 29.0, 49.0, 3.0, 2.0], [1.5709196603586686, 18.429080339641327], [0.07854598301793345, 0.9214540169820665], 1.0, 'Risk'], ['no_checking', 24, 'prior_payments_delayed', 'radio_tv', 1624, 'unknown', '4_to_7', 3, 'male', 'none', 4, 'savings_insurance', 26, 'none', 'own', 2, 'skilled', 1, 'none', 'yes', 0.0, 0.0, 1.0, 4.0, 0.0, 0.0, 0.0, 0.0, 3.0, 0.0, 0.0, 0.0, 0.0, [21, [2, 3, 4, 13, 14, 15, 16, 17, 18, 19, 20], [3.0, 4.0, 1.0, 24.0, 1624.0, 3.0, 4.0, 24.0, 26.0, 2.0, 1.0]], [12.263325482396608, 7.736674517603391], [0.6131662741198304, 0.38683372588016957], 0.0, 'No Risk'], ['0_to_200', 4, 'credits_paid_to_date', 'car_new', 250, 'less_100', '1_to_4', 3, 'male', 'none', 2, 'savings_insurance', 40, 'none', 'own', 1, 'skilled', 1, 'yes', 'yes', 2.0, 1.0, 0.0, 0.0, 0.0, 0.0, 0.0, 0.0, 0.0, 0.0, 0.0, 0.0, 1.0, [21, [0, 1, 11, 13, 14, 15, 16, 17, 18, 19, 20], [2.0, 1.0, 1.0, 4.0, 250.0, 3.0, 2.0, 4.0, 40.0, 1.0, 1.0]], [17.200385065902832, 2.7996149340971686], [0.8600192532951416, 0.13998074670485844], 0.0, 'No Risk'], ['less_0', 13, 'no_credits', 'car_new', 250, 'less_100', 'unemployed', 1, 'male', 'none', 1, 'real_estate', 19, 'stores', 'rent', 1, 'skilled', 1, 'none', 'yes', 1.0, 4.0, 4.0, 0.0, 0.0, 1.0, 1.0, 0.0, 0.0, 0.0, 2.0, 0.0, 0.0, [1.0, 4.0, 0.0, 0.0, 4.0, 0.0, 0.0, 2.0, 1.0, 1.0, 0.0, 0.0, 0.0, 13.0, 250.0, 1.0, 1.0, 13.0, 19.0, 1.0, 1.0], [19.418081557339146, 0.5819184426608535], [0.9709040778669573, 0.029095922133042674], 0.0, 'No Risk'], ['0_to_200', 4, 'no_credits', 'car_new', 250, 'less_100', 'less_1', 2, 'female', 'none', 3, 'savings_insurance', 26, 'none', 'rent', 1, 'skilled', 1, 'none', 'yes', 2.0, 4.0, 3.0, 0.0, 0.0, 1.0, 0.0, 0.0, 0.0, 0.0, 0.0, 1.0, 0.0, [2.0, 4.0, 0.0, 0.0, 3.0, 1.0, 0.0, 0.0, 0.0, 1.0, 0.0, 0.0, 0.0, 4.0, 250.0, 2.0, 3.0, 4.0, 26.0, 1.0, 1.0], [18.98435430063357, 1.015645699366432], [0.9492177150316785, 0.0507822849683216], 0.0, 'No Risk'], ['less_0', 4, 'prior_payments_delayed', 'car_used', 2895, 'less_100', 'less_1', 2, 'female', 'none', 2, 'car_other', 19, 'bank', 'rent', 1, 'unskilled', 1, 'none', 'yes', 1.0, 0.0, 3.0, 0.0, 0.0, 1.0, 2.0, 1.0, 2.0, 0.0, 1.0, 1.0, 0.0, [1.0, 0.0, 2.0, 0.0, 3.0, 1.0, 0.0, 1.0, 2.0, 1.0, 1.0, 0.0, 0.0, 4.0, 2895.0, 2.0, 2.0, 4.0, 19.0, 1.0, 1.0], [18.290592251756166, 1.7094077482438366], [0.9145296125878082, 0.08547038741219182], 0.0, 'No Risk'], ['less_0', 8, 'prior_payments_delayed', 'repairs', 2317, 'less_100', '1_to_4', 2, 'female', 'none', 1, 'savings_insurance', 28, 'none', 'rent', 1, 'skilled', 1, 'none', 'yes', 1.0, 0.0, 0.0, 0.0, 0.0, 1.0, 0.0, 0.0, 5.0, 0.0, 0.0, 1.0, 0.0, [21, [0, 2, 5, 9, 13, 14, 15, 16, 17, 18, 19, 20], [1.0, 5.0, 1.0, 1.0, 8.0, 2317.0, 2.0, 1.0, 8.0, 28.0, 1.0, 1.0]], [18.017015580148023, 1.9829844198519766], [0.9008507790074012, 0.09914922099259883], 0.0, 'No Risk'], ['no_checking', 39, 'prior_payments_delayed', 'repairs', 5070, '500_to_1000', 'greater_7', 4, 'male', 'none', 3, 'car_other', 53, 'none', 'free', 2, 'skilled', 1, 'yes', 'yes', 0.0, 0.0, 2.0, 2.0, 0.0, 2.0, 0.0, 0.0, 5.0, 0.0, 1.0, 0.0, 1.0, [0.0, 0.0, 5.0, 2.0, 2.0, 0.0, 0.0, 1.0, 0.0, 2.0, 0.0, 1.0, 0.0, 39.0, 5070.0, 4.0, 3.0, 39.0, 53.0, 2.0, 1.0], [5.976836906845552, 14.023163093154446], [0.2988418453422776, 0.7011581546577224], 1.0, 'Risk'], ['less_0', 15, 'prior_payments_delayed', 'car_new', 250, '100_to_500', '1_to_4', 2, 'female', 'none', 3, 'real_estate', 19, 'stores', 'own', 1, 'unskilled', 1, 'none', 'yes', 1.0, 0.0, 0.0, 1.0, 0.0, 0.0, 1.0, 1.0, 0.0, 0.0, 2.0, 1.0, 0.0, [1.0, 0.0, 0.0, 1.0, 0.0, 1.0, 0.0, 2.0, 1.0, 0.0, 1.0, 0.0, 0.0, 15.0, 250.0, 2.0, 3.0, 15.0, 19.0, 1.0, 1.0], [18.0044388478488, 1.9955611521512038], [0.9002219423924398, 0.09977805760756017], 0.0, 'No Risk'], ['0_to_200', 4, 'all_credits_paid_back', 'car_new', 3330, '100_to_500', 'less_1', 3, 'female', 'none', 2, 'savings_insurance', 35, 'none', 'rent', 1, 'skilled', 1, 'none', 'yes', 2.0, 3.0, 3.0, 1.0, 0.0, 1.0, 0.0, 0.0, 0.0, 0.0, 0.0, 1.0, 0.0, [2.0, 3.0, 0.0, 1.0, 3.0, 1.0, 0.0, 0.0, 0.0, 1.0, 0.0, 0.0, 0.0, 4.0, 3330.0, 3.0, 2.0, 4.0, 35.0, 1.0, 1.0], [18.047358906380776, 1.9526410936192224], [0.9023679453190387, 0.09763205468096112], 0.0, 'No Risk'], ['less_0', 4, 'all_credits_paid_back', 'car_new', 250, 'less_100', 'unemployed', 1, 'male', 'none', 2, 'real_estate', 27, 'none', 'own', 1, 'skilled', 1, 'none', 'yes', 1.0, 3.0, 4.0, 0.0, 0.0, 0.0, 0.0, 0.0, 0.0, 0.0, 2.0, 0.0, 0.0, [21, [0, 1, 4, 7, 13, 14, 15, 16, 17, 18, 19, 20], [1.0, 3.0, 4.0, 2.0, 4.0, 250.0, 1.0, 2.0, 4.0, 27.0, 1.0, 1.0]], [19.557317089819676, 0.4426829101803208], [0.977865854490984, 0.022134145509016045], 0.0, 'No Risk'], ['no_checking', 26, 'prior_payments_delayed', 'business', 5339, '100_to_500', '1_to_4', 4, 'male', 'none', 3, 'savings_insurance', 33, 'none', 'own', 1, 'management_self-employed', 1, 'none', 'yes', 0.0, 0.0, 0.0, 1.0, 0.0, 0.0, 0.0, 2.0, 9.0, 0.0, 0.0, 0.0, 0.0, [21, [2, 3, 10, 13, 14, 15, 16, 17, 18, 19, 20], [9.0, 1.0, 2.0, 26.0, 5339.0, 4.0, 3.0, 26.0, 33.0, 1.0, 1.0]], [13.765882346105142, 6.234117653894856], [0.6882941173052571, 0.3117058826947428], 0.0, 'No Risk'], ['no_checking', 32, 'prior_payments_delayed', 'furniture', 7692, 'greater_1000', '4_to_7', 5, 'male', 'none', 5, 'car_other', 46, 'none', 'own', 2, 'skilled', 1, 'yes', 'yes', 0.0, 0.0, 1.0, 3.0, 0.0, 0.0, 0.0, 0.0, 1.0, 0.0, 1.0, 0.0, 1.0, [0.0, 0.0, 1.0, 3.0, 1.0, 0.0, 0.0, 1.0, 0.0, 0.0, 0.0, 1.0, 0.0, 32.0, 7692.0, 5.0, 5.0, 32.0, 46.0, 2.0, 1.0], [8.65377392617526, 11.346226073824738], [0.432688696308763, 0.567311303691237], 1.0, 'Risk'], ['no_checking', 37, 'prior_payments_delayed', 'appliances', 5774, '500_to_1000', '4_to_7', 4, 'male', 'none', 3, 'car_other', 43, 'none', 'own', 1, 'skilled', 1, 'none', 'yes', 0.0, 0.0, 1.0, 2.0, 0.0, 0.0, 0.0, 0.0, 4.0, 0.0, 1.0, 0.0, 0.0, [21, [2, 3, 4, 7, 13, 14, 15, 16, 17, 18, 19, 20], [4.0, 2.0, 1.0, 1.0, 37.0, 5774.0, 4.0, 3.0, 37.0, 43.0, 1.0, 1.0]], [10.567452578813915, 9.432547421186085], [0.5283726289406958, 0.47162737105930425], 0.0, 'No Risk'], ['0_to_200', 17, 'prior_payments_delayed', 'retraining', 2916, 'greater_1000', '1_to_4', 3, 'male', 'co-applicant', 4, 'car_other', 38, 'bank', 'rent', 1, 'unemployed', 1, 'none', 'yes', 2.0, 0.0, 0.0, 3.0, 0.0, 1.0, 2.0, 3.0, 8.0, 1.0, 1.0, 0.0, 0.0, [2.0, 0.0, 8.0, 3.0, 0.0, 0.0, 1.0, 1.0, 2.0, 1.0, 3.0, 0.0, 0.0, 17.0, 2916.0, 3.0, 4.0, 17.0, 38.0, 1.0, 1.0], [13.781264730695701, 6.218735269304299], [0.6890632365347851, 0.310936763465215], 0.0, 'No Risk'], ['less_0', 11, 'all_credits_paid_back', 'furniture', 994, 'less_100', '1_to_4', 3, 'female', 'none', 2, 'real_estate', 19, 'bank', 'rent', 1, 'unskilled', 1, 'none', 'yes', 1.0, 3.0, 0.0, 0.0, 0.0, 1.0, 2.0, 1.0, 1.0, 0.0, 2.0, 1.0, 0.0, [1.0, 3.0, 1.0, 0.0, 0.0, 1.0, 0.0, 2.0, 2.0, 1.0, 1.0, 0.0, 0.0, 11.0, 994.0, 3.0, 2.0, 11.0, 19.0, 1.0, 1.0], [19.27169590194453, 0.7283040980554711], [0.9635847950972265, 0.03641520490277356], 0.0, 'No Risk'], ['no_checking', 30, 'prior_payments_delayed', 'car_used', 7980, '100_to_500', '4_to_7', 5, 'male', 'none', 4, 'unknown', 52, 'none', 'free', 3, 'management_self-employed', 1, 'yes', 'no', 0.0, 0.0, 1.0, 1.0, 1.0, 2.0, 0.0, 2.0, 2.0, 0.0, 3.0, 0.0, 1.0, [0.0, 0.0, 2.0, 1.0, 1.0, 0.0, 0.0, 3.0, 0.0, 2.0, 2.0, 1.0, 1.0, 30.0, 7980.0, 5.0, 4.0, 30.0, 52.0, 3.0, 1.0], [6.933827988685085, 13.066172011314913], [0.34669139943425425, 0.6533086005657457], 1.0, 'Risk'], ['no_checking', 24, 'outstanding_credit', 'furniture', 6317, 'unknown', 'greater_7', 5, 'male', 'co-applicant', 5, 'car_other', 53, 'none', 'own', 2, 'skilled', 2, 'yes', 'yes', 0.0, 2.0, 2.0, 4.0, 0.0, 0.0, 0.0, 0.0, 1.0, 1.0, 1.0, 0.0, 1.0, [0.0, 2.0, 1.0, 4.0, 2.0, 0.0, 1.0, 1.0, 0.0, 0.0, 0.0, 1.0, 0.0, 24.0, 6317.0, 5.0, 5.0, 24.0, 53.0, 2.0, 2.0], [3.656233105092304, 16.343766894907695], [0.1828116552546152, 0.8171883447453847], 1.0, 'Risk'], ['no_checking', 19, 'credits_paid_to_date', 'vacation', 3702, 'greater_1000', 'greater_7', 3, 'male', 'none', 3, 'car_other', 42, 'none', 'free', 2, 'skilled', 1, 'yes', 'yes', 0.0, 1.0, 2.0, 3.0, 0.0, 2.0, 0.0, 0.0, 6.0, 0.0, 1.0, 0.0, 1.0, [0.0, 1.0, 6.0, 3.0, 2.0, 0.0, 0.0, 1.0, 0.0, 2.0, 0.0, 1.0, 0.0, 19.0, 3702.0, 3.0, 3.0, 19.0, 42.0, 2.0, 1.0], [10.090215610822167, 9.909784389177831], [0.5045107805411083, 0.49548921945889157], 0.0, 'No Risk'], ['greater_200', 25, 'outstanding_credit', 'appliances', 4708, 'greater_1000', '4_to_7', 3, 'male', 'guarantor', 3, 'car_other', 50, 'none', 'free', 3, 'skilled', 2, 'yes', 'yes', 3.0, 2.0, 1.0, 3.0, 0.0, 2.0, 0.0, 0.0, 4.0, 2.0, 1.0, 0.0, 1.0, [3.0, 2.0, 4.0, 3.0, 1.0, 0.0, 2.0, 1.0, 0.0, 2.0, 0.0, 1.0, 0.0, 25.0, 4708.0, 3.0, 3.0, 25.0, 50.0, 3.0, 2.0], [8.33094664723221, 11.669053352767786], [0.41654733236161057, 0.5834526676383894], 1.0, 'Risk'], ['less_0', 22, 'credits_paid_to_date', 'radio_tv', 1210, '100_to_500', 'less_1', 3, 'female', 'none', 2, 'savings_insurance', 24, 'stores', 'own', 2, 'skilled', 2, 'none', 'yes', 1.0, 1.0, 3.0, 1.0, 0.0, 0.0, 1.0, 0.0, 3.0, 0.0, 0.0, 1.0, 0.0, [1.0, 1.0, 3.0, 1.0, 3.0, 1.0, 0.0, 0.0, 1.0, 0.0, 0.0, 0.0, 0.0, 22.0, 1210.0, 3.0, 2.0, 22.0, 24.0, 2.0, 2.0], [17.515422455838902, 2.484577544161102], [0.8757711227919449, 0.12422887720805509], 0.0, 'No Risk'], ['no_checking', 27, 'prior_payments_delayed', 'appliances', 6422, 'unknown', '4_to_7', 3, 'male', 'none', 4, 'savings_insurance', 39, 'none', 'own', 2, 'skilled', 1, 'yes', 'yes', 0.0, 0.0, 1.0, 4.0, 0.0, 0.0, 0.0, 0.0, 4.0, 0.0, 0.0, 0.0, 1.0, [21, [2, 3, 4, 11, 13, 14, 15, 16, 17, 18, 19, 20], [4.0, 4.0, 1.0, 1.0, 27.0, 6422.0, 3.0, 4.0, 27.0, 39.0, 2.0, 1.0]], [10.225505978129041, 9.774494021870959], [0.5112752989064521, 0.48872470109354793], 0.0, 'No Risk'], ['0_to_200', 17, 'prior_payments_delayed', 'car_new', 2044, '100_to_500', 'less_1', 2, 'female', 'none', 3, 'savings_insurance', 36, 'none', 'own', 1, 'skilled', 1, 'none', 'yes', 2.0, 0.0, 3.0, 1.0, 0.0, 0.0, 0.0, 0.0, 0.0, 0.0, 0.0, 1.0, 0.0, [21, [0, 3, 4, 5, 13, 14, 15, 16, 17, 18, 19, 20], [2.0, 1.0, 3.0, 1.0, 17.0, 2044.0, 2.0, 3.0, 17.0, 36.0, 1.0, 1.0]], [16.7554568178931, 3.244543182106899], [0.8377728408946551, 0.16222715910534496], 0.0, 'No Risk'], ['less_0', 18, 'credits_paid_to_date', 'furniture', 700, '500_to_1000', '1_to_4', 3, 'male', 'none', 1, 'car_other', 38, 'none', 'own', 1, 'skilled', 1, 'none', 'yes', 1.0, 1.0, 0.0, 2.0, 0.0, 0.0, 0.0, 0.0, 1.0, 0.0, 1.0, 0.0, 0.0, [1.0, 1.0, 1.0, 2.0, 0.0, 0.0, 0.0, 1.0, 0.0, 0.0, 0.0, 0.0, 0.0, 18.0, 700.0, 3.0, 1.0, 18.0, 38.0, 1.0, 1.0], [15.83866593622062, 4.161334063779381], [0.791933296811031, 0.20806670318896905], 0.0, 'No Risk'], ['less_0', 4, 'no_credits', 'car_new', 250, 'less_100', 'unemployed', 1, 'female', 'none', 1, 'real_estate', 19, 'none', 'rent', 1, 'skilled', 1, 'none', 'yes', 1.0, 4.0, 4.0, 0.0, 0.0, 1.0, 0.0, 0.0, 0.0, 0.0, 2.0, 1.0, 0.0, [1.0, 4.0, 0.0, 0.0, 4.0, 1.0, 0.0, 2.0, 0.0, 1.0, 0.0, 0.0, 0.0, 4.0, 250.0, 1.0, 1.0, 4.0, 19.0, 1.0, 1.0], [19.557317089819676, 0.4426829101803208], [0.977865854490984, 0.022134145509016045], 0.0, 'No Risk'], ['0_to_200', 31, 'outstanding_credit', 'appliances', 4914, '100_to_500', 'greater_7', 4, 'male', 'none', 3, 'unknown', 41, 'none', 'free', 2, 'skilled', 1, 'yes', 'yes', 2.0, 2.0, 2.0, 1.0, 0.0, 2.0, 0.0, 0.0, 4.0, 0.0, 3.0, 0.0, 1.0, [2.0, 2.0, 4.0, 1.0, 2.0, 0.0, 0.0, 3.0, 0.0, 2.0, 0.0, 1.0, 0.0, 31.0, 4914.0, 4.0, 3.0, 31.0, 41.0, 2.0, 1.0], [8.650001697108115, 11.349998302891887], [0.43250008485540575, 0.5674999151445943], 1.0, 'Risk'], ['0_to_200', 26, 'credits_paid_to_date', 'car_new', 250, '500_to_1000', '1_to_4', 2, 'male', 'none', 2, 'real_estate', 23, 'stores', 'own', 1, 'unskilled', 1, 'none', 'no', 2.0, 1.0, 0.0, 2.0, 1.0, 0.0, 1.0, 1.0, 0.0, 0.0, 2.0, 0.0, 0.0, [2.0, 1.0, 0.0, 2.0, 0.0, 0.0, 0.0, 2.0, 1.0, 0.0, 1.0, 0.0, 1.0, 26.0, 250.0, 2.0, 2.0, 26.0, 23.0, 1.0, 1.0], [16.94260310187842, 3.057396898121585], [0.8471301550939208, 0.15286984490607922], 0.0, 'No Risk'], ['less_0', 18, 'prior_payments_delayed', 'radio_tv', 2188, 'less_100', '1_to_4', 3, 'female', 'none', 3, 'savings_insurance', 39, 'none', 'rent', 1, 'skilled', 1, 'none', 'yes', 1.0, 0.0, 0.0, 0.0, 0.0, 1.0, 0.0, 0.0, 3.0, 0.0, 0.0, 1.0, 0.0, [21, [0, 2, 5, 9, 13, 14, 15, 16, 17, 18, 19, 20], [1.0, 3.0, 1.0, 1.0, 18.0, 2188.0, 3.0, 3.0, 18.0, 39.0, 1.0, 1.0]], [14.88283843389418, 5.117161566105821], [0.744141921694709, 0.25585807830529106], 0.0, 'No Risk'], ['less_0', 13, 'all_credits_paid_back', 'car_new', 951, 'less_100', 'less_1', 1, 'female', 'none', 2, 'car_other', 34, 'stores', 'own', 2, 'unskilled', 1, 'none', 'yes', 1.0, 3.0, 3.0, 0.0, 0.0, 0.0, 1.0, 1.0, 0.0, 0.0, 1.0, 1.0, 0.0, [1.0, 3.0, 0.0, 0.0, 3.0, 1.0, 0.0, 1.0, 1.0, 0.0, 1.0, 0.0, 0.0, 13.0, 951.0, 1.0, 2.0, 13.0, 34.0, 2.0, 1.0], [17.24155690041254, 2.758443099587461], [0.862077845020627, 0.13792215497937305], 0.0, 'No Risk'], ['no_checking', 26, 'outstanding_credit', 'radio_tv', 7216, 'unknown', '4_to_7', 3, 'male', 'none', 5, 'car_other', 46, 'none', 'own', 2, 'management_self-employed', 1, 'none', 'yes', 0.0, 2.0, 1.0, 4.0, 0.0, 0.0, 0.0, 2.0, 3.0, 0.0, 1.0, 0.0, 0.0, [0.0, 2.0, 3.0, 4.0, 1.0, 0.0, 0.0, 1.0, 0.0, 0.0, 2.0, 0.0, 0.0, 26.0, 7216.0, 3.0, 5.0, 26.0, 46.0, 2.0, 1.0], [9.977653862493222, 10.022346137506778], [0.4988826931246611, 0.501117306875339], 1.0, 'Risk'], ['no_checking', 23, 'prior_payments_delayed', 'furniture', 1447, '100_to_500', 'less_1', 3, 'female', 'none', 3, 'savings_insurance', 52, 'none', 'own', 1, 'skilled', 1, 'none', 'yes', 0.0, 0.0, 3.0, 1.0, 0.0, 0.0, 0.0, 0.0, 1.0, 0.0, 0.0, 1.0, 0.0, [21, [2, 3, 4, 5, 13, 14, 15, 16, 17, 18, 19, 20], [1.0, 1.0, 3.0, 1.0, 23.0, 1447.0, 3.0, 3.0, 23.0, 52.0, 1.0, 1.0]], [13.438408387083145, 6.561591612916858], [0.6719204193541571, 0.3280795806458428], 0.0, 'No Risk'], ['no_checking', 14, 'credits_paid_to_date', 'car_used', 4024, 'less_100', '4_to_7', 4, 'male', 'none', 4, 'car_other', 50, 'none', 'own', 1, 'management_self-employed', 1, 'none', 'yes', 0.0, 1.0, 1.0, 0.0, 0.0, 0.0, 0.0, 2.0, 2.0, 0.0, 1.0, 0.0, 0.0, [0.0, 1.0, 2.0, 0.0, 1.0, 0.0, 0.0, 1.0, 0.0, 0.0, 2.0, 0.0, 0.0, 14.0, 4024.0, 4.0, 4.0, 14.0, 50.0, 1.0, 1.0], [11.371241724632265, 8.628758275367735], [0.5685620862316132, 0.43143791376838675], 0.0, 'No Risk'], ['less_0', 9, 'all_credits_paid_back', 'car_new', 2985, 'less_100', 'less_1', 2, 'female', 'none', 3, 'savings_insurance', 26, 'none', 'own', 1, 'management_self-employed', 1, 'none', 'yes', 1.0, 3.0, 3.0, 0.0, 0.0, 0.0, 0.0, 2.0, 0.0, 0.0, 0.0, 1.0, 0.0, [1.0, 3.0, 0.0, 0.0, 3.0, 1.0, 0.0, 0.0, 0.0, 0.0, 2.0, 0.0, 0.0, 9.0, 2985.0, 2.0, 3.0, 9.0, 26.0, 1.0, 1.0], [18.87202307910397, 1.1279769208960317], [0.9436011539551984, 0.05639884604480159], 0.0, 'No Risk'], ['0_to_200', 5, 'prior_payments_delayed', 'furniture', 5730, 'less_100', '1_to_4', 2, 'male', 'none', 3, 'unknown', 31, 'none', 'own', 1, 'management_self-employed', 1, 'yes', 'yes', 2.0, 0.0, 0.0, 0.0, 0.0, 0.0, 0.0, 2.0, 1.0, 0.0, 3.0, 0.0, 1.0, [2.0, 0.0, 1.0, 0.0, 0.0, 0.0, 0.0, 3.0, 0.0, 0.0, 2.0, 1.0, 0.0, 5.0, 5730.0, 2.0, 3.0, 5.0, 31.0, 1.0, 1.0], [16.108847964390172, 3.8911520356098284], [0.8054423982195086, 0.19455760178049142], 0.0, 'No Risk'], ['less_0', 12, 'all_credits_paid_back', 'car_new', 426, 'less_100', 'less_1', 1, 'female', 'none', 1, 'savings_insurance', 19, 'stores', 'rent', 1, 'skilled', 1, 'none', 'yes', 1.0, 3.0, 3.0, 0.0, 0.0, 1.0, 1.0, 0.0, 0.0, 0.0, 0.0, 1.0, 0.0, [1.0, 3.0, 0.0, 0.0, 3.0, 1.0, 0.0, 0.0, 1.0, 1.0, 0.0, 0.0, 0.0, 12.0, 426.0, 1.0, 1.0, 12.0, 19.0, 1.0, 1.0], [19.30728710725305, 0.6927128927469494], [0.9653643553626525, 0.03463564463734747], 0.0, 'No Risk'], ['less_0', 9, 'no_credits', 'car_used', 281, 'less_100', '1_to_4', 2, 'male', 'none', 1, 'real_estate', 32, 'stores', 'own', 1, 'skilled', 1, 'none', 'yes', 1.0, 4.0, 0.0, 0.0, 0.0, 0.0, 1.0, 0.0, 2.0, 0.0, 2.0, 0.0, 0.0, [1.0, 4.0, 2.0, 0.0, 0.0, 0.0, 0.0, 2.0, 1.0, 0.0, 0.0, 0.0, 0.0, 9.0, 281.0, 2.0, 1.0, 9.0, 32.0, 1.0, 1.0], [19.206516759566025, 0.7934832404339739], [0.9603258379783013, 0.0396741620216987], 0.0, 'No Risk'], ['no_checking', 33, 'all_credits_paid_back', 'car_used', 5526, '100_to_500', 'less_1', 3, 'male', 'none', 4, 'real_estate', 34, 'none', 'own', 1, 'management_self-employed', 1, 'yes', 'yes', 0.0, 3.0, 3.0, 1.0, 0.0, 0.0, 0.0, 2.0, 2.0, 0.0, 2.0, 0.0, 1.0, [0.0, 3.0, 2.0, 1.0, 3.0, 0.0, 0.0, 2.0, 0.0, 0.0, 2.0, 1.0, 0.0, 33.0, 5526.0, 3.0, 4.0, 33.0, 34.0, 1.0, 1.0], [12.51776088653646, 7.482239113463542], [0.625888044326823, 0.3741119556731771], 0.0, 'No Risk'], ['no_checking', 30, 'outstanding_credit', 'business', 3176, '500_to_1000', 'greater_7', 5, 'male', 'none', 4, 'car_other', 44, 'none', 'own', 1, 'skilled', 2, 'yes', 'no', 0.0, 2.0, 2.0, 2.0, 1.0, 0.0, 0.0, 0.0, 9.0, 0.0, 1.0, 0.0, 1.0, [0.0, 2.0, 9.0, 2.0, 2.0, 0.0, 0.0, 1.0, 0.0, 0.0, 0.0, 1.0, 1.0, 30.0, 3176.0, 5.0, 4.0, 30.0, 44.0, 1.0, 2.0], [8.334504865606009, 11.665495134393993], [0.4167252432803005, 0.5832747567196996], 1.0, 'Risk'], ['no_checking', 27, 'prior_payments_delayed', 'car_used', 4824, '100_to_500', '4_to_7', 3, 'male', 'none', 3, 'unknown', 45, 'none', 'own', 1, 'skilled', 1, 'none', 'no', 0.0, 0.0, 1.0, 1.0, 1.0, 0.0, 0.0, 0.0, 2.0, 0.0, 3.0, 0.0, 0.0, [0.0, 0.0, 2.0, 1.0, 1.0, 0.0, 0.0, 3.0, 0.0, 0.0, 0.0, 0.0, 1.0, 27.0, 4824.0, 3.0, 3.0, 27.0, 45.0, 1.0, 1.0], [10.166533590484148, 9.833466409515852], [0.5083266795242074, 0.4916733204757926], 0.0, 'No Risk'], ['0_to_200', 22, 'credits_paid_to_date', 'car_used', 1834, 'less_100', '4_to_7', 3, 'female', 'none', 3, 'car_other', 35, 'none', 'own', 1, 'skilled', 1, 'none', 'no', 2.0, 1.0, 1.0, 0.0, 1.0, 0.0, 0.0, 0.0, 2.0, 0.0, 1.0, 1.0, 0.0, [2.0, 1.0, 2.0, 0.0, 1.0, 1.0, 0.0, 1.0, 0.0, 0.0, 0.0, 0.0, 1.0, 22.0, 1834.0, 3.0, 3.0, 22.0, 35.0, 1.0, 1.0], [14.623182449525133, 5.3768175504748665], [0.7311591224762567, 0.2688408775237433], 0.0, 'No Risk'], ['less_0', 6, 'all_credits_paid_back', 'car_new', 250, 'less_100', 'less_1', 2, 'male', 'none', 2, 'savings_insurance', 32, 'bank', 'rent', 1, 'unemployed', 1, 'none', 'yes', 1.0, 3.0, 3.0, 0.0, 0.0, 1.0, 2.0, 3.0, 0.0, 0.0, 0.0, 0.0, 0.0, [1.0, 3.0, 0.0, 0.0, 3.0, 0.0, 0.0, 0.0, 2.0, 1.0, 3.0, 0.0, 0.0, 6.0, 250.0, 2.0, 2.0, 6.0, 32.0, 1.0, 1.0], [19.18415426738964, 0.8158457326103582], [0.9592077133694821, 0.04079228663051791], 0.0, 'No Risk'], ['0_to_200', 26, 'prior_payments_delayed', 'car_used', 990, '100_to_500', 'greater_7', 2, 'male', 'none', 3, 'car_other', 42, 'stores', 'free', 1, 'skilled', 2, 'yes', 'yes', 2.0, 0.0, 2.0, 1.0, 0.0, 2.0, 1.0, 0.0, 2.0, 0.0, 1.0, 0.0, 1.0, [2.0, 0.0, 2.0, 1.0, 2.0, 0.0, 0.0, 1.0, 1.0, 2.0, 0.0, 1.0, 0.0, 26.0, 990.0, 2.0, 3.0, 26.0, 42.0, 1.0, 2.0], [12.222172170643178, 7.7778278293568235], [0.6111086085321589, 0.3888913914678412], 0.0, 'No Risk'], ['no_checking', 8, 'prior_payments_delayed', 'radio_tv', 1212, '100_to_500', '4_to_7', 3, 'male', 'none', 4, 'car_other', 57, 'none', 'own', 1, 'management_self-employed', 1, 'yes', 'yes', 0.0, 0.0, 1.0, 1.0, 0.0, 0.0, 0.0, 2.0, 3.0, 0.0, 1.0, 0.0, 1.0, [0.0, 0.0, 3.0, 1.0, 1.0, 0.0, 0.0, 1.0, 0.0, 0.0, 2.0, 1.0, 0.0, 8.0, 1212.0, 3.0, 4.0, 8.0, 57.0, 1.0, 1.0], [10.49608426120263, 9.50391573879737], [0.5248042130601316, 0.47519578693986847], 0.0, 'No Risk'], ['0_to_200', 25, 'outstanding_credit', 'appliances', 3497, 'unknown', 'greater_7', 4, 'male', 'none', 3, 'car_other', 37, 'none', 'own', 2, 'skilled', 1, 'none', 'yes', 2.0, 2.0, 2.0, 4.0, 0.0, 0.0, 0.0, 0.0, 4.0, 0.0, 1.0, 0.0, 0.0, [2.0, 2.0, 4.0, 4.0, 2.0, 0.0, 0.0, 1.0, 0.0, 0.0, 0.0, 0.0, 0.0, 25.0, 3497.0, 4.0, 3.0, 25.0, 37.0, 2.0, 1.0], [12.796215616096069, 7.203784383903931], [0.6398107808048035, 0.36018921919519653], 0.0, 'No Risk'], ['no_checking', 40, 'prior_payments_delayed', 'repairs', 6805, '500_to_1000', '4_to_7', 4, 'male', 'none', 4, 'savings_insurance', 37, 'none', 'own', 2, 'skilled', 1, 'yes', 'yes', 0.0, 0.0, 1.0, 2.0, 0.0, 0.0, 0.0, 0.0, 5.0, 0.0, 0.0, 0.0, 1.0, [21, [2, 3, 4, 11, 13, 14, 15, 16, 17, 18, 19, 20], [5.0, 2.0, 1.0, 1.0, 40.0, 6805.0, 4.0, 4.0, 40.0, 37.0, 2.0, 1.0]], [10.038715670425754, 9.961284329574246], [0.5019357835212876, 0.4980642164787123], 0.0, 'No Risk'], ['less_0', 11, 'all_credits_paid_back', 'appliances', 4501, 'less_100', '1_to_4', 2, 'female', 'none', 1, 'car_other', 29, 'none', 'own', 2, 'skilled', 1, 'none', 'yes', 1.0, 3.0, 0.0, 0.0, 0.0, 0.0, 0.0, 0.0, 4.0, 0.0, 1.0, 1.0, 0.0, [1.0, 3.0, 4.0, 0.0, 0.0, 1.0, 0.0, 1.0, 0.0, 0.0, 0.0, 0.0, 0.0, 11.0, 4501.0, 2.0, 1.0, 11.0, 29.0, 2.0, 1.0], [16.570482051845175, 3.429517948154821], [0.828524102592259, 0.17147589740774108], 0.0, 'No Risk'], ['no_checking', 30, 'prior_payments_delayed', 'business', 5040, '100_to_500', 'greater_7', 5, 'male', 'guarantor', 5, 'car_other', 45, 'none', 'free', 2, 'skilled', 1, 'yes', 'yes', 0.0, 0.0, 2.0, 1.0, 0.0, 2.0, 0.0, 0.0, 9.0, 2.0, 1.0, 0.0, 1.0, [0.0, 0.0, 9.0, 1.0, 2.0, 0.0, 2.0, 1.0, 0.0, 2.0, 0.0, 1.0, 0.0, 30.0, 5040.0, 5.0, 5.0, 30.0, 45.0, 2.0, 1.0], [3.2030101693767072, 16.796989830623293], [0.16015050846883536, 0.8398494915311646], 1.0, 'Risk'], ['greater_200', 18, 'all_credits_paid_back', 'car_used', 250, 'less_100', 'less_1', 2, 'female', 'none', 3, 'real_estate', 22, 'none', 'own', 1, 'skilled', 1, 'none', 'yes', 3.0, 3.0, 3.0, 0.0, 0.0, 0.0, 0.0, 0.0, 2.0, 0.0, 2.0, 1.0, 0.0, [3.0, 3.0, 2.0, 0.0, 3.0, 1.0, 0.0, 2.0, 0.0, 0.0, 0.0, 0.0, 0.0, 18.0, 250.0, 2.0, 3.0, 18.0, 22.0, 1.0, 1.0], [18.478992391147575, 1.5210076088524267], [0.9239496195573788, 0.07605038044262133], 0.0, 'No Risk'], ['less_0', 16, 'credits_paid_to_date', 'car_new', 3203, 'less_100', 'less_1', 3, 'female', 'none', 3, 'real_estate', 25, 'none', 'own', 1, 'management_self-employed', 1, 'none', 'yes', 1.0, 1.0, 3.0, 0.0, 0.0, 0.0, 0.0, 2.0, 0.0, 0.0, 2.0, 1.0, 0.0, [1.0, 1.0, 0.0, 0.0, 3.0, 1.0, 0.0, 2.0, 0.0, 0.0, 2.0, 0.0, 0.0, 16.0, 3203.0, 3.0, 3.0, 16.0, 25.0, 1.0, 1.0], [18.319100154638356, 1.6808998453616386], [0.9159550077319182, 0.08404499226808196], 0.0, 'No Risk'], ['no_checking', 48, 'outstanding_credit', 'education', 7459, '500_to_1000', '4_to_7', 4, 'male', 'co-applicant', 4, 'car_other', 40, 'bank', 'own', 2, 'unemployed', 2, 'yes', 'yes', 0.0, 2.0, 1.0, 2.0, 0.0, 0.0, 2.0, 3.0, 7.0, 1.0, 1.0, 0.0, 1.0, [0.0, 2.0, 7.0, 2.0, 1.0, 0.0, 1.0, 1.0, 2.0, 0.0, 3.0, 1.0, 0.0, 48.0, 7459.0, 4.0, 4.0, 48.0, 40.0, 2.0, 2.0], [6.859677676206708, 13.140322323793292], [0.3429838838103354, 0.6570161161896646], 1.0, 'Risk'], ['less_0', 4, 'credits_paid_to_date', 'car_used', 1262, 'less_100', 'less_1', 2, 'female', 'none', 3, 'real_estate', 23, 'none', 'own', 2, 'skilled', 1, 'none', 'yes', 1.0, 1.0, 3.0, 0.0, 0.0, 0.0, 0.0, 0.0, 2.0, 0.0, 2.0, 1.0, 0.0, [1.0, 1.0, 2.0, 0.0, 3.0, 1.0, 0.0, 2.0, 0.0, 0.0, 0.0, 0.0, 0.0, 4.0, 1262.0, 2.0, 3.0, 4.0, 23.0, 2.0, 1.0], [18.436334315129663, 1.5636656848703359], [0.9218167157564832, 0.0781832842435168], 0.0, 'No Risk'], ['less_0', 16, 'credits_paid_to_date', 'repairs', 1228, 'less_100', '4_to_7', 2, 'female', 'none', 2, 'savings_insurance', 31, 'none', 'own', 1, 'skilled', 1, 'none', 'yes', 1.0, 1.0, 1.0, 0.0, 0.0, 0.0, 0.0, 0.0, 5.0, 0.0, 0.0, 1.0, 0.0, [1.0, 1.0, 5.0, 0.0, 1.0, 1.0, 0.0, 0.0, 0.0, 0.0, 0.0, 0.0, 0.0, 16.0, 1228.0, 2.0, 2.0, 16.0, 31.0, 1.0, 1.0], [17.666287679125883, 2.333712320874117], [0.8833143839562941, 0.11668561604370584], 0.0, 'No Risk'], ['less_0', 15, 'credits_paid_to_date', 'car_used', 1025, '500_to_1000', '1_to_4', 2, 'male', 'none', 3, 'real_estate', 35, 'stores', 'rent', 1, 'unskilled', 1, 'none', 'yes', 1.0, 1.0, 0.0, 2.0, 0.0, 1.0, 1.0, 1.0, 2.0, 0.0, 2.0, 0.0, 0.0, [1.0, 1.0, 2.0, 2.0, 0.0, 0.0, 0.0, 2.0, 1.0, 1.0, 1.0, 0.0, 0.0, 15.0, 1025.0, 2.0, 3.0, 15.0, 35.0, 1.0, 1.0], [16.52056984159176, 3.4794301584082423], [0.826028492079588, 0.17397150792041208], 0.0, 'No Risk'], ['no_checking', 19, 'credits_paid_to_date', 'business', 3434, '100_to_500', 'less_1', 3, 'male', 'none', 3, 'savings_insurance', 27, 'none', 'own', 1, 'management_self-employed', 2, 'none', 'yes', 0.0, 1.0, 3.0, 1.0, 0.0, 0.0, 0.0, 2.0, 9.0, 0.0, 0.0, 0.0, 0.0, [0.0, 1.0, 9.0, 1.0, 3.0, 0.0, 0.0, 0.0, 0.0, 0.0, 2.0, 0.0, 0.0, 19.0, 3434.0, 3.0, 3.0, 19.0, 27.0, 1.0, 2.0], [16.230339768288665, 3.7696602317113372], [0.8115169884144331, 0.18848301158556682], 0.0, 'No Risk'], ['0_to_200', 22, 'credits_paid_to_date', 'retraining', 250, 'greater_1000', 'less_1', 3, 'male', 'none', 3, 'car_other', 33, 'none', 'own', 1, 'skilled', 1, 'yes', 'yes', 2.0, 1.0, 3.0, 3.0, 0.0, 0.0, 0.0, 0.0, 8.0, 0.0, 1.0, 0.0, 1.0, [2.0, 1.0, 8.0, 3.0, 3.0, 0.0, 0.0, 1.0, 0.0, 0.0, 0.0, 1.0, 0.0, 22.0, 250.0, 3.0, 3.0, 22.0, 33.0, 1.0, 1.0], [16.58622115679803, 3.4137788432019716], [0.8293110578399014, 0.17068894216009858], 0.0, 'No Risk'], ['0_to_200', 19, 'credits_paid_to_date', 'radio_tv', 2826, '500_to_1000', '4_to_7', 3, 'female', 'none', 2, 'car_other', 39, 'stores', 'own', 1, 'skilled', 1, 'none', 'no', 2.0, 1.0, 1.0, 2.0, 1.0, 0.0, 1.0, 0.0, 3.0, 0.0, 1.0, 1.0, 0.0, [2.0, 1.0, 3.0, 2.0, 1.0, 1.0, 0.0, 1.0, 1.0, 0.0, 0.0, 0.0, 1.0, 19.0, 2826.0, 3.0, 2.0, 19.0, 39.0, 1.0, 1.0], [14.28453215304981, 5.715467846950192], [0.7142266076524905, 0.2857733923475096], 0.0, 'No Risk'], ['less_0', 6, 'all_credits_paid_back', 'car_used', 250, 'less_100', '1_to_4', 2, 'female', 'none', 1, 'real_estate', 19, 'none', 'rent', 1, 'skilled', 1, 'none', 'yes', 1.0, 3.0, 0.0, 0.0, 0.0, 1.0, 0.0, 0.0, 2.0, 0.0, 2.0, 1.0, 0.0, [1.0, 3.0, 2.0, 0.0, 0.0, 1.0, 0.0, 2.0, 0.0, 1.0, 0.0, 0.0, 0.0, 6.0, 250.0, 2.0, 1.0, 6.0, 19.0, 1.0, 1.0], [19.27169590194453, 0.7283040980554711], [0.9635847950972265, 0.03641520490277356], 0.0, 'No Risk'], ['0_to_200', 25, 'credits_paid_to_date', 'retraining', 3217, 'less_100', '4_to_7', 2, 'male', 'none', 2, 'car_other', 34, 'none', 'own', 1, 'skilled', 1, 'yes', 'yes', 2.0, 1.0, 1.0, 0.0, 0.0, 0.0, 0.0, 0.0, 8.0, 0.0, 1.0, 0.0, 1.0, [2.0, 1.0, 8.0, 0.0, 1.0, 0.0, 0.0, 1.0, 0.0, 0.0, 0.0, 1.0, 0.0, 25.0, 3217.0, 2.0, 2.0, 25.0, 34.0, 1.0, 1.0], [14.80549316625623, 5.19450683374377], [0.7402746583128115, 0.25972534168718847], 0.0, 'No Risk'], ['less_0', 25, 'credits_paid_to_date', 'retraining', 5881, 'less_100', 'less_1', 2, 'male', 'none', 2, 'unknown', 31, 'none', 'own', 1, 'skilled', 1, 'yes', 'yes', 1.0, 1.0, 3.0, 0.0, 0.0, 0.0, 0.0, 0.0, 8.0, 0.0, 3.0, 0.0, 1.0, [1.0, 1.0, 8.0, 0.0, 3.0, 0.0, 0.0, 3.0, 0.0, 0.0, 0.0, 1.0, 0.0, 25.0, 5881.0, 2.0, 2.0, 25.0, 31.0, 1.0, 1.0], [14.51864469299121, 5.4813553070087915], [0.7259322346495605, 0.2740677653504396], 0.0, 'No Risk'], ['no_checking', 15, 'credits_paid_to_date', 'furniture', 5484, '100_to_500', '1_to_4', 3, 'male', 'none', 3, 'savings_insurance', 28, 'none', 'own', 2, 'skilled', 2, 'yes', 'yes', 0.0, 1.0, 0.0, 1.0, 0.0, 0.0, 0.0, 0.0, 1.0, 0.0, 0.0, 0.0, 1.0, [21, [1, 2, 3, 11, 13, 14, 15, 16, 17, 18, 19, 20], [1.0, 1.0, 1.0, 1.0, 15.0, 5484.0, 3.0, 3.0, 15.0, 28.0, 2.0, 2.0]], [14.80170313335744, 5.198296866642556], [0.7400851566678721, 0.25991484333212783], 0.0, 'No Risk'], ['less_0', 12, 'prior_payments_delayed', 'repairs', 2707, 'less_100', '1_to_4', 3, 'male', 'none', 3, 'car_other', 34, 'bank', 'rent', 2, 'unskilled', 1, 'none', 'yes', 1.0, 0.0, 0.0, 0.0, 0.0, 1.0, 2.0, 1.0, 5.0, 0.0, 1.0, 0.0, 0.0, [1.0, 0.0, 5.0, 0.0, 0.0, 0.0, 0.0, 1.0, 2.0, 1.0, 1.0, 0.0, 0.0, 12.0, 2707.0, 3.0, 3.0, 12.0, 34.0, 2.0, 1.0], [15.308545846356962, 4.691454153643037], [0.7654272923178481, 0.23457270768215185], 0.0, 'No Risk'], ['less_0', 8, 'prior_payments_delayed', 'furniture', 2828, 'less_100', '4_to_7', 2, 'male', 'none', 3, 'savings_insurance', 39, 'none', 'own', 1, 'skilled', 1, 'none', 'yes', 1.0, 0.0, 1.0, 0.0, 0.0, 0.0, 0.0, 0.0, 1.0, 0.0, 0.0, 0.0, 0.0, [21, [0, 2, 4, 13, 14, 15, 16, 17, 18, 19, 20], [1.0, 1.0, 1.0, 8.0, 2828.0, 2.0, 3.0, 8.0, 39.0, 1.0, 1.0]], [15.597322521041662, 4.4026774789583385], [0.779866126052083, 0.22013387394791692], 0.0, 'No Risk'], ['less_0', 20, 'credits_paid_to_date', 'furniture', 827, 'less_100', 'less_1', 3, 'male', 'none', 2, 'real_estate', 21, 'none', 'own', 1, 'skilled', 1, 'none', 'yes', 1.0, 1.0, 3.0, 0.0, 0.0, 0.0, 0.0, 0.0, 1.0, 0.0, 2.0, 0.0, 0.0, [1.0, 1.0, 1.0, 0.0, 3.0, 0.0, 0.0, 2.0, 0.0, 0.0, 0.0, 0.0, 0.0, 20.0, 827.0, 3.0, 2.0, 20.0, 21.0, 1.0, 1.0], [18.837296200155546, 1.1627037998444563], [0.9418648100077771, 0.0581351899922228], 0.0, 'No Risk'], ['less_0', 4, 'credits_paid_to_date', 'car_new', 250, 'less_100', 'less_1', 1, 'female', 'none', 2, 'savings_insurance', 29, 'stores', 'rent', 1, 'skilled', 1, 'yes', 'yes', 1.0, 1.0, 3.0, 0.0, 0.0, 1.0, 1.0, 0.0, 0.0, 0.0, 0.0, 1.0, 1.0, [1.0, 1.0, 0.0, 0.0, 3.0, 1.0, 0.0, 0.0, 1.0, 1.0, 0.0, 1.0, 0.0, 4.0, 250.0, 1.0, 2.0, 4.0, 29.0, 1.0, 1.0], [18.702293233775887, 1.2977067662241122], [0.9351146616887943, 0.0648853383112056], 0.0, 'No Risk'], ['less_0', 15, 'prior_payments_delayed', 'radio_tv', 924, 'less_100', '4_to_7', 3, 'female', 'none', 2, 'car_other', 35, 'stores', 'own', 1, 'skilled', 1, 'none', 'yes', 1.0, 0.0, 1.0, 0.0, 0.0, 0.0, 1.0, 0.0, 3.0, 0.0, 1.0, 1.0, 0.0, [1.0, 0.0, 3.0, 0.0, 1.0, 1.0, 0.0, 1.0, 1.0, 0.0, 0.0, 0.0, 0.0, 15.0, 924.0, 3.0, 2.0, 15.0, 35.0, 1.0, 1.0], [17.028426005101636, 2.9715739948983675], [0.8514213002550817, 0.14857869974491836], 0.0, 'No Risk'], ['0_to_200', 23, 'credits_paid_to_date', 'car_new', 2919, 'greater_1000', '1_to_4', 2, 'male', 'none', 3, 'car_other', 33, 'stores', 'own', 1, 'skilled', 2, 'none', 'yes', 2.0, 1.0, 0.0, 3.0, 0.0, 0.0, 1.0, 0.0, 0.0, 0.0, 1.0, 0.0, 0.0, [2.0, 1.0, 0.0, 3.0, 0.0, 0.0, 0.0, 1.0, 1.0, 0.0, 0.0, 0.0, 0.0, 23.0, 2919.0, 2.0, 3.0, 23.0, 33.0, 1.0, 2.0], [14.612700574924416, 5.387299425075584], [0.7306350287462208, 0.26936497125377923], 0.0, 'No Risk'], ['no_checking', 38, 'prior_payments_delayed', 'other', 5960, 'unknown', 'greater_7', 5, 'male', 'none', 5, 'unknown', 34, 'none', 'own', 2, 'skilled', 2, 'yes', 'yes', 0.0, 0.0, 2.0, 4.0, 0.0, 0.0, 0.0, 0.0, 10.0, 0.0, 3.0, 0.0, 1.0, [0.0, 0.0, 10.0, 4.0, 2.0, 0.0, 0.0, 3.0, 0.0, 0.0, 0.0, 1.0, 0.0, 38.0, 5960.0, 5.0, 5.0, 38.0, 34.0, 2.0, 2.0], [8.393435037858202, 11.6065649621418], [0.4196717518929101, 0.5803282481070899], 1.0, 'Risk'], ['greater_200', 24, 'outstanding_credit', 'car_used', 6326, 'unknown', 'greater_7', 4, 'male', 'none', 4, 'car_other', 58, 'none', 'own', 2, 'management_self-employed', 2, 'yes', 'yes', 3.0, 2.0, 2.0, 4.0, 0.0, 0.0, 0.0, 2.0, 2.0, 0.0, 1.0, 0.0, 1.0, [3.0, 2.0, 2.0, 4.0, 2.0, 0.0, 0.0, 1.0, 0.0, 0.0, 2.0, 1.0, 0.0, 24.0, 6326.0, 4.0, 4.0, 24.0, 58.0, 2.0, 2.0], [9.32454923391113, 10.675450766088868], [0.4662274616955565, 0.5337725383044434], 1.0, 'Risk'], ['0_to_200', 28, 'credits_paid_to_date', 'furniture', 1875, 'greater_1000', 'greater_7', 4, 'male', 'none', 3, 'car_other', 32, 'bank', 'own', 1, 'unemployed', 2, 'yes', 'yes', 2.0, 1.0, 2.0, 3.0, 0.0, 0.0, 2.0, 3.0, 1.0, 0.0, 1.0, 0.0, 1.0, [2.0, 1.0, 1.0, 3.0, 2.0, 0.0, 0.0, 1.0, 2.0, 0.0, 3.0, 1.0, 0.0, 28.0, 1875.0, 4.0, 3.0, 28.0, 32.0, 1.0, 2.0], [13.07406592732704, 6.92593407267296], [0.6537032963663519, 0.346296703633648], 0.0, 'No Risk'], ['no_checking', 25, 'prior_payments_delayed', 'radio_tv', 7032, '500_to_1000', '1_to_4', 4, 'female', 'none', 3, 'savings_insurance', 48, 'none', 'own', 3, 'management_self-employed', 1, 'yes', 'yes', 0.0, 0.0, 0.0, 2.0, 0.0, 0.0, 0.0, 2.0, 3.0, 0.0, 0.0, 1.0, 1.0, [0.0, 0.0, 3.0, 2.0, 0.0, 1.0, 0.0, 0.0, 0.0, 0.0, 2.0, 1.0, 0.0, 25.0, 7032.0, 4.0, 3.0, 25.0, 48.0, 3.0, 1.0], [10.749473925571069, 9.250526074428931], [0.5374736962785535, 0.46252630372144654], 0.0, 'No Risk'], ['no_checking', 24, 'prior_payments_delayed', 'car_used', 6796, '100_to_500', '1_to_4', 2, 'male', 'none', 2, 'car_other', 46, 'stores', 'rent', 2, 'unskilled', 1, 'none', 'yes', 0.0, 0.0, 0.0, 1.0, 0.0, 1.0, 1.0, 1.0, 2.0, 0.0, 1.0, 0.0, 0.0, [0.0, 0.0, 2.0, 1.0, 0.0, 0.0, 0.0, 1.0, 1.0, 1.0, 1.0, 0.0, 0.0, 24.0, 6796.0, 2.0, 2.0, 24.0, 46.0, 2.0, 1.0], [12.448137044484685, 7.551862955515315], [0.6224068522242343, 0.37759314777576575], 0.0, 'No Risk'], ['less_0', 18, 'prior_payments_delayed', 'radio_tv', 2112, 'less_100', 'less_1', 2, 'male', 'none', 3, 'car_other', 32, 'none', 'own', 1, 'skilled', 1, 'yes', 'yes', 1.0, 0.0, 3.0, 0.0, 0.0, 0.0, 0.0, 0.0, 3.0, 0.0, 1.0, 0.0, 1.0, [1.0, 0.0, 3.0, 0.0, 3.0, 0.0, 0.0, 1.0, 0.0, 0.0, 0.0, 1.0, 0.0, 18.0, 2112.0, 2.0, 3.0, 18.0, 32.0, 1.0, 1.0], [16.12873138867482, 3.8712686113251813], [0.806436569433741, 0.19356343056625908], 0.0, 'No Risk'], ['no_checking', 29, 'prior_payments_delayed', 'radio_tv', 7449, '100_to_500', 'greater_7', 3, 'male', 'co-applicant', 4, 'unknown', 52, 'none', 'free', 2, 'skilled', 1, 'yes', 'yes', 0.0, 0.0, 2.0, 1.0, 0.0, 2.0, 0.0, 0.0, 3.0, 1.0, 3.0, 0.0, 1.0, [0.0, 0.0, 3.0, 1.0, 2.0, 0.0, 1.0, 3.0, 0.0, 2.0, 0.0, 1.0, 0.0, 29.0, 7449.0, 3.0, 4.0, 29.0, 52.0, 2.0, 1.0], [2.1016506329570452, 17.898349367042954], [0.10508253164785226, 0.8949174683521477], 1.0, 'Risk'], ['no_checking', 17, 'credits_paid_to_date', 'radio_tv', 1116, '100_to_500', 'less_1', 3, 'female', 'none', 4, 'real_estate', 22, 'none', 'own', 1, 'management_self-employed', 1, 'none', 'yes', 0.0, 1.0, 3.0, 1.0, 0.0, 0.0, 0.0, 2.0, 3.0, 0.0, 2.0, 1.0, 0.0, [0.0, 1.0, 3.0, 1.0, 3.0, 1.0, 0.0, 2.0, 0.0, 0.0, 2.0, 0.0, 0.0, 17.0, 1116.0, 3.0, 4.0, 17.0, 22.0, 1.0, 1.0], [17.29449840091173, 2.705501599088267], [0.8647249200455865, 0.13527507995441335], 0.0, 'No Risk'], ['0_to_200', 20, 'prior_payments_delayed', 'radio_tv', 4126, '100_to_500', '4_to_7', 2, 'female', 'co-applicant', 3, 'car_other', 47, 'stores', 'own', 1, 'skilled', 1, 'yes', 'yes', 2.0, 0.0, 1.0, 1.0, 0.0, 0.0, 1.0, 0.0, 3.0, 1.0, 1.0, 1.0, 1.0, [2.0, 0.0, 3.0, 1.0, 1.0, 1.0, 1.0, 1.0, 1.0, 0.0, 0.0, 1.0, 0.0, 20.0, 4126.0, 2.0, 3.0, 20.0, 47.0, 1.0, 1.0], [11.493089749040129, 8.506910250959871], [0.5746544874520064, 0.4253455125479936], 0.0, 'No Risk'], ['no_checking', 55, 'outstanding_credit', 'appliances', 3937, 'unknown', '4_to_7', 4, 'male', 'co-applicant', 3, 'car_other', 36, 'stores', 'own', 1, 'skilled', 2, 'yes', 'yes', 0.0, 2.0, 1.0, 4.0, 0.0, 0.0, 1.0, 0.0, 4.0, 1.0, 1.0, 0.0, 1.0, [0.0, 2.0, 4.0, 4.0, 1.0, 0.0, 1.0, 1.0, 1.0, 0.0, 0.0, 1.0, 0.0, 55.0, 3937.0, 4.0, 3.0, 55.0, 36.0, 1.0, 2.0], [8.95374114827884, 11.046258851721161], [0.44768705741394205, 0.552312942586058], 1.0, 'Risk'], ['no_checking', 27, 'outstanding_credit', 'radio_tv', 2560, '500_to_1000', '4_to_7', 4, 'male', 'none', 4, 'savings_insurance', 36, 'stores', 'own', 1, 'unskilled', 1, 'yes', 'yes', 0.0, 2.0, 1.0, 2.0, 0.0, 0.0, 1.0, 1.0, 3.0, 0.0, 0.0, 0.0, 1.0, [0.0, 2.0, 3.0, 2.0, 1.0, 0.0, 0.0, 0.0, 1.0, 0.0, 1.0, 1.0, 0.0, 27.0, 2560.0, 4.0, 4.0, 27.0, 36.0, 1.0, 1.0], [12.436614551714134, 7.563385448285864], [0.6218307275857067, 0.3781692724142932], 0.0, 'No Risk'], ['0_to_200', 21, 'outstanding_credit', 'furniture', 2606, '100_to_500', '4_to_7', 4, 'male', 'none', 2, 'unknown', 38, 'none', 'own', 2, 'skilled', 1, 'none', 'yes', 2.0, 2.0, 1.0, 1.0, 0.0, 0.0, 0.0, 0.0, 1.0, 0.0, 3.0, 0.0, 0.0, [2.0, 2.0, 1.0, 1.0, 1.0, 0.0, 0.0, 3.0, 0.0, 0.0, 0.0, 0.0, 0.0, 21.0, 2606.0, 4.0, 2.0, 21.0, 38.0, 2.0, 1.0], [14.04244837199924, 5.957551628000758], [0.702122418599962, 0.2978775814000379], 0.0, 'No Risk'], ['less_0', 17, 'credits_paid_to_date', 'furniture', 2387, 'less_100', 'less_1', 3, 'male', 'none', 3, 'car_other', 26, 'bank', 'own', 2, 'unskilled', 1, 'none', 'yes', 1.0, 1.0, 3.0, 0.0, 0.0, 0.0, 2.0, 1.0, 1.0, 0.0, 1.0, 0.0, 0.0, [1.0, 1.0, 1.0, 0.0, 3.0, 0.0, 0.0, 1.0, 2.0, 0.0, 1.0, 0.0, 0.0, 17.0, 2387.0, 3.0, 3.0, 17.0, 26.0, 2.0, 1.0], [17.54632412093507, 2.4536758790649316], [0.8773162060467534, 0.12268379395324658], 0.0, 'No Risk'], ['less_0', 13, 'all_credits_paid_back', 'car_new', 2536, '100_to_500', '4_to_7', 3, 'male', 'none', 3, 'car_other', 41, 'none', 'rent', 1, 'skilled', 1, 'none', 'yes', 1.0, 3.0, 1.0, 1.0, 0.0, 1.0, 0.0, 0.0, 0.0, 0.0, 1.0, 0.0, 0.0, [1.0, 3.0, 0.0, 1.0, 1.0, 0.0, 0.0, 1.0, 0.0, 1.0, 0.0, 0.0, 0.0, 13.0, 2536.0, 3.0, 3.0, 13.0, 41.0, 1.0, 1.0], [15.73919011790041, 4.260809882099588], [0.7869595058950205, 0.2130404941049794], 0.0, 'No Risk'], ['less_0', 8, 'all_credits_paid_back', 'car_new', 2055, 'less_100', 'less_1', 2, 'male', 'none', 1, 'savings_insurance', 25, 'none', 'own', 1, 'skilled', 1, 'none', 'yes', 1.0, 3.0, 3.0, 0.0, 0.0, 0.0, 0.0, 0.0, 0.0, 0.0, 0.0, 0.0, 0.0, [21, [0, 1, 4, 13, 14, 15, 16, 17, 18, 19, 20], [1.0, 3.0, 3.0, 8.0, 2055.0, 2.0, 1.0, 8.0, 25.0, 1.0, 1.0]], [19.267941568137918, 0.7320584318620803], [0.963397078406896, 0.03660292159310402], 0.0, 'No Risk'], ['no_checking', 31, 'prior_payments_delayed', 'vacation', 6626, 'unknown', 'greater_7', 5, 'male', 'none', 4, 'car_other', 50, 'none', 'free', 2, 'skilled', 2, 'none', 'yes', 0.0, 0.0, 2.0, 4.0, 0.0, 2.0, 0.0, 0.0, 6.0, 0.0, 1.0, 0.0, 0.0, [0.0, 0.0, 6.0, 4.0, 2.0, 0.0, 0.0, 1.0, 0.0, 2.0, 0.0, 0.0, 0.0, 31.0, 6626.0, 5.0, 4.0, 31.0, 50.0, 2.0, 2.0], [7.429121351343797, 12.570878648656205], [0.37145606756718985, 0.6285439324328103], 1.0, 'Risk'], ['greater_200', 20, 'outstanding_credit', 'car_used', 6677, '100_to_500', '4_to_7', 3, 'male', 'none', 4, 'unknown', 58, 'none', 'own', 2, 'skilled', 1, 'yes', 'yes', 3.0, 2.0, 1.0, 1.0, 0.0, 0.0, 0.0, 0.0, 2.0, 0.0, 3.0, 0.0, 1.0, [3.0, 2.0, 2.0, 1.0, 1.0, 0.0, 0.0, 3.0, 0.0, 0.0, 0.0, 1.0, 0.0, 20.0, 6677.0, 3.0, 4.0, 20.0, 58.0, 2.0, 1.0], [8.592046732907633, 11.407953267092369], [0.42960233664538167, 0.5703976633546184], 1.0, 'Risk'], ['less_0', 30, 'credits_paid_to_date', 'car_used', 1139, 'less_100', '1_to_4', 3, 'male', 'none', 2, 'savings_insurance', 43, 'none', 'own', 2, 'skilled', 1, 'yes', 'yes', 1.0, 1.0, 0.0, 0.0, 0.0, 0.0, 0.0, 0.0, 2.0, 0.0, 0.0, 0.0, 1.0, [21, [0, 1, 2, 11, 13, 14, 15, 16, 17, 18, 19, 20], [1.0, 1.0, 2.0, 1.0, 30.0, 1139.0, 3.0, 2.0, 30.0, 43.0, 2.0, 1.0]], [13.708897216280171, 6.2911027837198255], [0.6854448608140087, 0.3145551391859913], 0.0, 'No Risk'], ['no_checking', 16, 'credits_paid_to_date', 'radio_tv', 1462, '100_to_500', '4_to_7', 2, 'male', 'none', 3, 'real_estate', 43, 'none', 'own', 1, 'skilled', 1, 'none', 'yes', 0.0, 1.0, 1.0, 1.0, 0.0, 0.0, 0.0, 0.0, 3.0, 0.0, 2.0, 0.0, 0.0, [0.0, 1.0, 3.0, 1.0, 1.0, 0.0, 0.0, 2.0, 0.0, 0.0, 0.0, 0.0, 0.0, 16.0, 1462.0, 2.0, 3.0, 16.0, 43.0, 1.0, 1.0], [15.248682224799555, 4.7513177752004445], [0.7624341112399777, 0.23756588876002221], 0.0, 'No Risk'], ['greater_200', 4, 'all_credits_paid_back', 'car_new', 250, 'less_100', '1_to_4', 2, 'female', 'none', 3, 'savings_insurance', 28, 'none', 'rent', 1, 'skilled', 1, 'none', 'yes', 3.0, 3.0, 0.0, 0.0, 0.0, 1.0, 0.0, 0.0, 0.0, 0.0, 0.0, 1.0, 0.0, [21, [0, 1, 5, 9, 13, 14, 15, 16, 17, 18, 19, 20], [3.0, 3.0, 1.0, 1.0, 4.0, 250.0, 2.0, 3.0, 4.0, 28.0, 1.0, 1.0]], [18.098308143575238, 1.9016918564247594], [0.9049154071787621, 0.09508459282123799], 0.0, 'No Risk'], ['no_checking', 34, 'prior_payments_delayed', 'other', 5849, '100_to_500', '4_to_7', 4, 'female', 'none', 3, 'savings_insurance', 43, 'none', 'own', 1, 'skilled', 2, 'none', 'yes', 0.0, 0.0, 1.0, 1.0, 0.0, 0.0, 0.0, 0.0, 10.0, 0.0, 0.0, 1.0, 0.0, [21, [2, 3, 4, 5, 13, 14, 15, 16, 17, 18, 19, 20], [10.0, 1.0, 1.0, 1.0, 34.0, 5849.0, 4.0, 3.0, 34.0, 43.0, 1.0, 2.0]], [8.397238045531024, 11.602761954468978], [0.4198619022765512, 0.5801380977234489], 1.0, 'Risk'], ['0_to_200', 18, 'prior_payments_delayed', 'car_used', 3311, 'greater_1000', '4_to_7', 3, 'male', 'none', 2, 'car_other', 43, 'none', 'rent', 2, 'skilled', 1, 'yes', 'yes', 2.0, 0.0, 1.0, 3.0, 0.0, 1.0, 0.0, 0.0, 2.0, 0.0, 1.0, 0.0, 1.0, [2.0, 0.0, 2.0, 3.0, 1.0, 0.0, 0.0, 1.0, 0.0, 1.0, 0.0, 1.0, 0.0, 18.0, 3311.0, 3.0, 2.0, 18.0, 43.0, 2.0, 1.0], [13.660278723029545, 6.339721276970456], [0.6830139361514773, 0.3169860638485228], 0.0, 'No Risk'], ['no_checking', 28, 'prior_payments_delayed', 'car_used', 4543, '100_to_500', '1_to_4', 4, 'female', 'none', 2, 'car_other', 39, 'none', 'own', 1, 'skilled', 1, 'none', 'yes', 0.0, 0.0, 0.0, 1.0, 0.0, 0.0, 0.0, 0.0, 2.0, 0.0, 1.0, 1.0, 0.0, [21, [2, 3, 5, 7, 13, 14, 15, 16, 17, 18, 19, 20], [2.0, 1.0, 1.0, 1.0, 28.0, 4543.0, 4.0, 2.0, 28.0, 39.0, 1.0, 1.0]], [12.444308630036419, 7.555691369963585], [0.6222154315018208, 0.37778456849817915], 0.0, 'No Risk'], ['no_checking', 41, 'prior_payments_delayed', 'radio_tv', 6218, 'unknown', '4_to_7', 4, 'male', 'co-applicant', 4, 'car_other', 38, 'stores', 'own', 2, 'skilled', 2, 'yes', 'yes', 0.0, 0.0, 1.0, 4.0, 0.0, 0.0, 1.0, 0.0, 3.0, 1.0, 1.0, 0.0, 1.0, [0.0, 0.0, 3.0, 4.0, 1.0, 0.0, 1.0, 1.0, 1.0, 0.0, 0.0, 1.0, 0.0, 41.0, 6218.0, 4.0, 4.0, 41.0, 38.0, 2.0, 2.0], [7.395989185314931, 12.604010814685072], [0.3697994592657465, 0.6302005407342535], 1.0, 'Risk'], ['no_checking', 23, 'outstanding_credit', 'business', 3049, '500_to_1000', 'greater_7', 5, 'male', 'none', 3, 'car_other', 51, 'none', 'own', 1, 'management_self-employed', 1, 'yes', 'yes', 0.0, 2.0, 2.0, 2.0, 0.0, 0.0, 0.0, 2.0, 9.0, 0.0, 1.0, 0.0, 1.0, [0.0, 2.0, 9.0, 2.0, 2.0, 0.0, 0.0, 1.0, 0.0, 0.0, 2.0, 1.0, 0.0, 23.0, 3049.0, 5.0, 3.0, 23.0, 51.0, 1.0, 1.0], [8.1099820514769, 11.890017948523099], [0.40549910257384497, 0.594500897426155], 1.0, 'Risk'], ['0_to_200', 13, 'credits_paid_to_date', 'furniture', 2775, 'less_100', '1_to_4', 3, 'male', 'none', 2, 'savings_insurance', 39, 'none', 'own', 2, 'skilled', 1, 'none', 'yes', 2.0, 1.0, 0.0, 0.0, 0.0, 0.0, 0.0, 0.0, 1.0, 0.0, 0.0, 0.0, 0.0, [21, [0, 1, 2, 13, 14, 15, 16, 17, 18, 19, 20], [2.0, 1.0, 1.0, 13.0, 2775.0, 3.0, 2.0, 13.0, 39.0, 2.0, 1.0]], [14.957048764576093, 5.042951235423906], [0.7478524382288047, 0.2521475617711953], 0.0, 'No Risk'], ['less_0', 4, 'credits_paid_to_date', 'car_used', 250, 'less_100', 'less_1', 2, 'male', 'none', 3, 'savings_insurance', 19, 'none', 'rent', 1, 'management_self-employed', 1, 'none', 'yes', 1.0, 1.0, 3.0, 0.0, 0.0, 1.0, 0.0, 2.0, 2.0, 0.0, 0.0, 0.0, 0.0, [1.0, 1.0, 2.0, 0.0, 3.0, 0.0, 0.0, 0.0, 0.0, 1.0, 2.0, 0.0, 0.0, 4.0, 250.0, 2.0, 3.0, 4.0, 19.0, 1.0, 1.0], [18.930360348293533, 1.0696396517064675], [0.9465180174146767, 0.05348198258532337], 0.0, 'No Risk'], ['no_checking', 30, 'outstanding_credit', 'radio_tv', 3925, 'unknown', 'greater_7', 4, 'male', 'none', 4, 'savings_insurance', 56, 'none', 'own', 3, 'skilled', 2, 'yes', 'no', 0.0, 2.0, 2.0, 4.0, 1.0, 0.0, 0.0, 0.0, 3.0, 0.0, 0.0, 0.0, 1.0, [0.0, 2.0, 3.0, 4.0, 2.0, 0.0, 0.0, 0.0, 0.0, 0.0, 0.0, 1.0, 1.0, 30.0, 3925.0, 4.0, 4.0, 30.0, 56.0, 3.0, 2.0], [7.683033152082242, 12.316966847917756], [0.3841516576041121, 0.6158483423958878], 1.0, 'Risk'], ['no_checking', 30, 'prior_payments_delayed', 'car_used', 4106, '100_to_500', '1_to_4', 4, 'female', 'none', 4, 'car_other', 51, 'none', 'own', 1, 'skilled', 1, 'yes', 'yes', 0.0, 0.0, 0.0, 1.0, 0.0, 0.0, 0.0, 0.0, 2.0, 0.0, 1.0, 1.0, 1.0, [0.0, 0.0, 2.0, 1.0, 0.0, 1.0, 0.0, 1.0, 0.0, 0.0, 0.0, 1.0, 0.0, 30.0, 4106.0, 4.0, 4.0, 30.0, 51.0, 1.0, 1.0], [8.905082440675319, 11.094917559324683], [0.4452541220337659, 0.5547458779662342], 1.0, 'Risk'], ['no_checking', 27, 'prior_payments_delayed', 'radio_tv', 5471, '100_to_500', 'greater_7', 4, 'male', 'none', 4, 'savings_insurance', 43, 'none', 'own', 2, 'management_self-employed', 2, 'yes', 'yes', 0.0, 0.0, 2.0, 1.0, 0.0, 0.0, 0.0, 2.0, 3.0, 0.0, 0.0, 0.0, 1.0, [0.0, 0.0, 3.0, 1.0, 2.0, 0.0, 0.0, 0.0, 0.0, 0.0, 2.0, 1.0, 0.0, 27.0, 5471.0, 4.0, 4.0, 27.0, 43.0, 2.0, 2.0], [10.241574542421466, 9.758425457578534], [0.5120787271210733, 0.4879212728789267], 0.0, 'No Risk'], ['0_to_200', 23, 'credits_paid_to_date', 'furniture', 3745, '100_to_500', '4_to_7', 4, 'female', 'none', 3, 'car_other', 36, 'none', 'own', 1, 'skilled', 1, 'none', 'yes', 2.0, 1.0, 1.0, 1.0, 0.0, 0.0, 0.0, 0.0, 1.0, 0.0, 1.0, 1.0, 0.0, [2.0, 1.0, 1.0, 1.0, 1.0, 1.0, 0.0, 1.0, 0.0, 0.0, 0.0, 0.0, 0.0, 23.0, 3745.0, 4.0, 3.0, 23.0, 36.0, 1.0, 1.0], [13.654035256691254, 6.345964743308749], [0.6827017628345625, 0.3172982371654374], 0.0, 'No Risk'], ['less_0', 4, 'all_credits_paid_back', 'car_new', 250, 'less_100', 'unemployed', 1, 'male', 'none', 1, 'real_estate', 20, 'none', 'rent', 1, 'skilled', 1, 'none', 'yes', 1.0, 3.0, 4.0, 0.0, 0.0, 1.0, 0.0, 0.0, 0.0, 0.0, 2.0, 0.0, 0.0, [1.0, 3.0, 0.0, 0.0, 4.0, 0.0, 0.0, 2.0, 0.0, 1.0, 0.0, 0.0, 0.0, 4.0, 250.0, 1.0, 1.0, 4.0, 20.0, 1.0, 1.0], [19.557317089819676, 0.4426829101803208], [0.977865854490984, 0.022134145509016045], 0.0, 'No Risk'], ['no_checking', 28, 'outstanding_credit', 'appliances', 5650, 'unknown', 'greater_7', 4, 'male', 'guarantor', 4, 'car_other', 45, 'none', 'free', 2, 'skilled', 1, 'yes', 'yes', 0.0, 2.0, 2.0, 4.0, 0.0, 2.0, 0.0, 0.0, 4.0, 2.0, 1.0, 0.0, 1.0, [0.0, 2.0, 4.0, 4.0, 2.0, 0.0, 2.0, 1.0, 0.0, 2.0, 0.0, 1.0, 0.0, 28.0, 5650.0, 4.0, 4.0, 28.0, 45.0, 2.0, 1.0], [3.7036627704755554, 16.296337229524443], [0.18518313852377777, 0.8148168614762221], 1.0, 'Risk'], ['no_checking', 26, 'credits_paid_to_date', 'radio_tv', 4231, 'greater_1000', '1_to_4', 4, 'male', 'none', 2, 'savings_insurance', 37, 'none', 'own', 2, 'skilled', 1, 'none', 'yes', 0.0, 1.0, 0.0, 3.0, 0.0, 0.0, 0.0, 0.0, 3.0, 0.0, 0.0, 0.0, 0.0, [21, [1, 2, 3, 13, 14, 15, 16, 17, 18, 19, 20], [1.0, 3.0, 3.0, 26.0, 4231.0, 4.0, 2.0, 26.0, 37.0, 2.0, 1.0]], [13.40403523121617, 6.595964768783832], [0.6702017615608085, 0.3297982384391916], 0.0, 'No Risk'], ['0_to_200', 31, 'credits_paid_to_date', 'education', 6871, 'less_100', '1_to_4', 3, 'male', 'none', 3, 'savings_insurance', 37, 'none', 'own', 2, 'skilled', 1, 'yes', 'no', 2.0, 1.0, 0.0, 0.0, 1.0, 0.0, 0.0, 0.0, 7.0, 0.0, 0.0, 0.0, 1.0, [2.0, 1.0, 7.0, 0.0, 0.0, 0.0, 0.0, 0.0, 0.0, 0.0, 0.0, 1.0, 1.0, 31.0, 6871.0, 3.0, 3.0, 31.0, 37.0, 2.0, 1.0], [12.577324448788282, 7.422675551211718], [0.6288662224394141, 0.3711337775605859], 0.0, 'No Risk'], ['no_checking', 28, 'prior_payments_delayed', 'car_used', 5749, '100_to_500', 'less_1', 3, 'male', 'none', 3, 'car_other', 38, 'stores', 'own', 2, 'unskilled', 1, 'none', 'yes', 0.0, 0.0, 3.0, 1.0, 0.0, 0.0, 1.0, 1.0, 2.0, 0.0, 1.0, 0.0, 0.0, [0.0, 0.0, 2.0, 1.0, 3.0, 0.0, 0.0, 1.0, 1.0, 0.0, 1.0, 0.0, 0.0, 28.0, 5749.0, 3.0, 3.0, 28.0, 38.0, 2.0, 1.0], [13.292389893664916, 6.7076101063350855], [0.6646194946832458, 0.3353805053167543], 0.0, 'No Risk'], ['less_0', 16, 'credits_paid_to_date', 'vacation', 2443, 'less_100', '1_to_4', 2, 'female', 'none', 2, 'real_estate', 25, 'stores', 'own', 1, 'skilled', 1, 'none', 'yes', 1.0, 1.0, 0.0, 0.0, 0.0, 0.0, 1.0, 0.0, 6.0, 0.0, 2.0, 1.0, 0.0, [1.0, 1.0, 6.0, 0.0, 0.0, 1.0, 0.0, 2.0, 1.0, 0.0, 0.0, 0.0, 0.0, 16.0, 2443.0, 2.0, 2.0, 16.0, 25.0, 1.0, 1.0], [18.436464314512715, 1.5635356854872853], [0.9218232157256357, 0.07817678427436427], 0.0, 'No Risk'], ['0_to_200', 28, 'credits_paid_to_date', 'radio_tv', 447, '100_to_500', 'less_1', 3, 'male', 'none', 3, 'real_estate', 25, 'stores', 'rent', 1, 'unskilled', 1, 'none', 'yes', 2.0, 1.0, 3.0, 1.0, 0.0, 1.0, 1.0, 1.0, 3.0, 0.0, 2.0, 0.0, 0.0, [2.0, 1.0, 3.0, 1.0, 3.0, 0.0, 0.0, 2.0, 1.0, 1.0, 1.0, 0.0, 0.0, 28.0, 447.0, 3.0, 3.0, 28.0, 25.0, 1.0, 1.0], [17.278298830742685, 2.721701169257319], [0.8639149415371341, 0.13608505846286595], 0.0, 'No Risk'], ['less_0', 4, 'all_credits_paid_back', 'car_new', 250, 'less_100', '1_to_4', 2, 'female', 'none', 2, 'real_estate', 24, 'stores', 'own', 1, 'skilled', 1, 'none', 'yes', 1.0, 3.0, 0.0, 0.0, 0.0, 0.0, 1.0, 0.0, 0.0, 0.0, 2.0, 1.0, 0.0, [1.0, 3.0, 0.0, 0.0, 0.0, 1.0, 0.0, 2.0, 1.0, 0.0, 0.0, 0.0, 0.0, 4.0, 250.0, 2.0, 2.0, 4.0, 24.0, 1.0, 1.0], [19.203463412406215, 0.796536587593785], [0.9601731706203107, 0.039826829379689246], 0.0, 'No Risk'], ['0_to_200', 4, 'credits_paid_to_date', 'education', 250, 'less_100', 'unemployed', 2, 'female', 'none', 2, 'real_estate', 22, 'none', 'rent', 1, 'management_self-employed', 1, 'none', 'yes', 2.0, 1.0, 4.0, 0.0, 0.0, 1.0, 0.0, 2.0, 7.0, 0.0, 2.0, 1.0, 0.0, [2.0, 1.0, 7.0, 0.0, 4.0, 1.0, 0.0, 2.0, 0.0, 1.0, 2.0, 0.0, 0.0, 4.0, 250.0, 2.0, 2.0, 4.0, 22.0, 1.0, 1.0], [19.448334108735157, 0.5516658912648428], [0.9724167054367578, 0.027583294563242138], 0.0, 'No Risk'], ['less_0', 12, 'prior_payments_delayed', 'retraining', 2471, '100_to_500', 'greater_7', 4, 'male', 'none', 3, 'savings_insurance', 31, 'none', 'own', 1, 'management_self-employed', 1, 'none', 'yes', 1.0, 0.0, 2.0, 1.0, 0.0, 0.0, 0.0, 2.0, 8.0, 0.0, 0.0, 0.0, 0.0, [1.0, 0.0, 8.0, 1.0, 2.0, 0.0, 0.0, 0.0, 0.0, 0.0, 2.0, 0.0, 0.0, 12.0, 2471.0, 4.0, 3.0, 12.0, 31.0, 1.0, 1.0], [16.533524392086143, 3.4664756079138566], [0.8266762196043071, 0.17332378039569282], 0.0, 'No Risk'], ['no_checking', 31, 'prior_payments_delayed', 'appliances', 4533, '100_to_500', 'greater_7', 5, 'male', 'guarantor', 3, 'savings_insurance', 40, 'stores', 'free', 1, 'unskilled', 1, 'yes', 'yes', 0.0, 0.0, 2.0, 1.0, 0.0, 2.0, 1.0, 1.0, 4.0, 2.0, 0.0, 0.0, 1.0, [0.0, 0.0, 4.0, 1.0, 2.0, 0.0, 2.0, 0.0, 1.0, 2.0, 1.0, 1.0, 0.0, 31.0, 4533.0, 5.0, 3.0, 31.0, 40.0, 1.0, 1.0], [8.434912659460835, 11.565087340539163], [0.42174563297304174, 0.5782543670269582], 1.0, 'Risk'], ['less_0', 7, 'all_credits_paid_back', 'car_used', 2298, 'less_100', 'less_1', 1, 'female', 'none', 2, 'savings_insurance', 44, 'none', 'own', 1, 'skilled', 1, 'none', 'yes', 1.0, 3.0, 3.0, 0.0, 0.0, 0.0, 0.0, 0.0, 2.0, 0.0, 0.0, 1.0, 0.0, [1.0, 3.0, 2.0, 0.0, 3.0, 1.0, 0.0, 0.0, 0.0, 0.0, 0.0, 0.0, 0.0, 7.0, 2298.0, 1.0, 2.0, 7.0, 44.0, 1.0, 1.0], [17.76935619683842, 2.23064380316158], [0.888467809841921, 0.111532190158079], 0.0, 'No Risk'], ['no_checking', 30, 'outstanding_credit', 'repairs', 5551, '500_to_1000', '4_to_7', 3, 'male', 'none', 4, 'unknown', 45, 'stores', 'own', 2, 'unskilled', 2, 'yes', 'yes', 0.0, 2.0, 1.0, 2.0, 0.0, 0.0, 1.0, 1.0, 5.0, 0.0, 3.0, 0.0, 1.0, [0.0, 2.0, 5.0, 2.0, 1.0, 0.0, 0.0, 3.0, 1.0, 0.0, 1.0, 1.0, 0.0, 30.0, 5551.0, 3.0, 4.0, 30.0, 45.0, 2.0, 2.0], [8.957417031373991, 11.042582968626007], [0.44787085156869955, 0.5521291484313003], 1.0, 'Risk'], ['less_0', 17, 'credits_paid_to_date', 'vacation', 1843, 'less_100', 'less_1', 3, 'female', 'none', 2, 'savings_insurance', 34, 'none', 'own', 2, 'skilled', 1, 'yes', 'yes', 1.0, 1.0, 3.0, 0.0, 0.0, 0.0, 0.0, 0.0, 6.0, 0.0, 0.0, 1.0, 1.0, [1.0, 1.0, 6.0, 0.0, 3.0, 1.0, 0.0, 0.0, 0.0, 0.0, 0.0, 1.0, 0.0, 17.0, 1843.0, 3.0, 2.0, 17.0, 34.0, 2.0, 1.0], [16.767664458623905, 3.232335541376094], [0.8383832229311953, 0.1616167770688047], 0.0, 'No Risk'], ['no_checking', 24, 'credits_paid_to_date', 'car_new', 4008, 'greater_1000', '1_to_4', 4, 'male', 'none', 4, 'car_other', 40, 'none', 'own', 2, 'skilled', 1, 'none', 'yes', 0.0, 1.0, 0.0, 3.0, 0.0, 0.0, 0.0, 0.0, 0.0, 0.0, 1.0, 0.0, 0.0, [21, [1, 3, 7, 13, 14, 15, 16, 17, 18, 19, 20], [1.0, 3.0, 1.0, 24.0, 4008.0, 4.0, 4.0, 24.0, 40.0, 2.0, 1.0]], [12.385550465570622, 7.614449534429378], [0.6192775232785311, 0.38072247672146886], 0.0, 'No Risk'], ['no_checking', 19, 'credits_paid_to_date', 'car_new', 3043, 'greater_1000', '4_to_7', 3, 'male', 'none', 4, 'car_other', 35, 'bank', 'own', 2, 'unskilled', 2, 'yes', 'yes', 0.0, 1.0, 1.0, 3.0, 0.0, 0.0, 2.0, 1.0, 0.0, 0.0, 1.0, 0.0, 1.0, [0.0, 1.0, 0.0, 3.0, 1.0, 0.0, 0.0, 1.0, 2.0, 0.0, 1.0, 1.0, 0.0, 19.0, 3043.0, 3.0, 4.0, 19.0, 35.0, 2.0, 2.0], [12.631522256764129, 7.368477743235871], [0.6315761128382065, 0.36842388716179353], 0.0, 'No Risk'], ['less_0', 12, 'all_credits_paid_back', 'car_used', 1195, 'less_100', 'less_1', 2, 'female', 'none', 3, 'real_estate', 19, 'bank', 'own', 1, 'unskilled', 1, 'none', 'yes', 1.0, 3.0, 3.0, 0.0, 0.0, 0.0, 2.0, 1.0, 2.0, 0.0, 2.0, 1.0, 0.0, [1.0, 3.0, 2.0, 0.0, 3.0, 1.0, 0.0, 2.0, 2.0, 0.0, 1.0, 0.0, 0.0, 12.0, 1195.0, 2.0, 3.0, 12.0, 19.0, 1.0, 1.0], [19.1327862090639, 0.8672137909360963], [0.9566393104531953, 0.043360689546804825], 0.0, 'No Risk'], ['greater_200', 58, 'outstanding_credit', 'repairs', 8341, 'unknown', '4_to_7', 5, 'male', 'co-applicant', 4, 'car_other', 40, 'none', 'own', 2, 'skilled', 1, 'yes', 'yes', 3.0, 2.0, 1.0, 4.0, 0.0, 0.0, 0.0, 0.0, 5.0, 1.0, 1.0, 0.0, 1.0, [3.0, 2.0, 5.0, 4.0, 1.0, 0.0, 1.0, 1.0, 0.0, 0.0, 0.0, 1.0, 0.0, 58.0, 8341.0, 5.0, 4.0, 58.0, 40.0, 2.0, 1.0], [8.440208648946067, 11.559791351053931], [0.42201043244730335, 0.5779895675526966], 1.0, 'Risk'], ['less_0', 6, 'no_credits', 'car_new', 250, 'less_100', '1_to_4', 2, 'male', 'none', 1, 'real_estate', 22, 'stores', 'rent', 1, 'skilled', 1, 'none', 'yes', 1.0, 4.0, 0.0, 0.0, 0.0, 1.0, 1.0, 0.0, 0.0, 0.0, 2.0, 0.0, 0.0, [1.0, 4.0, 0.0, 0.0, 0.0, 0.0, 0.0, 2.0, 1.0, 1.0, 0.0, 0.0, 0.0, 6.0, 250.0, 2.0, 1.0, 6.0, 22.0, 1.0, 1.0], [19.203463412406215, 0.796536587593785], [0.9601731706203107, 0.039826829379689246], 0.0, 'No Risk'], ['less_0', 12, 'all_credits_paid_back', 'car_new', 930, 'less_100', 'less_1', 2, 'female', 'none', 3, 'savings_insurance', 22, 'none', 'own', 1, 'skilled', 1, 'none', 'yes', 1.0, 3.0, 3.0, 0.0, 0.0, 0.0, 0.0, 0.0, 0.0, 0.0, 0.0, 1.0, 0.0, [21, [0, 1, 4, 5, 13, 14, 15, 16, 17, 18, 19, 20], [1.0, 3.0, 3.0, 1.0, 12.0, 930.0, 2.0, 3.0, 12.0, 22.0, 1.0, 1.0]], [18.97236599654, 1.0276340034599993], [0.948618299827, 0.051381700172999964], 0.0, 'No Risk'], ['0_to_200', 26, 'credits_paid_to_date', 'retraining', 2641, 'greater_1000', '1_to_4', 3, 'male', 'none', 2, 'car_other', 42, 'none', 'rent', 1, 'skilled', 1, 'none', 'yes', 2.0, 1.0, 0.0, 3.0, 0.0, 1.0, 0.0, 0.0, 8.0, 0.0, 1.0, 0.0, 0.0, [2.0, 1.0, 8.0, 3.0, 0.0, 0.0, 0.0, 1.0, 0.0, 1.0, 0.0, 0.0, 0.0, 26.0, 2641.0, 3.0, 2.0, 26.0, 42.0, 1.0, 1.0], [15.047376616380248, 4.95262338361975], [0.7523688308190124, 0.24763116918098751], 0.0, 'No Risk'], ['less_0', 15, 'prior_payments_delayed', 'car_new', 2134, 'less_100', '1_to_4', 2, 'male', 'none', 3, 'savings_insurance', 41, 'none', 'own', 1, 'skilled', 1, 'yes', 'yes', 1.0, 0.0, 0.0, 0.0, 0.0, 0.0, 0.0, 0.0, 0.0, 0.0, 0.0, 0.0, 1.0, [21, [0, 11, 13, 14, 15, 16, 17, 18, 19, 20], [1.0, 1.0, 15.0, 2134.0, 2.0, 3.0, 15.0, 41.0, 1.0, 1.0]], [15.081102003831862, 4.918897996168137], [0.7540551001915932, 0.24594489980840684], 0.0, 'No Risk'], ['less_0', 15, 'credits_paid_to_date', 'car_used', 3629, 'less_100', 'less_1', 2, 'female', 'none', 3, 'real_estate', 20, 'none', 'own', 1, 'skilled', 1, 'none', 'yes', 1.0, 1.0, 3.0, 0.0, 0.0, 0.0, 0.0, 0.0, 2.0, 0.0, 2.0, 1.0, 0.0, [1.0, 1.0, 2.0, 0.0, 3.0, 1.0, 0.0, 2.0, 0.0, 0.0, 0.0, 0.0, 0.0, 15.0, 3629.0, 2.0, 3.0, 15.0, 20.0, 1.0, 1.0], [18.379711770951808, 1.6202882290481893], [0.9189855885475905, 0.08101441145240948], 0.0, 'No Risk'], ['greater_200', 27, 'credits_paid_to_date', 'car_used', 5094, '100_to_500', '4_to_7', 3, 'male', 'none', 3, 'savings_insurance', 40, 'none', 'free', 2, 'skilled', 1, 'none', 'yes', 3.0, 1.0, 1.0, 1.0, 0.0, 2.0, 0.0, 0.0, 2.0, 0.0, 0.0, 0.0, 0.0, [3.0, 1.0, 2.0, 1.0, 1.0, 0.0, 0.0, 0.0, 0.0, 2.0, 0.0, 0.0, 0.0, 27.0, 5094.0, 3.0, 3.0, 27.0, 40.0, 2.0, 1.0], [11.529080341837744, 8.470919658162256], [0.5764540170918873, 0.4235459829081128], 0.0, 'No Risk'], ['no_checking', 35, 'outstanding_credit', 'appliances', 7330, '500_to_1000', 'greater_7', 4, 'male', 'co-applicant', 4, 'car_other', 54, 'stores', 'own', 2, 'unskilled', 1, 'yes', 'yes', 0.0, 2.0, 2.0, 2.0, 0.0, 0.0, 1.0, 1.0, 4.0, 1.0, 1.0, 0.0, 1.0, [0.0, 2.0, 4.0, 2.0, 2.0, 0.0, 1.0, 1.0, 1.0, 0.0, 1.0, 1.0, 0.0, 35.0, 7330.0, 4.0, 4.0, 35.0, 54.0, 2.0, 1.0], [2.3808111636632208, 17.619188836336775], [0.11904055818316106, 0.8809594418168389], 1.0, 'Risk'], ['no_checking', 28, 'prior_payments_delayed', 'appliances', 5571, 'greater_1000', '4_to_7', 4, 'male', 'none', 5, 'car_other', 43, 'stores', 'own', 2, 'unskilled', 2, 'yes', 'yes', 0.0, 0.0, 1.0, 3.0, 0.0, 0.0, 1.0, 1.0, 4.0, 0.0, 1.0, 0.0, 1.0, [0.0, 0.0, 4.0, 3.0, 1.0, 0.0, 0.0, 1.0, 1.0, 0.0, 1.0, 1.0, 0.0, 28.0, 5571.0, 4.0, 5.0, 28.0, 43.0, 2.0, 2.0], [12.01625698719667, 7.983743012803332], [0.6008128493598335, 0.39918715064016663], 0.0, 'No Risk'], ['less_0', 8, 'all_credits_paid_back', 'radio_tv', 1255, 'less_100', '1_to_4', 2, 'female', 'co-applicant', 3, 'savings_insurance', 25, 'bank', 'own', 1, 'unemployed', 1, 'yes', 'yes', 1.0, 3.0, 0.0, 0.0, 0.0, 0.0, 2.0, 3.0, 3.0, 1.0, 0.0, 1.0, 1.0, [1.0, 3.0, 3.0, 0.0, 0.0, 1.0, 1.0, 0.0, 2.0, 0.0, 3.0, 1.0, 0.0, 8.0, 1255.0, 2.0, 3.0, 8.0, 25.0, 1.0, 1.0], [17.537866268012277, 2.462133731987721], [0.8768933134006139, 0.12310668659938606], 0.0, 'No Risk'], ['no_checking', 19, 'outstanding_credit', 'education', 3899, '100_to_500', '4_to_7', 3, 'male', 'guarantor', 4, 'car_other', 52, 'none', 'own', 2, 'skilled', 1, 'yes', 'yes', 0.0, 2.0, 1.0, 1.0, 0.0, 0.0, 0.0, 0.0, 7.0, 2.0, 1.0, 0.0, 1.0, [0.0, 2.0, 7.0, 1.0, 1.0, 0.0, 2.0, 1.0, 0.0, 0.0, 0.0, 1.0, 0.0, 19.0, 3899.0, 3.0, 4.0, 19.0, 52.0, 2.0, 1.0], [7.638067699567907, 12.36193230043209], [0.38190338497839543, 0.6180966150216046], 1.0, 'Risk'], ['less_0', 4, 'credits_paid_to_date', 'car_used', 967, '100_to_500', 'less_1', 2, 'female', 'none', 2, 'car_other', 25, 'stores', 'rent', 1, 'skilled', 1, 'none', 'yes', 1.0, 1.0, 3.0, 1.0, 0.0, 1.0, 1.0, 0.0, 2.0, 0.0, 1.0, 1.0, 0.0, [1.0, 1.0, 2.0, 1.0, 3.0, 1.0, 0.0, 1.0, 1.0, 1.0, 0.0, 0.0, 0.0, 4.0, 967.0, 2.0, 2.0, 4.0, 25.0, 1.0, 1.0], [18.75733150176748, 1.2426684982325193], [0.9378665750883741, 0.06213342491162597], 0.0, 'No Risk'], ['0_to_200', 18, 'credits_paid_to_date', 'furniture', 2351, '500_to_1000', '4_to_7', 3, 'female', 'none', 2, 'real_estate', 28, 'none', 'own', 2, 'skilled', 1, 'none', 'yes', 2.0, 1.0, 1.0, 2.0, 0.0, 0.0, 0.0, 0.0, 1.0, 0.0, 2.0, 1.0, 0.0, [2.0, 1.0, 1.0, 2.0, 1.0, 1.0, 0.0, 2.0, 0.0, 0.0, 0.0, 0.0, 0.0, 18.0, 2351.0, 3.0, 2.0, 18.0, 28.0, 2.0, 1.0], [16.367522520252095, 3.6324774797479074], [0.8183761260126046, 0.18162387398739532], 0.0, 'No Risk'], ['no_checking', 25, 'outstanding_credit', 'radio_tv', 6017, '500_to_1000', '4_to_7', 3, 'male', 'none', 4, 'car_other', 41, 'none', 'own', 1, 'management_self-employed', 1, 'none', 'yes', 0.0, 2.0, 1.0, 2.0, 0.0, 0.0, 0.0, 2.0, 3.0, 0.0, 1.0, 0.0, 0.0, [0.0, 2.0, 3.0, 2.0, 1.0, 0.0, 0.0, 1.0, 0.0, 0.0, 2.0, 0.0, 0.0, 25.0, 6017.0, 3.0, 4.0, 25.0, 41.0, 1.0, 1.0], [10.752120913534208, 9.247879086465792], [0.5376060456767104, 0.4623939543232896], 0.0, 'No Risk'], ['less_0', 6, 'prior_payments_delayed', 'retraining', 2900, '500_to_1000', '4_to_7', 2, 'male', 'none', 3, 'car_other', 25, 'stores', 'own', 1, 'unskilled', 1, 'yes', 'yes', 1.0, 0.0, 1.0, 2.0, 0.0, 0.0, 1.0, 1.0, 8.0, 0.0, 1.0, 0.0, 1.0, [1.0, 0.0, 8.0, 2.0, 1.0, 0.0, 0.0, 1.0, 1.0, 0.0, 1.0, 1.0, 0.0, 6.0, 2900.0, 2.0, 3.0, 6.0, 25.0, 1.0, 1.0], [16.365179265016288, 3.6348207349837147], [0.8182589632508143, 0.1817410367491857], 0.0, 'No Risk'], ['no_checking', 26, 'outstanding_credit', 'furniture', 3523, '500_to_1000', 'greater_7', 3, 'male', 'none', 3, 'unknown', 42, 'none', 'own', 1, 'skilled', 2, 'yes', 'yes', 0.0, 2.0, 2.0, 2.0, 0.0, 0.0, 0.0, 0.0, 1.0, 0.0, 3.0, 0.0, 1.0, [0.0, 2.0, 1.0, 2.0, 2.0, 0.0, 0.0, 3.0, 0.0, 0.0, 0.0, 1.0, 0.0, 26.0, 3523.0, 3.0, 3.0, 26.0, 42.0, 1.0, 2.0], [8.66859344646393, 11.33140655353607], [0.4334296723231965, 0.5665703276768035], 1.0, 'Risk'], ['no_checking', 20, 'prior_payments_delayed', 'repairs', 2962, '500_to_1000', 'greater_7', 3, 'female', 'none', 2, 'car_other', 31, 'none', 'own', 1, 'skilled', 2, 'none', 'no', 0.0, 0.0, 2.0, 2.0, 1.0, 0.0, 0.0, 0.0, 5.0, 0.0, 1.0, 1.0, 0.0, [0.0, 0.0, 5.0, 2.0, 2.0, 1.0, 0.0, 1.0, 0.0, 0.0, 0.0, 0.0, 1.0, 20.0, 2962.0, 3.0, 2.0, 20.0, 31.0, 1.0, 2.0], [12.628627968476327, 7.371372031523675], [0.6314313984238163, 0.36856860157618376], 0.0, 'No Risk'], ['no_checking', 33, 'prior_payments_delayed', 'education', 4959, 'unknown', 'greater_7', 4, 'male', 'none', 2, 'car_other', 44, 'none', 'own', 2, 'skilled', 1, 'none', 'yes', 0.0, 0.0, 2.0, 4.0, 0.0, 0.0, 0.0, 0.0, 7.0, 0.0, 1.0, 0.0, 0.0, [21, [2, 3, 4, 7, 13, 14, 15, 16, 17, 18, 19, 20], [7.0, 4.0, 2.0, 1.0, 33.0, 4959.0, 4.0, 2.0, 33.0, 44.0, 2.0, 1.0]], [10.648252883340113, 9.351747116659887], [0.5324126441670056, 0.4675873558329943], 0.0, 'No Risk'], ['no_checking', 44, 'prior_payments_delayed', 'repairs', 6917, '500_to_1000', '1_to_4', 4, 'male', 'none', 3, 'unknown', 52, 'none', 'free', 2, 'skilled', 2, 'yes', 'yes', 0.0, 0.0, 0.0, 2.0, 0.0, 2.0, 0.0, 0.0, 5.0, 0.0, 3.0, 0.0, 1.0, [0.0, 0.0, 5.0, 2.0, 0.0, 0.0, 0.0, 3.0, 0.0, 2.0, 0.0, 1.0, 0.0, 44.0, 6917.0, 4.0, 3.0, 44.0, 52.0, 2.0, 2.0], [8.589706166934732, 11.410293833065266], [0.4294853083467366, 0.5705146916532633], 1.0, 'Risk'], ['less_0', 13, 'credits_paid_to_date', 'car_new', 250, 'less_100', 'less_1', 1, 'female', 'none', 1, 'real_estate', 19, 'stores', 'rent', 1, 'skilled', 1, 'none', 'yes', 1.0, 1.0, 3.0, 0.0, 0.0, 1.0, 1.0, 0.0, 0.0, 0.0, 2.0, 1.0, 0.0, [1.0, 1.0, 0.0, 0.0, 3.0, 1.0, 0.0, 2.0, 1.0, 1.0, 0.0, 0.0, 0.0, 13.0, 250.0, 1.0, 1.0, 13.0, 19.0, 1.0, 1.0], [19.297110272161056, 0.7028897278389428], [0.9648555136080528, 0.03514448639194714], 0.0, 'No Risk'], ['no_checking', 8, 'credits_paid_to_date', 'furniture', 6965, 'less_100', 'less_1', 3, 'male', 'co-applicant', 3, 'savings_insurance', 48, 'none', 'own', 1, 'management_self-employed', 1, 'yes', 'yes', 0.0, 1.0, 3.0, 0.0, 0.0, 0.0, 0.0, 2.0, 1.0, 1.0, 0.0, 0.0, 1.0, [0.0, 1.0, 1.0, 0.0, 3.0, 0.0, 1.0, 0.0, 0.0, 0.0, 2.0, 1.0, 0.0, 8.0, 6965.0, 3.0, 3.0, 8.0, 48.0, 1.0, 1.0], [15.22405991788791, 4.775940082112091], [0.7612029958943956, 0.23879700410560453], 0.0, 'No Risk'], ['no_checking', 42, 'outstanding_credit', 'education', 7048, 'unknown', 'greater_7', 6, 'male', 'co-applicant', 5, 'unknown', 60, 'none', 'free', 2, 'skilled', 2, 'yes', 'yes', 0.0, 2.0, 2.0, 4.0, 0.0, 2.0, 0.0, 0.0, 7.0, 1.0, 3.0, 0.0, 1.0, [0.0, 2.0, 7.0, 4.0, 2.0, 0.0, 1.0, 3.0, 0.0, 2.0, 0.0, 1.0, 0.0, 42.0, 7048.0, 6.0, 5.0, 42.0, 60.0, 2.0, 2.0], [1.1101589379763983, 18.8898410620236], [0.055507946898819924, 0.9444920531011801], 1.0, 'Risk'], ['less_0', 4, 'all_credits_paid_back', 'car_new', 250, '100_to_500', 'less_1', 2, 'male', 'none', 2, 'real_estate', 24, 'none', 'own', 1, 'skilled', 1, 'none', 'yes', 1.0, 3.0, 3.0, 1.0, 0.0, 0.0, 0.0, 0.0, 0.0, 0.0, 2.0, 0.0, 0.0, [1.0, 3.0, 0.0, 1.0, 3.0, 0.0, 0.0, 2.0, 0.0, 0.0, 0.0, 0.0, 0.0, 4.0, 250.0, 2.0, 2.0, 4.0, 24.0, 1.0, 1.0], [19.557317089819676, 0.4426829101803208], [0.977865854490984, 0.022134145509016045], 0.0, 'No Risk'], ['no_checking', 16, 'outstanding_credit', 'car_used', 4711, 'unknown', 'greater_7', 4, 'female', 'none', 4, 'unknown', 54, 'none', 'own', 2, 'skilled', 1, 'none', 'yes', 0.0, 2.0, 2.0, 4.0, 0.0, 0.0, 0.0, 0.0, 2.0, 0.0, 3.0, 1.0, 0.0, [0.0, 2.0, 2.0, 4.0, 2.0, 1.0, 0.0, 3.0, 0.0, 0.0, 0.0, 0.0, 0.0, 16.0, 4711.0, 4.0, 4.0, 16.0, 54.0, 2.0, 1.0], [5.827263820112207, 14.172736179887792], [0.29136319100561037, 0.7086368089943896], 1.0, 'Risk'], ['less_0', 16, 'prior_payments_delayed', 'radio_tv', 250, 'less_100', '4_to_7', 3, 'female', 'none', 2, 'savings_insurance', 31, 'stores', 'own', 1, 'skilled', 1, 'none', 'yes', 1.0, 0.0, 1.0, 0.0, 0.0, 0.0, 1.0, 0.0, 3.0, 0.0, 0.0, 1.0, 0.0, [1.0, 0.0, 3.0, 0.0, 1.0, 1.0, 0.0, 0.0, 1.0, 0.0, 0.0, 0.0, 0.0, 16.0, 250.0, 3.0, 2.0, 16.0, 31.0, 1.0, 1.0], [18.00987940118976, 1.9901205988102388], [0.9004939700594881, 0.09950602994051194], 0.0, 'No Risk'], ['no_checking', 39, 'credits_paid_to_date', 'radio_tv', 4351, '500_to_1000', '4_to_7', 4, 'female', 'none', 4, 'real_estate', 36, 'none', 'own', 2, 'skilled', 1, 'none', 'yes', 0.0, 1.0, 1.0, 2.0, 0.0, 0.0, 0.0, 0.0, 3.0, 0.0, 2.0, 1.0, 0.0, [0.0, 1.0, 3.0, 2.0, 1.0, 1.0, 0.0, 2.0, 0.0, 0.0, 0.0, 0.0, 0.0, 39.0, 4351.0, 4.0, 4.0, 39.0, 36.0, 2.0, 1.0], [8.667186351751544, 11.332813648248454], [0.43335931758757723, 0.5666406824124227], 1.0, 'Risk'], ['no_checking', 18, 'credits_paid_to_date', 'radio_tv', 4504, '100_to_500', '4_to_7', 3, 'female', 'none', 4, 'car_other', 41, 'none', 'own', 1, 'skilled', 1, 'yes', 'yes', 0.0, 1.0, 1.0, 1.0, 0.0, 0.0, 0.0, 0.0, 3.0, 0.0, 1.0, 1.0, 1.0, [0.0, 1.0, 3.0, 1.0, 1.0, 1.0, 0.0, 1.0, 0.0, 0.0, 0.0, 1.0, 0.0, 18.0, 4504.0, 3.0, 4.0, 18.0, 41.0, 1.0, 1.0], [10.401863483176685, 9.598136516823317], [0.5200931741588343, 0.47990682584116584], 0.0, 'No Risk'], ['less_0', 14, 'prior_payments_delayed', 'furniture', 1388, 'less_100', '1_to_4', 3, 'male', 'none', 2, 'real_estate', 30, 'none', 'own', 1, 'management_self-employed', 1, 'none', 'yes', 1.0, 0.0, 0.0, 0.0, 0.0, 0.0, 0.0, 2.0, 1.0, 0.0, 2.0, 0.0, 0.0, [21, [0, 2, 7, 10, 13, 14, 15, 16, 17, 18, 19, 20], [1.0, 1.0, 2.0, 2.0, 14.0, 1388.0, 3.0, 2.0, 14.0, 30.0, 1.0, 1.0]], [18.56588368800931, 1.4341163119906877], [0.9282941844004655, 0.07170581559953439], 0.0, 'No Risk'], ['no_checking', 25, 'prior_payments_delayed', 'radio_tv', 5711, '100_to_500', '1_to_4', 2, 'female', 'none', 2, 'savings_insurance', 39, 'none', 'own', 1, 'skilled', 1, 'none', 'yes', 0.0, 0.0, 0.0, 1.0, 0.0, 0.0, 0.0, 0.0, 3.0, 0.0, 0.0, 1.0, 0.0, [21, [2, 3, 5, 13, 14, 15, 16, 17, 18, 19, 20], [3.0, 1.0, 1.0, 25.0, 5711.0, 2.0, 2.0, 25.0, 39.0, 1.0, 1.0]], [13.632384813157, 6.367615186843002], [0.68161924065785, 0.3183807593421501], 0.0, 'No Risk'], ['0_to_200', 35, 'prior_payments_delayed', 'appliances', 3516, 'greater_1000', '4_to_7', 4, 'male', 'none', 2, 'car_other', 36, 'none', 'free', 2, 'skilled', 2, 'yes', 'yes', 2.0, 0.0, 1.0, 3.0, 0.0, 2.0, 0.0, 0.0, 4.0, 0.0, 1.0, 0.0, 1.0, [2.0, 0.0, 4.0, 3.0, 1.0, 0.0, 0.0, 1.0, 0.0, 2.0, 0.0, 1.0, 0.0, 35.0, 3516.0, 4.0, 2.0, 35.0, 36.0, 2.0, 2.0], [12.770027899401164, 7.229972100598836], [0.6385013949700582, 0.3614986050299418], 0.0, 'No Risk'], ['no_checking', 36, 'prior_payments_delayed', 'repairs', 6490, '500_to_1000', '1_to_4', 4, 'male', 'guarantor', 5, 'car_other', 49, 'none', 'free', 2, 'skilled', 1, 'yes', 'yes', 0.0, 0.0, 0.0, 2.0, 0.0, 2.0, 0.0, 0.0, 5.0, 2.0, 1.0, 0.0, 1.0, [0.0, 0.0, 5.0, 2.0, 0.0, 0.0, 2.0, 1.0, 0.0, 2.0, 0.0, 1.0, 0.0, 36.0, 6490.0, 4.0, 5.0, 36.0, 49.0, 2.0, 1.0], [6.551483524776436, 13.448516475223562], [0.32757417623882185, 0.6724258237611782], 1.0, 'Risk'], ['less_0', 11, 'all_credits_paid_back', 'car_used', 250, 'less_100', '1_to_4', 2, 'female', 'none', 3, 'savings_insurance', 23, 'stores', 'rent', 1, 'unskilled', 1, 'none', 'yes', 1.0, 3.0, 0.0, 0.0, 0.0, 1.0, 1.0, 1.0, 2.0, 0.0, 0.0, 1.0, 0.0, [1.0, 3.0, 2.0, 0.0, 0.0, 1.0, 0.0, 0.0, 1.0, 1.0, 1.0, 0.0, 0.0, 11.0, 250.0, 2.0, 3.0, 11.0, 23.0, 1.0, 1.0], [18.10657727624239, 1.8934227237576053], [0.9053288638121196, 0.09467113618788028], 0.0, 'No Risk'], ['less_0', 8, 'prior_payments_delayed', 'repairs', 1870, 'less_100', '1_to_4', 1, 'male', 'none', 2, 'real_estate', 28, 'none', 'own', 1, 'skilled', 1, 'none', 'yes', 1.0, 0.0, 0.0, 0.0, 0.0, 0.0, 0.0, 0.0, 5.0, 0.0, 2.0, 0.0, 0.0, [21, [0, 2, 7, 13, 14, 15, 16, 17, 18, 19, 20], [1.0, 5.0, 2.0, 8.0, 1870.0, 1.0, 2.0, 8.0, 28.0, 1.0, 1.0]], [18.238989702440286, 1.7610102975597128], [0.9119494851220142, 0.08805051487798564], 0.0, 'No Risk'], ['less_0', 4, 'all_credits_paid_back', 'education', 250, 'less_100', 'unemployed', 2, 'male', 'none', 1, 'real_estate', 19, 'stores', 'rent', 1, 'skilled', 1, 'none', 'yes', 1.0, 3.0, 4.0, 0.0, 0.0, 1.0, 1.0, 0.0, 7.0, 0.0, 2.0, 0.0, 0.0, [1.0, 3.0, 7.0, 0.0, 4.0, 0.0, 0.0, 2.0, 1.0, 1.0, 0.0, 0.0, 0.0, 4.0, 250.0, 2.0, 1.0, 4.0, 19.0, 1.0, 1.0], [19.489084600281362, 0.5109153997186346], [0.9744542300140683, 0.02554576998593174], 0.0, 'No Risk'], ['less_0', 17, 'credits_paid_to_date', 'furniture', 982, 'less_100', 'less_1', 1, 'female', 'none', 2, 'real_estate', 28, 'stores', 'own', 1, 'skilled', 1, 'none', 'yes', 1.0, 1.0, 3.0, 0.0, 0.0, 0.0, 1.0, 0.0, 1.0, 0.0, 2.0, 1.0, 0.0, [1.0, 1.0, 1.0, 0.0, 3.0, 1.0, 0.0, 2.0, 1.0, 0.0, 0.0, 0.0, 0.0, 17.0, 982.0, 1.0, 2.0, 17.0, 28.0, 1.0, 1.0], [19.23876664333538, 0.7612333566646179], [0.961938332166769, 0.038061667833230894], 0.0, 'No Risk'], ['0_to_200', 6, 'prior_payments_delayed', 'car_used', 5139, 'less_100', '1_to_4', 3, 'female', 'co-applicant', 3, 'unknown', 38, 'none', 'own', 1, 'skilled', 1, 'none', 'yes', 2.0, 0.0, 0.0, 0.0, 0.0, 0.0, 0.0, 0.0, 2.0, 1.0, 3.0, 1.0, 0.0, [2.0, 0.0, 2.0, 0.0, 0.0, 1.0, 1.0, 3.0, 0.0, 0.0, 0.0, 0.0, 0.0, 6.0, 5139.0, 3.0, 3.0, 6.0, 38.0, 1.0, 1.0], [13.863074754017148, 6.136925245982851], [0.6931537377008574, 0.3068462622991425], 0.0, 'No Risk'], ['no_checking', 33, 'outstanding_credit', 'appliances', 4914, 'unknown', 'greater_7', 5, 'male', 'co-applicant', 3, 'car_other', 50, 'none', 'free', 2, 'skilled', 2, 'yes', 'yes', 0.0, 2.0, 2.0, 4.0, 0.0, 2.0, 0.0, 0.0, 4.0, 1.0, 1.0, 0.0, 1.0, [0.0, 2.0, 4.0, 4.0, 2.0, 0.0, 1.0, 1.0, 0.0, 2.0, 0.0, 1.0, 0.0, 33.0, 4914.0, 5.0, 3.0, 33.0, 50.0, 2.0, 2.0], [2.426531248288756, 17.573468751711243], [0.1213265624144378, 0.8786734375855622], 1.0, 'Risk'], ['greater_200', 27, 'prior_payments_delayed', 'radio_tv', 5579, 'greater_1000', '4_to_7', 2, 'male', 'none', 4, 'car_other', 36, 'stores', 'own', 2, 'unskilled', 1, 'yes', 'yes', 3.0, 0.0, 1.0, 3.0, 0.0, 0.0, 1.0, 1.0, 3.0, 0.0, 1.0, 0.0, 1.0, [3.0, 0.0, 3.0, 3.0, 1.0, 0.0, 0.0, 1.0, 1.0, 0.0, 1.0, 1.0, 0.0, 27.0, 5579.0, 2.0, 4.0, 27.0, 36.0, 2.0, 1.0], [12.38209367861732, 7.617906321382679], [0.619104683930866, 0.38089531606913396], 0.0, 'No Risk'], ['no_checking', 22, 'outstanding_credit', 'car_used', 3426, 'unknown', '4_to_7', 4, 'male', 'none', 3, 'car_other', 35, 'none', 'own', 2, 'skilled', 1, 'none', 'yes', 0.0, 2.0, 1.0, 4.0, 0.0, 0.0, 0.0, 0.0, 2.0, 0.0, 1.0, 0.0, 0.0, [0.0, 2.0, 2.0, 4.0, 1.0, 0.0, 0.0, 1.0, 0.0, 0.0, 0.0, 0.0, 0.0, 22.0, 3426.0, 4.0, 3.0, 22.0, 35.0, 2.0, 1.0], [11.370946258262489, 8.629053741737511], [0.5685473129131244, 0.43145268708687556], 0.0, 'No Risk'], ['less_0', 11, 'all_credits_paid_back', 'car_new', 250, 'less_100', '1_to_4', 3, 'female', 'co-applicant', 1, 'savings_insurance', 35, 'stores', 'free', 1, 'unskilled', 1, 'none', 'yes', 1.0, 3.0, 0.0, 0.0, 0.0, 2.0, 1.0, 1.0, 0.0, 1.0, 0.0, 1.0, 0.0, [1.0, 3.0, 0.0, 0.0, 0.0, 1.0, 1.0, 0.0, 1.0, 2.0, 1.0, 0.0, 0.0, 11.0, 250.0, 3.0, 1.0, 11.0, 35.0, 1.0, 1.0], [18.612563394641104, 1.3874366053588962], [0.9306281697320552, 0.06937183026794481], 0.0, 'No Risk'], ['no_checking', 33, 'outstanding_credit', 'appliances', 4777, 'unknown', '4_to_7', 4, 'male', 'none', 3, 'car_other', 55, 'none', 'free', 3, 'skilled', 2, 'yes', 'yes', 0.0, 2.0, 1.0, 4.0, 0.0, 2.0, 0.0, 0.0, 4.0, 0.0, 1.0, 0.0, 1.0, [0.0, 2.0, 4.0, 4.0, 1.0, 0.0, 0.0, 1.0, 0.0, 2.0, 0.0, 1.0, 0.0, 33.0, 4777.0, 4.0, 3.0, 33.0, 55.0, 3.0, 2.0], [8.685633566230315, 11.314366433769683], [0.43428167831151576, 0.5657183216884841], 1.0, 'Risk'], ['no_checking', 23, 'prior_payments_delayed', 'education', 5349, 'greater_1000', '4_to_7', 4, 'male', 'none', 3, 'car_other', 36, 'none', 'own', 2, 'skilled', 1, 'none', 'yes', 0.0, 0.0, 1.0, 3.0, 0.0, 0.0, 0.0, 0.0, 7.0, 0.0, 1.0, 0.0, 0.0, [21, [2, 3, 4, 7, 13, 14, 15, 16, 17, 18, 19, 20], [7.0, 3.0, 1.0, 1.0, 23.0, 5349.0, 4.0, 3.0, 23.0, 36.0, 2.0, 1.0]], [11.038831347938052, 8.961168652061948], [0.5519415673969026, 0.4480584326030974], 0.0, 'No Risk'], ['no_checking', 37, 'outstanding_credit', 'appliances', 5620, 'greater_1000', 'greater_7', 3, 'male', 'co-applicant', 3, 'car_other', 62, 'none', 'free', 2, 'skilled', 2, 'yes', 'yes', 0.0, 2.0, 2.0, 3.0, 0.0, 2.0, 0.0, 0.0, 4.0, 1.0, 1.0, 0.0, 1.0, [0.0, 2.0, 4.0, 3.0, 2.0, 0.0, 1.0, 1.0, 0.0, 2.0, 0.0, 1.0, 0.0, 37.0, 5620.0, 3.0, 3.0, 37.0, 62.0, 2.0, 2.0], [2.3635748522000455, 17.63642514779995], [0.1181787426100023, 0.8818212573899977], 1.0, 'Risk'], ['less_0', 9, 'all_credits_paid_back', 'car_used', 1489, 'less_100', 'less_1', 1, 'female', 'none', 1, 'real_estate', 20, 'stores', 'own', 1, 'skilled', 1, 'none', 'yes', 1.0, 3.0, 3.0, 0.0, 0.0, 0.0, 1.0, 0.0, 2.0, 0.0, 2.0, 1.0, 0.0, [1.0, 3.0, 2.0, 0.0, 3.0, 1.0, 0.0, 2.0, 1.0, 0.0, 0.0, 0.0, 0.0, 9.0, 1489.0, 1.0, 1.0, 9.0, 20.0, 1.0, 1.0], [19.388741682845332, 0.6112583171546674], [0.9694370841422666, 0.03056291585773337], 0.0, 'No Risk'], ['no_checking', 25, 'prior_payments_delayed', 'education', 6981, '100_to_500', 'greater_7', 4, 'male', 'guarantor', 3, 'car_other', 63, 'none', 'own', 2, 'skilled', 1, 'yes', 'yes', 0.0, 0.0, 2.0, 1.0, 0.0, 0.0, 0.0, 0.0, 7.0, 2.0, 1.0, 0.0, 1.0, [0.0, 0.0, 7.0, 1.0, 2.0, 0.0, 2.0, 1.0, 0.0, 0.0, 0.0, 1.0, 0.0, 25.0, 6981.0, 4.0, 3.0, 25.0, 63.0, 2.0, 1.0], [4.350299553105446, 15.649700446894554], [0.21751497765527228, 0.7824850223447277], 1.0, 'Risk'], ['no_checking', 25, 'outstanding_credit', 'vacation', 5464, '500_to_1000', 'greater_7', 3, 'male', 'none', 4, 'car_other', 56, 'none', 'free', 2, 'skilled', 1, 'yes', 'no', 0.0, 2.0, 2.0, 2.0, 1.0, 2.0, 0.0, 0.0, 6.0, 0.0, 1.0, 0.0, 1.0, [0.0, 2.0, 6.0, 2.0, 2.0, 0.0, 0.0, 1.0, 0.0, 2.0, 0.0, 1.0, 1.0, 25.0, 5464.0, 3.0, 4.0, 25.0, 56.0, 2.0, 1.0], [5.813923125255174, 14.186076874744824], [0.2906961562627587, 0.7093038437372412], 1.0, 'Risk'], ['less_0', 19, 'credits_paid_to_date', 'car_used', 1875, 'less_100', '1_to_4', 3, 'male', 'none', 3, 'car_other', 35, 'none', 'own', 1, 'skilled', 1, 'none', 'yes', 1.0, 1.0, 0.0, 0.0, 0.0, 0.0, 0.0, 0.0, 2.0, 0.0, 1.0, 0.0, 0.0, [21, [0, 1, 2, 7, 13, 14, 15, 16, 17, 18, 19, 20], [1.0, 1.0, 2.0, 1.0, 19.0, 1875.0, 3.0, 3.0, 19.0, 35.0, 1.0, 1.0]], [14.5966930444467, 5.4033069555533], [0.729834652222335, 0.270165347777665], 0.0, 'No Risk'], ['less_0', 15, 'prior_payments_delayed', 'car_new', 3301, 'less_100', '4_to_7', 3, 'male', 'none', 3, 'unknown', 38, 'none', 'rent', 1, 'skilled', 1, 'none', 'yes', 1.0, 0.0, 1.0, 0.0, 0.0, 1.0, 0.0, 0.0, 0.0, 0.0, 3.0, 0.0, 0.0, [21, [0, 4, 7, 9, 13, 14, 15, 16, 17, 18, 19, 20], [1.0, 1.0, 3.0, 1.0, 15.0, 3301.0, 3.0, 3.0, 15.0, 38.0, 1.0, 1.0]], [15.184271478011386, 4.815728521988614], [0.7592135739005693, 0.2407864260994307], 0.0, 'No Risk'], ['greater_200', 6, 'credits_paid_to_date', 'retraining', 3481, '500_to_1000', '4_to_7', 4, 'male', 'none', 2, 'car_other', 31, 'stores', 'rent', 2, 'unskilled', 1, 'none', 'yes', 3.0, 1.0, 1.0, 2.0, 0.0, 1.0, 1.0, 1.0, 8.0, 0.0, 1.0, 0.0, 0.0, [3.0, 1.0, 8.0, 2.0, 1.0, 0.0, 0.0, 1.0, 1.0, 1.0, 1.0, 0.0, 0.0, 6.0, 3481.0, 4.0, 2.0, 6.0, 31.0, 2.0, 1.0], [15.289439614473064, 4.710560385526936], [0.7644719807236532, 0.23552801927634678], 0.0, 'No Risk'], ['greater_200', 21, 'credits_paid_to_date', 'repairs', 4639, 'greater_1000', '1_to_4', 4, 'female', 'none', 3, 'car_other', 46, 'none', 'own', 2, 'skilled', 1, 'yes', 'yes', 3.0, 1.0, 0.0, 3.0, 0.0, 0.0, 0.0, 0.0, 5.0, 0.0, 1.0, 1.0, 1.0, [3.0, 1.0, 5.0, 3.0, 0.0, 1.0, 0.0, 1.0, 0.0, 0.0, 0.0, 1.0, 0.0, 21.0, 4639.0, 4.0, 3.0, 21.0, 46.0, 2.0, 1.0], [11.283429247731842, 8.71657075226816], [0.5641714623865921, 0.435828537613408], 0.0, 'No Risk'], ['less_0', 14, 'all_credits_paid_back', 'car_used', 250, 'less_100', '1_to_4', 2, 'male', 'none', 2, 'real_estate', 24, 'stores', 'own', 1, 'unskilled', 1, 'none', 'yes', 1.0, 3.0, 0.0, 0.0, 0.0, 0.0, 1.0, 1.0, 2.0, 0.0, 2.0, 0.0, 0.0, [1.0, 3.0, 2.0, 0.0, 0.0, 0.0, 0.0, 2.0, 1.0, 0.0, 1.0, 0.0, 0.0, 14.0, 250.0, 2.0, 2.0, 14.0, 24.0, 1.0, 1.0], [19.19092049051194, 0.8090795094880604], [0.9595460245255969, 0.04045397547440302], 0.0, 'No Risk'], ['no_checking', 36, 'prior_payments_delayed', 'vacation', 8405, 'greater_1000', 'greater_7', 5, 'male', 'co-applicant', 5, 'car_other', 33, 'none', 'free', 2, 'skilled', 2, 'yes', 'yes', 0.0, 0.0, 2.0, 3.0, 0.0, 2.0, 0.0, 0.0, 6.0, 1.0, 1.0, 0.0, 1.0, [0.0, 0.0, 6.0, 3.0, 2.0, 0.0, 1.0, 1.0, 0.0, 2.0, 0.0, 1.0, 0.0, 36.0, 8405.0, 5.0, 5.0, 36.0, 33.0, 2.0, 2.0], [4.675597555096308, 15.324402444903694], [0.2337798777548154, 0.7662201222451847], 1.0, 'Risk'], ['less_0', 21, 'prior_payments_delayed', 'furniture', 6279, '500_to_1000', '1_to_4', 3, 'male', 'none', 2, 'car_other', 39, 'bank', 'own', 2, 'unemployed', 1, 'yes', 'yes', 1.0, 0.0, 0.0, 2.0, 0.0, 0.0, 2.0, 3.0, 1.0, 0.0, 1.0, 0.0, 1.0, [1.0, 0.0, 1.0, 2.0, 0.0, 0.0, 0.0, 1.0, 2.0, 0.0, 3.0, 1.0, 0.0, 21.0, 6279.0, 3.0, 2.0, 21.0, 39.0, 2.0, 1.0], [14.383928245661458, 5.616071754338542], [0.719196412283073, 0.2808035877169271], 0.0, 'No Risk'], ['greater_200', 19, 'credits_paid_to_date', 'car_new', 1549, '500_to_1000', '1_to_4', 2, 'male', 'none', 3, 'savings_insurance', 28, 'none', 'own', 1, 'skilled', 1, 'yes', 'yes', 3.0, 1.0, 0.0, 2.0, 0.0, 0.0, 0.0, 0.0, 0.0, 0.0, 0.0, 0.0, 1.0, [21, [0, 1, 3, 11, 13, 14, 15, 16, 17, 18, 19, 20], [3.0, 1.0, 2.0, 1.0, 19.0, 1549.0, 2.0, 3.0, 19.0, 28.0, 1.0, 1.0]], [15.864248298505878, 4.135751701494122], [0.7932124149252939, 0.20678758507470613], 0.0, 'No Risk'], ['no_checking', 30, 'prior_payments_delayed', 'appliances', 5957, 'unknown', '1_to_4', 4, 'male', 'none', 3, 'unknown', 43, 'none', 'own', 2, 'skilled', 1, 'none', 'yes', 0.0, 0.0, 0.0, 4.0, 0.0, 0.0, 0.0, 0.0, 4.0, 0.0, 3.0, 0.0, 0.0, [21, [2, 3, 7, 13, 14, 15, 16, 17, 18, 19, 20], [4.0, 4.0, 3.0, 30.0, 5957.0, 4.0, 3.0, 30.0, 43.0, 2.0, 1.0]], [11.238929919152648, 8.761070080847352], [0.5619464959576324, 0.4380535040423676], 0.0, 'No Risk'], ['no_checking', 9, 'credits_paid_to_date', 'car_new', 1776, 'less_100', 'unemployed', 3, 'female', 'none', 3, 'savings_insurance', 27, 'stores', 'rent', 1, 'unskilled', 1, 'none', 'yes', 0.0, 1.0, 4.0, 0.0, 0.0, 1.0, 1.0, 1.0, 0.0, 0.0, 0.0, 1.0, 0.0, [0.0, 1.0, 0.0, 0.0, 4.0, 1.0, 0.0, 0.0, 1.0, 1.0, 1.0, 0.0, 0.0, 9.0, 1776.0, 3.0, 3.0, 9.0, 27.0, 1.0, 1.0], [18.10703913943976, 1.8929608605602404], [0.905351956971988, 0.09464804302801202], 0.0, 'No Risk'], ['no_checking', 23, 'outstanding_credit', 'business', 3049, '500_to_1000', 'greater_7', 5, 'male', 'none', 3, 'car_other', 51, 'none', 'own', 1, 'management_self-employed', 1, 'yes', 'yes', 0.0, 2.0, 2.0, 2.0, 0.0, 0.0, 0.0, 2.0, 9.0, 0.0, 1.0, 0.0, 1.0, [0.0, 2.0, 9.0, 2.0, 2.0, 0.0, 0.0, 1.0, 0.0, 0.0, 2.0, 1.0, 0.0, 23.0, 3049.0, 5.0, 3.0, 23.0, 51.0, 1.0, 1.0], [8.1099820514769, 11.890017948523099], [0.40549910257384497, 0.594500897426155], 1.0, 'Risk'], ['0_to_200', 5, 'all_credits_paid_back', 'car_used', 250, '100_to_500', '1_to_4', 2, 'female', 'none', 1, 'car_other', 32, 'none', 'own', 1, 'skilled', 1, 'none', 'yes', 2.0, 3.0, 0.0, 1.0, 0.0, 0.0, 0.0, 0.0, 2.0, 0.0, 1.0, 1.0, 0.0, [2.0, 3.0, 2.0, 1.0, 0.0, 1.0, 0.0, 1.0, 0.0, 0.0, 0.0, 0.0, 0.0, 5.0, 250.0, 2.0, 1.0, 5.0, 32.0, 1.0, 1.0], [17.875548495310206, 2.1244515046897963], [0.8937774247655103, 0.10622257523448982], 0.0, 'No Risk'], ['0_to_200', 20, 'credits_paid_to_date', 'furniture', 1498, 'less_100', '1_to_4', 2, 'male', 'none', 2, 'real_estate', 33, 'none', 'own', 2, 'skilled', 1, 'none', 'yes', 2.0, 1.0, 0.0, 0.0, 0.0, 0.0, 0.0, 0.0, 1.0, 0.0, 2.0, 0.0, 0.0, [21, [0, 1, 2, 7, 13, 14, 15, 16, 17, 18, 19, 20], [2.0, 1.0, 1.0, 2.0, 20.0, 1498.0, 2.0, 2.0, 20.0, 33.0, 2.0, 1.0]], [15.92103780399603, 4.078962196003969], [0.7960518901998015, 0.20394810980019845], 0.0, 'No Risk'], ['less_0', 16, 'prior_payments_delayed', 'car_used', 3922, 'less_100', '4_to_7', 4, 'male', 'none', 3, 'car_other', 39, 'none', 'own', 1, 'skilled', 1, 'none', 'yes', 1.0, 0.0, 1.0, 0.0, 0.0, 0.0, 0.0, 0.0, 2.0, 0.0, 1.0, 0.0, 0.0, [21, [0, 2, 4, 7, 13, 14, 15, 16, 17, 18, 19, 20], [1.0, 2.0, 1.0, 1.0, 16.0, 3922.0, 4.0, 3.0, 16.0, 39.0, 1.0, 1.0]], [14.271718675776885, 5.728281324223115], [0.7135859337888443, 0.2864140662111557], 0.0, 'No Risk'], ['no_checking', 40, 'prior_payments_delayed', 'furniture', 6326, '500_to_1000', 'greater_7', 5, 'male', 'co-applicant', 4, 'savings_insurance', 62, 'none', 'own', 2, 'skilled', 2, 'yes', 'yes', 0.0, 0.0, 2.0, 2.0, 0.0, 0.0, 0.0, 0.0, 1.0, 1.0, 0.0, 0.0, 1.0, [0.0, 0.0, 1.0, 2.0, 2.0, 0.0, 1.0, 0.0, 0.0, 0.0, 0.0, 1.0, 0.0, 40.0, 6326.0, 5.0, 4.0, 40.0, 62.0, 2.0, 2.0], [4.972340426105647, 15.027659573894352], [0.24861702130528235, 0.7513829786947176], 1.0, 'Risk'], ['0_to_200', 20, 'prior_payments_delayed', 'car_used', 2586, '500_to_1000', '1_to_4', 3, 'female', 'none', 3, 'car_other', 33, 'none', 'rent', 1, 'skilled', 1, 'none', 'yes', 2.0, 0.0, 0.0, 2.0, 0.0, 1.0, 0.0, 0.0, 2.0, 0.0, 1.0, 1.0, 0.0, [2.0, 0.0, 2.0, 2.0, 0.0, 1.0, 0.0, 1.0, 0.0, 1.0, 0.0, 0.0, 0.0, 20.0, 2586.0, 3.0, 3.0, 20.0, 33.0, 1.0, 1.0], [14.728784737962096, 5.271215262037905], [0.7364392368981048, 0.26356076310189525], 0.0, 'No Risk'], ['0_to_200', 4, 'prior_payments_delayed', 'car_used', 1697, '100_to_500', '1_to_4', 2, 'female', 'none', 1, 'car_other', 39, 'none', 'own', 2, 'skilled', 1, 'none', 'yes', 2.0, 0.0, 0.0, 1.0, 0.0, 0.0, 0.0, 0.0, 2.0, 0.0, 1.0, 1.0, 0.0, [2.0, 0.0, 2.0, 1.0, 0.0, 1.0, 0.0, 1.0, 0.0, 0.0, 0.0, 0.0, 0.0, 4.0, 1697.0, 2.0, 1.0, 4.0, 39.0, 2.0, 1.0], [15.172688589422417, 4.827311410577584], [0.7586344294711209, 0.24136557052887922], 0.0, 'No Risk'], ['0_to_200', 15, 'credits_paid_to_date', 'repairs', 3689, 'less_100', 'less_1', 2, 'female', 'none', 1, 'savings_insurance', 28, 'none', 'own', 1, 'skilled', 1, 'none', 'yes', 2.0, 1.0, 3.0, 0.0, 0.0, 0.0, 0.0, 0.0, 5.0, 0.0, 0.0, 1.0, 0.0, [2.0, 1.0, 5.0, 0.0, 3.0, 1.0, 0.0, 0.0, 0.0, 0.0, 0.0, 0.0, 0.0, 15.0, 3689.0, 2.0, 1.0, 15.0, 28.0, 1.0, 1.0], [18.73410234667342, 1.2658976533265733], [0.9367051173336713, 0.06329488266632868], 0.0, 'No Risk'], ['less_0', 21, 'prior_payments_delayed', 'radio_tv', 1824, 'less_100', '4_to_7', 3, 'female', 'none', 1, 'savings_insurance', 38, 'stores', 'rent', 1, 'skilled', 1, 'yes', 'yes', 1.0, 0.0, 1.0, 0.0, 0.0, 1.0, 1.0, 0.0, 3.0, 0.0, 0.0, 1.0, 1.0, [1.0, 0.0, 3.0, 0.0, 1.0, 1.0, 0.0, 0.0, 1.0, 1.0, 0.0, 1.0, 0.0, 21.0, 1824.0, 3.0, 1.0, 21.0, 38.0, 1.0, 1.0], [15.775393216510704, 4.224606783489298], [0.7887696608255352, 0.2112303391744649], 0.0, 'No Risk'], ['no_checking', 21, 'credits_paid_to_date', 'car_used', 6265, '100_to_500', 'greater_7', 3, 'male', 'none', 3, 'car_other', 41, 'stores', 'own', 1, 'unskilled', 1, 'none', 'yes', 0.0, 1.0, 2.0, 1.0, 0.0, 0.0, 1.0, 1.0, 2.0, 0.0, 1.0, 0.0, 0.0, [0.0, 1.0, 2.0, 1.0, 2.0, 0.0, 0.0, 1.0, 1.0, 0.0, 1.0, 0.0, 0.0, 21.0, 6265.0, 3.0, 3.0, 21.0, 41.0, 1.0, 1.0], [10.848830510401614, 9.151169489598384], [0.5424415255200807, 0.4575584744799192], 0.0, 'No Risk'], ['0_to_200', 28, 'credits_paid_to_date', 'education', 2036, 'less_100', 'less_1', 3, 'male', 'co-applicant', 2, 'savings_insurance', 33, 'none', 'own', 1, 'skilled', 1, 'yes', 'yes', 2.0, 1.0, 3.0, 0.0, 0.0, 0.0, 0.0, 0.0, 7.0, 1.0, 0.0, 0.0, 1.0, [2.0, 1.0, 7.0, 0.0, 3.0, 0.0, 1.0, 0.0, 0.0, 0.0, 0.0, 1.0, 0.0, 28.0, 2036.0, 3.0, 2.0, 28.0, 33.0, 1.0, 1.0], [16.041402082481643, 3.9585979175183605], [0.802070104124082, 0.197929895875918], 0.0, 'No Risk'], ['less_0', 6, 'no_credits', 'car_new', 250, 'less_100', '1_to_4', 2, 'male', 'none', 1, 'real_estate', 22, 'stores', 'rent', 1, 'skilled', 1, 'none', 'yes', 1.0, 4.0, 0.0, 0.0, 0.0, 1.0, 1.0, 0.0, 0.0, 0.0, 2.0, 0.0, 0.0, [1.0, 4.0, 0.0, 0.0, 0.0, 0.0, 0.0, 2.0, 1.0, 1.0, 0.0, 0.0, 0.0, 6.0, 250.0, 2.0, 1.0, 6.0, 22.0, 1.0, 1.0], [19.203463412406215, 0.796536587593785], [0.9601731706203107, 0.039826829379689246], 0.0, 'No Risk'], ['no_checking', 42, 'prior_payments_delayed', 'radio_tv', 4921, 'greater_1000', '4_to_7', 4, 'male', 'co-applicant', 5, 'car_other', 46, 'none', 'own', 2, 'skilled', 2, 'yes', 'yes', 0.0, 0.0, 1.0, 3.0, 0.0, 0.0, 0.0, 0.0, 3.0, 1.0, 1.0, 0.0, 1.0, [0.0, 0.0, 3.0, 3.0, 1.0, 0.0, 1.0, 1.0, 0.0, 0.0, 0.0, 1.0, 0.0, 42.0, 4921.0, 4.0, 5.0, 42.0, 46.0, 2.0, 2.0], [6.110224721882089, 13.889775278117908], [0.3055112360941045, 0.6944887639058955], 1.0, 'Risk'], ['no_checking', 29, 'prior_payments_delayed', 'appliances', 4686, '100_to_500', 'greater_7', 4, 'male', 'none', 5, 'unknown', 31, 'none', 'own', 2, 'skilled', 1, 'none', 'yes', 0.0, 0.0, 2.0, 1.0, 0.0, 0.0, 0.0, 0.0, 4.0, 0.0, 3.0, 0.0, 0.0, [21, [2, 3, 4, 7, 13, 14, 15, 16, 17, 18, 19, 20], [4.0, 1.0, 2.0, 3.0, 29.0, 4686.0, 4.0, 5.0, 29.0, 31.0, 2.0, 1.0]], [8.918548901072842, 11.081451098927154], [0.4459274450536422, 0.5540725549463578], 1.0, 'Risk'], ['less_0', 20, 'credits_paid_to_date', 'appliances', 1985, 'less_100', 'less_1', 3, 'female', 'none', 3, 'savings_insurance', 24, 'none', 'own', 1, 'skilled', 1, 'none', 'yes', 1.0, 1.0, 3.0, 0.0, 0.0, 0.0, 0.0, 0.0, 4.0, 0.0, 0.0, 1.0, 0.0, [1.0, 1.0, 4.0, 0.0, 3.0, 1.0, 0.0, 0.0, 0.0, 0.0, 0.0, 0.0, 0.0, 20.0, 1985.0, 3.0, 3.0, 20.0, 24.0, 1.0, 1.0], [17.442722744538585, 2.5572772554614156], [0.8721361372269293, 0.12786386277307077], 0.0, 'No Risk'], ['no_checking', 43, 'prior_payments_delayed', 'repairs', 12058, '500_to_1000', 'greater_7', 6, 'male', 'guarantor', 4, 'unknown', 74, 'none', 'free', 2, 'skilled', 1, 'yes', 'yes', 0.0, 0.0, 2.0, 2.0, 0.0, 2.0, 0.0, 0.0, 5.0, 2.0, 3.0, 0.0, 1.0, [0.0, 0.0, 5.0, 2.0, 2.0, 0.0, 2.0, 3.0, 0.0, 2.0, 0.0, 1.0, 0.0, 43.0, 12058.0, 6.0, 4.0, 43.0, 74.0, 2.0, 1.0], [1.5324420998902322, 18.467557900109764], [0.07662210499451162, 0.9233778950054884], 1.0, 'Risk'], ['0_to_200', 14, 'credits_paid_to_date', 'car_used', 2988, 'less_100', 'less_1', 3, 'male', 'none', 3, 'real_estate', 44, 'none', 'own', 1, 'management_self-employed', 2, 'none', 'yes', 2.0, 1.0, 3.0, 0.0, 0.0, 0.0, 0.0, 2.0, 2.0, 0.0, 2.0, 0.0, 0.0, [2.0, 1.0, 2.0, 0.0, 3.0, 0.0, 0.0, 2.0, 0.0, 0.0, 2.0, 0.0, 0.0, 14.0, 2988.0, 3.0, 3.0, 14.0, 44.0, 1.0, 2.0], [17.040474432624247, 2.9595255673757546], [0.8520237216312123, 0.14797627836878774], 0.0, 'No Risk'], ['0_to_200', 4, 'all_credits_paid_back', 'car_new', 250, 'less_100', 'less_1', 2, 'female', 'none', 1, 'real_estate', 24, 'none', 'rent', 1, 'skilled', 1, 'none', 'yes', 2.0, 3.0, 3.0, 0.0, 0.0, 1.0, 0.0, 0.0, 0.0, 0.0, 2.0, 1.0, 0.0, [2.0, 3.0, 0.0, 0.0, 3.0, 1.0, 0.0, 2.0, 0.0, 1.0, 0.0, 0.0, 0.0, 4.0, 250.0, 2.0, 1.0, 4.0, 24.0, 1.0, 1.0], [19.569305393913247, 0.43069460608675353], [0.9784652696956624, 0.021534730304337675], 0.0, 'No Risk'], ['0_to_200', 27, 'credits_paid_to_date', 'radio_tv', 5980, 'less_100', '1_to_4', 4, 'male', 'none', 4, 'car_other', 37, 'none', 'own', 2, 'skilled', 1, 'yes', 'yes', 2.0, 1.0, 0.0, 0.0, 0.0, 0.0, 0.0, 0.0, 3.0, 0.0, 1.0, 0.0, 1.0, [2.0, 1.0, 3.0, 0.0, 0.0, 0.0, 0.0, 1.0, 0.0, 0.0, 0.0, 1.0, 0.0, 27.0, 5980.0, 4.0, 4.0, 27.0, 37.0, 2.0, 1.0], [12.702165049681891, 7.297834950318108], [0.6351082524840945, 0.36489174751590536], 0.0, 'No Risk'], ['less_0', 12, 'all_credits_paid_back', 'car_new', 250, 'less_100', 'less_1', 2, 'male', 'none', 3, 'savings_insurance', 21, 'stores', 'rent', 1, 'skilled', 1, 'none', 'yes', 1.0, 3.0, 3.0, 0.0, 0.0, 1.0, 1.0, 0.0, 0.0, 0.0, 0.0, 0.0, 0.0, [1.0, 3.0, 0.0, 0.0, 3.0, 0.0, 0.0, 0.0, 1.0, 1.0, 0.0, 0.0, 0.0, 12.0, 250.0, 2.0, 3.0, 12.0, 21.0, 1.0, 1.0], [18.97236599654, 1.0276340034599993], [0.948618299827, 0.051381700172999964], 0.0, 'No Risk'], ['no_checking', 32, 'prior_payments_delayed', 'business', 6006, '100_to_500', '1_to_4', 4, 'male', 'none', 4, 'unknown', 37, 'none', 'free', 2, 'management_self-employed', 1, 'yes', 'yes', 0.0, 0.0, 0.0, 1.0, 0.0, 2.0, 0.0, 2.0, 9.0, 0.0, 3.0, 0.0, 1.0, [0.0, 0.0, 9.0, 1.0, 0.0, 0.0, 0.0, 3.0, 0.0, 2.0, 2.0, 1.0, 0.0, 32.0, 6006.0, 4.0, 4.0, 32.0, 37.0, 2.0, 1.0], [12.08339590765795, 7.916604092342048], [0.6041697953828975, 0.3958302046171024], 0.0, 'No Risk'], ['no_checking', 46, 'outstanding_credit', 'retraining', 7048, 'unknown', 'greater_7', 6, 'male', 'co-applicant', 5, 'unknown', 50, 'none', 'free', 3, 'skilled', 2, 'yes', 'yes', 0.0, 2.0, 2.0, 4.0, 0.0, 2.0, 0.0, 0.0, 8.0, 1.0, 3.0, 0.0, 1.0, [0.0, 2.0, 8.0, 4.0, 2.0, 0.0, 1.0, 3.0, 0.0, 2.0, 0.0, 1.0, 0.0, 46.0, 7048.0, 6.0, 5.0, 46.0, 50.0, 3.0, 2.0], [1.2818616064268675, 18.71813839357313], [0.06409308032134338, 0.9359069196786566], 1.0, 'Risk'], ['less_0', 15, 'prior_payments_delayed', 'car_new', 5401, '500_to_1000', '1_to_4', 3, 'male', 'none', 3, 'unknown', 32, 'none', 'own', 2, 'skilled', 1, 'none', 'yes', 1.0, 0.0, 0.0, 2.0, 0.0, 0.0, 0.0, 0.0, 0.0, 0.0, 3.0, 0.0, 0.0, [21, [0, 3, 7, 13, 14, 15, 16, 17, 18, 19, 20], [1.0, 2.0, 3.0, 15.0, 5401.0, 3.0, 3.0, 15.0, 32.0, 2.0, 1.0]], [14.917224824821165, 5.082775175178832], [0.7458612412410583, 0.25413875875894165], 0.0, 'No Risk'], ['no_checking', 35, 'outstanding_credit', 'repairs', 8413, '500_to_1000', 'greater_7', 5, 'male', 'co-applicant', 5, 'unknown', 51, 'none', 'free', 4, 'skilled', 2, 'yes', 'yes', 0.0, 2.0, 2.0, 2.0, 0.0, 2.0, 0.0, 0.0, 5.0, 1.0, 3.0, 0.0, 1.0, [0.0, 2.0, 5.0, 2.0, 2.0, 0.0, 1.0, 3.0, 0.0, 2.0, 0.0, 1.0, 0.0, 35.0, 8413.0, 5.0, 5.0, 35.0, 51.0, 4.0, 2.0], [0.9346146167263265, 19.06538538327367], [0.046730730836316334, 0.9532692691636837], 1.0, 'Risk'], ['no_checking', 39, 'outstanding_credit', 'appliances', 5439, 'unknown', 'greater_7', 5, 'male', 'co-applicant', 4, 'car_other', 37, 'none', 'free', 2, 'skilled', 1, 'yes', 'yes', 0.0, 2.0, 2.0, 4.0, 0.0, 2.0, 0.0, 0.0, 4.0, 1.0, 1.0, 0.0, 1.0, [0.0, 2.0, 4.0, 4.0, 2.0, 0.0, 1.0, 1.0, 0.0, 2.0, 0.0, 1.0, 0.0, 39.0, 5439.0, 5.0, 4.0, 39.0, 37.0, 2.0, 1.0], [4.253145469446954, 15.746854530553048], [0.2126572734723477, 0.7873427265276524], 1.0, 'Risk'], ['less_0', 10, 'all_credits_paid_back', 'vacation', 250, 'less_100', '1_to_4', 2, 'female', 'none', 1, 'real_estate', 29, 'none', 'own', 1, 'skilled', 1, 'none', 'yes', 1.0, 3.0, 0.0, 0.0, 0.0, 0.0, 0.0, 0.0, 6.0, 0.0, 2.0, 1.0, 0.0, [1.0, 3.0, 6.0, 0.0, 0.0, 1.0, 0.0, 2.0, 0.0, 0.0, 0.0, 0.0, 0.0, 10.0, 250.0, 2.0, 1.0, 10.0, 29.0, 1.0, 1.0], [19.27169590194453, 0.7283040980554711], [0.9635847950972265, 0.03641520490277356], 0.0, 'No Risk'], ['0_to_200', 15, 'credits_paid_to_date', 'furniture', 3252, 'less_100', '4_to_7', 2, 'male', 'none', 3, 'car_other', 35, 'none', 'rent', 1, 'skilled', 1, 'yes', 'yes', 2.0, 1.0, 1.0, 0.0, 0.0, 1.0, 0.0, 0.0, 1.0, 0.0, 1.0, 0.0, 1.0, [2.0, 1.0, 1.0, 0.0, 1.0, 0.0, 0.0, 1.0, 0.0, 1.0, 0.0, 1.0, 0.0, 15.0, 3252.0, 2.0, 3.0, 15.0, 35.0, 1.0, 1.0], [14.482673814724876, 5.517326185275123], [0.7241336907362438, 0.27586630926375616], 0.0, 'No Risk'], ['less_0', 8, 'all_credits_paid_back', 'car_used', 250, '100_to_500', 'less_1', 1, 'female', 'none', 2, 'car_other', 35, 'stores', 'rent', 1, 'skilled', 1, 'none', 'yes', 1.0, 3.0, 3.0, 1.0, 0.0, 1.0, 1.0, 0.0, 2.0, 0.0, 1.0, 1.0, 0.0, [1.0, 3.0, 2.0, 1.0, 3.0, 1.0, 0.0, 1.0, 1.0, 1.0, 0.0, 0.0, 0.0, 8.0, 250.0, 1.0, 2.0, 8.0, 35.0, 1.0, 1.0], [17.910236998016625, 2.0897630019833766], [0.8955118499008312, 0.10448815009916883], 0.0, 'No Risk'], ['no_checking', 24, 'outstanding_credit', 'appliances', 3381, 'greater_1000', '1_to_4', 4, 'male', 'guarantor', 4, 'savings_insurance', 46, 'none', 'free', 1, 'skilled', 1, 'yes', 'yes', 0.0, 2.0, 0.0, 3.0, 0.0, 2.0, 0.0, 0.0, 4.0, 2.0, 0.0, 0.0, 1.0, [0.0, 2.0, 4.0, 3.0, 0.0, 0.0, 2.0, 0.0, 0.0, 2.0, 0.0, 1.0, 0.0, 24.0, 3381.0, 4.0, 4.0, 24.0, 46.0, 1.0, 1.0], [11.67759238955176, 8.32240761044824], [0.583879619477588, 0.41612038052241196], 0.0, 'No Risk'], ['0_to_200', 11, 'prior_payments_delayed', 'furniture', 3637, 'greater_1000', '1_to_4', 2, 'female', 'co-applicant', 2, 'car_other', 30, 'stores', 'own', 1, 'unskilled', 1, 'none', 'yes', 2.0, 0.0, 0.0, 3.0, 0.0, 0.0, 1.0, 1.0, 1.0, 1.0, 1.0, 1.0, 0.0, [2.0, 0.0, 1.0, 3.0, 0.0, 1.0, 1.0, 1.0, 1.0, 0.0, 1.0, 0.0, 0.0, 11.0, 3637.0, 2.0, 2.0, 11.0, 30.0, 1.0, 1.0], [16.54603153505566, 3.4539684649443365], [0.8273015767527833, 0.17269842324721685], 0.0, 'No Risk'], ['0_to_200', 22, 'outstanding_credit', 'business', 6743, 'less_100', '1_to_4', 3, 'female', 'none', 3, 'unknown', 41, 'none', 'own', 2, 'skilled', 1, 'yes', 'yes', 2.0, 2.0, 0.0, 0.0, 0.0, 0.0, 0.0, 0.0, 9.0, 0.0, 3.0, 1.0, 1.0, [2.0, 2.0, 9.0, 0.0, 0.0, 1.0, 0.0, 3.0, 0.0, 0.0, 0.0, 1.0, 0.0, 22.0, 6743.0, 3.0, 3.0, 22.0, 41.0, 2.0, 1.0], [12.129311593182361, 7.8706884068176395], [0.6064655796591181, 0.393534420340882], 0.0, 'No Risk'], ['less_0', 18, 'credits_paid_to_date', 'radio_tv', 2294, 'less_100', '1_to_4', 3, 'male', 'co-applicant', 3, 'real_estate', 26, 'none', 'own', 1, 'skilled', 1, 'none', 'yes', 1.0, 1.0, 0.0, 0.0, 0.0, 0.0, 0.0, 0.0, 3.0, 1.0, 2.0, 0.0, 0.0, [1.0, 1.0, 3.0, 0.0, 0.0, 0.0, 1.0, 2.0, 0.0, 0.0, 0.0, 0.0, 0.0, 18.0, 2294.0, 3.0, 3.0, 18.0, 26.0, 1.0, 1.0], [16.810446693659195, 3.189553306340803], [0.8405223346829599, 0.1594776653170402], 0.0, 'No Risk'], ['0_to_200', 30, 'outstanding_credit', 'furniture', 3290, '100_to_500', '4_to_7', 3, 'male', 'co-applicant', 2, 'car_other', 45, 'stores', 'own', 1, 'skilled', 1, 'yes', 'yes', 2.0, 2.0, 1.0, 1.0, 0.0, 0.0, 1.0, 0.0, 1.0, 1.0, 1.0, 0.0, 1.0, [2.0, 2.0, 1.0, 1.0, 1.0, 0.0, 1.0, 1.0, 1.0, 0.0, 0.0, 1.0, 0.0, 30.0, 3290.0, 3.0, 2.0, 30.0, 45.0, 1.0, 1.0], [11.361251788959162, 8.63874821104084], [0.5680625894479581, 0.431937410552042], 0.0, 'No Risk'], ['0_to_200', 42, 'outstanding_credit', 'repairs', 4869, '500_to_1000', 'greater_7', 4, 'male', 'none', 2, 'car_other', 38, 'none', 'own', 2, 'skilled', 1, 'none', 'yes', 2.0, 2.0, 2.0, 2.0, 0.0, 0.0, 0.0, 0.0, 5.0, 0.0, 1.0, 0.0, 0.0, [2.0, 2.0, 5.0, 2.0, 2.0, 0.0, 0.0, 1.0, 0.0, 0.0, 0.0, 0.0, 0.0, 42.0, 4869.0, 4.0, 2.0, 42.0, 38.0, 2.0, 1.0], [12.083454425688059, 7.916545574311939], [0.604172721284403, 0.395827278715597], 0.0, 'No Risk'], ['no_checking', 26, 'credits_paid_to_date', 'retraining', 5626, 'greater_1000', 'greater_7', 4, 'male', 'guarantor', 4, 'car_other', 54, 'none', 'free', 2, 'skilled', 1, 'yes', 'yes', 0.0, 1.0, 2.0, 3.0, 0.0, 2.0, 0.0, 0.0, 8.0, 2.0, 1.0, 0.0, 1.0, [0.0, 1.0, 8.0, 3.0, 2.0, 0.0, 2.0, 1.0, 0.0, 2.0, 0.0, 1.0, 0.0, 26.0, 5626.0, 4.0, 4.0, 26.0, 54.0, 2.0, 1.0], [4.18218417976484, 15.817815820235158], [0.20910920898824203, 0.790890791011758], 1.0, 'Risk'], ['0_to_200', 16, 'credits_paid_to_date', 'car_new', 250, 'less_100', '1_to_4', 1, 'female', 'none', 2, 'real_estate', 19, 'stores', 'rent', 1, 'skilled', 1, 'none', 'yes', 2.0, 1.0, 0.0, 0.0, 0.0, 1.0, 1.0, 0.0, 0.0, 0.0, 2.0, 1.0, 0.0, [2.0, 1.0, 0.0, 0.0, 0.0, 1.0, 0.0, 2.0, 1.0, 1.0, 0.0, 0.0, 0.0, 16.0, 250.0, 1.0, 2.0, 16.0, 19.0, 1.0, 1.0], [18.873647932477315, 1.1263520675226846], [0.9436823966238658, 0.05631760337613423], 0.0, 'No Risk'], ['0_to_200', 22, 'prior_payments_delayed', 'retraining', 3329, 'less_100', '1_to_4', 3, 'female', 'none', 3, 'savings_insurance', 30, 'none', 'own', 1, 'skilled', 1, 'none', 'yes', 2.0, 0.0, 0.0, 0.0, 0.0, 0.0, 0.0, 0.0, 8.0, 0.0, 0.0, 1.0, 0.0, [21, [0, 2, 5, 13, 14, 15, 16, 17, 18, 19, 20], [2.0, 8.0, 1.0, 22.0, 3329.0, 3.0, 3.0, 22.0, 30.0, 1.0, 1.0]], [15.283519213122426, 4.716480786877574], [0.7641759606561214, 0.23582403934387872], 0.0, 'No Risk'], ['0_to_200', 27, 'all_credits_paid_back', 'retraining', 6682, '500_to_1000', '1_to_4', 4, 'female', 'none', 2, 'savings_insurance', 26, 'none', 'rent', 1, 'skilled', 1, 'none', 'yes', 2.0, 3.0, 0.0, 2.0, 0.0, 1.0, 0.0, 0.0, 8.0, 0.0, 0.0, 1.0, 0.0, [2.0, 3.0, 8.0, 2.0, 0.0, 1.0, 0.0, 0.0, 0.0, 1.0, 0.0, 0.0, 0.0, 27.0, 6682.0, 4.0, 2.0, 27.0, 26.0, 1.0, 1.0], [13.68333932077947, 6.316660679220528], [0.6841669660389735, 0.3158330339610264], 0.0, 'No Risk'], ['no_checking', 35, 'outstanding_credit', 'furniture', 5593, 'greater_1000', '4_to_7', 4, 'male', 'none', 5, 'car_other', 47, 'none', 'own', 1, 'skilled', 1, 'none', 'yes', 0.0, 2.0, 1.0, 3.0, 0.0, 0.0, 0.0, 0.0, 1.0, 0.0, 1.0, 0.0, 0.0, [0.0, 2.0, 1.0, 3.0, 1.0, 0.0, 0.0, 1.0, 0.0, 0.0, 0.0, 0.0, 0.0, 35.0, 5593.0, 4.0, 5.0, 35.0, 47.0, 1.0, 1.0], [9.994233774036147, 10.005766225963852], [0.4997116887018073, 0.5002883112981926], 1.0, 'Risk'], ['0_to_200', 13, 'prior_payments_delayed', 'furniture', 4754, '100_to_500', '1_to_4', 3, 'male', 'none', 4, 'car_other', 40, 'none', 'own', 2, 'management_self-employed', 1, 'yes', 'yes', 2.0, 0.0, 0.0, 1.0, 0.0, 0.0, 0.0, 2.0, 1.0, 0.0, 1.0, 0.0, 1.0, [2.0, 0.0, 1.0, 1.0, 0.0, 0.0, 0.0, 1.0, 0.0, 0.0, 2.0, 1.0, 0.0, 13.0, 4754.0, 3.0, 4.0, 13.0, 40.0, 2.0, 1.0], [13.673615286856679, 6.32638471314332], [0.683680764342834, 0.316319235657166], 0.0, 'No Risk'], ['no_checking', 27, 'prior_payments_delayed', 'business', 5212, '100_to_500', '4_to_7', 3, 'male', 'none', 4, 'car_other', 42, 'none', 'own', 1, 'skilled', 1, 'none', 'yes', 0.0, 0.0, 1.0, 1.0, 0.0, 0.0, 0.0, 0.0, 9.0, 0.0, 1.0, 0.0, 0.0, [21, [2, 3, 4, 7, 13, 14, 15, 16, 17, 18, 19, 20], [9.0, 1.0, 1.0, 1.0, 27.0, 5212.0, 3.0, 4.0, 27.0, 42.0, 1.0, 1.0]], [10.946658331273413, 9.053341668726588], [0.5473329165636707, 0.45266708343632944], 0.0, 'No Risk'], ['no_checking', 41, 'outstanding_credit', 'education', 4741, 'greater_1000', '4_to_7', 4, 'male', 'none', 4, 'unknown', 41, 'none', 'own', 2, 'skilled', 1, 'yes', 'yes', 0.0, 2.0, 1.0, 3.0, 0.0, 0.0, 0.0, 0.0, 7.0, 0.0, 3.0, 0.0, 1.0, [0.0, 2.0, 7.0, 3.0, 1.0, 0.0, 0.0, 3.0, 0.0, 0.0, 0.0, 1.0, 0.0, 41.0, 4741.0, 4.0, 4.0, 41.0, 41.0, 2.0, 1.0], [9.268726972985462, 10.731273027014538], [0.4634363486492731, 0.5365636513507269], 1.0, 'Risk'], ['less_0', 12, 'all_credits_paid_back', 'car_used', 415, 'less_100', 'unemployed', 1, 'female', 'none', 2, 'real_estate', 25, 'none', 'rent', 1, 'skilled', 1, 'none', 'yes', 1.0, 3.0, 4.0, 0.0, 0.0, 1.0, 0.0, 0.0, 2.0, 0.0, 2.0, 1.0, 0.0, [1.0, 3.0, 2.0, 0.0, 4.0, 1.0, 0.0, 2.0, 0.0, 1.0, 0.0, 0.0, 0.0, 12.0, 415.0, 1.0, 2.0, 12.0, 25.0, 1.0, 1.0], [19.557317089819676, 0.4426829101803208], [0.977865854490984, 0.022134145509016045], 0.0, 'No Risk'], ['less_0', 31, 'all_credits_paid_back', 'appliances', 250, '500_to_1000', '4_to_7', 2, 'male', 'none', 1, 'car_other', 25, 'stores', 'own', 1, 'unskilled', 1, 'none', 'yes', 1.0, 3.0, 1.0, 2.0, 0.0, 0.0, 1.0, 1.0, 4.0, 0.0, 1.0, 0.0, 0.0, [1.0, 3.0, 4.0, 2.0, 1.0, 0.0, 0.0, 1.0, 1.0, 0.0, 1.0, 0.0, 0.0, 31.0, 250.0, 2.0, 1.0, 31.0, 25.0, 1.0, 1.0], [16.69665509804602, 3.3033449019539836], [0.8348327549023008, 0.16516724509769914], 0.0, 'No Risk'], ['no_checking', 17, 'credits_paid_to_date', 'car_used', 2035, 'less_100', '1_to_4', 2, 'male', 'co-applicant', 3, 'savings_insurance', 42, 'none', 'free', 1, 'skilled', 1, 'yes', 'yes', 0.0, 1.0, 0.0, 0.0, 0.0, 2.0, 0.0, 0.0, 2.0, 1.0, 0.0, 0.0, 1.0, [0.0, 1.0, 2.0, 0.0, 0.0, 0.0, 1.0, 0.0, 0.0, 2.0, 0.0, 1.0, 0.0, 17.0, 2035.0, 2.0, 3.0, 17.0, 42.0, 1.0, 1.0], [14.15896868458479, 5.841031315415209], [0.7079484342292395, 0.2920515657707604], 0.0, 'No Risk'], ['0_to_200', 18, 'prior_payments_delayed', 'car_new', 866, '100_to_500', 'greater_7', 3, 'female', 'none', 3, 'car_other', 38, 'none', 'own', 2, 'skilled', 1, 'none', 'yes', 2.0, 0.0, 2.0, 1.0, 0.0, 0.0, 0.0, 0.0, 0.0, 0.0, 1.0, 1.0, 0.0, [2.0, 0.0, 0.0, 1.0, 2.0, 1.0, 0.0, 1.0, 0.0, 0.0, 0.0, 0.0, 0.0, 18.0, 866.0, 3.0, 3.0, 18.0, 38.0, 2.0, 1.0], [13.190005210945932, 6.809994789054065], [0.6595002605472967, 0.34049973945270334], 0.0, 'No Risk'], ['greater_200', 32, 'prior_payments_delayed', 'radio_tv', 4260, '500_to_1000', 'greater_7', 4, 'male', 'guarantor', 5, 'car_other', 55, 'none', 'own', 2, 'skilled', 1, 'yes', 'yes', 3.0, 0.0, 2.0, 2.0, 0.0, 0.0, 0.0, 0.0, 3.0, 2.0, 1.0, 0.0, 1.0, [3.0, 0.0, 3.0, 2.0, 2.0, 0.0, 2.0, 1.0, 0.0, 0.0, 0.0, 1.0, 0.0, 32.0, 4260.0, 4.0, 5.0, 32.0, 55.0, 2.0, 1.0], [8.026973714869419, 11.973026285130581], [0.40134868574347093, 0.5986513142565291], 1.0, 'Risk'], ['less_0', 9, 'no_credits', 'car_new', 693, 'less_100', '1_to_4', 1, 'female', 'none', 2, 'real_estate', 19, 'none', 'own', 1, 'skilled', 1, 'none', 'yes', 1.0, 4.0, 0.0, 0.0, 0.0, 0.0, 0.0, 0.0, 0.0, 0.0, 2.0, 1.0, 0.0, [21, [0, 1, 5, 7, 13, 14, 15, 16, 17, 18, 19, 20], [1.0, 4.0, 1.0, 2.0, 9.0, 693.0, 1.0, 2.0, 9.0, 19.0, 1.0, 1.0]], [19.27169590194453, 0.7283040980554711], [0.9635847950972265, 0.03641520490277356], 0.0, 'No Risk'], ['less_0', 4, 'all_credits_paid_back', 'car_new', 250, 'less_100', '1_to_4', 2, 'female', 'none', 2, 'real_estate', 20, 'none', 'rent', 1, 'skilled', 1, 'none', 'yes', 1.0, 3.0, 0.0, 0.0, 0.0, 1.0, 0.0, 0.0, 0.0, 0.0, 2.0, 1.0, 0.0, [1.0, 3.0, 0.0, 0.0, 0.0, 1.0, 0.0, 2.0, 0.0, 1.0, 0.0, 0.0, 0.0, 4.0, 250.0, 2.0, 2.0, 4.0, 20.0, 1.0, 1.0], [19.27169590194453, 0.7283040980554711], [0.9635847950972265, 0.03641520490277356], 0.0, 'No Risk'], ['0_to_200', 26, 'credits_paid_to_date', 'radio_tv', 250, 'greater_1000', '4_to_7', 2, 'female', 'none', 2, 'savings_insurance', 35, 'stores', 'own', 2, 'unskilled', 1, 'none', 'yes', 2.0, 1.0, 1.0, 3.0, 0.0, 0.0, 1.0, 1.0, 3.0, 0.0, 0.0, 1.0, 0.0, [2.0, 1.0, 3.0, 3.0, 1.0, 1.0, 0.0, 0.0, 1.0, 0.0, 1.0, 0.0, 0.0, 26.0, 250.0, 2.0, 2.0, 26.0, 35.0, 2.0, 1.0], [14.773023095616459, 5.226976904383541], [0.738651154780823, 0.26134884521917706], 0.0, 'No Risk'], ['0_to_200', 22, 'credits_paid_to_date', 'furniture', 5881, 'less_100', '1_to_4', 3, 'female', 'none', 3, 'unknown', 43, 'none', 'own', 1, 'skilled', 1, 'none', 'yes', 2.0, 1.0, 0.0, 0.0, 0.0, 0.0, 0.0, 0.0, 1.0, 0.0, 3.0, 1.0, 0.0, [2.0, 1.0, 1.0, 0.0, 0.0, 1.0, 0.0, 3.0, 0.0, 0.0, 0.0, 0.0, 0.0, 22.0, 5881.0, 3.0, 3.0, 22.0, 43.0, 1.0, 1.0], [13.478818362229307, 6.521181637770697], [0.6739409181114652, 0.3260590818885348], 0.0, 'No Risk'], ['greater_200', 32, 'prior_payments_delayed', 'appliances', 3659, '500_to_1000', '4_to_7', 3, 'male', 'none', 4, 'savings_insurance', 34, 'stores', 'own', 2, 'skilled', 2, 'yes', 'yes', 3.0, 0.0, 1.0, 2.0, 0.0, 0.0, 1.0, 0.0, 4.0, 0.0, 0.0, 0.0, 1.0, [3.0, 0.0, 4.0, 2.0, 1.0, 0.0, 0.0, 0.0, 1.0, 0.0, 0.0, 1.0, 0.0, 32.0, 3659.0, 3.0, 4.0, 32.0, 34.0, 2.0, 2.0], [11.30657627729835, 8.693423722701649], [0.5653288138649175, 0.43467118613508243], 0.0, 'No Risk'], ['less_0', 13, 'credits_paid_to_date', 'car_new', 250, 'less_100', 'less_1', 1, 'female', 'none', 1, 'real_estate', 19, 'stores', 'rent', 1, 'skilled', 1, 'none', 'yes', 1.0, 1.0, 3.0, 0.0, 0.0, 1.0, 1.0, 0.0, 0.0, 0.0, 2.0, 1.0, 0.0, [1.0, 1.0, 0.0, 0.0, 3.0, 1.0, 0.0, 2.0, 1.0, 1.0, 0.0, 0.0, 0.0, 13.0, 250.0, 1.0, 1.0, 13.0, 19.0, 1.0, 1.0], [19.297110272161056, 0.7028897278389428], [0.9648555136080528, 0.03514448639194714], 0.0, 'No Risk'], ['0_to_200', 13, 'credits_paid_to_date', 'furniture', 250, 'less_100', 'less_1', 1, 'male', 'none', 2, 'savings_insurance', 19, 'stores', 'own', 1, 'unskilled', 1, 'none', 'yes', 2.0, 1.0, 3.0, 0.0, 0.0, 0.0, 1.0, 1.0, 1.0, 0.0, 0.0, 0.0, 0.0, [2.0, 1.0, 1.0, 0.0, 3.0, 0.0, 0.0, 0.0, 1.0, 0.0, 1.0, 0.0, 0.0, 13.0, 250.0, 1.0, 2.0, 13.0, 19.0, 1.0, 1.0], [18.964772435403546, 1.0352275645964557], [0.9482386217701773, 0.05176137822982278], 0.0, 'No Risk'], ['0_to_200', 22, 'credits_paid_to_date', 'car_new', 2497, '100_to_500', '1_to_4', 3, 'male', 'none', 2, 'real_estate', 27, 'none', 'free', 1, 'skilled', 1, 'none', 'yes', 2.0, 1.0, 0.0, 1.0, 0.0, 2.0, 0.0, 0.0, 0.0, 0.0, 2.0, 0.0, 0.0, [2.0, 1.0, 0.0, 1.0, 0.0, 0.0, 0.0, 2.0, 0.0, 2.0, 0.0, 0.0, 0.0, 22.0, 2497.0, 3.0, 2.0, 22.0, 27.0, 1.0, 1.0], [17.79123286434695, 2.2087671356530536], [0.8895616432173473, 0.11043835678265267], 0.0, 'No Risk'], ['greater_200', 21, 'credits_paid_to_date', 'car_new', 250, 'greater_1000', '1_to_4', 3, 'male', 'none', 2, 'car_other', 22, 'bank', 'rent', 1, 'unemployed', 1, 'none', 'yes', 3.0, 1.0, 0.0, 3.0, 0.0, 1.0, 2.0, 3.0, 0.0, 0.0, 1.0, 0.0, 0.0, [3.0, 1.0, 0.0, 3.0, 0.0, 0.0, 0.0, 1.0, 2.0, 1.0, 3.0, 0.0, 0.0, 21.0, 250.0, 3.0, 2.0, 21.0, 22.0, 1.0, 1.0], [16.435180765223897, 3.5648192347761025], [0.8217590382611949, 0.17824096173880513], 0.0, 'No Risk'], ['less_0', 10, 'all_credits_paid_back', 'vacation', 251, 'less_100', '1_to_4', 3, 'male', 'none', 2, 'savings_insurance', 20, 'none', 'own', 1, 'management_self-employed', 1, 'none', 'yes', 1.0, 3.0, 0.0, 0.0, 0.0, 0.0, 0.0, 2.0, 6.0, 0.0, 0.0, 0.0, 0.0, [21, [0, 1, 2, 10, 13, 14, 15, 16, 17, 18, 19, 20], [1.0, 3.0, 6.0, 2.0, 10.0, 251.0, 3.0, 2.0, 10.0, 20.0, 1.0, 1.0]], [19.09498653592708, 0.9050134640729178], [0.954749326796354, 0.04525067320364589], 0.0, 'No Risk'], ['less_0', 18, 'prior_payments_delayed', 'car_used', 2075, 'less_100', '4_to_7', 3, 'female', 'none', 2, 'car_other', 43, 'none', 'own', 1, 'skilled', 2, 'yes', 'yes', 1.0, 0.0, 1.0, 0.0, 0.0, 0.0, 0.0, 0.0, 2.0, 0.0, 1.0, 1.0, 1.0, [1.0, 0.0, 2.0, 0.0, 1.0, 1.0, 0.0, 1.0, 0.0, 0.0, 0.0, 1.0, 0.0, 18.0, 2075.0, 3.0, 2.0, 18.0, 43.0, 1.0, 2.0], [14.32085616659748, 5.679143833402523], [0.7160428083298739, 0.28395719167012606], 0.0, 'No Risk'], ['less_0', 33, 'outstanding_credit', 'vacation', 1714, '100_to_500', '1_to_4', 3, 'male', 'none', 3, 'car_other', 19, 'stores', 'own', 1, 'skilled', 1, 'yes', 'yes', 1.0, 2.0, 0.0, 1.0, 0.0, 0.0, 1.0, 0.0, 6.0, 0.0, 1.0, 0.0, 1.0, [1.0, 2.0, 6.0, 1.0, 0.0, 0.0, 0.0, 1.0, 1.0, 0.0, 0.0, 1.0, 0.0, 33.0, 1714.0, 3.0, 3.0, 33.0, 19.0, 1.0, 1.0], [14.572595512818344, 5.427404487181653], [0.7286297756409174, 0.2713702243590827], 0.0, 'No Risk'], ['no_checking', 35, 'outstanding_credit', 'education', 9146, '500_to_1000', '4_to_7', 4, 'male', 'co-applicant', 3, 'car_other', 46, 'none', 'free', 3, 'skilled', 2, 'yes', 'yes', 0.0, 2.0, 1.0, 2.0, 0.0, 2.0, 0.0, 0.0, 7.0, 1.0, 1.0, 0.0, 1.0, [0.0, 2.0, 7.0, 2.0, 1.0, 0.0, 1.0, 1.0, 0.0, 2.0, 0.0, 1.0, 0.0, 35.0, 9146.0, 4.0, 3.0, 35.0, 46.0, 3.0, 2.0], [4.480784041981987, 15.51921595801801], [0.22403920209909936, 0.7759607979009007], 1.0, 'Risk'], ['no_checking', 18, 'outstanding_credit', 'appliances', 3327, '500_to_1000', '4_to_7', 4, 'male', 'none', 3, 'car_other', 40, 'none', 'own', 1, 'skilled', 1, 'yes', 'yes', 0.0, 2.0, 1.0, 2.0, 0.0, 0.0, 0.0, 0.0, 4.0, 0.0, 1.0, 0.0, 1.0, [0.0, 2.0, 4.0, 2.0, 1.0, 0.0, 0.0, 1.0, 0.0, 0.0, 0.0, 1.0, 0.0, 18.0, 3327.0, 4.0, 3.0, 18.0, 40.0, 1.0, 1.0], [12.030052846632042, 7.9699471533679604], [0.601502642331602, 0.39849735766839794], 0.0, 'No Risk'], ['0_to_200', 8, 'all_credits_paid_back', 'car_new', 2563, 'less_100', '1_to_4', 2, 'female', 'co-applicant', 3, 'real_estate', 38, 'none', 'own', 1, 'skilled', 1, 'yes', 'yes', 2.0, 3.0, 0.0, 0.0, 0.0, 0.0, 0.0, 0.0, 0.0, 1.0, 2.0, 1.0, 1.0, [2.0, 3.0, 0.0, 0.0, 0.0, 1.0, 1.0, 2.0, 0.0, 0.0, 0.0, 1.0, 0.0, 8.0, 2563.0, 2.0, 3.0, 8.0, 38.0, 1.0, 1.0], [17.082654561383087, 2.9173454386169104], [0.8541327280691545, 0.14586727193084556], 0.0, 'No Risk'], ['less_0', 20, 'prior_payments_delayed', 'retraining', 3918, 'less_100', 'less_1', 2, 'male', 'none', 3, 'savings_insurance', 28, 'none', 'own', 1, 'skilled', 1, 'none', 'yes', 1.0, 0.0, 3.0, 0.0, 0.0, 0.0, 0.0, 0.0, 8.0, 0.0, 0.0, 0.0, 0.0, [21, [0, 2, 4, 13, 14, 15, 16, 17, 18, 19, 20], [1.0, 8.0, 3.0, 20.0, 3918.0, 2.0, 3.0, 20.0, 28.0, 1.0, 1.0]], [17.236975687289192, 2.7630243127108076], [0.8618487843644596, 0.1381512156355404], 0.0, 'No Risk'], ['0_to_200', 15, 'credits_paid_to_date', 'car_used', 5407, 'less_100', 'less_1', 3, 'female', 'none', 2, 'real_estate', 27, 'none', 'own', 1, 'skilled', 1, 'none', 'yes', 2.0, 1.0, 3.0, 0.0, 0.0, 0.0, 0.0, 0.0, 2.0, 0.0, 2.0, 1.0, 0.0, [2.0, 1.0, 2.0, 0.0, 3.0, 1.0, 0.0, 2.0, 0.0, 0.0, 0.0, 0.0, 0.0, 15.0, 5407.0, 3.0, 2.0, 15.0, 27.0, 1.0, 1.0], [18.57887699620696, 1.4211230037930356], [0.9289438498103483, 0.07105615018965179], 0.0, 'No Risk'], ['no_checking', 45, 'prior_payments_delayed', 'appliances', 8821, '500_to_1000', 'greater_7', 4, 'male', 'co-applicant', 4, 'car_other', 53, 'stores', 'own', 2, 'unskilled', 1, 'yes', 'yes', 0.0, 0.0, 2.0, 2.0, 0.0, 0.0, 1.0, 1.0, 4.0, 1.0, 1.0, 0.0, 1.0, [0.0, 0.0, 4.0, 2.0, 2.0, 0.0, 1.0, 1.0, 1.0, 0.0, 1.0, 1.0, 0.0, 45.0, 8821.0, 4.0, 4.0, 45.0, 53.0, 2.0, 1.0], [3.646026387726532, 16.353973612273464], [0.18230131938632665, 0.8176986806136733], 1.0, 'Risk'], ['no_checking', 14, 'credits_paid_to_date', 'car_used', 5976, 'less_100', '4_to_7', 3, 'male', 'none', 4, 'savings_insurance', 24, 'none', 'rent', 1, 'skilled', 1, 'none', 'yes', 0.0, 1.0, 1.0, 0.0, 0.0, 1.0, 0.0, 0.0, 2.0, 0.0, 0.0, 0.0, 0.0, [21, [1, 2, 4, 9, 13, 14, 15, 16, 17, 18, 19, 20], [1.0, 2.0, 1.0, 1.0, 14.0, 5976.0, 3.0, 4.0, 14.0, 24.0, 1.0, 1.0]], [13.222711851051464, 6.777288148948537], [0.6611355925525733, 0.33886440744742685], 0.0, 'No Risk'], ['no_checking', 29, 'outstanding_credit', 'appliances', 4750, '500_to_1000', '1_to_4', 3, 'male', 'none', 4, 'car_other', 43, 'none', 'own', 1, 'management_self-employed', 1, 'yes', 'yes', 0.0, 2.0, 0.0, 2.0, 0.0, 0.0, 0.0, 2.0, 4.0, 0.0, 1.0, 0.0, 1.0, [0.0, 2.0, 4.0, 2.0, 0.0, 0.0, 0.0, 1.0, 0.0, 0.0, 2.0, 1.0, 0.0, 29.0, 4750.0, 3.0, 4.0, 29.0, 43.0, 1.0, 1.0], [11.82800880953947, 8.17199119046053], [0.5914004404769735, 0.40859955952302646], 0.0, 'No Risk'], ['no_checking', 32, 'prior_payments_delayed', 'vacation', 6554, '100_to_500', 'greater_7', 5, 'male', 'none', 3, 'unknown', 57, 'none', 'free', 2, 'management_self-employed', 1, 'yes', 'yes', 0.0, 0.0, 2.0, 1.0, 0.0, 2.0, 0.0, 2.0, 6.0, 0.0, 3.0, 0.0, 1.0, [0.0, 0.0, 6.0, 1.0, 2.0, 0.0, 0.0, 3.0, 0.0, 2.0, 2.0, 1.0, 0.0, 32.0, 6554.0, 5.0, 3.0, 32.0, 57.0, 2.0, 1.0], [4.93533901178605, 15.06466098821395], [0.2467669505893025, 0.7532330494106975], 1.0, 'Risk'], ['less_0', 8, 'prior_payments_delayed', 'car_used', 2004, 'less_100', '4_to_7', 2, 'female', 'none', 2, 'savings_insurance', 35, 'bank', 'own', 1, 'unemployed', 1, 'none', 'yes', 1.0, 0.0, 1.0, 0.0, 0.0, 0.0, 2.0, 3.0, 2.0, 0.0, 0.0, 1.0, 0.0, [1.0, 0.0, 2.0, 0.0, 1.0, 1.0, 0.0, 0.0, 2.0, 0.0, 3.0, 0.0, 0.0, 8.0, 2004.0, 2.0, 2.0, 8.0, 35.0, 1.0, 1.0], [16.933548531561268, 3.0664514684387334], [0.8466774265780634, 0.15332257342193667], 0.0, 'No Risk'], ['0_to_200', 13, 'credits_paid_to_date', 'car_used', 459, '500_to_1000', '4_to_7', 3, 'male', 'none', 2, 'car_other', 30, 'none', 'own', 2, 'skilled', 1, 'none', 'yes', 2.0, 1.0, 1.0, 2.0, 0.0, 0.0, 0.0, 0.0, 2.0, 0.0, 1.0, 0.0, 0.0, [2.0, 1.0, 2.0, 2.0, 1.0, 0.0, 0.0, 1.0, 0.0, 0.0, 0.0, 0.0, 0.0, 13.0, 459.0, 3.0, 2.0, 13.0, 30.0, 2.0, 1.0], [16.601581982425916, 3.3984180175740857], [0.8300790991212958, 0.1699209008787043], 0.0, 'No Risk'], ['greater_200', 28, 'prior_payments_delayed', 'radio_tv', 6086, '100_to_500', 'greater_7', 3, 'female', 'none', 4, 'unknown', 34, 'none', 'own', 1, 'skilled', 1, 'none', 'yes', 3.0, 0.0, 2.0, 1.0, 0.0, 0.0, 0.0, 0.0, 3.0, 0.0, 3.0, 1.0, 0.0, [3.0, 0.0, 3.0, 1.0, 2.0, 1.0, 0.0, 3.0, 0.0, 0.0, 0.0, 0.0, 0.0, 28.0, 6086.0, 3.0, 4.0, 28.0, 34.0, 1.0, 1.0], [10.568346327797277, 9.431653672202724], [0.5284173163898639, 0.4715826836101362], 0.0, 'No Risk'], ['no_checking', 27, 'all_credits_paid_back', 'furniture', 4905, 'less_100', '1_to_4', 3, 'male', 'none', 3, 'savings_insurance', 35, 'none', 'own', 1, 'skilled', 1, 'none', 'yes', 0.0, 3.0, 0.0, 0.0, 0.0, 0.0, 0.0, 0.0, 1.0, 0.0, 0.0, 0.0, 0.0, [21, [1, 2, 13, 14, 15, 16, 17, 18, 19, 20], [3.0, 1.0, 27.0, 4905.0, 3.0, 3.0, 27.0, 35.0, 1.0, 1.0]], [13.27559490245901, 6.72440509754099], [0.6637797451229506, 0.33622025487704954], 0.0, 'No Risk'], ['0_to_200', 12, 'credits_paid_to_date', 'car_new', 250, 'less_100', '4_to_7', 2, 'female', 'none', 1, 'savings_insurance', 23, 'stores', 'own', 1, 'skilled', 1, 'none', 'yes', 2.0, 1.0, 1.0, 0.0, 0.0, 0.0, 1.0, 0.0, 0.0, 0.0, 0.0, 1.0, 0.0, [2.0, 1.0, 0.0, 0.0, 1.0, 1.0, 0.0, 0.0, 1.0, 0.0, 0.0, 0.0, 0.0, 12.0, 250.0, 2.0, 1.0, 12.0, 23.0, 1.0, 1.0], [18.734333597820207, 1.2656664021797934], [0.9367166798910104, 0.06328332010898967], 0.0, 'No Risk'], ['no_checking', 41, 'credits_paid_to_date', 'furniture', 4729, 'unknown', '4_to_7', 4, 'male', 'none', 4, 'savings_insurance', 36, 'none', 'own', 2, 'skilled', 1, 'none', 'yes', 0.0, 1.0, 1.0, 4.0, 0.0, 0.0, 0.0, 0.0, 1.0, 0.0, 0.0, 0.0, 0.0, [21, [1, 2, 3, 4, 13, 14, 15, 16, 17, 18, 19, 20], [1.0, 1.0, 4.0, 1.0, 41.0, 4729.0, 4.0, 4.0, 41.0, 36.0, 2.0, 1.0]], [10.547281309972256, 9.452718690027744], [0.5273640654986128, 0.4726359345013872], 0.0, 'No Risk'], ['0_to_200', 26, 'credits_paid_to_date', 'car_used', 3380, 'greater_1000', '1_to_4', 3, 'male', 'none', 2, 'savings_insurance', 33, 'bank', 'rent', 2, 'unemployed', 1, 'none', 'yes', 2.0, 1.0, 0.0, 3.0, 0.0, 1.0, 2.0, 3.0, 2.0, 0.0, 0.0, 0.0, 0.0, [2.0, 1.0, 2.0, 3.0, 0.0, 0.0, 0.0, 0.0, 2.0, 1.0, 3.0, 0.0, 0.0, 26.0, 3380.0, 3.0, 2.0, 26.0, 33.0, 2.0, 1.0], [14.061889311084645, 5.938110688915354], [0.7030944655542323, 0.2969055344457677], 0.0, 'No Risk'], ['0_to_200', 6, 'prior_payments_delayed', 'retraining', 2742, '500_to_1000', 'greater_7', 4, 'male', 'none', 3, 'car_other', 35, 'none', 'own', 2, 'skilled', 1, 'none', 'yes', 2.0, 0.0, 2.0, 2.0, 0.0, 0.0, 0.0, 0.0, 8.0, 0.0, 1.0, 0.0, 0.0, [2.0, 0.0, 8.0, 2.0, 2.0, 0.0, 0.0, 1.0, 0.0, 0.0, 0.0, 0.0, 0.0, 6.0, 2742.0, 4.0, 3.0, 6.0, 35.0, 2.0, 1.0], [14.91080283544763, 5.089197164552369], [0.7455401417723815, 0.2544598582276184], 0.0, 'No Risk'], ['less_0', 19, 'credits_paid_to_date', 'car_new', 1871, 'less_100', '4_to_7', 3, 'male', 'none', 2, 'real_estate', 32, 'none', 'own', 1, 'skilled', 1, 'none', 'yes', 1.0, 1.0, 1.0, 0.0, 0.0, 0.0, 0.0, 0.0, 0.0, 0.0, 2.0, 0.0, 0.0, [21, [0, 1, 4, 7, 13, 14, 15, 16, 17, 18, 19, 20], [1.0, 1.0, 1.0, 2.0, 19.0, 1871.0, 3.0, 2.0, 19.0, 32.0, 1.0, 1.0]], [17.488493193647844, 2.511506806352156], [0.8744246596823922, 0.1255753403176078], 0.0, 'No Risk'], ['0_to_200', 36, 'prior_payments_delayed', 'furniture', 7163, 'greater_1000', '4_to_7', 4, 'male', 'none', 3, 'car_other', 46, 'none', 'own', 2, 'skilled', 2, 'none', 'yes', 2.0, 0.0, 1.0, 3.0, 0.0, 0.0, 0.0, 0.0, 1.0, 0.0, 1.0, 0.0, 0.0, [2.0, 0.0, 1.0, 3.0, 1.0, 0.0, 0.0, 1.0, 0.0, 0.0, 0.0, 0.0, 0.0, 36.0, 7163.0, 4.0, 3.0, 36.0, 46.0, 2.0, 2.0], [10.544686878438293, 9.455313121561707], [0.5272343439219147, 0.47276565607808535], 0.0, 'No Risk'], ['no_checking', 21, 'credits_paid_to_date', 'car_used', 5489, '100_to_500', '1_to_4', 3, 'male', 'none', 2, 'savings_insurance', 38, 'none', 'own', 2, 'skilled', 1, 'yes', 'yes', 0.0, 1.0, 0.0, 1.0, 0.0, 0.0, 0.0, 0.0, 2.0, 0.0, 0.0, 0.0, 1.0, [21, [1, 2, 3, 11, 13, 14, 15, 16, 17, 18, 19, 20], [1.0, 2.0, 1.0, 1.0, 21.0, 5489.0, 3.0, 2.0, 21.0, 38.0, 2.0, 1.0]], [13.757971070352767, 6.242028929647233], [0.6878985535176383, 0.31210144648236166], 0.0, 'No Risk'], ['less_0', 9, 'all_credits_paid_back', 'car_new', 678, '100_to_500', '4_to_7', 3, 'male', 'none', 2, 'real_estate', 29, 'none', 'own', 1, 'skilled', 1, 'none', 'yes', 1.0, 3.0, 1.0, 1.0, 0.0, 0.0, 0.0, 0.0, 0.0, 0.0, 2.0, 0.0, 0.0, [1.0, 3.0, 0.0, 1.0, 1.0, 0.0, 0.0, 2.0, 0.0, 0.0, 0.0, 0.0, 0.0, 9.0, 678.0, 3.0, 2.0, 9.0, 29.0, 1.0, 1.0], [18.92285832183413, 1.0771416781658691], [0.9461429160917065, 0.053857083908293454], 0.0, 'No Risk'], ['greater_200', 27, 'outstanding_credit', 'appliances', 3931, 'unknown', 'greater_7', 4, 'male', 'co-applicant', 4, 'savings_insurance', 51, 'none', 'own', 2, 'skilled', 1, 'yes', 'yes', 3.0, 2.0, 2.0, 4.0, 0.0, 0.0, 0.0, 0.0, 4.0, 1.0, 0.0, 0.0, 1.0, [3.0, 2.0, 4.0, 4.0, 2.0, 0.0, 1.0, 0.0, 0.0, 0.0, 0.0, 1.0, 0.0, 27.0, 3931.0, 4.0, 4.0, 27.0, 51.0, 2.0, 1.0], [9.66602174921047, 10.33397825078953], [0.4833010874605235, 0.5166989125394765], 1.0, 'Risk'], ['greater_200', 18, 'outstanding_credit', 'furniture', 2308, '100_to_500', 'greater_7', 4, 'female', 'none', 4, 'car_other', 47, 'none', 'own', 1, 'skilled', 1, 'yes', 'yes', 3.0, 2.0, 2.0, 1.0, 0.0, 0.0, 0.0, 0.0, 1.0, 0.0, 1.0, 1.0, 1.0, [3.0, 2.0, 1.0, 1.0, 2.0, 1.0, 0.0, 1.0, 0.0, 0.0, 0.0, 1.0, 0.0, 18.0, 2308.0, 4.0, 4.0, 18.0, 47.0, 1.0, 1.0], [10.175758338569823, 9.824241661430175], [0.5087879169284911, 0.49121208307150876], 0.0, 'No Risk'], ['no_checking', 36, 'credits_paid_to_date', 'appliances', 7504, '500_to_1000', 'greater_7', 4, 'male', 'co-applicant', 3, 'car_other', 49, 'none', 'free', 2, 'skilled', 2, 'yes', 'yes', 0.0, 1.0, 2.0, 2.0, 0.0, 2.0, 0.0, 0.0, 4.0, 1.0, 1.0, 0.0, 1.0, [0.0, 1.0, 4.0, 2.0, 2.0, 0.0, 1.0, 1.0, 0.0, 2.0, 0.0, 1.0, 0.0, 36.0, 7504.0, 4.0, 3.0, 36.0, 49.0, 2.0, 2.0], [3.80642667005146, 16.193573329948535], [0.19032133350257305, 0.8096786664974269], 1.0, 'Risk'], ['0_to_200', 26, 'prior_payments_delayed', 'radio_tv', 250, '100_to_500', '1_to_4', 3, 'female', 'none', 2, 'savings_insurance', 34, 'bank', 'own', 1, 'unemployed', 1, 'yes', 'yes', 2.0, 0.0, 0.0, 1.0, 0.0, 0.0, 2.0, 3.0, 3.0, 0.0, 0.0, 1.0, 1.0, [2.0, 0.0, 3.0, 1.0, 0.0, 1.0, 0.0, 0.0, 2.0, 0.0, 3.0, 1.0, 0.0, 26.0, 250.0, 3.0, 2.0, 26.0, 34.0, 1.0, 1.0], [16.295281721896636, 3.704718278103366], [0.8147640860948318, 0.1852359139051683], 0.0, 'No Risk'], ['0_to_200', 33, 'outstanding_credit', 'appliances', 1243, '500_to_1000', 'greater_7', 4, 'male', 'none', 2, 'savings_insurance', 33, 'stores', 'own', 1, 'skilled', 1, 'none', 'yes', 2.0, 2.0, 2.0, 2.0, 0.0, 0.0, 1.0, 0.0, 4.0, 0.0, 0.0, 0.0, 0.0, [2.0, 2.0, 4.0, 2.0, 2.0, 0.0, 0.0, 0.0, 1.0, 0.0, 0.0, 0.0, 0.0, 33.0, 1243.0, 4.0, 2.0, 33.0, 33.0, 1.0, 1.0], [14.619191251344354, 5.3808087486556495], [0.7309595625672176, 0.26904043743278244], 0.0, 'No Risk'], ['0_to_200', 12, 'credits_paid_to_date', 'furniture', 2052, '500_to_1000', '4_to_7', 3, 'male', 'none', 2, 'savings_insurance', 28, 'none', 'own', 1, 'skilled', 1, 'none', 'yes', 2.0, 1.0, 1.0, 2.0, 0.0, 0.0, 0.0, 0.0, 1.0, 0.0, 0.0, 0.0, 0.0, [2.0, 1.0, 1.0, 2.0, 1.0, 0.0, 0.0, 0.0, 0.0, 0.0, 0.0, 0.0, 0.0, 12.0, 2052.0, 3.0, 2.0, 12.0, 28.0, 1.0, 1.0], [17.907128830822245, 2.0928711691777533], [0.8953564415411123, 0.10464355845888766], 0.0, 'No Risk'], ['less_0', 29, 'credits_paid_to_date', 'car_used', 1783, 'less_100', '1_to_4', 3, 'male', 'co-applicant', 3, 'car_other', 32, 'none', 'own', 1, 'skilled', 1, 'none', 'yes', 1.0, 1.0, 0.0, 0.0, 0.0, 0.0, 0.0, 0.0, 2.0, 1.0, 1.0, 0.0, 0.0, [1.0, 1.0, 2.0, 0.0, 0.0, 0.0, 1.0, 1.0, 0.0, 0.0, 0.0, 0.0, 0.0, 29.0, 1783.0, 3.0, 3.0, 29.0, 32.0, 1.0, 1.0], [13.749366230936388, 6.250633769063612], [0.6874683115468194, 0.3125316884531806], 0.0, 'No Risk'], ['less_0', 18, 'credits_paid_to_date', 'repairs', 6990, 'less_100', '1_to_4', 3, 'male', 'none', 2, 'car_other', 36, 'none', 'own', 1, 'management_self-employed', 1, 'none', 'yes', 1.0, 1.0, 0.0, 0.0, 0.0, 0.0, 0.0, 2.0, 5.0, 0.0, 1.0, 0.0, 0.0, [1.0, 1.0, 5.0, 0.0, 0.0, 0.0, 0.0, 1.0, 0.0, 0.0, 2.0, 0.0, 0.0, 18.0, 6990.0, 3.0, 2.0, 18.0, 36.0, 1.0, 1.0], [13.976765378251628, 6.023234621748374], [0.6988382689125814, 0.3011617310874187], 0.0, 'No Risk'], ['no_checking', 32, 'outstanding_credit', 'appliances', 5423, 'unknown', '4_to_7', 3, 'male', 'none', 3, 'car_other', 52, 'none', 'own', 2, 'skilled', 2, 'yes', 'yes', 0.0, 2.0, 1.0, 4.0, 0.0, 0.0, 0.0, 0.0, 4.0, 0.0, 1.0, 0.0, 1.0, [0.0, 2.0, 4.0, 4.0, 1.0, 0.0, 0.0, 1.0, 0.0, 0.0, 0.0, 1.0, 0.0, 32.0, 5423.0, 3.0, 3.0, 32.0, 52.0, 2.0, 2.0], [9.0257436861344, 10.974256313865599], [0.45128718430672, 0.5487128156932799], 1.0, 'Risk'], ['0_to_200', 4, 'all_credits_paid_back', 'car_used', 1370, 'less_100', '1_to_4', 1, 'female', 'none', 1, 'real_estate', 19, 'none', 'own', 1, 'skilled', 1, 'none', 'yes', 2.0, 3.0, 0.0, 0.0, 0.0, 0.0, 0.0, 0.0, 2.0, 0.0, 2.0, 1.0, 0.0, [2.0, 3.0, 2.0, 0.0, 0.0, 1.0, 0.0, 2.0, 0.0, 0.0, 0.0, 0.0, 0.0, 4.0, 1370.0, 1.0, 1.0, 4.0, 19.0, 1.0, 1.0], [19.171352984508495, 0.8286470154915039], [0.9585676492254247, 0.041432350774575195], 0.0, 'No Risk'], ['0_to_200', 8, 'prior_payments_delayed', 'repairs', 2720, 'less_100', '4_to_7', 3, 'female', 'none', 3, 'car_other', 42, 'none', 'rent', 1, 'skilled', 1, 'none', 'yes', 2.0, 0.0, 1.0, 0.0, 0.0, 1.0, 0.0, 0.0, 5.0, 0.0, 1.0, 1.0, 0.0, [2.0, 0.0, 5.0, 0.0, 1.0, 1.0, 0.0, 1.0, 0.0, 1.0, 0.0, 0.0, 0.0, 8.0, 2720.0, 3.0, 3.0, 8.0, 42.0, 1.0, 1.0], [15.0120671279452, 4.987932872054801], [0.75060335639726, 0.24939664360274003], 0.0, 'No Risk'], ['0_to_200', 18, 'credits_paid_to_date', 'car_used', 2155, '500_to_1000', '4_to_7', 3, 'male', 'none', 2, 'car_other', 54, 'none', 'own', 2, 'skilled', 1, 'none', 'yes', 2.0, 1.0, 1.0, 2.0, 0.0, 0.0, 0.0, 0.0, 2.0, 0.0, 1.0, 0.0, 0.0, [2.0, 1.0, 2.0, 2.0, 1.0, 0.0, 0.0, 1.0, 0.0, 0.0, 0.0, 0.0, 0.0, 18.0, 2155.0, 3.0, 2.0, 18.0, 54.0, 2.0, 1.0], [12.953308917165913, 7.046691082834091], [0.6476654458582956, 0.35233455414170445], 0.0, 'No Risk'], ['0_to_200', 22, 'credits_paid_to_date', 'appliances', 876, 'less_100', '1_to_4', 2, 'male', 'none', 3, 'savings_insurance', 31, 'none', 'rent', 1, 'skilled', 1, 'none', 'yes', 2.0, 1.0, 0.0, 0.0, 0.0, 1.0, 0.0, 0.0, 4.0, 0.0, 0.0, 0.0, 0.0, [21, [0, 1, 2, 9, 13, 14, 15, 16, 17, 18, 19, 20], [2.0, 1.0, 4.0, 1.0, 22.0, 876.0, 2.0, 3.0, 22.0, 31.0, 1.0, 1.0]], [15.404687741128166, 4.595312258871836], [0.7702343870564083, 0.2297656129435918], 0.0, 'No Risk'], ['0_to_200', 12, 'all_credits_paid_back', 'vacation', 767, '100_to_500', '4_to_7', 3, 'male', 'none', 3, 'real_estate', 36, 'none', 'own', 1, 'skilled', 1, 'none', 'yes', 2.0, 3.0, 1.0, 1.0, 0.0, 0.0, 0.0, 0.0, 6.0, 0.0, 2.0, 0.0, 0.0, [2.0, 3.0, 6.0, 1.0, 1.0, 0.0, 0.0, 2.0, 0.0, 0.0, 0.0, 0.0, 0.0, 12.0, 767.0, 3.0, 3.0, 12.0, 36.0, 1.0, 1.0], [18.245329282096126, 1.7546707179038734], [0.9122664641048063, 0.08773353589519367], 0.0, 'No Risk'], ['no_checking', 17, 'credits_paid_to_date', 'radio_tv', 1133, '100_to_500', '4_to_7', 4, 'female', 'co-applicant', 3, 'savings_insurance', 55, 'none', 'free', 1, 'skilled', 1, 'none', 'yes', 0.0, 1.0, 1.0, 1.0, 0.0, 2.0, 0.0, 0.0, 3.0, 1.0, 0.0, 1.0, 0.0, [0.0, 1.0, 3.0, 1.0, 1.0, 1.0, 1.0, 0.0, 0.0, 2.0, 0.0, 0.0, 0.0, 17.0, 1133.0, 4.0, 3.0, 17.0, 55.0, 1.0, 1.0], [12.884386690785524, 7.115613309214474], [0.6442193345392762, 0.35578066546072373], 0.0, 'No Risk'], ['0_to_200', 24, 'all_credits_paid_back', 'car_new', 1456, 'less_100', '4_to_7', 3, 'male', 'none', 2, 'savings_insurance', 27, 'none', 'own', 1, 'skilled', 1, 'none', 'yes', 2.0, 3.0, 1.0, 0.0, 0.0, 0.0, 0.0, 0.0, 0.0, 0.0, 0.0, 0.0, 0.0, [21, [0, 1, 4, 13, 14, 15, 16, 17, 18, 19, 20], [2.0, 3.0, 1.0, 24.0, 1456.0, 3.0, 2.0, 24.0, 27.0, 1.0, 1.0]], [16.96471054279961, 3.0352894572003897], [0.8482355271399806, 0.15176447286001948], 0.0, 'No Risk'], ['greater_200', 36, 'outstanding_credit', 'appliances', 4288, '500_to_1000', '4_to_7', 4, 'female', 'none', 3, 'car_other', 55, 'none', 'own', 2, 'skilled', 1, 'yes', 'yes', 3.0, 2.0, 1.0, 2.0, 0.0, 0.0, 0.0, 0.0, 4.0, 0.0, 1.0, 1.0, 1.0, [3.0, 2.0, 4.0, 2.0, 1.0, 1.0, 0.0, 1.0, 0.0, 0.0, 0.0, 1.0, 0.0, 36.0, 4288.0, 4.0, 3.0, 36.0, 55.0, 2.0, 1.0], [8.057446766519664, 11.942553233480337], [0.40287233832598324, 0.5971276616740169], 1.0, 'Risk'], ['greater_200', 10, 'prior_payments_delayed', 'furniture', 4441, 'less_100', 'greater_7', 2, 'female', 'none', 2, 'car_other', 37, 'none', 'free', 1, 'skilled', 1, 'yes', 'yes', 3.0, 0.0, 2.0, 0.0, 0.0, 2.0, 0.0, 0.0, 1.0, 0.0, 1.0, 1.0, 1.0, [3.0, 0.0, 1.0, 0.0, 2.0, 1.0, 0.0, 1.0, 0.0, 2.0, 0.0, 1.0, 0.0, 10.0, 4441.0, 2.0, 2.0, 10.0, 37.0, 1.0, 1.0], [13.574821652746923, 6.425178347253078], [0.6787410826373461, 0.3212589173626539], 0.0, 'No Risk'], ['no_checking', 36, 'prior_payments_delayed', 'appliances', 5159, 'greater_1000', '1_to_4', 3, 'male', 'none', 3, 'unknown', 28, 'none', 'own', 2, 'skilled', 1, 'none', 'yes', 0.0, 0.0, 0.0, 3.0, 0.0, 0.0, 0.0, 0.0, 4.0, 0.0, 3.0, 0.0, 0.0, [21, [2, 3, 7, 13, 14, 15, 16, 17, 18, 19, 20], [4.0, 3.0, 3.0, 36.0, 5159.0, 3.0, 3.0, 36.0, 28.0, 2.0, 1.0]], [12.334380661027526, 7.665619338972473], [0.6167190330513763, 0.3832809669486236], 0.0, 'No Risk'], ['no_checking', 27, 'outstanding_credit', 'education', 5667, 'greater_1000', '4_to_7', 4, 'male', 'none', 5, 'unknown', 47, 'none', 'own', 3, 'skilled', 2, 'yes', 'yes', 0.0, 2.0, 1.0, 3.0, 0.0, 0.0, 0.0, 0.0, 7.0, 0.0, 3.0, 0.0, 1.0, [0.0, 2.0, 7.0, 3.0, 1.0, 0.0, 0.0, 3.0, 0.0, 0.0, 0.0, 1.0, 0.0, 27.0, 5667.0, 4.0, 5.0, 27.0, 47.0, 3.0, 2.0], [8.070766865101234, 11.929233134898766], [0.4035383432550617, 0.5964616567449383], 1.0, 'Risk'], ['0_to_200', 30, 'credits_paid_to_date', 'education', 2658, 'less_100', '1_to_4', 3, 'female', 'none', 3, 'savings_insurance', 41, 'none', 'own', 1, 'skilled', 1, 'yes', 'yes', 2.0, 1.0, 0.0, 0.0, 0.0, 0.0, 0.0, 0.0, 7.0, 0.0, 0.0, 1.0, 1.0, [2.0, 1.0, 7.0, 0.0, 0.0, 1.0, 0.0, 0.0, 0.0, 0.0, 0.0, 1.0, 0.0, 30.0, 2658.0, 3.0, 3.0, 30.0, 41.0, 1.0, 1.0], [13.732643128542636, 6.267356871457365], [0.6866321564271318, 0.3133678435728683], 0.0, 'No Risk'], ['no_checking', 11, 'credits_paid_to_date', 'furniture', 9429, '500_to_1000', 'greater_7', 4, 'male', 'none', 3, 'unknown', 47, 'none', 'own', 2, 'skilled', 1, 'none', 'yes', 0.0, 1.0, 2.0, 2.0, 0.0, 0.0, 0.0, 0.0, 1.0, 0.0, 3.0, 0.0, 0.0, [0.0, 1.0, 1.0, 2.0, 2.0, 0.0, 0.0, 3.0, 0.0, 0.0, 0.0, 0.0, 0.0, 11.0, 9429.0, 4.0, 3.0, 11.0, 47.0, 2.0, 1.0], [8.296112528083658, 11.703887471916344], [0.4148056264041829, 0.5851943735958172], 1.0, 'Risk'], ['less_0', 11, 'prior_payments_delayed', 'retraining', 1491, 'less_100', 'less_1', 2, 'female', 'none', 1, 'savings_insurance', 25, 'none', 'own', 1, 'skilled', 1, 'none', 'yes', 1.0, 0.0, 3.0, 0.0, 0.0, 0.0, 0.0, 0.0, 8.0, 0.0, 0.0, 1.0, 0.0, [21, [0, 2, 4, 5, 13, 14, 15, 16, 17, 18, 19, 20], [1.0, 8.0, 3.0, 1.0, 11.0, 1491.0, 2.0, 1.0, 11.0, 25.0, 1.0, 1.0]], [18.9663220983923, 1.0336779016076998], [0.948316104919615, 0.05168389508038499], 0.0, 'No Risk'], ['no_checking', 26, 'credits_paid_to_date', 'car_used', 3922, '100_to_500', '4_to_7', 3, 'male', 'guarantor', 3, 'savings_insurance', 57, 'none', 'free', 2, 'skilled', 1, 'yes', 'yes', 0.0, 1.0, 1.0, 1.0, 0.0, 2.0, 0.0, 0.0, 2.0, 2.0, 0.0, 0.0, 1.0, [0.0, 1.0, 2.0, 1.0, 1.0, 0.0, 2.0, 0.0, 0.0, 2.0, 0.0, 1.0, 0.0, 26.0, 3922.0, 3.0, 3.0, 26.0, 57.0, 2.0, 1.0], [6.965457839872954, 13.034542160127044], [0.3482728919936477, 0.6517271080063523], 1.0, 'Risk'], ['no_checking', 20, 'credits_paid_to_date', 'retraining', 5941, 'less_100', 'less_1', 3, 'male', 'none', 3, 'savings_insurance', 33, 'none', 'own', 1, 'management_self-employed', 1, 'none', 'yes', 0.0, 1.0, 3.0, 0.0, 0.0, 0.0, 0.0, 2.0, 8.0, 0.0, 0.0, 0.0, 0.0, [21, [1, 2, 4, 10, 13, 14, 15, 16, 17, 18, 19, 20], [1.0, 8.0, 3.0, 2.0, 20.0, 5941.0, 3.0, 3.0, 20.0, 33.0, 1.0, 1.0]], [15.502701283647696, 4.49729871635231], [0.7751350641823845, 0.2248649358176154], 0.0, 'No Risk'], ['less_0', 14, 'credits_paid_to_date', 'vacation', 2594, 'less_100', '4_to_7', 2, 'female', 'none', 2, 'car_other', 29, 'none', 'rent', 1, 'skilled', 1, 'none', 'yes', 1.0, 1.0, 1.0, 0.0, 0.0, 1.0, 0.0, 0.0, 6.0, 0.0, 1.0, 1.0, 0.0, [1.0, 1.0, 6.0, 0.0, 1.0, 1.0, 0.0, 1.0, 0.0, 1.0, 0.0, 0.0, 0.0, 14.0, 2594.0, 2.0, 2.0, 14.0, 29.0, 1.0, 1.0], [16.928169511881038, 3.071830488118963], [0.8464084755940519, 0.15359152440594814], 0.0, 'No Risk'], ['no_checking', 16, 'prior_payments_delayed', 'furniture', 2149, '100_to_500', '1_to_4', 2, 'male', 'none', 3, 'savings_insurance', 32, 'none', 'own', 2, 'skilled', 1, 'none', 'yes', 0.0, 0.0, 0.0, 1.0, 0.0, 0.0, 0.0, 0.0, 1.0, 0.0, 0.0, 0.0, 0.0, [21, [2, 3, 13, 14, 15, 16, 17, 18, 19, 20], [1.0, 1.0, 16.0, 2149.0, 2.0, 3.0, 16.0, 32.0, 2.0, 1.0]], [15.373693159708461, 4.626306840291536], [0.7686846579854232, 0.23131534201457685], 0.0, 'No Risk'], ['less_0', 8, 'all_credits_paid_back', 'car_used', 250, '100_to_500', '4_to_7', 3, 'male', 'none', 2, 'savings_insurance', 29, 'none', 'own', 1, 'skilled', 1, 'none', 'yes', 1.0, 3.0, 1.0, 1.0, 0.0, 0.0, 0.0, 0.0, 2.0, 0.0, 0.0, 0.0, 0.0, [1.0, 3.0, 2.0, 1.0, 1.0, 0.0, 0.0, 0.0, 0.0, 0.0, 0.0, 0.0, 0.0, 8.0, 250.0, 3.0, 2.0, 8.0, 29.0, 1.0, 1.0], [18.746148955816683, 1.253851044183316], [0.9373074477908341, 0.0626925522091658], 0.0, 'No Risk'], ['no_checking', 38, 'outstanding_credit', 'radio_tv', 3054, 'greater_1000', 'greater_7', 4, 'male', 'co-applicant', 5, 'unknown', 44, 'none', 'own', 1, 'skilled', 1, 'none', 'yes', 0.0, 2.0, 2.0, 3.0, 0.0, 0.0, 0.0, 0.0, 3.0, 1.0, 3.0, 0.0, 0.0, [0.0, 2.0, 3.0, 3.0, 2.0, 0.0, 1.0, 3.0, 0.0, 0.0, 0.0, 0.0, 0.0, 38.0, 3054.0, 4.0, 5.0, 38.0, 44.0, 1.0, 1.0], [6.300383669738054, 13.699616330261945], [0.3150191834869027, 0.6849808165130973], 1.0, 'Risk'], ['greater_200', 24, 'credits_paid_to_date', 'radio_tv', 4010, '100_to_500', '1_to_4', 3, 'male', 'none', 3, 'real_estate', 30, 'stores', 'rent', 1, 'unskilled', 1, 'none', 'yes', 3.0, 1.0, 0.0, 1.0, 0.0, 1.0, 1.0, 1.0, 3.0, 0.0, 2.0, 0.0, 0.0, [3.0, 1.0, 3.0, 1.0, 0.0, 0.0, 0.0, 2.0, 1.0, 1.0, 1.0, 0.0, 0.0, 24.0, 4010.0, 3.0, 3.0, 24.0, 30.0, 1.0, 1.0], [15.0766525951992, 4.9233474048008], [0.75383262975996, 0.24616737024003998], 0.0, 'No Risk'], ['no_checking', 27, 'prior_payments_delayed', 'furniture', 4537, '500_to_1000', '4_to_7', 3, 'male', 'none', 3, 'savings_insurance', 43, 'stores', 'own', 1, 'unskilled', 2, 'yes', 'yes', 0.0, 0.0, 1.0, 2.0, 0.0, 0.0, 1.0, 1.0, 1.0, 0.0, 0.0, 0.0, 1.0, [0.0, 0.0, 1.0, 2.0, 1.0, 0.0, 0.0, 0.0, 1.0, 0.0, 1.0, 1.0, 0.0, 27.0, 4537.0, 3.0, 3.0, 27.0, 43.0, 1.0, 2.0], [11.88108254116366, 8.11891745883634], [0.5940541270581831, 0.40594587294181694], 0.0, 'No Risk'], ['no_checking', 21, 'credits_paid_to_date', 'retraining', 5211, '100_to_500', '1_to_4', 4, 'male', 'none', 3, 'savings_insurance', 22, 'none', 'free', 2, 'management_self-employed', 1, 'none', 'yes', 0.0, 1.0, 0.0, 1.0, 0.0, 2.0, 0.0, 2.0, 8.0, 0.0, 0.0, 0.0, 0.0, [0.0, 1.0, 8.0, 1.0, 0.0, 0.0, 0.0, 0.0, 0.0, 2.0, 2.0, 0.0, 0.0, 21.0, 5211.0, 4.0, 3.0, 21.0, 22.0, 2.0, 1.0], [14.003054451189632, 5.996945548810364], [0.7001527225594817, 0.29984727744051826], 0.0, 'No Risk'], ['0_to_200', 24, 'credits_paid_to_date', 'furniture', 250, 'less_100', '1_to_4', 1, 'female', 'none', 1, 'real_estate', 19, 'bank', 'rent', 1, 'unemployed', 1, 'none', 'yes', 2.0, 1.0, 0.0, 0.0, 0.0, 1.0, 2.0, 3.0, 1.0, 0.0, 2.0, 1.0, 0.0, [2.0, 1.0, 1.0, 0.0, 0.0, 1.0, 0.0, 2.0, 2.0, 1.0, 3.0, 0.0, 0.0, 24.0, 250.0, 1.0, 1.0, 24.0, 19.0, 1.0, 1.0], [18.167751651192518, 1.832248348807489], [0.9083875825596256, 0.09161241744037442], 0.0, 'No Risk'], ['greater_200', 32, 'prior_payments_delayed', 'radio_tv', 3489, '100_to_500', 'greater_7', 4, 'male', 'none', 4, 'car_other', 43, 'none', 'own', 2, 'management_self-employed', 1, 'yes', 'yes', 3.0, 0.0, 2.0, 1.0, 0.0, 0.0, 0.0, 2.0, 3.0, 0.0, 1.0, 0.0, 1.0, [3.0, 0.0, 3.0, 1.0, 2.0, 0.0, 0.0, 1.0, 0.0, 0.0, 2.0, 1.0, 0.0, 32.0, 3489.0, 4.0, 4.0, 32.0, 43.0, 2.0, 1.0], [9.791861312006395, 10.208138687993603], [0.48959306560031973, 0.5104069343996802], 1.0, 'Risk'], ['less_0', 14, 'all_credits_paid_back', 'furniture', 375, '500_to_1000', '1_to_4', 1, 'female', 'none', 2, 'car_other', 38, 'stores', 'own', 2, 'unskilled', 1, 'none', 'yes', 1.0, 3.0, 0.0, 2.0, 0.0, 0.0, 1.0, 1.0, 1.0, 0.0, 1.0, 1.0, 0.0, [1.0, 3.0, 1.0, 2.0, 0.0, 1.0, 0.0, 1.0, 1.0, 0.0, 1.0, 0.0, 0.0, 14.0, 375.0, 1.0, 2.0, 14.0, 38.0, 2.0, 1.0], [16.32709127451056, 3.672908725489438], [0.8163545637255281, 0.18364543627447188], 0.0, 'No Risk'], ['no_checking', 27, 'outstanding_credit', 'furniture', 2439, 'greater_1000', '1_to_4', 4, 'male', 'none', 4, 'car_other', 50, 'none', 'own', 1, 'management_self-employed', 1, 'yes', 'yes', 0.0, 2.0, 0.0, 3.0, 0.0, 0.0, 0.0, 2.0, 1.0, 0.0, 1.0, 0.0, 1.0, [0.0, 2.0, 1.0, 3.0, 0.0, 0.0, 0.0, 1.0, 0.0, 0.0, 2.0, 1.0, 0.0, 27.0, 2439.0, 4.0, 4.0, 27.0, 50.0, 1.0, 1.0], [12.654737992362278, 7.3452620076377215], [0.632736899618114, 0.3672631003818861], 0.0, 'No Risk'], ['no_checking', 28, 'prior_payments_delayed', 'radio_tv', 5426, '100_to_500', '4_to_7', 4, 'male', 'none', 5, 'car_other', 45, 'none', 'own', 2, 'management_self-employed', 1, 'none', 'yes', 0.0, 0.0, 1.0, 1.0, 0.0, 0.0, 0.0, 2.0, 3.0, 0.0, 1.0, 0.0, 0.0, [0.0, 0.0, 3.0, 1.0, 1.0, 0.0, 0.0, 1.0, 0.0, 0.0, 2.0, 0.0, 0.0, 28.0, 5426.0, 4.0, 5.0, 28.0, 45.0, 2.0, 1.0], [10.457376097456695, 9.542623902543303], [0.5228688048728347, 0.4771311951271652], 0.0, 'No Risk'], ['less_0', 14, 'prior_payments_delayed', 'car_new', 3663, 'less_100', '4_to_7', 2, 'male', 'none', 2, 'savings_insurance', 19, 'stores', 'rent', 1, 'skilled', 1, 'none', 'yes', 1.0, 0.0, 1.0, 0.0, 0.0, 1.0, 1.0, 0.0, 0.0, 0.0, 0.0, 0.0, 0.0, [21, [0, 4, 8, 9, 13, 14, 15, 16, 17, 18, 19, 20], [1.0, 1.0, 1.0, 1.0, 14.0, 3663.0, 2.0, 2.0, 14.0, 19.0, 1.0, 1.0]], [17.71204922008516, 2.2879507799148433], [0.8856024610042578, 0.11439753899574215], 0.0, 'No Risk'], ['less_0', 5, 'all_credits_paid_back', 'car_new', 250, 'less_100', 'less_1', 2, 'female', 'none', 1, 'savings_insurance', 22, 'none', 'own', 1, 'skilled', 1, 'none', 'yes', 1.0, 3.0, 3.0, 0.0, 0.0, 0.0, 0.0, 0.0, 0.0, 0.0, 0.0, 1.0, 0.0, [21, [0, 1, 4, 5, 13, 14, 15, 16, 17, 18, 19, 20], [1.0, 3.0, 3.0, 1.0, 5.0, 250.0, 2.0, 1.0, 5.0, 22.0, 1.0, 1.0]], [19.375519596791364, 0.6244804032086355], [0.9687759798395682, 0.031224020160431777], 0.0, 'No Risk'], ['less_0', 17, 'prior_payments_delayed', 'furniture', 3470, 'less_100', '4_to_7', 3, 'female', 'none', 3, 'car_other', 35, 'none', 'rent', 1, 'skilled', 1, 'none', 'yes', 1.0, 0.0, 1.0, 0.0, 0.0, 1.0, 0.0, 0.0, 1.0, 0.0, 1.0, 1.0, 0.0, [1.0, 0.0, 1.0, 0.0, 1.0, 1.0, 0.0, 1.0, 0.0, 1.0, 0.0, 0.0, 0.0, 17.0, 3470.0, 3.0, 3.0, 17.0, 35.0, 1.0, 1.0], [14.372359059228137, 5.627640940771867], [0.7186179529614067, 0.2813820470385933], 0.0, 'No Risk'], ['no_checking', 24, 'prior_payments_delayed', 'repairs', 1761, '100_to_500', '1_to_4', 3, 'male', 'none', 4, 'real_estate', 33, 'none', 'rent', 1, 'skilled', 2, 'none', 'no', 0.0, 0.0, 0.0, 1.0, 1.0, 1.0, 0.0, 0.0, 5.0, 0.0, 2.0, 0.0, 0.0, [0.0, 0.0, 5.0, 1.0, 0.0, 0.0, 0.0, 2.0, 0.0, 1.0, 0.0, 0.0, 1.0, 24.0, 1761.0, 3.0, 4.0, 24.0, 33.0, 1.0, 2.0], [14.495762823470018, 5.504237176529982], [0.7247881411735009, 0.27521185882649907], 0.0, 'No Risk'], ['0_to_200', 15, 'prior_payments_delayed', 'furniture', 4946, 'less_100', 'greater_7', 4, 'male', 'none', 4, 'savings_insurance', 22, 'none', 'own', 1, 'management_self-employed', 1, 'none', 'yes', 2.0, 0.0, 2.0, 0.0, 0.0, 0.0, 0.0, 2.0, 1.0, 0.0, 0.0, 0.0, 0.0, [21, [0, 2, 4, 10, 13, 14, 15, 16, 17, 18, 19, 20], [2.0, 1.0, 2.0, 2.0, 15.0, 4946.0, 4.0, 4.0, 15.0, 22.0, 1.0, 1.0]], [15.38265199500876, 4.617348004991239], [0.769132599750438, 0.23086740024956195], 0.0, 'No Risk'], ['0_to_200', 4, 'credits_paid_to_date', 'furniture', 1921, 'less_100', 'less_1', 2, 'female', 'none', 3, 'savings_insurance', 21, 'none', 'rent', 1, 'management_self-employed', 1, 'none', 'yes', 2.0, 1.0, 3.0, 0.0, 0.0, 1.0, 0.0, 2.0, 1.0, 0.0, 0.0, 1.0, 0.0, [2.0, 1.0, 1.0, 0.0, 3.0, 1.0, 0.0, 0.0, 0.0, 1.0, 2.0, 0.0, 0.0, 4.0, 1921.0, 2.0, 3.0, 4.0, 21.0, 1.0, 1.0], [18.84200573495107, 1.1579942650489328], [0.9421002867475533, 0.05789971325244663], 0.0, 'No Risk'], ['no_checking', 31, 'outstanding_credit', 'furniture', 5280, '500_to_1000', 'greater_7', 5, 'male', 'co-applicant', 5, 'savings_insurance', 50, 'stores', 'own', 3, 'unskilled', 2, 'yes', 'yes', 0.0, 2.0, 2.0, 2.0, 0.0, 0.0, 1.0, 1.0, 1.0, 1.0, 0.0, 0.0, 1.0, [0.0, 2.0, 1.0, 2.0, 2.0, 0.0, 1.0, 0.0, 1.0, 0.0, 1.0, 1.0, 0.0, 31.0, 5280.0, 5.0, 5.0, 31.0, 50.0, 3.0, 2.0], [5.67892075224041, 14.321079247759588], [0.28394603761202053, 0.7160539623879794], 1.0, 'Risk'], ['0_to_200', 25, 'credits_paid_to_date', 'furniture', 3307, 'less_100', 'less_1', 3, 'female', 'none', 3, 'car_other', 28, 'none', 'own', 1, 'skilled', 1, 'none', 'yes', 2.0, 1.0, 3.0, 0.0, 0.0, 0.0, 0.0, 0.0, 1.0, 0.0, 1.0, 1.0, 0.0, [2.0, 1.0, 1.0, 0.0, 3.0, 1.0, 0.0, 1.0, 0.0, 0.0, 0.0, 0.0, 0.0, 25.0, 3307.0, 3.0, 3.0, 25.0, 28.0, 1.0, 1.0], [15.825492595512145, 4.174507404487856], [0.7912746297756073, 0.2087253702243928], 0.0, 'No Risk'], ['less_0', 16, 'credits_paid_to_date', 'car_new', 1318, 'less_100', 'unemployed', 2, 'female', 'none', 2, 'real_estate', 20, 'bank', 'rent', 1, 'unskilled', 1, 'none', 'yes', 1.0, 1.0, 4.0, 0.0, 0.0, 1.0, 2.0, 1.0, 0.0, 0.0, 2.0, 1.0, 0.0, [1.0, 1.0, 0.0, 0.0, 4.0, 1.0, 0.0, 2.0, 2.0, 1.0, 1.0, 0.0, 0.0, 16.0, 1318.0, 2.0, 2.0, 16.0, 20.0, 1.0, 1.0], [19.27579073175888, 0.7242092682411196], [0.9637895365879441, 0.036210463412055985], 0.0, 'No Risk'], ['no_checking', 37, 'outstanding_credit', 'repairs', 6812, 'greater_1000', '4_to_7', 4, 'male', 'co-applicant', 5, 'unknown', 68, 'none', 'free', 2, 'management_self-employed', 2, 'yes', 'yes', 0.0, 2.0, 1.0, 3.0, 0.0, 2.0, 0.0, 2.0, 5.0, 1.0, 3.0, 0.0, 1.0, [0.0, 2.0, 5.0, 3.0, 1.0, 0.0, 1.0, 3.0, 0.0, 2.0, 2.0, 1.0, 0.0, 37.0, 6812.0, 4.0, 5.0, 37.0, 68.0, 2.0, 2.0], [3.1241337169362224, 16.875866283063772], [0.1562066858468112, 0.8437933141531889], 1.0, 'Risk'], ['less_0', 14, 'credits_paid_to_date', 'car_new', 1034, 'less_100', '4_to_7', 3, 'male', 'none', 3, 'real_estate', 32, 'none', 'own', 1, 'skilled', 1, 'yes', 'yes', 1.0, 1.0, 1.0, 0.0, 0.0, 0.0, 0.0, 0.0, 0.0, 0.0, 2.0, 0.0, 1.0, [1.0, 1.0, 0.0, 0.0, 1.0, 0.0, 0.0, 2.0, 0.0, 0.0, 0.0, 1.0, 0.0, 14.0, 1034.0, 3.0, 3.0, 14.0, 32.0, 1.0, 1.0], [16.842382694055186, 3.1576173059448123], [0.8421191347027595, 0.15788086529724063], 0.0, 'No Risk'], ['greater_200', 38, 'prior_payments_delayed', 'appliances', 3996, '100_to_500', 'less_1', 4, 'male', 'none', 3, 'car_other', 32, 'none', 'own', 1, 'skilled', 1, 'yes', 'yes', 3.0, 0.0, 3.0, 1.0, 0.0, 0.0, 0.0, 0.0, 4.0, 0.0, 1.0, 0.0, 1.0, [3.0, 0.0, 4.0, 1.0, 3.0, 0.0, 0.0, 1.0, 0.0, 0.0, 0.0, 1.0, 0.0, 38.0, 3996.0, 4.0, 3.0, 38.0, 32.0, 1.0, 1.0], [14.740936036606193, 5.259063963393805], [0.7370468018303097, 0.26295319816969026], 0.0, 'No Risk'], ['0_to_200', 26, 'credits_paid_to_date', 'radio_tv', 2271, 'less_100', '4_to_7', 3, 'male', 'none', 3, 'real_estate', 28, 'none', 'rent', 1, 'skilled', 2, 'yes', 'yes', 2.0, 1.0, 1.0, 0.0, 0.0, 1.0, 0.0, 0.0, 3.0, 0.0, 2.0, 0.0, 1.0, [2.0, 1.0, 3.0, 0.0, 1.0, 0.0, 0.0, 2.0, 0.0, 1.0, 0.0, 1.0, 0.0, 26.0, 2271.0, 3.0, 3.0, 26.0, 28.0, 1.0, 2.0], [15.310125289487832, 4.689874710512165], [0.7655062644743917, 0.23449373552560832], 0.0, 'No Risk'], ['no_checking', 40, 'outstanding_credit', 'repairs', 6760, 'greater_1000', 'greater_7', 5, 'male', 'co-applicant', 5, 'car_other', 48, 'none', 'free', 2, 'management_self-employed', 1, 'yes', 'yes', 0.0, 2.0, 2.0, 3.0, 0.0, 2.0, 0.0, 2.0, 5.0, 1.0, 1.0, 0.0, 1.0, [0.0, 2.0, 5.0, 3.0, 2.0, 0.0, 1.0, 1.0, 0.0, 2.0, 2.0, 1.0, 0.0, 40.0, 6760.0, 5.0, 5.0, 40.0, 48.0, 2.0, 1.0], [1.999819104522812, 18.000180895477186], [0.09999095522614061, 0.9000090447738595], 1.0, 'Risk'], ['0_to_200', 23, 'credits_paid_to_date', 'radio_tv', 3295, 'greater_1000', 'less_1', 3, 'female', 'none', 3, 'car_other', 34, 'none', 'rent', 2, 'skilled', 2, 'none', 'yes', 2.0, 1.0, 3.0, 3.0, 0.0, 1.0, 0.0, 0.0, 3.0, 0.0, 1.0, 1.0, 0.0, [2.0, 1.0, 3.0, 3.0, 3.0, 1.0, 0.0, 1.0, 0.0, 1.0, 0.0, 0.0, 0.0, 23.0, 3295.0, 3.0, 3.0, 23.0, 34.0, 2.0, 2.0], [14.932127165078102, 5.067872834921902], [0.746606358253905, 0.253393641746095], 0.0, 'No Risk'], ['less_0', 6, 'prior_payments_delayed', 'car_new', 250, '500_to_1000', '1_to_4', 2, 'female', 'none', 1, 'car_other', 24, 'stores', 'rent', 1, 'skilled', 1, 'none', 'yes', 1.0, 0.0, 0.0, 2.0, 0.0, 1.0, 1.0, 0.0, 0.0, 0.0, 1.0, 1.0, 0.0, [1.0, 0.0, 0.0, 2.0, 0.0, 1.0, 0.0, 1.0, 1.0, 1.0, 0.0, 0.0, 0.0, 6.0, 250.0, 2.0, 1.0, 6.0, 24.0, 1.0, 1.0], [17.881954450459887, 2.1180455495401134], [0.8940977225229944, 0.10590227747700567], 0.0, 'No Risk'], ['no_checking', 19, 'credits_paid_to_date', 'radio_tv', 5534, 'greater_1000', 'less_1', 3, 'male', 'none', 2, 'real_estate', 32, 'none', 'own', 1, 'management_self-employed', 1, 'none', 'yes', 0.0, 1.0, 3.0, 3.0, 0.0, 0.0, 0.0, 2.0, 3.0, 0.0, 2.0, 0.0, 0.0, [0.0, 1.0, 3.0, 3.0, 3.0, 0.0, 0.0, 2.0, 0.0, 0.0, 2.0, 0.0, 0.0, 19.0, 5534.0, 3.0, 2.0, 19.0, 32.0, 1.0, 1.0], [17.61596939101218, 2.3840306089878225], [0.8807984695506089, 0.11920153044939112], 0.0, 'No Risk'], ['0_to_200', 18, 'credits_paid_to_date', 'car_new', 1411, 'less_100', '4_to_7', 3, 'male', 'none', 2, 'savings_insurance', 32, 'bank', 'own', 2, 'unemployed', 1, 'none', 'yes', 2.0, 1.0, 1.0, 0.0, 0.0, 0.0, 2.0, 3.0, 0.0, 0.0, 0.0, 0.0, 0.0, [2.0, 1.0, 0.0, 0.0, 1.0, 0.0, 0.0, 0.0, 2.0, 0.0, 3.0, 0.0, 0.0, 18.0, 1411.0, 3.0, 2.0, 18.0, 32.0, 2.0, 1.0], [16.13813570304886, 3.8618642969511425], [0.8069067851524429, 0.1930932148475571], 0.0, 'No Risk'], ['0_to_200', 11, 'prior_payments_delayed', 'furniture', 1163, '100_to_500', '4_to_7', 3, 'male', 'none', 2, 'car_other', 34, 'bank', 'own', 2, 'unskilled', 1, 'none', 'yes', 2.0, 0.0, 1.0, 1.0, 0.0, 0.0, 2.0, 1.0, 1.0, 0.0, 1.0, 0.0, 0.0, [2.0, 0.0, 1.0, 1.0, 1.0, 0.0, 0.0, 1.0, 2.0, 0.0, 1.0, 0.0, 0.0, 11.0, 1163.0, 3.0, 2.0, 11.0, 34.0, 2.0, 1.0], [16.122062984408547, 3.8779370155914585], [0.806103149220427, 0.19389685077957286], 0.0, 'No Risk'], ['no_checking', 26, 'prior_payments_delayed', 'repairs', 2371, '100_to_500', '1_to_4', 4, 'male', 'none', 4, 'real_estate', 33, 'none', 'own', 1, 'management_self-employed', 1, 'none', 'yes', 0.0, 0.0, 0.0, 1.0, 0.0, 0.0, 0.0, 2.0, 5.0, 0.0, 2.0, 0.0, 0.0, [21, [2, 3, 7, 10, 13, 14, 15, 16, 17, 18, 19, 20], [5.0, 1.0, 2.0, 2.0, 26.0, 2371.0, 4.0, 4.0, 26.0, 33.0, 1.0, 1.0]], [14.108520839666937, 5.891479160333059], [0.705426041983347, 0.29457395801665304], 0.0, 'No Risk'], ['greater_200', 26, 'prior_payments_delayed', 'furniture', 6249, '500_to_1000', 'less_1', 4, 'female', 'none', 3, 'car_other', 40, 'none', 'own', 2, 'skilled', 1, 'none', 'yes', 3.0, 0.0, 3.0, 2.0, 0.0, 0.0, 0.0, 0.0, 1.0, 0.0, 1.0, 1.0, 0.0, [3.0, 0.0, 1.0, 2.0, 3.0, 1.0, 0.0, 1.0, 0.0, 0.0, 0.0, 0.0, 0.0, 26.0, 6249.0, 4.0, 3.0, 26.0, 40.0, 2.0, 1.0], [11.720815426668121, 8.27918457333188], [0.586040771333406, 0.413959228666594], 0.0, 'No Risk'], ['less_0', 15, 'credits_paid_to_date', 'car_used', 2017, '500_to_1000', '4_to_7', 3, 'male', 'none', 3, 'car_other', 38, 'none', 'own', 2, 'skilled', 1, 'none', 'yes', 1.0, 1.0, 1.0, 2.0, 0.0, 0.0, 0.0, 0.0, 2.0, 0.0, 1.0, 0.0, 0.0, [1.0, 1.0, 2.0, 2.0, 1.0, 0.0, 0.0, 1.0, 0.0, 0.0, 0.0, 0.0, 0.0, 15.0, 2017.0, 3.0, 3.0, 15.0, 38.0, 2.0, 1.0], [14.820000008803305, 5.179999991196693], [0.7410000004401652, 0.25899999955983466], 0.0, 'No Risk'], ['no_checking', 42, 'prior_payments_delayed', 'appliances', 5205, 'unknown', '4_to_7', 4, 'male', 'none', 5, 'savings_insurance', 38, 'none', 'own', 2, 'skilled', 1, 'none', 'yes', 0.0, 0.0, 1.0, 4.0, 0.0, 0.0, 0.0, 0.0, 4.0, 0.0, 0.0, 0.0, 0.0, [21, [2, 3, 4, 13, 14, 15, 16, 17, 18, 19, 20], [4.0, 4.0, 1.0, 42.0, 5205.0, 4.0, 5.0, 42.0, 38.0, 2.0, 1.0]], [10.20267493141559, 9.79732506858441], [0.5101337465707795, 0.4898662534292205], 0.0, 'No Risk'], ['no_checking', 25, 'outstanding_credit', 'furniture', 2055, 'greater_1000', 'greater_7', 3, 'male', 'none', 4, 'unknown', 49, 'none', 'own', 1, 'skilled', 1, 'none', 'yes', 0.0, 2.0, 2.0, 3.0, 0.0, 0.0, 0.0, 0.0, 1.0, 0.0, 3.0, 0.0, 0.0, [0.0, 2.0, 1.0, 3.0, 2.0, 0.0, 0.0, 3.0, 0.0, 0.0, 0.0, 0.0, 0.0, 25.0, 2055.0, 3.0, 4.0, 25.0, 49.0, 1.0, 1.0], [8.951881429360434, 11.048118570639566], [0.44759407146802166, 0.5524059285319783], 1.0, 'Risk'], ['less_0', 15, 'credits_paid_to_date', 'car_new', 1782, '500_to_1000', '4_to_7', 3, 'male', 'none', 1, 'savings_insurance', 28, 'stores', 'own', 1, 'unskilled', 1, 'none', 'yes', 1.0, 1.0, 1.0, 2.0, 0.0, 0.0, 1.0, 1.0, 0.0, 0.0, 0.0, 0.0, 0.0, [1.0, 1.0, 0.0, 2.0, 1.0, 0.0, 0.0, 0.0, 1.0, 0.0, 1.0, 0.0, 0.0, 15.0, 1782.0, 3.0, 1.0, 15.0, 28.0, 1.0, 1.0], [18.294383830525263, 1.7056161694747347], [0.9147191915262632, 0.08528080847373674], 0.0, 'No Risk'], ['no_checking', 38, 'prior_payments_delayed', 'other', 10775, 'greater_1000', 'greater_7', 5, 'male', 'co-applicant', 4, 'unknown', 56, 'none', 'free', 3, 'skilled', 2, 'yes', 'yes', 0.0, 0.0, 2.0, 3.0, 0.0, 2.0, 0.0, 0.0, 10.0, 1.0, 3.0, 0.0, 1.0, [0.0, 0.0, 10.0, 3.0, 2.0, 0.0, 1.0, 3.0, 0.0, 2.0, 0.0, 1.0, 0.0, 38.0, 10775.0, 5.0, 4.0, 38.0, 56.0, 3.0, 2.0], [1.6329454136130326, 18.367054586386963], [0.08164727068065164, 0.9183527293193483], 1.0, 'Risk'], ['0_to_200', 7, 'prior_payments_delayed', 'car_new', 250, 'less_100', '1_to_4', 3, 'male', 'none', 1, 'savings_insurance', 20, 'none', 'own', 1, 'skilled', 1, 'none', 'yes', 2.0, 0.0, 0.0, 0.0, 0.0, 0.0, 0.0, 0.0, 0.0, 0.0, 0.0, 0.0, 0.0, [21, [0, 13, 14, 15, 16, 17, 18, 19, 20], [2.0, 7.0, 250.0, 3.0, 1.0, 7.0, 20.0, 1.0, 1.0]], [18.63130403341422, 1.368695966585779], [0.931565201670711, 0.06843479832928895], 0.0, 'No Risk'], ['no_checking', 15, 'outstanding_credit', 'car_used', 3513, 'greater_1000', '1_to_4', 3, 'male', 'none', 3, 'car_other', 51, 'none', 'own', 1, 'skilled', 1, 'none', 'yes', 0.0, 2.0, 0.0, 3.0, 0.0, 0.0, 0.0, 0.0, 2.0, 0.0, 1.0, 0.0, 0.0, [21, [1, 2, 3, 7, 13, 14, 15, 16, 17, 18, 19, 20], [2.0, 2.0, 3.0, 1.0, 15.0, 3513.0, 3.0, 3.0, 15.0, 51.0, 1.0, 1.0]], [12.258114354399874, 7.741885645600126], [0.6129057177199937, 0.3870942822800063], 0.0, 'No Risk'], ['no_checking', 29, 'credits_paid_to_date', 'radio_tv', 5231, 'greater_1000', '4_to_7', 4, 'male', 'none', 3, 'car_other', 53, 'none', 'own', 3, 'skilled', 2, 'yes', 'yes', 0.0, 1.0, 1.0, 3.0, 0.0, 0.0, 0.0, 0.0, 3.0, 0.0, 1.0, 0.0, 1.0, [0.0, 1.0, 3.0, 3.0, 1.0, 0.0, 0.0, 1.0, 0.0, 0.0, 0.0, 1.0, 0.0, 29.0, 5231.0, 4.0, 3.0, 29.0, 53.0, 3.0, 2.0], [8.979857274907383, 11.020142725092615], [0.4489928637453692, 0.5510071362546307], 1.0, 'Risk'], ['no_checking', 26, 'prior_payments_delayed', 'car_used', 8189, '500_to_1000', '4_to_7', 4, 'male', 'none', 5, 'savings_insurance', 40, 'none', 'own', 2, 'management_self-employed', 1, 'none', 'yes', 0.0, 0.0, 1.0, 2.0, 0.0, 0.0, 0.0, 2.0, 2.0, 0.0, 0.0, 0.0, 0.0, [21, [2, 3, 4, 10, 13, 14, 15, 16, 17, 18, 19, 20], [2.0, 2.0, 1.0, 2.0, 26.0, 8189.0, 4.0, 5.0, 26.0, 40.0, 2.0, 1.0]], [10.280576723880024, 9.719423276119974], [0.5140288361940012, 0.4859711638059987], 0.0, 'No Risk'], ['no_checking', 28, 'prior_payments_delayed', 'repairs', 5622, 'greater_1000', 'greater_7', 3, 'male', 'none', 4, 'savings_insurance', 43, 'stores', 'own', 2, 'unskilled', 1, 'yes', 'yes', 0.0, 0.0, 2.0, 3.0, 0.0, 0.0, 1.0, 1.0, 5.0, 0.0, 0.0, 0.0, 1.0, [0.0, 0.0, 5.0, 3.0, 2.0, 0.0, 0.0, 0.0, 1.0, 0.0, 1.0, 1.0, 0.0, 28.0, 5622.0, 3.0, 4.0, 28.0, 43.0, 2.0, 1.0], [11.092986879705856, 8.907013120294147], [0.5546493439852928, 0.4453506560147073], 0.0, 'No Risk'], ['less_0', 24, 'prior_payments_delayed', 'furniture', 2603, '500_to_1000', '1_to_4', 3, 'male', 'none', 3, 'savings_insurance', 26, 'bank', 'rent', 1, 'unskilled', 1, 'none', 'yes', 1.0, 0.0, 0.0, 2.0, 0.0, 1.0, 2.0, 1.0, 1.0, 0.0, 0.0, 0.0, 0.0, [1.0, 0.0, 1.0, 2.0, 0.0, 0.0, 0.0, 0.0, 2.0, 1.0, 1.0, 0.0, 0.0, 24.0, 2603.0, 3.0, 3.0, 24.0, 26.0, 1.0, 1.0], [15.712283989862506, 4.287716010137492], [0.7856141994931253, 0.2143858005068746], 0.0, 'No Risk'], ['less_0', 21, 'credits_paid_to_date', 'furniture', 250, '500_to_1000', '1_to_4', 3, 'male', 'none', 3, 'savings_insurance', 19, 'stores', 'rent', 1, 'skilled', 1, 'none', 'yes', 1.0, 1.0, 0.0, 2.0, 0.0, 1.0, 1.0, 0.0, 1.0, 0.0, 0.0, 0.0, 0.0, [1.0, 1.0, 1.0, 2.0, 0.0, 0.0, 0.0, 0.0, 1.0, 1.0, 0.0, 0.0, 0.0, 21.0, 250.0, 3.0, 3.0, 21.0, 19.0, 1.0, 1.0], [15.866935472774802, 4.133064527225198], [0.7933467736387401, 0.20665322636125988], 0.0, 'No Risk'], ['no_checking', 46, 'outstanding_credit', 'radio_tv', 8036, 'unknown', '4_to_7', 4, 'female', 'co-applicant', 5, 'unknown', 60, 'bank', 'own', 2, 'unemployed', 2, 'yes', 'yes', 0.0, 2.0, 1.0, 4.0, 0.0, 0.0, 2.0, 3.0, 3.0, 1.0, 3.0, 1.0, 1.0, [0.0, 2.0, 3.0, 4.0, 1.0, 1.0, 1.0, 3.0, 2.0, 0.0, 3.0, 1.0, 0.0, 46.0, 8036.0, 4.0, 5.0, 46.0, 60.0, 2.0, 2.0], [5.622290604659392, 14.377709395340606], [0.2811145302329696, 0.7188854697670303], 1.0, 'Risk'], ['no_checking', 40, 'prior_payments_delayed', 'repairs', 5855, '500_to_1000', 'greater_7', 5, 'male', 'co-applicant', 4, 'unknown', 48, 'stores', 'own', 2, 'unskilled', 1, 'yes', 'yes', 0.0, 0.0, 2.0, 2.0, 0.0, 0.0, 1.0, 1.0, 5.0, 1.0, 3.0, 0.0, 1.0, [0.0, 0.0, 5.0, 2.0, 2.0, 0.0, 1.0, 3.0, 1.0, 0.0, 1.0, 1.0, 0.0, 40.0, 5855.0, 5.0, 4.0, 40.0, 48.0, 2.0, 1.0], [3.465303726625732, 16.534696273374266], [0.17326518633128662, 0.8267348136687135], 1.0, 'Risk'], ['no_checking', 8, 'credits_paid_to_date', 'car_used', 3638, 'less_100', 'unemployed', 3, 'female', 'none', 3, 'real_estate', 30, 'stores', 'rent', 1, 'skilled', 1, 'none', 'yes', 0.0, 1.0, 4.0, 0.0, 0.0, 1.0, 1.0, 0.0, 2.0, 0.0, 2.0, 1.0, 0.0, [0.0, 1.0, 2.0, 0.0, 4.0, 1.0, 0.0, 2.0, 1.0, 1.0, 0.0, 0.0, 0.0, 8.0, 3638.0, 3.0, 3.0, 8.0, 30.0, 1.0, 1.0], [17.61085593945661, 2.389144060543391], [0.8805427969728304, 0.11945720302716956], 0.0, 'No Risk'], ['no_checking', 31, 'prior_payments_delayed', 'appliances', 6980, '100_to_500', '4_to_7', 3, 'male', 'none', 3, 'savings_insurance', 46, 'none', 'free', 2, 'skilled', 1, 'yes', 'yes', 0.0, 0.0, 1.0, 1.0, 0.0, 2.0, 0.0, 0.0, 4.0, 0.0, 0.0, 0.0, 1.0, [0.0, 0.0, 4.0, 1.0, 1.0, 0.0, 0.0, 0.0, 0.0, 2.0, 0.0, 1.0, 0.0, 31.0, 6980.0, 3.0, 3.0, 31.0, 46.0, 2.0, 1.0], [8.671776283872235, 11.328223716127765], [0.4335888141936118, 0.5664111858063883], 1.0, 'Risk'], ['no_checking', 48, 'outstanding_credit', 'appliances', 8530, 'greater_1000', 'greater_7', 6, 'female', 'co-applicant', 5, 'car_other', 45, 'stores', 'free', 3, 'unskilled', 2, 'yes', 'yes', 0.0, 2.0, 2.0, 3.0, 0.0, 2.0, 1.0, 1.0, 4.0, 1.0, 1.0, 1.0, 1.0, [0.0, 2.0, 4.0, 3.0, 2.0, 1.0, 1.0, 1.0, 1.0, 2.0, 1.0, 1.0, 0.0, 48.0, 8530.0, 6.0, 5.0, 48.0, 45.0, 3.0, 2.0], [2.4496615744744226, 17.550338425525574], [0.12248307872372115, 0.8775169212762789], 1.0, 'Risk'], ['0_to_200', 15, 'credits_paid_to_date', 'car_new', 1128, 'less_100', '1_to_4', 2, 'male', 'none', 1, 'savings_insurance', 28, 'none', 'own', 1, 'skilled', 1, 'none', 'yes', 2.0, 1.0, 0.0, 0.0, 0.0, 0.0, 0.0, 0.0, 0.0, 0.0, 0.0, 0.0, 0.0, [21, [0, 1, 13, 14, 15, 16, 17, 18, 19, 20], [2.0, 1.0, 15.0, 1128.0, 2.0, 1.0, 15.0, 28.0, 1.0, 1.0]], [18.246818842812814, 1.7531811571871856], [0.9123409421406408, 0.08765905785935928], 0.0, 'No Risk'], ['less_0', 4, 'all_credits_paid_back', 'radio_tv', 250, 'less_100', 'unemployed', 1, 'female', 'none', 1, 'real_estate', 19, 'none', 'rent', 1, 'skilled', 1, 'none', 'yes', 1.0, 3.0, 4.0, 0.0, 0.0, 1.0, 0.0, 0.0, 3.0, 0.0, 2.0, 1.0, 0.0, [1.0, 3.0, 3.0, 0.0, 4.0, 1.0, 0.0, 2.0, 0.0, 1.0, 0.0, 0.0, 0.0, 4.0, 250.0, 1.0, 1.0, 4.0, 19.0, 1.0, 1.0], [19.557317089819676, 0.4426829101803208], [0.977865854490984, 0.022134145509016045], 0.0, 'No Risk'], ['no_checking', 30, 'all_credits_paid_back', 'car_new', 5164, '500_to_1000', '4_to_7', 4, 'male', 'none', 4, 'savings_insurance', 35, 'none', 'own', 2, 'management_self-employed', 1, 'yes', 'yes', 0.0, 3.0, 1.0, 2.0, 0.0, 0.0, 0.0, 2.0, 0.0, 0.0, 0.0, 0.0, 1.0, [0.0, 3.0, 0.0, 2.0, 1.0, 0.0, 0.0, 0.0, 0.0, 0.0, 2.0, 1.0, 0.0, 30.0, 5164.0, 4.0, 4.0, 30.0, 35.0, 2.0, 1.0], [11.592175445918528, 8.407824554081472], [0.5796087722959264, 0.4203912277040736], 0.0, 'No Risk'], ['less_0', 16, 'credits_paid_to_date', 'car_used', 1215, 'less_100', 'less_1', 2, 'female', 'none', 3, 'real_estate', 33, 'none', 'rent', 1, 'skilled', 1, 'none', 'yes', 1.0, 1.0, 3.0, 0.0, 0.0, 1.0, 0.0, 0.0, 2.0, 0.0, 2.0, 1.0, 0.0, [1.0, 1.0, 2.0, 0.0, 3.0, 1.0, 0.0, 2.0, 0.0, 1.0, 0.0, 0.0, 0.0, 16.0, 1215.0, 2.0, 3.0, 16.0, 33.0, 1.0, 1.0], [17.757403818706607, 2.2425961812933974], [0.8878701909353302, 0.11212980906466985], 0.0, 'No Risk'], ['greater_200', 23, 'all_credits_paid_back', 'furniture', 2104, 'less_100', 'less_1', 2, 'female', 'none', 1, 'savings_insurance', 32, 'none', 'own', 1, 'skilled', 1, 'none', 'yes', 3.0, 3.0, 3.0, 0.0, 0.0, 0.0, 0.0, 0.0, 1.0, 0.0, 0.0, 1.0, 0.0, [3.0, 3.0, 1.0, 0.0, 3.0, 1.0, 0.0, 0.0, 0.0, 0.0, 0.0, 0.0, 0.0, 23.0, 2104.0, 2.0, 1.0, 23.0, 32.0, 1.0, 1.0], [16.995694201158468, 3.004305798841533], [0.8497847100579234, 0.15021528994207664], 0.0, 'No Risk'], ['no_checking', 36, 'outstanding_credit', 'repairs', 5337, 'greater_1000', '4_to_7', 5, 'male', 'co-applicant', 5, 'unknown', 57, 'none', 'free', 2, 'management_self-employed', 2, 'yes', 'no', 0.0, 2.0, 1.0, 3.0, 1.0, 2.0, 0.0, 2.0, 5.0, 1.0, 3.0, 0.0, 1.0, [0.0, 2.0, 5.0, 3.0, 1.0, 0.0, 1.0, 3.0, 0.0, 2.0, 2.0, 1.0, 1.0, 36.0, 5337.0, 5.0, 5.0, 36.0, 57.0, 2.0, 2.0], [3.092135213942211, 16.907864786057786], [0.15460676069711057, 0.8453932393028895], 1.0, 'Risk'], ['no_checking', 41, 'prior_payments_delayed', 'repairs', 7507, 'unknown', '4_to_7', 5, 'male', 'co-applicant', 5, 'car_other', 41, 'none', 'own', 2, 'skilled', 2, 'none', 'yes', 0.0, 0.0, 1.0, 4.0, 0.0, 0.0, 0.0, 0.0, 5.0, 1.0, 1.0, 0.0, 0.0, [0.0, 0.0, 5.0, 4.0, 1.0, 0.0, 1.0, 1.0, 0.0, 0.0, 0.0, 0.0, 0.0, 41.0, 7507.0, 5.0, 5.0, 41.0, 41.0, 2.0, 2.0], [7.267327545997674, 12.732672454002325], [0.3633663772998837, 0.6366336227001163], 1.0, 'Risk'], ['no_checking', 29, 'outstanding_credit', 'furniture', 5700, '500_to_1000', 'greater_7', 5, 'male', 'co-applicant', 4, 'savings_insurance', 54, 'none', 'free', 2, 'management_self-employed', 2, 'yes', 'yes', 0.0, 2.0, 2.0, 2.0, 0.0, 2.0, 0.0, 2.0, 1.0, 1.0, 0.0, 0.0, 1.0, [0.0, 2.0, 1.0, 2.0, 2.0, 0.0, 1.0, 0.0, 0.0, 2.0, 2.0, 1.0, 0.0, 29.0, 5700.0, 5.0, 4.0, 29.0, 54.0, 2.0, 2.0], [5.552641068423178, 14.44735893157682], [0.2776320534211589, 0.7223679465788411], 1.0, 'Risk'], ['0_to_200', 22, 'credits_paid_to_date', 'radio_tv', 2751, '500_to_1000', '1_to_4', 2, 'male', 'none', 2, 'car_other', 35, 'none', 'own', 1, 'skilled', 2, 'yes', 'yes', 2.0, 1.0, 0.0, 2.0, 0.0, 0.0, 0.0, 0.0, 3.0, 0.0, 1.0, 0.0, 1.0, [2.0, 1.0, 3.0, 2.0, 0.0, 0.0, 0.0, 1.0, 0.0, 0.0, 0.0, 1.0, 0.0, 22.0, 2751.0, 2.0, 2.0, 22.0, 35.0, 1.0, 2.0], [14.971693025150067, 5.02830697484993], [0.7485846512575035, 0.25141534874249655], 0.0, 'No Risk'], ['no_checking', 31, 'credits_paid_to_date', 'appliances', 1753, '100_to_500', '1_to_4', 3, 'male', 'none', 4, 'real_estate', 34, 'none', 'own', 1, 'skilled', 1, 'none', 'yes', 0.0, 1.0, 0.0, 1.0, 0.0, 0.0, 0.0, 0.0, 4.0, 0.0, 2.0, 0.0, 0.0, [21, [1, 2, 3, 7, 13, 14, 15, 16, 17, 18, 19, 20], [1.0, 4.0, 1.0, 2.0, 31.0, 1753.0, 3.0, 4.0, 31.0, 34.0, 1.0, 1.0]], [12.871219050945479, 7.128780949054522], [0.643560952547274, 0.3564390474527261], 0.0, 'No Risk'], ['no_checking', 25, 'prior_payments_delayed', 'radio_tv', 4576, 'unknown', '4_to_7', 3, 'male', 'none', 3, 'savings_insurance', 43, 'none', 'own', 2, 'skilled', 1, 'none', 'yes', 0.0, 0.0, 1.0, 4.0, 0.0, 0.0, 0.0, 0.0, 3.0, 0.0, 0.0, 0.0, 0.0, [21, [2, 3, 4, 13, 14, 15, 16, 17, 18, 19, 20], [3.0, 4.0, 1.0, 25.0, 4576.0, 3.0, 3.0, 25.0, 43.0, 2.0, 1.0]], [10.824900943648734, 9.175099056351268], [0.5412450471824367, 0.4587549528175634], 0.0, 'No Risk'], ['0_to_200', 4, 'all_credits_paid_back', 'car_new', 250, 'less_100', 'unemployed', 2, 'female', 'none', 3, 'real_estate', 31, 'none', 'rent', 1, 'management_self-employed', 1, 'none', 'yes', 2.0, 3.0, 4.0, 0.0, 0.0, 1.0, 0.0, 2.0, 0.0, 0.0, 2.0, 1.0, 0.0, [2.0, 3.0, 0.0, 0.0, 4.0, 1.0, 0.0, 2.0, 0.0, 1.0, 2.0, 0.0, 0.0, 4.0, 250.0, 2.0, 3.0, 4.0, 31.0, 1.0, 1.0], [19.169205140821695, 0.8307948591783062], [0.9584602570410847, 0.04153974295891531], 0.0, 'No Risk'], ['no_checking', 8, 'prior_payments_delayed', 'vacation', 5155, '100_to_500', '1_to_4', 4, 'female', 'none', 4, 'savings_insurance', 33, 'none', 'own', 1, 'management_self-employed', 2, 'none', 'yes', 0.0, 0.0, 0.0, 1.0, 0.0, 0.0, 0.0, 2.0, 6.0, 0.0, 0.0, 1.0, 0.0, [21, [2, 3, 5, 10, 13, 14, 15, 16, 17, 18, 19, 20], [6.0, 1.0, 1.0, 2.0, 8.0, 5155.0, 4.0, 4.0, 8.0, 33.0, 1.0, 2.0]], [13.50620313353464, 6.493796866465358], [0.675310156676732, 0.3246898433232679], 0.0, 'No Risk'], ['no_checking', 46, 'outstanding_credit', 'radio_tv', 4985, 'unknown', '4_to_7', 3, 'male', 'none', 3, 'car_other', 29, 'stores', 'own', 2, 'unskilled', 2, 'none', 'yes', 0.0, 2.0, 1.0, 4.0, 0.0, 0.0, 1.0, 1.0, 3.0, 0.0, 1.0, 0.0, 0.0, [0.0, 2.0, 3.0, 4.0, 1.0, 0.0, 0.0, 1.0, 1.0, 0.0, 1.0, 0.0, 0.0, 46.0, 4985.0, 3.0, 3.0, 46.0, 29.0, 2.0, 2.0], [12.17739905519253, 7.822600944807471], [0.6088699527596265, 0.39113004724037354], 0.0, 'No Risk'], ['0_to_200', 23, 'credits_paid_to_date', 'car_used', 2523, 'less_100', '1_to_4', 3, 'female', 'none', 3, 'real_estate', 42, 'bank', 'own', 2, 'unskilled', 1, 'yes', 'yes', 2.0, 1.0, 0.0, 0.0, 0.0, 0.0, 2.0, 1.0, 2.0, 0.0, 2.0, 1.0, 1.0, [2.0, 1.0, 2.0, 0.0, 0.0, 1.0, 0.0, 2.0, 2.0, 0.0, 1.0, 1.0, 0.0, 23.0, 2523.0, 3.0, 3.0, 23.0, 42.0, 2.0, 1.0], [14.273485266943801, 5.726514733056196], [0.7136742633471902, 0.28632573665280986], 0.0, 'No Risk'], ['no_checking', 24, 'outstanding_credit', 'radio_tv', 4246, '500_to_1000', '1_to_4', 2, 'male', 'none', 3, 'savings_insurance', 30, 'none', 'own', 1, 'skilled', 2, 'none', 'yes', 0.0, 2.0, 0.0, 2.0, 0.0, 0.0, 0.0, 0.0, 3.0, 0.0, 0.0, 0.0, 0.0, [21, [1, 2, 3, 13, 14, 15, 16, 17, 18, 19, 20], [2.0, 3.0, 2.0, 24.0, 4246.0, 2.0, 3.0, 24.0, 30.0, 1.0, 2.0]], [13.478279204945055, 6.521720795054944], [0.6739139602472528, 0.3260860397527472], 0.0, 'No Risk'], ['greater_200', 29, 'prior_payments_delayed', 'business', 6020, 'unknown', 'greater_7', 5, 'male', 'none', 3, 'unknown', 44, 'none', 'own', 2, 'skilled', 2, 'yes', 'yes', 3.0, 0.0, 2.0, 4.0, 0.0, 0.0, 0.0, 0.0, 9.0, 0.0, 3.0, 0.0, 1.0, [3.0, 0.0, 9.0, 4.0, 2.0, 0.0, 0.0, 3.0, 0.0, 0.0, 0.0, 1.0, 0.0, 29.0, 6020.0, 5.0, 3.0, 29.0, 44.0, 2.0, 2.0], [9.269430809533803, 10.730569190466197], [0.46347154047669015, 0.5365284595233099], 1.0, 'Risk'], ['less_0', 14, 'all_credits_paid_back', 'education', 3024, 'less_100', 'less_1', 2, 'female', 'none', 3, 'savings_insurance', 24, 'none', 'rent', 2, 'skilled', 1, 'none', 'yes', 1.0, 3.0, 3.0, 0.0, 0.0, 1.0, 0.0, 0.0, 7.0, 0.0, 0.0, 1.0, 0.0, [1.0, 3.0, 7.0, 0.0, 3.0, 1.0, 0.0, 0.0, 0.0, 1.0, 0.0, 0.0, 0.0, 14.0, 3024.0, 2.0, 3.0, 14.0, 24.0, 2.0, 1.0], [17.759509633377345, 2.240490366622656], [0.8879754816688672, 0.1120245183311328], 0.0, 'No Risk'], ['no_checking', 25, 'prior_payments_delayed', 'radio_tv', 7781, 'greater_1000', '1_to_4', 4, 'male', 'none', 4, 'car_other', 39, 'none', 'own', 2, 'management_self-employed', 2, 'yes', 'yes', 0.0, 0.0, 0.0, 3.0, 0.0, 0.0, 0.0, 2.0, 3.0, 0.0, 1.0, 0.0, 1.0, [0.0, 0.0, 3.0, 3.0, 0.0, 0.0, 0.0, 1.0, 0.0, 0.0, 2.0, 1.0, 0.0, 25.0, 7781.0, 4.0, 4.0, 25.0, 39.0, 2.0, 2.0], [12.362097656977449, 7.6379023430225494], [0.6181048828488724, 0.38189511715112745], 0.0, 'No Risk'], ['no_checking', 9, 'credits_paid_to_date', 'car_new', 473, 'less_100', 'unemployed', 2, 'female', 'none', 4, 'savings_insurance', 21, 'stores', 'own', 1, 'unskilled', 1, 'none', 'yes', 0.0, 1.0, 4.0, 0.0, 0.0, 0.0, 1.0, 1.0, 0.0, 0.0, 0.0, 1.0, 0.0, [0.0, 1.0, 0.0, 0.0, 4.0, 1.0, 0.0, 0.0, 1.0, 0.0, 1.0, 0.0, 0.0, 9.0, 473.0, 2.0, 4.0, 9.0, 21.0, 1.0, 1.0], [16.61748694317602, 3.382513056823982], [0.8308743471588009, 0.1691256528411991], 0.0, 'No Risk'], ['less_0', 10, 'all_credits_paid_back', 'appliances', 3947, 'less_100', '1_to_4', 3, 'female', 'none', 3, 'savings_insurance', 39, 'none', 'own', 2, 'skilled', 1, 'yes', 'yes', 1.0, 3.0, 0.0, 0.0, 0.0, 0.0, 0.0, 0.0, 4.0, 0.0, 0.0, 1.0, 1.0, [1.0, 3.0, 4.0, 0.0, 0.0, 1.0, 0.0, 0.0, 0.0, 0.0, 0.0, 1.0, 0.0, 10.0, 3947.0, 3.0, 3.0, 10.0, 39.0, 2.0, 1.0], [14.970038235556393, 5.029961764443606], [0.7485019117778197, 0.25149808822218034], 0.0, 'No Risk'], ['0_to_200', 27, 'credits_paid_to_date', 'car_used', 4008, 'less_100', 'less_1', 2, 'male', 'co-applicant', 2, 'car_other', 37, 'none', 'own', 1, 'skilled', 1, 'yes', 'yes', 2.0, 1.0, 3.0, 0.0, 0.0, 0.0, 0.0, 0.0, 2.0, 1.0, 1.0, 0.0, 1.0, [2.0, 1.0, 2.0, 0.0, 3.0, 0.0, 1.0, 1.0, 0.0, 0.0, 0.0, 1.0, 0.0, 27.0, 4008.0, 2.0, 2.0, 27.0, 37.0, 1.0, 1.0], [15.000577427505696, 4.999422572494304], [0.7500288713752848, 0.2499711286247152], 0.0, 'No Risk'], ['no_checking', 38, 'outstanding_credit', 'repairs', 7741, 'greater_1000', 'greater_7', 5, 'male', 'co-applicant', 4, 'car_other', 51, 'none', 'free', 2, 'skilled', 1, 'yes', 'yes', 0.0, 2.0, 2.0, 3.0, 0.0, 2.0, 0.0, 0.0, 5.0, 1.0, 1.0, 0.0, 1.0, [0.0, 2.0, 5.0, 3.0, 2.0, 0.0, 1.0, 1.0, 0.0, 2.0, 0.0, 1.0, 0.0, 38.0, 7741.0, 5.0, 4.0, 38.0, 51.0, 2.0, 1.0], [1.385468857076707, 18.61453114292329], [0.06927344285383537, 0.9307265571461647], 1.0, 'Risk'], ['less_0', 4, 'all_credits_paid_back', 'vacation', 250, 'less_100', 'less_1', 1, 'male', 'none', 2, 'real_estate', 25, 'none', 'rent', 1, 'skilled', 1, 'none', 'yes', 1.0, 3.0, 3.0, 0.0, 0.0, 1.0, 0.0, 0.0, 6.0, 0.0, 2.0, 0.0, 0.0, [1.0, 3.0, 6.0, 0.0, 3.0, 0.0, 0.0, 2.0, 0.0, 1.0, 0.0, 0.0, 0.0, 4.0, 250.0, 1.0, 2.0, 4.0, 25.0, 1.0, 1.0], [19.557317089819676, 0.4426829101803208], [0.977865854490984, 0.022134145509016045], 0.0, 'No Risk'], ['less_0', 26, 'credits_paid_to_date', 'radio_tv', 976, 'less_100', '1_to_4', 3, 'male', 'none', 2, 'real_estate', 21, 'none', 'own', 1, 'skilled', 1, 'none', 'yes', 1.0, 1.0, 0.0, 0.0, 0.0, 0.0, 0.0, 0.0, 3.0, 0.0, 2.0, 0.0, 0.0, [21, [0, 1, 2, 7, 13, 14, 15, 16, 17, 18, 19, 20], [1.0, 1.0, 3.0, 2.0, 26.0, 976.0, 3.0, 2.0, 26.0, 21.0, 1.0, 1.0]], [17.82503543769205, 2.1749645623079523], [0.8912517718846024, 0.1087482281153976], 0.0, 'No Risk'], ['0_to_200', 31, 'credits_paid_to_date', 'business', 4450, 'less_100', 'greater_7', 4, 'male', 'none', 3, 'savings_insurance', 35, 'none', 'free', 2, 'skilled', 1, 'yes', 'yes', 2.0, 1.0, 2.0, 0.0, 0.0, 2.0, 0.0, 0.0, 9.0, 0.0, 0.0, 0.0, 1.0, [2.0, 1.0, 9.0, 0.0, 2.0, 0.0, 0.0, 0.0, 0.0, 2.0, 0.0, 1.0, 0.0, 31.0, 4450.0, 4.0, 3.0, 31.0, 35.0, 2.0, 1.0], [12.41517336806328, 7.584826631936716], [0.6207586684031642, 0.3792413315968359], 0.0, 'No Risk'], ['less_0', 20, 'credits_paid_to_date', 'furniture', 2145, 'less_100', 'less_1', 2, 'male', 'none', 1, 'real_estate', 40, 'stores', 'own', 1, 'skilled', 1, 'none', 'yes', 1.0, 1.0, 3.0, 0.0, 0.0, 0.0, 1.0, 0.0, 1.0, 0.0, 2.0, 0.0, 0.0, [1.0, 1.0, 1.0, 0.0, 3.0, 0.0, 0.0, 2.0, 1.0, 0.0, 0.0, 0.0, 0.0, 20.0, 2145.0, 2.0, 1.0, 20.0, 40.0, 1.0, 1.0], [17.383956375324225, 2.61604362467578], [0.869197818766211, 0.13080218123378898], 0.0, 'No Risk'], ['no_checking', 29, 'prior_payments_delayed', 'furniture', 5284, '100_to_500', 'greater_7', 4, 'male', 'none', 3, 'car_other', 58, 'none', 'own', 1, 'skilled', 2, 'yes', 'yes', 0.0, 0.0, 2.0, 1.0, 0.0, 0.0, 0.0, 0.0, 1.0, 0.0, 1.0, 0.0, 1.0, [0.0, 0.0, 1.0, 1.0, 2.0, 0.0, 0.0, 1.0, 0.0, 0.0, 0.0, 1.0, 0.0, 29.0, 5284.0, 4.0, 3.0, 29.0, 58.0, 1.0, 2.0], [7.262994608647672, 12.73700539135233], [0.3631497304323836, 0.6368502695676165], 1.0, 'Risk'], ['no_checking', 25, 'outstanding_credit', 'vacation', 2650, 'unknown', '4_to_7', 3, 'male', 'none', 3, 'unknown', 49, 'bank', 'rent', 1, 'unemployed', 2, 'yes', 'yes', 0.0, 2.0, 1.0, 4.0, 0.0, 1.0, 2.0, 3.0, 6.0, 0.0, 3.0, 0.0, 1.0, [0.0, 2.0, 6.0, 4.0, 1.0, 0.0, 0.0, 3.0, 2.0, 1.0, 3.0, 1.0, 0.0, 25.0, 2650.0, 3.0, 3.0, 25.0, 49.0, 1.0, 2.0], [11.910234778383503, 8.089765221616497], [0.5955117389191751, 0.40448826108082486], 0.0, 'No Risk'], ['0_to_200', 17, 'prior_payments_delayed', 'radio_tv', 1812, 'greater_1000', '4_to_7', 3, 'female', 'none', 3, 'car_other', 34, 'none', 'own', 1, 'skilled', 1, 'none', 'yes', 2.0, 0.0, 1.0, 3.0, 0.0, 0.0, 0.0, 0.0, 3.0, 0.0, 1.0, 1.0, 0.0, [2.0, 0.0, 3.0, 3.0, 1.0, 1.0, 0.0, 1.0, 0.0, 0.0, 0.0, 0.0, 0.0, 17.0, 1812.0, 3.0, 3.0, 17.0, 34.0, 1.0, 1.0], [15.47882501891674, 4.521174981083259], [0.773941250945837, 0.22605874905416296], 0.0, 'No Risk'], ['no_checking', 39, 'prior_payments_delayed', 'repairs', 6275, '500_to_1000', '4_to_7', 5, 'male', 'none', 3, 'car_other', 42, 'none', 'free', 2, 'skilled', 1, 'yes', 'yes', 0.0, 0.0, 1.0, 2.0, 0.0, 2.0, 0.0, 0.0, 5.0, 0.0, 1.0, 0.0, 1.0, [0.0, 0.0, 5.0, 2.0, 1.0, 0.0, 0.0, 1.0, 0.0, 2.0, 0.0, 1.0, 0.0, 39.0, 6275.0, 5.0, 3.0, 39.0, 42.0, 2.0, 1.0], [10.156502138818533, 9.843497861181465], [0.5078251069409266, 0.49217489305907325], 0.0, 'No Risk'], ['less_0', 9, 'all_credits_paid_back', 'car_used', 250, 'less_100', 'unemployed', 1, 'female', 'none', 2, 'real_estate', 23, 'stores', 'rent', 1, 'unskilled', 1, 'none', 'yes', 1.0, 3.0, 4.0, 0.0, 0.0, 1.0, 1.0, 1.0, 2.0, 0.0, 2.0, 1.0, 0.0, [1.0, 3.0, 2.0, 0.0, 4.0, 1.0, 0.0, 2.0, 1.0, 1.0, 1.0, 0.0, 0.0, 9.0, 250.0, 1.0, 2.0, 9.0, 23.0, 1.0, 1.0], [19.489084600281362, 0.5109153997186346], [0.9744542300140683, 0.02554576998593174], 0.0, 'No Risk'], ['0_to_200', 4, 'all_credits_paid_back', 'car_used', 250, 'less_100', '1_to_4', 1, 'female', 'none', 3, 'savings_insurance', 19, 'bank', 'rent', 1, 'unskilled', 1, 'none', 'yes', 2.0, 3.0, 0.0, 0.0, 0.0, 1.0, 2.0, 1.0, 2.0, 0.0, 0.0, 1.0, 0.0, [2.0, 3.0, 2.0, 0.0, 0.0, 1.0, 0.0, 0.0, 2.0, 1.0, 1.0, 0.0, 0.0, 4.0, 250.0, 1.0, 3.0, 4.0, 19.0, 1.0, 1.0], [18.4603586349679, 1.5396413650320973], [0.9230179317483952, 0.07698206825160488], 0.0, 'No Risk'], ['no_checking', 16, 'credits_paid_to_date', 'furniture', 1530, '100_to_500', '1_to_4', 3, 'male', 'none', 4, 'real_estate', 30, 'none', 'own', 1, 'management_self-employed', 1, 'none', 'yes', 0.0, 1.0, 0.0, 1.0, 0.0, 0.0, 0.0, 2.0, 1.0, 0.0, 2.0, 0.0, 0.0, [0.0, 1.0, 1.0, 1.0, 0.0, 0.0, 0.0, 2.0, 0.0, 0.0, 2.0, 0.0, 0.0, 16.0, 1530.0, 3.0, 4.0, 16.0, 30.0, 1.0, 1.0], [16.505480883433105, 3.4945191165668943], [0.8252740441716553, 0.17472595582834471], 0.0, 'No Risk'], ['no_checking', 41, 'prior_payments_delayed', 'furniture', 5907, 'unknown', '4_to_7', 4, 'male', 'none', 5, 'savings_insurance', 39, 'stores', 'own', 2, 'unskilled', 2, 'yes', 'yes', 0.0, 0.0, 1.0, 4.0, 0.0, 0.0, 1.0, 1.0, 1.0, 0.0, 0.0, 0.0, 1.0, [0.0, 0.0, 1.0, 4.0, 1.0, 0.0, 0.0, 0.0, 1.0, 0.0, 1.0, 1.0, 0.0, 41.0, 5907.0, 4.0, 5.0, 41.0, 39.0, 2.0, 2.0], [11.65308364816957, 8.346916351830432], [0.5826541824084785, 0.41734581759152156], 0.0, 'No Risk'], ['greater_200', 31, 'outstanding_credit', 'furniture', 5524, '500_to_1000', '1_to_4', 4, 'male', 'none', 4, 'unknown', 40, 'none', 'own', 2, 'skilled', 1, 'yes', 'yes', 3.0, 2.0, 0.0, 2.0, 0.0, 0.0, 0.0, 0.0, 1.0, 0.0, 3.0, 0.0, 1.0, [3.0, 2.0, 1.0, 2.0, 0.0, 0.0, 0.0, 3.0, 0.0, 0.0, 0.0, 1.0, 0.0, 31.0, 5524.0, 4.0, 4.0, 31.0, 40.0, 2.0, 1.0], [11.266938092384514, 8.733061907615484], [0.5633469046192257, 0.43665309538077424], 0.0, 'No Risk'], ['no_checking', 25, 'prior_payments_delayed', 'appliances', 4946, '100_to_500', '4_to_7', 4, 'female', 'none', 2, 'savings_insurance', 49, 'none', 'free', 2, 'skilled', 1, 'yes', 'yes', 0.0, 0.0, 1.0, 1.0, 0.0, 2.0, 0.0, 0.0, 4.0, 0.0, 0.0, 1.0, 1.0, [0.0, 0.0, 4.0, 1.0, 1.0, 1.0, 0.0, 0.0, 0.0, 2.0, 0.0, 1.0, 0.0, 25.0, 4946.0, 4.0, 2.0, 25.0, 49.0, 2.0, 1.0], [10.338795827884077, 9.661204172115923], [0.5169397913942039, 0.4830602086057961], 0.0, 'No Risk'], ['no_checking', 25, 'prior_payments_delayed', 'repairs', 4531, 'greater_1000', '4_to_7', 4, 'male', 'none', 3, 'savings_insurance', 43, 'stores', 'own', 2, 'unskilled', 2, 'yes', 'yes', 0.0, 0.0, 1.0, 3.0, 0.0, 0.0, 1.0, 1.0, 5.0, 0.0, 0.0, 0.0, 1.0, [0.0, 0.0, 5.0, 3.0, 1.0, 0.0, 0.0, 0.0, 1.0, 0.0, 1.0, 1.0, 0.0, 25.0, 4531.0, 4.0, 3.0, 25.0, 43.0, 2.0, 2.0], [12.5869901116599, 7.4130098883401025], [0.629349505582995, 0.37065049441700515], 0.0, 'No Risk'], ['no_checking', 40, 'prior_payments_delayed', 'radio_tv', 5972, '500_to_1000', '4_to_7', 5, 'male', 'none', 5, 'car_other', 42, 'none', 'own', 2, 'skilled', 1, 'none', 'yes', 0.0, 0.0, 1.0, 2.0, 0.0, 0.0, 0.0, 0.0, 3.0, 0.0, 1.0, 0.0, 0.0, [21, [2, 3, 4, 7, 13, 14, 15, 16, 17, 18, 19, 20], [3.0, 2.0, 1.0, 1.0, 40.0, 5972.0, 5.0, 5.0, 40.0, 42.0, 2.0, 1.0]], [10.158405545832592, 9.841594454167407], [0.5079202772916296, 0.4920797227083703], 0.0, 'No Risk'], ['less_0', 7, 'prior_payments_delayed', 'appliances', 2429, '500_to_1000', '4_to_7', 3, 'male', 'none', 2, 'unknown', 21, 'none', 'own', 1, 'skilled', 1, 'yes', 'yes', 1.0, 0.0, 1.0, 2.0, 0.0, 0.0, 0.0, 0.0, 4.0, 0.0, 3.0, 0.0, 1.0, [1.0, 0.0, 4.0, 2.0, 1.0, 0.0, 0.0, 3.0, 0.0, 0.0, 0.0, 1.0, 0.0, 7.0, 2429.0, 3.0, 2.0, 7.0, 21.0, 1.0, 1.0], [16.72932286824622, 3.270677131753779], [0.8364661434123111, 0.16353385658768896], 0.0, 'No Risk'], ['no_checking', 59, 'prior_payments_delayed', 'radio_tv', 6074, 'greater_1000', '4_to_7', 5, 'male', 'co-applicant', 3, 'savings_insurance', 36, 'none', 'own', 2, 'skilled', 2, 'none', 'yes', 0.0, 0.0, 1.0, 3.0, 0.0, 0.0, 0.0, 0.0, 3.0, 1.0, 0.0, 0.0, 0.0, [21, [2, 3, 4, 6, 13, 14, 15, 16, 17, 18, 19, 20], [3.0, 3.0, 1.0, 1.0, 59.0, 6074.0, 5.0, 3.0, 59.0, 36.0, 2.0, 2.0]], [9.04426408797362, 10.95573591202638], [0.45221320439868096, 0.547786795601319], 1.0, 'Risk'], ['greater_200', 31, 'prior_payments_delayed', 'car_used', 2965, '100_to_500', '1_to_4', 3, 'male', 'none', 3, 'car_other', 39, 'none', 'own', 2, 'skilled', 1, 'yes', 'yes', 3.0, 0.0, 0.0, 1.0, 0.0, 0.0, 0.0, 0.0, 2.0, 0.0, 1.0, 0.0, 1.0, [3.0, 0.0, 2.0, 1.0, 0.0, 0.0, 0.0, 1.0, 0.0, 0.0, 0.0, 1.0, 0.0, 31.0, 2965.0, 3.0, 3.0, 31.0, 39.0, 2.0, 1.0], [12.514042352110819, 7.485957647889178], [0.6257021176055411, 0.37429788239445894], 0.0, 'No Risk'], ['no_checking', 33, 'outstanding_credit', 'repairs', 6825, '500_to_1000', '4_to_7', 5, 'male', 'none', 4, 'car_other', 41, 'none', 'free', 2, 'management_self-employed', 1, 'yes', 'yes', 0.0, 2.0, 1.0, 2.0, 0.0, 2.0, 0.0, 2.0, 5.0, 0.0, 1.0, 0.0, 1.0, [0.0, 2.0, 5.0, 2.0, 1.0, 0.0, 0.0, 1.0, 0.0, 2.0, 2.0, 1.0, 0.0, 33.0, 6825.0, 5.0, 4.0, 33.0, 41.0, 2.0, 1.0], [10.590071614524904, 9.409928385475096], [0.5295035807262451, 0.4704964192737548], 0.0, 'No Risk'], ['no_checking', 13, 'credits_paid_to_date', 'car_used', 1851, '100_to_500', 'less_1', 3, 'male', 'none', 3, 'savings_insurance', 39, 'none', 'own', 2, 'skilled', 1, 'yes', 'yes', 0.0, 1.0, 3.0, 1.0, 0.0, 0.0, 0.0, 0.0, 2.0, 0.0, 0.0, 0.0, 1.0, [0.0, 1.0, 2.0, 1.0, 3.0, 0.0, 0.0, 0.0, 0.0, 0.0, 0.0, 1.0, 0.0, 13.0, 1851.0, 3.0, 3.0, 13.0, 39.0, 2.0, 1.0], [15.320031660417603, 4.679968339582399], [0.7660015830208801, 0.2339984169791199], 0.0, 'No Risk'], ['0_to_200', 10, 'credits_paid_to_date', 'car_used', 250, 'less_100', 'less_1', 2, 'female', 'none', 3, 'car_other', 24, 'none', 'own', 1, 'skilled', 1, 'none', 'yes', 2.0, 1.0, 3.0, 0.0, 0.0, 0.0, 0.0, 0.0, 2.0, 0.0, 1.0, 1.0, 0.0, [2.0, 1.0, 2.0, 0.0, 3.0, 1.0, 0.0, 1.0, 0.0, 0.0, 0.0, 0.0, 0.0, 10.0, 250.0, 2.0, 3.0, 10.0, 24.0, 1.0, 1.0], [18.310518485139212, 1.6894815148607907], [0.9155259242569604, 0.08447407574303951], 0.0, 'No Risk'], ['less_0', 20, 'credits_paid_to_date', 'car_used', 3469, 'less_100', '1_to_4', 2, 'male', 'co-applicant', 3, 'savings_insurance', 37, 'stores', 'free', 2, 'skilled', 1, 'yes', 'yes', 1.0, 1.0, 0.0, 0.0, 0.0, 2.0, 1.0, 0.0, 2.0, 1.0, 0.0, 0.0, 1.0, [1.0, 1.0, 2.0, 0.0, 0.0, 0.0, 1.0, 0.0, 1.0, 2.0, 0.0, 1.0, 0.0, 20.0, 3469.0, 2.0, 3.0, 20.0, 37.0, 2.0, 1.0], [12.881671591448486, 7.118328408551512], [0.6440835795724243, 0.35591642042757565], 0.0, 'No Risk'], ['0_to_200', 24, 'credits_paid_to_date', 'retraining', 4320, '500_to_1000', '1_to_4', 3, 'male', 'none', 3, 'savings_insurance', 32, 'none', 'rent', 1, 'skilled', 1, 'none', 'yes', 2.0, 1.0, 0.0, 2.0, 0.0, 1.0, 0.0, 0.0, 8.0, 0.0, 0.0, 0.0, 0.0, [2.0, 1.0, 8.0, 2.0, 0.0, 0.0, 0.0, 0.0, 0.0, 1.0, 0.0, 0.0, 0.0, 24.0, 4320.0, 3.0, 3.0, 24.0, 32.0, 1.0, 1.0], [15.157699981095856, 4.842300018904144], [0.7578849990547928, 0.2421150009452072], 0.0, 'No Risk'], ['no_checking', 40, 'prior_payments_delayed', 'other', 4973, '500_to_1000', '4_to_7', 4, 'male', 'guarantor', 5, 'savings_insurance', 41, 'none', 'free', 1, 'skilled', 1, 'yes', 'yes', 0.0, 0.0, 1.0, 2.0, 0.0, 2.0, 0.0, 0.0, 10.0, 2.0, 0.0, 0.0, 1.0, [0.0, 0.0, 10.0, 2.0, 1.0, 0.0, 2.0, 0.0, 0.0, 2.0, 0.0, 1.0, 0.0, 40.0, 4973.0, 4.0, 5.0, 40.0, 41.0, 1.0, 1.0], [7.8217334603361515, 12.178266539663847], [0.39108667301680755, 0.6089133269831923], 1.0, 'Risk'], ['no_checking', 31, 'outstanding_credit', 'furniture', 9673, '500_to_1000', '4_to_7', 4, 'male', 'co-applicant', 5, 'unknown', 48, 'none', 'free', 3, 'skilled', 2, 'yes', 'yes', 0.0, 2.0, 1.0, 2.0, 0.0, 2.0, 0.0, 0.0, 1.0, 1.0, 3.0, 0.0, 1.0, [0.0, 2.0, 1.0, 2.0, 1.0, 0.0, 1.0, 3.0, 0.0, 2.0, 0.0, 1.0, 0.0, 31.0, 9673.0, 4.0, 5.0, 31.0, 48.0, 3.0, 2.0], [3.2545021223889776, 16.74549787761102], [0.1627251061194489, 0.8372748938805511], 1.0, 'Risk'], ['no_checking', 33, 'outstanding_credit', 'repairs', 5508, '500_to_1000', 'greater_7', 5, 'male', 'co-applicant', 3, 'unknown', 54, 'none', 'own', 2, 'skilled', 1, 'yes', 'yes', 0.0, 2.0, 2.0, 2.0, 0.0, 0.0, 0.0, 0.0, 5.0, 1.0, 3.0, 0.0, 1.0, [0.0, 2.0, 5.0, 2.0, 2.0, 0.0, 1.0, 3.0, 0.0, 0.0, 0.0, 1.0, 0.0, 33.0, 5508.0, 5.0, 3.0, 33.0, 54.0, 2.0, 1.0], [1.6509642027702518, 18.349035797229746], [0.0825482101385126, 0.9174517898614875], 1.0, 'Risk'], ['no_checking', 34, 'prior_payments_delayed', 'repairs', 5027, '500_to_1000', '4_to_7', 4, 'male', 'guarantor', 4, 'car_other', 54, 'none', 'free', 2, 'skilled', 1, 'yes', 'yes', 0.0, 0.0, 1.0, 2.0, 0.0, 2.0, 0.0, 0.0, 5.0, 2.0, 1.0, 0.0, 1.0, [0.0, 0.0, 5.0, 2.0, 1.0, 0.0, 2.0, 1.0, 0.0, 2.0, 0.0, 1.0, 0.0, 34.0, 5027.0, 4.0, 4.0, 34.0, 54.0, 2.0, 1.0], [4.479716164128745, 15.520283835871252], [0.2239858082064373, 0.7760141917935628], 1.0, 'Risk'], ['no_checking', 23, 'prior_payments_delayed', 'appliances', 1572, '100_to_500', 'greater_7', 4, 'male', 'none', 4, 'savings_insurance', 30, 'none', 'free', 1, 'skilled', 1, 'yes', 'yes', 0.0, 0.0, 2.0, 1.0, 0.0, 2.0, 0.0, 0.0, 4.0, 0.0, 0.0, 0.0, 1.0, [0.0, 0.0, 4.0, 1.0, 2.0, 0.0, 0.0, 0.0, 0.0, 2.0, 0.0, 1.0, 0.0, 23.0, 1572.0, 4.0, 4.0, 23.0, 30.0, 1.0, 1.0], [11.302038576734141, 8.69796142326586], [0.5651019288367071, 0.43489807116329304], 0.0, 'No Risk'], ['0_to_200', 10, 'all_credits_paid_back', 'car_new', 1679, '100_to_500', 'less_1', 2, 'male', 'none', 3, 'real_estate', 30, 'bank', 'rent', 1, 'unemployed', 1, 'none', 'yes', 2.0, 3.0, 3.0, 1.0, 0.0, 1.0, 2.0, 3.0, 0.0, 0.0, 2.0, 0.0, 0.0, [2.0, 3.0, 0.0, 1.0, 3.0, 0.0, 0.0, 2.0, 2.0, 1.0, 3.0, 0.0, 0.0, 10.0, 1679.0, 2.0, 3.0, 10.0, 30.0, 1.0, 1.0], [19.06580887622585, 0.9341911237741499], [0.9532904438112926, 0.04670955618870749], 0.0, 'No Risk'], ['0_to_200', 24, 'credits_paid_to_date', 'furniture', 4772, 'less_100', '4_to_7', 4, 'male', 'none', 4, 'unknown', 37, 'bank', 'own', 2, 'unskilled', 1, 'none', 'yes', 2.0, 1.0, 1.0, 0.0, 0.0, 0.0, 2.0, 1.0, 1.0, 0.0, 3.0, 0.0, 0.0, [2.0, 1.0, 1.0, 0.0, 1.0, 0.0, 0.0, 3.0, 2.0, 0.0, 1.0, 0.0, 0.0, 24.0, 4772.0, 4.0, 4.0, 24.0, 37.0, 2.0, 1.0], [12.657598841752634, 7.342401158247368], [0.6328799420876317, 0.3671200579123684], 0.0, 'No Risk'], ['0_to_200', 4, 'all_credits_paid_back', 'car_used', 250, '100_to_500', '1_to_4', 2, 'female', 'none', 3, 'real_estate', 23, 'none', 'rent', 1, 'skilled', 1, 'none', 'yes', 2.0, 3.0, 0.0, 1.0, 0.0, 1.0, 0.0, 0.0, 2.0, 0.0, 2.0, 1.0, 0.0, [2.0, 3.0, 2.0, 1.0, 0.0, 1.0, 0.0, 2.0, 0.0, 1.0, 0.0, 0.0, 0.0, 4.0, 250.0, 2.0, 3.0, 4.0, 23.0, 1.0, 1.0], [18.61311048484269, 1.3868895151573095], [0.9306555242421345, 0.06934447575786548], 0.0, 'No Risk'], ['less_0', 26, 'credits_paid_to_date', 'repairs', 4449, 'less_100', '1_to_4', 2, 'male', 'none', 3, 'car_other', 30, 'none', 'rent', 2, 'skilled', 1, 'none', 'yes', 1.0, 1.0, 0.0, 0.0, 0.0, 1.0, 0.0, 0.0, 5.0, 0.0, 1.0, 0.0, 0.0, [1.0, 1.0, 5.0, 0.0, 0.0, 0.0, 0.0, 1.0, 0.0, 1.0, 0.0, 0.0, 0.0, 26.0, 4449.0, 2.0, 3.0, 26.0, 30.0, 2.0, 1.0], [14.251054168700461, 5.748945831299539], [0.712552708435023, 0.28744729156497695], 0.0, 'No Risk'], ['less_0', 13, 'prior_payments_delayed', 'car_new', 1629, '500_to_1000', '1_to_4', 2, 'female', 'none', 2, 'unknown', 36, 'stores', 'own', 1, 'skilled', 1, 'none', 'yes', 1.0, 0.0, 0.0, 2.0, 0.0, 0.0, 1.0, 0.0, 0.0, 0.0, 3.0, 1.0, 0.0, [1.0, 0.0, 0.0, 2.0, 0.0, 1.0, 0.0, 3.0, 1.0, 0.0, 0.0, 0.0, 0.0, 13.0, 1629.0, 2.0, 2.0, 13.0, 36.0, 1.0, 1.0], [16.815218926554678, 3.184781073445323], [0.8407609463277339, 0.15923905367226615], 0.0, 'No Risk'], ['no_checking', 37, 'outstanding_credit', 'radio_tv', 5973, 'greater_1000', 'greater_7', 5, 'male', 'co-applicant', 4, 'car_other', 41, 'none', 'free', 2, 'skilled', 1, 'yes', 'yes', 0.0, 2.0, 2.0, 3.0, 0.0, 2.0, 0.0, 0.0, 3.0, 1.0, 1.0, 0.0, 1.0, [0.0, 2.0, 3.0, 3.0, 2.0, 0.0, 1.0, 1.0, 0.0, 2.0, 0.0, 1.0, 0.0, 37.0, 5973.0, 5.0, 4.0, 37.0, 41.0, 2.0, 1.0], [3.2503986807982765, 16.749601319201723], [0.16251993403991383, 0.8374800659600862], 1.0, 'Risk'], ['no_checking', 27, 'prior_payments_delayed', 'appliances', 2182, '500_to_1000', '4_to_7', 4, 'female', 'none', 3, 'car_other', 35, 'none', 'own', 1, 'skilled', 1, 'yes', 'yes', 0.0, 0.0, 1.0, 2.0, 0.0, 0.0, 0.0, 0.0, 4.0, 0.0, 1.0, 1.0, 1.0, [0.0, 0.0, 4.0, 2.0, 1.0, 1.0, 0.0, 1.0, 0.0, 0.0, 0.0, 1.0, 0.0, 27.0, 2182.0, 4.0, 3.0, 27.0, 35.0, 1.0, 1.0], [9.956956482608865, 10.043043517391133], [0.49784782413044326, 0.5021521758695566], 1.0, 'Risk'], ['greater_200', 18, 'credits_paid_to_date', 'radio_tv', 2963, 'less_100', 'less_1', 3, 'male', 'none', 4, 'savings_insurance', 36, 'none', 'rent', 1, 'skilled', 1, 'none', 'yes', 3.0, 1.0, 3.0, 0.0, 0.0, 1.0, 0.0, 0.0, 3.0, 0.0, 0.0, 0.0, 0.0, [3.0, 1.0, 3.0, 0.0, 3.0, 0.0, 0.0, 0.0, 0.0, 1.0, 0.0, 0.0, 0.0, 18.0, 2963.0, 3.0, 4.0, 18.0, 36.0, 1.0, 1.0], [15.386329068438004, 4.613670931561996], [0.7693164534219001, 0.2306835465780998], 0.0, 'No Risk'], ['no_checking', 38, 'prior_payments_delayed', 'appliances', 6181, 'greater_1000', '4_to_7', 5, 'male', 'none', 3, 'car_other', 49, 'none', 'free', 2, 'skilled', 1, 'none', 'yes', 0.0, 0.0, 1.0, 3.0, 0.0, 2.0, 0.0, 0.0, 4.0, 0.0, 1.0, 0.0, 0.0, [0.0, 0.0, 4.0, 3.0, 1.0, 0.0, 0.0, 1.0, 0.0, 2.0, 0.0, 0.0, 0.0, 38.0, 6181.0, 5.0, 3.0, 38.0, 49.0, 2.0, 1.0], [8.643561432053604, 11.356438567946393], [0.43217807160268024, 0.5678219283973197], 1.0, 'Risk'], ['no_checking', 18, 'credits_paid_to_date', 'furniture', 1119, 'greater_1000', 'greater_7', 4, 'male', 'none', 3, 'car_other', 42, 'stores', 'rent', 1, 'unskilled', 1, 'yes', 'yes', 0.0, 1.0, 2.0, 3.0, 0.0, 1.0, 1.0, 1.0, 1.0, 0.0, 1.0, 0.0, 1.0, [0.0, 1.0, 1.0, 3.0, 2.0, 0.0, 0.0, 1.0, 1.0, 1.0, 1.0, 1.0, 0.0, 18.0, 1119.0, 4.0, 3.0, 18.0, 42.0, 1.0, 1.0], [11.750864385304018, 8.24913561469598], [0.5875432192652009, 0.412456780734799], 0.0, 'No Risk'], ['less_0', 31, 'credits_paid_to_date', 'car_used', 1617, 'less_100', '1_to_4', 2, 'male', 'none', 3, 'car_other', 26, 'none', 'own', 2, 'skilled', 2, 'yes', 'yes', 1.0, 1.0, 0.0, 0.0, 0.0, 0.0, 0.0, 0.0, 2.0, 0.0, 1.0, 0.0, 1.0, [1.0, 1.0, 2.0, 0.0, 0.0, 0.0, 0.0, 1.0, 0.0, 0.0, 0.0, 1.0, 0.0, 31.0, 1617.0, 2.0, 3.0, 31.0, 26.0, 2.0, 2.0], [14.208093684321343, 5.791906315678656], [0.7104046842160672, 0.28959531578393277], 0.0, 'No Risk'], ['no_checking', 26, 'prior_payments_delayed', 'furniture', 6581, '100_to_500', 'greater_7', 5, 'male', 'co-applicant', 5, 'savings_insurance', 62, 'none', 'free', 2, 'management_self-employed', 1, 'yes', 'yes', 0.0, 0.0, 2.0, 1.0, 0.0, 2.0, 0.0, 2.0, 1.0, 1.0, 0.0, 0.0, 1.0, [0.0, 0.0, 1.0, 1.0, 2.0, 0.0, 1.0, 0.0, 0.0, 2.0, 2.0, 1.0, 0.0, 26.0, 6581.0, 5.0, 5.0, 26.0, 62.0, 2.0, 1.0], [5.093923733665709, 14.90607626633429], [0.2546961866832854, 0.7453038133167145], 1.0, 'Risk'], ['less_0', 30, 'credits_paid_to_date', 'business', 2603, '100_to_500', 'greater_7', 2, 'male', 'none', 1, 'savings_insurance', 31, 'stores', 'own', 1, 'skilled', 1, 'none', 'yes', 1.0, 1.0, 2.0, 1.0, 0.0, 0.0, 1.0, 0.0, 9.0, 0.0, 0.0, 0.0, 0.0, [1.0, 1.0, 9.0, 1.0, 2.0, 0.0, 0.0, 0.0, 1.0, 0.0, 0.0, 0.0, 0.0, 30.0, 2603.0, 2.0, 1.0, 30.0, 31.0, 1.0, 1.0], [15.993478477462997, 4.006521522537005], [0.7996739238731498, 0.20032607612685024], 0.0, 'No Risk'], ['greater_200', 21, 'outstanding_credit', 'radio_tv', 7205, 'greater_1000', 'greater_7', 4, 'male', 'guarantor', 4, 'unknown', 53, 'stores', 'own', 2, 'unemployed', 2, 'yes', 'yes', 3.0, 2.0, 2.0, 3.0, 0.0, 0.0, 1.0, 3.0, 3.0, 2.0, 3.0, 0.0, 1.0, [3.0, 2.0, 3.0, 3.0, 2.0, 0.0, 2.0, 3.0, 1.0, 0.0, 3.0, 1.0, 0.0, 21.0, 7205.0, 4.0, 4.0, 21.0, 53.0, 2.0, 2.0], [6.128021501715557, 13.871978498284442], [0.30640107508577785, 0.693598924914222], 1.0, 'Risk'], ['0_to_200', 18, 'prior_payments_delayed', 'furniture', 1673, 'less_100', '1_to_4', 2, 'male', 'none', 3, 'car_other', 30, 'none', 'own', 2, 'skilled', 1, 'none', 'yes', 2.0, 0.0, 0.0, 0.0, 0.0, 0.0, 0.0, 0.0, 1.0, 0.0, 1.0, 0.0, 0.0, [21, [0, 2, 7, 13, 14, 15, 16, 17, 18, 19, 20], [2.0, 1.0, 1.0, 18.0, 1673.0, 2.0, 3.0, 18.0, 30.0, 2.0, 1.0]], [15.0731146446167, 4.926885355383301], [0.753655732230835, 0.24634426776916504], 0.0, 'No Risk'], ['no_checking', 26, 'outstanding_credit', 'business', 8612, '500_to_1000', 'greater_7', 5, 'male', 'none', 5, 'car_other', 46, 'none', 'own', 2, 'management_self-employed', 1, 'none', 'yes', 0.0, 2.0, 2.0, 2.0, 0.0, 0.0, 0.0, 2.0, 9.0, 0.0, 1.0, 0.0, 0.0, [0.0, 2.0, 9.0, 2.0, 2.0, 0.0, 0.0, 1.0, 0.0, 0.0, 2.0, 0.0, 0.0, 26.0, 8612.0, 5.0, 5.0, 26.0, 46.0, 2.0, 1.0], [7.643434999242039, 12.35656500075796], [0.38217174996210196, 0.617828250037898], 1.0, 'Risk'], ['no_checking', 41, 'outstanding_credit', 'education', 8023, 'unknown', '4_to_7', 5, 'male', 'co-applicant', 4, 'unknown', 63, 'none', 'free', 2, 'skilled', 2, 'yes', 'yes', 0.0, 2.0, 1.0, 4.0, 0.0, 2.0, 0.0, 0.0, 7.0, 1.0, 3.0, 0.0, 1.0, [0.0, 2.0, 7.0, 4.0, 1.0, 0.0, 1.0, 3.0, 0.0, 2.0, 0.0, 1.0, 0.0, 41.0, 8023.0, 5.0, 4.0, 41.0, 63.0, 2.0, 2.0], [2.3519078620742055, 17.648092137925794], [0.11759539310371028, 0.8824046068962896], 1.0, 'Risk'], ['no_checking', 27, 'prior_payments_delayed', 'car_used', 5364, '100_to_500', '1_to_4', 4, 'male', 'none', 4, 'car_other', 30, 'none', 'own', 1, 'management_self-employed', 1, 'none', 'yes', 0.0, 0.0, 0.0, 1.0, 0.0, 0.0, 0.0, 2.0, 2.0, 0.0, 1.0, 0.0, 0.0, [21, [2, 3, 7, 10, 13, 14, 15, 16, 17, 18, 19, 20], [2.0, 1.0, 1.0, 2.0, 27.0, 5364.0, 4.0, 4.0, 27.0, 30.0, 1.0, 1.0]], [13.230191408072683, 6.769808591927315], [0.6615095704036341, 0.33849042959636577], 0.0, 'No Risk'], ['less_0', 15, 'prior_payments_delayed', 'furniture', 1148, 'less_100', 'less_1', 3, 'male', 'none', 2, 'car_other', 27, 'none', 'own', 1, 'skilled', 1, 'yes', 'yes', 1.0, 0.0, 3.0, 0.0, 0.0, 0.0, 0.0, 0.0, 1.0, 0.0, 1.0, 0.0, 1.0, [1.0, 0.0, 1.0, 0.0, 3.0, 0.0, 0.0, 1.0, 0.0, 0.0, 0.0, 1.0, 0.0, 15.0, 1148.0, 3.0, 2.0, 15.0, 27.0, 1.0, 1.0], [18.259197231518637, 1.7408027684813612], [0.9129598615759319, 0.08704013842406806], 0.0, 'No Risk'], ['0_to_200', 18, 'prior_payments_delayed', 'furniture', 250, 'greater_1000', '4_to_7', 3, 'male', 'none', 3, 'car_other', 24, 'stores', 'rent', 1, 'skilled', 1, 'none', 'yes', 2.0, 0.0, 1.0, 3.0, 0.0, 1.0, 1.0, 0.0, 1.0, 0.0, 1.0, 0.0, 0.0, [2.0, 0.0, 1.0, 3.0, 1.0, 0.0, 0.0, 1.0, 1.0, 1.0, 0.0, 0.0, 0.0, 18.0, 250.0, 3.0, 3.0, 18.0, 24.0, 1.0, 1.0], [15.46330977843038, 4.53669022156962], [0.773165488921519, 0.226834511078481], 0.0, 'No Risk'], ['less_0', 24, 'prior_payments_delayed', 'appliances', 1739, '500_to_1000', '1_to_4', 3, 'male', 'none', 3, 'savings_insurance', 29, 'bank', 'rent', 1, 'unemployed', 1, 'none', 'yes', 1.0, 0.0, 0.0, 2.0, 0.0, 1.0, 2.0, 3.0, 4.0, 0.0, 0.0, 0.0, 0.0, [1.0, 0.0, 4.0, 2.0, 0.0, 0.0, 0.0, 0.0, 2.0, 1.0, 3.0, 0.0, 0.0, 24.0, 1739.0, 3.0, 3.0, 24.0, 29.0, 1.0, 1.0], [15.69755079161867, 4.302449208381328], [0.7848775395809335, 0.2151224604190664], 0.0, 'No Risk'], ['0_to_200', 23, 'outstanding_credit', 'car_used', 3514, '100_to_500', 'greater_7', 4, 'male', 'none', 3, 'car_other', 39, 'none', 'free', 2, 'skilled', 1, 'yes', 'yes', 2.0, 2.0, 2.0, 1.0, 0.0, 2.0, 0.0, 0.0, 2.0, 0.0, 1.0, 0.0, 1.0, [2.0, 2.0, 2.0, 1.0, 2.0, 0.0, 0.0, 1.0, 0.0, 2.0, 0.0, 1.0, 0.0, 23.0, 3514.0, 4.0, 3.0, 23.0, 39.0, 2.0, 1.0], [11.78918009284582, 8.210819907154178], [0.589459004642291, 0.41054099535770894], 0.0, 'No Risk'], ['0_to_200', 4, 'credits_paid_to_date', 'car_new', 3340, 'less_100', 'less_1', 2, 'female', 'none', 3, 'car_other', 36, 'none', 'own', 1, 'management_self-employed', 1, 'none', 'yes', 2.0, 1.0, 3.0, 0.0, 0.0, 0.0, 0.0, 2.0, 0.0, 0.0, 1.0, 1.0, 0.0, [2.0, 1.0, 0.0, 0.0, 3.0, 1.0, 0.0, 1.0, 0.0, 0.0, 2.0, 0.0, 0.0, 4.0, 3340.0, 2.0, 3.0, 4.0, 36.0, 1.0, 1.0], [17.074623851314854, 2.925376148685145], [0.8537311925657427, 0.14626880743425724], 0.0, 'No Risk'], ['less_0', 4, 'all_credits_paid_back', 'car_new', 250, 'less_100', 'unemployed', 1, 'male', 'none', 1, 'real_estate', 19, 'stores', 'rent', 1, 'skilled', 1, 'none', 'yes', 1.0, 3.0, 4.0, 0.0, 0.0, 1.0, 1.0, 0.0, 0.0, 0.0, 2.0, 0.0, 0.0, [1.0, 3.0, 0.0, 0.0, 4.0, 0.0, 0.0, 2.0, 1.0, 1.0, 0.0, 0.0, 0.0, 4.0, 250.0, 1.0, 1.0, 4.0, 19.0, 1.0, 1.0], [19.489084600281362, 0.5109153997186346], [0.9744542300140683, 0.02554576998593174], 0.0, 'No Risk'], ['less_0', 31, 'outstanding_credit', 'business', 4044, 'greater_1000', 'greater_7', 3, 'female', 'co-applicant', 2, 'unknown', 55, 'stores', 'own', 2, 'unskilled', 1, 'yes', 'yes', 1.0, 2.0, 2.0, 3.0, 0.0, 0.0, 1.0, 1.0, 9.0, 1.0, 3.0, 1.0, 1.0, [1.0, 2.0, 9.0, 3.0, 2.0, 1.0, 1.0, 3.0, 1.0, 0.0, 1.0, 1.0, 0.0, 31.0, 4044.0, 3.0, 2.0, 31.0, 55.0, 2.0, 1.0], [9.499533451825936, 10.500466548174062], [0.47497667259129683, 0.525023327408703], 1.0, 'Risk'], ['no_checking', 29, 'outstanding_credit', 'appliances', 3227, '500_to_1000', 'greater_7', 4, 'male', 'none', 4, 'car_other', 52, 'none', 'free', 2, 'skilled', 1, 'yes', 'yes', 0.0, 2.0, 2.0, 2.0, 0.0, 2.0, 0.0, 0.0, 4.0, 0.0, 1.0, 0.0, 1.0, [0.0, 2.0, 4.0, 2.0, 2.0, 0.0, 0.0, 1.0, 0.0, 2.0, 0.0, 1.0, 0.0, 29.0, 3227.0, 4.0, 4.0, 29.0, 52.0, 2.0, 1.0], [5.90619774026038, 14.09380225973962], [0.29530988701301897, 0.704690112986981], 1.0, 'Risk'], ['0_to_200', 14, 'no_credits', 'appliances', 3440, 'less_100', 'unemployed', 1, 'female', 'none', 3, 'savings_insurance', 19, 'none', 'rent', 1, 'skilled', 1, 'none', 'yes', 2.0, 4.0, 4.0, 0.0, 0.0, 1.0, 0.0, 0.0, 4.0, 0.0, 0.0, 1.0, 0.0, [2.0, 4.0, 4.0, 0.0, 4.0, 1.0, 0.0, 0.0, 0.0, 1.0, 0.0, 0.0, 0.0, 14.0, 3440.0, 1.0, 3.0, 14.0, 19.0, 1.0, 1.0], [18.25800214391176, 1.741997856088234], [0.9129001071955883, 0.08709989280441173], 0.0, 'No Risk'], ['greater_200', 5, 'credits_paid_to_date', 'car_new', 3004, '500_to_1000', '1_to_4', 2, 'female', 'none', 1, 'savings_insurance', 26, 'none', 'own', 2, 'skilled', 1, 'none', 'yes', 3.0, 1.0, 0.0, 2.0, 0.0, 0.0, 0.0, 0.0, 0.0, 0.0, 0.0, 1.0, 0.0, [21, [0, 1, 3, 5, 13, 14, 15, 16, 17, 18, 19, 20], [3.0, 1.0, 2.0, 1.0, 5.0, 3004.0, 2.0, 1.0, 5.0, 26.0, 2.0, 1.0]], [16.28390977828971, 3.716090221710287], [0.8141954889144856, 0.18580451108551435], 0.0, 'No Risk'], ['no_checking', 21, 'prior_payments_delayed', 'radio_tv', 6333, '100_to_500', 'greater_7', 5, 'male', 'none', 5, 'unknown', 48, 'none', 'free', 2, 'skilled', 1, 'yes', 'yes', 0.0, 0.0, 2.0, 1.0, 0.0, 2.0, 0.0, 0.0, 3.0, 0.0, 3.0, 0.0, 1.0, [0.0, 0.0, 3.0, 1.0, 2.0, 0.0, 0.0, 3.0, 0.0, 2.0, 0.0, 1.0, 0.0, 21.0, 6333.0, 5.0, 5.0, 21.0, 48.0, 2.0, 1.0], [5.948913446464699, 14.051086553535303], [0.29744567232323493, 0.7025543276767652], 1.0, 'Risk'], ['less_0', 7, 'prior_payments_delayed', 'car_new', 250, 'less_100', 'less_1', 1, 'female', 'none', 1, 'real_estate', 21, 'stores', 'rent', 1, 'unskilled', 1, 'yes', 'yes', 1.0, 0.0, 3.0, 0.0, 0.0, 1.0, 1.0, 1.0, 0.0, 0.0, 2.0, 1.0, 1.0, [1.0, 0.0, 0.0, 0.0, 3.0, 1.0, 0.0, 2.0, 1.0, 1.0, 1.0, 1.0, 0.0, 7.0, 250.0, 1.0, 1.0, 7.0, 21.0, 1.0, 1.0], [18.693040320118314, 1.306959679881687], [0.9346520160059157, 0.06534798399408434], 0.0, 'No Risk'], ['0_to_200', 21, 'no_credits', 'furniture', 2053, '500_to_1000', '1_to_4', 1, 'male', 'none', 1, 'savings_insurance', 28, 'stores', 'own', 1, 'skilled', 1, 'none', 'yes', 2.0, 4.0, 0.0, 2.0, 0.0, 0.0, 1.0, 0.0, 1.0, 0.0, 0.0, 0.0, 0.0, [2.0, 4.0, 1.0, 2.0, 0.0, 0.0, 0.0, 0.0, 1.0, 0.0, 0.0, 0.0, 0.0, 21.0, 2053.0, 1.0, 1.0, 21.0, 28.0, 1.0, 1.0], [17.103343721572816, 2.896656278427184], [0.8551671860786408, 0.14483281392135922], 0.0, 'No Risk'], ['0_to_200', 21, 'credits_paid_to_date', 'car_used', 2484, 'less_100', 'less_1', 1, 'male', 'none', 3, 'savings_insurance', 34, 'none', 'own', 1, 'skilled', 1, 'none', 'yes', 2.0, 1.0, 3.0, 0.0, 0.0, 0.0, 0.0, 0.0, 2.0, 0.0, 0.0, 0.0, 0.0, [21, [0, 1, 2, 4, 13, 14, 15, 16, 17, 18, 19, 20], [2.0, 1.0, 2.0, 3.0, 21.0, 2484.0, 1.0, 3.0, 21.0, 34.0, 1.0, 1.0]], [16.191933386187223, 3.80806661381278], [0.809596669309361, 0.19040333069063897], 0.0, 'No Risk'], ['less_0', 26, 'prior_payments_delayed', 'car_used', 1067, 'less_100', '4_to_7', 2, 'male', 'none', 3, 'car_other', 40, 'none', 'rent', 1, 'skilled', 1, 'yes', 'yes', 1.0, 0.0, 1.0, 0.0, 0.0, 1.0, 0.0, 0.0, 2.0, 0.0, 1.0, 0.0, 1.0, [1.0, 0.0, 2.0, 0.0, 1.0, 0.0, 0.0, 1.0, 0.0, 1.0, 0.0, 1.0, 0.0, 26.0, 1067.0, 2.0, 3.0, 26.0, 40.0, 1.0, 1.0], [13.237316913135695, 6.762683086864304], [0.6618658456567847, 0.3381341543432152], 0.0, 'No Risk'], ['less_0', 21, 'credits_paid_to_date', 'repairs', 250, 'less_100', '1_to_4', 1, 'male', 'none', 1, 'real_estate', 21, 'stores', 'rent', 1, 'skilled', 1, 'none', 'yes', 1.0, 1.0, 0.0, 0.0, 0.0, 1.0, 1.0, 0.0, 5.0, 0.0, 2.0, 0.0, 0.0, [1.0, 1.0, 5.0, 0.0, 0.0, 0.0, 0.0, 2.0, 1.0, 1.0, 0.0, 0.0, 0.0, 21.0, 250.0, 1.0, 1.0, 21.0, 21.0, 1.0, 1.0], [17.65617836639099, 2.3438216336090156], [0.8828089183195493, 0.11719108168045075], 0.0, 'No Risk'], ['0_to_200', 15, 'prior_payments_delayed', 'car_used', 3452, '100_to_500', '4_to_7', 3, 'male', 'none', 2, 'car_other', 40, 'none', 'own', 1, 'skilled', 1, 'yes', 'yes', 2.0, 0.0, 1.0, 1.0, 0.0, 0.0, 0.0, 0.0, 2.0, 0.0, 1.0, 0.0, 1.0, [2.0, 0.0, 2.0, 1.0, 1.0, 0.0, 0.0, 1.0, 0.0, 0.0, 0.0, 1.0, 0.0, 15.0, 3452.0, 3.0, 2.0, 15.0, 40.0, 1.0, 1.0], [14.072376488205869, 5.92762351179413], [0.7036188244102934, 0.2963811755897065], 0.0, 'No Risk'], ['greater_200', 27, 'outstanding_credit', 'furniture', 4532, '500_to_1000', 'less_1', 4, 'male', 'none', 3, 'savings_insurance', 21, 'none', 'own', 2, 'management_self-employed', 1, 'yes', 'yes', 3.0, 2.0, 3.0, 2.0, 0.0, 0.0, 0.0, 2.0, 1.0, 0.0, 0.0, 0.0, 1.0, [3.0, 2.0, 1.0, 2.0, 3.0, 0.0, 0.0, 0.0, 0.0, 0.0, 2.0, 1.0, 0.0, 27.0, 4532.0, 4.0, 3.0, 27.0, 21.0, 2.0, 1.0], [15.261867548934259, 4.738132451065743], [0.7630933774467129, 0.23690662255328715], 0.0, 'No Risk'], ['no_checking', 27, 'prior_payments_delayed', 'appliances', 5328, '100_to_500', 'greater_7', 4, 'male', 'co-applicant', 5, 'savings_insurance', 50, 'none', 'free', 2, 'skilled', 1, 'yes', 'yes', 0.0, 0.0, 2.0, 1.0, 0.0, 2.0, 0.0, 0.0, 4.0, 1.0, 0.0, 0.0, 1.0, [0.0, 0.0, 4.0, 1.0, 2.0, 0.0, 1.0, 0.0, 0.0, 2.0, 0.0, 1.0, 0.0, 27.0, 5328.0, 4.0, 5.0, 27.0, 50.0, 2.0, 1.0], [5.501287380990305, 14.498712619009698], [0.2750643690495152, 0.7249356309504847], 1.0, 'Risk'], ['less_0', 4, 'all_credits_paid_back', 'car_new', 250, 'less_100', 'unemployed', 1, 'male', 'none', 2, 'real_estate', 25, 'none', 'rent', 1, 'skilled', 1, 'none', 'yes', 1.0, 3.0, 4.0, 0.0, 0.0, 1.0, 0.0, 0.0, 0.0, 0.0, 2.0, 0.0, 0.0, [1.0, 3.0, 0.0, 0.0, 4.0, 0.0, 0.0, 2.0, 0.0, 1.0, 0.0, 0.0, 0.0, 4.0, 250.0, 1.0, 2.0, 4.0, 25.0, 1.0, 1.0], [19.557317089819676, 0.4426829101803208], [0.977865854490984, 0.022134145509016045], 0.0, 'No Risk'], ['no_checking', 27, 'prior_payments_delayed', 'car_used', 6150, '100_to_500', 'less_1', 2, 'male', 'none', 2, 'savings_insurance', 34, 'none', 'own', 2, 'management_self-employed', 1, 'yes', 'yes', 0.0, 0.0, 3.0, 1.0, 0.0, 0.0, 0.0, 2.0, 2.0, 0.0, 0.0, 0.0, 1.0, [0.0, 0.0, 2.0, 1.0, 3.0, 0.0, 0.0, 0.0, 0.0, 0.0, 2.0, 1.0, 0.0, 27.0, 6150.0, 2.0, 2.0, 27.0, 34.0, 2.0, 1.0], [14.371787129532006, 5.628212870467996], [0.7185893564766003, 0.2814106435233998], 0.0, 'No Risk'], ['0_to_200', 19, 'credits_paid_to_date', 'radio_tv', 4727, 'less_100', '1_to_4', 3, 'male', 'none', 4, 'car_other', 43, 'none', 'rent', 1, 'management_self-employed', 1, 'none', 'yes', 2.0, 1.0, 0.0, 0.0, 0.0, 1.0, 0.0, 2.0, 3.0, 0.0, 1.0, 0.0, 0.0, [2.0, 1.0, 3.0, 0.0, 0.0, 0.0, 0.0, 1.0, 0.0, 1.0, 2.0, 0.0, 0.0, 19.0, 4727.0, 3.0, 4.0, 19.0, 43.0, 1.0, 1.0], [13.691153318862414, 6.308846681137585], [0.6845576659431207, 0.31544233405687927], 0.0, 'No Risk'], ['no_checking', 39, 'outstanding_credit', 'repairs', 10356, '500_to_1000', 'greater_7', 6, 'male', 'guarantor', 5, 'unknown', 62, 'stores', 'free', 3, 'unskilled', 1, 'yes', 'yes', 0.0, 2.0, 2.0, 2.0, 0.0, 2.0, 1.0, 1.0, 5.0, 2.0, 3.0, 0.0, 1.0, [0.0, 2.0, 5.0, 2.0, 2.0, 0.0, 2.0, 3.0, 1.0, 2.0, 1.0, 1.0, 0.0, 39.0, 10356.0, 6.0, 5.0, 39.0, 62.0, 3.0, 1.0], [1.7619005545220898, 18.238099445477907], [0.0880950277261045, 0.9119049722738956], 1.0, 'Risk'], ['0_to_200', 23, 'credits_paid_to_date', 'car_new', 3139, 'less_100', '1_to_4', 2, 'male', 'none', 1, 'real_estate', 19, 'none', 'own', 1, 'skilled', 1, 'none', 'yes', 2.0, 1.0, 0.0, 0.0, 0.0, 0.0, 0.0, 0.0, 0.0, 0.0, 2.0, 0.0, 0.0, [21, [0, 1, 7, 13, 14, 15, 16, 17, 18, 19, 20], [2.0, 1.0, 2.0, 23.0, 3139.0, 2.0, 1.0, 23.0, 19.0, 1.0, 1.0]], [17.166165764577755, 2.833834235422248], [0.8583082882288876, 0.14169171177111237], 0.0, 'No Risk'], ['0_to_200', 7, 'all_credits_paid_back', 'car_new', 250, '500_to_1000', '4_to_7', 2, 'male', 'none', 3, 'real_estate', 26, 'none', 'rent', 1, 'skilled', 1, 'none', 'yes', 2.0, 3.0, 1.0, 2.0, 0.0, 1.0, 0.0, 0.0, 0.0, 0.0, 2.0, 0.0, 0.0, [2.0, 3.0, 0.0, 2.0, 1.0, 0.0, 0.0, 2.0, 0.0, 1.0, 0.0, 0.0, 0.0, 7.0, 250.0, 2.0, 3.0, 7.0, 26.0, 1.0, 1.0], [18.199834757528706, 1.800165242471291], [0.9099917378764354, 0.09000826212356457], 0.0, 'No Risk'], ['greater_200', 15, 'prior_payments_delayed', 'retraining', 6326, '100_to_500', 'less_1', 2, 'male', 'none', 2, 'savings_insurance', 34, 'none', 'own', 2, 'management_self-employed', 1, 'none', 'yes', 3.0, 0.0, 3.0, 1.0, 0.0, 0.0, 0.0, 2.0, 8.0, 0.0, 0.0, 0.0, 0.0, [3.0, 0.0, 8.0, 1.0, 3.0, 0.0, 0.0, 0.0, 0.0, 0.0, 2.0, 0.0, 0.0, 15.0, 6326.0, 2.0, 2.0, 15.0, 34.0, 2.0, 1.0], [16.05069332322339, 3.949306676776612], [0.8025346661611694, 0.1974653338388306], 0.0, 'No Risk'], ['no_checking', 29, 'outstanding_credit', 'appliances', 6096, '500_to_1000', '4_to_7', 4, 'male', 'none', 3, 'unknown', 45, 'none', 'free', 2, 'skilled', 1, 'yes', 'yes', 0.0, 2.0, 1.0, 2.0, 0.0, 2.0, 0.0, 0.0, 4.0, 0.0, 3.0, 0.0, 1.0, [0.0, 2.0, 4.0, 2.0, 1.0, 0.0, 0.0, 3.0, 0.0, 2.0, 0.0, 1.0, 0.0, 29.0, 6096.0, 4.0, 3.0, 29.0, 45.0, 2.0, 1.0], [7.930033573890473, 12.069966426109527], [0.39650167869452363, 0.6034983213054763], 1.0, 'Risk'], ['less_0', 17, 'credits_paid_to_date', 'car_new', 743, 'less_100', 'less_1', 2, 'female', 'none', 2, 'car_other', 28, 'none', 'own', 1, 'skilled', 1, 'none', 'yes', 1.0, 1.0, 3.0, 0.0, 0.0, 0.0, 0.0, 0.0, 0.0, 0.0, 1.0, 1.0, 0.0, [1.0, 1.0, 0.0, 0.0, 3.0, 1.0, 0.0, 1.0, 0.0, 0.0, 0.0, 0.0, 0.0, 17.0, 743.0, 2.0, 2.0, 17.0, 28.0, 1.0, 1.0], [18.31179409059896, 1.6882059094010442], [0.9155897045299478, 0.0844102954700522], 0.0, 'No Risk'], ['no_checking', 9, 'prior_payments_delayed', 'furniture', 3980, '100_to_500', '1_to_4', 3, 'male', 'none', 4, 'savings_insurance', 29, 'none', 'own', 1, 'management_self-employed', 1, 'none', 'yes', 0.0, 0.0, 0.0, 1.0, 0.0, 0.0, 0.0, 2.0, 1.0, 0.0, 0.0, 0.0, 0.0, [21, [2, 3, 10, 13, 14, 15, 16, 17, 18, 19, 20], [1.0, 1.0, 2.0, 9.0, 3980.0, 3.0, 4.0, 9.0, 29.0, 1.0, 1.0]], [14.659735036759594, 5.340264963240403], [0.7329867518379798, 0.2670132481620202], 0.0, 'No Risk'], ['no_checking', 37, 'prior_payments_delayed', 'radio_tv', 4761, '500_to_1000', 'greater_7', 5, 'male', 'none', 5, 'car_other', 43, 'none', 'free', 2, 'skilled', 1, 'none', 'yes', 0.0, 0.0, 2.0, 2.0, 0.0, 2.0, 0.0, 0.0, 3.0, 0.0, 1.0, 0.0, 0.0, [0.0, 0.0, 3.0, 2.0, 2.0, 0.0, 0.0, 1.0, 0.0, 2.0, 0.0, 0.0, 0.0, 37.0, 4761.0, 5.0, 5.0, 37.0, 43.0, 2.0, 1.0], [8.918403262695879, 11.081596737304121], [0.44592016313479393, 0.554079836865206], 1.0, 'Risk'], ['0_to_200', 21, 'credits_paid_to_date', 'radio_tv', 3177, 'less_100', '4_to_7', 2, 'male', 'none', 3, 'car_other', 40, 'none', 'own', 1, 'skilled', 1, 'none', 'yes', 2.0, 1.0, 1.0, 0.0, 0.0, 0.0, 0.0, 0.0, 3.0, 0.0, 1.0, 0.0, 0.0, [2.0, 1.0, 3.0, 0.0, 1.0, 0.0, 0.0, 1.0, 0.0, 0.0, 0.0, 0.0, 0.0, 21.0, 3177.0, 2.0, 3.0, 21.0, 40.0, 1.0, 1.0], [12.987364016014228, 7.012635983985774], [0.6493682008007113, 0.3506317991992887], 0.0, 'No Risk'], ['less_0', 4, 'all_credits_paid_back', 'car_new', 250, '100_to_500', '1_to_4', 1, 'female', 'none', 2, 'savings_insurance', 19, 'stores', 'rent', 1, 'skilled', 1, 'none', 'yes', 1.0, 3.0, 0.0, 1.0, 0.0, 1.0, 1.0, 0.0, 0.0, 0.0, 0.0, 1.0, 0.0, [1.0, 3.0, 0.0, 1.0, 0.0, 1.0, 0.0, 0.0, 1.0, 1.0, 0.0, 0.0, 0.0, 4.0, 250.0, 1.0, 2.0, 4.0, 19.0, 1.0, 1.0], [19.026754046388767, 0.9732459536112316], [0.9513377023194384, 0.04866229768056158], 0.0, 'No Risk'], ['0_to_200', 20, 'prior_payments_delayed', 'car_new', 4087, '500_to_1000', 'less_1', 3, 'male', 'none', 2, 'car_other', 38, 'none', 'free', 2, 'skilled', 2, 'yes', 'no', 2.0, 0.0, 3.0, 2.0, 1.0, 2.0, 0.0, 0.0, 0.0, 0.0, 1.0, 0.0, 1.0, [2.0, 0.0, 0.0, 2.0, 3.0, 0.0, 0.0, 1.0, 0.0, 2.0, 0.0, 1.0, 1.0, 20.0, 4087.0, 3.0, 2.0, 20.0, 38.0, 2.0, 2.0], [14.424658055751737, 5.575341944248266], [0.7212329027875867, 0.2787670972124133], 0.0, 'No Risk'], ['no_checking', 24, 'prior_payments_delayed', 'appliances', 2264, 'unknown', '4_to_7', 4, 'male', 'co-applicant', 5, 'savings_insurance', 54, 'none', 'own', 2, 'skilled', 1, 'yes', 'yes', 0.0, 0.0, 1.0, 4.0, 0.0, 0.0, 0.0, 0.0, 4.0, 1.0, 0.0, 0.0, 1.0, [0.0, 0.0, 4.0, 4.0, 1.0, 0.0, 1.0, 0.0, 0.0, 0.0, 0.0, 1.0, 0.0, 24.0, 2264.0, 4.0, 5.0, 24.0, 54.0, 2.0, 1.0], [8.918915675672087, 11.081084324327913], [0.4459457837836044, 0.5540542162163956], 1.0, 'Risk'], ['0_to_200', 27, 'credits_paid_to_date', 'furniture', 3412, 'greater_1000', '1_to_4', 2, 'female', 'none', 3, 'unknown', 43, 'stores', 'own', 2, 'unskilled', 1, 'none', 'yes', 2.0, 1.0, 0.0, 3.0, 0.0, 0.0, 1.0, 1.0, 1.0, 0.0, 3.0, 1.0, 0.0, [2.0, 1.0, 1.0, 3.0, 0.0, 1.0, 0.0, 3.0, 1.0, 0.0, 1.0, 0.0, 0.0, 27.0, 3412.0, 2.0, 3.0, 27.0, 43.0, 2.0, 1.0], [12.08475619672022, 7.915243803279782], [0.6042378098360109, 0.39576219016398906], 0.0, 'No Risk'], ['no_checking', 26, 'prior_payments_delayed', 'car_used', 4368, '100_to_500', '1_to_4', 3, 'male', 'none', 4, 'savings_insurance', 44, 'none', 'own', 2, 'management_self-employed', 2, 'yes', 'yes', 0.0, 0.0, 0.0, 1.0, 0.0, 0.0, 0.0, 2.0, 2.0, 0.0, 0.0, 0.0, 1.0, [21, [2, 3, 10, 11, 13, 14, 15, 16, 17, 18, 19, 20], [2.0, 1.0, 2.0, 1.0, 26.0, 4368.0, 3.0, 4.0, 26.0, 44.0, 2.0, 2.0]], [11.851493459279927, 8.14850654072007], [0.5925746729639964, 0.40742532703600354], 0.0, 'No Risk'], ['less_0', 7, 'no_credits', 'car_new', 1309, 'less_100', 'less_1', 1, 'male', 'none', 2, 'savings_insurance', 19, 'none', 'rent', 1, 'skilled', 1, 'none', 'yes', 1.0, 4.0, 3.0, 0.0, 0.0, 1.0, 0.0, 0.0, 0.0, 0.0, 0.0, 0.0, 0.0, [21, [0, 1, 4, 9, 13, 14, 15, 16, 17, 18, 19, 20], [1.0, 4.0, 3.0, 1.0, 7.0, 1309.0, 1.0, 2.0, 7.0, 19.0, 1.0, 1.0]], [19.27517667935533, 0.7248233206446683], [0.9637588339677666, 0.03624116603223342], 0.0, 'No Risk'], ['less_0', 4, 'credits_paid_to_date', 'car_used', 250, 'less_100', '4_to_7', 2, 'female', 'none', 2, 'savings_insurance', 19, 'stores', 'own', 1, 'skilled', 1, 'none', 'yes', 1.0, 1.0, 1.0, 0.0, 0.0, 0.0, 1.0, 0.0, 2.0, 0.0, 0.0, 1.0, 0.0, [1.0, 1.0, 2.0, 0.0, 1.0, 1.0, 0.0, 0.0, 1.0, 0.0, 0.0, 0.0, 0.0, 4.0, 250.0, 2.0, 2.0, 4.0, 19.0, 1.0, 1.0], [18.497305411907263, 1.5026945880927376], [0.9248652705953632, 0.07513472940463688], 0.0, 'No Risk'], ['less_0', 11, 'all_credits_paid_back', 'furniture', 1213, '100_to_500', 'less_1', 1, 'female', 'co-applicant', 3, 'real_estate', 33, 'stores', 'rent', 1, 'unskilled', 1, 'none', 'yes', 1.0, 3.0, 3.0, 1.0, 0.0, 1.0, 1.0, 1.0, 1.0, 1.0, 2.0, 1.0, 0.0, [1.0, 3.0, 1.0, 1.0, 3.0, 1.0, 1.0, 2.0, 1.0, 1.0, 1.0, 0.0, 0.0, 11.0, 1213.0, 1.0, 3.0, 11.0, 33.0, 1.0, 1.0], [18.708453880366935, 1.2915461196330649], [0.9354226940183468, 0.06457730598165325], 0.0, 'No Risk'], ['0_to_200', 16, 'credits_paid_to_date', 'furniture', 1219, 'less_100', 'unemployed', 2, 'female', 'none', 1, 'real_estate', 30, 'none', 'own', 1, 'skilled', 1, 'none', 'yes', 2.0, 1.0, 4.0, 0.0, 0.0, 0.0, 0.0, 0.0, 1.0, 0.0, 2.0, 1.0, 0.0, [2.0, 1.0, 1.0, 0.0, 4.0, 1.0, 0.0, 2.0, 0.0, 0.0, 0.0, 0.0, 0.0, 16.0, 1219.0, 2.0, 1.0, 16.0, 30.0, 1.0, 1.0], [19.059696958202423, 0.9403030417975797], [0.952984847910121, 0.04701515208987898], 0.0, 'No Risk'], ['no_checking', 21, 'credits_paid_to_date', 'radio_tv', 6778, 'greater_1000', '4_to_7', 4, 'male', 'none', 3, 'unknown', 29, 'stores', 'own', 2, 'unskilled', 1, 'none', 'yes', 0.0, 1.0, 1.0, 3.0, 0.0, 0.0, 1.0, 1.0, 3.0, 0.0, 3.0, 0.0, 0.0, [0.0, 1.0, 3.0, 3.0, 1.0, 0.0, 0.0, 3.0, 1.0, 0.0, 1.0, 0.0, 0.0, 21.0, 6778.0, 4.0, 3.0, 21.0, 29.0, 2.0, 1.0], [11.310761051984478, 8.689238948015518], [0.5655380525992241, 0.434461947400776], 0.0, 'No Risk'], ['less_0', 9, 'no_credits', 'car_new', 5182, 'less_100', '1_to_4', 3, 'male', 'none', 2, 'savings_insurance', 34, 'none', 'own', 2, 'skilled', 1, 'none', 'yes', 1.0, 4.0, 0.0, 0.0, 0.0, 0.0, 0.0, 0.0, 0.0, 0.0, 0.0, 0.0, 0.0, [21, [0, 1, 13, 14, 15, 16, 17, 18, 19, 20], [1.0, 4.0, 9.0, 5182.0, 3.0, 2.0, 9.0, 34.0, 2.0, 1.0]], [15.67474583340941, 4.325254166590589], [0.7837372916704706, 0.21626270832952943], 0.0, 'No Risk'], ['0_to_200', 18, 'credits_paid_to_date', 'furniture', 250, 'less_100', '1_to_4', 3, 'male', 'none', 2, 'real_estate', 39, 'none', 'own', 1, 'skilled', 1, 'none', 'yes', 2.0, 1.0, 0.0, 0.0, 0.0, 0.0, 0.0, 0.0, 1.0, 0.0, 2.0, 0.0, 0.0, [21, [0, 1, 2, 7, 13, 14, 15, 16, 17, 18, 19, 20], [2.0, 1.0, 1.0, 2.0, 18.0, 250.0, 3.0, 2.0, 18.0, 39.0, 1.0, 1.0]], [17.698292286684165, 2.3017077133158375], [0.884914614334208, 0.11508538566579185], 0.0, 'No Risk'], ['0_to_200', 23, 'prior_payments_delayed', 'radio_tv', 3729, 'less_100', 'less_1', 2, 'male', 'none', 2, 'car_other', 35, 'none', 'own', 2, 'skilled', 1, 'none', 'yes', 2.0, 0.0, 3.0, 0.0, 0.0, 0.0, 0.0, 0.0, 3.0, 0.0, 1.0, 0.0, 0.0, [21, [0, 2, 4, 7, 13, 14, 15, 16, 17, 18, 19, 20], [2.0, 3.0, 3.0, 1.0, 23.0, 3729.0, 2.0, 2.0, 23.0, 35.0, 2.0, 1.0]], [15.273847990133147, 4.726152009866857], [0.7636923995066572, 0.2363076004933428], 0.0, 'No Risk'], ['no_checking', 25, 'outstanding_credit', 'vacation', 7237, '500_to_1000', '1_to_4', 3, 'male', 'none', 5, 'car_other', 37, 'none', 'own', 2, 'management_self-employed', 1, 'yes', 'no', 0.0, 2.0, 0.0, 2.0, 1.0, 0.0, 0.0, 2.0, 6.0, 0.0, 1.0, 0.0, 1.0, [0.0, 2.0, 6.0, 2.0, 0.0, 0.0, 0.0, 1.0, 0.0, 0.0, 2.0, 1.0, 1.0, 25.0, 7237.0, 3.0, 5.0, 25.0, 37.0, 2.0, 1.0], [11.300085387398259, 8.699914612601743], [0.5650042693699129, 0.4349957306300872], 0.0, 'No Risk'], ['0_to_200', 21, 'prior_payments_delayed', 'radio_tv', 5795, 'greater_1000', 'less_1', 3, 'male', 'none', 4, 'unknown', 26, 'none', 'rent', 1, 'skilled', 1, 'none', 'no', 2.0, 0.0, 3.0, 3.0, 1.0, 1.0, 0.0, 0.0, 3.0, 0.0, 3.0, 0.0, 0.0, [2.0, 0.0, 3.0, 3.0, 3.0, 0.0, 0.0, 3.0, 0.0, 1.0, 0.0, 0.0, 1.0, 21.0, 5795.0, 3.0, 4.0, 21.0, 26.0, 1.0, 1.0], [15.134708417528202, 4.8652915824718015], [0.75673542087641, 0.24326457912359004], 0.0, 'No Risk'], ['no_checking', 29, 'outstanding_credit', 'furniture', 4943, '500_to_1000', '4_to_7', 4, 'male', 'none', 4, 'car_other', 42, 'none', 'own', 2, 'management_self-employed', 1, 'yes', 'yes', 0.0, 2.0, 1.0, 2.0, 0.0, 0.0, 0.0, 2.0, 1.0, 0.0, 1.0, 0.0, 1.0, [0.0, 2.0, 1.0, 2.0, 1.0, 0.0, 0.0, 1.0, 0.0, 0.0, 2.0, 1.0, 0.0, 29.0, 4943.0, 4.0, 4.0, 29.0, 42.0, 2.0, 1.0], [11.022322015103052, 8.977677984896951], [0.5511161007551525, 0.4488838992448475], 0.0, 'No Risk'], ['no_checking', 21, 'credits_paid_to_date', 'car_used', 2554, '500_to_1000', 'less_1', 3, 'female', 'co-applicant', 4, 'savings_insurance', 29, 'none', 'own', 1, 'skilled', 1, 'none', 'yes', 0.0, 1.0, 3.0, 2.0, 0.0, 0.0, 0.0, 0.0, 2.0, 1.0, 0.0, 1.0, 0.0, [0.0, 1.0, 2.0, 2.0, 3.0, 1.0, 1.0, 0.0, 0.0, 0.0, 0.0, 0.0, 0.0, 21.0, 2554.0, 3.0, 4.0, 21.0, 29.0, 1.0, 1.0], [15.285172255910947, 4.714827744089054], [0.7642586127955473, 0.2357413872044527], 0.0, 'No Risk'], ['less_0', 23, 'credits_paid_to_date', 'radio_tv', 2467, 'less_100', '4_to_7', 3, 'male', 'none', 3, 'real_estate', 26, 'stores', 'own', 1, 'unskilled', 1, 'yes', 'yes', 1.0, 1.0, 1.0, 0.0, 0.0, 0.0, 1.0, 1.0, 3.0, 0.0, 2.0, 0.0, 1.0, [1.0, 1.0, 3.0, 0.0, 1.0, 0.0, 0.0, 2.0, 1.0, 0.0, 1.0, 1.0, 0.0, 23.0, 2467.0, 3.0, 3.0, 23.0, 26.0, 1.0, 1.0], [15.826403823647293, 4.173596176352703], [0.7913201911823649, 0.20867980881763518], 0.0, 'No Risk'], ['less_0', 12, 'no_credits', 'car_used', 2579, 'less_100', '1_to_4', 2, 'female', 'co-applicant', 3, 'savings_insurance', 30, 'stores', 'rent', 1, 'unskilled', 1, 'none', 'yes', 1.0, 4.0, 0.0, 0.0, 0.0, 1.0, 1.0, 1.0, 2.0, 1.0, 0.0, 1.0, 0.0, [1.0, 4.0, 2.0, 0.0, 0.0, 1.0, 1.0, 0.0, 1.0, 1.0, 1.0, 0.0, 0.0, 12.0, 2579.0, 2.0, 3.0, 12.0, 30.0, 1.0, 1.0], [17.293137176586416, 2.7068628234135836], [0.8646568588293209, 0.1353431411706792], 0.0, 'No Risk'], ['0_to_200', 18, 'credits_paid_to_date', 'furniture', 2572, '500_to_1000', '4_to_7', 3, 'female', 'none', 3, 'real_estate', 29, 'none', 'rent', 2, 'skilled', 1, 'none', 'yes', 2.0, 1.0, 1.0, 2.0, 0.0, 1.0, 0.0, 0.0, 1.0, 0.0, 2.0, 1.0, 0.0, [2.0, 1.0, 1.0, 2.0, 1.0, 1.0, 0.0, 2.0, 0.0, 1.0, 0.0, 0.0, 0.0, 18.0, 2572.0, 3.0, 3.0, 18.0, 29.0, 2.0, 1.0], [15.765677549992528, 4.234322450007467], [0.7882838774996266, 0.21171612250037342], 0.0, 'No Risk'], ['0_to_200', 14, 'prior_payments_delayed', 'car_used', 4216, '100_to_500', '1_to_4', 3, 'male', 'none', 4, 'car_other', 46, 'none', 'own', 2, 'skilled', 1, 'yes', 'yes', 2.0, 0.0, 0.0, 1.0, 0.0, 0.0, 0.0, 0.0, 2.0, 0.0, 1.0, 0.0, 1.0, [2.0, 0.0, 2.0, 1.0, 0.0, 0.0, 0.0, 1.0, 0.0, 0.0, 0.0, 1.0, 0.0, 14.0, 4216.0, 3.0, 4.0, 14.0, 46.0, 2.0, 1.0], [11.756883677052635, 8.243116322947364], [0.5878441838526317, 0.4121558161473682], 0.0, 'No Risk'], ['less_0', 16, 'credits_paid_to_date', 'vacation', 250, 'less_100', 'unemployed', 2, 'female', 'none', 2, 'real_estate', 19, 'bank', 'rent', 1, 'unskilled', 1, 'none', 'yes', 1.0, 1.0, 4.0, 0.0, 0.0, 1.0, 2.0, 1.0, 6.0, 0.0, 2.0, 1.0, 0.0, [1.0, 1.0, 6.0, 0.0, 4.0, 1.0, 0.0, 2.0, 2.0, 1.0, 1.0, 0.0, 0.0, 16.0, 250.0, 2.0, 2.0, 16.0, 19.0, 1.0, 1.0], [19.338208914083477, 0.6617910859165228], [0.9669104457041738, 0.03308955429582614], 0.0, 'No Risk'], ['0_to_200', 10, 'credits_paid_to_date', 'car_new', 250, 'less_100', 'less_1', 2, 'male', 'none', 2, 'real_estate', 19, 'none', 'rent', 1, 'management_self-employed', 1, 'none', 'yes', 2.0, 1.0, 3.0, 0.0, 0.0, 1.0, 0.0, 2.0, 0.0, 0.0, 2.0, 0.0, 0.0, [2.0, 1.0, 0.0, 0.0, 3.0, 0.0, 0.0, 2.0, 0.0, 1.0, 2.0, 0.0, 0.0, 10.0, 250.0, 2.0, 2.0, 10.0, 19.0, 1.0, 1.0], [19.448334108735157, 0.5516658912648428], [0.9724167054367578, 0.027583294563242138], 0.0, 'No Risk'], ['less_0', 6, 'all_credits_paid_back', 'car_used', 250, '100_to_500', 'unemployed', 1, 'female', 'none', 2, 'real_estate', 21, 'none', 'rent', 1, 'skilled', 1, 'none', 'yes', 1.0, 3.0, 4.0, 1.0, 0.0, 1.0, 0.0, 0.0, 2.0, 0.0, 2.0, 1.0, 0.0, [1.0, 3.0, 2.0, 1.0, 4.0, 1.0, 0.0, 2.0, 0.0, 1.0, 0.0, 0.0, 0.0, 6.0, 250.0, 1.0, 2.0, 6.0, 21.0, 1.0, 1.0], [19.557317089819676, 0.4426829101803208], [0.977865854490984, 0.022134145509016045], 0.0, 'No Risk'], ['less_0', 14, 'all_credits_paid_back', 'car_used', 1551, 'less_100', '1_to_4', 1, 'male', 'none', 1, 'real_estate', 29, 'bank', 'rent', 1, 'unemployed', 1, 'none', 'yes', 1.0, 3.0, 0.0, 0.0, 0.0, 1.0, 2.0, 3.0, 2.0, 0.0, 2.0, 0.0, 0.0, [1.0, 3.0, 2.0, 0.0, 0.0, 0.0, 0.0, 2.0, 2.0, 1.0, 3.0, 0.0, 0.0, 14.0, 1551.0, 1.0, 1.0, 14.0, 29.0, 1.0, 1.0], [19.196734797725654, 0.8032652022743435], [0.9598367398862828, 0.04016326011371718], 0.0, 'No Risk'], ['no_checking', 14, 'credits_paid_to_date', 'furniture', 2932, '100_to_500', 'less_1', 3, 'female', 'none', 3, 'real_estate', 39, 'none', 'rent', 1, 'management_self-employed', 1, 'none', 'yes', 0.0, 1.0, 3.0, 1.0, 0.0, 1.0, 0.0, 2.0, 1.0, 0.0, 2.0, 1.0, 0.0, [0.0, 1.0, 1.0, 1.0, 3.0, 1.0, 0.0, 2.0, 0.0, 1.0, 2.0, 0.0, 0.0, 14.0, 2932.0, 3.0, 3.0, 14.0, 39.0, 1.0, 1.0], [17.237611397175616, 2.7623886028243856], [0.8618805698587808, 0.13811943014121927], 0.0, 'No Risk'], ['no_checking', 30, 'outstanding_credit', 'repairs', 9122, '500_to_1000', '4_to_7', 5, 'male', 'co-applicant', 5, 'unknown', 48, 'none', 'free', 3, 'management_self-employed', 2, 'yes', 'yes', 0.0, 2.0, 1.0, 2.0, 0.0, 2.0, 0.0, 2.0, 5.0, 1.0, 3.0, 0.0, 1.0, [0.0, 2.0, 5.0, 2.0, 1.0, 0.0, 1.0, 3.0, 0.0, 2.0, 2.0, 1.0, 0.0, 30.0, 9122.0, 5.0, 5.0, 30.0, 48.0, 3.0, 2.0], [3.522723140781813, 16.477276859218183], [0.1761361570390907, 0.8238638429609093], 1.0, 'Risk'], ['greater_200', 26, 'outstanding_credit', 'vacation', 7906, '100_to_500', 'greater_7', 4, 'male', 'none', 4, 'unknown', 31, 'none', 'free', 2, 'skilled', 1, 'yes', 'yes', 3.0, 2.0, 2.0, 1.0, 0.0, 2.0, 0.0, 0.0, 6.0, 0.0, 3.0, 0.0, 1.0, [3.0, 2.0, 6.0, 1.0, 2.0, 0.0, 0.0, 3.0, 0.0, 2.0, 0.0, 1.0, 0.0, 26.0, 7906.0, 4.0, 4.0, 26.0, 31.0, 2.0, 1.0], [10.838954251491295, 9.161045748508705], [0.5419477125745648, 0.45805228742543525], 0.0, 'No Risk'], ['no_checking', 33, 'all_credits_paid_back', 'business', 5106, 'greater_1000', '1_to_4', 4, 'male', 'none', 4, 'real_estate', 37, 'none', 'own', 2, 'management_self-employed', 1, 'none', 'yes', 0.0, 3.0, 0.0, 3.0, 0.0, 0.0, 0.0, 2.0, 9.0, 0.0, 2.0, 0.0, 0.0, [0.0, 3.0, 9.0, 3.0, 0.0, 0.0, 0.0, 2.0, 0.0, 0.0, 2.0, 0.0, 0.0, 33.0, 5106.0, 4.0, 4.0, 33.0, 37.0, 2.0, 1.0], [13.686121221879755, 6.313878778120246], [0.6843060610939877, 0.31569393890601233], 0.0, 'No Risk'], ['no_checking', 35, 'prior_payments_delayed', 'appliances', 4101, '500_to_1000', 'greater_7', 3, 'male', 'none', 4, 'unknown', 55, 'none', 'own', 2, 'skilled', 1, 'yes', 'yes', 0.0, 0.0, 2.0, 2.0, 0.0, 0.0, 0.0, 0.0, 4.0, 0.0, 3.0, 0.0, 1.0, [0.0, 0.0, 4.0, 2.0, 2.0, 0.0, 0.0, 3.0, 0.0, 0.0, 0.0, 1.0, 0.0, 35.0, 4101.0, 3.0, 4.0, 35.0, 55.0, 2.0, 1.0], [5.732943563437905, 14.267056436562097], [0.2866471781718952, 0.7133528218281049], 1.0, 'Risk'], ['less_0', 24, 'prior_payments_delayed', 'appliances', 2764, 'less_100', 'greater_7', 3, 'female', 'none', 2, 'car_other', 37, 'stores', 'own', 1, 'skilled', 1, 'none', 'yes', 1.0, 0.0, 2.0, 0.0, 0.0, 0.0, 1.0, 0.0, 4.0, 0.0, 1.0, 1.0, 0.0, [1.0, 0.0, 4.0, 0.0, 2.0, 1.0, 0.0, 1.0, 1.0, 0.0, 0.0, 0.0, 0.0, 24.0, 2764.0, 3.0, 2.0, 24.0, 37.0, 1.0, 1.0], [14.897972522399485, 5.102027477600517], [0.7448986261199743, 0.25510137388002585], 0.0, 'No Risk'], ['less_0', 16, 'prior_payments_delayed', 'radio_tv', 1385, 'greater_1000', '1_to_4', 2, 'male', 'co-applicant', 3, 'car_other', 35, 'bank', 'rent', 1, 'unskilled', 1, 'yes', 'yes', 1.0, 0.0, 0.0, 3.0, 0.0, 1.0, 2.0, 1.0, 3.0, 1.0, 1.0, 0.0, 1.0, [1.0, 0.0, 3.0, 3.0, 0.0, 0.0, 1.0, 1.0, 2.0, 1.0, 1.0, 1.0, 0.0, 16.0, 1385.0, 2.0, 3.0, 16.0, 35.0, 1.0, 1.0], [14.863847121616383, 5.136152878383614], [0.7431923560808192, 0.25680764391918076], 0.0, 'No Risk'], ['no_checking', 30, 'outstanding_credit', 'business', 3176, '500_to_1000', 'greater_7', 5, 'male', 'none', 4, 'car_other', 44, 'none', 'own', 1, 'skilled', 2, 'yes', 'no', 0.0, 2.0, 2.0, 2.0, 1.0, 0.0, 0.0, 0.0, 9.0, 0.0, 1.0, 0.0, 1.0, [0.0, 2.0, 9.0, 2.0, 2.0, 0.0, 0.0, 1.0, 0.0, 0.0, 0.0, 1.0, 1.0, 30.0, 3176.0, 5.0, 4.0, 30.0, 44.0, 1.0, 2.0], [8.334504865606009, 11.665495134393993], [0.4167252432803005, 0.5832747567196996], 1.0, 'Risk'], ['less_0', 26, 'credits_paid_to_date', 'furniture', 1895, 'less_100', 'less_1', 3, 'male', 'none', 2, 'savings_insurance', 21, 'none', 'rent', 2, 'skilled', 1, 'none', 'yes', 1.0, 1.0, 3.0, 0.0, 0.0, 1.0, 0.0, 0.0, 1.0, 0.0, 0.0, 0.0, 0.0, [1.0, 1.0, 1.0, 0.0, 3.0, 0.0, 0.0, 0.0, 0.0, 1.0, 0.0, 0.0, 0.0, 26.0, 1895.0, 3.0, 2.0, 26.0, 21.0, 2.0, 1.0], [16.859645167618186, 3.140354832381812], [0.8429822583809093, 0.1570177416190906], 0.0, 'No Risk'], ['no_checking', 35, 'credits_paid_to_date', 'car_used', 4139, '100_to_500', '4_to_7', 4, 'male', 'none', 3, 'savings_insurance', 43, 'none', 'own', 2, 'skilled', 2, 'yes', 'yes', 0.0, 1.0, 1.0, 1.0, 0.0, 0.0, 0.0, 0.0, 2.0, 0.0, 0.0, 0.0, 1.0, [0.0, 1.0, 2.0, 1.0, 1.0, 0.0, 0.0, 0.0, 0.0, 0.0, 0.0, 1.0, 0.0, 35.0, 4139.0, 4.0, 3.0, 35.0, 43.0, 2.0, 2.0], [11.11020131377991, 8.88979868622009], [0.5555100656889955, 0.4444899343110045], 0.0, 'No Risk'], ['0_to_200', 20, 'prior_payments_delayed', 'car_new', 3805, 'greater_1000', 'greater_7', 4, 'male', 'co-applicant', 3, 'savings_insurance', 40, 'none', 'own', 1, 'skilled', 2, 'none', 'yes', 2.0, 0.0, 2.0, 3.0, 0.0, 0.0, 0.0, 0.0, 0.0, 1.0, 0.0, 0.0, 0.0, [21, [0, 3, 4, 6, 13, 14, 15, 16, 17, 18, 19, 20], [2.0, 3.0, 2.0, 1.0, 20.0, 3805.0, 4.0, 3.0, 20.0, 40.0, 1.0, 2.0]], [12.73812599166451, 7.26187400833549], [0.6369062995832255, 0.3630937004167745], 0.0, 'No Risk'], ['less_0', 11, 'credits_paid_to_date', 'vacation', 1790, 'less_100', 'less_1', 2, 'female', 'none', 2, 'savings_insurance', 26, 'none', 'own', 1, 'skilled', 1, 'none', 'yes', 1.0, 1.0, 3.0, 0.0, 0.0, 0.0, 0.0, 0.0, 6.0, 0.0, 0.0, 1.0, 0.0, [1.0, 1.0, 6.0, 0.0, 3.0, 1.0, 0.0, 0.0, 0.0, 0.0, 0.0, 0.0, 0.0, 11.0, 1790.0, 2.0, 2.0, 11.0, 26.0, 1.0, 1.0], [19.154205394177243, 0.8457946058227575], [0.9577102697088622, 0.042289730291137875], 0.0, 'No Risk'], ['less_0', 15, 'credits_paid_to_date', 'car_new', 250, 'less_100', 'less_1', 1, 'female', 'none', 2, 'savings_insurance', 21, 'stores', 'own', 1, 'skilled', 1, 'none', 'yes', 1.0, 1.0, 3.0, 0.0, 0.0, 0.0, 1.0, 0.0, 0.0, 0.0, 0.0, 1.0, 0.0, [1.0, 1.0, 0.0, 0.0, 3.0, 1.0, 0.0, 0.0, 1.0, 0.0, 0.0, 0.0, 0.0, 15.0, 250.0, 1.0, 2.0, 15.0, 21.0, 1.0, 1.0], [18.953581579475845, 1.0464184205241538], [0.9476790789737922, 0.05232092102620769], 0.0, 'No Risk'], ['less_0', 22, 'credits_paid_to_date', 'car_new', 1005, 'less_100', 'less_1', 3, 'female', 'none', 2, 'real_estate', 31, 'none', 'own', 1, 'skilled', 1, 'none', 'yes', 1.0, 1.0, 3.0, 0.0, 0.0, 0.0, 0.0, 0.0, 0.0, 0.0, 2.0, 1.0, 0.0, [1.0, 1.0, 0.0, 0.0, 3.0, 1.0, 0.0, 2.0, 0.0, 0.0, 0.0, 0.0, 0.0, 22.0, 1005.0, 3.0, 2.0, 22.0, 31.0, 1.0, 1.0], [18.58721362482961, 1.412786375170396], [0.9293606812414803, 0.07063931875851978], 0.0, 'No Risk'], ['no_checking', 32, 'outstanding_credit', 'repairs', 3698, 'greater_1000', '1_to_4', 3, 'male', 'none', 2, 'savings_insurance', 32, 'none', 'own', 1, 'management_self-employed', 1, 'none', 'yes', 0.0, 2.0, 0.0, 3.0, 0.0, 0.0, 0.0, 2.0, 5.0, 0.0, 0.0, 0.0, 0.0, [21, [1, 2, 3, 10, 13, 14, 15, 16, 17, 18, 19, 20], [2.0, 5.0, 3.0, 2.0, 32.0, 3698.0, 3.0, 2.0, 32.0, 32.0, 1.0, 1.0]], [14.428546286363492, 5.57145371363651], [0.7214273143181746, 0.27857268568182547], 0.0, 'No Risk'], ['less_0', 10, 'all_credits_paid_back', 'car_new', 1243, '100_to_500', 'unemployed', 1, 'female', 'none', 1, 'real_estate', 30, 'stores', 'rent', 1, 'skilled', 1, 'none', 'yes', 1.0, 3.0, 4.0, 1.0, 0.0, 1.0, 1.0, 0.0, 0.0, 0.0, 2.0, 1.0, 0.0, [1.0, 3.0, 0.0, 1.0, 4.0, 1.0, 0.0, 2.0, 1.0, 1.0, 0.0, 0.0, 0.0, 10.0, 1243.0, 1.0, 1.0, 10.0, 30.0, 1.0, 1.0], [19.388741682845332, 0.6112583171546674], [0.9694370841422666, 0.03056291585773337], 0.0, 'No Risk'], ['0_to_200', 24, 'credits_paid_to_date', 'furniture', 2879, '100_to_500', 'less_1', 2, 'male', 'none', 2, 'real_estate', 24, 'none', 'own', 1, 'skilled', 1, 'none', 'yes', 2.0, 1.0, 3.0, 1.0, 0.0, 0.0, 0.0, 0.0, 1.0, 0.0, 2.0, 0.0, 0.0, [2.0, 1.0, 1.0, 1.0, 3.0, 0.0, 0.0, 2.0, 0.0, 0.0, 0.0, 0.0, 0.0, 24.0, 2879.0, 2.0, 2.0, 24.0, 24.0, 1.0, 1.0], [18.499325198368922, 1.5006748016310818], [0.9249662599184459, 0.07503374008155407], 0.0, 'No Risk'], ['less_0', 14, 'prior_payments_delayed', 'car_new', 1408, 'less_100', '1_to_4', 3, 'male', 'none', 3, 'savings_insurance', 23, 'none', 'own', 1, 'skilled', 1, 'none', 'yes', 1.0, 0.0, 0.0, 0.0, 0.0, 0.0, 0.0, 0.0, 0.0, 0.0, 0.0, 0.0, 0.0, [21, [0, 13, 14, 15, 16, 17, 18, 19, 20], [1.0, 14.0, 1408.0, 3.0, 3.0, 14.0, 23.0, 1.0, 1.0]], [17.741134213928326, 2.2588657860716728], [0.8870567106964163, 0.11294328930358363], 0.0, 'No Risk'], ['no_checking', 30, 'prior_payments_delayed', 'appliances', 7873, '100_to_500', '4_to_7', 4, 'male', 'none', 4, 'unknown', 43, 'stores', 'own', 2, 'unskilled', 2, 'yes', 'yes', 0.0, 0.0, 1.0, 1.0, 0.0, 0.0, 1.0, 1.0, 4.0, 0.0, 3.0, 0.0, 1.0, [0.0, 0.0, 4.0, 1.0, 1.0, 0.0, 0.0, 3.0, 1.0, 0.0, 1.0, 1.0, 0.0, 30.0, 7873.0, 4.0, 4.0, 30.0, 43.0, 2.0, 2.0], [9.762354253922116, 10.237645746077884], [0.48811771269610577, 0.5118822873038942], 1.0, 'Risk'], ['no_checking', 23, 'prior_payments_delayed', 'furniture', 5642, '100_to_500', 'greater_7', 4, 'male', 'none', 5, 'unknown', 33, 'none', 'own', 2, 'skilled', 1, 'yes', 'yes', 0.0, 0.0, 2.0, 1.0, 0.0, 0.0, 0.0, 0.0, 1.0, 0.0, 3.0, 0.0, 1.0, [0.0, 0.0, 1.0, 1.0, 2.0, 0.0, 0.0, 3.0, 0.0, 0.0, 0.0, 1.0, 0.0, 23.0, 5642.0, 4.0, 5.0, 23.0, 33.0, 2.0, 1.0], [8.641198331865494, 11.358801668134504], [0.4320599165932747, 0.5679400834067252], 1.0, 'Risk'], ['no_checking', 25, 'outstanding_credit', 'furniture', 7566, '500_to_1000', 'greater_7', 4, 'male', 'co-applicant', 4, 'unknown', 61, 'none', 'free', 2, 'skilled', 1, 'yes', 'yes', 0.0, 2.0, 2.0, 2.0, 0.0, 2.0, 0.0, 0.0, 1.0, 1.0, 3.0, 0.0, 1.0, [0.0, 2.0, 1.0, 2.0, 2.0, 0.0, 1.0, 3.0, 0.0, 2.0, 0.0, 1.0, 0.0, 25.0, 7566.0, 4.0, 4.0, 25.0, 61.0, 2.0, 1.0], [2.145002817529659, 17.854997182470342], [0.10725014087648295, 0.8927498591235171], 1.0, 'Risk'], ['less_0', 8, 'no_credits', 'car_used', 250, 'less_100', 'less_1', 1, 'male', 'none', 1, 'real_estate', 25, 'stores', 'rent', 1, 'skilled', 1, 'none', 'yes', 1.0, 4.0, 3.0, 0.0, 0.0, 1.0, 1.0, 0.0, 2.0, 0.0, 2.0, 0.0, 0.0, [1.0, 4.0, 2.0, 0.0, 3.0, 0.0, 0.0, 2.0, 1.0, 1.0, 0.0, 0.0, 0.0, 8.0, 250.0, 1.0, 1.0, 8.0, 25.0, 1.0, 1.0], [19.489084600281362, 0.5109153997186346], [0.9744542300140683, 0.02554576998593174], 0.0, 'No Risk'], ['0_to_200', 28, 'outstanding_credit', 'appliances', 2158, 'unknown', '1_to_4', 2, 'male', 'none', 3, 'car_other', 25, 'stores', 'own', 1, 'skilled', 2, 'none', 'yes', 2.0, 2.0, 0.0, 4.0, 0.0, 0.0, 1.0, 0.0, 4.0, 0.0, 1.0, 0.0, 0.0, [2.0, 2.0, 4.0, 4.0, 0.0, 0.0, 0.0, 1.0, 1.0, 0.0, 0.0, 0.0, 0.0, 28.0, 2158.0, 2.0, 3.0, 28.0, 25.0, 1.0, 2.0], [14.421755804049546, 5.578244195950451], [0.7210877902024775, 0.2789122097975226], 0.0, 'No Risk'], ['less_0', 22, 'prior_payments_delayed', 'radio_tv', 3276, '100_to_500', 'greater_7', 2, 'male', 'co-applicant', 3, 'unknown', 42, 'stores', 'own', 1, 'skilled', 1, 'none', 'no', 1.0, 0.0, 2.0, 1.0, 1.0, 0.0, 1.0, 0.0, 3.0, 1.0, 3.0, 0.0, 0.0, [1.0, 0.0, 3.0, 1.0, 2.0, 0.0, 1.0, 3.0, 1.0, 0.0, 0.0, 0.0, 1.0, 22.0, 3276.0, 2.0, 3.0, 22.0, 42.0, 1.0, 1.0], [13.097385514183495, 6.902614485816505], [0.6548692757091747, 0.34513072429082525], 0.0, 'No Risk'], ['less_0', 20, 'credits_paid_to_date', 'retraining', 4520, 'less_100', 'unemployed', 3, 'female', 'none', 3, 'car_other', 24, 'none', 'own', 2, 'skilled', 1, 'yes', 'yes', 1.0, 1.0, 4.0, 0.0, 0.0, 0.0, 0.0, 0.0, 8.0, 0.0, 1.0, 1.0, 1.0, [1.0, 1.0, 8.0, 0.0, 4.0, 1.0, 0.0, 1.0, 0.0, 0.0, 0.0, 1.0, 0.0, 20.0, 4520.0, 3.0, 3.0, 20.0, 24.0, 2.0, 1.0], [16.78243715297726, 3.217562847022744], [0.8391218576488628, 0.16087814235113718], 0.0, 'No Risk'], ['0_to_200', 15, 'credits_paid_to_date', 'car_used', 1358, '500_to_1000', '4_to_7', 3, 'female', 'none', 2, 'savings_insurance', 36, 'none', 'own', 2, 'skilled', 2, 'none', 'yes', 2.0, 1.0, 1.0, 2.0, 0.0, 0.0, 0.0, 0.0, 2.0, 0.0, 0.0, 1.0, 0.0, [2.0, 1.0, 2.0, 2.0, 1.0, 1.0, 0.0, 0.0, 0.0, 0.0, 0.0, 0.0, 0.0, 15.0, 1358.0, 3.0, 2.0, 15.0, 36.0, 2.0, 2.0], [15.276501812352176, 4.7234981876478255], [0.7638250906176088, 0.23617490938239127], 0.0, 'No Risk'], ['less_0', 4, 'credits_paid_to_date', 'car_used', 250, 'less_100', 'less_1', 2, 'female', 'none', 1, 'real_estate', 22, 'bank', 'rent', 1, 'unskilled', 1, 'none', 'yes', 1.0, 1.0, 3.0, 0.0, 0.0, 1.0, 2.0, 1.0, 2.0, 0.0, 2.0, 1.0, 0.0, [1.0, 1.0, 2.0, 0.0, 3.0, 1.0, 0.0, 2.0, 2.0, 1.0, 1.0, 0.0, 0.0, 4.0, 250.0, 2.0, 1.0, 4.0, 22.0, 1.0, 1.0], [19.43634580464159, 0.56365419535841], [0.9718172902320795, 0.028182709767920498], 0.0, 'No Risk'], ['0_to_200', 24, 'credits_paid_to_date', 'furniture', 2341, 'less_100', '4_to_7', 3, 'male', 'co-applicant', 2, 'real_estate', 33, 'none', 'own', 1, 'skilled', 1, 'none', 'yes', 2.0, 1.0, 1.0, 0.0, 0.0, 0.0, 0.0, 0.0, 1.0, 1.0, 2.0, 0.0, 0.0, [2.0, 1.0, 1.0, 0.0, 1.0, 0.0, 1.0, 2.0, 0.0, 0.0, 0.0, 0.0, 0.0, 24.0, 2341.0, 3.0, 2.0, 24.0, 33.0, 1.0, 1.0], [17.2200119949993, 2.779988005000704], [0.8610005997499649, 0.13899940025003518], 0.0, 'No Risk'], ['no_checking', 12, 'prior_payments_delayed', 'furniture', 2942, '100_to_500', 'greater_7', 3, 'female', 'none', 3, 'savings_insurance', 56, 'none', 'own', 1, 'skilled', 2, 'yes', 'yes', 0.0, 0.0, 2.0, 1.0, 0.0, 0.0, 0.0, 0.0, 1.0, 0.0, 0.0, 1.0, 1.0, [0.0, 0.0, 1.0, 1.0, 2.0, 1.0, 0.0, 0.0, 0.0, 0.0, 0.0, 1.0, 0.0, 12.0, 2942.0, 3.0, 3.0, 12.0, 56.0, 1.0, 2.0], [11.471671795660992, 8.528328204339008], [0.5735835897830496, 0.4264164102169504], 0.0, 'No Risk'], ['no_checking', 25, 'prior_payments_delayed', 'education', 5439, '100_to_500', '4_to_7', 3, 'male', 'none', 4, 'car_other', 32, 'none', 'own', 1, 'skilled', 1, 'none', 'yes', 0.0, 0.0, 1.0, 1.0, 0.0, 0.0, 0.0, 0.0, 7.0, 0.0, 1.0, 0.0, 0.0, [21, [2, 3, 4, 7, 13, 14, 15, 16, 17, 18, 19, 20], [7.0, 1.0, 1.0, 1.0, 25.0, 5439.0, 3.0, 4.0, 25.0, 32.0, 1.0, 1.0]], [11.288948437101572, 8.711051562898431], [0.5644474218550785, 0.4355525781449215], 0.0, 'No Risk'], ['less_0', 18, 'credits_paid_to_date', 'furniture', 3860, 'less_100', 'less_1', 2, 'female', 'none', 1, 'real_estate', 27, 'none', 'own', 1, 'skilled', 1, 'none', 'yes', 1.0, 1.0, 3.0, 0.0, 0.0, 0.0, 0.0, 0.0, 1.0, 0.0, 2.0, 1.0, 0.0, [1.0, 1.0, 1.0, 0.0, 3.0, 1.0, 0.0, 2.0, 0.0, 0.0, 0.0, 0.0, 0.0, 18.0, 3860.0, 2.0, 1.0, 18.0, 27.0, 1.0, 1.0], [18.36490497054181, 1.6350950294581879], [0.9182452485270906, 0.08175475147290939], 0.0, 'No Risk'], ['no_checking', 24, 'outstanding_credit', 'repairs', 4920, 'unknown', 'greater_7', 4, 'male', 'none', 3, 'unknown', 55, 'none', 'own', 2, 'skilled', 1, 'yes', 'no', 0.0, 2.0, 2.0, 4.0, 1.0, 0.0, 0.0, 0.0, 5.0, 0.0, 3.0, 0.0, 1.0, [0.0, 2.0, 5.0, 4.0, 2.0, 0.0, 0.0, 3.0, 0.0, 0.0, 0.0, 1.0, 1.0, 24.0, 4920.0, 4.0, 3.0, 24.0, 55.0, 2.0, 1.0], [4.930500939744932, 15.069499060255067], [0.2465250469872466, 0.7534749530127534], 1.0, 'Risk'], ['no_checking', 28, 'prior_payments_delayed', 'retraining', 6500, '500_to_1000', '4_to_7', 4, 'female', 'none', 3, 'car_other', 43, 'none', 'own', 2, 'skilled', 2, 'yes', 'yes', 0.0, 0.0, 1.0, 2.0, 0.0, 0.0, 0.0, 0.0, 8.0, 0.0, 1.0, 1.0, 1.0, [0.0, 0.0, 8.0, 2.0, 1.0, 1.0, 0.0, 1.0, 0.0, 0.0, 0.0, 1.0, 0.0, 28.0, 6500.0, 4.0, 3.0, 28.0, 43.0, 2.0, 2.0], [7.401467047933618, 12.598532952066382], [0.37007335239668093, 0.6299266476033191], 1.0, 'Risk'], ['greater_200', 19, 'all_credits_paid_back', 'appliances', 2582, 'less_100', '4_to_7', 3, 'female', 'none', 3, 'car_other', 32, 'none', 'own', 2, 'skilled', 1, 'none', 'yes', 3.0, 3.0, 1.0, 0.0, 0.0, 0.0, 0.0, 0.0, 4.0, 0.0, 1.0, 1.0, 0.0, [3.0, 3.0, 4.0, 0.0, 1.0, 1.0, 0.0, 1.0, 0.0, 0.0, 0.0, 0.0, 0.0, 19.0, 2582.0, 3.0, 3.0, 19.0, 32.0, 2.0, 1.0], [13.774982981694755, 6.225017018305246], [0.6887491490847377, 0.3112508509152623], 0.0, 'No Risk'], ['no_checking', 46, 'outstanding_credit', 'repairs', 7537, 'unknown', 'greater_7', 5, 'male', 'co-applicant', 5, 'unknown', 51, 'none', 'free', 2, 'skilled', 2, 'yes', 'yes', 0.0, 2.0, 2.0, 4.0, 0.0, 2.0, 0.0, 0.0, 5.0, 1.0, 3.0, 0.0, 1.0, [0.0, 2.0, 5.0, 4.0, 2.0, 0.0, 1.0, 3.0, 0.0, 2.0, 0.0, 1.0, 0.0, 46.0, 7537.0, 5.0, 5.0, 46.0, 51.0, 2.0, 2.0], [1.1425202466534965, 18.857479753346503], [0.05712601233267482, 0.9428739876673251], 1.0, 'Risk'], ['0_to_200', 17, 'credits_paid_to_date', 'car_new', 1557, '500_to_1000', 'unemployed', 2, 'male', 'co-applicant', 2, 'savings_insurance', 34, 'none', 'own', 2, 'unskilled', 1, 'none', 'yes', 2.0, 1.0, 4.0, 2.0, 0.0, 0.0, 0.0, 1.0, 0.0, 1.0, 0.0, 0.0, 0.0, [2.0, 1.0, 0.0, 2.0, 4.0, 0.0, 1.0, 0.0, 0.0, 0.0, 1.0, 0.0, 0.0, 17.0, 1557.0, 2.0, 2.0, 17.0, 34.0, 2.0, 1.0], [16.362549561417538, 3.6374504385824626], [0.8181274780708769, 0.18187252192912312], 0.0, 'No Risk'], ['greater_200', 25, 'prior_payments_delayed', 'business', 1490, 'unknown', '4_to_7', 2, 'male', 'none', 3, 'car_other', 39, 'none', 'rent', 1, 'skilled', 1, 'yes', 'yes', 3.0, 0.0, 1.0, 4.0, 0.0, 1.0, 0.0, 0.0, 9.0, 0.0, 1.0, 0.0, 1.0, [3.0, 0.0, 9.0, 4.0, 1.0, 0.0, 0.0, 1.0, 0.0, 1.0, 0.0, 1.0, 0.0, 25.0, 1490.0, 2.0, 3.0, 25.0, 39.0, 1.0, 1.0], [13.611760862244957, 6.388239137755041], [0.680588043112248, 0.3194119568877521], 0.0, 'No Risk'], ['0_to_200', 33, 'outstanding_credit', 'radio_tv', 6359, 'greater_1000', 'greater_7', 4, 'female', 'none', 4, 'car_other', 45, 'stores', 'own', 2, 'unskilled', 2, 'yes', 'yes', 2.0, 2.0, 2.0, 3.0, 0.0, 0.0, 1.0, 1.0, 3.0, 0.0, 1.0, 1.0, 1.0, [2.0, 2.0, 3.0, 3.0, 2.0, 1.0, 0.0, 1.0, 1.0, 0.0, 1.0, 1.0, 0.0, 33.0, 6359.0, 4.0, 4.0, 33.0, 45.0, 2.0, 2.0], [6.436479019444137, 13.563520980555865], [0.32182395097220684, 0.6781760490277933], 1.0, 'Risk'], ['0_to_200', 21, 'outstanding_credit', 'radio_tv', 4796, '500_to_1000', '4_to_7', 2, 'male', 'none', 3, 'car_other', 36, 'none', 'own', 2, 'skilled', 1, 'none', 'yes', 2.0, 2.0, 1.0, 2.0, 0.0, 0.0, 0.0, 0.0, 3.0, 0.0, 1.0, 0.0, 0.0, [2.0, 2.0, 3.0, 2.0, 1.0, 0.0, 0.0, 1.0, 0.0, 0.0, 0.0, 0.0, 0.0, 21.0, 4796.0, 2.0, 3.0, 21.0, 36.0, 2.0, 1.0], [12.736452262625678, 7.2635477373743225], [0.6368226131312839, 0.36317738686871615], 0.0, 'No Risk'], ['no_checking', 33, 'prior_payments_delayed', 'appliances', 6038, 'greater_1000', 'greater_7', 3, 'male', 'none', 4, 'unknown', 48, 'none', 'own', 2, 'skilled', 1, 'none', 'yes', 0.0, 0.0, 2.0, 3.0, 0.0, 0.0, 0.0, 0.0, 4.0, 0.0, 3.0, 0.0, 0.0, [21, [2, 3, 4, 7, 13, 14, 15, 16, 17, 18, 19, 20], [4.0, 3.0, 2.0, 3.0, 33.0, 6038.0, 3.0, 4.0, 33.0, 48.0, 2.0, 1.0]], [6.017922815495419, 13.982077184504579], [0.30089614077477095, 0.699103859225229], 1.0, 'Risk'], ['less_0', 9, 'all_credits_paid_back', 'car_new', 2186, 'less_100', '1_to_4', 2, 'female', 'none', 3, 'real_estate', 28, 'none', 'own', 1, 'skilled', 1, 'none', 'yes', 1.0, 3.0, 0.0, 0.0, 0.0, 0.0, 0.0, 0.0, 0.0, 0.0, 2.0, 1.0, 0.0, [21, [0, 1, 5, 7, 13, 14, 15, 16, 17, 18, 19, 20], [1.0, 3.0, 1.0, 2.0, 9.0, 2186.0, 2.0, 3.0, 9.0, 28.0, 1.0, 1.0]], [18.20230790569927, 1.7976920943007244], [0.9101153952849638, 0.08988460471503623], 0.0, 'No Risk'], ['no_checking', 23, 'outstanding_credit', 'car_used', 5653, '500_to_1000', 'greater_7', 3, 'male', 'none', 4, 'unknown', 67, 'none', 'free', 2, 'skilled', 2, 'yes', 'yes', 0.0, 2.0, 2.0, 2.0, 0.0, 2.0, 0.0, 0.0, 2.0, 0.0, 3.0, 0.0, 1.0, [0.0, 2.0, 2.0, 2.0, 2.0, 0.0, 0.0, 3.0, 0.0, 2.0, 0.0, 1.0, 0.0, 23.0, 5653.0, 3.0, 4.0, 23.0, 67.0, 2.0, 2.0], [5.102745351960833, 14.897254648039167], [0.2551372675980416, 0.7448627324019583], 1.0, 'Risk'], ['less_0', 31, 'credits_paid_to_date', 'business', 2288, 'less_100', '4_to_7', 3, 'female', 'none', 1, 'real_estate', 29, 'none', 'own', 1, 'skilled', 1, 'none', 'yes', 1.0, 1.0, 1.0, 0.0, 0.0, 0.0, 0.0, 0.0, 9.0, 0.0, 2.0, 1.0, 0.0, [1.0, 1.0, 9.0, 0.0, 1.0, 1.0, 0.0, 2.0, 0.0, 0.0, 0.0, 0.0, 0.0, 31.0, 2288.0, 3.0, 1.0, 31.0, 29.0, 1.0, 1.0], [17.71946705884861, 2.2805329411513915], [0.8859733529424304, 0.11402664705756956], 0.0, 'No Risk'], ['less_0', 16, 'credits_paid_to_date', 'vacation', 2443, 'less_100', '1_to_4', 2, 'female', 'none', 2, 'real_estate', 25, 'stores', 'own', 1, 'skilled', 1, 'none', 'yes', 1.0, 1.0, 0.0, 0.0, 0.0, 0.0, 1.0, 0.0, 6.0, 0.0, 2.0, 1.0, 0.0, [1.0, 1.0, 6.0, 0.0, 0.0, 1.0, 0.0, 2.0, 1.0, 0.0, 0.0, 0.0, 0.0, 16.0, 2443.0, 2.0, 2.0, 16.0, 25.0, 1.0, 1.0], [18.436464314512715, 1.5635356854872853], [0.9218232157256357, 0.07817678427436427], 0.0, 'No Risk'], ['no_checking', 42, 'prior_payments_delayed', 'radio_tv', 5687, 'unknown', '4_to_7', 4, 'male', 'co-applicant', 5, 'savings_insurance', 54, 'stores', 'own', 2, 'unskilled', 1, 'yes', 'yes', 0.0, 0.0, 1.0, 4.0, 0.0, 0.0, 1.0, 1.0, 3.0, 1.0, 0.0, 0.0, 1.0, [0.0, 0.0, 3.0, 4.0, 1.0, 0.0, 1.0, 0.0, 1.0, 0.0, 1.0, 1.0, 0.0, 42.0, 5687.0, 4.0, 5.0, 42.0, 54.0, 2.0, 1.0], [7.311096634663717, 12.688903365336282], [0.36555483173318587, 0.6344451682668141], 1.0, 'Risk'], ['no_checking', 32, 'outstanding_credit', 'radio_tv', 6281, 'greater_1000', '4_to_7', 5, 'male', 'none', 5, 'car_other', 36, 'none', 'own', 2, 'skilled', 1, 'yes', 'yes', 0.0, 2.0, 1.0, 3.0, 0.0, 0.0, 0.0, 0.0, 3.0, 0.0, 1.0, 0.0, 1.0, [0.0, 2.0, 3.0, 3.0, 1.0, 0.0, 0.0, 1.0, 0.0, 0.0, 0.0, 1.0, 0.0, 32.0, 6281.0, 5.0, 5.0, 32.0, 36.0, 2.0, 1.0], [10.530058617218124, 9.469941382781876], [0.5265029308609062, 0.4734970691390938], 0.0, 'No Risk'], ['less_0', 24, 'prior_payments_delayed', 'car_used', 250, 'greater_1000', '4_to_7', 3, 'female', 'none', 3, 'car_other', 37, 'stores', 'own', 2, 'unskilled', 1, 'none', 'yes', 1.0, 0.0, 1.0, 3.0, 0.0, 0.0, 1.0, 1.0, 2.0, 0.0, 1.0, 1.0, 0.0, [1.0, 0.0, 2.0, 3.0, 1.0, 1.0, 0.0, 1.0, 1.0, 0.0, 1.0, 0.0, 0.0, 24.0, 250.0, 3.0, 3.0, 24.0, 37.0, 2.0, 1.0], [13.702003184001525, 6.297996815998476], [0.6851001592000763, 0.31489984079992384], 0.0, 'No Risk'], ['no_checking', 27, 'all_credits_paid_back', 'radio_tv', 3989, 'greater_1000', '1_to_4', 3, 'male', 'none', 4, 'car_other', 37, 'none', 'free', 2, 'management_self-employed', 1, 'none', 'yes', 0.0, 3.0, 0.0, 3.0, 0.0, 2.0, 0.0, 2.0, 3.0, 0.0, 1.0, 0.0, 0.0, [0.0, 3.0, 3.0, 3.0, 0.0, 0.0, 0.0, 1.0, 0.0, 2.0, 2.0, 0.0, 0.0, 27.0, 3989.0, 3.0, 4.0, 27.0, 37.0, 2.0, 1.0], [11.292199809631537, 8.707800190368463], [0.5646099904815769, 0.43539000951842316], 0.0, 'No Risk'], ['greater_200', 35, 'prior_payments_delayed', 'furniture', 6547, '100_to_500', '4_to_7', 3, 'male', 'none', 3, 'car_other', 36, 'none', 'own', 3, 'skilled', 2, 'yes', 'yes', 3.0, 0.0, 1.0, 1.0, 0.0, 0.0, 0.0, 0.0, 1.0, 0.0, 1.0, 0.0, 1.0, [3.0, 0.0, 1.0, 1.0, 1.0, 0.0, 0.0, 1.0, 0.0, 0.0, 0.0, 1.0, 0.0, 35.0, 6547.0, 3.0, 3.0, 35.0, 36.0, 3.0, 2.0], [10.368412623838674, 9.631587376161326], [0.5184206311919337, 0.4815793688080663], 0.0, 'No Risk'], ['less_0', 17, 'credits_paid_to_date', 'furniture', 1704, 'less_100', '1_to_4', 3, 'female', 'none', 2, 'savings_insurance', 19, 'none', 'own', 1, 'skilled', 1, 'none', 'yes', 1.0, 1.0, 0.0, 0.0, 0.0, 0.0, 0.0, 0.0, 1.0, 0.0, 0.0, 1.0, 0.0, [21, [0, 1, 2, 5, 13, 14, 15, 16, 17, 18, 19, 20], [1.0, 1.0, 1.0, 1.0, 17.0, 1704.0, 3.0, 2.0, 17.0, 19.0, 1.0, 1.0]], [18.36735604733221, 1.6326439526677894], [0.9183678023666105, 0.08163219763338948], 0.0, 'No Risk'], ['less_0', 17, 'credits_paid_to_date', 'car_new', 1779, '500_to_1000', '1_to_4', 3, 'male', 'none', 2, 'real_estate', 30, 'none', 'rent', 1, 'skilled', 1, 'none', 'yes', 1.0, 1.0, 0.0, 2.0, 0.0, 1.0, 0.0, 0.0, 0.0, 0.0, 2.0, 0.0, 0.0, [1.0, 1.0, 0.0, 2.0, 0.0, 0.0, 0.0, 2.0, 0.0, 1.0, 0.0, 0.0, 0.0, 17.0, 1779.0, 3.0, 2.0, 17.0, 30.0, 1.0, 1.0], [18.52377673979721, 1.4762232602027874], [0.9261888369898607, 0.07381116301013939], 0.0, 'No Risk'], ['no_checking', 8, 'all_credits_paid_back', 'car_used', 4148, 'less_100', 'unemployed', 3, 'female', 'none', 3, 'savings_insurance', 32, 'none', 'own', 1, 'management_self-employed', 1, 'none', 'yes', 0.0, 3.0, 4.0, 0.0, 0.0, 0.0, 0.0, 2.0, 2.0, 0.0, 0.0, 1.0, 0.0, [0.0, 3.0, 2.0, 0.0, 4.0, 1.0, 0.0, 0.0, 0.0, 0.0, 2.0, 0.0, 0.0, 8.0, 4148.0, 3.0, 3.0, 8.0, 32.0, 1.0, 1.0], [16.806836964637213, 3.1931630353627853], [0.8403418482318606, 0.15965815176813927], 0.0, 'No Risk'], ['0_to_200', 6, 'credits_paid_to_date', 'furniture', 2828, '100_to_500', '1_to_4', 3, 'female', 'co-applicant', 2, 'savings_insurance', 41, 'none', 'own', 1, 'skilled', 1, 'yes', 'yes', 2.0, 1.0, 0.0, 1.0, 0.0, 0.0, 0.0, 0.0, 1.0, 1.0, 0.0, 1.0, 1.0, [2.0, 1.0, 1.0, 1.0, 0.0, 1.0, 1.0, 0.0, 0.0, 0.0, 0.0, 1.0, 0.0, 6.0, 2828.0, 3.0, 2.0, 6.0, 41.0, 1.0, 1.0], [16.55203760293624, 3.447962397063761], [0.8276018801468119, 0.172398119853188], 0.0, 'No Risk'], ['no_checking', 32, 'prior_payments_delayed', 'furniture', 1957, 'unknown', 'less_1', 2, 'male', 'none', 3, 'real_estate', 33, 'none', 'own', 1, 'skilled', 1, 'none', 'yes', 0.0, 0.0, 3.0, 4.0, 0.0, 0.0, 0.0, 0.0, 1.0, 0.0, 2.0, 0.0, 0.0, [21, [2, 3, 4, 7, 13, 14, 15, 16, 17, 18, 19, 20], [1.0, 4.0, 3.0, 2.0, 32.0, 1957.0, 2.0, 3.0, 32.0, 33.0, 1.0, 1.0]], [14.27547165756712, 5.7245283424328814], [0.713773582878356, 0.2862264171216441], 0.0, 'No Risk'], ['0_to_200', 16, 'credits_paid_to_date', 'car_new', 3993, 'less_100', 'less_1', 2, 'female', 'none', 2, 'real_estate', 31, 'none', 'own', 2, 'skilled', 1, 'none', 'yes', 2.0, 1.0, 3.0, 0.0, 0.0, 0.0, 0.0, 0.0, 0.0, 0.0, 2.0, 1.0, 0.0, [2.0, 1.0, 0.0, 0.0, 3.0, 1.0, 0.0, 2.0, 0.0, 0.0, 0.0, 0.0, 0.0, 16.0, 3993.0, 2.0, 2.0, 16.0, 31.0, 2.0, 1.0], [17.305948132740927, 2.69405186725907], [0.8652974066370465, 0.1347025933629535], 0.0, 'No Risk'], ['0_to_200', 7, 'prior_payments_delayed', 'car_used', 4456, '100_to_500', '4_to_7', 3, 'male', 'guarantor', 3, 'unknown', 36, 'none', 'own', 1, 'skilled', 1, 'yes', 'yes', 2.0, 0.0, 1.0, 1.0, 0.0, 0.0, 0.0, 0.0, 2.0, 2.0, 3.0, 0.0, 1.0, [2.0, 0.0, 2.0, 1.0, 1.0, 0.0, 2.0, 3.0, 0.0, 0.0, 0.0, 1.0, 0.0, 7.0, 4456.0, 3.0, 3.0, 7.0, 36.0, 1.0, 1.0], [12.637665089610053, 7.362334910389947], [0.6318832544805026, 0.36811674551949736], 0.0, 'No Risk'], ['0_to_200', 21, 'credits_paid_to_date', 'car_new', 5098, 'less_100', '1_to_4', 2, 'female', 'none', 3, 'savings_insurance', 29, 'none', 'own', 1, 'skilled', 1, 'none', 'yes', 2.0, 1.0, 0.0, 0.0, 0.0, 0.0, 0.0, 0.0, 0.0, 0.0, 0.0, 1.0, 0.0, [21, [0, 1, 5, 13, 14, 15, 16, 17, 18, 19, 20], [2.0, 1.0, 1.0, 21.0, 5098.0, 2.0, 3.0, 21.0, 29.0, 1.0, 1.0]], [15.906517124023642, 4.093482875976359], [0.7953258562011821, 0.20467414379881793], 0.0, 'No Risk'], ['0_to_200', 16, 'credits_paid_to_date', 'retraining', 2119, 'less_100', 'unemployed', 3, 'female', 'none', 2, 'car_other', 23, 'none', 'own', 1, 'skilled', 1, 'none', 'yes', 2.0, 1.0, 4.0, 0.0, 0.0, 0.0, 0.0, 0.0, 8.0, 0.0, 1.0, 1.0, 0.0, [2.0, 1.0, 8.0, 0.0, 4.0, 1.0, 0.0, 1.0, 0.0, 0.0, 0.0, 0.0, 0.0, 16.0, 2119.0, 3.0, 2.0, 16.0, 23.0, 1.0, 1.0], [18.222712619734036, 1.7772873802659674], [0.9111356309867017, 0.08886436901329836], 0.0, 'No Risk'], ['less_0', 8, 'all_credits_paid_back', 'car_new', 2071, 'less_100', '1_to_4', 3, 'female', 'none', 3, 'savings_insurance', 35, 'none', 'own', 1, 'skilled', 1, 'none', 'yes', 1.0, 3.0, 0.0, 0.0, 0.0, 0.0, 0.0, 0.0, 0.0, 0.0, 0.0, 1.0, 0.0, [21, [0, 1, 5, 13, 14, 15, 16, 17, 18, 19, 20], [1.0, 3.0, 1.0, 8.0, 2071.0, 3.0, 3.0, 8.0, 35.0, 1.0, 1.0]], [17.17361304142723, 2.826386958572769], [0.8586806520713616, 0.14131934792863846], 0.0, 'No Risk'], ['greater_200', 22, 'credits_paid_to_date', 'repairs', 562, '500_to_1000', 'less_1', 1, 'male', 'none', 3, 'real_estate', 26, 'none', 'own', 1, 'skilled', 1, 'none', 'yes', 3.0, 1.0, 3.0, 2.0, 0.0, 0.0, 0.0, 0.0, 5.0, 0.0, 2.0, 0.0, 0.0, [3.0, 1.0, 5.0, 2.0, 3.0, 0.0, 0.0, 2.0, 0.0, 0.0, 0.0, 0.0, 0.0, 22.0, 562.0, 1.0, 3.0, 22.0, 26.0, 1.0, 1.0], [17.755726730572007, 2.2442732694279948], [0.8877863365286002, 0.11221366347139972], 0.0, 'No Risk'], ['0_to_200', 21, 'credits_paid_to_date', 'repairs', 250, 'less_100', 'less_1', 2, 'female', 'none', 1, 'savings_insurance', 27, 'none', 'own', 1, 'skilled', 1, 'none', 'yes', 2.0, 1.0, 3.0, 0.0, 0.0, 0.0, 0.0, 0.0, 5.0, 0.0, 0.0, 1.0, 0.0, [2.0, 1.0, 5.0, 0.0, 3.0, 1.0, 0.0, 0.0, 0.0, 0.0, 0.0, 0.0, 0.0, 21.0, 250.0, 2.0, 1.0, 21.0, 27.0, 1.0, 1.0], [17.731881343557625, 2.2681186564423794], [0.886594067177881, 0.11340593282211896], 0.0, 'No Risk'], ['no_checking', 47, 'outstanding_credit', 'repairs', 9819, 'unknown', 'greater_7', 6, 'male', 'co-applicant', 5, 'unknown', 57, 'none', 'free', 3, 'skilled', 2, 'yes', 'yes', 0.0, 2.0, 2.0, 4.0, 0.0, 2.0, 0.0, 0.0, 5.0, 1.0, 3.0, 0.0, 1.0, [0.0, 2.0, 5.0, 4.0, 2.0, 0.0, 1.0, 3.0, 0.0, 2.0, 0.0, 1.0, 0.0, 47.0, 9819.0, 6.0, 5.0, 47.0, 57.0, 3.0, 2.0], [1.1425202466534965, 18.857479753346503], [0.05712601233267482, 0.9428739876673251], 1.0, 'Risk'], ['no_checking', 30, 'prior_payments_delayed', 'radio_tv', 9413, 'unknown', 'greater_7', 5, 'male', 'co-applicant', 5, 'unknown', 64, 'none', 'free', 2, 'skilled', 2, 'yes', 'yes', 0.0, 0.0, 2.0, 4.0, 0.0, 2.0, 0.0, 0.0, 3.0, 1.0, 3.0, 0.0, 1.0, [0.0, 0.0, 3.0, 4.0, 2.0, 0.0, 1.0, 3.0, 0.0, 2.0, 0.0, 1.0, 0.0, 30.0, 9413.0, 5.0, 5.0, 30.0, 64.0, 2.0, 2.0], [1.7544444274197388, 18.24555557258026], [0.08772222137098695, 0.912277778629013], 1.0, 'Risk'], ['no_checking', 44, 'outstanding_credit', 'other', 7926, '500_to_1000', 'greater_7', 5, 'male', 'co-applicant', 4, 'car_other', 49, 'none', 'free', 2, 'skilled', 1, 'yes', 'yes', 0.0, 2.0, 2.0, 2.0, 0.0, 2.0, 0.0, 0.0, 10.0, 1.0, 1.0, 0.0, 1.0, [0.0, 2.0, 10.0, 2.0, 2.0, 0.0, 1.0, 1.0, 0.0, 2.0, 0.0, 1.0, 0.0, 44.0, 7926.0, 5.0, 4.0, 44.0, 49.0, 2.0, 1.0], [1.3637848583104395, 18.636215141689558], [0.06818924291552199, 0.931810757084478], 1.0, 'Risk'], ['0_to_200', 20, 'credits_paid_to_date', 'radio_tv', 1618, '500_to_1000', 'less_1', 3, 'male', 'none', 3, 'savings_insurance', 30, 'none', 'rent', 1, 'skilled', 1, 'none', 'yes', 2.0, 1.0, 3.0, 2.0, 0.0, 1.0, 0.0, 0.0, 3.0, 0.0, 0.0, 0.0, 0.0, [2.0, 1.0, 3.0, 2.0, 3.0, 0.0, 0.0, 0.0, 0.0, 1.0, 0.0, 0.0, 0.0, 20.0, 1618.0, 3.0, 3.0, 20.0, 30.0, 1.0, 1.0], [17.210576993843922, 2.789423006156079], [0.8605288496921961, 0.13947115030780394], 0.0, 'No Risk'], ['less_0', 16, 'credits_paid_to_date', 'vacation', 250, 'less_100', 'unemployed', 2, 'female', 'none', 2, 'real_estate', 19, 'bank', 'rent', 1, 'unskilled', 1, 'none', 'yes', 1.0, 1.0, 4.0, 0.0, 0.0, 1.0, 2.0, 1.0, 6.0, 0.0, 2.0, 1.0, 0.0, [1.0, 1.0, 6.0, 0.0, 4.0, 1.0, 0.0, 2.0, 2.0, 1.0, 1.0, 0.0, 0.0, 16.0, 250.0, 2.0, 2.0, 16.0, 19.0, 1.0, 1.0], [19.338208914083477, 0.6617910859165228], [0.9669104457041738, 0.03308955429582614], 0.0, 'No Risk'], ['no_checking', 35, 'outstanding_credit', 'appliances', 5621, '500_to_1000', 'greater_7', 3, 'male', 'co-applicant', 4, 'car_other', 43, 'bank', 'own', 1, 'unskilled', 1, 'yes', 'yes', 0.0, 2.0, 2.0, 2.0, 0.0, 0.0, 2.0, 1.0, 4.0, 1.0, 1.0, 0.0, 1.0, [0.0, 2.0, 4.0, 2.0, 2.0, 0.0, 1.0, 1.0, 2.0, 0.0, 1.0, 1.0, 0.0, 35.0, 5621.0, 3.0, 4.0, 35.0, 43.0, 1.0, 1.0], [5.163362579538978, 14.836637420461024], [0.2581681289769489, 0.7418318710230511], 1.0, 'Risk'], ['0_to_200', 23, 'credits_paid_to_date', 'radio_tv', 3295, 'greater_1000', 'less_1', 3, 'female', 'none', 3, 'car_other', 34, 'none', 'rent', 2, 'skilled', 2, 'none', 'yes', 2.0, 1.0, 3.0, 3.0, 0.0, 1.0, 0.0, 0.0, 3.0, 0.0, 1.0, 1.0, 0.0, [2.0, 1.0, 3.0, 3.0, 3.0, 1.0, 0.0, 1.0, 0.0, 1.0, 0.0, 0.0, 0.0, 23.0, 3295.0, 3.0, 3.0, 23.0, 34.0, 2.0, 2.0], [14.932127165078102, 5.067872834921902], [0.746606358253905, 0.253393641746095], 0.0, 'No Risk'], ['0_to_200', 27, 'outstanding_credit', 'appliances', 4257, '100_to_500', '1_to_4', 4, 'male', 'none', 4, 'car_other', 38, 'none', 'own', 1, 'skilled', 1, 'yes', 'yes', 2.0, 2.0, 0.0, 1.0, 0.0, 0.0, 0.0, 0.0, 4.0, 0.0, 1.0, 0.0, 1.0, [2.0, 2.0, 4.0, 1.0, 0.0, 0.0, 0.0, 1.0, 0.0, 0.0, 0.0, 1.0, 0.0, 27.0, 4257.0, 4.0, 4.0, 27.0, 38.0, 1.0, 1.0], [13.700586368886311, 6.299413631113685], [0.6850293184443157, 0.3149706815556843], 0.0, 'No Risk'], ['0_to_200', 4, 'credits_paid_to_date', 'radio_tv', 250, '100_to_500', '4_to_7', 3, 'female', 'none', 3, 'real_estate', 34, 'none', 'own', 1, 'skilled', 1, 'none', 'yes', 2.0, 1.0, 1.0, 1.0, 0.0, 0.0, 0.0, 0.0, 3.0, 0.0, 2.0, 1.0, 0.0, [2.0, 1.0, 3.0, 1.0, 1.0, 1.0, 0.0, 2.0, 0.0, 0.0, 0.0, 0.0, 0.0, 4.0, 250.0, 3.0, 3.0, 4.0, 34.0, 1.0, 1.0], [17.515758592687067, 2.484241407312932], [0.8757879296343534, 0.1242120703656466], 0.0, 'No Risk'], ['no_checking', 23, 'prior_payments_delayed', 'car_used', 3376, '100_to_500', '4_to_7', 3, 'male', 'none', 2, 'savings_insurance', 33, 'none', 'own', 1, 'skilled', 1, 'none', 'yes', 0.0, 0.0, 1.0, 1.0, 0.0, 0.0, 0.0, 0.0, 2.0, 0.0, 0.0, 0.0, 0.0, [21, [2, 3, 4, 13, 14, 15, 16, 17, 18, 19, 20], [2.0, 1.0, 1.0, 23.0, 3376.0, 3.0, 2.0, 23.0, 33.0, 1.0, 1.0]], [14.039820028677259, 5.960179971322742], [0.701991001433863, 0.2980089985661371], 0.0, 'No Risk'], ['less_0', 4, 'credits_paid_to_date', 'car_new', 1952, 'less_100', 'unemployed', 1, 'female', 'none', 1, 'savings_insurance', 27, 'stores', 'own', 1, 'skilled', 1, 'none', 'yes', 1.0, 1.0, 4.0, 0.0, 0.0, 0.0, 1.0, 0.0, 0.0, 0.0, 0.0, 1.0, 0.0, [1.0, 1.0, 0.0, 0.0, 4.0, 1.0, 0.0, 0.0, 1.0, 0.0, 0.0, 0.0, 0.0, 4.0, 1952.0, 1.0, 1.0, 4.0, 27.0, 1.0, 1.0], [19.078737793421517, 0.9212622065784835], [0.9539368896710758, 0.04606311032892417], 0.0, 'No Risk'], ['less_0', 4, 'all_credits_paid_back', 'car_used', 891, 'less_100', '1_to_4', 2, 'female', 'co-applicant', 2, 'savings_insurance', 31, 'none', 'own', 1, 'unskilled', 1, 'none', 'yes', 1.0, 3.0, 0.0, 0.0, 0.0, 0.0, 0.0, 1.0, 2.0, 1.0, 0.0, 1.0, 0.0, [1.0, 3.0, 2.0, 0.0, 0.0, 1.0, 1.0, 0.0, 0.0, 0.0, 1.0, 0.0, 0.0, 4.0, 891.0, 2.0, 2.0, 4.0, 31.0, 1.0, 1.0], [18.81016987909173, 1.1898301209082687], [0.9405084939545866, 0.059491506045413436], 0.0, 'No Risk'], ['less_0', 25, 'all_credits_paid_back', 'car_used', 250, 'less_100', '4_to_7', 3, 'female', 'none', 2, 'savings_insurance', 25, 'stores', 'own', 1, 'unskilled', 1, 'none', 'yes', 1.0, 3.0, 1.0, 0.0, 0.0, 0.0, 1.0, 1.0, 2.0, 0.0, 0.0, 1.0, 0.0, [1.0, 3.0, 2.0, 0.0, 1.0, 1.0, 0.0, 0.0, 1.0, 0.0, 1.0, 0.0, 0.0, 25.0, 250.0, 3.0, 2.0, 25.0, 25.0, 1.0, 1.0], [17.369025752306744, 2.630974247693259], [0.8684512876153371, 0.13154871238466292], 0.0, 'No Risk'], ['no_checking', 30, 'outstanding_credit', 'other', 8925, '500_to_1000', 'greater_7', 6, 'male', 'co-applicant', 5, 'unknown', 52, 'none', 'free', 3, 'management_self-employed', 2, 'yes', 'yes', 0.0, 2.0, 2.0, 2.0, 0.0, 2.0, 0.0, 2.0, 10.0, 1.0, 3.0, 0.0, 1.0, [0.0, 2.0, 10.0, 2.0, 2.0, 0.0, 1.0, 3.0, 0.0, 2.0, 2.0, 1.0, 0.0, 30.0, 8925.0, 6.0, 5.0, 30.0, 52.0, 3.0, 2.0], [1.234834138113174, 18.76516586188682], [0.06174170690565871, 0.9382582930943413], 1.0, 'Risk'], ['greater_200', 21, 'outstanding_credit', 'appliances', 999, 'greater_1000', '1_to_4', 2, 'male', 'none', 3, 'car_other', 51, 'none', 'own', 1, 'skilled', 2, 'yes', 'yes', 3.0, 2.0, 0.0, 3.0, 0.0, 0.0, 0.0, 0.0, 4.0, 0.0, 1.0, 0.0, 1.0, [3.0, 2.0, 4.0, 3.0, 0.0, 0.0, 0.0, 1.0, 0.0, 0.0, 0.0, 1.0, 0.0, 21.0, 999.0, 2.0, 3.0, 21.0, 51.0, 1.0, 2.0], [12.532000949474066, 7.467999050525935], [0.6266000474737032, 0.37339995252629676], 0.0, 'No Risk'], ['no_checking', 51, 'outstanding_credit', 'education', 7073, 'greater_1000', '1_to_4', 5, 'male', 'none', 4, 'car_other', 42, 'none', 'own', 2, 'skilled', 1, 'yes', 'yes', 0.0, 2.0, 0.0, 3.0, 0.0, 0.0, 0.0, 0.0, 7.0, 0.0, 1.0, 0.0, 1.0, [0.0, 2.0, 7.0, 3.0, 0.0, 0.0, 0.0, 1.0, 0.0, 0.0, 0.0, 1.0, 0.0, 51.0, 7073.0, 5.0, 4.0, 51.0, 42.0, 2.0, 1.0], [10.735056196842267, 9.264943803157731], [0.5367528098421134, 0.46324719015788657], 0.0, 'No Risk'], ['less_0', 10, 'prior_payments_delayed', 'vacation', 1668, 'less_100', '1_to_4', 3, 'male', 'co-applicant', 2, 'car_other', 36, 'none', 'own', 1, 'skilled', 1, 'none', 'no', 1.0, 0.0, 0.0, 0.0, 1.0, 0.0, 0.0, 0.0, 6.0, 1.0, 1.0, 0.0, 0.0, [1.0, 0.0, 6.0, 0.0, 0.0, 0.0, 1.0, 1.0, 0.0, 0.0, 0.0, 0.0, 1.0, 10.0, 1668.0, 3.0, 2.0, 10.0, 36.0, 1.0, 1.0], [16.124988902715536, 3.8750110972844642], [0.8062494451357768, 0.1937505548642232], 0.0, 'No Risk'], ['no_checking', 40, 'outstanding_credit', 'education', 6877, 'unknown', 'greater_7', 6, 'male', 'co-applicant', 5, 'unknown', 58, 'none', 'own', 2, 'skilled', 2, 'yes', 'yes', 0.0, 2.0, 2.0, 4.0, 0.0, 0.0, 0.0, 0.0, 7.0, 1.0, 3.0, 0.0, 1.0, [0.0, 2.0, 7.0, 4.0, 2.0, 0.0, 1.0, 3.0, 0.0, 0.0, 0.0, 1.0, 0.0, 40.0, 6877.0, 6.0, 5.0, 40.0, 58.0, 2.0, 2.0], [1.6428885022632065, 18.357111497736792], [0.08214442511316032, 0.9178555748868396], 1.0, 'Risk'], ['greater_200', 27, 'outstanding_credit', 'appliances', 4453, '500_to_1000', '4_to_7', 4, 'male', 'none', 4, 'unknown', 54, 'none', 'own', 2, 'skilled', 1, 'yes', 'yes', 3.0, 2.0, 1.0, 2.0, 0.0, 0.0, 0.0, 0.0, 4.0, 0.0, 3.0, 0.0, 1.0, [3.0, 2.0, 4.0, 2.0, 1.0, 0.0, 0.0, 3.0, 0.0, 0.0, 0.0, 1.0, 0.0, 27.0, 4453.0, 4.0, 4.0, 27.0, 54.0, 2.0, 1.0], [7.646439599255095, 12.353560400744904], [0.38232197996275474, 0.6176780200372451], 1.0, 'Risk'], ['no_checking', 26, 'prior_payments_delayed', 'radio_tv', 4704, '100_to_500', 'greater_7', 3, 'male', 'none', 3, 'unknown', 48, 'none', 'own', 1, 'skilled', 2, 'yes', 'yes', 0.0, 0.0, 2.0, 1.0, 0.0, 0.0, 0.0, 0.0, 3.0, 0.0, 3.0, 0.0, 1.0, [0.0, 0.0, 3.0, 1.0, 2.0, 0.0, 0.0, 3.0, 0.0, 0.0, 0.0, 1.0, 0.0, 26.0, 4704.0, 3.0, 3.0, 26.0, 48.0, 1.0, 2.0], [7.834881966985083, 12.165118033014917], [0.39174409834925417, 0.6082559016507458], 1.0, 'Risk'], ['no_checking', 30, 'prior_payments_delayed', 'radio_tv', 1902, 'unknown', 'greater_7', 3, 'male', 'none', 3, 'car_other', 46, 'none', 'own', 2, 'skilled', 1, 'yes', 'yes', 0.0, 0.0, 2.0, 4.0, 0.0, 0.0, 0.0, 0.0, 3.0, 0.0, 1.0, 0.0, 1.0, [0.0, 0.0, 3.0, 4.0, 2.0, 0.0, 0.0, 1.0, 0.0, 0.0, 0.0, 1.0, 0.0, 30.0, 1902.0, 3.0, 3.0, 30.0, 46.0, 2.0, 1.0], [8.200018640218143, 11.799981359781857], [0.41000093201090715, 0.5899990679890929], 1.0, 'Risk'], ['less_0', 15, 'credits_paid_to_date', 'furniture', 250, 'less_100', 'unemployed', 1, 'female', 'none', 1, 'savings_insurance', 19, 'stores', 'rent', 1, 'unskilled', 1, 'none', 'yes', 1.0, 1.0, 4.0, 0.0, 0.0, 1.0, 1.0, 1.0, 1.0, 0.0, 0.0, 1.0, 0.0, [1.0, 1.0, 1.0, 0.0, 4.0, 1.0, 0.0, 0.0, 1.0, 1.0, 1.0, 0.0, 0.0, 15.0, 250.0, 1.0, 1.0, 15.0, 19.0, 1.0, 1.0], [18.953581579475845, 1.0464184205241538], [0.9476790789737922, 0.05232092102620769], 0.0, 'No Risk'], ['less_0', 4, 'credits_paid_to_date', 'car_new', 250, '100_to_500', 'less_1', 1, 'female', 'none', 1, 'real_estate', 19, 'bank', 'rent', 1, 'unskilled', 1, 'none', 'yes', 1.0, 1.0, 3.0, 1.0, 0.0, 1.0, 2.0, 1.0, 0.0, 0.0, 2.0, 1.0, 0.0, [1.0, 1.0, 0.0, 1.0, 3.0, 1.0, 0.0, 2.0, 2.0, 1.0, 1.0, 0.0, 0.0, 4.0, 250.0, 1.0, 1.0, 4.0, 19.0, 1.0, 1.0], [19.43634580464159, 0.56365419535841], [0.9718172902320795, 0.028182709767920498], 0.0, 'No Risk'], ['0_to_200', 23, 'outstanding_credit', 'education', 5553, '100_to_500', 'less_1', 3, 'female', 'none', 2, 'unknown', 47, 'bank', 'own', 1, 'unskilled', 1, 'yes', 'yes', 2.0, 2.0, 3.0, 1.0, 0.0, 0.0, 2.0, 1.0, 7.0, 0.0, 3.0, 1.0, 1.0, [2.0, 2.0, 7.0, 1.0, 3.0, 1.0, 0.0, 3.0, 2.0, 0.0, 1.0, 1.0, 0.0, 23.0, 5553.0, 3.0, 2.0, 23.0, 47.0, 1.0, 1.0], [14.373632349785472, 5.62636765021453], [0.7186816174892735, 0.28131838251072644], 0.0, 'No Risk'], ['less_0', 11, 'all_credits_paid_back', 'car_new', 250, '500_to_1000', '4_to_7', 1, 'male', 'none', 2, 'savings_insurance', 30, 'stores', 'rent', 1, 'skilled', 1, 'none', 'yes', 1.0, 3.0, 1.0, 2.0, 0.0, 1.0, 1.0, 0.0, 0.0, 0.0, 0.0, 0.0, 0.0, [1.0, 3.0, 0.0, 2.0, 1.0, 0.0, 0.0, 0.0, 1.0, 1.0, 0.0, 0.0, 0.0, 11.0, 250.0, 1.0, 2.0, 11.0, 30.0, 1.0, 1.0], [18.618904120599357, 1.3810958794006418], [0.9309452060299679, 0.06905479397003209], 0.0, 'No Risk'], ['no_checking', 25, 'prior_payments_delayed', 'car_used', 9861, '100_to_500', '1_to_4', 4, 'female', 'guarantor', 4, 'savings_insurance', 39, 'none', 'free', 2, 'skilled', 1, 'yes', 'no', 0.0, 0.0, 0.0, 1.0, 1.0, 2.0, 0.0, 0.0, 2.0, 2.0, 0.0, 1.0, 1.0, [0.0, 0.0, 2.0, 1.0, 0.0, 1.0, 2.0, 0.0, 0.0, 2.0, 0.0, 1.0, 1.0, 25.0, 9861.0, 4.0, 4.0, 25.0, 39.0, 2.0, 1.0], [8.762903049824581, 11.237096950175419], [0.4381451524912291, 0.5618548475087709], 1.0, 'Risk'], ['no_checking', 20, 'outstanding_credit', 'business', 5156, '100_to_500', 'greater_7', 4, 'male', 'none', 4, 'savings_insurance', 43, 'none', 'own', 1, 'skilled', 1, 'yes', 'yes', 0.0, 2.0, 2.0, 1.0, 0.0, 0.0, 0.0, 0.0, 9.0, 0.0, 0.0, 0.0, 1.0, [0.0, 2.0, 9.0, 1.0, 2.0, 0.0, 0.0, 0.0, 0.0, 0.0, 0.0, 1.0, 0.0, 20.0, 5156.0, 4.0, 4.0, 20.0, 43.0, 1.0, 1.0], [10.846845244492759, 9.153154755507241], [0.5423422622246379, 0.45765773777536206], 0.0, 'No Risk'], ['no_checking', 30, 'prior_payments_delayed', 'radio_tv', 4591, 'greater_1000', '4_to_7', 4, 'male', 'none', 4, 'car_other', 39, 'none', 'own', 1, 'skilled', 1, 'none', 'yes', 0.0, 0.0, 1.0, 3.0, 0.0, 0.0, 0.0, 0.0, 3.0, 0.0, 1.0, 0.0, 0.0, [21, [2, 3, 4, 7, 13, 14, 15, 16, 17, 18, 19, 20], [3.0, 3.0, 1.0, 1.0, 30.0, 4591.0, 4.0, 4.0, 30.0, 39.0, 1.0, 1.0]], [10.565769870326333, 9.434230129673667], [0.5282884935163167, 0.4717115064836833], 0.0, 'No Risk'], ['0_to_200', 4, 'all_credits_paid_back', 'car_used', 250, 'less_100', 'less_1', 2, 'female', 'none', 3, 'real_estate', 19, 'none', 'rent', 1, 'management_self-employed', 1, 'none', 'yes', 2.0, 3.0, 3.0, 0.0, 0.0, 1.0, 0.0, 2.0, 2.0, 0.0, 2.0, 1.0, 0.0, [2.0, 3.0, 2.0, 0.0, 3.0, 1.0, 0.0, 2.0, 0.0, 1.0, 2.0, 0.0, 0.0, 4.0, 250.0, 2.0, 3.0, 4.0, 19.0, 1.0, 1.0], [19.245117430593503, 0.7548825694064961], [0.9622558715296752, 0.03774412847032481], 0.0, 'No Risk'], ['no_checking', 27, 'prior_payments_delayed', 'car_used', 5422, 'greater_1000', '4_to_7', 4, 'male', 'none', 3, 'car_other', 47, 'none', 'own', 2, 'skilled', 2, 'yes', 'yes', 0.0, 0.0, 1.0, 3.0, 0.0, 0.0, 0.0, 0.0, 2.0, 0.0, 1.0, 0.0, 1.0, [0.0, 0.0, 2.0, 3.0, 1.0, 0.0, 0.0, 1.0, 0.0, 0.0, 0.0, 1.0, 0.0, 27.0, 5422.0, 4.0, 3.0, 27.0, 47.0, 2.0, 2.0], [10.333327189724725, 9.666672810275273], [0.5166663594862363, 0.48333364051376365], 0.0, 'No Risk'], ['no_checking', 33, 'outstanding_credit', 'appliances', 6411, '500_to_1000', 'greater_7', 4, 'male', 'co-applicant', 3, 'car_other', 52, 'none', 'free', 2, 'skilled', 2, 'yes', 'yes', 0.0, 2.0, 2.0, 2.0, 0.0, 2.0, 0.0, 0.0, 4.0, 1.0, 1.0, 0.0, 1.0, [0.0, 2.0, 4.0, 2.0, 2.0, 0.0, 1.0, 1.0, 0.0, 2.0, 0.0, 1.0, 0.0, 33.0, 6411.0, 4.0, 3.0, 33.0, 52.0, 2.0, 2.0], [2.0078647353691994, 17.9921352646308], [0.10039323676845997, 0.89960676323154], 1.0, 'Risk'], ['no_checking', 29, 'prior_payments_delayed', 'appliances', 5605, 'unknown', 'greater_7', 4, 'male', 'none', 5, 'car_other', 42, 'none', 'own', 3, 'management_self-employed', 2, 'none', 'yes', 0.0, 0.0, 2.0, 4.0, 0.0, 0.0, 0.0, 2.0, 4.0, 0.0, 1.0, 0.0, 0.0, [0.0, 0.0, 4.0, 4.0, 2.0, 0.0, 0.0, 1.0, 0.0, 0.0, 2.0, 0.0, 0.0, 29.0, 5605.0, 4.0, 5.0, 29.0, 42.0, 3.0, 2.0], [9.808066311241415, 10.191933688758585], [0.49040331556207073, 0.5095966844379293], 1.0, 'Risk'], ['less_0', 26, 'outstanding_credit', 'appliances', 4331, 'greater_1000', '4_to_7', 3, 'male', 'none', 2, 'unknown', 33, 'stores', 'own', 2, 'skilled', 2, 'yes', 'no', 1.0, 2.0, 1.0, 3.0, 1.0, 0.0, 1.0, 0.0, 4.0, 0.0, 3.0, 0.0, 1.0, [1.0, 2.0, 4.0, 3.0, 1.0, 0.0, 0.0, 3.0, 1.0, 0.0, 0.0, 1.0, 1.0, 26.0, 4331.0, 3.0, 2.0, 26.0, 33.0, 2.0, 2.0], [12.482226978627406, 7.517773021372598], [0.6241113489313702, 0.37588865106862984], 0.0, 'No Risk'], ['no_checking', 31, 'prior_payments_delayed', 'appliances', 6229, '100_to_500', 'greater_7', 5, 'male', 'co-applicant', 4, 'unknown', 45, 'none', 'own', 2, 'management_self-employed', 1, 'none', 'yes', 0.0, 0.0, 2.0, 1.0, 0.0, 0.0, 0.0, 2.0, 4.0, 1.0, 3.0, 0.0, 0.0, [0.0, 0.0, 4.0, 1.0, 2.0, 0.0, 1.0, 3.0, 0.0, 0.0, 2.0, 0.0, 0.0, 31.0, 6229.0, 5.0, 4.0, 31.0, 45.0, 2.0, 1.0], [4.634275110958009, 15.365724889041989], [0.23171375554790047, 0.7682862444520996], 1.0, 'Risk'], ['less_0', 7, 'prior_payments_delayed', 'car_used', 250, 'less_100', '4_to_7', 3, 'female', 'none', 2, 'real_estate', 31, 'none', 'own', 1, 'skilled', 1, 'none', 'yes', 1.0, 0.0, 1.0, 0.0, 0.0, 0.0, 0.0, 0.0, 2.0, 0.0, 2.0, 1.0, 0.0, [1.0, 0.0, 2.0, 0.0, 1.0, 1.0, 0.0, 2.0, 0.0, 0.0, 0.0, 0.0, 0.0, 7.0, 250.0, 3.0, 2.0, 7.0, 31.0, 1.0, 1.0], [18.6499829899563, 1.3500170100437028], [0.9324991494978149, 0.06750085050218513], 0.0, 'No Risk'], ['no_checking', 25, 'prior_payments_delayed', 'car_used', 6514, '500_to_1000', '1_to_4', 4, 'male', 'none', 3, 'savings_insurance', 45, 'stores', 'rent', 1, 'unskilled', 2, 'yes', 'yes', 0.0, 0.0, 0.0, 2.0, 0.0, 1.0, 1.0, 1.0, 2.0, 0.0, 0.0, 0.0, 1.0, [0.0, 0.0, 2.0, 2.0, 0.0, 0.0, 0.0, 0.0, 1.0, 1.0, 1.0, 1.0, 0.0, 25.0, 6514.0, 4.0, 3.0, 25.0, 45.0, 1.0, 2.0], [13.56677228232564, 6.433227717674361], [0.678338614116282, 0.32166138588371807], 0.0, 'No Risk'], ['no_checking', 29, 'all_credits_paid_back', 'furniture', 4376, 'less_100', '4_to_7', 3, 'male', 'none', 3, 'car_other', 44, 'none', 'own', 1, 'skilled', 1, 'yes', 'yes', 0.0, 3.0, 1.0, 0.0, 0.0, 0.0, 0.0, 0.0, 1.0, 0.0, 1.0, 0.0, 1.0, [0.0, 3.0, 1.0, 0.0, 1.0, 0.0, 0.0, 1.0, 0.0, 0.0, 0.0, 1.0, 0.0, 29.0, 4376.0, 3.0, 3.0, 29.0, 44.0, 1.0, 1.0], [10.760398793398839, 9.239601206601163], [0.5380199396699419, 0.4619800603300582], 0.0, 'No Risk'], ['0_to_200', 29, 'prior_payments_delayed', 'radio_tv', 4126, '100_to_500', '1_to_4', 2, 'female', 'none', 3, 'car_other', 33, 'stores', 'own', 1, 'skilled', 1, 'yes', 'yes', 2.0, 0.0, 0.0, 1.0, 0.0, 0.0, 1.0, 0.0, 3.0, 0.0, 1.0, 1.0, 1.0, [2.0, 0.0, 3.0, 1.0, 0.0, 1.0, 0.0, 1.0, 1.0, 0.0, 0.0, 1.0, 0.0, 29.0, 4126.0, 2.0, 3.0, 29.0, 33.0, 1.0, 1.0], [13.349041426811436, 6.6509585731885625], [0.6674520713405718, 0.3325479286594281], 0.0, 'No Risk'], ['no_checking', 35, 'prior_payments_delayed', 'vacation', 2639, '500_to_1000', '4_to_7', 4, 'female', 'co-applicant', 4, 'savings_insurance', 30, 'none', 'own', 1, 'skilled', 1, 'yes', 'yes', 0.0, 0.0, 1.0, 2.0, 0.0, 0.0, 0.0, 0.0, 6.0, 1.0, 0.0, 1.0, 1.0, [0.0, 0.0, 6.0, 2.0, 1.0, 1.0, 1.0, 0.0, 0.0, 0.0, 0.0, 1.0, 0.0, 35.0, 2639.0, 4.0, 4.0, 35.0, 30.0, 1.0, 1.0], [8.778968876630952, 11.22103112336905], [0.4389484438315476, 0.5610515561684525], 1.0, 'Risk'], ['no_checking', 27, 'prior_payments_delayed', 'car_used', 7616, '100_to_500', '4_to_7', 3, 'male', 'none', 4, 'car_other', 48, 'none', 'free', 2, 'skilled', 1, 'yes', 'yes', 0.0, 0.0, 1.0, 1.0, 0.0, 2.0, 0.0, 0.0, 2.0, 0.0, 1.0, 0.0, 1.0, [0.0, 0.0, 2.0, 1.0, 1.0, 0.0, 0.0, 1.0, 0.0, 2.0, 0.0, 1.0, 0.0, 27.0, 7616.0, 3.0, 4.0, 27.0, 48.0, 2.0, 1.0], [8.849528732643792, 11.150471267356206], [0.4424764366321896, 0.5575235633678103], 1.0, 'Risk'], ['less_0', 6, 'credits_paid_to_date', 'car_used', 250, 'less_100', 'less_1', 1, 'male', 'none', 3, 'real_estate', 19, 'none', 'rent', 1, 'skilled', 1, 'none', 'yes', 1.0, 1.0, 3.0, 0.0, 0.0, 1.0, 0.0, 0.0, 2.0, 0.0, 2.0, 0.0, 0.0, [1.0, 1.0, 2.0, 0.0, 3.0, 0.0, 0.0, 2.0, 0.0, 1.0, 0.0, 0.0, 0.0, 6.0, 250.0, 1.0, 3.0, 6.0, 19.0, 1.0, 1.0], [19.112157841321846, 0.8878421586781526], [0.9556078920660923, 0.04439210793390763], 0.0, 'No Risk'], ['less_0', 8, 'prior_payments_delayed', 'furniture', 250, 'less_100', '1_to_4', 2, 'male', 'none', 2, 'savings_insurance', 19, 'bank', 'own', 1, 'unskilled', 1, 'yes', 'yes', 1.0, 0.0, 0.0, 0.0, 0.0, 0.0, 2.0, 1.0, 1.0, 0.0, 0.0, 0.0, 1.0, [1.0, 0.0, 1.0, 0.0, 0.0, 0.0, 0.0, 0.0, 2.0, 0.0, 1.0, 1.0, 0.0, 8.0, 250.0, 2.0, 2.0, 8.0, 19.0, 1.0, 1.0], [17.924021122258043, 2.0759788777419557], [0.8962010561129021, 0.10379894388709779], 0.0, 'No Risk'], ['0_to_200', 32, 'outstanding_credit', 'appliances', 6159, 'unknown', 'greater_7', 4, 'male', 'none', 4, 'car_other', 46, 'none', 'own', 3, 'skilled', 2, 'yes', 'yes', 2.0, 2.0, 2.0, 4.0, 0.0, 0.0, 0.0, 0.0, 4.0, 0.0, 1.0, 0.0, 1.0, [2.0, 2.0, 4.0, 4.0, 2.0, 0.0, 0.0, 1.0, 0.0, 0.0, 0.0, 1.0, 0.0, 32.0, 6159.0, 4.0, 4.0, 32.0, 46.0, 3.0, 2.0], [8.095302749843022, 11.90469725015698], [0.4047651374921511, 0.595234862507849], 1.0, 'Risk'], ['0_to_200', 6, 'all_credits_paid_back', 'education', 250, '100_to_500', '4_to_7', 2, 'female', 'co-applicant', 2, 'real_estate', 38, 'none', 'own', 1, 'skilled', 1, 'none', 'yes', 2.0, 3.0, 1.0, 1.0, 0.0, 0.0, 0.0, 0.0, 7.0, 1.0, 2.0, 1.0, 0.0, [2.0, 3.0, 7.0, 1.0, 1.0, 1.0, 1.0, 2.0, 0.0, 0.0, 0.0, 0.0, 0.0, 6.0, 250.0, 2.0, 2.0, 6.0, 38.0, 1.0, 1.0], [18.72964711232271, 1.2703528876772932], [0.9364823556161354, 0.06351764438386465], 0.0, 'No Risk'], ['0_to_200', 22, 'all_credits_paid_back', 'radio_tv', 250, 'less_100', 'unemployed', 2, 'female', 'none', 3, 'savings_insurance', 19, 'none', 'rent', 1, 'skilled', 1, 'none', 'yes', 2.0, 3.0, 4.0, 0.0, 0.0, 1.0, 0.0, 0.0, 3.0, 0.0, 0.0, 1.0, 0.0, [2.0, 3.0, 3.0, 0.0, 4.0, 1.0, 0.0, 0.0, 0.0, 1.0, 0.0, 0.0, 0.0, 22.0, 250.0, 2.0, 3.0, 22.0, 19.0, 1.0, 1.0], [17.4324366299003, 2.5675633700997005], [0.8716218314950149, 0.128378168504985], 0.0, 'No Risk'], ['no_checking', 40, 'outstanding_credit', 'appliances', 3279, 'greater_1000', 'greater_7', 5, 'male', 'co-applicant', 4, 'unknown', 39, 'none', 'free', 2, 'skilled', 1, 'yes', 'yes', 0.0, 2.0, 2.0, 3.0, 0.0, 2.0, 0.0, 0.0, 4.0, 1.0, 3.0, 0.0, 1.0, [0.0, 2.0, 4.0, 3.0, 2.0, 0.0, 1.0, 3.0, 0.0, 2.0, 0.0, 1.0, 0.0, 40.0, 3279.0, 5.0, 4.0, 40.0, 39.0, 2.0, 1.0], [3.86331104050399, 16.136688959496013], [0.19316555202519947, 0.8068344479748005], 1.0, 'Risk'], ['less_0', 24, 'prior_payments_delayed', 'furniture', 250, '100_to_500', '1_to_4', 3, 'male', 'none', 2, 'real_estate', 19, 'none', 'own', 1, 'skilled', 1, 'none', 'yes', 1.0, 0.0, 0.0, 1.0, 0.0, 0.0, 0.0, 0.0, 1.0, 0.0, 2.0, 0.0, 0.0, [21, [0, 2, 3, 7, 13, 14, 15, 16, 17, 18, 19, 20], [1.0, 1.0, 1.0, 2.0, 24.0, 250.0, 3.0, 2.0, 24.0, 19.0, 1.0, 1.0]], [18.01026955254937, 1.9897304474506305], [0.9005134776274686, 0.09948652237253153], 0.0, 'No Risk'], ['0_to_200', 35, 'prior_payments_delayed', 'car_used', 3608, '100_to_500', '1_to_4', 3, 'female', 'none', 1, 'savings_insurance', 40, 'stores', 'own', 1, 'skilled', 1, 'none', 'yes', 2.0, 0.0, 0.0, 1.0, 0.0, 0.0, 1.0, 0.0, 2.0, 0.0, 0.0, 1.0, 0.0, [2.0, 0.0, 2.0, 1.0, 0.0, 1.0, 0.0, 0.0, 1.0, 0.0, 0.0, 0.0, 0.0, 35.0, 3608.0, 3.0, 1.0, 35.0, 40.0, 1.0, 1.0], [14.806073282730686, 5.193926717269315], [0.7403036641365344, 0.25969633586346574], 0.0, 'No Risk'], ['no_checking', 18, 'credits_paid_to_date', 'retraining', 3284, '100_to_500', '4_to_7', 2, 'male', 'none', 3, 'real_estate', 23, 'none', 'own', 1, 'skilled', 1, 'yes', 'yes', 0.0, 1.0, 1.0, 1.0, 0.0, 0.0, 0.0, 0.0, 8.0, 0.0, 2.0, 0.0, 1.0, [0.0, 1.0, 8.0, 1.0, 1.0, 0.0, 0.0, 2.0, 0.0, 0.0, 0.0, 1.0, 0.0, 18.0, 3284.0, 2.0, 3.0, 18.0, 23.0, 1.0, 1.0], [14.707806800991454, 5.292193199008546], [0.7353903400495727, 0.2646096599504273], 0.0, 'No Risk'], ['0_to_200', 22, 'all_credits_paid_back', 'car_used', 1595, 'less_100', 'less_1', 3, 'female', 'none', 2, 'savings_insurance', 29, 'none', 'own', 1, 'skilled', 1, 'none', 'yes', 2.0, 3.0, 3.0, 0.0, 0.0, 0.0, 0.0, 0.0, 2.0, 0.0, 0.0, 1.0, 0.0, [2.0, 3.0, 2.0, 0.0, 3.0, 1.0, 0.0, 0.0, 0.0, 0.0, 0.0, 0.0, 0.0, 22.0, 1595.0, 3.0, 2.0, 22.0, 29.0, 1.0, 1.0], [17.99253516841825, 2.0074648315817503], [0.8996267584209126, 0.10037324157908752], 0.0, 'No Risk'], ['less_0', 21, 'credits_paid_to_date', 'car_new', 1278, 'less_100', '1_to_4', 2, 'male', 'none', 2, 'real_estate', 25, 'none', 'rent', 1, 'skilled', 1, 'none', 'yes', 1.0, 1.0, 0.0, 0.0, 0.0, 1.0, 0.0, 0.0, 0.0, 0.0, 2.0, 0.0, 0.0, [21, [0, 1, 7, 9, 13, 14, 15, 16, 17, 18, 19, 20], [1.0, 1.0, 2.0, 1.0, 21.0, 1278.0, 2.0, 2.0, 21.0, 25.0, 1.0, 1.0]], [17.932550096144013, 2.06744990385599], [0.8966275048072004, 0.10337249519279948], 0.0, 'No Risk'], ['0_to_200', 23, 'credits_paid_to_date', 'car_new', 6875, 'less_100', 'less_1', 2, 'female', 'co-applicant', 2, 'car_other', 46, 'bank', 'own', 1, 'unemployed', 1, 'none', 'yes', 2.0, 1.0, 3.0, 0.0, 0.0, 0.0, 2.0, 3.0, 0.0, 1.0, 1.0, 1.0, 0.0, [2.0, 1.0, 0.0, 0.0, 3.0, 1.0, 1.0, 1.0, 2.0, 0.0, 3.0, 0.0, 0.0, 23.0, 6875.0, 2.0, 2.0, 23.0, 46.0, 1.0, 1.0], [14.615232634054552, 5.384767365945454], [0.7307616317027273, 0.2692383682972726], 0.0, 'No Risk'], ['no_checking', 34, 'credits_paid_to_date', 'business', 6430, '100_to_500', 'less_1', 3, 'female', 'none', 3, 'unknown', 35, 'none', 'own', 2, 'skilled', 1, 'none', 'yes', 0.0, 1.0, 3.0, 1.0, 0.0, 0.0, 0.0, 0.0, 9.0, 0.0, 3.0, 1.0, 0.0, [0.0, 1.0, 9.0, 1.0, 3.0, 1.0, 0.0, 3.0, 0.0, 0.0, 0.0, 0.0, 0.0, 34.0, 6430.0, 3.0, 3.0, 34.0, 35.0, 2.0, 1.0], [11.224342698018246, 8.775657301981756], [0.5612171349009123, 0.4387828650990878], 0.0, 'No Risk'], ['0_to_200', 18, 'prior_payments_delayed', 'furniture', 5518, 'less_100', '1_to_4', 3, 'female', 'none', 2, 'car_other', 25, 'none', 'own', 2, 'skilled', 1, 'none', 'yes', 2.0, 0.0, 0.0, 0.0, 0.0, 0.0, 0.0, 0.0, 1.0, 0.0, 1.0, 1.0, 0.0, [21, [0, 2, 5, 7, 13, 14, 15, 16, 17, 18, 19, 20], [2.0, 1.0, 1.0, 1.0, 18.0, 5518.0, 3.0, 2.0, 18.0, 25.0, 2.0, 1.0]], [15.50507488582516, 4.494925114174835], [0.7752537442912583, 0.22474625570874185], 0.0, 'No Risk'], ['no_checking', 17, 'credits_paid_to_date', 'car_new', 1728, 'greater_1000', '4_to_7', 2, 'female', 'none', 2, 'real_estate', 26, 'none', 'own', 1, 'skilled', 2, 'yes', 'yes', 0.0, 1.0, 1.0, 3.0, 0.0, 0.0, 0.0, 0.0, 0.0, 0.0, 2.0, 1.0, 1.0, [0.0, 1.0, 0.0, 3.0, 1.0, 1.0, 0.0, 2.0, 0.0, 0.0, 0.0, 1.0, 0.0, 17.0, 1728.0, 2.0, 2.0, 17.0, 26.0, 1.0, 2.0], [16.4389232374961, 3.5610767625038986], [0.8219461618748051, 0.17805383812519496], 0.0, 'No Risk'], ['less_0', 26, 'no_credits', 'car_new', 1433, 'less_100', '4_to_7', 2, 'female', 'none', 1, 'savings_insurance', 34, 'stores', 'own', 2, 'skilled', 1, 'none', 'yes', 1.0, 4.0, 1.0, 0.0, 0.0, 0.0, 1.0, 0.0, 0.0, 0.0, 0.0, 1.0, 0.0, [1.0, 4.0, 0.0, 0.0, 1.0, 1.0, 0.0, 0.0, 1.0, 0.0, 0.0, 0.0, 0.0, 26.0, 1433.0, 2.0, 1.0, 26.0, 34.0, 2.0, 1.0], [15.651949304123896, 4.348050695876103], [0.7825974652061948, 0.21740253479380517], 0.0, 'No Risk'], ['0_to_200', 18, 'prior_payments_delayed', 'car_new', 6420, 'less_100', 'greater_7', 4, 'male', 'none', 3, 'car_other', 35, 'none', 'own', 2, 'management_self-employed', 1, 'none', 'yes', 2.0, 0.0, 2.0, 0.0, 0.0, 0.0, 0.0, 2.0, 0.0, 0.0, 1.0, 0.0, 0.0, [21, [0, 4, 7, 10, 13, 14, 15, 16, 17, 18, 19, 20], [2.0, 2.0, 1.0, 2.0, 18.0, 6420.0, 4.0, 3.0, 18.0, 35.0, 2.0, 1.0]], [12.290659629164884, 7.709340370835117], [0.6145329814582442, 0.38546701854175586], 0.0, 'No Risk'], ['no_checking', 55, 'outstanding_credit', 'repairs', 3651, 'unknown', 'greater_7', 5, 'female', 'co-applicant', 4, 'savings_insurance', 59, 'none', 'free', 3, 'skilled', 2, 'yes', 'yes', 0.0, 2.0, 2.0, 4.0, 0.0, 2.0, 0.0, 0.0, 5.0, 1.0, 0.0, 1.0, 1.0, [0.0, 2.0, 5.0, 4.0, 2.0, 1.0, 1.0, 0.0, 0.0, 2.0, 0.0, 1.0, 0.0, 55.0, 3651.0, 5.0, 4.0, 55.0, 59.0, 3.0, 2.0], [3.364663125050793, 16.635336874949207], [0.16823315625253965, 0.8317668437474603], 1.0, 'Risk'], ['no_checking', 27, 'prior_payments_delayed', 'radio_tv', 9698, '100_to_500', 'greater_7', 4, 'male', 'co-applicant', 3, 'car_other', 55, 'none', 'free', 2, 'management_self-employed', 2, 'yes', 'yes', 0.0, 0.0, 2.0, 1.0, 0.0, 2.0, 0.0, 2.0, 3.0, 1.0, 1.0, 0.0, 1.0, [0.0, 0.0, 3.0, 1.0, 2.0, 0.0, 1.0, 1.0, 0.0, 2.0, 2.0, 1.0, 0.0, 27.0, 9698.0, 4.0, 3.0, 27.0, 55.0, 2.0, 2.0], [3.484546268006556, 16.51545373199344], [0.17422731340032782, 0.8257726865996721], 1.0, 'Risk'], ['less_0', 17, 'credits_paid_to_date', 'car_new', 1181, 'less_100', 'less_1', 2, 'female', 'none', 1, 'real_estate', 33, 'none', 'own', 1, 'skilled', 1, 'none', 'yes', 1.0, 1.0, 3.0, 0.0, 0.0, 0.0, 0.0, 0.0, 0.0, 0.0, 2.0, 1.0, 0.0, [1.0, 1.0, 0.0, 0.0, 3.0, 1.0, 0.0, 2.0, 0.0, 0.0, 0.0, 0.0, 0.0, 17.0, 1181.0, 2.0, 1.0, 17.0, 33.0, 1.0, 1.0], [18.109241174128332, 1.89075882587167], [0.9054620587064165, 0.09453794129358349], 0.0, 'No Risk'], ['no_checking', 25, 'outstanding_credit', 'radio_tv', 6346, '500_to_1000', '4_to_7', 4, 'male', 'none', 3, 'unknown', 60, 'none', 'own', 2, 'skilled', 1, 'none', 'yes', 0.0, 2.0, 1.0, 2.0, 0.0, 0.0, 0.0, 0.0, 3.0, 0.0, 3.0, 0.0, 0.0, [0.0, 2.0, 3.0, 2.0, 1.0, 0.0, 0.0, 3.0, 0.0, 0.0, 0.0, 0.0, 0.0, 25.0, 6346.0, 4.0, 3.0, 25.0, 60.0, 2.0, 1.0], [6.82710598679477, 13.172894013205228], [0.3413552993397385, 0.6586447006602614], 1.0, 'Risk'], ['no_checking', 51, 'outstanding_credit', 'education', 8304, 'greater_1000', 'greater_7', 5, 'male', 'co-applicant', 3, 'car_other', 47, 'none', 'free', 3, 'skilled', 1, 'yes', 'yes', 0.0, 2.0, 2.0, 3.0, 0.0, 2.0, 0.0, 0.0, 7.0, 1.0, 1.0, 0.0, 1.0, [0.0, 2.0, 7.0, 3.0, 2.0, 0.0, 1.0, 1.0, 0.0, 2.0, 0.0, 1.0, 0.0, 51.0, 8304.0, 5.0, 3.0, 51.0, 47.0, 3.0, 1.0], [2.749067096567104, 17.250932903432894], [0.13745335482835522, 0.8625466451716448], 1.0, 'Risk'], ['no_checking', 30, 'outstanding_credit', 'appliances', 5889, 'unknown', 'greater_7', 5, 'male', 'none', 4, 'car_other', 49, 'none', 'own', 2, 'skilled', 2, 'yes', 'yes', 0.0, 2.0, 2.0, 4.0, 0.0, 0.0, 0.0, 0.0, 4.0, 0.0, 1.0, 0.0, 1.0, [0.0, 2.0, 4.0, 4.0, 2.0, 0.0, 0.0, 1.0, 0.0, 0.0, 0.0, 1.0, 0.0, 30.0, 5889.0, 5.0, 4.0, 30.0, 49.0, 2.0, 2.0], [5.8479215595060925, 14.152078440493906], [0.29239607797530465, 0.7076039220246952], 1.0, 'Risk'], ['no_checking', 27, 'outstanding_credit', 'radio_tv', 7359, '500_to_1000', '1_to_4', 3, 'male', 'guarantor', 4, 'unknown', 67, 'stores', 'own', 2, 'unskilled', 1, 'yes', 'yes', 0.0, 2.0, 0.0, 2.0, 0.0, 0.0, 1.0, 1.0, 3.0, 2.0, 3.0, 0.0, 1.0, [0.0, 2.0, 3.0, 2.0, 0.0, 0.0, 2.0, 3.0, 1.0, 0.0, 1.0, 1.0, 0.0, 27.0, 7359.0, 3.0, 4.0, 27.0, 67.0, 2.0, 1.0], [6.657920096697686, 13.342079903302311], [0.33289600483488435, 0.6671039951651156], 1.0, 'Risk'], ['less_0', 15, 'prior_payments_delayed', 'car_new', 1767, 'less_100', 'less_1', 2, 'male', 'co-applicant', 3, 'car_other', 32, 'none', 'own', 1, 'skilled', 1, 'yes', 'yes', 1.0, 0.0, 3.0, 0.0, 0.0, 0.0, 0.0, 0.0, 0.0, 1.0, 1.0, 0.0, 1.0, [1.0, 0.0, 0.0, 0.0, 3.0, 0.0, 1.0, 1.0, 0.0, 0.0, 0.0, 1.0, 0.0, 15.0, 1767.0, 2.0, 3.0, 15.0, 32.0, 1.0, 1.0], [17.045044282493954, 2.9549557175060452], [0.8522522141246978, 0.14774778587530227], 0.0, 'No Risk'], ['less_0', 18, 'all_credits_paid_back', 'car_new', 250, '100_to_500', 'less_1', 2, 'female', 'none', 2, 'real_estate', 26, 'none', 'rent', 1, 'skilled', 1, 'none', 'yes', 1.0, 3.0, 3.0, 1.0, 0.0, 1.0, 0.0, 0.0, 0.0, 0.0, 2.0, 1.0, 0.0, [1.0, 3.0, 0.0, 1.0, 3.0, 1.0, 0.0, 2.0, 0.0, 1.0, 0.0, 0.0, 0.0, 18.0, 250.0, 2.0, 2.0, 18.0, 26.0, 1.0, 1.0], [19.236515652495573, 0.763484347504426], [0.9618257826247787, 0.038174217375221295], 0.0, 'No Risk'], ['no_checking', 34, 'outstanding_credit', 'furniture', 6091, 'greater_1000', '4_to_7', 4, 'male', 'none', 5, 'unknown', 45, 'stores', 'free', 2, 'unskilled', 2, 'yes', 'yes', 0.0, 2.0, 1.0, 3.0, 0.0, 2.0, 1.0, 1.0, 1.0, 0.0, 3.0, 0.0, 1.0, [0.0, 2.0, 1.0, 3.0, 1.0, 0.0, 0.0, 3.0, 1.0, 2.0, 1.0, 1.0, 0.0, 34.0, 6091.0, 4.0, 5.0, 34.0, 45.0, 2.0, 2.0], [8.493253940825547, 11.506746059174452], [0.42466269704127735, 0.5753373029587225], 1.0, 'Risk'], ['no_checking', 50, 'outstanding_credit', 'repairs', 7769, 'greater_1000', 'greater_7', 6, 'male', 'co-applicant', 5, 'car_other', 56, 'none', 'free', 2, 'skilled', 1, 'yes', 'yes', 0.0, 2.0, 2.0, 3.0, 0.0, 2.0, 0.0, 0.0, 5.0, 1.0, 1.0, 0.0, 1.0, [0.0, 2.0, 5.0, 3.0, 2.0, 0.0, 1.0, 1.0, 0.0, 2.0, 0.0, 1.0, 0.0, 50.0, 7769.0, 6.0, 5.0, 50.0, 56.0, 2.0, 1.0], [1.417830165753805, 18.582169834246194], [0.07089150828769025, 0.9291084917123097], 1.0, 'Risk'], ['less_0', 9, 'prior_payments_delayed', 'car_new', 1602, 'less_100', '4_to_7', 2, 'male', 'none', 2, 'unknown', 40, 'stores', 'own', 1, 'skilled', 1, 'none', 'yes', 1.0, 0.0, 1.0, 0.0, 0.0, 0.0, 1.0, 0.0, 0.0, 0.0, 3.0, 0.0, 0.0, [21, [0, 4, 7, 8, 13, 14, 15, 16, 17, 18, 19, 20], [1.0, 1.0, 3.0, 1.0, 9.0, 1602.0, 2.0, 2.0, 9.0, 40.0, 1.0, 1.0]], [16.100480963644976, 3.899519036355025], [0.8050240481822488, 0.19497595181775124], 0.0, 'No Risk'], ['less_0', 8, 'no_credits', 'car_new', 542, 'less_100', 'less_1', 1, 'female', 'none', 2, 'savings_insurance', 23, 'bank', 'rent', 1, 'unskilled', 1, 'none', 'yes', 1.0, 4.0, 3.0, 0.0, 0.0, 1.0, 2.0, 1.0, 0.0, 0.0, 0.0, 1.0, 0.0, [1.0, 4.0, 0.0, 0.0, 3.0, 1.0, 0.0, 0.0, 2.0, 1.0, 1.0, 0.0, 0.0, 8.0, 542.0, 1.0, 2.0, 8.0, 23.0, 1.0, 1.0], [19.375519596791364, 0.6244804032086355], [0.9687759798395682, 0.031224020160431777], 0.0, 'No Risk'], ['no_checking', 47, 'outstanding_credit', 'education', 7852, '500_to_1000', 'greater_7', 4, 'male', 'co-applicant', 3, 'unknown', 47, 'none', 'own', 2, 'skilled', 1, 'none', 'yes', 0.0, 2.0, 2.0, 2.0, 0.0, 0.0, 0.0, 0.0, 7.0, 1.0, 3.0, 0.0, 0.0, [0.0, 2.0, 7.0, 2.0, 2.0, 0.0, 1.0, 3.0, 0.0, 0.0, 0.0, 0.0, 0.0, 47.0, 7852.0, 4.0, 3.0, 47.0, 47.0, 2.0, 1.0], [3.423641486526035, 16.576358513473963], [0.17118207432630178, 0.8288179256736983], 1.0, 'Risk'], ['less_0', 9, 'no_credits', 'car_new', 5182, 'less_100', '1_to_4', 3, 'male', 'none', 2, 'savings_insurance', 34, 'none', 'own', 2, 'skilled', 1, 'none', 'yes', 1.0, 4.0, 0.0, 0.0, 0.0, 0.0, 0.0, 0.0, 0.0, 0.0, 0.0, 0.0, 0.0, [21, [0, 1, 13, 14, 15, 16, 17, 18, 19, 20], [1.0, 4.0, 9.0, 5182.0, 3.0, 2.0, 9.0, 34.0, 2.0, 1.0]], [15.67474583340941, 4.325254166590589], [0.7837372916704706, 0.21626270832952943], 0.0, 'No Risk'], ['no_checking', 21, 'credits_paid_to_date', 'radio_tv', 2802, '100_to_500', 'less_1', 2, 'male', 'none', 4, 'car_other', 45, 'none', 'own', 1, 'skilled', 1, 'none', 'yes', 0.0, 1.0, 3.0, 1.0, 0.0, 0.0, 0.0, 0.0, 3.0, 0.0, 1.0, 0.0, 0.0, [0.0, 1.0, 3.0, 1.0, 3.0, 0.0, 0.0, 1.0, 0.0, 0.0, 0.0, 0.0, 0.0, 21.0, 2802.0, 2.0, 4.0, 21.0, 45.0, 1.0, 1.0], [13.574043501696211, 6.42595649830379], [0.6787021750848106, 0.3212978249151895], 0.0, 'No Risk'], ['no_checking', 26, 'prior_payments_delayed', 'furniture', 6170, '100_to_500', '4_to_7', 4, 'male', 'none', 3, 'car_other', 42, 'none', 'own', 2, 'management_self-employed', 2, 'yes', 'yes', 0.0, 0.0, 1.0, 1.0, 0.0, 0.0, 0.0, 2.0, 1.0, 0.0, 1.0, 0.0, 1.0, [0.0, 0.0, 1.0, 1.0, 1.0, 0.0, 0.0, 1.0, 0.0, 0.0, 2.0, 1.0, 0.0, 26.0, 6170.0, 4.0, 3.0, 26.0, 42.0, 2.0, 2.0], [10.9471656281542, 9.0528343718458], [0.54735828140771, 0.45264171859228997], 0.0, 'No Risk'], ['less_0', 16, 'credits_paid_to_date', 'furniture', 1742, 'less_100', 'unemployed', 2, 'female', 'none', 1, 'real_estate', 21, 'none', 'own', 1, 'skilled', 1, 'none', 'yes', 1.0, 1.0, 4.0, 0.0, 0.0, 0.0, 0.0, 0.0, 1.0, 0.0, 2.0, 1.0, 0.0, [1.0, 1.0, 1.0, 0.0, 4.0, 1.0, 0.0, 2.0, 0.0, 0.0, 0.0, 0.0, 0.0, 16.0, 1742.0, 2.0, 1.0, 16.0, 21.0, 1.0, 1.0], [19.27579073175888, 0.7242092682411196], [0.9637895365879441, 0.036210463412055985], 0.0, 'No Risk'], ['no_checking', 9, 'credits_paid_to_date', 'car_used', 358, 'less_100', '1_to_4', 1, 'female', 'none', 3, 'real_estate', 40, 'none', 'rent', 1, 'skilled', 1, 'none', 'yes', 0.0, 1.0, 0.0, 0.0, 0.0, 1.0, 0.0, 0.0, 2.0, 0.0, 2.0, 1.0, 0.0, [0.0, 1.0, 2.0, 0.0, 0.0, 1.0, 0.0, 2.0, 0.0, 1.0, 0.0, 0.0, 0.0, 9.0, 358.0, 1.0, 3.0, 9.0, 40.0, 1.0, 1.0], [16.88097162276519, 3.1190283772348097], [0.8440485811382595, 0.1559514188617405], 0.0, 'No Risk'], ['greater_200', 31, 'prior_payments_delayed', 'car_used', 4957, '100_to_500', '4_to_7', 4, 'male', 'none', 3, 'savings_insurance', 20, 'none', 'own', 1, 'skilled', 2, 'none', 'yes', 3.0, 0.0, 1.0, 1.0, 0.0, 0.0, 0.0, 0.0, 2.0, 0.0, 0.0, 0.0, 0.0, [21, [0, 2, 3, 4, 13, 14, 15, 16, 17, 18, 19, 20], [3.0, 2.0, 1.0, 1.0, 31.0, 4957.0, 4.0, 3.0, 31.0, 20.0, 1.0, 2.0]], [13.549591268036629, 6.45040873196337], [0.6774795634018315, 0.32252043659816854], 0.0, 'No Risk'], ['no_checking', 48, 'outstanding_credit', 'appliances', 8530, 'greater_1000', 'greater_7', 6, 'female', 'co-applicant', 5, 'car_other', 45, 'stores', 'free', 3, 'unskilled', 2, 'yes', 'yes', 0.0, 2.0, 2.0, 3.0, 0.0, 2.0, 1.0, 1.0, 4.0, 1.0, 1.0, 1.0, 1.0, [0.0, 2.0, 4.0, 3.0, 2.0, 1.0, 1.0, 1.0, 1.0, 2.0, 1.0, 1.0, 0.0, 48.0, 8530.0, 6.0, 5.0, 48.0, 45.0, 3.0, 2.0], [2.4496615744744226, 17.550338425525574], [0.12248307872372115, 0.8775169212762789], 1.0, 'Risk'], ['no_checking', 29, 'prior_payments_delayed', 'car_used', 5218, '100_to_500', '4_to_7', 4, 'male', 'none', 4, 'unknown', 47, 'none', 'free', 3, 'skilled', 1, 'yes', 'yes', 0.0, 0.0, 1.0, 1.0, 0.0, 2.0, 0.0, 0.0, 2.0, 0.0, 3.0, 0.0, 1.0, [0.0, 0.0, 2.0, 1.0, 1.0, 0.0, 0.0, 3.0, 0.0, 2.0, 0.0, 1.0, 0.0, 29.0, 5218.0, 4.0, 4.0, 29.0, 47.0, 3.0, 1.0], [7.942235631428055, 12.057764368571943], [0.39711178157140276, 0.6028882184285972], 1.0, 'Risk'], ['less_0', 13, 'all_credits_paid_back', 'furniture', 507, 'less_100', 'less_1', 1, 'male', 'none', 1, 'real_estate', 20, 'stores', 'rent', 1, 'skilled', 1, 'none', 'yes', 1.0, 3.0, 3.0, 0.0, 0.0, 1.0, 1.0, 0.0, 1.0, 0.0, 2.0, 0.0, 0.0, [1.0, 3.0, 1.0, 0.0, 3.0, 0.0, 0.0, 2.0, 1.0, 1.0, 0.0, 0.0, 0.0, 13.0, 507.0, 1.0, 1.0, 13.0, 20.0, 1.0, 1.0], [19.418081557339146, 0.5819184426608535], [0.9709040778669573, 0.029095922133042674], 0.0, 'No Risk'], ['no_checking', 8, 'prior_payments_delayed', 'furniture', 1125, '500_to_1000', '4_to_7', 2, 'male', 'none', 4, 'car_other', 43, 'bank', 'own', 1, 'unskilled', 1, 'none', 'yes', 0.0, 0.0, 1.0, 2.0, 0.0, 0.0, 2.0, 1.0, 1.0, 0.0, 1.0, 0.0, 0.0, [0.0, 0.0, 1.0, 2.0, 1.0, 0.0, 0.0, 1.0, 2.0, 0.0, 1.0, 0.0, 0.0, 8.0, 1125.0, 2.0, 4.0, 8.0, 43.0, 1.0, 1.0], [14.133387789720025, 5.866612210279973], [0.7066693894860012, 0.29333061051399867], 0.0, 'No Risk'], ['greater_200', 22, 'credits_paid_to_date', 'radio_tv', 3175, 'less_100', 'less_1', 2, 'female', 'co-applicant', 2, 'savings_insurance', 46, 'bank', 'own', 2, 'unemployed', 1, 'yes', 'yes', 3.0, 1.0, 3.0, 0.0, 0.0, 0.0, 2.0, 3.0, 3.0, 1.0, 0.0, 1.0, 1.0, [3.0, 1.0, 3.0, 0.0, 3.0, 1.0, 1.0, 0.0, 2.0, 0.0, 3.0, 1.0, 0.0, 22.0, 3175.0, 2.0, 2.0, 22.0, 46.0, 2.0, 1.0], [14.166430827352112, 5.833569172647889], [0.7083215413676056, 0.29167845863239444], 0.0, 'No Risk'], ['greater_200', 19, 'credits_paid_to_date', 'radio_tv', 6056, '100_to_500', 'less_1', 3, 'female', 'none', 4, 'savings_insurance', 44, 'stores', 'own', 1, 'skilled', 2, 'yes', 'yes', 3.0, 1.0, 3.0, 1.0, 0.0, 0.0, 1.0, 0.0, 3.0, 0.0, 0.0, 1.0, 1.0, [3.0, 1.0, 3.0, 1.0, 3.0, 1.0, 0.0, 0.0, 1.0, 0.0, 0.0, 1.0, 0.0, 19.0, 6056.0, 3.0, 4.0, 19.0, 44.0, 1.0, 2.0], [14.414561028789313, 5.5854389712106896], [0.7207280514394655, 0.27927194856053444], 0.0, 'No Risk'], ['no_checking', 32, 'prior_payments_delayed', 'business', 7467, '100_to_500', '1_to_4', 4, 'male', 'guarantor', 4, 'car_other', 41, 'none', 'free', 1, 'management_self-employed', 1, 'yes', 'yes', 0.0, 0.0, 0.0, 1.0, 0.0, 2.0, 0.0, 2.0, 9.0, 2.0, 1.0, 0.0, 1.0, [0.0, 0.0, 9.0, 1.0, 0.0, 0.0, 2.0, 1.0, 0.0, 2.0, 2.0, 1.0, 0.0, 32.0, 7467.0, 4.0, 4.0, 32.0, 41.0, 1.0, 1.0], [9.917295487201688, 10.08270451279831], [0.4958647743600844, 0.5041352256399155], 1.0, 'Risk'], ['no_checking', 33, 'prior_payments_delayed', 'furniture', 5347, 'greater_1000', '4_to_7', 4, 'male', 'none', 3, 'car_other', 59, 'none', 'own', 3, 'skilled', 2, 'yes', 'yes', 0.0, 0.0, 1.0, 3.0, 0.0, 0.0, 0.0, 0.0, 1.0, 0.0, 1.0, 0.0, 1.0, [0.0, 0.0, 1.0, 3.0, 1.0, 0.0, 0.0, 1.0, 0.0, 0.0, 0.0, 1.0, 0.0, 33.0, 5347.0, 4.0, 3.0, 33.0, 59.0, 3.0, 2.0], [8.676549798584105, 11.323450201415893], [0.4338274899292053, 0.5661725100707946], 1.0, 'Risk'], ['no_checking', 40, 'prior_payments_delayed', 'repairs', 9704, 'greater_1000', 'greater_7', 4, 'female', 'co-applicant', 4, 'car_other', 46, 'none', 'free', 2, 'skilled', 1, 'none', 'yes', 0.0, 0.0, 2.0, 3.0, 0.0, 2.0, 0.0, 0.0, 5.0, 1.0, 1.0, 1.0, 0.0, [0.0, 0.0, 5.0, 3.0, 2.0, 1.0, 1.0, 1.0, 0.0, 2.0, 0.0, 0.0, 0.0, 40.0, 9704.0, 4.0, 4.0, 40.0, 46.0, 2.0, 1.0], [3.9854797778758217, 16.014520222124176], [0.1992739888937911, 0.8007260111062089], 1.0, 'Risk'], ['no_checking', 44, 'prior_payments_delayed', 'radio_tv', 2723, 'greater_1000', 'greater_7', 4, 'male', 'co-applicant', 3, 'savings_insurance', 48, 'none', 'free', 2, 'skilled', 1, 'yes', 'yes', 0.0, 0.0, 2.0, 3.0, 0.0, 2.0, 0.0, 0.0, 3.0, 1.0, 0.0, 0.0, 1.0, [0.0, 0.0, 3.0, 3.0, 2.0, 0.0, 1.0, 0.0, 0.0, 2.0, 0.0, 1.0, 0.0, 44.0, 2723.0, 4.0, 3.0, 44.0, 48.0, 2.0, 1.0], [5.367988629553596, 14.632011370446405], [0.2683994314776798, 0.7316005685223202], 1.0, 'Risk'], ['0_to_200', 19, 'prior_payments_delayed', 'furniture', 772, '100_to_500', 'greater_7', 4, 'male', 'none', 2, 'car_other', 31, 'none', 'free', 2, 'skilled', 1, 'none', 'yes', 2.0, 0.0, 2.0, 1.0, 0.0, 2.0, 0.0, 0.0, 1.0, 0.0, 1.0, 0.0, 0.0, [2.0, 0.0, 1.0, 1.0, 2.0, 0.0, 0.0, 1.0, 0.0, 2.0, 0.0, 0.0, 0.0, 19.0, 772.0, 4.0, 2.0, 19.0, 31.0, 2.0, 1.0], [15.445336707636883, 4.554663292363116], [0.7722668353818442, 0.2277331646181558], 0.0, 'No Risk'], ['0_to_200', 8, 'all_credits_paid_back', 'car_used', 250, 'less_100', '1_to_4', 1, 'male', 'none', 2, 'savings_insurance', 19, 'stores', 'rent', 1, 'skilled', 1, 'none', 'yes', 2.0, 3.0, 0.0, 0.0, 0.0, 1.0, 1.0, 0.0, 2.0, 0.0, 0.0, 0.0, 0.0, [2.0, 3.0, 2.0, 0.0, 0.0, 0.0, 0.0, 0.0, 1.0, 1.0, 0.0, 0.0, 0.0, 8.0, 250.0, 1.0, 2.0, 8.0, 19.0, 1.0, 1.0], [19.026754046388767, 0.9732459536112316], [0.9513377023194384, 0.04866229768056158], 0.0, 'No Risk'], ['no_checking', 8, 'prior_payments_delayed', 'furniture', 6362, '100_to_500', '1_to_4', 3, 'male', 'none', 3, 'unknown', 38, 'stores', 'rent', 2, 'unskilled', 2, 'yes', 'yes', 0.0, 0.0, 0.0, 1.0, 0.0, 1.0, 1.0, 1.0, 1.0, 0.0, 3.0, 0.0, 1.0, [0.0, 0.0, 1.0, 1.0, 0.0, 0.0, 0.0, 3.0, 1.0, 1.0, 1.0, 1.0, 0.0, 8.0, 6362.0, 3.0, 3.0, 8.0, 38.0, 2.0, 2.0], [11.86631645054299, 8.13368354945701], [0.5933158225271495, 0.40668417747285046], 0.0, 'No Risk'], ['0_to_200', 26, 'prior_payments_delayed', 'radio_tv', 250, '100_to_500', 'greater_7', 2, 'male', 'none', 2, 'real_estate', 28, 'none', 'own', 1, 'skilled', 1, 'none', 'no', 2.0, 0.0, 2.0, 1.0, 1.0, 0.0, 0.0, 0.0, 3.0, 0.0, 2.0, 0.0, 0.0, [2.0, 0.0, 3.0, 1.0, 2.0, 0.0, 0.0, 2.0, 0.0, 0.0, 0.0, 0.0, 1.0, 26.0, 250.0, 2.0, 2.0, 26.0, 28.0, 1.0, 1.0], [16.116830275469884, 3.8831697245301173], [0.8058415137734942, 0.19415848622650586], 0.0, 'No Risk'], ['no_checking', 27, 'outstanding_credit', 'furniture', 7575, '500_to_1000', '4_to_7', 3, 'male', 'co-applicant', 3, 'car_other', 45, 'none', 'free', 2, 'skilled', 1, 'yes', 'yes', 0.0, 2.0, 1.0, 2.0, 0.0, 2.0, 0.0, 0.0, 1.0, 1.0, 1.0, 0.0, 1.0, [0.0, 2.0, 1.0, 2.0, 1.0, 0.0, 1.0, 1.0, 0.0, 2.0, 0.0, 1.0, 0.0, 27.0, 7575.0, 3.0, 3.0, 27.0, 45.0, 2.0, 1.0], [5.459418713899785, 14.540581286100213], [0.27297093569498926, 0.7270290643050107], 1.0, 'Risk'], ['no_checking', 24, 'prior_payments_delayed', 'car_used', 5833, 'greater_1000', '1_to_4', 4, 'male', 'guarantor', 5, 'unknown', 53, 'none', 'free', 2, 'skilled', 1, 'yes', 'yes', 0.0, 0.0, 0.0, 3.0, 0.0, 2.0, 0.0, 0.0, 2.0, 2.0, 3.0, 0.0, 1.0, [0.0, 0.0, 2.0, 3.0, 0.0, 0.0, 2.0, 3.0, 0.0, 2.0, 0.0, 1.0, 0.0, 24.0, 5833.0, 4.0, 5.0, 24.0, 53.0, 2.0, 1.0], [7.60130555074662, 12.398694449253384], [0.38006527753733094, 0.6199347224626691], 1.0, 'Risk'], ['0_to_200', 7, 'all_credits_paid_back', 'car_new', 1325, '100_to_500', 'less_1', 3, 'male', 'none', 2, 'car_other', 28, 'none', 'own', 2, 'skilled', 1, 'yes', 'yes', 2.0, 3.0, 3.0, 1.0, 0.0, 0.0, 0.0, 0.0, 0.0, 0.0, 1.0, 0.0, 1.0, [2.0, 3.0, 0.0, 1.0, 3.0, 0.0, 0.0, 1.0, 0.0, 0.0, 0.0, 1.0, 0.0, 7.0, 1325.0, 3.0, 2.0, 7.0, 28.0, 2.0, 1.0], [17.67235415308133, 2.32764584691867], [0.8836177076540664, 0.11638229234593349], 0.0, 'No Risk'], ['no_checking', 27, 'all_credits_paid_back', 'repairs', 1620, 'less_100', '1_to_4', 2, 'female', 'none', 3, 'real_estate', 22, 'none', 'own', 1, 'skilled', 1, 'none', 'yes', 0.0, 3.0, 0.0, 0.0, 0.0, 0.0, 0.0, 0.0, 5.0, 0.0, 2.0, 1.0, 0.0, [21, [1, 2, 5, 7, 13, 14, 15, 16, 17, 18, 19, 20], [3.0, 5.0, 1.0, 2.0, 27.0, 1620.0, 2.0, 3.0, 27.0, 22.0, 1.0, 1.0]], [15.333695290636944, 4.666304709363058], [0.7666847645318471, 0.2333152354681529], 0.0, 'No Risk'], ['no_checking', 32, 'prior_payments_delayed', 'radio_tv', 3360, 'unknown', '4_to_7', 3, 'male', 'none', 4, 'savings_insurance', 35, 'none', 'rent', 2, 'skilled', 1, 'yes', 'yes', 0.0, 0.0, 1.0, 4.0, 0.0, 1.0, 0.0, 0.0, 3.0, 0.0, 0.0, 0.0, 1.0, [0.0, 0.0, 3.0, 4.0, 1.0, 0.0, 0.0, 0.0, 0.0, 1.0, 0.0, 1.0, 0.0, 32.0, 3360.0, 3.0, 4.0, 32.0, 35.0, 2.0, 1.0], [10.276428083383315, 9.723571916616686], [0.5138214041691658, 0.48617859583083434], 0.0, 'No Risk'], ['less_0', 22, 'prior_payments_delayed', 'radio_tv', 5054, 'less_100', 'less_1', 3, 'male', 'co-applicant', 2, 'car_other', 35, 'none', 'own', 1, 'skilled', 1, 'none', 'yes', 1.0, 0.0, 3.0, 0.0, 0.0, 0.0, 0.0, 0.0, 3.0, 1.0, 1.0, 0.0, 0.0, [1.0, 0.0, 3.0, 0.0, 3.0, 0.0, 1.0, 1.0, 0.0, 0.0, 0.0, 0.0, 0.0, 22.0, 5054.0, 3.0, 2.0, 22.0, 35.0, 1.0, 1.0], [15.155195110040173, 4.84480488995983], [0.7577597555020086, 0.24224024449799147], 0.0, 'No Risk'], ['less_0', 20, 'prior_payments_delayed', 'car_used', 4312, 'greater_1000', 'less_1', 2, 'female', 'none', 2, 'savings_insurance', 31, 'none', 'own', 2, 'skilled', 1, 'none', 'yes', 1.0, 0.0, 3.0, 3.0, 0.0, 0.0, 0.0, 0.0, 2.0, 0.0, 0.0, 1.0, 0.0, [1.0, 0.0, 2.0, 3.0, 3.0, 1.0, 0.0, 0.0, 0.0, 0.0, 0.0, 0.0, 0.0, 20.0, 4312.0, 2.0, 2.0, 20.0, 31.0, 2.0, 1.0], [16.21889021609812, 3.7811097839018823], [0.8109445108049059, 0.18905548919509407], 0.0, 'No Risk'], ['no_checking', 14, 'credits_paid_to_date', 'car_new', 1310, 'greater_1000', 'greater_7', 4, 'male', 'none', 4, 'real_estate', 40, 'none', 'rent', 1, 'management_self-employed', 1, 'none', 'yes', 0.0, 1.0, 2.0, 3.0, 0.0, 1.0, 0.0, 2.0, 0.0, 0.0, 2.0, 0.0, 0.0, [0.0, 1.0, 0.0, 3.0, 2.0, 0.0, 0.0, 2.0, 0.0, 1.0, 2.0, 0.0, 0.0, 14.0, 1310.0, 4.0, 4.0, 14.0, 40.0, 1.0, 1.0], [12.969678507830773, 7.030321492169227], [0.6484839253915387, 0.35151607460846135], 0.0, 'No Risk'], ['0_to_200', 11, 'credits_paid_to_date', 'furniture', 250, 'less_100', '4_to_7', 2, 'female', 'none', 3, 'savings_insurance', 23, 'bank', 'rent', 1, 'unemployed', 2, 'none', 'yes', 2.0, 1.0, 1.0, 0.0, 0.0, 1.0, 2.0, 3.0, 1.0, 0.0, 0.0, 1.0, 0.0, [2.0, 1.0, 1.0, 0.0, 1.0, 1.0, 0.0, 0.0, 2.0, 1.0, 3.0, 0.0, 0.0, 11.0, 250.0, 2.0, 3.0, 11.0, 23.0, 1.0, 2.0], [18.039352834129776, 1.960647165870222], [0.9019676417064889, 0.09803235829351112], 0.0, 'No Risk'], ['less_0', 10, 'prior_payments_delayed', 'furniture', 2131, 'less_100', '4_to_7', 2, 'male', 'none', 1, 'savings_insurance', 36, 'none', 'own', 1, 'skilled', 1, 'yes', 'yes', 1.0, 0.0, 1.0, 0.0, 0.0, 0.0, 0.0, 0.0, 1.0, 0.0, 0.0, 0.0, 1.0, [21, [0, 2, 4, 11, 13, 14, 15, 16, 17, 18, 19, 20], [1.0, 1.0, 1.0, 1.0, 10.0, 2131.0, 2.0, 1.0, 10.0, 36.0, 1.0, 1.0]], [16.59804505596366, 3.4019549440363415], [0.829902252798183, 0.17009774720181708], 0.0, 'No Risk'], ['no_checking', 28, 'prior_payments_delayed', 'car_used', 4491, '100_to_500', '4_to_7', 3, 'male', 'none', 4, 'car_other', 57, 'none', 'own', 1, 'management_self-employed', 1, 'yes', 'yes', 0.0, 0.0, 1.0, 1.0, 0.0, 0.0, 0.0, 2.0, 2.0, 0.0, 1.0, 0.0, 1.0, [0.0, 0.0, 2.0, 1.0, 1.0, 0.0, 0.0, 1.0, 0.0, 0.0, 2.0, 1.0, 0.0, 28.0, 4491.0, 3.0, 4.0, 28.0, 57.0, 1.0, 1.0], [8.840711832959046, 11.15928816704095], [0.4420355916479524, 0.5579644083520476], 1.0, 'Risk'], ['0_to_200', 21, 'credits_paid_to_date', 'car_used', 2573, '100_to_500', '1_to_4', 3, 'male', 'none', 2, 'real_estate', 34, 'none', 'own', 1, 'skilled', 1, 'none', 'yes', 2.0, 1.0, 0.0, 1.0, 0.0, 0.0, 0.0, 0.0, 2.0, 0.0, 2.0, 0.0, 0.0, [2.0, 1.0, 2.0, 1.0, 0.0, 0.0, 0.0, 2.0, 0.0, 0.0, 0.0, 0.0, 0.0, 21.0, 2573.0, 3.0, 2.0, 21.0, 34.0, 1.0, 1.0], [17.179710675143415, 2.820289324856587], [0.8589855337571708, 0.14101446624282934], 0.0, 'No Risk'], ['no_checking', 22, 'credits_paid_to_date', 'furniture', 2907, 'greater_1000', '4_to_7', 2, 'male', 'none', 4, 'unknown', 49, 'none', 'free', 2, 'skilled', 1, 'yes', 'yes', 0.0, 1.0, 1.0, 3.0, 0.0, 2.0, 0.0, 0.0, 1.0, 0.0, 3.0, 0.0, 1.0, [0.0, 1.0, 1.0, 3.0, 1.0, 0.0, 0.0, 3.0, 0.0, 2.0, 0.0, 1.0, 0.0, 22.0, 2907.0, 2.0, 4.0, 22.0, 49.0, 2.0, 1.0], [8.82094200028432, 11.179057999715681], [0.44104710001421604, 0.558952899985784], 1.0, 'Risk'], ['no_checking', 8, 'credits_paid_to_date', 'car_new', 3057, 'less_100', '1_to_4', 3, 'male', 'none', 3, 'savings_insurance', 41, 'none', 'own', 1, 'skilled', 1, 'yes', 'yes', 0.0, 1.0, 0.0, 0.0, 0.0, 0.0, 0.0, 0.0, 0.0, 0.0, 0.0, 0.0, 1.0, [21, [1, 11, 13, 14, 15, 16, 17, 18, 19, 20], [1.0, 1.0, 8.0, 3057.0, 3.0, 3.0, 8.0, 41.0, 1.0, 1.0]], [14.910484165738604, 5.0895158342613955], [0.7455242082869302, 0.2544757917130698], 0.0, 'No Risk'], ['less_0', 17, 'prior_payments_delayed', 'car_new', 735, '500_to_1000', '1_to_4', 2, 'female', 'none', 1, 'car_other', 34, 'bank', 'own', 1, 'unemployed', 2, 'yes', 'yes', 1.0, 0.0, 0.0, 2.0, 0.0, 0.0, 2.0, 3.0, 0.0, 0.0, 1.0, 1.0, 1.0, [1.0, 0.0, 0.0, 2.0, 0.0, 1.0, 0.0, 1.0, 2.0, 0.0, 3.0, 1.0, 0.0, 17.0, 735.0, 2.0, 1.0, 17.0, 34.0, 1.0, 2.0], [16.35482931128791, 3.6451706887120903], [0.8177414655643955, 0.18225853443560452], 0.0, 'No Risk'], ['less_0', 24, 'prior_payments_delayed', 'car_used', 1067, 'less_100', '1_to_4', 1, 'female', 'none', 1, 'car_other', 35, 'stores', 'rent', 1, 'skilled', 1, 'none', 'yes', 1.0, 0.0, 0.0, 0.0, 0.0, 1.0, 1.0, 0.0, 2.0, 0.0, 1.0, 1.0, 0.0, [1.0, 0.0, 2.0, 0.0, 0.0, 1.0, 0.0, 1.0, 1.0, 1.0, 0.0, 0.0, 0.0, 24.0, 1067.0, 1.0, 1.0, 24.0, 35.0, 1.0, 1.0], [15.875174446240656, 4.1248255537593455], [0.7937587223120328, 0.20624127768796727], 0.0, 'No Risk'], ['0_to_200', 28, 'credits_paid_to_date', 'appliances', 2796, 'greater_1000', 'greater_7', 4, 'male', 'co-applicant', 3, 'savings_insurance', 42, 'stores', 'own', 2, 'unskilled', 1, 'none', 'yes', 2.0, 1.0, 2.0, 3.0, 0.0, 0.0, 1.0, 1.0, 4.0, 1.0, 0.0, 0.0, 0.0, [2.0, 1.0, 4.0, 3.0, 2.0, 0.0, 1.0, 0.0, 1.0, 0.0, 1.0, 0.0, 0.0, 28.0, 2796.0, 4.0, 3.0, 28.0, 42.0, 2.0, 1.0], [12.136699546674128, 7.863300453325871], [0.6068349773337064, 0.39316502266629355], 0.0, 'No Risk'], ['no_checking', 38, 'prior_payments_delayed', 'appliances', 6499, '500_to_1000', 'greater_7', 5, 'male', 'co-applicant', 4, 'savings_insurance', 45, 'none', 'free', 2, 'skilled', 2, 'yes', 'yes', 0.0, 0.0, 2.0, 2.0, 0.0, 2.0, 0.0, 0.0, 4.0, 1.0, 0.0, 0.0, 1.0, [0.0, 0.0, 4.0, 2.0, 2.0, 0.0, 1.0, 0.0, 0.0, 2.0, 0.0, 1.0, 0.0, 38.0, 6499.0, 5.0, 4.0, 38.0, 45.0, 2.0, 2.0], [4.19204566745536, 15.80795433254464], [0.20960228337276798, 0.790397716627232], 1.0, 'Risk'], ['0_to_200', 27, 'credits_paid_to_date', 'radio_tv', 3983, 'less_100', '4_to_7', 4, 'male', 'none', 4, 'car_other', 38, 'none', 'own', 1, 'skilled', 1, 'none', 'yes', 2.0, 1.0, 1.0, 0.0, 0.0, 0.0, 0.0, 0.0, 3.0, 0.0, 1.0, 0.0, 0.0, [2.0, 1.0, 3.0, 0.0, 1.0, 0.0, 0.0, 1.0, 0.0, 0.0, 0.0, 0.0, 0.0, 27.0, 3983.0, 4.0, 4.0, 27.0, 38.0, 1.0, 1.0], [13.089662833713147, 6.91033716628685], [0.6544831416856575, 0.3455168583143426], 0.0, 'No Risk'], ['no_checking', 33, 'outstanding_credit', 'repairs', 5716, '500_to_1000', '4_to_7', 4, 'male', 'none', 4, 'car_other', 51, 'none', 'own', 2, 'skilled', 1, 'yes', 'yes', 0.0, 2.0, 1.0, 2.0, 0.0, 0.0, 0.0, 0.0, 5.0, 0.0, 1.0, 0.0, 1.0, [0.0, 2.0, 5.0, 2.0, 1.0, 0.0, 0.0, 1.0, 0.0, 0.0, 0.0, 1.0, 0.0, 33.0, 5716.0, 4.0, 4.0, 33.0, 51.0, 2.0, 1.0], [9.014892905729178, 10.985107094270818], [0.450744645286459, 0.549255354713541], 1.0, 'Risk'], ['0_to_200', 20, 'prior_payments_delayed', 'car_used', 3668, '100_to_500', 'greater_7', 3, 'male', 'none', 2, 'savings_insurance', 42, 'none', 'own', 1, 'skilled', 1, 'yes', 'yes', 2.0, 0.0, 2.0, 1.0, 0.0, 0.0, 0.0, 0.0, 2.0, 0.0, 0.0, 0.0, 1.0, [2.0, 0.0, 2.0, 1.0, 2.0, 0.0, 0.0, 0.0, 0.0, 0.0, 0.0, 1.0, 0.0, 20.0, 3668.0, 3.0, 2.0, 20.0, 42.0, 1.0, 1.0], [13.954653058296323, 6.045346941703678], [0.6977326529148161, 0.3022673470851839], 0.0, 'No Risk'], ['less_0', 21, 'credits_paid_to_date', 'car_new', 1695, '100_to_500', '1_to_4', 2, 'male', 'co-applicant', 2, 'real_estate', 45, 'stores', 'own', 2, 'skilled', 1, 'yes', 'yes', 1.0, 1.0, 0.0, 1.0, 0.0, 0.0, 1.0, 0.0, 0.0, 1.0, 2.0, 0.0, 1.0, [1.0, 1.0, 0.0, 1.0, 0.0, 0.0, 1.0, 2.0, 1.0, 0.0, 0.0, 1.0, 0.0, 21.0, 1695.0, 2.0, 2.0, 21.0, 45.0, 2.0, 1.0], [14.208846479282986, 5.791153520717015], [0.7104423239641493, 0.28955767603585075], 0.0, 'No Risk'], ['0_to_200', 24, 'credits_paid_to_date', 'furniture', 3391, 'less_100', '1_to_4', 3, 'male', 'none', 3, 'savings_insurance', 19, 'none', 'own', 2, 'management_self-employed', 1, 'none', 'yes', 2.0, 1.0, 0.0, 0.0, 0.0, 0.0, 0.0, 2.0, 1.0, 0.0, 0.0, 0.0, 0.0, [21, [0, 1, 2, 10, 13, 14, 15, 16, 17, 18, 19, 20], [2.0, 1.0, 1.0, 2.0, 24.0, 3391.0, 3.0, 3.0, 24.0, 19.0, 2.0, 1.0]], [14.264990480021153, 5.735009519978846], [0.7132495240010577, 0.28675047599894227], 0.0, 'No Risk'], ['no_checking', 35, 'prior_payments_delayed', 'repairs', 6364, '500_to_1000', 'greater_7', 3, 'male', 'co-applicant', 3, 'savings_insurance', 38, 'none', 'own', 2, 'skilled', 2, 'yes', 'yes', 0.0, 0.0, 2.0, 2.0, 0.0, 0.0, 0.0, 0.0, 5.0, 1.0, 0.0, 0.0, 1.0, [0.0, 0.0, 5.0, 2.0, 2.0, 0.0, 1.0, 0.0, 0.0, 0.0, 0.0, 1.0, 0.0, 35.0, 6364.0, 3.0, 3.0, 35.0, 38.0, 2.0, 2.0], [6.267119217808804, 13.732880782191199], [0.31335596089044015, 0.6866440391095598], 1.0, 'Risk'], ['no_checking', 37, 'outstanding_credit', 'radio_tv', 6287, 'unknown', '4_to_7', 4, 'female', 'none', 3, 'unknown', 56, 'none', 'own', 2, 'skilled', 1, 'yes', 'yes', 0.0, 2.0, 1.0, 4.0, 0.0, 0.0, 0.0, 0.0, 3.0, 0.0, 3.0, 1.0, 1.0, [0.0, 2.0, 3.0, 4.0, 1.0, 1.0, 0.0, 3.0, 0.0, 0.0, 0.0, 1.0, 0.0, 37.0, 6287.0, 4.0, 3.0, 37.0, 56.0, 2.0, 1.0], [4.646217409566839, 15.353782590433163], [0.23231087047834195, 0.7676891295216581], 1.0, 'Risk'], ['less_0', 15, 'credits_paid_to_date', 'car_new', 1763, 'less_100', '4_to_7', 3, 'male', 'none', 3, 'real_estate', 25, 'none', 'own', 1, 'skilled', 1, 'none', 'yes', 1.0, 1.0, 1.0, 0.0, 0.0, 0.0, 0.0, 0.0, 0.0, 0.0, 2.0, 0.0, 0.0, [21, [0, 1, 4, 7, 13, 14, 15, 16, 17, 18, 19, 20], [1.0, 1.0, 1.0, 2.0, 15.0, 1763.0, 3.0, 3.0, 15.0, 25.0, 1.0, 1.0]], [17.949010034788525, 2.0509899652114734], [0.8974505017394263, 0.10254949826057366], 0.0, 'No Risk'], ['0_to_200', 18, 'credits_paid_to_date', 'retraining', 250, '500_to_1000', '1_to_4', 3, 'male', 'none', 2, 'real_estate', 32, 'bank', 'rent', 1, 'unskilled', 1, 'none', 'yes', 2.0, 1.0, 0.0, 2.0, 0.0, 1.0, 2.0, 1.0, 8.0, 0.0, 2.0, 0.0, 0.0, [2.0, 1.0, 8.0, 2.0, 0.0, 0.0, 0.0, 2.0, 2.0, 1.0, 1.0, 0.0, 0.0, 18.0, 250.0, 3.0, 2.0, 18.0, 32.0, 1.0, 1.0], [18.21673535125137, 1.7832646487486328], [0.9108367675625683, 0.08916323243743163], 0.0, 'No Risk'], ['0_to_200', 20, 'prior_payments_delayed', 'business', 5269, 'less_100', '4_to_7', 4, 'female', 'none', 2, 'savings_insurance', 40, 'none', 'own', 1, 'skilled', 1, 'yes', 'yes', 2.0, 0.0, 1.0, 0.0, 0.0, 0.0, 0.0, 0.0, 9.0, 0.0, 0.0, 1.0, 1.0, [2.0, 0.0, 9.0, 0.0, 1.0, 1.0, 0.0, 0.0, 0.0, 0.0, 0.0, 1.0, 0.0, 20.0, 5269.0, 4.0, 2.0, 20.0, 40.0, 1.0, 1.0], [14.016580494947988, 5.983419505052008], [0.7008290247473995, 0.29917097525260045], 0.0, 'No Risk'], ['0_to_200', 4, 'all_credits_paid_back', 'car_new', 250, 'less_100', 'less_1', 1, 'female', 'none', 1, 'real_estate', 19, 'none', 'rent', 1, 'skilled', 1, 'none', 'yes', 2.0, 3.0, 3.0, 0.0, 0.0, 1.0, 0.0, 0.0, 0.0, 0.0, 2.0, 1.0, 0.0, [2.0, 3.0, 0.0, 0.0, 3.0, 1.0, 0.0, 2.0, 0.0, 1.0, 0.0, 0.0, 0.0, 4.0, 250.0, 1.0, 1.0, 4.0, 19.0, 1.0, 1.0], [19.569305393913247, 0.43069460608675353], [0.9784652696956624, 0.021534730304337675], 0.0, 'No Risk'], ['less_0', 31, 'credits_paid_to_date', 'car_used', 1035, '500_to_1000', '1_to_4', 3, 'female', 'none', 1, 'savings_insurance', 32, 'bank', 'rent', 2, 'unemployed', 1, 'none', 'yes', 1.0, 1.0, 0.0, 2.0, 0.0, 1.0, 2.0, 3.0, 2.0, 0.0, 0.0, 1.0, 0.0, [1.0, 1.0, 2.0, 2.0, 0.0, 1.0, 0.0, 0.0, 2.0, 1.0, 3.0, 0.0, 0.0, 31.0, 1035.0, 3.0, 1.0, 31.0, 32.0, 2.0, 1.0], [15.428348060113109, 4.57165193988689], [0.7714174030056554, 0.22858259699434452], 0.0, 'No Risk'], ['no_checking', 25, 'outstanding_credit', 'business', 6381, '500_to_1000', '1_to_4', 3, 'male', 'guarantor', 5, 'unknown', 51, 'none', 'free', 2, 'skilled', 1, 'yes', 'yes', 0.0, 2.0, 0.0, 2.0, 0.0, 2.0, 0.0, 0.0, 9.0, 2.0, 3.0, 0.0, 1.0, [0.0, 2.0, 9.0, 2.0, 0.0, 0.0, 2.0, 3.0, 0.0, 2.0, 0.0, 1.0, 0.0, 25.0, 6381.0, 3.0, 5.0, 25.0, 51.0, 2.0, 1.0], [6.61506888240281, 13.384931117597187], [0.33075344412014057, 0.6692465558798595], 1.0, 'Risk'], ['less_0', 7, 'all_credits_paid_back', 'car_used', 250, '100_to_500', '1_to_4', 2, 'male', 'none', 2, 'real_estate', 19, 'none', 'rent', 1, 'skilled', 1, 'none', 'yes', 1.0, 3.0, 0.0, 1.0, 0.0, 1.0, 0.0, 0.0, 2.0, 0.0, 2.0, 0.0, 0.0, [1.0, 3.0, 2.0, 1.0, 0.0, 0.0, 0.0, 2.0, 0.0, 1.0, 0.0, 0.0, 0.0, 7.0, 250.0, 2.0, 2.0, 7.0, 19.0, 1.0, 1.0], [19.27169590194453, 0.7283040980554711], [0.9635847950972265, 0.03641520490277356], 0.0, 'No Risk'], ['0_to_200', 20, 'credits_paid_to_date', 'car_new', 4539, 'less_100', 'less_1', 3, 'female', 'none', 3, 'car_other', 30, 'none', 'rent', 1, 'skilled', 1, 'none', 'yes', 2.0, 1.0, 3.0, 0.0, 0.0, 1.0, 0.0, 0.0, 0.0, 0.0, 1.0, 1.0, 0.0, [2.0, 1.0, 0.0, 0.0, 3.0, 1.0, 0.0, 1.0, 0.0, 1.0, 0.0, 0.0, 0.0, 20.0, 4539.0, 3.0, 3.0, 20.0, 30.0, 1.0, 1.0], [16.213680759268215, 3.786319240731787], [0.8106840379634107, 0.18931596203658935], 0.0, 'No Risk'], ['no_checking', 17, 'prior_payments_delayed', 'retraining', 2760, 'greater_1000', 'greater_7', 3, 'male', 'none', 3, 'car_other', 47, 'none', 'own', 2, 'skilled', 1, 'none', 'yes', 0.0, 0.0, 2.0, 3.0, 0.0, 0.0, 0.0, 0.0, 8.0, 0.0, 1.0, 0.0, 0.0, [21, [2, 3, 4, 7, 13, 14, 15, 16, 17, 18, 19, 20], [8.0, 3.0, 2.0, 1.0, 17.0, 2760.0, 3.0, 3.0, 17.0, 47.0, 2.0, 1.0]], [10.758917354654155, 9.241082645345845], [0.5379458677327078, 0.46205413226729225], 0.0, 'No Risk'], ['no_checking', 9, 'credits_paid_to_date', 'car_used', 4964, 'less_100', '4_to_7', 4, 'male', 'guarantor', 3, 'car_other', 49, 'none', 'free', 2, 'skilled', 1, 'yes', 'yes', 0.0, 1.0, 1.0, 0.0, 0.0, 2.0, 0.0, 0.0, 2.0, 2.0, 1.0, 0.0, 1.0, [0.0, 1.0, 2.0, 0.0, 1.0, 0.0, 2.0, 1.0, 0.0, 2.0, 0.0, 1.0, 0.0, 9.0, 4964.0, 4.0, 3.0, 9.0, 49.0, 2.0, 1.0], [7.777529543159413, 12.222470456840586], [0.38887647715797063, 0.6111235228420293], 1.0, 'Risk'], ['0_to_200', 17, 'credits_paid_to_date', 'car_used', 3404, 'less_100', 'less_1', 2, 'female', 'none', 2, 'savings_insurance', 36, 'none', 'own', 1, 'skilled', 2, 'none', 'yes', 2.0, 1.0, 3.0, 0.0, 0.0, 0.0, 0.0, 0.0, 2.0, 0.0, 0.0, 1.0, 0.0, [2.0, 1.0, 2.0, 0.0, 3.0, 1.0, 0.0, 0.0, 0.0, 0.0, 0.0, 0.0, 0.0, 17.0, 3404.0, 2.0, 2.0, 17.0, 36.0, 1.0, 2.0], [16.677548013815258, 3.322451986184745], [0.8338774006907628, 0.16612259930923723], 0.0, 'No Risk'], ['less_0', 18, 'prior_payments_delayed', 'furniture', 5056, 'less_100', '4_to_7', 3, 'male', 'none', 3, 'car_other', 33, 'none', 'own', 1, 'skilled', 1, 'yes', 'yes', 1.0, 0.0, 1.0, 0.0, 0.0, 0.0, 0.0, 0.0, 1.0, 0.0, 1.0, 0.0, 1.0, [1.0, 0.0, 1.0, 0.0, 1.0, 0.0, 0.0, 1.0, 0.0, 0.0, 0.0, 1.0, 0.0, 18.0, 5056.0, 3.0, 3.0, 18.0, 33.0, 1.0, 1.0], [14.37483844903833, 5.6251615509616695], [0.7187419224519165, 0.28125807754808346], 0.0, 'No Risk'], ['less_0', 17, 'credits_paid_to_date', 'furniture', 1779, 'less_100', '1_to_4', 2, 'female', 'none', 2, 'savings_insurance', 28, 'stores', 'rent', 1, 'skilled', 1, 'none', 'yes', 1.0, 1.0, 0.0, 0.0, 0.0, 1.0, 1.0, 0.0, 1.0, 0.0, 0.0, 1.0, 0.0, [1.0, 1.0, 1.0, 0.0, 0.0, 1.0, 0.0, 0.0, 1.0, 1.0, 0.0, 0.0, 0.0, 17.0, 1779.0, 2.0, 2.0, 17.0, 28.0, 1.0, 1.0], [18.299123557793894, 1.7008764422061031], [0.9149561778896949, 0.08504382211030517], 0.0, 'No Risk'], ['no_checking', 8, 'prior_payments_delayed', 'car_new', 2548, '100_to_500', '4_to_7', 4, 'male', 'none', 4, 'savings_insurance', 41, 'none', 'own', 1, 'management_self-employed', 1, 'yes', 'yes', 0.0, 0.0, 1.0, 1.0, 0.0, 0.0, 0.0, 2.0, 0.0, 0.0, 0.0, 0.0, 1.0, [21, [3, 4, 10, 11, 13, 14, 15, 16, 17, 18, 19, 20], [1.0, 1.0, 2.0, 1.0, 8.0, 2548.0, 4.0, 4.0, 8.0, 41.0, 1.0, 1.0]], [12.437610092307686, 7.562389907692309], [0.6218805046153845, 0.37811949538461553], 0.0, 'No Risk'], ['less_0', 21, 'prior_payments_delayed', 'furniture', 1620, '100_to_500', '1_to_4', 2, 'male', 'none', 1, 'savings_insurance', 33, 'stores', 'own', 1, 'skilled', 1, 'yes', 'yes', 1.0, 0.0, 0.0, 1.0, 0.0, 0.0, 1.0, 0.0, 1.0, 0.0, 0.0, 0.0, 1.0, [1.0, 0.0, 1.0, 1.0, 0.0, 0.0, 0.0, 0.0, 1.0, 0.0, 0.0, 1.0, 0.0, 21.0, 1620.0, 2.0, 1.0, 21.0, 33.0, 1.0, 1.0], [16.081206949413136, 3.918793050586866], [0.8040603474706567, 0.19593965252934326], 0.0, 'No Risk'], ['0_to_200', 19, 'prior_payments_delayed', 'car_used', 3654, '100_to_500', 'less_1', 2, 'female', 'none', 2, 'savings_insurance', 31, 'stores', 'own', 2, 'skilled', 1, 'none', 'yes', 2.0, 0.0, 3.0, 1.0, 0.0, 0.0, 1.0, 0.0, 2.0, 0.0, 0.0, 1.0, 0.0, [2.0, 0.0, 2.0, 1.0, 3.0, 1.0, 0.0, 0.0, 1.0, 0.0, 0.0, 0.0, 0.0, 19.0, 3654.0, 2.0, 2.0, 19.0, 31.0, 2.0, 1.0], [16.191632678314264, 3.8083673216857368], [0.8095816339157131, 0.19041836608428683], 0.0, 'No Risk'], ['less_0', 22, 'prior_payments_delayed', 'radio_tv', 6344, 'less_100', 'greater_7', 4, 'male', 'none', 3, 'car_other', 52, 'none', 'own', 2, 'skilled', 1, 'none', 'yes', 1.0, 0.0, 2.0, 0.0, 0.0, 0.0, 0.0, 0.0, 3.0, 0.0, 1.0, 0.0, 0.0, [21, [0, 2, 4, 7, 13, 14, 15, 16, 17, 18, 19, 20], [1.0, 3.0, 2.0, 1.0, 22.0, 6344.0, 4.0, 3.0, 22.0, 52.0, 2.0, 1.0]], [12.08065320198224, 7.91934679801776], [0.604032660099112, 0.395967339900888], 0.0, 'No Risk'], ['0_to_200', 30, 'prior_payments_delayed', 'radio_tv', 3491, '100_to_500', '1_to_4', 3, 'male', 'none', 2, 'car_other', 33, 'none', 'free', 1, 'skilled', 1, 'none', 'yes', 2.0, 0.0, 0.0, 1.0, 0.0, 2.0, 0.0, 0.0, 3.0, 0.0, 1.0, 0.0, 0.0, [2.0, 0.0, 3.0, 1.0, 0.0, 0.0, 0.0, 1.0, 0.0, 2.0, 0.0, 0.0, 0.0, 30.0, 3491.0, 3.0, 2.0, 30.0, 33.0, 1.0, 1.0], [13.949394088233564, 6.050605911766438], [0.6974697044116781, 0.30253029558832184], 0.0, 'No Risk'], ['0_to_200', 14, 'all_credits_paid_back', 'furniture', 1017, '100_to_500', '1_to_4', 2, 'female', 'none', 3, 'savings_insurance', 29, 'stores', 'own', 1, 'skilled', 1, 'none', 'yes', 2.0, 3.0, 0.0, 1.0, 0.0, 0.0, 1.0, 0.0, 1.0, 0.0, 0.0, 1.0, 0.0, [2.0, 3.0, 1.0, 1.0, 0.0, 1.0, 0.0, 0.0, 1.0, 0.0, 0.0, 0.0, 0.0, 14.0, 1017.0, 2.0, 3.0, 14.0, 29.0, 1.0, 1.0], [17.869087524200754, 2.130912475799243], [0.8934543762100379, 0.10654562378996217], 0.0, 'No Risk'], ['greater_200', 15, 'prior_payments_delayed', 'radio_tv', 4867, '100_to_500', '1_to_4', 3, 'male', 'none', 3, 'car_other', 33, 'none', 'free', 2, 'skilled', 1, 'yes', 'yes', 3.0, 0.0, 0.0, 1.0, 0.0, 2.0, 0.0, 0.0, 3.0, 0.0, 1.0, 0.0, 1.0, [3.0, 0.0, 3.0, 1.0, 0.0, 0.0, 0.0, 1.0, 0.0, 2.0, 0.0, 1.0, 0.0, 15.0, 4867.0, 3.0, 3.0, 15.0, 33.0, 2.0, 1.0], [14.14656432340987, 5.853435676590127], [0.7073282161704936, 0.2926717838295064], 0.0, 'No Risk'], ['greater_200', 27, 'outstanding_credit', 'radio_tv', 5960, '500_to_1000', 'greater_7', 4, 'male', 'guarantor', 3, 'car_other', 53, 'none', 'free', 2, 'skilled', 1, 'yes', 'yes', 3.0, 2.0, 2.0, 2.0, 0.0, 2.0, 0.0, 0.0, 3.0, 2.0, 1.0, 0.0, 1.0, [3.0, 2.0, 3.0, 2.0, 2.0, 0.0, 2.0, 1.0, 0.0, 2.0, 0.0, 1.0, 0.0, 27.0, 5960.0, 4.0, 3.0, 27.0, 53.0, 2.0, 1.0], [7.359054731427766, 12.640945268572235], [0.3679527365713883, 0.6320472634286117], 1.0, 'Risk'], ['no_checking', 16, 'credits_paid_to_date', 'car_used', 4611, '100_to_500', '1_to_4', 2, 'female', 'none', 3, 'car_other', 38, 'none', 'own', 1, 'skilled', 1, 'none', 'yes', 0.0, 1.0, 0.0, 1.0, 0.0, 0.0, 0.0, 0.0, 2.0, 0.0, 1.0, 1.0, 0.0, [0.0, 1.0, 2.0, 1.0, 0.0, 1.0, 0.0, 1.0, 0.0, 0.0, 0.0, 0.0, 0.0, 16.0, 4611.0, 2.0, 3.0, 16.0, 38.0, 1.0, 1.0], [13.289471087571544, 6.710528912428458], [0.6644735543785771, 0.3355264456214229], 0.0, 'No Risk'], ['0_to_200', 9, 'all_credits_paid_back', 'vacation', 1470, '500_to_1000', 'less_1', 3, 'female', 'none', 2, 'savings_insurance', 20, 'none', 'rent', 1, 'skilled', 1, 'none', 'yes', 2.0, 3.0, 3.0, 2.0, 0.0, 1.0, 0.0, 0.0, 6.0, 0.0, 0.0, 1.0, 0.0, [2.0, 3.0, 6.0, 2.0, 3.0, 1.0, 0.0, 0.0, 0.0, 1.0, 0.0, 0.0, 0.0, 9.0, 1470.0, 3.0, 2.0, 9.0, 20.0, 1.0, 1.0], [19.2871649834489, 0.7128350165511009], [0.964358249172445, 0.035641750827555045], 0.0, 'No Risk'], ['less_0', 10, 'prior_payments_delayed', 'car_used', 250, 'less_100', '4_to_7', 3, 'male', 'none', 2, 'real_estate', 20, 'stores', 'own', 1, 'unskilled', 1, 'none', 'yes', 1.0, 0.0, 1.0, 0.0, 0.0, 0.0, 1.0, 1.0, 2.0, 0.0, 2.0, 0.0, 0.0, [1.0, 0.0, 2.0, 0.0, 1.0, 0.0, 0.0, 2.0, 1.0, 0.0, 1.0, 0.0, 0.0, 10.0, 250.0, 3.0, 2.0, 10.0, 20.0, 1.0, 1.0], [18.637709498937184, 1.3622905010628152], [0.9318854749468592, 0.06811452505314076], 0.0, 'No Risk'], ['0_to_200', 4, 'all_credits_paid_back', 'car_new', 2120, 'less_100', 'less_1', 2, 'female', 'none', 2, 'savings_insurance', 20, 'none', 'own', 1, 'management_self-employed', 1, 'none', 'yes', 2.0, 3.0, 3.0, 0.0, 0.0, 0.0, 0.0, 2.0, 0.0, 0.0, 0.0, 1.0, 0.0, [2.0, 3.0, 0.0, 0.0, 3.0, 1.0, 0.0, 0.0, 0.0, 0.0, 2.0, 0.0, 0.0, 4.0, 2120.0, 2.0, 2.0, 4.0, 20.0, 1.0, 1.0], [19.279929872231488, 0.720070127768513], [0.9639964936115744, 0.03600350638842565], 0.0, 'No Risk'], ['no_checking', 8, 'prior_payments_delayed', 'car_used', 1144, '100_to_500', 'greater_7', 2, 'male', 'none', 3, 'real_estate', 38, 'none', 'own', 2, 'skilled', 1, 'yes', 'yes', 0.0, 0.0, 2.0, 1.0, 0.0, 0.0, 0.0, 0.0, 2.0, 0.0, 2.0, 0.0, 1.0, [0.0, 0.0, 2.0, 1.0, 2.0, 0.0, 0.0, 2.0, 0.0, 0.0, 0.0, 1.0, 0.0, 8.0, 1144.0, 2.0, 3.0, 8.0, 38.0, 2.0, 1.0], [11.972935845564704, 8.027064154435292], [0.5986467922782354, 0.4013532077217647], 0.0, 'No Risk'], ['no_checking', 41, 'prior_payments_delayed', 'radio_tv', 5345, 'unknown', 'greater_7', 3, 'male', 'co-applicant', 2, 'car_other', 52, 'stores', 'own', 3, 'unskilled', 2, 'yes', 'yes', 0.0, 0.0, 2.0, 4.0, 0.0, 0.0, 1.0, 1.0, 3.0, 1.0, 1.0, 0.0, 1.0, [0.0, 0.0, 3.0, 4.0, 2.0, 0.0, 1.0, 1.0, 1.0, 0.0, 1.0, 1.0, 0.0, 41.0, 5345.0, 3.0, 2.0, 41.0, 52.0, 3.0, 2.0], [4.676720188899884, 15.323279811100116], [0.2338360094449942, 0.7661639905550058], 1.0, 'Risk'], ['less_0', 15, 'credits_paid_to_date', 'retraining', 250, 'less_100', '1_to_4', 3, 'female', 'none', 3, 'real_estate', 23, 'none', 'own', 1, 'skilled', 1, 'none', 'yes', 1.0, 1.0, 0.0, 0.0, 0.0, 0.0, 0.0, 0.0, 8.0, 0.0, 2.0, 1.0, 0.0, [1.0, 1.0, 8.0, 0.0, 0.0, 1.0, 0.0, 2.0, 0.0, 0.0, 0.0, 0.0, 0.0, 15.0, 250.0, 3.0, 3.0, 15.0, 23.0, 1.0, 1.0], [18.405141644610897, 1.5948583553891023], [0.9202570822305448, 0.07974291776945511], 0.0, 'No Risk'], ['no_checking', 26, 'outstanding_credit', 'appliances', 2417, '500_to_1000', 'greater_7', 4, 'male', 'none', 5, 'savings_insurance', 44, 'none', 'own', 2, 'management_self-employed', 1, 'yes', 'yes', 0.0, 2.0, 2.0, 2.0, 0.0, 0.0, 0.0, 2.0, 4.0, 0.0, 0.0, 0.0, 1.0, [0.0, 2.0, 4.0, 2.0, 2.0, 0.0, 0.0, 0.0, 0.0, 0.0, 2.0, 1.0, 0.0, 26.0, 2417.0, 4.0, 5.0, 26.0, 44.0, 2.0, 1.0], [10.124115180367788, 9.87588481963221], [0.5062057590183894, 0.4937942409816105], 0.0, 'No Risk'], ['no_checking', 31, 'prior_payments_delayed', 'car_used', 5217, 'unknown', '1_to_4', 4, 'male', 'none', 3, 'savings_insurance', 44, 'none', 'own', 2, 'skilled', 1, 'yes', 'yes', 0.0, 0.0, 0.0, 4.0, 0.0, 0.0, 0.0, 0.0, 2.0, 0.0, 0.0, 0.0, 1.0, [21, [2, 3, 11, 13, 14, 15, 16, 17, 18, 19, 20], [2.0, 4.0, 1.0, 31.0, 5217.0, 4.0, 3.0, 31.0, 44.0, 2.0, 1.0]], [12.264787909174963, 7.735212090825035], [0.6132393954587482, 0.3867606045412518], 0.0, 'No Risk'], ['greater_200', 19, 'outstanding_credit', 'radio_tv', 3648, '500_to_1000', '4_to_7', 4, 'male', 'none', 3, 'car_other', 46, 'none', 'own', 1, 'management_self-employed', 1, 'none', 'yes', 3.0, 2.0, 1.0, 2.0, 0.0, 0.0, 0.0, 2.0, 3.0, 0.0, 1.0, 0.0, 0.0, [3.0, 2.0, 3.0, 2.0, 1.0, 0.0, 0.0, 1.0, 0.0, 0.0, 2.0, 0.0, 0.0, 19.0, 3648.0, 4.0, 3.0, 19.0, 46.0, 1.0, 1.0], [12.484050107547572, 7.51594989245243], [0.6242025053773785, 0.37579749462262146], 0.0, 'No Risk'], ['0_to_200', 15, 'credits_paid_to_date', 'car_new', 2318, 'less_100', 'less_1', 3, 'male', 'none', 3, 'savings_insurance', 29, 'none', 'own', 1, 'skilled', 1, 'none', 'yes', 2.0, 1.0, 3.0, 0.0, 0.0, 0.0, 0.0, 0.0, 0.0, 0.0, 0.0, 0.0, 0.0, [21, [0, 1, 4, 13, 14, 15, 16, 17, 18, 19, 20], [2.0, 1.0, 3.0, 15.0, 2318.0, 3.0, 3.0, 15.0, 29.0, 1.0, 1.0]], [18.56823059053177, 1.4317694094682332], [0.9284115295265883, 0.07158847047341164], 0.0, 'No Risk'], ['less_0', 4, 'all_credits_paid_back', 'car_new', 250, 'less_100', 'less_1', 1, 'male', 'none', 2, 'real_estate', 24, 'stores', 'rent', 1, 'skilled', 1, 'none', 'yes', 1.0, 3.0, 3.0, 0.0, 0.0, 1.0, 1.0, 0.0, 0.0, 0.0, 2.0, 0.0, 0.0, [1.0, 3.0, 0.0, 0.0, 3.0, 0.0, 0.0, 2.0, 1.0, 1.0, 0.0, 0.0, 0.0, 4.0, 250.0, 1.0, 2.0, 4.0, 24.0, 1.0, 1.0], [19.489084600281362, 0.5109153997186346], [0.9744542300140683, 0.02554576998593174], 0.0, 'No Risk'], ['no_checking', 15, 'credits_paid_to_date', 'retraining', 2463, 'less_100', '1_to_4', 2, 'female', 'none', 2, 'real_estate', 38, 'bank', 'own', 1, 'unskilled', 1, 'yes', 'yes', 0.0, 1.0, 0.0, 0.0, 0.0, 0.0, 2.0, 1.0, 8.0, 0.0, 2.0, 1.0, 1.0, [0.0, 1.0, 8.0, 0.0, 0.0, 1.0, 0.0, 2.0, 2.0, 0.0, 1.0, 1.0, 0.0, 15.0, 2463.0, 2.0, 2.0, 15.0, 38.0, 1.0, 1.0], [16.002146359335768, 3.9978536406642324], [0.8001073179667884, 0.19989268203321162], 0.0, 'No Risk'], ['less_0', 16, 'credits_paid_to_date', 'furniture', 250, '500_to_1000', '4_to_7', 3, 'male', 'none', 3, 'savings_insurance', 23, 'stores', 'rent', 1, 'skilled', 1, 'none', 'yes', 1.0, 1.0, 1.0, 2.0, 0.0, 1.0, 1.0, 0.0, 1.0, 0.0, 0.0, 0.0, 0.0, [1.0, 1.0, 1.0, 2.0, 1.0, 0.0, 0.0, 0.0, 1.0, 1.0, 0.0, 0.0, 0.0, 16.0, 250.0, 3.0, 3.0, 16.0, 23.0, 1.0, 1.0], [17.51049990568723, 2.489500094312771], [0.8755249952843615, 0.12447500471563855], 0.0, 'No Risk'], ['no_checking', 21, 'outstanding_credit', 'radio_tv', 8119, '100_to_500', '1_to_4', 4, 'male', 'guarantor', 5, 'unknown', 45, 'none', 'free', 1, 'management_self-employed', 1, 'yes', 'yes', 0.0, 2.0, 0.0, 1.0, 0.0, 2.0, 0.0, 2.0, 3.0, 2.0, 3.0, 0.0, 1.0, [0.0, 2.0, 3.0, 1.0, 0.0, 0.0, 2.0, 3.0, 0.0, 2.0, 2.0, 1.0, 0.0, 21.0, 8119.0, 4.0, 5.0, 21.0, 45.0, 1.0, 1.0], [9.727338410790194, 10.272661589209806], [0.4863669205395097, 0.5136330794604903], 1.0, 'Risk'], ['less_0', 4, 'prior_payments_delayed', 'car_used', 250, 'less_100', 'unemployed', 1, 'female', 'none', 2, 'savings_insurance', 24, 'none', 'rent', 1, 'skilled', 1, 'none', 'yes', 1.0, 0.0, 4.0, 0.0, 0.0, 1.0, 0.0, 0.0, 2.0, 0.0, 0.0, 1.0, 0.0, [1.0, 0.0, 2.0, 0.0, 4.0, 1.0, 0.0, 0.0, 0.0, 1.0, 0.0, 0.0, 0.0, 4.0, 250.0, 1.0, 2.0, 4.0, 24.0, 1.0, 1.0], [19.066665015828335, 0.933334984171667], [0.9533332507914167, 0.04666674920858335], 0.0, 'No Risk'], ['no_checking', 38, 'outstanding_credit', 'other', 6168, 'greater_1000', 'greater_7', 4, 'male', 'co-applicant', 3, 'unknown', 48, 'none', 'free', 2, 'skilled', 1, 'yes', 'yes', 0.0, 2.0, 2.0, 3.0, 0.0, 2.0, 0.0, 0.0, 10.0, 1.0, 3.0, 0.0, 1.0, [0.0, 2.0, 10.0, 3.0, 2.0, 0.0, 1.0, 3.0, 0.0, 2.0, 0.0, 1.0, 0.0, 38.0, 6168.0, 4.0, 3.0, 38.0, 48.0, 2.0, 1.0], [1.8707101905169206, 18.129289809483076], [0.09353550952584605, 0.906464490474154], 1.0, 'Risk'], ['greater_200', 23, 'credits_paid_to_date', 'radio_tv', 6072, 'less_100', '1_to_4', 2, 'male', 'none', 3, 'car_other', 43, 'none', 'own', 2, 'management_self-employed', 1, 'yes', 'yes', 3.0, 1.0, 0.0, 0.0, 0.0, 0.0, 0.0, 2.0, 3.0, 0.0, 1.0, 0.0, 1.0, [3.0, 1.0, 3.0, 0.0, 0.0, 0.0, 0.0, 1.0, 0.0, 0.0, 2.0, 1.0, 0.0, 23.0, 6072.0, 2.0, 3.0, 23.0, 43.0, 2.0, 1.0], [12.7391717022192, 7.260828297780796], [0.6369585851109602, 0.36304141488903985], 0.0, 'No Risk'], ['no_checking', 29, 'outstanding_credit', 'appliances', 5624, '500_to_1000', '4_to_7', 4, 'male', 'none', 4, 'savings_insurance', 47, 'none', 'own', 2, 'skilled', 2, 'yes', 'yes', 0.0, 2.0, 1.0, 2.0, 0.0, 0.0, 0.0, 0.0, 4.0, 0.0, 0.0, 0.0, 1.0, [0.0, 2.0, 4.0, 2.0, 1.0, 0.0, 0.0, 0.0, 0.0, 0.0, 0.0, 1.0, 0.0, 29.0, 5624.0, 4.0, 4.0, 29.0, 47.0, 2.0, 2.0], [10.661760046258678, 9.338239953741322], [0.5330880023129339, 0.4669119976870661], 0.0, 'No Risk'], ['less_0', 4, 'all_credits_paid_back', 'car_new', 1450, 'less_100', 'less_1', 1, 'male', 'none', 2, 'savings_insurance', 25, 'none', 'rent', 1, 'skilled', 2, 'none', 'yes', 1.0, 3.0, 3.0, 0.0, 0.0, 1.0, 0.0, 0.0, 0.0, 0.0, 0.0, 0.0, 0.0, [21, [0, 1, 4, 9, 13, 14, 15, 16, 17, 18, 19, 20], [1.0, 3.0, 3.0, 1.0, 4.0, 1450.0, 1.0, 2.0, 4.0, 25.0, 1.0, 2.0]], [19.27517667935533, 0.7248233206446683], [0.9637588339677666, 0.03624116603223342], 0.0, 'No Risk'], ['less_0', 10, 'prior_payments_delayed', 'car_new', 2403, '100_to_500', '1_to_4', 2, 'female', 'none', 2, 'car_other', 31, 'stores', 'own', 2, 'unskilled', 1, 'none', 'yes', 1.0, 0.0, 0.0, 1.0, 0.0, 0.0, 1.0, 1.0, 0.0, 0.0, 1.0, 1.0, 0.0, [1.0, 0.0, 0.0, 1.0, 0.0, 1.0, 0.0, 1.0, 1.0, 0.0, 1.0, 0.0, 0.0, 10.0, 2403.0, 2.0, 2.0, 10.0, 31.0, 2.0, 1.0], [15.894992788740637, 4.1050072112593625], [0.7947496394370319, 0.20525036056296814], 0.0, 'No Risk'], ['no_checking', 24, 'prior_payments_delayed', 'appliances', 1905, '500_to_1000', '4_to_7', 4, 'female', 'none', 3, 'real_estate', 41, 'none', 'own', 1, 'skilled', 1, 'none', 'yes', 0.0, 0.0, 1.0, 2.0, 0.0, 0.0, 0.0, 0.0, 4.0, 0.0, 2.0, 1.0, 0.0, [0.0, 0.0, 4.0, 2.0, 1.0, 1.0, 0.0, 2.0, 0.0, 0.0, 0.0, 0.0, 0.0, 24.0, 1905.0, 4.0, 3.0, 24.0, 41.0, 1.0, 1.0], [12.913168069565986, 7.086831930434013], [0.6456584034782993, 0.3543415965217006], 0.0, 'No Risk'], ['no_checking', 38, 'prior_payments_delayed', 'other', 5581, '500_to_1000', 'greater_7', 5, 'male', 'none', 5, 'unknown', 45, 'none', 'free', 3, 'skilled', 2, 'yes', 'yes', 0.0, 0.0, 2.0, 2.0, 0.0, 2.0, 0.0, 0.0, 10.0, 0.0, 3.0, 0.0, 1.0, [0.0, 0.0, 10.0, 2.0, 2.0, 0.0, 0.0, 3.0, 0.0, 2.0, 0.0, 1.0, 0.0, 38.0, 5581.0, 5.0, 5.0, 38.0, 45.0, 3.0, 2.0], [4.339019063766773, 15.660980936233226], [0.21695095318833862, 0.7830490468116613], 1.0, 'Risk'], ['no_checking', 17, 'credits_paid_to_date', 'radio_tv', 1116, '100_to_500', 'less_1', 3, 'female', 'none', 4, 'real_estate', 22, 'none', 'own', 1, 'management_self-employed', 1, 'none', 'yes', 0.0, 1.0, 3.0, 1.0, 0.0, 0.0, 0.0, 2.0, 3.0, 0.0, 2.0, 1.0, 0.0, [0.0, 1.0, 3.0, 1.0, 3.0, 1.0, 0.0, 2.0, 0.0, 0.0, 2.0, 0.0, 0.0, 17.0, 1116.0, 3.0, 4.0, 17.0, 22.0, 1.0, 1.0], [17.29449840091173, 2.705501599088267], [0.8647249200455865, 0.13527507995441335], 0.0, 'No Risk'], ['less_0', 14, 'prior_payments_delayed', 'car_new', 1934, 'less_100', '4_to_7', 2, 'male', 'none', 2, 'savings_insurance', 35, 'bank', 'own', 1, 'unemployed', 1, 'yes', 'yes', 1.0, 0.0, 1.0, 0.0, 0.0, 0.0, 2.0, 3.0, 0.0, 0.0, 0.0, 0.0, 1.0, [1.0, 0.0, 0.0, 0.0, 1.0, 0.0, 0.0, 0.0, 2.0, 0.0, 3.0, 1.0, 0.0, 14.0, 1934.0, 2.0, 2.0, 14.0, 35.0, 1.0, 1.0], [15.876516653293141, 4.123483346706861], [0.793825832664657, 0.20617416733534305], 0.0, 'No Risk'], ['no_checking', 24, 'outstanding_credit', 'radio_tv', 2214, '500_to_1000', '1_to_4', 3, 'male', 'none', 3, 'savings_insurance', 28, 'none', 'own', 1, 'management_self-employed', 1, 'none', 'yes', 0.0, 2.0, 0.0, 2.0, 0.0, 0.0, 0.0, 2.0, 3.0, 0.0, 0.0, 0.0, 0.0, [21, [1, 2, 3, 10, 13, 14, 15, 16, 17, 18, 19, 20], [2.0, 3.0, 2.0, 2.0, 24.0, 2214.0, 3.0, 3.0, 24.0, 28.0, 1.0, 1.0]], [14.316703400037463, 5.683296599962533], [0.7158351700018732, 0.2841648299981267], 0.0, 'No Risk'], ['no_checking', 22, 'credits_paid_to_date', 'radio_tv', 7371, '100_to_500', 'greater_7', 5, 'female', 'none', 3, 'unknown', 44, 'none', 'free', 2, 'skilled', 1, 'yes', 'yes', 0.0, 1.0, 2.0, 1.0, 0.0, 2.0, 0.0, 0.0, 3.0, 0.0, 3.0, 1.0, 1.0, [0.0, 1.0, 3.0, 1.0, 2.0, 1.0, 0.0, 3.0, 0.0, 2.0, 0.0, 1.0, 0.0, 22.0, 7371.0, 5.0, 3.0, 22.0, 44.0, 2.0, 1.0], [7.359789210732843, 12.640210789267156], [0.36798946053664217, 0.6320105394633578], 1.0, 'Risk'], ['greater_200', 31, 'prior_payments_delayed', 'education', 3202, '100_to_500', 'greater_7', 3, 'female', 'none', 2, 'savings_insurance', 31, 'none', 'own', 2, 'skilled', 1, 'none', 'yes', 3.0, 0.0, 2.0, 1.0, 0.0, 0.0, 0.0, 0.0, 7.0, 0.0, 0.0, 1.0, 0.0, [3.0, 0.0, 7.0, 1.0, 2.0, 1.0, 0.0, 0.0, 0.0, 0.0, 0.0, 0.0, 0.0, 31.0, 3202.0, 3.0, 2.0, 31.0, 31.0, 2.0, 1.0], [12.274701511495977, 7.7252984885040235], [0.6137350755747988, 0.38626492442520116], 0.0, 'No Risk'], ['no_checking', 25, 'prior_payments_delayed', 'radio_tv', 3233, 'unknown', '4_to_7', 4, 'male', 'none', 4, 'car_other', 43, 'bank', 'own', 2, 'unemployed', 1, 'yes', 'yes', 0.0, 0.0, 1.0, 4.0, 0.0, 0.0, 2.0, 3.0, 3.0, 0.0, 1.0, 0.0, 1.0, [0.0, 0.0, 3.0, 4.0, 1.0, 0.0, 0.0, 1.0, 2.0, 0.0, 3.0, 1.0, 0.0, 25.0, 3233.0, 4.0, 4.0, 25.0, 43.0, 2.0, 1.0], [11.999688560754562, 8.00031143924544], [0.5999844280377281, 0.400015571962272], 0.0, 'No Risk'], ['no_checking', 23, 'outstanding_credit', 'business', 3102, '500_to_1000', '4_to_7', 4, 'female', 'co-applicant', 4, 'car_other', 41, 'none', 'own', 1, 'skilled', 1, 'yes', 'yes', 0.0, 2.0, 1.0, 2.0, 0.0, 0.0, 0.0, 0.0, 9.0, 1.0, 1.0, 1.0, 1.0, [0.0, 2.0, 9.0, 2.0, 1.0, 1.0, 1.0, 1.0, 0.0, 0.0, 0.0, 1.0, 0.0, 23.0, 3102.0, 4.0, 4.0, 23.0, 41.0, 1.0, 1.0], [8.527993401000199, 11.472006598999801], [0.42639967005000995, 0.5736003299499901], 1.0, 'Risk'], ['0_to_200', 14, 'credits_paid_to_date', 'retraining', 6279, 'less_100', '4_to_7', 3, 'male', 'none', 3, 'car_other', 33, 'none', 'own', 1, 'management_self-employed', 1, 'none', 'yes', 2.0, 1.0, 1.0, 0.0, 0.0, 0.0, 0.0, 2.0, 8.0, 0.0, 1.0, 0.0, 0.0, [2.0, 1.0, 8.0, 0.0, 1.0, 0.0, 0.0, 1.0, 0.0, 0.0, 2.0, 0.0, 0.0, 14.0, 6279.0, 3.0, 3.0, 14.0, 33.0, 1.0, 1.0], [14.428389596360004, 5.571610403639998], [0.7214194798180003, 0.27858052018199986], 0.0, 'No Risk'], ['no_checking', 40, 'outstanding_credit', 'repairs', 7113, 'unknown', '4_to_7', 5, 'male', 'co-applicant', 4, 'car_other', 52, 'none', 'free', 2, 'skilled', 2, 'yes', 'yes', 0.0, 2.0, 1.0, 4.0, 0.0, 2.0, 0.0, 0.0, 5.0, 1.0, 1.0, 0.0, 1.0, [0.0, 2.0, 5.0, 4.0, 1.0, 0.0, 1.0, 1.0, 0.0, 2.0, 0.0, 1.0, 0.0, 40.0, 7113.0, 5.0, 4.0, 40.0, 52.0, 2.0, 2.0], [3.9297846587480563, 16.07021534125194], [0.19648923293740284, 0.8035107670625972], 1.0, 'Risk'], ['greater_200', 32, 'prior_payments_delayed', 'car_used', 4104, '100_to_500', '4_to_7', 4, 'female', 'none', 4, 'savings_insurance', 45, 'none', 'own', 2, 'skilled', 1, 'none', 'yes', 3.0, 0.0, 1.0, 1.0, 0.0, 0.0, 0.0, 0.0, 2.0, 0.0, 0.0, 1.0, 0.0, [3.0, 0.0, 2.0, 1.0, 1.0, 1.0, 0.0, 0.0, 0.0, 0.0, 0.0, 0.0, 0.0, 32.0, 4104.0, 4.0, 4.0, 32.0, 45.0, 2.0, 1.0], [7.925002860180233, 12.074997139819768], [0.3962501430090116, 0.6037498569909884], 1.0, 'Risk'], ['no_checking', 8, 'credits_paid_to_date', 'car_new', 4924, '100_to_500', '4_to_7', 4, 'male', 'none', 4, 'car_other', 45, 'none', 'free', 2, 'management_self-employed', 1, 'yes', 'yes', 0.0, 1.0, 1.0, 1.0, 0.0, 2.0, 0.0, 2.0, 0.0, 0.0, 1.0, 0.0, 1.0, [0.0, 1.0, 0.0, 1.0, 1.0, 0.0, 0.0, 1.0, 0.0, 2.0, 2.0, 1.0, 0.0, 8.0, 4924.0, 4.0, 4.0, 8.0, 45.0, 2.0, 1.0], [10.660538513824127, 9.339461486175873], [0.5330269256912064, 0.46697307430879365], 0.0, 'No Risk'], ['less_0', 4, 'credits_paid_to_date', 'radio_tv', 250, 'less_100', 'less_1', 1, 'female', 'none', 1, 'real_estate', 19, 'stores', 'own', 1, 'unskilled', 1, 'none', 'yes', 1.0, 1.0, 3.0, 0.0, 0.0, 0.0, 1.0, 1.0, 3.0, 0.0, 2.0, 1.0, 0.0, [1.0, 1.0, 3.0, 0.0, 3.0, 1.0, 0.0, 2.0, 1.0, 0.0, 1.0, 0.0, 0.0, 4.0, 250.0, 1.0, 1.0, 4.0, 19.0, 1.0, 1.0], [19.368113315103276, 0.6318866848967237], [0.9684056657551638, 0.03159433424483619], 0.0, 'No Risk'], ['less_0', 8, 'credits_paid_to_date', 'car_used', 715, 'less_100', '4_to_7', 2, 'female', 'none', 1, 'savings_insurance', 21, 'bank', 'rent', 1, 'unemployed', 1, 'none', 'yes', 1.0, 1.0, 1.0, 0.0, 0.0, 1.0, 2.0, 3.0, 2.0, 0.0, 0.0, 1.0, 0.0, [1.0, 1.0, 2.0, 0.0, 1.0, 1.0, 0.0, 0.0, 2.0, 1.0, 3.0, 0.0, 0.0, 8.0, 715.0, 2.0, 1.0, 8.0, 21.0, 1.0, 1.0], [18.635899420691853, 1.3641005793081462], [0.9317949710345926, 0.06820502896540731], 0.0, 'No Risk'], ['no_checking', 22, 'outstanding_credit', 'radio_tv', 2048, '500_to_1000', 'greater_7', 4, 'male', 'none', 2, 'savings_insurance', 30, 'bank', 'own', 1, 'unskilled', 1, 'none', 'yes', 0.0, 2.0, 2.0, 2.0, 0.0, 0.0, 2.0, 1.0, 3.0, 0.0, 0.0, 0.0, 0.0, [0.0, 2.0, 3.0, 2.0, 2.0, 0.0, 0.0, 0.0, 2.0, 0.0, 1.0, 0.0, 0.0, 22.0, 2048.0, 4.0, 2.0, 22.0, 30.0, 1.0, 1.0], [14.298268400275226, 5.701731599724774], [0.7149134200137613, 0.2850865799862387], 0.0, 'No Risk'], ['0_to_200', 7, 'all_credits_paid_back', 'car_new', 250, 'less_100', '1_to_4', 1, 'female', 'none', 1, 'savings_insurance', 28, 'stores', 'own', 1, 'skilled', 1, 'none', 'yes', 2.0, 3.0, 0.0, 0.0, 0.0, 0.0, 1.0, 0.0, 0.0, 0.0, 0.0, 1.0, 0.0, [21, [0, 1, 5, 8, 13, 14, 15, 16, 17, 18, 19, 20], [2.0, 3.0, 1.0, 1.0, 7.0, 250.0, 1.0, 1.0, 7.0, 28.0, 1.0, 1.0]], [19.026754046388767, 0.9732459536112316], [0.9513377023194384, 0.04866229768056158], 0.0, 'No Risk'], ['no_checking', 48, 'prior_payments_delayed', 'repairs', 6413, '500_to_1000', '1_to_4', 4, 'male', 'none', 4, 'car_other', 38, 'none', 'own', 2, 'skilled', 1, 'none', 'yes', 0.0, 0.0, 0.0, 2.0, 0.0, 0.0, 0.0, 0.0, 5.0, 0.0, 1.0, 0.0, 0.0, [21, [2, 3, 7, 13, 14, 15, 16, 17, 18, 19, 20], [5.0, 2.0, 1.0, 48.0, 6413.0, 4.0, 4.0, 48.0, 38.0, 2.0, 1.0]], [11.628051213319388, 8.371948786680608], [0.5814025606659695, 0.4185974393340305], 0.0, 'No Risk'], ['0_to_200', 35, 'prior_payments_delayed', 'furniture', 3174, '100_to_500', '4_to_7', 2, 'female', 'none', 2, 'savings_insurance', 47, 'stores', 'rent', 1, 'skilled', 1, 'none', 'yes', 2.0, 0.0, 1.0, 1.0, 0.0, 1.0, 1.0, 0.0, 1.0, 0.0, 0.0, 1.0, 0.0, [2.0, 0.0, 1.0, 1.0, 1.0, 1.0, 0.0, 0.0, 1.0, 1.0, 0.0, 0.0, 0.0, 35.0, 3174.0, 2.0, 2.0, 35.0, 47.0, 1.0, 1.0], [12.967034716988334, 7.032965283011669], [0.6483517358494165, 0.35164826415058337], 0.0, 'No Risk'], ['0_to_200', 6, 'all_credits_paid_back', 'car_new', 734, 'less_100', 'less_1', 2, 'female', 'none', 3, 'real_estate', 19, 'none', 'own', 1, 'management_self-employed', 1, 'none', 'yes', 2.0, 3.0, 3.0, 0.0, 0.0, 0.0, 0.0, 2.0, 0.0, 0.0, 2.0, 1.0, 0.0, [2.0, 3.0, 0.0, 0.0, 3.0, 1.0, 0.0, 2.0, 0.0, 0.0, 2.0, 0.0, 0.0, 6.0, 734.0, 2.0, 3.0, 6.0, 19.0, 1.0, 1.0], [19.166151793661882, 0.8338482063381171], [0.9583075896830942, 0.041692410316905855], 0.0, 'No Risk'], ['no_checking', 30, 'prior_payments_delayed', 'furniture', 4155, '100_to_500', '4_to_7', 4, 'male', 'none', 2, 'savings_insurance', 40, 'none', 'own', 1, 'skilled', 1, 'none', 'yes', 0.0, 0.0, 1.0, 1.0, 0.0, 0.0, 0.0, 0.0, 1.0, 0.0, 0.0, 0.0, 0.0, [21, [2, 3, 4, 13, 14, 15, 16, 17, 18, 19, 20], [1.0, 1.0, 1.0, 30.0, 4155.0, 4.0, 2.0, 30.0, 40.0, 1.0, 1.0]], [13.034143245091572, 6.965856754908428], [0.6517071622545786, 0.3482928377454214], 0.0, 'No Risk'], ['no_checking', 18, 'credits_paid_to_date', 'furniture', 3523, '100_to_500', '1_to_4', 3, 'male', 'none', 4, 'car_other', 40, 'none', 'free', 1, 'skilled', 1, 'yes', 'yes', 0.0, 1.0, 0.0, 1.0, 0.0, 2.0, 0.0, 0.0, 1.0, 0.0, 1.0, 0.0, 1.0, [0.0, 1.0, 1.0, 1.0, 0.0, 0.0, 0.0, 1.0, 0.0, 2.0, 0.0, 1.0, 0.0, 18.0, 3523.0, 3.0, 4.0, 18.0, 40.0, 1.0, 1.0], [13.42399735761021, 6.57600264238979], [0.6711998678805104, 0.3288001321194895], 0.0, 'No Risk'], ['less_0', 26, 'credits_paid_to_date', 'radio_tv', 1106, 'less_100', '1_to_4', 2, 'female', 'none', 1, 'car_other', 36, 'stores', 'rent', 1, 'unskilled', 1, 'none', 'yes', 1.0, 1.0, 0.0, 0.0, 0.0, 1.0, 1.0, 1.0, 3.0, 0.0, 1.0, 1.0, 0.0, [1.0, 1.0, 3.0, 0.0, 0.0, 1.0, 0.0, 1.0, 1.0, 1.0, 1.0, 0.0, 0.0, 26.0, 1106.0, 2.0, 1.0, 26.0, 36.0, 1.0, 1.0], [16.09801582365165, 3.901984176348351], [0.8049007911825825, 0.19509920881741755], 0.0, 'No Risk'], ['no_checking', 32, 'prior_payments_delayed', 'vacation', 3664, '500_to_1000', '4_to_7', 3, 'female', 'none', 4, 'car_other', 29, 'none', 'own', 2, 'skilled', 1, 'none', 'yes', 0.0, 0.0, 1.0, 2.0, 0.0, 0.0, 0.0, 0.0, 6.0, 0.0, 1.0, 1.0, 0.0, [0.0, 0.0, 6.0, 2.0, 1.0, 1.0, 0.0, 1.0, 0.0, 0.0, 0.0, 0.0, 0.0, 32.0, 3664.0, 3.0, 4.0, 32.0, 29.0, 2.0, 1.0], [10.058819291622509, 9.94118070837749], [0.5029409645811255, 0.4970590354188745], 0.0, 'No Risk'], ['0_to_200', 28, 'outstanding_credit', 'radio_tv', 4304, '100_to_500', 'greater_7', 3, 'male', 'none', 2, 'unknown', 27, 'none', 'own', 1, 'skilled', 1, 'yes', 'yes', 2.0, 2.0, 2.0, 1.0, 0.0, 0.0, 0.0, 0.0, 3.0, 0.0, 3.0, 0.0, 1.0, [2.0, 2.0, 3.0, 1.0, 2.0, 0.0, 0.0, 3.0, 0.0, 0.0, 0.0, 1.0, 0.0, 28.0, 4304.0, 3.0, 2.0, 28.0, 27.0, 1.0, 1.0], [15.19951529222842, 4.800484707771582], [0.7599757646114209, 0.2400242353885791], 0.0, 'No Risk'], ['0_to_200', 4, 'prior_payments_delayed', 'car_new', 515, 'less_100', 'less_1', 2, 'female', 'none', 1, 'real_estate', 34, 'none', 'own', 1, 'management_self-employed', 1, 'none', 'no', 2.0, 0.0, 3.0, 0.0, 1.0, 0.0, 0.0, 2.0, 0.0, 0.0, 2.0, 1.0, 0.0, [2.0, 0.0, 0.0, 0.0, 3.0, 1.0, 0.0, 2.0, 0.0, 0.0, 2.0, 0.0, 1.0, 4.0, 515.0, 2.0, 1.0, 4.0, 34.0, 1.0, 1.0], [18.409889157662153, 1.5901108423378492], [0.9204944578831075, 0.07950554211689244], 0.0, 'No Risk'], ['no_checking', 33, 'prior_payments_delayed', 'furniture', 6927, '100_to_500', '4_to_7', 4, 'male', 'co-applicant', 3, 'unknown', 46, 'none', 'free', 2, 'management_self-employed', 1, 'yes', 'yes', 0.0, 0.0, 1.0, 1.0, 0.0, 2.0, 0.0, 2.0, 1.0, 1.0, 3.0, 0.0, 1.0, [0.0, 0.0, 1.0, 1.0, 1.0, 0.0, 1.0, 3.0, 0.0, 2.0, 2.0, 1.0, 0.0, 33.0, 6927.0, 4.0, 3.0, 33.0, 46.0, 2.0, 1.0], [5.6566605621369925, 14.343339437863003], [0.2828330281068497, 0.7171669718931503], 1.0, 'Risk'], ['less_0', 37, 'credits_paid_to_date', 'furniture', 2624, '100_to_500', '1_to_4', 2, 'male', 'none', 2, 'car_other', 27, 'stores', 'own', 1, 'unskilled', 1, 'none', 'yes', 1.0, 1.0, 0.0, 1.0, 0.0, 0.0, 1.0, 1.0, 1.0, 0.0, 1.0, 0.0, 0.0, [1.0, 1.0, 1.0, 1.0, 0.0, 0.0, 0.0, 1.0, 1.0, 0.0, 1.0, 0.0, 0.0, 37.0, 2624.0, 2.0, 2.0, 37.0, 27.0, 1.0, 1.0], [14.947347753243015, 5.052652246756987], [0.7473673876621506, 0.25263261233784934], 0.0, 'No Risk'], ['less_0', 19, 'credits_paid_to_date', 'car_used', 5192, 'less_100', '1_to_4', 3, 'male', 'none', 3, 'savings_insurance', 31, 'none', 'free', 1, 'management_self-employed', 1, 'none', 'yes', 1.0, 1.0, 0.0, 0.0, 0.0, 2.0, 0.0, 2.0, 2.0, 0.0, 0.0, 0.0, 0.0, [1.0, 1.0, 2.0, 0.0, 0.0, 0.0, 0.0, 0.0, 0.0, 2.0, 2.0, 0.0, 0.0, 19.0, 5192.0, 3.0, 3.0, 19.0, 31.0, 1.0, 1.0], [14.613878198920453, 5.386121801079546], [0.7306939099460227, 0.2693060900539773], 0.0, 'No Risk'], ['greater_200', 23, 'credits_paid_to_date', 'furniture', 4180, 'less_100', '4_to_7', 4, 'male', 'none', 3, 'car_other', 30, 'none', 'own', 1, 'skilled', 1, 'none', 'yes', 3.0, 1.0, 1.0, 0.0, 0.0, 0.0, 0.0, 0.0, 1.0, 0.0, 1.0, 0.0, 0.0, [3.0, 1.0, 1.0, 0.0, 1.0, 0.0, 0.0, 1.0, 0.0, 0.0, 0.0, 0.0, 0.0, 23.0, 4180.0, 4.0, 3.0, 23.0, 30.0, 1.0, 1.0], [13.59790929918059, 6.402090700819413], [0.6798954649590294, 0.32010453504097064], 0.0, 'No Risk'], ['0_to_200', 26, 'credits_paid_to_date', 'car_new', 5493, 'greater_1000', 'less_1', 3, 'male', 'none', 4, 'car_other', 23, 'none', 'own', 2, 'skilled', 1, 'none', 'yes', 2.0, 1.0, 3.0, 3.0, 0.0, 0.0, 0.0, 0.0, 0.0, 0.0, 1.0, 0.0, 0.0, [2.0, 1.0, 0.0, 3.0, 3.0, 0.0, 0.0, 1.0, 0.0, 0.0, 0.0, 0.0, 0.0, 26.0, 5493.0, 3.0, 4.0, 26.0, 23.0, 2.0, 1.0], [13.98686155239096, 6.013138447609045], [0.6993430776195478, 0.3006569223804521], 0.0, 'No Risk'], ['greater_200', 29, 'prior_payments_delayed', 'appliances', 3422, 'greater_1000', 'greater_7', 4, 'male', 'none', 3, 'unknown', 43, 'none', 'own', 1, 'skilled', 2, 'yes', 'yes', 3.0, 0.0, 2.0, 3.0, 0.0, 0.0, 0.0, 0.0, 4.0, 0.0, 3.0, 0.0, 1.0, [3.0, 0.0, 4.0, 3.0, 2.0, 0.0, 0.0, 3.0, 0.0, 0.0, 0.0, 1.0, 0.0, 29.0, 3422.0, 4.0, 3.0, 29.0, 43.0, 1.0, 2.0], [9.97011864004565, 10.02988135995435], [0.4985059320022825, 0.5014940679977176], 1.0, 'Risk'], ['no_checking', 27, 'prior_payments_delayed', 'education', 7473, '100_to_500', '1_to_4', 4, 'female', 'guarantor', 3, 'car_other', 56, 'none', 'free', 2, 'skilled', 1, 'yes', 'no', 0.0, 0.0, 0.0, 1.0, 1.0, 2.0, 0.0, 0.0, 7.0, 2.0, 1.0, 1.0, 1.0, [0.0, 0.0, 7.0, 1.0, 0.0, 1.0, 2.0, 1.0, 0.0, 2.0, 0.0, 1.0, 1.0, 27.0, 7473.0, 4.0, 3.0, 27.0, 56.0, 2.0, 1.0], [6.590746033422203, 13.409253966577795], [0.32953730167111017, 0.6704626983288897], 1.0, 'Risk'], ['no_checking', 27, 'prior_payments_delayed', 'business', 4981, '100_to_500', '4_to_7', 4, 'male', 'none', 2, 'savings_insurance', 45, 'none', 'own', 2, 'management_self-employed', 1, 'yes', 'yes', 0.0, 0.0, 1.0, 1.0, 0.0, 0.0, 0.0, 2.0, 9.0, 0.0, 0.0, 0.0, 1.0, [0.0, 0.0, 9.0, 1.0, 1.0, 0.0, 0.0, 0.0, 0.0, 0.0, 2.0, 1.0, 0.0, 27.0, 4981.0, 4.0, 2.0, 27.0, 45.0, 2.0, 1.0], [11.590830202319264, 8.409169797680736], [0.5795415101159632, 0.4204584898840368], 0.0, 'No Risk'], ['less_0', 21, 'credits_paid_to_date', 'car_new', 3800, 'less_100', 'less_1', 1, 'male', 'none', 3, 'savings_insurance', 29, 'none', 'rent', 2, 'skilled', 2, 'none', 'yes', 1.0, 1.0, 3.0, 0.0, 0.0, 1.0, 0.0, 0.0, 0.0, 0.0, 0.0, 0.0, 0.0, [21, [0, 1, 4, 9, 13, 14, 15, 16, 17, 18, 19, 20], [1.0, 1.0, 3.0, 1.0, 21.0, 3800.0, 1.0, 3.0, 21.0, 29.0, 2.0, 2.0]], [16.433990029192604, 3.566009970807401], [0.82169950145963, 0.17830049854037], 0.0, 'No Risk'], ['less_0', 19, 'credits_paid_to_date', 'car_new', 250, 'less_100', 'less_1', 2, 'female', 'none', 3, 'real_estate', 19, 'bank', 'own', 1, 'unemployed', 1, 'none', 'yes', 1.0, 1.0, 3.0, 0.0, 0.0, 0.0, 2.0, 3.0, 0.0, 0.0, 2.0, 1.0, 0.0, [1.0, 1.0, 0.0, 0.0, 3.0, 1.0, 0.0, 2.0, 2.0, 0.0, 3.0, 0.0, 0.0, 19.0, 250.0, 2.0, 3.0, 19.0, 19.0, 1.0, 1.0], [18.576851912587795, 1.4231480874122036], [0.9288425956293898, 0.07115740437061017], 0.0, 'No Risk'], ['0_to_200', 34, 'prior_payments_delayed', 'car_used', 7359, '500_to_1000', '4_to_7', 4, 'male', 'none', 4, 'car_other', 44, 'none', 'own', 2, 'skilled', 1, 'none', 'yes', 2.0, 0.0, 1.0, 2.0, 0.0, 0.0, 0.0, 0.0, 2.0, 0.0, 1.0, 0.0, 0.0, [2.0, 0.0, 2.0, 2.0, 1.0, 0.0, 0.0, 1.0, 0.0, 0.0, 0.0, 0.0, 0.0, 34.0, 7359.0, 4.0, 4.0, 34.0, 44.0, 2.0, 1.0], [11.309511026349892, 8.690488973650108], [0.5654755513174946, 0.4345244486825054], 0.0, 'No Risk'], ['0_to_200', 10, 'credits_paid_to_date', 'furniture', 1645, 'less_100', 'less_1', 3, 'female', 'none', 2, 'real_estate', 23, 'none', 'own', 1, 'skilled', 1, 'none', 'yes', 2.0, 1.0, 3.0, 0.0, 0.0, 0.0, 0.0, 0.0, 1.0, 0.0, 2.0, 1.0, 0.0, [2.0, 1.0, 1.0, 0.0, 3.0, 1.0, 0.0, 2.0, 0.0, 0.0, 0.0, 0.0, 0.0, 10.0, 1645.0, 3.0, 2.0, 10.0, 23.0, 1.0, 1.0], [19.347991191299126, 0.6520088087008754], [0.9673995595649563, 0.03260044043504377], 0.0, 'No Risk'], ['less_0', 4, 'all_credits_paid_back', 'car_new', 250, 'less_100', 'less_1', 1, 'female', 'none', 2, 'real_estate', 19, 'none', 'rent', 1, 'skilled', 1, 'none', 'yes', 1.0, 3.0, 3.0, 0.0, 0.0, 1.0, 0.0, 0.0, 0.0, 0.0, 2.0, 1.0, 0.0, [1.0, 3.0, 0.0, 0.0, 3.0, 1.0, 0.0, 2.0, 0.0, 1.0, 0.0, 0.0, 0.0, 4.0, 250.0, 1.0, 2.0, 4.0, 19.0, 1.0, 1.0], [19.557317089819676, 0.4426829101803208], [0.977865854490984, 0.022134145509016045], 0.0, 'No Risk'], ['no_checking', 39, 'prior_payments_delayed', 'vacation', 6938, '500_to_1000', 'greater_7', 5, 'male', 'none', 4, 'car_other', 46, 'none', 'free', 2, 'skilled', 1, 'none', 'yes', 0.0, 0.0, 2.0, 2.0, 0.0, 2.0, 0.0, 0.0, 6.0, 0.0, 1.0, 0.0, 0.0, [0.0, 0.0, 6.0, 2.0, 2.0, 0.0, 0.0, 1.0, 0.0, 2.0, 0.0, 0.0, 0.0, 39.0, 6938.0, 5.0, 4.0, 39.0, 46.0, 2.0, 1.0], [6.6872733855615, 13.3127266144385], [0.33436366927807504, 0.665636330721925], 1.0, 'Risk'], ['no_checking', 11, 'all_credits_paid_back', 'car_new', 5686, 'less_100', 'less_1', 3, 'female', 'none', 4, 'real_estate', 34, 'none', 'free', 1, 'management_self-employed', 1, 'none', 'yes', 0.0, 3.0, 3.0, 0.0, 0.0, 2.0, 0.0, 2.0, 0.0, 0.0, 2.0, 1.0, 0.0, [0.0, 3.0, 0.0, 0.0, 3.0, 1.0, 0.0, 2.0, 0.0, 2.0, 2.0, 0.0, 0.0, 11.0, 5686.0, 3.0, 4.0, 11.0, 34.0, 1.0, 1.0], [16.85716346603958, 3.142836533960421], [0.842858173301979, 0.15714182669802107], 0.0, 'No Risk'], ['no_checking', 37, 'prior_payments_delayed', 'radio_tv', 4761, '500_to_1000', 'greater_7', 5, 'male', 'none', 5, 'car_other', 43, 'none', 'free', 2, 'skilled', 1, 'none', 'yes', 0.0, 0.0, 2.0, 2.0, 0.0, 2.0, 0.0, 0.0, 3.0, 0.0, 1.0, 0.0, 0.0, [0.0, 0.0, 3.0, 2.0, 2.0, 0.0, 0.0, 1.0, 0.0, 2.0, 0.0, 0.0, 0.0, 37.0, 4761.0, 5.0, 5.0, 37.0, 43.0, 2.0, 1.0], [8.918403262695879, 11.081596737304121], [0.44592016313479393, 0.554079836865206], 1.0, 'Risk'], ['less_0', 14, 'all_credits_paid_back', 'car_new', 973, '100_to_500', '4_to_7', 3, 'male', 'none', 3, 'savings_insurance', 27, 'none', 'own', 2, 'skilled', 2, 'none', 'yes', 1.0, 3.0, 1.0, 1.0, 0.0, 0.0, 0.0, 0.0, 0.0, 0.0, 0.0, 0.0, 0.0, [21, [0, 1, 3, 4, 13, 14, 15, 16, 17, 18, 19, 20], [1.0, 3.0, 1.0, 1.0, 14.0, 973.0, 3.0, 3.0, 14.0, 27.0, 2.0, 2.0]], [17.093308733370474, 2.9066912666295255], [0.8546654366685237, 0.14533456333147626], 0.0, 'No Risk'], ['0_to_200', 5, 'all_credits_paid_back', 'appliances', 897, 'less_100', 'less_1', 2, 'male', 'none', 2, 'savings_insurance', 27, 'none', 'rent', 1, 'skilled', 1, 'none', 'yes', 2.0, 3.0, 3.0, 0.0, 0.0, 1.0, 0.0, 0.0, 4.0, 0.0, 0.0, 0.0, 0.0, [2.0, 3.0, 4.0, 0.0, 3.0, 0.0, 0.0, 0.0, 0.0, 1.0, 0.0, 0.0, 0.0, 5.0, 897.0, 2.0, 2.0, 5.0, 27.0, 1.0, 1.0], [19.387507900884934, 0.6124920991150682], [0.9693753950442465, 0.030624604955753403], 0.0, 'No Risk'], ['less_0', 4, 'credits_paid_to_date', 'car_new', 1805, 'less_100', '4_to_7', 3, 'male', 'none', 3, 'car_other', 23, 'none', 'own', 1, 'skilled', 1, 'none', 'yes', 1.0, 1.0, 1.0, 0.0, 0.0, 0.0, 0.0, 0.0, 0.0, 0.0, 1.0, 0.0, 0.0, [21, [0, 1, 4, 7, 13, 14, 15, 16, 17, 18, 19, 20], [1.0, 1.0, 1.0, 1.0, 4.0, 1805.0, 3.0, 3.0, 4.0, 23.0, 1.0, 1.0]], [16.98212256599912, 3.0178774340008787], [0.849106128299956, 0.15089387170004392], 0.0, 'No Risk'], ['0_to_200', 21, 'credits_paid_to_date', 'car_new', 250, 'less_100', '1_to_4', 3, 'male', 'none', 3, 'savings_insurance', 21, 'none', 'own', 1, 'skilled', 1, 'none', 'yes', 2.0, 1.0, 0.0, 0.0, 0.0, 0.0, 0.0, 0.0, 0.0, 0.0, 0.0, 0.0, 0.0, [21, [0, 1, 13, 14, 15, 16, 17, 18, 19, 20], [2.0, 1.0, 21.0, 250.0, 3.0, 3.0, 21.0, 21.0, 1.0, 1.0]], [16.22071683150031, 3.7792831684996897], [0.8110358415750156, 0.18896415842498449], 0.0, 'No Risk'], ['greater_200', 11, 'credits_paid_to_date', 'car_new', 1541, 'less_100', '4_to_7', 2, 'male', 'none', 3, 'real_estate', 23, 'none', 'own', 1, 'skilled', 1, 'yes', 'yes', 3.0, 1.0, 1.0, 0.0, 0.0, 0.0, 0.0, 0.0, 0.0, 0.0, 2.0, 0.0, 1.0, [3.0, 1.0, 0.0, 0.0, 1.0, 0.0, 0.0, 2.0, 0.0, 0.0, 0.0, 1.0, 0.0, 11.0, 1541.0, 2.0, 3.0, 11.0, 23.0, 1.0, 1.0], [17.337191774072714, 2.6628082259272827], [0.8668595887036359, 0.13314041129636417], 0.0, 'No Risk'], ['no_checking', 34, 'outstanding_credit', 'repairs', 9002, 'unknown', 'greater_7', 4, 'female', 'co-applicant', 5, 'unknown', 53, 'none', 'own', 2, 'management_self-employed', 2, 'yes', 'yes', 0.0, 2.0, 2.0, 4.0, 0.0, 0.0, 0.0, 2.0, 5.0, 1.0, 3.0, 1.0, 1.0, [0.0, 2.0, 5.0, 4.0, 2.0, 1.0, 1.0, 3.0, 0.0, 0.0, 2.0, 1.0, 0.0, 34.0, 9002.0, 4.0, 5.0, 34.0, 53.0, 2.0, 2.0], [2.1102732567125404, 17.889726743287458], [0.10551366283562702, 0.8944863371643729], 1.0, 'Risk'], ['0_to_200', 33, 'outstanding_credit', 'repairs', 6145, '100_to_500', '1_to_4', 3, 'male', 'none', 3, 'unknown', 33, 'none', 'own', 1, 'skilled', 1, 'none', 'yes', 2.0, 2.0, 0.0, 1.0, 0.0, 0.0, 0.0, 0.0, 5.0, 0.0, 3.0, 0.0, 0.0, [2.0, 2.0, 5.0, 1.0, 0.0, 0.0, 0.0, 3.0, 0.0, 0.0, 0.0, 0.0, 0.0, 33.0, 6145.0, 3.0, 3.0, 33.0, 33.0, 1.0, 1.0], [12.039807283292372, 7.960192716707628], [0.6019903641646186, 0.3980096358353814], 0.0, 'No Risk'], ['0_to_200', 18, 'credits_paid_to_date', 'car_used', 3019, 'less_100', 'less_1', 2, 'female', 'none', 2, 'savings_insurance', 29, 'none', 'own', 1, 'skilled', 1, 'none', 'yes', 2.0, 1.0, 3.0, 0.0, 0.0, 0.0, 0.0, 0.0, 2.0, 0.0, 0.0, 1.0, 0.0, [2.0, 1.0, 2.0, 0.0, 3.0, 1.0, 0.0, 0.0, 0.0, 0.0, 0.0, 0.0, 0.0, 18.0, 3019.0, 2.0, 2.0, 18.0, 29.0, 1.0, 1.0], [17.799528176377677, 2.200471823622322], [0.8899764088188838, 0.11002359118111611], 0.0, 'No Risk'], ['no_checking', 40, 'prior_payments_delayed', 'appliances', 5697, 'unknown', '4_to_7', 3, 'male', 'co-applicant', 3, 'car_other', 45, 'none', 'own', 2, 'skilled', 2, 'yes', 'yes', 0.0, 0.0, 1.0, 4.0, 0.0, 0.0, 0.0, 0.0, 4.0, 1.0, 1.0, 0.0, 1.0, [0.0, 0.0, 4.0, 4.0, 1.0, 0.0, 1.0, 1.0, 0.0, 0.0, 0.0, 1.0, 0.0, 40.0, 5697.0, 3.0, 3.0, 40.0, 45.0, 2.0, 2.0], [6.667771602166514, 13.332228397833482], [0.3333885801083258, 0.6666114198916743], 1.0, 'Risk'], ['0_to_200', 19, 'prior_payments_delayed', 'furniture', 5288, '100_to_500', 'greater_7', 4, 'male', 'none', 3, 'unknown', 47, 'none', 'own', 2, 'skilled', 1, 'yes', 'yes', 2.0, 0.0, 2.0, 1.0, 0.0, 0.0, 0.0, 0.0, 1.0, 0.0, 3.0, 0.0, 1.0, [2.0, 0.0, 1.0, 1.0, 2.0, 0.0, 0.0, 3.0, 0.0, 0.0, 0.0, 1.0, 0.0, 19.0, 5288.0, 4.0, 3.0, 19.0, 47.0, 2.0, 1.0], [8.845528323938161, 11.154471676061837], [0.44227641619690805, 0.5577235838030918], 1.0, 'Risk'], ['less_0', 4, 'no_credits', 'car_new', 3587, 'less_100', 'unemployed', 1, 'male', 'none', 2, 'real_estate', 21, 'none', 'rent', 1, 'skilled', 1, 'none', 'yes', 1.0, 4.0, 4.0, 0.0, 0.0, 1.0, 0.0, 0.0, 0.0, 0.0, 2.0, 0.0, 0.0, [1.0, 4.0, 0.0, 0.0, 4.0, 0.0, 0.0, 2.0, 0.0, 1.0, 0.0, 0.0, 0.0, 4.0, 3587.0, 1.0, 2.0, 4.0, 21.0, 1.0, 1.0], [18.964169980718815, 1.0358300192811787], [0.9482084990359411, 0.051791500964058955], 0.0, 'No Risk'], ['greater_200', 35, 'prior_payments_delayed', 'appliances', 4109, '100_to_500', 'less_1', 3, 'male', 'none', 4, 'savings_insurance', 32, 'none', 'free', 3, 'skilled', 1, 'yes', 'yes', 3.0, 0.0, 3.0, 1.0, 0.0, 2.0, 0.0, 0.0, 4.0, 0.0, 0.0, 0.0, 1.0, [3.0, 0.0, 4.0, 1.0, 3.0, 0.0, 0.0, 0.0, 0.0, 2.0, 0.0, 1.0, 0.0, 35.0, 4109.0, 3.0, 4.0, 35.0, 32.0, 3.0, 1.0], [12.920705777501814, 7.079294222498184], [0.6460352888750907, 0.35396471112490924], 0.0, 'No Risk'], ['no_checking', 45, 'prior_payments_delayed', 'vacation', 6758, '500_to_1000', '4_to_7', 5, 'male', 'none', 4, 'unknown', 44, 'none', 'free', 2, 'skilled', 1, 'yes', 'yes', 0.0, 0.0, 1.0, 2.0, 0.0, 2.0, 0.0, 0.0, 6.0, 0.0, 3.0, 0.0, 1.0, [0.0, 0.0, 6.0, 2.0, 1.0, 0.0, 0.0, 3.0, 0.0, 2.0, 0.0, 1.0, 0.0, 45.0, 6758.0, 5.0, 4.0, 45.0, 44.0, 2.0, 1.0], [9.314899806619906, 10.685100193380094], [0.46574499033099526, 0.5342550096690047], 1.0, 'Risk'], ['less_0', 15, 'credits_paid_to_date', 'car_new', 250, '500_to_1000', 'less_1', 2, 'female', 'none', 2, 'real_estate', 23, 'stores', 'rent', 1, 'skilled', 1, 'none', 'yes', 1.0, 1.0, 3.0, 2.0, 0.0, 1.0, 1.0, 0.0, 0.0, 0.0, 2.0, 1.0, 0.0, [1.0, 1.0, 0.0, 2.0, 3.0, 1.0, 0.0, 2.0, 1.0, 1.0, 0.0, 0.0, 0.0, 15.0, 250.0, 2.0, 2.0, 15.0, 23.0, 1.0, 1.0], [19.297907720326926, 0.7020922796730735], [0.9648953860163463, 0.03510461398365368], 0.0, 'No Risk'], ['no_checking', 24, 'outstanding_credit', 'appliances', 7400, '500_to_1000', '1_to_4', 4, 'male', 'none', 3, 'car_other', 53, 'none', 'free', 2, 'management_self-employed', 1, 'yes', 'yes', 0.0, 2.0, 0.0, 2.0, 0.0, 2.0, 0.0, 2.0, 4.0, 0.0, 1.0, 0.0, 1.0, [0.0, 2.0, 4.0, 2.0, 0.0, 0.0, 0.0, 1.0, 0.0, 2.0, 2.0, 1.0, 0.0, 24.0, 7400.0, 4.0, 3.0, 24.0, 53.0, 2.0, 1.0], [10.716313589841416, 9.283686410158584], [0.5358156794920708, 0.4641843205079292], 0.0, 'No Risk'], ['no_checking', 32, 'outstanding_credit', 'furniture', 8278, 'greater_1000', '4_to_7', 4, 'female', 'co-applicant', 5, 'unknown', 59, 'none', 'free', 2, 'skilled', 1, 'yes', 'yes', 0.0, 2.0, 1.0, 3.0, 0.0, 2.0, 0.0, 0.0, 1.0, 1.0, 3.0, 1.0, 1.0, [0.0, 2.0, 1.0, 3.0, 1.0, 1.0, 1.0, 3.0, 0.0, 2.0, 0.0, 1.0, 0.0, 32.0, 8278.0, 4.0, 5.0, 32.0, 59.0, 2.0, 1.0], [2.1482958530036718, 17.851704146996322], [0.10741479265018362, 0.8925852073498164], 1.0, 'Risk']]}\n"
     ]
    }
   ],
   "source": [
    "import random\n",
    "\n",
    "with open('german_credit_feed.json', 'r') as scoring_file:\n",
    "    scoring_data = json.load(scoring_file)\n",
    "\n",
    "fields = scoring_data['fields']\n",
    "values = []\n",
    "for _ in range(1000):\n",
    "    values.append(random.choice(scoring_data['values']))\n",
    "payload_scoring = {\"fields\": fields, \"values\": values}\n",
    "\n",
    "scoring_response = wml_client.deployments.score(credit_risk_scoring_endpoint, payload_scoring)\n",
    "print(scoring_response)"
   ]
  },
  {
   "cell_type": "code",
   "execution_count": 50,
   "metadata": {
    "scrolled": false
   },
   "outputs": [
    {
     "data": {
      "text/plain": [
       "{'entity': {'asset': {'asset_id': 'bcf1e2e9-dbe9-4472-8ea4-12c35d224bf3',\n",
       "   'asset_type': 'model',\n",
       "   'created_at': '2019-10-10T13:52:46.781Z',\n",
       "   'name': 'Spark German Risk Model - Final',\n",
       "   'url': 'https://us-south.ml.cloud.ibm.com/v3/wml_instances/df9e2b21-7bf6-4281-b736-8d3c1f41efea/published_models/bcf1e2e9-dbe9-4472-8ea4-12c35d224bf3'},\n",
       "  'asset_properties': {'categorical_fields': ['CheckingStatus',\n",
       "    'CreditHistory',\n",
       "    'LoanPurpose',\n",
       "    'ExistingSavings',\n",
       "    'EmploymentDuration',\n",
       "    'Sex',\n",
       "    'OthersOnLoan',\n",
       "    'OwnsProperty',\n",
       "    'InstallmentPlans',\n",
       "    'Housing',\n",
       "    'Job',\n",
       "    'Telephone',\n",
       "    'ForeignWorker'],\n",
       "   'feature_fields': ['CheckingStatus',\n",
       "    'LoanDuration',\n",
       "    'CreditHistory',\n",
       "    'LoanPurpose',\n",
       "    'LoanAmount',\n",
       "    'ExistingSavings',\n",
       "    'EmploymentDuration',\n",
       "    'InstallmentPercent',\n",
       "    'Sex',\n",
       "    'OthersOnLoan',\n",
       "    'CurrentResidenceDuration',\n",
       "    'OwnsProperty',\n",
       "    'Age',\n",
       "    'InstallmentPlans',\n",
       "    'Housing',\n",
       "    'ExistingCreditsCount',\n",
       "    'Job',\n",
       "    'Dependents',\n",
       "    'Telephone',\n",
       "    'ForeignWorker'],\n",
       "   'input_data_schema': {'fields': [{'metadata': {'measure': 'discrete',\n",
       "       'modeling_role': 'feature'},\n",
       "      'name': 'CheckingStatus',\n",
       "      'nullable': True,\n",
       "      'type': 'string'},\n",
       "     {'metadata': {'modeling_role': 'feature'},\n",
       "      'name': 'LoanDuration',\n",
       "      'nullable': True,\n",
       "      'type': 'integer'},\n",
       "     {'metadata': {'measure': 'discrete', 'modeling_role': 'feature'},\n",
       "      'name': 'CreditHistory',\n",
       "      'nullable': True,\n",
       "      'type': 'string'},\n",
       "     {'metadata': {'measure': 'discrete', 'modeling_role': 'feature'},\n",
       "      'name': 'LoanPurpose',\n",
       "      'nullable': True,\n",
       "      'type': 'string'},\n",
       "     {'metadata': {'modeling_role': 'feature'},\n",
       "      'name': 'LoanAmount',\n",
       "      'nullable': True,\n",
       "      'type': 'integer'},\n",
       "     {'metadata': {'measure': 'discrete', 'modeling_role': 'feature'},\n",
       "      'name': 'ExistingSavings',\n",
       "      'nullable': True,\n",
       "      'type': 'string'},\n",
       "     {'metadata': {'measure': 'discrete', 'modeling_role': 'feature'},\n",
       "      'name': 'EmploymentDuration',\n",
       "      'nullable': True,\n",
       "      'type': 'string'},\n",
       "     {'metadata': {'modeling_role': 'feature'},\n",
       "      'name': 'InstallmentPercent',\n",
       "      'nullable': True,\n",
       "      'type': 'integer'},\n",
       "     {'metadata': {'measure': 'discrete', 'modeling_role': 'feature'},\n",
       "      'name': 'Sex',\n",
       "      'nullable': True,\n",
       "      'type': 'string'},\n",
       "     {'metadata': {'measure': 'discrete', 'modeling_role': 'feature'},\n",
       "      'name': 'OthersOnLoan',\n",
       "      'nullable': True,\n",
       "      'type': 'string'},\n",
       "     {'metadata': {'modeling_role': 'feature'},\n",
       "      'name': 'CurrentResidenceDuration',\n",
       "      'nullable': True,\n",
       "      'type': 'integer'},\n",
       "     {'metadata': {'measure': 'discrete', 'modeling_role': 'feature'},\n",
       "      'name': 'OwnsProperty',\n",
       "      'nullable': True,\n",
       "      'type': 'string'},\n",
       "     {'metadata': {'modeling_role': 'feature'},\n",
       "      'name': 'Age',\n",
       "      'nullable': True,\n",
       "      'type': 'integer'},\n",
       "     {'metadata': {'measure': 'discrete', 'modeling_role': 'feature'},\n",
       "      'name': 'InstallmentPlans',\n",
       "      'nullable': True,\n",
       "      'type': 'string'},\n",
       "     {'metadata': {'measure': 'discrete', 'modeling_role': 'feature'},\n",
       "      'name': 'Housing',\n",
       "      'nullable': True,\n",
       "      'type': 'string'},\n",
       "     {'metadata': {'modeling_role': 'feature'},\n",
       "      'name': 'ExistingCreditsCount',\n",
       "      'nullable': True,\n",
       "      'type': 'integer'},\n",
       "     {'metadata': {'measure': 'discrete', 'modeling_role': 'feature'},\n",
       "      'name': 'Job',\n",
       "      'nullable': True,\n",
       "      'type': 'string'},\n",
       "     {'metadata': {'modeling_role': 'feature'},\n",
       "      'name': 'Dependents',\n",
       "      'nullable': True,\n",
       "      'type': 'integer'},\n",
       "     {'metadata': {'measure': 'discrete', 'modeling_role': 'feature'},\n",
       "      'name': 'Telephone',\n",
       "      'nullable': True,\n",
       "      'type': 'string'},\n",
       "     {'metadata': {'measure': 'discrete', 'modeling_role': 'feature'},\n",
       "      'name': 'ForeignWorker',\n",
       "      'nullable': True,\n",
       "      'type': 'string'}],\n",
       "    'type': 'struct'},\n",
       "   'input_data_type': 'structured',\n",
       "   'label_column': 'Risk',\n",
       "   'model_type': 'mllib-2.3',\n",
       "   'output_data_schema': {'fields': [{'metadata': {'columnInfo': {'columnLength': 64},\n",
       "       'measure': 'discrete',\n",
       "       'modeling_role': 'feature'},\n",
       "      'name': 'CheckingStatus',\n",
       "      'nullable': True,\n",
       "      'type': 'string'},\n",
       "     {'metadata': {'modeling_role': 'feature'},\n",
       "      'name': 'LoanDuration',\n",
       "      'nullable': True,\n",
       "      'type': 'integer'},\n",
       "     {'metadata': {'columnInfo': {'columnLength': 64},\n",
       "       'measure': 'discrete',\n",
       "       'modeling_role': 'feature'},\n",
       "      'name': 'CreditHistory',\n",
       "      'nullable': True,\n",
       "      'type': 'string'},\n",
       "     {'metadata': {'columnInfo': {'columnLength': 64},\n",
       "       'measure': 'discrete',\n",
       "       'modeling_role': 'feature'},\n",
       "      'name': 'LoanPurpose',\n",
       "      'nullable': True,\n",
       "      'type': 'string'},\n",
       "     {'metadata': {'modeling_role': 'feature'},\n",
       "      'name': 'LoanAmount',\n",
       "      'nullable': True,\n",
       "      'type': 'integer'},\n",
       "     {'metadata': {'columnInfo': {'columnLength': 64},\n",
       "       'measure': 'discrete',\n",
       "       'modeling_role': 'feature'},\n",
       "      'name': 'ExistingSavings',\n",
       "      'nullable': True,\n",
       "      'type': 'string'},\n",
       "     {'metadata': {'columnInfo': {'columnLength': 64},\n",
       "       'measure': 'discrete',\n",
       "       'modeling_role': 'feature'},\n",
       "      'name': 'EmploymentDuration',\n",
       "      'nullable': True,\n",
       "      'type': 'string'},\n",
       "     {'metadata': {'modeling_role': 'feature'},\n",
       "      'name': 'InstallmentPercent',\n",
       "      'nullable': True,\n",
       "      'type': 'integer'},\n",
       "     {'metadata': {'columnInfo': {'columnLength': 64},\n",
       "       'measure': 'discrete',\n",
       "       'modeling_role': 'feature'},\n",
       "      'name': 'Sex',\n",
       "      'nullable': True,\n",
       "      'type': 'string'},\n",
       "     {'metadata': {'columnInfo': {'columnLength': 64},\n",
       "       'measure': 'discrete',\n",
       "       'modeling_role': 'feature'},\n",
       "      'name': 'OthersOnLoan',\n",
       "      'nullable': True,\n",
       "      'type': 'string'},\n",
       "     {'metadata': {'modeling_role': 'feature'},\n",
       "      'name': 'CurrentResidenceDuration',\n",
       "      'nullable': True,\n",
       "      'type': 'integer'},\n",
       "     {'metadata': {'columnInfo': {'columnLength': 64},\n",
       "       'measure': 'discrete',\n",
       "       'modeling_role': 'feature'},\n",
       "      'name': 'OwnsProperty',\n",
       "      'nullable': True,\n",
       "      'type': 'string'},\n",
       "     {'metadata': {'modeling_role': 'feature'},\n",
       "      'name': 'Age',\n",
       "      'nullable': True,\n",
       "      'type': 'integer'},\n",
       "     {'metadata': {'columnInfo': {'columnLength': 64},\n",
       "       'measure': 'discrete',\n",
       "       'modeling_role': 'feature'},\n",
       "      'name': 'InstallmentPlans',\n",
       "      'nullable': True,\n",
       "      'type': 'string'},\n",
       "     {'metadata': {'columnInfo': {'columnLength': 64},\n",
       "       'measure': 'discrete',\n",
       "       'modeling_role': 'feature'},\n",
       "      'name': 'Housing',\n",
       "      'nullable': True,\n",
       "      'type': 'string'},\n",
       "     {'metadata': {'modeling_role': 'feature'},\n",
       "      'name': 'ExistingCreditsCount',\n",
       "      'nullable': True,\n",
       "      'type': 'integer'},\n",
       "     {'metadata': {'columnInfo': {'columnLength': 64},\n",
       "       'measure': 'discrete',\n",
       "       'modeling_role': 'feature'},\n",
       "      'name': 'Job',\n",
       "      'nullable': True,\n",
       "      'type': 'string'},\n",
       "     {'metadata': {'modeling_role': 'feature'},\n",
       "      'name': 'Dependents',\n",
       "      'nullable': True,\n",
       "      'type': 'integer'},\n",
       "     {'metadata': {'columnInfo': {'columnLength': 64},\n",
       "       'measure': 'discrete',\n",
       "       'modeling_role': 'feature'},\n",
       "      'name': 'Telephone',\n",
       "      'nullable': True,\n",
       "      'type': 'string'},\n",
       "     {'metadata': {'columnInfo': {'columnLength': 64},\n",
       "       'measure': 'discrete',\n",
       "       'modeling_role': 'feature'},\n",
       "      'name': 'ForeignWorker',\n",
       "      'nullable': True,\n",
       "      'type': 'string'},\n",
       "     {'metadata': {},\n",
       "      'name': 'CheckingStatus_IX',\n",
       "      'nullable': True,\n",
       "      'type': 'double'},\n",
       "     {'metadata': {},\n",
       "      'name': 'CreditHistory_IX',\n",
       "      'nullable': True,\n",
       "      'type': 'double'},\n",
       "     {'metadata': {},\n",
       "      'name': 'EmploymentDuration_IX',\n",
       "      'nullable': True,\n",
       "      'type': 'double'},\n",
       "     {'metadata': {},\n",
       "      'name': 'ExistingSavings_IX',\n",
       "      'nullable': True,\n",
       "      'type': 'double'},\n",
       "     {'metadata': {},\n",
       "      'name': 'ForeignWorker_IX',\n",
       "      'nullable': True,\n",
       "      'type': 'double'},\n",
       "     {'metadata': {},\n",
       "      'name': 'Housing_IX',\n",
       "      'nullable': True,\n",
       "      'type': 'double'},\n",
       "     {'metadata': {},\n",
       "      'name': 'InstallmentPlans_IX',\n",
       "      'nullable': True,\n",
       "      'type': 'double'},\n",
       "     {'metadata': {}, 'name': 'Job_IX', 'nullable': True, 'type': 'double'},\n",
       "     {'metadata': {},\n",
       "      'name': 'LoanPurpose_IX',\n",
       "      'nullable': True,\n",
       "      'type': 'double'},\n",
       "     {'metadata': {},\n",
       "      'name': 'OthersOnLoan_IX',\n",
       "      'nullable': True,\n",
       "      'type': 'double'},\n",
       "     {'metadata': {},\n",
       "      'name': 'OwnsProperty_IX',\n",
       "      'nullable': True,\n",
       "      'type': 'double'},\n",
       "     {'metadata': {}, 'name': 'Sex_IX', 'nullable': True, 'type': 'double'},\n",
       "     {'metadata': {},\n",
       "      'name': 'Telephone_IX',\n",
       "      'nullable': True,\n",
       "      'type': 'double'},\n",
       "     {'metadata': {},\n",
       "      'name': 'features',\n",
       "      'nullable': True,\n",
       "      'type': {'containsNull': True,\n",
       "       'elementType': 'double',\n",
       "       'type': 'array'}},\n",
       "     {'metadata': {},\n",
       "      'name': 'rawPrediction',\n",
       "      'nullable': True,\n",
       "      'type': {'containsNull': True,\n",
       "       'elementType': 'double',\n",
       "       'type': 'array'}},\n",
       "     {'metadata': {'modeling_role': 'probability'},\n",
       "      'name': 'probability',\n",
       "      'nullable': True,\n",
       "      'type': {'containsNull': True,\n",
       "       'elementType': 'double',\n",
       "       'type': 'array'}},\n",
       "     {'metadata': {},\n",
       "      'name': 'prediction',\n",
       "      'nullable': True,\n",
       "      'type': 'double'},\n",
       "     {'metadata': {'columnInfo': {'columnLength': 64},\n",
       "       'modeling_role': 'prediction'},\n",
       "      'name': 'predictedLabel',\n",
       "      'nullable': True,\n",
       "      'type': 'string'},\n",
       "     {'metadata': {'modeling_role': 'debiased-prediction'},\n",
       "      'name': 'debiased_prediction',\n",
       "      'nullable': True,\n",
       "      'type': 'double'},\n",
       "     {'metadata': {'modeling_role': 'debiased-probability'},\n",
       "      'name': 'debiased_probability',\n",
       "      'nullable': True,\n",
       "      'type': {'containsNull': True,\n",
       "       'elementType': 'double',\n",
       "       'type': 'array'}},\n",
       "     {'metadata': {'modeling_role': 'prediction-probability'},\n",
       "      'name': 'prediction_probability',\n",
       "      'nullable': True,\n",
       "      'type': 'double'}],\n",
       "    'type': 'struct'},\n",
       "   'prediction_field': 'predictedLabel',\n",
       "   'probability_fields': ['probability'],\n",
       "   'problem_type': 'binary',\n",
       "   'runtime_environment': 'spark-2.3',\n",
       "   'training_data_schema': {'fields': [{'metadata': {'measure': 'discrete',\n",
       "       'modeling_role': 'feature'},\n",
       "      'name': 'CheckingStatus',\n",
       "      'nullable': True,\n",
       "      'type': 'string'},\n",
       "     {'metadata': {'modeling_role': 'feature'},\n",
       "      'name': 'LoanDuration',\n",
       "      'nullable': True,\n",
       "      'type': 'integer'},\n",
       "     {'metadata': {'measure': 'discrete', 'modeling_role': 'feature'},\n",
       "      'name': 'CreditHistory',\n",
       "      'nullable': True,\n",
       "      'type': 'string'},\n",
       "     {'metadata': {'measure': 'discrete', 'modeling_role': 'feature'},\n",
       "      'name': 'LoanPurpose',\n",
       "      'nullable': True,\n",
       "      'type': 'string'},\n",
       "     {'metadata': {'modeling_role': 'feature'},\n",
       "      'name': 'LoanAmount',\n",
       "      'nullable': True,\n",
       "      'type': 'integer'},\n",
       "     {'metadata': {'measure': 'discrete', 'modeling_role': 'feature'},\n",
       "      'name': 'ExistingSavings',\n",
       "      'nullable': True,\n",
       "      'type': 'string'},\n",
       "     {'metadata': {'measure': 'discrete', 'modeling_role': 'feature'},\n",
       "      'name': 'EmploymentDuration',\n",
       "      'nullable': True,\n",
       "      'type': 'string'},\n",
       "     {'metadata': {'modeling_role': 'feature'},\n",
       "      'name': 'InstallmentPercent',\n",
       "      'nullable': True,\n",
       "      'type': 'integer'},\n",
       "     {'metadata': {'measure': 'discrete', 'modeling_role': 'feature'},\n",
       "      'name': 'Sex',\n",
       "      'nullable': True,\n",
       "      'type': 'string'},\n",
       "     {'metadata': {'measure': 'discrete', 'modeling_role': 'feature'},\n",
       "      'name': 'OthersOnLoan',\n",
       "      'nullable': True,\n",
       "      'type': 'string'},\n",
       "     {'metadata': {'modeling_role': 'feature'},\n",
       "      'name': 'CurrentResidenceDuration',\n",
       "      'nullable': True,\n",
       "      'type': 'integer'},\n",
       "     {'metadata': {'measure': 'discrete', 'modeling_role': 'feature'},\n",
       "      'name': 'OwnsProperty',\n",
       "      'nullable': True,\n",
       "      'type': 'string'},\n",
       "     {'metadata': {'modeling_role': 'feature'},\n",
       "      'name': 'Age',\n",
       "      'nullable': True,\n",
       "      'type': 'integer'},\n",
       "     {'metadata': {'measure': 'discrete', 'modeling_role': 'feature'},\n",
       "      'name': 'InstallmentPlans',\n",
       "      'nullable': True,\n",
       "      'type': 'string'},\n",
       "     {'metadata': {'measure': 'discrete', 'modeling_role': 'feature'},\n",
       "      'name': 'Housing',\n",
       "      'nullable': True,\n",
       "      'type': 'string'},\n",
       "     {'metadata': {'modeling_role': 'feature'},\n",
       "      'name': 'ExistingCreditsCount',\n",
       "      'nullable': True,\n",
       "      'type': 'integer'},\n",
       "     {'metadata': {'measure': 'discrete', 'modeling_role': 'feature'},\n",
       "      'name': 'Job',\n",
       "      'nullable': True,\n",
       "      'type': 'string'},\n",
       "     {'metadata': {'modeling_role': 'feature'},\n",
       "      'name': 'Dependents',\n",
       "      'nullable': True,\n",
       "      'type': 'integer'},\n",
       "     {'metadata': {'measure': 'discrete', 'modeling_role': 'feature'},\n",
       "      'name': 'Telephone',\n",
       "      'nullable': True,\n",
       "      'type': 'string'},\n",
       "     {'metadata': {'measure': 'discrete', 'modeling_role': 'feature'},\n",
       "      'name': 'ForeignWorker',\n",
       "      'nullable': True,\n",
       "      'type': 'string'},\n",
       "     {'metadata': {'modeling_role': 'target'},\n",
       "      'name': 'Risk',\n",
       "      'nullable': True,\n",
       "      'type': 'string'}],\n",
       "    'type': 'struct'}},\n",
       "  'configurations': [{'enabled': True,\n",
       "    'monitor_definition_id': 'payload_logging',\n",
       "    'type': 'payload_logging',\n",
       "    'url': '/v1/data_marts/f94e20cb-aa92-4636-97ce-08de6b714d02/service_bindings/df9e2b21-7bf6-4281-b736-8d3c1f41efea/subscriptions/b41ffa0c-506f-441c-813a-b1c83e1c844b/configurations/payload_logging'},\n",
       "   {'enabled': False,\n",
       "    'monitor_definition_id': 'explainability',\n",
       "    'type': 'explainability',\n",
       "    'url': '/v1/data_marts/f94e20cb-aa92-4636-97ce-08de6b714d02/service_bindings/df9e2b21-7bf6-4281-b736-8d3c1f41efea/subscriptions/b41ffa0c-506f-441c-813a-b1c83e1c844b/configurations/explainability'},\n",
       "   {'enabled': True,\n",
       "    'monitor_definition_id': 'performance_monitoring',\n",
       "    'type': 'performance_monitoring',\n",
       "    'url': '/v1/data_marts/f94e20cb-aa92-4636-97ce-08de6b714d02/service_bindings/df9e2b21-7bf6-4281-b736-8d3c1f41efea/subscriptions/b41ffa0c-506f-441c-813a-b1c83e1c844b/configurations/performance_monitoring'},\n",
       "   {'enabled': True,\n",
       "    'monitor_definition_id': 'fairness_monitoring',\n",
       "    'type': 'fairness_monitoring',\n",
       "    'url': '/v1/data_marts/f94e20cb-aa92-4636-97ce-08de6b714d02/service_bindings/df9e2b21-7bf6-4281-b736-8d3c1f41efea/subscriptions/b41ffa0c-506f-441c-813a-b1c83e1c844b/configurations/fairness_monitoring'},\n",
       "   {'enabled': False,\n",
       "    'monitor_definition_id': 'correlations',\n",
       "    'type': 'correlations',\n",
       "    'url': '/v1/data_marts/f94e20cb-aa92-4636-97ce-08de6b714d02/service_bindings/df9e2b21-7bf6-4281-b736-8d3c1f41efea/subscriptions/b41ffa0c-506f-441c-813a-b1c83e1c844b/configurations/correlations'},\n",
       "   {'enabled': False,\n",
       "    'monitor_definition_id': 'drift',\n",
       "    'type': 'drift',\n",
       "    'url': '/v1/data_marts/f94e20cb-aa92-4636-97ce-08de6b714d02/service_bindings/df9e2b21-7bf6-4281-b736-8d3c1f41efea/subscriptions/b41ffa0c-506f-441c-813a-b1c83e1c844b/configurations/drift'},\n",
       "   {'enabled': True,\n",
       "    'monitor_definition_id': 'quality',\n",
       "    'type': 'quality_monitoring',\n",
       "    'url': '/v1/data_marts/f94e20cb-aa92-4636-97ce-08de6b714d02/service_bindings/df9e2b21-7bf6-4281-b736-8d3c1f41efea/subscriptions/b41ffa0c-506f-441c-813a-b1c83e1c844b/configurations/quality'}],\n",
       "  'deployments': [{'created_at': '2019-10-10T13:52:46.805Z',\n",
       "    'deployment_id': '7e239392-4ffc-42a7-aa0a-837519e53449',\n",
       "    'deployment_rn': '',\n",
       "    'deployment_type': 'online',\n",
       "    'name': 'Spark German Risk Deployment - Final',\n",
       "    'scoring_endpoint': {'request_headers': {'Content-Type': 'application/json'},\n",
       "     'url': 'https://us-south.ml.cloud.ibm.com/v3/wml_instances/df9e2b21-7bf6-4281-b736-8d3c1f41efea/deployments/7e239392-4ffc-42a7-aa0a-837519e53449/online'},\n",
       "    'url': 'https://us-south.ml.cloud.ibm.com/v3/wml_instances/df9e2b21-7bf6-4281-b736-8d3c1f41efea/deployments/7e239392-4ffc-42a7-aa0a-837519e53449'}],\n",
       "  'service_binding_id': 'df9e2b21-7bf6-4281-b736-8d3c1f41efea',\n",
       "  'status': {'state': 'active'}},\n",
       " 'metadata': {'guid': 'b41ffa0c-506f-441c-813a-b1c83e1c844b',\n",
       "  'url': '/v1/data_marts/f94e20cb-aa92-4636-97ce-08de6b714d02/service_bindings/df9e2b21-7bf6-4281-b736-8d3c1f41efea/subscriptions/b41ffa0c-506f-441c-813a-b1c83e1c844b',\n",
       "  'created_at': '2019-10-10T13:53:39.384Z',\n",
       "  'modified_at': '2019-10-10T14:04:39.750Z'}}"
      ]
     },
     "execution_count": 50,
     "metadata": {},
     "output_type": "execute_result"
    }
   ],
   "source": [
    "subscription.get_details()"
   ]
  },
  {
   "cell_type": "markdown",
   "metadata": {},
   "source": [
    "# Insert historical payloads"
   ]
  },
  {
   "cell_type": "code",
   "execution_count": 51,
   "metadata": {
    "scrolled": false
   },
   "outputs": [
    {
     "name": "stdout",
     "output_type": "stream",
     "text": [
      "rm: cannot remove 'payload_history*.json': No such file or directory\n",
      "--2019-10-10 14:04:45--  https://raw.githubusercontent.com/IBM/monitor-wml-model-with-watson-openscale/master/data/payload_history_1.json\n",
      "Resolving raw.githubusercontent.com (raw.githubusercontent.com)... 151.101.48.133\n",
      "Connecting to raw.githubusercontent.com (raw.githubusercontent.com)|151.101.48.133|:443... connected.\n",
      "HTTP request sent, awaiting response... 200 OK\n",
      "Length: 3817949 (3.6M) [text/plain]\n",
      "Saving to: 'payload_history_1.json'\n",
      "\n",
      "100%[======================================>] 3,817,949   --.-K/s   in 0.1s    \n",
      "\n",
      "2019-10-10 14:04:45 (36.6 MB/s) - 'payload_history_1.json' saved [3817949/3817949]\n",
      "\n",
      "--2019-10-10 14:04:45--  https://raw.githubusercontent.com/IBM/monitor-wml-model-with-watson-openscale/master/data/payload_history_2.json\n",
      "Resolving raw.githubusercontent.com (raw.githubusercontent.com)... 151.101.48.133\n",
      "Connecting to raw.githubusercontent.com (raw.githubusercontent.com)|151.101.48.133|:443... connected.\n",
      "HTTP request sent, awaiting response... 200 OK\n",
      "Length: 3818645 (3.6M) [text/plain]\n",
      "Saving to: 'payload_history_2.json'\n",
      "\n",
      "100%[======================================>] 3,818,645   --.-K/s   in 0.07s   \n",
      "\n",
      "2019-10-10 14:04:46 (54.6 MB/s) - 'payload_history_2.json' saved [3818645/3818645]\n",
      "\n",
      "--2019-10-10 14:04:46--  https://raw.githubusercontent.com/IBM/monitor-wml-model-with-watson-openscale/master/data/payload_history_3.json\n",
      "Resolving raw.githubusercontent.com (raw.githubusercontent.com)... 151.101.48.133\n",
      "Connecting to raw.githubusercontent.com (raw.githubusercontent.com)|151.101.48.133|:443... connected.\n",
      "HTTP request sent, awaiting response... 200 OK\n",
      "Length: 3818470 (3.6M) [text/plain]\n",
      "Saving to: 'payload_history_3.json'\n",
      "\n",
      "100%[======================================>] 3,818,470   --.-K/s   in 0.08s   \n",
      "\n",
      "2019-10-10 14:04:47 (47.3 MB/s) - 'payload_history_3.json' saved [3818470/3818470]\n",
      "\n",
      "--2019-10-10 14:04:47--  https://raw.githubusercontent.com/IBM/monitor-wml-model-with-watson-openscale/master/data/payload_history_4.json\n",
      "Resolving raw.githubusercontent.com (raw.githubusercontent.com)... 151.101.48.133\n",
      "Connecting to raw.githubusercontent.com (raw.githubusercontent.com)|151.101.48.133|:443... connected.\n",
      "HTTP request sent, awaiting response... 200 OK\n",
      "Length: 3818106 (3.6M) [text/plain]\n",
      "Saving to: 'payload_history_4.json'\n",
      "\n",
      "100%[======================================>] 3,818,106   --.-K/s   in 0.1s    \n",
      "\n",
      "2019-10-10 14:04:48 (35.1 MB/s) - 'payload_history_4.json' saved [3818106/3818106]\n",
      "\n",
      "--2019-10-10 14:04:48--  https://raw.githubusercontent.com/IBM/monitor-wml-model-with-watson-openscale/master/data/payload_history_5.json\n",
      "Resolving raw.githubusercontent.com (raw.githubusercontent.com)... 199.232.8.133\n",
      "Connecting to raw.githubusercontent.com (raw.githubusercontent.com)|199.232.8.133|:443... connected.\n",
      "HTTP request sent, awaiting response... 200 OK\n",
      "Length: 3817474 (3.6M) [text/plain]\n",
      "Saving to: 'payload_history_5.json'\n",
      "\n",
      "100%[======================================>] 3,817,474   --.-K/s   in 0.08s   \n",
      "\n",
      "2019-10-10 14:04:49 (43.7 MB/s) - 'payload_history_5.json' saved [3817474/3817474]\n",
      "\n",
      "--2019-10-10 14:04:49--  https://raw.githubusercontent.com/IBM/monitor-wml-model-with-watson-openscale/master/data/payload_history_6.json\n",
      "Resolving raw.githubusercontent.com (raw.githubusercontent.com)... 199.232.8.133\n",
      "Connecting to raw.githubusercontent.com (raw.githubusercontent.com)|199.232.8.133|:443... connected.\n",
      "HTTP request sent, awaiting response... 200 OK\n",
      "Length: 3817921 (3.6M) [text/plain]\n",
      "Saving to: 'payload_history_6.json'\n",
      "\n",
      "100%[======================================>] 3,817,921   --.-K/s   in 0.07s   \n",
      "\n",
      "2019-10-10 14:04:49 (49.3 MB/s) - 'payload_history_6.json' saved [3817921/3817921]\n",
      "\n",
      "--2019-10-10 14:04:50--  https://raw.githubusercontent.com/IBM/monitor-wml-model-with-watson-openscale/master/data/payload_history_7.json\n",
      "Resolving raw.githubusercontent.com (raw.githubusercontent.com)... 199.232.8.133\n",
      "Connecting to raw.githubusercontent.com (raw.githubusercontent.com)|199.232.8.133|:443... connected.\n",
      "HTTP request sent, awaiting response... 200 OK\n",
      "Length: 3818121 (3.6M) [text/plain]\n",
      "Saving to: 'payload_history_7.json'\n",
      "\n",
      "100%[======================================>] 3,818,121   --.-K/s   in 0.07s   \n",
      "\n",
      "2019-10-10 14:04:50 (51.3 MB/s) - 'payload_history_7.json' saved [3818121/3818121]\n",
      "\n"
     ]
    }
   ],
   "source": [
    "!rm payload_history*.json\n",
    "!wget https://raw.githubusercontent.com/IBM/monitor-wml-model-with-watson-openscale/master/data/payload_history_1.json\n",
    "!wget https://raw.githubusercontent.com/IBM/monitor-wml-model-with-watson-openscale/master/data/payload_history_2.json\n",
    "!wget https://raw.githubusercontent.com/IBM/monitor-wml-model-with-watson-openscale/master/data/payload_history_3.json\n",
    "!wget https://raw.githubusercontent.com/IBM/monitor-wml-model-with-watson-openscale/master/data/payload_history_4.json\n",
    "!wget https://raw.githubusercontent.com/IBM/monitor-wml-model-with-watson-openscale/master/data/payload_history_5.json\n",
    "!wget https://raw.githubusercontent.com/IBM/monitor-wml-model-with-watson-openscale/master/data/payload_history_6.json\n",
    "!wget https://raw.githubusercontent.com/IBM/monitor-wml-model-with-watson-openscale/master/data/payload_history_7.json"
   ]
  },
  {
   "cell_type": "code",
   "execution_count": 52,
   "metadata": {
    "scrolled": true
   },
   "outputs": [],
   "source": [
    "historyDays = 7"
   ]
  },
  {
   "cell_type": "code",
   "execution_count": 53,
   "metadata": {
    "scrolled": false
   },
   "outputs": [
    {
     "name": "stdout",
     "output_type": "stream",
     "text": [
      "Loading day 1\n",
      "Loading day 2\n",
      "Loading day 3\n",
      "Loading day 4\n",
      "Loading day 5\n",
      "Loading day 6\n",
      "Loading day 7\n",
      "Finished\n"
     ]
    }
   ],
   "source": [
    "from ibm_ai_openscale.supporting_classes import PayloadRecord, Feature\n",
    "import datetime\n",
    "import time\n",
    "\n",
    "for day in range(historyDays):\n",
    "    print('Loading day {}'.format(day + 1))\n",
    "    history_file = 'payload_history_' + str(day + 1) + '.json'\n",
    "    with open(history_file) as f:\n",
    "        payloads = json.load(f)\n",
    "        hourly_records = int(len(payloads) / 24)\n",
    "        index = 0\n",
    "        for hour in range(24):\n",
    "            recordsList = []\n",
    "            for i in range(hourly_records):\n",
    "                score_time = str(datetime.datetime.utcnow() + datetime.timedelta(hours=(-(24*day + hour + 1))))\n",
    "                recordsList.append(PayloadRecord(request=payloads[index]['request'], response=payloads[index]['response'], scoring_timestamp=score_time))\n",
    "                index += 1\n",
    "            subscription.payload_logging.store(records=recordsList)\n",
    "print('Finished')"
   ]
  },
  {
   "cell_type": "code",
   "execution_count": 54,
   "metadata": {
    "scrolled": true
   },
   "outputs": [
    {
     "name": "stdout",
     "output_type": "stream",
     "text": [
      "f94e20cb-aa92-4636-97ce-08de6b714d02\n"
     ]
    }
   ],
   "source": [
    "data_mart_id = subscription.get_details()['metadata']['url'].split('/service_bindings')[0].split('marts/')[1]\n",
    "print(data_mart_id)"
   ]
  },
  {
   "cell_type": "code",
   "execution_count": 55,
   "metadata": {
    "scrolled": true
   },
   "outputs": [
    {
     "name": "stdout",
     "output_type": "stream",
     "text": [
      "https://api.aiopenscale.cloud.ibm.com/v1/data_marts/f94e20cb-aa92-4636-97ce-08de6b714d02/metrics\n"
     ]
    }
   ],
   "source": [
    "performance_metrics_url = 'https://api.aiopenscale.cloud.ibm.com' + subscription.get_details()['metadata']['url'].split('/service_bindings')[0] + '/metrics'\n",
    "print(performance_metrics_url)"
   ]
  },
  {
   "cell_type": "markdown",
   "metadata": {},
   "source": [
    "## Insert historical fairness metrics"
   ]
  },
  {
   "cell_type": "code",
   "execution_count": 56,
   "metadata": {},
   "outputs": [
    {
     "name": "stdout",
     "output_type": "stream",
     "text": [
      "rm: cannot remove 'fairness_history.json': No such file or directory\n",
      "--2019-10-10 14:06:42--  https://raw.githubusercontent.com/IBM/monitor-wml-model-with-watson-openscale/master/data/fairness_history.json\n",
      "Resolving raw.githubusercontent.com (raw.githubusercontent.com)... 199.232.8.133\n",
      "Connecting to raw.githubusercontent.com (raw.githubusercontent.com)|199.232.8.133|:443... connected.\n",
      "HTTP request sent, awaiting response... 200 OK\n",
      "Length: 877247 (857K) [text/plain]\n",
      "Saving to: 'fairness_history.json'\n",
      "\n",
      "100%[======================================>] 877,247     --.-K/s   in 0.04s   \n",
      "\n",
      "2019-10-10 14:06:42 (20.9 MB/s) - 'fairness_history.json' saved [877247/877247]\n",
      "\n"
     ]
    }
   ],
   "source": [
    "!rm fairness_history.json\n",
    "!wget https://raw.githubusercontent.com/IBM/monitor-wml-model-with-watson-openscale/master/data/fairness_history.json"
   ]
  },
  {
   "cell_type": "code",
   "execution_count": 57,
   "metadata": {
    "scrolled": true
   },
   "outputs": [
    {
     "name": "stdout",
     "output_type": "stream",
     "text": [
      "Day 1\n",
      "Day 2\n",
      "Day 3\n",
      "Day 4\n",
      "Day 5\n",
      "Day 6\n",
      "Day 7\n",
      "Finished\n"
     ]
    }
   ],
   "source": [
    "import random\n",
    "token_data = {\n",
    "    'grant_type': 'urn:ibm:params:oauth:grant-type:apikey',\n",
    "    'response_type': 'cloud_iam',\n",
    "    'apikey': AIOS_CREDENTIALS['apikey']\n",
    "}\n",
    "\n",
    "response = requests.post('https://iam.bluemix.net/identity/token', data=token_data)\n",
    "iam_token = response.json()['access_token']\n",
    "iam_headers = {\n",
    "    'Content-Type': 'application/json',\n",
    "    'Authorization': 'Bearer %s' % iam_token\n",
    "}\n",
    "\n",
    "with open('fairness_history.json', 'r') as history_file:\n",
    "    payloads = json.load(history_file)\n",
    "\n",
    "for day in range(historyDays):\n",
    "    print('Day', day + 1)\n",
    "    for hour in range(24):\n",
    "        score_time = (datetime.datetime.utcnow() + datetime.timedelta(hours=(-(24*day + hour + 1)))).strftime('%Y-%m-%dT%H:%M:%SZ')\n",
    "        \n",
    "        qualityMetric = {\n",
    "            'metric_type': 'fairness',\n",
    "            'binding_id': binding_uid,\n",
    "            'timestamp': score_time,\n",
    "            'subscription_id': model_uid,\n",
    "            'asset_revision': model_uid,\n",
    "            'deployment_id': deployment_uid,\n",
    "            'value': random.choice(payloads)\n",
    "        }\n",
    "\n",
    "        response = requests.post(performance_metrics_url, json=[qualityMetric], headers=iam_headers)\n",
    "print('Finished')"
   ]
  },
  {
   "cell_type": "markdown",
   "metadata": {},
   "source": [
    "## Insert historical quality metrics"
   ]
  },
  {
   "cell_type": "code",
   "execution_count": 58,
   "metadata": {
    "scrolled": true
   },
   "outputs": [
    {
     "name": "stdout",
     "output_type": "stream",
     "text": [
      "Day 1\n",
      "Day 2\n",
      "Day 3\n",
      "Day 4\n",
      "Day 5\n",
      "Day 6\n",
      "Day 7\n",
      "Finished\n"
     ]
    }
   ],
   "source": [
    "token_data = {\n",
    "    'grant_type': 'urn:ibm:params:oauth:grant-type:apikey',\n",
    "    'response_type': 'cloud_iam',\n",
    "    'apikey': AIOS_CREDENTIALS['apikey']\n",
    "}\n",
    "\n",
    "response = requests.post('https://iam.bluemix.net/identity/token', data=token_data)\n",
    "iam_token = response.json()['access_token']\n",
    "iam_headers = {\n",
    "    'Content-Type': 'application/json',\n",
    "    'Authorization': 'Bearer %s' % iam_token\n",
    "}\n",
    "\n",
    "measurements = [0.76, 0.78, 0.68, 0.72, 0.73, 0.77, 0.80]\n",
    "for day in range(historyDays):\n",
    "    print('Day', day + 1)\n",
    "    for hour in range(24):\n",
    "        score_time = (datetime.datetime.utcnow() + datetime.timedelta(hours=(-(24*day + hour + 1)))).strftime('%Y-%m-%dT%H:%M:%SZ')\n",
    "        \n",
    "        qualityMetric = {\n",
    "            'metric_type': 'quality',\n",
    "            'binding_id': binding_uid,\n",
    "            'timestamp': score_time,\n",
    "            'subscription_id': model_uid,\n",
    "            'asset_revision': model_uid,\n",
    "            'deployment_id': deployment_uid,\n",
    "            'value': {\n",
    "                'quality': measurements[day],\n",
    "                'threshold': 0.7,\n",
    "                'metrics': [\n",
    "                    {\n",
    "                        'name': 'auroc',\n",
    "                        'value': measurements[day],\n",
    "                        'threshold': 0.7\n",
    "                    }\n",
    "                ]\n",
    "            }\n",
    "        }\n",
    "\n",
    "        response = requests.post(performance_metrics_url, json=[qualityMetric], headers=iam_headers)\n",
    "print('Finished')"
   ]
  },
  {
   "cell_type": "markdown",
   "metadata": {},
   "source": [
    "## Insert historical performance metrics"
   ]
  },
  {
   "cell_type": "code",
   "execution_count": 59,
   "metadata": {},
   "outputs": [
    {
     "name": "stdout",
     "output_type": "stream",
     "text": [
      "Day 1\n",
      "Day 2\n",
      "Day 3\n",
      "Day 4\n",
      "Day 5\n",
      "Day 6\n",
      "Day 7\n",
      "Finished\n"
     ]
    }
   ],
   "source": [
    "token_data = {\n",
    "    'grant_type': 'urn:ibm:params:oauth:grant-type:apikey',\n",
    "    'response_type': 'cloud_iam',\n",
    "    'apikey': AIOS_CREDENTIALS['apikey']\n",
    "}\n",
    "\n",
    "response = requests.post('https://iam.bluemix.net/identity/token', data=token_data)\n",
    "iam_token = response.json()['access_token']\n",
    "iam_headers = {\n",
    "    'Content-Type': 'application/json',\n",
    "    'Authorization': 'Bearer %s' % iam_token\n",
    "}\n",
    "\n",
    "for day in range(historyDays):\n",
    "    print('Day', day + 1)\n",
    "    for hour in range(24):\n",
    "        score_time = (datetime.datetime.utcnow() + datetime.timedelta(hours=(-(24*day + hour + 1)))).strftime('%Y-%m-%dT%H:%M:%SZ')\n",
    "        score_count = random.randint(60, 600)\n",
    "        score_resp = random.uniform(60, 300)\n",
    "\n",
    "        performanceMetric = {\n",
    "            'metric_type': 'performance',\n",
    "            'binding_id': binding_uid,\n",
    "            'timestamp': score_time,\n",
    "            'subscription_id': model_uid,\n",
    "            'asset_revision': model_uid,\n",
    "            'deployment_id': deployment_uid,\n",
    "            'value': {\n",
    "                'response_time': score_resp,\n",
    "                'records': score_count\n",
    "            }\n",
    "        }\n",
    "\n",
    "        response = requests.post(performance_metrics_url, json=[performanceMetric], headers=iam_headers)\n",
    "print('Finished')"
   ]
  },
  {
   "cell_type": "markdown",
   "metadata": {},
   "source": [
    "## Configure Explainability"
   ]
  },
  {
   "cell_type": "code",
   "execution_count": 60,
   "metadata": {
    "scrolled": true
   },
   "outputs": [],
   "source": [
    "from ibm_ai_openscale.supporting_classes import *\n",
    "subscription.explainability.enable(training_data=pd_data)"
   ]
  },
  {
   "cell_type": "code",
   "execution_count": 61,
   "metadata": {
    "scrolled": true
   },
   "outputs": [
    {
     "data": {
      "text/plain": [
       "{'enabled': True,\n",
       " 'parameters': {'training_statistics': {'base_values': {'0': 'no_checking',\n",
       "    '1': 21.0,\n",
       "    '10': 3.0,\n",
       "    '11': 'savings_insurance',\n",
       "    '12': 36.0,\n",
       "    '13': 'none',\n",
       "    '14': 'own',\n",
       "    '15': 1.0,\n",
       "    '16': 'skilled',\n",
       "    '17': 1.0,\n",
       "    '18': 'none',\n",
       "    '19': 'yes',\n",
       "    '2': 'prior_payments_delayed',\n",
       "    '3': 'car_new',\n",
       "    '4': 3238.5,\n",
       "    '5': 'less_100',\n",
       "    '6': '1_to_4',\n",
       "    '7': 3.0,\n",
       "    '8': 'male',\n",
       "    '9': 'none'},\n",
       "   'categorical_columns': ['CheckingStatus',\n",
       "    'CreditHistory',\n",
       "    'LoanPurpose',\n",
       "    'ExistingSavings',\n",
       "    'EmploymentDuration',\n",
       "    'Sex',\n",
       "    'OthersOnLoan',\n",
       "    'OwnsProperty',\n",
       "    'InstallmentPlans',\n",
       "    'Housing',\n",
       "    'Job',\n",
       "    'Telephone',\n",
       "    'ForeignWorker'],\n",
       "   'categorical_columns_encoding_mapping': {'0': ['0_to_200',\n",
       "     'greater_200',\n",
       "     'less_0',\n",
       "     'no_checking'],\n",
       "    '11': ['car_other', 'real_estate', 'savings_insurance', 'unknown'],\n",
       "    '13': ['bank', 'none', 'stores'],\n",
       "    '14': ['free', 'own', 'rent'],\n",
       "    '16': ['management_self-employed', 'skilled', 'unemployed', 'unskilled'],\n",
       "    '18': ['none', 'yes'],\n",
       "    '19': ['no', 'yes'],\n",
       "    '2': ['all_credits_paid_back',\n",
       "     'credits_paid_to_date',\n",
       "     'no_credits',\n",
       "     'outstanding_credit',\n",
       "     'prior_payments_delayed'],\n",
       "    '3': ['appliances',\n",
       "     'business',\n",
       "     'car_new',\n",
       "     'car_used',\n",
       "     'education',\n",
       "     'furniture',\n",
       "     'other',\n",
       "     'radio_tv',\n",
       "     'repairs',\n",
       "     'retraining',\n",
       "     'vacation'],\n",
       "    '5': ['100_to_500', '500_to_1000', 'greater_1000', 'less_100', 'unknown'],\n",
       "    '6': ['1_to_4', '4_to_7', 'greater_7', 'less_1', 'unemployed'],\n",
       "    '8': ['female', 'male'],\n",
       "    '9': ['co-applicant', 'guarantor', 'none']},\n",
       "   'categorical_counts': {'0': {'0_to_200': 1304,\n",
       "     'greater_200': 305,\n",
       "     'less_0': 1398,\n",
       "     'no_checking': 1993},\n",
       "    '11': {'car_other': 1540,\n",
       "     'real_estate': 1087,\n",
       "     'savings_insurance': 1660,\n",
       "     'unknown': 713},\n",
       "    '13': {'bank': 466, 'none': 3517, 'stores': 1017},\n",
       "    '14': {'free': 739, 'own': 3195, 'rent': 1066},\n",
       "    '16': {'management_self-employed': 641,\n",
       "     'skilled': 3400,\n",
       "     'unemployed': 286,\n",
       "     'unskilled': 673},\n",
       "    '18': {'none': 2941, 'yes': 2059},\n",
       "    '19': {'no': 123, 'yes': 4877},\n",
       "    '2': {'all_credits_paid_back': 769,\n",
       "     'credits_paid_to_date': 1490,\n",
       "     'no_credits': 117,\n",
       "     'outstanding_credit': 938,\n",
       "     'prior_payments_delayed': 1686},\n",
       "    '3': {'appliances': 561,\n",
       "     'business': 146,\n",
       "     'car_new': 945,\n",
       "     'car_used': 808,\n",
       "     'education': 167,\n",
       "     'furniture': 853,\n",
       "     'other': 113,\n",
       "     'radio_tv': 755,\n",
       "     'repairs': 283,\n",
       "     'retraining': 164,\n",
       "     'vacation': 205},\n",
       "    '5': {'100_to_500': 1133,\n",
       "     '500_to_1000': 1078,\n",
       "     'greater_1000': 558,\n",
       "     'less_100': 1856,\n",
       "     'unknown': 375},\n",
       "    '6': {'1_to_4': 1470,\n",
       "     '4_to_7': 1400,\n",
       "     'greater_7': 930,\n",
       "     'less_1': 904,\n",
       "     'unemployed': 296},\n",
       "    '8': {'female': 1896, 'male': 3104},\n",
       "    '9': {'co-applicant': 717, 'guarantor': 110, 'none': 4173}},\n",
       "   'class_labels': ['No Risk', 'Risk'],\n",
       "   'd_bins': {'1': [13.0, 21.0, 29.0],\n",
       "    '10': [2.0, 3.0, 4.0],\n",
       "    '12': [28.0, 36.0, 44.0],\n",
       "    '15': [1.0, 1.0, 2.0],\n",
       "    '17': [1.0, 1.0, 1.0],\n",
       "    '4': [1326.75, 3238.5, 5355.0],\n",
       "    '7': [2.0, 3.0, 4.0]},\n",
       "   'd_maxs': {'1': [13.0, 21.0, 29.0, 64],\n",
       "    '10': [2.0, 3.0, 4.0, 6],\n",
       "    '12': [28.0, 36.0, 44.0, 74],\n",
       "    '15': [1.0, 2.0, 4],\n",
       "    '17': [1.0, 2],\n",
       "    '4': [1326.75, 3238.5, 5355.0, 11676],\n",
       "    '7': [2.0, 3.0, 4.0, 6]},\n",
       "   'd_means': {'1': [7.876363636363636,\n",
       "     17.343856655290104,\n",
       "     25.615767634854773,\n",
       "     36.010416666666664],\n",
       "    '10': [1.6606574761399788, 3.0, 4.0, 5.008403361344538],\n",
       "    '12': [22.81831610044313,\n",
       "     32.60750586395621,\n",
       "     40.36829268292683,\n",
       "     50.49076517150396],\n",
       "    '15': [1.0, 2.0, 3.005714285714286],\n",
       "    '17': [1.0, 2.0],\n",
       "    '4': [480.6648, 2291.952, 4282.900079936051, 6867.1305044035225],\n",
       "    '7': [1.6991202346041057, 3.0, 4.0, 5.039735099337748]},\n",
       "   'd_mins': {'1': [4, 13.0, 21.0, 29.0],\n",
       "    '10': [1, 2.0, 3.0, 4.0],\n",
       "    '12': [19, 28.0, 36.0, 44.0],\n",
       "    '15': [1, 1.0, 2.0],\n",
       "    '17': [1, 1.0],\n",
       "    '4': [250, 1326.75, 3238.5, 5355.0],\n",
       "    '7': [1, 2.0, 3.0, 4.0]},\n",
       "   'd_stds': {'1': [3.277136423855652,\n",
       "     2.3104647243135257,\n",
       "     2.2016780501487694,\n",
       "     5.480360081360561],\n",
       "    '10': [0.4734861934310266, 1e-11, 1e-11, 0.09128386968395145],\n",
       "    '12': [3.3320991295514313,\n",
       "     2.2814080024457186,\n",
       "     2.2498714352952085,\n",
       "     4.849734375521442],\n",
       "    '15': [1e-11, 1e-11, 0.0753766054858451],\n",
       "    '17': [1e-11, 1e-11],\n",
       "    '4': [341.97517167327516,\n",
       "     542.3014505752415,\n",
       "     614.7408612958544,\n",
       "     1206.6756003938751],\n",
       "    '7': [0.4586405260990112, 1e-11, 1e-11, 0.1953361748941403]},\n",
       "   'feature_columns': ['CheckingStatus',\n",
       "    'LoanDuration',\n",
       "    'CreditHistory',\n",
       "    'LoanPurpose',\n",
       "    'LoanAmount',\n",
       "    'ExistingSavings',\n",
       "    'EmploymentDuration',\n",
       "    'InstallmentPercent',\n",
       "    'Sex',\n",
       "    'OthersOnLoan',\n",
       "    'CurrentResidenceDuration',\n",
       "    'OwnsProperty',\n",
       "    'Age',\n",
       "    'InstallmentPlans',\n",
       "    'Housing',\n",
       "    'ExistingCreditsCount',\n",
       "    'Job',\n",
       "    'Dependents',\n",
       "    'Telephone',\n",
       "    'ForeignWorker'],\n",
       "   'feature_frequencies': {'0': [1304, 1398, 1993, 305],\n",
       "    '1': [1248, 1172, 1205, 1375],\n",
       "    '10': [1677, 1886, 357, 1080],\n",
       "    '11': [1660, 1087, 713, 1540],\n",
       "    '12': [1279, 1230, 1354, 1137],\n",
       "    '13': [3517, 1017, 466],\n",
       "    '14': [3195, 739, 1066],\n",
       "    '15': [2847, 1978, 175],\n",
       "    '16': [3400, 641, 673, 286],\n",
       "    '17': [4177, 823],\n",
       "    '18': [2941, 2059],\n",
       "    '19': [4877, 123],\n",
       "    '2': [1490, 1686, 938, 769, 117],\n",
       "    '3': [113, 945, 853, 164, 167, 205, 561, 808, 283, 755, 146],\n",
       "    '4': [1250, 1250, 1251, 1249],\n",
       "    '5': [1133, 1856, 1078, 375, 558],\n",
       "    '6': [904, 1470, 930, 1400, 296],\n",
       "    '7': [1636, 1705, 453, 1206],\n",
       "    '8': [1896, 3104],\n",
       "    '9': [4173, 717, 110]},\n",
       "   'feature_values': {'0': [0, 2, 3, 1],\n",
       "    '1': [3, 1, 2, 0],\n",
       "    '10': [1, 0, 3, 2],\n",
       "    '11': [2, 1, 3, 0],\n",
       "    '12': [1, 2, 0, 3],\n",
       "    '13': [1, 2, 0],\n",
       "    '14': [1, 0, 2],\n",
       "    '15': [0, 1, 2],\n",
       "    '16': [1, 0, 3, 2],\n",
       "    '17': [0, 1],\n",
       "    '18': [0, 1],\n",
       "    '19': [1, 0],\n",
       "    '2': [1, 4, 3, 0, 2],\n",
       "    '3': [6, 2, 5, 9, 4, 10, 0, 3, 8, 7, 1],\n",
       "    '4': [1, 0, 2, 3],\n",
       "    '5': [0, 3, 1, 4, 2],\n",
       "    '6': [3, 0, 2, 1, 4],\n",
       "    '7': [1, 0, 3, 2],\n",
       "    '8': [0, 1],\n",
       "    '9': [2, 0, 1]},\n",
       "   'maxs': {'1': 64, '10': 6, '12': 74, '15': 4, '17': 2, '4': 11676, '7': 6},\n",
       "   'mins': {'1': 4, '10': 1, '12': 19, '15': 1, '17': 1, '4': 250, '7': 1},\n",
       "   'stds': {'1': 11.161727061705102,\n",
       "    '10': 1.1155905879846781,\n",
       "    '12': 10.647470602917858,\n",
       "    '15': 0.565358611856227,\n",
       "    '17': 0.3708191472942033,\n",
       "    '4': 2487.983946968911,\n",
       "    '7': 1.126982803772977}}}}"
      ]
     },
     "execution_count": 61,
     "metadata": {},
     "output_type": "execute_result"
    }
   ],
   "source": [
    "subscription.explainability.get_details()"
   ]
  },
  {
   "cell_type": "markdown",
   "metadata": {},
   "source": [
    "## Run fairness monitor"
   ]
  },
  {
   "cell_type": "markdown",
   "metadata": {},
   "source": [
    "Kick off a fairness monitor run on current data. Depending on how fast the monitor runs, the table may not contain the most recent results."
   ]
  },
  {
   "cell_type": "code",
   "execution_count": 62,
   "metadata": {
    "scrolled": true
   },
   "outputs": [],
   "source": [
    "run_details = subscription.fairness_monitoring.run()"
   ]
  },
  {
   "cell_type": "code",
   "execution_count": 63,
   "metadata": {
    "scrolled": true
   },
   "outputs": [
    {
     "data": {
      "text/html": [
       "<HTML>\n",
       "        <body>\n",
       "            <h3>FairnessMetrics (binding_id=df9e2b21-7bf6-4281-b736-8d3c1f41efea, subscription_id=b41ffa0c-506f-441c-813a-b1c83e1c844b)</h3>\n",
       "            <table style='border: 1px solid #dddddd; font-family: Courier'>\n",
       "                <th style='border: 1px solid #dddddd'>ts</th><th style='border: 1px solid #dddddd'>feature</th><th style='border: 1px solid #dddddd'>feature_value</th><th style='border: 1px solid #dddddd'>fairness_biased</th><th style='border: 1px solid #dddddd'>fairness_value</th><th style='border: 1px solid #dddddd'>fairness_fav_class</th><th style='border: 1px solid #dddddd'>binding_id</th><th style='border: 1px solid #dddddd'>subscription_id</th><th style='border: 1px solid #dddddd'>asset_revision</th><th style='border: 1px solid #dddddd'>deployment_id</th><th style='border: 1px solid #dddddd'>process</th>\n",
       "                <tr><td style='border: 1px solid #dddddd'>2019-10-10 14:05:28.722212+00:00</td><td style='border: 1px solid #dddddd'>Sex</td><td style='border: 1px solid #dddddd'>female</td><td style='border: 1px solid #dddddd'>True</td><td style='border: 1px solid #dddddd'>0.883</td><td style='border: 1px solid #dddddd'>69.3</td><td style='border: 1px solid #dddddd'>df9e2b21-7bf6-4281-b736-8d3c1f41efea</td><td style='border: 1px solid #dddddd'>b41ffa0c-506f-441c-813a-b1c83e1c844b</td><td style='border: 1px solid #dddddd'>b41ffa0c-506f-441c-813a-b1c83e1c844b</td><td style='border: 1px solid #dddddd'>7e239392-4ffc-42a7-aa0a-837519e53449</td><td style='border: 1px solid #dddddd'></td></tr><tr><td style='border: 1px solid #dddddd'>2019-10-10 14:05:28.722212+00:00</td><td style='border: 1px solid #dddddd'>Age</td><td style='border: 1px solid #dddddd'>[18, 25]</td><td style='border: 1px solid #dddddd'>False</td><td style='border: 1px solid #dddddd'>1.099</td><td style='border: 1px solid #dddddd'>84.5</td><td style='border: 1px solid #dddddd'>df9e2b21-7bf6-4281-b736-8d3c1f41efea</td><td style='border: 1px solid #dddddd'>b41ffa0c-506f-441c-813a-b1c83e1c844b</td><td style='border: 1px solid #dddddd'>b41ffa0c-506f-441c-813a-b1c83e1c844b</td><td style='border: 1px solid #dddddd'>7e239392-4ffc-42a7-aa0a-837519e53449</td><td style='border: 1px solid #dddddd'></td></tr><tr><td style='border: 1px solid #dddddd'>2019-10-10 10:06:46+00:00</td><td style='border: 1px solid #dddddd'>Sex</td><td style='border: 1px solid #dddddd'>female</td><td style='border: 1px solid #dddddd'>True</td><td style='border: 1px solid #dddddd'>0.897</td><td style='border: 1px solid #dddddd'>69.5</td><td style='border: 1px solid #dddddd'>df9e2b21-7bf6-4281-b736-8d3c1f41efea</td><td style='border: 1px solid #dddddd'>b41ffa0c-506f-441c-813a-b1c83e1c844b</td><td style='border: 1px solid #dddddd'>bcf1e2e9-dbe9-4472-8ea4-12c35d224bf3</td><td style='border: 1px solid #dddddd'>7e239392-4ffc-42a7-aa0a-837519e53449</td><td style='border: 1px solid #dddddd'></td></tr><tr><td style='border: 1px solid #dddddd'>2019-10-10 10:06:46+00:00</td><td style='border: 1px solid #dddddd'>Age</td><td style='border: 1px solid #dddddd'>[18, 25]</td><td style='border: 1px solid #dddddd'>False</td><td style='border: 1px solid #dddddd'>1.03</td><td style='border: 1px solid #dddddd'>82.6086956521739</td><td style='border: 1px solid #dddddd'>df9e2b21-7bf6-4281-b736-8d3c1f41efea</td><td style='border: 1px solid #dddddd'>b41ffa0c-506f-441c-813a-b1c83e1c844b</td><td style='border: 1px solid #dddddd'>bcf1e2e9-dbe9-4472-8ea4-12c35d224bf3</td><td style='border: 1px solid #dddddd'>7e239392-4ffc-42a7-aa0a-837519e53449</td><td style='border: 1px solid #dddddd'></td></tr><tr><td style='border: 1px solid #dddddd'>2019-10-10 08:06:46+00:00</td><td style='border: 1px solid #dddddd'>Sex</td><td style='border: 1px solid #dddddd'>female</td><td style='border: 1px solid #dddddd'>True</td><td style='border: 1px solid #dddddd'>0.917</td><td style='border: 1px solid #dddddd'>72.0</td><td style='border: 1px solid #dddddd'>df9e2b21-7bf6-4281-b736-8d3c1f41efea</td><td style='border: 1px solid #dddddd'>b41ffa0c-506f-441c-813a-b1c83e1c844b</td><td style='border: 1px solid #dddddd'>bcf1e2e9-dbe9-4472-8ea4-12c35d224bf3</td><td style='border: 1px solid #dddddd'>7e239392-4ffc-42a7-aa0a-837519e53449</td><td style='border: 1px solid #dddddd'></td></tr><tr><td style='border: 1px solid #dddddd'>2019-10-10 08:06:46+00:00</td><td style='border: 1px solid #dddddd'>Age</td><td style='border: 1px solid #dddddd'>[18, 25]</td><td style='border: 1px solid #dddddd'>False</td><td style='border: 1px solid #dddddd'>1.039</td><td style='border: 1px solid #dddddd'>84.06593406593407</td><td style='border: 1px solid #dddddd'>df9e2b21-7bf6-4281-b736-8d3c1f41efea</td><td style='border: 1px solid #dddddd'>b41ffa0c-506f-441c-813a-b1c83e1c844b</td><td style='border: 1px solid #dddddd'>bcf1e2e9-dbe9-4472-8ea4-12c35d224bf3</td><td style='border: 1px solid #dddddd'>7e239392-4ffc-42a7-aa0a-837519e53449</td><td style='border: 1px solid #dddddd'></td></tr><tr><td style='border: 1px solid #dddddd'>2019-10-10 11:06:46+00:00</td><td style='border: 1px solid #dddddd'>Sex</td><td style='border: 1px solid #dddddd'>female</td><td style='border: 1px solid #dddddd'>True</td><td style='border: 1px solid #dddddd'>0.948</td><td style='border: 1px solid #dddddd'>73.0</td><td style='border: 1px solid #dddddd'>df9e2b21-7bf6-4281-b736-8d3c1f41efea</td><td style='border: 1px solid #dddddd'>b41ffa0c-506f-441c-813a-b1c83e1c844b</td><td style='border: 1px solid #dddddd'>bcf1e2e9-dbe9-4472-8ea4-12c35d224bf3</td><td style='border: 1px solid #dddddd'>7e239392-4ffc-42a7-aa0a-837519e53449</td><td style='border: 1px solid #dddddd'></td></tr><tr><td style='border: 1px solid #dddddd'>2019-10-10 11:06:46+00:00</td><td style='border: 1px solid #dddddd'>Age</td><td style='border: 1px solid #dddddd'>[18, 25]</td><td style='border: 1px solid #dddddd'>False</td><td style='border: 1px solid #dddddd'>1.059</td><td style='border: 1px solid #dddddd'>84.40111420612814</td><td style='border: 1px solid #dddddd'>df9e2b21-7bf6-4281-b736-8d3c1f41efea</td><td style='border: 1px solid #dddddd'>b41ffa0c-506f-441c-813a-b1c83e1c844b</td><td style='border: 1px solid #dddddd'>bcf1e2e9-dbe9-4472-8ea4-12c35d224bf3</td><td style='border: 1px solid #dddddd'>7e239392-4ffc-42a7-aa0a-837519e53449</td><td style='border: 1px solid #dddddd'></td></tr><tr><td style='border: 1px solid #dddddd'>2019-10-10 07:06:46+00:00</td><td style='border: 1px solid #dddddd'>Sex</td><td style='border: 1px solid #dddddd'>female</td><td style='border: 1px solid #dddddd'>True</td><td style='border: 1px solid #dddddd'>0.929</td><td style='border: 1px solid #dddddd'>72.0</td><td style='border: 1px solid #dddddd'>df9e2b21-7bf6-4281-b736-8d3c1f41efea</td><td style='border: 1px solid #dddddd'>b41ffa0c-506f-441c-813a-b1c83e1c844b</td><td style='border: 1px solid #dddddd'>bcf1e2e9-dbe9-4472-8ea4-12c35d224bf3</td><td style='border: 1px solid #dddddd'>7e239392-4ffc-42a7-aa0a-837519e53449</td><td style='border: 1px solid #dddddd'></td></tr><tr><td style='border: 1px solid #dddddd'>2019-10-10 07:06:46+00:00</td><td style='border: 1px solid #dddddd'>Age</td><td style='border: 1px solid #dddddd'>[18, 25]</td><td style='border: 1px solid #dddddd'>False</td><td style='border: 1px solid #dddddd'>1.005</td><td style='border: 1px solid #dddddd'>80.32786885245902</td><td style='border: 1px solid #dddddd'>df9e2b21-7bf6-4281-b736-8d3c1f41efea</td><td style='border: 1px solid #dddddd'>b41ffa0c-506f-441c-813a-b1c83e1c844b</td><td style='border: 1px solid #dddddd'>bcf1e2e9-dbe9-4472-8ea4-12c35d224bf3</td><td style='border: 1px solid #dddddd'>7e239392-4ffc-42a7-aa0a-837519e53449</td><td style='border: 1px solid #dddddd'></td></tr>\n",
       "            </table>\n",
       "        </body>\n",
       "        </HTML>"
      ],
      "text/plain": [
       "<IPython.core.display.HTML object>"
      ]
     },
     "metadata": {},
     "output_type": "display_data"
    }
   ],
   "source": [
    "subscription.fairness_monitoring.show_table()"
   ]
  },
  {
   "cell_type": "markdown",
   "metadata": {},
   "source": [
    "## Additional data to help debugging\n",
    "You will use the `Deployment` to configure the OpenScale dashboard."
   ]
  },
  {
   "cell_type": "code",
   "execution_count": 64,
   "metadata": {
    "scrolled": true
   },
   "outputs": [
    {
     "name": "stdout",
     "output_type": "stream",
     "text": [
      "Datamart: f94e20cb-aa92-4636-97ce-08de6b714d02\n",
      "Model: bcf1e2e9-dbe9-4472-8ea4-12c35d224bf3\n",
      "Deployment: 7e239392-4ffc-42a7-aa0a-837519e53449\n",
      "Binding: df9e2b21-7bf6-4281-b736-8d3c1f41efea\n",
      "Scoring URL: https://us-south.ml.cloud.ibm.com/v3/wml_instances/df9e2b21-7bf6-4281-b736-8d3c1f41efea/deployments/7e239392-4ffc-42a7-aa0a-837519e53449/online\n"
     ]
    }
   ],
   "source": [
    "print('Datamart:', data_mart_id)\n",
    "print('Model:', model_uid)\n",
    "print('Deployment:', deployment_uid)\n",
    "print('Binding:', binding_uid)\n",
    "print('Scoring URL:', credit_risk_scoring_endpoint)"
   ]
  },
  {
   "cell_type": "markdown",
   "metadata": {},
   "source": [
    "## Identify transactions for Explainability"
   ]
  },
  {
   "cell_type": "markdown",
   "metadata": {},
   "source": [
    "Transaction IDs identified by the cells below can be copied and pasted into the Explainability tab of the OpenScale dashboard."
   ]
  },
  {
   "cell_type": "code",
   "execution_count": 65,
   "metadata": {},
   "outputs": [
    {
     "data": {
      "text/html": [
       "<div>\n",
       "<style scoped>\n",
       "    .dataframe tbody tr th:only-of-type {\n",
       "        vertical-align: middle;\n",
       "    }\n",
       "\n",
       "    .dataframe tbody tr th {\n",
       "        vertical-align: top;\n",
       "    }\n",
       "\n",
       "    .dataframe thead th {\n",
       "        text-align: right;\n",
       "    }\n",
       "</style>\n",
       "<table border=\"1\" class=\"dataframe\">\n",
       "  <thead>\n",
       "    <tr style=\"text-align: right;\">\n",
       "      <th></th>\n",
       "      <th>scoring_id</th>\n",
       "      <th>predictedLabel</th>\n",
       "      <th>probability</th>\n",
       "    </tr>\n",
       "  </thead>\n",
       "  <tbody>\n",
       "    <tr>\n",
       "      <td>0</td>\n",
       "      <td>234db1d57890a4232a9469624c9e14f6-1</td>\n",
       "      <td>No Risk</td>\n",
       "      <td>[0.7848022143906432, 0.21519778560935682]</td>\n",
       "    </tr>\n",
       "    <tr>\n",
       "      <td>1</td>\n",
       "      <td>234db1d57890a4232a9469624c9e14f6-10</td>\n",
       "      <td>No Risk</td>\n",
       "      <td>[0.6331014643136736, 0.36689853568632635]</td>\n",
       "    </tr>\n",
       "    <tr>\n",
       "      <td>2</td>\n",
       "      <td>234db1d57890a4232a9469624c9e14f6-100</td>\n",
       "      <td>No Risk</td>\n",
       "      <td>[0.9635847950972265, 0.03641520490277356]</td>\n",
       "    </tr>\n",
       "    <tr>\n",
       "      <td>3</td>\n",
       "      <td>234db1d57890a4232a9469624c9e14f6-1000</td>\n",
       "      <td>Risk</td>\n",
       "      <td>[0.10741479265018362, 0.8925852073498164]</td>\n",
       "    </tr>\n",
       "    <tr>\n",
       "      <td>4</td>\n",
       "      <td>234db1d57890a4232a9469624c9e14f6-101</td>\n",
       "      <td>No Risk</td>\n",
       "      <td>[0.7163252533082689, 0.2836747466917312]</td>\n",
       "    </tr>\n",
       "    <tr>\n",
       "      <td>5</td>\n",
       "      <td>234db1d57890a4232a9469624c9e14f6-102</td>\n",
       "      <td>No Risk</td>\n",
       "      <td>[0.729811504347836, 0.27018849565216385]</td>\n",
       "    </tr>\n",
       "    <tr>\n",
       "      <td>6</td>\n",
       "      <td>234db1d57890a4232a9469624c9e14f6-103</td>\n",
       "      <td>Risk</td>\n",
       "      <td>[0.26560086129226435, 0.7343991387077357]</td>\n",
       "    </tr>\n",
       "    <tr>\n",
       "      <td>7</td>\n",
       "      <td>234db1d57890a4232a9469624c9e14f6-104</td>\n",
       "      <td>No Risk</td>\n",
       "      <td>[0.744139027792128, 0.2558609722078721]</td>\n",
       "    </tr>\n",
       "    <tr>\n",
       "      <td>8</td>\n",
       "      <td>234db1d57890a4232a9469624c9e14f6-105</td>\n",
       "      <td>No Risk</td>\n",
       "      <td>[0.8995929064682591, 0.10040709353174089]</td>\n",
       "    </tr>\n",
       "    <tr>\n",
       "      <td>9</td>\n",
       "      <td>234db1d57890a4232a9469624c9e14f6-106</td>\n",
       "      <td>No Risk</td>\n",
       "      <td>[0.9065948646550316, 0.09340513534496837]</td>\n",
       "    </tr>\n",
       "    <tr>\n",
       "      <td>10</td>\n",
       "      <td>234db1d57890a4232a9469624c9e14f6-107</td>\n",
       "      <td>Risk</td>\n",
       "      <td>[0.2467646625512784, 0.7532353374487215]</td>\n",
       "    </tr>\n",
       "    <tr>\n",
       "      <td>11</td>\n",
       "      <td>234db1d57890a4232a9469624c9e14f6-108</td>\n",
       "      <td>Risk</td>\n",
       "      <td>[0.18966101256612822, 0.8103389874338718]</td>\n",
       "    </tr>\n",
       "    <tr>\n",
       "      <td>12</td>\n",
       "      <td>234db1d57890a4232a9469624c9e14f6-109</td>\n",
       "      <td>No Risk</td>\n",
       "      <td>[0.9089652843898332, 0.09103471561016677]</td>\n",
       "    </tr>\n",
       "    <tr>\n",
       "      <td>13</td>\n",
       "      <td>234db1d57890a4232a9469624c9e14f6-11</td>\n",
       "      <td>No Risk</td>\n",
       "      <td>[0.9282181583923228, 0.07178184160767721]</td>\n",
       "    </tr>\n",
       "    <tr>\n",
       "      <td>14</td>\n",
       "      <td>234db1d57890a4232a9469624c9e14f6-110</td>\n",
       "      <td>No Risk</td>\n",
       "      <td>[0.5285462761910187, 0.47145372380898126]</td>\n",
       "    </tr>\n",
       "    <tr>\n",
       "      <td>15</td>\n",
       "      <td>234db1d57890a4232a9469624c9e14f6-111</td>\n",
       "      <td>No Risk</td>\n",
       "      <td>[0.9120785486606461, 0.08792145133935395]</td>\n",
       "    </tr>\n",
       "    <tr>\n",
       "      <td>16</td>\n",
       "      <td>234db1d57890a4232a9469624c9e14f6-112</td>\n",
       "      <td>No Risk</td>\n",
       "      <td>[0.9709439502752508, 0.029056049724749216]</td>\n",
       "    </tr>\n",
       "    <tr>\n",
       "      <td>17</td>\n",
       "      <td>234db1d57890a4232a9469624c9e14f6-113</td>\n",
       "      <td>No Risk</td>\n",
       "      <td>[0.7583731651316045, 0.2416268348683956]</td>\n",
       "    </tr>\n",
       "    <tr>\n",
       "      <td>18</td>\n",
       "      <td>234db1d57890a4232a9469624c9e14f6-114</td>\n",
       "      <td>No Risk</td>\n",
       "      <td>[0.5373659100504897, 0.46263408994951033]</td>\n",
       "    </tr>\n",
       "    <tr>\n",
       "      <td>19</td>\n",
       "      <td>234db1d57890a4232a9469624c9e14f6-115</td>\n",
       "      <td>Risk</td>\n",
       "      <td>[0.21382017166177256, 0.7861798283382274]</td>\n",
       "    </tr>\n",
       "    <tr>\n",
       "      <td>20</td>\n",
       "      <td>234db1d57890a4232a9469624c9e14f6-116</td>\n",
       "      <td>No Risk</td>\n",
       "      <td>[0.5199880143321678, 0.48001198566783215]</td>\n",
       "    </tr>\n",
       "    <tr>\n",
       "      <td>21</td>\n",
       "      <td>234db1d57890a4232a9469624c9e14f6-117</td>\n",
       "      <td>Risk</td>\n",
       "      <td>[0.19667320948583672, 0.8033267905141633]</td>\n",
       "    </tr>\n",
       "    <tr>\n",
       "      <td>22</td>\n",
       "      <td>234db1d57890a4232a9469624c9e14f6-118</td>\n",
       "      <td>No Risk</td>\n",
       "      <td>[0.6843138931867269, 0.3156861068132731]</td>\n",
       "    </tr>\n",
       "    <tr>\n",
       "      <td>23</td>\n",
       "      <td>234db1d57890a4232a9469624c9e14f6-119</td>\n",
       "      <td>Risk</td>\n",
       "      <td>[0.051051061642339524, 0.9489489383576604]</td>\n",
       "    </tr>\n",
       "    <tr>\n",
       "      <td>24</td>\n",
       "      <td>234db1d57890a4232a9469624c9e14f6-12</td>\n",
       "      <td>No Risk</td>\n",
       "      <td>[0.9337007388962354, 0.06629926110376454]</td>\n",
       "    </tr>\n",
       "    <tr>\n",
       "      <td>25</td>\n",
       "      <td>234db1d57890a4232a9469624c9e14f6-120</td>\n",
       "      <td>No Risk</td>\n",
       "      <td>[0.977865854490984, 0.022134145509016045]</td>\n",
       "    </tr>\n",
       "    <tr>\n",
       "      <td>26</td>\n",
       "      <td>234db1d57890a4232a9469624c9e14f6-121</td>\n",
       "      <td>No Risk</td>\n",
       "      <td>[0.5375389913391231, 0.46246100866087686]</td>\n",
       "    </tr>\n",
       "    <tr>\n",
       "      <td>27</td>\n",
       "      <td>234db1d57890a4232a9469624c9e14f6-122</td>\n",
       "      <td>No Risk</td>\n",
       "      <td>[0.6752269139331994, 0.3247730860668005]</td>\n",
       "    </tr>\n",
       "    <tr>\n",
       "      <td>28</td>\n",
       "      <td>234db1d57890a4232a9469624c9e14f6-123</td>\n",
       "      <td>No Risk</td>\n",
       "      <td>[0.9744542300140683, 0.02554576998593174]</td>\n",
       "    </tr>\n",
       "    <tr>\n",
       "      <td>29</td>\n",
       "      <td>234db1d57890a4232a9469624c9e14f6-124</td>\n",
       "      <td>No Risk</td>\n",
       "      <td>[0.9784652696956624, 0.021534730304337675]</td>\n",
       "    </tr>\n",
       "    <tr>\n",
       "      <td>30</td>\n",
       "      <td>234db1d57890a4232a9469624c9e14f6-125</td>\n",
       "      <td>No Risk</td>\n",
       "      <td>[0.7341087925071981, 0.26589120749280193]</td>\n",
       "    </tr>\n",
       "    <tr>\n",
       "      <td>31</td>\n",
       "      <td>234db1d57890a4232a9469624c9e14f6-126</td>\n",
       "      <td>Risk</td>\n",
       "      <td>[0.3021868287563346, 0.6978131712436653]</td>\n",
       "    </tr>\n",
       "    <tr>\n",
       "      <td>32</td>\n",
       "      <td>234db1d57890a4232a9469624c9e14f6-127</td>\n",
       "      <td>No Risk</td>\n",
       "      <td>[0.6672405053648046, 0.33275949463519544]</td>\n",
       "    </tr>\n",
       "    <tr>\n",
       "      <td>33</td>\n",
       "      <td>234db1d57890a4232a9469624c9e14f6-128</td>\n",
       "      <td>No Risk</td>\n",
       "      <td>[0.974315702343873, 0.025684297656126988]</td>\n",
       "    </tr>\n",
       "    <tr>\n",
       "      <td>34</td>\n",
       "      <td>234db1d57890a4232a9469624c9e14f6-129</td>\n",
       "      <td>Risk</td>\n",
       "      <td>[0.38799517873342715, 0.6120048212665729]</td>\n",
       "    </tr>\n",
       "    <tr>\n",
       "      <td>35</td>\n",
       "      <td>234db1d57890a4232a9469624c9e14f6-13</td>\n",
       "      <td>Risk</td>\n",
       "      <td>[0.10650741724728134, 0.8934925827527186]</td>\n",
       "    </tr>\n",
       "    <tr>\n",
       "      <td>36</td>\n",
       "      <td>234db1d57890a4232a9469624c9e14f6-130</td>\n",
       "      <td>Risk</td>\n",
       "      <td>[0.1746441860211453, 0.8253558139788547]</td>\n",
       "    </tr>\n",
       "    <tr>\n",
       "      <td>37</td>\n",
       "      <td>234db1d57890a4232a9469624c9e14f6-131</td>\n",
       "      <td>No Risk</td>\n",
       "      <td>[0.8066955041320133, 0.19330449586798676]</td>\n",
       "    </tr>\n",
       "    <tr>\n",
       "      <td>38</td>\n",
       "      <td>234db1d57890a4232a9469624c9e14f6-132</td>\n",
       "      <td>No Risk</td>\n",
       "      <td>[0.6242915365246707, 0.37570846347532927]</td>\n",
       "    </tr>\n",
       "    <tr>\n",
       "      <td>39</td>\n",
       "      <td>234db1d57890a4232a9469624c9e14f6-133</td>\n",
       "      <td>No Risk</td>\n",
       "      <td>[0.7088992091207595, 0.2911007908792405]</td>\n",
       "    </tr>\n",
       "    <tr>\n",
       "      <td>40</td>\n",
       "      <td>234db1d57890a4232a9469624c9e14f6-134</td>\n",
       "      <td>No Risk</td>\n",
       "      <td>[0.7960255365178102, 0.2039744634821899]</td>\n",
       "    </tr>\n",
       "    <tr>\n",
       "      <td>41</td>\n",
       "      <td>234db1d57890a4232a9469624c9e14f6-135</td>\n",
       "      <td>No Risk</td>\n",
       "      <td>[0.8367823126820602, 0.16321768731793987]</td>\n",
       "    </tr>\n",
       "    <tr>\n",
       "      <td>42</td>\n",
       "      <td>234db1d57890a4232a9469624c9e14f6-136</td>\n",
       "      <td>No Risk</td>\n",
       "      <td>[0.9333674002059826, 0.06663259979401728]</td>\n",
       "    </tr>\n",
       "    <tr>\n",
       "      <td>43</td>\n",
       "      <td>234db1d57890a4232a9469624c9e14f6-137</td>\n",
       "      <td>No Risk</td>\n",
       "      <td>[0.512791885098184, 0.48720811490181604]</td>\n",
       "    </tr>\n",
       "    <tr>\n",
       "      <td>44</td>\n",
       "      <td>234db1d57890a4232a9469624c9e14f6-138</td>\n",
       "      <td>No Risk</td>\n",
       "      <td>[0.6559330938189377, 0.3440669061810623]</td>\n",
       "    </tr>\n",
       "    <tr>\n",
       "      <td>45</td>\n",
       "      <td>234db1d57890a4232a9469624c9e14f6-139</td>\n",
       "      <td>No Risk</td>\n",
       "      <td>[0.9630225406475107, 0.036977459352489236]</td>\n",
       "    </tr>\n",
       "    <tr>\n",
       "      <td>46</td>\n",
       "      <td>234db1d57890a4232a9469624c9e14f6-14</td>\n",
       "      <td>No Risk</td>\n",
       "      <td>[0.7148401002747096, 0.2851598997252905]</td>\n",
       "    </tr>\n",
       "    <tr>\n",
       "      <td>47</td>\n",
       "      <td>234db1d57890a4232a9469624c9e14f6-140</td>\n",
       "      <td>No Risk</td>\n",
       "      <td>[0.757345766993039, 0.24265423300696112]</td>\n",
       "    </tr>\n",
       "    <tr>\n",
       "      <td>48</td>\n",
       "      <td>234db1d57890a4232a9469624c9e14f6-141</td>\n",
       "      <td>No Risk</td>\n",
       "      <td>[0.9475494358017794, 0.05245056419822055]</td>\n",
       "    </tr>\n",
       "    <tr>\n",
       "      <td>49</td>\n",
       "      <td>234db1d57890a4232a9469624c9e14f6-142</td>\n",
       "      <td>No Risk</td>\n",
       "      <td>[0.7244257468196973, 0.2755742531803027]</td>\n",
       "    </tr>\n",
       "    <tr>\n",
       "      <td>50</td>\n",
       "      <td>234db1d57890a4232a9469624c9e14f6-143</td>\n",
       "      <td>No Risk</td>\n",
       "      <td>[0.9601731706203107, 0.039826829379689246]</td>\n",
       "    </tr>\n",
       "    <tr>\n",
       "      <td>51</td>\n",
       "      <td>234db1d57890a4232a9469624c9e14f6-144</td>\n",
       "      <td>No Risk</td>\n",
       "      <td>[0.9438908435582916, 0.05610915644170851]</td>\n",
       "    </tr>\n",
       "    <tr>\n",
       "      <td>52</td>\n",
       "      <td>234db1d57890a4232a9469624c9e14f6-145</td>\n",
       "      <td>Risk</td>\n",
       "      <td>[0.11405660249812315, 0.8859433975018769]</td>\n",
       "    </tr>\n",
       "    <tr>\n",
       "      <td>53</td>\n",
       "      <td>234db1d57890a4232a9469624c9e14f6-146</td>\n",
       "      <td>Risk</td>\n",
       "      <td>[0.17259610912049714, 0.8274038908795027]</td>\n",
       "    </tr>\n",
       "    <tr>\n",
       "      <td>54</td>\n",
       "      <td>234db1d57890a4232a9469624c9e14f6-147</td>\n",
       "      <td>No Risk</td>\n",
       "      <td>[0.9575559247745755, 0.04244407522542454]</td>\n",
       "    </tr>\n",
       "    <tr>\n",
       "      <td>55</td>\n",
       "      <td>234db1d57890a4232a9469624c9e14f6-148</td>\n",
       "      <td>No Risk</td>\n",
       "      <td>[0.8726903413364291, 0.12730965866357102]</td>\n",
       "    </tr>\n",
       "    <tr>\n",
       "      <td>56</td>\n",
       "      <td>234db1d57890a4232a9469624c9e14f6-149</td>\n",
       "      <td>No Risk</td>\n",
       "      <td>[0.822522373170164, 0.1774776268298361]</td>\n",
       "    </tr>\n",
       "    <tr>\n",
       "      <td>57</td>\n",
       "      <td>234db1d57890a4232a9469624c9e14f6-15</td>\n",
       "      <td>No Risk</td>\n",
       "      <td>[0.6931537377008574, 0.3068462622991425]</td>\n",
       "    </tr>\n",
       "    <tr>\n",
       "      <td>58</td>\n",
       "      <td>234db1d57890a4232a9469624c9e14f6-150</td>\n",
       "      <td>No Risk</td>\n",
       "      <td>[0.5590709095433268, 0.4409290904566731]</td>\n",
       "    </tr>\n",
       "    <tr>\n",
       "      <td>59</td>\n",
       "      <td>234db1d57890a4232a9469624c9e14f6-151</td>\n",
       "      <td>Risk</td>\n",
       "      <td>[0.16060302511924324, 0.8393969748807567]</td>\n",
       "    </tr>\n",
       "  </tbody>\n",
       "</table>\n",
       "</div>"
      ],
      "text/plain": [
       "                               scoring_id predictedLabel  \\\n",
       "0      234db1d57890a4232a9469624c9e14f6-1        No Risk   \n",
       "1     234db1d57890a4232a9469624c9e14f6-10        No Risk   \n",
       "2    234db1d57890a4232a9469624c9e14f6-100        No Risk   \n",
       "3   234db1d57890a4232a9469624c9e14f6-1000           Risk   \n",
       "4    234db1d57890a4232a9469624c9e14f6-101        No Risk   \n",
       "5    234db1d57890a4232a9469624c9e14f6-102        No Risk   \n",
       "6    234db1d57890a4232a9469624c9e14f6-103           Risk   \n",
       "7    234db1d57890a4232a9469624c9e14f6-104        No Risk   \n",
       "8    234db1d57890a4232a9469624c9e14f6-105        No Risk   \n",
       "9    234db1d57890a4232a9469624c9e14f6-106        No Risk   \n",
       "10   234db1d57890a4232a9469624c9e14f6-107           Risk   \n",
       "11   234db1d57890a4232a9469624c9e14f6-108           Risk   \n",
       "12   234db1d57890a4232a9469624c9e14f6-109        No Risk   \n",
       "13    234db1d57890a4232a9469624c9e14f6-11        No Risk   \n",
       "14   234db1d57890a4232a9469624c9e14f6-110        No Risk   \n",
       "15   234db1d57890a4232a9469624c9e14f6-111        No Risk   \n",
       "16   234db1d57890a4232a9469624c9e14f6-112        No Risk   \n",
       "17   234db1d57890a4232a9469624c9e14f6-113        No Risk   \n",
       "18   234db1d57890a4232a9469624c9e14f6-114        No Risk   \n",
       "19   234db1d57890a4232a9469624c9e14f6-115           Risk   \n",
       "20   234db1d57890a4232a9469624c9e14f6-116        No Risk   \n",
       "21   234db1d57890a4232a9469624c9e14f6-117           Risk   \n",
       "22   234db1d57890a4232a9469624c9e14f6-118        No Risk   \n",
       "23   234db1d57890a4232a9469624c9e14f6-119           Risk   \n",
       "24    234db1d57890a4232a9469624c9e14f6-12        No Risk   \n",
       "25   234db1d57890a4232a9469624c9e14f6-120        No Risk   \n",
       "26   234db1d57890a4232a9469624c9e14f6-121        No Risk   \n",
       "27   234db1d57890a4232a9469624c9e14f6-122        No Risk   \n",
       "28   234db1d57890a4232a9469624c9e14f6-123        No Risk   \n",
       "29   234db1d57890a4232a9469624c9e14f6-124        No Risk   \n",
       "30   234db1d57890a4232a9469624c9e14f6-125        No Risk   \n",
       "31   234db1d57890a4232a9469624c9e14f6-126           Risk   \n",
       "32   234db1d57890a4232a9469624c9e14f6-127        No Risk   \n",
       "33   234db1d57890a4232a9469624c9e14f6-128        No Risk   \n",
       "34   234db1d57890a4232a9469624c9e14f6-129           Risk   \n",
       "35    234db1d57890a4232a9469624c9e14f6-13           Risk   \n",
       "36   234db1d57890a4232a9469624c9e14f6-130           Risk   \n",
       "37   234db1d57890a4232a9469624c9e14f6-131        No Risk   \n",
       "38   234db1d57890a4232a9469624c9e14f6-132        No Risk   \n",
       "39   234db1d57890a4232a9469624c9e14f6-133        No Risk   \n",
       "40   234db1d57890a4232a9469624c9e14f6-134        No Risk   \n",
       "41   234db1d57890a4232a9469624c9e14f6-135        No Risk   \n",
       "42   234db1d57890a4232a9469624c9e14f6-136        No Risk   \n",
       "43   234db1d57890a4232a9469624c9e14f6-137        No Risk   \n",
       "44   234db1d57890a4232a9469624c9e14f6-138        No Risk   \n",
       "45   234db1d57890a4232a9469624c9e14f6-139        No Risk   \n",
       "46    234db1d57890a4232a9469624c9e14f6-14        No Risk   \n",
       "47   234db1d57890a4232a9469624c9e14f6-140        No Risk   \n",
       "48   234db1d57890a4232a9469624c9e14f6-141        No Risk   \n",
       "49   234db1d57890a4232a9469624c9e14f6-142        No Risk   \n",
       "50   234db1d57890a4232a9469624c9e14f6-143        No Risk   \n",
       "51   234db1d57890a4232a9469624c9e14f6-144        No Risk   \n",
       "52   234db1d57890a4232a9469624c9e14f6-145           Risk   \n",
       "53   234db1d57890a4232a9469624c9e14f6-146           Risk   \n",
       "54   234db1d57890a4232a9469624c9e14f6-147        No Risk   \n",
       "55   234db1d57890a4232a9469624c9e14f6-148        No Risk   \n",
       "56   234db1d57890a4232a9469624c9e14f6-149        No Risk   \n",
       "57    234db1d57890a4232a9469624c9e14f6-15        No Risk   \n",
       "58   234db1d57890a4232a9469624c9e14f6-150        No Risk   \n",
       "59   234db1d57890a4232a9469624c9e14f6-151           Risk   \n",
       "\n",
       "                                   probability  \n",
       "0    [0.7848022143906432, 0.21519778560935682]  \n",
       "1    [0.6331014643136736, 0.36689853568632635]  \n",
       "2    [0.9635847950972265, 0.03641520490277356]  \n",
       "3    [0.10741479265018362, 0.8925852073498164]  \n",
       "4     [0.7163252533082689, 0.2836747466917312]  \n",
       "5     [0.729811504347836, 0.27018849565216385]  \n",
       "6    [0.26560086129226435, 0.7343991387077357]  \n",
       "7      [0.744139027792128, 0.2558609722078721]  \n",
       "8    [0.8995929064682591, 0.10040709353174089]  \n",
       "9    [0.9065948646550316, 0.09340513534496837]  \n",
       "10    [0.2467646625512784, 0.7532353374487215]  \n",
       "11   [0.18966101256612822, 0.8103389874338718]  \n",
       "12   [0.9089652843898332, 0.09103471561016677]  \n",
       "13   [0.9282181583923228, 0.07178184160767721]  \n",
       "14   [0.5285462761910187, 0.47145372380898126]  \n",
       "15   [0.9120785486606461, 0.08792145133935395]  \n",
       "16  [0.9709439502752508, 0.029056049724749216]  \n",
       "17    [0.7583731651316045, 0.2416268348683956]  \n",
       "18   [0.5373659100504897, 0.46263408994951033]  \n",
       "19   [0.21382017166177256, 0.7861798283382274]  \n",
       "20   [0.5199880143321678, 0.48001198566783215]  \n",
       "21   [0.19667320948583672, 0.8033267905141633]  \n",
       "22    [0.6843138931867269, 0.3156861068132731]  \n",
       "23  [0.051051061642339524, 0.9489489383576604]  \n",
       "24   [0.9337007388962354, 0.06629926110376454]  \n",
       "25   [0.977865854490984, 0.022134145509016045]  \n",
       "26   [0.5375389913391231, 0.46246100866087686]  \n",
       "27    [0.6752269139331994, 0.3247730860668005]  \n",
       "28   [0.9744542300140683, 0.02554576998593174]  \n",
       "29  [0.9784652696956624, 0.021534730304337675]  \n",
       "30   [0.7341087925071981, 0.26589120749280193]  \n",
       "31    [0.3021868287563346, 0.6978131712436653]  \n",
       "32   [0.6672405053648046, 0.33275949463519544]  \n",
       "33   [0.974315702343873, 0.025684297656126988]  \n",
       "34   [0.38799517873342715, 0.6120048212665729]  \n",
       "35   [0.10650741724728134, 0.8934925827527186]  \n",
       "36    [0.1746441860211453, 0.8253558139788547]  \n",
       "37   [0.8066955041320133, 0.19330449586798676]  \n",
       "38   [0.6242915365246707, 0.37570846347532927]  \n",
       "39    [0.7088992091207595, 0.2911007908792405]  \n",
       "40    [0.7960255365178102, 0.2039744634821899]  \n",
       "41   [0.8367823126820602, 0.16321768731793987]  \n",
       "42   [0.9333674002059826, 0.06663259979401728]  \n",
       "43    [0.512791885098184, 0.48720811490181604]  \n",
       "44    [0.6559330938189377, 0.3440669061810623]  \n",
       "45  [0.9630225406475107, 0.036977459352489236]  \n",
       "46    [0.7148401002747096, 0.2851598997252905]  \n",
       "47    [0.757345766993039, 0.24265423300696112]  \n",
       "48   [0.9475494358017794, 0.05245056419822055]  \n",
       "49    [0.7244257468196973, 0.2755742531803027]  \n",
       "50  [0.9601731706203107, 0.039826829379689246]  \n",
       "51   [0.9438908435582916, 0.05610915644170851]  \n",
       "52   [0.11405660249812315, 0.8859433975018769]  \n",
       "53   [0.17259610912049714, 0.8274038908795027]  \n",
       "54   [0.9575559247745755, 0.04244407522542454]  \n",
       "55   [0.8726903413364291, 0.12730965866357102]  \n",
       "56     [0.822522373170164, 0.1774776268298361]  \n",
       "57    [0.6931537377008574, 0.3068462622991425]  \n",
       "58    [0.5590709095433268, 0.4409290904566731]  \n",
       "59   [0.16060302511924324, 0.8393969748807567]  "
      ]
     },
     "execution_count": 65,
     "metadata": {},
     "output_type": "execute_result"
    }
   ],
   "source": [
    "payload_data = subscription.payload_logging.get_table_content(limit=60)\n",
    "payload_data.filter(items=['scoring_id', 'predictedLabel', 'probability'])"
   ]
  },
  {
   "cell_type": "markdown",
   "metadata": {},
   "source": [
    "## Congratulations!\n",
    "\n",
    "You have finished the hands-on lab for IBM Watson OpenScale. You can now view the [OpenScale Dashboard](https://aiopenscale.cloud.ibm.com/). Click on the tile for the German Credit model to see fairness, accuracy, and performance monitors. Click on the timeseries graph to get detailed information on transactions during a specific time window.\n",
    "\n",
    "## Next steps\n",
    "\n",
    "OpenScale shows model performance over time. You have two options to keep data flowing to your OpenScale graphs:\n",
    "  * Download, configure and schedule the [model feed notebook](https://raw.githubusercontent.com/emartensibm/german-credit/master/german_credit_scoring_feed.ipynb). This notebook can be set up with your WML credentials, and scheduled to provide a consistent flow of scoring requests to your model, which will appear in your OpenScale monitors.\n",
    "  * Re-run this notebook. Running this notebook from the beginning will delete and re-create the model and deployment, and re-create the historical data. Please note that the payload and measurement logs for the previous deployment will continue to be stored in your datamart, and cal be deleted if necessary."
   ]
  }
 ],
 "metadata": {
  "kernelspec": {
   "display_name": "Python 3.6 with Spark",
   "language": "python3",
   "name": "python36"
  },
  "language_info": {
   "codemirror_mode": {
    "name": "ipython",
    "version": 3
   },
   "file_extension": ".py",
   "mimetype": "text/x-python",
   "name": "python",
   "nbconvert_exporter": "python",
   "pygments_lexer": "ipython3",
   "version": "3.6.8"
  }
 },
 "nbformat": 4,
 "nbformat_minor": 1
}
